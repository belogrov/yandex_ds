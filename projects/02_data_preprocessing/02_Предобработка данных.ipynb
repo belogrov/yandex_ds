{
 "cells": [
  {
   "cell_type": "markdown",
   "metadata": {},
   "source": [
    "# Исследование надёжности заёмщиков\n",
    "\n",
    "Заказчик — кредитный отдел банка. Нужно разобраться, влияет ли семейное положение и количество детей клиента на факт погашения кредита в срок. Входные данные от банка — статистика о платёжеспособности клиентов.\n",
    "\n",
    "Результаты исследования будут учтены при построении модели **кредитного скоринга** — специальной системы, которая оценивает способность потенциального заёмщика вернуть кредит банку."
   ]
  },
  {
   "cell_type": "markdown",
   "metadata": {},
   "source": [
    "## Шаг 1. Откройте файл с данными и изучите общую информацию"
   ]
  },
  {
   "cell_type": "code",
   "execution_count": 1,
   "metadata": {},
   "outputs": [],
   "source": [
    "# Импорт необходимых библиотек\n",
    "import pandas as pd # Данные\n",
    "\n",
    "from pymystem3 import Mystem # Лемматизация\n",
    "m = Mystem()\n",
    "\n",
    "from collections import Counter # Счетчик"
   ]
  },
  {
   "cell_type": "code",
   "execution_count": 2,
   "metadata": {},
   "outputs": [
    {
     "name": "stdout",
     "output_type": "stream",
     "text": [
      "<class 'pandas.core.frame.DataFrame'>\n",
      "RangeIndex: 21525 entries, 0 to 21524\n",
      "Data columns (total 12 columns):\n",
      "children            21525 non-null int64\n",
      "days_employed       19351 non-null float64\n",
      "dob_years           21525 non-null int64\n",
      "education           21525 non-null object\n",
      "education_id        21525 non-null int64\n",
      "family_status       21525 non-null object\n",
      "family_status_id    21525 non-null int64\n",
      "gender              21525 non-null object\n",
      "income_type         21525 non-null object\n",
      "debt                21525 non-null int64\n",
      "total_income        19351 non-null float64\n",
      "purpose             21525 non-null object\n",
      "dtypes: float64(2), int64(5), object(5)\n",
      "memory usage: 2.0+ MB\n"
     ]
    },
    {
     "data": {
      "text/html": [
       "<div>\n",
       "<style scoped>\n",
       "    .dataframe tbody tr th:only-of-type {\n",
       "        vertical-align: middle;\n",
       "    }\n",
       "\n",
       "    .dataframe tbody tr th {\n",
       "        vertical-align: top;\n",
       "    }\n",
       "\n",
       "    .dataframe thead th {\n",
       "        text-align: right;\n",
       "    }\n",
       "</style>\n",
       "<table border=\"1\" class=\"dataframe\">\n",
       "  <thead>\n",
       "    <tr style=\"text-align: right;\">\n",
       "      <th></th>\n",
       "      <th>children</th>\n",
       "      <th>days_employed</th>\n",
       "      <th>dob_years</th>\n",
       "      <th>education</th>\n",
       "      <th>education_id</th>\n",
       "      <th>family_status</th>\n",
       "      <th>family_status_id</th>\n",
       "      <th>gender</th>\n",
       "      <th>income_type</th>\n",
       "      <th>debt</th>\n",
       "      <th>total_income</th>\n",
       "      <th>purpose</th>\n",
       "    </tr>\n",
       "  </thead>\n",
       "  <tbody>\n",
       "    <tr>\n",
       "      <td>0</td>\n",
       "      <td>1</td>\n",
       "      <td>-8437.673028</td>\n",
       "      <td>42</td>\n",
       "      <td>высшее</td>\n",
       "      <td>0</td>\n",
       "      <td>женат / замужем</td>\n",
       "      <td>0</td>\n",
       "      <td>F</td>\n",
       "      <td>сотрудник</td>\n",
       "      <td>0</td>\n",
       "      <td>253875.639453</td>\n",
       "      <td>покупка жилья</td>\n",
       "    </tr>\n",
       "    <tr>\n",
       "      <td>1</td>\n",
       "      <td>1</td>\n",
       "      <td>-4024.803754</td>\n",
       "      <td>36</td>\n",
       "      <td>среднее</td>\n",
       "      <td>1</td>\n",
       "      <td>женат / замужем</td>\n",
       "      <td>0</td>\n",
       "      <td>F</td>\n",
       "      <td>сотрудник</td>\n",
       "      <td>0</td>\n",
       "      <td>112080.014102</td>\n",
       "      <td>приобретение автомобиля</td>\n",
       "    </tr>\n",
       "    <tr>\n",
       "      <td>2</td>\n",
       "      <td>0</td>\n",
       "      <td>-5623.422610</td>\n",
       "      <td>33</td>\n",
       "      <td>Среднее</td>\n",
       "      <td>1</td>\n",
       "      <td>женат / замужем</td>\n",
       "      <td>0</td>\n",
       "      <td>M</td>\n",
       "      <td>сотрудник</td>\n",
       "      <td>0</td>\n",
       "      <td>145885.952297</td>\n",
       "      <td>покупка жилья</td>\n",
       "    </tr>\n",
       "    <tr>\n",
       "      <td>3</td>\n",
       "      <td>3</td>\n",
       "      <td>-4124.747207</td>\n",
       "      <td>32</td>\n",
       "      <td>среднее</td>\n",
       "      <td>1</td>\n",
       "      <td>женат / замужем</td>\n",
       "      <td>0</td>\n",
       "      <td>M</td>\n",
       "      <td>сотрудник</td>\n",
       "      <td>0</td>\n",
       "      <td>267628.550329</td>\n",
       "      <td>дополнительное образование</td>\n",
       "    </tr>\n",
       "    <tr>\n",
       "      <td>4</td>\n",
       "      <td>0</td>\n",
       "      <td>340266.072047</td>\n",
       "      <td>53</td>\n",
       "      <td>среднее</td>\n",
       "      <td>1</td>\n",
       "      <td>гражданский брак</td>\n",
       "      <td>1</td>\n",
       "      <td>F</td>\n",
       "      <td>пенсионер</td>\n",
       "      <td>0</td>\n",
       "      <td>158616.077870</td>\n",
       "      <td>сыграть свадьбу</td>\n",
       "    </tr>\n",
       "    <tr>\n",
       "      <td>5</td>\n",
       "      <td>0</td>\n",
       "      <td>-926.185831</td>\n",
       "      <td>27</td>\n",
       "      <td>высшее</td>\n",
       "      <td>0</td>\n",
       "      <td>гражданский брак</td>\n",
       "      <td>1</td>\n",
       "      <td>M</td>\n",
       "      <td>компаньон</td>\n",
       "      <td>0</td>\n",
       "      <td>255763.565419</td>\n",
       "      <td>покупка жилья</td>\n",
       "    </tr>\n",
       "    <tr>\n",
       "      <td>6</td>\n",
       "      <td>0</td>\n",
       "      <td>-2879.202052</td>\n",
       "      <td>43</td>\n",
       "      <td>высшее</td>\n",
       "      <td>0</td>\n",
       "      <td>женат / замужем</td>\n",
       "      <td>0</td>\n",
       "      <td>F</td>\n",
       "      <td>компаньон</td>\n",
       "      <td>0</td>\n",
       "      <td>240525.971920</td>\n",
       "      <td>операции с жильем</td>\n",
       "    </tr>\n",
       "    <tr>\n",
       "      <td>7</td>\n",
       "      <td>0</td>\n",
       "      <td>-152.779569</td>\n",
       "      <td>50</td>\n",
       "      <td>СРЕДНЕЕ</td>\n",
       "      <td>1</td>\n",
       "      <td>женат / замужем</td>\n",
       "      <td>0</td>\n",
       "      <td>M</td>\n",
       "      <td>сотрудник</td>\n",
       "      <td>0</td>\n",
       "      <td>135823.934197</td>\n",
       "      <td>образование</td>\n",
       "    </tr>\n",
       "    <tr>\n",
       "      <td>8</td>\n",
       "      <td>2</td>\n",
       "      <td>-6929.865299</td>\n",
       "      <td>35</td>\n",
       "      <td>ВЫСШЕЕ</td>\n",
       "      <td>0</td>\n",
       "      <td>гражданский брак</td>\n",
       "      <td>1</td>\n",
       "      <td>F</td>\n",
       "      <td>сотрудник</td>\n",
       "      <td>0</td>\n",
       "      <td>95856.832424</td>\n",
       "      <td>на проведение свадьбы</td>\n",
       "    </tr>\n",
       "    <tr>\n",
       "      <td>9</td>\n",
       "      <td>0</td>\n",
       "      <td>-2188.756445</td>\n",
       "      <td>41</td>\n",
       "      <td>среднее</td>\n",
       "      <td>1</td>\n",
       "      <td>женат / замужем</td>\n",
       "      <td>0</td>\n",
       "      <td>M</td>\n",
       "      <td>сотрудник</td>\n",
       "      <td>0</td>\n",
       "      <td>144425.938277</td>\n",
       "      <td>покупка жилья для семьи</td>\n",
       "    </tr>\n",
       "  </tbody>\n",
       "</table>\n",
       "</div>"
      ],
      "text/plain": [
       "   children  days_employed  dob_years education  education_id  \\\n",
       "0         1   -8437.673028         42    высшее             0   \n",
       "1         1   -4024.803754         36   среднее             1   \n",
       "2         0   -5623.422610         33   Среднее             1   \n",
       "3         3   -4124.747207         32   среднее             1   \n",
       "4         0  340266.072047         53   среднее             1   \n",
       "5         0    -926.185831         27    высшее             0   \n",
       "6         0   -2879.202052         43    высшее             0   \n",
       "7         0    -152.779569         50   СРЕДНЕЕ             1   \n",
       "8         2   -6929.865299         35    ВЫСШЕЕ             0   \n",
       "9         0   -2188.756445         41   среднее             1   \n",
       "\n",
       "      family_status  family_status_id gender income_type  debt   total_income  \\\n",
       "0   женат / замужем                 0      F   сотрудник     0  253875.639453   \n",
       "1   женат / замужем                 0      F   сотрудник     0  112080.014102   \n",
       "2   женат / замужем                 0      M   сотрудник     0  145885.952297   \n",
       "3   женат / замужем                 0      M   сотрудник     0  267628.550329   \n",
       "4  гражданский брак                 1      F   пенсионер     0  158616.077870   \n",
       "5  гражданский брак                 1      M   компаньон     0  255763.565419   \n",
       "6   женат / замужем                 0      F   компаньон     0  240525.971920   \n",
       "7   женат / замужем                 0      M   сотрудник     0  135823.934197   \n",
       "8  гражданский брак                 1      F   сотрудник     0   95856.832424   \n",
       "9   женат / замужем                 0      M   сотрудник     0  144425.938277   \n",
       "\n",
       "                      purpose  \n",
       "0               покупка жилья  \n",
       "1     приобретение автомобиля  \n",
       "2               покупка жилья  \n",
       "3  дополнительное образование  \n",
       "4             сыграть свадьбу  \n",
       "5               покупка жилья  \n",
       "6           операции с жильем  \n",
       "7                 образование  \n",
       "8       на проведение свадьбы  \n",
       "9     покупка жилья для семьи  "
      ]
     },
     "metadata": {},
     "output_type": "display_data"
    }
   ],
   "source": [
    "# Считываю датасет в переменную df\n",
    "df = pd.read_csv('/datasets/data.csv')\n",
    "\n",
    "# Получаю информацию о датафрейме\n",
    "df.info()\n",
    "\n",
    "# Вывожу первые десять строк датафрейма\n",
    "display(df.head(10))"
   ]
  },
  {
   "cell_type": "markdown",
   "metadata": {},
   "source": [
    "**Общая информация о таблице**"
   ]
  },
  {
   "cell_type": "markdown",
   "metadata": {},
   "source": [
    "Итак, в таблице 12 столбцов.\n",
    "\n",
    "Согласно документации к данным:\n",
    "\n",
    "<table border: 1px solid grey>\n",
    "  <tr>\n",
    "    <th scope=\"col\"></th>\n",
    "    <th scope=\"col\">Название столбца </th>\n",
    "    <th scope=\"col\">Расшифровка столбца </th>\n",
    "    <th scope=\"col\">Тип данных </th>\n",
    "  </tr>\n",
    "  <tr>\n",
    "    <td>1</td>\n",
    "    <td><div align=\"left\">children</div></td>\n",
    "    <td><div align=\"left\">количество детей в семье</div></td>\n",
    "    <td><div align=\"left\">Целочисленный (int64)</div></td>\n",
    "  </tr>\n",
    "  <tr>\n",
    "    <td>2</td>\n",
    "    <td><div align=\"left\">days_employed</div></td>\n",
    "    <td><div align=\"left\">общий трудовой стаж в днях</div></td>\n",
    "    <td><div align=\"left\">Вещественный (float64) </div></td>\n",
    "  </tr>\n",
    "    <tr>\n",
    "      <td>3</td>\n",
    "    <td><div align=\"left\">dob_years</div></td>\n",
    "    <td><div align=\"left\">возраст клиента в годах</div></td>\n",
    "    <td><div align=\"left\">Целочисленный (int64)</div></td>\n",
    "  </tr>\n",
    "    <tr>\n",
    "      <td>4</td>\n",
    "    <td><div align=\"left\">education</div></td>\n",
    "    <td><div align=\"left\">уровень образования клиента</div></td>\n",
    "    <td><div align=\"left\">object</div></td>\n",
    "  </tr>\n",
    "  <tr>\n",
    "    <td>5</td>\n",
    "    <td><div align=\"left\">education_id</div></td>\n",
    "    <td><div align=\"left\">идентификатор уровня образования</div></td>\n",
    "    <td><div align=\"left\">Целочисленный (int64)</div></td>\n",
    "  </tr>\n",
    "  <tr>\n",
    "    <td>6</td>\n",
    "    <td><div align=\"left\">family_status</div></td>\n",
    "    <td><div align=\"left\">семейное положение</div></td>\n",
    "    <td><div align=\"left\">object</div></td>\n",
    "  </tr>\n",
    "  <tr>\n",
    "    <td>7</td>\n",
    "    <td><div align=\"left\">family_status_id</div></td>\n",
    "    <td><div align=\"left\">идентификатор семейного положения</div></td>\n",
    "    <td><div align=\"left\">Целочисленный (int64)</div></td>\n",
    "  </tr>\n",
    "  <tr>\n",
    "    <td>8</td>\n",
    "    <td><div align=\"left\">gender</div></td>\n",
    "    <td><div align=\"left\">пол клиента</div></td>\n",
    "    <td><div align=\"left\">object</div></td>\n",
    "  </tr>\n",
    "  <tr>\n",
    "    <td>9</td>\n",
    "    <td><div align=\"left\">income_type</div></td>\n",
    "    <td><div align=\"left\">тип занятости</div></td>\n",
    "    <td><div align=\"left\">object</div></td>\n",
    "  </tr>\n",
    "  <tr>\n",
    "    <td>10</td>\n",
    "    <td><div align=\"left\">debt</div></td>\n",
    "    <td><div align=\"left\">имел ли задолженность по возврату кредитов</div></td>\n",
    "    <td><div align=\"left\">Целочисленный (int64)</div></td>\n",
    "  </tr>\n",
    "  <tr>\n",
    "    <td>11</td>\n",
    "    <td><div align=\"left\">total_income</div></td>\n",
    "    <td><div align=\"left\">ежемесячный доход</div></td>\n",
    "    <td><div align=\"left\">Вещественный (float64)</div></td>\n",
    "  </tr>\n",
    "  <tr>\n",
    "    <td>12</td>\n",
    "    <td><div align=\"left\">purpose</div></td>\n",
    "    <td><div align=\"left\">цель получения кредита</div></td>\n",
    "    <td><div align=\"left\">object</div></td>\n",
    "  </tr>\n",
    "</table>\n",
    "</n>\n",
    "\n",
    "В названиях колонок отсутсвуют нарушения стиля."
   ]
  },
  {
   "cell_type": "markdown",
   "metadata": {},
   "source": [
    "**Вывод**"
   ]
  },
  {
   "cell_type": "markdown",
   "metadata": {},
   "source": [
    "В каждой строке таблицы — данные о клиентах банка. Часть колонок описывают социальный статус клиента: семейный статус, количество детей, образование. Также описан их доход, прошлые задолжности и цель кредита.\n",
    "\n",
    "Предварительно можно утверждать, что данных достаточно для проверки гипотез.\n",
    "\n",
    "Чтобы двигаться дальше, нужно произвести предобработку данных."
   ]
  },
  {
   "cell_type": "markdown",
   "metadata": {},
   "source": [
    "## Шаг 2. Предобработка данных"
   ]
  },
  {
   "cell_type": "markdown",
   "metadata": {},
   "source": [
    "Для дальнейшей работы займемся предобработкой данных. Она включает в себя:  \n",
    "1. Анализ данных на наличие пропусков. Действия по их устранению,\n",
    "2. Замены типов данных для более комфортной работы с данными,\n",
    "3. Удалению дубликатов\n",
    "4. Категоризацию данных, в том числе, с использование лемм."
   ]
  },
  {
   "cell_type": "markdown",
   "metadata": {},
   "source": [
    "### Обработка пропусков"
   ]
  },
  {
   "cell_type": "markdown",
   "metadata": {},
   "source": [
    "Узнаем, сколько пропусков имеет наш датафрейм"
   ]
  },
  {
   "cell_type": "code",
   "execution_count": 3,
   "metadata": {},
   "outputs": [
    {
     "name": "stdout",
     "output_type": "stream",
     "text": [
      "children               0\n",
      "days_employed       2174\n",
      "dob_years              0\n",
      "education              0\n",
      "education_id           0\n",
      "family_status          0\n",
      "family_status_id       0\n",
      "gender                 0\n",
      "income_type            0\n",
      "debt                   0\n",
      "total_income        2174\n",
      "purpose                0\n",
      "dtype: int64\n"
     ]
    }
   ],
   "source": [
    "# Вывожу общее кол-во пропусков в каждом столбце\n",
    "print(df.isna().sum())"
   ]
  },
  {
   "cell_type": "markdown",
   "metadata": {},
   "source": [
    "Как мы видим, в столбцах `'days_employed'`(общий трудовой стаж в днях) и `'total_income'`(ежемесячный доход) имеются пропуски, равные по количеству.\n",
    "На этот счет у нас теории:\n",
    "1. Значения в этих столбцах случайно не внесены\n",
    "2. Клиенты банка не работали и не имели доходов\n",
    "\n",
    "Создадим таблицу, со столбцами `'days_employed'`(общий трудовой стаж в днях), `'dob_years`'(возраст клиента в годах), `'total_income`'(ежемесячный доход) и `'debt'`(имел ли задолженность по возврату кредитов)"
   ]
  },
  {
   "cell_type": "code",
   "execution_count": 4,
   "metadata": {},
   "outputs": [
    {
     "data": {
      "text/html": [
       "<div>\n",
       "<style scoped>\n",
       "    .dataframe tbody tr th:only-of-type {\n",
       "        vertical-align: middle;\n",
       "    }\n",
       "\n",
       "    .dataframe tbody tr th {\n",
       "        vertical-align: top;\n",
       "    }\n",
       "\n",
       "    .dataframe thead th {\n",
       "        text-align: right;\n",
       "    }\n",
       "</style>\n",
       "<table border=\"1\" class=\"dataframe\">\n",
       "  <thead>\n",
       "    <tr style=\"text-align: right;\">\n",
       "      <th></th>\n",
       "      <th>dob_years</th>\n",
       "      <th>days_employed</th>\n",
       "      <th>total_income</th>\n",
       "      <th>income_type</th>\n",
       "    </tr>\n",
       "  </thead>\n",
       "  <tbody>\n",
       "    <tr>\n",
       "      <td>18664</td>\n",
       "      <td>73</td>\n",
       "      <td>NaN</td>\n",
       "      <td>NaN</td>\n",
       "      <td>пенсионер</td>\n",
       "    </tr>\n",
       "    <tr>\n",
       "      <td>10563</td>\n",
       "      <td>72</td>\n",
       "      <td>NaN</td>\n",
       "      <td>NaN</td>\n",
       "      <td>пенсионер</td>\n",
       "    </tr>\n",
       "    <tr>\n",
       "      <td>13864</td>\n",
       "      <td>72</td>\n",
       "      <td>NaN</td>\n",
       "      <td>NaN</td>\n",
       "      <td>компаньон</td>\n",
       "    </tr>\n",
       "    <tr>\n",
       "      <td>6537</td>\n",
       "      <td>71</td>\n",
       "      <td>NaN</td>\n",
       "      <td>NaN</td>\n",
       "      <td>пенсионер</td>\n",
       "    </tr>\n",
       "    <tr>\n",
       "      <td>8456</td>\n",
       "      <td>71</td>\n",
       "      <td>NaN</td>\n",
       "      <td>NaN</td>\n",
       "      <td>пенсионер</td>\n",
       "    </tr>\n",
       "    <tr>\n",
       "      <td>...</td>\n",
       "      <td>...</td>\n",
       "      <td>...</td>\n",
       "      <td>...</td>\n",
       "      <td>...</td>\n",
       "    </tr>\n",
       "    <tr>\n",
       "      <td>12403</td>\n",
       "      <td>0</td>\n",
       "      <td>NaN</td>\n",
       "      <td>NaN</td>\n",
       "      <td>сотрудник</td>\n",
       "    </tr>\n",
       "    <tr>\n",
       "      <td>19829</td>\n",
       "      <td>0</td>\n",
       "      <td>NaN</td>\n",
       "      <td>NaN</td>\n",
       "      <td>сотрудник</td>\n",
       "    </tr>\n",
       "    <tr>\n",
       "      <td>6670</td>\n",
       "      <td>0</td>\n",
       "      <td>NaN</td>\n",
       "      <td>NaN</td>\n",
       "      <td>пенсионер</td>\n",
       "    </tr>\n",
       "    <tr>\n",
       "      <td>4064</td>\n",
       "      <td>0</td>\n",
       "      <td>NaN</td>\n",
       "      <td>NaN</td>\n",
       "      <td>компаньон</td>\n",
       "    </tr>\n",
       "    <tr>\n",
       "      <td>2284</td>\n",
       "      <td>0</td>\n",
       "      <td>NaN</td>\n",
       "      <td>NaN</td>\n",
       "      <td>пенсионер</td>\n",
       "    </tr>\n",
       "  </tbody>\n",
       "</table>\n",
       "<p>2174 rows × 4 columns</p>\n",
       "</div>"
      ],
      "text/plain": [
       "       dob_years  days_employed  total_income income_type\n",
       "18664         73            NaN           NaN   пенсионер\n",
       "10563         72            NaN           NaN   пенсионер\n",
       "13864         72            NaN           NaN   компаньон\n",
       "6537          71            NaN           NaN   пенсионер\n",
       "8456          71            NaN           NaN   пенсионер\n",
       "...          ...            ...           ...         ...\n",
       "12403          0            NaN           NaN   сотрудник\n",
       "19829          0            NaN           NaN   сотрудник\n",
       "6670           0            NaN           NaN   пенсионер\n",
       "4064           0            NaN           NaN   компаньон\n",
       "2284           0            NaN           NaN   пенсионер\n",
       "\n",
       "[2174 rows x 4 columns]"
      ]
     },
     "metadata": {},
     "output_type": "display_data"
    }
   ],
   "source": [
    "# Фильтрую датафрейм по пропускам. Вывожу дополнительные столбцы\n",
    "df_filter=df[df['days_employed'].isna() == True][['dob_years', 'days_employed', 'total_income', 'income_type']].sort_values(by=['dob_years'], ascending=False)\n",
    "display(df_filter)"
   ]
  },
  {
   "cell_type": "markdown",
   "metadata": {},
   "source": [
    "Проверим, есть ли в столбце `'days_employed'` датафрейма df, значения, равные 0. "
   ]
  },
  {
   "cell_type": "code",
   "execution_count": 5,
   "metadata": {},
   "outputs": [
    {
     "data": {
      "text/plain": [
       "(0, 12)"
      ]
     },
     "metadata": {},
     "output_type": "display_data"
    }
   ],
   "source": [
    "# Фильтрую датафрейм df по отсутствию рабочего стажа == 0\n",
    "df_filter = df[df['days_employed']==0]\n",
    "display(df_filter.shape)"
   ]
  },
  {
   "cell_type": "markdown",
   "metadata": {},
   "source": [
    "Выведим уникальные значения в столбце `'income_type'`"
   ]
  },
  {
   "cell_type": "code",
   "execution_count": 6,
   "metadata": {},
   "outputs": [
    {
     "name": "stdout",
     "output_type": "stream",
     "text": [
      "сотрудник          11119\n",
      "компаньон           5085\n",
      "пенсионер           3856\n",
      "госслужащий         1459\n",
      "безработный            2\n",
      "предприниматель        2\n",
      "в декрете              1\n",
      "студент                1\n",
      "Name: income_type, dtype: int64\n"
     ]
    }
   ],
   "source": [
    "print(df['income_type'].value_counts())"
   ]
  },
  {
   "cell_type": "markdown",
   "metadata": {},
   "source": [
    "Среди уникальных значений типа занятости всего 2 значения 'безработный'. Выведим информацию по зарплате этой категории занятости"
   ]
  },
  {
   "cell_type": "code",
   "execution_count": 7,
   "metadata": {},
   "outputs": [
    {
     "name": "stdout",
     "output_type": "stream",
     "text": [
      "       income_type   total_income  days_employed\n",
      "3133   безработный   59956.991984  337524.466835\n",
      "14798  безработный  202722.511368  395302.838654\n"
     ]
    }
   ],
   "source": [
    "print(df[df['income_type'] == 'безработный'][['income_type','total_income', 'days_employed']])"
   ]
  },
  {
   "cell_type": "markdown",
   "metadata": {},
   "source": [
    "Исходя из того, что столбец занятости заполнен как для людей с доходом, так и для людей без дохода, делаем выводы:  \n",
    "- пропуски в столбцах о трудовом стаже и доходе случайны,\n",
    "- доходы в категории 'безработные' случайны.  \n",
    "\n",
    "На основании данных выводов:\n",
    "- пропуски по доходу заменить на медианный по категориям,\n",
    "- дохдодам безработных присвоить 0.  \n",
    "\n",
    "Значения в столбце `'dob_years'`(возраст клиента в годах) равные 0 не важны, т.к. возраст не входит в исследования. Но, на всякий случай, заменим эти значения медианным возрастом всех клиентов."
   ]
  },
  {
   "cell_type": "markdown",
   "metadata": {},
   "source": [
    "Создадим словарь с уникальными значениями типа занятости и их медианным доходом"
   ]
  },
  {
   "cell_type": "code",
   "execution_count": 8,
   "metadata": {},
   "outputs": [
    {
     "name": "stdout",
     "output_type": "stream",
     "text": [
      "сотрудник  - 142594.39684740017\n",
      "компаньон  - 172357.95096577113\n",
      "пенсионер  - 118514.48641164352\n",
      "госслужащий  - 150447.9352830068\n",
      "безработный  - 131339.7516762103\n",
      "предприниматель  - 499163.1449470857\n",
      "в декрете  - 53829.13072905995\n",
      "студент  - 98201.62531401133\n"
     ]
    }
   ],
   "source": [
    "# Словарь, в к-ром мы будем хранить значения 'тип занятости':'медианный доход'\n",
    "income_type_median = dict()\n",
    "\n",
    "# перебираем все значения столбцов датафрейма\n",
    "for i in df['income_type'].value_counts().index:\n",
    "    income_type_median[i] = (df[df['income_type'] == i]\n",
    "                             ['total_income'].median())\n",
    "\n",
    "# проверяем его заполненность\n",
    "for i in income_type_median.keys():\n",
    "    print(i,' -', income_type_median[i])"
   ]
  },
  {
   "cell_type": "markdown",
   "metadata": {},
   "source": [
    "Заменим все пропуски столбца дохода на медианный доход по категориям"
   ]
  },
  {
   "cell_type": "code",
   "execution_count": 9,
   "metadata": {},
   "outputs": [
    {
     "name": "stdout",
     "output_type": "stream",
     "text": [
      "children               0\n",
      "days_employed       2174\n",
      "dob_years              0\n",
      "education              0\n",
      "education_id           0\n",
      "family_status          0\n",
      "family_status_id       0\n",
      "gender                 0\n",
      "income_type            0\n",
      "debt                   0\n",
      "total_income           0\n",
      "purpose                0\n",
      "dtype: int64\n",
      "сотрудник  - 142594.39684740017\n",
      "компаньон  - 172357.95096577113\n",
      "пенсионер  - 118514.48641164352\n",
      "госслужащий  - 150447.9352830068\n",
      "безработный  - 131339.7516762103\n",
      "предприниматель  - 499163.1449470857\n",
      "в декрете  - 53829.13072905995\n",
      "студент  - 98201.62531401133\n",
      "===================\n",
      "income_type  total_income \n",
      "безработный  59956.991984       1\n",
      "             202722.511368      1\n",
      "в декрете    53829.130729       1\n",
      "госслужащий  150447.935283    147\n",
      "             29200.077193       1\n",
      "             31483.257153       1\n",
      "             34355.210785       1\n",
      "             39154.156961       1\n",
      "             39314.854259       1\n",
      "             40264.635728       1\n",
      "Name: total_income, dtype: int64\n"
     ]
    }
   ],
   "source": [
    "# перебираем все типы занятости в словаре\n",
    "for i in income_type_median.keys():\n",
    "    \n",
    "# выделяем строки в которых фильтруются значения по пропускам в доходе и типу занятости\n",
    "    df.loc[(df['total_income'].isna() == True) & (\n",
    "        df['income_type'] == i), 'total_income'] = income_type_median[i]\n",
    "\n",
    "# Проверка работы\n",
    "\n",
    "# Проверка на отсутствие пропусков\n",
    "print(df.isna().sum())\n",
    "\n",
    "# Проверка на замену дохода на медиану по категориям\n",
    "for i in income_type_median.keys():\n",
    "    print(i,' -', income_type_median[i])\n",
    "print('===================')\n",
    "\n",
    "\n",
    "print(df.groupby('income_type')['total_income'].value_counts().head(10))"
   ]
  },
  {
   "cell_type": "markdown",
   "metadata": {},
   "source": [
    "Мы убедились, что замена доходов по типу занятости прошли успешно."
   ]
  },
  {
   "cell_type": "markdown",
   "metadata": {},
   "source": [
    "Заменим пропущенные значения в столбце 'возраст' на медианные значения.  \n",
    "т.к. значения трудового стажа не важны для исследования, то заменим пропуски на 0"
   ]
  },
  {
   "cell_type": "code",
   "execution_count": 10,
   "metadata": {},
   "outputs": [
    {
     "name": "stdout",
     "output_type": "stream",
     "text": [
      "Общее количество пропусков: 0\n",
      "Средний возраст: 42\n",
      "Общее количество 0 в столбце 'возраст:' 0\n"
     ]
    }
   ],
   "source": [
    "# Заменяем пропущенные значения на 0. Эти значения осталист лишь в столбцах 'возраст'\n",
    "# И трудовой стаж. Трудовой стаж, для нашего исследования не важен.\n",
    "df = df.fillna(0)\n",
    "\n",
    "# Перепроверяю на наличие пропусков. .sum().sum() посчитает общее количество пропусков\n",
    "print('Общее количество пропусков:', df.isna().sum().sum())\n",
    "\n",
    "# Заменяю на медианный возраст.\n",
    "age_median = int(df['dob_years'].median())\n",
    "print('Средний возраст:', age_median)\n",
    "\n",
    "# Заменяю на средний возраст\n",
    "df['dob_years'] = df['dob_years'].replace(0, age_median)\n",
    "\n",
    "# Проверяю на отсутствие 0\n",
    "print(\"Общее количество 0 в столбце 'возраст:'\", df[df['dob_years'] == 0]['dob_years'].count())"
   ]
  },
  {
   "cell_type": "markdown",
   "metadata": {},
   "source": [
    "**Вывод**"
   ]
  },
  {
   "cell_type": "markdown",
   "metadata": {},
   "source": [
    "Замена пропусков в датафрейме произведена.  \n",
    "Анализ пропусков показал, что пропуски в датафрейме носили случайный характер. Для решения этой проблемы мы прибегли к присвоению клиентам медианного дохода по категориям.  \n",
    "Данные готовы к дальнейшим действиям."
   ]
  },
  {
   "cell_type": "markdown",
   "metadata": {},
   "source": [
    "### Замена типа данных"
   ]
  },
  {
   "cell_type": "markdown",
   "metadata": {},
   "source": [
    "В нашем датасете, имеются столбцы `'days_employed'`(общий трудовой стаж в днях) и `'total_income'`(ежемесячный доход ) - тип вещественный.  \n",
    "т.к. количество дней не может быть дробным(может, но в нашем случае это ни к чему) и значения дробной части дохода нам тоже не важны, то для удобной работы приведем данные к целочисленному типу."
   ]
  },
  {
   "cell_type": "code",
   "execution_count": 11,
   "metadata": {},
   "outputs": [],
   "source": [
    "# Изменяю тип данных в столбцах c помощью метода astype\n",
    "df[['days_employed', 'total_income']] = df[['days_employed', 'total_income']].astype('int')"
   ]
  },
  {
   "cell_type": "markdown",
   "metadata": {},
   "source": [
    "В нашем датафрейме имеются отрицательные значения данных. Скорее всего это случайная ошибка, произошедшая при наборе данных. Заменим все отрицательные значения в датасете на положительные"
   ]
  },
  {
   "cell_type": "code",
   "execution_count": 12,
   "metadata": {},
   "outputs": [
    {
     "name": "stdout",
     "output_type": "stream",
     "text": [
      "<class 'pandas.core.frame.DataFrame'>\n",
      "RangeIndex: 21525 entries, 0 to 21524\n",
      "Data columns (total 12 columns):\n",
      "children            21525 non-null int64\n",
      "days_employed       21525 non-null int64\n",
      "dob_years           21525 non-null int64\n",
      "education           21525 non-null object\n",
      "education_id        21525 non-null int64\n",
      "family_status       21525 non-null object\n",
      "family_status_id    21525 non-null int64\n",
      "gender              21525 non-null object\n",
      "income_type         21525 non-null object\n",
      "debt                21525 non-null int64\n",
      "total_income        21525 non-null int64\n",
      "purpose             21525 non-null object\n",
      "dtypes: int64(7), object(5)\n",
      "memory usage: 2.0+ MB\n"
     ]
    }
   ],
   "source": [
    "# Перебираем названия столбцов в цикле. Заменяем отрицательные значения на положительные abs(модуль)\n",
    "# Используется конструкция try-except для предотвращения возникновения ошибки в случае, если\n",
    "# цикл примет значения столбца со строковым типом данных\n",
    "for i in df.columns:\n",
    "    try:\n",
    "        df[i] = abs(df[i])\n",
    "    except:\n",
    "        pass\n",
    "\n",
    "# Проверяю изменения\n",
    "df.info()"
   ]
  },
  {
   "cell_type": "markdown",
   "metadata": {},
   "source": [
    "**Вывод**"
   ]
  },
  {
   "cell_type": "markdown",
   "metadata": {},
   "source": [
    "На данном этапе были изменены типы данных. Сделано это для лучшей обработки и интерпритации данных."
   ]
  },
  {
   "cell_type": "markdown",
   "metadata": {},
   "source": [
    "### Обработка дубликатов"
   ]
  },
  {
   "cell_type": "markdown",
   "metadata": {},
   "source": [
    "Перед поиском дубликатов, приведем строковые данные к нижнему регистру."
   ]
  },
  {
   "cell_type": "code",
   "execution_count": 13,
   "metadata": {},
   "outputs": [],
   "source": [
    "# Перебираем названия столбцов в цикле\n",
    "# Используется конструкция try-except для предотвращения возникновения ошибки в случае, если\n",
    "# цикл примет значения столбца со числовым типом данных\n",
    "for i in df.columns:\n",
    "    try:\n",
    "        df[i] = df[i].str.lower()\n",
    "    except:\n",
    "        pass"
   ]
  },
  {
   "cell_type": "markdown",
   "metadata": {},
   "source": [
    "Необходимо проверить результат работы. Для этого выведем информацию о датафрейме и уникальные значения одного из столбцов"
   ]
  },
  {
   "cell_type": "code",
   "execution_count": 14,
   "metadata": {},
   "outputs": [
    {
     "name": "stdout",
     "output_type": "stream",
     "text": [
      "<class 'pandas.core.frame.DataFrame'>\n",
      "RangeIndex: 21525 entries, 0 to 21524\n",
      "Data columns (total 12 columns):\n",
      "children            21525 non-null int64\n",
      "days_employed       21525 non-null int64\n",
      "dob_years           21525 non-null int64\n",
      "education           21525 non-null object\n",
      "education_id        21525 non-null int64\n",
      "family_status       21525 non-null object\n",
      "family_status_id    21525 non-null int64\n",
      "gender              21525 non-null object\n",
      "income_type         21525 non-null object\n",
      "debt                21525 non-null int64\n",
      "total_income        21525 non-null int64\n",
      "purpose             21525 non-null object\n",
      "dtypes: int64(7), object(5)\n",
      "memory usage: 2.0+ MB\n",
      "===============\n",
      "среднее                15233\n",
      "высшее                  5260\n",
      "неоконченное высшее      744\n",
      "начальное                282\n",
      "ученая степень             6\n",
      "Name: education, dtype: int64\n"
     ]
    }
   ],
   "source": [
    "df.info()\n",
    "print('===============')\n",
    "print(df['education'].value_counts())"
   ]
  },
  {
   "cell_type": "markdown",
   "metadata": {},
   "source": [
    "Проверим количество дубликатов и удалим их"
   ]
  },
  {
   "cell_type": "code",
   "execution_count": 15,
   "metadata": {},
   "outputs": [
    {
     "name": "stdout",
     "output_type": "stream",
     "text": [
      "количество дубликатов: 72\n"
     ]
    }
   ],
   "source": [
    "# Промеряем количество дубликатов\n",
    "print('количество дубликатов:', df.duplicated().sum())"
   ]
  },
  {
   "cell_type": "markdown",
   "metadata": {},
   "source": [
    "Удаляем все дубликаты"
   ]
  },
  {
   "cell_type": "code",
   "execution_count": 16,
   "metadata": {},
   "outputs": [
    {
     "name": "stdout",
     "output_type": "stream",
     "text": [
      "количество дубликатов: 0\n"
     ]
    }
   ],
   "source": [
    "# Удаляем дубликаты\n",
    "df = df.drop_duplicates().reset_index(drop=True)\n",
    "\n",
    "# Проверяем\n",
    "print('количество дубликатов:', df.duplicated().sum())"
   ]
  },
  {
   "cell_type": "markdown",
   "metadata": {},
   "source": [
    "**Вывод**"
   ]
  },
  {
   "cell_type": "markdown",
   "metadata": {},
   "source": [
    "Все данные переведены к нижнему регистру, все отрицательные значения приведены к положительным.  \n",
    "Дубликаты удалены. Появление дубликатов, в большей степени, вызваны пропусками в заполнении даннных о клиентах банка."
   ]
  },
  {
   "cell_type": "markdown",
   "metadata": {},
   "source": [
    "### Лемматизация"
   ]
  },
  {
   "cell_type": "markdown",
   "metadata": {},
   "source": [
    "Очевидным столбцом, который необъодимо лемматизировать для дальнейшей категоризации, является столбец `'purpose'`(цель получения кредита). Для начала посмотрим уникальные значения этого столбца"
   ]
  },
  {
   "cell_type": "code",
   "execution_count": 17,
   "metadata": {},
   "outputs": [
    {
     "name": "stdout",
     "output_type": "stream",
     "text": [
      "свадьба                                   791\n",
      "на проведение свадьбы                     767\n",
      "сыграть свадьбу                           765\n",
      "операции с недвижимостью                  675\n",
      "покупка коммерческой недвижимости         661\n",
      "операции с жильем                         652\n",
      "покупка жилья для сдачи                   651\n",
      "операции с коммерческой недвижимостью     650\n",
      "жилье                                     646\n",
      "покупка жилья                             646\n",
      "покупка жилья для семьи                   638\n",
      "строительство собственной недвижимости    635\n",
      "недвижимость                              633\n",
      "операции со своей недвижимостью           627\n",
      "строительство жилой недвижимости          624\n",
      "покупка недвижимости                      621\n",
      "покупка своего жилья                      620\n",
      "строительство недвижимости                619\n",
      "ремонт жилью                              607\n",
      "покупка жилой недвижимости                606\n",
      "на покупку своего автомобиля              505\n",
      "заняться высшим образованием              496\n",
      "автомобиль                                494\n",
      "сделка с подержанным автомобилем          486\n",
      "автомобили                                478\n",
      "свой автомобиль                           478\n",
      "на покупку подержанного автомобиля        478\n",
      "на покупку автомобиля                     471\n",
      "приобретение автомобиля                   461\n",
      "дополнительное образование                460\n",
      "сделка с автомобилем                      455\n",
      "высшее образование                        452\n",
      "образование                               447\n",
      "получение дополнительного образования     446\n",
      "получение образования                     442\n",
      "профильное образование                    436\n",
      "получение высшего образования             426\n",
      "заняться образованием                     408\n",
      "Name: purpose, dtype: int64\n"
     ]
    }
   ],
   "source": [
    "print(df['purpose'].value_counts())"
   ]
  },
  {
   "cell_type": "markdown",
   "metadata": {},
   "source": [
    "Проведем лемматизацию этого столбца"
   ]
  },
  {
   "cell_type": "code",
   "execution_count": 18,
   "metadata": {},
   "outputs": [],
   "source": [
    "# Сохраняю значения лемм. Методу .lemmatize(<строка>) передается строка. Для корректной работы метода\n",
    "# используется метод <разделитель>.join(), который склеивает слова и ставить разделитель м/у ними.\n",
    "# В нашем случае пробел\n",
    "lemmas = m.lemmatize(' '.join(df['purpose']))"
   ]
  },
  {
   "cell_type": "markdown",
   "metadata": {},
   "source": [
    "Посчитаем колличество упоминаний всех уникальных лемм"
   ]
  },
  {
   "cell_type": "code",
   "execution_count": 19,
   "metadata": {},
   "outputs": [
    {
     "name": "stdout",
     "output_type": "stream",
     "text": [
      "dict_keys(['покупка', ' ', 'жилье', 'приобретение', 'автомобиль', 'дополнительный', 'образование', 'сыграть', 'свадьба', 'операция', 'с', 'на', 'проведение', 'для', 'семья', 'недвижимость', 'коммерческий', 'жилой', 'строительство', 'собственный', 'подержать', 'свой', 'со', 'заниматься', 'сделка', 'получение', 'высокий', 'подержанный', 'профильный', 'сдача', 'ремонт', '\\n'])\n"
     ]
    }
   ],
   "source": [
    "# Выводим на экран леммы. метод dict.keys() выводит ключи словаря, образованного функцией Counter()\n",
    "print((Counter(lemmas).keys()))"
   ]
  },
  {
   "cell_type": "markdown",
   "metadata": {},
   "source": [
    "Как мы можем убедиться, леммами, характеризующие цели кредита являются:\n",
    "* операции с недвижимостью: жилье,  недвижимость, жилой\n",
    "* операции с автомобилем: автомобиль\n",
    "* проведение свадебных торжеств: со свадебными тожествами: свадьба\n",
    "* получение образования: образование\n"
   ]
  },
  {
   "cell_type": "markdown",
   "metadata": {},
   "source": [
    "Для простоты, объединим цели кредита в категории: недвижимость, автомобиль, свадьба, образование"
   ]
  },
  {
   "cell_type": "code",
   "execution_count": 20,
   "metadata": {},
   "outputs": [],
   "source": [
    "\"\"\"def category_purpose(row):\n",
    "\n",
    "# Возвращает названия категорий целей кредита, используя найденные леммы.\n",
    "\n",
    "    # лемматизирую каждую строку столбца\n",
    "    purpose = m.lemmatize(row['purpose'])\n",
    "    \n",
    "    # Проверяю вхождение слов к леммам и возвращаю категорию\n",
    "    if ('жилье' in purpose or\n",
    "            'недвижимость' in purpose or\n",
    "            'жилой' in purpose):\n",
    "        return 'недвижимость'\n",
    "\n",
    "    elif 'автомобиль' in purpose:\n",
    "        return 'автомобиль'\n",
    "\n",
    "    elif 'свадьба' in purpose:\n",
    "        return 'свадьба'\n",
    "\n",
    "    else:\n",
    "        return 'образование'\n",
    "\n",
    "# Применяею функцию 'category_purpose' к датафрейму, чтобы получить новsй столбец с категориями целей кредита.\n",
    "# axis = 1 означает что на вход в функцию отправляются строки\n",
    "df['purpose_category'] = df.apply(category_purpose, axis=1)\"\"\"\n",
    "\n",
    "def category_purpose(purpose):\n",
    "\n",
    "# Возвращает названия категорий целей кредита, используя найденные леммы.\n",
    "\n",
    "    # лемматизирую каждую строку столбца\n",
    "    purpose = m.lemmatize(purpose)\n",
    "    \n",
    "    # Проверяю вхождение слов к леммам и возвращаю категорию\n",
    "    if ('жилье' in purpose or\n",
    "            'недвижимость' in purpose or\n",
    "            'жилой' in purpose):\n",
    "        return 'недвижимость'\n",
    "\n",
    "    elif 'автомобиль' in purpose:\n",
    "        return 'автомобиль'\n",
    "\n",
    "    elif 'свадьба' in purpose:\n",
    "        return 'свадьба'\n",
    "\n",
    "    else:\n",
    "        return 'образование'\n",
    "\n",
    "# Применяею функцию 'category_purpose' к датафрейму, чтобы получить новsй столбец с категориями целей кредита.\n",
    "# axis = 1 означает что на вход в функцию отправляются строки\n",
    "df['purpose_category'] = df['purpose'].apply(category_purpose)"
   ]
  },
  {
   "cell_type": "markdown",
   "metadata": {},
   "source": [
    "Проверим изменения в нашей таблице"
   ]
  },
  {
   "cell_type": "code",
   "execution_count": 21,
   "metadata": {},
   "outputs": [
    {
     "name": "stdout",
     "output_type": "stream",
     "text": [
      "0\n",
      "недвижимость    10811\n",
      "автомобиль       4306\n",
      "образование      4013\n",
      "свадьба          2323\n",
      "Name: purpose_category, dtype: int64\n"
     ]
    },
    {
     "data": {
      "text/html": [
       "<div>\n",
       "<style scoped>\n",
       "    .dataframe tbody tr th:only-of-type {\n",
       "        vertical-align: middle;\n",
       "    }\n",
       "\n",
       "    .dataframe tbody tr th {\n",
       "        vertical-align: top;\n",
       "    }\n",
       "\n",
       "    .dataframe thead th {\n",
       "        text-align: right;\n",
       "    }\n",
       "</style>\n",
       "<table border=\"1\" class=\"dataframe\">\n",
       "  <thead>\n",
       "    <tr style=\"text-align: right;\">\n",
       "      <th></th>\n",
       "      <th>children</th>\n",
       "      <th>days_employed</th>\n",
       "      <th>dob_years</th>\n",
       "      <th>education</th>\n",
       "      <th>education_id</th>\n",
       "      <th>family_status</th>\n",
       "      <th>family_status_id</th>\n",
       "      <th>gender</th>\n",
       "      <th>income_type</th>\n",
       "      <th>debt</th>\n",
       "      <th>total_income</th>\n",
       "      <th>purpose</th>\n",
       "      <th>purpose_category</th>\n",
       "    </tr>\n",
       "  </thead>\n",
       "  <tbody>\n",
       "    <tr>\n",
       "      <td>0</td>\n",
       "      <td>1</td>\n",
       "      <td>8437</td>\n",
       "      <td>42</td>\n",
       "      <td>высшее</td>\n",
       "      <td>0</td>\n",
       "      <td>женат / замужем</td>\n",
       "      <td>0</td>\n",
       "      <td>f</td>\n",
       "      <td>сотрудник</td>\n",
       "      <td>0</td>\n",
       "      <td>253875</td>\n",
       "      <td>покупка жилья</td>\n",
       "      <td>недвижимость</td>\n",
       "    </tr>\n",
       "    <tr>\n",
       "      <td>1</td>\n",
       "      <td>1</td>\n",
       "      <td>4024</td>\n",
       "      <td>36</td>\n",
       "      <td>среднее</td>\n",
       "      <td>1</td>\n",
       "      <td>женат / замужем</td>\n",
       "      <td>0</td>\n",
       "      <td>f</td>\n",
       "      <td>сотрудник</td>\n",
       "      <td>0</td>\n",
       "      <td>112080</td>\n",
       "      <td>приобретение автомобиля</td>\n",
       "      <td>автомобиль</td>\n",
       "    </tr>\n",
       "    <tr>\n",
       "      <td>2</td>\n",
       "      <td>0</td>\n",
       "      <td>5623</td>\n",
       "      <td>33</td>\n",
       "      <td>среднее</td>\n",
       "      <td>1</td>\n",
       "      <td>женат / замужем</td>\n",
       "      <td>0</td>\n",
       "      <td>m</td>\n",
       "      <td>сотрудник</td>\n",
       "      <td>0</td>\n",
       "      <td>145885</td>\n",
       "      <td>покупка жилья</td>\n",
       "      <td>недвижимость</td>\n",
       "    </tr>\n",
       "    <tr>\n",
       "      <td>3</td>\n",
       "      <td>3</td>\n",
       "      <td>4124</td>\n",
       "      <td>32</td>\n",
       "      <td>среднее</td>\n",
       "      <td>1</td>\n",
       "      <td>женат / замужем</td>\n",
       "      <td>0</td>\n",
       "      <td>m</td>\n",
       "      <td>сотрудник</td>\n",
       "      <td>0</td>\n",
       "      <td>267628</td>\n",
       "      <td>дополнительное образование</td>\n",
       "      <td>образование</td>\n",
       "    </tr>\n",
       "    <tr>\n",
       "      <td>4</td>\n",
       "      <td>0</td>\n",
       "      <td>340266</td>\n",
       "      <td>53</td>\n",
       "      <td>среднее</td>\n",
       "      <td>1</td>\n",
       "      <td>гражданский брак</td>\n",
       "      <td>1</td>\n",
       "      <td>f</td>\n",
       "      <td>пенсионер</td>\n",
       "      <td>0</td>\n",
       "      <td>158616</td>\n",
       "      <td>сыграть свадьбу</td>\n",
       "      <td>свадьба</td>\n",
       "    </tr>\n",
       "  </tbody>\n",
       "</table>\n",
       "</div>"
      ],
      "text/plain": [
       "   children  days_employed  dob_years education  education_id  \\\n",
       "0         1           8437         42    высшее             0   \n",
       "1         1           4024         36   среднее             1   \n",
       "2         0           5623         33   среднее             1   \n",
       "3         3           4124         32   среднее             1   \n",
       "4         0         340266         53   среднее             1   \n",
       "\n",
       "      family_status  family_status_id gender income_type  debt  total_income  \\\n",
       "0   женат / замужем                 0      f   сотрудник     0        253875   \n",
       "1   женат / замужем                 0      f   сотрудник     0        112080   \n",
       "2   женат / замужем                 0      m   сотрудник     0        145885   \n",
       "3   женат / замужем                 0      m   сотрудник     0        267628   \n",
       "4  гражданский брак                 1      f   пенсионер     0        158616   \n",
       "\n",
       "                      purpose purpose_category  \n",
       "0               покупка жилья     недвижимость  \n",
       "1     приобретение автомобиля       автомобиль  \n",
       "2               покупка жилья     недвижимость  \n",
       "3  дополнительное образование      образование  \n",
       "4             сыграть свадьбу          свадьба  "
      ]
     },
     "metadata": {},
     "output_type": "display_data"
    }
   ],
   "source": [
    "# Подсчитываем количество пропусков\n",
    "print(df.isna().sum().sum())\n",
    "\n",
    "# Выводим уникальные значения\n",
    "print(df['purpose_category'].value_counts())\n",
    "\n",
    "display(df.head())"
   ]
  },
  {
   "cell_type": "markdown",
   "metadata": {},
   "source": [
    "**Вывод**"
   ]
  },
  {
   "cell_type": "markdown",
   "metadata": {},
   "source": [
    "Была произведена категоризация целей кредита с помощью лемматизации столбца `'purpose'`. Данные о категориях выведены в отдельный столбец `'purpose_category'`"
   ]
  },
  {
   "cell_type": "markdown",
   "metadata": {},
   "source": [
    "### Категоризация данных"
   ]
  },
  {
   "cell_type": "markdown",
   "metadata": {},
   "source": [
    "Для дальнейшей работы необходимо произвести дополнительную категоризацию данных по семейному положению, уровню дохода и наличие детей. Эти данные необходимы для ответа на вопросы данного проекта."
   ]
  },
  {
   "cell_type": "markdown",
   "metadata": {},
   "source": [
    "**Семейное положение**  \n",
    "Так, данные о семейном положении представлены следующими столбцами: `'family_status'`, `'family_status_id'`.  \n",
    "Выведем их уникальные значения:"
   ]
  },
  {
   "cell_type": "code",
   "execution_count": 22,
   "metadata": {},
   "outputs": [
    {
     "name": "stdout",
     "output_type": "stream",
     "text": [
      "family_status_id  family_status        \n",
      "0                 женат / замужем          12339\n",
      "1                 гражданский брак          4150\n",
      "2                 вдовец / вдова             959\n",
      "3                 в разводе                 1195\n",
      "4                 не женат / не замужем     2810\n",
      "Name: family_status, dtype: int64\n"
     ]
    }
   ],
   "source": [
    "print(df.groupby('family_status_id')['family_status'].value_counts())"
   ]
  },
  {
   "cell_type": "markdown",
   "metadata": {},
   "source": [
    "Исследуя данные значения, приходим к выводу, что проведение категоризации по семейному положению не требуется."
   ]
  },
  {
   "cell_type": "markdown",
   "metadata": {},
   "source": [
    "**Наличие детей**  \n",
    "Категоризируем данные по наличию детей"
   ]
  },
  {
   "cell_type": "code",
   "execution_count": 23,
   "metadata": {},
   "outputs": [],
   "source": [
    "def category_children(row):\n",
    "\n",
    "    children = row['children']\n",
    "\n",
    "    # Проверяю наличие детей\n",
    "    if children != 0:\n",
    "        return 'есть дети'\n",
    "\n",
    "    else:\n",
    "        return 'детей нет'\n",
    "\n",
    "df['category_children'] = df.apply(category_children, axis=1)"
   ]
  },
  {
   "cell_type": "markdown",
   "metadata": {},
   "source": [
    "Проверим результат работы."
   ]
  },
  {
   "cell_type": "code",
   "execution_count": 24,
   "metadata": {},
   "outputs": [
    {
     "name": "stdout",
     "output_type": "stream",
     "text": [
      "0\n",
      "детей нет    14090\n",
      "есть дети     7363\n",
      "Name: category_children, dtype: int64\n"
     ]
    },
    {
     "data": {
      "text/html": [
       "<div>\n",
       "<style scoped>\n",
       "    .dataframe tbody tr th:only-of-type {\n",
       "        vertical-align: middle;\n",
       "    }\n",
       "\n",
       "    .dataframe tbody tr th {\n",
       "        vertical-align: top;\n",
       "    }\n",
       "\n",
       "    .dataframe thead th {\n",
       "        text-align: right;\n",
       "    }\n",
       "</style>\n",
       "<table border=\"1\" class=\"dataframe\">\n",
       "  <thead>\n",
       "    <tr style=\"text-align: right;\">\n",
       "      <th></th>\n",
       "      <th>children</th>\n",
       "      <th>days_employed</th>\n",
       "      <th>dob_years</th>\n",
       "      <th>education</th>\n",
       "      <th>education_id</th>\n",
       "      <th>family_status</th>\n",
       "      <th>family_status_id</th>\n",
       "      <th>gender</th>\n",
       "      <th>income_type</th>\n",
       "      <th>debt</th>\n",
       "      <th>total_income</th>\n",
       "      <th>purpose</th>\n",
       "      <th>purpose_category</th>\n",
       "      <th>category_children</th>\n",
       "    </tr>\n",
       "  </thead>\n",
       "  <tbody>\n",
       "    <tr>\n",
       "      <td>0</td>\n",
       "      <td>1</td>\n",
       "      <td>8437</td>\n",
       "      <td>42</td>\n",
       "      <td>высшее</td>\n",
       "      <td>0</td>\n",
       "      <td>женат / замужем</td>\n",
       "      <td>0</td>\n",
       "      <td>f</td>\n",
       "      <td>сотрудник</td>\n",
       "      <td>0</td>\n",
       "      <td>253875</td>\n",
       "      <td>покупка жилья</td>\n",
       "      <td>недвижимость</td>\n",
       "      <td>есть дети</td>\n",
       "    </tr>\n",
       "    <tr>\n",
       "      <td>1</td>\n",
       "      <td>1</td>\n",
       "      <td>4024</td>\n",
       "      <td>36</td>\n",
       "      <td>среднее</td>\n",
       "      <td>1</td>\n",
       "      <td>женат / замужем</td>\n",
       "      <td>0</td>\n",
       "      <td>f</td>\n",
       "      <td>сотрудник</td>\n",
       "      <td>0</td>\n",
       "      <td>112080</td>\n",
       "      <td>приобретение автомобиля</td>\n",
       "      <td>автомобиль</td>\n",
       "      <td>есть дети</td>\n",
       "    </tr>\n",
       "    <tr>\n",
       "      <td>2</td>\n",
       "      <td>0</td>\n",
       "      <td>5623</td>\n",
       "      <td>33</td>\n",
       "      <td>среднее</td>\n",
       "      <td>1</td>\n",
       "      <td>женат / замужем</td>\n",
       "      <td>0</td>\n",
       "      <td>m</td>\n",
       "      <td>сотрудник</td>\n",
       "      <td>0</td>\n",
       "      <td>145885</td>\n",
       "      <td>покупка жилья</td>\n",
       "      <td>недвижимость</td>\n",
       "      <td>детей нет</td>\n",
       "    </tr>\n",
       "    <tr>\n",
       "      <td>3</td>\n",
       "      <td>3</td>\n",
       "      <td>4124</td>\n",
       "      <td>32</td>\n",
       "      <td>среднее</td>\n",
       "      <td>1</td>\n",
       "      <td>женат / замужем</td>\n",
       "      <td>0</td>\n",
       "      <td>m</td>\n",
       "      <td>сотрудник</td>\n",
       "      <td>0</td>\n",
       "      <td>267628</td>\n",
       "      <td>дополнительное образование</td>\n",
       "      <td>образование</td>\n",
       "      <td>есть дети</td>\n",
       "    </tr>\n",
       "    <tr>\n",
       "      <td>4</td>\n",
       "      <td>0</td>\n",
       "      <td>340266</td>\n",
       "      <td>53</td>\n",
       "      <td>среднее</td>\n",
       "      <td>1</td>\n",
       "      <td>гражданский брак</td>\n",
       "      <td>1</td>\n",
       "      <td>f</td>\n",
       "      <td>пенсионер</td>\n",
       "      <td>0</td>\n",
       "      <td>158616</td>\n",
       "      <td>сыграть свадьбу</td>\n",
       "      <td>свадьба</td>\n",
       "      <td>детей нет</td>\n",
       "    </tr>\n",
       "  </tbody>\n",
       "</table>\n",
       "</div>"
      ],
      "text/plain": [
       "   children  days_employed  dob_years education  education_id  \\\n",
       "0         1           8437         42    высшее             0   \n",
       "1         1           4024         36   среднее             1   \n",
       "2         0           5623         33   среднее             1   \n",
       "3         3           4124         32   среднее             1   \n",
       "4         0         340266         53   среднее             1   \n",
       "\n",
       "      family_status  family_status_id gender income_type  debt  total_income  \\\n",
       "0   женат / замужем                 0      f   сотрудник     0        253875   \n",
       "1   женат / замужем                 0      f   сотрудник     0        112080   \n",
       "2   женат / замужем                 0      m   сотрудник     0        145885   \n",
       "3   женат / замужем                 0      m   сотрудник     0        267628   \n",
       "4  гражданский брак                 1      f   пенсионер     0        158616   \n",
       "\n",
       "                      purpose purpose_category category_children  \n",
       "0               покупка жилья     недвижимость         есть дети  \n",
       "1     приобретение автомобиля       автомобиль         есть дети  \n",
       "2               покупка жилья     недвижимость         детей нет  \n",
       "3  дополнительное образование      образование         есть дети  \n",
       "4             сыграть свадьбу          свадьба         детей нет  "
      ]
     },
     "metadata": {},
     "output_type": "display_data"
    }
   ],
   "source": [
    "# Подсчитываем количество пропусков\n",
    "print(df.isna().sum().sum())\n",
    "\n",
    "# Выводим уникальные значения\n",
    "print(df['category_children'].value_counts())\n",
    "\n",
    "display(df.head())"
   ]
  },
  {
   "cell_type": "markdown",
   "metadata": {},
   "source": [
    "**Уровень дохода:**  \n",
    "Для категоризации дохода обратимся к <a href=\"https://zavtra.ru/blogs/eto_interesno_i_polezno_znat_\">статье</a> и на ее основе создадим шкалу уровня дохода.\n",
    "\n",
    "*Уровень дохода:*  \n",
    "Крайне низкий – душевой доход до 10 т.р\n",
    "\n",
    "Очень низкий - душевой доход от 10 до 30 т.р. \n",
    "\n",
    "Низкий - доход от 30 до 70 т.р.\n",
    "\n",
    "Средний – доход от 70 до 110 т.р.\n",
    "\n",
    "Выше среднего - доход от 110 до 170 т.р.\n",
    "\n",
    "Высокий - доход от 170 т.р."
   ]
  },
  {
   "cell_type": "markdown",
   "metadata": {},
   "source": [
    "Создадим новый столбец с категорией дохода"
   ]
  },
  {
   "cell_type": "code",
   "execution_count": 25,
   "metadata": {},
   "outputs": [],
   "source": [
    "def category_total_income(row):\n",
    "\n",
    "    income = row['total_income']\n",
    "\n",
    "    # Проверяю уровень дохода\n",
    "    if income <= 30000:\n",
    "        return '1_очень низкий'\n",
    "\n",
    "    elif income <= 70000:\n",
    "        return '2_низкий'\n",
    "\n",
    "    elif income <= 110000:\n",
    "        return '3_средний'\n",
    "\n",
    "    elif income <= 170000:\n",
    "            return '4_выше среднего'\n",
    "\n",
    "    else:\n",
    "        return '5_высокий'\n",
    "\n",
    "df['total_income_category'] = df.apply(category_total_income, axis=1)"
   ]
  },
  {
   "cell_type": "markdown",
   "metadata": {},
   "source": [
    "Проверим результат работы."
   ]
  },
  {
   "cell_type": "code",
   "execution_count": 26,
   "metadata": {},
   "outputs": [
    {
     "name": "stdout",
     "output_type": "stream",
     "text": [
      "0\n",
      "4_выше среднего    8093\n",
      "5_высокий          7718\n",
      "3_средний          4168\n",
      "2_низкий           1452\n",
      "1_очень низкий       22\n",
      "Name: total_income_category, dtype: int64\n"
     ]
    },
    {
     "data": {
      "text/html": [
       "<div>\n",
       "<style scoped>\n",
       "    .dataframe tbody tr th:only-of-type {\n",
       "        vertical-align: middle;\n",
       "    }\n",
       "\n",
       "    .dataframe tbody tr th {\n",
       "        vertical-align: top;\n",
       "    }\n",
       "\n",
       "    .dataframe thead th {\n",
       "        text-align: right;\n",
       "    }\n",
       "</style>\n",
       "<table border=\"1\" class=\"dataframe\">\n",
       "  <thead>\n",
       "    <tr style=\"text-align: right;\">\n",
       "      <th></th>\n",
       "      <th>children</th>\n",
       "      <th>days_employed</th>\n",
       "      <th>dob_years</th>\n",
       "      <th>education</th>\n",
       "      <th>education_id</th>\n",
       "      <th>family_status</th>\n",
       "      <th>family_status_id</th>\n",
       "      <th>gender</th>\n",
       "      <th>income_type</th>\n",
       "      <th>debt</th>\n",
       "      <th>total_income</th>\n",
       "      <th>purpose</th>\n",
       "      <th>purpose_category</th>\n",
       "      <th>category_children</th>\n",
       "      <th>total_income_category</th>\n",
       "    </tr>\n",
       "  </thead>\n",
       "  <tbody>\n",
       "    <tr>\n",
       "      <td>0</td>\n",
       "      <td>1</td>\n",
       "      <td>8437</td>\n",
       "      <td>42</td>\n",
       "      <td>высшее</td>\n",
       "      <td>0</td>\n",
       "      <td>женат / замужем</td>\n",
       "      <td>0</td>\n",
       "      <td>f</td>\n",
       "      <td>сотрудник</td>\n",
       "      <td>0</td>\n",
       "      <td>253875</td>\n",
       "      <td>покупка жилья</td>\n",
       "      <td>недвижимость</td>\n",
       "      <td>есть дети</td>\n",
       "      <td>5_высокий</td>\n",
       "    </tr>\n",
       "    <tr>\n",
       "      <td>1</td>\n",
       "      <td>1</td>\n",
       "      <td>4024</td>\n",
       "      <td>36</td>\n",
       "      <td>среднее</td>\n",
       "      <td>1</td>\n",
       "      <td>женат / замужем</td>\n",
       "      <td>0</td>\n",
       "      <td>f</td>\n",
       "      <td>сотрудник</td>\n",
       "      <td>0</td>\n",
       "      <td>112080</td>\n",
       "      <td>приобретение автомобиля</td>\n",
       "      <td>автомобиль</td>\n",
       "      <td>есть дети</td>\n",
       "      <td>4_выше среднего</td>\n",
       "    </tr>\n",
       "    <tr>\n",
       "      <td>2</td>\n",
       "      <td>0</td>\n",
       "      <td>5623</td>\n",
       "      <td>33</td>\n",
       "      <td>среднее</td>\n",
       "      <td>1</td>\n",
       "      <td>женат / замужем</td>\n",
       "      <td>0</td>\n",
       "      <td>m</td>\n",
       "      <td>сотрудник</td>\n",
       "      <td>0</td>\n",
       "      <td>145885</td>\n",
       "      <td>покупка жилья</td>\n",
       "      <td>недвижимость</td>\n",
       "      <td>детей нет</td>\n",
       "      <td>4_выше среднего</td>\n",
       "    </tr>\n",
       "    <tr>\n",
       "      <td>3</td>\n",
       "      <td>3</td>\n",
       "      <td>4124</td>\n",
       "      <td>32</td>\n",
       "      <td>среднее</td>\n",
       "      <td>1</td>\n",
       "      <td>женат / замужем</td>\n",
       "      <td>0</td>\n",
       "      <td>m</td>\n",
       "      <td>сотрудник</td>\n",
       "      <td>0</td>\n",
       "      <td>267628</td>\n",
       "      <td>дополнительное образование</td>\n",
       "      <td>образование</td>\n",
       "      <td>есть дети</td>\n",
       "      <td>5_высокий</td>\n",
       "    </tr>\n",
       "    <tr>\n",
       "      <td>4</td>\n",
       "      <td>0</td>\n",
       "      <td>340266</td>\n",
       "      <td>53</td>\n",
       "      <td>среднее</td>\n",
       "      <td>1</td>\n",
       "      <td>гражданский брак</td>\n",
       "      <td>1</td>\n",
       "      <td>f</td>\n",
       "      <td>пенсионер</td>\n",
       "      <td>0</td>\n",
       "      <td>158616</td>\n",
       "      <td>сыграть свадьбу</td>\n",
       "      <td>свадьба</td>\n",
       "      <td>детей нет</td>\n",
       "      <td>4_выше среднего</td>\n",
       "    </tr>\n",
       "  </tbody>\n",
       "</table>\n",
       "</div>"
      ],
      "text/plain": [
       "   children  days_employed  dob_years education  education_id  \\\n",
       "0         1           8437         42    высшее             0   \n",
       "1         1           4024         36   среднее             1   \n",
       "2         0           5623         33   среднее             1   \n",
       "3         3           4124         32   среднее             1   \n",
       "4         0         340266         53   среднее             1   \n",
       "\n",
       "      family_status  family_status_id gender income_type  debt  total_income  \\\n",
       "0   женат / замужем                 0      f   сотрудник     0        253875   \n",
       "1   женат / замужем                 0      f   сотрудник     0        112080   \n",
       "2   женат / замужем                 0      m   сотрудник     0        145885   \n",
       "3   женат / замужем                 0      m   сотрудник     0        267628   \n",
       "4  гражданский брак                 1      f   пенсионер     0        158616   \n",
       "\n",
       "                      purpose purpose_category category_children  \\\n",
       "0               покупка жилья     недвижимость         есть дети   \n",
       "1     приобретение автомобиля       автомобиль         есть дети   \n",
       "2               покупка жилья     недвижимость         детей нет   \n",
       "3  дополнительное образование      образование         есть дети   \n",
       "4             сыграть свадьбу          свадьба         детей нет   \n",
       "\n",
       "  total_income_category  \n",
       "0             5_высокий  \n",
       "1       4_выше среднего  \n",
       "2       4_выше среднего  \n",
       "3             5_высокий  \n",
       "4       4_выше среднего  "
      ]
     },
     "metadata": {},
     "output_type": "display_data"
    }
   ],
   "source": [
    "# Подсчитываем количество пропусков\n",
    "print(df.isna().sum().sum())\n",
    "\n",
    "# Выводим уникальные значения\n",
    "print(df['total_income_category'].value_counts())\n",
    "\n",
    "display(df.head())"
   ]
  },
  {
   "cell_type": "markdown",
   "metadata": {},
   "source": [
    "**Дополнительная категоризация. Статус задолженности**  \n",
    "Для построения сводных таблиц, необходим еще один столбец: категоризация задолженности."
   ]
  },
  {
   "cell_type": "code",
   "execution_count": 27,
   "metadata": {},
   "outputs": [],
   "source": [
    "def category_debt(row):\n",
    "\n",
    "    debt = row['debt']\n",
    "\n",
    "    # Проверяю наличие задолженности по стольцу 'debt'\n",
    "    if debt == 1:\n",
    "        return '0_задолженность, кол-во'\n",
    "\n",
    "    else:\n",
    "        return '1_нет задолженности, кол-во'\n",
    "\n",
    "df['debt_status'] = df.apply(category_debt, axis=1)"
   ]
  },
  {
   "cell_type": "markdown",
   "metadata": {},
   "source": [
    "**Вывод**"
   ]
  },
  {
   "cell_type": "markdown",
   "metadata": {},
   "source": [
    "Данные необходимые для исследований были категоризованы и готовы к дальнейшему применению"
   ]
  },
  {
   "cell_type": "markdown",
   "metadata": {},
   "source": [
    "## Шаг 3. Ответьте на вопросы"
   ]
  },
  {
   "cell_type": "markdown",
   "metadata": {},
   "source": [
    "Создадим функцию, генерирующую сводные таблицы и высчитывающую:\n",
    "- процент количества кридитов по ктегориям от общего количества кредитов\n",
    "- процент задолжности по категориям от общего количества кредитов\n",
    "- конверсию от числа задолжности. Чем выше, тем выше вероятность просрочки/задолжности по кредиту"
   ]
  },
  {
   "cell_type": "code",
   "execution_count": 28,
   "metadata": {},
   "outputs": [],
   "source": [
    "def get_pivot_table(row_category):\n",
    "    \"\"\" Фуркция создает сводную таблицу по категориям и\n",
    "    на ее основе высчитывает процент задолжности в данной категории \"\"\"\n",
    "\n",
    "    # Создаем сводную таблицу\n",
    "    some_table = df.pivot_table(\n",
    "        index='debt_status',\n",
    "        columns=[row_category],\n",
    "        values='debt',\n",
    "        aggfunc='count')\n",
    "\n",
    "    # Создаем словарь\n",
    "    # a_dict = {'категория' : ['кол-во при задолж.' , 'кол-во при отсут. задолж.']}\n",
    "    lst = []\n",
    "    a_dict = dict()\n",
    "\n",
    "    for c in some_table.columns:\n",
    "        lst = []\n",
    "        a_dict[c] = lst\n",
    "\n",
    "        for i in some_table.index:\n",
    "            lst.append(some_table.loc[i, c])\n",
    "\n",
    "    # Высчитываем общее количество кредитов в таблице total_credit_category\n",
    "    total_credit_category = 0\n",
    "    for i in a_dict.values():\n",
    "        total_credit_category += sum(i)\n",
    "\n",
    "    # формируем  словарь-строку poke_dict_category(% кредита по категориям),\n",
    "    # для добавления его в конец сводной таблицы\n",
    "    poke_dict_category = dict()\n",
    "    for k, v in a_dict.items():\n",
    "        poke_dict_category[k] = (sum(v) / total_credit_category * 100)\n",
    "\n",
    "    # формируем  словарь-строку poke_dict_debtor(% должников),\n",
    "    # для добавления его в конец сводной таблицы\n",
    "    poke_dict_debtor = dict()\n",
    "    for k, v in a_dict.items():\n",
    "        # poke_dict_debtor[k] = ((v[0]/(v[0]+v[1])*100))\n",
    "        poke_dict_debtor[k] = (v[0] / total_credit_category * 100)\n",
    "\n",
    "    # формируем  словарь-строку poke_dict_convers(конверсия),\n",
    "    #для добавления его в конец сводной таблицы\n",
    "    poke_dict_convers = dict()\n",
    "    for k in poke_dict_debtor.keys():\n",
    "        poke_dict_convers[k] = poke_dict_debtor[k] / poke_dict_category[k] * 100\n",
    "        \n",
    "\n",
    "    # добавляем словарь-строку poke_dict_category в таблицу\n",
    "    some_table.loc['2_процент категории'] = poke_dict_category\n",
    "\n",
    "    # добавляем словарь-строку poke_dict_debtor в таблицу\n",
    "    some_table.loc['3_процент задолжности по категории'] = poke_dict_debtor\n",
    "\n",
    "    # добавляем словарь-строку poke_dict_convers в таблицу\n",
    "    some_table.loc['4_конверсия'] = poke_dict_convers\n",
    "\n",
    "    # округляем все значения до 2-го знака\n",
    "    some_table = some_table.round(decimals=2)\n",
    "\n",
    "    # выводим таблицу на экран\n",
    "    display(some_table.sort_index(ascending=True))\n"
   ]
  },
  {
   "cell_type": "markdown",
   "metadata": {},
   "source": [
    "**- Есть ли зависимость между наличием детей и возвратом кредита в срок?**"
   ]
  },
  {
   "cell_type": "code",
   "execution_count": 29,
   "metadata": {},
   "outputs": [
    {
     "data": {
      "text/html": [
       "<div>\n",
       "<style scoped>\n",
       "    .dataframe tbody tr th:only-of-type {\n",
       "        vertical-align: middle;\n",
       "    }\n",
       "\n",
       "    .dataframe tbody tr th {\n",
       "        vertical-align: top;\n",
       "    }\n",
       "\n",
       "    .dataframe thead th {\n",
       "        text-align: right;\n",
       "    }\n",
       "</style>\n",
       "<table border=\"1\" class=\"dataframe\">\n",
       "  <thead>\n",
       "    <tr style=\"text-align: right;\">\n",
       "      <th>category_children</th>\n",
       "      <th>детей нет</th>\n",
       "      <th>есть дети</th>\n",
       "    </tr>\n",
       "    <tr>\n",
       "      <th>debt_status</th>\n",
       "      <th></th>\n",
       "      <th></th>\n",
       "    </tr>\n",
       "  </thead>\n",
       "  <tbody>\n",
       "    <tr>\n",
       "      <td>0_задолженность, кол-во</td>\n",
       "      <td>1063.00</td>\n",
       "      <td>678.00</td>\n",
       "    </tr>\n",
       "    <tr>\n",
       "      <td>1_нет задолженности, кол-во</td>\n",
       "      <td>13027.00</td>\n",
       "      <td>6685.00</td>\n",
       "    </tr>\n",
       "    <tr>\n",
       "      <td>2_процент категории</td>\n",
       "      <td>65.68</td>\n",
       "      <td>34.32</td>\n",
       "    </tr>\n",
       "    <tr>\n",
       "      <td>3_процент задолжности по категории</td>\n",
       "      <td>4.96</td>\n",
       "      <td>3.16</td>\n",
       "    </tr>\n",
       "    <tr>\n",
       "      <td>4_конверсия</td>\n",
       "      <td>7.54</td>\n",
       "      <td>9.21</td>\n",
       "    </tr>\n",
       "  </tbody>\n",
       "</table>\n",
       "</div>"
      ],
      "text/plain": [
       "category_children                   детей нет  есть дети\n",
       "debt_status                                             \n",
       "0_задолженность, кол-во               1063.00     678.00\n",
       "1_нет задолженности, кол-во          13027.00    6685.00\n",
       "2_процент категории                     65.68      34.32\n",
       "3_процент задолжности по категории       4.96       3.16\n",
       "4_конверсия                              7.54       9.21"
      ]
     },
     "metadata": {},
     "output_type": "display_data"
    }
   ],
   "source": [
    "get_pivot_table('category_children')"
   ]
  },
  {
   "cell_type": "markdown",
   "metadata": {},
   "source": [
    "**Вывод**"
   ]
  },
  {
   "cell_type": "markdown",
   "metadata": {},
   "source": [
    "Наличие детей показало:\n",
    "- клиенты с детьми реже берут кредиты,\n",
    "- клиенты с детьми *чаще имеют задолжности* по кредиту, среди задолжников."
   ]
  },
  {
   "cell_type": "markdown",
   "metadata": {},
   "source": [
    "**- Есть ли зависимость между семейным положением и возвратом кредита в срок?**"
   ]
  },
  {
   "cell_type": "code",
   "execution_count": 30,
   "metadata": {},
   "outputs": [
    {
     "data": {
      "text/html": [
       "<div>\n",
       "<style scoped>\n",
       "    .dataframe tbody tr th:only-of-type {\n",
       "        vertical-align: middle;\n",
       "    }\n",
       "\n",
       "    .dataframe tbody tr th {\n",
       "        vertical-align: top;\n",
       "    }\n",
       "\n",
       "    .dataframe thead th {\n",
       "        text-align: right;\n",
       "    }\n",
       "</style>\n",
       "<table border=\"1\" class=\"dataframe\">\n",
       "  <thead>\n",
       "    <tr style=\"text-align: right;\">\n",
       "      <th>family_status</th>\n",
       "      <th>в разводе</th>\n",
       "      <th>вдовец / вдова</th>\n",
       "      <th>гражданский брак</th>\n",
       "      <th>женат / замужем</th>\n",
       "      <th>не женат / не замужем</th>\n",
       "    </tr>\n",
       "    <tr>\n",
       "      <th>debt_status</th>\n",
       "      <th></th>\n",
       "      <th></th>\n",
       "      <th></th>\n",
       "      <th></th>\n",
       "      <th></th>\n",
       "    </tr>\n",
       "  </thead>\n",
       "  <tbody>\n",
       "    <tr>\n",
       "      <td>0_задолженность, кол-во</td>\n",
       "      <td>85.00</td>\n",
       "      <td>63.00</td>\n",
       "      <td>388.00</td>\n",
       "      <td>931.00</td>\n",
       "      <td>274.00</td>\n",
       "    </tr>\n",
       "    <tr>\n",
       "      <td>1_нет задолженности, кол-во</td>\n",
       "      <td>1110.00</td>\n",
       "      <td>896.00</td>\n",
       "      <td>3762.00</td>\n",
       "      <td>11408.00</td>\n",
       "      <td>2536.00</td>\n",
       "    </tr>\n",
       "    <tr>\n",
       "      <td>2_процент категории</td>\n",
       "      <td>5.57</td>\n",
       "      <td>4.47</td>\n",
       "      <td>19.34</td>\n",
       "      <td>57.52</td>\n",
       "      <td>13.10</td>\n",
       "    </tr>\n",
       "    <tr>\n",
       "      <td>3_процент задолжности по категории</td>\n",
       "      <td>0.40</td>\n",
       "      <td>0.29</td>\n",
       "      <td>1.81</td>\n",
       "      <td>4.34</td>\n",
       "      <td>1.28</td>\n",
       "    </tr>\n",
       "    <tr>\n",
       "      <td>4_конверсия</td>\n",
       "      <td>7.11</td>\n",
       "      <td>6.57</td>\n",
       "      <td>9.35</td>\n",
       "      <td>7.55</td>\n",
       "      <td>9.75</td>\n",
       "    </tr>\n",
       "  </tbody>\n",
       "</table>\n",
       "</div>"
      ],
      "text/plain": [
       "family_status                       в разводе  вдовец / вдова  \\\n",
       "debt_status                                                     \n",
       "0_задолженность, кол-во                 85.00           63.00   \n",
       "1_нет задолженности, кол-во           1110.00          896.00   \n",
       "2_процент категории                      5.57            4.47   \n",
       "3_процент задолжности по категории       0.40            0.29   \n",
       "4_конверсия                              7.11            6.57   \n",
       "\n",
       "family_status                       гражданский брак  женат / замужем  \\\n",
       "debt_status                                                             \n",
       "0_задолженность, кол-во                       388.00           931.00   \n",
       "1_нет задолженности, кол-во                  3762.00         11408.00   \n",
       "2_процент категории                            19.34            57.52   \n",
       "3_процент задолжности по категории              1.81             4.34   \n",
       "4_конверсия                                     9.35             7.55   \n",
       "\n",
       "family_status                       не женат / не замужем  \n",
       "debt_status                                                \n",
       "0_задолженность, кол-во                            274.00  \n",
       "1_нет задолженности, кол-во                       2536.00  \n",
       "2_процент категории                                 13.10  \n",
       "3_процент задолжности по категории                   1.28  \n",
       "4_конверсия                                          9.75  "
      ]
     },
     "metadata": {},
     "output_type": "display_data"
    }
   ],
   "source": [
    "get_pivot_table('family_status')"
   ]
  },
  {
   "cell_type": "markdown",
   "metadata": {},
   "source": [
    "**Вывод**"
   ]
  },
  {
   "cell_type": "markdown",
   "metadata": {},
   "source": [
    "Наличие официального брака показало:\n",
    "\n",
    "* женатые клиенты намного чаще берут кредиты,\n",
    "* женатые кленты имеют среднюю задолжность относительно живущих гражданским браком и холостых"
   ]
  },
  {
   "cell_type": "markdown",
   "metadata": {},
   "source": [
    "**- Есть ли зависимость между уровнем дохода и возвратом кредита в срок?**"
   ]
  },
  {
   "cell_type": "code",
   "execution_count": 31,
   "metadata": {},
   "outputs": [
    {
     "data": {
      "text/html": [
       "<div>\n",
       "<style scoped>\n",
       "    .dataframe tbody tr th:only-of-type {\n",
       "        vertical-align: middle;\n",
       "    }\n",
       "\n",
       "    .dataframe tbody tr th {\n",
       "        vertical-align: top;\n",
       "    }\n",
       "\n",
       "    .dataframe thead th {\n",
       "        text-align: right;\n",
       "    }\n",
       "</style>\n",
       "<table border=\"1\" class=\"dataframe\">\n",
       "  <thead>\n",
       "    <tr style=\"text-align: right;\">\n",
       "      <th>total_income_category</th>\n",
       "      <th>1_очень низкий</th>\n",
       "      <th>2_низкий</th>\n",
       "      <th>3_средний</th>\n",
       "      <th>4_выше среднего</th>\n",
       "      <th>5_высокий</th>\n",
       "    </tr>\n",
       "    <tr>\n",
       "      <th>debt_status</th>\n",
       "      <th></th>\n",
       "      <th></th>\n",
       "      <th></th>\n",
       "      <th></th>\n",
       "      <th></th>\n",
       "    </tr>\n",
       "  </thead>\n",
       "  <tbody>\n",
       "    <tr>\n",
       "      <td>0_задолженность, кол-во</td>\n",
       "      <td>2.00</td>\n",
       "      <td>99.00</td>\n",
       "      <td>354.00</td>\n",
       "      <td>709.00</td>\n",
       "      <td>577.00</td>\n",
       "    </tr>\n",
       "    <tr>\n",
       "      <td>1_нет задолженности, кол-во</td>\n",
       "      <td>20.00</td>\n",
       "      <td>1353.00</td>\n",
       "      <td>3814.00</td>\n",
       "      <td>7384.00</td>\n",
       "      <td>7141.00</td>\n",
       "    </tr>\n",
       "    <tr>\n",
       "      <td>2_процент категории</td>\n",
       "      <td>0.10</td>\n",
       "      <td>6.77</td>\n",
       "      <td>19.43</td>\n",
       "      <td>37.72</td>\n",
       "      <td>35.98</td>\n",
       "    </tr>\n",
       "    <tr>\n",
       "      <td>3_процент задолжности по категории</td>\n",
       "      <td>0.01</td>\n",
       "      <td>0.46</td>\n",
       "      <td>1.65</td>\n",
       "      <td>3.30</td>\n",
       "      <td>2.69</td>\n",
       "    </tr>\n",
       "    <tr>\n",
       "      <td>4_конверсия</td>\n",
       "      <td>9.09</td>\n",
       "      <td>6.82</td>\n",
       "      <td>8.49</td>\n",
       "      <td>8.76</td>\n",
       "      <td>7.48</td>\n",
       "    </tr>\n",
       "  </tbody>\n",
       "</table>\n",
       "</div>"
      ],
      "text/plain": [
       "total_income_category               1_очень низкий  2_низкий  3_средний  \\\n",
       "debt_status                                                               \n",
       "0_задолженность, кол-во                       2.00     99.00     354.00   \n",
       "1_нет задолженности, кол-во                  20.00   1353.00    3814.00   \n",
       "2_процент категории                           0.10      6.77      19.43   \n",
       "3_процент задолжности по категории            0.01      0.46       1.65   \n",
       "4_конверсия                                   9.09      6.82       8.49   \n",
       "\n",
       "total_income_category               4_выше среднего  5_высокий  \n",
       "debt_status                                                     \n",
       "0_задолженность, кол-во                      709.00     577.00  \n",
       "1_нет задолженности, кол-во                 7384.00    7141.00  \n",
       "2_процент категории                           37.72      35.98  \n",
       "3_процент задолжности по категории             3.30       2.69  \n",
       "4_конверсия                                    8.76       7.48  "
      ]
     },
     "metadata": {},
     "output_type": "display_data"
    }
   ],
   "source": [
    "get_pivot_table('total_income_category')"
   ]
  },
  {
   "cell_type": "markdown",
   "metadata": {},
   "source": [
    "**Вывод**"
   ]
  },
  {
   "cell_type": "markdown",
   "metadata": {},
   "source": [
    "По уровню дохода:\n",
    "* клиенты с доходом от выше среднего самые частые клиента банка, а так же самые частыне должники.\n",
    "* говорить, о людях с низким доходом проблематично из-за маленькой выборки."
   ]
  },
  {
   "cell_type": "markdown",
   "metadata": {},
   "source": [
    "**- Как разные цели кредита влияют на его возврат в срок?**"
   ]
  },
  {
   "cell_type": "code",
   "execution_count": 32,
   "metadata": {},
   "outputs": [
    {
     "data": {
      "text/html": [
       "<div>\n",
       "<style scoped>\n",
       "    .dataframe tbody tr th:only-of-type {\n",
       "        vertical-align: middle;\n",
       "    }\n",
       "\n",
       "    .dataframe tbody tr th {\n",
       "        vertical-align: top;\n",
       "    }\n",
       "\n",
       "    .dataframe thead th {\n",
       "        text-align: right;\n",
       "    }\n",
       "</style>\n",
       "<table border=\"1\" class=\"dataframe\">\n",
       "  <thead>\n",
       "    <tr style=\"text-align: right;\">\n",
       "      <th>purpose_category</th>\n",
       "      <th>автомобиль</th>\n",
       "      <th>недвижимость</th>\n",
       "      <th>образование</th>\n",
       "      <th>свадьба</th>\n",
       "    </tr>\n",
       "    <tr>\n",
       "      <th>debt_status</th>\n",
       "      <th></th>\n",
       "      <th></th>\n",
       "      <th></th>\n",
       "      <th></th>\n",
       "    </tr>\n",
       "  </thead>\n",
       "  <tbody>\n",
       "    <tr>\n",
       "      <td>0_задолженность, кол-во</td>\n",
       "      <td>403.00</td>\n",
       "      <td>782.00</td>\n",
       "      <td>370.00</td>\n",
       "      <td>186.00</td>\n",
       "    </tr>\n",
       "    <tr>\n",
       "      <td>1_нет задолженности, кол-во</td>\n",
       "      <td>3903.00</td>\n",
       "      <td>10029.00</td>\n",
       "      <td>3643.00</td>\n",
       "      <td>2137.00</td>\n",
       "    </tr>\n",
       "    <tr>\n",
       "      <td>2_процент категории</td>\n",
       "      <td>20.07</td>\n",
       "      <td>50.39</td>\n",
       "      <td>18.71</td>\n",
       "      <td>10.83</td>\n",
       "    </tr>\n",
       "    <tr>\n",
       "      <td>3_процент задолжности по категории</td>\n",
       "      <td>1.88</td>\n",
       "      <td>3.65</td>\n",
       "      <td>1.72</td>\n",
       "      <td>0.87</td>\n",
       "    </tr>\n",
       "    <tr>\n",
       "      <td>4_конверсия</td>\n",
       "      <td>9.36</td>\n",
       "      <td>7.23</td>\n",
       "      <td>9.22</td>\n",
       "      <td>8.01</td>\n",
       "    </tr>\n",
       "  </tbody>\n",
       "</table>\n",
       "</div>"
      ],
      "text/plain": [
       "purpose_category                    автомобиль  недвижимость  образование  \\\n",
       "debt_status                                                                 \n",
       "0_задолженность, кол-во                 403.00        782.00       370.00   \n",
       "1_нет задолженности, кол-во            3903.00      10029.00      3643.00   \n",
       "2_процент категории                      20.07         50.39        18.71   \n",
       "3_процент задолжности по категории        1.88          3.65         1.72   \n",
       "4_конверсия                               9.36          7.23         9.22   \n",
       "\n",
       "purpose_category                    свадьба  \n",
       "debt_status                                  \n",
       "0_задолженность, кол-во              186.00  \n",
       "1_нет задолженности, кол-во         2137.00  \n",
       "2_процент категории                   10.83  \n",
       "3_процент задолжности по категории     0.87  \n",
       "4_конверсия                            8.01  "
      ]
     },
     "metadata": {},
     "output_type": "display_data"
    }
   ],
   "source": [
    "get_pivot_table('purpose_category')"
   ]
  },
  {
   "cell_type": "markdown",
   "metadata": {},
   "source": [
    "**Вывод**"
   ]
  },
  {
   "cell_type": "markdown",
   "metadata": {},
   "source": [
    "Ссамыми востребовательными целями, в порядке убывания являются:\n",
    "1. недвижимость, с отрывом в 50%,\n",
    "2. покупка/ремонт автомобиля и образование,\n",
    "3. свадьба.\n",
    "\n",
    "Анализ по целям кредитования установил их приоритет по общей задолжности:  \n",
    "1. покупка/ремонт автомобиля и образование,\n",
    "2. проведение свадебных торжеств,\n",
    "3. седлки с недвижимостью"
   ]
  },
  {
   "cell_type": "markdown",
   "metadata": {},
   "source": [
    "## Шаг 4. Общий вывод"
   ]
  },
  {
   "cell_type": "markdown",
   "metadata": {},
   "source": [
    "1. Была произведена работа по анализу, предобработке и категоризации данных.\n",
    "2. В процессе анализа были выявлены пропуски и ошибки в заполнении данных клиентов. Было сделано предположение о их природе и проведена работа по устранению. Без уточнения о природе данных артефактов, дальнейшие выводы могли быть не точными.\n",
    "3. Данные были категоризированы, в соответствии с целями исследования.\n",
    "4. Составлены таблицы, отвечающие запросам исследования. Дана краткая интерпритация полученных результатов."
   ]
  }
 ],
 "metadata": {
  "ExecuteTimeLog": [
   {
    "duration": 68,
    "start_time": "2021-12-21T15:05:52.643Z"
   },
   {
    "duration": 11,
    "start_time": "2021-12-21T15:09:16.167Z"
   },
   {
    "duration": 228,
    "start_time": "2021-12-21T16:13:20.445Z"
   },
   {
    "duration": 15,
    "start_time": "2021-12-21T16:13:37.634Z"
   },
   {
    "duration": 9,
    "start_time": "2021-12-21T16:14:22.825Z"
   },
   {
    "duration": 7,
    "start_time": "2021-12-21T18:27:14.449Z"
   },
   {
    "duration": 15,
    "start_time": "2021-12-21T18:27:30.600Z"
   },
   {
    "duration": 207,
    "start_time": "2021-12-21T18:28:04.383Z"
   },
   {
    "duration": 17,
    "start_time": "2021-12-21T18:28:33.621Z"
   },
   {
    "duration": 482,
    "start_time": "2021-12-22T08:26:14.798Z"
   },
   {
    "duration": 340,
    "start_time": "2021-12-22T08:26:36.840Z"
   },
   {
    "duration": 364,
    "start_time": "2021-12-22T08:26:46.420Z"
   },
   {
    "duration": 896,
    "start_time": "2021-12-22T08:26:56.546Z"
   },
   {
    "duration": 24,
    "start_time": "2021-12-22T08:26:57.446Z"
   },
   {
    "duration": 15,
    "start_time": "2021-12-22T08:26:57.473Z"
   },
   {
    "duration": 405,
    "start_time": "2021-12-22T08:26:57.491Z"
   },
   {
    "duration": 1232,
    "start_time": "2021-12-22T08:26:56.667Z"
   },
   {
    "duration": 29,
    "start_time": "2021-12-22T08:27:07.637Z"
   },
   {
    "duration": 15,
    "start_time": "2021-12-22T08:27:12.916Z"
   },
   {
    "duration": 17,
    "start_time": "2021-12-22T08:34:54.138Z"
   },
   {
    "duration": 12,
    "start_time": "2021-12-22T08:35:03.479Z"
   },
   {
    "duration": 25,
    "start_time": "2021-12-22T08:50:12.891Z"
   },
   {
    "duration": 32,
    "start_time": "2021-12-22T08:51:25.846Z"
   },
   {
    "duration": 26,
    "start_time": "2021-12-22T08:51:34.381Z"
   },
   {
    "duration": 21,
    "start_time": "2021-12-22T08:51:41.997Z"
   },
   {
    "duration": 20,
    "start_time": "2021-12-22T08:52:47.162Z"
   },
   {
    "duration": 20,
    "start_time": "2021-12-22T08:58:52.068Z"
   },
   {
    "duration": 42,
    "start_time": "2021-12-22T08:59:03.021Z"
   },
   {
    "duration": 28,
    "start_time": "2021-12-22T08:59:33.252Z"
   },
   {
    "duration": 409,
    "start_time": "2021-12-22T09:03:40.262Z"
   },
   {
    "duration": 400,
    "start_time": "2021-12-22T09:07:38.767Z"
   },
   {
    "duration": 421,
    "start_time": "2021-12-22T09:08:00.097Z"
   },
   {
    "duration": 444,
    "start_time": "2021-12-22T09:08:16.144Z"
   },
   {
    "duration": 103,
    "start_time": "2021-12-22T09:08:30.162Z"
   },
   {
    "duration": 18,
    "start_time": "2021-12-22T09:08:30.267Z"
   },
   {
    "duration": 16,
    "start_time": "2021-12-22T09:08:30.289Z"
   },
   {
    "duration": 46,
    "start_time": "2021-12-22T09:08:30.309Z"
   },
   {
    "duration": 14,
    "start_time": "2021-12-22T09:08:30.358Z"
   },
   {
    "duration": 51,
    "start_time": "2021-12-22T09:08:30.377Z"
   },
   {
    "duration": 48,
    "start_time": "2021-12-22T09:08:51.901Z"
   },
   {
    "duration": 26,
    "start_time": "2021-12-22T09:11:59.194Z"
   },
   {
    "duration": 40,
    "start_time": "2021-12-22T09:12:08.110Z"
   },
   {
    "duration": 34,
    "start_time": "2021-12-22T09:12:18.349Z"
   },
   {
    "duration": 29,
    "start_time": "2021-12-22T09:12:35.447Z"
   },
   {
    "duration": 48,
    "start_time": "2021-12-22T09:12:40.120Z"
   },
   {
    "duration": 35,
    "start_time": "2021-12-22T09:12:47.607Z"
   },
   {
    "duration": 30,
    "start_time": "2021-12-22T09:13:22.245Z"
   },
   {
    "duration": 27,
    "start_time": "2021-12-22T09:13:32.788Z"
   },
   {
    "duration": 33,
    "start_time": "2021-12-22T09:15:02.131Z"
   },
   {
    "duration": 139,
    "start_time": "2021-12-22T09:15:42.151Z"
   },
   {
    "duration": 32,
    "start_time": "2021-12-22T09:16:09.658Z"
   },
   {
    "duration": 40,
    "start_time": "2021-12-22T09:16:28.098Z"
   },
   {
    "duration": 29,
    "start_time": "2021-12-22T09:16:46.382Z"
   },
   {
    "duration": 30,
    "start_time": "2021-12-22T09:16:51.672Z"
   },
   {
    "duration": 49,
    "start_time": "2021-12-22T09:17:03.750Z"
   },
   {
    "duration": 7,
    "start_time": "2021-12-22T09:38:07.015Z"
   },
   {
    "duration": 19,
    "start_time": "2021-12-22T09:38:13.944Z"
   },
   {
    "duration": 20,
    "start_time": "2021-12-22T09:40:03.179Z"
   },
   {
    "duration": 12,
    "start_time": "2021-12-22T09:40:09.963Z"
   },
   {
    "duration": 19,
    "start_time": "2021-12-22T09:40:22.944Z"
   },
   {
    "duration": 313,
    "start_time": "2021-12-22T09:45:40.854Z"
   },
   {
    "duration": 324,
    "start_time": "2021-12-22T09:48:49.578Z"
   },
   {
    "duration": 378,
    "start_time": "2021-12-22T09:50:54.364Z"
   },
   {
    "duration": 76,
    "start_time": "2021-12-22T09:51:00.658Z"
   },
   {
    "duration": 16,
    "start_time": "2021-12-22T09:51:00.737Z"
   },
   {
    "duration": 39,
    "start_time": "2021-12-22T09:51:00.756Z"
   },
   {
    "duration": 38,
    "start_time": "2021-12-22T09:51:00.798Z"
   },
   {
    "duration": 14,
    "start_time": "2021-12-22T09:51:00.839Z"
   },
   {
    "duration": 60,
    "start_time": "2021-12-22T09:51:00.856Z"
   },
   {
    "duration": 27,
    "start_time": "2021-12-22T09:51:00.920Z"
   },
   {
    "duration": 350,
    "start_time": "2021-12-22T09:51:00.950Z"
   },
   {
    "duration": 19,
    "start_time": "2021-12-22T09:52:55.645Z"
   },
   {
    "duration": 23,
    "start_time": "2021-12-22T10:00:50.826Z"
   },
   {
    "duration": 21,
    "start_time": "2021-12-22T10:01:04.177Z"
   },
   {
    "duration": 120,
    "start_time": "2021-12-22T10:07:12.868Z"
   },
   {
    "duration": 28,
    "start_time": "2021-12-22T10:13:20.526Z"
   },
   {
    "duration": 25,
    "start_time": "2021-12-22T10:13:33.109Z"
   },
   {
    "duration": 20,
    "start_time": "2021-12-22T10:16:09.732Z"
   },
   {
    "duration": 26,
    "start_time": "2021-12-22T10:24:59.816Z"
   },
   {
    "duration": 20,
    "start_time": "2021-12-22T10:49:44.065Z"
   },
   {
    "duration": 6,
    "start_time": "2021-12-22T10:49:50.848Z"
   },
   {
    "duration": 21,
    "start_time": "2021-12-22T10:49:53.848Z"
   },
   {
    "duration": 83,
    "start_time": "2021-12-22T10:49:59.925Z"
   },
   {
    "duration": 30,
    "start_time": "2021-12-22T10:50:00.010Z"
   },
   {
    "duration": 22,
    "start_time": "2021-12-22T10:50:00.043Z"
   },
   {
    "duration": 48,
    "start_time": "2021-12-22T10:50:00.068Z"
   },
   {
    "duration": 20,
    "start_time": "2021-12-22T10:50:00.118Z"
   },
   {
    "duration": 40,
    "start_time": "2021-12-22T10:50:00.141Z"
   },
   {
    "duration": 7,
    "start_time": "2021-12-22T10:50:00.183Z"
   },
   {
    "duration": 43,
    "start_time": "2021-12-22T10:50:00.193Z"
   },
   {
    "duration": 130,
    "start_time": "2021-12-22T10:50:00.240Z"
   },
   {
    "duration": 21,
    "start_time": "2021-12-22T10:50:00.372Z"
   },
   {
    "duration": 132,
    "start_time": "2021-12-22T10:57:35.112Z"
   },
   {
    "duration": 32,
    "start_time": "2021-12-22T10:57:36.927Z"
   },
   {
    "duration": 34,
    "start_time": "2021-12-22T11:52:35.466Z"
   },
   {
    "duration": 23,
    "start_time": "2021-12-22T11:52:42.384Z"
   },
   {
    "duration": 22,
    "start_time": "2021-12-22T12:13:51.403Z"
   },
   {
    "duration": 92,
    "start_time": "2021-12-22T12:40:39.240Z"
   },
   {
    "duration": 14,
    "start_time": "2021-12-22T12:40:39.335Z"
   },
   {
    "duration": 17,
    "start_time": "2021-12-22T12:40:39.353Z"
   },
   {
    "duration": 56,
    "start_time": "2021-12-22T12:40:39.373Z"
   },
   {
    "duration": 6,
    "start_time": "2021-12-22T12:40:39.432Z"
   },
   {
    "duration": 62,
    "start_time": "2021-12-22T12:40:39.440Z"
   },
   {
    "duration": 23,
    "start_time": "2021-12-22T12:40:39.505Z"
   },
   {
    "duration": 37,
    "start_time": "2021-12-22T12:40:39.532Z"
   },
   {
    "duration": 117,
    "start_time": "2021-12-22T12:40:39.571Z"
   },
   {
    "duration": 33,
    "start_time": "2021-12-22T12:40:39.691Z"
   },
   {
    "duration": 725,
    "start_time": "2021-12-22T12:40:39.727Z"
   },
   {
    "duration": 68,
    "start_time": "2021-12-22T12:40:40.455Z"
   },
   {
    "duration": 3782,
    "start_time": "2021-12-22T13:17:10.097Z"
   },
   {
    "duration": 66,
    "start_time": "2021-12-22T13:17:27.896Z"
   },
   {
    "duration": 88,
    "start_time": "2021-12-22T13:17:52.674Z"
   },
   {
    "duration": 15,
    "start_time": "2021-12-22T13:17:52.765Z"
   },
   {
    "duration": 33,
    "start_time": "2021-12-22T13:17:52.784Z"
   },
   {
    "duration": 47,
    "start_time": "2021-12-22T13:17:52.823Z"
   },
   {
    "duration": 12,
    "start_time": "2021-12-22T13:17:52.873Z"
   },
   {
    "duration": 58,
    "start_time": "2021-12-22T13:17:52.887Z"
   },
   {
    "duration": 38,
    "start_time": "2021-12-22T13:17:52.948Z"
   },
   {
    "duration": 53,
    "start_time": "2021-12-22T13:17:52.989Z"
   },
   {
    "duration": 179,
    "start_time": "2021-12-22T13:17:53.045Z"
   },
   {
    "duration": 35,
    "start_time": "2021-12-22T13:17:53.227Z"
   },
   {
    "duration": 4697,
    "start_time": "2021-12-22T13:17:53.265Z"
   },
   {
    "duration": 83,
    "start_time": "2021-12-22T13:17:57.965Z"
   },
   {
    "duration": 26,
    "start_time": "2021-12-22T13:18:18.741Z"
   },
   {
    "duration": 48,
    "start_time": "2021-12-22T13:22:56.189Z"
   },
   {
    "duration": 45,
    "start_time": "2021-12-22T13:28:30.761Z"
   },
   {
    "duration": 79,
    "start_time": "2021-12-22T13:52:19.635Z"
   },
   {
    "duration": 20,
    "start_time": "2021-12-22T13:52:19.717Z"
   },
   {
    "duration": 27,
    "start_time": "2021-12-22T13:52:19.741Z"
   },
   {
    "duration": 36,
    "start_time": "2021-12-22T13:52:19.771Z"
   },
   {
    "duration": 15,
    "start_time": "2021-12-22T13:52:19.810Z"
   },
   {
    "duration": 32,
    "start_time": "2021-12-22T13:52:19.828Z"
   },
   {
    "duration": 20,
    "start_time": "2021-12-22T13:52:19.863Z"
   },
   {
    "duration": 47,
    "start_time": "2021-12-22T13:52:19.886Z"
   },
   {
    "duration": 126,
    "start_time": "2021-12-22T13:52:19.936Z"
   },
   {
    "duration": 22,
    "start_time": "2021-12-22T13:52:20.065Z"
   },
   {
    "duration": 66,
    "start_time": "2021-12-22T13:52:20.090Z"
   },
   {
    "duration": 48,
    "start_time": "2021-12-22T13:52:20.159Z"
   },
   {
    "duration": 478,
    "start_time": "2021-12-22T14:34:00.145Z"
   },
   {
    "duration": 11,
    "start_time": "2021-12-22T14:34:06.305Z"
   },
   {
    "duration": 360,
    "start_time": "2021-12-22T14:42:08.733Z"
   },
   {
    "duration": 86,
    "start_time": "2021-12-22T14:42:25.093Z"
   },
   {
    "duration": 339,
    "start_time": "2021-12-22T14:42:33.675Z"
   },
   {
    "duration": 81,
    "start_time": "2021-12-22T14:42:36.947Z"
   },
   {
    "duration": 14,
    "start_time": "2021-12-22T14:42:37.031Z"
   },
   {
    "duration": 11,
    "start_time": "2021-12-22T14:42:37.048Z"
   },
   {
    "duration": 25,
    "start_time": "2021-12-22T14:42:37.062Z"
   },
   {
    "duration": 40,
    "start_time": "2021-12-22T14:42:37.089Z"
   },
   {
    "duration": 26,
    "start_time": "2021-12-22T14:42:37.132Z"
   },
   {
    "duration": 7,
    "start_time": "2021-12-22T14:42:37.160Z"
   },
   {
    "duration": 58,
    "start_time": "2021-12-22T14:42:37.171Z"
   },
   {
    "duration": 118,
    "start_time": "2021-12-22T14:42:37.232Z"
   },
   {
    "duration": 23,
    "start_time": "2021-12-22T14:42:37.353Z"
   },
   {
    "duration": 51,
    "start_time": "2021-12-22T14:42:37.379Z"
   },
   {
    "duration": 44,
    "start_time": "2021-12-22T14:42:37.432Z"
   },
   {
    "duration": 11,
    "start_time": "2021-12-22T14:42:37.478Z"
   },
   {
    "duration": 3315,
    "start_time": "2021-12-22T14:42:37.491Z"
   },
   {
    "duration": 24,
    "start_time": "2021-12-22T14:42:40.808Z"
   },
   {
    "duration": 17,
    "start_time": "2021-12-22T14:42:56.602Z"
   },
   {
    "duration": 18,
    "start_time": "2021-12-22T14:55:29.880Z"
   },
   {
    "duration": 5884,
    "start_time": "2021-12-22T15:09:57.569Z"
   },
   {
    "duration": 87,
    "start_time": "2021-12-22T15:28:22.934Z"
   },
   {
    "duration": 16,
    "start_time": "2021-12-22T15:28:23.024Z"
   },
   {
    "duration": 12,
    "start_time": "2021-12-22T15:28:23.044Z"
   },
   {
    "duration": 73,
    "start_time": "2021-12-22T15:28:23.059Z"
   },
   {
    "duration": 9,
    "start_time": "2021-12-22T15:28:23.135Z"
   },
   {
    "duration": 36,
    "start_time": "2021-12-22T15:28:23.146Z"
   },
   {
    "duration": 38,
    "start_time": "2021-12-22T15:28:23.185Z"
   },
   {
    "duration": 25,
    "start_time": "2021-12-22T15:28:23.227Z"
   },
   {
    "duration": 126,
    "start_time": "2021-12-22T15:28:23.256Z"
   },
   {
    "duration": 24,
    "start_time": "2021-12-22T15:28:23.384Z"
   },
   {
    "duration": 31,
    "start_time": "2021-12-22T15:28:23.423Z"
   },
   {
    "duration": 67,
    "start_time": "2021-12-22T15:28:23.456Z"
   },
   {
    "duration": 11,
    "start_time": "2021-12-22T15:28:23.526Z"
   },
   {
    "duration": 3454,
    "start_time": "2021-12-22T15:28:23.540Z"
   },
   {
    "duration": 29,
    "start_time": "2021-12-22T15:28:26.997Z"
   },
   {
    "duration": 5336,
    "start_time": "2021-12-22T15:28:27.029Z"
   },
   {
    "duration": 49,
    "start_time": "2021-12-22T15:29:02.164Z"
   },
   {
    "duration": 33,
    "start_time": "2021-12-22T15:32:34.080Z"
   },
   {
    "duration": 14,
    "start_time": "2021-12-22T16:05:44.624Z"
   },
   {
    "duration": 375,
    "start_time": "2021-12-22T17:00:34.653Z"
   },
   {
    "duration": 40,
    "start_time": "2021-12-22T17:01:11.952Z"
   },
   {
    "duration": 35,
    "start_time": "2021-12-22T17:01:21.448Z"
   },
   {
    "duration": 34,
    "start_time": "2021-12-22T17:32:06.655Z"
   },
   {
    "duration": 138,
    "start_time": "2021-12-22T17:32:27.300Z"
   },
   {
    "duration": 14,
    "start_time": "2021-12-22T17:32:27.440Z"
   },
   {
    "duration": 10,
    "start_time": "2021-12-22T17:32:27.457Z"
   },
   {
    "duration": 54,
    "start_time": "2021-12-22T17:32:27.470Z"
   },
   {
    "duration": 7,
    "start_time": "2021-12-22T17:32:27.527Z"
   },
   {
    "duration": 27,
    "start_time": "2021-12-22T17:32:27.536Z"
   },
   {
    "duration": 7,
    "start_time": "2021-12-22T17:32:27.565Z"
   },
   {
    "duration": 58,
    "start_time": "2021-12-22T17:32:27.577Z"
   },
   {
    "duration": 124,
    "start_time": "2021-12-22T17:32:27.639Z"
   },
   {
    "duration": 25,
    "start_time": "2021-12-22T17:32:27.766Z"
   },
   {
    "duration": 59,
    "start_time": "2021-12-22T17:32:27.793Z"
   },
   {
    "duration": 48,
    "start_time": "2021-12-22T17:32:27.855Z"
   },
   {
    "duration": 29,
    "start_time": "2021-12-22T17:32:27.905Z"
   },
   {
    "duration": 3298,
    "start_time": "2021-12-22T17:32:27.936Z"
   },
   {
    "duration": 20,
    "start_time": "2021-12-22T17:32:31.237Z"
   },
   {
    "duration": 130,
    "start_time": "2021-12-22T17:32:31.259Z"
   },
   {
    "duration": 911,
    "start_time": "2021-12-22T17:32:30.480Z"
   },
   {
    "duration": 908,
    "start_time": "2021-12-22T17:32:30.484Z"
   },
   {
    "duration": 908,
    "start_time": "2021-12-22T17:32:30.486Z"
   },
   {
    "duration": 905,
    "start_time": "2021-12-22T17:32:30.490Z"
   },
   {
    "duration": 900,
    "start_time": "2021-12-22T17:32:30.497Z"
   },
   {
    "duration": 897,
    "start_time": "2021-12-22T17:32:30.501Z"
   },
   {
    "duration": 145,
    "start_time": "2021-12-22T17:33:18.728Z"
   },
   {
    "duration": 15,
    "start_time": "2021-12-22T17:33:18.877Z"
   },
   {
    "duration": 32,
    "start_time": "2021-12-22T17:33:18.895Z"
   },
   {
    "duration": 21,
    "start_time": "2021-12-22T17:33:18.929Z"
   },
   {
    "duration": 6,
    "start_time": "2021-12-22T17:33:18.952Z"
   },
   {
    "duration": 31,
    "start_time": "2021-12-22T17:33:18.960Z"
   },
   {
    "duration": 35,
    "start_time": "2021-12-22T17:33:18.993Z"
   },
   {
    "duration": 23,
    "start_time": "2021-12-22T17:33:19.032Z"
   },
   {
    "duration": 127,
    "start_time": "2021-12-22T17:33:19.058Z"
   },
   {
    "duration": 38,
    "start_time": "2021-12-22T17:33:19.188Z"
   },
   {
    "duration": 30,
    "start_time": "2021-12-22T17:33:19.228Z"
   },
   {
    "duration": 68,
    "start_time": "2021-12-22T17:33:19.261Z"
   },
   {
    "duration": 11,
    "start_time": "2021-12-22T17:33:19.331Z"
   },
   {
    "duration": 3196,
    "start_time": "2021-12-22T17:33:19.345Z"
   },
   {
    "duration": 20,
    "start_time": "2021-12-22T17:33:22.544Z"
   },
   {
    "duration": 5317,
    "start_time": "2021-12-22T17:33:22.566Z"
   },
   {
    "duration": 51,
    "start_time": "2021-12-22T17:33:27.886Z"
   },
   {
    "duration": 12,
    "start_time": "2021-12-22T17:33:27.940Z"
   },
   {
    "duration": 418,
    "start_time": "2021-12-22T17:33:27.954Z"
   },
   {
    "duration": 7496,
    "start_time": "2021-12-22T17:33:28.374Z"
   },
   {
    "duration": 878,
    "start_time": "2021-12-22T17:33:34.995Z"
   },
   {
    "duration": 876,
    "start_time": "2021-12-22T17:33:34.998Z"
   },
   {
    "duration": 38,
    "start_time": "2021-12-22T17:33:53.107Z"
   },
   {
    "duration": 124,
    "start_time": "2021-12-22T17:34:00.735Z"
   },
   {
    "duration": 14,
    "start_time": "2021-12-22T17:34:00.862Z"
   },
   {
    "duration": 13,
    "start_time": "2021-12-22T17:34:00.879Z"
   },
   {
    "duration": 48,
    "start_time": "2021-12-22T17:34:00.895Z"
   },
   {
    "duration": 7,
    "start_time": "2021-12-22T17:34:00.945Z"
   },
   {
    "duration": 31,
    "start_time": "2021-12-22T17:34:00.955Z"
   },
   {
    "duration": 38,
    "start_time": "2021-12-22T17:34:00.988Z"
   },
   {
    "duration": 25,
    "start_time": "2021-12-22T17:34:01.030Z"
   },
   {
    "duration": 131,
    "start_time": "2021-12-22T17:34:01.058Z"
   },
   {
    "duration": 35,
    "start_time": "2021-12-22T17:34:01.191Z"
   },
   {
    "duration": 34,
    "start_time": "2021-12-22T17:34:01.228Z"
   },
   {
    "duration": 75,
    "start_time": "2021-12-22T17:34:01.265Z"
   },
   {
    "duration": 20,
    "start_time": "2021-12-22T17:34:01.343Z"
   },
   {
    "duration": 3526,
    "start_time": "2021-12-22T17:34:01.366Z"
   },
   {
    "duration": 29,
    "start_time": "2021-12-22T17:34:04.894Z"
   },
   {
    "duration": 5527,
    "start_time": "2021-12-22T17:34:04.925Z"
   },
   {
    "duration": 38,
    "start_time": "2021-12-22T17:34:10.455Z"
   },
   {
    "duration": 32,
    "start_time": "2021-12-22T17:34:10.496Z"
   },
   {
    "duration": 398,
    "start_time": "2021-12-22T17:34:10.531Z"
   },
   {
    "duration": 42,
    "start_time": "2021-12-22T17:34:10.931Z"
   },
   {
    "duration": 396,
    "start_time": "2021-12-22T17:34:10.975Z"
   },
   {
    "duration": 52,
    "start_time": "2021-12-22T17:34:11.373Z"
   },
   {
    "duration": 390,
    "start_time": "2021-12-22T17:42:12.252Z"
   },
   {
    "duration": 39,
    "start_time": "2021-12-22T17:42:17.531Z"
   },
   {
    "duration": 378,
    "start_time": "2021-12-22T17:46:08.444Z"
   },
   {
    "duration": 44,
    "start_time": "2021-12-22T17:46:10.848Z"
   },
   {
    "duration": 42,
    "start_time": "2021-12-22T17:46:23.578Z"
   },
   {
    "duration": 137,
    "start_time": "2021-12-22T17:47:14.527Z"
   },
   {
    "duration": 16,
    "start_time": "2021-12-22T17:47:14.667Z"
   },
   {
    "duration": 36,
    "start_time": "2021-12-22T17:47:14.687Z"
   },
   {
    "duration": 23,
    "start_time": "2021-12-22T17:47:14.726Z"
   },
   {
    "duration": 6,
    "start_time": "2021-12-22T17:47:14.752Z"
   },
   {
    "duration": 25,
    "start_time": "2021-12-22T17:47:14.760Z"
   },
   {
    "duration": 7,
    "start_time": "2021-12-22T17:47:14.824Z"
   },
   {
    "duration": 19,
    "start_time": "2021-12-22T17:47:14.834Z"
   },
   {
    "duration": 129,
    "start_time": "2021-12-22T17:47:14.856Z"
   },
   {
    "duration": 38,
    "start_time": "2021-12-22T17:47:14.988Z"
   },
   {
    "duration": 34,
    "start_time": "2021-12-22T17:47:15.028Z"
   },
   {
    "duration": 75,
    "start_time": "2021-12-22T17:47:15.065Z"
   },
   {
    "duration": 12,
    "start_time": "2021-12-22T17:47:15.143Z"
   },
   {
    "duration": 3143,
    "start_time": "2021-12-22T17:47:15.158Z"
   },
   {
    "duration": 24,
    "start_time": "2021-12-22T17:47:18.303Z"
   },
   {
    "duration": 5205,
    "start_time": "2021-12-22T17:47:18.330Z"
   },
   {
    "duration": 35,
    "start_time": "2021-12-22T17:47:23.538Z"
   },
   {
    "duration": 13,
    "start_time": "2021-12-22T17:47:23.575Z"
   },
   {
    "duration": 405,
    "start_time": "2021-12-22T17:47:23.590Z"
   },
   {
    "duration": 53,
    "start_time": "2021-12-22T17:47:23.997Z"
   },
   {
    "duration": 479,
    "start_time": "2021-12-22T17:47:24.053Z"
   },
   {
    "duration": 98,
    "start_time": "2021-12-22T17:47:24.535Z"
   },
   {
    "duration": 881,
    "start_time": "2021-12-22T17:47:23.755Z"
   },
   {
    "duration": 868,
    "start_time": "2021-12-22T17:47:23.769Z"
   },
   {
    "duration": 860,
    "start_time": "2021-12-22T17:47:23.779Z"
   },
   {
    "duration": 856,
    "start_time": "2021-12-22T17:47:23.784Z"
   },
   {
    "duration": 149,
    "start_time": "2021-12-22T17:47:39.721Z"
   },
   {
    "duration": 15,
    "start_time": "2021-12-22T17:47:39.873Z"
   },
   {
    "duration": 31,
    "start_time": "2021-12-22T17:47:39.892Z"
   },
   {
    "duration": 23,
    "start_time": "2021-12-22T17:47:39.925Z"
   },
   {
    "duration": 6,
    "start_time": "2021-12-22T17:47:39.951Z"
   },
   {
    "duration": 68,
    "start_time": "2021-12-22T17:47:39.960Z"
   },
   {
    "duration": 7,
    "start_time": "2021-12-22T17:47:40.030Z"
   },
   {
    "duration": 33,
    "start_time": "2021-12-22T17:47:40.041Z"
   },
   {
    "duration": 126,
    "start_time": "2021-12-22T17:47:40.078Z"
   },
   {
    "duration": 30,
    "start_time": "2021-12-22T17:47:40.206Z"
   },
   {
    "duration": 35,
    "start_time": "2021-12-22T17:47:40.239Z"
   },
   {
    "duration": 81,
    "start_time": "2021-12-22T17:47:40.277Z"
   },
   {
    "duration": 11,
    "start_time": "2021-12-22T17:47:40.360Z"
   },
   {
    "duration": 3265,
    "start_time": "2021-12-22T17:47:40.373Z"
   },
   {
    "duration": 19,
    "start_time": "2021-12-22T17:47:43.641Z"
   },
   {
    "duration": 5283,
    "start_time": "2021-12-22T17:47:43.664Z"
   },
   {
    "duration": 35,
    "start_time": "2021-12-22T17:47:48.949Z"
   },
   {
    "duration": 37,
    "start_time": "2021-12-22T17:47:48.986Z"
   },
   {
    "duration": 376,
    "start_time": "2021-12-22T17:47:49.026Z"
   },
   {
    "duration": 51,
    "start_time": "2021-12-22T17:47:49.404Z"
   },
   {
    "duration": 393,
    "start_time": "2021-12-22T17:47:49.457Z"
   },
   {
    "duration": 39,
    "start_time": "2021-12-22T17:47:49.852Z"
   },
   {
    "duration": 401,
    "start_time": "2021-12-22T17:47:49.897Z"
   },
   {
    "duration": 57,
    "start_time": "2021-12-22T17:47:50.301Z"
   },
   {
    "duration": 348,
    "start_time": "2021-12-22T17:47:50.361Z"
   },
   {
    "duration": 366,
    "start_time": "2021-12-22T17:49:39.691Z"
   },
   {
    "duration": 384,
    "start_time": "2021-12-22T17:50:04.380Z"
   },
   {
    "duration": 37,
    "start_time": "2021-12-22T17:50:04.767Z"
   },
   {
    "duration": 387,
    "start_time": "2021-12-22T17:50:04.825Z"
   },
   {
    "duration": 43,
    "start_time": "2021-12-22T17:50:05.215Z"
   },
   {
    "duration": 314,
    "start_time": "2021-12-22T17:50:05.260Z"
   },
   {
    "duration": 367,
    "start_time": "2021-12-22T17:59:29.457Z"
   },
   {
    "duration": 407,
    "start_time": "2021-12-22T18:00:27.758Z"
   },
   {
    "duration": 15,
    "start_time": "2021-12-22T18:06:56.311Z"
   },
   {
    "duration": 20,
    "start_time": "2021-12-22T18:25:20.303Z"
   },
   {
    "duration": 24,
    "start_time": "2021-12-22T18:25:44.007Z"
   },
   {
    "duration": 33,
    "start_time": "2021-12-22T18:28:16.375Z"
   },
   {
    "duration": 36,
    "start_time": "2021-12-22T18:34:57.407Z"
   },
   {
    "duration": 32,
    "start_time": "2021-12-22T18:35:08.519Z"
   },
   {
    "duration": 104,
    "start_time": "2021-12-22T18:36:07.444Z"
   },
   {
    "duration": 61,
    "start_time": "2021-12-22T18:36:23.139Z"
   },
   {
    "duration": 34,
    "start_time": "2021-12-22T18:36:56.329Z"
   },
   {
    "duration": 3882,
    "start_time": "2021-12-22T18:38:48.754Z"
   },
   {
    "duration": 3970,
    "start_time": "2021-12-22T18:39:15.504Z"
   },
   {
    "duration": 4973,
    "start_time": "2021-12-22T18:39:39.504Z"
   },
   {
    "duration": 15,
    "start_time": "2021-12-22T18:39:53.798Z"
   },
   {
    "duration": 13,
    "start_time": "2021-12-22T18:41:03.219Z"
   },
   {
    "duration": 33,
    "start_time": "2021-12-22T19:12:07.550Z"
   },
   {
    "duration": 33,
    "start_time": "2021-12-22T19:12:28.903Z"
   },
   {
    "duration": 40,
    "start_time": "2021-12-22T19:13:01.085Z"
   },
   {
    "duration": 47,
    "start_time": "2021-12-22T19:13:14.043Z"
   },
   {
    "duration": 12,
    "start_time": "2021-12-22T19:14:18.405Z"
   },
   {
    "duration": 15,
    "start_time": "2021-12-22T19:14:38.998Z"
   },
   {
    "duration": 15,
    "start_time": "2021-12-22T19:15:11.756Z"
   },
   {
    "duration": 13,
    "start_time": "2021-12-22T19:23:28.865Z"
   },
   {
    "duration": 11,
    "start_time": "2021-12-22T19:23:59.463Z"
   },
   {
    "duration": 373,
    "start_time": "2021-12-22T19:24:21.975Z"
   },
   {
    "duration": 12,
    "start_time": "2021-12-22T19:24:35.148Z"
   },
   {
    "duration": 13,
    "start_time": "2021-12-22T19:26:16.575Z"
   },
   {
    "duration": 13,
    "start_time": "2021-12-22T19:26:19.607Z"
   },
   {
    "duration": 11,
    "start_time": "2021-12-22T19:26:47.262Z"
   },
   {
    "duration": 325,
    "start_time": "2021-12-22T19:27:51.344Z"
   },
   {
    "duration": 12,
    "start_time": "2021-12-22T19:28:06.769Z"
   },
   {
    "duration": 13,
    "start_time": "2021-12-22T19:28:38.886Z"
   },
   {
    "duration": 13,
    "start_time": "2021-12-22T19:28:59.729Z"
   },
   {
    "duration": 321,
    "start_time": "2021-12-22T19:29:37.675Z"
   },
   {
    "duration": 351,
    "start_time": "2021-12-22T19:29:45.266Z"
   },
   {
    "duration": 12,
    "start_time": "2021-12-22T19:30:53.038Z"
   },
   {
    "duration": 13,
    "start_time": "2021-12-22T19:31:04.405Z"
   },
   {
    "duration": 11,
    "start_time": "2021-12-22T19:31:40.556Z"
   },
   {
    "duration": 402,
    "start_time": "2021-12-22T19:31:46.179Z"
   },
   {
    "duration": 10,
    "start_time": "2021-12-22T19:31:56.747Z"
   },
   {
    "duration": 6,
    "start_time": "2021-12-22T19:39:51.912Z"
   },
   {
    "duration": 5,
    "start_time": "2021-12-22T19:40:04.767Z"
   },
   {
    "duration": 394,
    "start_time": "2021-12-22T19:52:36.189Z"
   },
   {
    "duration": 364,
    "start_time": "2021-12-22T19:52:54.692Z"
   },
   {
    "duration": 22,
    "start_time": "2021-12-22T19:53:09.523Z"
   },
   {
    "duration": 16,
    "start_time": "2021-12-22T19:53:26.500Z"
   },
   {
    "duration": 32,
    "start_time": "2021-12-22T19:54:51.357Z"
   },
   {
    "duration": 381,
    "start_time": "2021-12-22T20:07:39.872Z"
   },
   {
    "duration": 1259,
    "start_time": "2021-12-22T20:07:40.256Z"
   },
   {
    "duration": 1598,
    "start_time": "2021-12-22T20:07:41.518Z"
   },
   {
    "duration": 1307,
    "start_time": "2021-12-22T20:07:43.118Z"
   },
   {
    "duration": 29,
    "start_time": "2021-12-22T20:08:12.686Z"
   },
   {
    "duration": 27,
    "start_time": "2021-12-22T20:08:36.668Z"
   },
   {
    "duration": 29,
    "start_time": "2021-12-22T20:09:13.907Z"
   },
   {
    "duration": 39,
    "start_time": "2021-12-22T20:09:51.871Z"
   },
   {
    "duration": 26,
    "start_time": "2021-12-22T20:17:56.894Z"
   },
   {
    "duration": 27,
    "start_time": "2021-12-22T20:18:02.980Z"
   },
   {
    "duration": 34,
    "start_time": "2021-12-22T20:18:07.155Z"
   },
   {
    "duration": 29,
    "start_time": "2021-12-22T20:18:11.597Z"
   },
   {
    "duration": 7,
    "start_time": "2021-12-22T20:29:02.288Z"
   },
   {
    "duration": 30,
    "start_time": "2021-12-22T20:29:04.622Z"
   },
   {
    "duration": 41,
    "start_time": "2021-12-22T20:33:41.463Z"
   },
   {
    "duration": 38,
    "start_time": "2021-12-22T21:21:27.883Z"
   },
   {
    "duration": 28,
    "start_time": "2021-12-22T21:21:54.675Z"
   },
   {
    "duration": 30,
    "start_time": "2021-12-22T21:22:07.658Z"
   },
   {
    "duration": 327,
    "start_time": "2021-12-22T21:22:43.032Z"
   },
   {
    "duration": 8837,
    "start_time": "2021-12-22T21:22:50.943Z"
   },
   {
    "duration": 29,
    "start_time": "2021-12-22T21:23:46.236Z"
   },
   {
    "duration": 33,
    "start_time": "2021-12-22T21:24:15.771Z"
   },
   {
    "duration": 10514,
    "start_time": "2021-12-22T21:25:59.948Z"
   },
   {
    "duration": 8119,
    "start_time": "2021-12-22T21:26:49.866Z"
   },
   {
    "duration": 27,
    "start_time": "2021-12-22T21:27:15.881Z"
   },
   {
    "duration": 74,
    "start_time": "2021-12-22T21:27:20.868Z"
   },
   {
    "duration": 1164,
    "start_time": "2021-12-22T21:27:20.945Z"
   },
   {
    "duration": 914,
    "start_time": "2021-12-22T21:27:22.114Z"
   },
   {
    "duration": 591,
    "start_time": "2021-12-22T21:27:23.032Z"
   },
   {
    "duration": 455,
    "start_time": "2021-12-22T21:27:23.626Z"
   },
   {
    "duration": 651,
    "start_time": "2021-12-22T21:27:24.085Z"
   },
   {
    "duration": 716,
    "start_time": "2021-12-22T21:27:24.739Z"
   },
   {
    "duration": 632,
    "start_time": "2021-12-22T21:27:25.459Z"
   },
   {
    "duration": 1222,
    "start_time": "2021-12-22T21:27:26.095Z"
   },
   {
    "duration": 451,
    "start_time": "2021-12-22T21:27:27.319Z"
   },
   {
    "duration": 657,
    "start_time": "2021-12-22T21:27:27.773Z"
   },
   {
    "duration": 697,
    "start_time": "2021-12-22T21:27:28.432Z"
   },
   {
    "duration": 569,
    "start_time": "2021-12-22T21:27:29.132Z"
   },
   {
    "duration": 3962,
    "start_time": "2021-12-22T21:27:29.704Z"
   },
   {
    "duration": 23,
    "start_time": "2021-12-22T21:27:33.669Z"
   },
   {
    "duration": 6188,
    "start_time": "2021-12-22T21:27:33.695Z"
   },
   {
    "duration": 55,
    "start_time": "2021-12-22T21:27:39.886Z"
   },
   {
    "duration": 421,
    "start_time": "2021-12-22T21:27:39.945Z"
   },
   {
    "duration": 827,
    "start_time": "2021-12-22T21:27:40.368Z"
   },
   {
    "duration": 70,
    "start_time": "2021-12-22T21:27:41.198Z"
   },
   {
    "duration": 713,
    "start_time": "2021-12-22T21:27:41.271Z"
   },
   {
    "duration": 48,
    "start_time": "2021-12-22T21:27:41.986Z"
   },
   {
    "duration": 597,
    "start_time": "2021-12-22T21:27:42.038Z"
   },
   {
    "duration": 41,
    "start_time": "2021-12-22T21:27:42.638Z"
   },
   {
    "duration": 580,
    "start_time": "2021-12-22T21:27:42.682Z"
   },
   {
    "duration": 34,
    "start_time": "2021-12-22T21:27:43.264Z"
   },
   {
    "duration": 343,
    "start_time": "2021-12-22T21:27:43.301Z"
   },
   {
    "duration": 330,
    "start_time": "2021-12-22T21:27:43.647Z"
   },
   {
    "duration": 302,
    "start_time": "2021-12-22T21:27:43.980Z"
   },
   {
    "duration": 341,
    "start_time": "2021-12-22T21:48:55.069Z"
   },
   {
    "duration": 379,
    "start_time": "2021-12-22T21:49:07.885Z"
   },
   {
    "duration": 30,
    "start_time": "2021-12-22T21:49:40.300Z"
   },
   {
    "duration": 104,
    "start_time": "2021-12-22T22:44:23.169Z"
   },
   {
    "duration": 32,
    "start_time": "2021-12-22T22:44:30.474Z"
   },
   {
    "duration": 345,
    "start_time": "2021-12-22T22:45:02.277Z"
   },
   {
    "duration": 30,
    "start_time": "2021-12-22T22:45:11.324Z"
   },
   {
    "duration": 41,
    "start_time": "2021-12-22T22:46:01.066Z"
   },
   {
    "duration": 32,
    "start_time": "2021-12-22T22:47:54.107Z"
   },
   {
    "duration": 40,
    "start_time": "2021-12-22T22:48:20.985Z"
   },
   {
    "duration": 34,
    "start_time": "2021-12-22T22:50:45.136Z"
   },
   {
    "duration": 35,
    "start_time": "2021-12-22T22:56:38.344Z"
   },
   {
    "duration": 34,
    "start_time": "2021-12-22T22:56:49.284Z"
   },
   {
    "duration": 37,
    "start_time": "2021-12-22T22:57:03.708Z"
   },
   {
    "duration": 46,
    "start_time": "2021-12-22T22:57:08.580Z"
   },
   {
    "duration": 384,
    "start_time": "2021-12-23T10:14:22.173Z"
   },
   {
    "duration": 823,
    "start_time": "2021-12-23T10:14:36.269Z"
   },
   {
    "duration": 14,
    "start_time": "2021-12-23T10:14:37.095Z"
   },
   {
    "duration": 11,
    "start_time": "2021-12-23T10:14:37.117Z"
   },
   {
    "duration": 23,
    "start_time": "2021-12-23T10:14:37.130Z"
   },
   {
    "duration": 6,
    "start_time": "2021-12-23T10:14:37.156Z"
   },
   {
    "duration": 62,
    "start_time": "2021-12-23T10:14:37.164Z"
   },
   {
    "duration": 6,
    "start_time": "2021-12-23T10:14:37.228Z"
   },
   {
    "duration": 27,
    "start_time": "2021-12-23T10:14:37.236Z"
   },
   {
    "duration": 135,
    "start_time": "2021-12-23T10:14:37.267Z"
   },
   {
    "duration": 26,
    "start_time": "2021-12-23T10:14:37.405Z"
   },
   {
    "duration": 33,
    "start_time": "2021-12-23T10:14:37.433Z"
   },
   {
    "duration": 72,
    "start_time": "2021-12-23T10:14:37.468Z"
   },
   {
    "duration": 12,
    "start_time": "2021-12-23T10:14:37.542Z"
   },
   {
    "duration": 3152,
    "start_time": "2021-12-23T10:14:37.557Z"
   },
   {
    "duration": 19,
    "start_time": "2021-12-23T10:14:40.712Z"
   },
   {
    "duration": 4717,
    "start_time": "2021-12-23T10:14:40.733Z"
   },
   {
    "duration": 34,
    "start_time": "2021-12-23T10:14:45.452Z"
   },
   {
    "duration": 32,
    "start_time": "2021-12-23T10:14:45.488Z"
   },
   {
    "duration": 382,
    "start_time": "2021-12-23T10:14:45.523Z"
   },
   {
    "duration": 43,
    "start_time": "2021-12-23T10:14:45.907Z"
   },
   {
    "duration": 382,
    "start_time": "2021-12-23T10:14:45.953Z"
   },
   {
    "duration": 39,
    "start_time": "2021-12-23T10:14:46.337Z"
   },
   {
    "duration": 409,
    "start_time": "2021-12-23T10:14:46.378Z"
   },
   {
    "duration": 51,
    "start_time": "2021-12-23T10:14:46.789Z"
   },
   {
    "duration": 389,
    "start_time": "2021-12-23T10:14:46.843Z"
   },
   {
    "duration": 34,
    "start_time": "2021-12-23T10:14:47.235Z"
   },
   {
    "duration": 45,
    "start_time": "2021-12-23T10:14:47.274Z"
   },
   {
    "duration": 29,
    "start_time": "2021-12-23T10:14:47.322Z"
   },
   {
    "duration": 28,
    "start_time": "2021-12-23T10:14:47.354Z"
   },
   {
    "duration": 851,
    "start_time": "2021-12-23T20:15:19.795Z"
   },
   {
    "duration": 26,
    "start_time": "2021-12-23T20:15:20.649Z"
   },
   {
    "duration": 11,
    "start_time": "2021-12-23T20:15:20.678Z"
   },
   {
    "duration": 36,
    "start_time": "2021-12-23T20:15:20.692Z"
   },
   {
    "duration": 38,
    "start_time": "2021-12-23T20:15:20.731Z"
   },
   {
    "duration": 34,
    "start_time": "2021-12-23T20:15:20.772Z"
   },
   {
    "duration": 7,
    "start_time": "2021-12-23T20:15:20.808Z"
   },
   {
    "duration": 48,
    "start_time": "2021-12-23T20:15:20.819Z"
   },
   {
    "duration": 132,
    "start_time": "2021-12-23T20:15:20.871Z"
   },
   {
    "duration": 24,
    "start_time": "2021-12-23T20:15:21.005Z"
   },
   {
    "duration": 64,
    "start_time": "2021-12-23T20:15:21.032Z"
   },
   {
    "duration": 52,
    "start_time": "2021-12-23T20:15:21.098Z"
   },
   {
    "duration": 16,
    "start_time": "2021-12-23T20:15:21.168Z"
   },
   {
    "duration": 3471,
    "start_time": "2021-12-23T20:15:21.187Z"
   },
   {
    "duration": 27,
    "start_time": "2021-12-23T20:15:24.661Z"
   },
   {
    "duration": 5451,
    "start_time": "2021-12-23T20:15:24.692Z"
   },
   {
    "duration": 68,
    "start_time": "2021-12-23T20:15:30.146Z"
   },
   {
    "duration": 17,
    "start_time": "2021-12-23T20:15:30.217Z"
   },
   {
    "duration": 445,
    "start_time": "2021-12-23T20:15:30.237Z"
   },
   {
    "duration": 40,
    "start_time": "2021-12-23T20:15:30.685Z"
   },
   {
    "duration": 421,
    "start_time": "2021-12-23T20:15:30.727Z"
   },
   {
    "duration": 50,
    "start_time": "2021-12-23T20:15:31.151Z"
   },
   {
    "duration": 431,
    "start_time": "2021-12-23T20:15:31.207Z"
   },
   {
    "duration": 55,
    "start_time": "2021-12-23T20:15:31.641Z"
   },
   {
    "duration": 425,
    "start_time": "2021-12-23T20:15:31.699Z"
   },
   {
    "duration": 55,
    "start_time": "2021-12-23T20:15:32.127Z"
   },
   {
    "duration": 30,
    "start_time": "2021-12-23T20:15:32.185Z"
   },
   {
    "duration": 61,
    "start_time": "2021-12-23T20:15:32.218Z"
   },
   {
    "duration": 32,
    "start_time": "2021-12-23T20:15:32.283Z"
   },
   {
    "duration": 558,
    "start_time": "2021-12-24T01:44:10.042Z"
   },
   {
    "duration": 42,
    "start_time": "2021-12-24T01:44:13.211Z"
   },
   {
    "duration": 47,
    "start_time": "2021-12-24T01:47:34.144Z"
   },
   {
    "duration": 44,
    "start_time": "2021-12-24T03:55:41.368Z"
   },
   {
    "duration": 63,
    "start_time": "2021-12-24T03:55:48.693Z"
   },
   {
    "duration": 44,
    "start_time": "2021-12-24T03:55:54.576Z"
   },
   {
    "duration": 48,
    "start_time": "2021-12-24T03:56:18.940Z"
   },
   {
    "duration": 51,
    "start_time": "2021-12-24T03:56:26.892Z"
   },
   {
    "duration": 253,
    "start_time": "2021-12-24T10:02:37.742Z"
   },
   {
    "duration": 564,
    "start_time": "2021-12-24T10:02:43.360Z"
   },
   {
    "duration": 66,
    "start_time": "2021-12-24T10:02:45.471Z"
   },
   {
    "duration": 70,
    "start_time": "2021-12-24T10:03:38.419Z"
   },
   {
    "duration": 272,
    "start_time": "2021-12-24T10:06:08.356Z"
   },
   {
    "duration": 14,
    "start_time": "2021-12-24T10:06:29.809Z"
   },
   {
    "duration": 200,
    "start_time": "2021-12-24T10:11:31.823Z"
   },
   {
    "duration": 5,
    "start_time": "2021-12-24T10:11:50.918Z"
   },
   {
    "duration": 6,
    "start_time": "2021-12-24T10:12:26.755Z"
   },
   {
    "duration": 265,
    "start_time": "2021-12-24T10:21:17.822Z"
   },
   {
    "duration": 6,
    "start_time": "2021-12-24T10:21:22.310Z"
   },
   {
    "duration": 569,
    "start_time": "2021-12-24T10:21:45.131Z"
   },
   {
    "duration": 96,
    "start_time": "2021-12-24T10:21:57.491Z"
   },
   {
    "duration": 7,
    "start_time": "2021-12-24T10:22:14.099Z"
   },
   {
    "duration": 228,
    "start_time": "2021-12-24T10:24:01.380Z"
   },
   {
    "duration": 8,
    "start_time": "2021-12-24T10:24:16.515Z"
   },
   {
    "duration": 10,
    "start_time": "2021-12-24T10:24:25.826Z"
   },
   {
    "duration": 12,
    "start_time": "2021-12-24T10:24:45.510Z"
   },
   {
    "duration": 15,
    "start_time": "2021-12-24T10:25:13.296Z"
   },
   {
    "duration": 10,
    "start_time": "2021-12-24T10:25:53.774Z"
   },
   {
    "duration": 12,
    "start_time": "2021-12-24T10:26:20.140Z"
   },
   {
    "duration": 9,
    "start_time": "2021-12-24T10:29:34.530Z"
   },
   {
    "duration": 23,
    "start_time": "2021-12-24T10:48:55.561Z"
   },
   {
    "duration": 24,
    "start_time": "2021-12-24T10:49:45.854Z"
   },
   {
    "duration": 29,
    "start_time": "2021-12-24T10:50:49.625Z"
   },
   {
    "duration": 24,
    "start_time": "2021-12-24T10:51:35.478Z"
   },
   {
    "duration": 33,
    "start_time": "2021-12-24T10:52:15.639Z"
   },
   {
    "duration": 42,
    "start_time": "2021-12-24T11:38:48.437Z"
   },
   {
    "duration": 42,
    "start_time": "2021-12-24T11:38:59.219Z"
   },
   {
    "duration": 40,
    "start_time": "2021-12-24T11:39:10.339Z"
   },
   {
    "duration": 38,
    "start_time": "2021-12-24T11:39:37.561Z"
   },
   {
    "duration": 38,
    "start_time": "2021-12-24T11:39:50.055Z"
   },
   {
    "duration": 52,
    "start_time": "2021-12-24T11:41:20.205Z"
   },
   {
    "duration": 81,
    "start_time": "2021-12-24T11:42:28.089Z"
   },
   {
    "duration": 48,
    "start_time": "2021-12-24T11:42:54.230Z"
   },
   {
    "duration": 250,
    "start_time": "2021-12-24T11:46:47.072Z"
   },
   {
    "duration": 13,
    "start_time": "2021-12-24T11:47:01.696Z"
   },
   {
    "duration": 12,
    "start_time": "2021-12-24T11:47:14.311Z"
   },
   {
    "duration": 18,
    "start_time": "2021-12-24T11:47:50.013Z"
   },
   {
    "duration": 313,
    "start_time": "2021-12-24T11:48:56.129Z"
   },
   {
    "duration": 20,
    "start_time": "2021-12-24T11:49:06.465Z"
   },
   {
    "duration": 20,
    "start_time": "2021-12-24T11:54:34.855Z"
   },
   {
    "duration": 3,
    "start_time": "2021-12-24T11:57:28.788Z"
   },
   {
    "duration": 69,
    "start_time": "2021-12-24T11:57:28.793Z"
   },
   {
    "duration": 47,
    "start_time": "2021-12-24T11:57:28.864Z"
   },
   {
    "duration": 8,
    "start_time": "2021-12-24T11:57:28.913Z"
   },
   {
    "duration": 39,
    "start_time": "2021-12-24T11:57:28.923Z"
   },
   {
    "duration": 8,
    "start_time": "2021-12-24T11:57:28.964Z"
   },
   {
    "duration": 8,
    "start_time": "2021-12-24T11:57:28.974Z"
   },
   {
    "duration": 14,
    "start_time": "2021-12-24T11:57:28.984Z"
   },
   {
    "duration": 46,
    "start_time": "2021-12-24T11:57:28.999Z"
   },
   {
    "duration": 45,
    "start_time": "2021-12-24T11:57:29.047Z"
   },
   {
    "duration": 16,
    "start_time": "2021-12-24T11:57:29.094Z"
   },
   {
    "duration": 4,
    "start_time": "2021-12-24T11:57:29.112Z"
   },
   {
    "duration": 44,
    "start_time": "2021-12-24T11:57:29.117Z"
   },
   {
    "duration": 85,
    "start_time": "2021-12-24T11:57:29.163Z"
   },
   {
    "duration": 17,
    "start_time": "2021-12-24T11:57:29.250Z"
   },
   {
    "duration": 20,
    "start_time": "2021-12-24T11:57:29.269Z"
   },
   {
    "duration": 30,
    "start_time": "2021-12-24T11:57:29.291Z"
   },
   {
    "duration": 32,
    "start_time": "2021-12-24T11:57:29.323Z"
   },
   {
    "duration": 2541,
    "start_time": "2021-12-24T11:57:29.357Z"
   },
   {
    "duration": 12,
    "start_time": "2021-12-24T11:57:31.901Z"
   },
   {
    "duration": 3784,
    "start_time": "2021-12-24T11:57:31.915Z"
   },
   {
    "duration": 26,
    "start_time": "2021-12-24T11:57:35.700Z"
   },
   {
    "duration": 22,
    "start_time": "2021-12-24T11:57:35.728Z"
   },
   {
    "duration": 247,
    "start_time": "2021-12-24T11:57:35.754Z"
   },
   {
    "duration": 24,
    "start_time": "2021-12-24T11:57:36.003Z"
   },
   {
    "duration": 246,
    "start_time": "2021-12-24T11:57:36.029Z"
   },
   {
    "duration": 26,
    "start_time": "2021-12-24T11:57:36.277Z"
   },
   {
    "duration": 248,
    "start_time": "2021-12-24T11:57:36.305Z"
   },
   {
    "duration": 30,
    "start_time": "2021-12-24T11:57:36.555Z"
   },
   {
    "duration": 243,
    "start_time": "2021-12-24T11:57:36.587Z"
   },
   {
    "duration": 30,
    "start_time": "2021-12-24T11:57:36.832Z"
   },
   {
    "duration": 16,
    "start_time": "2021-12-24T11:57:36.864Z"
   },
   {
    "duration": 18,
    "start_time": "2021-12-24T11:57:36.882Z"
   },
   {
    "duration": 48,
    "start_time": "2021-12-24T11:57:36.902Z"
   },
   {
    "duration": 10,
    "start_time": "2021-12-24T11:59:18.037Z"
   },
   {
    "duration": 28,
    "start_time": "2021-12-24T11:59:32.485Z"
   },
   {
    "duration": 229,
    "start_time": "2021-12-24T11:59:52.940Z"
   },
   {
    "duration": 18,
    "start_time": "2021-12-24T12:00:15.875Z"
   },
   {
    "duration": 21,
    "start_time": "2021-12-24T12:00:20.105Z"
   },
   {
    "duration": 26,
    "start_time": "2021-12-24T12:00:43.633Z"
   },
   {
    "duration": 6,
    "start_time": "2021-12-24T13:34:34.623Z"
   },
   {
    "duration": 24,
    "start_time": "2021-12-24T13:34:50.382Z"
   },
   {
    "duration": 218,
    "start_time": "2021-12-24T13:37:19.597Z"
   },
   {
    "duration": 27,
    "start_time": "2021-12-24T13:37:24.709Z"
   },
   {
    "duration": 24,
    "start_time": "2021-12-24T13:37:57.061Z"
   },
   {
    "duration": 30,
    "start_time": "2021-12-24T13:39:48.510Z"
   },
   {
    "duration": 35,
    "start_time": "2021-12-24T13:41:01.035Z"
   },
   {
    "duration": 30,
    "start_time": "2021-12-24T13:42:17.630Z"
   },
   {
    "duration": 258,
    "start_time": "2021-12-24T13:44:08.001Z"
   },
   {
    "duration": 7,
    "start_time": "2021-12-24T13:44:12.454Z"
   },
   {
    "duration": 24,
    "start_time": "2021-12-24T13:44:14.727Z"
   },
   {
    "duration": 30,
    "start_time": "2021-12-24T13:44:19.942Z"
   },
   {
    "duration": 26,
    "start_time": "2021-12-24T13:44:25.206Z"
   },
   {
    "duration": 26,
    "start_time": "2021-12-24T13:44:29.805Z"
   },
   {
    "duration": 29,
    "start_time": "2021-12-24T13:52:46.433Z"
   },
   {
    "duration": 28,
    "start_time": "2021-12-24T14:03:05.793Z"
   },
   {
    "duration": 72,
    "start_time": "2021-12-24T14:03:05.823Z"
   },
   {
    "duration": 71,
    "start_time": "2021-12-24T14:03:05.897Z"
   },
   {
    "duration": 8,
    "start_time": "2021-12-24T14:03:05.970Z"
   },
   {
    "duration": 28,
    "start_time": "2021-12-24T14:03:05.980Z"
   },
   {
    "duration": 22,
    "start_time": "2021-12-24T14:03:06.010Z"
   },
   {
    "duration": 53,
    "start_time": "2021-12-24T14:03:06.034Z"
   },
   {
    "duration": 22,
    "start_time": "2021-12-24T14:03:06.089Z"
   },
   {
    "duration": 72,
    "start_time": "2021-12-24T14:03:06.114Z"
   },
   {
    "duration": 54,
    "start_time": "2021-12-24T14:03:06.187Z"
   },
   {
    "duration": 22,
    "start_time": "2021-12-24T14:03:06.244Z"
   },
   {
    "duration": 27,
    "start_time": "2021-12-24T14:03:06.268Z"
   },
   {
    "duration": 31,
    "start_time": "2021-12-24T14:03:06.297Z"
   },
   {
    "duration": 92,
    "start_time": "2021-12-24T14:03:06.330Z"
   },
   {
    "duration": 23,
    "start_time": "2021-12-24T14:03:06.424Z"
   },
   {
    "duration": 34,
    "start_time": "2021-12-24T14:03:06.449Z"
   },
   {
    "duration": 38,
    "start_time": "2021-12-24T14:03:06.486Z"
   },
   {
    "duration": 17,
    "start_time": "2021-12-24T14:03:06.525Z"
   },
   {
    "duration": 2498,
    "start_time": "2021-12-24T14:03:06.547Z"
   },
   {
    "duration": 15,
    "start_time": "2021-12-24T14:03:09.049Z"
   },
   {
    "duration": 3575,
    "start_time": "2021-12-24T14:03:09.066Z"
   },
   {
    "duration": 34,
    "start_time": "2021-12-24T14:03:12.643Z"
   },
   {
    "duration": 9,
    "start_time": "2021-12-24T14:03:12.679Z"
   },
   {
    "duration": 243,
    "start_time": "2021-12-24T14:03:12.690Z"
   },
   {
    "duration": 38,
    "start_time": "2021-12-24T14:03:12.935Z"
   },
   {
    "duration": 243,
    "start_time": "2021-12-24T14:03:12.974Z"
   },
   {
    "duration": 41,
    "start_time": "2021-12-24T14:03:13.219Z"
   },
   {
    "duration": 235,
    "start_time": "2021-12-24T14:03:13.261Z"
   },
   {
    "duration": 10,
    "start_time": "2021-12-24T14:03:13.498Z"
   },
   {
    "duration": 48,
    "start_time": "2021-12-24T14:03:13.510Z"
   },
   {
    "duration": 27,
    "start_time": "2021-12-24T14:03:13.560Z"
   },
   {
    "duration": 24,
    "start_time": "2021-12-24T14:03:13.589Z"
   },
   {
    "duration": 40,
    "start_time": "2021-12-24T14:03:13.615Z"
   },
   {
    "duration": 38,
    "start_time": "2021-12-24T14:04:19.042Z"
   },
   {
    "duration": 84,
    "start_time": "2021-12-24T14:04:19.082Z"
   },
   {
    "duration": 7,
    "start_time": "2021-12-24T14:04:19.169Z"
   },
   {
    "duration": 17,
    "start_time": "2021-12-24T14:04:19.178Z"
   },
   {
    "duration": 5,
    "start_time": "2021-12-24T14:04:19.196Z"
   },
   {
    "duration": 11,
    "start_time": "2021-12-24T14:04:19.202Z"
   },
   {
    "duration": 40,
    "start_time": "2021-12-24T14:04:19.214Z"
   },
   {
    "duration": 28,
    "start_time": "2021-12-24T14:04:19.257Z"
   },
   {
    "duration": 55,
    "start_time": "2021-12-24T14:04:19.287Z"
   },
   {
    "duration": 23,
    "start_time": "2021-12-24T14:04:19.344Z"
   },
   {
    "duration": 5,
    "start_time": "2021-12-24T14:04:19.368Z"
   },
   {
    "duration": 21,
    "start_time": "2021-12-24T14:04:19.375Z"
   },
   {
    "duration": 98,
    "start_time": "2021-12-24T14:04:19.398Z"
   },
   {
    "duration": 17,
    "start_time": "2021-12-24T14:04:19.498Z"
   },
   {
    "duration": 38,
    "start_time": "2021-12-24T14:04:19.517Z"
   },
   {
    "duration": 38,
    "start_time": "2021-12-24T14:04:19.558Z"
   },
   {
    "duration": 9,
    "start_time": "2021-12-24T14:04:19.598Z"
   },
   {
    "duration": 2492,
    "start_time": "2021-12-24T14:04:19.609Z"
   },
   {
    "duration": 18,
    "start_time": "2021-12-24T14:04:22.103Z"
   },
   {
    "duration": 3782,
    "start_time": "2021-12-24T14:04:22.123Z"
   },
   {
    "duration": 35,
    "start_time": "2021-12-24T14:04:25.907Z"
   },
   {
    "duration": 13,
    "start_time": "2021-12-24T14:04:25.944Z"
   },
   {
    "duration": 346,
    "start_time": "2021-12-24T14:04:25.961Z"
   },
   {
    "duration": 41,
    "start_time": "2021-12-24T14:04:26.309Z"
   },
   {
    "duration": 246,
    "start_time": "2021-12-24T14:04:26.352Z"
   },
   {
    "duration": 30,
    "start_time": "2021-12-24T14:04:26.600Z"
   },
   {
    "duration": 261,
    "start_time": "2021-12-24T14:04:26.642Z"
   },
   {
    "duration": 10,
    "start_time": "2021-12-24T14:04:26.905Z"
   },
   {
    "duration": 41,
    "start_time": "2021-12-24T14:04:26.917Z"
   },
   {
    "duration": 26,
    "start_time": "2021-12-24T14:04:26.960Z"
   },
   {
    "duration": 24,
    "start_time": "2021-12-24T14:04:26.988Z"
   },
   {
    "duration": 54,
    "start_time": "2021-12-24T14:04:27.014Z"
   },
   {
    "duration": 640,
    "start_time": "2021-12-26T18:45:42.893Z"
   },
   {
    "duration": 71,
    "start_time": "2021-12-26T18:45:43.535Z"
   },
   {
    "duration": 8,
    "start_time": "2021-12-26T18:45:43.608Z"
   },
   {
    "duration": 19,
    "start_time": "2021-12-26T18:45:43.618Z"
   },
   {
    "duration": 5,
    "start_time": "2021-12-26T18:45:43.638Z"
   },
   {
    "duration": 7,
    "start_time": "2021-12-26T18:45:43.644Z"
   },
   {
    "duration": 8,
    "start_time": "2021-12-26T18:45:43.653Z"
   },
   {
    "duration": 25,
    "start_time": "2021-12-26T18:45:43.663Z"
   },
   {
    "duration": 69,
    "start_time": "2021-12-26T18:45:43.689Z"
   },
   {
    "duration": 20,
    "start_time": "2021-12-26T18:45:43.760Z"
   },
   {
    "duration": 5,
    "start_time": "2021-12-26T18:45:43.781Z"
   },
   {
    "duration": 13,
    "start_time": "2021-12-26T18:45:43.787Z"
   },
   {
    "duration": 105,
    "start_time": "2021-12-26T18:45:43.801Z"
   },
   {
    "duration": 27,
    "start_time": "2021-12-26T18:45:43.907Z"
   },
   {
    "duration": 22,
    "start_time": "2021-12-26T18:45:43.935Z"
   },
   {
    "duration": 31,
    "start_time": "2021-12-26T18:45:43.959Z"
   },
   {
    "duration": 8,
    "start_time": "2021-12-26T18:45:43.992Z"
   },
   {
    "duration": 3491,
    "start_time": "2021-12-26T18:45:44.002Z"
   },
   {
    "duration": 14,
    "start_time": "2021-12-26T18:45:47.495Z"
   },
   {
    "duration": 2948,
    "start_time": "2021-12-26T18:45:47.526Z"
   },
   {
    "duration": 25,
    "start_time": "2021-12-26T18:45:50.475Z"
   },
   {
    "duration": 27,
    "start_time": "2021-12-26T18:45:50.501Z"
   },
   {
    "duration": 213,
    "start_time": "2021-12-26T18:45:50.531Z"
   },
   {
    "duration": 24,
    "start_time": "2021-12-26T18:45:50.746Z"
   },
   {
    "duration": 228,
    "start_time": "2021-12-26T18:45:50.771Z"
   },
   {
    "duration": 34,
    "start_time": "2021-12-26T18:45:51.001Z"
   },
   {
    "duration": 219,
    "start_time": "2021-12-26T18:45:51.037Z"
   },
   {
    "duration": 10,
    "start_time": "2021-12-26T18:45:51.258Z"
   },
   {
    "duration": 32,
    "start_time": "2021-12-26T18:45:51.269Z"
   },
   {
    "duration": 36,
    "start_time": "2021-12-26T18:45:51.303Z"
   },
   {
    "duration": 24,
    "start_time": "2021-12-26T18:45:51.340Z"
   },
   {
    "duration": 21,
    "start_time": "2021-12-26T18:45:51.365Z"
   }
  ],
  "kernelspec": {
   "display_name": "Python 3 (ipykernel)",
   "language": "python",
   "name": "python3"
  },
  "language_info": {
   "codemirror_mode": {
    "name": "ipython",
    "version": 3
   },
   "file_extension": ".py",
   "mimetype": "text/x-python",
   "name": "python",
   "nbconvert_exporter": "python",
   "pygments_lexer": "ipython3",
   "version": "3.10.5"
  },
  "toc": {
   "base_numbering": 1,
   "nav_menu": {},
   "number_sections": false,
   "sideBar": true,
   "skip_h1_title": false,
   "title_cell": "Оглавление",
   "title_sidebar": "Contents",
   "toc_cell": true,
   "toc_position": {
    "height": "calc(100% - 180px)",
    "left": "10px",
    "top": "150px",
    "width": "383.188px"
   },
   "toc_section_display": true,
   "toc_window_display": true
  },
  "varInspector": {
   "cols": {
    "lenName": 16,
    "lenType": 16,
    "lenVar": 40
   },
   "kernels_config": {
    "python": {
     "delete_cmd_postfix": "",
     "delete_cmd_prefix": "del ",
     "library": "var_list.py",
     "varRefreshCmd": "print(var_dic_list())"
    },
    "r": {
     "delete_cmd_postfix": ") ",
     "delete_cmd_prefix": "rm(",
     "library": "var_list.r",
     "varRefreshCmd": "cat(var_dic_list()) "
    }
   },
   "types_to_exclude": [
    "module",
    "function",
    "builtin_function_or_method",
    "instance",
    "_Feature"
   ],
   "window_display": false
  }
 },
 "nbformat": 4,
 "nbformat_minor": 2
}
