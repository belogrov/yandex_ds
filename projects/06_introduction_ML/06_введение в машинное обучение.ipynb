{
 "cells": [
  {
   "cell_type": "markdown",
   "metadata": {
    "toc": true
   },
   "source": [
    "<h1>Оглавление<span class=\"tocSkip\"></span></h1>\n",
    "<div class=\"toc\"><ul class=\"toc-item\"><li><span><a href=\"#Откройте-и-изучите-файл\" data-toc-modified-id=\"Откройте-и-изучите-файл-1\"><span class=\"toc-item-num\">1&nbsp;&nbsp;</span>Откройте и изучите файл</a></span><ul class=\"toc-item\"><li><span><a href=\"#Вывод\" data-toc-modified-id=\"Вывод-1.1\"><span class=\"toc-item-num\">1.1&nbsp;&nbsp;</span>Вывод</a></span></li></ul></li><li><span><a href=\"#Разбейте-данные-на-выборки\" data-toc-modified-id=\"Разбейте-данные-на-выборки-2\"><span class=\"toc-item-num\">2&nbsp;&nbsp;</span>Разбейте данные на выборки</a></span><ul class=\"toc-item\"><li><span><a href=\"#Вывод\" data-toc-modified-id=\"Вывод-2.1\"><span class=\"toc-item-num\">2.1&nbsp;&nbsp;</span>Вывод</a></span></li></ul></li><li><span><a href=\"#Исследуйте-модели\" data-toc-modified-id=\"Исследуйте-модели-3\"><span class=\"toc-item-num\">3&nbsp;&nbsp;</span>Исследуйте модели</a></span><ul class=\"toc-item\"><li><span><a href=\"#Решающее-дерево\" data-toc-modified-id=\"Решающее-дерево-3.1\"><span class=\"toc-item-num\">3.1&nbsp;&nbsp;</span>Решающее дерево</a></span></li><li><span><a href=\"#Случайный-лес\" data-toc-modified-id=\"Случайный-лес-3.2\"><span class=\"toc-item-num\">3.2&nbsp;&nbsp;</span>Случайный лес</a></span></li><li><span><a href=\"#Логистическая-регрессия\" data-toc-modified-id=\"Логистическая-регрессия-3.3\"><span class=\"toc-item-num\">3.3&nbsp;&nbsp;</span>Логистическая регрессия</a></span></li><li><span><a href=\"#Вывод\" data-toc-modified-id=\"Вывод-3.4\"><span class=\"toc-item-num\">3.4&nbsp;&nbsp;</span>Вывод</a></span></li></ul></li><li><span><a href=\"#Проверьте-модель-на-тестовой-выборке\" data-toc-modified-id=\"Проверьте-модель-на-тестовой-выборке-4\"><span class=\"toc-item-num\">4&nbsp;&nbsp;</span>Проверьте модель на тестовой выборке</a></span><ul class=\"toc-item\"><li><span><a href=\"#Вывод\" data-toc-modified-id=\"Вывод-4.1\"><span class=\"toc-item-num\">4.1&nbsp;&nbsp;</span>Вывод</a></span></li></ul></li><li><span><a href=\"#(бонус)-Проверьте-модели-на-адекватность\" data-toc-modified-id=\"(бонус)-Проверьте-модели-на-адекватность-5\"><span class=\"toc-item-num\">5&nbsp;&nbsp;</span>(бонус) Проверьте модели на адекватность</a></span><ul class=\"toc-item\"><li><span><a href=\"#Вывод\" data-toc-modified-id=\"Вывод-5.1\"><span class=\"toc-item-num\">5.1&nbsp;&nbsp;</span>Вывод</a></span></li></ul></li><li><span><a href=\"#Чек-лист-готовности-проекта\" data-toc-modified-id=\"Чек-лист-готовности-проекта-6\"><span class=\"toc-item-num\">6&nbsp;&nbsp;</span>Чек-лист готовности проекта</a></span></li></ul></div>"
   ]
  },
  {
   "cell_type": "markdown",
   "metadata": {},
   "source": [
    "# Рекомендация тарифов"
   ]
  },
  {
   "cell_type": "markdown",
   "metadata": {},
   "source": [
    "В вашем распоряжении данные о поведении клиентов, которые уже перешли на эти тарифы (из проекта курса «Статистический анализ данных»). Нужно построить модель для задачи классификации, которая выберет подходящий тариф. Предобработка данных не понадобится — вы её уже сделали.\n",
    "\n",
    "Постройте модель с максимально большим значением *accuracy*. Чтобы сдать проект успешно, нужно довести долю правильных ответов по крайней мере до 0.75. Проверьте *accuracy* на тестовой выборке самостоятельно."
   ]
  },
  {
   "cell_type": "markdown",
   "metadata": {},
   "source": [
    "# Описание данных\n",
    "Каждый объект в наборе данных — это информация о поведении одного пользователя за месяц. Известно:\n",
    "- сalls — количество звонков,\n",
    "- minutes — суммарная длительность звонков в минутах,\n",
    "- messages — количество sms-сообщений,\n",
    "- mb_used — израсходованный интернет-трафик в Мб,\n",
    "- is_ultra — каким тарифом пользовался в течение месяца («Ультра» — 1, «Смарт» — 0)."
   ]
  },
  {
   "cell_type": "markdown",
   "metadata": {},
   "source": [
    "# План\n",
    "1. Открыть и изучить датасет,\n",
    "2. Разделить исходные данные на обучающую, валидационную и тестовую выборки,\n",
    "3. Исследовать качество разных моделей, меняя гиперпараметры,\n",
    "4. Проверить качество модели на тестовой выборке,\n",
    "5. Проверить модели на вменяемость."
   ]
  },
  {
   "cell_type": "markdown",
   "metadata": {},
   "source": [
    "## Откройте и изучите файл"
   ]
  },
  {
   "cell_type": "code",
   "execution_count": 34,
   "metadata": {},
   "outputs": [],
   "source": [
    "from tqdm.notebook import tqdm_notebook\n",
    "\n",
    "import pandas as pd\n",
    "\n",
    "from sklearn.model_selection import train_test_split\n",
    "\n",
    "from sklearn.tree import DecisionTreeClassifier\n",
    "from sklearn.ensemble import RandomForestClassifier\n",
    "from sklearn.linear_model import LogisticRegression\n",
    "\n",
    "from sklearn.metrics import accuracy_score\n",
    "from sklearn.dummy import DummyClassifier"
   ]
  },
  {
   "cell_type": "code",
   "execution_count": 35,
   "metadata": {},
   "outputs": [],
   "source": [
    "local_path = r'users_behavior.csv'\n",
    "ya_path = r'/datasets/users_behavior.csv'\n",
    "\n",
    "try:\n",
    "    df_raw = pd.read_csv(local_path)\n",
    "except:\n",
    "    df_raw = pd.read_csv(ya_path)"
   ]
  },
  {
   "cell_type": "code",
   "execution_count": 36,
   "metadata": {},
   "outputs": [
    {
     "data": {
      "text/html": [
       "<div>\n",
       "<style scoped>\n",
       "    .dataframe tbody tr th:only-of-type {\n",
       "        vertical-align: middle;\n",
       "    }\n",
       "\n",
       "    .dataframe tbody tr th {\n",
       "        vertical-align: top;\n",
       "    }\n",
       "\n",
       "    .dataframe thead th {\n",
       "        text-align: right;\n",
       "    }\n",
       "</style>\n",
       "<table border=\"1\" class=\"dataframe\">\n",
       "  <thead>\n",
       "    <tr style=\"text-align: right;\">\n",
       "      <th></th>\n",
       "      <th>calls</th>\n",
       "      <th>minutes</th>\n",
       "      <th>messages</th>\n",
       "      <th>mb_used</th>\n",
       "      <th>is_ultra</th>\n",
       "    </tr>\n",
       "  </thead>\n",
       "  <tbody>\n",
       "    <tr>\n",
       "      <th>0</th>\n",
       "      <td>40.0</td>\n",
       "      <td>311.90</td>\n",
       "      <td>83.0</td>\n",
       "      <td>19915.42</td>\n",
       "      <td>0</td>\n",
       "    </tr>\n",
       "    <tr>\n",
       "      <th>1</th>\n",
       "      <td>85.0</td>\n",
       "      <td>516.75</td>\n",
       "      <td>56.0</td>\n",
       "      <td>22696.96</td>\n",
       "      <td>0</td>\n",
       "    </tr>\n",
       "    <tr>\n",
       "      <th>2</th>\n",
       "      <td>77.0</td>\n",
       "      <td>467.66</td>\n",
       "      <td>86.0</td>\n",
       "      <td>21060.45</td>\n",
       "      <td>0</td>\n",
       "    </tr>\n",
       "    <tr>\n",
       "      <th>3</th>\n",
       "      <td>106.0</td>\n",
       "      <td>745.53</td>\n",
       "      <td>81.0</td>\n",
       "      <td>8437.39</td>\n",
       "      <td>1</td>\n",
       "    </tr>\n",
       "    <tr>\n",
       "      <th>4</th>\n",
       "      <td>66.0</td>\n",
       "      <td>418.74</td>\n",
       "      <td>1.0</td>\n",
       "      <td>14502.75</td>\n",
       "      <td>0</td>\n",
       "    </tr>\n",
       "  </tbody>\n",
       "</table>\n",
       "</div>"
      ],
      "text/plain": [
       "   calls  minutes  messages   mb_used  is_ultra\n",
       "0   40.0   311.90      83.0  19915.42         0\n",
       "1   85.0   516.75      56.0  22696.96         0\n",
       "2   77.0   467.66      86.0  21060.45         0\n",
       "3  106.0   745.53      81.0   8437.39         1\n",
       "4   66.0   418.74       1.0  14502.75         0"
      ]
     },
     "execution_count": 36,
     "metadata": {},
     "output_type": "execute_result"
    }
   ],
   "source": [
    "df_raw.head()"
   ]
  },
  {
   "cell_type": "code",
   "execution_count": 37,
   "metadata": {},
   "outputs": [
    {
     "name": "stdout",
     "output_type": "stream",
     "text": [
      "<class 'pandas.core.frame.DataFrame'>\n",
      "RangeIndex: 3214 entries, 0 to 3213\n",
      "Data columns (total 5 columns):\n",
      " #   Column    Non-Null Count  Dtype  \n",
      "---  ------    --------------  -----  \n",
      " 0   calls     3214 non-null   float64\n",
      " 1   minutes   3214 non-null   float64\n",
      " 2   messages  3214 non-null   float64\n",
      " 3   mb_used   3214 non-null   float64\n",
      " 4   is_ultra  3214 non-null   int64  \n",
      "dtypes: float64(4), int64(1)\n",
      "memory usage: 125.7 KB\n"
     ]
    }
   ],
   "source": [
    "df_raw.info()"
   ]
  },
  {
   "cell_type": "markdown",
   "metadata": {},
   "source": [
    "Заменим тип данных в столбце 'calls' и 'messages' с `float` на `int`(количество и сообщений звонков не может быть дробным)"
   ]
  },
  {
   "cell_type": "code",
   "execution_count": 38,
   "metadata": {},
   "outputs": [
    {
     "data": {
      "text/plain": [
       "calls         int32\n",
       "minutes     float64\n",
       "messages      int32\n",
       "mb_used     float64\n",
       "is_ultra      int64\n",
       "dtype: object"
      ]
     },
     "execution_count": 38,
     "metadata": {},
     "output_type": "execute_result"
    }
   ],
   "source": [
    "df_raw = df_raw.astype({'calls':'int', 'messages':'int'})\n",
    "df_raw.dtypes"
   ]
  },
  {
   "cell_type": "markdown",
   "metadata": {},
   "source": [
    "Рассмортим корреляцию параметров нашего датасета."
   ]
  },
  {
   "cell_type": "code",
   "execution_count": 39,
   "metadata": {},
   "outputs": [
    {
     "data": {
      "text/html": [
       "<div>\n",
       "<style scoped>\n",
       "    .dataframe tbody tr th:only-of-type {\n",
       "        vertical-align: middle;\n",
       "    }\n",
       "\n",
       "    .dataframe tbody tr th {\n",
       "        vertical-align: top;\n",
       "    }\n",
       "\n",
       "    .dataframe thead th {\n",
       "        text-align: right;\n",
       "    }\n",
       "</style>\n",
       "<table border=\"1\" class=\"dataframe\">\n",
       "  <thead>\n",
       "    <tr style=\"text-align: right;\">\n",
       "      <th></th>\n",
       "      <th>calls</th>\n",
       "      <th>minutes</th>\n",
       "      <th>messages</th>\n",
       "      <th>mb_used</th>\n",
       "      <th>is_ultra</th>\n",
       "    </tr>\n",
       "  </thead>\n",
       "  <tbody>\n",
       "    <tr>\n",
       "      <th>calls</th>\n",
       "      <td>1.00</td>\n",
       "      <td>0.98</td>\n",
       "      <td>0.18</td>\n",
       "      <td>0.29</td>\n",
       "      <td>0.21</td>\n",
       "    </tr>\n",
       "    <tr>\n",
       "      <th>minutes</th>\n",
       "      <td>0.98</td>\n",
       "      <td>1.00</td>\n",
       "      <td>0.17</td>\n",
       "      <td>0.28</td>\n",
       "      <td>0.21</td>\n",
       "    </tr>\n",
       "    <tr>\n",
       "      <th>messages</th>\n",
       "      <td>0.18</td>\n",
       "      <td>0.17</td>\n",
       "      <td>1.00</td>\n",
       "      <td>0.20</td>\n",
       "      <td>0.20</td>\n",
       "    </tr>\n",
       "    <tr>\n",
       "      <th>mb_used</th>\n",
       "      <td>0.29</td>\n",
       "      <td>0.28</td>\n",
       "      <td>0.20</td>\n",
       "      <td>1.00</td>\n",
       "      <td>0.20</td>\n",
       "    </tr>\n",
       "    <tr>\n",
       "      <th>is_ultra</th>\n",
       "      <td>0.21</td>\n",
       "      <td>0.21</td>\n",
       "      <td>0.20</td>\n",
       "      <td>0.20</td>\n",
       "      <td>1.00</td>\n",
       "    </tr>\n",
       "  </tbody>\n",
       "</table>\n",
       "</div>"
      ],
      "text/plain": [
       "          calls  minutes  messages  mb_used  is_ultra\n",
       "calls      1.00     0.98      0.18     0.29      0.21\n",
       "minutes    0.98     1.00      0.17     0.28      0.21\n",
       "messages   0.18     0.17      1.00     0.20      0.20\n",
       "mb_used    0.29     0.28      0.20     1.00      0.20\n",
       "is_ultra   0.21     0.21      0.20     0.20      1.00"
      ]
     },
     "execution_count": 39,
     "metadata": {},
     "output_type": "execute_result"
    }
   ],
   "source": [
    "df_raw.corr().round(2)"
   ]
  },
  {
   "cell_type": "code",
   "execution_count": 40,
   "metadata": {},
   "outputs": [
    {
     "data": {
      "image/png": "[encoded data removed]",
      "text/plain": [
       "<Figure size 1008x1008 with 25 Axes>"
      ]
     },
     "metadata": {
      "needs_background": "light"
     },
     "output_type": "display_data"
    },
    {
     "data": {
      "image/png": "[encoded data removed]",
      "text/plain": [
       "<Figure size 432x288 with 1 Axes>"
      ]
     },
     "metadata": {
      "needs_background": "light"
     },
     "output_type": "display_data"
    }
   ],
   "source": [
    "pd.plotting.scatter_matrix( df_raw, figsize=(14,14) );\n",
    "df_raw.plot(kind='scatter', x='calls', y='minutes');"
   ]
  },
  {
   "cell_type": "markdown",
   "metadata": {},
   "source": [
    "Сильная  линейная корреляция между количеством звонков и потраченных минут.   \n",
    "Время разговора может быть любым, даже 0, а вот звонки клиент совершает всегда. Удалим столбец минуты."
   ]
  },
  {
   "cell_type": "code",
   "execution_count": 41,
   "metadata": {},
   "outputs": [
    {
     "data": {
      "text/html": [
       "<div>\n",
       "<style scoped>\n",
       "    .dataframe tbody tr th:only-of-type {\n",
       "        vertical-align: middle;\n",
       "    }\n",
       "\n",
       "    .dataframe tbody tr th {\n",
       "        vertical-align: top;\n",
       "    }\n",
       "\n",
       "    .dataframe thead th {\n",
       "        text-align: right;\n",
       "    }\n",
       "</style>\n",
       "<table border=\"1\" class=\"dataframe\">\n",
       "  <thead>\n",
       "    <tr style=\"text-align: right;\">\n",
       "      <th></th>\n",
       "      <th>calls</th>\n",
       "      <th>messages</th>\n",
       "      <th>mb_used</th>\n",
       "      <th>is_ultra</th>\n",
       "    </tr>\n",
       "  </thead>\n",
       "  <tbody>\n",
       "    <tr>\n",
       "      <th>0</th>\n",
       "      <td>40</td>\n",
       "      <td>83</td>\n",
       "      <td>19915.42</td>\n",
       "      <td>0</td>\n",
       "    </tr>\n",
       "    <tr>\n",
       "      <th>1</th>\n",
       "      <td>85</td>\n",
       "      <td>56</td>\n",
       "      <td>22696.96</td>\n",
       "      <td>0</td>\n",
       "    </tr>\n",
       "    <tr>\n",
       "      <th>2</th>\n",
       "      <td>77</td>\n",
       "      <td>86</td>\n",
       "      <td>21060.45</td>\n",
       "      <td>0</td>\n",
       "    </tr>\n",
       "    <tr>\n",
       "      <th>3</th>\n",
       "      <td>106</td>\n",
       "      <td>81</td>\n",
       "      <td>8437.39</td>\n",
       "      <td>1</td>\n",
       "    </tr>\n",
       "    <tr>\n",
       "      <th>4</th>\n",
       "      <td>66</td>\n",
       "      <td>1</td>\n",
       "      <td>14502.75</td>\n",
       "      <td>0</td>\n",
       "    </tr>\n",
       "    <tr>\n",
       "      <th>...</th>\n",
       "      <td>...</td>\n",
       "      <td>...</td>\n",
       "      <td>...</td>\n",
       "      <td>...</td>\n",
       "    </tr>\n",
       "    <tr>\n",
       "      <th>3209</th>\n",
       "      <td>122</td>\n",
       "      <td>20</td>\n",
       "      <td>35124.90</td>\n",
       "      <td>1</td>\n",
       "    </tr>\n",
       "    <tr>\n",
       "      <th>3210</th>\n",
       "      <td>25</td>\n",
       "      <td>0</td>\n",
       "      <td>3275.61</td>\n",
       "      <td>0</td>\n",
       "    </tr>\n",
       "    <tr>\n",
       "      <th>3211</th>\n",
       "      <td>97</td>\n",
       "      <td>70</td>\n",
       "      <td>13974.06</td>\n",
       "      <td>0</td>\n",
       "    </tr>\n",
       "    <tr>\n",
       "      <th>3212</th>\n",
       "      <td>64</td>\n",
       "      <td>90</td>\n",
       "      <td>31239.78</td>\n",
       "      <td>0</td>\n",
       "    </tr>\n",
       "    <tr>\n",
       "      <th>3213</th>\n",
       "      <td>80</td>\n",
       "      <td>6</td>\n",
       "      <td>29480.52</td>\n",
       "      <td>1</td>\n",
       "    </tr>\n",
       "  </tbody>\n",
       "</table>\n",
       "<p>3214 rows × 4 columns</p>\n",
       "</div>"
      ],
      "text/plain": [
       "      calls  messages   mb_used  is_ultra\n",
       "0        40        83  19915.42         0\n",
       "1        85        56  22696.96         0\n",
       "2        77        86  21060.45         0\n",
       "3       106        81   8437.39         1\n",
       "4        66         1  14502.75         0\n",
       "...     ...       ...       ...       ...\n",
       "3209    122        20  35124.90         1\n",
       "3210     25         0   3275.61         0\n",
       "3211     97        70  13974.06         0\n",
       "3212     64        90  31239.78         0\n",
       "3213     80         6  29480.52         1\n",
       "\n",
       "[3214 rows x 4 columns]"
      ]
     },
     "execution_count": 41,
     "metadata": {},
     "output_type": "execute_result"
    }
   ],
   "source": [
    "df_raw = df_raw.drop('minutes', axis=1)\n",
    "df_raw"
   ]
  },
  {
   "cell_type": "code",
   "execution_count": 42,
   "metadata": {},
   "outputs": [
    {
     "data": {
      "text/plain": [
       "0    0.69\n",
       "1    0.31\n",
       "Name: is_ultra, dtype: float64"
      ]
     },
     "execution_count": 42,
     "metadata": {},
     "output_type": "execute_result"
    }
   ],
   "source": [
    "df_raw['is_ultra'].value_counts(normalize=True).round(2)"
   ]
  },
  {
   "cell_type": "markdown",
   "metadata": {},
   "source": [
    "Перекос  в целевом признаке в сторону 0 - тариф 'smart'. Эта информация пригодится для определения стратегии классификации в DummyClassifier()"
   ]
  },
  {
   "cell_type": "markdown",
   "metadata": {},
   "source": [
    "### Вывод\n",
    "Датасет открыт, изучен."
   ]
  },
  {
   "cell_type": "markdown",
   "metadata": {},
   "source": [
    "## Разбейте данные на выборки"
   ]
  },
  {
   "cell_type": "markdown",
   "metadata": {},
   "source": [
    "Создадим обучающую, тестовую и валидационную выборки на основе нашего датасета. На обучающую отведем 60% данных, а на остальные по 20%."
   ]
  },
  {
   "cell_type": "code",
   "execution_count": 43,
   "metadata": {},
   "outputs": [],
   "source": [
    "# тренировочная, тестовая выборки\n",
    "df_train, df_test = train_test_split(\n",
    "    df_raw,\n",
    "    test_size=0.2,\n",
    "    train_size=0.6,\n",
    "    random_state=12345,\n",
    ")"
   ]
  },
  {
   "cell_type": "code",
   "execution_count": 44,
   "metadata": {},
   "outputs": [
    {
     "name": "stdout",
     "output_type": "stream",
     "text": [
      "1928\n",
      "643\n"
     ]
    }
   ],
   "source": [
    "print(len(df_train))\n",
    "print(len(df_test))"
   ]
  },
  {
   "cell_type": "markdown",
   "metadata": {},
   "source": [
    "создадим общий список индексов, полученных выборок"
   ]
  },
  {
   "cell_type": "code",
   "execution_count": 45,
   "metadata": {},
   "outputs": [
    {
     "name": "stdout",
     "output_type": "stream",
     "text": [
      "True\n"
     ]
    }
   ],
   "source": [
    "# список индексов\n",
    "lst_q = df_train.index.to_list() + df_test.index.to_list()\n",
    "\n",
    "# проверка \n",
    "print(len(lst_q) == len(df_train) + len(df_test))"
   ]
  },
  {
   "cell_type": "code",
   "execution_count": 46,
   "metadata": {},
   "outputs": [
    {
     "name": "stdout",
     "output_type": "stream",
     "text": [
      "643\n"
     ]
    },
    {
     "data": {
      "text/html": [
       "<div>\n",
       "<style scoped>\n",
       "    .dataframe tbody tr th:only-of-type {\n",
       "        vertical-align: middle;\n",
       "    }\n",
       "\n",
       "    .dataframe tbody tr th {\n",
       "        vertical-align: top;\n",
       "    }\n",
       "\n",
       "    .dataframe thead th {\n",
       "        text-align: right;\n",
       "    }\n",
       "</style>\n",
       "<table border=\"1\" class=\"dataframe\">\n",
       "  <thead>\n",
       "    <tr style=\"text-align: right;\">\n",
       "      <th></th>\n",
       "      <th>calls</th>\n",
       "      <th>messages</th>\n",
       "      <th>mb_used</th>\n",
       "      <th>is_ultra</th>\n",
       "    </tr>\n",
       "  </thead>\n",
       "  <tbody>\n",
       "    <tr>\n",
       "      <th>13</th>\n",
       "      <td>56</td>\n",
       "      <td>16</td>\n",
       "      <td>16702.36</td>\n",
       "      <td>0</td>\n",
       "    </tr>\n",
       "    <tr>\n",
       "      <th>18</th>\n",
       "      <td>79</td>\n",
       "      <td>90</td>\n",
       "      <td>19908.31</td>\n",
       "      <td>0</td>\n",
       "    </tr>\n",
       "    <tr>\n",
       "      <th>23</th>\n",
       "      <td>11</td>\n",
       "      <td>19</td>\n",
       "      <td>2305.74</td>\n",
       "      <td>0</td>\n",
       "    </tr>\n",
       "    <tr>\n",
       "      <th>39</th>\n",
       "      <td>81</td>\n",
       "      <td>34</td>\n",
       "      <td>12750.82</td>\n",
       "      <td>0</td>\n",
       "    </tr>\n",
       "    <tr>\n",
       "      <th>43</th>\n",
       "      <td>50</td>\n",
       "      <td>10</td>\n",
       "      <td>20922.05</td>\n",
       "      <td>1</td>\n",
       "    </tr>\n",
       "  </tbody>\n",
       "</table>\n",
       "</div>"
      ],
      "text/plain": [
       "    calls  messages   mb_used  is_ultra\n",
       "13     56        16  16702.36         0\n",
       "18     79        90  19908.31         0\n",
       "23     11        19   2305.74         0\n",
       "39     81        34  12750.82         0\n",
       "43     50        10  20922.05         1"
      ]
     },
     "execution_count": 46,
     "metadata": {},
     "output_type": "execute_result"
    }
   ],
   "source": [
    "# валидационная выборка из среза индексов, не попавших в две остальные выборки\n",
    "df_valid = df_raw.query(\" index not in @lst_q \")\n",
    "print(len(df_valid))\n",
    "df_valid.head()"
   ]
  },
  {
   "cell_type": "markdown",
   "metadata": {},
   "source": [
    "### Вывод\n",
    "Соответсвующие выборки созданы."
   ]
  },
  {
   "cell_type": "markdown",
   "metadata": {},
   "source": [
    "## Исследуйте модели"
   ]
  },
  {
   "cell_type": "markdown",
   "metadata": {},
   "source": [
    "Целевой признак (столбец is_ultra) - категориальный, следовательно, решается задача классификации.  \n",
    "Разобъем данные на признаки и целевые признаки"
   ]
  },
  {
   "cell_type": "code",
   "execution_count": 47,
   "metadata": {},
   "outputs": [],
   "source": [
    "# признаки\n",
    "train_features = df_train.drop('is_ultra', axis=1)\n",
    "test_features = df_test.drop('is_ultra', axis=1)\n",
    "valid_features = df_valid.drop('is_ultra', axis=1)\n",
    "\n",
    "# целевой признак\n",
    "train_target = df_train['is_ultra']\n",
    "test_target = df_test['is_ultra']\n",
    "valid_target = df_valid['is_ultra']"
   ]
  },
  {
   "cell_type": "markdown",
   "metadata": {},
   "source": [
    "### Решающее дерево"
   ]
  },
  {
   "cell_type": "code",
   "execution_count": 48,
   "metadata": {},
   "outputs": [
    {
     "data": {
      "application/vnd.jupyter.widget-view+json": {
       "model_id": "fba8d48e02b1436b9e600c305987a148",
       "version_major": 2,
       "version_minor": 0
      },
      "text/plain": [
       "  0%|          | 0/99 [00:00<?, ?it/s]"
      ]
     },
     "metadata": {},
     "output_type": "display_data"
    },
    {
     "name": "stdout",
     "output_type": "stream",
     "text": [
      "Accuracy модели = 0.8102643856920684 \n",
      "глубина дерева = 9\n"
     ]
    }
   ],
   "source": [
    "best_tree_model = 0\n",
    "best_tree_result = 0\n",
    "best_tree_depth = 0\n",
    "\n",
    "\n",
    "for depth in tqdm_notebook(range(1, 100)):\n",
    "    model  = DecisionTreeClassifier(random_state=12345, max_depth=depth)\n",
    "    model.fit(train_features, train_target)\n",
    "    \n",
    "#     valid_predict = model.predict(valid_features)\n",
    "#     result = accuracy_score(valid_target, valid_predict)\n",
    "    \n",
    "    result = model.score(valid_features, valid_target)\n",
    "    if result > best_tree_result:\n",
    "        best_tree_model = model\n",
    "        best_tree_result = result\n",
    "        best_tree_depth = depth\n",
    "\n",
    "print('Accuracy модели =', best_tree_result, '\\nглубина дерева =', best_tree_depth)        "
   ]
  },
  {
   "cell_type": "markdown",
   "metadata": {},
   "source": [
    "### Случайный лес"
   ]
  },
  {
   "cell_type": "code",
   "execution_count": 49,
   "metadata": {},
   "outputs": [
    {
     "data": {
      "application/vnd.jupyter.widget-view+json": {
       "model_id": "a14c65a8b5ec4476872551cdaeb997d5",
       "version_major": 2,
       "version_minor": 0
      },
      "text/plain": [
       "  0%|          | 0/4 [00:00<?, ?it/s]"
      ]
     },
     "metadata": {},
     "output_type": "display_data"
    },
    {
     "data": {
      "application/vnd.jupyter.widget-view+json": {
       "model_id": "",
       "version_major": 2,
       "version_minor": 0
      },
      "text/plain": [
       "  0%|          | 0/3 [00:00<?, ?it/s]"
      ]
     },
     "metadata": {},
     "output_type": "display_data"
    },
    {
     "data": {
      "application/vnd.jupyter.widget-view+json": {
       "model_id": "",
       "version_major": 2,
       "version_minor": 0
      },
      "text/plain": [
       "  0%|          | 0/2 [00:00<?, ?it/s]"
      ]
     },
     "metadata": {},
     "output_type": "display_data"
    },
    {
     "data": {
      "application/vnd.jupyter.widget-view+json": {
       "model_id": "",
       "version_major": 2,
       "version_minor": 0
      },
      "text/plain": [
       "  0%|          | 0/2 [00:00<?, ?it/s]"
      ]
     },
     "metadata": {},
     "output_type": "display_data"
    },
    {
     "data": {
      "application/vnd.jupyter.widget-view+json": {
       "model_id": "",
       "version_major": 2,
       "version_minor": 0
      },
      "text/plain": [
       "  0%|          | 0/2 [00:00<?, ?it/s]"
      ]
     },
     "metadata": {},
     "output_type": "display_data"
    },
    {
     "data": {
      "application/vnd.jupyter.widget-view+json": {
       "model_id": "",
       "version_major": 2,
       "version_minor": 0
      },
      "text/plain": [
       "  0%|          | 0/3 [00:00<?, ?it/s]"
      ]
     },
     "metadata": {},
     "output_type": "display_data"
    },
    {
     "data": {
      "application/vnd.jupyter.widget-view+json": {
       "model_id": "",
       "version_major": 2,
       "version_minor": 0
      },
      "text/plain": [
       "  0%|          | 0/2 [00:00<?, ?it/s]"
      ]
     },
     "metadata": {},
     "output_type": "display_data"
    },
    {
     "data": {
      "application/vnd.jupyter.widget-view+json": {
       "model_id": "",
       "version_major": 2,
       "version_minor": 0
      },
      "text/plain": [
       "  0%|          | 0/2 [00:00<?, ?it/s]"
      ]
     },
     "metadata": {},
     "output_type": "display_data"
    },
    {
     "data": {
      "application/vnd.jupyter.widget-view+json": {
       "model_id": "",
       "version_major": 2,
       "version_minor": 0
      },
      "text/plain": [
       "  0%|          | 0/2 [00:00<?, ?it/s]"
      ]
     },
     "metadata": {},
     "output_type": "display_data"
    },
    {
     "data": {
      "application/vnd.jupyter.widget-view+json": {
       "model_id": "",
       "version_major": 2,
       "version_minor": 0
      },
      "text/plain": [
       "  0%|          | 0/3 [00:00<?, ?it/s]"
      ]
     },
     "metadata": {},
     "output_type": "display_data"
    },
    {
     "data": {
      "application/vnd.jupyter.widget-view+json": {
       "model_id": "",
       "version_major": 2,
       "version_minor": 0
      },
      "text/plain": [
       "  0%|          | 0/2 [00:00<?, ?it/s]"
      ]
     },
     "metadata": {},
     "output_type": "display_data"
    },
    {
     "data": {
      "application/vnd.jupyter.widget-view+json": {
       "model_id": "",
       "version_major": 2,
       "version_minor": 0
      },
      "text/plain": [
       "  0%|          | 0/2 [00:00<?, ?it/s]"
      ]
     },
     "metadata": {},
     "output_type": "display_data"
    },
    {
     "data": {
      "application/vnd.jupyter.widget-view+json": {
       "model_id": "",
       "version_major": 2,
       "version_minor": 0
      },
      "text/plain": [
       "  0%|          | 0/2 [00:00<?, ?it/s]"
      ]
     },
     "metadata": {},
     "output_type": "display_data"
    },
    {
     "data": {
      "application/vnd.jupyter.widget-view+json": {
       "model_id": "",
       "version_major": 2,
       "version_minor": 0
      },
      "text/plain": [
       "  0%|          | 0/3 [00:00<?, ?it/s]"
      ]
     },
     "metadata": {},
     "output_type": "display_data"
    },
    {
     "data": {
      "application/vnd.jupyter.widget-view+json": {
       "model_id": "",
       "version_major": 2,
       "version_minor": 0
      },
      "text/plain": [
       "  0%|          | 0/2 [00:00<?, ?it/s]"
      ]
     },
     "metadata": {},
     "output_type": "display_data"
    },
    {
     "data": {
      "application/vnd.jupyter.widget-view+json": {
       "model_id": "",
       "version_major": 2,
       "version_minor": 0
      },
      "text/plain": [
       "  0%|          | 0/2 [00:00<?, ?it/s]"
      ]
     },
     "metadata": {},
     "output_type": "display_data"
    },
    {
     "data": {
      "application/vnd.jupyter.widget-view+json": {
       "model_id": "",
       "version_major": 2,
       "version_minor": 0
      },
      "text/plain": [
       "  0%|          | 0/2 [00:00<?, ?it/s]"
      ]
     },
     "metadata": {},
     "output_type": "display_data"
    },
    {
     "name": "stdout",
     "output_type": "stream",
     "text": [
      "Accuracy модели = 0.8367029548989113 \n",
      "Кол-во деревьев = 38 \n",
      "глубина дерева = 22 \n",
      "min_samples_split = 2 \n",
      "min_samples_leaf = 4\n"
     ]
    }
   ],
   "source": [
    "best_forest_model = 0\n",
    "best_forest_result = 0\n",
    "best_forest_depth = 0\n",
    "best_forest_est = 0\n",
    "best_split = 0\n",
    "best_leaf = 0\n",
    "\n",
    "for est in tqdm_notebook(range(37, 41, 1)):\n",
    "    \n",
    "    for depth in tqdm_notebook(range(21, 24, 1), leave=False):\n",
    "        \n",
    "        for split in tqdm_notebook(range(2,4), leave=False):\n",
    "            \n",
    "            for leaf in (range(3,6, 1)):\n",
    "                \n",
    "                model = RandomForestClassifier(\n",
    "                    random_state=12345,\n",
    "                    max_depth=depth,\n",
    "                    n_estimators=est,\n",
    "                    n_jobs=-1,\n",
    "                    min_samples_split=split,\n",
    "                    min_samples_leaf=leaf\n",
    "        )\n",
    "        \n",
    "                model.fit(train_features, train_target)\n",
    "                result = model.score(valid_features, valid_target)\n",
    "        \n",
    "                if result > best_forest_result:\n",
    "                    best_forest_model = model\n",
    "                    best_forest_result = result\n",
    "                    best_forest_depth = depth\n",
    "                    best_forest_est = est\n",
    "                    best_split = split\n",
    "                    best_leaf = leaf\n",
    "        \n",
    "print('Accuracy модели =', best_forest_result,\n",
    "      '\\nКол-во деревьев =', best_forest_est,\n",
    "      '\\nглубина дерева =', best_forest_depth,\n",
    "      '\\nmin_samples_split =', best_split,\n",
    "      '\\nmin_samples_leaf =', best_leaf,\n",
    "     )"
   ]
  },
  {
   "cell_type": "markdown",
   "metadata": {},
   "source": [
    "### Логистическая регрессия"
   ]
  },
  {
   "cell_type": "code",
   "execution_count": 50,
   "metadata": {},
   "outputs": [
    {
     "name": "stdout",
     "output_type": "stream",
     "text": [
      "0.7387247278382582\n"
     ]
    }
   ],
   "source": [
    "model_logistic = LogisticRegression(random_state=12345)\n",
    "model_logistic.fit(train_features, train_target)\n",
    "result_logistic = model_logistic.score(valid_features, valid_target)\n",
    "print(result_logistic)"
   ]
  },
  {
   "cell_type": "markdown",
   "metadata": {},
   "source": [
    "### Вывод\n",
    "Лучшей моделью является модель случайного леса"
   ]
  },
  {
   "cell_type": "markdown",
   "metadata": {},
   "source": [
    "## Проверьте модель на тестовой выборке"
   ]
  },
  {
   "cell_type": "code",
   "execution_count": 51,
   "metadata": {},
   "outputs": [
    {
     "data": {
      "text/plain": [
       "0.7791601866251944"
      ]
     },
     "execution_count": 51,
     "metadata": {},
     "output_type": "execute_result"
    }
   ],
   "source": [
    "best_forest_model.score(test_features, test_target)"
   ]
  },
  {
   "cell_type": "markdown",
   "metadata": {},
   "source": [
    "### Вывод\n",
    "Модель сдучайного леса успешно протестирована c accuracy=0.78"
   ]
  },
  {
   "cell_type": "markdown",
   "metadata": {},
   "source": [
    "## (бонус) Проверьте модели на адекватность"
   ]
  },
  {
   "cell_type": "markdown",
   "metadata": {},
   "source": [
    "Для проверки модели на адекватность будем использовать классификатор [DummyClassifier](https://scikit-learn.org/stable/modules/generated/sklearn.dummy.DummyClassifier.html).  \n",
    "\n",
    "Для проверки модели применим [стратегию](https://scikit-learn.ru/3-3-metrics-and-scoring-quantifying-the-quality-of-predictions/) (п.3.3.6) — `most_frequent` (всегда предсказывает наиболее частую метку в обучающем наборе).  \n",
    "\n",
    "Если результат будет лучше чем результат модели случайного леса, то модель необходимо переобучить с новыми параметрами."
   ]
  },
  {
   "cell_type": "code",
   "execution_count": 52,
   "metadata": {},
   "outputs": [
    {
     "name": "stdout",
     "output_type": "stream",
     "text": [
      "most_frequent = 0.6951788491446346\n",
      "stratified = 0.578538102643857\n"
     ]
    }
   ],
   "source": [
    "clf = DummyClassifier(strategy='most_frequent', random_state=12345)\n",
    "clf.fit(train_features, train_target)  \n",
    "print('most_frequent =', clf.score(test_features, test_target))\n",
    "\n",
    "# на всякий случай проверить\n",
    "clf = DummyClassifier(strategy='stratified', random_state=12345)\n",
    "clf.fit(train_features, train_target)  \n",
    "print('stratified =', clf.score(test_features, test_target))"
   ]
  },
  {
   "cell_type": "markdown",
   "metadata": {},
   "source": [
    "accuracy=0,78 случайного леса выше accuracy полученной с помощью DummyClassifier."
   ]
  },
  {
   "cell_type": "markdown",
   "metadata": {},
   "source": [
    "### Вывод\n",
    "Модель случайный лес проверена на адекватность. "
   ]
  }
 ],
 "metadata": {
  "ExecuteTimeLog": [
   {
    "duration": 1174,
    "start_time": "2022-02-22T20:51:21.589Z"
   },
   {
    "duration": 3498,
    "start_time": "2022-02-22T20:51:36.866Z"
   },
   {
    "duration": 149,
    "start_time": "2022-02-22T20:52:26.528Z"
   },
   {
    "duration": 26,
    "start_time": "2022-02-22T20:52:42.718Z"
   },
   {
    "duration": 9,
    "start_time": "2022-02-22T20:53:13.075Z"
   },
   {
    "duration": 10,
    "start_time": "2022-02-22T20:54:10.360Z"
   },
   {
    "duration": 7,
    "start_time": "2022-02-22T20:55:22.485Z"
   },
   {
    "duration": 5,
    "start_time": "2022-02-22T20:55:46.692Z"
   },
   {
    "duration": 4,
    "start_time": "2022-02-22T20:56:00.795Z"
   },
   {
    "duration": 4,
    "start_time": "2022-02-22T20:57:37.845Z"
   },
   {
    "duration": 4,
    "start_time": "2022-02-22T20:57:54.324Z"
   },
   {
    "duration": 5,
    "start_time": "2022-02-22T20:58:28.827Z"
   },
   {
    "duration": 3,
    "start_time": "2022-02-22T20:59:16.304Z"
   },
   {
    "duration": 28,
    "start_time": "2022-02-22T20:59:45.758Z"
   },
   {
    "duration": 14,
    "start_time": "2022-02-22T20:59:52.679Z"
   },
   {
    "duration": 3,
    "start_time": "2022-02-22T21:05:24.330Z"
   },
   {
    "duration": 155,
    "start_time": "2022-02-22T21:05:24.336Z"
   },
   {
    "duration": 11,
    "start_time": "2022-02-22T21:05:24.494Z"
   },
   {
    "duration": 13,
    "start_time": "2022-02-22T21:05:24.507Z"
   },
   {
    "duration": 21,
    "start_time": "2022-02-22T21:05:24.522Z"
   },
   {
    "duration": 13,
    "start_time": "2022-02-22T21:05:24.546Z"
   },
   {
    "duration": 13,
    "start_time": "2022-02-22T21:05:24.561Z"
   },
   {
    "duration": 21,
    "start_time": "2022-02-22T21:05:24.576Z"
   },
   {
    "duration": 14,
    "start_time": "2022-02-22T21:05:24.600Z"
   },
   {
    "duration": 4,
    "start_time": "2022-02-22T21:05:24.616Z"
   },
   {
    "duration": 15,
    "start_time": "2022-02-22T21:31:28.250Z"
   },
   {
    "duration": 7,
    "start_time": "2022-02-22T21:37:21.045Z"
   },
   {
    "duration": 7,
    "start_time": "2022-02-22T21:46:59.770Z"
   },
   {
    "duration": 4,
    "start_time": "2022-02-22T22:10:24.112Z"
   },
   {
    "duration": 8,
    "start_time": "2022-02-22T22:11:03.331Z"
   },
   {
    "duration": 208,
    "start_time": "2022-02-22T22:15:36.701Z"
   },
   {
    "duration": 261,
    "start_time": "2022-02-22T22:17:14.607Z"
   },
   {
    "duration": 3,
    "start_time": "2022-02-22T22:19:45.335Z"
   },
   {
    "duration": 167,
    "start_time": "2022-02-22T22:20:23.773Z"
   },
   {
    "duration": 177,
    "start_time": "2022-02-22T22:22:38.784Z"
   },
   {
    "duration": 169,
    "start_time": "2022-02-22T22:24:41.193Z"
   },
   {
    "duration": 186,
    "start_time": "2022-02-22T22:24:53.198Z"
   },
   {
    "duration": 176,
    "start_time": "2022-02-22T22:25:15.837Z"
   },
   {
    "duration": 4,
    "start_time": "2022-02-22T22:31:01.250Z"
   },
   {
    "duration": 3,
    "start_time": "2022-02-22T22:31:29.639Z"
   },
   {
    "duration": 48,
    "start_time": "2022-02-22T22:40:08.443Z"
   },
   {
    "duration": 72,
    "start_time": "2022-02-22T22:42:59.884Z"
   },
   {
    "duration": 4525,
    "start_time": "2022-02-22T22:43:10.489Z"
   },
   {
    "duration": 6729,
    "start_time": "2022-02-22T22:43:43.891Z"
   },
   {
    "duration": 3,
    "start_time": "2022-02-22T22:45:08.035Z"
   },
   {
    "duration": 555,
    "start_time": "2022-02-22T22:46:30.551Z"
   },
   {
    "duration": 3266,
    "start_time": "2022-02-22T22:47:23.254Z"
   },
   {
    "duration": 1333,
    "start_time": "2022-02-22T22:47:51.729Z"
   },
   {
    "duration": 5837,
    "start_time": "2022-02-22T22:48:20.286Z"
   },
   {
    "duration": 62837,
    "start_time": "2022-02-22T22:48:45.179Z"
   },
   {
    "duration": 189,
    "start_time": "2022-02-22T22:53:26.668Z"
   },
   {
    "duration": 1143,
    "start_time": "2022-02-22T22:53:49.442Z"
   },
   {
    "duration": 144,
    "start_time": "2022-02-22T22:53:50.587Z"
   },
   {
    "duration": 18,
    "start_time": "2022-02-22T22:53:50.733Z"
   },
   {
    "duration": 11,
    "start_time": "2022-02-22T22:53:50.753Z"
   },
   {
    "duration": 11,
    "start_time": "2022-02-22T22:53:50.765Z"
   },
   {
    "duration": 6,
    "start_time": "2022-02-22T22:53:50.778Z"
   },
   {
    "duration": 9,
    "start_time": "2022-02-22T22:53:50.785Z"
   },
   {
    "duration": 14,
    "start_time": "2022-02-22T22:53:50.797Z"
   },
   {
    "duration": 20,
    "start_time": "2022-02-22T22:53:50.813Z"
   },
   {
    "duration": 12,
    "start_time": "2022-02-22T22:53:50.835Z"
   },
   {
    "duration": 185,
    "start_time": "2022-02-22T22:53:50.849Z"
   },
   {
    "duration": 3844,
    "start_time": "2022-02-22T22:53:51.036Z"
   },
   {
    "duration": -1235,
    "start_time": "2022-02-22T22:53:56.118Z"
   },
   {
    "duration": 3543,
    "start_time": "2022-02-22T22:54:09.390Z"
   },
   {
    "duration": 173,
    "start_time": "2022-02-22T22:54:44.595Z"
   },
   {
    "duration": 3358,
    "start_time": "2022-02-22T22:54:47.882Z"
   },
   {
    "duration": 3470,
    "start_time": "2022-02-22T22:57:08.013Z"
   },
   {
    "duration": 3887,
    "start_time": "2022-02-22T22:57:50.650Z"
   },
   {
    "duration": 161,
    "start_time": "2022-02-22T22:58:42.733Z"
   },
   {
    "duration": 14267,
    "start_time": "2022-02-22T22:59:01.885Z"
   },
   {
    "duration": 12994,
    "start_time": "2022-02-22T22:59:52.615Z"
   },
   {
    "duration": 4008,
    "start_time": "2022-02-22T23:00:14.245Z"
   },
   {
    "duration": 22807,
    "start_time": "2022-02-22T23:00:31.840Z"
   },
   {
    "duration": 22653,
    "start_time": "2022-02-22T23:01:26.623Z"
   },
   {
    "duration": 4165,
    "start_time": "2022-02-22T23:02:03.786Z"
   },
   {
    "duration": 4,
    "start_time": "2022-02-22T23:03:14.214Z"
   },
   {
    "duration": 12,
    "start_time": "2022-02-22T23:05:16.223Z"
   },
   {
    "duration": 9,
    "start_time": "2022-02-22T23:10:11.525Z"
   },
   {
    "duration": 4,
    "start_time": "2022-02-22T23:14:10.997Z"
   },
   {
    "duration": 4377,
    "start_time": "2022-02-22T23:14:42.558Z"
   },
   {
    "duration": 4513,
    "start_time": "2022-02-22T23:16:03.531Z"
   },
   {
    "duration": 244,
    "start_time": "2022-02-22T23:16:35.405Z"
   },
   {
    "duration": 1145,
    "start_time": "2022-02-22T23:16:40.621Z"
   },
   {
    "duration": 5,
    "start_time": "2022-02-22T23:16:58.052Z"
   },
   {
    "duration": 1163,
    "start_time": "2022-02-22T23:17:07.020Z"
   },
   {
    "duration": 138,
    "start_time": "2022-02-22T23:17:08.186Z"
   },
   {
    "duration": 20,
    "start_time": "2022-02-22T23:17:08.330Z"
   },
   {
    "duration": 13,
    "start_time": "2022-02-22T23:17:08.353Z"
   },
   {
    "duration": 9,
    "start_time": "2022-02-22T23:17:08.368Z"
   },
   {
    "duration": 7,
    "start_time": "2022-02-22T23:17:08.379Z"
   },
   {
    "duration": 27,
    "start_time": "2022-02-22T23:17:08.388Z"
   },
   {
    "duration": 5,
    "start_time": "2022-02-22T23:17:08.419Z"
   },
   {
    "duration": 21,
    "start_time": "2022-02-22T23:17:08.426Z"
   },
   {
    "duration": 8,
    "start_time": "2022-02-22T23:17:08.450Z"
   },
   {
    "duration": 9,
    "start_time": "2022-02-22T23:17:08.460Z"
   },
   {
    "duration": 1178,
    "start_time": "2022-02-22T23:17:08.471Z"
   },
   {
    "duration": 4371,
    "start_time": "2022-02-22T23:17:09.651Z"
   },
   {
    "duration": 337,
    "start_time": "2022-02-22T23:17:14.023Z"
   },
   {
    "duration": -1289,
    "start_time": "2022-02-22T23:17:15.651Z"
   },
   {
    "duration": -1290,
    "start_time": "2022-02-22T23:17:15.653Z"
   },
   {
    "duration": 1184,
    "start_time": "2022-02-22T23:18:50.904Z"
   },
   {
    "duration": 137,
    "start_time": "2022-02-22T23:18:52.091Z"
   },
   {
    "duration": 17,
    "start_time": "2022-02-22T23:18:52.231Z"
   },
   {
    "duration": 22,
    "start_time": "2022-02-22T23:18:52.251Z"
   },
   {
    "duration": 19,
    "start_time": "2022-02-22T23:18:52.275Z"
   },
   {
    "duration": 10,
    "start_time": "2022-02-22T23:18:52.296Z"
   },
   {
    "duration": 25,
    "start_time": "2022-02-22T23:18:52.308Z"
   },
   {
    "duration": 19,
    "start_time": "2022-02-22T23:18:52.335Z"
   },
   {
    "duration": 31,
    "start_time": "2022-02-22T23:18:52.356Z"
   },
   {
    "duration": 11,
    "start_time": "2022-02-22T23:18:52.389Z"
   },
   {
    "duration": 26,
    "start_time": "2022-02-22T23:18:52.402Z"
   },
   {
    "duration": 1148,
    "start_time": "2022-02-22T23:18:52.431Z"
   },
   {
    "duration": 4365,
    "start_time": "2022-02-22T23:18:53.581Z"
   },
   {
    "duration": 12,
    "start_time": "2022-02-22T23:18:57.947Z"
   },
   {
    "duration": 10,
    "start_time": "2022-02-22T23:18:57.961Z"
   },
   {
    "duration": 35,
    "start_time": "2022-02-22T23:18:57.973Z"
   },
   {
    "duration": 1854,
    "start_time": "2022-02-22T23:20:57.131Z"
   },
   {
    "duration": 1887,
    "start_time": "2022-02-22T23:21:47.164Z"
   },
   {
    "duration": 4410,
    "start_time": "2022-02-22T23:22:01.432Z"
   },
   {
    "duration": 4446,
    "start_time": "2022-02-22T23:22:19.118Z"
   },
   {
    "duration": 14,
    "start_time": "2022-02-22T23:22:33.771Z"
   },
   {
    "duration": 4486,
    "start_time": "2022-02-22T23:23:09.545Z"
   },
   {
    "duration": 4283,
    "start_time": "2022-02-22T23:23:21.780Z"
   },
   {
    "duration": 4324,
    "start_time": "2022-02-22T23:24:36.627Z"
   },
   {
    "duration": 16,
    "start_time": "2022-02-22T23:24:52.413Z"
   },
   {
    "duration": 1189,
    "start_time": "2022-02-23T15:04:47.541Z"
   },
   {
    "duration": 227,
    "start_time": "2022-02-23T15:04:48.732Z"
   },
   {
    "duration": 18,
    "start_time": "2022-02-23T15:04:48.962Z"
   },
   {
    "duration": 8,
    "start_time": "2022-02-23T15:04:48.982Z"
   },
   {
    "duration": 12,
    "start_time": "2022-02-23T15:04:48.992Z"
   },
   {
    "duration": 9,
    "start_time": "2022-02-23T15:04:49.006Z"
   },
   {
    "duration": 9,
    "start_time": "2022-02-23T15:04:49.017Z"
   },
   {
    "duration": 8,
    "start_time": "2022-02-23T15:04:49.028Z"
   },
   {
    "duration": 31,
    "start_time": "2022-02-23T15:04:49.039Z"
   },
   {
    "duration": 7,
    "start_time": "2022-02-23T15:04:49.073Z"
   },
   {
    "duration": 1140,
    "start_time": "2022-02-23T15:04:49.081Z"
   },
   {
    "duration": 4283,
    "start_time": "2022-02-23T15:04:50.222Z"
   },
   {
    "duration": 11,
    "start_time": "2022-02-23T15:04:54.507Z"
   },
   {
    "duration": 11,
    "start_time": "2022-02-23T15:04:54.520Z"
   },
   {
    "duration": 4,
    "start_time": "2022-02-23T15:04:54.533Z"
   },
   {
    "duration": 4,
    "start_time": "2022-02-23T18:43:41.490Z"
   },
   {
    "duration": 213,
    "start_time": "2022-02-23T18:43:41.496Z"
   },
   {
    "duration": 10,
    "start_time": "2022-02-23T18:43:41.711Z"
   },
   {
    "duration": 8,
    "start_time": "2022-02-23T18:43:41.724Z"
   },
   {
    "duration": 8,
    "start_time": "2022-02-23T18:43:41.734Z"
   },
   {
    "duration": 5,
    "start_time": "2022-02-23T18:43:41.744Z"
   },
   {
    "duration": 8,
    "start_time": "2022-02-23T18:43:41.751Z"
   },
   {
    "duration": 9,
    "start_time": "2022-02-23T18:43:41.762Z"
   },
   {
    "duration": 13,
    "start_time": "2022-02-23T18:43:41.773Z"
   },
   {
    "duration": 6,
    "start_time": "2022-02-23T18:43:41.788Z"
   },
   {
    "duration": 1156,
    "start_time": "2022-02-23T18:43:41.796Z"
   },
   {
    "duration": 4316,
    "start_time": "2022-02-23T18:43:42.954Z"
   },
   {
    "duration": 13,
    "start_time": "2022-02-23T18:43:47.272Z"
   },
   {
    "duration": 13,
    "start_time": "2022-02-23T18:43:47.287Z"
   },
   {
    "duration": 2,
    "start_time": "2022-02-23T18:43:47.302Z"
   },
   {
    "duration": 4,
    "start_time": "2022-02-23T18:52:57.986Z"
   },
   {
    "duration": 312,
    "start_time": "2022-02-23T18:58:39.114Z"
   },
   {
    "duration": 1518,
    "start_time": "2022-02-24T05:08:13.672Z"
   },
   {
    "duration": 268,
    "start_time": "2022-02-24T05:08:15.193Z"
   },
   {
    "duration": 23,
    "start_time": "2022-02-24T05:08:15.464Z"
   },
   {
    "duration": 11,
    "start_time": "2022-02-24T05:08:15.489Z"
   },
   {
    "duration": 10,
    "start_time": "2022-02-24T05:08:15.502Z"
   },
   {
    "duration": 7,
    "start_time": "2022-02-24T05:08:15.514Z"
   },
   {
    "duration": 5,
    "start_time": "2022-02-24T05:08:15.562Z"
   },
   {
    "duration": 4,
    "start_time": "2022-02-24T05:08:15.572Z"
   },
   {
    "duration": 17,
    "start_time": "2022-02-24T05:08:15.580Z"
   },
   {
    "duration": 9,
    "start_time": "2022-02-24T05:08:15.599Z"
   },
   {
    "duration": 1423,
    "start_time": "2022-02-24T05:08:15.610Z"
   },
   {
    "duration": 5819,
    "start_time": "2022-02-24T05:08:17.035Z"
   },
   {
    "duration": 17,
    "start_time": "2022-02-24T05:08:22.856Z"
   },
   {
    "duration": 16,
    "start_time": "2022-02-24T05:08:22.875Z"
   },
   {
    "duration": 466,
    "start_time": "2022-02-24T05:08:22.893Z"
   },
   {
    "duration": -5971,
    "start_time": "2022-02-24T05:08:29.332Z"
   },
   {
    "duration": -5979,
    "start_time": "2022-02-24T05:08:29.342Z"
   },
   {
    "duration": 21,
    "start_time": "2022-02-24T05:09:16.907Z"
   },
   {
    "duration": 110,
    "start_time": "2022-02-24T05:11:27.334Z"
   },
   {
    "duration": 330,
    "start_time": "2022-02-24T05:11:57.235Z"
   },
   {
    "duration": 20,
    "start_time": "2022-02-24T05:12:09.123Z"
   },
   {
    "duration": 16,
    "start_time": "2022-02-24T05:23:46.045Z"
   },
   {
    "duration": 14,
    "start_time": "2022-02-24T05:27:33.402Z"
   },
   {
    "duration": 14,
    "start_time": "2022-02-24T05:28:56.494Z"
   },
   {
    "duration": 15,
    "start_time": "2022-02-24T05:29:15.577Z"
   },
   {
    "duration": 12,
    "start_time": "2022-02-24T05:30:21.964Z"
   },
   {
    "duration": 16,
    "start_time": "2022-02-24T05:45:37.901Z"
   },
   {
    "duration": 1623,
    "start_time": "2022-02-24T05:45:45.894Z"
   },
   {
    "duration": 443,
    "start_time": "2022-02-24T05:45:47.521Z"
   },
   {
    "duration": 27,
    "start_time": "2022-02-24T05:45:47.967Z"
   },
   {
    "duration": 12,
    "start_time": "2022-02-24T05:45:47.997Z"
   },
   {
    "duration": 13,
    "start_time": "2022-02-24T05:45:48.013Z"
   },
   {
    "duration": 11,
    "start_time": "2022-02-24T05:45:48.063Z"
   },
   {
    "duration": 6,
    "start_time": "2022-02-24T05:45:48.077Z"
   },
   {
    "duration": 8,
    "start_time": "2022-02-24T05:45:48.089Z"
   },
   {
    "duration": 82,
    "start_time": "2022-02-24T05:45:48.101Z"
   },
   {
    "duration": 9,
    "start_time": "2022-02-24T05:45:48.186Z"
   },
   {
    "duration": 1780,
    "start_time": "2022-02-24T05:45:48.198Z"
   },
   {
    "duration": 6465,
    "start_time": "2022-02-24T05:45:49.981Z"
   },
   {
    "duration": 19,
    "start_time": "2022-02-24T05:45:56.460Z"
   },
   {
    "duration": 18,
    "start_time": "2022-02-24T05:45:56.481Z"
   },
   {
    "duration": 62,
    "start_time": "2022-02-24T05:45:56.502Z"
   },
   {
    "duration": 4,
    "start_time": "2022-02-24T05:45:56.567Z"
   },
   {
    "duration": 21,
    "start_time": "2022-02-24T05:50:42.840Z"
   },
   {
    "duration": 1692,
    "start_time": "2022-02-24T06:05:56.065Z"
   },
   {
    "duration": 542,
    "start_time": "2022-02-24T06:05:57.762Z"
   },
   {
    "duration": 29,
    "start_time": "2022-02-24T06:05:58.312Z"
   },
   {
    "duration": 14,
    "start_time": "2022-02-24T06:05:58.343Z"
   },
   {
    "duration": 13,
    "start_time": "2022-02-24T06:05:58.361Z"
   },
   {
    "duration": 9,
    "start_time": "2022-02-24T06:05:58.377Z"
   },
   {
    "duration": 8,
    "start_time": "2022-02-24T06:05:58.392Z"
   },
   {
    "duration": 7,
    "start_time": "2022-02-24T06:05:58.404Z"
   },
   {
    "duration": 81,
    "start_time": "2022-02-24T06:05:58.414Z"
   },
   {
    "duration": 11,
    "start_time": "2022-02-24T06:05:58.498Z"
   },
   {
    "duration": 1604,
    "start_time": "2022-02-24T06:05:58.512Z"
   },
   {
    "duration": 6584,
    "start_time": "2022-02-24T06:06:00.118Z"
   },
   {
    "duration": 55,
    "start_time": "2022-02-24T06:06:06.706Z"
   },
   {
    "duration": 20,
    "start_time": "2022-02-24T06:06:06.765Z"
   },
   {
    "duration": 18,
    "start_time": "2022-02-24T06:06:06.787Z"
   },
   {
    "duration": 5,
    "start_time": "2022-02-24T06:06:06.808Z"
   },
   {
    "duration": 1386,
    "start_time": "2022-02-24T06:35:19.231Z"
   },
   {
    "duration": 366,
    "start_time": "2022-02-24T06:35:20.621Z"
   },
   {
    "duration": 23,
    "start_time": "2022-02-24T06:35:20.990Z"
   },
   {
    "duration": 10,
    "start_time": "2022-02-24T06:35:21.016Z"
   },
   {
    "duration": 12,
    "start_time": "2022-02-24T06:35:22.527Z"
   },
   {
    "duration": 7,
    "start_time": "2022-02-24T06:35:47.863Z"
   },
   {
    "duration": 6,
    "start_time": "2022-02-24T06:35:48.496Z"
   },
   {
    "duration": 4,
    "start_time": "2022-02-24T06:35:49.969Z"
   },
   {
    "duration": 23,
    "start_time": "2022-02-24T06:35:50.754Z"
   },
   {
    "duration": 8,
    "start_time": "2022-02-24T06:37:43.308Z"
   },
   {
    "duration": 1519,
    "start_time": "2022-02-24T06:37:44.650Z"
   },
   {
    "duration": 5969,
    "start_time": "2022-02-24T06:39:03.777Z"
   },
   {
    "duration": 17,
    "start_time": "2022-02-24T06:39:57.195Z"
   },
   {
    "duration": 17,
    "start_time": "2022-02-24T06:39:58.794Z"
   },
   {
    "duration": 12,
    "start_time": "2022-02-24T06:40:05.998Z"
   },
   {
    "duration": 16,
    "start_time": "2022-02-24T07:12:30.760Z"
   },
   {
    "duration": 578,
    "start_time": "2022-02-24T07:13:46.853Z"
   },
   {
    "duration": 441,
    "start_time": "2022-02-24T07:17:00.579Z"
   },
   {
    "duration": 21,
    "start_time": "2022-02-24T07:17:34.762Z"
   },
   {
    "duration": 827,
    "start_time": "2022-02-24T07:19:58.145Z"
   },
   {
    "duration": 860,
    "start_time": "2022-02-24T07:20:21.425Z"
   },
   {
    "duration": 786,
    "start_time": "2022-02-24T07:20:38.285Z"
   },
   {
    "duration": 935,
    "start_time": "2022-02-24T07:24:09.988Z"
   },
   {
    "duration": 708,
    "start_time": "2022-02-24T07:25:00.656Z"
   },
   {
    "duration": 5,
    "start_time": "2022-02-24T07:25:06.483Z"
   },
   {
    "duration": 239,
    "start_time": "2022-02-24T07:25:06.490Z"
   },
   {
    "duration": 14,
    "start_time": "2022-02-24T07:25:06.733Z"
   },
   {
    "duration": 9,
    "start_time": "2022-02-24T07:25:06.750Z"
   },
   {
    "duration": 10,
    "start_time": "2022-02-24T07:25:06.762Z"
   },
   {
    "duration": 19,
    "start_time": "2022-02-24T07:25:06.774Z"
   },
   {
    "duration": 668,
    "start_time": "2022-02-24T07:25:13.207Z"
   },
   {
    "duration": 1426,
    "start_time": "2022-02-24T07:25:34.986Z"
   },
   {
    "duration": 249,
    "start_time": "2022-02-24T07:25:36.415Z"
   },
   {
    "duration": 24,
    "start_time": "2022-02-24T07:25:36.667Z"
   },
   {
    "duration": 10,
    "start_time": "2022-02-24T07:25:36.693Z"
   },
   {
    "duration": 11,
    "start_time": "2022-02-24T07:25:36.706Z"
   },
   {
    "duration": 55,
    "start_time": "2022-02-24T07:25:36.719Z"
   },
   {
    "duration": 4918,
    "start_time": "2022-02-24T07:25:41.012Z"
   },
   {
    "duration": 4301,
    "start_time": "2022-02-24T07:25:51.374Z"
   },
   {
    "duration": 4458,
    "start_time": "2022-02-24T07:26:15.668Z"
   },
   {
    "duration": 23,
    "start_time": "2022-02-24T07:27:50.304Z"
   },
   {
    "duration": 18,
    "start_time": "2022-02-24T07:28:02.230Z"
   },
   {
    "duration": 5,
    "start_time": "2022-02-24T07:28:09.378Z"
   },
   {
    "duration": 230,
    "start_time": "2022-02-24T07:28:09.386Z"
   },
   {
    "duration": 12,
    "start_time": "2022-02-24T07:28:09.619Z"
   },
   {
    "duration": 9,
    "start_time": "2022-02-24T07:28:09.634Z"
   },
   {
    "duration": 9,
    "start_time": "2022-02-24T07:28:09.646Z"
   },
   {
    "duration": 19,
    "start_time": "2022-02-24T07:28:09.658Z"
   },
   {
    "duration": 5249,
    "start_time": "2022-02-24T07:28:09.680Z"
   },
   {
    "duration": 29,
    "start_time": "2022-02-24T07:28:14.934Z"
   },
   {
    "duration": 17,
    "start_time": "2022-02-24T07:28:14.966Z"
   },
   {
    "duration": 10,
    "start_time": "2022-02-24T07:28:14.985Z"
   },
   {
    "duration": 13,
    "start_time": "2022-02-24T07:28:14.998Z"
   },
   {
    "duration": 48,
    "start_time": "2022-02-24T07:28:15.013Z"
   },
   {
    "duration": 9,
    "start_time": "2022-02-24T07:28:15.063Z"
   },
   {
    "duration": 1155,
    "start_time": "2022-02-24T07:28:15.075Z"
   },
   {
    "duration": 5128,
    "start_time": "2022-02-24T07:28:16.233Z"
   },
   {
    "duration": 16,
    "start_time": "2022-02-24T07:28:21.363Z"
   },
   {
    "duration": 15,
    "start_time": "2022-02-24T07:28:21.381Z"
   },
   {
    "duration": 11,
    "start_time": "2022-02-24T07:28:21.399Z"
   },
   {
    "duration": 5,
    "start_time": "2022-02-24T07:28:21.461Z"
   },
   {
    "duration": 1383,
    "start_time": "2022-02-24T07:40:04.229Z"
   },
   {
    "duration": 278,
    "start_time": "2022-02-24T07:40:05.615Z"
   },
   {
    "duration": 25,
    "start_time": "2022-02-24T07:40:05.896Z"
   },
   {
    "duration": 19,
    "start_time": "2022-02-24T07:40:05.923Z"
   },
   {
    "duration": 10,
    "start_time": "2022-02-24T07:40:05.944Z"
   },
   {
    "duration": 18,
    "start_time": "2022-02-24T07:40:05.956Z"
   },
   {
    "duration": 5335,
    "start_time": "2022-02-24T07:40:13.465Z"
   },
   {
    "duration": 5882,
    "start_time": "2022-02-24T07:47:48.243Z"
   },
   {
    "duration": 16,
    "start_time": "2022-02-24T07:55:52.772Z"
   },
   {
    "duration": 10,
    "start_time": "2022-02-24T07:56:11.270Z"
   },
   {
    "duration": 5,
    "start_time": "2022-02-24T08:03:12.690Z"
   },
   {
    "duration": 284,
    "start_time": "2022-02-24T08:03:12.698Z"
   },
   {
    "duration": 13,
    "start_time": "2022-02-24T08:03:12.986Z"
   },
   {
    "duration": 10,
    "start_time": "2022-02-24T08:03:13.003Z"
   },
   {
    "duration": 12,
    "start_time": "2022-02-24T08:03:13.016Z"
   },
   {
    "duration": 40,
    "start_time": "2022-02-24T08:03:13.030Z"
   },
   {
    "duration": 5555,
    "start_time": "2022-02-24T08:03:13.072Z"
   },
   {
    "duration": 17,
    "start_time": "2022-02-24T08:03:18.631Z"
   },
   {
    "duration": 11,
    "start_time": "2022-02-24T08:03:18.663Z"
   },
   {
    "duration": 8,
    "start_time": "2022-02-24T08:03:18.677Z"
   },
   {
    "duration": 9,
    "start_time": "2022-02-24T08:03:18.687Z"
   },
   {
    "duration": 6,
    "start_time": "2022-02-24T08:03:18.698Z"
   },
   {
    "duration": 71,
    "start_time": "2022-02-24T08:03:18.707Z"
   },
   {
    "duration": 9,
    "start_time": "2022-02-24T08:03:18.781Z"
   },
   {
    "duration": 1195,
    "start_time": "2022-02-24T08:03:18.793Z"
   },
   {
    "duration": 5071,
    "start_time": "2022-02-24T08:03:19.992Z"
   },
   {
    "duration": 14,
    "start_time": "2022-02-24T08:03:25.066Z"
   },
   {
    "duration": 15,
    "start_time": "2022-02-24T08:03:25.083Z"
   },
   {
    "duration": 454,
    "start_time": "2022-02-24T08:03:25.101Z"
   },
   {
    "duration": -5970,
    "start_time": "2022-02-24T08:03:31.528Z"
   },
   {
    "duration": 9,
    "start_time": "2022-02-24T08:03:37.569Z"
   },
   {
    "duration": 9,
    "start_time": "2022-02-24T08:03:53.132Z"
   },
   {
    "duration": 6,
    "start_time": "2022-02-24T08:08:49.912Z"
   },
   {
    "duration": 232,
    "start_time": "2022-02-24T08:08:49.920Z"
   },
   {
    "duration": 12,
    "start_time": "2022-02-24T08:08:50.155Z"
   },
   {
    "duration": 10,
    "start_time": "2022-02-24T08:08:50.170Z"
   },
   {
    "duration": 13,
    "start_time": "2022-02-24T08:08:50.183Z"
   },
   {
    "duration": 23,
    "start_time": "2022-02-24T08:08:50.198Z"
   },
   {
    "duration": 5244,
    "start_time": "2022-02-24T08:08:50.260Z"
   },
   {
    "duration": 18,
    "start_time": "2022-02-24T08:08:55.507Z"
   },
   {
    "duration": 37,
    "start_time": "2022-02-24T08:08:55.528Z"
   },
   {
    "duration": 7,
    "start_time": "2022-02-24T08:08:55.567Z"
   },
   {
    "duration": 5,
    "start_time": "2022-02-24T08:08:55.576Z"
   },
   {
    "duration": 5,
    "start_time": "2022-02-24T08:08:55.584Z"
   },
   {
    "duration": 16,
    "start_time": "2022-02-24T08:08:55.592Z"
   },
   {
    "duration": 52,
    "start_time": "2022-02-24T08:08:55.610Z"
   },
   {
    "duration": 1148,
    "start_time": "2022-02-24T08:08:55.664Z"
   },
   {
    "duration": 5126,
    "start_time": "2022-02-24T08:08:56.814Z"
   },
   {
    "duration": 33,
    "start_time": "2022-02-24T08:09:01.943Z"
   },
   {
    "duration": 18,
    "start_time": "2022-02-24T08:09:01.979Z"
   },
   {
    "duration": 10,
    "start_time": "2022-02-24T08:09:02.000Z"
   },
   {
    "duration": 4,
    "start_time": "2022-02-24T08:09:02.062Z"
   },
   {
    "duration": 7709,
    "start_time": "2022-02-24T08:09:15.734Z"
   },
   {
    "duration": 10587,
    "start_time": "2022-02-24T08:09:33.012Z"
   },
   {
    "duration": 5083,
    "start_time": "2022-02-24T08:10:00.999Z"
   },
   {
    "duration": 17231,
    "start_time": "2022-02-24T08:10:34.079Z"
   },
   {
    "duration": 21,
    "start_time": "2022-02-24T08:11:03.483Z"
   },
   {
    "duration": 10103,
    "start_time": "2022-02-24T08:11:28.752Z"
   },
   {
    "duration": 21,
    "start_time": "2022-02-24T08:11:45.096Z"
   },
   {
    "duration": 10,
    "start_time": "2022-02-24T08:11:58.759Z"
   },
   {
    "duration": 14,
    "start_time": "2022-02-24T08:12:56.820Z"
   },
   {
    "duration": 12,
    "start_time": "2022-02-24T08:13:07.083Z"
   },
   {
    "duration": 1509,
    "start_time": "2022-02-24T08:20:33.398Z"
   },
   {
    "duration": 354,
    "start_time": "2022-02-24T08:20:34.909Z"
   },
   {
    "duration": 25,
    "start_time": "2022-02-24T08:20:35.266Z"
   },
   {
    "duration": 10,
    "start_time": "2022-02-24T08:20:35.294Z"
   },
   {
    "duration": 12,
    "start_time": "2022-02-24T08:20:35.307Z"
   },
   {
    "duration": 19,
    "start_time": "2022-02-24T08:20:35.321Z"
   },
   {
    "duration": 5683,
    "start_time": "2022-02-24T08:20:35.342Z"
   },
   {
    "duration": 19,
    "start_time": "2022-02-24T08:20:41.029Z"
   },
   {
    "duration": 15,
    "start_time": "2022-02-24T08:20:41.062Z"
   },
   {
    "duration": 6,
    "start_time": "2022-02-24T08:20:41.079Z"
   },
   {
    "duration": 12,
    "start_time": "2022-02-24T08:20:41.087Z"
   },
   {
    "duration": 33,
    "start_time": "2022-02-24T08:20:41.101Z"
   },
   {
    "duration": 36,
    "start_time": "2022-02-24T08:20:41.137Z"
   },
   {
    "duration": 8,
    "start_time": "2022-02-24T08:20:41.176Z"
   },
   {
    "duration": 1153,
    "start_time": "2022-02-24T08:20:41.186Z"
   },
   {
    "duration": 9873,
    "start_time": "2022-02-24T08:20:42.342Z"
   },
   {
    "duration": 43,
    "start_time": "2022-02-24T08:20:52.218Z"
   },
   {
    "duration": 19,
    "start_time": "2022-02-24T08:20:52.263Z"
   },
   {
    "duration": 11,
    "start_time": "2022-02-24T08:20:52.285Z"
   },
   {
    "duration": 6,
    "start_time": "2022-02-24T08:20:52.298Z"
   },
   {
    "duration": 14276,
    "start_time": "2022-02-24T09:46:44.507Z"
   },
   {
    "duration": 18527,
    "start_time": "2022-02-24T09:47:23.915Z"
   },
   {
    "duration": 2453,
    "start_time": "2022-02-24T09:48:00.425Z"
   },
   {
    "duration": 2690,
    "start_time": "2022-02-24T09:48:13.573Z"
   },
   {
    "duration": 104,
    "start_time": "2022-02-24T09:50:21.371Z"
   },
   {
    "duration": 2213,
    "start_time": "2022-02-24T09:55:46.627Z"
   }
  ],
  "kernelspec": {
   "display_name": "Python 3 (ipykernel)",
   "language": "python",
   "name": "python3"
  },
  "language_info": {
   "codemirror_mode": {
    "name": "ipython",
    "version": 3
   },
   "file_extension": ".py",
   "mimetype": "text/x-python",
   "name": "python",
   "nbconvert_exporter": "python",
   "pygments_lexer": "ipython3",
   "version": "3.10.5"
  },
  "toc": {
   "base_numbering": 1,
   "nav_menu": {
    "height": "262px",
    "width": "855px"
   },
   "number_sections": true,
   "sideBar": true,
   "skip_h1_title": true,
   "title_cell": "Оглавление",
   "title_sidebar": "Contents",
   "toc_cell": true,
   "toc_position": {
    "height": "calc(100% - 180px)",
    "left": "10px",
    "top": "150px",
    "width": "165px"
   },
   "toc_section_display": true,
   "toc_window_display": true
  },
  "varInspector": {
   "cols": {
    "lenName": 16,
    "lenType": 16,
    "lenVar": 40
   },
   "kernels_config": {
    "python": {
     "delete_cmd_postfix": "",
     "delete_cmd_prefix": "del ",
     "library": "var_list.py",
     "varRefreshCmd": "print(var_dic_list())"
    },
    "r": {
     "delete_cmd_postfix": ") ",
     "delete_cmd_prefix": "rm(",
     "library": "var_list.r",
     "varRefreshCmd": "cat(var_dic_list()) "
    }
   },
   "types_to_exclude": [
    "module",
    "function",
    "builtin_function_or_method",
    "instance",
    "_Feature"
   ],
   "window_display": false
  }
 },
 "nbformat": 4,
 "nbformat_minor": 4
}
