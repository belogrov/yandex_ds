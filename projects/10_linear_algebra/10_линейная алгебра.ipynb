{
 "cells": [
  {
   "cell_type": "markdown",
   "metadata": {},
   "source": [
    "# Защита персональных данных клиентов"
   ]
  },
  {
   "cell_type": "markdown",
   "metadata": {},
   "source": [
    "Нам нужно защитить данные клиентов страховой компании «Хоть потоп».  \n",
    "Необходимо:  \n",
    "- разработать такой метод преобразования данных, чтобы по ним было сложно восстановить персональную информацию  \n",
    "- проверить корректность его работы\n",
    "- качество не должно ухудшиться"
   ]
  },
  {
   "cell_type": "markdown",
   "metadata": {},
   "source": [
    "## Загрузка данных"
   ]
  },
  {
   "cell_type": "code",
   "execution_count": 1,
   "metadata": {},
   "outputs": [],
   "source": [
    "import pandas as pd\n",
    "import numpy as np\n",
    "\n",
    "from sklearn.metrics import r2_score\n",
    "from sklearn.linear_model import LinearRegression\n",
    "from sklearn.model_selection import train_test_split"
   ]
  },
  {
   "cell_type": "code",
   "execution_count": 2,
   "metadata": {},
   "outputs": [],
   "source": [
    "try:\n",
    "    df = pd.read_csv('insurance.csv')\n",
    "except:\n",
    "    df = pd.read_csv('/datasets/insurance.csv')"
   ]
  },
  {
   "cell_type": "code",
   "execution_count": 3,
   "metadata": {},
   "outputs": [
    {
     "data": {
      "text/html": [
       "<div>\n",
       "<style scoped>\n",
       "    .dataframe tbody tr th:only-of-type {\n",
       "        vertical-align: middle;\n",
       "    }\n",
       "\n",
       "    .dataframe tbody tr th {\n",
       "        vertical-align: top;\n",
       "    }\n",
       "\n",
       "    .dataframe thead th {\n",
       "        text-align: right;\n",
       "    }\n",
       "</style>\n",
       "<table border=\"1\" class=\"dataframe\">\n",
       "  <thead>\n",
       "    <tr style=\"text-align: right;\">\n",
       "      <th></th>\n",
       "      <th>Пол</th>\n",
       "      <th>Возраст</th>\n",
       "      <th>Зарплата</th>\n",
       "      <th>Члены семьи</th>\n",
       "      <th>Страховые выплаты</th>\n",
       "    </tr>\n",
       "  </thead>\n",
       "  <tbody>\n",
       "    <tr>\n",
       "      <th>0</th>\n",
       "      <td>1</td>\n",
       "      <td>41.0</td>\n",
       "      <td>49600.0</td>\n",
       "      <td>1</td>\n",
       "      <td>0</td>\n",
       "    </tr>\n",
       "    <tr>\n",
       "      <th>1</th>\n",
       "      <td>0</td>\n",
       "      <td>46.0</td>\n",
       "      <td>38000.0</td>\n",
       "      <td>1</td>\n",
       "      <td>1</td>\n",
       "    </tr>\n",
       "    <tr>\n",
       "      <th>2</th>\n",
       "      <td>0</td>\n",
       "      <td>29.0</td>\n",
       "      <td>21000.0</td>\n",
       "      <td>0</td>\n",
       "      <td>0</td>\n",
       "    </tr>\n",
       "    <tr>\n",
       "      <th>3</th>\n",
       "      <td>0</td>\n",
       "      <td>21.0</td>\n",
       "      <td>41700.0</td>\n",
       "      <td>2</td>\n",
       "      <td>0</td>\n",
       "    </tr>\n",
       "    <tr>\n",
       "      <th>4</th>\n",
       "      <td>1</td>\n",
       "      <td>28.0</td>\n",
       "      <td>26100.0</td>\n",
       "      <td>0</td>\n",
       "      <td>0</td>\n",
       "    </tr>\n",
       "  </tbody>\n",
       "</table>\n",
       "</div>"
      ],
      "text/plain": [
       "   Пол  Возраст  Зарплата  Члены семьи  Страховые выплаты\n",
       "0    1     41.0   49600.0            1                  0\n",
       "1    0     46.0   38000.0            1                  1\n",
       "2    0     29.0   21000.0            0                  0\n",
       "3    0     21.0   41700.0            2                  0\n",
       "4    1     28.0   26100.0            0                  0"
      ]
     },
     "execution_count": 3,
     "metadata": {},
     "output_type": "execute_result"
    }
   ],
   "source": [
    "df.head()"
   ]
  },
  {
   "cell_type": "markdown",
   "metadata": {},
   "source": [
    "Категориальный признак \"Пол\" закодирован c помощью `1` и `0`."
   ]
  },
  {
   "cell_type": "code",
   "execution_count": 4,
   "metadata": {},
   "outputs": [
    {
     "data": {
      "text/html": [
       "<div>\n",
       "<style scoped>\n",
       "    .dataframe tbody tr th:only-of-type {\n",
       "        vertical-align: middle;\n",
       "    }\n",
       "\n",
       "    .dataframe tbody tr th {\n",
       "        vertical-align: top;\n",
       "    }\n",
       "\n",
       "    .dataframe thead th {\n",
       "        text-align: right;\n",
       "    }\n",
       "</style>\n",
       "<table border=\"1\" class=\"dataframe\">\n",
       "  <thead>\n",
       "    <tr style=\"text-align: right;\">\n",
       "      <th></th>\n",
       "      <th>count</th>\n",
       "      <th>mean</th>\n",
       "      <th>std</th>\n",
       "      <th>min</th>\n",
       "      <th>25%</th>\n",
       "      <th>50%</th>\n",
       "      <th>75%</th>\n",
       "      <th>max</th>\n",
       "    </tr>\n",
       "  </thead>\n",
       "  <tbody>\n",
       "    <tr>\n",
       "      <th>Пол</th>\n",
       "      <td>5000.0</td>\n",
       "      <td>0.4990</td>\n",
       "      <td>0.500049</td>\n",
       "      <td>0.0</td>\n",
       "      <td>0.0</td>\n",
       "      <td>0.0</td>\n",
       "      <td>1.0</td>\n",
       "      <td>1.0</td>\n",
       "    </tr>\n",
       "    <tr>\n",
       "      <th>Возраст</th>\n",
       "      <td>5000.0</td>\n",
       "      <td>30.9528</td>\n",
       "      <td>8.440807</td>\n",
       "      <td>18.0</td>\n",
       "      <td>24.0</td>\n",
       "      <td>30.0</td>\n",
       "      <td>37.0</td>\n",
       "      <td>65.0</td>\n",
       "    </tr>\n",
       "    <tr>\n",
       "      <th>Зарплата</th>\n",
       "      <td>5000.0</td>\n",
       "      <td>39916.3600</td>\n",
       "      <td>9900.083569</td>\n",
       "      <td>5300.0</td>\n",
       "      <td>33300.0</td>\n",
       "      <td>40200.0</td>\n",
       "      <td>46600.0</td>\n",
       "      <td>79000.0</td>\n",
       "    </tr>\n",
       "    <tr>\n",
       "      <th>Члены семьи</th>\n",
       "      <td>5000.0</td>\n",
       "      <td>1.1942</td>\n",
       "      <td>1.091387</td>\n",
       "      <td>0.0</td>\n",
       "      <td>0.0</td>\n",
       "      <td>1.0</td>\n",
       "      <td>2.0</td>\n",
       "      <td>6.0</td>\n",
       "    </tr>\n",
       "    <tr>\n",
       "      <th>Страховые выплаты</th>\n",
       "      <td>5000.0</td>\n",
       "      <td>0.1480</td>\n",
       "      <td>0.463183</td>\n",
       "      <td>0.0</td>\n",
       "      <td>0.0</td>\n",
       "      <td>0.0</td>\n",
       "      <td>0.0</td>\n",
       "      <td>5.0</td>\n",
       "    </tr>\n",
       "  </tbody>\n",
       "</table>\n",
       "</div>"
      ],
      "text/plain": [
       "                    count        mean          std     min      25%      50%  \\\n",
       "Пол                5000.0      0.4990     0.500049     0.0      0.0      0.0   \n",
       "Возраст            5000.0     30.9528     8.440807    18.0     24.0     30.0   \n",
       "Зарплата           5000.0  39916.3600  9900.083569  5300.0  33300.0  40200.0   \n",
       "Члены семьи        5000.0      1.1942     1.091387     0.0      0.0      1.0   \n",
       "Страховые выплаты  5000.0      0.1480     0.463183     0.0      0.0      0.0   \n",
       "\n",
       "                       75%      max  \n",
       "Пол                    1.0      1.0  \n",
       "Возраст               37.0     65.0  \n",
       "Зарплата           46600.0  79000.0  \n",
       "Члены семьи            2.0      6.0  \n",
       "Страховые выплаты      0.0      5.0  "
      ]
     },
     "execution_count": 4,
     "metadata": {},
     "output_type": "execute_result"
    }
   ],
   "source": [
    "df.describe().T"
   ]
  },
  {
   "cell_type": "markdown",
   "metadata": {},
   "source": [
    "Аномальных значений не обнаружено"
   ]
  },
  {
   "cell_type": "code",
   "execution_count": 5,
   "metadata": {},
   "outputs": [
    {
     "name": "stdout",
     "output_type": "stream",
     "text": [
      "<class 'pandas.core.frame.DataFrame'>\n",
      "RangeIndex: 5000 entries, 0 to 4999\n",
      "Data columns (total 5 columns):\n",
      " #   Column             Non-Null Count  Dtype  \n",
      "---  ------             --------------  -----  \n",
      " 0   Пол                5000 non-null   int64  \n",
      " 1   Возраст            5000 non-null   float64\n",
      " 2   Зарплата           5000 non-null   float64\n",
      " 3   Члены семьи        5000 non-null   int64  \n",
      " 4   Страховые выплаты  5000 non-null   int64  \n",
      "dtypes: float64(2), int64(3)\n",
      "memory usage: 195.4 KB\n"
     ]
    }
   ],
   "source": [
    "df.info()"
   ]
  },
  {
   "cell_type": "markdown",
   "metadata": {},
   "source": [
    "В данных отсутствуют пропуски. Типы данных адекватны."
   ]
  },
  {
   "cell_type": "markdown",
   "metadata": {},
   "source": [
    "### Вывод\n",
    "Файл открыт и изучен. В постобрабоке не нуждается."
   ]
  },
  {
   "cell_type": "markdown",
   "metadata": {},
   "source": [
    "## Умножение матриц"
   ]
  },
  {
   "cell_type": "markdown",
   "metadata": {},
   "source": [
    "Признаки умножают на обратимую матрицу.  \n",
    "\n",
    "**Вопрос:** Изменится ли качество линейной регрессии?"
   ]
  },
  {
   "cell_type": "markdown",
   "metadata": {},
   "source": [
    "Обозначения:\n",
    "\n",
    "- $X$ — матрица признаков (нулевой столбец состоит из единиц)\n",
    "\n",
    "- $y$ — вектор целевого признака\n",
    "\n",
    "- $P$ — матрица, на которую умножаются признаки\n",
    "\n",
    "- $w$ — вектор весов линейной регрессии (нулевой элемент равен сдвигу)"
   ]
  },
  {
   "cell_type": "markdown",
   "metadata": {},
   "source": [
    "**Ответ:** Не изменится.\n",
    "\n",
    "**Обоснование:**  \n",
    "\n",
    "Предсказания:\n",
    "\n",
    "$$\n",
    "a = Xw\n",
    "$$\n",
    "\n",
    "Задача обучения:\n",
    "\n",
    "$$\n",
    "w = \\arg\\min_w MSE(Xw, y)\n",
    "$$\n",
    "\n",
    "Формула обучения:\n",
    "\n",
    "$$\n",
    "w = (X^T X)^{-1} X^T y\n",
    "$$\n",
    "\n",
    "Общая формула:\n",
    "\n",
    "$$\n",
    "a = X \\cdot (X^T \\cdot X)^{-1} \\cdot X^T \\cdot y\n",
    "$$"
   ]
  },
  {
   "cell_type": "markdown",
   "metadata": {},
   "source": [
    "В общей формуле, умножим матрицу признаков X на обратимую матрицу P\n",
    "\n",
    "$$\n",
    "ap = X \\cdot P \\cdot\n",
    "{({(X \\cdot P)}^T  \\cdot X \\cdot P)}^{-1}\n",
    "\\cdot {(X \\cdot P)}^T \\cdot y\n",
    "$$"
   ]
  },
  {
   "cell_type": "markdown",
   "metadata": {},
   "source": [
    "Раскроим скобки\n",
    "$$\n",
    "ap = X \\cdot P \\cdot\n",
    "{(P^{T} \\cdot X^{T} \\cdot X \\cdot P)}^{-1} \\cdot\n",
    "P^{T} \\cdot X^{T} \\cdot y = \n",
    "$$\n",
    "$$\n",
    "X \\cdot P \\cdot P^{-1} \\cdot\n",
    "({{X}^T \\cdot X)}^{-1} \\cdot\n",
    "{({P}^T)}^{-1} \\cdot {P}^T \\cdot {X}^T  \\cdot y\n",
    "$$"
   ]
  },
  {
   "cell_type": "markdown",
   "metadata": {},
   "source": [
    "Воспользуемся свойством: $ P \\cdot {P}^{-1} = E$ и ${P}^{-1} \\cdot P = E$  \n",
    "\n",
    "$E$ - единичная матрица, обладающая свойством: $A \\cdot E = E \\cdot A = A$.  \n",
    "\n",
    "Таким образом: $ P \\cdot P^{-1} = E $ и $ {(P^T)}^{-1} \\cdot {P}^T = E$."
   ]
  },
  {
   "cell_type": "markdown",
   "metadata": {},
   "source": [
    "Формула преобретает вид:  \n",
    "$$\n",
    "ap = \n",
    "X \\cdot\n",
    "({{X}^T \\cdot X)}^{-1} \\cdot\n",
    "{X}^T  \\cdot y\n",
    "$$  \n",
    "\n",
    "Как мы можем видеть: $a = ap$"
   ]
  },
  {
   "cell_type": "markdown",
   "metadata": {},
   "source": [
    "**Обоснование:**\n",
    "\n",
    "Используемые свойства:\n",
    "$$\n",
    "(AB)^T=B^T A^T\n",
    "$$\n",
    "$$\n",
    "(AB)^{-1} = B^{-1} A^{-1}\n",
    "$$\n",
    "$$\n",
    "A A^{-1} = A^{-1} A = E\n",
    "$$\n",
    "$$\n",
    "AE = EA = A\n",
    "$$\n",
    "Доказательство:\n",
    "$$\n",
    "a = Xw = XEw = XPP^{-1}w = (XP)P^{-1}w = (XP)w'\n",
    "$$\n",
    "\\\n",
    "$$\n",
    "w = (X^T X)^{-1} X^T y\n",
    "$$\n",
    "\\\n",
    "$$\n",
    "w' = ((XP)^T XP)^{-1} (XP)^T y\n",
    "$$\n",
    "$$\n",
    "w' = (P^T (X^T X) P)^{-1} (XP)^T y\n",
    "$$"
   ]
  },
  {
   "cell_type": "markdown",
   "metadata": {},
   "source": [
    "### Вывод\n",
    "При произведении матрицы признаков на обратимую матрицу, предсказания модели линейной регрессии  **не** изменяются."
   ]
  },
  {
   "cell_type": "markdown",
   "metadata": {},
   "source": [
    "## Алгоритм преобразования"
   ]
  },
  {
   "cell_type": "markdown",
   "metadata": {},
   "source": [
    "**Алгоритм**\n",
    "\n",
    "Данные приходят в закодированном виде. Разработаем алгоритм кодировки.  \n",
    "\n",
    "\n",
    "- Генерируем случайную матрицу с помощью `numpy.random.random(size=None)`, потому что обратного преобразования задача не предпологает. В данной задаче подойдет этот метод.\n",
    "- В качестве параметров для аргумента size передается кортеж вида (ширина признаков, шараина признаков). Пример: матрица признаков X размерами 10х5: size=(5,5).\n",
    "- Создаем новую матрицу, путем перемножения матрицы признаков на матрицу, созданную с помощью `numpy.random.random()`"
   ]
  },
  {
   "cell_type": "markdown",
   "metadata": {},
   "source": [
    "**Обоснование**\n",
    "\n",
    "Обоснованием служит вывод из п.2."
   ]
  },
  {
   "cell_type": "markdown",
   "metadata": {},
   "source": [
    "## Проверка алгоритма"
   ]
  },
  {
   "cell_type": "markdown",
   "metadata": {},
   "source": [
    "Для начала разобьем нашу выборку на обучающую и тестовую."
   ]
  },
  {
   "cell_type": "code",
   "execution_count": 6,
   "metadata": {},
   "outputs": [
    {
     "data": {
      "text/html": [
       "<div>\n",
       "<style scoped>\n",
       "    .dataframe tbody tr th:only-of-type {\n",
       "        vertical-align: middle;\n",
       "    }\n",
       "\n",
       "    .dataframe tbody tr th {\n",
       "        vertical-align: top;\n",
       "    }\n",
       "\n",
       "    .dataframe thead th {\n",
       "        text-align: right;\n",
       "    }\n",
       "</style>\n",
       "<table border=\"1\" class=\"dataframe\">\n",
       "  <thead>\n",
       "    <tr style=\"text-align: right;\">\n",
       "      <th></th>\n",
       "      <th>Пол</th>\n",
       "      <th>Возраст</th>\n",
       "      <th>Зарплата</th>\n",
       "      <th>Члены семьи</th>\n",
       "    </tr>\n",
       "  </thead>\n",
       "  <tbody>\n",
       "    <tr>\n",
       "      <th>0</th>\n",
       "      <td>1</td>\n",
       "      <td>41.0</td>\n",
       "      <td>49600.0</td>\n",
       "      <td>1</td>\n",
       "    </tr>\n",
       "    <tr>\n",
       "      <th>1</th>\n",
       "      <td>0</td>\n",
       "      <td>46.0</td>\n",
       "      <td>38000.0</td>\n",
       "      <td>1</td>\n",
       "    </tr>\n",
       "    <tr>\n",
       "      <th>2</th>\n",
       "      <td>0</td>\n",
       "      <td>29.0</td>\n",
       "      <td>21000.0</td>\n",
       "      <td>0</td>\n",
       "    </tr>\n",
       "  </tbody>\n",
       "</table>\n",
       "</div>"
      ],
      "text/plain": [
       "   Пол  Возраст  Зарплата  Члены семьи\n",
       "0    1     41.0   49600.0            1\n",
       "1    0     46.0   38000.0            1\n",
       "2    0     29.0   21000.0            0"
      ]
     },
     "execution_count": 6,
     "metadata": {},
     "output_type": "execute_result"
    }
   ],
   "source": [
    "# датафрейм признаков\n",
    "features = df.drop('Страховые выплаты', axis=1)\n",
    "features.head(3)"
   ]
  },
  {
   "cell_type": "code",
   "execution_count": 7,
   "metadata": {},
   "outputs": [
    {
     "data": {
      "text/plain": [
       "0    0\n",
       "1    1\n",
       "2    0\n",
       "3    0\n",
       "4    0\n",
       "Name: Страховые выплаты, dtype: int64"
      ]
     },
     "execution_count": 7,
     "metadata": {},
     "output_type": "execute_result"
    }
   ],
   "source": [
    "# сериес целевых признаков\n",
    "target = df['Страховые выплаты']\n",
    "target.head()"
   ]
  },
  {
   "cell_type": "code",
   "execution_count": 8,
   "metadata": {},
   "outputs": [],
   "source": [
    "# разбивка на обучающие и тестовые выборки\n",
    "train_features, test_features, train_target, test_target = train_test_split(\n",
    "    features, target, test_size=0.2, random_state=20220421\n",
    ")"
   ]
  },
  {
   "cell_type": "code",
   "execution_count": 9,
   "metadata": {},
   "outputs": [
    {
     "name": "stdout",
     "output_type": "stream",
     "text": [
      "(4000, 4)\n",
      "(4000,)\n",
      "(1000, 4)\n",
      "(1000,)\n"
     ]
    }
   ],
   "source": [
    "# проверка размеров\n",
    "print(train_features.shape)\n",
    "print(train_target.shape)\n",
    "\n",
    "print(test_features.shape)\n",
    "print(test_target.shape)"
   ]
  },
  {
   "cell_type": "code",
   "execution_count": 10,
   "metadata": {},
   "outputs": [],
   "source": [
    "# квадратная матрица случайных чисел\n",
    "det = 0\n",
    "P = 0\n",
    "\n",
    "# проверка на обратимость через определитель матрицы\n",
    "while det == 0:\n",
    "    P = np.random.random(size=(features.shape[1], features.shape[1]))\n",
    "    det = np.linalg.det(P)\n",
    "\n",
    "def convert_feat(features):\n",
    "    \"\"\"функция кодирует признаки, путем умножения\"\"\"\n",
    "    return np.dot(features, P)"
   ]
  },
  {
   "cell_type": "markdown",
   "metadata": {},
   "source": [
    "Создадим закодированный выборки"
   ]
  },
  {
   "cell_type": "code",
   "execution_count": 11,
   "metadata": {},
   "outputs": [],
   "source": [
    "# закодированная выборка признаков\n",
    "# обучающая\n",
    "train_P = convert_feat(train_features)\n",
    "\n",
    "# тестовая\n",
    "test_P = convert_feat(test_features)"
   ]
  },
  {
   "cell_type": "markdown",
   "metadata": {},
   "source": [
    "### Проверка"
   ]
  },
  {
   "cell_type": "markdown",
   "metadata": {},
   "source": [
    "Незакодированные данные"
   ]
  },
  {
   "cell_type": "code",
   "execution_count": 12,
   "metadata": {},
   "outputs": [
    {
     "name": "stdout",
     "output_type": "stream",
     "text": [
      "0.44194094621174695\n"
     ]
    }
   ],
   "source": [
    "model = LinearRegression()\n",
    "\n",
    "# обучаем модель\n",
    "model.fit(train_features, train_target)\n",
    "\n",
    "# предсказания\n",
    "predictions = model.predict(test_features)\n",
    "\n",
    "print(\n",
    "    r2_score(test_target, predictions)\n",
    ")"
   ]
  },
  {
   "cell_type": "markdown",
   "metadata": {},
   "source": [
    "По закодированным данным"
   ]
  },
  {
   "cell_type": "code",
   "execution_count": 13,
   "metadata": {},
   "outputs": [
    {
     "name": "stdout",
     "output_type": "stream",
     "text": [
      "0.44194094622678903\n"
     ]
    }
   ],
   "source": [
    "model.fit(train_P, train_target)\n",
    "\n",
    "predictions = model.predict(test_P)\n",
    "\n",
    "print(\n",
    "    r2_score(test_target, predictions)\n",
    ")"
   ]
  },
  {
   "cell_type": "markdown",
   "metadata": {},
   "source": [
    "### Вывод\n",
    "Проверка работы алгоритма прошла успешна. Модель обучается и предсказывает как на закодированнных так и незакодированных признаках."
   ]
  },
  {
   "cell_type": "markdown",
   "metadata": {},
   "source": [
    "## ВЫВОД\n",
    "В работе было:\n",
    "- открыт и изучен файл\n",
    "- рассмотрено влияние умножения матрицы признаков на обратимую матрицу\n",
    "- предложен алгоритм кодирования для защиты личных данных\n",
    "- проверена работа алгоритма\n",
    "- даны краткие выводы по каждому пункту"
   ]
  }
 ],
 "metadata": {
  "ExecuteTimeLog": [
   {
    "duration": 529,
    "start_time": "2022-04-20T19:39:07.264Z"
   },
   {
    "duration": 112,
    "start_time": "2022-04-20T19:39:07.795Z"
   },
   {
    "duration": 23,
    "start_time": "2022-04-20T19:39:07.909Z"
   },
   {
    "duration": 37,
    "start_time": "2022-04-20T19:39:07.935Z"
   },
   {
    "duration": 30,
    "start_time": "2022-04-20T19:39:07.974Z"
   },
   {
    "duration": 15,
    "start_time": "2022-04-20T19:39:08.006Z"
   },
   {
    "duration": 821,
    "start_time": "2022-04-20T19:44:30.440Z"
   },
   {
    "duration": 205,
    "start_time": "2022-04-20T19:44:48.372Z"
   },
   {
    "duration": 210,
    "start_time": "2022-04-20T19:45:05.194Z"
   },
   {
    "duration": 207,
    "start_time": "2022-04-20T19:51:00.693Z"
   },
   {
    "duration": 263,
    "start_time": "2022-04-20T19:51:20.886Z"
   },
   {
    "duration": 424,
    "start_time": "2022-04-21T07:22:27.949Z"
   },
   {
    "duration": 78,
    "start_time": "2022-04-21T07:22:28.375Z"
   },
   {
    "duration": 16,
    "start_time": "2022-04-21T07:22:28.455Z"
   },
   {
    "duration": 23,
    "start_time": "2022-04-21T07:22:28.474Z"
   },
   {
    "duration": 9,
    "start_time": "2022-04-21T07:22:28.498Z"
   },
   {
    "duration": 566,
    "start_time": "2022-04-21T07:22:28.508Z"
   },
   {
    "duration": 120,
    "start_time": "2022-04-21T07:22:29.076Z"
   },
   {
    "duration": 12,
    "start_time": "2022-04-21T07:22:29.198Z"
   },
   {
    "duration": 8,
    "start_time": "2022-04-21T07:22:33.387Z"
   },
   {
    "duration": 5,
    "start_time": "2022-04-21T07:24:17.284Z"
   },
   {
    "duration": 4,
    "start_time": "2022-04-21T07:24:23.342Z"
   },
   {
    "duration": 63,
    "start_time": "2022-04-21T07:38:47.932Z"
   },
   {
    "duration": 5,
    "start_time": "2022-04-21T07:38:55.263Z"
   },
   {
    "duration": 8,
    "start_time": "2022-04-21T07:39:12.419Z"
   },
   {
    "duration": 4,
    "start_time": "2022-04-21T07:40:03.383Z"
   },
   {
    "duration": 134,
    "start_time": "2022-04-21T07:45:01.330Z"
   },
   {
    "duration": 619,
    "start_time": "2022-04-21T07:45:12.310Z"
   },
   {
    "duration": 17546,
    "start_time": "2022-04-21T07:45:17.004Z"
   },
   {
    "duration": 5,
    "start_time": "2022-04-21T07:46:01.810Z"
   },
   {
    "duration": 109,
    "start_time": "2022-04-21T07:46:04.152Z"
   },
   {
    "duration": 108,
    "start_time": "2022-04-21T07:47:09.500Z"
   },
   {
    "duration": 606,
    "start_time": "2022-04-21T07:47:21.374Z"
   },
   {
    "duration": 18408,
    "start_time": "2022-04-21T07:47:29.172Z"
   },
   {
    "duration": 59,
    "start_time": "2022-04-21T07:49:56.966Z"
   },
   {
    "duration": 3,
    "start_time": "2022-04-21T07:50:19.202Z"
   },
   {
    "duration": 7,
    "start_time": "2022-04-21T07:51:27.757Z"
   },
   {
    "duration": 136,
    "start_time": "2022-04-21T07:52:05.832Z"
   },
   {
    "duration": 4,
    "start_time": "2022-04-21T07:52:48.859Z"
   },
   {
    "duration": 5,
    "start_time": "2022-04-21T07:52:51.250Z"
   },
   {
    "duration": 3,
    "start_time": "2022-04-21T07:52:55.322Z"
   },
   {
    "duration": 5,
    "start_time": "2022-04-21T07:53:01.338Z"
   },
   {
    "duration": 6,
    "start_time": "2022-04-21T07:53:32.152Z"
   },
   {
    "duration": 115,
    "start_time": "2022-04-21T07:58:21.995Z"
   },
   {
    "duration": 5,
    "start_time": "2022-04-21T08:03:19.583Z"
   },
   {
    "duration": 5,
    "start_time": "2022-04-21T08:03:36.531Z"
   },
   {
    "duration": 14,
    "start_time": "2022-04-21T08:03:38.624Z"
   },
   {
    "duration": 4,
    "start_time": "2022-04-21T08:13:24.028Z"
   },
   {
    "duration": 5,
    "start_time": "2022-04-21T08:13:37.268Z"
   },
   {
    "duration": 6,
    "start_time": "2022-04-21T08:13:40.130Z"
   },
   {
    "duration": 3,
    "start_time": "2022-04-21T08:19:02.620Z"
   },
   {
    "duration": 7,
    "start_time": "2022-04-21T08:19:17.312Z"
   },
   {
    "duration": 10,
    "start_time": "2022-04-21T08:19:26.680Z"
   },
   {
    "duration": 5,
    "start_time": "2022-04-21T08:19:38.787Z"
   },
   {
    "duration": 7,
    "start_time": "2022-04-21T08:19:45.832Z"
   },
   {
    "duration": 4,
    "start_time": "2022-04-21T08:20:32.416Z"
   },
   {
    "duration": 103,
    "start_time": "2022-04-21T08:20:47.766Z"
   },
   {
    "duration": 5,
    "start_time": "2022-04-21T08:20:55.954Z"
   },
   {
    "duration": 14,
    "start_time": "2022-04-21T08:21:00.505Z"
   },
   {
    "duration": 9,
    "start_time": "2022-04-21T08:21:02.805Z"
   },
   {
    "duration": 5,
    "start_time": "2022-04-21T08:21:04.246Z"
   },
   {
    "duration": 7,
    "start_time": "2022-04-21T08:21:05.304Z"
   },
   {
    "duration": 5,
    "start_time": "2022-04-21T08:21:10.806Z"
   },
   {
    "duration": 8,
    "start_time": "2022-04-21T08:21:12.764Z"
   },
   {
    "duration": 9,
    "start_time": "2022-04-21T08:21:15.019Z"
   },
   {
    "duration": 4,
    "start_time": "2022-04-21T08:21:16.666Z"
   },
   {
    "duration": 7,
    "start_time": "2022-04-21T08:21:18.068Z"
   },
   {
    "duration": 471,
    "start_time": "2022-04-21T08:23:24.489Z"
   },
   {
    "duration": 4,
    "start_time": "2022-04-21T08:23:31.229Z"
   },
   {
    "duration": 8,
    "start_time": "2022-04-21T08:23:35.444Z"
   },
   {
    "duration": 9,
    "start_time": "2022-04-21T08:23:36.650Z"
   },
   {
    "duration": 5,
    "start_time": "2022-04-21T08:23:37.682Z"
   },
   {
    "duration": 8,
    "start_time": "2022-04-21T08:23:38.621Z"
   },
   {
    "duration": 7,
    "start_time": "2022-04-21T08:24:35.714Z"
   },
   {
    "duration": 8,
    "start_time": "2022-04-21T08:57:55.048Z"
   },
   {
    "duration": 9,
    "start_time": "2022-04-21T09:02:23.041Z"
   },
   {
    "duration": 9,
    "start_time": "2022-04-21T09:02:29.204Z"
   },
   {
    "duration": 9,
    "start_time": "2022-04-21T09:02:32.964Z"
   },
   {
    "duration": 4,
    "start_time": "2022-04-21T09:02:50.189Z"
   },
   {
    "duration": 5,
    "start_time": "2022-04-21T09:02:58.575Z"
   },
   {
    "duration": 6,
    "start_time": "2022-04-21T09:02:59.422Z"
   },
   {
    "duration": 9,
    "start_time": "2022-04-21T09:03:30.827Z"
   },
   {
    "duration": 9,
    "start_time": "2022-04-21T09:03:33.420Z"
   },
   {
    "duration": 4,
    "start_time": "2022-04-21T09:03:34.398Z"
   },
   {
    "duration": 6,
    "start_time": "2022-04-21T09:03:35.310Z"
   },
   {
    "duration": 10,
    "start_time": "2022-04-21T09:04:09.450Z"
   },
   {
    "duration": 11,
    "start_time": "2022-04-21T09:04:43.232Z"
   },
   {
    "duration": 11,
    "start_time": "2022-04-21T09:05:08.375Z"
   },
   {
    "duration": 8,
    "start_time": "2022-04-21T09:05:26.799Z"
   },
   {
    "duration": 7,
    "start_time": "2022-04-21T09:05:48.850Z"
   },
   {
    "duration": 5,
    "start_time": "2022-04-21T09:44:33.299Z"
   },
   {
    "duration": 9,
    "start_time": "2022-04-21T09:44:37.458Z"
   },
   {
    "duration": 5,
    "start_time": "2022-04-21T09:44:47.375Z"
   },
   {
    "duration": 6,
    "start_time": "2022-04-21T09:44:48.506Z"
   },
   {
    "duration": 6,
    "start_time": "2022-04-21T09:57:57.845Z"
   },
   {
    "duration": 4,
    "start_time": "2022-04-21T09:58:11.549Z"
   },
   {
    "duration": 3,
    "start_time": "2022-04-21T09:58:20.742Z"
   },
   {
    "duration": 4,
    "start_time": "2022-04-21T09:58:27.099Z"
   },
   {
    "duration": 4,
    "start_time": "2022-04-21T09:58:31.854Z"
   },
   {
    "duration": 3,
    "start_time": "2022-04-21T09:59:40.392Z"
   },
   {
    "duration": 10,
    "start_time": "2022-04-21T10:07:48.450Z"
   },
   {
    "duration": 10,
    "start_time": "2022-04-21T10:09:11.916Z"
   },
   {
    "duration": 8,
    "start_time": "2022-04-21T10:09:44.551Z"
   },
   {
    "duration": 5,
    "start_time": "2022-04-21T10:09:50.846Z"
   },
   {
    "duration": 5,
    "start_time": "2022-04-21T10:10:42.110Z"
   },
   {
    "duration": 9,
    "start_time": "2022-04-21T10:11:02.634Z"
   },
   {
    "duration": 5,
    "start_time": "2022-04-21T10:11:05.378Z"
   },
   {
    "duration": 4,
    "start_time": "2022-04-21T10:11:06.219Z"
   },
   {
    "duration": 5,
    "start_time": "2022-04-21T10:11:09.645Z"
   },
   {
    "duration": 4,
    "start_time": "2022-04-21T10:11:10.827Z"
   },
   {
    "duration": 5,
    "start_time": "2022-04-21T10:11:30.555Z"
   },
   {
    "duration": 5,
    "start_time": "2022-04-21T10:11:31.808Z"
   },
   {
    "duration": 3,
    "start_time": "2022-04-21T10:11:33.053Z"
   },
   {
    "duration": 5,
    "start_time": "2022-04-21T10:11:49.905Z"
   },
   {
    "duration": 12,
    "start_time": "2022-04-21T10:12:09.192Z"
   },
   {
    "duration": 5,
    "start_time": "2022-04-21T10:12:10.782Z"
   },
   {
    "duration": 5,
    "start_time": "2022-04-21T10:12:12.496Z"
   },
   {
    "duration": 4,
    "start_time": "2022-04-21T10:12:14.575Z"
   },
   {
    "duration": 1182,
    "start_time": "2022-04-21T10:45:06.399Z"
   },
   {
    "duration": 82,
    "start_time": "2022-04-21T10:45:07.583Z"
   },
   {
    "duration": 15,
    "start_time": "2022-04-21T10:45:07.666Z"
   },
   {
    "duration": 33,
    "start_time": "2022-04-21T10:45:07.683Z"
   },
   {
    "duration": 10,
    "start_time": "2022-04-21T10:45:07.717Z"
   },
   {
    "duration": 381,
    "start_time": "2022-04-21T10:45:07.728Z"
   },
   {
    "duration": 121,
    "start_time": "2022-04-21T10:45:08.111Z"
   },
   {
    "duration": 10,
    "start_time": "2022-04-21T10:45:08.234Z"
   },
   {
    "duration": 20,
    "start_time": "2022-04-21T10:45:08.246Z"
   },
   {
    "duration": 12,
    "start_time": "2022-04-21T10:45:08.269Z"
   },
   {
    "duration": 99,
    "start_time": "2022-04-21T10:45:08.282Z"
   },
   {
    "duration": 1,
    "start_time": "2022-04-21T10:45:08.382Z"
   },
   {
    "duration": 0,
    "start_time": "2022-04-21T10:45:08.384Z"
   },
   {
    "duration": 0,
    "start_time": "2022-04-21T10:45:08.385Z"
   },
   {
    "duration": 4,
    "start_time": "2022-04-21T10:45:19.525Z"
   },
   {
    "duration": 9,
    "start_time": "2022-04-21T10:45:19.531Z"
   },
   {
    "duration": 7,
    "start_time": "2022-04-21T10:45:19.541Z"
   },
   {
    "duration": 15,
    "start_time": "2022-04-21T10:45:19.549Z"
   },
   {
    "duration": 13,
    "start_time": "2022-04-21T10:45:40.056Z"
   },
   {
    "duration": 4,
    "start_time": "2022-04-21T10:47:06.012Z"
   },
   {
    "duration": 11,
    "start_time": "2022-04-21T10:47:07.376Z"
   },
   {
    "duration": 10,
    "start_time": "2022-04-21T10:47:14.017Z"
   },
   {
    "duration": 5,
    "start_time": "2022-04-21T10:47:57.625Z"
   },
   {
    "duration": 12,
    "start_time": "2022-04-21T10:48:08.430Z"
   },
   {
    "duration": 7,
    "start_time": "2022-04-21T10:48:20.422Z"
   },
   {
    "duration": 4,
    "start_time": "2022-04-21T10:50:11.896Z"
   },
   {
    "duration": 4,
    "start_time": "2022-04-21T10:50:16.119Z"
   },
   {
    "duration": 4,
    "start_time": "2022-04-21T10:50:16.603Z"
   },
   {
    "duration": 4,
    "start_time": "2022-04-21T10:50:17.231Z"
   },
   {
    "duration": 4,
    "start_time": "2022-04-21T10:50:17.711Z"
   },
   {
    "duration": 5,
    "start_time": "2022-04-21T10:50:19.189Z"
   },
   {
    "duration": 3,
    "start_time": "2022-04-21T10:50:20.488Z"
   },
   {
    "duration": 12,
    "start_time": "2022-04-21T10:50:21.950Z"
   },
   {
    "duration": 6,
    "start_time": "2022-04-21T10:50:23.445Z"
   },
   {
    "duration": 146,
    "start_time": "2022-04-22T05:26:07.009Z"
   },
   {
    "duration": 1257,
    "start_time": "2022-04-22T05:26:13.851Z"
   },
   {
    "duration": 3,
    "start_time": "2022-04-22T06:23:35.302Z"
   },
   {
    "duration": 132,
    "start_time": "2022-04-22T06:23:35.307Z"
   },
   {
    "duration": 20,
    "start_time": "2022-04-22T06:23:35.447Z"
   },
   {
    "duration": 27,
    "start_time": "2022-04-22T06:23:35.468Z"
   },
   {
    "duration": 11,
    "start_time": "2022-04-22T06:23:35.497Z"
   },
   {
    "duration": 9,
    "start_time": "2022-04-22T06:23:35.509Z"
   },
   {
    "duration": 7,
    "start_time": "2022-04-22T06:23:35.538Z"
   },
   {
    "duration": 26,
    "start_time": "2022-04-22T06:23:35.547Z"
   },
   {
    "duration": 5,
    "start_time": "2022-04-22T06:23:35.575Z"
   },
   {
    "duration": 4,
    "start_time": "2022-04-22T06:25:15.221Z"
   },
   {
    "duration": 4,
    "start_time": "2022-04-22T06:25:53.781Z"
   },
   {
    "duration": 10,
    "start_time": "2022-04-22T06:25:55.804Z"
   },
   {
    "duration": 6,
    "start_time": "2022-04-22T06:25:57.914Z"
   },
   {
    "duration": 1187,
    "start_time": "2022-04-22T06:28:20.159Z"
   },
   {
    "duration": 92,
    "start_time": "2022-04-22T06:28:21.349Z"
   },
   {
    "duration": 18,
    "start_time": "2022-04-22T06:28:21.448Z"
   },
   {
    "duration": 32,
    "start_time": "2022-04-22T06:28:21.468Z"
   },
   {
    "duration": 12,
    "start_time": "2022-04-22T06:28:21.502Z"
   },
   {
    "duration": 14,
    "start_time": "2022-04-22T06:28:21.515Z"
   },
   {
    "duration": 17,
    "start_time": "2022-04-22T06:28:21.537Z"
   },
   {
    "duration": 28,
    "start_time": "2022-04-22T06:28:21.557Z"
   },
   {
    "duration": 9,
    "start_time": "2022-04-22T06:28:21.587Z"
   },
   {
    "duration": 19,
    "start_time": "2022-04-22T06:28:21.598Z"
   },
   {
    "duration": 18,
    "start_time": "2022-04-22T06:28:21.618Z"
   },
   {
    "duration": 37,
    "start_time": "2022-04-22T06:28:21.638Z"
   },
   {
    "duration": 28,
    "start_time": "2022-04-22T06:28:21.677Z"
   }
  ],
  "kernelspec": {
   "display_name": "Python 3 (ipykernel)",
   "language": "python",
   "name": "python3"
  },
  "language_info": {
   "codemirror_mode": {
    "name": "ipython",
    "version": 3
   },
   "file_extension": ".py",
   "mimetype": "text/x-python",
   "name": "python",
   "nbconvert_exporter": "python",
   "pygments_lexer": "ipython3",
   "version": "3.10.5"
  },
  "toc": {
   "base_numbering": 1,
   "nav_menu": {},
   "number_sections": true,
   "sideBar": true,
   "skip_h1_title": true,
   "title_cell": "Содержание",
   "title_sidebar": "Contents",
   "toc_cell": true,
   "toc_position": {},
   "toc_section_display": true,
   "toc_window_display": false
  },
  "varInspector": {
   "cols": {
    "lenName": 16,
    "lenType": 16,
    "lenVar": 40
   },
   "kernels_config": {
    "python": {
     "delete_cmd_postfix": "",
     "delete_cmd_prefix": "del ",
     "library": "var_list.py",
     "varRefreshCmd": "print(var_dic_list())"
    },
    "r": {
     "delete_cmd_postfix": ") ",
     "delete_cmd_prefix": "rm(",
     "library": "var_list.r",
     "varRefreshCmd": "cat(var_dic_list()) "
    }
   },
   "types_to_exclude": [
    "module",
    "function",
    "builtin_function_or_method",
    "instance",
    "_Feature"
   ],
   "window_display": false
  }
 },
 "nbformat": 4,
 "nbformat_minor": 2
}
