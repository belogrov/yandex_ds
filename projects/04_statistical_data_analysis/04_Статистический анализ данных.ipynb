{
 "cells": [
  {
   "cell_type": "markdown",
   "metadata": {
    "toc": true
   },
   "source": [
    "<h1>Оглавление<span class=\"tocSkip\"></span></h1>\n",
    "<div class=\"toc\"><ul class=\"toc-item\"><li><span><a href=\"#Исследование-по-определению-перспективного-тарифа-для-телеком-компании-«Мегалайн»\" data-toc-modified-id=\"Исследование-по-определению-перспективного-тарифа-для-телеком-компании-«Мегалайн»-1\">Исследование по определению перспективного тарифа для телеком-компании «Мегалайн»</a></span></li><li><span><a href=\"#Общая-информация\" data-toc-modified-id=\"Общая-информация-2\">Общая информация</a></span></li><li><span><a href=\"#Описание-тарифов\" data-toc-modified-id=\"Описание-тарифов-3\">Описание тарифов</a></span></li><li><span><a href=\"#Описание-данных\" data-toc-modified-id=\"Описание-данных-4\">Описание данных</a></span></li><li><span><a href=\"#План-исследования\" data-toc-modified-id=\"План-исследования-5\">План исследования</a></span><ul class=\"toc-item\"><li><span><a href=\"#Изучение-данных\" data-toc-modified-id=\"Изучение-данных-5.1\">Изучение данных</a></span><ul class=\"toc-item\"><li><span><a href=\"#ВЫВОД\" data-toc-modified-id=\"ВЫВОД-5.1.1\">ВЫВОД</a></span></li></ul></li><li><span><a href=\"#Предобработка-данных\" data-toc-modified-id=\"Предобработка-данных-5.2\">Предобработка данных</a></span><ul class=\"toc-item\"><li><span><a href=\"#Замена-пропусков\" data-toc-modified-id=\"Замена-пропусков-5.2.1\">Замена пропусков</a></span></li><li><span><a href=\"#Замена-типов-данных\" data-toc-modified-id=\"Замена-типов-данных-5.2.2\">Замена типов данных</a></span><ul class=\"toc-item\"><li><span><a href=\"#Звонки\" data-toc-modified-id=\"Звонки-5.2.2.1\">Звонки</a></span></li><li><span><a href=\"#Интеренет-сессии\" data-toc-modified-id=\"Интеренет-сессии-5.2.2.2\">Интеренет сессии</a></span></li><li><span><a href=\"#Сообщения\" data-toc-modified-id=\"Сообщения-5.2.2.3\">Сообщения</a></span></li><li><span><a href=\"#Пользователи\" data-toc-modified-id=\"Пользователи-5.2.2.4\">Пользователи</a></span></li></ul></li><li><span><a href=\"#Расчеты\" data-toc-modified-id=\"Расчеты-5.2.3\">Расчеты</a></span><ul class=\"toc-item\"><li><span><a href=\"#Дополнительные-исследования\" data-toc-modified-id=\"Дополнительные-исследования-5.2.3.1\">Дополнительные исследования</a></span></li><li><span><a href=\"#Таблица-детализации-звонков\" data-toc-modified-id=\"Таблица-детализации-звонков-5.2.3.2\">Таблица детализации звонков</a></span></li><li><span><a href=\"#Таблица-детализации-сообщений\" data-toc-modified-id=\"Таблица-детализации-сообщений-5.2.3.3\">Таблица детализации сообщений</a></span></li><li><span><a href=\"#Таблица-детализации-траффика\" data-toc-modified-id=\"Таблица-детализации-траффика-5.2.3.4\">Таблица детализации траффика</a></span></li></ul></li><li><span><a href=\"#Объединение-датафреймов\" data-toc-modified-id=\"Объединение-датафреймов-5.2.4\">Объединение датафреймов</a></span><ul class=\"toc-item\"><li><span><a href=\"#Объединение\" data-toc-modified-id=\"Объединение-5.2.4.1\">Объединение</a></span></li><li><span><a href=\"#Окончательное-объединение\" data-toc-modified-id=\"Окончательное-объединение-5.2.4.2\">Окончательное объединение</a></span></li></ul></li><li><span><a href=\"#Окончательные-расчеты\" data-toc-modified-id=\"Окончательные-расчеты-5.2.5\">Окончательные расчеты</a></span><ul class=\"toc-item\"><li><span><a href=\"#Расчет-по-звонкам\" data-toc-modified-id=\"Расчет-по-звонкам-5.2.5.1\">Расчет по звонкам</a></span></li><li><span><a href=\"#Расчет-по-сообщениям\" data-toc-modified-id=\"Расчет-по-сообщениям-5.2.5.2\">Расчет по сообщениям</a></span></li><li><span><a href=\"#Расчет-по-интерент-траффику\" data-toc-modified-id=\"Расчет-по-интерент-траффику-5.2.5.3\">Расчет по интерент-траффику</a></span></li><li><span><a href=\"#расчет-общей-выручки-за-все-услуги\" data-toc-modified-id=\"расчет-общей-выручки-за-все-услуги-5.2.5.4\">расчет общей выручки за все услуги</a></span></li><li><span><a href=\"#ВЫВОД\" data-toc-modified-id=\"ВЫВОД-5.2.5.5\">ВЫВОД</a></span></li></ul></li></ul></li><li><span><a href=\"#Анализ-данных\" data-toc-modified-id=\"Анализ-данных-5.3\">Анализ данных</a></span><ul class=\"toc-item\"><li><span><a href=\"#Таблица-по-месяцам\" data-toc-modified-id=\"Таблица-по-месяцам-5.3.1\">Таблица по месяцам</a></span></li><li><span><a href=\"#Анализ-звонков\" data-toc-modified-id=\"Анализ-звонков-5.3.2\">Анализ звонков</a></span></li><li><span><a href=\"#Анализ-сообщений\" data-toc-modified-id=\"Анализ-сообщений-5.3.3\">Анализ сообщений</a></span></li><li><span><a href=\"#Анализ-интернет-траффика\" data-toc-modified-id=\"Анализ-интернет-траффика-5.3.4\">Анализ интернет-траффика</a></span></li><li><span><a href=\"#ВЫВОД\" data-toc-modified-id=\"ВЫВОД-5.3.5\">ВЫВОД</a></span></li></ul></li><li><span><a href=\"#Проверка-гипотез\" data-toc-modified-id=\"Проверка-гипотез-5.4\">Проверка гипотез</a></span><ul class=\"toc-item\"><li><span><a href=\"#выручки-тарифов-различаются\" data-toc-modified-id=\"выручки-тарифов-различаются-5.4.1\">выручки тарифов различаются</a></span></li><li><span><a href=\"#выручка-по-регионам\" data-toc-modified-id=\"выручка-по-регионам-5.4.2\">выручка по регионам</a></span></li><li><span><a href=\"#Вывод\" data-toc-modified-id=\"Вывод-5.4.3\">Вывод</a></span></li></ul></li><li><span><a href=\"#Общий-вывод\" data-toc-modified-id=\"Общий-вывод-5.5\">Общий вывод</a></span></li></ul></li></ul></div>"
   ]
  },
  {
   "cell_type": "markdown",
   "metadata": {},
   "source": [
    "# Исследование по определению перспективного тарифа для телеком-компании «Мегалайн»</h2>"
   ]
  },
  {
   "cell_type": "markdown",
   "metadata": {},
   "source": [
    "# Общая информация"
   ]
  },
  {
   "cell_type": "markdown",
   "metadata": {},
   "source": [
    "Компания «Мегалайн» — федеральный оператора сотовой связи. Их клиентам предлагают два тарифных плана: «Смарт» и «Ультра». Чтобы скорректировать рекламный бюджет, коммерческий департамент хочет понять, какой тариф приносит больше денег.  \n",
    "\n",
    "Нам предстоит сделать предварительный анализ тарифов на небольшой выборке клиентов. В распоряжении данные 500 пользователей «Мегалайна»: кто они, откуда, каким тарифом пользуются, сколько звонков и сообщений каждый отправил за 2018 год. Необходимо проанализировать поведение клиентов и сделать вывод — какой тариф лучше.\n"
   ]
  },
  {
   "cell_type": "markdown",
   "metadata": {},
   "source": [
    "# Описание тарифов"
   ]
  },
  {
   "cell_type": "markdown",
   "metadata": {},
   "source": [
    "**Тариф «Смарт»**\n",
    "1.\tЕжемесячная плата: 550 рублей\n",
    "2.\tВключено 500 минут разговора, 50 сообщений и 15 Гб интернет-трафика\n",
    "3.\tСтоимость услуг сверх тарифного пакета: минута разговора: 3 рубля («Мегалайн» всегда округляет вверх значения минут и мегабайтов. Если пользователь проговорил всего 1 секунду, в тарифе засчитывается целая минута); сообщение: 3 рубля; 1 Гб интернет-трафика: 200 рублей.\n",
    "**Тариф «Ультра»**\n",
    "1.\tЕжемесячная плата: 1950 рублей\n",
    "2.\tВключено 3000 минут разговора, 1000 сообщений и 30 Гб интернет-трафика\n",
    "3.\tСтоимость услуг сверх тарифного пакета: минута разговора: 1 рубль; сообщение: 1 рубль; 1 Гб интернет-трафика: 150 рублей.\n",
    "\n",
    "**Примечание:**  \n",
    "\n",
    "«Мегалайн» всегда округляет секунды до минут, а мегабайты — до гигабайт.  \n",
    "\n",
    "Каждый звонок округляется отдельно: даже если он длился всего 1 секунду, будет засчитан как 1 минута.  \n",
    "\n",
    "Для веб-трафика отдельные сессии не считаются. Вместо этого общая сумма за месяц округляется в бо́льшую сторону.  \n",
    "\n",
    "Если абонент использует 1025 мегабайт в этом месяце, с него возьмут плату за 2 гигабайта.\n",
    "\n",
    "\n"
   ]
  },
  {
   "cell_type": "markdown",
   "metadata": {},
   "source": [
    "# Описание данных\n",
    "**Таблица users (информация о пользователях):**\n",
    "* user_id — уникальный идентификатор пользователя\n",
    "* first_name — имя пользователя\n",
    "* last_name — фамилия пользователя\n",
    "* age — возраст пользователя (годы)\n",
    "* reg_date — дата подключения тарифа (день, месяц, год)\n",
    "* churn_date — дата прекращения пользования тарифом (если значение пропущено, то тариф ещё действовал на момент выгрузки данных)\n",
    "* city — город проживания пользователя\n",
    "* tarif — название тарифного плана  \n",
    "\n",
    "**Таблица calls (информация о звонках):**  \n",
    "* id — уникальный номер звонка\n",
    "* call_date — дата звонка\n",
    "* duration — длительность звонка в минутах\n",
    "* user_id — идентификатор пользователя, сделавшего звонок  \n",
    "\n",
    "*Комментарий: В данных вы найдёте звонки с нулевой продолжительностью. Это не ошибка: нулями обозначены пропущенные звонки, поэтому их не нужно удалять.*  \n",
    "\n",
    "\n",
    "**Таблица messages (информация о сообщениях):**\n",
    "* id — уникальный номер сообщение\n",
    "* message_date — дата сообщения\n",
    "* user_id — идентификатор пользователя, отправившего сообщение\n",
    "\n",
    "\n",
    "**Таблица internet (информация об интернет-сессиях):**  \n",
    "* id — уникальный номер сессии\n",
    "* mb_used — объём потраченного за сессию интернет-трафика (в мегабайтах)\n",
    "* session_date — дата интернет-сессии\n",
    "* user_id — идентификатор пользователя  \n",
    "\n",
    "\n",
    "**Таблица tariffs (информация о тарифах):**  \n",
    "* tariff_name — название тарифа\n",
    "* rub_monthly_fee — ежемесячная абонентская плата в рублях\n",
    "* minutes_included — количество минут разговора в месяц, включённых в абонентскую плату\n",
    "* messages_included — количество сообщений в месяц, включённых в абонентскую плату\n",
    "* mb_per_month_included — объём интернет-трафика, включённого в абонентскую плату (в мегабайтах)\n",
    "* rub_per_minute — стоимость минуты разговора сверх тарифного пакета (например, если в тарифе 100 минут разговора в месяц, то со 101 минуты будет взиматься плата)\n",
    "* rub_per_message — стоимость отправки сообщения сверх тарифного пакета\n",
    "* rub_per_gb — стоимость дополнительного гигабайта интернет-трафика сверх тарифного пакета (1 гигабайт = 1024 мегабайта)\n"
   ]
  },
  {
   "cell_type": "markdown",
   "metadata": {},
   "source": [
    "# План исследования\n",
    "Для выводов по исследование необходимо проделать следующие шаги:\n",
    "1. Открыть файлы с данными и изучить общую информацию.\n",
    "2. Подготовить данные: привести данные к нужным типам; найти и исправьте ошибки в данных, если они есть. Посчитать для каждого пользователя: количество сделанных звонков и израсходованных минут разговора по месяцам; количество отправленных сообщений по месяцам; объем израсходованного интернет-трафика по месяцам; помесячную выручку с каждого пользователя.  \n",
    "3. Проанализировать данные. Описать поведение клиентов оператора, исходя из выборки. Сколько минут разговора, сколько сообщений и какой объём интернет-трафика требуется пользователям каждого тарифа в месяц? Посчитать среднее количество, дисперсию и стандартное отклонение. Построить гистограммы. Описать распределения.\n",
    "4. Проверьте гипотезы: средняя выручка пользователей тарифов «Ультра» и «Смарт» различаются; средняя выручка пользователи из Москвы отличается от выручки пользователей из других регионов."
   ]
  },
  {
   "cell_type": "markdown",
   "metadata": {},
   "source": [
    "## Изучение данных"
   ]
  },
  {
   "cell_type": "markdown",
   "metadata": {},
   "source": [
    "Данные представлены в виде 4 датасетов:\n",
    "* /datasets/calls.csv;\n",
    "* /datasets/internet.csv;\n",
    "* /datasets/messages.csv;\n",
    "* /datasets/tariffs.csv;\n",
    "* /datasets/users.csv.  \n",
    "\n",
    "Откроем их"
   ]
  },
  {
   "cell_type": "code",
   "execution_count": 1,
   "metadata": {},
   "outputs": [],
   "source": [
    "import pandas as pd\n",
    "import matplotlib.pyplot as plt\n",
    "import math\n",
    "import numpy as np\n",
    "import seaborn as sns\n",
    "import matplotlib.pyplot as plt\n",
    "from scipy import stats as st"
   ]
  },
  {
   "cell_type": "markdown",
   "metadata": {},
   "source": [
    "Передадим содержимое датасетов в переменные"
   ]
  },
  {
   "cell_type": "markdown",
   "metadata": {},
   "source": [
    "**Таблица calls (информация о звонках)**"
   ]
  },
  {
   "cell_type": "code",
   "execution_count": 2,
   "metadata": {},
   "outputs": [
    {
     "data": {
      "text/html": [
       "<div>\n",
       "<style scoped>\n",
       "    .dataframe tbody tr th:only-of-type {\n",
       "        vertical-align: middle;\n",
       "    }\n",
       "\n",
       "    .dataframe tbody tr th {\n",
       "        vertical-align: top;\n",
       "    }\n",
       "\n",
       "    .dataframe thead th {\n",
       "        text-align: right;\n",
       "    }\n",
       "</style>\n",
       "<table border=\"1\" class=\"dataframe\">\n",
       "  <thead>\n",
       "    <tr style=\"text-align: right;\">\n",
       "      <th></th>\n",
       "      <th>id</th>\n",
       "      <th>call_date</th>\n",
       "      <th>duration</th>\n",
       "      <th>user_id</th>\n",
       "    </tr>\n",
       "  </thead>\n",
       "  <tbody>\n",
       "    <tr>\n",
       "      <td>0</td>\n",
       "      <td>1000_0</td>\n",
       "      <td>2018-07-25</td>\n",
       "      <td>0.00</td>\n",
       "      <td>1000</td>\n",
       "    </tr>\n",
       "    <tr>\n",
       "      <td>1</td>\n",
       "      <td>1000_1</td>\n",
       "      <td>2018-08-17</td>\n",
       "      <td>0.00</td>\n",
       "      <td>1000</td>\n",
       "    </tr>\n",
       "    <tr>\n",
       "      <td>2</td>\n",
       "      <td>1000_2</td>\n",
       "      <td>2018-06-11</td>\n",
       "      <td>2.85</td>\n",
       "      <td>1000</td>\n",
       "    </tr>\n",
       "    <tr>\n",
       "      <td>3</td>\n",
       "      <td>1000_3</td>\n",
       "      <td>2018-09-21</td>\n",
       "      <td>13.80</td>\n",
       "      <td>1000</td>\n",
       "    </tr>\n",
       "    <tr>\n",
       "      <td>4</td>\n",
       "      <td>1000_4</td>\n",
       "      <td>2018-12-15</td>\n",
       "      <td>5.18</td>\n",
       "      <td>1000</td>\n",
       "    </tr>\n",
       "  </tbody>\n",
       "</table>\n",
       "</div>"
      ],
      "text/plain": [
       "       id   call_date  duration  user_id\n",
       "0  1000_0  2018-07-25      0.00     1000\n",
       "1  1000_1  2018-08-17      0.00     1000\n",
       "2  1000_2  2018-06-11      2.85     1000\n",
       "3  1000_3  2018-09-21     13.80     1000\n",
       "4  1000_4  2018-12-15      5.18     1000"
      ]
     },
     "metadata": {},
     "output_type": "display_data"
    },
    {
     "name": "stdout",
     "output_type": "stream",
     "text": [
      "<class 'pandas.core.frame.DataFrame'>\n",
      "RangeIndex: 202607 entries, 0 to 202606\n",
      "Data columns (total 4 columns):\n",
      "id           202607 non-null object\n",
      "call_date    202607 non-null object\n",
      "duration     202607 non-null float64\n",
      "user_id      202607 non-null int64\n",
      "dtypes: float64(1), int64(1), object(2)\n",
      "memory usage: 6.2+ MB\n",
      "None\n",
      "Кол-во дубликатов: 0\n"
     ]
    }
   ],
   "source": [
    "df_calls = pd.read_csv('/datasets/calls.csv')\n",
    "display(df_calls.head())\n",
    "print(df_calls.info())\n",
    "print('Кол-во дубликатов:', df_calls.duplicated().sum())"
   ]
  },
  {
   "cell_type": "markdown",
   "metadata": {},
   "source": [
    "Предварительно с данными все в порядке. В следующем шаге изменим тип данных столбца `call_date`"
   ]
  },
  {
   "cell_type": "markdown",
   "metadata": {},
   "source": [
    "**Таблица internet (информация об интернет-сессиях):**"
   ]
  },
  {
   "cell_type": "code",
   "execution_count": 3,
   "metadata": {},
   "outputs": [
    {
     "data": {
      "text/html": [
       "<div>\n",
       "<style scoped>\n",
       "    .dataframe tbody tr th:only-of-type {\n",
       "        vertical-align: middle;\n",
       "    }\n",
       "\n",
       "    .dataframe tbody tr th {\n",
       "        vertical-align: top;\n",
       "    }\n",
       "\n",
       "    .dataframe thead th {\n",
       "        text-align: right;\n",
       "    }\n",
       "</style>\n",
       "<table border=\"1\" class=\"dataframe\">\n",
       "  <thead>\n",
       "    <tr style=\"text-align: right;\">\n",
       "      <th></th>\n",
       "      <th>Unnamed: 0</th>\n",
       "      <th>id</th>\n",
       "      <th>mb_used</th>\n",
       "      <th>session_date</th>\n",
       "      <th>user_id</th>\n",
       "    </tr>\n",
       "  </thead>\n",
       "  <tbody>\n",
       "    <tr>\n",
       "      <td>0</td>\n",
       "      <td>0</td>\n",
       "      <td>1000_0</td>\n",
       "      <td>112.95</td>\n",
       "      <td>2018-11-25</td>\n",
       "      <td>1000</td>\n",
       "    </tr>\n",
       "    <tr>\n",
       "      <td>1</td>\n",
       "      <td>1</td>\n",
       "      <td>1000_1</td>\n",
       "      <td>1052.81</td>\n",
       "      <td>2018-09-07</td>\n",
       "      <td>1000</td>\n",
       "    </tr>\n",
       "    <tr>\n",
       "      <td>2</td>\n",
       "      <td>2</td>\n",
       "      <td>1000_2</td>\n",
       "      <td>1197.26</td>\n",
       "      <td>2018-06-25</td>\n",
       "      <td>1000</td>\n",
       "    </tr>\n",
       "    <tr>\n",
       "      <td>3</td>\n",
       "      <td>3</td>\n",
       "      <td>1000_3</td>\n",
       "      <td>550.27</td>\n",
       "      <td>2018-08-22</td>\n",
       "      <td>1000</td>\n",
       "    </tr>\n",
       "    <tr>\n",
       "      <td>4</td>\n",
       "      <td>4</td>\n",
       "      <td>1000_4</td>\n",
       "      <td>302.56</td>\n",
       "      <td>2018-09-24</td>\n",
       "      <td>1000</td>\n",
       "    </tr>\n",
       "  </tbody>\n",
       "</table>\n",
       "</div>"
      ],
      "text/plain": [
       "   Unnamed: 0      id  mb_used session_date  user_id\n",
       "0           0  1000_0   112.95   2018-11-25     1000\n",
       "1           1  1000_1  1052.81   2018-09-07     1000\n",
       "2           2  1000_2  1197.26   2018-06-25     1000\n",
       "3           3  1000_3   550.27   2018-08-22     1000\n",
       "4           4  1000_4   302.56   2018-09-24     1000"
      ]
     },
     "metadata": {},
     "output_type": "display_data"
    },
    {
     "name": "stdout",
     "output_type": "stream",
     "text": [
      "<class 'pandas.core.frame.DataFrame'>\n",
      "RangeIndex: 149396 entries, 0 to 149395\n",
      "Data columns (total 5 columns):\n",
      "Unnamed: 0      149396 non-null int64\n",
      "id              149396 non-null object\n",
      "mb_used         149396 non-null float64\n",
      "session_date    149396 non-null object\n",
      "user_id         149396 non-null int64\n",
      "dtypes: float64(1), int64(2), object(2)\n",
      "memory usage: 5.7+ MB\n",
      "None\n",
      "Кол-во дубликатов: 0\n"
     ]
    }
   ],
   "source": [
    "df_internet = pd.read_csv('/datasets/internet.csv')\n",
    "display(df_internet.head())\n",
    "print(df_internet.info())\n",
    "print('Кол-во дубликатов:', df_internet.duplicated().sum())"
   ]
  },
  {
   "cell_type": "markdown",
   "metadata": {},
   "source": [
    "**Таблица messages (информация о сообщениях):**"
   ]
  },
  {
   "cell_type": "code",
   "execution_count": 4,
   "metadata": {},
   "outputs": [
    {
     "data": {
      "text/html": [
       "<div>\n",
       "<style scoped>\n",
       "    .dataframe tbody tr th:only-of-type {\n",
       "        vertical-align: middle;\n",
       "    }\n",
       "\n",
       "    .dataframe tbody tr th {\n",
       "        vertical-align: top;\n",
       "    }\n",
       "\n",
       "    .dataframe thead th {\n",
       "        text-align: right;\n",
       "    }\n",
       "</style>\n",
       "<table border=\"1\" class=\"dataframe\">\n",
       "  <thead>\n",
       "    <tr style=\"text-align: right;\">\n",
       "      <th></th>\n",
       "      <th>id</th>\n",
       "      <th>message_date</th>\n",
       "      <th>user_id</th>\n",
       "    </tr>\n",
       "  </thead>\n",
       "  <tbody>\n",
       "    <tr>\n",
       "      <td>0</td>\n",
       "      <td>1000_0</td>\n",
       "      <td>2018-06-27</td>\n",
       "      <td>1000</td>\n",
       "    </tr>\n",
       "    <tr>\n",
       "      <td>1</td>\n",
       "      <td>1000_1</td>\n",
       "      <td>2018-10-08</td>\n",
       "      <td>1000</td>\n",
       "    </tr>\n",
       "    <tr>\n",
       "      <td>2</td>\n",
       "      <td>1000_2</td>\n",
       "      <td>2018-08-04</td>\n",
       "      <td>1000</td>\n",
       "    </tr>\n",
       "    <tr>\n",
       "      <td>3</td>\n",
       "      <td>1000_3</td>\n",
       "      <td>2018-06-16</td>\n",
       "      <td>1000</td>\n",
       "    </tr>\n",
       "    <tr>\n",
       "      <td>4</td>\n",
       "      <td>1000_4</td>\n",
       "      <td>2018-12-05</td>\n",
       "      <td>1000</td>\n",
       "    </tr>\n",
       "  </tbody>\n",
       "</table>\n",
       "</div>"
      ],
      "text/plain": [
       "       id message_date  user_id\n",
       "0  1000_0   2018-06-27     1000\n",
       "1  1000_1   2018-10-08     1000\n",
       "2  1000_2   2018-08-04     1000\n",
       "3  1000_3   2018-06-16     1000\n",
       "4  1000_4   2018-12-05     1000"
      ]
     },
     "metadata": {},
     "output_type": "display_data"
    },
    {
     "name": "stdout",
     "output_type": "stream",
     "text": [
      "<class 'pandas.core.frame.DataFrame'>\n",
      "RangeIndex: 123036 entries, 0 to 123035\n",
      "Data columns (total 3 columns):\n",
      "id              123036 non-null object\n",
      "message_date    123036 non-null object\n",
      "user_id         123036 non-null int64\n",
      "dtypes: int64(1), object(2)\n",
      "memory usage: 2.8+ MB\n",
      "None\n",
      "Кол-во дубликатов: 0\n"
     ]
    }
   ],
   "source": [
    "df_message = pd.read_csv('/datasets/messages.csv')\n",
    "display(df_message.head())\n",
    "print(df_message.info())\n",
    "print('Кол-во дубликатов:', df_message.duplicated().sum())"
   ]
  },
  {
   "cell_type": "markdown",
   "metadata": {},
   "source": [
    "**Таблица tariffs (информация о тарифах):**"
   ]
  },
  {
   "cell_type": "code",
   "execution_count": 5,
   "metadata": {},
   "outputs": [
    {
     "data": {
      "text/html": [
       "<div>\n",
       "<style scoped>\n",
       "    .dataframe tbody tr th:only-of-type {\n",
       "        vertical-align: middle;\n",
       "    }\n",
       "\n",
       "    .dataframe tbody tr th {\n",
       "        vertical-align: top;\n",
       "    }\n",
       "\n",
       "    .dataframe thead th {\n",
       "        text-align: right;\n",
       "    }\n",
       "</style>\n",
       "<table border=\"1\" class=\"dataframe\">\n",
       "  <thead>\n",
       "    <tr style=\"text-align: right;\">\n",
       "      <th></th>\n",
       "      <th>messages_included</th>\n",
       "      <th>mb_per_month_included</th>\n",
       "      <th>minutes_included</th>\n",
       "      <th>rub_monthly_fee</th>\n",
       "      <th>rub_per_gb</th>\n",
       "      <th>rub_per_message</th>\n",
       "      <th>rub_per_minute</th>\n",
       "      <th>tariff_name</th>\n",
       "    </tr>\n",
       "  </thead>\n",
       "  <tbody>\n",
       "    <tr>\n",
       "      <td>0</td>\n",
       "      <td>50</td>\n",
       "      <td>15360</td>\n",
       "      <td>500</td>\n",
       "      <td>550</td>\n",
       "      <td>200</td>\n",
       "      <td>3</td>\n",
       "      <td>3</td>\n",
       "      <td>smart</td>\n",
       "    </tr>\n",
       "    <tr>\n",
       "      <td>1</td>\n",
       "      <td>1000</td>\n",
       "      <td>30720</td>\n",
       "      <td>3000</td>\n",
       "      <td>1950</td>\n",
       "      <td>150</td>\n",
       "      <td>1</td>\n",
       "      <td>1</td>\n",
       "      <td>ultra</td>\n",
       "    </tr>\n",
       "  </tbody>\n",
       "</table>\n",
       "</div>"
      ],
      "text/plain": [
       "   messages_included  mb_per_month_included  minutes_included  \\\n",
       "0                 50                  15360               500   \n",
       "1               1000                  30720              3000   \n",
       "\n",
       "   rub_monthly_fee  rub_per_gb  rub_per_message  rub_per_minute tariff_name  \n",
       "0              550         200                3               3       smart  \n",
       "1             1950         150                1               1       ultra  "
      ]
     },
     "metadata": {},
     "output_type": "display_data"
    },
    {
     "name": "stdout",
     "output_type": "stream",
     "text": [
      "<class 'pandas.core.frame.DataFrame'>\n",
      "RangeIndex: 2 entries, 0 to 1\n",
      "Data columns (total 8 columns):\n",
      "messages_included        2 non-null int64\n",
      "mb_per_month_included    2 non-null int64\n",
      "minutes_included         2 non-null int64\n",
      "rub_monthly_fee          2 non-null int64\n",
      "rub_per_gb               2 non-null int64\n",
      "rub_per_message          2 non-null int64\n",
      "rub_per_minute           2 non-null int64\n",
      "tariff_name              2 non-null object\n",
      "dtypes: int64(7), object(1)\n",
      "memory usage: 256.0+ bytes\n",
      "None\n"
     ]
    }
   ],
   "source": [
    "df_tarif = pd.read_csv('/datasets/tariffs.csv')\n",
    "display(df_tarif.head())\n",
    "print(df_tarif.info())"
   ]
  },
  {
   "cell_type": "markdown",
   "metadata": {},
   "source": [
    "**Таблица users (информация о пользователях):**"
   ]
  },
  {
   "cell_type": "code",
   "execution_count": 6,
   "metadata": {},
   "outputs": [
    {
     "data": {
      "text/html": [
       "<div>\n",
       "<style scoped>\n",
       "    .dataframe tbody tr th:only-of-type {\n",
       "        vertical-align: middle;\n",
       "    }\n",
       "\n",
       "    .dataframe tbody tr th {\n",
       "        vertical-align: top;\n",
       "    }\n",
       "\n",
       "    .dataframe thead th {\n",
       "        text-align: right;\n",
       "    }\n",
       "</style>\n",
       "<table border=\"1\" class=\"dataframe\">\n",
       "  <thead>\n",
       "    <tr style=\"text-align: right;\">\n",
       "      <th></th>\n",
       "      <th>user_id</th>\n",
       "      <th>age</th>\n",
       "      <th>churn_date</th>\n",
       "      <th>city</th>\n",
       "      <th>first_name</th>\n",
       "      <th>last_name</th>\n",
       "      <th>reg_date</th>\n",
       "      <th>tariff</th>\n",
       "    </tr>\n",
       "  </thead>\n",
       "  <tbody>\n",
       "    <tr>\n",
       "      <td>0</td>\n",
       "      <td>1000</td>\n",
       "      <td>52</td>\n",
       "      <td>NaN</td>\n",
       "      <td>Краснодар</td>\n",
       "      <td>Рафаил</td>\n",
       "      <td>Верещагин</td>\n",
       "      <td>2018-05-25</td>\n",
       "      <td>ultra</td>\n",
       "    </tr>\n",
       "    <tr>\n",
       "      <td>1</td>\n",
       "      <td>1001</td>\n",
       "      <td>41</td>\n",
       "      <td>NaN</td>\n",
       "      <td>Москва</td>\n",
       "      <td>Иван</td>\n",
       "      <td>Ежов</td>\n",
       "      <td>2018-11-01</td>\n",
       "      <td>smart</td>\n",
       "    </tr>\n",
       "    <tr>\n",
       "      <td>2</td>\n",
       "      <td>1002</td>\n",
       "      <td>59</td>\n",
       "      <td>NaN</td>\n",
       "      <td>Стерлитамак</td>\n",
       "      <td>Евгений</td>\n",
       "      <td>Абрамович</td>\n",
       "      <td>2018-06-17</td>\n",
       "      <td>smart</td>\n",
       "    </tr>\n",
       "    <tr>\n",
       "      <td>3</td>\n",
       "      <td>1003</td>\n",
       "      <td>23</td>\n",
       "      <td>NaN</td>\n",
       "      <td>Москва</td>\n",
       "      <td>Белла</td>\n",
       "      <td>Белякова</td>\n",
       "      <td>2018-08-17</td>\n",
       "      <td>ultra</td>\n",
       "    </tr>\n",
       "    <tr>\n",
       "      <td>4</td>\n",
       "      <td>1004</td>\n",
       "      <td>68</td>\n",
       "      <td>NaN</td>\n",
       "      <td>Новокузнецк</td>\n",
       "      <td>Татьяна</td>\n",
       "      <td>Авдеенко</td>\n",
       "      <td>2018-05-14</td>\n",
       "      <td>ultra</td>\n",
       "    </tr>\n",
       "  </tbody>\n",
       "</table>\n",
       "</div>"
      ],
      "text/plain": [
       "   user_id  age churn_date         city first_name  last_name    reg_date  \\\n",
       "0     1000   52        NaN    Краснодар     Рафаил  Верещагин  2018-05-25   \n",
       "1     1001   41        NaN       Москва       Иван       Ежов  2018-11-01   \n",
       "2     1002   59        NaN  Стерлитамак    Евгений  Абрамович  2018-06-17   \n",
       "3     1003   23        NaN       Москва      Белла   Белякова  2018-08-17   \n",
       "4     1004   68        NaN  Новокузнецк    Татьяна   Авдеенко  2018-05-14   \n",
       "\n",
       "  tariff  \n",
       "0  ultra  \n",
       "1  smart  \n",
       "2  smart  \n",
       "3  ultra  \n",
       "4  ultra  "
      ]
     },
     "metadata": {},
     "output_type": "display_data"
    },
    {
     "name": "stdout",
     "output_type": "stream",
     "text": [
      "<class 'pandas.core.frame.DataFrame'>\n",
      "RangeIndex: 500 entries, 0 to 499\n",
      "Data columns (total 8 columns):\n",
      "user_id       500 non-null int64\n",
      "age           500 non-null int64\n",
      "churn_date    38 non-null object\n",
      "city          500 non-null object\n",
      "first_name    500 non-null object\n",
      "last_name     500 non-null object\n",
      "reg_date      500 non-null object\n",
      "tariff        500 non-null object\n",
      "dtypes: int64(2), object(6)\n",
      "memory usage: 31.4+ KB\n",
      "None\n",
      "Кол-во дубликатов: 0\n"
     ]
    }
   ],
   "source": [
    "df_users = pd.read_csv('/datasets/users.csv')\n",
    "display(df_users.head())\n",
    "print(df_users.info())\n",
    "print('Кол-во дубликатов:', df_users.duplicated().sum())"
   ]
  },
  {
   "cell_type": "markdown",
   "metadata": {},
   "source": [
    "`churn_date` имеет пропуски, но как уже говорилось, это означает, что тарифом на момент выгрузки , все еще пользовались. Посмотрим посмотрим на последнюю дату."
   ]
  },
  {
   "cell_type": "code",
   "execution_count": 7,
   "metadata": {},
   "outputs": [
    {
     "data": {
      "text/plain": [
       "371    2018-12-30\n",
       "64     2018-12-26\n",
       "399    2018-12-25\n",
       "438    2018-12-24\n",
       "128    2018-12-23\n",
       "          ...    \n",
       "494           NaN\n",
       "495           NaN\n",
       "496           NaN\n",
       "497           NaN\n",
       "499           NaN\n",
       "Name: churn_date, Length: 500, dtype: object"
      ]
     },
     "execution_count": 7,
     "metadata": {},
     "output_type": "execute_result"
    }
   ],
   "source": [
    "df_users['churn_date'].sort_values(ascending=False)"
   ]
  },
  {
   "cell_type": "markdown",
   "metadata": {},
   "source": [
    "### ВЫВОД\n",
    "Предварительно можно утверждать, что данных достаточно для проверки гипотез.  \n",
    "Чтобы двигаться дальше, нужно произвести предобработку данных."
   ]
  },
  {
   "cell_type": "markdown",
   "metadata": {},
   "source": [
    "## Предобработка данных"
   ]
  },
  {
   "cell_type": "markdown",
   "metadata": {},
   "source": [
    "определим функцию"
   ]
  },
  {
   "cell_type": "code",
   "execution_count": 8,
   "metadata": {},
   "outputs": [],
   "source": [
    "def to_normal(data, col):\n",
    "    \"\"\"функция возвращает срез по правилу трех сигм\"\"\"\n",
    "    data_sigma = np.std(data[col]) # стандартное отклонение\n",
    "    data_mean = data[col].mean() #\n",
    "    # 99 % всех данных, при нормальном распределении лежит\n",
    "    # в диапозоне +- 3 стандартных отклонения от среднего\n",
    "    limit1 = data_mean - 3*data_sigma # среднее - 3 сигма\n",
    "    limit2 = data_mean + 3*data_sigma # среднее + 3 сигма\n",
    "    return data.query(f\"{limit1} < {col} < {limit2}\")"
   ]
  },
  {
   "cell_type": "markdown",
   "metadata": {},
   "source": [
    "### Замена пропусков"
   ]
  },
  {
   "cell_type": "markdown",
   "metadata": {},
   "source": [
    "В датафрейме `df_users` имеются пропуски, связанные с датой прекращения пользованием тарифа. Очевидным выходом из этой ситуации будет замена пропусков на последний день 2018 года, а именно '2018-12-31'"
   ]
  },
  {
   "cell_type": "code",
   "execution_count": 9,
   "metadata": {},
   "outputs": [
    {
     "name": "stdout",
     "output_type": "stream",
     "text": [
      "<class 'pandas.core.frame.DataFrame'>\n",
      "RangeIndex: 500 entries, 0 to 499\n",
      "Data columns (total 8 columns):\n",
      "user_id       500 non-null int64\n",
      "age           500 non-null int64\n",
      "churn_date    500 non-null object\n",
      "city          500 non-null object\n",
      "first_name    500 non-null object\n",
      "last_name     500 non-null object\n",
      "reg_date      500 non-null object\n",
      "tariff        500 non-null object\n",
      "dtypes: int64(2), object(6)\n",
      "memory usage: 31.4+ KB\n"
     ]
    }
   ],
   "source": [
    "df_users.fillna('2018-12-31', inplace=True)\n",
    "df_users.info()"
   ]
  },
  {
   "cell_type": "markdown",
   "metadata": {},
   "source": [
    "### Замена типов данных"
   ]
  },
  {
   "cell_type": "markdown",
   "metadata": {},
   "source": [
    "Изменим тип данных в столбцах, связанных с датой. Типы остальных столбцов, нас вполне устраивают."
   ]
  },
  {
   "cell_type": "markdown",
   "metadata": {},
   "source": [
    "#### Звонки"
   ]
  },
  {
   "cell_type": "code",
   "execution_count": 10,
   "metadata": {},
   "outputs": [
    {
     "name": "stdout",
     "output_type": "stream",
     "text": [
      "<class 'pandas.core.frame.DataFrame'>\n",
      "RangeIndex: 202607 entries, 0 to 202606\n",
      "Data columns (total 4 columns):\n",
      "id           202607 non-null object\n",
      "call_date    202607 non-null datetime64[ns]\n",
      "duration     202607 non-null float64\n",
      "user_id      202607 non-null int64\n",
      "dtypes: datetime64[ns](1), float64(1), int64(1), object(1)\n",
      "memory usage: 6.2+ MB\n"
     ]
    },
    {
     "data": {
      "text/plain": [
       "0   2018-07-25\n",
       "1   2018-08-17\n",
       "2   2018-06-11\n",
       "3   2018-09-21\n",
       "4   2018-12-15\n",
       "Name: call_date, dtype: datetime64[ns]"
      ]
     },
     "execution_count": 10,
     "metadata": {},
     "output_type": "execute_result"
    }
   ],
   "source": [
    "df_calls['call_date'] = pd.to_datetime(df_calls['call_date'], format='%Y-%m-%d')\n",
    "df_calls.info()\n",
    "df_calls['call_date'].head()"
   ]
  },
  {
   "cell_type": "markdown",
   "metadata": {},
   "source": [
    "#### Интеренет сессии"
   ]
  },
  {
   "cell_type": "code",
   "execution_count": 11,
   "metadata": {},
   "outputs": [
    {
     "name": "stdout",
     "output_type": "stream",
     "text": [
      "<class 'pandas.core.frame.DataFrame'>\n",
      "RangeIndex: 149396 entries, 0 to 149395\n",
      "Data columns (total 5 columns):\n",
      "Unnamed: 0      149396 non-null int64\n",
      "id              149396 non-null object\n",
      "mb_used         149396 non-null float64\n",
      "session_date    149396 non-null datetime64[ns]\n",
      "user_id         149396 non-null int64\n",
      "dtypes: datetime64[ns](1), float64(1), int64(2), object(1)\n",
      "memory usage: 5.7+ MB\n"
     ]
    },
    {
     "data": {
      "text/plain": [
       "0   2018-11-25\n",
       "1   2018-09-07\n",
       "2   2018-06-25\n",
       "3   2018-08-22\n",
       "4   2018-09-24\n",
       "Name: session_date, dtype: datetime64[ns]"
      ]
     },
     "execution_count": 11,
     "metadata": {},
     "output_type": "execute_result"
    }
   ],
   "source": [
    "df_internet['session_date'] = pd.to_datetime(df_internet['session_date'], format='%Y-%m-%d')\n",
    "df_internet.info()\n",
    "df_internet['session_date'].head()"
   ]
  },
  {
   "cell_type": "markdown",
   "metadata": {},
   "source": [
    "#### Сообщения"
   ]
  },
  {
   "cell_type": "code",
   "execution_count": 12,
   "metadata": {},
   "outputs": [
    {
     "name": "stdout",
     "output_type": "stream",
     "text": [
      "<class 'pandas.core.frame.DataFrame'>\n",
      "RangeIndex: 123036 entries, 0 to 123035\n",
      "Data columns (total 3 columns):\n",
      "id              123036 non-null object\n",
      "message_date    123036 non-null datetime64[ns]\n",
      "user_id         123036 non-null int64\n",
      "dtypes: datetime64[ns](1), int64(1), object(1)\n",
      "memory usage: 2.8+ MB\n"
     ]
    },
    {
     "data": {
      "text/plain": [
       "0   2018-06-27\n",
       "1   2018-10-08\n",
       "2   2018-08-04\n",
       "3   2018-06-16\n",
       "4   2018-12-05\n",
       "Name: message_date, dtype: datetime64[ns]"
      ]
     },
     "execution_count": 12,
     "metadata": {},
     "output_type": "execute_result"
    }
   ],
   "source": [
    "df_message['message_date'] = pd.to_datetime(df_message['message_date'], format='%Y-%m-%d')\n",
    "df_message.info()\n",
    "df_message['message_date'].head()"
   ]
  },
  {
   "cell_type": "markdown",
   "metadata": {},
   "source": [
    "#### Пользователи"
   ]
  },
  {
   "cell_type": "code",
   "execution_count": 13,
   "metadata": {},
   "outputs": [
    {
     "name": "stdout",
     "output_type": "stream",
     "text": [
      "<class 'pandas.core.frame.DataFrame'>\n",
      "RangeIndex: 500 entries, 0 to 499\n",
      "Data columns (total 8 columns):\n",
      "user_id       500 non-null int64\n",
      "age           500 non-null int64\n",
      "churn_date    500 non-null object\n",
      "city          500 non-null object\n",
      "first_name    500 non-null object\n",
      "last_name     500 non-null object\n",
      "reg_date      500 non-null datetime64[ns]\n",
      "tariff        500 non-null object\n",
      "dtypes: datetime64[ns](1), int64(2), object(5)\n",
      "memory usage: 31.4+ KB\n"
     ]
    },
    {
     "data": {
      "text/plain": [
       "0   2018-05-25\n",
       "1   2018-11-01\n",
       "2   2018-06-17\n",
       "3   2018-08-17\n",
       "4   2018-05-14\n",
       "Name: reg_date, dtype: datetime64[ns]"
      ]
     },
     "execution_count": 13,
     "metadata": {},
     "output_type": "execute_result"
    }
   ],
   "source": [
    "df_users['reg_date'] = pd.to_datetime(df_users['reg_date'], format='%Y-%m-%d')\n",
    "df_users.info()\n",
    "df_users['reg_date'].head()"
   ]
  },
  {
   "cell_type": "code",
   "execution_count": 14,
   "metadata": {},
   "outputs": [
    {
     "name": "stdout",
     "output_type": "stream",
     "text": [
      "<class 'pandas.core.frame.DataFrame'>\n",
      "RangeIndex: 500 entries, 0 to 499\n",
      "Data columns (total 8 columns):\n",
      "user_id       500 non-null int64\n",
      "age           500 non-null int64\n",
      "churn_date    500 non-null datetime64[ns]\n",
      "city          500 non-null object\n",
      "first_name    500 non-null object\n",
      "last_name     500 non-null object\n",
      "reg_date      500 non-null datetime64[ns]\n",
      "tariff        500 non-null object\n",
      "dtypes: datetime64[ns](2), int64(2), object(4)\n",
      "memory usage: 31.4+ KB\n"
     ]
    },
    {
     "data": {
      "text/plain": [
       "0   2018-12-31\n",
       "1   2018-12-31\n",
       "2   2018-12-31\n",
       "3   2018-12-31\n",
       "4   2018-12-31\n",
       "Name: churn_date, dtype: datetime64[ns]"
      ]
     },
     "execution_count": 14,
     "metadata": {},
     "output_type": "execute_result"
    }
   ],
   "source": [
    "df_users['churn_date'] = pd.to_datetime(df_users['churn_date'], format='%Y-%m-%d')\n",
    "df_users.info()\n",
    "df_users['churn_date'].head()"
   ]
  },
  {
   "cell_type": "markdown",
   "metadata": {},
   "source": [
    "### Расчеты"
   ]
  },
  {
   "cell_type": "markdown",
   "metadata": {},
   "source": [
    "#### Дополнительные исследования"
   ]
  },
  {
   "cell_type": "raw",
   "metadata": {},
   "source": [
    "Проведет проверку: все ли клиенты пользуются услугами компании?"
   ]
  },
  {
   "cell_type": "code",
   "execution_count": 15,
   "metadata": {},
   "outputs": [
    {
     "name": "stdout",
     "output_type": "stream",
     "text": [
      "500\n",
      "497\n",
      "492\n",
      "426\n"
     ]
    }
   ],
   "source": [
    "print( len(df_users['user_id'].unique()) )\n",
    "\n",
    "print( len(df_internet['user_id'].unique()) )\n",
    "\n",
    "print( len(df_calls['user_id'].unique()) )\n",
    "\n",
    "print( len(df_message['user_id'].unique()) )"
   ]
  },
  {
   "cell_type": "markdown",
   "metadata": {},
   "source": [
    "Как мы можем убедится, существуют клиенты (до 15%), которые не пользуются некоторыми услугами(звонки, мобильный интернет, смс-сообщения). Можем найти id этих клиентов."
   ]
  },
  {
   "cell_type": "code",
   "execution_count": 16,
   "metadata": {},
   "outputs": [
    {
     "name": "stdout",
     "output_type": "stream",
     "text": [
      "3 клиента(ов) не использующие(x) мобильный интернет: {1128, 1273, 1371}\n",
      "\n",
      "8 клиента(ов) не использующие(x) звонки: {1473, 1091, 1128, 1231, 1328, 1489, 1106, 1371}\n",
      "\n",
      "74 клиента(ов) не использующие(x) смс: {1024, 1152, 1153, 1157, 1162, 1290, 1291, 1292, 1040, 1297, 1428, 1301, 1429, 1175, 1049, 1177, 1179, 1305, 1053, 1306, 1435, 1185, 1442, 1063, 1322, 1195, 1456, 1201, 1204, 1078, 1334, 1208, 1462, 1210, 1339, 1466, 1085, 1469, 1220, 1095, 1224, 1225, 1479, 1228, 1101, 1360, 1107, 1363, 1494, 1367, 1240, 1114, 1242, 1116, 1117, 1118, 1370, 1120, 1248, 1371, 1376, 1254, 1255, 1128, 1001, 1129, 1132, 1260, 1006, 1388, 1010, 1397, 1143, 1017}\n"
     ]
    }
   ],
   "source": [
    "total_user = set( df_users['user_id'].unique() )\n",
    "\n",
    "inet_user = set( df_internet['user_id'].unique() )\n",
    "\n",
    "call_user = set ( df_calls['user_id'].unique() )\n",
    "\n",
    "mes_user = set( df_message['user_id'].unique() )\n",
    "\n",
    "\n",
    "inet = total_user - inet_user\n",
    "print(len(inet),'клиента(ов) не использующие(x) мобильный интернет:', inet)\n",
    "print()\n",
    "call = total_user - call_user\n",
    "print(len(call),'клиента(ов) не использующие(x) звонки:', call)\n",
    "print()\n",
    "mes = total_user - mes_user\n",
    "print(len(mes),'клиента(ов) не использующие(x) смс:', mes)"
   ]
  },
  {
   "cell_type": "markdown",
   "metadata": {},
   "source": [
    "Рассмотрим их подробнее"
   ]
  },
  {
   "cell_type": "code",
   "execution_count": 17,
   "metadata": {},
   "outputs": [
    {
     "name": "stdout",
     "output_type": "stream",
     "text": [
      "Клиенты, которые не пользуются услугами компании: {1128, 1371}\n",
      "Кленты не использующие интерент и звонки: {1128, 1371}\n",
      "Кленты не использующие интеренет и смс: {1128, 1371}\n",
      "Кленты не использующие звонки и смс: {1128, 1371}\n"
     ]
    }
   ],
   "source": [
    "nothing_use = inet & call & mes\n",
    "print('Клиенты, которые не пользуются услугами компании:', nothing_use)\n",
    "\n",
    "print('Кленты не использующие интерент и звонки:', inet & call)\n",
    "\n",
    "print('Кленты не использующие интеренет и смс:', inet & mes)\n",
    "\n",
    "print('Кленты не использующие звонки и смс:', call & mes)"
   ]
  },
  {
   "cell_type": "markdown",
   "metadata": {},
   "source": [
    "В этом году, судя по выборке, у нас есть два клиента(id 1128 и id 1371), которые не пользуются услугами «Мегалайн». В дальнейшем исследовании эта информация может пригодится"
   ]
  },
  {
   "cell_type": "code",
   "execution_count": 18,
   "metadata": {},
   "outputs": [
    {
     "data": {
      "text/html": [
       "<div>\n",
       "<style scoped>\n",
       "    .dataframe tbody tr th:only-of-type {\n",
       "        vertical-align: middle;\n",
       "    }\n",
       "\n",
       "    .dataframe tbody tr th {\n",
       "        vertical-align: top;\n",
       "    }\n",
       "\n",
       "    .dataframe thead th {\n",
       "        text-align: right;\n",
       "    }\n",
       "</style>\n",
       "<table border=\"1\" class=\"dataframe\">\n",
       "  <thead>\n",
       "    <tr style=\"text-align: right;\">\n",
       "      <th></th>\n",
       "      <th>user_id</th>\n",
       "      <th>age</th>\n",
       "      <th>churn_date</th>\n",
       "      <th>city</th>\n",
       "      <th>first_name</th>\n",
       "      <th>last_name</th>\n",
       "      <th>reg_date</th>\n",
       "      <th>tariff</th>\n",
       "    </tr>\n",
       "  </thead>\n",
       "  <tbody>\n",
       "    <tr>\n",
       "      <td>128</td>\n",
       "      <td>1128</td>\n",
       "      <td>51</td>\n",
       "      <td>2018-12-23</td>\n",
       "      <td>Волжский</td>\n",
       "      <td>Ксения</td>\n",
       "      <td>Агаева</td>\n",
       "      <td>2018-12-15</td>\n",
       "      <td>ultra</td>\n",
       "    </tr>\n",
       "    <tr>\n",
       "      <td>371</td>\n",
       "      <td>1371</td>\n",
       "      <td>50</td>\n",
       "      <td>2018-12-30</td>\n",
       "      <td>Омск</td>\n",
       "      <td>Ириней</td>\n",
       "      <td>Трофимов</td>\n",
       "      <td>2018-12-25</td>\n",
       "      <td>smart</td>\n",
       "    </tr>\n",
       "  </tbody>\n",
       "</table>\n",
       "</div>"
      ],
      "text/plain": [
       "     user_id  age churn_date      city first_name last_name   reg_date tariff\n",
       "128     1128   51 2018-12-23  Волжский     Ксения    Агаева 2018-12-15  ultra\n",
       "371     1371   50 2018-12-30      Омск     Ириней  Трофимов 2018-12-25  smart"
      ]
     },
     "execution_count": 18,
     "metadata": {},
     "output_type": "execute_result"
    }
   ],
   "source": [
    "df_users.query('user_id in @nothing_use')"
   ]
  },
  {
   "cell_type": "markdown",
   "metadata": {},
   "source": [
    "Эти пользователи пользовались услугами компании около недели."
   ]
  },
  {
   "cell_type": "markdown",
   "metadata": {},
   "source": [
    "В каждой категории связи есть клиенты, которые ею не пользуются. Каждый клиент пользовался услугами связи в разное время. После объединения датафреймов, возможно, мы получим пропуски в данных."
   ]
  },
  {
   "cell_type": "markdown",
   "metadata": {},
   "source": [
    "Заменим букву 'ё' на 'е'"
   ]
  },
  {
   "cell_type": "code",
   "execution_count": 19,
   "metadata": {},
   "outputs": [
    {
     "name": "stdout",
     "output_type": "stream",
     "text": [
      "246\n",
      "246\n",
      "419\n",
      "419\n"
     ]
    }
   ],
   "source": [
    "print(len(df_users['first_name'].unique()))\n",
    "df_users['first_name'].str.replace('ё', 'е')\n",
    "print(len(df_users['first_name'].unique()))\n",
    "\n",
    "print(len(df_users['last_name'].unique()))\n",
    "df_users['last_name'].str.replace('ё', 'е')\n",
    "print(len(df_users['last_name'].unique()))"
   ]
  },
  {
   "cell_type": "markdown",
   "metadata": {},
   "source": [
    "Все имена уникальны, дубликатов не предвидется."
   ]
  },
  {
   "cell_type": "markdown",
   "metadata": {},
   "source": [
    "Проверим, входят ли даты звонков, интернет-сессий и смс в диапозон дат от регистрации до момента окончания действия тарифа"
   ]
  },
  {
   "cell_type": "code",
   "execution_count": 20,
   "metadata": {},
   "outputs": [
    {
     "data": {
      "text/html": [
       "<div>\n",
       "<style scoped>\n",
       "    .dataframe tbody tr th:only-of-type {\n",
       "        vertical-align: middle;\n",
       "    }\n",
       "\n",
       "    .dataframe tbody tr th {\n",
       "        vertical-align: top;\n",
       "    }\n",
       "\n",
       "    .dataframe thead th {\n",
       "        text-align: right;\n",
       "    }\n",
       "</style>\n",
       "<table border=\"1\" class=\"dataframe\">\n",
       "  <thead>\n",
       "    <tr style=\"text-align: right;\">\n",
       "      <th></th>\n",
       "      <th>user_id</th>\n",
       "      <th>age</th>\n",
       "      <th>churn_date</th>\n",
       "      <th>city</th>\n",
       "      <th>first_name</th>\n",
       "      <th>last_name</th>\n",
       "      <th>reg_date</th>\n",
       "      <th>tariff</th>\n",
       "      <th>id</th>\n",
       "      <th>call_date</th>\n",
       "      <th>duration</th>\n",
       "      <th>Unnamed: 0</th>\n",
       "      <th>mb_used</th>\n",
       "      <th>session_date</th>\n",
       "      <th>message_date</th>\n",
       "    </tr>\n",
       "  </thead>\n",
       "  <tbody>\n",
       "    <tr>\n",
       "      <td>0</td>\n",
       "      <td>1000</td>\n",
       "      <td>52</td>\n",
       "      <td>2018-12-31</td>\n",
       "      <td>Краснодар</td>\n",
       "      <td>Рафаил</td>\n",
       "      <td>Верещагин</td>\n",
       "      <td>2018-05-25</td>\n",
       "      <td>ultra</td>\n",
       "      <td>1000_0</td>\n",
       "      <td>2018-07-25</td>\n",
       "      <td>0.00</td>\n",
       "      <td>0</td>\n",
       "      <td>112.95</td>\n",
       "      <td>2018-11-25</td>\n",
       "      <td>2018-06-27</td>\n",
       "    </tr>\n",
       "    <tr>\n",
       "      <td>1</td>\n",
       "      <td>1000</td>\n",
       "      <td>52</td>\n",
       "      <td>2018-12-31</td>\n",
       "      <td>Краснодар</td>\n",
       "      <td>Рафаил</td>\n",
       "      <td>Верещагин</td>\n",
       "      <td>2018-05-25</td>\n",
       "      <td>ultra</td>\n",
       "      <td>1000_1</td>\n",
       "      <td>2018-08-17</td>\n",
       "      <td>0.00</td>\n",
       "      <td>1</td>\n",
       "      <td>1052.81</td>\n",
       "      <td>2018-09-07</td>\n",
       "      <td>2018-10-08</td>\n",
       "    </tr>\n",
       "    <tr>\n",
       "      <td>2</td>\n",
       "      <td>1000</td>\n",
       "      <td>52</td>\n",
       "      <td>2018-12-31</td>\n",
       "      <td>Краснодар</td>\n",
       "      <td>Рафаил</td>\n",
       "      <td>Верещагин</td>\n",
       "      <td>2018-05-25</td>\n",
       "      <td>ultra</td>\n",
       "      <td>1000_2</td>\n",
       "      <td>2018-06-11</td>\n",
       "      <td>2.85</td>\n",
       "      <td>2</td>\n",
       "      <td>1197.26</td>\n",
       "      <td>2018-06-25</td>\n",
       "      <td>2018-08-04</td>\n",
       "    </tr>\n",
       "    <tr>\n",
       "      <td>3</td>\n",
       "      <td>1000</td>\n",
       "      <td>52</td>\n",
       "      <td>2018-12-31</td>\n",
       "      <td>Краснодар</td>\n",
       "      <td>Рафаил</td>\n",
       "      <td>Верещагин</td>\n",
       "      <td>2018-05-25</td>\n",
       "      <td>ultra</td>\n",
       "      <td>1000_3</td>\n",
       "      <td>2018-09-21</td>\n",
       "      <td>13.80</td>\n",
       "      <td>3</td>\n",
       "      <td>550.27</td>\n",
       "      <td>2018-08-22</td>\n",
       "      <td>2018-06-16</td>\n",
       "    </tr>\n",
       "    <tr>\n",
       "      <td>4</td>\n",
       "      <td>1000</td>\n",
       "      <td>52</td>\n",
       "      <td>2018-12-31</td>\n",
       "      <td>Краснодар</td>\n",
       "      <td>Рафаил</td>\n",
       "      <td>Верещагин</td>\n",
       "      <td>2018-05-25</td>\n",
       "      <td>ultra</td>\n",
       "      <td>1000_4</td>\n",
       "      <td>2018-12-15</td>\n",
       "      <td>5.18</td>\n",
       "      <td>4</td>\n",
       "      <td>302.56</td>\n",
       "      <td>2018-09-24</td>\n",
       "      <td>2018-12-05</td>\n",
       "    </tr>\n",
       "    <tr>\n",
       "      <td>...</td>\n",
       "      <td>...</td>\n",
       "      <td>...</td>\n",
       "      <td>...</td>\n",
       "      <td>...</td>\n",
       "      <td>...</td>\n",
       "      <td>...</td>\n",
       "      <td>...</td>\n",
       "      <td>...</td>\n",
       "      <td>...</td>\n",
       "      <td>...</td>\n",
       "      <td>...</td>\n",
       "      <td>...</td>\n",
       "      <td>...</td>\n",
       "      <td>...</td>\n",
       "      <td>...</td>\n",
       "    </tr>\n",
       "    <tr>\n",
       "      <td>80141</td>\n",
       "      <td>1499</td>\n",
       "      <td>35</td>\n",
       "      <td>2018-12-31</td>\n",
       "      <td>Пермь</td>\n",
       "      <td>Гектор</td>\n",
       "      <td>Корнилов</td>\n",
       "      <td>2018-09-27</td>\n",
       "      <td>smart</td>\n",
       "      <td>1499_152</td>\n",
       "      <td>2018-09-30</td>\n",
       "      <td>7.04</td>\n",
       "      <td>149391</td>\n",
       "      <td>318.90</td>\n",
       "      <td>2018-10-03</td>\n",
       "      <td>2018-12-26</td>\n",
       "    </tr>\n",
       "    <tr>\n",
       "      <td>80142</td>\n",
       "      <td>1499</td>\n",
       "      <td>35</td>\n",
       "      <td>2018-12-31</td>\n",
       "      <td>Пермь</td>\n",
       "      <td>Гектор</td>\n",
       "      <td>Корнилов</td>\n",
       "      <td>2018-09-27</td>\n",
       "      <td>smart</td>\n",
       "      <td>1499_153</td>\n",
       "      <td>2018-10-27</td>\n",
       "      <td>7.49</td>\n",
       "      <td>149392</td>\n",
       "      <td>490.13</td>\n",
       "      <td>2018-12-14</td>\n",
       "      <td>2018-10-26</td>\n",
       "    </tr>\n",
       "    <tr>\n",
       "      <td>80143</td>\n",
       "      <td>1499</td>\n",
       "      <td>35</td>\n",
       "      <td>2018-12-31</td>\n",
       "      <td>Пермь</td>\n",
       "      <td>Гектор</td>\n",
       "      <td>Корнилов</td>\n",
       "      <td>2018-09-27</td>\n",
       "      <td>smart</td>\n",
       "      <td>1499_154</td>\n",
       "      <td>2018-12-29</td>\n",
       "      <td>2.35</td>\n",
       "      <td>149393</td>\n",
       "      <td>0.00</td>\n",
       "      <td>2018-10-27</td>\n",
       "      <td>2018-11-30</td>\n",
       "    </tr>\n",
       "    <tr>\n",
       "      <td>80144</td>\n",
       "      <td>1499</td>\n",
       "      <td>35</td>\n",
       "      <td>2018-12-31</td>\n",
       "      <td>Пермь</td>\n",
       "      <td>Гектор</td>\n",
       "      <td>Корнилов</td>\n",
       "      <td>2018-09-27</td>\n",
       "      <td>smart</td>\n",
       "      <td>1499_155</td>\n",
       "      <td>2018-10-16</td>\n",
       "      <td>0.00</td>\n",
       "      <td>149394</td>\n",
       "      <td>1246.32</td>\n",
       "      <td>2018-11-26</td>\n",
       "      <td>2018-11-25</td>\n",
       "    </tr>\n",
       "    <tr>\n",
       "      <td>80145</td>\n",
       "      <td>1499</td>\n",
       "      <td>35</td>\n",
       "      <td>2018-12-31</td>\n",
       "      <td>Пермь</td>\n",
       "      <td>Гектор</td>\n",
       "      <td>Корнилов</td>\n",
       "      <td>2018-09-27</td>\n",
       "      <td>smart</td>\n",
       "      <td>1499_156</td>\n",
       "      <td>2018-11-29</td>\n",
       "      <td>12.12</td>\n",
       "      <td>149395</td>\n",
       "      <td>544.37</td>\n",
       "      <td>2018-10-26</td>\n",
       "      <td>2018-10-15</td>\n",
       "    </tr>\n",
       "  </tbody>\n",
       "</table>\n",
       "<p>80146 rows × 15 columns</p>\n",
       "</div>"
      ],
      "text/plain": [
       "       user_id  age churn_date       city first_name  last_name   reg_date  \\\n",
       "0         1000   52 2018-12-31  Краснодар     Рафаил  Верещагин 2018-05-25   \n",
       "1         1000   52 2018-12-31  Краснодар     Рафаил  Верещагин 2018-05-25   \n",
       "2         1000   52 2018-12-31  Краснодар     Рафаил  Верещагин 2018-05-25   \n",
       "3         1000   52 2018-12-31  Краснодар     Рафаил  Верещагин 2018-05-25   \n",
       "4         1000   52 2018-12-31  Краснодар     Рафаил  Верещагин 2018-05-25   \n",
       "...        ...  ...        ...        ...        ...        ...        ...   \n",
       "80141     1499   35 2018-12-31      Пермь     Гектор   Корнилов 2018-09-27   \n",
       "80142     1499   35 2018-12-31      Пермь     Гектор   Корнилов 2018-09-27   \n",
       "80143     1499   35 2018-12-31      Пермь     Гектор   Корнилов 2018-09-27   \n",
       "80144     1499   35 2018-12-31      Пермь     Гектор   Корнилов 2018-09-27   \n",
       "80145     1499   35 2018-12-31      Пермь     Гектор   Корнилов 2018-09-27   \n",
       "\n",
       "      tariff        id  call_date  duration  Unnamed: 0  mb_used session_date  \\\n",
       "0      ultra    1000_0 2018-07-25      0.00           0   112.95   2018-11-25   \n",
       "1      ultra    1000_1 2018-08-17      0.00           1  1052.81   2018-09-07   \n",
       "2      ultra    1000_2 2018-06-11      2.85           2  1197.26   2018-06-25   \n",
       "3      ultra    1000_3 2018-09-21     13.80           3   550.27   2018-08-22   \n",
       "4      ultra    1000_4 2018-12-15      5.18           4   302.56   2018-09-24   \n",
       "...      ...       ...        ...       ...         ...      ...          ...   \n",
       "80141  smart  1499_152 2018-09-30      7.04      149391   318.90   2018-10-03   \n",
       "80142  smart  1499_153 2018-10-27      7.49      149392   490.13   2018-12-14   \n",
       "80143  smart  1499_154 2018-12-29      2.35      149393     0.00   2018-10-27   \n",
       "80144  smart  1499_155 2018-10-16      0.00      149394  1246.32   2018-11-26   \n",
       "80145  smart  1499_156 2018-11-29     12.12      149395   544.37   2018-10-26   \n",
       "\n",
       "      message_date  \n",
       "0       2018-06-27  \n",
       "1       2018-10-08  \n",
       "2       2018-08-04  \n",
       "3       2018-06-16  \n",
       "4       2018-12-05  \n",
       "...            ...  \n",
       "80141   2018-12-26  \n",
       "80142   2018-10-26  \n",
       "80143   2018-11-30  \n",
       "80144   2018-11-25  \n",
       "80145   2018-10-15  \n",
       "\n",
       "[80146 rows x 15 columns]"
      ]
     },
     "execution_count": 20,
     "metadata": {},
     "output_type": "execute_result"
    }
   ],
   "source": [
    "# Объединим все в один датафрейм\n",
    "sample = pd.merge(df_users, df_calls, on='user_id').merge(df_internet).merge(df_message)\n",
    "sample"
   ]
  },
  {
   "cell_type": "markdown",
   "metadata": {},
   "source": [
    "Создадим столбцы типа bool, по которому посмотрим на наше предположение о датах"
   ]
  },
  {
   "cell_type": "code",
   "execution_count": 21,
   "metadata": {},
   "outputs": [
    {
     "name": "stdout",
     "output_type": "stream",
     "text": [
      "0\n",
      "0\n",
      "0\n"
     ]
    }
   ],
   "source": [
    "# Столбец определяет вхождение дат звонков. Условия составлены так, чтобы вернулся False\n",
    "sample['in_calls'] = (sample['reg_date'] > sample['call_date'])  & (sample['call_date']> sample['churn_date'])\n",
    "print(sample['in_calls'].sum())\n",
    "\n",
    "# Столбец определяет вхождение дат смс\n",
    "sample['in_messages'] = (sample['reg_date'] > sample['message_date'])  & (sample['message_date']> sample['churn_date'])\n",
    "print(sample['in_messages'].sum())\n",
    "\n",
    "# Столбец определяет вхождение дат сессий\n",
    "sample['in_inet'] = (sample['reg_date'] > sample['session_date'])  & (sample['session_date']> sample['churn_date'])\n",
    "print(sample['in_inet'].sum())"
   ]
  },
  {
   "cell_type": "markdown",
   "metadata": {},
   "source": [
    "Входят. Мы точно уверены, что при объединении датафреймов не вылезут лишние месяца. Создавать отдельные имена для каждого столбца в сводных таблицах не нужно."
   ]
  },
  {
   "cell_type": "markdown",
   "metadata": {},
   "source": [
    "Проверим, нет ли выбивающихся значений, которые выглядят аномально. Воспользуемся методом .describe()"
   ]
  },
  {
   "cell_type": "code",
   "execution_count": 22,
   "metadata": {},
   "outputs": [
    {
     "name": "stdout",
     "output_type": "stream",
     "text": [
      "count     426.000000\n",
      "mean      288.816901\n",
      "std       267.607552\n",
      "min         1.000000\n",
      "25%        85.750000\n",
      "50%       215.500000\n",
      "75%       414.000000\n",
      "max      1463.000000\n",
      "Name: user_id, dtype: float64\n"
     ]
    },
    {
     "data": {
      "text/plain": [
       "array([[<matplotlib.axes._subplots.AxesSubplot object at 0x7ff087e8a250>]],\n",
       "      dtype=object)"
      ]
     },
     "execution_count": 22,
     "metadata": {},
     "output_type": "execute_result"
    },
    {
     "data": {
      "image/png": "[encoded data removed]",
      "text/plain": [
       "<Figure size 432x288 with 1 Axes>"
      ]
     },
     "metadata": {
      "needs_background": "light"
     },
     "output_type": "display_data"
    },
    {
     "data": {
      "image/png": "[encoded data removed]",
      "text/plain": [
       "<Figure size 432x288 with 1 Axes>"
      ]
     },
     "metadata": {
      "needs_background": "light"
     },
     "output_type": "display_data"
    }
   ],
   "source": [
    "t1 = df_calls['duration'].describe()\n",
    "t2 = df_internet['mb_used'].describe()\n",
    "t3 = df_message.groupby('user_id')['user_id'].count().describe()\n",
    "\n",
    "testing = (\n",
    "    pd.concat(\n",
    "        [ t1, t2, t3], axis=1)\n",
    ")\n",
    "\n",
    "testing['duration'] = testing['duration']\n",
    "testing['mb_used'] = testing['mb_used']/1024\n",
    "print(t3)\n",
    "\n",
    "df_calls.hist('duration')\n",
    "df_internet.hist('mb_used')\n"
   ]
  },
  {
   "cell_type": "markdown",
   "metadata": {},
   "source": [
    "Звонки, продолжительностью 38 минут, вполне имеют место быть.  \n",
    "Трафиком в 1,7 Гб никого не удивишь.  \n",
    "Рассмотрим пользователя с 1463 сообщениями"
   ]
  },
  {
   "cell_type": "code",
   "execution_count": 23,
   "metadata": {},
   "outputs": [
    {
     "data": {
      "text/plain": [
       "user_id\n",
       "1141       1\n",
       "1159       2\n",
       "1074       3\n",
       "1279       5\n",
       "1111       6\n",
       "        ... \n",
       "1356    1224\n",
       "1385    1380\n",
       "1231    1384\n",
       "1089    1408\n",
       "1277    1463\n",
       "Name: user_id, Length: 426, dtype: int64"
      ]
     },
     "metadata": {},
     "output_type": "display_data"
    },
    {
     "data": {
      "text/plain": [
       "<matplotlib.axes._subplots.AxesSubplot at 0x7ff0848d7650>"
      ]
     },
     "execution_count": 23,
     "metadata": {},
     "output_type": "execute_result"
    },
    {
     "data": {
      "image/png": "[encoded data removed]",
      "text/plain": [
       "<Figure size 432x288 with 1 Axes>"
      ]
     },
     "metadata": {
      "needs_background": "light"
     },
     "output_type": "display_data"
    }
   ],
   "source": [
    "# находим кол-во сообщений для каждого пользователя\n",
    "t4 = df_message.groupby('user_id')['user_id'].count().sort_values()\n",
    "display(t4)\n",
    "t4.hist()"
   ]
  },
  {
   "cell_type": "code",
   "execution_count": 24,
   "metadata": {},
   "outputs": [
    {
     "data": {
      "text/plain": [
       "1463"
      ]
     },
     "execution_count": 24,
     "metadata": {},
     "output_type": "execute_result"
    }
   ],
   "source": [
    "df_message.query('user_id == 1277')['user_id'].count()"
   ]
  },
  {
   "cell_type": "code",
   "execution_count": 25,
   "metadata": {},
   "outputs": [
    {
     "data": {
      "text/plain": [
       "277   315 days\n",
       "dtype: timedelta64[ns]"
      ]
     },
     "execution_count": 25,
     "metadata": {},
     "output_type": "execute_result"
    }
   ],
   "source": [
    "# сколько клиент пользовался тарифом\n",
    "df_users.query('user_id == 1277')['churn_date'] - df_users.query('user_id == 1277')['reg_date']"
   ]
  },
  {
   "cell_type": "code",
   "execution_count": 26,
   "metadata": {},
   "outputs": [
    {
     "data": {
      "text/plain": [
       "0.2902777777777778"
      ]
     },
     "execution_count": 26,
     "metadata": {},
     "output_type": "execute_result"
    }
   ],
   "source": [
    "# общее кол-во сообщений делим на кол-во дней и на 16 часов(8 часов мы спим)\n",
    "(1463/315/16)"
   ]
  },
  {
   "cell_type": "markdown",
   "metadata": {},
   "source": [
    "1 сообщение в 1.5 дня. Вполне приемлемо."
   ]
  },
  {
   "cell_type": "markdown",
   "metadata": {},
   "source": [
    "В исходных данных отсутсвуют ошибки"
   ]
  },
  {
   "cell_type": "markdown",
   "metadata": {},
   "source": [
    "#### Таблица детализации звонков"
   ]
  },
  {
   "cell_type": "markdown",
   "metadata": {},
   "source": [
    "Округлим израсходованные минуты, согласно правилам компании."
   ]
  },
  {
   "cell_type": "code",
   "execution_count": 27,
   "metadata": {},
   "outputs": [],
   "source": [
    "def m_ceil(row):\n",
    "    \"\"\"Округление к целому в большую сторону\"\"\"\n",
    "    return math.ceil(row)"
   ]
  },
  {
   "cell_type": "code",
   "execution_count": 28,
   "metadata": {},
   "outputs": [
    {
     "data": {
      "text/plain": [
       "0     0\n",
       "1     0\n",
       "2     3\n",
       "3    14\n",
       "4     6\n",
       "Name: duration, dtype: int64"
      ]
     },
     "execution_count": 28,
     "metadata": {},
     "output_type": "execute_result"
    }
   ],
   "source": [
    "df_calls['duration'] = df_calls['duration'].apply(m_ceil)\n",
    "df_calls['duration'].head()"
   ]
  },
  {
   "cell_type": "markdown",
   "metadata": {},
   "source": [
    "Добавим столбец, обозначающий месяц"
   ]
  },
  {
   "cell_type": "code",
   "execution_count": 29,
   "metadata": {},
   "outputs": [
    {
     "data": {
      "text/plain": [
       "0     7\n",
       "1     8\n",
       "2     6\n",
       "3     9\n",
       "4    12\n",
       "Name: month, dtype: int64"
      ]
     },
     "execution_count": 29,
     "metadata": {},
     "output_type": "execute_result"
    }
   ],
   "source": [
    "df_calls['month'] = pd.DatetimeIndex(df_calls['call_date']).month\n",
    "df_calls['month'].head()"
   ]
  },
  {
   "cell_type": "markdown",
   "metadata": {},
   "source": [
    "Расчитаем общее количество минут и количество звонков за месяц"
   ]
  },
  {
   "cell_type": "code",
   "execution_count": 30,
   "metadata": {},
   "outputs": [
    {
     "data": {
      "text/html": [
       "<div>\n",
       "<style scoped>\n",
       "    .dataframe tbody tr th:only-of-type {\n",
       "        vertical-align: middle;\n",
       "    }\n",
       "\n",
       "    .dataframe tbody tr th {\n",
       "        vertical-align: top;\n",
       "    }\n",
       "\n",
       "    .dataframe thead th {\n",
       "        text-align: right;\n",
       "    }\n",
       "</style>\n",
       "<table border=\"1\" class=\"dataframe\">\n",
       "  <thead>\n",
       "    <tr style=\"text-align: right;\">\n",
       "      <th></th>\n",
       "      <th>user_id</th>\n",
       "      <th>month</th>\n",
       "      <th>duration_sum</th>\n",
       "      <th>duration_count</th>\n",
       "    </tr>\n",
       "  </thead>\n",
       "  <tbody>\n",
       "    <tr>\n",
       "      <td>0</td>\n",
       "      <td>1000</td>\n",
       "      <td>5</td>\n",
       "      <td>159</td>\n",
       "      <td>22</td>\n",
       "    </tr>\n",
       "    <tr>\n",
       "      <td>1</td>\n",
       "      <td>1000</td>\n",
       "      <td>6</td>\n",
       "      <td>172</td>\n",
       "      <td>43</td>\n",
       "    </tr>\n",
       "    <tr>\n",
       "      <td>2</td>\n",
       "      <td>1000</td>\n",
       "      <td>7</td>\n",
       "      <td>340</td>\n",
       "      <td>47</td>\n",
       "    </tr>\n",
       "    <tr>\n",
       "      <td>3</td>\n",
       "      <td>1000</td>\n",
       "      <td>8</td>\n",
       "      <td>408</td>\n",
       "      <td>52</td>\n",
       "    </tr>\n",
       "    <tr>\n",
       "      <td>4</td>\n",
       "      <td>1000</td>\n",
       "      <td>9</td>\n",
       "      <td>466</td>\n",
       "      <td>58</td>\n",
       "    </tr>\n",
       "  </tbody>\n",
       "</table>\n",
       "</div>"
      ],
      "text/plain": [
       "   user_id  month  duration_sum  duration_count\n",
       "0     1000      5           159              22\n",
       "1     1000      6           172              43\n",
       "2     1000      7           340              47\n",
       "3     1000      8           408              52\n",
       "4     1000      9           466              58"
      ]
     },
     "execution_count": 30,
     "metadata": {},
     "output_type": "execute_result"
    }
   ],
   "source": [
    "calls_summary = df_calls.groupby(['user_id', 'month'])['duration'].agg(['sum', 'count']).reset_index()\n",
    "\n",
    "calls_summary.rename(\n",
    "    columns={'sum':'duration_sum', 'count':'duration_count'},\n",
    "    inplace=True)\n",
    "\n",
    "calls_summary.head()"
   ]
  },
  {
   "cell_type": "markdown",
   "metadata": {},
   "source": [
    "#### Таблица детализации сообщений"
   ]
  },
  {
   "cell_type": "markdown",
   "metadata": {},
   "source": [
    "Добавим столбец, обозначающий месяц"
   ]
  },
  {
   "cell_type": "code",
   "execution_count": 31,
   "metadata": {},
   "outputs": [
    {
     "data": {
      "text/plain": [
       "0     6\n",
       "1    10\n",
       "2     8\n",
       "3     6\n",
       "4    12\n",
       "Name: month, dtype: int64"
      ]
     },
     "execution_count": 31,
     "metadata": {},
     "output_type": "execute_result"
    }
   ],
   "source": [
    "df_message['month'] = pd.DatetimeIndex(df_message['message_date']).month\n",
    "df_message['month'].head()"
   ]
  },
  {
   "cell_type": "markdown",
   "metadata": {},
   "source": [
    "Посчитаем количество сообщение по месяцам"
   ]
  },
  {
   "cell_type": "code",
   "execution_count": 32,
   "metadata": {},
   "outputs": [
    {
     "data": {
      "text/html": [
       "<div>\n",
       "<style scoped>\n",
       "    .dataframe tbody tr th:only-of-type {\n",
       "        vertical-align: middle;\n",
       "    }\n",
       "\n",
       "    .dataframe tbody tr th {\n",
       "        vertical-align: top;\n",
       "    }\n",
       "\n",
       "    .dataframe thead th {\n",
       "        text-align: right;\n",
       "    }\n",
       "</style>\n",
       "<table border=\"1\" class=\"dataframe\">\n",
       "  <thead>\n",
       "    <tr style=\"text-align: right;\">\n",
       "      <th></th>\n",
       "      <th>user_id</th>\n",
       "      <th>month</th>\n",
       "      <th>message_count</th>\n",
       "    </tr>\n",
       "  </thead>\n",
       "  <tbody>\n",
       "    <tr>\n",
       "      <td>0</td>\n",
       "      <td>1000</td>\n",
       "      <td>5</td>\n",
       "      <td>22</td>\n",
       "    </tr>\n",
       "    <tr>\n",
       "      <td>1</td>\n",
       "      <td>1000</td>\n",
       "      <td>6</td>\n",
       "      <td>60</td>\n",
       "    </tr>\n",
       "    <tr>\n",
       "      <td>2</td>\n",
       "      <td>1000</td>\n",
       "      <td>7</td>\n",
       "      <td>75</td>\n",
       "    </tr>\n",
       "    <tr>\n",
       "      <td>3</td>\n",
       "      <td>1000</td>\n",
       "      <td>8</td>\n",
       "      <td>81</td>\n",
       "    </tr>\n",
       "    <tr>\n",
       "      <td>4</td>\n",
       "      <td>1000</td>\n",
       "      <td>9</td>\n",
       "      <td>57</td>\n",
       "    </tr>\n",
       "  </tbody>\n",
       "</table>\n",
       "</div>"
      ],
      "text/plain": [
       "   user_id  month  message_count\n",
       "0     1000      5             22\n",
       "1     1000      6             60\n",
       "2     1000      7             75\n",
       "3     1000      8             81\n",
       "4     1000      9             57"
      ]
     },
     "execution_count": 32,
     "metadata": {},
     "output_type": "execute_result"
    }
   ],
   "source": [
    "message_summary = df_message.groupby(['user_id', 'month'])['id'].count().reset_index()\n",
    "\n",
    "message_summary.rename(\n",
    "    columns={'id':'message_count'},\n",
    "    inplace=True)\n",
    "\n",
    "message_summary.head()"
   ]
  },
  {
   "cell_type": "markdown",
   "metadata": {},
   "source": [
    "#### Таблица детализации траффика"
   ]
  },
  {
   "cell_type": "markdown",
   "metadata": {},
   "source": [
    "Добавим столбец, обозначающий месяц"
   ]
  },
  {
   "cell_type": "code",
   "execution_count": 33,
   "metadata": {},
   "outputs": [
    {
     "data": {
      "text/plain": [
       "0    11\n",
       "1     9\n",
       "2     6\n",
       "3     8\n",
       "4     9\n",
       "Name: month, dtype: int64"
      ]
     },
     "execution_count": 33,
     "metadata": {},
     "output_type": "execute_result"
    }
   ],
   "source": [
    "df_internet['month'] = pd.DatetimeIndex(df_internet['session_date']).month\n",
    "df_internet['month'].head()"
   ]
  },
  {
   "cell_type": "markdown",
   "metadata": {},
   "source": [
    "Переведем весь трафик из мегабайтов в гигабайты."
   ]
  },
  {
   "cell_type": "code",
   "execution_count": 34,
   "metadata": {},
   "outputs": [
    {
     "data": {
      "text/html": [
       "<div>\n",
       "<style scoped>\n",
       "    .dataframe tbody tr th:only-of-type {\n",
       "        vertical-align: middle;\n",
       "    }\n",
       "\n",
       "    .dataframe tbody tr th {\n",
       "        vertical-align: top;\n",
       "    }\n",
       "\n",
       "    .dataframe thead th {\n",
       "        text-align: right;\n",
       "    }\n",
       "</style>\n",
       "<table border=\"1\" class=\"dataframe\">\n",
       "  <thead>\n",
       "    <tr style=\"text-align: right;\">\n",
       "      <th></th>\n",
       "      <th>Unnamed: 0</th>\n",
       "      <th>id</th>\n",
       "      <th>mb_used</th>\n",
       "      <th>session_date</th>\n",
       "      <th>user_id</th>\n",
       "      <th>month</th>\n",
       "    </tr>\n",
       "  </thead>\n",
       "  <tbody>\n",
       "    <tr>\n",
       "      <td>0</td>\n",
       "      <td>0</td>\n",
       "      <td>1000_0</td>\n",
       "      <td>0.110303</td>\n",
       "      <td>2018-11-25</td>\n",
       "      <td>1000</td>\n",
       "      <td>11</td>\n",
       "    </tr>\n",
       "    <tr>\n",
       "      <td>1</td>\n",
       "      <td>1</td>\n",
       "      <td>1000_1</td>\n",
       "      <td>1.028135</td>\n",
       "      <td>2018-09-07</td>\n",
       "      <td>1000</td>\n",
       "      <td>9</td>\n",
       "    </tr>\n",
       "    <tr>\n",
       "      <td>2</td>\n",
       "      <td>2</td>\n",
       "      <td>1000_2</td>\n",
       "      <td>1.169199</td>\n",
       "      <td>2018-06-25</td>\n",
       "      <td>1000</td>\n",
       "      <td>6</td>\n",
       "    </tr>\n",
       "    <tr>\n",
       "      <td>3</td>\n",
       "      <td>3</td>\n",
       "      <td>1000_3</td>\n",
       "      <td>0.537373</td>\n",
       "      <td>2018-08-22</td>\n",
       "      <td>1000</td>\n",
       "      <td>8</td>\n",
       "    </tr>\n",
       "    <tr>\n",
       "      <td>4</td>\n",
       "      <td>4</td>\n",
       "      <td>1000_4</td>\n",
       "      <td>0.295469</td>\n",
       "      <td>2018-09-24</td>\n",
       "      <td>1000</td>\n",
       "      <td>9</td>\n",
       "    </tr>\n",
       "  </tbody>\n",
       "</table>\n",
       "</div>"
      ],
      "text/plain": [
       "   Unnamed: 0      id   mb_used session_date  user_id  month\n",
       "0           0  1000_0  0.110303   2018-11-25     1000     11\n",
       "1           1  1000_1  1.028135   2018-09-07     1000      9\n",
       "2           2  1000_2  1.169199   2018-06-25     1000      6\n",
       "3           3  1000_3  0.537373   2018-08-22     1000      8\n",
       "4           4  1000_4  0.295469   2018-09-24     1000      9"
      ]
     },
     "execution_count": 34,
     "metadata": {},
     "output_type": "execute_result"
    }
   ],
   "source": [
    "df_internet['mb_used'] = df_internet['mb_used'] / 1024\n",
    "df_internet.head()"
   ]
  },
  {
   "cell_type": "code",
   "execution_count": 35,
   "metadata": {},
   "outputs": [
    {
     "data": {
      "text/html": [
       "<div>\n",
       "<style scoped>\n",
       "    .dataframe tbody tr th:only-of-type {\n",
       "        vertical-align: middle;\n",
       "    }\n",
       "\n",
       "    .dataframe tbody tr th {\n",
       "        vertical-align: top;\n",
       "    }\n",
       "\n",
       "    .dataframe thead th {\n",
       "        text-align: right;\n",
       "    }\n",
       "</style>\n",
       "<table border=\"1\" class=\"dataframe\">\n",
       "  <thead>\n",
       "    <tr style=\"text-align: right;\">\n",
       "      <th></th>\n",
       "      <th>user_id</th>\n",
       "      <th>month</th>\n",
       "      <th>gb_used</th>\n",
       "    </tr>\n",
       "  </thead>\n",
       "  <tbody>\n",
       "    <tr>\n",
       "      <td>0</td>\n",
       "      <td>1000</td>\n",
       "      <td>5</td>\n",
       "      <td>2.200674</td>\n",
       "    </tr>\n",
       "    <tr>\n",
       "      <td>1</td>\n",
       "      <td>1000</td>\n",
       "      <td>6</td>\n",
       "      <td>22.689229</td>\n",
       "    </tr>\n",
       "    <tr>\n",
       "      <td>2</td>\n",
       "      <td>1000</td>\n",
       "      <td>7</td>\n",
       "      <td>13.675430</td>\n",
       "    </tr>\n",
       "    <tr>\n",
       "      <td>3</td>\n",
       "      <td>1000</td>\n",
       "      <td>8</td>\n",
       "      <td>13.726494</td>\n",
       "    </tr>\n",
       "    <tr>\n",
       "      <td>4</td>\n",
       "      <td>1000</td>\n",
       "      <td>9</td>\n",
       "      <td>14.227451</td>\n",
       "    </tr>\n",
       "  </tbody>\n",
       "</table>\n",
       "</div>"
      ],
      "text/plain": [
       "   user_id  month    gb_used\n",
       "0     1000      5   2.200674\n",
       "1     1000      6  22.689229\n",
       "2     1000      7  13.675430\n",
       "3     1000      8  13.726494\n",
       "4     1000      9  14.227451"
      ]
     },
     "execution_count": 35,
     "metadata": {},
     "output_type": "execute_result"
    }
   ],
   "source": [
    "internet_summary = df_internet.groupby(['user_id', 'month'])['mb_used'].sum().reset_index()\n",
    "\n",
    "internet_summary.rename(\n",
    "    columns={'mb_used':'gb_used'},\n",
    "    inplace=True)\n",
    "\n",
    "internet_summary.head()"
   ]
  },
  {
   "cell_type": "markdown",
   "metadata": {},
   "source": [
    "Теперь округлим гигабайты по правилам компании."
   ]
  },
  {
   "cell_type": "code",
   "execution_count": 36,
   "metadata": {},
   "outputs": [
    {
     "data": {
      "text/html": [
       "<div>\n",
       "<style scoped>\n",
       "    .dataframe tbody tr th:only-of-type {\n",
       "        vertical-align: middle;\n",
       "    }\n",
       "\n",
       "    .dataframe tbody tr th {\n",
       "        vertical-align: top;\n",
       "    }\n",
       "\n",
       "    .dataframe thead th {\n",
       "        text-align: right;\n",
       "    }\n",
       "</style>\n",
       "<table border=\"1\" class=\"dataframe\">\n",
       "  <thead>\n",
       "    <tr style=\"text-align: right;\">\n",
       "      <th></th>\n",
       "      <th>user_id</th>\n",
       "      <th>month</th>\n",
       "      <th>gb_used</th>\n",
       "    </tr>\n",
       "  </thead>\n",
       "  <tbody>\n",
       "    <tr>\n",
       "      <td>0</td>\n",
       "      <td>1000</td>\n",
       "      <td>5</td>\n",
       "      <td>3</td>\n",
       "    </tr>\n",
       "    <tr>\n",
       "      <td>1</td>\n",
       "      <td>1000</td>\n",
       "      <td>6</td>\n",
       "      <td>23</td>\n",
       "    </tr>\n",
       "    <tr>\n",
       "      <td>2</td>\n",
       "      <td>1000</td>\n",
       "      <td>7</td>\n",
       "      <td>14</td>\n",
       "    </tr>\n",
       "    <tr>\n",
       "      <td>3</td>\n",
       "      <td>1000</td>\n",
       "      <td>8</td>\n",
       "      <td>14</td>\n",
       "    </tr>\n",
       "    <tr>\n",
       "      <td>4</td>\n",
       "      <td>1000</td>\n",
       "      <td>9</td>\n",
       "      <td>15</td>\n",
       "    </tr>\n",
       "  </tbody>\n",
       "</table>\n",
       "</div>"
      ],
      "text/plain": [
       "   user_id  month  gb_used\n",
       "0     1000      5        3\n",
       "1     1000      6       23\n",
       "2     1000      7       14\n",
       "3     1000      8       14\n",
       "4     1000      9       15"
      ]
     },
     "execution_count": 36,
     "metadata": {},
     "output_type": "execute_result"
    }
   ],
   "source": [
    "internet_summary['gb_used'] = internet_summary['gb_used'].apply(m_ceil)\n",
    "internet_summary.head()"
   ]
  },
  {
   "cell_type": "markdown",
   "metadata": {},
   "source": [
    "**Все необходимые расчеты выполнены.**"
   ]
  },
  {
   "cell_type": "markdown",
   "metadata": {},
   "source": [
    "### Объединение датафреймов"
   ]
  },
  {
   "cell_type": "markdown",
   "metadata": {},
   "source": [
    "#### Объединение"
   ]
  },
  {
   "cell_type": "markdown",
   "metadata": {},
   "source": [
    "Для дальнейшего исследования объедимини наши датафреймы в один большой"
   ]
  },
  {
   "cell_type": "markdown",
   "metadata": {},
   "source": [
    "##### Объединение таблиц 'пользователи' и 'тарифы'"
   ]
  },
  {
   "cell_type": "markdown",
   "metadata": {},
   "source": [
    "Объединим df_users и df_tarif по столбцу `tariff`"
   ]
  },
  {
   "cell_type": "code",
   "execution_count": 37,
   "metadata": {},
   "outputs": [
    {
     "data": {
      "text/html": [
       "<div>\n",
       "<style scoped>\n",
       "    .dataframe tbody tr th:only-of-type {\n",
       "        vertical-align: middle;\n",
       "    }\n",
       "\n",
       "    .dataframe tbody tr th {\n",
       "        vertical-align: top;\n",
       "    }\n",
       "\n",
       "    .dataframe thead th {\n",
       "        text-align: right;\n",
       "    }\n",
       "</style>\n",
       "<table border=\"1\" class=\"dataframe\">\n",
       "  <thead>\n",
       "    <tr style=\"text-align: right;\">\n",
       "      <th></th>\n",
       "      <th>user_id</th>\n",
       "      <th>age</th>\n",
       "      <th>churn_date</th>\n",
       "      <th>city</th>\n",
       "      <th>first_name</th>\n",
       "      <th>last_name</th>\n",
       "      <th>reg_date</th>\n",
       "      <th>tariff</th>\n",
       "      <th>messages_included</th>\n",
       "      <th>mb_per_month_included</th>\n",
       "      <th>minutes_included</th>\n",
       "      <th>rub_monthly_fee</th>\n",
       "      <th>rub_per_gb</th>\n",
       "      <th>rub_per_message</th>\n",
       "      <th>rub_per_minute</th>\n",
       "      <th>tariff_name</th>\n",
       "    </tr>\n",
       "  </thead>\n",
       "  <tbody>\n",
       "    <tr>\n",
       "      <td>0</td>\n",
       "      <td>1000</td>\n",
       "      <td>52</td>\n",
       "      <td>2018-12-31</td>\n",
       "      <td>Краснодар</td>\n",
       "      <td>Рафаил</td>\n",
       "      <td>Верещагин</td>\n",
       "      <td>2018-05-25</td>\n",
       "      <td>ultra</td>\n",
       "      <td>1000</td>\n",
       "      <td>30720</td>\n",
       "      <td>3000</td>\n",
       "      <td>1950</td>\n",
       "      <td>150</td>\n",
       "      <td>1</td>\n",
       "      <td>1</td>\n",
       "      <td>ultra</td>\n",
       "    </tr>\n",
       "    <tr>\n",
       "      <td>1</td>\n",
       "      <td>1001</td>\n",
       "      <td>41</td>\n",
       "      <td>2018-12-31</td>\n",
       "      <td>Москва</td>\n",
       "      <td>Иван</td>\n",
       "      <td>Ежов</td>\n",
       "      <td>2018-11-01</td>\n",
       "      <td>smart</td>\n",
       "      <td>50</td>\n",
       "      <td>15360</td>\n",
       "      <td>500</td>\n",
       "      <td>550</td>\n",
       "      <td>200</td>\n",
       "      <td>3</td>\n",
       "      <td>3</td>\n",
       "      <td>smart</td>\n",
       "    </tr>\n",
       "    <tr>\n",
       "      <td>2</td>\n",
       "      <td>1002</td>\n",
       "      <td>59</td>\n",
       "      <td>2018-12-31</td>\n",
       "      <td>Стерлитамак</td>\n",
       "      <td>Евгений</td>\n",
       "      <td>Абрамович</td>\n",
       "      <td>2018-06-17</td>\n",
       "      <td>smart</td>\n",
       "      <td>50</td>\n",
       "      <td>15360</td>\n",
       "      <td>500</td>\n",
       "      <td>550</td>\n",
       "      <td>200</td>\n",
       "      <td>3</td>\n",
       "      <td>3</td>\n",
       "      <td>smart</td>\n",
       "    </tr>\n",
       "    <tr>\n",
       "      <td>3</td>\n",
       "      <td>1003</td>\n",
       "      <td>23</td>\n",
       "      <td>2018-12-31</td>\n",
       "      <td>Москва</td>\n",
       "      <td>Белла</td>\n",
       "      <td>Белякова</td>\n",
       "      <td>2018-08-17</td>\n",
       "      <td>ultra</td>\n",
       "      <td>1000</td>\n",
       "      <td>30720</td>\n",
       "      <td>3000</td>\n",
       "      <td>1950</td>\n",
       "      <td>150</td>\n",
       "      <td>1</td>\n",
       "      <td>1</td>\n",
       "      <td>ultra</td>\n",
       "    </tr>\n",
       "    <tr>\n",
       "      <td>4</td>\n",
       "      <td>1004</td>\n",
       "      <td>68</td>\n",
       "      <td>2018-12-31</td>\n",
       "      <td>Новокузнецк</td>\n",
       "      <td>Татьяна</td>\n",
       "      <td>Авдеенко</td>\n",
       "      <td>2018-05-14</td>\n",
       "      <td>ultra</td>\n",
       "      <td>1000</td>\n",
       "      <td>30720</td>\n",
       "      <td>3000</td>\n",
       "      <td>1950</td>\n",
       "      <td>150</td>\n",
       "      <td>1</td>\n",
       "      <td>1</td>\n",
       "      <td>ultra</td>\n",
       "    </tr>\n",
       "  </tbody>\n",
       "</table>\n",
       "</div>"
      ],
      "text/plain": [
       "   user_id  age churn_date         city first_name  last_name   reg_date  \\\n",
       "0     1000   52 2018-12-31    Краснодар     Рафаил  Верещагин 2018-05-25   \n",
       "1     1001   41 2018-12-31       Москва       Иван       Ежов 2018-11-01   \n",
       "2     1002   59 2018-12-31  Стерлитамак    Евгений  Абрамович 2018-06-17   \n",
       "3     1003   23 2018-12-31       Москва      Белла   Белякова 2018-08-17   \n",
       "4     1004   68 2018-12-31  Новокузнецк    Татьяна   Авдеенко 2018-05-14   \n",
       "\n",
       "  tariff  messages_included  mb_per_month_included  minutes_included  \\\n",
       "0  ultra               1000                  30720              3000   \n",
       "1  smart                 50                  15360               500   \n",
       "2  smart                 50                  15360               500   \n",
       "3  ultra               1000                  30720              3000   \n",
       "4  ultra               1000                  30720              3000   \n",
       "\n",
       "   rub_monthly_fee  rub_per_gb  rub_per_message  rub_per_minute tariff_name  \n",
       "0             1950         150                1               1       ultra  \n",
       "1              550         200                3               3       smart  \n",
       "2              550         200                3               3       smart  \n",
       "3             1950         150                1               1       ultra  \n",
       "4             1950         150                1               1       ultra  "
      ]
     },
     "metadata": {},
     "output_type": "display_data"
    },
    {
     "name": "stdout",
     "output_type": "stream",
     "text": [
      "Кол-во пропусков: 0\n",
      "Кол-во записей: 500\n",
      "Кол-во пользователей: 500\n",
      "Index(['user_id', 'age', 'churn_date', 'city', 'first_name', 'last_name',\n",
      "       'reg_date', 'tariff', 'messages_included', 'mb_per_month_included',\n",
      "       'minutes_included', 'rub_monthly_fee', 'rub_per_gb', 'rub_per_message',\n",
      "       'rub_per_minute', 'tariff_name'],\n",
      "      dtype='object')\n"
     ]
    }
   ],
   "source": [
    "df_combined_user = pd.merge(df_users, df_tarif,\n",
    "                       how='left',\n",
    "                       left_on='tariff', right_on='tariff_name')\n",
    "\n",
    "display(df_combined_user.head())\n",
    "\n",
    "print('Кол-во пропусков:', df_combined_user.isna().sum().sum())\n",
    "\n",
    "print('Кол-во записей:', len(df_combined_user))\n",
    "\n",
    "\n",
    "print('Кол-во пользователей:', len(df_combined_user['user_id'].unique()))\n",
    "\n",
    "print(df_combined_user.columns)"
   ]
  },
  {
   "cell_type": "markdown",
   "metadata": {},
   "source": [
    "##### Объединение таблиц с детализацией услуг"
   ]
  },
  {
   "cell_type": "code",
   "execution_count": 38,
   "metadata": {},
   "outputs": [
    {
     "name": "stdout",
     "output_type": "stream",
     "text": [
      "Кол-во пользователей: 498\n"
     ]
    },
    {
     "data": {
      "text/html": [
       "<div>\n",
       "<style scoped>\n",
       "    .dataframe tbody tr th:only-of-type {\n",
       "        vertical-align: middle;\n",
       "    }\n",
       "\n",
       "    .dataframe tbody tr th {\n",
       "        vertical-align: top;\n",
       "    }\n",
       "\n",
       "    .dataframe thead th {\n",
       "        text-align: right;\n",
       "    }\n",
       "</style>\n",
       "<table border=\"1\" class=\"dataframe\">\n",
       "  <thead>\n",
       "    <tr style=\"text-align: right;\">\n",
       "      <th></th>\n",
       "      <th>user_id</th>\n",
       "      <th>month</th>\n",
       "      <th>message_count</th>\n",
       "      <th>duration_sum</th>\n",
       "      <th>duration_count</th>\n",
       "    </tr>\n",
       "  </thead>\n",
       "  <tbody>\n",
       "    <tr>\n",
       "      <td>0</td>\n",
       "      <td>1000</td>\n",
       "      <td>5</td>\n",
       "      <td>22.0</td>\n",
       "      <td>159.0</td>\n",
       "      <td>22.0</td>\n",
       "    </tr>\n",
       "    <tr>\n",
       "      <td>1</td>\n",
       "      <td>1000</td>\n",
       "      <td>6</td>\n",
       "      <td>60.0</td>\n",
       "      <td>172.0</td>\n",
       "      <td>43.0</td>\n",
       "    </tr>\n",
       "    <tr>\n",
       "      <td>2</td>\n",
       "      <td>1000</td>\n",
       "      <td>7</td>\n",
       "      <td>75.0</td>\n",
       "      <td>340.0</td>\n",
       "      <td>47.0</td>\n",
       "    </tr>\n",
       "    <tr>\n",
       "      <td>3</td>\n",
       "      <td>1000</td>\n",
       "      <td>8</td>\n",
       "      <td>81.0</td>\n",
       "      <td>408.0</td>\n",
       "      <td>52.0</td>\n",
       "    </tr>\n",
       "    <tr>\n",
       "      <td>4</td>\n",
       "      <td>1000</td>\n",
       "      <td>9</td>\n",
       "      <td>57.0</td>\n",
       "      <td>466.0</td>\n",
       "      <td>58.0</td>\n",
       "    </tr>\n",
       "    <tr>\n",
       "      <td>5</td>\n",
       "      <td>1000</td>\n",
       "      <td>10</td>\n",
       "      <td>73.0</td>\n",
       "      <td>350.0</td>\n",
       "      <td>57.0</td>\n",
       "    </tr>\n",
       "    <tr>\n",
       "      <td>6</td>\n",
       "      <td>1000</td>\n",
       "      <td>11</td>\n",
       "      <td>58.0</td>\n",
       "      <td>338.0</td>\n",
       "      <td>43.0</td>\n",
       "    </tr>\n",
       "    <tr>\n",
       "      <td>7</td>\n",
       "      <td>1000</td>\n",
       "      <td>12</td>\n",
       "      <td>70.0</td>\n",
       "      <td>333.0</td>\n",
       "      <td>46.0</td>\n",
       "    </tr>\n",
       "    <tr>\n",
       "      <td>8</td>\n",
       "      <td>1002</td>\n",
       "      <td>6</td>\n",
       "      <td>4.0</td>\n",
       "      <td>117.0</td>\n",
       "      <td>15.0</td>\n",
       "    </tr>\n",
       "    <tr>\n",
       "      <td>9</td>\n",
       "      <td>1002</td>\n",
       "      <td>7</td>\n",
       "      <td>11.0</td>\n",
       "      <td>214.0</td>\n",
       "      <td>26.0</td>\n",
       "    </tr>\n",
       "  </tbody>\n",
       "</table>\n",
       "</div>"
      ],
      "text/plain": [
       "   user_id  month  message_count  duration_sum  duration_count\n",
       "0     1000      5           22.0         159.0            22.0\n",
       "1     1000      6           60.0         172.0            43.0\n",
       "2     1000      7           75.0         340.0            47.0\n",
       "3     1000      8           81.0         408.0            52.0\n",
       "4     1000      9           57.0         466.0            58.0\n",
       "5     1000     10           73.0         350.0            57.0\n",
       "6     1000     11           58.0         338.0            43.0\n",
       "7     1000     12           70.0         333.0            46.0\n",
       "8     1002      6            4.0         117.0            15.0\n",
       "9     1002      7           11.0         214.0            26.0"
      ]
     },
     "metadata": {},
     "output_type": "display_data"
    },
    {
     "name": "stdout",
     "output_type": "stream",
     "text": [
      "user_id             0\n",
      "month               0\n",
      "message_count     496\n",
      "duration_sum       39\n",
      "duration_count     39\n",
      "dtype: int64\n",
      "Кол-во записей: 3213\n"
     ]
    }
   ],
   "source": [
    "# Объединяем таблицы сообщения и звонки\n",
    "df_combined_service = pd.merge(message_summary, calls_summary,\n",
    "                       how='outer',\n",
    "                       left_on=['user_id', 'month'], \n",
    "                       right_on=['user_id', 'month']\n",
    "                      )\n",
    "print('Кол-во пользователей:', len(df_combined_service['user_id'].unique()))\n",
    "\n",
    "display(df_combined_service.head(10))\n",
    "\n",
    "print(df_combined_service.isna().sum())\n",
    "\n",
    "print('Кол-во записей:', len(df_combined_service))"
   ]
  },
  {
   "cell_type": "markdown",
   "metadata": {},
   "source": [
    "##### объединение с таблицей 'детализация траффика'"
   ]
  },
  {
   "cell_type": "code",
   "execution_count": 39,
   "metadata": {},
   "outputs": [
    {
     "name": "stdout",
     "output_type": "stream",
     "text": [
      "Кол-во пользователей: 498\n"
     ]
    },
    {
     "data": {
      "text/html": [
       "<div>\n",
       "<style scoped>\n",
       "    .dataframe tbody tr th:only-of-type {\n",
       "        vertical-align: middle;\n",
       "    }\n",
       "\n",
       "    .dataframe tbody tr th {\n",
       "        vertical-align: top;\n",
       "    }\n",
       "\n",
       "    .dataframe thead th {\n",
       "        text-align: right;\n",
       "    }\n",
       "</style>\n",
       "<table border=\"1\" class=\"dataframe\">\n",
       "  <thead>\n",
       "    <tr style=\"text-align: right;\">\n",
       "      <th></th>\n",
       "      <th>user_id</th>\n",
       "      <th>month</th>\n",
       "      <th>message_count</th>\n",
       "      <th>duration_sum</th>\n",
       "      <th>duration_count</th>\n",
       "      <th>gb_used</th>\n",
       "    </tr>\n",
       "  </thead>\n",
       "  <tbody>\n",
       "    <tr>\n",
       "      <td>0</td>\n",
       "      <td>1000</td>\n",
       "      <td>5</td>\n",
       "      <td>22.0</td>\n",
       "      <td>159.0</td>\n",
       "      <td>22.0</td>\n",
       "      <td>3.0</td>\n",
       "    </tr>\n",
       "    <tr>\n",
       "      <td>1</td>\n",
       "      <td>1000</td>\n",
       "      <td>6</td>\n",
       "      <td>60.0</td>\n",
       "      <td>172.0</td>\n",
       "      <td>43.0</td>\n",
       "      <td>23.0</td>\n",
       "    </tr>\n",
       "    <tr>\n",
       "      <td>2</td>\n",
       "      <td>1000</td>\n",
       "      <td>7</td>\n",
       "      <td>75.0</td>\n",
       "      <td>340.0</td>\n",
       "      <td>47.0</td>\n",
       "      <td>14.0</td>\n",
       "    </tr>\n",
       "    <tr>\n",
       "      <td>3</td>\n",
       "      <td>1000</td>\n",
       "      <td>8</td>\n",
       "      <td>81.0</td>\n",
       "      <td>408.0</td>\n",
       "      <td>52.0</td>\n",
       "      <td>14.0</td>\n",
       "    </tr>\n",
       "    <tr>\n",
       "      <td>4</td>\n",
       "      <td>1000</td>\n",
       "      <td>9</td>\n",
       "      <td>57.0</td>\n",
       "      <td>466.0</td>\n",
       "      <td>58.0</td>\n",
       "      <td>15.0</td>\n",
       "    </tr>\n",
       "  </tbody>\n",
       "</table>\n",
       "</div>"
      ],
      "text/plain": [
       "   user_id  month  message_count  duration_sum  duration_count  gb_used\n",
       "0     1000      5           22.0         159.0            22.0      3.0\n",
       "1     1000      6           60.0         172.0            43.0     23.0\n",
       "2     1000      7           75.0         340.0            47.0     14.0\n",
       "3     1000      8           81.0         408.0            52.0     14.0\n",
       "4     1000      9           57.0         466.0            58.0     15.0"
      ]
     },
     "metadata": {},
     "output_type": "display_data"
    },
    {
     "name": "stdout",
     "output_type": "stream",
     "text": [
      "user_id             0\n",
      "month               0\n",
      "message_count     497\n",
      "duration_sum       40\n",
      "duration_count     40\n",
      "gb_used            11\n",
      "dtype: int64\n",
      "Кол-во записей: 3214\n",
      "Index(['user_id', 'month', 'message_count', 'duration_sum', 'duration_count',\n",
      "       'gb_used'],\n",
      "      dtype='object')\n"
     ]
    }
   ],
   "source": [
    "df_combined_service = pd.merge(df_combined_service, internet_summary,\n",
    "                       how='outer',\n",
    "                       left_on=['user_id', 'month'],\n",
    "                       right_on=['user_id', 'month'])\n",
    "\n",
    "print('Кол-во пользователей:', len(df_combined_service['user_id'].unique()))\n",
    "\n",
    "display(df_combined_service.head())\n",
    "\n",
    "print(df_combined_service.isna().sum())\n",
    "\n",
    "print('Кол-во записей:', len(df_combined_service))\n",
    "\n",
    "print(df_combined_service.columns)"
   ]
  },
  {
   "cell_type": "markdown",
   "metadata": {},
   "source": [
    "#### Окончательное объединение"
   ]
  },
  {
   "cell_type": "code",
   "execution_count": 40,
   "metadata": {},
   "outputs": [
    {
     "data": {
      "text/html": [
       "<div>\n",
       "<style scoped>\n",
       "    .dataframe tbody tr th:only-of-type {\n",
       "        vertical-align: middle;\n",
       "    }\n",
       "\n",
       "    .dataframe tbody tr th {\n",
       "        vertical-align: top;\n",
       "    }\n",
       "\n",
       "    .dataframe thead th {\n",
       "        text-align: right;\n",
       "    }\n",
       "</style>\n",
       "<table border=\"1\" class=\"dataframe\">\n",
       "  <thead>\n",
       "    <tr style=\"text-align: right;\">\n",
       "      <th></th>\n",
       "      <th>user_id</th>\n",
       "      <th>age</th>\n",
       "      <th>churn_date</th>\n",
       "      <th>city</th>\n",
       "      <th>first_name</th>\n",
       "      <th>last_name</th>\n",
       "      <th>reg_date</th>\n",
       "      <th>tariff</th>\n",
       "      <th>messages_included</th>\n",
       "      <th>mb_per_month_included</th>\n",
       "      <th>...</th>\n",
       "      <th>rub_monthly_fee</th>\n",
       "      <th>rub_per_gb</th>\n",
       "      <th>rub_per_message</th>\n",
       "      <th>rub_per_minute</th>\n",
       "      <th>tariff_name</th>\n",
       "      <th>month</th>\n",
       "      <th>message_count</th>\n",
       "      <th>duration_sum</th>\n",
       "      <th>duration_count</th>\n",
       "      <th>gb_used</th>\n",
       "    </tr>\n",
       "  </thead>\n",
       "  <tbody>\n",
       "    <tr>\n",
       "      <td>2233</td>\n",
       "      <td>1354</td>\n",
       "      <td>56</td>\n",
       "      <td>2018-12-31</td>\n",
       "      <td>Сочи</td>\n",
       "      <td>Лола</td>\n",
       "      <td>Кулагина</td>\n",
       "      <td>2018-08-19</td>\n",
       "      <td>smart</td>\n",
       "      <td>50</td>\n",
       "      <td>15360</td>\n",
       "      <td>...</td>\n",
       "      <td>550</td>\n",
       "      <td>200</td>\n",
       "      <td>3</td>\n",
       "      <td>3</td>\n",
       "      <td>smart</td>\n",
       "      <td>8.0</td>\n",
       "      <td>39.0</td>\n",
       "      <td>148.0</td>\n",
       "      <td>21.0</td>\n",
       "      <td>7.0</td>\n",
       "    </tr>\n",
       "    <tr>\n",
       "      <td>1267</td>\n",
       "      <td>1197</td>\n",
       "      <td>34</td>\n",
       "      <td>2018-12-31</td>\n",
       "      <td>Красноярск</td>\n",
       "      <td>Демьян</td>\n",
       "      <td>Черняев</td>\n",
       "      <td>2018-06-18</td>\n",
       "      <td>smart</td>\n",
       "      <td>50</td>\n",
       "      <td>15360</td>\n",
       "      <td>...</td>\n",
       "      <td>550</td>\n",
       "      <td>200</td>\n",
       "      <td>3</td>\n",
       "      <td>3</td>\n",
       "      <td>smart</td>\n",
       "      <td>11.0</td>\n",
       "      <td>25.0</td>\n",
       "      <td>489.0</td>\n",
       "      <td>66.0</td>\n",
       "      <td>18.0</td>\n",
       "    </tr>\n",
       "    <tr>\n",
       "      <td>119</td>\n",
       "      <td>1017</td>\n",
       "      <td>73</td>\n",
       "      <td>2018-12-31</td>\n",
       "      <td>Краснодар</td>\n",
       "      <td>Мария</td>\n",
       "      <td>Аленникова</td>\n",
       "      <td>2018-05-22</td>\n",
       "      <td>smart</td>\n",
       "      <td>50</td>\n",
       "      <td>15360</td>\n",
       "      <td>...</td>\n",
       "      <td>550</td>\n",
       "      <td>200</td>\n",
       "      <td>3</td>\n",
       "      <td>3</td>\n",
       "      <td>smart</td>\n",
       "      <td>5.0</td>\n",
       "      <td>NaN</td>\n",
       "      <td>111.0</td>\n",
       "      <td>19.0</td>\n",
       "      <td>6.0</td>\n",
       "    </tr>\n",
       "    <tr>\n",
       "      <td>1540</td>\n",
       "      <td>1243</td>\n",
       "      <td>74</td>\n",
       "      <td>2018-12-31</td>\n",
       "      <td>Пермь</td>\n",
       "      <td>Артём</td>\n",
       "      <td>Леонтьев</td>\n",
       "      <td>2018-06-01</td>\n",
       "      <td>ultra</td>\n",
       "      <td>1000</td>\n",
       "      <td>30720</td>\n",
       "      <td>...</td>\n",
       "      <td>1950</td>\n",
       "      <td>150</td>\n",
       "      <td>1</td>\n",
       "      <td>1</td>\n",
       "      <td>ultra</td>\n",
       "      <td>6.0</td>\n",
       "      <td>62.0</td>\n",
       "      <td>479.0</td>\n",
       "      <td>68.0</td>\n",
       "      <td>27.0</td>\n",
       "    </tr>\n",
       "    <tr>\n",
       "      <td>1794</td>\n",
       "      <td>1283</td>\n",
       "      <td>50</td>\n",
       "      <td>2018-12-31</td>\n",
       "      <td>Москва</td>\n",
       "      <td>Юлий</td>\n",
       "      <td>Крючков</td>\n",
       "      <td>2018-09-07</td>\n",
       "      <td>smart</td>\n",
       "      <td>50</td>\n",
       "      <td>15360</td>\n",
       "      <td>...</td>\n",
       "      <td>550</td>\n",
       "      <td>200</td>\n",
       "      <td>3</td>\n",
       "      <td>3</td>\n",
       "      <td>smart</td>\n",
       "      <td>10.0</td>\n",
       "      <td>20.0</td>\n",
       "      <td>150.0</td>\n",
       "      <td>19.0</td>\n",
       "      <td>20.0</td>\n",
       "    </tr>\n",
       "    <tr>\n",
       "      <td>1629</td>\n",
       "      <td>1256</td>\n",
       "      <td>55</td>\n",
       "      <td>2018-12-31</td>\n",
       "      <td>Санкт-Петербург</td>\n",
       "      <td>Алевтина</td>\n",
       "      <td>Панфилова</td>\n",
       "      <td>2018-09-28</td>\n",
       "      <td>smart</td>\n",
       "      <td>50</td>\n",
       "      <td>15360</td>\n",
       "      <td>...</td>\n",
       "      <td>550</td>\n",
       "      <td>200</td>\n",
       "      <td>3</td>\n",
       "      <td>3</td>\n",
       "      <td>smart</td>\n",
       "      <td>12.0</td>\n",
       "      <td>88.0</td>\n",
       "      <td>622.0</td>\n",
       "      <td>92.0</td>\n",
       "      <td>23.0</td>\n",
       "    </tr>\n",
       "    <tr>\n",
       "      <td>1306</td>\n",
       "      <td>1204</td>\n",
       "      <td>18</td>\n",
       "      <td>2018-12-31</td>\n",
       "      <td>Москва</td>\n",
       "      <td>Мирослава</td>\n",
       "      <td>Лазарева</td>\n",
       "      <td>2018-01-04</td>\n",
       "      <td>smart</td>\n",
       "      <td>50</td>\n",
       "      <td>15360</td>\n",
       "      <td>...</td>\n",
       "      <td>550</td>\n",
       "      <td>200</td>\n",
       "      <td>3</td>\n",
       "      <td>3</td>\n",
       "      <td>smart</td>\n",
       "      <td>1.0</td>\n",
       "      <td>NaN</td>\n",
       "      <td>305.0</td>\n",
       "      <td>50.0</td>\n",
       "      <td>16.0</td>\n",
       "    </tr>\n",
       "    <tr>\n",
       "      <td>717</td>\n",
       "      <td>1113</td>\n",
       "      <td>52</td>\n",
       "      <td>2018-12-31</td>\n",
       "      <td>Чита</td>\n",
       "      <td>Харитон</td>\n",
       "      <td>Булгаков</td>\n",
       "      <td>2018-01-24</td>\n",
       "      <td>smart</td>\n",
       "      <td>50</td>\n",
       "      <td>15360</td>\n",
       "      <td>...</td>\n",
       "      <td>550</td>\n",
       "      <td>200</td>\n",
       "      <td>3</td>\n",
       "      <td>3</td>\n",
       "      <td>smart</td>\n",
       "      <td>5.0</td>\n",
       "      <td>57.0</td>\n",
       "      <td>501.0</td>\n",
       "      <td>85.0</td>\n",
       "      <td>17.0</td>\n",
       "    </tr>\n",
       "    <tr>\n",
       "      <td>2439</td>\n",
       "      <td>1382</td>\n",
       "      <td>42</td>\n",
       "      <td>2018-12-31</td>\n",
       "      <td>Самара</td>\n",
       "      <td>Оксана</td>\n",
       "      <td>Нестерова</td>\n",
       "      <td>2018-03-26</td>\n",
       "      <td>ultra</td>\n",
       "      <td>1000</td>\n",
       "      <td>30720</td>\n",
       "      <td>...</td>\n",
       "      <td>1950</td>\n",
       "      <td>150</td>\n",
       "      <td>1</td>\n",
       "      <td>1</td>\n",
       "      <td>ultra</td>\n",
       "      <td>5.0</td>\n",
       "      <td>88.0</td>\n",
       "      <td>625.0</td>\n",
       "      <td>95.0</td>\n",
       "      <td>14.0</td>\n",
       "    </tr>\n",
       "    <tr>\n",
       "      <td>582</td>\n",
       "      <td>1092</td>\n",
       "      <td>73</td>\n",
       "      <td>2018-12-31</td>\n",
       "      <td>Ижевск</td>\n",
       "      <td>Вениамин</td>\n",
       "      <td>Амельченко</td>\n",
       "      <td>2018-06-19</td>\n",
       "      <td>smart</td>\n",
       "      <td>50</td>\n",
       "      <td>15360</td>\n",
       "      <td>...</td>\n",
       "      <td>550</td>\n",
       "      <td>200</td>\n",
       "      <td>3</td>\n",
       "      <td>3</td>\n",
       "      <td>smart</td>\n",
       "      <td>10.0</td>\n",
       "      <td>51.0</td>\n",
       "      <td>470.0</td>\n",
       "      <td>68.0</td>\n",
       "      <td>24.0</td>\n",
       "    </tr>\n",
       "    <tr>\n",
       "      <td>3194</td>\n",
       "      <td>1496</td>\n",
       "      <td>36</td>\n",
       "      <td>2018-12-31</td>\n",
       "      <td>Вологда</td>\n",
       "      <td>Трифон</td>\n",
       "      <td>Блохин</td>\n",
       "      <td>2018-01-27</td>\n",
       "      <td>smart</td>\n",
       "      <td>50</td>\n",
       "      <td>15360</td>\n",
       "      <td>...</td>\n",
       "      <td>550</td>\n",
       "      <td>200</td>\n",
       "      <td>3</td>\n",
       "      <td>3</td>\n",
       "      <td>smart</td>\n",
       "      <td>2.0</td>\n",
       "      <td>45.0</td>\n",
       "      <td>594.0</td>\n",
       "      <td>77.0</td>\n",
       "      <td>28.0</td>\n",
       "    </tr>\n",
       "    <tr>\n",
       "      <td>1812</td>\n",
       "      <td>1285</td>\n",
       "      <td>44</td>\n",
       "      <td>2018-12-31</td>\n",
       "      <td>Краснодар</td>\n",
       "      <td>Ефим</td>\n",
       "      <td>Амельченко</td>\n",
       "      <td>2018-02-20</td>\n",
       "      <td>smart</td>\n",
       "      <td>50</td>\n",
       "      <td>15360</td>\n",
       "      <td>...</td>\n",
       "      <td>550</td>\n",
       "      <td>200</td>\n",
       "      <td>3</td>\n",
       "      <td>3</td>\n",
       "      <td>smart</td>\n",
       "      <td>7.0</td>\n",
       "      <td>108.0</td>\n",
       "      <td>274.0</td>\n",
       "      <td>38.0</td>\n",
       "      <td>6.0</td>\n",
       "    </tr>\n",
       "    <tr>\n",
       "      <td>726</td>\n",
       "      <td>1114</td>\n",
       "      <td>53</td>\n",
       "      <td>2018-12-31</td>\n",
       "      <td>Пермь</td>\n",
       "      <td>Маргарита</td>\n",
       "      <td>Колесова</td>\n",
       "      <td>2018-07-26</td>\n",
       "      <td>smart</td>\n",
       "      <td>50</td>\n",
       "      <td>15360</td>\n",
       "      <td>...</td>\n",
       "      <td>550</td>\n",
       "      <td>200</td>\n",
       "      <td>3</td>\n",
       "      <td>3</td>\n",
       "      <td>smart</td>\n",
       "      <td>8.0</td>\n",
       "      <td>NaN</td>\n",
       "      <td>418.0</td>\n",
       "      <td>59.0</td>\n",
       "      <td>14.0</td>\n",
       "    </tr>\n",
       "    <tr>\n",
       "      <td>182</td>\n",
       "      <td>1027</td>\n",
       "      <td>62</td>\n",
       "      <td>2018-12-31</td>\n",
       "      <td>Петрозаводск</td>\n",
       "      <td>Владислав</td>\n",
       "      <td>Авдеев</td>\n",
       "      <td>2018-04-10</td>\n",
       "      <td>smart</td>\n",
       "      <td>50</td>\n",
       "      <td>15360</td>\n",
       "      <td>...</td>\n",
       "      <td>550</td>\n",
       "      <td>200</td>\n",
       "      <td>3</td>\n",
       "      <td>3</td>\n",
       "      <td>smart</td>\n",
       "      <td>12.0</td>\n",
       "      <td>15.0</td>\n",
       "      <td>516.0</td>\n",
       "      <td>66.0</td>\n",
       "      <td>22.0</td>\n",
       "    </tr>\n",
       "    <tr>\n",
       "      <td>2841</td>\n",
       "      <td>1440</td>\n",
       "      <td>51</td>\n",
       "      <td>2018-12-31</td>\n",
       "      <td>Москва</td>\n",
       "      <td>Арсений</td>\n",
       "      <td>Матвеев</td>\n",
       "      <td>2018-05-28</td>\n",
       "      <td>ultra</td>\n",
       "      <td>1000</td>\n",
       "      <td>30720</td>\n",
       "      <td>...</td>\n",
       "      <td>1950</td>\n",
       "      <td>150</td>\n",
       "      <td>1</td>\n",
       "      <td>1</td>\n",
       "      <td>ultra</td>\n",
       "      <td>5.0</td>\n",
       "      <td>17.0</td>\n",
       "      <td>52.0</td>\n",
       "      <td>5.0</td>\n",
       "      <td>4.0</td>\n",
       "    </tr>\n",
       "  </tbody>\n",
       "</table>\n",
       "<p>15 rows × 21 columns</p>\n",
       "</div>"
      ],
      "text/plain": [
       "      user_id  age churn_date             city first_name   last_name  \\\n",
       "2233     1354   56 2018-12-31             Сочи       Лола    Кулагина   \n",
       "1267     1197   34 2018-12-31       Красноярск     Демьян     Черняев   \n",
       "119      1017   73 2018-12-31        Краснодар      Мария  Аленникова   \n",
       "1540     1243   74 2018-12-31            Пермь      Артём    Леонтьев   \n",
       "1794     1283   50 2018-12-31           Москва       Юлий     Крючков   \n",
       "1629     1256   55 2018-12-31  Санкт-Петербург   Алевтина   Панфилова   \n",
       "1306     1204   18 2018-12-31           Москва  Мирослава    Лазарева   \n",
       "717      1113   52 2018-12-31             Чита    Харитон    Булгаков   \n",
       "2439     1382   42 2018-12-31           Самара     Оксана   Нестерова   \n",
       "582      1092   73 2018-12-31           Ижевск   Вениамин  Амельченко   \n",
       "3194     1496   36 2018-12-31          Вологда     Трифон      Блохин   \n",
       "1812     1285   44 2018-12-31        Краснодар       Ефим  Амельченко   \n",
       "726      1114   53 2018-12-31            Пермь  Маргарита    Колесова   \n",
       "182      1027   62 2018-12-31     Петрозаводск  Владислав      Авдеев   \n",
       "2841     1440   51 2018-12-31           Москва    Арсений     Матвеев   \n",
       "\n",
       "       reg_date tariff  messages_included  mb_per_month_included  ...  \\\n",
       "2233 2018-08-19  smart                 50                  15360  ...   \n",
       "1267 2018-06-18  smart                 50                  15360  ...   \n",
       "119  2018-05-22  smart                 50                  15360  ...   \n",
       "1540 2018-06-01  ultra               1000                  30720  ...   \n",
       "1794 2018-09-07  smart                 50                  15360  ...   \n",
       "1629 2018-09-28  smart                 50                  15360  ...   \n",
       "1306 2018-01-04  smart                 50                  15360  ...   \n",
       "717  2018-01-24  smart                 50                  15360  ...   \n",
       "2439 2018-03-26  ultra               1000                  30720  ...   \n",
       "582  2018-06-19  smart                 50                  15360  ...   \n",
       "3194 2018-01-27  smart                 50                  15360  ...   \n",
       "1812 2018-02-20  smart                 50                  15360  ...   \n",
       "726  2018-07-26  smart                 50                  15360  ...   \n",
       "182  2018-04-10  smart                 50                  15360  ...   \n",
       "2841 2018-05-28  ultra               1000                  30720  ...   \n",
       "\n",
       "      rub_monthly_fee  rub_per_gb  rub_per_message  rub_per_minute  \\\n",
       "2233              550         200                3               3   \n",
       "1267              550         200                3               3   \n",
       "119               550         200                3               3   \n",
       "1540             1950         150                1               1   \n",
       "1794              550         200                3               3   \n",
       "1629              550         200                3               3   \n",
       "1306              550         200                3               3   \n",
       "717               550         200                3               3   \n",
       "2439             1950         150                1               1   \n",
       "582               550         200                3               3   \n",
       "3194              550         200                3               3   \n",
       "1812              550         200                3               3   \n",
       "726               550         200                3               3   \n",
       "182               550         200                3               3   \n",
       "2841             1950         150                1               1   \n",
       "\n",
       "      tariff_name month  message_count  duration_sum  duration_count  gb_used  \n",
       "2233        smart   8.0           39.0         148.0            21.0      7.0  \n",
       "1267        smart  11.0           25.0         489.0            66.0     18.0  \n",
       "119         smart   5.0            NaN         111.0            19.0      6.0  \n",
       "1540        ultra   6.0           62.0         479.0            68.0     27.0  \n",
       "1794        smart  10.0           20.0         150.0            19.0     20.0  \n",
       "1629        smart  12.0           88.0         622.0            92.0     23.0  \n",
       "1306        smart   1.0            NaN         305.0            50.0     16.0  \n",
       "717         smart   5.0           57.0         501.0            85.0     17.0  \n",
       "2439        ultra   5.0           88.0         625.0            95.0     14.0  \n",
       "582         smart  10.0           51.0         470.0            68.0     24.0  \n",
       "3194        smart   2.0           45.0         594.0            77.0     28.0  \n",
       "1812        smart   7.0          108.0         274.0            38.0      6.0  \n",
       "726         smart   8.0            NaN         418.0            59.0     14.0  \n",
       "182         smart  12.0           15.0         516.0            66.0     22.0  \n",
       "2841        ultra   5.0           17.0          52.0             5.0      4.0  \n",
       "\n",
       "[15 rows x 21 columns]"
      ]
     },
     "metadata": {},
     "output_type": "display_data"
    },
    {
     "data": {
      "text/plain": [
       "(3216, 21)"
      ]
     },
     "execution_count": 40,
     "metadata": {},
     "output_type": "execute_result"
    }
   ],
   "source": [
    "df_combined = pd.merge(df_combined_user, df_combined_service,\n",
    "         how='left',\n",
    "         on=['user_id']\n",
    "        )\n",
    "\n",
    "display(df_combined.sample(15))\n",
    "df_combined.shape"
   ]
  },
  {
   "cell_type": "markdown",
   "metadata": {},
   "source": [
    "Для нашего дальнейшего исследования не нужны все датафреймы. Освободимся от них."
   ]
  },
  {
   "cell_type": "code",
   "execution_count": 41,
   "metadata": {},
   "outputs": [],
   "source": [
    "del df_calls\n",
    "del df_internet\n",
    "del df_message\n",
    "del df_tarif\n",
    "del df_users\n",
    "del calls_summary\n",
    "del message_summary\n",
    "del internet_summary\n",
    "del df_combined_user\n",
    "del df_combined_service"
   ]
  },
  {
   "cell_type": "markdown",
   "metadata": {},
   "source": [
    "### Окончательные расчеты"
   ]
  },
  {
   "cell_type": "markdown",
   "metadata": {},
   "source": [
    "Осталось посчитать помесячную выручку с каждого клиента по каждому типу связи. Учтем, что есть клиенты, которые не выходят за установленный бесплатный лимит"
   ]
  },
  {
   "cell_type": "code",
   "execution_count": 42,
   "metadata": {},
   "outputs": [
    {
     "data": {
      "text/plain": [
       "user_id                    0\n",
       "age                        0\n",
       "churn_date                 0\n",
       "city                       0\n",
       "first_name                 0\n",
       "last_name                  0\n",
       "reg_date                   0\n",
       "tariff                     0\n",
       "messages_included          0\n",
       "mb_per_month_included      0\n",
       "minutes_included           0\n",
       "rub_monthly_fee            0\n",
       "rub_per_gb                 0\n",
       "rub_per_message            0\n",
       "rub_per_minute             0\n",
       "tariff_name                0\n",
       "month                      2\n",
       "message_count            499\n",
       "duration_sum              42\n",
       "duration_count            42\n",
       "gb_used                   13\n",
       "dtype: int64"
      ]
     },
     "execution_count": 42,
     "metadata": {},
     "output_type": "execute_result"
    }
   ],
   "source": [
    "df_combined.isna().sum()"
   ]
  },
  {
   "cell_type": "markdown",
   "metadata": {},
   "source": [
    "Попробуем избавиться от пропущенных значений.  \n",
    "Сначала удалим из таблицы пользователей, которые не пользуются никакими продуктами. Мы их нашли выше (пользовались тарифом неделю. Возможно не понравилось и вернули деньги или же это какой-то случай мошенничества, перехода на другой тариф/оператора). В наши исследования они не входят, т.к. мы исследуем клиентов, активно пользующимися услугами компании."
   ]
  },
  {
   "cell_type": "code",
   "execution_count": 43,
   "metadata": {},
   "outputs": [
    {
     "data": {
      "text/plain": [
       "user_id                    0\n",
       "age                        0\n",
       "churn_date                 0\n",
       "city                       0\n",
       "first_name                 0\n",
       "last_name                  0\n",
       "reg_date                   0\n",
       "tariff                     0\n",
       "messages_included          0\n",
       "mb_per_month_included      0\n",
       "minutes_included           0\n",
       "rub_monthly_fee            0\n",
       "rub_per_gb                 0\n",
       "rub_per_message            0\n",
       "rub_per_minute             0\n",
       "tariff_name                0\n",
       "month                      0\n",
       "message_count            497\n",
       "duration_sum              40\n",
       "duration_count            40\n",
       "gb_used                   11\n",
       "dtype: int64"
      ]
     },
     "execution_count": 43,
     "metadata": {},
     "output_type": "execute_result"
    }
   ],
   "source": [
    "df_combined = df_combined.query('user_id not in @nothing_use')\n",
    "df_combined.isna().sum()"
   ]
  },
  {
   "cell_type": "markdown",
   "metadata": {},
   "source": [
    "не помогло. Рассмотрим, что из себя представляют данные с пропусками."
   ]
  },
  {
   "cell_type": "code",
   "execution_count": 44,
   "metadata": {},
   "outputs": [
    {
     "data": {
      "text/html": [
       "<div>\n",
       "<style scoped>\n",
       "    .dataframe tbody tr th:only-of-type {\n",
       "        vertical-align: middle;\n",
       "    }\n",
       "\n",
       "    .dataframe tbody tr th {\n",
       "        vertical-align: top;\n",
       "    }\n",
       "\n",
       "    .dataframe thead th {\n",
       "        text-align: right;\n",
       "    }\n",
       "</style>\n",
       "<table border=\"1\" class=\"dataframe\">\n",
       "  <thead>\n",
       "    <tr style=\"text-align: right;\">\n",
       "      <th></th>\n",
       "      <th>message_count</th>\n",
       "      <th>duration_sum</th>\n",
       "      <th>duration_count</th>\n",
       "      <th>gb_used</th>\n",
       "    </tr>\n",
       "  </thead>\n",
       "  <tbody>\n",
       "    <tr>\n",
       "      <td>8</td>\n",
       "      <td>NaN</td>\n",
       "      <td>430.0</td>\n",
       "      <td>59.0</td>\n",
       "      <td>18.0</td>\n",
       "    </tr>\n",
       "    <tr>\n",
       "      <td>9</td>\n",
       "      <td>NaN</td>\n",
       "      <td>414.0</td>\n",
       "      <td>63.0</td>\n",
       "      <td>14.0</td>\n",
       "    </tr>\n",
       "    <tr>\n",
       "      <td>42</td>\n",
       "      <td>NaN</td>\n",
       "      <td>42.0</td>\n",
       "      <td>3.0</td>\n",
       "      <td>2.0</td>\n",
       "    </tr>\n",
       "    <tr>\n",
       "      <td>43</td>\n",
       "      <td>NaN</td>\n",
       "      <td>286.0</td>\n",
       "      <td>46.0</td>\n",
       "      <td>17.0</td>\n",
       "    </tr>\n",
       "    <tr>\n",
       "      <td>44</td>\n",
       "      <td>NaN</td>\n",
       "      <td>356.0</td>\n",
       "      <td>47.0</td>\n",
       "      <td>14.0</td>\n",
       "    </tr>\n",
       "  </tbody>\n",
       "</table>\n",
       "</div>"
      ],
      "text/plain": [
       "    message_count  duration_sum  duration_count  gb_used\n",
       "8             NaN         430.0            59.0     18.0\n",
       "9             NaN         414.0            63.0     14.0\n",
       "42            NaN          42.0             3.0      2.0\n",
       "43            NaN         286.0            46.0     17.0\n",
       "44            NaN         356.0            47.0     14.0"
      ]
     },
     "metadata": {},
     "output_type": "display_data"
    },
    {
     "data": {
      "text/html": [
       "<div>\n",
       "<style scoped>\n",
       "    .dataframe tbody tr th:only-of-type {\n",
       "        vertical-align: middle;\n",
       "    }\n",
       "\n",
       "    .dataframe tbody tr th {\n",
       "        vertical-align: top;\n",
       "    }\n",
       "\n",
       "    .dataframe thead th {\n",
       "        text-align: right;\n",
       "    }\n",
       "</style>\n",
       "<table border=\"1\" class=\"dataframe\">\n",
       "  <thead>\n",
       "    <tr style=\"text-align: right;\">\n",
       "      <th></th>\n",
       "      <th>message_count</th>\n",
       "      <th>duration_sum</th>\n",
       "      <th>duration_count</th>\n",
       "      <th>gb_used</th>\n",
       "    </tr>\n",
       "  </thead>\n",
       "  <tbody>\n",
       "    <tr>\n",
       "      <td>570</td>\n",
       "      <td>30.0</td>\n",
       "      <td>NaN</td>\n",
       "      <td>NaN</td>\n",
       "      <td>11.0</td>\n",
       "    </tr>\n",
       "    <tr>\n",
       "      <td>571</td>\n",
       "      <td>30.0</td>\n",
       "      <td>NaN</td>\n",
       "      <td>NaN</td>\n",
       "      <td>10.0</td>\n",
       "    </tr>\n",
       "    <tr>\n",
       "      <td>572</td>\n",
       "      <td>35.0</td>\n",
       "      <td>NaN</td>\n",
       "      <td>NaN</td>\n",
       "      <td>17.0</td>\n",
       "    </tr>\n",
       "    <tr>\n",
       "      <td>573</td>\n",
       "      <td>31.0</td>\n",
       "      <td>NaN</td>\n",
       "      <td>NaN</td>\n",
       "      <td>13.0</td>\n",
       "    </tr>\n",
       "    <tr>\n",
       "      <td>574</td>\n",
       "      <td>32.0</td>\n",
       "      <td>NaN</td>\n",
       "      <td>NaN</td>\n",
       "      <td>17.0</td>\n",
       "    </tr>\n",
       "  </tbody>\n",
       "</table>\n",
       "</div>"
      ],
      "text/plain": [
       "     message_count  duration_sum  duration_count  gb_used\n",
       "570           30.0           NaN             NaN     11.0\n",
       "571           30.0           NaN             NaN     10.0\n",
       "572           35.0           NaN             NaN     17.0\n",
       "573           31.0           NaN             NaN     13.0\n",
       "574           32.0           NaN             NaN     17.0"
      ]
     },
     "metadata": {},
     "output_type": "display_data"
    },
    {
     "data": {
      "text/html": [
       "<div>\n",
       "<style scoped>\n",
       "    .dataframe tbody tr th:only-of-type {\n",
       "        vertical-align: middle;\n",
       "    }\n",
       "\n",
       "    .dataframe tbody tr th {\n",
       "        vertical-align: top;\n",
       "    }\n",
       "\n",
       "    .dataframe thead th {\n",
       "        text-align: right;\n",
       "    }\n",
       "</style>\n",
       "<table border=\"1\" class=\"dataframe\">\n",
       "  <thead>\n",
       "    <tr style=\"text-align: right;\">\n",
       "      <th></th>\n",
       "      <th>message_count</th>\n",
       "      <th>duration_sum</th>\n",
       "      <th>duration_count</th>\n",
       "      <th>gb_used</th>\n",
       "    </tr>\n",
       "  </thead>\n",
       "  <tbody>\n",
       "    <tr>\n",
       "      <td>570</td>\n",
       "      <td>30.0</td>\n",
       "      <td>NaN</td>\n",
       "      <td>NaN</td>\n",
       "      <td>11.0</td>\n",
       "    </tr>\n",
       "    <tr>\n",
       "      <td>571</td>\n",
       "      <td>30.0</td>\n",
       "      <td>NaN</td>\n",
       "      <td>NaN</td>\n",
       "      <td>10.0</td>\n",
       "    </tr>\n",
       "    <tr>\n",
       "      <td>572</td>\n",
       "      <td>35.0</td>\n",
       "      <td>NaN</td>\n",
       "      <td>NaN</td>\n",
       "      <td>17.0</td>\n",
       "    </tr>\n",
       "    <tr>\n",
       "      <td>573</td>\n",
       "      <td>31.0</td>\n",
       "      <td>NaN</td>\n",
       "      <td>NaN</td>\n",
       "      <td>13.0</td>\n",
       "    </tr>\n",
       "    <tr>\n",
       "      <td>574</td>\n",
       "      <td>32.0</td>\n",
       "      <td>NaN</td>\n",
       "      <td>NaN</td>\n",
       "      <td>17.0</td>\n",
       "    </tr>\n",
       "  </tbody>\n",
       "</table>\n",
       "</div>"
      ],
      "text/plain": [
       "     message_count  duration_sum  duration_count  gb_used\n",
       "570           30.0           NaN             NaN     11.0\n",
       "571           30.0           NaN             NaN     10.0\n",
       "572           35.0           NaN             NaN     17.0\n",
       "573           31.0           NaN             NaN     13.0\n",
       "574           32.0           NaN             NaN     17.0"
      ]
     },
     "metadata": {},
     "output_type": "display_data"
    },
    {
     "data": {
      "text/html": [
       "<div>\n",
       "<style scoped>\n",
       "    .dataframe tbody tr th:only-of-type {\n",
       "        vertical-align: middle;\n",
       "    }\n",
       "\n",
       "    .dataframe tbody tr th {\n",
       "        vertical-align: top;\n",
       "    }\n",
       "\n",
       "    .dataframe thead th {\n",
       "        text-align: right;\n",
       "    }\n",
       "</style>\n",
       "<table border=\"1\" class=\"dataframe\">\n",
       "  <thead>\n",
       "    <tr style=\"text-align: right;\">\n",
       "      <th></th>\n",
       "      <th>message_count</th>\n",
       "      <th>duration_sum</th>\n",
       "      <th>duration_count</th>\n",
       "      <th>gb_used</th>\n",
       "    </tr>\n",
       "  </thead>\n",
       "  <tbody>\n",
       "    <tr>\n",
       "      <td>1723</td>\n",
       "      <td>21.0</td>\n",
       "      <td>220.0</td>\n",
       "      <td>24.0</td>\n",
       "      <td>NaN</td>\n",
       "    </tr>\n",
       "    <tr>\n",
       "      <td>1724</td>\n",
       "      <td>38.0</td>\n",
       "      <td>230.0</td>\n",
       "      <td>40.0</td>\n",
       "      <td>NaN</td>\n",
       "    </tr>\n",
       "    <tr>\n",
       "      <td>1725</td>\n",
       "      <td>37.0</td>\n",
       "      <td>253.0</td>\n",
       "      <td>44.0</td>\n",
       "      <td>NaN</td>\n",
       "    </tr>\n",
       "    <tr>\n",
       "      <td>1726</td>\n",
       "      <td>41.0</td>\n",
       "      <td>253.0</td>\n",
       "      <td>53.0</td>\n",
       "      <td>NaN</td>\n",
       "    </tr>\n",
       "    <tr>\n",
       "      <td>1727</td>\n",
       "      <td>32.0</td>\n",
       "      <td>223.0</td>\n",
       "      <td>33.0</td>\n",
       "      <td>NaN</td>\n",
       "    </tr>\n",
       "  </tbody>\n",
       "</table>\n",
       "</div>"
      ],
      "text/plain": [
       "      message_count  duration_sum  duration_count  gb_used\n",
       "1723           21.0         220.0            24.0      NaN\n",
       "1724           38.0         230.0            40.0      NaN\n",
       "1725           37.0         253.0            44.0      NaN\n",
       "1726           41.0         253.0            53.0      NaN\n",
       "1727           32.0         223.0            33.0      NaN"
      ]
     },
     "metadata": {},
     "output_type": "display_data"
    }
   ],
   "source": [
    "lst_of_col = ['message_count', 'duration_sum', 'duration_count', 'gb_used']\n",
    "\n",
    "display( df_combined.query('message_count.isna()')[lst_of_col].head() )\n",
    "display( df_combined.query('duration_sum.isna()')[lst_of_col].head() )\n",
    "display( df_combined.query('duration_count.isna()')[lst_of_col].head() )\n",
    "display( df_combined.query('gb_used.isna()')[lst_of_col].head() )"
   ]
  },
  {
   "cell_type": "markdown",
   "metadata": {},
   "source": [
    "Это клиенты, которые не пользуются одним или несколькими типами связи. Заменим пропуски на 0"
   ]
  },
  {
   "cell_type": "code",
   "execution_count": 45,
   "metadata": {},
   "outputs": [
    {
     "data": {
      "text/plain": [
       "user_id                  0\n",
       "age                      0\n",
       "churn_date               0\n",
       "city                     0\n",
       "first_name               0\n",
       "last_name                0\n",
       "reg_date                 0\n",
       "tariff                   0\n",
       "messages_included        0\n",
       "mb_per_month_included    0\n",
       "minutes_included         0\n",
       "rub_monthly_fee          0\n",
       "rub_per_gb               0\n",
       "rub_per_message          0\n",
       "rub_per_minute           0\n",
       "tariff_name              0\n",
       "month                    0\n",
       "message_count            0\n",
       "duration_sum             0\n",
       "duration_count           0\n",
       "gb_used                  0\n",
       "dtype: int64"
      ]
     },
     "execution_count": 45,
     "metadata": {},
     "output_type": "execute_result"
    }
   ],
   "source": [
    "df_combined.fillna(0, inplace=True)\n",
    "df_combined.isna().sum()"
   ]
  },
  {
   "cell_type": "markdown",
   "metadata": {},
   "source": [
    "Переведем включенные мегабайты в гигабайты"
   ]
  },
  {
   "cell_type": "code",
   "execution_count": 46,
   "metadata": {},
   "outputs": [],
   "source": [
    "def how_gb(row):\n",
    "    return (row/1024)\n",
    "\n",
    "df_combined['mb_per_month_included'] = df_combined['mb_per_month_included'].apply(how_gb)\n"
   ]
  },
  {
   "cell_type": "code",
   "execution_count": 47,
   "metadata": {},
   "outputs": [
    {
     "data": {
      "text/plain": [
       "0       30.0\n",
       "1       30.0\n",
       "2       30.0\n",
       "3       30.0\n",
       "4       30.0\n",
       "        ... \n",
       "3211    15.0\n",
       "3212    15.0\n",
       "3213    15.0\n",
       "3214    15.0\n",
       "3215    15.0\n",
       "Name: gb_per_month_included, Length: 3214, dtype: float64"
      ]
     },
     "execution_count": 47,
     "metadata": {},
     "output_type": "execute_result"
    }
   ],
   "source": [
    "df_combined.rename(columns={'mb_per_month_included': 'gb_per_month_included'}, inplace=True)\n",
    "\n",
    "df_combined['gb_per_month_included'].round()"
   ]
  },
  {
   "cell_type": "markdown",
   "metadata": {},
   "source": [
    "Изменим типы данных, которые \"съехали\", после объединения таблиц."
   ]
  },
  {
   "cell_type": "code",
   "execution_count": 48,
   "metadata": {},
   "outputs": [],
   "source": [
    "df_combined = df_combined.astype(\n",
    "    {\n",
    "        'month': 'int',\n",
    "        'duration_sum':'int',\n",
    "        'duration_count':'int',\n",
    "        'message_count':'int',\n",
    "        'gb_used':'int',\n",
    "        'gb_per_month_included':'int'\n",
    "    }\n",
    ")"
   ]
  },
  {
   "cell_type": "markdown",
   "metadata": {},
   "source": [
    "#### Расчет по звонкам"
   ]
  },
  {
   "cell_type": "code",
   "execution_count": 49,
   "metadata": {},
   "outputs": [
    {
     "data": {
      "text/plain": [
       "754"
      ]
     },
     "execution_count": 49,
     "metadata": {},
     "output_type": "execute_result"
    }
   ],
   "source": [
    "# Новый столбец\n",
    "df_combined['calls_revenue'] = (\n",
    "    # (использовано - бесплатный пакет) * цена\n",
    "    ( df_combined['duration_sum'] - df_combined['minutes_included'] )\n",
    "    *\n",
    "    df_combined['rub_per_minute']\n",
    ")\n",
    "\n",
    "#Все что меньше 0 приравниваем к 0\n",
    "df_combined.loc[ df_combined['calls_revenue'] < 0, 'calls_revenue'] = 0\n",
    "\n",
    "# проверяем все ли сработало\n",
    "len(df_combined.query('calls_revenue > 0'))\n"
   ]
  },
  {
   "cell_type": "markdown",
   "metadata": {},
   "source": [
    "#### Расчет по сообщениям"
   ]
  },
  {
   "cell_type": "code",
   "execution_count": 50,
   "metadata": {},
   "outputs": [
    {
     "data": {
      "text/plain": [
       "564"
      ]
     },
     "execution_count": 50,
     "metadata": {},
     "output_type": "execute_result"
    }
   ],
   "source": [
    "# Новый столбец\n",
    "df_combined['message_revenue'] = (\n",
    "    # (использовано - бесплатный пакет) * цена\n",
    "    ( df_combined['message_count'] - df_combined['messages_included'] )\n",
    "    *\n",
    "    df_combined['rub_per_message']\n",
    ")\n",
    "\n",
    "#Все что меньше 0 приравниваем к 0\n",
    "df_combined.loc[ df_combined['message_revenue'] < 0, 'message_revenue'] = 0\n",
    "\n",
    "# проверяем все ли сработало\n",
    "len(df_combined.query('message_revenue > 0'))"
   ]
  },
  {
   "cell_type": "markdown",
   "metadata": {},
   "source": [
    "#### Расчет по интерент-траффику"
   ]
  },
  {
   "cell_type": "code",
   "execution_count": 51,
   "metadata": {},
   "outputs": [
    {
     "data": {
      "text/plain": [
       "1438"
      ]
     },
     "execution_count": 51,
     "metadata": {},
     "output_type": "execute_result"
    }
   ],
   "source": [
    "# Новый столбец\n",
    "df_combined['inet_revenue'] = (\n",
    "    # (использовано - бесплатный пакет) * цена\n",
    "    ( df_combined['gb_used'] - df_combined['gb_per_month_included'] )\n",
    "    *\n",
    "    df_combined['rub_per_gb']\n",
    ")\n",
    "\n",
    "#Все что меньше 0 приравниваем к 0\n",
    "df_combined.loc[ df_combined['inet_revenue'] < 0, 'inet_revenue'] = 0\n",
    "\n",
    "# проверяем все ли сработало\n",
    "len(df_combined.query('inet_revenue > 0'))"
   ]
  },
  {
   "cell_type": "markdown",
   "metadata": {},
   "source": [
    "#### расчет общей выручки за все услуги"
   ]
  },
  {
   "cell_type": "code",
   "execution_count": 52,
   "metadata": {},
   "outputs": [
    {
     "data": {
      "text/html": [
       "<div>\n",
       "<style scoped>\n",
       "    .dataframe tbody tr th:only-of-type {\n",
       "        vertical-align: middle;\n",
       "    }\n",
       "\n",
       "    .dataframe tbody tr th {\n",
       "        vertical-align: top;\n",
       "    }\n",
       "\n",
       "    .dataframe thead th {\n",
       "        text-align: right;\n",
       "    }\n",
       "</style>\n",
       "<table border=\"1\" class=\"dataframe\">\n",
       "  <thead>\n",
       "    <tr style=\"text-align: right;\">\n",
       "      <th></th>\n",
       "      <th>user_id</th>\n",
       "      <th>age</th>\n",
       "      <th>churn_date</th>\n",
       "      <th>city</th>\n",
       "      <th>first_name</th>\n",
       "      <th>last_name</th>\n",
       "      <th>reg_date</th>\n",
       "      <th>tariff</th>\n",
       "      <th>messages_included</th>\n",
       "      <th>gb_per_month_included</th>\n",
       "      <th>...</th>\n",
       "      <th>tariff_name</th>\n",
       "      <th>month</th>\n",
       "      <th>message_count</th>\n",
       "      <th>duration_sum</th>\n",
       "      <th>duration_count</th>\n",
       "      <th>gb_used</th>\n",
       "      <th>calls_revenue</th>\n",
       "      <th>message_revenue</th>\n",
       "      <th>inet_revenue</th>\n",
       "      <th>total_revenue</th>\n",
       "    </tr>\n",
       "  </thead>\n",
       "  <tbody>\n",
       "    <tr>\n",
       "      <td>0</td>\n",
       "      <td>1000</td>\n",
       "      <td>52</td>\n",
       "      <td>2018-12-31</td>\n",
       "      <td>Краснодар</td>\n",
       "      <td>Рафаил</td>\n",
       "      <td>Верещагин</td>\n",
       "      <td>2018-05-25</td>\n",
       "      <td>ultra</td>\n",
       "      <td>1000</td>\n",
       "      <td>30</td>\n",
       "      <td>...</td>\n",
       "      <td>ultra</td>\n",
       "      <td>5</td>\n",
       "      <td>22</td>\n",
       "      <td>159</td>\n",
       "      <td>22</td>\n",
       "      <td>3</td>\n",
       "      <td>0</td>\n",
       "      <td>0</td>\n",
       "      <td>0</td>\n",
       "      <td>1950</td>\n",
       "    </tr>\n",
       "    <tr>\n",
       "      <td>1</td>\n",
       "      <td>1000</td>\n",
       "      <td>52</td>\n",
       "      <td>2018-12-31</td>\n",
       "      <td>Краснодар</td>\n",
       "      <td>Рафаил</td>\n",
       "      <td>Верещагин</td>\n",
       "      <td>2018-05-25</td>\n",
       "      <td>ultra</td>\n",
       "      <td>1000</td>\n",
       "      <td>30</td>\n",
       "      <td>...</td>\n",
       "      <td>ultra</td>\n",
       "      <td>6</td>\n",
       "      <td>60</td>\n",
       "      <td>172</td>\n",
       "      <td>43</td>\n",
       "      <td>23</td>\n",
       "      <td>0</td>\n",
       "      <td>0</td>\n",
       "      <td>0</td>\n",
       "      <td>1950</td>\n",
       "    </tr>\n",
       "    <tr>\n",
       "      <td>2</td>\n",
       "      <td>1000</td>\n",
       "      <td>52</td>\n",
       "      <td>2018-12-31</td>\n",
       "      <td>Краснодар</td>\n",
       "      <td>Рафаил</td>\n",
       "      <td>Верещагин</td>\n",
       "      <td>2018-05-25</td>\n",
       "      <td>ultra</td>\n",
       "      <td>1000</td>\n",
       "      <td>30</td>\n",
       "      <td>...</td>\n",
       "      <td>ultra</td>\n",
       "      <td>7</td>\n",
       "      <td>75</td>\n",
       "      <td>340</td>\n",
       "      <td>47</td>\n",
       "      <td>14</td>\n",
       "      <td>0</td>\n",
       "      <td>0</td>\n",
       "      <td>0</td>\n",
       "      <td>1950</td>\n",
       "    </tr>\n",
       "    <tr>\n",
       "      <td>3</td>\n",
       "      <td>1000</td>\n",
       "      <td>52</td>\n",
       "      <td>2018-12-31</td>\n",
       "      <td>Краснодар</td>\n",
       "      <td>Рафаил</td>\n",
       "      <td>Верещагин</td>\n",
       "      <td>2018-05-25</td>\n",
       "      <td>ultra</td>\n",
       "      <td>1000</td>\n",
       "      <td>30</td>\n",
       "      <td>...</td>\n",
       "      <td>ultra</td>\n",
       "      <td>8</td>\n",
       "      <td>81</td>\n",
       "      <td>408</td>\n",
       "      <td>52</td>\n",
       "      <td>14</td>\n",
       "      <td>0</td>\n",
       "      <td>0</td>\n",
       "      <td>0</td>\n",
       "      <td>1950</td>\n",
       "    </tr>\n",
       "    <tr>\n",
       "      <td>4</td>\n",
       "      <td>1000</td>\n",
       "      <td>52</td>\n",
       "      <td>2018-12-31</td>\n",
       "      <td>Краснодар</td>\n",
       "      <td>Рафаил</td>\n",
       "      <td>Верещагин</td>\n",
       "      <td>2018-05-25</td>\n",
       "      <td>ultra</td>\n",
       "      <td>1000</td>\n",
       "      <td>30</td>\n",
       "      <td>...</td>\n",
       "      <td>ultra</td>\n",
       "      <td>9</td>\n",
       "      <td>57</td>\n",
       "      <td>466</td>\n",
       "      <td>58</td>\n",
       "      <td>15</td>\n",
       "      <td>0</td>\n",
       "      <td>0</td>\n",
       "      <td>0</td>\n",
       "      <td>1950</td>\n",
       "    </tr>\n",
       "  </tbody>\n",
       "</table>\n",
       "<p>5 rows × 25 columns</p>\n",
       "</div>"
      ],
      "text/plain": [
       "   user_id  age churn_date       city first_name  last_name   reg_date tariff  \\\n",
       "0     1000   52 2018-12-31  Краснодар     Рафаил  Верещагин 2018-05-25  ultra   \n",
       "1     1000   52 2018-12-31  Краснодар     Рафаил  Верещагин 2018-05-25  ultra   \n",
       "2     1000   52 2018-12-31  Краснодар     Рафаил  Верещагин 2018-05-25  ultra   \n",
       "3     1000   52 2018-12-31  Краснодар     Рафаил  Верещагин 2018-05-25  ultra   \n",
       "4     1000   52 2018-12-31  Краснодар     Рафаил  Верещагин 2018-05-25  ultra   \n",
       "\n",
       "   messages_included  gb_per_month_included  ...  tariff_name  month  \\\n",
       "0               1000                     30  ...        ultra      5   \n",
       "1               1000                     30  ...        ultra      6   \n",
       "2               1000                     30  ...        ultra      7   \n",
       "3               1000                     30  ...        ultra      8   \n",
       "4               1000                     30  ...        ultra      9   \n",
       "\n",
       "   message_count  duration_sum  duration_count gb_used  calls_revenue  \\\n",
       "0             22           159              22       3              0   \n",
       "1             60           172              43      23              0   \n",
       "2             75           340              47      14              0   \n",
       "3             81           408              52      14              0   \n",
       "4             57           466              58      15              0   \n",
       "\n",
       "   message_revenue  inet_revenue  total_revenue  \n",
       "0                0             0           1950  \n",
       "1                0             0           1950  \n",
       "2                0             0           1950  \n",
       "3                0             0           1950  \n",
       "4                0             0           1950  \n",
       "\n",
       "[5 rows x 25 columns]"
      ]
     },
     "execution_count": 52,
     "metadata": {},
     "output_type": "execute_result"
    }
   ],
   "source": [
    "df_combined['total_revenue'] = (\n",
    "    df_combined['inet_revenue'] +\n",
    "    df_combined['message_revenue'] +\n",
    "    df_combined['calls_revenue'] + \n",
    "    df_combined['rub_monthly_fee']\n",
    ")\n",
    "df_combined.head()"
   ]
  },
  {
   "cell_type": "markdown",
   "metadata": {},
   "source": [
    "#### ВЫВОД"
   ]
  },
  {
   "cell_type": "markdown",
   "metadata": {},
   "source": [
    "Все необходимые расчеты выполнены. Получен датафрейм, пригодный для дальнейшего анализа."
   ]
  },
  {
   "cell_type": "markdown",
   "metadata": {},
   "source": [
    "## Анализ данных"
   ]
  },
  {
   "cell_type": "markdown",
   "metadata": {},
   "source": [
    "Для наглядности переведем месяца с численного на буквенное обозначение"
   ]
  },
  {
   "cell_type": "code",
   "execution_count": 53,
   "metadata": {},
   "outputs": [],
   "source": [
    "what_month={\n",
    "    1: '01_Январь',\n",
    "    2: '02_Февраль',\n",
    "    3: '03_Март',\n",
    "    4: '04_Апрель',\n",
    "    5: '05_Май',\n",
    "    6: '06_Июнь',\n",
    "    7: '07_Июль',\n",
    "    8: '08_Август',\n",
    "    9: '09_Сентябрь',\n",
    "    10: '10_Октябрь',\n",
    "    11: '11_Ноябрь',\n",
    "    12: '12_Декабрь'    \n",
    "}"
   ]
  },
  {
   "cell_type": "code",
   "execution_count": 54,
   "metadata": {},
   "outputs": [],
   "source": [
    "def m(row):\n",
    "    return what_month[row]\n",
    "df_combined['month'] = df_combined['month'].apply(m)"
   ]
  },
  {
   "cell_type": "markdown",
   "metadata": {},
   "source": [
    "### Таблица по месяцам"
   ]
  },
  {
   "cell_type": "markdown",
   "metadata": {},
   "source": [
    "<div class=\"alert alert-info\"> <b>Комментарий студента:</b>  \n",
    "    \n",
    "Немного не понятно зачем мне рекомендуют на этом шаге найти стандартное отклонение, дисперсию и среднее. Все это больше пригодится в шаге 4. Поэтому здесь я буду пользоваться .describe()\n",
    "</div>"
   ]
  },
  {
   "cell_type": "markdown",
   "metadata": {},
   "source": [
    "Построим таблицу, отвечающей на вопрос: `'Сколько минут разговора, сколько сообщений и какой объём интернет-трафика требуется пользователям каждого тарифа в месяц?'`"
   ]
  },
  {
   "cell_type": "code",
   "execution_count": 55,
   "metadata": {},
   "outputs": [
    {
     "data": {
      "text/html": [
       "<div>\n",
       "<style scoped>\n",
       "    .dataframe tbody tr th:only-of-type {\n",
       "        vertical-align: middle;\n",
       "    }\n",
       "\n",
       "    .dataframe tbody tr th {\n",
       "        vertical-align: top;\n",
       "    }\n",
       "\n",
       "    .dataframe thead th {\n",
       "        text-align: right;\n",
       "    }\n",
       "</style>\n",
       "<table border=\"1\" class=\"dataframe\">\n",
       "  <thead>\n",
       "    <tr style=\"text-align: right;\">\n",
       "      <th></th>\n",
       "      <th>месяц</th>\n",
       "      <th>smart мин</th>\n",
       "      <th>ultra мин</th>\n",
       "      <th>smart сооб</th>\n",
       "      <th>ultra сооб</th>\n",
       "      <th>smart Gb</th>\n",
       "      <th>ultra Gb</th>\n",
       "    </tr>\n",
       "  </thead>\n",
       "  <tbody>\n",
       "    <tr>\n",
       "      <td>0</td>\n",
       "      <td>01_Январь</td>\n",
       "      <td>6931.0</td>\n",
       "      <td>3853.0</td>\n",
       "      <td>620.0</td>\n",
       "      <td>304.0</td>\n",
       "      <td>297.0</td>\n",
       "      <td>119.0</td>\n",
       "    </tr>\n",
       "    <tr>\n",
       "      <td>1</td>\n",
       "      <td>02_Февраль</td>\n",
       "      <td>17324.0</td>\n",
       "      <td>7131.0</td>\n",
       "      <td>1397.0</td>\n",
       "      <td>527.0</td>\n",
       "      <td>687.0</td>\n",
       "      <td>288.0</td>\n",
       "    </tr>\n",
       "    <tr>\n",
       "      <td>2</td>\n",
       "      <td>03_Март</td>\n",
       "      <td>30034.0</td>\n",
       "      <td>18117.0</td>\n",
       "      <td>2453.0</td>\n",
       "      <td>1195.0</td>\n",
       "      <td>1173.0</td>\n",
       "      <td>653.0</td>\n",
       "    </tr>\n",
       "    <tr>\n",
       "      <td>3</td>\n",
       "      <td>04_Апрель</td>\n",
       "      <td>41119.0</td>\n",
       "      <td>25191.0</td>\n",
       "      <td>3443.0</td>\n",
       "      <td>1736.0</td>\n",
       "      <td>1526.0</td>\n",
       "      <td>933.0</td>\n",
       "    </tr>\n",
       "    <tr>\n",
       "      <td>4</td>\n",
       "      <td>05_Май</td>\n",
       "      <td>54618.0</td>\n",
       "      <td>34192.0</td>\n",
       "      <td>4762.0</td>\n",
       "      <td>2536.0</td>\n",
       "      <td>2243.0</td>\n",
       "      <td>1298.0</td>\n",
       "    </tr>\n",
       "    <tr>\n",
       "      <td>5</td>\n",
       "      <td>06_Июнь</td>\n",
       "      <td>64885.0</td>\n",
       "      <td>40295.0</td>\n",
       "      <td>5478.0</td>\n",
       "      <td>3505.0</td>\n",
       "      <td>2616.0</td>\n",
       "      <td>1591.0</td>\n",
       "    </tr>\n",
       "    <tr>\n",
       "      <td>6</td>\n",
       "      <td>07_Июль</td>\n",
       "      <td>82079.0</td>\n",
       "      <td>49667.0</td>\n",
       "      <td>6784.0</td>\n",
       "      <td>4536.0</td>\n",
       "      <td>3191.0</td>\n",
       "      <td>1866.0</td>\n",
       "    </tr>\n",
       "    <tr>\n",
       "      <td>7</td>\n",
       "      <td>08_Август</td>\n",
       "      <td>99045.0</td>\n",
       "      <td>54653.0</td>\n",
       "      <td>7905.0</td>\n",
       "      <td>5183.0</td>\n",
       "      <td>3933.0</td>\n",
       "      <td>2097.0</td>\n",
       "    </tr>\n",
       "    <tr>\n",
       "      <td>8</td>\n",
       "      <td>09_Сентябрь</td>\n",
       "      <td>111439.0</td>\n",
       "      <td>62036.0</td>\n",
       "      <td>8746.0</td>\n",
       "      <td>6013.0</td>\n",
       "      <td>4262.0</td>\n",
       "      <td>2213.0</td>\n",
       "    </tr>\n",
       "    <tr>\n",
       "      <td>9</td>\n",
       "      <td>10_Октябрь</td>\n",
       "      <td>125284.0</td>\n",
       "      <td>68644.0</td>\n",
       "      <td>9927.0</td>\n",
       "      <td>7187.0</td>\n",
       "      <td>4963.0</td>\n",
       "      <td>2468.0</td>\n",
       "    </tr>\n",
       "    <tr>\n",
       "      <td>10</td>\n",
       "      <td>11_Ноябрь</td>\n",
       "      <td>137544.0</td>\n",
       "      <td>72545.0</td>\n",
       "      <td>10768.0</td>\n",
       "      <td>7476.0</td>\n",
       "      <td>5372.0</td>\n",
       "      <td>2654.0</td>\n",
       "    </tr>\n",
       "    <tr>\n",
       "      <td>11</td>\n",
       "      <td>12_Декабрь</td>\n",
       "      <td>161275.0</td>\n",
       "      <td>82400.0</td>\n",
       "      <td>12130.0</td>\n",
       "      <td>8425.0</td>\n",
       "      <td>6134.0</td>\n",
       "      <td>3022.0</td>\n",
       "    </tr>\n",
       "  </tbody>\n",
       "</table>\n",
       "</div>"
      ],
      "text/plain": [
       "          месяц  smart мин  ultra мин  smart сооб  ultra сооб  smart Gb  \\\n",
       "0     01_Январь     6931.0     3853.0       620.0       304.0     297.0   \n",
       "1    02_Февраль    17324.0     7131.0      1397.0       527.0     687.0   \n",
       "2       03_Март    30034.0    18117.0      2453.0      1195.0    1173.0   \n",
       "3     04_Апрель    41119.0    25191.0      3443.0      1736.0    1526.0   \n",
       "4        05_Май    54618.0    34192.0      4762.0      2536.0    2243.0   \n",
       "5       06_Июнь    64885.0    40295.0      5478.0      3505.0    2616.0   \n",
       "6       07_Июль    82079.0    49667.0      6784.0      4536.0    3191.0   \n",
       "7     08_Август    99045.0    54653.0      7905.0      5183.0    3933.0   \n",
       "8   09_Сентябрь   111439.0    62036.0      8746.0      6013.0    4262.0   \n",
       "9    10_Октябрь   125284.0    68644.0      9927.0      7187.0    4963.0   \n",
       "10    11_Ноябрь   137544.0    72545.0     10768.0      7476.0    5372.0   \n",
       "11   12_Декабрь   161275.0    82400.0     12130.0      8425.0    6134.0   \n",
       "\n",
       "    ultra Gb  \n",
       "0      119.0  \n",
       "1      288.0  \n",
       "2      653.0  \n",
       "3      933.0  \n",
       "4     1298.0  \n",
       "5     1591.0  \n",
       "6     1866.0  \n",
       "7     2097.0  \n",
       "8     2213.0  \n",
       "9     2468.0  \n",
       "10    2654.0  \n",
       "11    3022.0  "
      ]
     },
     "execution_count": 55,
     "metadata": {},
     "output_type": "execute_result"
    }
   ],
   "source": [
    "# срезы по тарифам\n",
    "smart_query = df_combined.query(\" tariff == 'smart'\")\n",
    "ultra_query = df_combined.query(\" tariff == 'ultra'\")\n",
    "\n",
    "# список нужных столбцов\n",
    "lst_col = ['month','user_id', 'duration_sum', 'message_count', 'gb_used']\n",
    "\n",
    "# собираем датафремы их нужных столбцов\n",
    "smart_query = smart_query[lst_col]\n",
    "ultra_query = ultra_query[lst_col]\n",
    "\n",
    "total = pd.merge(\n",
    "    smart_query, ultra_query,\n",
    "        right_on=['month','user_id'], left_on=['month','user_id'],\n",
    "    how='outer',\n",
    "    suffixes=('_smart', '_ultra')\n",
    ")\n",
    "total.sort_values('month')\n",
    "\n",
    "# группируем данные по месяцам\n",
    "total_grp = (\n",
    "    total.groupby('month')\n",
    "    [['duration_sum_smart', 'message_count_smart', 'gb_used_smart',\n",
    "      'duration_sum_ultra', 'message_count_ultra', 'gb_used_ultra']].sum().reset_index()\n",
    ")\n",
    "\n",
    "# лист для упорядочивания по порядку\n",
    "lst_col_seq = ['месяц', 'smart мин', 'ultra мин', 'smart сооб', 'ultra сооб', 'smart Gb', 'ultra Gb']\n",
    "\n",
    "'месяц', 'smart мин', 'ultra мин', 'smart сооб', 'ultra сооб', 'smart Gb', 'ultra Gb'\n",
    "\n",
    "\n",
    "# словарь для замены имен столбцов\n",
    "rename_col_dict = {\n",
    "    'month' : 'месяц',\n",
    "    'duration_sum_smart' : 'smart мин',\n",
    "    'duration_sum_ultra' : 'ultra мин',\n",
    "    'message_count_smart' : 'smart сооб',\n",
    "    'message_count_ultra' : 'ultra сооб',\n",
    "    'gb_used_smart' : 'smart Gb',\n",
    "    'gb_used_ultra' : 'ultra Gb'\n",
    "}\n",
    "\n",
    "total_grp.rename(columns=rename_col_dict, inplace=True)\n",
    "\n",
    "total_grp[lst_col_seq]"
   ]
  },
  {
   "cell_type": "markdown",
   "metadata": {},
   "source": [
    "### Анализ звонков"
   ]
  },
  {
   "cell_type": "markdown",
   "metadata": {},
   "source": [
    "Создадим два датафрейма из срезов по тарифам. Приведем распределения к нормальным, чтобы не отвлекаться на выбросы"
   ]
  },
  {
   "cell_type": "code",
   "execution_count": 56,
   "metadata": {},
   "outputs": [],
   "source": [
    "df_ultra = df_combined.query(\" tariff == 'ultra' \")\n",
    "df_smart = df_combined.query(\" tariff == 'smart' \")"
   ]
  },
  {
   "cell_type": "code",
   "execution_count": 57,
   "metadata": {},
   "outputs": [
    {
     "name": "stdout",
     "output_type": "stream",
     "text": [
      "985\n",
      "983\n"
     ]
    }
   ],
   "source": [
    "print(len(df_ultra))\n",
    "df_ultra = to_normal(df_ultra, 'duration_sum')\n",
    "print(len(df_ultra))"
   ]
  },
  {
   "cell_type": "code",
   "execution_count": 58,
   "metadata": {},
   "outputs": [
    {
     "name": "stdout",
     "output_type": "stream",
     "text": [
      "2229\n",
      "2222\n"
     ]
    }
   ],
   "source": [
    "print(len(df_smart))\n",
    "df_smart = to_normal(df_smart, 'duration_sum')\n",
    "print(len(df_smart))"
   ]
  },
  {
   "cell_type": "code",
   "execution_count": 59,
   "metadata": {},
   "outputs": [],
   "source": [
    "def decribe_table_3_step(col):\n",
    "    \"\"\"возвращает слияние таблиц describe по столбцу\"\"\"\n",
    "    df3 = pd.concat([df_smart[col].describe(),df_ultra[col].describe()], 1) \n",
    "    df3.columns=['smart','ultra']\n",
    "    return df3.round(2)"
   ]
  },
  {
   "cell_type": "markdown",
   "metadata": {},
   "source": [
    "Построим гистограммы"
   ]
  },
  {
   "cell_type": "code",
   "execution_count": 60,
   "metadata": {},
   "outputs": [
    {
     "data": {
      "image/png": "[encoded data removed]",
      "text/plain": [
       "<Figure size 1080x360 with 1 Axes>"
      ]
     },
     "metadata": {
      "needs_background": "light"
     },
     "output_type": "display_data"
    }
   ],
   "source": [
    "bins_range=np.arange(0, 1500, 60) # разделяем на отрезки по 60 минут (1 час)\n",
    "\n",
    "ax = (\n",
    "    df_ultra\n",
    "    .plot(\n",
    "        kind='hist',\n",
    "        y='duration_sum',\n",
    "        histtype='step',\n",
    "        linewidth=3,\n",
    "        legend=True,\n",
    "        label='ultra',\n",
    "        bins=bins_range,\n",
    "        xticks = bins_range,\n",
    "    )\n",
    ")\n",
    "\n",
    "(\n",
    "    df_smart\n",
    "    .plot(\n",
    "        kind='hist',\n",
    "        y='duration_sum',\n",
    "        ax=ax,\n",
    "        alpha=0.4,\n",
    "        figsize=(15,5),\n",
    "        grid=True,\n",
    "        legend=True,\n",
    "        label='smart',\n",
    "        title='Гистограмма по звонкам',\n",
    "        fontsize=14,\n",
    "        rot=90,\n",
    "        bins=bins_range\n",
    "    )\n",
    ")\n",
    "plt.xlabel('минуты')\n",
    "plt.ylabel('количество клиентов')\n",
    "plt.show();"
   ]
  },
  {
   "cell_type": "code",
   "execution_count": 61,
   "metadata": {},
   "outputs": [
    {
     "data": {
      "text/html": [
       "<div>\n",
       "<style scoped>\n",
       "    .dataframe tbody tr th:only-of-type {\n",
       "        vertical-align: middle;\n",
       "    }\n",
       "\n",
       "    .dataframe tbody tr th {\n",
       "        vertical-align: top;\n",
       "    }\n",
       "\n",
       "    .dataframe thead th {\n",
       "        text-align: right;\n",
       "    }\n",
       "</style>\n",
       "<table border=\"1\" class=\"dataframe\">\n",
       "  <thead>\n",
       "    <tr style=\"text-align: right;\">\n",
       "      <th></th>\n",
       "      <th>smart</th>\n",
       "      <th>ultra</th>\n",
       "    </tr>\n",
       "  </thead>\n",
       "  <tbody>\n",
       "    <tr>\n",
       "      <td>count</td>\n",
       "      <td>2222.00</td>\n",
       "      <td>983.00</td>\n",
       "    </tr>\n",
       "    <tr>\n",
       "      <td>mean</td>\n",
       "      <td>415.79</td>\n",
       "      <td>524.36</td>\n",
       "    </tr>\n",
       "    <tr>\n",
       "      <td>std</td>\n",
       "      <td>186.56</td>\n",
       "      <td>313.92</td>\n",
       "    </tr>\n",
       "    <tr>\n",
       "      <td>min</td>\n",
       "      <td>0.00</td>\n",
       "      <td>0.00</td>\n",
       "    </tr>\n",
       "    <tr>\n",
       "      <td>25%</td>\n",
       "      <td>282.00</td>\n",
       "      <td>283.00</td>\n",
       "    </tr>\n",
       "    <tr>\n",
       "      <td>50%</td>\n",
       "      <td>421.00</td>\n",
       "      <td>518.00</td>\n",
       "    </tr>\n",
       "    <tr>\n",
       "      <td>75%</td>\n",
       "      <td>544.00</td>\n",
       "      <td>751.00</td>\n",
       "    </tr>\n",
       "    <tr>\n",
       "      <td>max</td>\n",
       "      <td>965.00</td>\n",
       "      <td>1410.00</td>\n",
       "    </tr>\n",
       "  </tbody>\n",
       "</table>\n",
       "</div>"
      ],
      "text/plain": [
       "         smart    ultra\n",
       "count  2222.00   983.00\n",
       "mean    415.79   524.36\n",
       "std     186.56   313.92\n",
       "min       0.00     0.00\n",
       "25%     282.00   283.00\n",
       "50%     421.00   518.00\n",
       "75%     544.00   751.00\n",
       "max     965.00  1410.00"
      ]
     },
     "execution_count": 61,
     "metadata": {},
     "output_type": "execute_result"
    }
   ],
   "source": [
    "decribe_table_3_step('duration_sum')"
   ]
  },
  {
   "cell_type": "markdown",
   "metadata": {},
   "source": [
    "**Вывод по звонкам**  \n",
    "* на обоих тарифах люди любят поболтать. Клиенты 'smart' выходят за установленный лимит, а 'ультра' укладываются в абонентскую плату.\n",
    "* Более дешевый тариф 'Смарт' выбился в лидеры по колличеству клиентов."
   ]
  },
  {
   "cell_type": "markdown",
   "metadata": {},
   "source": [
    "### Анализ сообщений"
   ]
  },
  {
   "cell_type": "markdown",
   "metadata": {},
   "source": [
    " Аналогично проведем анализ сообщений"
   ]
  },
  {
   "cell_type": "code",
   "execution_count": 62,
   "metadata": {},
   "outputs": [
    {
     "name": "stdout",
     "output_type": "stream",
     "text": [
      "983\n",
      "978\n"
     ]
    }
   ],
   "source": [
    "print(len(df_ultra))\n",
    "df_ultra = to_normal(df_ultra, 'message_count')\n",
    "print(len(df_ultra))"
   ]
  },
  {
   "cell_type": "code",
   "execution_count": 63,
   "metadata": {},
   "outputs": [
    {
     "name": "stdout",
     "output_type": "stream",
     "text": [
      "2222\n",
      "2211\n"
     ]
    }
   ],
   "source": [
    "print(len(df_smart))\n",
    "df_smart = to_normal(df_smart, 'message_count')\n",
    "print(len(df_smart))"
   ]
  },
  {
   "cell_type": "code",
   "execution_count": 64,
   "metadata": {},
   "outputs": [
    {
     "data": {
      "image/png": "[encoded data removed]",
      "text/plain": [
       "<Figure size 1080x360 with 1 Axes>"
      ]
     },
     "metadata": {
      "needs_background": "light"
     },
     "output_type": "display_data"
    }
   ],
   "source": [
    "bins_range=np.arange(0, 190, 5)\n",
    "\n",
    "ax = (df_ultra\n",
    "    .plot(\n",
    "        kind='hist',\n",
    "        y='message_count',\n",
    "        \n",
    "        histtype='step',\n",
    "        linewidth=3,\n",
    "        legend=True,\n",
    "        label='ultra',\n",
    "        bins=bins_range,\n",
    "        xticks = bins_range,\n",
    "    )\n",
    ")\n",
    "\n",
    "(\n",
    "    df_smart\n",
    "    .plot(\n",
    "        kind='hist',\n",
    "        y='message_count',\n",
    "        ax=ax,\n",
    "        alpha=0.4,\n",
    "        figsize=(15,5),\n",
    "        grid=True,\n",
    "        legend=True,\n",
    "        label='smart',\n",
    "        title='Гистограмма по сообщениям',\n",
    "        fontsize=14,\n",
    "        rot=90,\n",
    "        bins=bins_range,\n",
    "    )\n",
    ")\n",
    "plt.xlabel('число сообщений')\n",
    "plt.ylabel('количество клиентов')\n",
    "plt.show();"
   ]
  },
  {
   "cell_type": "code",
   "execution_count": 65,
   "metadata": {},
   "outputs": [
    {
     "data": {
      "text/html": [
       "<div>\n",
       "<style scoped>\n",
       "    .dataframe tbody tr th:only-of-type {\n",
       "        vertical-align: middle;\n",
       "    }\n",
       "\n",
       "    .dataframe tbody tr th {\n",
       "        vertical-align: top;\n",
       "    }\n",
       "\n",
       "    .dataframe thead th {\n",
       "        text-align: right;\n",
       "    }\n",
       "</style>\n",
       "<table border=\"1\" class=\"dataframe\">\n",
       "  <thead>\n",
       "    <tr style=\"text-align: right;\">\n",
       "      <th></th>\n",
       "      <th>smart</th>\n",
       "      <th>ultra</th>\n",
       "    </tr>\n",
       "  </thead>\n",
       "  <tbody>\n",
       "    <tr>\n",
       "      <td>count</td>\n",
       "      <td>2211.00</td>\n",
       "      <td>978.00</td>\n",
       "    </tr>\n",
       "    <tr>\n",
       "      <td>mean</td>\n",
       "      <td>32.87</td>\n",
       "      <td>48.58</td>\n",
       "    </tr>\n",
       "    <tr>\n",
       "      <td>std</td>\n",
       "      <td>27.43</td>\n",
       "      <td>46.53</td>\n",
       "    </tr>\n",
       "    <tr>\n",
       "      <td>min</td>\n",
       "      <td>0.00</td>\n",
       "      <td>0.00</td>\n",
       "    </tr>\n",
       "    <tr>\n",
       "      <td>25%</td>\n",
       "      <td>10.00</td>\n",
       "      <td>6.00</td>\n",
       "    </tr>\n",
       "    <tr>\n",
       "      <td>50%</td>\n",
       "      <td>28.00</td>\n",
       "      <td>38.00</td>\n",
       "    </tr>\n",
       "    <tr>\n",
       "      <td>75%</td>\n",
       "      <td>50.00</td>\n",
       "      <td>78.00</td>\n",
       "    </tr>\n",
       "    <tr>\n",
       "      <td>max</td>\n",
       "      <td>117.00</td>\n",
       "      <td>191.00</td>\n",
       "    </tr>\n",
       "  </tbody>\n",
       "</table>\n",
       "</div>"
      ],
      "text/plain": [
       "         smart   ultra\n",
       "count  2211.00  978.00\n",
       "mean     32.87   48.58\n",
       "std      27.43   46.53\n",
       "min       0.00    0.00\n",
       "25%      10.00    6.00\n",
       "50%      28.00   38.00\n",
       "75%      50.00   78.00\n",
       "max     117.00  191.00"
      ]
     },
     "execution_count": 65,
     "metadata": {},
     "output_type": "execute_result"
    }
   ],
   "source": [
    "decribe_table_3_step('message_count')"
   ]
  },
  {
   "cell_type": "markdown",
   "metadata": {},
   "source": [
    "**Вывод**  \n",
    "* Большинство клиентов отправляют по 1 - 1,5 сообщения в день.\n",
    "* Клиенты 'Смарт' снова выходят за пределы бесплатных сообщений(75%)"
   ]
  },
  {
   "cell_type": "markdown",
   "metadata": {},
   "source": [
    "### Анализ интернет-траффика"
   ]
  },
  {
   "cell_type": "code",
   "execution_count": 66,
   "metadata": {},
   "outputs": [
    {
     "name": "stdout",
     "output_type": "stream",
     "text": [
      "978\n",
      "977\n"
     ]
    }
   ],
   "source": [
    "print(len(df_ultra))\n",
    "df_ultra = to_normal(df_ultra, 'gb_used')\n",
    "print(len(df_ultra))"
   ]
  },
  {
   "cell_type": "code",
   "execution_count": 67,
   "metadata": {},
   "outputs": [
    {
     "name": "stdout",
     "output_type": "stream",
     "text": [
      "2211\n",
      "2204\n"
     ]
    }
   ],
   "source": [
    "print(len(df_smart))\n",
    "df_smart = to_normal(df_smart, 'gb_used')\n",
    "print(len(df_smart))"
   ]
  },
  {
   "cell_type": "code",
   "execution_count": 68,
   "metadata": {},
   "outputs": [
    {
     "data": {
      "image/png": "[encoded data removed]",
      "text/plain": [
       "<Figure size 1080x360 with 1 Axes>"
      ]
     },
     "metadata": {
      "needs_background": "light"
     },
     "output_type": "display_data"
    }
   ],
   "source": [
    "bins_range=np.arange(0, 55, 2)\n",
    "\n",
    "ax = (df_ultra\n",
    "    .plot(\n",
    "        kind='hist',\n",
    "        y='gb_used',\n",
    "        histtype='step',\n",
    "        linewidth=3,\n",
    "        legend=True,\n",
    "        label='ultra',\n",
    "        bins=bins_range,\n",
    "        xticks = bins_range,\n",
    "    )\n",
    ")\n",
    "\n",
    "(\n",
    "    df_smart\n",
    "    .plot(\n",
    "        kind='hist',\n",
    "        y='gb_used',\n",
    "        ax=ax,\n",
    "        alpha=0.5,\n",
    "        figsize=(15,5),\n",
    "        grid=True,\n",
    "        legend=True,\n",
    "        label='smart',\n",
    "        title='Гистограмма по траффику',\n",
    "        fontsize=14,\n",
    "        rot=90,\n",
    "        bins=bins_range,\n",
    "    )\n",
    ")\n",
    "\n",
    "plt.xlabel('Gb')\n",
    "plt.ylabel('количество клиентов')\n",
    "plt.show();"
   ]
  },
  {
   "cell_type": "code",
   "execution_count": 69,
   "metadata": {},
   "outputs": [
    {
     "data": {
      "text/html": [
       "<div>\n",
       "<style scoped>\n",
       "    .dataframe tbody tr th:only-of-type {\n",
       "        vertical-align: middle;\n",
       "    }\n",
       "\n",
       "    .dataframe tbody tr th {\n",
       "        vertical-align: top;\n",
       "    }\n",
       "\n",
       "    .dataframe thead th {\n",
       "        text-align: right;\n",
       "    }\n",
       "</style>\n",
       "<table border=\"1\" class=\"dataframe\">\n",
       "  <thead>\n",
       "    <tr style=\"text-align: right;\">\n",
       "      <th></th>\n",
       "      <th>smart</th>\n",
       "      <th>ultra</th>\n",
       "    </tr>\n",
       "  </thead>\n",
       "  <tbody>\n",
       "    <tr>\n",
       "      <td>count</td>\n",
       "      <td>2204.00</td>\n",
       "      <td>977.00</td>\n",
       "    </tr>\n",
       "    <tr>\n",
       "      <td>mean</td>\n",
       "      <td>16.22</td>\n",
       "      <td>19.44</td>\n",
       "    </tr>\n",
       "    <tr>\n",
       "      <td>std</td>\n",
       "      <td>5.63</td>\n",
       "      <td>9.79</td>\n",
       "    </tr>\n",
       "    <tr>\n",
       "      <td>min</td>\n",
       "      <td>0.00</td>\n",
       "      <td>0.00</td>\n",
       "    </tr>\n",
       "    <tr>\n",
       "      <td>25%</td>\n",
       "      <td>13.00</td>\n",
       "      <td>12.00</td>\n",
       "    </tr>\n",
       "    <tr>\n",
       "      <td>50%</td>\n",
       "      <td>17.00</td>\n",
       "      <td>19.00</td>\n",
       "    </tr>\n",
       "    <tr>\n",
       "      <td>75%</td>\n",
       "      <td>20.00</td>\n",
       "      <td>27.00</td>\n",
       "    </tr>\n",
       "    <tr>\n",
       "      <td>max</td>\n",
       "      <td>32.00</td>\n",
       "      <td>48.00</td>\n",
       "    </tr>\n",
       "  </tbody>\n",
       "</table>\n",
       "</div>"
      ],
      "text/plain": [
       "         smart   ultra\n",
       "count  2204.00  977.00\n",
       "mean     16.22   19.44\n",
       "std       5.63    9.79\n",
       "min       0.00    0.00\n",
       "25%      13.00   12.00\n",
       "50%      17.00   19.00\n",
       "75%      20.00   27.00\n",
       "max      32.00   48.00"
      ]
     },
     "execution_count": 69,
     "metadata": {},
     "output_type": "execute_result"
    }
   ],
   "source": [
    "decribe_table_3_step('gb_used')"
   ]
  },
  {
   "cell_type": "markdown",
   "metadata": {},
   "source": [
    "**Вывод по траффику**  \n",
    "* Половина клиентов 'Смарт' выходят за рамки бесплатного лимита. На 'Ультра' около трети."
   ]
  },
  {
   "cell_type": "markdown",
   "metadata": {},
   "source": [
    "### ВЫВОД"
   ]
  },
  {
   "cell_type": "markdown",
   "metadata": {},
   "source": [
    "* Тариф 'Смарт' пользуется болшим успехом (70% клиентов пользуются им). Возможно это связано с высокой стоимостью абоненсткой платы 'Ультра'(550-смарт и 1950-ультра).\n",
    "* Выручку клиентов 'Ультра' составляет абонетская плата и переплата за интернет-траффик."
   ]
  },
  {
   "cell_type": "markdown",
   "metadata": {},
   "source": [
    "## Проверка гипотез"
   ]
  },
  {
   "cell_type": "markdown",
   "metadata": {},
   "source": [
    "Типичной статистической гипотезой для первого и второго вопроса является гипотеза о равенстве средних.  Используются распределния стьюдента, реализованные в библиотеке scipy"
   ]
  },
  {
   "cell_type": "markdown",
   "metadata": {},
   "source": [
    "### выручки тарифов различаются"
   ]
  },
  {
   "cell_type": "markdown",
   "metadata": {},
   "source": [
    "- H0 принимаем утверждение: 'средняя выручка пользователей тарифа «Ультра» равно средней выручке пользователей тарифа «Смарт»'. Ее опровержение считается подтверждением изначальной гипотезы.\n",
    "- H1:'средняя выручка пользователей тарифа «Ультра» не равно средней выручке пользователей тарифа «Смарт»'"
   ]
  },
  {
   "cell_type": "markdown",
   "metadata": {},
   "source": [
    "Получим срезы по тарифам"
   ]
  },
  {
   "cell_type": "code",
   "execution_count": 70,
   "metadata": {},
   "outputs": [],
   "source": [
    "smart_total = df_combined.query(\" tariff == 'smart' \")\n",
    "ultra_total = df_combined.query(\" tariff == 'ultra' \")"
   ]
  },
  {
   "cell_type": "code",
   "execution_count": 71,
   "metadata": {},
   "outputs": [
    {
     "name": "stdout",
     "output_type": "stream",
     "text": [
      "1290.0\n",
      "2070.0\n"
     ]
    },
    {
     "data": {
      "text/plain": [
       "False"
      ]
     },
     "execution_count": 71,
     "metadata": {},
     "output_type": "execute_result"
    }
   ],
   "source": [
    "print(smart_total['total_revenue'].mean().round())\n",
    "print(ultra_total['total_revenue'].mean().round())\n",
    "smart_total['total_revenue'].mean() == ultra_total['total_revenue'].mean()"
   ]
  },
  {
   "cell_type": "markdown",
   "metadata": {},
   "source": [
    "Отвергаем нулевую гипотезу."
   ]
  },
  {
   "cell_type": "markdown",
   "metadata": {},
   "source": [
    "Теперь попробуем через ttest_ind()"
   ]
  },
  {
   "cell_type": "code",
   "execution_count": 72,
   "metadata": {},
   "outputs": [],
   "source": [
    "# срезы по тарифам. Создаем выборки заново\n",
    "smart_sample = df_combined.query(\" tariff == 'smart' \")\n",
    "ultra_sample = df_combined.query(\" tariff == 'ultra' \")"
   ]
  },
  {
   "cell_type": "code",
   "execution_count": 73,
   "metadata": {},
   "outputs": [
    {
     "name": "stdout",
     "output_type": "stream",
     "text": [
      "уровень значимости p-value= 0.0 %\n",
      "отвергаем H0\n"
     ]
    }
   ],
   "source": [
    "alpha = .05 # статистическая зачимость 5%\n",
    "\n",
    "#  Выборка считается достаточно большой(больше 30), поэтому считаем, что дисперсия у выборок не равна\n",
    "# и принимаем equal_var=False\n",
    "results = st.ttest_ind(smart_sample['total_revenue'], ultra_sample['total_revenue'], equal_var=False)\n",
    "print('уровень значимости p-value=', f'{round(results.pvalue*100,2)} %')\n",
    "\n",
    "if results.pvalue < alpha:\n",
    "    print('отвергаем H0')\n",
    "else:\n",
    "    print('не получилось отвергнуть H0')"
   ]
  },
  {
   "cell_type": "markdown",
   "metadata": {},
   "source": [
    "**Вывод**  \n",
    "гипотеза `'средняя выручка пользователей тарифов «Ультра» и «Смарт» различаются'` подтверждена"
   ]
  },
  {
   "cell_type": "markdown",
   "metadata": {},
   "source": [
    "### выручка по регионам"
   ]
  },
  {
   "cell_type": "markdown",
   "metadata": {},
   "source": [
    "* H0: средняя выручка клиентов из Москвы равна средней выручке клиентов из других регионов. Ее опровержение считается подтверждением изначальной гипотезы.\n",
    "* H1:средняя выручка клиентов из Москвы отличается от выручки клиентов из других регионов."
   ]
  },
  {
   "cell_type": "markdown",
   "metadata": {},
   "source": [
    "Создадим срезы по регионам и приведем к нормальному распределению"
   ]
  },
  {
   "cell_type": "code",
   "execution_count": 74,
   "metadata": {},
   "outputs": [
    {
     "name": "stdout",
     "output_type": "stream",
     "text": [
      "611\n"
     ]
    }
   ],
   "source": [
    "# срез по москве\n",
    "moscow_rev = df_combined.query(\" city == 'Москва' \")\n",
    "print(len(moscow_rev))"
   ]
  },
  {
   "cell_type": "code",
   "execution_count": 75,
   "metadata": {},
   "outputs": [
    {
     "name": "stdout",
     "output_type": "stream",
     "text": [
      "2603\n"
     ]
    }
   ],
   "source": [
    "# срез по регионам\n",
    "region_rev = df_combined.query(\" city != 'Москва' \")\n",
    "print(len(region_rev))"
   ]
  },
  {
   "cell_type": "markdown",
   "metadata": {},
   "source": [
    "Проверим средние"
   ]
  },
  {
   "cell_type": "code",
   "execution_count": 76,
   "metadata": {},
   "outputs": [
    {
     "name": "stdout",
     "output_type": "stream",
     "text": [
      "1547.0\n",
      "1525.0\n"
     ]
    },
    {
     "data": {
      "text/plain": [
       "False"
      ]
     },
     "execution_count": 76,
     "metadata": {},
     "output_type": "execute_result"
    }
   ],
   "source": [
    "print(moscow_rev['total_revenue'].mean().round())\n",
    "print(region_rev['total_revenue'].mean().round())\n",
    "moscow_rev['total_revenue'].mean() == region_rev['total_revenue'].mean()"
   ]
  },
  {
   "cell_type": "markdown",
   "metadata": {},
   "source": [
    "регионы немного недотянули.\n",
    "посмотрим, что покажет ttest "
   ]
  },
  {
   "cell_type": "code",
   "execution_count": 77,
   "metadata": {},
   "outputs": [
    {
     "name": "stdout",
     "output_type": "stream",
     "text": [
      "уровень значимости p-value= 52.57 %\n",
      "не получилось отвергнуть H0\n"
     ]
    }
   ],
   "source": [
    "alpha = .05 # статистическая зачимость 5%\n",
    "\n",
    "#  Выборка считается достаточно большой(больше 30), поэтому считаем, что дисперсия у выборок не равна\n",
    "# и принимаем equal_var=False\n",
    "results = st.ttest_ind(moscow_rev['total_revenue'], region_rev['total_revenue'], equal_var=False)\n",
    "print('уровень значимости p-value=', f'{round(results.pvalue*100,2)} %')\n",
    "\n",
    "if results.pvalue < alpha:\n",
    "    print('отвергаем H0')\n",
    "else:\n",
    "    print('не получилось отвергнуть H0')"
   ]
  },
  {
   "cell_type": "markdown",
   "metadata": {},
   "source": [
    "т-тест подтвердил гипотезу о равенстве средней выручке по Москве и средней выручке по регионам. Наша изначальная гипотеза отвергнута."
   ]
  },
  {
   "cell_type": "markdown",
   "metadata": {},
   "source": [
    "**Вывод**  \n",
    "гипотеза `'средняя выручка клиентов из Москвы отличается от средней выручки клиентов из других регионов'` отвергнута.\n"
   ]
  },
  {
   "cell_type": "markdown",
   "metadata": {},
   "source": [
    "Посчитаем общую выручку по тарифам"
   ]
  },
  {
   "cell_type": "code",
   "execution_count": 78,
   "metadata": {},
   "outputs": [
    {
     "data": {
      "text/plain": [
       "tariff\n",
       "smart    2.88\n",
       "ultra    2.04\n",
       "Name: total_revenue, dtype: float64"
      ]
     },
     "execution_count": 78,
     "metadata": {},
     "output_type": "execute_result"
    }
   ],
   "source": [
    "round( df_combined.groupby('tariff')['total_revenue'].sum()/1e+6, 2 )"
   ]
  },
  {
   "cell_type": "markdown",
   "metadata": {},
   "source": [
    "### Вывод"
   ]
  },
  {
   "cell_type": "markdown",
   "metadata": {},
   "source": [
    "* Гипотезы проверены.\n",
    "* Выручки с тарифов различаются.\n",
    "* Выручка по Москве, сопаставима с выручками от регионов.\n",
    "* Общая выручка тарифа 'Smart' больше выручки от 'Ultra' в 1,5 раза."
   ]
  },
  {
   "cell_type": "markdown",
   "metadata": {},
   "source": [
    "## Общий вывод"
   ]
  },
  {
   "cell_type": "markdown",
   "metadata": {},
   "source": [
    "- Была произведена работа по анализу, предобработке и категоризации данных.\n",
    "- Произведены дополнительные расчеты, необходимые для исследований.\n",
    "- Проведен анализ по оказываемым услугам компании «Мегалайн».\n",
    "- Проверены гипотезы.\n",
    "- Составлены таблицы, отвечающие запросам исследования. Дана краткая интерпритация полученных результатов."
   ]
  }
 ],
 "metadata": {
  "ExecuteTimeLog": [
   {
    "duration": 550,
    "start_time": "2022-01-26T17:58:23.056Z"
   },
   {
    "duration": 50,
    "start_time": "2022-01-26T17:58:55.896Z"
   },
   {
    "duration": 161,
    "start_time": "2022-01-26T17:59:29.614Z"
   },
   {
    "duration": 173,
    "start_time": "2022-01-26T17:59:40.061Z"
   },
   {
    "duration": 4,
    "start_time": "2022-01-26T18:01:46.270Z"
   },
   {
    "duration": 4,
    "start_time": "2022-01-26T18:02:17.332Z"
   },
   {
    "duration": 46,
    "start_time": "2022-01-26T18:02:18.842Z"
   },
   {
    "duration": 1006,
    "start_time": "2022-01-26T18:03:24.720Z"
   },
   {
    "duration": 141,
    "start_time": "2022-01-26T18:03:38.071Z"
   },
   {
    "duration": 63,
    "start_time": "2022-01-26T18:03:55.735Z"
   },
   {
    "duration": 176,
    "start_time": "2022-01-26T18:04:35.252Z"
   },
   {
    "duration": 154,
    "start_time": "2022-01-26T18:05:47.744Z"
   },
   {
    "duration": 155,
    "start_time": "2022-01-26T18:05:59.481Z"
   },
   {
    "duration": 167,
    "start_time": "2022-01-26T18:06:24.414Z"
   },
   {
    "duration": 177,
    "start_time": "2022-01-26T18:07:39.906Z"
   },
   {
    "duration": 193,
    "start_time": "2022-01-26T18:08:01.248Z"
   },
   {
    "duration": 273,
    "start_time": "2022-01-26T18:14:10.669Z"
   },
   {
    "duration": 296,
    "start_time": "2022-01-26T18:14:17.801Z"
   },
   {
    "duration": 176,
    "start_time": "2022-01-26T18:15:42.724Z"
   },
   {
    "duration": 147,
    "start_time": "2022-01-26T18:18:07.642Z"
   },
   {
    "duration": 110,
    "start_time": "2022-01-26T18:21:16.158Z"
   },
   {
    "duration": 25,
    "start_time": "2022-01-26T18:25:06.941Z"
   },
   {
    "duration": 334,
    "start_time": "2022-01-26T18:33:57.360Z"
   },
   {
    "duration": 265,
    "start_time": "2022-01-26T18:37:27.747Z"
   },
   {
    "duration": 204,
    "start_time": "2022-01-26T18:40:06.745Z"
   },
   {
    "duration": 144,
    "start_time": "2022-01-26T18:40:59.727Z"
   },
   {
    "duration": 40,
    "start_time": "2022-01-26T18:43:56.235Z"
   },
   {
    "duration": 7,
    "start_time": "2022-01-26T18:46:54.042Z"
   },
   {
    "duration": 6,
    "start_time": "2022-01-26T18:47:30.871Z"
   },
   {
    "duration": 6,
    "start_time": "2022-01-26T18:47:57.213Z"
   },
   {
    "duration": 8,
    "start_time": "2022-01-26T18:48:21.324Z"
   },
   {
    "duration": 42,
    "start_time": "2022-01-26T18:49:31.193Z"
   },
   {
    "duration": 42,
    "start_time": "2022-01-26T18:49:39.496Z"
   },
   {
    "duration": 40,
    "start_time": "2022-01-26T18:49:44.704Z"
   },
   {
    "duration": 42,
    "start_time": "2022-01-26T18:49:48.936Z"
   },
   {
    "duration": 42,
    "start_time": "2022-01-26T18:49:51.865Z"
   },
   {
    "duration": 41,
    "start_time": "2022-01-26T18:49:55.192Z"
   },
   {
    "duration": 41,
    "start_time": "2022-01-26T18:49:57.312Z"
   },
   {
    "duration": 41,
    "start_time": "2022-01-26T18:49:59.287Z"
   },
   {
    "duration": 41,
    "start_time": "2022-01-26T18:50:12.999Z"
   },
   {
    "duration": 40,
    "start_time": "2022-01-26T18:50:18.127Z"
   },
   {
    "duration": 17,
    "start_time": "2022-01-26T18:50:53.231Z"
   },
   {
    "duration": 19,
    "start_time": "2022-01-26T18:50:57.132Z"
   },
   {
    "duration": 147,
    "start_time": "2022-01-26T19:02:08.040Z"
   },
   {
    "duration": 6,
    "start_time": "2022-01-26T19:02:28.006Z"
   },
   {
    "duration": 83,
    "start_time": "2022-01-26T19:04:01.821Z"
   },
   {
    "duration": 161,
    "start_time": "2022-01-26T19:04:46.559Z"
   },
   {
    "duration": 168,
    "start_time": "2022-01-26T19:05:02.574Z"
   },
   {
    "duration": 88,
    "start_time": "2022-01-26T19:05:12.109Z"
   },
   {
    "duration": 246,
    "start_time": "2022-01-26T19:08:16.699Z"
   },
   {
    "duration": 15,
    "start_time": "2022-01-26T19:09:51.910Z"
   },
   {
    "duration": 20,
    "start_time": "2022-01-26T19:20:53.383Z"
   },
   {
    "duration": 16,
    "start_time": "2022-01-26T19:21:21.318Z"
   },
   {
    "duration": 172,
    "start_time": "2022-01-26T19:22:55.464Z"
   },
   {
    "duration": 737,
    "start_time": "2022-01-26T19:23:26.518Z"
   },
   {
    "duration": 158,
    "start_time": "2022-01-26T19:23:45.870Z"
   },
   {
    "duration": 6,
    "start_time": "2022-01-26T19:24:07.716Z"
   },
   {
    "duration": 7,
    "start_time": "2022-01-26T19:24:16.347Z"
   },
   {
    "duration": 29,
    "start_time": "2022-01-26T19:34:21.017Z"
   },
   {
    "duration": 11,
    "start_time": "2022-01-26T19:34:27.784Z"
   },
   {
    "duration": 135,
    "start_time": "2022-01-26T19:34:42.832Z"
   },
   {
    "duration": 30,
    "start_time": "2022-01-26T19:34:49.911Z"
   },
   {
    "duration": 136,
    "start_time": "2022-01-26T19:35:01.943Z"
   },
   {
    "duration": 23,
    "start_time": "2022-01-26T19:35:11.287Z"
   },
   {
    "duration": 43,
    "start_time": "2022-01-26T19:35:34.605Z"
   },
   {
    "duration": 118,
    "start_time": "2022-01-26T19:35:42.883Z"
   },
   {
    "duration": 41,
    "start_time": "2022-01-26T19:35:47.971Z"
   },
   {
    "duration": 160,
    "start_time": "2022-01-26T19:35:55.466Z"
   },
   {
    "duration": 200,
    "start_time": "2022-01-26T19:36:16.930Z"
   },
   {
    "duration": 23,
    "start_time": "2022-01-26T19:36:24.297Z"
   },
   {
    "duration": 23,
    "start_time": "2022-01-26T19:36:30.553Z"
   },
   {
    "duration": 3676,
    "start_time": "2022-01-26T19:37:25.694Z"
   },
   {
    "duration": 21,
    "start_time": "2022-01-26T19:37:38.102Z"
   },
   {
    "duration": 128,
    "start_time": "2022-01-26T19:39:11.769Z"
   },
   {
    "duration": 29,
    "start_time": "2022-01-26T19:39:23.415Z"
   },
   {
    "duration": 132,
    "start_time": "2022-01-26T19:40:51.083Z"
   },
   {
    "duration": 129,
    "start_time": "2022-01-26T19:41:01.906Z"
   },
   {
    "duration": 140,
    "start_time": "2022-01-26T19:41:13.785Z"
   },
   {
    "duration": 11,
    "start_time": "2022-01-26T19:41:37.335Z"
   },
   {
    "duration": 165,
    "start_time": "2022-01-26T19:42:08.174Z"
   },
   {
    "duration": 13,
    "start_time": "2022-01-26T19:42:15.045Z"
   },
   {
    "duration": 2,
    "start_time": "2022-01-26T19:43:07.083Z"
   },
   {
    "duration": 2,
    "start_time": "2022-01-26T19:44:35.214Z"
   },
   {
    "duration": 4,
    "start_time": "2022-01-26T19:46:40.598Z"
   },
   {
    "duration": 5,
    "start_time": "2022-01-26T19:55:00.929Z"
   },
   {
    "duration": 121,
    "start_time": "2022-01-26T19:56:26.557Z"
   },
   {
    "duration": 4,
    "start_time": "2022-01-26T19:56:33.636Z"
   },
   {
    "duration": 12,
    "start_time": "2022-01-26T19:56:44.244Z"
   },
   {
    "duration": 21,
    "start_time": "2022-01-26T19:57:06.074Z"
   },
   {
    "duration": 3,
    "start_time": "2022-01-26T19:57:27.430Z"
   },
   {
    "duration": 291,
    "start_time": "2022-01-26T19:57:27.435Z"
   },
   {
    "duration": 207,
    "start_time": "2022-01-26T19:57:27.728Z"
   },
   {
    "duration": 140,
    "start_time": "2022-01-26T19:57:27.937Z"
   },
   {
    "duration": 26,
    "start_time": "2022-01-26T19:57:28.079Z"
   },
   {
    "duration": 45,
    "start_time": "2022-01-26T19:57:28.107Z"
   },
   {
    "duration": 6,
    "start_time": "2022-01-26T19:57:28.154Z"
   },
   {
    "duration": 15,
    "start_time": "2022-01-26T19:57:28.162Z"
   },
   {
    "duration": 56,
    "start_time": "2022-01-26T19:57:28.178Z"
   },
   {
    "duration": 36,
    "start_time": "2022-01-26T19:57:28.236Z"
   },
   {
    "duration": 47,
    "start_time": "2022-01-26T19:57:28.274Z"
   },
   {
    "duration": 11,
    "start_time": "2022-01-26T19:57:28.324Z"
   },
   {
    "duration": 13,
    "start_time": "2022-01-26T19:57:28.336Z"
   },
   {
    "duration": 4,
    "start_time": "2022-01-26T19:57:28.351Z"
   },
   {
    "duration": 6,
    "start_time": "2022-01-26T19:57:51.832Z"
   },
   {
    "duration": 8,
    "start_time": "2022-01-26T19:58:53.820Z"
   },
   {
    "duration": 9,
    "start_time": "2022-01-26T19:59:24.370Z"
   },
   {
    "duration": 21,
    "start_time": "2022-01-26T19:59:32.009Z"
   },
   {
    "duration": 7,
    "start_time": "2022-01-26T20:00:15.664Z"
   },
   {
    "duration": 8,
    "start_time": "2022-01-26T20:00:29.024Z"
   },
   {
    "duration": 11,
    "start_time": "2022-01-26T20:00:55.789Z"
   },
   {
    "duration": 12,
    "start_time": "2022-01-26T20:03:06.566Z"
   },
   {
    "duration": 147,
    "start_time": "2022-01-26T20:03:41.556Z"
   },
   {
    "duration": 12,
    "start_time": "2022-01-26T20:03:46.188Z"
   },
   {
    "duration": 10,
    "start_time": "2022-01-26T20:03:57.106Z"
   },
   {
    "duration": 12,
    "start_time": "2022-01-26T20:04:05.170Z"
   },
   {
    "duration": 7,
    "start_time": "2022-01-26T20:04:59.600Z"
   },
   {
    "duration": 8,
    "start_time": "2022-01-26T20:05:06.359Z"
   },
   {
    "duration": 676,
    "start_time": "2022-01-27T06:53:59.720Z"
   },
   {
    "duration": 194,
    "start_time": "2022-01-27T06:55:08.494Z"
   },
   {
    "duration": 3,
    "start_time": "2022-01-27T06:55:15.320Z"
   },
   {
    "duration": 304,
    "start_time": "2022-01-27T06:55:15.325Z"
   },
   {
    "duration": 218,
    "start_time": "2022-01-27T06:55:15.631Z"
   },
   {
    "duration": 151,
    "start_time": "2022-01-27T06:55:15.851Z"
   },
   {
    "duration": 26,
    "start_time": "2022-01-27T06:55:16.005Z"
   },
   {
    "duration": 43,
    "start_time": "2022-01-27T06:55:16.033Z"
   },
   {
    "duration": 6,
    "start_time": "2022-01-27T06:55:16.079Z"
   },
   {
    "duration": 10,
    "start_time": "2022-01-27T06:55:16.087Z"
   },
   {
    "duration": 47,
    "start_time": "2022-01-27T06:55:16.099Z"
   },
   {
    "duration": 53,
    "start_time": "2022-01-27T06:55:16.147Z"
   },
   {
    "duration": 30,
    "start_time": "2022-01-27T06:55:16.202Z"
   },
   {
    "duration": 12,
    "start_time": "2022-01-27T06:55:16.234Z"
   },
   {
    "duration": 14,
    "start_time": "2022-01-27T06:55:16.248Z"
   },
   {
    "duration": 35,
    "start_time": "2022-01-27T06:55:16.264Z"
   },
   {
    "duration": 312,
    "start_time": "2022-01-27T06:55:16.300Z"
   },
   {
    "duration": 250,
    "start_time": "2022-01-27T06:55:32.122Z"
   },
   {
    "duration": 160,
    "start_time": "2022-01-27T06:57:08.269Z"
   },
   {
    "duration": 135,
    "start_time": "2022-01-27T06:57:14.827Z"
   },
   {
    "duration": 722,
    "start_time": "2022-01-27T06:57:25.317Z"
   },
   {
    "duration": 542,
    "start_time": "2022-01-27T06:57:50.906Z"
   },
   {
    "duration": 746,
    "start_time": "2022-01-27T06:58:17.354Z"
   },
   {
    "duration": 799,
    "start_time": "2022-01-27T06:58:22.122Z"
   },
   {
    "duration": 146,
    "start_time": "2022-01-27T07:17:52.975Z"
   },
   {
    "duration": 2,
    "start_time": "2022-01-27T07:17:58.157Z"
   },
   {
    "duration": 256,
    "start_time": "2022-01-27T07:17:58.164Z"
   },
   {
    "duration": 219,
    "start_time": "2022-01-27T07:17:58.423Z"
   },
   {
    "duration": 157,
    "start_time": "2022-01-27T07:17:58.645Z"
   },
   {
    "duration": 27,
    "start_time": "2022-01-27T07:17:58.804Z"
   },
   {
    "duration": 46,
    "start_time": "2022-01-27T07:17:58.833Z"
   },
   {
    "duration": 6,
    "start_time": "2022-01-27T07:17:58.881Z"
   },
   {
    "duration": 13,
    "start_time": "2022-01-27T07:17:58.888Z"
   },
   {
    "duration": 46,
    "start_time": "2022-01-27T07:17:58.904Z"
   },
   {
    "duration": 52,
    "start_time": "2022-01-27T07:17:58.952Z"
   },
   {
    "duration": 29,
    "start_time": "2022-01-27T07:17:59.006Z"
   },
   {
    "duration": 11,
    "start_time": "2022-01-27T07:17:59.037Z"
   },
   {
    "duration": 12,
    "start_time": "2022-01-27T07:17:59.050Z"
   },
   {
    "duration": 172,
    "start_time": "2022-01-27T07:17:59.064Z"
   },
   {
    "duration": -5953,
    "start_time": "2022-01-27T07:18:05.190Z"
   },
   {
    "duration": 142,
    "start_time": "2022-01-27T07:22:13.734Z"
   },
   {
    "duration": 91,
    "start_time": "2022-01-27T07:23:19.198Z"
   },
   {
    "duration": 76,
    "start_time": "2022-01-27T07:24:42.719Z"
   },
   {
    "duration": 3,
    "start_time": "2022-01-27T07:24:49.503Z"
   },
   {
    "duration": 270,
    "start_time": "2022-01-27T07:24:49.509Z"
   },
   {
    "duration": 226,
    "start_time": "2022-01-27T07:24:49.782Z"
   },
   {
    "duration": 152,
    "start_time": "2022-01-27T07:24:50.011Z"
   },
   {
    "duration": 32,
    "start_time": "2022-01-27T07:24:50.166Z"
   },
   {
    "duration": 41,
    "start_time": "2022-01-27T07:24:50.200Z"
   },
   {
    "duration": 6,
    "start_time": "2022-01-27T07:24:50.242Z"
   },
   {
    "duration": 11,
    "start_time": "2022-01-27T07:24:50.250Z"
   },
   {
    "duration": 56,
    "start_time": "2022-01-27T07:24:50.263Z"
   },
   {
    "duration": 35,
    "start_time": "2022-01-27T07:24:50.320Z"
   },
   {
    "duration": 50,
    "start_time": "2022-01-27T07:24:50.357Z"
   },
   {
    "duration": 11,
    "start_time": "2022-01-27T07:24:50.409Z"
   },
   {
    "duration": 12,
    "start_time": "2022-01-27T07:24:50.422Z"
   },
   {
    "duration": 122,
    "start_time": "2022-01-27T07:24:50.435Z"
   },
   {
    "duration": 7,
    "start_time": "2022-01-27T07:24:50.559Z"
   },
   {
    "duration": 89,
    "start_time": "2022-01-27T07:34:43.437Z"
   },
   {
    "duration": 2,
    "start_time": "2022-01-27T07:34:47.919Z"
   },
   {
    "duration": 275,
    "start_time": "2022-01-27T07:34:47.924Z"
   },
   {
    "duration": 214,
    "start_time": "2022-01-27T07:34:48.200Z"
   },
   {
    "duration": 139,
    "start_time": "2022-01-27T07:34:48.416Z"
   },
   {
    "duration": 25,
    "start_time": "2022-01-27T07:34:48.557Z"
   },
   {
    "duration": 39,
    "start_time": "2022-01-27T07:34:48.583Z"
   },
   {
    "duration": 5,
    "start_time": "2022-01-27T07:34:48.624Z"
   },
   {
    "duration": 10,
    "start_time": "2022-01-27T07:34:48.631Z"
   },
   {
    "duration": 59,
    "start_time": "2022-01-27T07:34:48.644Z"
   },
   {
    "duration": 36,
    "start_time": "2022-01-27T07:34:48.705Z"
   },
   {
    "duration": 57,
    "start_time": "2022-01-27T07:34:48.743Z"
   },
   {
    "duration": 12,
    "start_time": "2022-01-27T07:34:48.802Z"
   },
   {
    "duration": 12,
    "start_time": "2022-01-27T07:34:48.816Z"
   },
   {
    "duration": 122,
    "start_time": "2022-01-27T07:34:48.830Z"
   },
   {
    "duration": 8,
    "start_time": "2022-01-27T07:34:48.954Z"
   },
   {
    "duration": 24,
    "start_time": "2022-01-27T07:48:16.539Z"
   },
   {
    "duration": 25,
    "start_time": "2022-01-27T07:48:22.897Z"
   },
   {
    "duration": 134,
    "start_time": "2022-01-27T07:50:34.105Z"
   },
   {
    "duration": 155,
    "start_time": "2022-01-27T07:50:54.443Z"
   },
   {
    "duration": 38,
    "start_time": "2022-01-27T07:51:07.168Z"
   },
   {
    "duration": 40,
    "start_time": "2022-01-27T07:52:15.333Z"
   },
   {
    "duration": 170,
    "start_time": "2022-01-27T07:54:53.821Z"
   },
   {
    "duration": 57,
    "start_time": "2022-01-27T07:54:59.234Z"
   },
   {
    "duration": 49,
    "start_time": "2022-01-27T07:55:13.832Z"
   },
   {
    "duration": 21,
    "start_time": "2022-01-27T07:55:18.216Z"
   },
   {
    "duration": 73,
    "start_time": "2022-01-27T07:57:08.733Z"
   },
   {
    "duration": 71,
    "start_time": "2022-01-27T07:57:19.232Z"
   },
   {
    "duration": 71,
    "start_time": "2022-01-27T07:58:58.387Z"
   },
   {
    "duration": 140,
    "start_time": "2022-01-27T08:00:21.365Z"
   },
   {
    "duration": 25,
    "start_time": "2022-01-27T08:02:02.871Z"
   },
   {
    "duration": 187,
    "start_time": "2022-01-27T08:03:38.030Z"
   },
   {
    "duration": 24,
    "start_time": "2022-01-27T08:04:50.638Z"
   },
   {
    "duration": 19,
    "start_time": "2022-01-27T08:10:30.765Z"
   },
   {
    "duration": 21,
    "start_time": "2022-01-27T08:11:10.315Z"
   },
   {
    "duration": 23,
    "start_time": "2022-01-27T08:12:07.254Z"
   },
   {
    "duration": 22,
    "start_time": "2022-01-27T08:12:17.032Z"
   },
   {
    "duration": 23,
    "start_time": "2022-01-27T08:12:30.542Z"
   },
   {
    "duration": 156,
    "start_time": "2022-01-27T08:13:44.671Z"
   },
   {
    "duration": 23,
    "start_time": "2022-01-27T08:13:54.382Z"
   },
   {
    "duration": 26,
    "start_time": "2022-01-27T08:14:02.412Z"
   },
   {
    "duration": 132,
    "start_time": "2022-01-27T08:33:14.343Z"
   },
   {
    "duration": 150,
    "start_time": "2022-01-27T08:33:20.549Z"
   },
   {
    "duration": 137,
    "start_time": "2022-01-27T08:33:55.147Z"
   },
   {
    "duration": 149,
    "start_time": "2022-01-27T08:35:33.168Z"
   },
   {
    "duration": 3,
    "start_time": "2022-01-27T08:35:46.778Z"
   },
   {
    "duration": 275,
    "start_time": "2022-01-27T08:35:46.784Z"
   },
   {
    "duration": 212,
    "start_time": "2022-01-27T08:35:47.061Z"
   },
   {
    "duration": 158,
    "start_time": "2022-01-27T08:35:47.275Z"
   },
   {
    "duration": 27,
    "start_time": "2022-01-27T08:35:47.435Z"
   },
   {
    "duration": 42,
    "start_time": "2022-01-27T08:35:47.464Z"
   },
   {
    "duration": 6,
    "start_time": "2022-01-27T08:35:47.508Z"
   },
   {
    "duration": 12,
    "start_time": "2022-01-27T08:35:47.515Z"
   },
   {
    "duration": 47,
    "start_time": "2022-01-27T08:35:47.529Z"
   },
   {
    "duration": 34,
    "start_time": "2022-01-27T08:35:47.598Z"
   },
   {
    "duration": 29,
    "start_time": "2022-01-27T08:35:47.633Z"
   },
   {
    "duration": 35,
    "start_time": "2022-01-27T08:35:47.664Z"
   },
   {
    "duration": 17,
    "start_time": "2022-01-27T08:35:47.701Z"
   },
   {
    "duration": 110,
    "start_time": "2022-01-27T08:35:47.720Z"
   },
   {
    "duration": 26,
    "start_time": "2022-01-27T08:35:47.832Z"
   },
   {
    "duration": 44,
    "start_time": "2022-01-27T08:35:47.860Z"
   },
   {
    "duration": 148,
    "start_time": "2022-01-27T08:35:47.905Z"
   },
   {
    "duration": -5970,
    "start_time": "2022-01-27T08:35:54.024Z"
   },
   {
    "duration": 233,
    "start_time": "2022-01-27T08:36:20.950Z"
   },
   {
    "duration": 6,
    "start_time": "2022-01-27T08:36:57.484Z"
   },
   {
    "duration": 27,
    "start_time": "2022-01-27T08:37:01.186Z"
   },
   {
    "duration": 7,
    "start_time": "2022-01-27T08:39:47.857Z"
   },
   {
    "duration": 23,
    "start_time": "2022-01-27T08:54:35.628Z"
   },
   {
    "duration": 22,
    "start_time": "2022-01-27T09:02:24.658Z"
   },
   {
    "duration": 23,
    "start_time": "2022-01-27T09:02:59.051Z"
   },
   {
    "duration": 26,
    "start_time": "2022-01-27T09:06:20.402Z"
   },
   {
    "duration": 32,
    "start_time": "2022-01-27T09:06:22.916Z"
   },
   {
    "duration": 25,
    "start_time": "2022-01-27T09:06:32.208Z"
   },
   {
    "duration": 26,
    "start_time": "2022-01-27T09:06:37.476Z"
   },
   {
    "duration": 23,
    "start_time": "2022-01-27T09:06:41.226Z"
   },
   {
    "duration": 22,
    "start_time": "2022-01-27T09:06:46.734Z"
   },
   {
    "duration": 25,
    "start_time": "2022-01-27T09:06:59.308Z"
   },
   {
    "duration": 24,
    "start_time": "2022-01-27T09:07:01.653Z"
   },
   {
    "duration": 149,
    "start_time": "2022-01-27T09:07:37.625Z"
   },
   {
    "duration": 4023,
    "start_time": "2022-01-27T09:07:42.898Z"
   },
   {
    "duration": 19,
    "start_time": "2022-01-27T09:08:01.896Z"
   },
   {
    "duration": 20,
    "start_time": "2022-01-27T09:12:26.343Z"
   },
   {
    "duration": 20,
    "start_time": "2022-01-27T09:12:35.469Z"
   },
   {
    "duration": 22,
    "start_time": "2022-01-27T09:13:30.632Z"
   },
   {
    "duration": 20,
    "start_time": "2022-01-27T09:43:20.730Z"
   },
   {
    "duration": 16,
    "start_time": "2022-01-27T09:48:01.122Z"
   },
   {
    "duration": 20,
    "start_time": "2022-01-27T09:53:54.253Z"
   },
   {
    "duration": 18,
    "start_time": "2022-01-27T09:56:08.428Z"
   },
   {
    "duration": 6,
    "start_time": "2022-01-27T09:58:15.481Z"
   },
   {
    "duration": 10,
    "start_time": "2022-01-27T09:58:25.192Z"
   },
   {
    "duration": 5,
    "start_time": "2022-01-27T10:04:43.781Z"
   },
   {
    "duration": 5,
    "start_time": "2022-01-27T10:04:49.511Z"
   },
   {
    "duration": 11,
    "start_time": "2022-01-27T10:04:51.938Z"
   },
   {
    "duration": 8,
    "start_time": "2022-01-27T10:08:02.785Z"
   },
   {
    "duration": 4,
    "start_time": "2022-01-27T10:13:04.458Z"
   },
   {
    "duration": 7,
    "start_time": "2022-01-27T10:14:04.875Z"
   },
   {
    "duration": 7,
    "start_time": "2022-01-27T10:14:34.929Z"
   },
   {
    "duration": 7,
    "start_time": "2022-01-27T10:16:06.332Z"
   },
   {
    "duration": 8,
    "start_time": "2022-01-27T10:16:09.806Z"
   },
   {
    "duration": 9,
    "start_time": "2022-01-27T10:17:43.189Z"
   },
   {
    "duration": 10,
    "start_time": "2022-01-27T10:18:44.875Z"
   },
   {
    "duration": 9,
    "start_time": "2022-01-27T10:19:43.107Z"
   },
   {
    "duration": 10,
    "start_time": "2022-01-27T10:20:53.557Z"
   },
   {
    "duration": 4,
    "start_time": "2022-01-27T10:21:56.481Z"
   },
   {
    "duration": 8,
    "start_time": "2022-01-27T10:24:36.506Z"
   },
   {
    "duration": 4,
    "start_time": "2022-01-27T10:25:11.731Z"
   },
   {
    "duration": 54,
    "start_time": "2022-01-27T10:27:05.143Z"
   },
   {
    "duration": 4,
    "start_time": "2022-01-27T10:27:08.710Z"
   },
   {
    "duration": 5,
    "start_time": "2022-01-27T10:28:09.109Z"
   },
   {
    "duration": 50,
    "start_time": "2022-01-27T10:39:16.904Z"
   },
   {
    "duration": 6,
    "start_time": "2022-01-27T10:41:10.117Z"
   },
   {
    "duration": 14,
    "start_time": "2022-01-27T10:41:43.283Z"
   },
   {
    "duration": 7,
    "start_time": "2022-01-27T11:15:09.761Z"
   },
   {
    "duration": 27,
    "start_time": "2022-01-27T11:16:27.139Z"
   },
   {
    "duration": 18,
    "start_time": "2022-01-27T11:16:32.567Z"
   },
   {
    "duration": 7,
    "start_time": "2022-01-27T11:17:31.805Z"
   },
   {
    "duration": 8,
    "start_time": "2022-01-27T11:17:48.446Z"
   },
   {
    "duration": 135,
    "start_time": "2022-01-27T11:18:07.474Z"
   },
   {
    "duration": 155,
    "start_time": "2022-01-27T11:18:36.378Z"
   },
   {
    "duration": 147,
    "start_time": "2022-01-27T11:18:45.768Z"
   },
   {
    "duration": 50,
    "start_time": "2022-01-27T11:18:55.336Z"
   },
   {
    "duration": 5,
    "start_time": "2022-01-27T11:18:59.167Z"
   },
   {
    "duration": 6,
    "start_time": "2022-01-27T11:19:31.559Z"
   },
   {
    "duration": 5,
    "start_time": "2022-01-27T11:20:13.147Z"
   },
   {
    "duration": 5,
    "start_time": "2022-01-27T11:20:21.116Z"
   },
   {
    "duration": 7,
    "start_time": "2022-01-27T11:20:48.341Z"
   },
   {
    "duration": 23,
    "start_time": "2022-01-27T11:23:07.192Z"
   },
   {
    "duration": 12,
    "start_time": "2022-01-27T11:23:13.121Z"
   },
   {
    "duration": 13,
    "start_time": "2022-01-27T11:23:20.213Z"
   },
   {
    "duration": 24,
    "start_time": "2022-01-27T11:23:32.333Z"
   },
   {
    "duration": 22,
    "start_time": "2022-01-27T11:25:14.360Z"
   },
   {
    "duration": 46,
    "start_time": "2022-01-27T11:30:02.257Z"
   },
   {
    "duration": 641,
    "start_time": "2022-01-27T11:30:40.837Z"
   },
   {
    "duration": 290,
    "start_time": "2022-01-27T11:30:41.479Z"
   },
   {
    "duration": 239,
    "start_time": "2022-01-27T11:30:41.771Z"
   },
   {
    "duration": 151,
    "start_time": "2022-01-27T11:30:42.012Z"
   },
   {
    "duration": 36,
    "start_time": "2022-01-27T11:30:42.166Z"
   },
   {
    "duration": 51,
    "start_time": "2022-01-27T11:30:42.204Z"
   },
   {
    "duration": 7,
    "start_time": "2022-01-27T11:30:42.257Z"
   },
   {
    "duration": 14,
    "start_time": "2022-01-27T11:30:42.267Z"
   },
   {
    "duration": 49,
    "start_time": "2022-01-27T11:30:42.283Z"
   },
   {
    "duration": 35,
    "start_time": "2022-01-27T11:30:42.334Z"
   },
   {
    "duration": 49,
    "start_time": "2022-01-27T11:30:42.371Z"
   },
   {
    "duration": 10,
    "start_time": "2022-01-27T11:30:42.421Z"
   },
   {
    "duration": 15,
    "start_time": "2022-01-27T11:30:42.433Z"
   },
   {
    "duration": 107,
    "start_time": "2022-01-27T11:30:42.450Z"
   },
   {
    "duration": 38,
    "start_time": "2022-01-27T11:30:42.559Z"
   },
   {
    "duration": 29,
    "start_time": "2022-01-27T11:30:42.598Z"
   },
   {
    "duration": 17,
    "start_time": "2022-01-27T11:30:42.629Z"
   },
   {
    "duration": 24,
    "start_time": "2022-01-27T11:30:42.648Z"
   },
   {
    "duration": 20,
    "start_time": "2022-01-27T11:30:42.698Z"
   },
   {
    "duration": 12,
    "start_time": "2022-01-27T11:30:42.720Z"
   },
   {
    "duration": 25,
    "start_time": "2022-01-27T11:30:42.734Z"
   },
   {
    "duration": 9,
    "start_time": "2022-01-27T11:30:42.760Z"
   },
   {
    "duration": 7,
    "start_time": "2022-01-27T11:30:42.799Z"
   },
   {
    "duration": 11,
    "start_time": "2022-01-27T11:30:42.809Z"
   },
   {
    "duration": 5,
    "start_time": "2022-01-27T11:30:42.822Z"
   },
   {
    "duration": 9,
    "start_time": "2022-01-27T11:30:42.828Z"
   },
   {
    "duration": 15,
    "start_time": "2022-01-27T11:30:42.839Z"
   },
   {
    "duration": 47,
    "start_time": "2022-01-27T11:30:42.855Z"
   },
   {
    "duration": 70,
    "start_time": "2022-01-27T11:30:42.904Z"
   },
   {
    "duration": 44,
    "start_time": "2022-01-27T11:30:42.976Z"
   },
   {
    "duration": 7,
    "start_time": "2022-01-27T11:30:43.021Z"
   },
   {
    "duration": 7,
    "start_time": "2022-01-27T11:30:43.030Z"
   },
   {
    "duration": 25,
    "start_time": "2022-01-27T11:32:22.728Z"
   },
   {
    "duration": 21,
    "start_time": "2022-01-27T11:33:03.899Z"
   },
   {
    "duration": 29,
    "start_time": "2022-01-27T11:33:33.239Z"
   },
   {
    "duration": 20,
    "start_time": "2022-01-27T11:37:05.060Z"
   },
   {
    "duration": 14,
    "start_time": "2022-01-27T11:37:14.529Z"
   },
   {
    "duration": 4,
    "start_time": "2022-01-27T11:38:45.093Z"
   },
   {
    "duration": 39,
    "start_time": "2022-01-27T11:40:59.954Z"
   },
   {
    "duration": 218,
    "start_time": "2022-01-27T11:41:21.754Z"
   },
   {
    "duration": 24,
    "start_time": "2022-01-27T11:42:44.211Z"
   },
   {
    "duration": 28,
    "start_time": "2022-01-27T11:42:51.000Z"
   },
   {
    "duration": 44,
    "start_time": "2022-01-27T11:43:03.294Z"
   },
   {
    "duration": 166,
    "start_time": "2022-01-27T11:44:24.816Z"
   },
   {
    "duration": 5,
    "start_time": "2022-01-27T11:46:43.647Z"
   },
   {
    "duration": 6,
    "start_time": "2022-01-27T11:47:00.435Z"
   },
   {
    "duration": 11,
    "start_time": "2022-01-27T11:47:29.876Z"
   },
   {
    "duration": 11,
    "start_time": "2022-01-27T11:47:39.144Z"
   },
   {
    "duration": 188,
    "start_time": "2022-01-27T11:48:12.673Z"
   },
   {
    "duration": 11,
    "start_time": "2022-01-27T11:48:21.010Z"
   },
   {
    "duration": 6,
    "start_time": "2022-01-27T11:49:29.073Z"
   },
   {
    "duration": 12,
    "start_time": "2022-01-27T11:49:31.128Z"
   },
   {
    "duration": 1820,
    "start_time": "2022-01-27T11:51:36.114Z"
   },
   {
    "duration": 646,
    "start_time": "2022-01-27T11:52:26.447Z"
   },
   {
    "duration": 295,
    "start_time": "2022-01-27T11:52:27.097Z"
   },
   {
    "duration": 220,
    "start_time": "2022-01-27T11:52:27.395Z"
   },
   {
    "duration": 149,
    "start_time": "2022-01-27T11:52:27.617Z"
   },
   {
    "duration": 30,
    "start_time": "2022-01-27T11:52:27.768Z"
   },
   {
    "duration": 51,
    "start_time": "2022-01-27T11:52:27.800Z"
   },
   {
    "duration": 7,
    "start_time": "2022-01-27T11:52:27.853Z"
   },
   {
    "duration": 7,
    "start_time": "2022-01-27T11:52:27.863Z"
   },
   {
    "duration": 49,
    "start_time": "2022-01-27T11:52:27.873Z"
   },
   {
    "duration": 35,
    "start_time": "2022-01-27T11:52:27.923Z"
   },
   {
    "duration": 51,
    "start_time": "2022-01-27T11:52:27.960Z"
   },
   {
    "duration": 11,
    "start_time": "2022-01-27T11:52:28.012Z"
   },
   {
    "duration": 19,
    "start_time": "2022-01-27T11:52:28.025Z"
   },
   {
    "duration": 109,
    "start_time": "2022-01-27T11:52:28.046Z"
   },
   {
    "duration": 25,
    "start_time": "2022-01-27T11:52:28.157Z"
   },
   {
    "duration": 28,
    "start_time": "2022-01-27T11:52:28.196Z"
   },
   {
    "duration": 16,
    "start_time": "2022-01-27T11:52:28.226Z"
   },
   {
    "duration": 22,
    "start_time": "2022-01-27T11:52:28.244Z"
   },
   {
    "duration": 44,
    "start_time": "2022-01-27T11:52:28.268Z"
   },
   {
    "duration": 14,
    "start_time": "2022-01-27T11:52:28.313Z"
   },
   {
    "duration": 23,
    "start_time": "2022-01-27T11:52:28.328Z"
   },
   {
    "duration": 8,
    "start_time": "2022-01-27T11:52:28.353Z"
   },
   {
    "duration": 39,
    "start_time": "2022-01-27T11:52:28.364Z"
   },
   {
    "duration": 12,
    "start_time": "2022-01-27T11:52:28.406Z"
   },
   {
    "duration": 4,
    "start_time": "2022-01-27T11:52:28.420Z"
   },
   {
    "duration": 9,
    "start_time": "2022-01-27T11:52:28.426Z"
   },
   {
    "duration": 11,
    "start_time": "2022-01-27T11:52:28.436Z"
   },
   {
    "duration": 54,
    "start_time": "2022-01-27T11:52:28.449Z"
   },
   {
    "duration": 26,
    "start_time": "2022-01-27T11:52:28.505Z"
   },
   {
    "duration": 65,
    "start_time": "2022-01-27T11:52:28.533Z"
   },
   {
    "duration": 182,
    "start_time": "2022-01-27T11:52:46.707Z"
   },
   {
    "duration": 3,
    "start_time": "2022-01-27T11:52:52.957Z"
   },
   {
    "duration": 291,
    "start_time": "2022-01-27T11:52:52.964Z"
   },
   {
    "duration": 203,
    "start_time": "2022-01-27T11:52:53.257Z"
   },
   {
    "duration": 148,
    "start_time": "2022-01-27T11:52:53.462Z"
   },
   {
    "duration": 27,
    "start_time": "2022-01-27T11:52:53.612Z"
   },
   {
    "duration": 53,
    "start_time": "2022-01-27T11:52:53.641Z"
   },
   {
    "duration": 6,
    "start_time": "2022-01-27T11:52:53.696Z"
   },
   {
    "duration": 9,
    "start_time": "2022-01-27T11:52:53.704Z"
   },
   {
    "duration": 43,
    "start_time": "2022-01-27T11:52:53.716Z"
   },
   {
    "duration": 61,
    "start_time": "2022-01-27T11:52:53.761Z"
   },
   {
    "duration": 31,
    "start_time": "2022-01-27T11:52:53.824Z"
   },
   {
    "duration": 10,
    "start_time": "2022-01-27T11:52:53.858Z"
   },
   {
    "duration": 12,
    "start_time": "2022-01-27T11:52:53.898Z"
   },
   {
    "duration": 123,
    "start_time": "2022-01-27T11:52:53.912Z"
   },
   {
    "duration": 25,
    "start_time": "2022-01-27T11:52:54.036Z"
   },
   {
    "duration": 41,
    "start_time": "2022-01-27T11:52:54.063Z"
   },
   {
    "duration": 16,
    "start_time": "2022-01-27T11:52:54.106Z"
   },
   {
    "duration": 20,
    "start_time": "2022-01-27T11:52:54.124Z"
   },
   {
    "duration": 19,
    "start_time": "2022-01-27T11:52:54.146Z"
   },
   {
    "duration": 39,
    "start_time": "2022-01-27T11:52:54.167Z"
   },
   {
    "duration": 21,
    "start_time": "2022-01-27T11:52:54.208Z"
   },
   {
    "duration": 11,
    "start_time": "2022-01-27T11:52:54.232Z"
   },
   {
    "duration": 13,
    "start_time": "2022-01-27T11:52:54.245Z"
   },
   {
    "duration": 41,
    "start_time": "2022-01-27T11:52:54.262Z"
   },
   {
    "duration": 10,
    "start_time": "2022-01-27T11:52:54.305Z"
   },
   {
    "duration": 10,
    "start_time": "2022-01-27T11:52:54.317Z"
   },
   {
    "duration": 12,
    "start_time": "2022-01-27T11:52:54.329Z"
   },
   {
    "duration": 25,
    "start_time": "2022-01-27T11:52:54.343Z"
   },
   {
    "duration": 31,
    "start_time": "2022-01-27T11:52:57.010Z"
   },
   {
    "duration": 42,
    "start_time": "2022-01-27T11:53:36.277Z"
   },
   {
    "duration": 3,
    "start_time": "2022-01-27T12:00:47.555Z"
   },
   {
    "duration": 162,
    "start_time": "2022-01-27T12:05:42.947Z"
   },
   {
    "duration": 1815,
    "start_time": "2022-01-27T12:06:07.500Z"
   },
   {
    "duration": 598,
    "start_time": "2022-01-27T12:13:35.573Z"
   },
   {
    "duration": 515,
    "start_time": "2022-01-27T12:13:55.176Z"
   },
   {
    "duration": 611,
    "start_time": "2022-01-27T12:14:24.039Z"
   },
   {
    "duration": 287,
    "start_time": "2022-01-27T12:14:24.652Z"
   },
   {
    "duration": 217,
    "start_time": "2022-01-27T12:14:24.942Z"
   },
   {
    "duration": 143,
    "start_time": "2022-01-27T12:14:25.161Z"
   },
   {
    "duration": 26,
    "start_time": "2022-01-27T12:14:25.306Z"
   },
   {
    "duration": 54,
    "start_time": "2022-01-27T12:14:25.334Z"
   },
   {
    "duration": 6,
    "start_time": "2022-01-27T12:14:25.390Z"
   },
   {
    "duration": 9,
    "start_time": "2022-01-27T12:14:25.398Z"
   },
   {
    "duration": 46,
    "start_time": "2022-01-27T12:14:25.409Z"
   },
   {
    "duration": 56,
    "start_time": "2022-01-27T12:14:25.456Z"
   },
   {
    "duration": 31,
    "start_time": "2022-01-27T12:14:25.513Z"
   },
   {
    "duration": 11,
    "start_time": "2022-01-27T12:14:25.545Z"
   },
   {
    "duration": 40,
    "start_time": "2022-01-27T12:14:25.558Z"
   },
   {
    "duration": 3,
    "start_time": "2022-01-27T12:14:25.600Z"
   },
   {
    "duration": 102,
    "start_time": "2022-01-27T12:14:25.605Z"
   },
   {
    "duration": 24,
    "start_time": "2022-01-27T12:14:25.708Z"
   },
   {
    "duration": 28,
    "start_time": "2022-01-27T12:14:25.734Z"
   },
   {
    "duration": 41,
    "start_time": "2022-01-27T12:14:25.764Z"
   },
   {
    "duration": 21,
    "start_time": "2022-01-27T12:14:25.807Z"
   },
   {
    "duration": 20,
    "start_time": "2022-01-27T12:14:25.829Z"
   },
   {
    "duration": 11,
    "start_time": "2022-01-27T12:14:25.851Z"
   },
   {
    "duration": 48,
    "start_time": "2022-01-27T12:14:25.864Z"
   },
   {
    "duration": 9,
    "start_time": "2022-01-27T12:14:25.915Z"
   },
   {
    "duration": 8,
    "start_time": "2022-01-27T12:14:25.926Z"
   },
   {
    "duration": 8,
    "start_time": "2022-01-27T12:14:25.936Z"
   },
   {
    "duration": 4,
    "start_time": "2022-01-27T12:14:25.946Z"
   },
   {
    "duration": 14,
    "start_time": "2022-01-27T12:14:25.951Z"
   },
   {
    "duration": 36,
    "start_time": "2022-01-27T12:14:25.967Z"
   },
   {
    "duration": 22,
    "start_time": "2022-01-27T12:14:26.005Z"
   },
   {
    "duration": 30,
    "start_time": "2022-01-27T12:14:26.029Z"
   },
   {
    "duration": 61,
    "start_time": "2022-01-27T12:14:26.061Z"
   },
   {
    "duration": 195,
    "start_time": "2022-01-27T12:14:26.124Z"
   },
   {
    "duration": 5,
    "start_time": "2022-01-27T12:14:26.321Z"
   },
   {
    "duration": 20,
    "start_time": "2022-01-27T12:14:26.328Z"
   },
   {
    "duration": 8,
    "start_time": "2022-01-27T12:14:26.350Z"
   },
   {
    "duration": 5,
    "start_time": "2022-01-27T12:16:13.629Z"
   },
   {
    "duration": 206,
    "start_time": "2022-01-27T12:16:16.193Z"
   },
   {
    "duration": 7,
    "start_time": "2022-01-27T12:16:22.427Z"
   },
   {
    "duration": 24,
    "start_time": "2022-01-27T12:17:53.866Z"
   },
   {
    "duration": 28,
    "start_time": "2022-01-27T12:18:05.340Z"
   },
   {
    "duration": 43,
    "start_time": "2022-01-27T12:20:52.216Z"
   },
   {
    "duration": 145,
    "start_time": "2022-01-27T12:21:59.526Z"
   },
   {
    "duration": 1748,
    "start_time": "2022-01-27T12:22:58.842Z"
   },
   {
    "duration": 673,
    "start_time": "2022-01-27T13:01:46.778Z"
   },
   {
    "duration": 297,
    "start_time": "2022-01-27T13:01:47.453Z"
   },
   {
    "duration": 219,
    "start_time": "2022-01-27T13:01:47.753Z"
   },
   {
    "duration": 154,
    "start_time": "2022-01-27T13:01:47.974Z"
   },
   {
    "duration": 27,
    "start_time": "2022-01-27T13:01:48.130Z"
   },
   {
    "duration": 64,
    "start_time": "2022-01-27T13:01:48.159Z"
   },
   {
    "duration": 7,
    "start_time": "2022-01-27T13:01:48.224Z"
   },
   {
    "duration": 8,
    "start_time": "2022-01-27T13:01:48.234Z"
   },
   {
    "duration": 64,
    "start_time": "2022-01-27T13:01:48.244Z"
   },
   {
    "duration": 36,
    "start_time": "2022-01-27T13:01:48.309Z"
   },
   {
    "duration": 28,
    "start_time": "2022-01-27T13:01:48.347Z"
   },
   {
    "duration": 10,
    "start_time": "2022-01-27T13:01:48.398Z"
   },
   {
    "duration": 14,
    "start_time": "2022-01-27T13:01:48.410Z"
   },
   {
    "duration": 6,
    "start_time": "2022-01-27T13:01:48.425Z"
   },
   {
    "duration": 116,
    "start_time": "2022-01-27T13:01:48.433Z"
   },
   {
    "duration": 24,
    "start_time": "2022-01-27T13:01:48.551Z"
   },
   {
    "duration": 39,
    "start_time": "2022-01-27T13:01:48.577Z"
   },
   {
    "duration": 16,
    "start_time": "2022-01-27T13:01:48.618Z"
   },
   {
    "duration": 23,
    "start_time": "2022-01-27T13:01:48.636Z"
   },
   {
    "duration": 48,
    "start_time": "2022-01-27T13:01:48.660Z"
   },
   {
    "duration": 12,
    "start_time": "2022-01-27T13:01:48.710Z"
   },
   {
    "duration": 24,
    "start_time": "2022-01-27T13:01:48.724Z"
   },
   {
    "duration": 10,
    "start_time": "2022-01-27T13:01:48.751Z"
   },
   {
    "duration": 35,
    "start_time": "2022-01-27T13:01:48.762Z"
   },
   {
    "duration": 8,
    "start_time": "2022-01-27T13:01:48.799Z"
   },
   {
    "duration": 8,
    "start_time": "2022-01-27T13:01:48.808Z"
   },
   {
    "duration": 7,
    "start_time": "2022-01-27T13:01:48.817Z"
   },
   {
    "duration": 8,
    "start_time": "2022-01-27T13:01:48.826Z"
   },
   {
    "duration": 20,
    "start_time": "2022-01-27T13:01:48.836Z"
   },
   {
    "duration": 57,
    "start_time": "2022-01-27T13:01:48.858Z"
   },
   {
    "duration": 42,
    "start_time": "2022-01-27T13:01:48.917Z"
   },
   {
    "duration": 216,
    "start_time": "2022-01-27T13:01:48.961Z"
   },
   {
    "duration": 5,
    "start_time": "2022-01-27T13:01:49.179Z"
   },
   {
    "duration": 21,
    "start_time": "2022-01-27T13:01:49.185Z"
   },
   {
    "duration": 9,
    "start_time": "2022-01-27T13:01:49.208Z"
   },
   {
    "duration": 13,
    "start_time": "2022-01-27T13:05:02.855Z"
   },
   {
    "duration": 609,
    "start_time": "2022-01-27T15:28:58.986Z"
   },
   {
    "duration": 234,
    "start_time": "2022-01-27T15:28:59.597Z"
   },
   {
    "duration": 187,
    "start_time": "2022-01-27T15:28:59.833Z"
   },
   {
    "duration": 129,
    "start_time": "2022-01-27T15:29:00.022Z"
   },
   {
    "duration": 23,
    "start_time": "2022-01-27T15:29:00.152Z"
   },
   {
    "duration": 71,
    "start_time": "2022-01-27T15:29:00.177Z"
   },
   {
    "duration": 7,
    "start_time": "2022-01-27T15:29:00.250Z"
   },
   {
    "duration": 23,
    "start_time": "2022-01-27T15:29:00.261Z"
   },
   {
    "duration": 46,
    "start_time": "2022-01-27T15:29:00.286Z"
   },
   {
    "duration": 46,
    "start_time": "2022-01-27T15:29:00.334Z"
   },
   {
    "duration": 50,
    "start_time": "2022-01-27T15:29:00.382Z"
   },
   {
    "duration": 10,
    "start_time": "2022-01-27T15:29:00.433Z"
   },
   {
    "duration": 35,
    "start_time": "2022-01-27T15:29:00.445Z"
   },
   {
    "duration": 13,
    "start_time": "2022-01-27T15:29:00.481Z"
   },
   {
    "duration": 87,
    "start_time": "2022-01-27T15:29:00.496Z"
   },
   {
    "duration": 22,
    "start_time": "2022-01-27T15:29:00.585Z"
   },
   {
    "duration": 38,
    "start_time": "2022-01-27T15:29:00.608Z"
   },
   {
    "duration": 16,
    "start_time": "2022-01-27T15:29:00.647Z"
   },
   {
    "duration": 35,
    "start_time": "2022-01-27T15:29:00.664Z"
   },
   {
    "duration": 28,
    "start_time": "2022-01-27T15:29:00.700Z"
   },
   {
    "duration": 21,
    "start_time": "2022-01-27T15:29:00.729Z"
   },
   {
    "duration": 18,
    "start_time": "2022-01-27T15:29:00.751Z"
   },
   {
    "duration": 8,
    "start_time": "2022-01-27T15:29:00.772Z"
   },
   {
    "duration": 11,
    "start_time": "2022-01-27T15:29:00.782Z"
   },
   {
    "duration": 9,
    "start_time": "2022-01-27T15:29:00.795Z"
   },
   {
    "duration": 5,
    "start_time": "2022-01-27T15:29:00.828Z"
   },
   {
    "duration": 12,
    "start_time": "2022-01-27T15:29:00.835Z"
   },
   {
    "duration": 10,
    "start_time": "2022-01-27T15:29:00.849Z"
   },
   {
    "duration": 3,
    "start_time": "2022-01-27T15:29:30.172Z"
   },
   {
    "duration": 238,
    "start_time": "2022-01-27T15:29:30.177Z"
   },
   {
    "duration": 172,
    "start_time": "2022-01-27T15:29:30.417Z"
   },
   {
    "duration": 121,
    "start_time": "2022-01-27T15:29:30.591Z"
   },
   {
    "duration": 23,
    "start_time": "2022-01-27T15:29:30.714Z"
   },
   {
    "duration": 59,
    "start_time": "2022-01-27T15:29:30.739Z"
   },
   {
    "duration": 5,
    "start_time": "2022-01-27T15:29:30.800Z"
   },
   {
    "duration": 12,
    "start_time": "2022-01-27T15:29:30.806Z"
   },
   {
    "duration": 42,
    "start_time": "2022-01-27T15:29:30.820Z"
   },
   {
    "duration": 31,
    "start_time": "2022-01-27T15:29:30.864Z"
   },
   {
    "duration": 34,
    "start_time": "2022-01-27T15:29:30.896Z"
   },
   {
    "duration": 9,
    "start_time": "2022-01-27T15:29:30.932Z"
   },
   {
    "duration": 12,
    "start_time": "2022-01-27T15:29:30.943Z"
   },
   {
    "duration": 4,
    "start_time": "2022-01-27T15:29:30.957Z"
   },
   {
    "duration": 107,
    "start_time": "2022-01-27T15:29:30.962Z"
   },
   {
    "duration": 23,
    "start_time": "2022-01-27T15:29:31.070Z"
   },
   {
    "duration": 41,
    "start_time": "2022-01-27T15:29:31.095Z"
   },
   {
    "duration": 16,
    "start_time": "2022-01-27T15:29:31.138Z"
   },
   {
    "duration": 19,
    "start_time": "2022-01-27T15:29:31.156Z"
   },
   {
    "duration": 18,
    "start_time": "2022-01-27T15:29:31.177Z"
   },
   {
    "duration": 39,
    "start_time": "2022-01-27T15:29:31.197Z"
   },
   {
    "duration": 18,
    "start_time": "2022-01-27T15:29:31.237Z"
   },
   {
    "duration": 9,
    "start_time": "2022-01-27T15:29:31.257Z"
   },
   {
    "duration": 12,
    "start_time": "2022-01-27T15:29:31.269Z"
   },
   {
    "duration": 11,
    "start_time": "2022-01-27T15:29:31.283Z"
   },
   {
    "duration": 4,
    "start_time": "2022-01-27T15:29:31.328Z"
   },
   {
    "duration": 6,
    "start_time": "2022-01-27T15:29:31.333Z"
   },
   {
    "duration": 14,
    "start_time": "2022-01-27T15:29:31.340Z"
   },
   {
    "duration": 19,
    "start_time": "2022-01-27T15:29:33.331Z"
   },
   {
    "duration": 20,
    "start_time": "2022-01-27T15:30:54.016Z"
   },
   {
    "duration": 19,
    "start_time": "2022-01-27T15:31:05.454Z"
   },
   {
    "duration": 16,
    "start_time": "2022-01-27T15:32:06.507Z"
   },
   {
    "duration": 17,
    "start_time": "2022-01-27T15:32:36.193Z"
   },
   {
    "duration": 15,
    "start_time": "2022-01-27T15:32:58.551Z"
   },
   {
    "duration": 8,
    "start_time": "2022-01-27T15:33:33.261Z"
   },
   {
    "duration": 21,
    "start_time": "2022-01-27T15:34:01.740Z"
   },
   {
    "duration": 16,
    "start_time": "2022-01-27T15:35:28.928Z"
   },
   {
    "duration": 14,
    "start_time": "2022-01-27T15:35:45.765Z"
   },
   {
    "duration": 19,
    "start_time": "2022-01-27T15:37:41.127Z"
   },
   {
    "duration": 11,
    "start_time": "2022-01-27T15:39:06.650Z"
   },
   {
    "duration": 7372,
    "start_time": "2022-01-27T15:39:10.544Z"
   },
   {
    "duration": 11,
    "start_time": "2022-01-27T15:39:25.489Z"
   },
   {
    "duration": 24,
    "start_time": "2022-01-27T15:39:52.511Z"
   },
   {
    "duration": 15,
    "start_time": "2022-01-27T15:40:06.510Z"
   },
   {
    "duration": 15,
    "start_time": "2022-01-27T15:40:18.125Z"
   },
   {
    "duration": 15,
    "start_time": "2022-01-27T15:40:25.789Z"
   },
   {
    "duration": 548,
    "start_time": "2022-01-27T15:40:42.910Z"
   },
   {
    "duration": 14,
    "start_time": "2022-01-27T15:41:21.762Z"
   },
   {
    "duration": 18,
    "start_time": "2022-01-27T15:41:40.385Z"
   },
   {
    "duration": 21,
    "start_time": "2022-01-27T15:41:53.567Z"
   },
   {
    "duration": 9,
    "start_time": "2022-01-27T15:42:07.743Z"
   },
   {
    "duration": 3,
    "start_time": "2022-01-27T15:42:16.544Z"
   },
   {
    "duration": 233,
    "start_time": "2022-01-27T15:42:16.549Z"
   },
   {
    "duration": 166,
    "start_time": "2022-01-27T15:42:16.783Z"
   },
   {
    "duration": 118,
    "start_time": "2022-01-27T15:42:16.950Z"
   },
   {
    "duration": 22,
    "start_time": "2022-01-27T15:42:17.070Z"
   },
   {
    "duration": 53,
    "start_time": "2022-01-27T15:42:17.093Z"
   },
   {
    "duration": 5,
    "start_time": "2022-01-27T15:42:17.147Z"
   },
   {
    "duration": 20,
    "start_time": "2022-01-27T15:42:17.153Z"
   },
   {
    "duration": 42,
    "start_time": "2022-01-27T15:42:17.175Z"
   },
   {
    "duration": 29,
    "start_time": "2022-01-27T15:42:17.219Z"
   },
   {
    "duration": 24,
    "start_time": "2022-01-27T15:42:17.250Z"
   },
   {
    "duration": 8,
    "start_time": "2022-01-27T15:42:17.276Z"
   },
   {
    "duration": 22,
    "start_time": "2022-01-27T15:42:17.286Z"
   },
   {
    "duration": 13,
    "start_time": "2022-01-27T15:42:17.309Z"
   },
   {
    "duration": 82,
    "start_time": "2022-01-27T15:42:17.327Z"
   },
   {
    "duration": 26,
    "start_time": "2022-01-27T15:42:17.411Z"
   },
   {
    "duration": 23,
    "start_time": "2022-01-27T15:42:17.438Z"
   },
   {
    "duration": 18,
    "start_time": "2022-01-27T15:42:17.462Z"
   },
   {
    "duration": 24,
    "start_time": "2022-01-27T15:42:17.482Z"
   },
   {
    "duration": 31,
    "start_time": "2022-01-27T15:42:17.507Z"
   },
   {
    "duration": 9,
    "start_time": "2022-01-27T15:42:17.539Z"
   },
   {
    "duration": 16,
    "start_time": "2022-01-27T15:42:40.493Z"
   },
   {
    "duration": 7383,
    "start_time": "2022-01-27T15:42:44.781Z"
   },
   {
    "duration": 12,
    "start_time": "2022-01-27T15:43:04.004Z"
   },
   {
    "duration": 15,
    "start_time": "2022-01-27T15:43:12.283Z"
   },
   {
    "duration": 9,
    "start_time": "2022-01-27T15:43:15.274Z"
   },
   {
    "duration": 24,
    "start_time": "2022-01-27T15:44:32.359Z"
   },
   {
    "duration": 39,
    "start_time": "2022-01-27T15:48:39.002Z"
   },
   {
    "duration": 3,
    "start_time": "2022-01-27T15:48:49.749Z"
   },
   {
    "duration": 247,
    "start_time": "2022-01-27T15:48:49.755Z"
   },
   {
    "duration": 162,
    "start_time": "2022-01-27T15:48:50.003Z"
   },
   {
    "duration": 121,
    "start_time": "2022-01-27T15:48:50.167Z"
   },
   {
    "duration": 22,
    "start_time": "2022-01-27T15:48:50.290Z"
   },
   {
    "duration": 46,
    "start_time": "2022-01-27T15:48:50.313Z"
   },
   {
    "duration": 5,
    "start_time": "2022-01-27T15:48:50.360Z"
   },
   {
    "duration": 11,
    "start_time": "2022-01-27T15:48:50.366Z"
   },
   {
    "duration": 37,
    "start_time": "2022-01-27T15:48:50.379Z"
   },
   {
    "duration": 34,
    "start_time": "2022-01-27T15:48:50.418Z"
   },
   {
    "duration": 26,
    "start_time": "2022-01-27T15:48:50.453Z"
   },
   {
    "duration": 8,
    "start_time": "2022-01-27T15:48:50.480Z"
   },
   {
    "duration": 10,
    "start_time": "2022-01-27T15:48:50.489Z"
   },
   {
    "duration": 27,
    "start_time": "2022-01-27T15:48:50.500Z"
   },
   {
    "duration": 79,
    "start_time": "2022-01-27T15:48:50.529Z"
   },
   {
    "duration": 35,
    "start_time": "2022-01-27T15:48:50.610Z"
   },
   {
    "duration": 21,
    "start_time": "2022-01-27T15:48:50.646Z"
   },
   {
    "duration": 14,
    "start_time": "2022-01-27T15:48:50.669Z"
   },
   {
    "duration": 18,
    "start_time": "2022-01-27T15:48:50.684Z"
   },
   {
    "duration": 37,
    "start_time": "2022-01-27T15:48:50.703Z"
   },
   {
    "duration": 9,
    "start_time": "2022-01-27T15:48:50.741Z"
   },
   {
    "duration": 17,
    "start_time": "2022-01-27T15:48:50.751Z"
   },
   {
    "duration": 7,
    "start_time": "2022-01-27T15:48:50.769Z"
   },
   {
    "duration": 6,
    "start_time": "2022-01-27T15:48:50.779Z"
   },
   {
    "duration": 40,
    "start_time": "2022-01-27T15:48:50.787Z"
   },
   {
    "duration": 4,
    "start_time": "2022-01-27T15:48:50.829Z"
   },
   {
    "duration": 5,
    "start_time": "2022-01-27T15:48:50.835Z"
   },
   {
    "duration": 7,
    "start_time": "2022-01-27T15:48:50.842Z"
   },
   {
    "duration": 173,
    "start_time": "2022-01-27T15:48:55.695Z"
   },
   {
    "duration": 621,
    "start_time": "2022-01-27T15:49:52.961Z"
   },
   {
    "duration": 235,
    "start_time": "2022-01-27T15:49:53.584Z"
   },
   {
    "duration": 185,
    "start_time": "2022-01-27T15:49:53.821Z"
   },
   {
    "duration": 128,
    "start_time": "2022-01-27T15:49:54.008Z"
   },
   {
    "duration": 24,
    "start_time": "2022-01-27T15:49:54.138Z"
   },
   {
    "duration": 47,
    "start_time": "2022-01-27T15:49:54.164Z"
   },
   {
    "duration": 6,
    "start_time": "2022-01-27T15:49:54.212Z"
   },
   {
    "duration": 7,
    "start_time": "2022-01-27T15:49:54.222Z"
   },
   {
    "duration": 39,
    "start_time": "2022-01-27T15:49:54.232Z"
   },
   {
    "duration": 31,
    "start_time": "2022-01-27T15:49:54.272Z"
   },
   {
    "duration": 47,
    "start_time": "2022-01-27T15:49:54.304Z"
   },
   {
    "duration": 8,
    "start_time": "2022-01-27T15:49:54.352Z"
   },
   {
    "duration": 10,
    "start_time": "2022-01-27T15:49:54.362Z"
   },
   {
    "duration": 2,
    "start_time": "2022-01-27T15:49:54.374Z"
   },
   {
    "duration": 114,
    "start_time": "2022-01-27T15:49:54.378Z"
   },
   {
    "duration": 35,
    "start_time": "2022-01-27T15:49:54.494Z"
   },
   {
    "duration": 24,
    "start_time": "2022-01-27T15:49:54.530Z"
   },
   {
    "duration": 15,
    "start_time": "2022-01-27T15:49:54.555Z"
   },
   {
    "duration": 18,
    "start_time": "2022-01-27T15:49:54.572Z"
   },
   {
    "duration": 43,
    "start_time": "2022-01-27T15:49:54.592Z"
   },
   {
    "duration": 13,
    "start_time": "2022-01-27T15:49:54.636Z"
   },
   {
    "duration": 18,
    "start_time": "2022-01-27T15:49:54.651Z"
   },
   {
    "duration": 7,
    "start_time": "2022-01-27T15:49:54.673Z"
   },
   {
    "duration": 14,
    "start_time": "2022-01-27T15:49:54.682Z"
   },
   {
    "duration": 31,
    "start_time": "2022-01-27T15:49:54.698Z"
   },
   {
    "duration": 3,
    "start_time": "2022-01-27T15:49:54.731Z"
   },
   {
    "duration": 4,
    "start_time": "2022-01-27T15:49:54.736Z"
   },
   {
    "duration": 7,
    "start_time": "2022-01-27T15:49:54.742Z"
   },
   {
    "duration": 18,
    "start_time": "2022-01-27T15:49:54.750Z"
   },
   {
    "duration": 325,
    "start_time": "2022-01-27T15:49:57.733Z"
   },
   {
    "duration": 18,
    "start_time": "2022-01-27T15:50:31.058Z"
   },
   {
    "duration": 21,
    "start_time": "2022-01-27T15:50:34.689Z"
   },
   {
    "duration": 6,
    "start_time": "2022-01-27T15:54:17.463Z"
   },
   {
    "duration": 4,
    "start_time": "2022-01-27T15:57:56.241Z"
   },
   {
    "duration": 3,
    "start_time": "2022-01-27T15:58:21.393Z"
   },
   {
    "duration": 7,
    "start_time": "2022-01-27T15:58:31.111Z"
   },
   {
    "duration": 7,
    "start_time": "2022-01-27T15:59:17.476Z"
   },
   {
    "duration": 39,
    "start_time": "2022-01-27T15:59:44.691Z"
   },
   {
    "duration": 9,
    "start_time": "2022-01-27T16:01:30.501Z"
   },
   {
    "duration": 12,
    "start_time": "2022-01-27T16:01:49.901Z"
   },
   {
    "duration": 8,
    "start_time": "2022-01-27T16:02:04.275Z"
   },
   {
    "duration": 7,
    "start_time": "2022-01-27T16:02:10.419Z"
   },
   {
    "duration": 8,
    "start_time": "2022-01-27T16:02:19.634Z"
   },
   {
    "duration": 12,
    "start_time": "2022-01-27T16:02:44.690Z"
   },
   {
    "duration": 9,
    "start_time": "2022-01-27T16:03:21.511Z"
   },
   {
    "duration": 162,
    "start_time": "2022-01-27T16:05:31.154Z"
   },
   {
    "duration": 664,
    "start_time": "2022-01-27T16:05:53.824Z"
   },
   {
    "duration": 245,
    "start_time": "2022-01-27T16:05:54.490Z"
   },
   {
    "duration": 187,
    "start_time": "2022-01-27T16:05:54.737Z"
   },
   {
    "duration": 129,
    "start_time": "2022-01-27T16:05:54.927Z"
   },
   {
    "duration": 23,
    "start_time": "2022-01-27T16:05:55.058Z"
   },
   {
    "duration": 48,
    "start_time": "2022-01-27T16:05:55.083Z"
   },
   {
    "duration": 6,
    "start_time": "2022-01-27T16:05:55.132Z"
   },
   {
    "duration": 7,
    "start_time": "2022-01-27T16:05:55.140Z"
   },
   {
    "duration": 41,
    "start_time": "2022-01-27T16:05:55.149Z"
   },
   {
    "duration": 60,
    "start_time": "2022-01-27T16:05:55.191Z"
   },
   {
    "duration": 26,
    "start_time": "2022-01-27T16:05:55.253Z"
   },
   {
    "duration": 8,
    "start_time": "2022-01-27T16:05:55.281Z"
   },
   {
    "duration": 38,
    "start_time": "2022-01-27T16:05:55.290Z"
   },
   {
    "duration": 3,
    "start_time": "2022-01-27T16:05:55.329Z"
   },
   {
    "duration": 84,
    "start_time": "2022-01-27T16:05:55.333Z"
   },
   {
    "duration": 23,
    "start_time": "2022-01-27T16:05:55.427Z"
   },
   {
    "duration": 24,
    "start_time": "2022-01-27T16:05:55.452Z"
   },
   {
    "duration": 15,
    "start_time": "2022-01-27T16:05:55.477Z"
   },
   {
    "duration": 47,
    "start_time": "2022-01-27T16:05:55.494Z"
   },
   {
    "duration": 18,
    "start_time": "2022-01-27T16:05:55.542Z"
   },
   {
    "duration": 13,
    "start_time": "2022-01-27T16:05:55.562Z"
   },
   {
    "duration": 20,
    "start_time": "2022-01-27T16:05:55.577Z"
   },
   {
    "duration": 33,
    "start_time": "2022-01-27T16:05:55.600Z"
   },
   {
    "duration": 9,
    "start_time": "2022-01-27T16:05:55.635Z"
   },
   {
    "duration": 10,
    "start_time": "2022-01-27T16:05:55.645Z"
   },
   {
    "duration": 5,
    "start_time": "2022-01-27T16:05:55.656Z"
   },
   {
    "duration": 9,
    "start_time": "2022-01-27T16:05:55.663Z"
   },
   {
    "duration": 56,
    "start_time": "2022-01-27T16:05:55.673Z"
   },
   {
    "duration": 23,
    "start_time": "2022-01-27T16:05:55.731Z"
   },
   {
    "duration": 7,
    "start_time": "2022-01-27T16:05:55.755Z"
   },
   {
    "duration": 40,
    "start_time": "2022-01-27T16:06:04.756Z"
   },
   {
    "duration": 10,
    "start_time": "2022-01-27T16:10:21.845Z"
   },
   {
    "duration": 158,
    "start_time": "2022-01-27T16:10:56.244Z"
   },
   {
    "duration": 45,
    "start_time": "2022-01-27T16:12:10.600Z"
   },
   {
    "duration": 11,
    "start_time": "2022-01-27T16:14:51.983Z"
   },
   {
    "duration": 13,
    "start_time": "2022-01-27T16:15:01.983Z"
   },
   {
    "duration": 4,
    "start_time": "2022-01-27T16:15:59.315Z"
   },
   {
    "duration": 2187,
    "start_time": "2022-01-27T16:17:23.110Z"
   },
   {
    "duration": 7407,
    "start_time": "2022-01-27T16:17:37.213Z"
   },
   {
    "duration": 15,
    "start_time": "2022-01-27T16:18:25.843Z"
   },
   {
    "duration": 7875,
    "start_time": "2022-01-27T16:18:36.914Z"
   },
   {
    "duration": 7778,
    "start_time": "2022-01-27T16:18:55.793Z"
   },
   {
    "duration": 730,
    "start_time": "2022-01-27T16:19:08.740Z"
   },
   {
    "duration": 232,
    "start_time": "2022-01-27T16:19:09.471Z"
   },
   {
    "duration": 175,
    "start_time": "2022-01-27T16:19:09.705Z"
   },
   {
    "duration": 118,
    "start_time": "2022-01-27T16:19:09.881Z"
   },
   {
    "duration": 22,
    "start_time": "2022-01-27T16:19:10.001Z"
   },
   {
    "duration": 46,
    "start_time": "2022-01-27T16:19:10.027Z"
   },
   {
    "duration": 5,
    "start_time": "2022-01-27T16:19:10.074Z"
   },
   {
    "duration": 7,
    "start_time": "2022-01-27T16:19:10.082Z"
   },
   {
    "duration": 38,
    "start_time": "2022-01-27T16:19:10.091Z"
   },
   {
    "duration": 29,
    "start_time": "2022-01-27T16:19:10.131Z"
   },
   {
    "duration": 24,
    "start_time": "2022-01-27T16:19:10.162Z"
   },
   {
    "duration": 9,
    "start_time": "2022-01-27T16:19:10.187Z"
   },
   {
    "duration": 36,
    "start_time": "2022-01-27T16:19:10.198Z"
   },
   {
    "duration": 3,
    "start_time": "2022-01-27T16:19:10.235Z"
   },
   {
    "duration": 99,
    "start_time": "2022-01-27T16:19:10.239Z"
   },
   {
    "duration": 22,
    "start_time": "2022-01-27T16:19:10.340Z"
   },
   {
    "duration": 24,
    "start_time": "2022-01-27T16:19:10.363Z"
   },
   {
    "duration": 15,
    "start_time": "2022-01-27T16:19:10.389Z"
   },
   {
    "duration": 40,
    "start_time": "2022-01-27T16:19:10.406Z"
   },
   {
    "duration": 17,
    "start_time": "2022-01-27T16:19:10.447Z"
   },
   {
    "duration": 12,
    "start_time": "2022-01-27T16:19:10.465Z"
   },
   {
    "duration": 17,
    "start_time": "2022-01-27T16:19:10.479Z"
   },
   {
    "duration": 29,
    "start_time": "2022-01-27T16:19:10.499Z"
   },
   {
    "duration": 8,
    "start_time": "2022-01-27T16:19:10.530Z"
   },
   {
    "duration": 7,
    "start_time": "2022-01-27T16:19:10.539Z"
   },
   {
    "duration": 3,
    "start_time": "2022-01-27T16:19:10.548Z"
   },
   {
    "duration": 8,
    "start_time": "2022-01-27T16:19:10.552Z"
   },
   {
    "duration": 19,
    "start_time": "2022-01-27T16:19:10.561Z"
   },
   {
    "duration": 54,
    "start_time": "2022-01-27T16:19:10.581Z"
   },
   {
    "duration": 6,
    "start_time": "2022-01-27T16:19:10.636Z"
   },
   {
    "duration": 38,
    "start_time": "2022-01-27T16:19:10.643Z"
   },
   {
    "duration": 9,
    "start_time": "2022-01-27T16:19:10.682Z"
   },
   {
    "duration": 212,
    "start_time": "2022-01-27T16:19:10.693Z"
   },
   {
    "duration": 64,
    "start_time": "2022-01-27T16:19:10.907Z"
   },
   {
    "duration": 17,
    "start_time": "2022-01-27T16:19:10.972Z"
   },
   {
    "duration": 10,
    "start_time": "2022-01-27T16:19:10.990Z"
   },
   {
    "duration": 31,
    "start_time": "2022-01-27T16:19:11.002Z"
   },
   {
    "duration": 4,
    "start_time": "2022-01-27T16:19:11.034Z"
   },
   {
    "duration": 8,
    "start_time": "2022-01-27T16:22:59.523Z"
   },
   {
    "duration": 19,
    "start_time": "2022-01-27T16:23:21.369Z"
   },
   {
    "duration": 31,
    "start_time": "2022-01-27T16:23:52.040Z"
   },
   {
    "duration": 599,
    "start_time": "2022-01-27T16:25:27.889Z"
   },
   {
    "duration": 248,
    "start_time": "2022-01-27T16:25:28.492Z"
   },
   {
    "duration": 181,
    "start_time": "2022-01-27T16:25:28.741Z"
   },
   {
    "duration": 120,
    "start_time": "2022-01-27T16:25:28.924Z"
   },
   {
    "duration": 24,
    "start_time": "2022-01-27T16:25:29.046Z"
   },
   {
    "duration": 43,
    "start_time": "2022-01-27T16:25:29.072Z"
   },
   {
    "duration": 7,
    "start_time": "2022-01-27T16:25:29.118Z"
   },
   {
    "duration": 7,
    "start_time": "2022-01-27T16:25:29.127Z"
   },
   {
    "duration": 48,
    "start_time": "2022-01-27T16:25:29.135Z"
   },
   {
    "duration": 50,
    "start_time": "2022-01-27T16:25:29.184Z"
   },
   {
    "duration": 25,
    "start_time": "2022-01-27T16:25:29.236Z"
   },
   {
    "duration": 9,
    "start_time": "2022-01-27T16:25:29.263Z"
   },
   {
    "duration": 12,
    "start_time": "2022-01-27T16:25:29.274Z"
   },
   {
    "duration": 7,
    "start_time": "2022-01-27T16:25:29.288Z"
   },
   {
    "duration": 106,
    "start_time": "2022-01-27T16:25:29.296Z"
   },
   {
    "duration": 30,
    "start_time": "2022-01-27T16:25:29.404Z"
   },
   {
    "duration": 23,
    "start_time": "2022-01-27T16:25:29.435Z"
   },
   {
    "duration": 14,
    "start_time": "2022-01-27T16:25:29.460Z"
   },
   {
    "duration": 19,
    "start_time": "2022-01-27T16:25:29.475Z"
   },
   {
    "duration": 37,
    "start_time": "2022-01-27T16:25:29.496Z"
   },
   {
    "duration": 13,
    "start_time": "2022-01-27T16:25:29.534Z"
   },
   {
    "duration": 18,
    "start_time": "2022-01-27T16:25:29.549Z"
   },
   {
    "duration": 7,
    "start_time": "2022-01-27T16:25:29.569Z"
   },
   {
    "duration": 7,
    "start_time": "2022-01-27T16:25:29.578Z"
   },
   {
    "duration": 8,
    "start_time": "2022-01-27T16:25:29.586Z"
   },
   {
    "duration": 34,
    "start_time": "2022-01-27T16:25:29.595Z"
   },
   {
    "duration": 7,
    "start_time": "2022-01-27T16:25:29.631Z"
   },
   {
    "duration": 17,
    "start_time": "2022-01-27T16:25:29.640Z"
   },
   {
    "duration": 20,
    "start_time": "2022-01-27T16:25:29.658Z"
   },
   {
    "duration": 5,
    "start_time": "2022-01-27T16:25:29.680Z"
   },
   {
    "duration": 66,
    "start_time": "2022-01-27T16:25:29.686Z"
   },
   {
    "duration": 8,
    "start_time": "2022-01-27T16:25:29.753Z"
   },
   {
    "duration": 178,
    "start_time": "2022-01-27T16:25:29.762Z"
   },
   {
    "duration": 45,
    "start_time": "2022-01-27T16:25:29.941Z"
   },
   {
    "duration": 18,
    "start_time": "2022-01-27T16:25:29.988Z"
   },
   {
    "duration": 26,
    "start_time": "2022-01-27T16:25:30.007Z"
   },
   {
    "duration": 12,
    "start_time": "2022-01-27T16:25:30.035Z"
   },
   {
    "duration": 9,
    "start_time": "2022-01-27T16:25:30.049Z"
   },
   {
    "duration": 4,
    "start_time": "2022-01-27T16:25:30.060Z"
   },
   {
    "duration": 31,
    "start_time": "2022-01-27T16:31:14.842Z"
   },
   {
    "duration": 389,
    "start_time": "2022-01-27T16:43:37.104Z"
   },
   {
    "duration": 85,
    "start_time": "2022-01-27T16:43:45.086Z"
   },
   {
    "duration": 89,
    "start_time": "2022-01-27T16:43:50.294Z"
   },
   {
    "duration": 19,
    "start_time": "2022-01-27T16:43:55.165Z"
   },
   {
    "duration": 1370,
    "start_time": "2022-01-27T16:53:05.355Z"
   },
   {
    "duration": 2,
    "start_time": "2022-01-27T16:53:11.747Z"
   },
   {
    "duration": 213,
    "start_time": "2022-01-27T16:53:11.755Z"
   },
   {
    "duration": 167,
    "start_time": "2022-01-27T16:53:11.969Z"
   },
   {
    "duration": 114,
    "start_time": "2022-01-27T16:53:12.138Z"
   },
   {
    "duration": 22,
    "start_time": "2022-01-27T16:53:12.254Z"
   },
   {
    "duration": 45,
    "start_time": "2022-01-27T16:53:12.278Z"
   },
   {
    "duration": 5,
    "start_time": "2022-01-27T16:53:12.325Z"
   },
   {
    "duration": 7,
    "start_time": "2022-01-27T16:53:12.331Z"
   },
   {
    "duration": 38,
    "start_time": "2022-01-27T16:53:12.340Z"
   },
   {
    "duration": 30,
    "start_time": "2022-01-27T16:53:12.379Z"
   },
   {
    "duration": 39,
    "start_time": "2022-01-27T16:53:12.411Z"
   },
   {
    "duration": 9,
    "start_time": "2022-01-27T16:53:12.451Z"
   },
   {
    "duration": 12,
    "start_time": "2022-01-27T16:53:12.461Z"
   },
   {
    "duration": 3,
    "start_time": "2022-01-27T16:53:12.474Z"
   },
   {
    "duration": 104,
    "start_time": "2022-01-27T16:53:12.479Z"
   },
   {
    "duration": 22,
    "start_time": "2022-01-27T16:53:12.584Z"
   },
   {
    "duration": 23,
    "start_time": "2022-01-27T16:53:14.638Z"
   },
   {
    "duration": 20,
    "start_time": "2022-01-27T16:53:24.926Z"
   },
   {
    "duration": 21,
    "start_time": "2022-01-27T16:56:51.338Z"
   },
   {
    "duration": 18,
    "start_time": "2022-01-27T16:57:39.760Z"
   },
   {
    "duration": 2,
    "start_time": "2022-01-27T17:05:16.554Z"
   },
   {
    "duration": 231,
    "start_time": "2022-01-27T17:05:16.560Z"
   },
   {
    "duration": 177,
    "start_time": "2022-01-27T17:05:16.793Z"
   },
   {
    "duration": 123,
    "start_time": "2022-01-27T17:05:16.973Z"
   },
   {
    "duration": 23,
    "start_time": "2022-01-27T17:05:17.098Z"
   },
   {
    "duration": 50,
    "start_time": "2022-01-27T17:05:17.123Z"
   },
   {
    "duration": 18,
    "start_time": "2022-01-27T17:05:17.175Z"
   },
   {
    "duration": 21,
    "start_time": "2022-01-27T17:05:17.194Z"
   },
   {
    "duration": 52,
    "start_time": "2022-01-27T17:05:17.217Z"
   },
   {
    "duration": 30,
    "start_time": "2022-01-27T17:05:17.271Z"
   },
   {
    "duration": 30,
    "start_time": "2022-01-27T17:05:17.302Z"
   },
   {
    "duration": 8,
    "start_time": "2022-01-27T17:05:17.335Z"
   },
   {
    "duration": 19,
    "start_time": "2022-01-27T17:05:17.345Z"
   },
   {
    "duration": 278,
    "start_time": "2022-01-27T17:12:25.909Z"
   },
   {
    "duration": 3,
    "start_time": "2022-01-27T17:12:30.308Z"
   },
   {
    "duration": 223,
    "start_time": "2022-01-27T17:12:30.314Z"
   },
   {
    "duration": 175,
    "start_time": "2022-01-27T17:12:30.539Z"
   },
   {
    "duration": 121,
    "start_time": "2022-01-27T17:12:30.715Z"
   },
   {
    "duration": 23,
    "start_time": "2022-01-27T17:12:30.838Z"
   },
   {
    "duration": 59,
    "start_time": "2022-01-27T17:12:30.863Z"
   },
   {
    "duration": 6,
    "start_time": "2022-01-27T17:12:30.923Z"
   },
   {
    "duration": 13,
    "start_time": "2022-01-27T17:12:30.930Z"
   },
   {
    "duration": 57,
    "start_time": "2022-01-27T17:12:30.945Z"
   },
   {
    "duration": 32,
    "start_time": "2022-01-27T17:12:31.003Z"
   },
   {
    "duration": 26,
    "start_time": "2022-01-27T17:12:31.036Z"
   },
   {
    "duration": 9,
    "start_time": "2022-01-27T17:12:31.063Z"
   },
   {
    "duration": 12,
    "start_time": "2022-01-27T17:12:31.073Z"
   },
   {
    "duration": 268,
    "start_time": "2022-01-27T17:12:33.524Z"
   },
   {
    "duration": 301,
    "start_time": "2022-01-27T17:12:58.739Z"
   },
   {
    "duration": 273,
    "start_time": "2022-01-27T17:13:25.544Z"
   },
   {
    "duration": 45,
    "start_time": "2022-01-27T17:13:48.912Z"
   },
   {
    "duration": 69,
    "start_time": "2022-01-27T17:13:55.238Z"
   },
   {
    "duration": 313,
    "start_time": "2022-01-27T17:14:51.629Z"
   },
   {
    "duration": 292,
    "start_time": "2022-01-27T17:17:15.173Z"
   },
   {
    "duration": 363,
    "start_time": "2022-01-27T17:17:34.226Z"
   },
   {
    "duration": 359,
    "start_time": "2022-01-27T17:17:50.868Z"
   },
   {
    "duration": 4,
    "start_time": "2022-01-27T17:18:04.290Z"
   },
   {
    "duration": 24,
    "start_time": "2022-01-27T17:18:10.432Z"
   },
   {
    "duration": 27,
    "start_time": "2022-01-27T17:18:33.767Z"
   },
   {
    "duration": 7,
    "start_time": "2022-01-27T17:18:49.791Z"
   },
   {
    "duration": 7,
    "start_time": "2022-01-27T17:19:08.652Z"
   },
   {
    "duration": 9,
    "start_time": "2022-01-27T17:22:50.914Z"
   },
   {
    "duration": 9,
    "start_time": "2022-01-27T17:24:19.052Z"
   },
   {
    "duration": 11,
    "start_time": "2022-01-27T17:24:57.138Z"
   },
   {
    "duration": 8,
    "start_time": "2022-01-27T17:26:23.365Z"
   },
   {
    "duration": 3,
    "start_time": "2022-01-27T17:42:05.350Z"
   },
   {
    "duration": 80,
    "start_time": "2022-01-27T17:42:07.126Z"
   },
   {
    "duration": 23,
    "start_time": "2022-01-27T17:42:11.406Z"
   },
   {
    "duration": 86,
    "start_time": "2022-01-27T17:46:24.976Z"
   },
   {
    "duration": 106,
    "start_time": "2022-01-27T17:46:55.758Z"
   },
   {
    "duration": 297,
    "start_time": "2022-01-27T17:47:08.886Z"
   },
   {
    "duration": 49,
    "start_time": "2022-01-27T17:47:21.245Z"
   },
   {
    "duration": 39,
    "start_time": "2022-01-27T17:47:27.668Z"
   },
   {
    "duration": 321,
    "start_time": "2022-01-27T17:48:58.167Z"
   },
   {
    "duration": 320,
    "start_time": "2022-01-27T17:49:30.022Z"
   },
   {
    "duration": 37,
    "start_time": "2022-01-27T17:49:39.301Z"
   },
   {
    "duration": 30,
    "start_time": "2022-01-27T17:50:46.961Z"
   },
   {
    "duration": 41,
    "start_time": "2022-01-27T17:50:54.656Z"
   },
   {
    "duration": 31,
    "start_time": "2022-01-27T17:53:08.384Z"
   },
   {
    "duration": 329,
    "start_time": "2022-01-27T17:56:54.788Z"
   },
   {
    "duration": 17,
    "start_time": "2022-01-27T17:57:03.867Z"
   },
   {
    "duration": 16,
    "start_time": "2022-01-27T17:57:44.801Z"
   },
   {
    "duration": 304,
    "start_time": "2022-01-27T17:58:23.647Z"
   },
   {
    "duration": 15,
    "start_time": "2022-01-27T17:58:33.366Z"
   },
   {
    "duration": 18,
    "start_time": "2022-01-27T17:58:35.478Z"
   },
   {
    "duration": 2,
    "start_time": "2022-01-27T18:00:09.729Z"
   },
   {
    "duration": 66,
    "start_time": "2022-01-27T18:00:11.585Z"
   },
   {
    "duration": 21,
    "start_time": "2022-01-27T18:00:13.576Z"
   },
   {
    "duration": 16,
    "start_time": "2022-01-27T18:00:15.864Z"
   },
   {
    "duration": 15,
    "start_time": "2022-01-27T18:00:19.929Z"
   },
   {
    "duration": 18,
    "start_time": "2022-01-27T18:00:22.663Z"
   },
   {
    "duration": 364,
    "start_time": "2022-01-27T18:00:36.855Z"
   },
   {
    "duration": 21,
    "start_time": "2022-01-27T18:00:42.158Z"
   },
   {
    "duration": 278,
    "start_time": "2022-01-27T18:00:52.770Z"
   },
   {
    "duration": 285,
    "start_time": "2022-01-27T18:01:07.374Z"
   },
   {
    "duration": 18,
    "start_time": "2022-01-27T18:01:17.613Z"
   },
   {
    "duration": 19,
    "start_time": "2022-01-27T18:02:24.161Z"
   },
   {
    "duration": 18,
    "start_time": "2022-01-27T18:02:42.550Z"
   },
   {
    "duration": 9,
    "start_time": "2022-01-27T18:02:44.936Z"
   },
   {
    "duration": 17,
    "start_time": "2022-01-27T18:02:50.720Z"
   },
   {
    "duration": 14,
    "start_time": "2022-01-27T18:02:56.639Z"
   },
   {
    "duration": 16,
    "start_time": "2022-01-27T18:03:18.725Z"
   },
   {
    "duration": 7201,
    "start_time": "2022-01-27T18:03:25.045Z"
   },
   {
    "duration": 8,
    "start_time": "2022-01-27T18:03:35.486Z"
   },
   {
    "duration": 18,
    "start_time": "2022-01-27T18:03:46.396Z"
   },
   {
    "duration": 21,
    "start_time": "2022-01-27T18:03:56.997Z"
   },
   {
    "duration": 5,
    "start_time": "2022-01-27T18:05:02.672Z"
   },
   {
    "duration": 6,
    "start_time": "2022-01-27T18:05:11.327Z"
   },
   {
    "duration": 24,
    "start_time": "2022-01-27T18:07:42.504Z"
   },
   {
    "duration": 638,
    "start_time": "2022-01-27T18:08:05.816Z"
   },
   {
    "duration": 246,
    "start_time": "2022-01-27T18:08:06.456Z"
   },
   {
    "duration": 182,
    "start_time": "2022-01-27T18:08:06.704Z"
   },
   {
    "duration": 127,
    "start_time": "2022-01-27T18:08:06.887Z"
   },
   {
    "duration": 22,
    "start_time": "2022-01-27T18:08:07.015Z"
   },
   {
    "duration": 35,
    "start_time": "2022-01-27T18:08:07.039Z"
   },
   {
    "duration": 5,
    "start_time": "2022-01-27T18:08:07.075Z"
   },
   {
    "duration": 6,
    "start_time": "2022-01-27T18:08:07.083Z"
   },
   {
    "duration": 39,
    "start_time": "2022-01-27T18:08:07.091Z"
   },
   {
    "duration": 31,
    "start_time": "2022-01-27T18:08:07.131Z"
   },
   {
    "duration": 25,
    "start_time": "2022-01-27T18:08:07.163Z"
   },
   {
    "duration": 8,
    "start_time": "2022-01-27T18:08:07.190Z"
   },
   {
    "duration": 9,
    "start_time": "2022-01-27T18:08:07.227Z"
   },
   {
    "duration": 11,
    "start_time": "2022-01-27T18:08:07.238Z"
   },
   {
    "duration": 8,
    "start_time": "2022-01-27T18:08:07.251Z"
   },
   {
    "duration": 3,
    "start_time": "2022-01-27T18:08:07.261Z"
   },
   {
    "duration": 9,
    "start_time": "2022-01-27T18:08:07.266Z"
   },
   {
    "duration": 459,
    "start_time": "2022-01-27T18:08:07.277Z"
   },
   {
    "duration": 11,
    "start_time": "2022-01-27T18:08:07.737Z"
   },
   {
    "duration": 3,
    "start_time": "2022-01-27T18:08:07.749Z"
   },
   {
    "duration": 96,
    "start_time": "2022-01-27T18:08:07.753Z"
   },
   {
    "duration": 22,
    "start_time": "2022-01-27T18:08:07.851Z"
   },
   {
    "duration": 18,
    "start_time": "2022-01-27T18:08:07.875Z"
   },
   {
    "duration": 35,
    "start_time": "2022-01-27T18:08:07.895Z"
   },
   {
    "duration": 18,
    "start_time": "2022-01-27T18:08:07.931Z"
   },
   {
    "duration": 17,
    "start_time": "2022-01-27T18:08:07.950Z"
   },
   {
    "duration": 12,
    "start_time": "2022-01-27T18:08:07.968Z"
   },
   {
    "duration": 16,
    "start_time": "2022-01-27T18:08:07.982Z"
   },
   {
    "duration": 31,
    "start_time": "2022-01-27T18:08:07.999Z"
   },
   {
    "duration": 18,
    "start_time": "2022-01-27T18:08:08.031Z"
   },
   {
    "duration": 396,
    "start_time": "2022-01-27T18:08:10.203Z"
   },
   {
    "duration": 272,
    "start_time": "2022-01-27T18:08:53.040Z"
   },
   {
    "duration": 2,
    "start_time": "2022-01-27T18:09:00.907Z"
   },
   {
    "duration": 251,
    "start_time": "2022-01-27T18:09:00.913Z"
   },
   {
    "duration": 194,
    "start_time": "2022-01-27T18:09:01.166Z"
   },
   {
    "duration": 128,
    "start_time": "2022-01-27T18:09:01.362Z"
   },
   {
    "duration": 24,
    "start_time": "2022-01-27T18:09:01.493Z"
   },
   {
    "duration": 38,
    "start_time": "2022-01-27T18:09:01.527Z"
   },
   {
    "duration": 5,
    "start_time": "2022-01-27T18:09:01.567Z"
   },
   {
    "duration": 9,
    "start_time": "2022-01-27T18:09:01.574Z"
   },
   {
    "duration": 40,
    "start_time": "2022-01-27T18:09:01.585Z"
   },
   {
    "duration": 32,
    "start_time": "2022-01-27T18:09:01.626Z"
   },
   {
    "duration": 28,
    "start_time": "2022-01-27T18:09:01.659Z"
   },
   {
    "duration": 12,
    "start_time": "2022-01-27T18:09:01.689Z"
   },
   {
    "duration": 10,
    "start_time": "2022-01-27T18:09:01.728Z"
   },
   {
    "duration": 11,
    "start_time": "2022-01-27T18:09:01.740Z"
   },
   {
    "duration": 12,
    "start_time": "2022-01-27T18:09:01.753Z"
   },
   {
    "duration": 7,
    "start_time": "2022-01-27T18:09:01.766Z"
   },
   {
    "duration": 15,
    "start_time": "2022-01-27T18:09:01.775Z"
   },
   {
    "duration": 339,
    "start_time": "2022-01-27T18:09:01.791Z"
   },
   {
    "duration": 11,
    "start_time": "2022-01-27T18:09:02.132Z"
   },
   {
    "duration": 2,
    "start_time": "2022-01-27T18:09:02.144Z"
   },
   {
    "duration": 98,
    "start_time": "2022-01-27T18:09:02.148Z"
   },
   {
    "duration": 23,
    "start_time": "2022-01-27T18:09:02.248Z"
   },
   {
    "duration": 19,
    "start_time": "2022-01-27T18:09:02.273Z"
   },
   {
    "duration": 40,
    "start_time": "2022-01-27T18:09:02.296Z"
   },
   {
    "duration": 22,
    "start_time": "2022-01-27T18:09:02.338Z"
   },
   {
    "duration": 18,
    "start_time": "2022-01-27T18:09:02.361Z"
   },
   {
    "duration": 9,
    "start_time": "2022-01-27T18:09:02.381Z"
   },
   {
    "duration": 47,
    "start_time": "2022-01-27T18:09:02.391Z"
   },
   {
    "duration": 7,
    "start_time": "2022-01-27T18:09:02.440Z"
   },
   {
    "duration": 17,
    "start_time": "2022-01-27T18:09:02.449Z"
   },
   {
    "duration": 280,
    "start_time": "2022-01-27T18:09:02.467Z"
   },
   {
    "duration": 23,
    "start_time": "2022-01-27T18:10:23.459Z"
   },
   {
    "duration": 36,
    "start_time": "2022-01-27T18:10:34.426Z"
   },
   {
    "duration": 639,
    "start_time": "2022-01-27T18:11:10.792Z"
   },
   {
    "duration": 240,
    "start_time": "2022-01-27T18:11:11.433Z"
   },
   {
    "duration": 179,
    "start_time": "2022-01-27T18:11:11.675Z"
   },
   {
    "duration": 127,
    "start_time": "2022-01-27T18:11:11.856Z"
   },
   {
    "duration": 22,
    "start_time": "2022-01-27T18:11:11.985Z"
   },
   {
    "duration": 36,
    "start_time": "2022-01-27T18:11:12.009Z"
   },
   {
    "duration": 6,
    "start_time": "2022-01-27T18:11:12.046Z"
   },
   {
    "duration": 7,
    "start_time": "2022-01-27T18:11:12.054Z"
   },
   {
    "duration": 39,
    "start_time": "2022-01-27T18:11:12.062Z"
   },
   {
    "duration": 48,
    "start_time": "2022-01-27T18:11:12.102Z"
   },
   {
    "duration": 29,
    "start_time": "2022-01-27T18:11:12.151Z"
   },
   {
    "duration": 9,
    "start_time": "2022-01-27T18:11:12.181Z"
   },
   {
    "duration": 10,
    "start_time": "2022-01-27T18:11:12.191Z"
   },
   {
    "duration": 29,
    "start_time": "2022-01-27T18:11:12.202Z"
   },
   {
    "duration": 8,
    "start_time": "2022-01-27T18:11:12.233Z"
   },
   {
    "duration": 5,
    "start_time": "2022-01-27T18:11:12.242Z"
   },
   {
    "duration": 9,
    "start_time": "2022-01-27T18:11:12.248Z"
   },
   {
    "duration": 347,
    "start_time": "2022-01-27T18:11:12.258Z"
   },
   {
    "duration": 11,
    "start_time": "2022-01-27T18:11:12.607Z"
   },
   {
    "duration": 8,
    "start_time": "2022-01-27T18:11:12.619Z"
   },
   {
    "duration": 78,
    "start_time": "2022-01-27T18:11:12.629Z"
   },
   {
    "duration": 30,
    "start_time": "2022-01-27T18:11:12.708Z"
   },
   {
    "duration": 19,
    "start_time": "2022-01-27T18:11:12.740Z"
   },
   {
    "duration": 14,
    "start_time": "2022-01-27T18:11:12.761Z"
   },
   {
    "duration": 17,
    "start_time": "2022-01-27T18:11:12.777Z"
   },
   {
    "duration": 37,
    "start_time": "2022-01-27T18:11:12.796Z"
   },
   {
    "duration": 13,
    "start_time": "2022-01-27T18:11:12.834Z"
   },
   {
    "duration": 17,
    "start_time": "2022-01-27T18:11:12.848Z"
   },
   {
    "duration": 8,
    "start_time": "2022-01-27T18:11:12.867Z"
   },
   {
    "duration": 52,
    "start_time": "2022-01-27T18:11:12.876Z"
   },
   {
    "duration": 23,
    "start_time": "2022-01-27T18:11:12.930Z"
   },
   {
    "duration": 5,
    "start_time": "2022-01-27T18:11:12.955Z"
   },
   {
    "duration": 34,
    "start_time": "2022-01-27T18:11:16.371Z"
   },
   {
    "duration": 351,
    "start_time": "2022-01-27T18:13:27.860Z"
   },
   {
    "duration": 271,
    "start_time": "2022-01-27T18:13:39.187Z"
   },
   {
    "duration": 288,
    "start_time": "2022-01-27T18:13:55.321Z"
   },
   {
    "duration": 623,
    "start_time": "2022-01-27T18:15:08.571Z"
   },
   {
    "duration": 241,
    "start_time": "2022-01-27T18:15:09.196Z"
   },
   {
    "duration": 176,
    "start_time": "2022-01-27T18:15:09.440Z"
   },
   {
    "duration": 121,
    "start_time": "2022-01-27T18:15:09.618Z"
   },
   {
    "duration": 22,
    "start_time": "2022-01-27T18:15:09.741Z"
   },
   {
    "duration": 37,
    "start_time": "2022-01-27T18:15:09.764Z"
   },
   {
    "duration": 5,
    "start_time": "2022-01-27T18:15:09.803Z"
   },
   {
    "duration": 11,
    "start_time": "2022-01-27T18:15:09.810Z"
   },
   {
    "duration": 41,
    "start_time": "2022-01-27T18:15:09.823Z"
   },
   {
    "duration": 32,
    "start_time": "2022-01-27T18:15:09.865Z"
   },
   {
    "duration": 38,
    "start_time": "2022-01-27T18:15:09.898Z"
   },
   {
    "duration": 9,
    "start_time": "2022-01-27T18:15:09.937Z"
   },
   {
    "duration": 12,
    "start_time": "2022-01-27T18:15:09.947Z"
   },
   {
    "duration": 6,
    "start_time": "2022-01-27T18:15:09.961Z"
   },
   {
    "duration": 9,
    "start_time": "2022-01-27T18:15:09.968Z"
   },
   {
    "duration": 4,
    "start_time": "2022-01-27T18:15:09.978Z"
   },
   {
    "duration": 8,
    "start_time": "2022-01-27T18:15:09.983Z"
   },
   {
    "duration": 331,
    "start_time": "2022-01-27T18:15:10.027Z"
   },
   {
    "duration": 10,
    "start_time": "2022-01-27T18:15:10.360Z"
   },
   {
    "duration": 2,
    "start_time": "2022-01-27T18:15:10.372Z"
   },
   {
    "duration": 93,
    "start_time": "2022-01-27T18:15:10.375Z"
   },
   {
    "duration": 21,
    "start_time": "2022-01-27T18:15:10.470Z"
   },
   {
    "duration": 17,
    "start_time": "2022-01-27T18:15:10.494Z"
   },
   {
    "duration": 15,
    "start_time": "2022-01-27T18:15:10.528Z"
   },
   {
    "duration": 18,
    "start_time": "2022-01-27T18:15:10.544Z"
   },
   {
    "duration": 17,
    "start_time": "2022-01-27T18:15:10.563Z"
   },
   {
    "duration": 12,
    "start_time": "2022-01-27T18:15:10.582Z"
   },
   {
    "duration": 36,
    "start_time": "2022-01-27T18:15:10.596Z"
   },
   {
    "duration": 7,
    "start_time": "2022-01-27T18:15:10.633Z"
   },
   {
    "duration": 21,
    "start_time": "2022-01-27T18:15:10.642Z"
   },
   {
    "duration": 24,
    "start_time": "2022-01-27T18:15:10.664Z"
   },
   {
    "duration": 26,
    "start_time": "2022-01-27T18:15:36.096Z"
   },
   {
    "duration": 34,
    "start_time": "2022-01-27T18:15:51.735Z"
   },
   {
    "duration": 602,
    "start_time": "2022-01-27T18:16:33.986Z"
   },
   {
    "duration": 257,
    "start_time": "2022-01-27T18:16:34.590Z"
   },
   {
    "duration": 185,
    "start_time": "2022-01-27T18:16:34.849Z"
   },
   {
    "duration": 129,
    "start_time": "2022-01-27T18:16:35.035Z"
   },
   {
    "duration": 23,
    "start_time": "2022-01-27T18:16:35.166Z"
   },
   {
    "duration": 54,
    "start_time": "2022-01-27T18:16:35.191Z"
   },
   {
    "duration": 10,
    "start_time": "2022-01-27T18:16:35.247Z"
   },
   {
    "duration": 18,
    "start_time": "2022-01-27T18:16:35.259Z"
   },
   {
    "duration": 49,
    "start_time": "2022-01-27T18:16:35.280Z"
   },
   {
    "duration": 36,
    "start_time": "2022-01-27T18:16:35.331Z"
   },
   {
    "duration": 25,
    "start_time": "2022-01-27T18:16:35.369Z"
   },
   {
    "duration": 39,
    "start_time": "2022-01-27T18:16:35.395Z"
   },
   {
    "duration": 17,
    "start_time": "2022-01-27T18:16:35.435Z"
   },
   {
    "duration": 21,
    "start_time": "2022-01-27T18:16:35.453Z"
   },
   {
    "duration": 16,
    "start_time": "2022-01-27T18:16:35.476Z"
   },
   {
    "duration": 5,
    "start_time": "2022-01-27T18:16:35.493Z"
   },
   {
    "duration": 15,
    "start_time": "2022-01-27T18:16:35.500Z"
   },
   {
    "duration": 382,
    "start_time": "2022-01-27T18:16:35.517Z"
   },
   {
    "duration": 12,
    "start_time": "2022-01-27T18:16:35.900Z"
   },
   {
    "duration": 14,
    "start_time": "2022-01-27T18:16:35.913Z"
   },
   {
    "duration": 155,
    "start_time": "2022-01-27T18:16:35.929Z"
   },
   {
    "duration": 23,
    "start_time": "2022-01-27T18:16:36.086Z"
   },
   {
    "duration": 34,
    "start_time": "2022-01-27T18:16:36.112Z"
   },
   {
    "duration": 16,
    "start_time": "2022-01-27T18:16:36.148Z"
   },
   {
    "duration": 20,
    "start_time": "2022-01-27T18:16:36.166Z"
   },
   {
    "duration": 40,
    "start_time": "2022-01-27T18:16:36.188Z"
   },
   {
    "duration": 37,
    "start_time": "2022-01-27T18:16:36.229Z"
   },
   {
    "duration": 21,
    "start_time": "2022-01-27T18:16:36.268Z"
   },
   {
    "duration": 10,
    "start_time": "2022-01-27T18:16:36.291Z"
   },
   {
    "duration": 43,
    "start_time": "2022-01-27T18:16:36.303Z"
   },
   {
    "duration": 40,
    "start_time": "2022-01-27T18:16:36.348Z"
   },
   {
    "duration": 6,
    "start_time": "2022-01-27T18:16:36.394Z"
   },
   {
    "duration": 26,
    "start_time": "2022-01-27T18:16:41.948Z"
   },
   {
    "duration": 7,
    "start_time": "2022-01-27T18:17:11.733Z"
   },
   {
    "duration": 25,
    "start_time": "2022-01-27T18:17:48.561Z"
   },
   {
    "duration": 35,
    "start_time": "2022-01-27T18:17:56.920Z"
   },
   {
    "duration": 817,
    "start_time": "2022-01-27T18:19:10.601Z"
   },
   {
    "duration": 241,
    "start_time": "2022-01-27T18:19:11.420Z"
   },
   {
    "duration": 184,
    "start_time": "2022-01-27T18:19:11.663Z"
   },
   {
    "duration": 132,
    "start_time": "2022-01-27T18:19:11.850Z"
   },
   {
    "duration": 24,
    "start_time": "2022-01-27T18:19:11.984Z"
   },
   {
    "duration": 37,
    "start_time": "2022-01-27T18:19:12.009Z"
   },
   {
    "duration": 7,
    "start_time": "2022-01-27T18:19:12.048Z"
   },
   {
    "duration": 7,
    "start_time": "2022-01-27T18:19:12.058Z"
   },
   {
    "duration": 60,
    "start_time": "2022-01-27T18:19:12.067Z"
   },
   {
    "duration": 32,
    "start_time": "2022-01-27T18:19:12.129Z"
   },
   {
    "duration": 36,
    "start_time": "2022-01-27T18:19:12.162Z"
   },
   {
    "duration": 31,
    "start_time": "2022-01-27T18:19:12.200Z"
   },
   {
    "duration": 11,
    "start_time": "2022-01-27T18:19:12.232Z"
   },
   {
    "duration": 8,
    "start_time": "2022-01-27T18:19:12.244Z"
   },
   {
    "duration": 9,
    "start_time": "2022-01-27T18:19:12.254Z"
   },
   {
    "duration": 4,
    "start_time": "2022-01-27T18:19:12.264Z"
   },
   {
    "duration": 6,
    "start_time": "2022-01-27T18:19:12.270Z"
   },
   {
    "duration": 351,
    "start_time": "2022-01-27T18:19:12.278Z"
   },
   {
    "duration": 12,
    "start_time": "2022-01-27T18:19:12.631Z"
   },
   {
    "duration": 3,
    "start_time": "2022-01-27T18:19:12.645Z"
   },
   {
    "duration": 97,
    "start_time": "2022-01-27T18:19:12.650Z"
   },
   {
    "duration": 21,
    "start_time": "2022-01-27T18:19:12.749Z"
   },
   {
    "duration": 18,
    "start_time": "2022-01-27T18:19:12.773Z"
   },
   {
    "duration": 35,
    "start_time": "2022-01-27T18:19:12.793Z"
   },
   {
    "duration": 20,
    "start_time": "2022-01-27T18:19:12.829Z"
   },
   {
    "duration": 17,
    "start_time": "2022-01-27T18:19:12.851Z"
   },
   {
    "duration": 20,
    "start_time": "2022-01-27T18:19:12.869Z"
   },
   {
    "duration": 17,
    "start_time": "2022-01-27T18:19:12.890Z"
   },
   {
    "duration": 23,
    "start_time": "2022-01-27T18:19:12.908Z"
   },
   {
    "duration": 18,
    "start_time": "2022-01-27T18:19:12.932Z"
   },
   {
    "duration": 21,
    "start_time": "2022-01-27T18:19:12.952Z"
   },
   {
    "duration": 5,
    "start_time": "2022-01-27T18:19:12.975Z"
   },
   {
    "duration": 51,
    "start_time": "2022-01-27T18:19:12.981Z"
   },
   {
    "duration": 5,
    "start_time": "2022-01-27T18:19:13.034Z"
   },
   {
    "duration": 36,
    "start_time": "2022-01-27T18:19:18.663Z"
   },
   {
    "duration": 7,
    "start_time": "2022-01-27T18:19:40.063Z"
   },
   {
    "duration": 8,
    "start_time": "2022-01-27T18:19:52.870Z"
   },
   {
    "duration": 7,
    "start_time": "2022-01-27T18:19:56.317Z"
   },
   {
    "duration": 658,
    "start_time": "2022-01-27T18:23:00.407Z"
   },
   {
    "duration": 251,
    "start_time": "2022-01-27T18:23:01.067Z"
   },
   {
    "duration": 195,
    "start_time": "2022-01-27T18:23:01.321Z"
   },
   {
    "duration": 131,
    "start_time": "2022-01-27T18:23:01.517Z"
   },
   {
    "duration": 23,
    "start_time": "2022-01-27T18:23:01.649Z"
   },
   {
    "duration": 43,
    "start_time": "2022-01-27T18:23:01.673Z"
   },
   {
    "duration": 6,
    "start_time": "2022-01-27T18:23:01.717Z"
   },
   {
    "duration": 8,
    "start_time": "2022-01-27T18:23:01.725Z"
   },
   {
    "duration": 39,
    "start_time": "2022-01-27T18:23:01.735Z"
   },
   {
    "duration": 31,
    "start_time": "2022-01-27T18:23:01.776Z"
   },
   {
    "duration": 41,
    "start_time": "2022-01-27T18:23:01.809Z"
   },
   {
    "duration": 8,
    "start_time": "2022-01-27T18:23:01.852Z"
   },
   {
    "duration": 11,
    "start_time": "2022-01-27T18:23:01.862Z"
   },
   {
    "duration": 6,
    "start_time": "2022-01-27T18:23:01.875Z"
   },
   {
    "duration": 8,
    "start_time": "2022-01-27T18:23:01.882Z"
   },
   {
    "duration": 36,
    "start_time": "2022-01-27T18:23:01.892Z"
   },
   {
    "duration": 10,
    "start_time": "2022-01-27T18:23:01.930Z"
   },
   {
    "duration": 379,
    "start_time": "2022-01-27T18:23:01.941Z"
   },
   {
    "duration": 11,
    "start_time": "2022-01-27T18:23:02.321Z"
   },
   {
    "duration": 2,
    "start_time": "2022-01-27T18:23:02.334Z"
   },
   {
    "duration": 91,
    "start_time": "2022-01-27T18:23:02.337Z"
   },
   {
    "duration": 22,
    "start_time": "2022-01-27T18:23:02.429Z"
   },
   {
    "duration": 19,
    "start_time": "2022-01-27T18:23:02.454Z"
   },
   {
    "duration": 14,
    "start_time": "2022-01-27T18:23:02.475Z"
   },
   {
    "duration": 43,
    "start_time": "2022-01-27T18:23:02.491Z"
   },
   {
    "duration": 18,
    "start_time": "2022-01-27T18:23:02.536Z"
   },
   {
    "duration": 14,
    "start_time": "2022-01-27T18:23:02.555Z"
   },
   {
    "duration": 18,
    "start_time": "2022-01-27T18:23:02.570Z"
   },
   {
    "duration": 9,
    "start_time": "2022-01-27T18:23:02.590Z"
   },
   {
    "duration": 19,
    "start_time": "2022-01-27T18:23:02.628Z"
   },
   {
    "duration": 23,
    "start_time": "2022-01-27T18:23:02.649Z"
   },
   {
    "duration": 6,
    "start_time": "2022-01-27T18:23:02.674Z"
   },
   {
    "duration": 60,
    "start_time": "2022-01-27T18:23:02.682Z"
   },
   {
    "duration": 6,
    "start_time": "2022-01-27T18:23:02.744Z"
   },
   {
    "duration": 29,
    "start_time": "2022-01-27T18:23:02.752Z"
   },
   {
    "duration": 6,
    "start_time": "2022-01-27T18:23:02.782Z"
   },
   {
    "duration": 40,
    "start_time": "2022-01-27T18:23:02.790Z"
   },
   {
    "duration": 8,
    "start_time": "2022-01-27T18:23:02.831Z"
   },
   {
    "duration": 17,
    "start_time": "2022-01-27T18:23:02.840Z"
   },
   {
    "duration": 99,
    "start_time": "2022-01-27T18:23:02.859Z"
   },
   {
    "duration": -1297,
    "start_time": "2022-01-27T18:23:04.257Z"
   },
   {
    "duration": -1300,
    "start_time": "2022-01-27T18:23:04.261Z"
   },
   {
    "duration": -1304,
    "start_time": "2022-01-27T18:23:04.266Z"
   },
   {
    "duration": 12,
    "start_time": "2022-01-27T18:27:02.981Z"
   },
   {
    "duration": 345,
    "start_time": "2022-01-27T18:28:30.399Z"
   },
   {
    "duration": 4,
    "start_time": "2022-01-27T18:28:50.711Z"
   },
   {
    "duration": 20,
    "start_time": "2022-01-27T18:29:37.892Z"
   },
   {
    "duration": 2,
    "start_time": "2022-01-27T18:31:22.941Z"
   },
   {
    "duration": 5,
    "start_time": "2022-01-27T18:31:39.346Z"
   },
   {
    "duration": 22,
    "start_time": "2022-01-27T18:31:44.452Z"
   },
   {
    "duration": 9,
    "start_time": "2022-01-27T18:31:54.590Z"
   },
   {
    "duration": 11,
    "start_time": "2022-01-27T18:32:04.547Z"
   },
   {
    "duration": 7,
    "start_time": "2022-01-27T18:32:19.539Z"
   },
   {
    "duration": 274,
    "start_time": "2022-01-27T18:34:05.757Z"
   },
   {
    "duration": 444,
    "start_time": "2022-01-27T18:35:01.617Z"
   },
   {
    "duration": 3,
    "start_time": "2022-01-27T18:35:09.954Z"
   },
   {
    "duration": 223,
    "start_time": "2022-01-27T18:35:09.959Z"
   },
   {
    "duration": 177,
    "start_time": "2022-01-27T18:35:10.184Z"
   },
   {
    "duration": 118,
    "start_time": "2022-01-27T18:35:10.363Z"
   },
   {
    "duration": 23,
    "start_time": "2022-01-27T18:35:10.482Z"
   },
   {
    "duration": 66,
    "start_time": "2022-01-27T18:35:10.506Z"
   },
   {
    "duration": 5,
    "start_time": "2022-01-27T18:35:10.573Z"
   },
   {
    "duration": 8,
    "start_time": "2022-01-27T18:35:10.579Z"
   },
   {
    "duration": 39,
    "start_time": "2022-01-27T18:35:10.590Z"
   },
   {
    "duration": 29,
    "start_time": "2022-01-27T18:35:10.631Z"
   },
   {
    "duration": 25,
    "start_time": "2022-01-27T18:35:10.662Z"
   },
   {
    "duration": 9,
    "start_time": "2022-01-27T18:35:10.688Z"
   },
   {
    "duration": 35,
    "start_time": "2022-01-27T18:35:10.698Z"
   },
   {
    "duration": 6,
    "start_time": "2022-01-27T18:35:10.734Z"
   },
   {
    "duration": 8,
    "start_time": "2022-01-27T18:35:10.741Z"
   },
   {
    "duration": 3,
    "start_time": "2022-01-27T18:35:10.751Z"
   },
   {
    "duration": 6,
    "start_time": "2022-01-27T18:35:10.756Z"
   },
   {
    "duration": 346,
    "start_time": "2022-01-27T18:35:10.763Z"
   },
   {
    "duration": 19,
    "start_time": "2022-01-27T18:35:11.111Z"
   },
   {
    "duration": 3,
    "start_time": "2022-01-27T18:35:11.131Z"
   },
   {
    "duration": 80,
    "start_time": "2022-01-27T18:35:11.135Z"
   },
   {
    "duration": 30,
    "start_time": "2022-01-27T18:35:11.216Z"
   },
   {
    "duration": 4317,
    "start_time": "2022-01-27T18:35:13.984Z"
   },
   {
    "duration": 22,
    "start_time": "2022-01-27T18:35:21.688Z"
   },
   {
    "duration": 19,
    "start_time": "2022-01-27T18:36:35.948Z"
   },
   {
    "duration": 625,
    "start_time": "2022-01-27T18:36:58.787Z"
   },
   {
    "duration": 250,
    "start_time": "2022-01-27T18:36:59.414Z"
   },
   {
    "duration": 186,
    "start_time": "2022-01-27T18:36:59.668Z"
   },
   {
    "duration": 134,
    "start_time": "2022-01-27T18:36:59.856Z"
   },
   {
    "duration": 24,
    "start_time": "2022-01-27T18:36:59.992Z"
   },
   {
    "duration": 48,
    "start_time": "2022-01-27T18:37:00.018Z"
   },
   {
    "duration": 5,
    "start_time": "2022-01-27T18:37:00.069Z"
   },
   {
    "duration": 11,
    "start_time": "2022-01-27T18:37:00.076Z"
   },
   {
    "duration": 47,
    "start_time": "2022-01-27T18:37:00.088Z"
   },
   {
    "duration": 32,
    "start_time": "2022-01-27T18:37:00.137Z"
   },
   {
    "duration": 27,
    "start_time": "2022-01-27T18:37:00.171Z"
   },
   {
    "duration": 10,
    "start_time": "2022-01-27T18:37:00.227Z"
   },
   {
    "duration": 12,
    "start_time": "2022-01-27T18:37:00.238Z"
   },
   {
    "duration": 7,
    "start_time": "2022-01-27T18:37:00.251Z"
   },
   {
    "duration": 8,
    "start_time": "2022-01-27T18:37:00.259Z"
   },
   {
    "duration": 7,
    "start_time": "2022-01-27T18:37:00.268Z"
   },
   {
    "duration": 6,
    "start_time": "2022-01-27T18:37:00.277Z"
   },
   {
    "duration": 373,
    "start_time": "2022-01-27T18:37:00.284Z"
   },
   {
    "duration": 10,
    "start_time": "2022-01-27T18:37:00.659Z"
   },
   {
    "duration": 2,
    "start_time": "2022-01-27T18:37:00.671Z"
   },
   {
    "duration": 91,
    "start_time": "2022-01-27T18:37:00.675Z"
   },
   {
    "duration": 21,
    "start_time": "2022-01-27T18:37:00.769Z"
   },
   {
    "duration": 36,
    "start_time": "2022-01-27T18:37:00.792Z"
   },
   {
    "duration": 15,
    "start_time": "2022-01-27T18:37:00.829Z"
   },
   {
    "duration": 18,
    "start_time": "2022-01-27T18:37:00.845Z"
   },
   {
    "duration": 16,
    "start_time": "2022-01-27T18:37:00.865Z"
   },
   {
    "duration": 12,
    "start_time": "2022-01-27T18:37:00.883Z"
   },
   {
    "duration": 41,
    "start_time": "2022-01-27T18:37:00.897Z"
   },
   {
    "duration": 7,
    "start_time": "2022-01-27T18:37:00.940Z"
   },
   {
    "duration": 21,
    "start_time": "2022-01-27T18:37:00.949Z"
   },
   {
    "duration": 24,
    "start_time": "2022-01-27T18:37:00.971Z"
   },
   {
    "duration": 7306,
    "start_time": "2022-01-27T18:37:00.996Z"
   },
   {
    "duration": -1182,
    "start_time": "2022-01-27T18:37:09.485Z"
   },
   {
    "duration": -1188,
    "start_time": "2022-01-27T18:37:09.492Z"
   },
   {
    "duration": -1199,
    "start_time": "2022-01-27T18:37:09.504Z"
   },
   {
    "duration": -1209,
    "start_time": "2022-01-27T18:37:09.515Z"
   },
   {
    "duration": -1217,
    "start_time": "2022-01-27T18:37:09.524Z"
   },
   {
    "duration": -1222,
    "start_time": "2022-01-27T18:37:09.530Z"
   },
   {
    "duration": -1231,
    "start_time": "2022-01-27T18:37:09.540Z"
   },
   {
    "duration": -1244,
    "start_time": "2022-01-27T18:37:09.554Z"
   },
   {
    "duration": -1253,
    "start_time": "2022-01-27T18:37:09.564Z"
   },
   {
    "duration": -1257,
    "start_time": "2022-01-27T18:37:09.569Z"
   },
   {
    "duration": -1265,
    "start_time": "2022-01-27T18:37:09.578Z"
   },
   {
    "duration": -1270,
    "start_time": "2022-01-27T18:37:09.584Z"
   },
   {
    "duration": 7,
    "start_time": "2022-01-27T18:37:35.002Z"
   },
   {
    "duration": 29,
    "start_time": "2022-01-27T18:37:40.633Z"
   },
   {
    "duration": 6,
    "start_time": "2022-01-27T18:37:47.449Z"
   },
   {
    "duration": 32,
    "start_time": "2022-01-27T18:37:50.529Z"
   },
   {
    "duration": 666,
    "start_time": "2022-01-27T18:38:09.203Z"
   },
   {
    "duration": 251,
    "start_time": "2022-01-27T18:38:09.871Z"
   },
   {
    "duration": 191,
    "start_time": "2022-01-27T18:38:10.128Z"
   },
   {
    "duration": 126,
    "start_time": "2022-01-27T18:38:10.321Z"
   },
   {
    "duration": 22,
    "start_time": "2022-01-27T18:38:10.449Z"
   },
   {
    "duration": 47,
    "start_time": "2022-01-27T18:38:10.472Z"
   },
   {
    "duration": 5,
    "start_time": "2022-01-27T18:38:10.520Z"
   },
   {
    "duration": 10,
    "start_time": "2022-01-27T18:38:10.527Z"
   },
   {
    "duration": 54,
    "start_time": "2022-01-27T18:38:10.539Z"
   },
   {
    "duration": 33,
    "start_time": "2022-01-27T18:38:10.595Z"
   },
   {
    "duration": 28,
    "start_time": "2022-01-27T18:38:10.630Z"
   },
   {
    "duration": 11,
    "start_time": "2022-01-27T18:38:10.660Z"
   },
   {
    "duration": 10,
    "start_time": "2022-01-27T18:38:10.673Z"
   },
   {
    "duration": 43,
    "start_time": "2022-01-27T18:38:10.684Z"
   },
   {
    "duration": 10,
    "start_time": "2022-01-27T18:38:10.731Z"
   },
   {
    "duration": 14,
    "start_time": "2022-01-27T18:38:10.743Z"
   },
   {
    "duration": 10,
    "start_time": "2022-01-27T18:38:10.759Z"
   },
   {
    "duration": 360,
    "start_time": "2022-01-27T18:38:10.771Z"
   },
   {
    "duration": 16,
    "start_time": "2022-01-27T18:38:11.133Z"
   },
   {
    "duration": 3,
    "start_time": "2022-01-27T18:38:11.151Z"
   },
   {
    "duration": 93,
    "start_time": "2022-01-27T18:38:11.155Z"
   },
   {
    "duration": 25,
    "start_time": "2022-01-27T18:38:11.250Z"
   },
   {
    "duration": 22,
    "start_time": "2022-01-27T18:38:11.278Z"
   },
   {
    "duration": 40,
    "start_time": "2022-01-27T18:38:11.301Z"
   },
   {
    "duration": 19,
    "start_time": "2022-01-27T18:38:11.343Z"
   },
   {
    "duration": 17,
    "start_time": "2022-01-27T18:38:11.364Z"
   },
   {
    "duration": 12,
    "start_time": "2022-01-27T18:38:11.383Z"
   },
   {
    "duration": 43,
    "start_time": "2022-01-27T18:38:11.396Z"
   },
   {
    "duration": 9,
    "start_time": "2022-01-27T18:38:11.441Z"
   },
   {
    "duration": 27,
    "start_time": "2022-01-27T18:38:11.452Z"
   },
   {
    "duration": 29,
    "start_time": "2022-01-27T18:38:11.480Z"
   },
   {
    "duration": 21,
    "start_time": "2022-01-27T18:38:11.510Z"
   },
   {
    "duration": 34,
    "start_time": "2022-01-27T18:38:11.532Z"
   },
   {
    "duration": 6,
    "start_time": "2022-01-27T18:38:11.567Z"
   },
   {
    "duration": 53,
    "start_time": "2022-01-27T18:38:11.574Z"
   },
   {
    "duration": 6,
    "start_time": "2022-01-27T18:38:11.629Z"
   },
   {
    "duration": 16,
    "start_time": "2022-01-27T18:38:11.637Z"
   },
   {
    "duration": 13,
    "start_time": "2022-01-27T18:38:11.654Z"
   },
   {
    "duration": 10,
    "start_time": "2022-01-27T18:38:11.669Z"
   },
   {
    "duration": 18,
    "start_time": "2022-01-27T18:38:11.680Z"
   },
   {
    "duration": 7538,
    "start_time": "2022-01-27T18:38:11.700Z"
   },
   {
    "duration": -1170,
    "start_time": "2022-01-27T18:38:20.410Z"
   },
   {
    "duration": -1174,
    "start_time": "2022-01-27T18:38:20.415Z"
   },
   {
    "duration": -1183,
    "start_time": "2022-01-27T18:38:20.425Z"
   },
   {
    "duration": 8,
    "start_time": "2022-01-27T18:38:37.994Z"
   },
   {
    "duration": 11,
    "start_time": "2022-01-27T18:39:07.129Z"
   },
   {
    "duration": 9,
    "start_time": "2022-01-27T18:39:27.703Z"
   },
   {
    "duration": 8,
    "start_time": "2022-01-27T18:39:41.591Z"
   },
   {
    "duration": 10,
    "start_time": "2022-01-27T18:39:48.262Z"
   },
   {
    "duration": 10,
    "start_time": "2022-01-27T18:40:41.211Z"
   },
   {
    "duration": 13,
    "start_time": "2022-01-27T18:41:35.271Z"
   },
   {
    "duration": 9,
    "start_time": "2022-01-27T18:41:41.191Z"
   },
   {
    "duration": 12,
    "start_time": "2022-01-27T18:41:52.110Z"
   },
   {
    "duration": 13,
    "start_time": "2022-01-27T18:42:20.294Z"
   },
   {
    "duration": 9,
    "start_time": "2022-01-27T18:42:24.621Z"
   },
   {
    "duration": 14,
    "start_time": "2022-01-27T18:44:01.353Z"
   },
   {
    "duration": 10,
    "start_time": "2022-01-27T18:44:08.551Z"
   },
   {
    "duration": 8,
    "start_time": "2022-01-27T18:45:25.818Z"
   },
   {
    "duration": 9,
    "start_time": "2022-01-27T18:45:29.986Z"
   },
   {
    "duration": 9,
    "start_time": "2022-01-27T18:45:37.137Z"
   },
   {
    "duration": 8,
    "start_time": "2022-01-27T18:45:40.985Z"
   },
   {
    "duration": 7,
    "start_time": "2022-01-27T18:48:01.322Z"
   },
   {
    "duration": 7,
    "start_time": "2022-01-27T18:49:35.772Z"
   },
   {
    "duration": 3,
    "start_time": "2022-01-27T18:54:58.616Z"
   },
   {
    "duration": 233,
    "start_time": "2022-01-27T18:54:58.623Z"
   },
   {
    "duration": 174,
    "start_time": "2022-01-27T18:54:58.858Z"
   },
   {
    "duration": 119,
    "start_time": "2022-01-27T18:54:59.034Z"
   },
   {
    "duration": 24,
    "start_time": "2022-01-27T18:54:59.155Z"
   },
   {
    "duration": 47,
    "start_time": "2022-01-27T18:54:59.180Z"
   },
   {
    "duration": 5,
    "start_time": "2022-01-27T18:54:59.229Z"
   },
   {
    "duration": 7,
    "start_time": "2022-01-27T18:54:59.236Z"
   },
   {
    "duration": 38,
    "start_time": "2022-01-27T18:54:59.246Z"
   },
   {
    "duration": 50,
    "start_time": "2022-01-27T18:54:59.286Z"
   },
   {
    "duration": 25,
    "start_time": "2022-01-27T18:54:59.337Z"
   },
   {
    "duration": 9,
    "start_time": "2022-01-27T18:54:59.364Z"
   },
   {
    "duration": 9,
    "start_time": "2022-01-27T18:54:59.374Z"
   },
   {
    "duration": 6,
    "start_time": "2022-01-27T18:54:59.385Z"
   },
   {
    "duration": 40,
    "start_time": "2022-01-27T18:54:59.393Z"
   },
   {
    "duration": 4,
    "start_time": "2022-01-27T18:54:59.435Z"
   },
   {
    "duration": 7,
    "start_time": "2022-01-27T18:54:59.440Z"
   },
   {
    "duration": 328,
    "start_time": "2022-01-27T18:54:59.448Z"
   },
   {
    "duration": 11,
    "start_time": "2022-01-27T18:54:59.778Z"
   },
   {
    "duration": 2,
    "start_time": "2022-01-27T18:54:59.790Z"
   },
   {
    "duration": 96,
    "start_time": "2022-01-27T18:54:59.794Z"
   },
   {
    "duration": 21,
    "start_time": "2022-01-27T18:54:59.892Z"
   },
   {
    "duration": 31,
    "start_time": "2022-01-27T18:54:59.915Z"
   },
   {
    "duration": 16,
    "start_time": "2022-01-27T18:54:59.949Z"
   },
   {
    "duration": 18,
    "start_time": "2022-01-27T18:54:59.967Z"
   },
   {
    "duration": 17,
    "start_time": "2022-01-27T18:54:59.987Z"
   },
   {
    "duration": 10,
    "start_time": "2022-01-27T18:55:00.027Z"
   },
   {
    "duration": 17,
    "start_time": "2022-01-27T18:55:00.038Z"
   },
   {
    "duration": 8,
    "start_time": "2022-01-27T18:55:00.056Z"
   },
   {
    "duration": 22,
    "start_time": "2022-01-27T18:55:00.065Z"
   },
   {
    "duration": 47,
    "start_time": "2022-01-27T18:55:00.089Z"
   },
   {
    "duration": 6,
    "start_time": "2022-01-27T18:55:00.137Z"
   },
   {
    "duration": 30,
    "start_time": "2022-01-27T18:55:00.145Z"
   },
   {
    "duration": 6,
    "start_time": "2022-01-27T18:55:00.176Z"
   },
   {
    "duration": 59,
    "start_time": "2022-01-27T18:55:00.183Z"
   },
   {
    "duration": 6,
    "start_time": "2022-01-27T18:55:00.243Z"
   },
   {
    "duration": 11,
    "start_time": "2022-01-27T18:55:00.250Z"
   },
   {
    "duration": 8,
    "start_time": "2022-01-27T18:55:00.263Z"
   },
   {
    "duration": 2,
    "start_time": "2022-01-27T18:55:05.233Z"
   },
   {
    "duration": 7,
    "start_time": "2022-01-27T18:55:06.881Z"
   },
   {
    "duration": 332,
    "start_time": "2022-01-27T18:55:18.800Z"
   },
   {
    "duration": 11,
    "start_time": "2022-01-27T18:55:38.736Z"
   },
   {
    "duration": 13,
    "start_time": "2022-01-27T18:55:47.313Z"
   },
   {
    "duration": 10,
    "start_time": "2022-01-27T18:57:55.671Z"
   },
   {
    "duration": 102,
    "start_time": "2022-01-27T19:02:41.050Z"
   },
   {
    "duration": 87,
    "start_time": "2022-01-27T19:02:54.591Z"
   },
   {
    "duration": 87,
    "start_time": "2022-01-27T19:03:28.509Z"
   },
   {
    "duration": 10,
    "start_time": "2022-01-27T19:03:44.859Z"
   },
   {
    "duration": 3,
    "start_time": "2022-01-27T19:04:58.215Z"
   },
   {
    "duration": 1531,
    "start_time": "2022-01-27T19:05:14.902Z"
   },
   {
    "duration": 3,
    "start_time": "2022-01-27T19:05:31.383Z"
   },
   {
    "duration": 5,
    "start_time": "2022-01-27T19:05:33.461Z"
   },
   {
    "duration": 6,
    "start_time": "2022-01-27T19:05:46.325Z"
   },
   {
    "duration": 2,
    "start_time": "2022-01-27T19:05:57.340Z"
   },
   {
    "duration": 6,
    "start_time": "2022-01-27T19:05:58.803Z"
   },
   {
    "duration": 10,
    "start_time": "2022-01-27T19:06:38.242Z"
   },
   {
    "duration": 11,
    "start_time": "2022-01-27T19:06:42.354Z"
   },
   {
    "duration": 8,
    "start_time": "2022-01-27T19:06:45.643Z"
   },
   {
    "duration": 7,
    "start_time": "2022-01-27T19:06:47.545Z"
   },
   {
    "duration": 9,
    "start_time": "2022-01-27T19:06:49.801Z"
   },
   {
    "duration": 3,
    "start_time": "2022-01-27T19:06:52.153Z"
   },
   {
    "duration": 6,
    "start_time": "2022-01-27T19:06:53.217Z"
   },
   {
    "duration": 290,
    "start_time": "2022-01-27T19:07:23.984Z"
   },
   {
    "duration": 283,
    "start_time": "2022-01-27T19:07:36.902Z"
   },
   {
    "duration": 9,
    "start_time": "2022-01-27T19:07:49.893Z"
   },
   {
    "duration": 640,
    "start_time": "2022-01-27T19:08:17.104Z"
   },
   {
    "duration": 239,
    "start_time": "2022-01-27T19:08:17.747Z"
   },
   {
    "duration": 177,
    "start_time": "2022-01-27T19:08:17.988Z"
   },
   {
    "duration": 123,
    "start_time": "2022-01-27T19:08:18.167Z"
   },
   {
    "duration": 22,
    "start_time": "2022-01-27T19:08:18.292Z"
   },
   {
    "duration": 76,
    "start_time": "2022-01-27T19:08:18.315Z"
   },
   {
    "duration": 7,
    "start_time": "2022-01-27T19:08:18.393Z"
   },
   {
    "duration": 8,
    "start_time": "2022-01-27T19:08:18.402Z"
   },
   {
    "duration": 40,
    "start_time": "2022-01-27T19:08:18.412Z"
   },
   {
    "duration": 32,
    "start_time": "2022-01-27T19:08:18.454Z"
   },
   {
    "duration": 47,
    "start_time": "2022-01-27T19:08:18.488Z"
   },
   {
    "duration": 10,
    "start_time": "2022-01-27T19:08:18.537Z"
   },
   {
    "duration": 9,
    "start_time": "2022-01-27T19:08:18.549Z"
   },
   {
    "duration": 7,
    "start_time": "2022-01-27T19:08:18.559Z"
   },
   {
    "duration": 7,
    "start_time": "2022-01-27T19:08:18.568Z"
   },
   {
    "duration": 3,
    "start_time": "2022-01-27T19:08:18.577Z"
   },
   {
    "duration": 46,
    "start_time": "2022-01-27T19:08:18.582Z"
   },
   {
    "duration": 315,
    "start_time": "2022-01-27T19:08:18.629Z"
   },
   {
    "duration": 12,
    "start_time": "2022-01-27T19:08:18.945Z"
   },
   {
    "duration": 3,
    "start_time": "2022-01-27T19:08:18.958Z"
   },
   {
    "duration": 96,
    "start_time": "2022-01-27T19:08:18.963Z"
   },
   {
    "duration": 23,
    "start_time": "2022-01-27T19:08:19.060Z"
   },
   {
    "duration": 24,
    "start_time": "2022-01-27T19:08:19.086Z"
   },
   {
    "duration": 28,
    "start_time": "2022-01-27T19:08:19.111Z"
   },
   {
    "duration": 21,
    "start_time": "2022-01-27T19:08:19.140Z"
   },
   {
    "duration": 18,
    "start_time": "2022-01-27T19:08:19.162Z"
   },
   {
    "duration": 13,
    "start_time": "2022-01-27T19:08:19.182Z"
   },
   {
    "duration": 47,
    "start_time": "2022-01-27T19:08:19.196Z"
   },
   {
    "duration": 8,
    "start_time": "2022-01-27T19:08:19.244Z"
   },
   {
    "duration": 22,
    "start_time": "2022-01-27T19:08:19.253Z"
   },
   {
    "duration": 23,
    "start_time": "2022-01-27T19:08:19.277Z"
   },
   {
    "duration": 27,
    "start_time": "2022-01-27T19:08:19.301Z"
   },
   {
    "duration": 27,
    "start_time": "2022-01-27T19:08:19.330Z"
   },
   {
    "duration": 5,
    "start_time": "2022-01-27T19:08:19.358Z"
   },
   {
    "duration": 34,
    "start_time": "2022-01-27T19:08:19.365Z"
   },
   {
    "duration": 7,
    "start_time": "2022-01-27T19:08:19.427Z"
   },
   {
    "duration": 7,
    "start_time": "2022-01-27T19:08:19.435Z"
   },
   {
    "duration": 7,
    "start_time": "2022-01-27T19:08:19.444Z"
   },
   {
    "duration": 3,
    "start_time": "2022-01-27T19:08:22.363Z"
   },
   {
    "duration": 7,
    "start_time": "2022-01-27T19:08:23.772Z"
   },
   {
    "duration": 9,
    "start_time": "2022-01-27T19:08:28.378Z"
   },
   {
    "duration": 12,
    "start_time": "2022-01-27T19:08:44.082Z"
   },
   {
    "duration": 13,
    "start_time": "2022-01-27T19:08:51.993Z"
   },
   {
    "duration": 10,
    "start_time": "2022-01-27T19:09:07.265Z"
   },
   {
    "duration": 8,
    "start_time": "2022-01-27T19:09:23.977Z"
   },
   {
    "duration": 7,
    "start_time": "2022-01-27T19:09:26.024Z"
   },
   {
    "duration": 10,
    "start_time": "2022-01-27T19:09:39.232Z"
   },
   {
    "duration": 2,
    "start_time": "2022-01-27T19:09:43.495Z"
   },
   {
    "duration": 8,
    "start_time": "2022-01-27T19:09:44.967Z"
   },
   {
    "duration": 9,
    "start_time": "2022-01-27T19:09:50.450Z"
   },
   {
    "duration": 1332,
    "start_time": "2022-01-27T19:10:38.244Z"
   },
   {
    "duration": 2,
    "start_time": "2022-01-27T19:18:15.114Z"
   },
   {
    "duration": 360,
    "start_time": "2022-01-27T19:22:19.668Z"
   },
   {
    "duration": 3,
    "start_time": "2022-01-27T19:22:23.700Z"
   },
   {
    "duration": 550,
    "start_time": "2022-01-27T19:22:25.011Z"
   },
   {
    "duration": 3,
    "start_time": "2022-01-27T19:22:35.700Z"
   },
   {
    "duration": 667,
    "start_time": "2022-01-27T19:22:36.793Z"
   },
   {
    "duration": 3,
    "start_time": "2022-01-27T19:23:01.785Z"
   },
   {
    "duration": 673,
    "start_time": "2022-01-27T19:23:02.864Z"
   },
   {
    "duration": 5,
    "start_time": "2022-01-27T19:23:23.399Z"
   },
   {
    "duration": 4,
    "start_time": "2022-01-27T19:23:25.640Z"
   },
   {
    "duration": 6,
    "start_time": "2022-01-27T19:23:39.879Z"
   },
   {
    "duration": 4,
    "start_time": "2022-01-27T19:25:38.224Z"
   },
   {
    "duration": 7,
    "start_time": "2022-01-27T19:25:39.600Z"
   },
   {
    "duration": 3,
    "start_time": "2022-01-27T19:31:15.126Z"
   },
   {
    "duration": 7,
    "start_time": "2022-01-27T19:31:16.700Z"
   },
   {
    "duration": 7,
    "start_time": "2022-01-27T19:31:26.253Z"
   },
   {
    "duration": 605,
    "start_time": "2022-01-27T19:31:55.272Z"
   },
   {
    "duration": 256,
    "start_time": "2022-01-27T19:31:55.878Z"
   },
   {
    "duration": 183,
    "start_time": "2022-01-27T19:31:56.136Z"
   },
   {
    "duration": 130,
    "start_time": "2022-01-27T19:31:56.321Z"
   },
   {
    "duration": 23,
    "start_time": "2022-01-27T19:31:56.453Z"
   },
   {
    "duration": 76,
    "start_time": "2022-01-27T19:31:56.478Z"
   },
   {
    "duration": 5,
    "start_time": "2022-01-27T19:31:56.556Z"
   },
   {
    "duration": 6,
    "start_time": "2022-01-27T19:31:56.564Z"
   },
   {
    "duration": 54,
    "start_time": "2022-01-27T19:31:56.572Z"
   },
   {
    "duration": 32,
    "start_time": "2022-01-27T19:31:56.628Z"
   },
   {
    "duration": 26,
    "start_time": "2022-01-27T19:31:56.661Z"
   },
   {
    "duration": 8,
    "start_time": "2022-01-27T19:31:56.689Z"
   },
   {
    "duration": 38,
    "start_time": "2022-01-27T19:31:56.699Z"
   },
   {
    "duration": 8,
    "start_time": "2022-01-27T19:31:56.739Z"
   },
   {
    "duration": 9,
    "start_time": "2022-01-27T19:31:56.749Z"
   },
   {
    "duration": 5,
    "start_time": "2022-01-27T19:31:56.760Z"
   },
   {
    "duration": 6,
    "start_time": "2022-01-27T19:31:56.767Z"
   },
   {
    "duration": 425,
    "start_time": "2022-01-27T19:31:56.775Z"
   },
   {
    "duration": 14,
    "start_time": "2022-01-27T19:31:57.201Z"
   },
   {
    "duration": 11,
    "start_time": "2022-01-27T19:31:57.217Z"
   },
   {
    "duration": 83,
    "start_time": "2022-01-27T19:31:57.230Z"
   },
   {
    "duration": 28,
    "start_time": "2022-01-27T19:31:57.327Z"
   },
   {
    "duration": 33,
    "start_time": "2022-01-27T19:31:57.359Z"
   },
   {
    "duration": 40,
    "start_time": "2022-01-27T19:31:57.394Z"
   },
   {
    "duration": 28,
    "start_time": "2022-01-27T19:31:57.436Z"
   },
   {
    "duration": 22,
    "start_time": "2022-01-27T19:31:57.466Z"
   },
   {
    "duration": 16,
    "start_time": "2022-01-27T19:31:57.490Z"
   },
   {
    "duration": 38,
    "start_time": "2022-01-27T19:31:57.507Z"
   },
   {
    "duration": 8,
    "start_time": "2022-01-27T19:31:57.547Z"
   },
   {
    "duration": 21,
    "start_time": "2022-01-27T19:31:57.557Z"
   },
   {
    "duration": 53,
    "start_time": "2022-01-27T19:31:57.580Z"
   },
   {
    "duration": 8,
    "start_time": "2022-01-27T19:31:57.634Z"
   },
   {
    "duration": 28,
    "start_time": "2022-01-27T19:31:57.643Z"
   },
   {
    "duration": 5,
    "start_time": "2022-01-27T19:31:57.673Z"
   },
   {
    "duration": 69,
    "start_time": "2022-01-27T19:31:57.680Z"
   },
   {
    "duration": 5,
    "start_time": "2022-01-27T19:31:57.751Z"
   },
   {
    "duration": 8,
    "start_time": "2022-01-27T19:31:57.758Z"
   },
   {
    "duration": 8,
    "start_time": "2022-01-27T19:31:57.767Z"
   },
   {
    "duration": 3,
    "start_time": "2022-01-27T19:32:01.457Z"
   },
   {
    "duration": 10,
    "start_time": "2022-01-27T19:32:02.688Z"
   },
   {
    "duration": 9,
    "start_time": "2022-01-27T19:32:04.464Z"
   },
   {
    "duration": 12,
    "start_time": "2022-01-27T19:32:06.688Z"
   },
   {
    "duration": 3,
    "start_time": "2022-01-27T19:32:10.808Z"
   },
   {
    "duration": 7,
    "start_time": "2022-01-27T19:32:15.455Z"
   },
   {
    "duration": 12,
    "start_time": "2022-01-27T19:32:23.127Z"
   },
   {
    "duration": 7,
    "start_time": "2022-01-27T19:32:31.467Z"
   },
   {
    "duration": 8,
    "start_time": "2022-01-27T19:32:35.831Z"
   },
   {
    "duration": 33,
    "start_time": "2022-01-27T19:32:53.070Z"
   },
   {
    "duration": 8,
    "start_time": "2022-01-27T19:33:00.758Z"
   },
   {
    "duration": 6,
    "start_time": "2022-01-27T19:33:12.637Z"
   },
   {
    "duration": 10,
    "start_time": "2022-01-27T19:35:19.558Z"
   },
   {
    "duration": 3,
    "start_time": "2022-01-27T19:42:12.862Z"
   },
   {
    "duration": 205,
    "start_time": "2022-01-27T19:42:12.868Z"
   },
   {
    "duration": 177,
    "start_time": "2022-01-27T19:42:13.075Z"
   },
   {
    "duration": 119,
    "start_time": "2022-01-27T19:42:13.254Z"
   },
   {
    "duration": 22,
    "start_time": "2022-01-27T19:42:13.375Z"
   },
   {
    "duration": 56,
    "start_time": "2022-01-27T19:42:13.398Z"
   },
   {
    "duration": 4,
    "start_time": "2022-01-27T19:42:13.456Z"
   },
   {
    "duration": 7,
    "start_time": "2022-01-27T19:42:13.462Z"
   },
   {
    "duration": 39,
    "start_time": "2022-01-27T19:42:13.471Z"
   },
   {
    "duration": 37,
    "start_time": "2022-01-27T19:42:13.511Z"
   },
   {
    "duration": 24,
    "start_time": "2022-01-27T19:42:13.550Z"
   },
   {
    "duration": 8,
    "start_time": "2022-01-27T19:42:13.575Z"
   },
   {
    "duration": 11,
    "start_time": "2022-01-27T19:42:13.585Z"
   },
   {
    "duration": 35,
    "start_time": "2022-01-27T19:42:13.597Z"
   },
   {
    "duration": 8,
    "start_time": "2022-01-27T19:42:13.633Z"
   },
   {
    "duration": 3,
    "start_time": "2022-01-27T19:42:13.642Z"
   },
   {
    "duration": 11,
    "start_time": "2022-01-27T19:42:15.646Z"
   },
   {
    "duration": 141,
    "start_time": "2022-01-27T19:43:49.254Z"
   },
   {
    "duration": 21,
    "start_time": "2022-01-27T19:45:47.995Z"
   },
   {
    "duration": 352,
    "start_time": "2022-01-27T19:45:58.547Z"
   },
   {
    "duration": 9,
    "start_time": "2022-01-27T19:46:03.553Z"
   },
   {
    "duration": 628,
    "start_time": "2022-01-27T19:46:25.447Z"
   },
   {
    "duration": 243,
    "start_time": "2022-01-27T19:46:26.077Z"
   },
   {
    "duration": 181,
    "start_time": "2022-01-27T19:46:26.322Z"
   },
   {
    "duration": 131,
    "start_time": "2022-01-27T19:46:26.505Z"
   },
   {
    "duration": 24,
    "start_time": "2022-01-27T19:46:26.638Z"
   },
   {
    "duration": 75,
    "start_time": "2022-01-27T19:46:26.663Z"
   },
   {
    "duration": 6,
    "start_time": "2022-01-27T19:46:26.739Z"
   },
   {
    "duration": 7,
    "start_time": "2022-01-27T19:46:26.747Z"
   },
   {
    "duration": 39,
    "start_time": "2022-01-27T19:46:26.755Z"
   },
   {
    "duration": 53,
    "start_time": "2022-01-27T19:46:26.795Z"
   },
   {
    "duration": 26,
    "start_time": "2022-01-27T19:46:26.849Z"
   },
   {
    "duration": 9,
    "start_time": "2022-01-27T19:46:26.877Z"
   },
   {
    "duration": 11,
    "start_time": "2022-01-27T19:46:26.887Z"
   },
   {
    "duration": 6,
    "start_time": "2022-01-27T19:46:26.928Z"
   },
   {
    "duration": 8,
    "start_time": "2022-01-27T19:46:26.936Z"
   },
   {
    "duration": 4,
    "start_time": "2022-01-27T19:46:26.946Z"
   },
   {
    "duration": 15,
    "start_time": "2022-01-27T19:46:26.951Z"
   },
   {
    "duration": 6,
    "start_time": "2022-01-27T19:46:26.968Z"
   },
   {
    "duration": 362,
    "start_time": "2022-01-27T19:46:26.975Z"
   },
   {
    "duration": 11,
    "start_time": "2022-01-27T19:46:27.339Z"
   },
   {
    "duration": 3,
    "start_time": "2022-01-27T19:46:27.351Z"
   },
   {
    "duration": 100,
    "start_time": "2022-01-27T19:46:27.355Z"
   },
   {
    "duration": 22,
    "start_time": "2022-01-27T19:46:27.458Z"
   },
   {
    "duration": 23,
    "start_time": "2022-01-27T19:46:27.482Z"
   },
   {
    "duration": 16,
    "start_time": "2022-01-27T19:46:27.526Z"
   },
   {
    "duration": 20,
    "start_time": "2022-01-27T19:46:27.544Z"
   },
   {
    "duration": 18,
    "start_time": "2022-01-27T19:46:27.566Z"
   },
   {
    "duration": 9,
    "start_time": "2022-01-27T19:46:27.586Z"
   },
   {
    "duration": 45,
    "start_time": "2022-01-27T19:46:27.597Z"
   },
   {
    "duration": 7,
    "start_time": "2022-01-27T19:46:27.644Z"
   },
   {
    "duration": 21,
    "start_time": "2022-01-27T19:46:27.652Z"
   },
   {
    "duration": 22,
    "start_time": "2022-01-27T19:46:27.674Z"
   },
   {
    "duration": 5,
    "start_time": "2022-01-27T19:46:27.697Z"
   },
   {
    "duration": 50,
    "start_time": "2022-01-27T19:46:27.703Z"
   },
   {
    "duration": 6,
    "start_time": "2022-01-27T19:46:27.754Z"
   },
   {
    "duration": 30,
    "start_time": "2022-01-27T19:46:27.762Z"
   },
   {
    "duration": 38,
    "start_time": "2022-01-27T19:46:27.794Z"
   },
   {
    "duration": 12,
    "start_time": "2022-01-27T19:46:27.834Z"
   },
   {
    "duration": 11,
    "start_time": "2022-01-27T19:46:27.848Z"
   },
   {
    "duration": 7,
    "start_time": "2022-01-27T19:46:27.860Z"
   },
   {
    "duration": 11,
    "start_time": "2022-01-27T19:46:27.869Z"
   },
   {
    "duration": 9,
    "start_time": "2022-01-27T19:46:36.644Z"
   },
   {
    "duration": 10,
    "start_time": "2022-01-27T19:48:00.416Z"
   },
   {
    "duration": 9,
    "start_time": "2022-01-27T19:48:16.399Z"
   },
   {
    "duration": 15,
    "start_time": "2022-01-27T19:49:13.795Z"
   },
   {
    "duration": 11,
    "start_time": "2022-01-27T19:49:42.794Z"
   },
   {
    "duration": 11,
    "start_time": "2022-01-27T19:50:30.543Z"
   },
   {
    "duration": 12,
    "start_time": "2022-01-27T19:50:56.630Z"
   },
   {
    "duration": 15,
    "start_time": "2022-01-27T19:51:10.652Z"
   },
   {
    "duration": 16,
    "start_time": "2022-01-27T19:51:33.413Z"
   },
   {
    "duration": 15,
    "start_time": "2022-01-27T19:52:42.207Z"
   },
   {
    "duration": 114,
    "start_time": "2022-01-27T19:53:48.426Z"
   },
   {
    "duration": 95,
    "start_time": "2022-01-27T19:53:54.226Z"
   },
   {
    "duration": 377,
    "start_time": "2022-01-27T19:54:36.897Z"
   },
   {
    "duration": 6,
    "start_time": "2022-01-27T19:54:42.016Z"
   },
   {
    "duration": 9,
    "start_time": "2022-01-27T19:54:52.319Z"
   },
   {
    "duration": 8,
    "start_time": "2022-01-27T19:58:05.900Z"
   },
   {
    "duration": 15,
    "start_time": "2022-01-27T19:58:19.729Z"
   },
   {
    "duration": 9,
    "start_time": "2022-01-27T19:58:36.225Z"
   },
   {
    "duration": 11,
    "start_time": "2022-01-27T19:58:39.410Z"
   },
   {
    "duration": 7,
    "start_time": "2022-01-27T19:58:50.200Z"
   },
   {
    "duration": 15,
    "start_time": "2022-01-27T19:58:51.640Z"
   },
   {
    "duration": 432,
    "start_time": "2022-01-27T20:01:10.136Z"
   },
   {
    "duration": 9,
    "start_time": "2022-01-27T20:01:24.140Z"
   },
   {
    "duration": 11,
    "start_time": "2022-01-27T20:03:56.126Z"
   },
   {
    "duration": 10,
    "start_time": "2022-01-27T20:04:14.997Z"
   },
   {
    "duration": 9,
    "start_time": "2022-01-27T20:07:19.241Z"
   },
   {
    "duration": 91,
    "start_time": "2022-01-27T20:07:43.746Z"
   },
   {
    "duration": 7,
    "start_time": "2022-01-27T20:07:49.992Z"
   },
   {
    "duration": 7,
    "start_time": "2022-01-27T20:09:09.100Z"
   },
   {
    "duration": 7,
    "start_time": "2022-01-27T20:09:13.052Z"
   },
   {
    "duration": 7,
    "start_time": "2022-01-27T20:09:17.100Z"
   },
   {
    "duration": 7,
    "start_time": "2022-01-27T20:09:20.541Z"
   },
   {
    "duration": 7,
    "start_time": "2022-01-27T20:09:23.787Z"
   },
   {
    "duration": 7,
    "start_time": "2022-01-27T20:09:27.947Z"
   },
   {
    "duration": 7,
    "start_time": "2022-01-27T20:09:31.130Z"
   },
   {
    "duration": 7,
    "start_time": "2022-01-27T20:09:33.138Z"
   },
   {
    "duration": 7,
    "start_time": "2022-01-27T20:09:33.722Z"
   },
   {
    "duration": 7,
    "start_time": "2022-01-27T20:09:34.099Z"
   },
   {
    "duration": 7,
    "start_time": "2022-01-27T20:09:34.378Z"
   },
   {
    "duration": 7,
    "start_time": "2022-01-27T20:09:34.625Z"
   },
   {
    "duration": 9,
    "start_time": "2022-01-27T20:09:34.810Z"
   },
   {
    "duration": 6,
    "start_time": "2022-01-27T20:09:34.987Z"
   },
   {
    "duration": 7,
    "start_time": "2022-01-27T20:09:35.154Z"
   },
   {
    "duration": 8,
    "start_time": "2022-01-27T20:09:35.321Z"
   },
   {
    "duration": 7,
    "start_time": "2022-01-27T20:09:35.482Z"
   },
   {
    "duration": 7,
    "start_time": "2022-01-27T20:09:35.641Z"
   },
   {
    "duration": 7,
    "start_time": "2022-01-27T20:09:35.818Z"
   },
   {
    "duration": 7,
    "start_time": "2022-01-27T20:09:36.819Z"
   },
   {
    "duration": 672,
    "start_time": "2022-01-27T20:10:05.390Z"
   },
   {
    "duration": 248,
    "start_time": "2022-01-27T20:10:06.064Z"
   },
   {
    "duration": 180,
    "start_time": "2022-01-27T20:10:06.314Z"
   },
   {
    "duration": 121,
    "start_time": "2022-01-27T20:10:06.495Z"
   },
   {
    "duration": 68,
    "start_time": "2022-01-27T20:10:06.617Z"
   },
   {
    "duration": 76,
    "start_time": "2022-01-27T20:10:06.686Z"
   },
   {
    "duration": 5,
    "start_time": "2022-01-27T20:10:06.764Z"
   },
   {
    "duration": 8,
    "start_time": "2022-01-27T20:10:06.772Z"
   },
   {
    "duration": 49,
    "start_time": "2022-01-27T20:10:06.782Z"
   },
   {
    "duration": 30,
    "start_time": "2022-01-27T20:10:06.833Z"
   },
   {
    "duration": 26,
    "start_time": "2022-01-27T20:10:06.864Z"
   },
   {
    "duration": 9,
    "start_time": "2022-01-27T20:10:06.891Z"
   },
   {
    "duration": 33,
    "start_time": "2022-01-27T20:10:06.902Z"
   },
   {
    "duration": 14,
    "start_time": "2022-01-27T20:10:06.936Z"
   },
   {
    "duration": 10,
    "start_time": "2022-01-27T20:10:06.952Z"
   },
   {
    "duration": 4,
    "start_time": "2022-01-27T20:10:06.964Z"
   },
   {
    "duration": 17,
    "start_time": "2022-01-27T20:10:06.970Z"
   },
   {
    "duration": 7,
    "start_time": "2022-01-27T20:10:06.989Z"
   },
   {
    "duration": 324,
    "start_time": "2022-01-27T20:10:07.027Z"
   },
   {
    "duration": 11,
    "start_time": "2022-01-27T20:10:07.353Z"
   },
   {
    "duration": 3,
    "start_time": "2022-01-27T20:10:07.366Z"
   },
   {
    "duration": 100,
    "start_time": "2022-01-27T20:10:07.371Z"
   },
   {
    "duration": 21,
    "start_time": "2022-01-27T20:10:07.475Z"
   },
   {
    "duration": 34,
    "start_time": "2022-01-27T20:10:07.498Z"
   },
   {
    "duration": 14,
    "start_time": "2022-01-27T20:10:07.534Z"
   },
   {
    "duration": 17,
    "start_time": "2022-01-27T20:10:07.549Z"
   },
   {
    "duration": 16,
    "start_time": "2022-01-27T20:10:07.568Z"
   },
   {
    "duration": 9,
    "start_time": "2022-01-27T20:10:07.586Z"
   },
   {
    "duration": 46,
    "start_time": "2022-01-27T20:10:07.596Z"
   },
   {
    "duration": 8,
    "start_time": "2022-01-27T20:10:07.643Z"
   },
   {
    "duration": 20,
    "start_time": "2022-01-27T20:10:07.652Z"
   },
   {
    "duration": 23,
    "start_time": "2022-01-27T20:10:07.674Z"
   },
   {
    "duration": 33,
    "start_time": "2022-01-27T20:10:07.699Z"
   },
   {
    "duration": 28,
    "start_time": "2022-01-27T20:10:07.733Z"
   },
   {
    "duration": 6,
    "start_time": "2022-01-27T20:10:07.762Z"
   },
   {
    "duration": 58,
    "start_time": "2022-01-27T20:10:07.770Z"
   },
   {
    "duration": 5,
    "start_time": "2022-01-27T20:10:07.830Z"
   },
   {
    "duration": 6,
    "start_time": "2022-01-27T20:10:07.837Z"
   },
   {
    "duration": 7,
    "start_time": "2022-01-27T20:10:07.844Z"
   },
   {
    "duration": 6,
    "start_time": "2022-01-27T20:10:07.852Z"
   },
   {
    "duration": 8,
    "start_time": "2022-01-27T20:10:07.859Z"
   },
   {
    "duration": 8,
    "start_time": "2022-01-27T20:10:07.868Z"
   },
   {
    "duration": 13,
    "start_time": "2022-01-27T20:10:07.878Z"
   },
   {
    "duration": 41,
    "start_time": "2022-01-27T20:10:07.893Z"
   },
   {
    "duration": 4,
    "start_time": "2022-01-27T20:10:07.935Z"
   },
   {
    "duration": 5,
    "start_time": "2022-01-27T20:10:12.379Z"
   },
   {
    "duration": 6,
    "start_time": "2022-01-27T20:10:24.539Z"
   },
   {
    "duration": 8,
    "start_time": "2022-01-27T20:10:48.226Z"
   },
   {
    "duration": 16,
    "start_time": "2022-01-27T20:10:51.298Z"
   },
   {
    "duration": 7194,
    "start_time": "2022-01-27T20:12:19.316Z"
   },
   {
    "duration": 6994,
    "start_time": "2022-01-27T20:12:58.028Z"
   },
   {
    "duration": 7211,
    "start_time": "2022-01-27T20:14:46.311Z"
   },
   {
    "duration": 7041,
    "start_time": "2022-01-27T20:15:19.149Z"
   },
   {
    "duration": 6,
    "start_time": "2022-01-27T20:15:30.067Z"
   },
   {
    "duration": 887,
    "start_time": "2022-01-27T20:16:15.031Z"
   },
   {
    "duration": 8,
    "start_time": "2022-01-27T20:16:25.448Z"
   },
   {
    "duration": 5,
    "start_time": "2022-01-27T20:17:54.282Z"
   },
   {
    "duration": 7,
    "start_time": "2022-01-27T20:18:14.769Z"
   },
   {
    "duration": 8,
    "start_time": "2022-01-27T20:19:15.452Z"
   },
   {
    "duration": 3,
    "start_time": "2022-01-27T20:20:01.244Z"
   },
   {
    "duration": 8,
    "start_time": "2022-01-27T20:20:05.562Z"
   },
   {
    "duration": 9,
    "start_time": "2022-01-27T20:20:23.641Z"
   },
   {
    "duration": 3,
    "start_time": "2022-01-27T20:21:27.238Z"
   },
   {
    "duration": 10,
    "start_time": "2022-01-27T20:21:28.445Z"
   },
   {
    "duration": 13,
    "start_time": "2022-01-27T20:21:36.141Z"
   },
   {
    "duration": 8,
    "start_time": "2022-01-27T20:22:15.979Z"
   },
   {
    "duration": 613,
    "start_time": "2022-01-27T20:22:35.069Z"
   },
   {
    "duration": 238,
    "start_time": "2022-01-27T20:22:35.683Z"
   },
   {
    "duration": 183,
    "start_time": "2022-01-27T20:22:35.927Z"
   },
   {
    "duration": 124,
    "start_time": "2022-01-27T20:22:36.112Z"
   },
   {
    "duration": 23,
    "start_time": "2022-01-27T20:22:36.237Z"
   },
   {
    "duration": 55,
    "start_time": "2022-01-27T20:22:36.262Z"
   },
   {
    "duration": 5,
    "start_time": "2022-01-27T20:22:36.319Z"
   },
   {
    "duration": 9,
    "start_time": "2022-01-27T20:22:36.326Z"
   },
   {
    "duration": 39,
    "start_time": "2022-01-27T20:22:36.337Z"
   },
   {
    "duration": 31,
    "start_time": "2022-01-27T20:22:36.377Z"
   },
   {
    "duration": 26,
    "start_time": "2022-01-27T20:22:36.427Z"
   },
   {
    "duration": 9,
    "start_time": "2022-01-27T20:22:36.455Z"
   },
   {
    "duration": 10,
    "start_time": "2022-01-27T20:22:36.466Z"
   },
   {
    "duration": 7,
    "start_time": "2022-01-27T20:22:36.478Z"
   },
   {
    "duration": 42,
    "start_time": "2022-01-27T20:22:36.487Z"
   },
   {
    "duration": 5,
    "start_time": "2022-01-27T20:22:36.531Z"
   },
   {
    "duration": 16,
    "start_time": "2022-01-27T20:22:36.538Z"
   },
   {
    "duration": 6,
    "start_time": "2022-01-27T20:22:36.555Z"
   },
   {
    "duration": 475,
    "start_time": "2022-01-27T20:22:36.563Z"
   },
   {
    "duration": 11,
    "start_time": "2022-01-27T20:22:37.039Z"
   },
   {
    "duration": 2,
    "start_time": "2022-01-27T20:22:37.052Z"
   },
   {
    "duration": 94,
    "start_time": "2022-01-27T20:22:37.058Z"
   },
   {
    "duration": 22,
    "start_time": "2022-01-27T20:22:37.154Z"
   },
   {
    "duration": 26,
    "start_time": "2022-01-27T20:22:37.177Z"
   },
   {
    "duration": 31,
    "start_time": "2022-01-27T20:22:37.204Z"
   },
   {
    "duration": 19,
    "start_time": "2022-01-27T20:22:37.237Z"
   },
   {
    "duration": 17,
    "start_time": "2022-01-27T20:22:37.257Z"
   },
   {
    "duration": 10,
    "start_time": "2022-01-27T20:22:37.275Z"
   },
   {
    "duration": 42,
    "start_time": "2022-01-27T20:22:37.286Z"
   },
   {
    "duration": 8,
    "start_time": "2022-01-27T20:22:37.329Z"
   },
   {
    "duration": 19,
    "start_time": "2022-01-27T20:22:37.339Z"
   },
   {
    "duration": 22,
    "start_time": "2022-01-27T20:22:37.359Z"
   },
   {
    "duration": 6,
    "start_time": "2022-01-27T20:22:37.382Z"
   },
   {
    "duration": 57,
    "start_time": "2022-01-27T20:22:37.389Z"
   },
   {
    "duration": 4,
    "start_time": "2022-01-27T20:22:37.448Z"
   },
   {
    "duration": 31,
    "start_time": "2022-01-27T20:22:37.454Z"
   },
   {
    "duration": 5,
    "start_time": "2022-01-27T20:22:37.486Z"
   },
   {
    "duration": 5,
    "start_time": "2022-01-27T20:22:37.493Z"
   },
   {
    "duration": 7,
    "start_time": "2022-01-27T20:22:37.527Z"
   },
   {
    "duration": 10,
    "start_time": "2022-01-27T20:22:37.535Z"
   },
   {
    "duration": 8,
    "start_time": "2022-01-27T20:22:37.547Z"
   },
   {
    "duration": 13,
    "start_time": "2022-01-27T20:22:37.556Z"
   },
   {
    "duration": 9,
    "start_time": "2022-01-27T20:22:37.571Z"
   },
   {
    "duration": 3,
    "start_time": "2022-01-27T20:22:37.581Z"
   },
   {
    "duration": 6,
    "start_time": "2022-01-27T20:22:37.586Z"
   },
   {
    "duration": 380,
    "start_time": "2022-01-27T20:22:37.594Z"
   },
   {
    "duration": -1535,
    "start_time": "2022-01-27T20:22:39.511Z"
   },
   {
    "duration": -1539,
    "start_time": "2022-01-27T20:22:39.516Z"
   },
   {
    "duration": -1543,
    "start_time": "2022-01-27T20:22:39.521Z"
   },
   {
    "duration": -1547,
    "start_time": "2022-01-27T20:22:39.526Z"
   },
   {
    "duration": -1550,
    "start_time": "2022-01-27T20:22:39.530Z"
   },
   {
    "duration": -1554,
    "start_time": "2022-01-27T20:22:39.535Z"
   },
   {
    "duration": -1558,
    "start_time": "2022-01-27T20:22:39.540Z"
   },
   {
    "duration": -1564,
    "start_time": "2022-01-27T20:22:39.547Z"
   },
   {
    "duration": -1567,
    "start_time": "2022-01-27T20:22:39.551Z"
   },
   {
    "duration": -1571,
    "start_time": "2022-01-27T20:22:39.556Z"
   },
   {
    "duration": 7,
    "start_time": "2022-01-27T20:23:07.685Z"
   },
   {
    "duration": 11,
    "start_time": "2022-01-27T20:23:10.915Z"
   },
   {
    "duration": 3,
    "start_time": "2022-01-27T20:23:14.691Z"
   },
   {
    "duration": 9,
    "start_time": "2022-01-27T20:23:16.836Z"
   },
   {
    "duration": 6,
    "start_time": "2022-01-27T20:23:48.617Z"
   },
   {
    "duration": 8,
    "start_time": "2022-01-27T20:24:55.726Z"
   },
   {
    "duration": 8,
    "start_time": "2022-01-27T20:25:04.125Z"
   },
   {
    "duration": 10,
    "start_time": "2022-01-27T20:26:03.834Z"
   },
   {
    "duration": 3,
    "start_time": "2022-01-27T20:26:37.540Z"
   },
   {
    "duration": 9,
    "start_time": "2022-01-27T20:26:38.631Z"
   },
   {
    "duration": 10,
    "start_time": "2022-01-27T20:26:58.367Z"
   },
   {
    "duration": 660,
    "start_time": "2022-01-27T20:27:05.814Z"
   },
   {
    "duration": 239,
    "start_time": "2022-01-27T20:27:06.475Z"
   },
   {
    "duration": 181,
    "start_time": "2022-01-27T20:27:06.716Z"
   },
   {
    "duration": 133,
    "start_time": "2022-01-27T20:27:06.899Z"
   },
   {
    "duration": 23,
    "start_time": "2022-01-27T20:27:07.033Z"
   },
   {
    "duration": 68,
    "start_time": "2022-01-27T20:27:07.058Z"
   },
   {
    "duration": 5,
    "start_time": "2022-01-27T20:27:07.128Z"
   },
   {
    "duration": 7,
    "start_time": "2022-01-27T20:27:07.135Z"
   },
   {
    "duration": 38,
    "start_time": "2022-01-27T20:27:07.144Z"
   },
   {
    "duration": 51,
    "start_time": "2022-01-27T20:27:07.184Z"
   },
   {
    "duration": 25,
    "start_time": "2022-01-27T20:27:07.237Z"
   },
   {
    "duration": 8,
    "start_time": "2022-01-27T20:27:07.264Z"
   },
   {
    "duration": 10,
    "start_time": "2022-01-27T20:27:07.273Z"
   },
   {
    "duration": 10,
    "start_time": "2022-01-27T20:27:07.284Z"
   },
   {
    "duration": 33,
    "start_time": "2022-01-27T20:27:07.295Z"
   },
   {
    "duration": 4,
    "start_time": "2022-01-27T20:27:07.330Z"
   },
   {
    "duration": 16,
    "start_time": "2022-01-27T20:27:07.335Z"
   },
   {
    "duration": 6,
    "start_time": "2022-01-27T20:27:07.352Z"
   },
   {
    "duration": 344,
    "start_time": "2022-01-27T20:27:07.359Z"
   },
   {
    "duration": 11,
    "start_time": "2022-01-27T20:27:07.705Z"
   },
   {
    "duration": 3,
    "start_time": "2022-01-27T20:27:07.727Z"
   },
   {
    "duration": 85,
    "start_time": "2022-01-27T20:27:07.731Z"
   },
   {
    "duration": 22,
    "start_time": "2022-01-27T20:27:07.828Z"
   },
   {
    "duration": 21,
    "start_time": "2022-01-27T20:27:07.852Z"
   },
   {
    "duration": 15,
    "start_time": "2022-01-27T20:27:07.875Z"
   },
   {
    "duration": 39,
    "start_time": "2022-01-27T20:27:07.891Z"
   },
   {
    "duration": 17,
    "start_time": "2022-01-27T20:27:07.931Z"
   },
   {
    "duration": 9,
    "start_time": "2022-01-27T20:27:07.949Z"
   },
   {
    "duration": 16,
    "start_time": "2022-01-27T20:27:07.959Z"
   },
   {
    "duration": 7,
    "start_time": "2022-01-27T20:27:07.977Z"
   },
   {
    "duration": 47,
    "start_time": "2022-01-27T20:27:07.985Z"
   },
   {
    "duration": 21,
    "start_time": "2022-01-27T20:27:08.034Z"
   },
   {
    "duration": 6,
    "start_time": "2022-01-27T20:27:08.056Z"
   },
   {
    "duration": 27,
    "start_time": "2022-01-27T20:27:08.063Z"
   },
   {
    "duration": 5,
    "start_time": "2022-01-27T20:27:08.091Z"
   },
   {
    "duration": 60,
    "start_time": "2022-01-27T20:27:08.097Z"
   },
   {
    "duration": 5,
    "start_time": "2022-01-27T20:27:08.158Z"
   },
   {
    "duration": 8,
    "start_time": "2022-01-27T20:27:08.164Z"
   },
   {
    "duration": 9,
    "start_time": "2022-01-27T20:27:08.173Z"
   },
   {
    "duration": 13,
    "start_time": "2022-01-27T20:27:08.183Z"
   },
   {
    "duration": 30,
    "start_time": "2022-01-27T20:27:08.198Z"
   },
   {
    "duration": 14,
    "start_time": "2022-01-27T20:27:08.230Z"
   },
   {
    "duration": 10,
    "start_time": "2022-01-27T20:27:08.246Z"
   },
   {
    "duration": 4,
    "start_time": "2022-01-27T20:27:08.257Z"
   },
   {
    "duration": 9,
    "start_time": "2022-01-27T20:27:08.262Z"
   },
   {
    "duration": 6,
    "start_time": "2022-01-27T20:27:08.272Z"
   },
   {
    "duration": 9,
    "start_time": "2022-01-27T20:27:08.280Z"
   },
   {
    "duration": 4,
    "start_time": "2022-01-27T20:27:08.290Z"
   },
   {
    "duration": 36,
    "start_time": "2022-01-27T20:27:08.296Z"
   },
   {
    "duration": 9,
    "start_time": "2022-01-27T20:27:08.334Z"
   },
   {
    "duration": 8,
    "start_time": "2022-01-27T20:27:08.344Z"
   },
   {
    "duration": 4,
    "start_time": "2022-01-27T20:27:08.354Z"
   },
   {
    "duration": 8,
    "start_time": "2022-01-27T20:27:08.359Z"
   },
   {
    "duration": 10,
    "start_time": "2022-01-27T20:27:08.368Z"
   },
   {
    "duration": 10,
    "start_time": "2022-01-27T20:27:08.379Z"
   },
   {
    "duration": 38,
    "start_time": "2022-01-27T20:27:08.390Z"
   },
   {
    "duration": 8,
    "start_time": "2022-01-27T20:28:14.679Z"
   },
   {
    "duration": 667,
    "start_time": "2022-01-27T20:28:28.838Z"
   },
   {
    "duration": 241,
    "start_time": "2022-01-27T20:28:29.507Z"
   },
   {
    "duration": 180,
    "start_time": "2022-01-27T20:28:29.750Z"
   },
   {
    "duration": 135,
    "start_time": "2022-01-27T20:28:29.931Z"
   },
   {
    "duration": 23,
    "start_time": "2022-01-27T20:28:30.067Z"
   },
   {
    "duration": 78,
    "start_time": "2022-01-27T20:28:30.091Z"
   },
   {
    "duration": 5,
    "start_time": "2022-01-27T20:28:30.171Z"
   },
   {
    "duration": 10,
    "start_time": "2022-01-27T20:28:30.178Z"
   },
   {
    "duration": 45,
    "start_time": "2022-01-27T20:28:30.189Z"
   },
   {
    "duration": 33,
    "start_time": "2022-01-27T20:28:30.236Z"
   },
   {
    "duration": 27,
    "start_time": "2022-01-27T20:28:30.271Z"
   },
   {
    "duration": 28,
    "start_time": "2022-01-27T20:28:30.299Z"
   },
   {
    "duration": 10,
    "start_time": "2022-01-27T20:28:30.329Z"
   },
   {
    "duration": 14,
    "start_time": "2022-01-27T20:28:30.340Z"
   },
   {
    "duration": 20,
    "start_time": "2022-01-27T20:28:30.355Z"
   },
   {
    "duration": 5,
    "start_time": "2022-01-27T20:28:30.377Z"
   },
   {
    "duration": 22,
    "start_time": "2022-01-27T20:28:30.384Z"
   },
   {
    "duration": 6,
    "start_time": "2022-01-27T20:28:30.408Z"
   },
   {
    "duration": 338,
    "start_time": "2022-01-27T20:28:30.427Z"
   },
   {
    "duration": 11,
    "start_time": "2022-01-27T20:28:30.766Z"
   },
   {
    "duration": 11,
    "start_time": "2022-01-27T20:28:30.778Z"
   },
   {
    "duration": 98,
    "start_time": "2022-01-27T20:28:30.790Z"
   },
   {
    "duration": 21,
    "start_time": "2022-01-27T20:28:30.891Z"
   },
   {
    "duration": 33,
    "start_time": "2022-01-27T20:28:30.914Z"
   },
   {
    "duration": 16,
    "start_time": "2022-01-27T20:28:30.948Z"
   },
   {
    "duration": 19,
    "start_time": "2022-01-27T20:28:30.965Z"
   },
   {
    "duration": 17,
    "start_time": "2022-01-27T20:28:30.985Z"
   },
   {
    "duration": 31,
    "start_time": "2022-01-27T20:28:31.004Z"
   },
   {
    "duration": 19,
    "start_time": "2022-01-27T20:28:31.037Z"
   },
   {
    "duration": 8,
    "start_time": "2022-01-27T20:28:31.057Z"
   },
   {
    "duration": 34,
    "start_time": "2022-01-27T20:28:31.067Z"
   },
   {
    "duration": 40,
    "start_time": "2022-01-27T20:28:31.103Z"
   },
   {
    "duration": 6,
    "start_time": "2022-01-27T20:28:31.144Z"
   },
   {
    "duration": 34,
    "start_time": "2022-01-27T20:28:31.152Z"
   },
   {
    "duration": 5,
    "start_time": "2022-01-27T20:28:31.188Z"
   },
   {
    "duration": 54,
    "start_time": "2022-01-27T20:28:31.194Z"
   },
   {
    "duration": 6,
    "start_time": "2022-01-27T20:28:31.249Z"
   },
   {
    "duration": 21,
    "start_time": "2022-01-27T20:28:31.256Z"
   },
   {
    "duration": 8,
    "start_time": "2022-01-27T20:28:31.279Z"
   },
   {
    "duration": 23,
    "start_time": "2022-01-27T20:28:31.289Z"
   },
   {
    "duration": 19,
    "start_time": "2022-01-27T20:28:31.314Z"
   },
   {
    "duration": 16,
    "start_time": "2022-01-27T20:28:31.335Z"
   },
   {
    "duration": 9,
    "start_time": "2022-01-27T20:28:31.353Z"
   },
   {
    "duration": 11,
    "start_time": "2022-01-27T20:28:31.364Z"
   },
   {
    "duration": 8,
    "start_time": "2022-01-27T20:28:31.376Z"
   },
   {
    "duration": 11,
    "start_time": "2022-01-27T20:28:31.385Z"
   },
   {
    "duration": 11,
    "start_time": "2022-01-27T20:28:31.398Z"
   },
   {
    "duration": 8,
    "start_time": "2022-01-27T20:28:34.729Z"
   },
   {
    "duration": 415,
    "start_time": "2022-01-27T20:30:49.098Z"
   },
   {
    "duration": 323,
    "start_time": "2022-01-27T20:31:03.113Z"
   },
   {
    "duration": 109,
    "start_time": "2022-01-27T20:31:20.113Z"
   },
   {
    "duration": 330,
    "start_time": "2022-01-27T20:31:25.056Z"
   },
   {
    "duration": 9,
    "start_time": "2022-01-27T20:31:40.552Z"
   },
   {
    "duration": 276,
    "start_time": "2022-01-27T20:32:57.970Z"
   },
   {
    "duration": 9,
    "start_time": "2022-01-27T20:33:11.986Z"
   },
   {
    "duration": 107,
    "start_time": "2022-01-27T20:33:54.312Z"
   },
   {
    "duration": 11,
    "start_time": "2022-01-27T20:34:17.750Z"
   },
   {
    "duration": 11,
    "start_time": "2022-01-27T20:38:39.469Z"
   },
   {
    "duration": 10,
    "start_time": "2022-01-27T20:40:45.287Z"
   },
   {
    "duration": 4,
    "start_time": "2022-01-27T20:43:02.087Z"
   },
   {
    "duration": 270,
    "start_time": "2022-01-27T20:46:33.339Z"
   },
   {
    "duration": 5,
    "start_time": "2022-01-27T20:46:37.139Z"
   },
   {
    "duration": 19,
    "start_time": "2022-01-27T20:47:48.374Z"
   },
   {
    "duration": 608,
    "start_time": "2022-01-27T20:49:39.073Z"
   },
   {
    "duration": 216,
    "start_time": "2022-01-27T20:49:56.719Z"
   },
   {
    "duration": 238,
    "start_time": "2022-01-27T20:50:13.318Z"
   },
   {
    "duration": 232,
    "start_time": "2022-01-27T20:50:33.525Z"
   },
   {
    "duration": 211,
    "start_time": "2022-01-27T20:51:51.612Z"
   },
   {
    "duration": 426,
    "start_time": "2022-01-27T20:52:46.325Z"
   },
   {
    "duration": 7401,
    "start_time": "2022-01-27T20:52:55.519Z"
   },
   {
    "duration": 8196,
    "start_time": "2022-01-27T20:53:11.564Z"
   },
   {
    "duration": 8,
    "start_time": "2022-01-27T20:55:17.189Z"
   },
   {
    "duration": 185,
    "start_time": "2022-01-27T20:56:57.927Z"
   },
   {
    "duration": 202,
    "start_time": "2022-01-27T20:57:02.615Z"
   },
   {
    "duration": 191,
    "start_time": "2022-01-27T20:57:05.847Z"
   },
   {
    "duration": 207,
    "start_time": "2022-01-27T20:57:09.662Z"
   },
   {
    "duration": 440,
    "start_time": "2022-01-27T20:57:13.782Z"
   },
   {
    "duration": 187,
    "start_time": "2022-01-27T20:57:19.326Z"
   },
   {
    "duration": 9,
    "start_time": "2022-01-27T20:57:27.861Z"
   },
   {
    "duration": 179,
    "start_time": "2022-01-27T20:57:44.892Z"
   },
   {
    "duration": 8,
    "start_time": "2022-01-27T20:57:58.860Z"
   },
   {
    "duration": 9,
    "start_time": "2022-01-27T20:58:03.084Z"
   },
   {
    "duration": 515,
    "start_time": "2022-01-27T20:58:58.777Z"
   },
   {
    "duration": 173,
    "start_time": "2022-01-27T20:59:09.560Z"
   },
   {
    "duration": 446,
    "start_time": "2022-01-27T20:59:40.910Z"
   },
   {
    "duration": 10,
    "start_time": "2022-01-27T20:59:51.925Z"
   },
   {
    "duration": 1429,
    "start_time": "2022-01-27T21:01:51.992Z"
   },
   {
    "duration": 3,
    "start_time": "2022-01-27T21:01:55.055Z"
   },
   {
    "duration": 4,
    "start_time": "2022-01-27T21:01:58.206Z"
   },
   {
    "duration": 11,
    "start_time": "2022-01-27T21:02:01.702Z"
   },
   {
    "duration": 177,
    "start_time": "2022-01-27T21:02:15.639Z"
   },
   {
    "duration": 173,
    "start_time": "2022-01-27T21:02:51.019Z"
   },
   {
    "duration": 194,
    "start_time": "2022-01-27T21:03:01.447Z"
   },
   {
    "duration": 336,
    "start_time": "2022-01-27T21:03:24.681Z"
   },
   {
    "duration": 435,
    "start_time": "2022-01-27T21:03:51.568Z"
   },
   {
    "duration": 631,
    "start_time": "2022-01-27T21:04:08.045Z"
   },
   {
    "duration": 171,
    "start_time": "2022-01-27T21:04:33.846Z"
   },
   {
    "duration": 63,
    "start_time": "2022-01-27T21:05:41.202Z"
   },
   {
    "duration": 279,
    "start_time": "2022-01-27T21:05:51.603Z"
   },
   {
    "duration": 157,
    "start_time": "2022-01-27T21:06:11.056Z"
   },
   {
    "duration": 395,
    "start_time": "2022-01-27T21:07:18.004Z"
   },
   {
    "duration": 57,
    "start_time": "2022-01-27T21:07:44.421Z"
   },
   {
    "duration": 196,
    "start_time": "2022-01-27T21:07:59.420Z"
   },
   {
    "duration": 300,
    "start_time": "2022-01-27T21:08:19.458Z"
   },
   {
    "duration": 290,
    "start_time": "2022-01-27T21:09:15.606Z"
   },
   {
    "duration": 178,
    "start_time": "2022-01-27T21:09:20.406Z"
   },
   {
    "duration": 15,
    "start_time": "2022-01-27T21:09:32.429Z"
   },
   {
    "duration": 1467,
    "start_time": "2022-01-27T21:10:13.307Z"
   },
   {
    "duration": 18,
    "start_time": "2022-01-27T21:10:23.835Z"
   },
   {
    "duration": 187,
    "start_time": "2022-01-27T21:10:34.554Z"
   },
   {
    "duration": 302,
    "start_time": "2022-01-27T21:11:02.480Z"
   },
   {
    "duration": 185,
    "start_time": "2022-01-27T21:11:51.988Z"
   },
   {
    "duration": 364,
    "start_time": "2022-01-27T21:13:29.319Z"
   },
   {
    "duration": 183,
    "start_time": "2022-01-27T21:13:42.729Z"
   },
   {
    "duration": 12,
    "start_time": "2022-01-27T21:15:24.057Z"
   },
   {
    "duration": 181,
    "start_time": "2022-01-27T21:18:36.846Z"
   },
   {
    "duration": 677,
    "start_time": "2022-01-28T05:23:17.740Z"
   },
   {
    "duration": 298,
    "start_time": "2022-01-28T05:23:18.419Z"
   },
   {
    "duration": 217,
    "start_time": "2022-01-28T05:23:18.719Z"
   },
   {
    "duration": 148,
    "start_time": "2022-01-28T05:23:18.939Z"
   },
   {
    "duration": 29,
    "start_time": "2022-01-28T05:23:19.090Z"
   },
   {
    "duration": 46,
    "start_time": "2022-01-28T05:23:19.122Z"
   },
   {
    "duration": 7,
    "start_time": "2022-01-28T05:23:19.170Z"
   },
   {
    "duration": 11,
    "start_time": "2022-01-28T05:23:19.179Z"
   },
   {
    "duration": 59,
    "start_time": "2022-01-28T05:23:19.192Z"
   },
   {
    "duration": 36,
    "start_time": "2022-01-28T05:23:19.253Z"
   },
   {
    "duration": 42,
    "start_time": "2022-01-28T05:23:19.291Z"
   },
   {
    "duration": 12,
    "start_time": "2022-01-28T05:23:19.336Z"
   },
   {
    "duration": 23,
    "start_time": "2022-01-28T05:23:19.350Z"
   },
   {
    "duration": 34,
    "start_time": "2022-01-28T05:23:19.375Z"
   },
   {
    "duration": 21,
    "start_time": "2022-01-28T05:23:19.411Z"
   },
   {
    "duration": 7,
    "start_time": "2022-01-28T05:23:19.434Z"
   },
   {
    "duration": 24,
    "start_time": "2022-01-28T05:23:19.443Z"
   },
   {
    "duration": 7,
    "start_time": "2022-01-28T05:23:19.469Z"
   },
   {
    "duration": 426,
    "start_time": "2022-01-28T05:23:19.478Z"
   },
   {
    "duration": 13,
    "start_time": "2022-01-28T05:23:19.907Z"
   },
   {
    "duration": 3,
    "start_time": "2022-01-28T05:23:19.922Z"
   },
   {
    "duration": 108,
    "start_time": "2022-01-28T05:23:19.926Z"
   },
   {
    "duration": 27,
    "start_time": "2022-01-28T05:23:20.038Z"
   },
   {
    "duration": 42,
    "start_time": "2022-01-28T05:23:20.068Z"
   },
   {
    "duration": 18,
    "start_time": "2022-01-28T05:23:20.113Z"
   },
   {
    "duration": 21,
    "start_time": "2022-01-28T05:23:20.133Z"
   },
   {
    "duration": 21,
    "start_time": "2022-01-28T05:23:20.156Z"
   },
   {
    "duration": 39,
    "start_time": "2022-01-28T05:23:20.179Z"
   },
   {
    "duration": 20,
    "start_time": "2022-01-28T05:23:20.220Z"
   },
   {
    "duration": 9,
    "start_time": "2022-01-28T05:23:20.242Z"
   },
   {
    "duration": 55,
    "start_time": "2022-01-28T05:23:20.253Z"
   },
   {
    "duration": 28,
    "start_time": "2022-01-28T05:23:20.310Z"
   },
   {
    "duration": 7,
    "start_time": "2022-01-28T05:23:20.340Z"
   },
   {
    "duration": 63,
    "start_time": "2022-01-28T05:23:20.349Z"
   },
   {
    "duration": 6,
    "start_time": "2022-01-28T05:23:20.414Z"
   },
   {
    "duration": 42,
    "start_time": "2022-01-28T05:23:20.422Z"
   },
   {
    "duration": 7,
    "start_time": "2022-01-28T05:23:20.466Z"
   },
   {
    "duration": 36,
    "start_time": "2022-01-28T05:23:20.474Z"
   },
   {
    "duration": 8,
    "start_time": "2022-01-28T05:23:20.512Z"
   },
   {
    "duration": 13,
    "start_time": "2022-01-28T05:23:20.522Z"
   },
   {
    "duration": 11,
    "start_time": "2022-01-28T05:23:20.537Z"
   },
   {
    "duration": 21,
    "start_time": "2022-01-28T05:23:20.550Z"
   },
   {
    "duration": 34,
    "start_time": "2022-01-28T05:23:20.573Z"
   },
   {
    "duration": 5,
    "start_time": "2022-01-28T05:23:20.609Z"
   },
   {
    "duration": 12,
    "start_time": "2022-01-28T05:23:20.616Z"
   },
   {
    "duration": 8,
    "start_time": "2022-01-28T05:23:20.630Z"
   },
   {
    "duration": 12,
    "start_time": "2022-01-28T05:23:20.640Z"
   },
   {
    "duration": 18,
    "start_time": "2022-01-28T05:23:20.654Z"
   },
   {
    "duration": 40,
    "start_time": "2022-01-28T05:23:20.674Z"
   },
   {
    "duration": 12,
    "start_time": "2022-01-28T05:23:20.717Z"
   },
   {
    "duration": 4,
    "start_time": "2022-01-28T05:23:20.731Z"
   },
   {
    "duration": 12,
    "start_time": "2022-01-28T05:23:20.737Z"
   },
   {
    "duration": 12,
    "start_time": "2022-01-28T05:23:20.751Z"
   },
   {
    "duration": 1804,
    "start_time": "2022-01-28T05:23:20.765Z"
   },
   {
    "duration": 3,
    "start_time": "2022-01-28T05:23:22.571Z"
   },
   {
    "duration": 10,
    "start_time": "2022-01-28T05:23:22.576Z"
   },
   {
    "duration": 447,
    "start_time": "2022-01-28T05:23:22.588Z"
   },
   {
    "duration": 2414,
    "start_time": "2022-01-28T05:24:25.682Z"
   },
   {
    "duration": 4,
    "start_time": "2022-01-28T05:25:19.668Z"
   },
   {
    "duration": 518,
    "start_time": "2022-01-28T05:25:28.779Z"
   },
   {
    "duration": 2186,
    "start_time": "2022-01-28T05:25:48.024Z"
   },
   {
    "duration": 4886,
    "start_time": "2022-01-28T05:33:43.250Z"
   },
   {
    "duration": 5093,
    "start_time": "2022-01-28T05:33:52.881Z"
   },
   {
    "duration": 1313,
    "start_time": "2022-01-28T05:34:07.666Z"
   },
   {
    "duration": 201,
    "start_time": "2022-01-28T05:34:47.156Z"
   },
   {
    "duration": 6,
    "start_time": "2022-01-28T05:34:53.287Z"
   },
   {
    "duration": 702,
    "start_time": "2022-01-28T05:35:38.577Z"
   },
   {
    "duration": 283,
    "start_time": "2022-01-28T05:35:39.281Z"
   },
   {
    "duration": 218,
    "start_time": "2022-01-28T05:35:39.566Z"
   },
   {
    "duration": 151,
    "start_time": "2022-01-28T05:35:39.786Z"
   },
   {
    "duration": 28,
    "start_time": "2022-01-28T05:35:39.939Z"
   },
   {
    "duration": 45,
    "start_time": "2022-01-28T05:35:39.970Z"
   },
   {
    "duration": 9,
    "start_time": "2022-01-28T05:35:40.018Z"
   },
   {
    "duration": 11,
    "start_time": "2022-01-28T05:35:40.030Z"
   },
   {
    "duration": 68,
    "start_time": "2022-01-28T05:35:40.044Z"
   },
   {
    "duration": 39,
    "start_time": "2022-01-28T05:35:40.114Z"
   },
   {
    "duration": 56,
    "start_time": "2022-01-28T05:35:40.155Z"
   },
   {
    "duration": 12,
    "start_time": "2022-01-28T05:35:40.213Z"
   },
   {
    "duration": 13,
    "start_time": "2022-01-28T05:35:40.228Z"
   },
   {
    "duration": 9,
    "start_time": "2022-01-28T05:35:40.244Z"
   },
   {
    "duration": 57,
    "start_time": "2022-01-28T05:35:40.256Z"
   },
   {
    "duration": 5,
    "start_time": "2022-01-28T05:35:40.315Z"
   },
   {
    "duration": 18,
    "start_time": "2022-01-28T05:35:40.322Z"
   },
   {
    "duration": 9,
    "start_time": "2022-01-28T05:35:40.343Z"
   },
   {
    "duration": 445,
    "start_time": "2022-01-28T05:35:40.354Z"
   },
   {
    "duration": 16,
    "start_time": "2022-01-28T05:35:40.802Z"
   },
   {
    "duration": 4,
    "start_time": "2022-01-28T05:35:40.820Z"
   },
   {
    "duration": 122,
    "start_time": "2022-01-28T05:35:40.826Z"
   },
   {
    "duration": 27,
    "start_time": "2022-01-28T05:35:40.952Z"
   },
   {
    "duration": 40,
    "start_time": "2022-01-28T05:35:40.981Z"
   },
   {
    "duration": 19,
    "start_time": "2022-01-28T05:35:41.023Z"
   },
   {
    "duration": 22,
    "start_time": "2022-01-28T05:35:41.044Z"
   },
   {
    "duration": 49,
    "start_time": "2022-01-28T05:35:41.068Z"
   },
   {
    "duration": 12,
    "start_time": "2022-01-28T05:35:41.118Z"
   },
   {
    "duration": 20,
    "start_time": "2022-01-28T05:35:41.132Z"
   },
   {
    "duration": 8,
    "start_time": "2022-01-28T05:35:41.154Z"
   },
   {
    "duration": 51,
    "start_time": "2022-01-28T05:35:41.164Z"
   },
   {
    "duration": 28,
    "start_time": "2022-01-28T05:35:41.217Z"
   },
   {
    "duration": 7,
    "start_time": "2022-01-28T05:35:41.246Z"
   },
   {
    "duration": 59,
    "start_time": "2022-01-28T05:35:41.255Z"
   },
   {
    "duration": 6,
    "start_time": "2022-01-28T05:35:41.315Z"
   },
   {
    "duration": 37,
    "start_time": "2022-01-28T05:35:41.323Z"
   },
   {
    "duration": 6,
    "start_time": "2022-01-28T05:35:41.362Z"
   },
   {
    "duration": 42,
    "start_time": "2022-01-28T05:35:41.370Z"
   },
   {
    "duration": 12,
    "start_time": "2022-01-28T05:35:41.414Z"
   },
   {
    "duration": 14,
    "start_time": "2022-01-28T05:35:41.428Z"
   },
   {
    "duration": 21,
    "start_time": "2022-01-28T05:35:41.443Z"
   },
   {
    "duration": 17,
    "start_time": "2022-01-28T05:35:41.466Z"
   },
   {
    "duration": 26,
    "start_time": "2022-01-28T05:35:41.484Z"
   },
   {
    "duration": 5,
    "start_time": "2022-01-28T05:35:41.512Z"
   },
   {
    "duration": 24,
    "start_time": "2022-01-28T05:35:41.519Z"
   },
   {
    "duration": 20,
    "start_time": "2022-01-28T05:35:41.545Z"
   },
   {
    "duration": 19,
    "start_time": "2022-01-28T05:35:41.567Z"
   },
   {
    "duration": 25,
    "start_time": "2022-01-28T05:35:41.588Z"
   },
   {
    "duration": 15,
    "start_time": "2022-01-28T05:35:41.615Z"
   },
   {
    "duration": 25,
    "start_time": "2022-01-28T05:35:41.632Z"
   },
   {
    "duration": 18,
    "start_time": "2022-01-28T05:35:41.659Z"
   },
   {
    "duration": 13,
    "start_time": "2022-01-28T05:35:41.678Z"
   },
   {
    "duration": 13,
    "start_time": "2022-01-28T05:35:41.692Z"
   },
   {
    "duration": 20,
    "start_time": "2022-01-28T05:35:41.707Z"
   },
   {
    "duration": 10,
    "start_time": "2022-01-28T05:35:41.729Z"
   },
   {
    "duration": 1381,
    "start_time": "2022-01-28T05:35:41.741Z"
   },
   {
    "duration": 3,
    "start_time": "2022-01-28T05:35:43.124Z"
   },
   {
    "duration": 23,
    "start_time": "2022-01-28T05:35:43.130Z"
   },
   {
    "duration": 450,
    "start_time": "2022-01-28T05:35:43.155Z"
   },
   {
    "duration": 1515,
    "start_time": "2022-01-28T05:45:50.375Z"
   },
   {
    "duration": 3,
    "start_time": "2022-01-28T05:46:06.166Z"
   },
   {
    "duration": 334,
    "start_time": "2022-01-28T05:46:06.174Z"
   },
   {
    "duration": 231,
    "start_time": "2022-01-28T05:46:06.510Z"
   },
   {
    "duration": 154,
    "start_time": "2022-01-28T05:46:06.744Z"
   },
   {
    "duration": 29,
    "start_time": "2022-01-28T05:46:06.908Z"
   },
   {
    "duration": 49,
    "start_time": "2022-01-28T05:46:06.939Z"
   },
   {
    "duration": 7,
    "start_time": "2022-01-28T05:46:06.990Z"
   },
   {
    "duration": 14,
    "start_time": "2022-01-28T05:46:06.998Z"
   },
   {
    "duration": 52,
    "start_time": "2022-01-28T05:46:07.016Z"
   },
   {
    "duration": 50,
    "start_time": "2022-01-28T05:46:07.070Z"
   },
   {
    "duration": 33,
    "start_time": "2022-01-28T05:46:07.122Z"
   },
   {
    "duration": 12,
    "start_time": "2022-01-28T05:46:07.157Z"
   },
   {
    "duration": 44,
    "start_time": "2022-01-28T05:46:07.171Z"
   },
   {
    "duration": 13,
    "start_time": "2022-01-28T05:46:07.217Z"
   },
   {
    "duration": 10,
    "start_time": "2022-01-28T05:46:07.232Z"
   },
   {
    "duration": 6,
    "start_time": "2022-01-28T05:46:07.244Z"
   },
   {
    "duration": 17,
    "start_time": "2022-01-28T05:46:07.252Z"
   },
   {
    "duration": 40,
    "start_time": "2022-01-28T05:46:07.271Z"
   },
   {
    "duration": 440,
    "start_time": "2022-01-28T05:46:07.313Z"
   },
   {
    "duration": 14,
    "start_time": "2022-01-28T05:46:07.755Z"
   },
   {
    "duration": 3,
    "start_time": "2022-01-28T05:46:07.771Z"
   },
   {
    "duration": 121,
    "start_time": "2022-01-28T05:46:07.776Z"
   },
   {
    "duration": 31,
    "start_time": "2022-01-28T05:46:07.899Z"
   },
   {
    "duration": 30,
    "start_time": "2022-01-28T05:46:07.934Z"
   },
   {
    "duration": 42,
    "start_time": "2022-01-28T05:46:07.967Z"
   },
   {
    "duration": 28,
    "start_time": "2022-01-28T05:46:08.011Z"
   },
   {
    "duration": 21,
    "start_time": "2022-01-28T05:46:08.041Z"
   },
   {
    "duration": 11,
    "start_time": "2022-01-28T05:46:08.065Z"
   },
   {
    "duration": 21,
    "start_time": "2022-01-28T05:46:08.108Z"
   },
   {
    "duration": 11,
    "start_time": "2022-01-28T05:46:08.131Z"
   },
   {
    "duration": 26,
    "start_time": "2022-01-28T05:46:08.144Z"
   },
   {
    "duration": 57,
    "start_time": "2022-01-28T05:46:08.172Z"
   },
   {
    "duration": 7,
    "start_time": "2022-01-28T05:46:08.231Z"
   },
   {
    "duration": 40,
    "start_time": "2022-01-28T05:46:08.240Z"
   },
   {
    "duration": 30,
    "start_time": "2022-01-28T05:46:08.282Z"
   },
   {
    "duration": 42,
    "start_time": "2022-01-28T05:46:08.314Z"
   },
   {
    "duration": 7,
    "start_time": "2022-01-28T05:46:08.358Z"
   },
   {
    "duration": 42,
    "start_time": "2022-01-28T05:46:08.366Z"
   },
   {
    "duration": 11,
    "start_time": "2022-01-28T05:46:08.410Z"
   },
   {
    "duration": 15,
    "start_time": "2022-01-28T05:46:08.423Z"
   },
   {
    "duration": 13,
    "start_time": "2022-01-28T05:46:08.440Z"
   },
   {
    "duration": 18,
    "start_time": "2022-01-28T05:46:08.455Z"
   },
   {
    "duration": 36,
    "start_time": "2022-01-28T05:46:08.475Z"
   },
   {
    "duration": 6,
    "start_time": "2022-01-28T05:46:08.513Z"
   },
   {
    "duration": 11,
    "start_time": "2022-01-28T05:46:08.521Z"
   },
   {
    "duration": 8,
    "start_time": "2022-01-28T05:46:08.534Z"
   },
   {
    "duration": 15,
    "start_time": "2022-01-28T05:46:08.544Z"
   },
   {
    "duration": 50,
    "start_time": "2022-01-28T05:46:08.561Z"
   },
   {
    "duration": 14,
    "start_time": "2022-01-28T05:46:08.613Z"
   },
   {
    "duration": 39,
    "start_time": "2022-01-28T05:46:08.629Z"
   },
   {
    "duration": 4,
    "start_time": "2022-01-28T05:46:08.670Z"
   },
   {
    "duration": 13,
    "start_time": "2022-01-28T05:46:08.676Z"
   },
   {
    "duration": 6,
    "start_time": "2022-01-28T05:46:08.691Z"
   },
   {
    "duration": 3,
    "start_time": "2022-01-28T05:46:08.708Z"
   },
   {
    "duration": 14,
    "start_time": "2022-01-28T05:46:08.713Z"
   },
   {
    "duration": 1570,
    "start_time": "2022-01-28T05:46:12.346Z"
   },
   {
    "duration": 444,
    "start_time": "2022-01-28T05:47:15.616Z"
   },
   {
    "duration": 218,
    "start_time": "2022-01-28T05:47:51.917Z"
   },
   {
    "duration": 206,
    "start_time": "2022-01-28T05:48:43.724Z"
   },
   {
    "duration": 231,
    "start_time": "2022-01-28T05:48:51.303Z"
   },
   {
    "duration": 635,
    "start_time": "2022-01-28T05:48:58.878Z"
   },
   {
    "duration": 203,
    "start_time": "2022-01-28T06:46:03.942Z"
   },
   {
    "duration": 399,
    "start_time": "2022-01-28T06:46:08.455Z"
   },
   {
    "duration": 604,
    "start_time": "2022-01-28T06:53:11.798Z"
   },
   {
    "duration": 237,
    "start_time": "2022-01-28T06:54:09.977Z"
   },
   {
    "duration": 209,
    "start_time": "2022-01-28T06:55:50.145Z"
   },
   {
    "duration": 210,
    "start_time": "2022-01-28T06:56:02.595Z"
   },
   {
    "duration": 226,
    "start_time": "2022-01-28T06:56:18.392Z"
   },
   {
    "duration": 210,
    "start_time": "2022-01-28T06:56:28.900Z"
   },
   {
    "duration": 278,
    "start_time": "2022-01-28T06:56:33.507Z"
   },
   {
    "duration": 245,
    "start_time": "2022-01-28T06:59:04.946Z"
   },
   {
    "duration": 200,
    "start_time": "2022-01-28T06:59:39.794Z"
   },
   {
    "duration": 343,
    "start_time": "2022-01-28T06:59:49.306Z"
   },
   {
    "duration": 196,
    "start_time": "2022-01-28T06:59:54.484Z"
   },
   {
    "duration": 532,
    "start_time": "2022-01-28T07:00:09.388Z"
   },
   {
    "duration": 3496,
    "start_time": "2022-01-28T07:05:24.884Z"
   },
   {
    "duration": 2965,
    "start_time": "2022-01-28T07:05:57.671Z"
   },
   {
    "duration": 3351,
    "start_time": "2022-01-28T07:09:59.275Z"
   },
   {
    "duration": 480,
    "start_time": "2022-01-28T07:10:26.159Z"
   },
   {
    "duration": 642,
    "start_time": "2022-01-28T07:11:03.106Z"
   },
   {
    "duration": 513,
    "start_time": "2022-01-28T07:13:12.814Z"
   },
   {
    "duration": 595,
    "start_time": "2022-01-28T07:15:09.141Z"
   },
   {
    "duration": 457,
    "start_time": "2022-01-28T07:15:46.958Z"
   },
   {
    "duration": 1258,
    "start_time": "2022-01-28T07:17:05.229Z"
   },
   {
    "duration": 1162,
    "start_time": "2022-01-28T07:17:22.703Z"
   },
   {
    "duration": 408,
    "start_time": "2022-01-28T07:17:44.610Z"
   },
   {
    "duration": 996,
    "start_time": "2022-01-28T07:17:54.666Z"
   },
   {
    "duration": 1172,
    "start_time": "2022-01-28T07:18:10.814Z"
   },
   {
    "duration": 510,
    "start_time": "2022-01-28T07:19:18.042Z"
   },
   {
    "duration": 10026,
    "start_time": "2022-01-28T07:19:37.542Z"
   },
   {
    "duration": 9631,
    "start_time": "2022-01-28T07:20:30.248Z"
   },
   {
    "duration": 3211,
    "start_time": "2022-01-28T07:23:57.110Z"
   },
   {
    "duration": 962,
    "start_time": "2022-01-28T07:25:32.208Z"
   },
   {
    "duration": 6734,
    "start_time": "2022-01-28T07:26:53.646Z"
   },
   {
    "duration": 205,
    "start_time": "2022-01-28T07:28:20.922Z"
   },
   {
    "duration": 7652,
    "start_time": "2022-01-28T07:28:37.766Z"
   },
   {
    "duration": 206,
    "start_time": "2022-01-28T07:29:15.264Z"
   },
   {
    "duration": 197,
    "start_time": "2022-01-28T07:29:29.556Z"
   },
   {
    "duration": 1078,
    "start_time": "2022-01-28T07:30:52.338Z"
   },
   {
    "duration": 5,
    "start_time": "2022-01-28T07:33:00.962Z"
   },
   {
    "duration": 254,
    "start_time": "2022-01-28T07:33:40.677Z"
   },
   {
    "duration": 12,
    "start_time": "2022-01-28T07:33:47.769Z"
   },
   {
    "duration": 209,
    "start_time": "2022-01-28T07:34:19.400Z"
   },
   {
    "duration": 11,
    "start_time": "2022-01-28T07:34:35.153Z"
   },
   {
    "duration": 14,
    "start_time": "2022-01-28T07:34:50.897Z"
   },
   {
    "duration": 4,
    "start_time": "2022-01-28T07:43:48.653Z"
   },
   {
    "duration": 3,
    "start_time": "2022-01-28T07:43:52.215Z"
   },
   {
    "duration": 1063,
    "start_time": "2022-01-28T07:43:52.222Z"
   },
   {
    "duration": -8296,
    "start_time": "2022-01-28T07:44:01.584Z"
   },
   {
    "duration": -8306,
    "start_time": "2022-01-28T07:44:01.595Z"
   },
   {
    "duration": -8313,
    "start_time": "2022-01-28T07:44:01.603Z"
   },
   {
    "duration": -8322,
    "start_time": "2022-01-28T07:44:01.613Z"
   },
   {
    "duration": -8330,
    "start_time": "2022-01-28T07:44:01.622Z"
   },
   {
    "duration": 4,
    "start_time": "2022-01-28T07:44:03.957Z"
   },
   {
    "duration": 1187,
    "start_time": "2022-01-28T07:44:13.705Z"
   },
   {
    "duration": 306,
    "start_time": "2022-01-28T07:44:14.894Z"
   },
   {
    "duration": 220,
    "start_time": "2022-01-28T07:44:15.202Z"
   },
   {
    "duration": 154,
    "start_time": "2022-01-28T07:44:15.424Z"
   },
   {
    "duration": 29,
    "start_time": "2022-01-28T07:44:15.580Z"
   },
   {
    "duration": 46,
    "start_time": "2022-01-28T07:44:15.611Z"
   },
   {
    "duration": 6,
    "start_time": "2022-01-28T07:44:15.659Z"
   },
   {
    "duration": 12,
    "start_time": "2022-01-28T07:44:15.668Z"
   },
   {
    "duration": 57,
    "start_time": "2022-01-28T07:44:15.682Z"
   },
   {
    "duration": 35,
    "start_time": "2022-01-28T07:44:15.741Z"
   },
   {
    "duration": 48,
    "start_time": "2022-01-28T07:44:15.778Z"
   },
   {
    "duration": 11,
    "start_time": "2022-01-28T07:44:15.828Z"
   },
   {
    "duration": 15,
    "start_time": "2022-01-28T07:44:15.840Z"
   },
   {
    "duration": 12,
    "start_time": "2022-01-28T07:44:15.857Z"
   },
   {
    "duration": 39,
    "start_time": "2022-01-28T07:44:15.871Z"
   },
   {
    "duration": 5,
    "start_time": "2022-01-28T07:44:15.912Z"
   },
   {
    "duration": 22,
    "start_time": "2022-01-28T07:44:15.919Z"
   },
   {
    "duration": 7,
    "start_time": "2022-01-28T07:44:15.943Z"
   },
   {
    "duration": 569,
    "start_time": "2022-01-28T07:44:15.952Z"
   },
   {
    "duration": 13,
    "start_time": "2022-01-28T07:44:16.524Z"
   },
   {
    "duration": 28,
    "start_time": "2022-01-28T07:44:16.539Z"
   },
   {
    "duration": 100,
    "start_time": "2022-01-28T07:44:16.569Z"
   },
   {
    "duration": 37,
    "start_time": "2022-01-28T07:44:16.674Z"
   },
   {
    "duration": 29,
    "start_time": "2022-01-28T07:44:16.713Z"
   },
   {
    "duration": 19,
    "start_time": "2022-01-28T07:44:16.744Z"
   },
   {
    "duration": 49,
    "start_time": "2022-01-28T07:44:16.765Z"
   },
   {
    "duration": 20,
    "start_time": "2022-01-28T07:44:16.816Z"
   },
   {
    "duration": 12,
    "start_time": "2022-01-28T07:44:16.839Z"
   },
   {
    "duration": 23,
    "start_time": "2022-01-28T07:44:16.852Z"
   },
   {
    "duration": 37,
    "start_time": "2022-01-28T07:44:16.877Z"
   },
   {
    "duration": 25,
    "start_time": "2022-01-28T07:44:16.916Z"
   },
   {
    "duration": 30,
    "start_time": "2022-01-28T07:44:16.943Z"
   },
   {
    "duration": 9,
    "start_time": "2022-01-28T07:44:17.007Z"
   },
   {
    "duration": 39,
    "start_time": "2022-01-28T07:44:17.019Z"
   },
   {
    "duration": 8,
    "start_time": "2022-01-28T07:44:17.060Z"
   },
   {
    "duration": 80,
    "start_time": "2022-01-28T07:44:17.070Z"
   },
   {
    "duration": 10,
    "start_time": "2022-01-28T07:44:17.152Z"
   },
   {
    "duration": 27,
    "start_time": "2022-01-28T07:44:17.164Z"
   },
   {
    "duration": 9,
    "start_time": "2022-01-28T07:44:17.208Z"
   },
   {
    "duration": 13,
    "start_time": "2022-01-28T07:44:17.220Z"
   },
   {
    "duration": 26,
    "start_time": "2022-01-28T07:44:17.235Z"
   },
   {
    "duration": 73,
    "start_time": "2022-01-28T07:44:17.263Z"
   },
   {
    "duration": 14,
    "start_time": "2022-01-28T07:44:17.339Z"
   },
   {
    "duration": 6,
    "start_time": "2022-01-28T07:44:17.355Z"
   },
   {
    "duration": 15,
    "start_time": "2022-01-28T07:44:17.363Z"
   },
   {
    "duration": 9,
    "start_time": "2022-01-28T07:44:17.380Z"
   },
   {
    "duration": 24,
    "start_time": "2022-01-28T07:44:17.391Z"
   },
   {
    "duration": 17,
    "start_time": "2022-01-28T07:44:17.417Z"
   },
   {
    "duration": 26,
    "start_time": "2022-01-28T07:44:17.436Z"
   },
   {
    "duration": 17,
    "start_time": "2022-01-28T07:44:17.464Z"
   },
   {
    "duration": 7,
    "start_time": "2022-01-28T07:44:17.483Z"
   },
   {
    "duration": 6,
    "start_time": "2022-01-28T07:44:17.507Z"
   },
   {
    "duration": 10,
    "start_time": "2022-01-28T07:44:17.515Z"
   },
   {
    "duration": 13,
    "start_time": "2022-01-28T07:44:17.527Z"
   },
   {
    "duration": 11,
    "start_time": "2022-01-28T07:44:17.542Z"
   },
   {
    "duration": 19,
    "start_time": "2022-01-28T07:44:17.555Z"
   },
   {
    "duration": 3115,
    "start_time": "2022-01-28T07:44:17.576Z"
   },
   {
    "duration": 985,
    "start_time": "2022-01-28T07:44:20.693Z"
   },
   {
    "duration": 4,
    "start_time": "2022-01-28T07:44:21.680Z"
   },
   {
    "duration": 6,
    "start_time": "2022-01-28T07:44:37.838Z"
   },
   {
    "duration": 6,
    "start_time": "2022-01-28T07:44:37.846Z"
   },
   {
    "duration": 965,
    "start_time": "2022-01-28T07:44:37.854Z"
   },
   {
    "duration": -8283,
    "start_time": "2022-01-28T07:44:47.104Z"
   },
   {
    "duration": -8290,
    "start_time": "2022-01-28T07:44:47.112Z"
   },
   {
    "duration": -8297,
    "start_time": "2022-01-28T07:44:47.120Z"
   },
   {
    "duration": -8305,
    "start_time": "2022-01-28T07:44:47.129Z"
   },
   {
    "duration": -8313,
    "start_time": "2022-01-28T07:44:47.138Z"
   },
   {
    "duration": 1199,
    "start_time": "2022-01-28T07:45:16.693Z"
   },
   {
    "duration": 294,
    "start_time": "2022-01-28T07:45:17.894Z"
   },
   {
    "duration": 217,
    "start_time": "2022-01-28T07:45:18.191Z"
   },
   {
    "duration": 159,
    "start_time": "2022-01-28T07:45:18.410Z"
   },
   {
    "duration": 28,
    "start_time": "2022-01-28T07:45:18.572Z"
   },
   {
    "duration": 47,
    "start_time": "2022-01-28T07:45:18.606Z"
   },
   {
    "duration": 7,
    "start_time": "2022-01-28T07:45:18.655Z"
   },
   {
    "duration": 13,
    "start_time": "2022-01-28T07:45:18.665Z"
   },
   {
    "duration": 53,
    "start_time": "2022-01-28T07:45:18.680Z"
   },
   {
    "duration": 36,
    "start_time": "2022-01-28T07:45:18.735Z"
   },
   {
    "duration": 53,
    "start_time": "2022-01-28T07:45:18.773Z"
   },
   {
    "duration": 12,
    "start_time": "2022-01-28T07:45:18.828Z"
   },
   {
    "duration": 21,
    "start_time": "2022-01-28T07:45:18.842Z"
   },
   {
    "duration": 11,
    "start_time": "2022-01-28T07:45:18.865Z"
   },
   {
    "duration": 35,
    "start_time": "2022-01-28T07:45:18.877Z"
   },
   {
    "duration": 5,
    "start_time": "2022-01-28T07:45:18.914Z"
   },
   {
    "duration": 31,
    "start_time": "2022-01-28T07:45:18.921Z"
   },
   {
    "duration": 9,
    "start_time": "2022-01-28T07:45:18.955Z"
   },
   {
    "duration": 481,
    "start_time": "2022-01-28T07:45:18.966Z"
   },
   {
    "duration": 14,
    "start_time": "2022-01-28T07:45:19.449Z"
   },
   {
    "duration": 21,
    "start_time": "2022-01-28T07:45:19.465Z"
   },
   {
    "duration": 108,
    "start_time": "2022-01-28T07:45:19.488Z"
   },
   {
    "duration": 32,
    "start_time": "2022-01-28T07:45:19.601Z"
   },
   {
    "duration": 26,
    "start_time": "2022-01-28T07:45:19.636Z"
   },
   {
    "duration": 19,
    "start_time": "2022-01-28T07:45:19.664Z"
   },
   {
    "duration": 48,
    "start_time": "2022-01-28T07:45:19.684Z"
   },
   {
    "duration": 23,
    "start_time": "2022-01-28T07:45:19.733Z"
   },
   {
    "duration": 12,
    "start_time": "2022-01-28T07:45:19.757Z"
   },
   {
    "duration": 52,
    "start_time": "2022-01-28T07:45:19.770Z"
   },
   {
    "duration": 11,
    "start_time": "2022-01-28T07:45:19.824Z"
   },
   {
    "duration": 36,
    "start_time": "2022-01-28T07:45:19.836Z"
   },
   {
    "duration": 46,
    "start_time": "2022-01-28T07:45:19.874Z"
   },
   {
    "duration": 7,
    "start_time": "2022-01-28T07:45:19.922Z"
   },
   {
    "duration": 44,
    "start_time": "2022-01-28T07:45:19.931Z"
   },
   {
    "duration": 8,
    "start_time": "2022-01-28T07:45:19.977Z"
   },
   {
    "duration": 47,
    "start_time": "2022-01-28T07:45:20.008Z"
   },
   {
    "duration": 7,
    "start_time": "2022-01-28T07:45:20.057Z"
   },
   {
    "duration": 27,
    "start_time": "2022-01-28T07:45:20.066Z"
   },
   {
    "duration": 18,
    "start_time": "2022-01-28T07:45:20.095Z"
   },
   {
    "duration": 15,
    "start_time": "2022-01-28T07:45:20.115Z"
   },
   {
    "duration": 12,
    "start_time": "2022-01-28T07:45:20.132Z"
   },
   {
    "duration": 20,
    "start_time": "2022-01-28T07:45:20.146Z"
   },
   {
    "duration": 40,
    "start_time": "2022-01-28T07:45:20.168Z"
   },
   {
    "duration": 5,
    "start_time": "2022-01-28T07:45:20.210Z"
   },
   {
    "duration": 14,
    "start_time": "2022-01-28T07:45:20.217Z"
   },
   {
    "duration": 8,
    "start_time": "2022-01-28T07:45:20.233Z"
   },
   {
    "duration": 13,
    "start_time": "2022-01-28T07:45:20.243Z"
   },
   {
    "duration": 16,
    "start_time": "2022-01-28T07:45:20.257Z"
   },
   {
    "duration": 42,
    "start_time": "2022-01-28T07:45:20.275Z"
   },
   {
    "duration": 14,
    "start_time": "2022-01-28T07:45:20.319Z"
   },
   {
    "duration": 11,
    "start_time": "2022-01-28T07:45:20.335Z"
   },
   {
    "duration": 13,
    "start_time": "2022-01-28T07:45:20.348Z"
   },
   {
    "duration": 10,
    "start_time": "2022-01-28T07:45:20.362Z"
   },
   {
    "duration": 10,
    "start_time": "2022-01-28T07:45:20.374Z"
   },
   {
    "duration": 22,
    "start_time": "2022-01-28T07:45:20.386Z"
   },
   {
    "duration": 17,
    "start_time": "2022-01-28T07:45:20.410Z"
   },
   {
    "duration": 2997,
    "start_time": "2022-01-28T07:45:20.429Z"
   },
   {
    "duration": 971,
    "start_time": "2022-01-28T07:45:23.428Z"
   },
   {
    "duration": 8,
    "start_time": "2022-01-28T07:45:24.402Z"
   },
   {
    "duration": 930,
    "start_time": "2022-01-28T07:47:00.710Z"
   },
   {
    "duration": 274,
    "start_time": "2022-01-28T07:47:07.729Z"
   },
   {
    "duration": 200,
    "start_time": "2022-01-28T07:48:45.734Z"
   },
   {
    "duration": 229,
    "start_time": "2022-01-28T07:48:51.159Z"
   },
   {
    "duration": 169,
    "start_time": "2022-01-28T07:49:49.710Z"
   },
   {
    "duration": 208,
    "start_time": "2022-01-28T07:50:25.917Z"
   },
   {
    "duration": 177,
    "start_time": "2022-01-28T07:50:31.965Z"
   },
   {
    "duration": 293,
    "start_time": "2022-01-28T07:50:44.702Z"
   },
   {
    "duration": 158,
    "start_time": "2022-01-28T07:53:42.550Z"
   },
   {
    "duration": 9,
    "start_time": "2022-01-28T07:53:48.581Z"
   },
   {
    "duration": 6,
    "start_time": "2022-01-28T07:53:56.714Z"
   },
   {
    "duration": 150,
    "start_time": "2022-01-28T07:54:06.528Z"
   },
   {
    "duration": 475,
    "start_time": "2022-01-28T07:55:00.100Z"
   },
   {
    "duration": 1729,
    "start_time": "2022-01-28T07:55:08.802Z"
   },
   {
    "duration": 14,
    "start_time": "2022-01-28T07:59:10.373Z"
   },
   {
    "duration": 13,
    "start_time": "2022-01-28T08:03:06.581Z"
   },
   {
    "duration": 4,
    "start_time": "2022-01-28T08:03:30.150Z"
   },
   {
    "duration": 920,
    "start_time": "2022-01-28T08:03:31.990Z"
   },
   {
    "duration": 3,
    "start_time": "2022-01-28T08:03:36.785Z"
   },
   {
    "duration": 285,
    "start_time": "2022-01-28T08:03:36.793Z"
   },
   {
    "duration": 237,
    "start_time": "2022-01-28T08:03:37.080Z"
   },
   {
    "duration": 143,
    "start_time": "2022-01-28T08:03:37.319Z"
   },
   {
    "duration": 27,
    "start_time": "2022-01-28T08:03:37.464Z"
   },
   {
    "duration": 45,
    "start_time": "2022-01-28T08:03:37.493Z"
   },
   {
    "duration": 7,
    "start_time": "2022-01-28T08:03:37.539Z"
   },
   {
    "duration": 12,
    "start_time": "2022-01-28T08:03:37.547Z"
   },
   {
    "duration": 50,
    "start_time": "2022-01-28T08:03:37.562Z"
   },
   {
    "duration": 37,
    "start_time": "2022-01-28T08:03:37.614Z"
   },
   {
    "duration": 57,
    "start_time": "2022-01-28T08:03:37.654Z"
   },
   {
    "duration": 13,
    "start_time": "2022-01-28T08:03:37.713Z"
   },
   {
    "duration": 15,
    "start_time": "2022-01-28T08:03:37.729Z"
   },
   {
    "duration": 9,
    "start_time": "2022-01-28T08:03:37.746Z"
   },
   {
    "duration": 51,
    "start_time": "2022-01-28T08:03:37.758Z"
   },
   {
    "duration": 5,
    "start_time": "2022-01-28T08:03:37.811Z"
   },
   {
    "duration": 18,
    "start_time": "2022-01-28T08:03:37.819Z"
   },
   {
    "duration": 21,
    "start_time": "2022-01-28T08:03:37.839Z"
   },
   {
    "duration": 425,
    "start_time": "2022-01-28T08:03:37.863Z"
   },
   {
    "duration": 24,
    "start_time": "2022-01-28T08:03:38.290Z"
   },
   {
    "duration": 3,
    "start_time": "2022-01-28T08:03:38.316Z"
   },
   {
    "duration": 107,
    "start_time": "2022-01-28T08:03:38.320Z"
   },
   {
    "duration": 27,
    "start_time": "2022-01-28T08:03:38.429Z"
   },
   {
    "duration": 47,
    "start_time": "2022-01-28T08:03:38.460Z"
   },
   {
    "duration": 18,
    "start_time": "2022-01-28T08:03:38.510Z"
   },
   {
    "duration": 23,
    "start_time": "2022-01-28T08:03:38.530Z"
   },
   {
    "duration": 21,
    "start_time": "2022-01-28T08:03:38.555Z"
   },
   {
    "duration": 39,
    "start_time": "2022-01-28T08:03:38.578Z"
   },
   {
    "duration": 20,
    "start_time": "2022-01-28T08:03:38.619Z"
   },
   {
    "duration": 10,
    "start_time": "2022-01-28T08:03:38.641Z"
   },
   {
    "duration": 23,
    "start_time": "2022-01-28T08:03:38.652Z"
   },
   {
    "duration": 56,
    "start_time": "2022-01-28T08:03:38.677Z"
   },
   {
    "duration": 7,
    "start_time": "2022-01-28T08:03:38.735Z"
   },
   {
    "duration": 32,
    "start_time": "2022-01-28T08:03:38.744Z"
   },
   {
    "duration": 8,
    "start_time": "2022-01-28T08:03:38.807Z"
   },
   {
    "duration": 38,
    "start_time": "2022-01-28T08:03:38.816Z"
   },
   {
    "duration": 7,
    "start_time": "2022-01-28T08:03:38.856Z"
   },
   {
    "duration": 9,
    "start_time": "2022-01-28T08:03:38.864Z"
   },
   {
    "duration": 38,
    "start_time": "2022-01-28T08:03:38.875Z"
   },
   {
    "duration": 11,
    "start_time": "2022-01-28T08:03:38.915Z"
   },
   {
    "duration": 12,
    "start_time": "2022-01-28T08:03:38.928Z"
   },
   {
    "duration": 17,
    "start_time": "2022-01-28T08:03:38.942Z"
   },
   {
    "duration": 14,
    "start_time": "2022-01-28T08:03:38.961Z"
   },
   {
    "duration": 33,
    "start_time": "2022-01-28T08:03:38.977Z"
   },
   {
    "duration": 14,
    "start_time": "2022-01-28T08:03:39.012Z"
   },
   {
    "duration": 11,
    "start_time": "2022-01-28T08:03:39.027Z"
   },
   {
    "duration": 13,
    "start_time": "2022-01-28T08:03:39.040Z"
   },
   {
    "duration": 21,
    "start_time": "2022-01-28T08:03:39.055Z"
   },
   {
    "duration": 34,
    "start_time": "2022-01-28T08:03:39.078Z"
   },
   {
    "duration": 16,
    "start_time": "2022-01-28T08:03:39.114Z"
   },
   {
    "duration": 4,
    "start_time": "2022-01-28T08:03:39.133Z"
   },
   {
    "duration": 12,
    "start_time": "2022-01-28T08:03:39.139Z"
   },
   {
    "duration": 9,
    "start_time": "2022-01-28T08:03:39.153Z"
   },
   {
    "duration": 3,
    "start_time": "2022-01-28T08:03:43.112Z"
   },
   {
    "duration": 5,
    "start_time": "2022-01-28T08:03:44.691Z"
   },
   {
    "duration": 5,
    "start_time": "2022-01-28T08:03:46.586Z"
   },
   {
    "duration": 13,
    "start_time": "2022-01-28T08:03:49.028Z"
   },
   {
    "duration": 14,
    "start_time": "2022-01-28T08:03:53.117Z"
   },
   {
    "duration": 3,
    "start_time": "2022-01-28T08:04:11.264Z"
   },
   {
    "duration": 3,
    "start_time": "2022-01-28T08:04:15.885Z"
   },
   {
    "duration": 314,
    "start_time": "2022-01-28T08:04:15.893Z"
   },
   {
    "duration": 225,
    "start_time": "2022-01-28T08:04:16.210Z"
   },
   {
    "duration": 151,
    "start_time": "2022-01-28T08:04:16.437Z"
   },
   {
    "duration": 28,
    "start_time": "2022-01-28T08:04:16.590Z"
   },
   {
    "duration": 45,
    "start_time": "2022-01-28T08:04:16.620Z"
   },
   {
    "duration": 7,
    "start_time": "2022-01-28T08:04:16.667Z"
   },
   {
    "duration": 9,
    "start_time": "2022-01-28T08:04:16.676Z"
   },
   {
    "duration": 61,
    "start_time": "2022-01-28T08:04:16.687Z"
   },
   {
    "duration": 37,
    "start_time": "2022-01-28T08:04:16.750Z"
   },
   {
    "duration": 48,
    "start_time": "2022-01-28T08:04:16.789Z"
   },
   {
    "duration": 12,
    "start_time": "2022-01-28T08:04:16.838Z"
   },
   {
    "duration": 15,
    "start_time": "2022-01-28T08:04:16.852Z"
   },
   {
    "duration": 44,
    "start_time": "2022-01-28T08:04:16.869Z"
   },
   {
    "duration": 16,
    "start_time": "2022-01-28T08:04:16.915Z"
   },
   {
    "duration": 7,
    "start_time": "2022-01-28T08:04:16.933Z"
   },
   {
    "duration": 18,
    "start_time": "2022-01-28T08:04:16.942Z"
   },
   {
    "duration": 50,
    "start_time": "2022-01-28T08:04:16.962Z"
   },
   {
    "duration": 451,
    "start_time": "2022-01-28T08:04:17.014Z"
   },
   {
    "duration": 14,
    "start_time": "2022-01-28T08:04:17.467Z"
   },
   {
    "duration": 2,
    "start_time": "2022-01-28T08:04:17.484Z"
   },
   {
    "duration": 102,
    "start_time": "2022-01-28T08:04:17.507Z"
   },
   {
    "duration": 27,
    "start_time": "2022-01-28T08:04:17.610Z"
   },
   {
    "duration": 29,
    "start_time": "2022-01-28T08:04:17.641Z"
   },
   {
    "duration": 48,
    "start_time": "2022-01-28T08:04:17.672Z"
   },
   {
    "duration": 23,
    "start_time": "2022-01-28T08:04:17.721Z"
   },
   {
    "duration": 22,
    "start_time": "2022-01-28T08:04:17.746Z"
   },
   {
    "duration": 37,
    "start_time": "2022-01-28T08:04:17.770Z"
   },
   {
    "duration": 23,
    "start_time": "2022-01-28T08:04:17.809Z"
   },
   {
    "duration": 10,
    "start_time": "2022-01-28T08:04:17.834Z"
   },
   {
    "duration": 27,
    "start_time": "2022-01-28T08:04:17.846Z"
   },
   {
    "duration": 54,
    "start_time": "2022-01-28T08:04:17.875Z"
   },
   {
    "duration": 8,
    "start_time": "2022-01-28T08:04:17.931Z"
   },
   {
    "duration": 34,
    "start_time": "2022-01-28T08:04:17.941Z"
   },
   {
    "duration": 35,
    "start_time": "2022-01-28T08:04:17.977Z"
   },
   {
    "duration": 40,
    "start_time": "2022-01-28T08:04:18.014Z"
   },
   {
    "duration": 7,
    "start_time": "2022-01-28T08:04:18.055Z"
   },
   {
    "duration": 9,
    "start_time": "2022-01-28T08:04:18.064Z"
   },
   {
    "duration": 33,
    "start_time": "2022-01-28T08:04:18.075Z"
   },
   {
    "duration": 22,
    "start_time": "2022-01-28T08:04:18.110Z"
   },
   {
    "duration": 13,
    "start_time": "2022-01-28T08:04:18.134Z"
   },
   {
    "duration": 30,
    "start_time": "2022-01-28T08:04:18.149Z"
   },
   {
    "duration": 21,
    "start_time": "2022-01-28T08:04:18.181Z"
   },
   {
    "duration": 9,
    "start_time": "2022-01-28T08:04:18.204Z"
   },
   {
    "duration": 26,
    "start_time": "2022-01-28T08:04:18.215Z"
   },
   {
    "duration": 13,
    "start_time": "2022-01-28T08:04:18.243Z"
   },
   {
    "duration": 21,
    "start_time": "2022-01-28T08:04:18.258Z"
   },
   {
    "duration": 19,
    "start_time": "2022-01-28T08:04:18.281Z"
   },
   {
    "duration": 29,
    "start_time": "2022-01-28T08:04:18.302Z"
   },
   {
    "duration": 26,
    "start_time": "2022-01-28T08:04:18.333Z"
   },
   {
    "duration": 11,
    "start_time": "2022-01-28T08:04:18.361Z"
   },
   {
    "duration": 13,
    "start_time": "2022-01-28T08:04:18.374Z"
   },
   {
    "duration": 6,
    "start_time": "2022-01-28T08:04:18.389Z"
   },
   {
    "duration": 5,
    "start_time": "2022-01-28T08:11:14.516Z"
   },
   {
    "duration": 14,
    "start_time": "2022-01-28T08:11:16.088Z"
   },
   {
    "duration": 4,
    "start_time": "2022-01-28T08:11:22.069Z"
   },
   {
    "duration": 5,
    "start_time": "2022-01-28T08:11:23.180Z"
   },
   {
    "duration": 16,
    "start_time": "2022-01-28T08:11:27.346Z"
   },
   {
    "duration": 3095,
    "start_time": "2022-01-28T08:11:33.654Z"
   },
   {
    "duration": 20,
    "start_time": "2022-01-28T08:40:15.333Z"
   },
   {
    "duration": 5240,
    "start_time": "2022-01-28T08:40:19.227Z"
   },
   {
    "duration": 1974,
    "start_time": "2022-01-28T08:40:47.187Z"
   },
   {
    "duration": 3,
    "start_time": "2022-01-28T09:01:46.351Z"
   },
   {
    "duration": 3245,
    "start_time": "2022-01-28T09:02:36.636Z"
   },
   {
    "duration": 18,
    "start_time": "2022-01-28T09:07:12.585Z"
   },
   {
    "duration": 3214,
    "start_time": "2022-01-28T09:07:38.463Z"
   },
   {
    "duration": 2899,
    "start_time": "2022-01-28T09:08:40.539Z"
   },
   {
    "duration": 1996,
    "start_time": "2022-01-28T09:09:44.575Z"
   },
   {
    "duration": 2919,
    "start_time": "2022-01-28T09:09:59.452Z"
   },
   {
    "duration": 68,
    "start_time": "2022-01-28T09:10:41.113Z"
   },
   {
    "duration": 2055,
    "start_time": "2022-01-28T09:10:50.698Z"
   },
   {
    "duration": 2837,
    "start_time": "2022-01-28T09:15:21.072Z"
   },
   {
    "duration": 1779,
    "start_time": "2022-01-28T09:16:19.081Z"
   },
   {
    "duration": 416,
    "start_time": "2022-01-28T09:28:14.084Z"
   },
   {
    "duration": 642,
    "start_time": "2022-01-28T09:28:29.174Z"
   },
   {
    "duration": 639,
    "start_time": "2022-01-28T09:28:37.974Z"
   },
   {
    "duration": 532,
    "start_time": "2022-01-28T09:32:16.005Z"
   },
   {
    "duration": 822,
    "start_time": "2022-01-28T09:33:59.667Z"
   },
   {
    "duration": 485,
    "start_time": "2022-01-28T09:35:04.455Z"
   },
   {
    "duration": 764,
    "start_time": "2022-01-28T09:35:28.800Z"
   },
   {
    "duration": 465,
    "start_time": "2022-01-28T09:35:37.386Z"
   },
   {
    "duration": 494,
    "start_time": "2022-01-28T09:36:01.014Z"
   },
   {
    "duration": 577,
    "start_time": "2022-01-28T09:36:26.855Z"
   },
   {
    "duration": 388,
    "start_time": "2022-01-28T09:36:53.851Z"
   },
   {
    "duration": 196,
    "start_time": "2022-01-28T09:38:11.812Z"
   },
   {
    "duration": 511,
    "start_time": "2022-01-28T09:38:30.305Z"
   },
   {
    "duration": 522,
    "start_time": "2022-01-28T09:38:49.319Z"
   },
   {
    "duration": 567,
    "start_time": "2022-01-28T09:38:56.307Z"
   },
   {
    "duration": 583,
    "start_time": "2022-01-28T09:39:01.979Z"
   },
   {
    "duration": 204,
    "start_time": "2022-01-28T09:39:27.475Z"
   },
   {
    "duration": 414,
    "start_time": "2022-01-28T09:39:57.020Z"
   },
   {
    "duration": 460,
    "start_time": "2022-01-28T09:40:13.238Z"
   },
   {
    "duration": 1157,
    "start_time": "2022-01-28T09:42:04.218Z"
   },
   {
    "duration": 881,
    "start_time": "2022-01-28T09:43:36.247Z"
   },
   {
    "duration": 504,
    "start_time": "2022-01-28T09:43:44.766Z"
   },
   {
    "duration": 563,
    "start_time": "2022-01-28T09:44:09.646Z"
   },
   {
    "duration": 3771,
    "start_time": "2022-01-28T09:44:31.696Z"
   },
   {
    "duration": 3998,
    "start_time": "2022-01-28T09:45:48.573Z"
   },
   {
    "duration": 4558,
    "start_time": "2022-01-28T09:45:58.051Z"
   },
   {
    "duration": 4084,
    "start_time": "2022-01-28T09:46:10.748Z"
   },
   {
    "duration": 4122,
    "start_time": "2022-01-28T09:49:24.381Z"
   },
   {
    "duration": 4206,
    "start_time": "2022-01-28T09:49:56.210Z"
   },
   {
    "duration": 4519,
    "start_time": "2022-01-28T09:50:03.216Z"
   },
   {
    "duration": 4197,
    "start_time": "2022-01-28T09:50:16.641Z"
   },
   {
    "duration": 4188,
    "start_time": "2022-01-28T09:50:25.357Z"
   },
   {
    "duration": 5893,
    "start_time": "2022-01-28T09:50:38.280Z"
   },
   {
    "duration": 4125,
    "start_time": "2022-01-28T09:50:51.001Z"
   },
   {
    "duration": 82,
    "start_time": "2022-01-28T09:53:21.067Z"
   },
   {
    "duration": 4127,
    "start_time": "2022-01-28T09:53:39.202Z"
   },
   {
    "duration": 5456,
    "start_time": "2022-01-28T09:54:35.583Z"
   },
   {
    "duration": 5742,
    "start_time": "2022-01-28T09:55:36.571Z"
   },
   {
    "duration": 701,
    "start_time": "2022-01-28T09:56:45.500Z"
   },
   {
    "duration": 5357,
    "start_time": "2022-01-28T09:56:58.810Z"
   },
   {
    "duration": 6071,
    "start_time": "2022-01-28T09:57:10.520Z"
   },
   {
    "duration": 5031,
    "start_time": "2022-01-28T09:58:56.894Z"
   },
   {
    "duration": 4695,
    "start_time": "2022-01-28T09:59:12.171Z"
   },
   {
    "duration": 5456,
    "start_time": "2022-01-28T09:59:27.862Z"
   },
   {
    "duration": 4527,
    "start_time": "2022-01-28T09:59:44.890Z"
   },
   {
    "duration": 4337,
    "start_time": "2022-01-28T10:00:03.297Z"
   },
   {
    "duration": 4142,
    "start_time": "2022-01-28T10:04:09.343Z"
   },
   {
    "duration": 4272,
    "start_time": "2022-01-28T10:05:42.901Z"
   },
   {
    "duration": 5,
    "start_time": "2022-01-28T10:13:39.462Z"
   },
   {
    "duration": 25,
    "start_time": "2022-01-28T10:13:50.845Z"
   },
   {
    "duration": 23,
    "start_time": "2022-01-28T10:14:57.193Z"
   },
   {
    "duration": 18,
    "start_time": "2022-01-28T10:16:13.519Z"
   },
   {
    "duration": 26,
    "start_time": "2022-01-28T10:16:43.288Z"
   },
   {
    "duration": 28,
    "start_time": "2022-01-28T10:16:55.862Z"
   },
   {
    "duration": 4190,
    "start_time": "2022-01-28T10:18:08.423Z"
   },
   {
    "duration": 6002,
    "start_time": "2022-01-28T10:42:35.229Z"
   },
   {
    "duration": 37,
    "start_time": "2022-01-28T10:44:25.233Z"
   },
   {
    "duration": 37,
    "start_time": "2022-01-28T10:47:46.569Z"
   },
   {
    "duration": 68,
    "start_time": "2022-01-28T10:49:05.002Z"
   },
   {
    "duration": 28,
    "start_time": "2022-01-28T10:49:35.937Z"
   },
   {
    "duration": 258,
    "start_time": "2022-01-28T11:06:35.341Z"
   },
   {
    "duration": 27,
    "start_time": "2022-01-28T11:07:29.169Z"
   },
   {
    "duration": 5717,
    "start_time": "2022-01-28T11:43:07.521Z"
   },
   {
    "duration": 5585,
    "start_time": "2022-01-28T11:43:24.013Z"
   },
   {
    "duration": 5348,
    "start_time": "2022-01-28T11:43:44.852Z"
   },
   {
    "duration": 17359,
    "start_time": "2022-01-28T11:43:56.136Z"
   },
   {
    "duration": 11288,
    "start_time": "2022-01-28T11:44:27.356Z"
   },
   {
    "duration": 7113,
    "start_time": "2022-01-28T12:15:26.711Z"
   },
   {
    "duration": 5719,
    "start_time": "2022-01-28T12:15:49.295Z"
   },
   {
    "duration": 4645,
    "start_time": "2022-01-28T12:16:00.138Z"
   },
   {
    "duration": 4265,
    "start_time": "2022-01-28T12:16:11.228Z"
   },
   {
    "duration": 4468,
    "start_time": "2022-01-28T12:16:16.522Z"
   },
   {
    "duration": 4,
    "start_time": "2022-01-28T15:49:15.874Z"
   },
   {
    "duration": 1192,
    "start_time": "2022-01-28T15:49:19.232Z"
   },
   {
    "duration": 298,
    "start_time": "2022-01-28T15:49:20.426Z"
   },
   {
    "duration": 216,
    "start_time": "2022-01-28T15:49:20.726Z"
   },
   {
    "duration": 155,
    "start_time": "2022-01-28T15:49:20.944Z"
   },
   {
    "duration": 26,
    "start_time": "2022-01-28T15:49:21.101Z"
   },
   {
    "duration": 61,
    "start_time": "2022-01-28T15:49:21.128Z"
   },
   {
    "duration": 5,
    "start_time": "2022-01-28T15:49:21.190Z"
   },
   {
    "duration": 9,
    "start_time": "2022-01-28T15:49:21.198Z"
   },
   {
    "duration": 45,
    "start_time": "2022-01-28T15:49:21.209Z"
   },
   {
    "duration": 33,
    "start_time": "2022-01-28T15:49:21.259Z"
   },
   {
    "duration": 28,
    "start_time": "2022-01-28T15:49:21.294Z"
   },
   {
    "duration": 9,
    "start_time": "2022-01-28T15:49:21.324Z"
   },
   {
    "duration": 12,
    "start_time": "2022-01-28T15:49:21.359Z"
   },
   {
    "duration": 8,
    "start_time": "2022-01-28T15:49:21.372Z"
   },
   {
    "duration": 8,
    "start_time": "2022-01-28T15:49:21.381Z"
   },
   {
    "duration": 5,
    "start_time": "2022-01-28T15:49:21.391Z"
   },
   {
    "duration": 15,
    "start_time": "2022-01-28T15:49:21.397Z"
   },
   {
    "duration": 47,
    "start_time": "2022-01-28T15:49:21.413Z"
   },
   {
    "duration": 414,
    "start_time": "2022-01-28T15:49:21.462Z"
   },
   {
    "duration": 13,
    "start_time": "2022-01-28T15:49:21.878Z"
   },
   {
    "duration": 3,
    "start_time": "2022-01-28T15:49:21.893Z"
   },
   {
    "duration": 104,
    "start_time": "2022-01-28T15:49:21.898Z"
   },
   {
    "duration": 25,
    "start_time": "2022-01-28T15:49:22.006Z"
   },
   {
    "duration": 45,
    "start_time": "2022-01-28T15:49:22.034Z"
   },
   {
    "duration": 16,
    "start_time": "2022-01-28T15:49:22.081Z"
   },
   {
    "duration": 21,
    "start_time": "2022-01-28T15:49:22.099Z"
   },
   {
    "duration": 39,
    "start_time": "2022-01-28T15:49:22.121Z"
   },
   {
    "duration": 11,
    "start_time": "2022-01-28T15:49:22.162Z"
   },
   {
    "duration": 18,
    "start_time": "2022-01-28T15:49:22.174Z"
   },
   {
    "duration": 9,
    "start_time": "2022-01-28T15:49:22.194Z"
   },
   {
    "duration": 25,
    "start_time": "2022-01-28T15:49:22.204Z"
   },
   {
    "duration": 50,
    "start_time": "2022-01-28T15:49:22.231Z"
   },
   {
    "duration": 6,
    "start_time": "2022-01-28T15:49:22.283Z"
   },
   {
    "duration": 35,
    "start_time": "2022-01-28T15:49:22.291Z"
   },
   {
    "duration": 31,
    "start_time": "2022-01-28T15:49:22.328Z"
   },
   {
    "duration": 36,
    "start_time": "2022-01-28T15:49:22.362Z"
   },
   {
    "duration": 7,
    "start_time": "2022-01-28T15:49:22.400Z"
   },
   {
    "duration": 8,
    "start_time": "2022-01-28T15:49:22.408Z"
   },
   {
    "duration": 45,
    "start_time": "2022-01-28T15:49:22.418Z"
   },
   {
    "duration": 13,
    "start_time": "2022-01-28T15:49:22.465Z"
   },
   {
    "duration": 11,
    "start_time": "2022-01-28T15:49:22.480Z"
   },
   {
    "duration": 17,
    "start_time": "2022-01-28T15:49:22.493Z"
   },
   {
    "duration": 11,
    "start_time": "2022-01-28T15:49:22.513Z"
   },
   {
    "duration": 5,
    "start_time": "2022-01-28T15:49:22.559Z"
   },
   {
    "duration": 10,
    "start_time": "2022-01-28T15:49:22.565Z"
   },
   {
    "duration": 7,
    "start_time": "2022-01-28T15:49:22.576Z"
   },
   {
    "duration": 12,
    "start_time": "2022-01-28T15:49:22.584Z"
   },
   {
    "duration": 12,
    "start_time": "2022-01-28T15:49:22.598Z"
   },
   {
    "duration": 13,
    "start_time": "2022-01-28T15:49:22.612Z"
   },
   {
    "duration": 14,
    "start_time": "2022-01-28T15:49:22.660Z"
   },
   {
    "duration": 5,
    "start_time": "2022-01-28T15:49:22.676Z"
   },
   {
    "duration": 6,
    "start_time": "2022-01-28T15:49:22.682Z"
   },
   {
    "duration": 7,
    "start_time": "2022-01-28T15:49:22.689Z"
   },
   {
    "duration": 27,
    "start_time": "2022-01-28T15:49:22.698Z"
   },
   {
    "duration": 4339,
    "start_time": "2022-01-28T15:49:22.727Z"
   },
   {
    "duration": 3,
    "start_time": "2022-01-28T15:49:27.068Z"
   },
   {
    "duration": 13,
    "start_time": "2022-01-28T16:11:19.837Z"
   },
   {
    "duration": 14,
    "start_time": "2022-01-28T16:16:03.880Z"
   },
   {
    "duration": 222,
    "start_time": "2022-01-28T16:16:38.845Z"
   },
   {
    "duration": 298,
    "start_time": "2022-01-28T16:16:48.012Z"
   },
   {
    "duration": 46,
    "start_time": "2022-01-28T16:17:55.360Z"
   },
   {
    "duration": 6,
    "start_time": "2022-01-28T16:17:59.865Z"
   },
   {
    "duration": 8,
    "start_time": "2022-01-28T16:18:42.086Z"
   },
   {
    "duration": 495,
    "start_time": "2022-01-28T16:20:35.552Z"
   },
   {
    "duration": 210,
    "start_time": "2022-01-28T16:21:16.847Z"
   },
   {
    "duration": 390,
    "start_time": "2022-01-28T16:21:25.318Z"
   },
   {
    "duration": 10,
    "start_time": "2022-01-28T16:22:05.843Z"
   },
   {
    "duration": 12,
    "start_time": "2022-01-28T16:22:30.905Z"
   },
   {
    "duration": 14,
    "start_time": "2022-01-28T16:22:42.475Z"
   },
   {
    "duration": 243,
    "start_time": "2022-01-28T16:22:50.618Z"
   },
   {
    "duration": 300,
    "start_time": "2022-01-28T16:23:01.064Z"
   },
   {
    "duration": 223,
    "start_time": "2022-01-28T16:23:18.112Z"
   },
   {
    "duration": 238,
    "start_time": "2022-01-28T16:23:23.791Z"
   },
   {
    "duration": 23,
    "start_time": "2022-01-28T16:23:56.487Z"
   },
   {
    "duration": 48,
    "start_time": "2022-01-28T16:27:53.137Z"
   },
   {
    "duration": 2648,
    "start_time": "2022-01-28T16:28:08.328Z"
   },
   {
    "duration": 16,
    "start_time": "2022-01-28T16:28:38.686Z"
   },
   {
    "duration": 389,
    "start_time": "2022-01-28T16:29:08.156Z"
   },
   {
    "duration": 15,
    "start_time": "2022-01-28T16:29:30.531Z"
   },
   {
    "duration": 13,
    "start_time": "2022-01-28T16:29:42.579Z"
   },
   {
    "duration": 12,
    "start_time": "2022-01-28T16:29:48.410Z"
   },
   {
    "duration": 1602,
    "start_time": "2022-01-28T16:32:22.538Z"
   },
   {
    "duration": 1233,
    "start_time": "2022-01-28T16:32:37.289Z"
   },
   {
    "duration": 454,
    "start_time": "2022-01-28T16:34:48.674Z"
   },
   {
    "duration": 236,
    "start_time": "2022-01-28T16:34:56.538Z"
   },
   {
    "duration": 164,
    "start_time": "2022-01-28T16:38:37.790Z"
   },
   {
    "duration": 139,
    "start_time": "2022-01-28T16:38:57.118Z"
   },
   {
    "duration": 20,
    "start_time": "2022-01-28T16:39:08.687Z"
   },
   {
    "duration": 347,
    "start_time": "2022-01-28T16:39:36.213Z"
   },
   {
    "duration": 219,
    "start_time": "2022-01-28T16:39:59.020Z"
   },
   {
    "duration": 421,
    "start_time": "2022-01-28T16:40:04.948Z"
   },
   {
    "duration": 226,
    "start_time": "2022-01-28T16:40:08.825Z"
   },
   {
    "duration": 272,
    "start_time": "2022-01-28T16:40:39.032Z"
   },
   {
    "duration": 369,
    "start_time": "2022-01-28T16:40:43.039Z"
   },
   {
    "duration": 15,
    "start_time": "2022-01-28T16:41:16.366Z"
   },
   {
    "duration": 211,
    "start_time": "2022-01-28T16:44:34.971Z"
   },
   {
    "duration": 17,
    "start_time": "2022-01-28T16:45:08.545Z"
   },
   {
    "duration": 15,
    "start_time": "2022-01-28T16:47:26.409Z"
   },
   {
    "duration": 276,
    "start_time": "2022-01-28T16:48:31.286Z"
   },
   {
    "duration": 206,
    "start_time": "2022-01-28T16:48:47.382Z"
   },
   {
    "duration": 19,
    "start_time": "2022-01-28T16:49:59.010Z"
   },
   {
    "duration": 11,
    "start_time": "2022-01-28T16:51:12.755Z"
   },
   {
    "duration": 205,
    "start_time": "2022-01-28T16:56:35.361Z"
   },
   {
    "duration": 219,
    "start_time": "2022-01-28T16:57:13.799Z"
   },
   {
    "duration": 367,
    "start_time": "2022-01-28T16:58:09.196Z"
   },
   {
    "duration": 385,
    "start_time": "2022-01-28T16:58:42.171Z"
   },
   {
    "duration": 229,
    "start_time": "2022-01-28T16:59:06.594Z"
   },
   {
    "duration": 414,
    "start_time": "2022-01-28T16:59:20.472Z"
   },
   {
    "duration": 216,
    "start_time": "2022-01-28T16:59:33.144Z"
   },
   {
    "duration": 212,
    "start_time": "2022-01-28T16:59:46.759Z"
   },
   {
    "duration": 214,
    "start_time": "2022-01-28T17:01:03.513Z"
   },
   {
    "duration": 201,
    "start_time": "2022-01-28T17:01:24.633Z"
   },
   {
    "duration": 286,
    "start_time": "2022-01-28T17:02:41.566Z"
   },
   {
    "duration": 320,
    "start_time": "2022-01-28T17:03:56.856Z"
   },
   {
    "duration": 301,
    "start_time": "2022-01-28T17:04:27.087Z"
   },
   {
    "duration": 303,
    "start_time": "2022-01-28T17:08:24.009Z"
   },
   {
    "duration": 60,
    "start_time": "2022-01-28T17:09:30.021Z"
   },
   {
    "duration": 313,
    "start_time": "2022-01-28T17:09:45.979Z"
   },
   {
    "duration": 908,
    "start_time": "2022-01-28T17:10:00.459Z"
   },
   {
    "duration": 321,
    "start_time": "2022-01-28T17:10:29.346Z"
   },
   {
    "duration": 349,
    "start_time": "2022-01-28T17:10:48.535Z"
   },
   {
    "duration": 345,
    "start_time": "2022-01-28T17:10:55.095Z"
   },
   {
    "duration": 416,
    "start_time": "2022-01-28T17:11:07.638Z"
   },
   {
    "duration": 398,
    "start_time": "2022-01-28T17:11:15.111Z"
   },
   {
    "duration": 405,
    "start_time": "2022-01-28T17:14:02.581Z"
   },
   {
    "duration": 405,
    "start_time": "2022-01-28T17:14:43.810Z"
   },
   {
    "duration": 423,
    "start_time": "2022-01-28T17:15:31.088Z"
   },
   {
    "duration": 307,
    "start_time": "2022-01-28T17:15:59.134Z"
   },
   {
    "duration": 423,
    "start_time": "2022-01-28T17:16:14.791Z"
   },
   {
    "duration": 442,
    "start_time": "2022-01-28T17:16:23.285Z"
   },
   {
    "duration": 410,
    "start_time": "2022-01-28T17:16:33.693Z"
   },
   {
    "duration": 232,
    "start_time": "2022-01-28T17:18:50.293Z"
   },
   {
    "duration": 7,
    "start_time": "2022-01-28T17:18:59.356Z"
   },
   {
    "duration": 11,
    "start_time": "2022-01-28T17:19:05.996Z"
   },
   {
    "duration": 10,
    "start_time": "2022-01-28T17:21:23.109Z"
   },
   {
    "duration": 9,
    "start_time": "2022-01-28T17:21:33.803Z"
   },
   {
    "duration": 9,
    "start_time": "2022-01-28T17:21:39.261Z"
   },
   {
    "duration": 3,
    "start_time": "2022-01-28T17:24:05.347Z"
   },
   {
    "duration": 343,
    "start_time": "2022-01-28T17:24:05.355Z"
   },
   {
    "duration": 224,
    "start_time": "2022-01-28T17:24:05.700Z"
   },
   {
    "duration": 167,
    "start_time": "2022-01-28T17:24:05.926Z"
   },
   {
    "duration": 26,
    "start_time": "2022-01-28T17:24:06.094Z"
   },
   {
    "duration": 53,
    "start_time": "2022-01-28T17:24:06.122Z"
   },
   {
    "duration": 7,
    "start_time": "2022-01-28T17:24:06.177Z"
   },
   {
    "duration": 14,
    "start_time": "2022-01-28T17:24:06.185Z"
   },
   {
    "duration": 63,
    "start_time": "2022-01-28T17:24:06.202Z"
   },
   {
    "duration": 35,
    "start_time": "2022-01-28T17:24:06.267Z"
   },
   {
    "duration": 55,
    "start_time": "2022-01-28T17:24:06.304Z"
   },
   {
    "duration": 10,
    "start_time": "2022-01-28T17:24:06.361Z"
   },
   {
    "duration": 14,
    "start_time": "2022-01-28T17:24:06.373Z"
   },
   {
    "duration": 9,
    "start_time": "2022-01-28T17:24:06.389Z"
   },
   {
    "duration": 9,
    "start_time": "2022-01-28T17:24:06.399Z"
   },
   {
    "duration": 5,
    "start_time": "2022-01-28T17:24:06.410Z"
   },
   {
    "duration": 13,
    "start_time": "2022-01-28T17:24:06.459Z"
   },
   {
    "duration": 14,
    "start_time": "2022-01-28T17:24:06.475Z"
   },
   {
    "duration": 453,
    "start_time": "2022-01-28T17:24:06.491Z"
   },
   {
    "duration": 18,
    "start_time": "2022-01-28T17:24:06.947Z"
   },
   {
    "duration": 4,
    "start_time": "2022-01-28T17:24:06.967Z"
   },
   {
    "duration": 112,
    "start_time": "2022-01-28T17:24:06.973Z"
   },
   {
    "duration": 27,
    "start_time": "2022-01-28T17:24:07.087Z"
   },
   {
    "duration": 41,
    "start_time": "2022-01-28T17:24:07.119Z"
   },
   {
    "duration": 19,
    "start_time": "2022-01-28T17:24:07.163Z"
   },
   {
    "duration": 23,
    "start_time": "2022-01-28T17:24:07.184Z"
   },
   {
    "duration": 52,
    "start_time": "2022-01-28T17:24:07.210Z"
   },
   {
    "duration": 11,
    "start_time": "2022-01-28T17:24:07.264Z"
   },
   {
    "duration": 22,
    "start_time": "2022-01-28T17:24:07.277Z"
   },
   {
    "duration": 11,
    "start_time": "2022-01-28T17:24:07.301Z"
   },
   {
    "duration": 56,
    "start_time": "2022-01-28T17:24:07.314Z"
   },
   {
    "duration": 29,
    "start_time": "2022-01-28T17:24:07.372Z"
   },
   {
    "duration": 7,
    "start_time": "2022-01-28T17:24:07.403Z"
   },
   {
    "duration": 66,
    "start_time": "2022-01-28T17:24:07.411Z"
   },
   {
    "duration": 7,
    "start_time": "2022-01-28T17:24:07.479Z"
   },
   {
    "duration": 43,
    "start_time": "2022-01-28T17:24:07.488Z"
   },
   {
    "duration": 31,
    "start_time": "2022-01-28T17:24:07.532Z"
   },
   {
    "duration": 10,
    "start_time": "2022-01-28T17:24:07.565Z"
   },
   {
    "duration": 9,
    "start_time": "2022-01-28T17:24:07.576Z"
   },
   {
    "duration": 18,
    "start_time": "2022-01-28T17:24:07.586Z"
   },
   {
    "duration": 13,
    "start_time": "2022-01-28T17:24:07.606Z"
   },
   {
    "duration": 39,
    "start_time": "2022-01-28T17:24:07.621Z"
   },
   {
    "duration": 10,
    "start_time": "2022-01-28T17:24:07.662Z"
   },
   {
    "duration": 10,
    "start_time": "2022-01-28T17:24:07.674Z"
   },
   {
    "duration": 24,
    "start_time": "2022-01-28T17:24:07.686Z"
   },
   {
    "duration": 15,
    "start_time": "2022-01-28T17:24:07.711Z"
   },
   {
    "duration": 22,
    "start_time": "2022-01-28T17:24:07.728Z"
   },
   {
    "duration": 20,
    "start_time": "2022-01-28T17:24:07.752Z"
   },
   {
    "duration": 17,
    "start_time": "2022-01-28T17:24:07.775Z"
   },
   {
    "duration": 18,
    "start_time": "2022-01-28T17:24:07.793Z"
   },
   {
    "duration": 4,
    "start_time": "2022-01-28T17:24:07.813Z"
   },
   {
    "duration": 8,
    "start_time": "2022-01-28T17:24:07.818Z"
   },
   {
    "duration": 12,
    "start_time": "2022-01-28T17:24:07.828Z"
   },
   {
    "duration": 8,
    "start_time": "2022-01-28T17:24:07.860Z"
   },
   {
    "duration": 414,
    "start_time": "2022-01-28T17:24:07.870Z"
   },
   {
    "duration": 24,
    "start_time": "2022-01-28T17:24:08.285Z"
   },
   {
    "duration": 4301,
    "start_time": "2022-01-28T17:24:08.311Z"
   },
   {
    "duration": 4,
    "start_time": "2022-01-28T17:24:12.614Z"
   },
   {
    "duration": 3,
    "start_time": "2022-01-28T17:25:27.266Z"
   },
   {
    "duration": 267,
    "start_time": "2022-01-28T17:25:27.275Z"
   },
   {
    "duration": 206,
    "start_time": "2022-01-28T17:25:27.559Z"
   },
   {
    "duration": 137,
    "start_time": "2022-01-28T17:25:27.767Z"
   },
   {
    "duration": 26,
    "start_time": "2022-01-28T17:25:27.906Z"
   },
   {
    "duration": 53,
    "start_time": "2022-01-28T17:25:27.934Z"
   },
   {
    "duration": 5,
    "start_time": "2022-01-28T17:25:27.989Z"
   },
   {
    "duration": 10,
    "start_time": "2022-01-28T17:25:27.996Z"
   },
   {
    "duration": 53,
    "start_time": "2022-01-28T17:25:28.009Z"
   },
   {
    "duration": 36,
    "start_time": "2022-01-28T17:25:28.064Z"
   },
   {
    "duration": 34,
    "start_time": "2022-01-28T17:25:28.102Z"
   },
   {
    "duration": 32,
    "start_time": "2022-01-28T17:25:28.137Z"
   },
   {
    "duration": 16,
    "start_time": "2022-01-28T17:25:28.171Z"
   },
   {
    "duration": 8,
    "start_time": "2022-01-28T17:25:28.189Z"
   },
   {
    "duration": 10,
    "start_time": "2022-01-28T17:25:28.198Z"
   },
   {
    "duration": 3,
    "start_time": "2022-01-28T17:25:28.210Z"
   },
   {
    "duration": 11,
    "start_time": "2022-01-28T17:25:28.259Z"
   },
   {
    "duration": 8,
    "start_time": "2022-01-28T17:25:28.272Z"
   },
   {
    "duration": 416,
    "start_time": "2022-01-28T17:25:28.282Z"
   },
   {
    "duration": 12,
    "start_time": "2022-01-28T17:25:28.699Z"
   },
   {
    "duration": 2,
    "start_time": "2022-01-28T17:25:28.712Z"
   },
   {
    "duration": 108,
    "start_time": "2022-01-28T17:25:28.716Z"
   },
   {
    "duration": 33,
    "start_time": "2022-01-28T17:25:28.826Z"
   },
   {
    "duration": 24,
    "start_time": "2022-01-28T17:25:28.862Z"
   },
   {
    "duration": 17,
    "start_time": "2022-01-28T17:25:28.888Z"
   },
   {
    "duration": 20,
    "start_time": "2022-01-28T17:25:28.906Z"
   },
   {
    "duration": 47,
    "start_time": "2022-01-28T17:25:28.928Z"
   },
   {
    "duration": 10,
    "start_time": "2022-01-28T17:25:28.977Z"
   },
   {
    "duration": 21,
    "start_time": "2022-01-28T17:25:28.988Z"
   },
   {
    "duration": 8,
    "start_time": "2022-01-28T17:25:29.010Z"
   },
   {
    "duration": 21,
    "start_time": "2022-01-28T17:25:29.060Z"
   },
   {
    "duration": 25,
    "start_time": "2022-01-28T17:25:29.083Z"
   },
   {
    "duration": 9,
    "start_time": "2022-01-28T17:25:29.110Z"
   },
   {
    "duration": 66,
    "start_time": "2022-01-28T17:25:29.121Z"
   },
   {
    "duration": 6,
    "start_time": "2022-01-28T17:25:29.189Z"
   },
   {
    "duration": 62,
    "start_time": "2022-01-28T17:25:29.197Z"
   },
   {
    "duration": 7,
    "start_time": "2022-01-28T17:25:29.261Z"
   },
   {
    "duration": 10,
    "start_time": "2022-01-28T17:25:29.270Z"
   },
   {
    "duration": 8,
    "start_time": "2022-01-28T17:25:29.282Z"
   },
   {
    "duration": 8,
    "start_time": "2022-01-28T17:25:29.293Z"
   },
   {
    "duration": 12,
    "start_time": "2022-01-28T17:25:29.303Z"
   },
   {
    "duration": 52,
    "start_time": "2022-01-28T17:25:29.317Z"
   },
   {
    "duration": 11,
    "start_time": "2022-01-28T17:25:29.371Z"
   },
   {
    "duration": 5,
    "start_time": "2022-01-28T17:25:29.383Z"
   },
   {
    "duration": 13,
    "start_time": "2022-01-28T17:25:29.389Z"
   },
   {
    "duration": 7,
    "start_time": "2022-01-28T17:25:29.404Z"
   },
   {
    "duration": 13,
    "start_time": "2022-01-28T17:25:29.413Z"
   },
   {
    "duration": 38,
    "start_time": "2022-01-28T17:25:29.428Z"
   },
   {
    "duration": 12,
    "start_time": "2022-01-28T17:25:29.469Z"
   },
   {
    "duration": 12,
    "start_time": "2022-01-28T17:25:29.483Z"
   },
   {
    "duration": 4,
    "start_time": "2022-01-28T17:25:29.496Z"
   },
   {
    "duration": 5,
    "start_time": "2022-01-28T17:25:29.502Z"
   },
   {
    "duration": 12,
    "start_time": "2022-01-28T17:25:29.509Z"
   },
   {
    "duration": 40,
    "start_time": "2022-01-28T17:25:29.522Z"
   },
   {
    "duration": 413,
    "start_time": "2022-01-28T17:25:29.564Z"
   },
   {
    "duration": 1156,
    "start_time": "2022-01-28T17:25:42.769Z"
   },
   {
    "duration": 298,
    "start_time": "2022-01-28T17:25:43.927Z"
   },
   {
    "duration": 209,
    "start_time": "2022-01-28T17:25:44.227Z"
   },
   {
    "duration": 144,
    "start_time": "2022-01-28T17:25:44.438Z"
   },
   {
    "duration": 25,
    "start_time": "2022-01-28T17:25:44.584Z"
   },
   {
    "duration": 53,
    "start_time": "2022-01-28T17:25:44.610Z"
   },
   {
    "duration": 7,
    "start_time": "2022-01-28T17:25:44.665Z"
   },
   {
    "duration": 9,
    "start_time": "2022-01-28T17:25:44.674Z"
   },
   {
    "duration": 44,
    "start_time": "2022-01-28T17:25:44.685Z"
   },
   {
    "duration": 61,
    "start_time": "2022-01-28T17:25:44.731Z"
   },
   {
    "duration": 31,
    "start_time": "2022-01-28T17:25:44.795Z"
   },
   {
    "duration": 40,
    "start_time": "2022-01-28T17:25:44.828Z"
   },
   {
    "duration": 10,
    "start_time": "2022-01-28T17:25:44.870Z"
   },
   {
    "duration": 7,
    "start_time": "2022-01-28T17:25:44.882Z"
   },
   {
    "duration": 9,
    "start_time": "2022-01-28T17:25:44.891Z"
   },
   {
    "duration": 5,
    "start_time": "2022-01-28T17:25:44.902Z"
   },
   {
    "duration": 53,
    "start_time": "2022-01-28T17:25:44.908Z"
   },
   {
    "duration": 7,
    "start_time": "2022-01-28T17:25:44.963Z"
   },
   {
    "duration": 452,
    "start_time": "2022-01-28T17:25:44.972Z"
   },
   {
    "duration": 14,
    "start_time": "2022-01-28T17:25:45.426Z"
   },
   {
    "duration": 19,
    "start_time": "2022-01-28T17:25:45.441Z"
   },
   {
    "duration": 101,
    "start_time": "2022-01-28T17:25:45.462Z"
   },
   {
    "duration": 24,
    "start_time": "2022-01-28T17:25:45.567Z"
   },
   {
    "duration": 28,
    "start_time": "2022-01-28T17:25:45.593Z"
   },
   {
    "duration": 49,
    "start_time": "2022-01-28T17:25:45.622Z"
   },
   {
    "duration": 21,
    "start_time": "2022-01-28T17:25:45.672Z"
   },
   {
    "duration": 19,
    "start_time": "2022-01-28T17:25:45.695Z"
   },
   {
    "duration": 11,
    "start_time": "2022-01-28T17:25:45.716Z"
   },
   {
    "duration": 49,
    "start_time": "2022-01-28T17:25:45.728Z"
   },
   {
    "duration": 8,
    "start_time": "2022-01-28T17:25:45.779Z"
   },
   {
    "duration": 23,
    "start_time": "2022-01-28T17:25:45.789Z"
   },
   {
    "duration": 58,
    "start_time": "2022-01-28T17:25:45.813Z"
   },
   {
    "duration": 6,
    "start_time": "2022-01-28T17:25:45.873Z"
   },
   {
    "duration": 31,
    "start_time": "2022-01-28T17:25:45.881Z"
   },
   {
    "duration": 6,
    "start_time": "2022-01-28T17:25:45.913Z"
   },
   {
    "duration": 35,
    "start_time": "2022-01-28T17:25:45.959Z"
   },
   {
    "duration": 5,
    "start_time": "2022-01-28T17:25:45.996Z"
   },
   {
    "duration": 8,
    "start_time": "2022-01-28T17:25:46.003Z"
   },
   {
    "duration": 8,
    "start_time": "2022-01-28T17:25:46.012Z"
   },
   {
    "duration": 43,
    "start_time": "2022-01-28T17:25:46.022Z"
   },
   {
    "duration": 11,
    "start_time": "2022-01-28T17:25:46.067Z"
   },
   {
    "duration": 17,
    "start_time": "2022-01-28T17:25:46.080Z"
   },
   {
    "duration": 12,
    "start_time": "2022-01-28T17:25:46.099Z"
   },
   {
    "duration": 4,
    "start_time": "2022-01-28T17:25:46.113Z"
   },
   {
    "duration": 46,
    "start_time": "2022-01-28T17:25:46.119Z"
   },
   {
    "duration": 8,
    "start_time": "2022-01-28T17:25:46.167Z"
   },
   {
    "duration": 11,
    "start_time": "2022-01-28T17:25:46.176Z"
   },
   {
    "duration": 13,
    "start_time": "2022-01-28T17:25:46.189Z"
   },
   {
    "duration": 13,
    "start_time": "2022-01-28T17:25:46.203Z"
   },
   {
    "duration": 12,
    "start_time": "2022-01-28T17:25:46.259Z"
   },
   {
    "duration": 3,
    "start_time": "2022-01-28T17:25:46.273Z"
   },
   {
    "duration": 6,
    "start_time": "2022-01-28T17:25:46.278Z"
   },
   {
    "duration": 10,
    "start_time": "2022-01-28T17:25:46.285Z"
   },
   {
    "duration": 227,
    "start_time": "2022-01-28T17:25:46.297Z"
   },
   {
    "duration": -653,
    "start_time": "2022-01-28T17:25:47.179Z"
   },
   {
    "duration": 9,
    "start_time": "2022-01-28T17:28:15.265Z"
   },
   {
    "duration": 10,
    "start_time": "2022-01-28T17:28:20.376Z"
   },
   {
    "duration": 6,
    "start_time": "2022-01-28T17:29:30.621Z"
   },
   {
    "duration": 391,
    "start_time": "2022-01-28T17:30:14.049Z"
   },
   {
    "duration": 5,
    "start_time": "2022-01-28T17:40:56.197Z"
   },
   {
    "duration": 4,
    "start_time": "2022-01-28T17:41:02.604Z"
   },
   {
    "duration": 229,
    "start_time": "2022-01-28T17:53:42.546Z"
   },
   {
    "duration": 399,
    "start_time": "2022-01-28T17:56:49.448Z"
   },
   {
    "duration": 47,
    "start_time": "2022-01-28T18:17:28.617Z"
   },
   {
    "duration": 6,
    "start_time": "2022-01-28T18:17:43.793Z"
   },
   {
    "duration": 49,
    "start_time": "2022-01-28T18:19:26.643Z"
   },
   {
    "duration": 7,
    "start_time": "2022-01-28T18:19:52.002Z"
   },
   {
    "duration": 228,
    "start_time": "2022-01-28T18:20:34.103Z"
   },
   {
    "duration": 6,
    "start_time": "2022-01-28T18:20:49.120Z"
   },
   {
    "duration": 6,
    "start_time": "2022-01-28T18:21:49.220Z"
   },
   {
    "duration": 7,
    "start_time": "2022-01-28T18:26:28.219Z"
   },
   {
    "duration": 9,
    "start_time": "2022-01-28T18:27:00.169Z"
   },
   {
    "duration": 9,
    "start_time": "2022-01-28T18:27:51.183Z"
   },
   {
    "duration": 10,
    "start_time": "2022-01-28T18:28:42.483Z"
   },
   {
    "duration": 9,
    "start_time": "2022-01-28T18:29:04.107Z"
   },
   {
    "duration": 3,
    "start_time": "2022-01-28T18:32:23.065Z"
   },
   {
    "duration": 5,
    "start_time": "2022-01-28T18:32:30.030Z"
   },
   {
    "duration": 5,
    "start_time": "2022-01-28T18:33:04.813Z"
   },
   {
    "duration": 6,
    "start_time": "2022-01-28T18:34:01.106Z"
   },
   {
    "duration": 6,
    "start_time": "2022-01-28T18:34:21.584Z"
   },
   {
    "duration": 7,
    "start_time": "2022-01-28T18:34:34.808Z"
   },
   {
    "duration": 42,
    "start_time": "2022-01-28T18:35:52.995Z"
   },
   {
    "duration": 8,
    "start_time": "2022-01-28T18:36:01.268Z"
   },
   {
    "duration": 22,
    "start_time": "2022-01-28T18:37:27.007Z"
   },
   {
    "duration": 13,
    "start_time": "2022-01-28T18:37:46.013Z"
   },
   {
    "duration": 9,
    "start_time": "2022-01-28T18:38:13.372Z"
   },
   {
    "duration": 40,
    "start_time": "2022-01-28T18:39:07.496Z"
   },
   {
    "duration": 394,
    "start_time": "2022-01-28T18:47:26.229Z"
   },
   {
    "duration": 1057,
    "start_time": "2022-01-28T18:47:49.307Z"
   },
   {
    "duration": 421,
    "start_time": "2022-01-28T18:47:59.267Z"
   },
   {
    "duration": 601,
    "start_time": "2022-01-28T18:49:43.364Z"
   },
   {
    "duration": 497,
    "start_time": "2022-01-28T18:50:22.122Z"
   },
   {
    "duration": 493,
    "start_time": "2022-01-28T18:50:28.842Z"
   },
   {
    "duration": 511,
    "start_time": "2022-01-28T18:50:37.741Z"
   },
   {
    "duration": 512,
    "start_time": "2022-01-28T18:51:15.464Z"
   },
   {
    "duration": 340,
    "start_time": "2022-01-28T18:51:56.861Z"
   },
   {
    "duration": 596,
    "start_time": "2022-01-28T18:54:08.727Z"
   },
   {
    "duration": 332,
    "start_time": "2022-01-28T18:55:40.208Z"
   },
   {
    "duration": 543,
    "start_time": "2022-01-28T18:56:03.097Z"
   },
   {
    "duration": 514,
    "start_time": "2022-01-28T18:58:18.055Z"
   },
   {
    "duration": 4,
    "start_time": "2022-01-28T19:12:58.076Z"
   },
   {
    "duration": 7,
    "start_time": "2022-01-28T19:13:47.977Z"
   },
   {
    "duration": 8,
    "start_time": "2022-01-28T19:14:11.831Z"
   },
   {
    "duration": 1110,
    "start_time": "2022-01-28T19:14:39.103Z"
   },
   {
    "duration": 287,
    "start_time": "2022-01-28T19:14:40.215Z"
   },
   {
    "duration": 203,
    "start_time": "2022-01-28T19:14:40.504Z"
   },
   {
    "duration": 136,
    "start_time": "2022-01-28T19:14:40.709Z"
   },
   {
    "duration": 25,
    "start_time": "2022-01-28T19:14:40.859Z"
   },
   {
    "duration": 82,
    "start_time": "2022-01-28T19:14:40.886Z"
   },
   {
    "duration": 6,
    "start_time": "2022-01-28T19:14:40.969Z"
   },
   {
    "duration": 8,
    "start_time": "2022-01-28T19:14:40.977Z"
   },
   {
    "duration": 44,
    "start_time": "2022-01-28T19:14:40.988Z"
   },
   {
    "duration": 58,
    "start_time": "2022-01-28T19:14:41.034Z"
   },
   {
    "duration": 27,
    "start_time": "2022-01-28T19:14:41.094Z"
   },
   {
    "duration": 11,
    "start_time": "2022-01-28T19:14:41.123Z"
   },
   {
    "duration": 35,
    "start_time": "2022-01-28T19:14:41.135Z"
   },
   {
    "duration": 11,
    "start_time": "2022-01-28T19:14:41.172Z"
   },
   {
    "duration": 12,
    "start_time": "2022-01-28T19:14:41.184Z"
   },
   {
    "duration": 5,
    "start_time": "2022-01-28T19:14:41.198Z"
   },
   {
    "duration": 14,
    "start_time": "2022-01-28T19:14:41.205Z"
   },
   {
    "duration": 44,
    "start_time": "2022-01-28T19:14:41.221Z"
   },
   {
    "duration": 425,
    "start_time": "2022-01-28T19:14:41.267Z"
   },
   {
    "duration": 15,
    "start_time": "2022-01-28T19:14:41.694Z"
   },
   {
    "duration": 4,
    "start_time": "2022-01-28T19:14:41.711Z"
   },
   {
    "duration": 117,
    "start_time": "2022-01-28T19:14:41.717Z"
   },
   {
    "duration": 33,
    "start_time": "2022-01-28T19:14:41.839Z"
   },
   {
    "duration": 26,
    "start_time": "2022-01-28T19:14:41.874Z"
   },
   {
    "duration": 18,
    "start_time": "2022-01-28T19:14:41.902Z"
   },
   {
    "duration": 43,
    "start_time": "2022-01-28T19:14:41.921Z"
   },
   {
    "duration": 22,
    "start_time": "2022-01-28T19:14:41.966Z"
   },
   {
    "duration": 15,
    "start_time": "2022-01-28T19:14:41.990Z"
   },
   {
    "duration": 20,
    "start_time": "2022-01-28T19:14:42.007Z"
   },
   {
    "duration": 10,
    "start_time": "2022-01-28T19:14:42.059Z"
   },
   {
    "duration": 31,
    "start_time": "2022-01-28T19:14:42.071Z"
   },
   {
    "duration": 27,
    "start_time": "2022-01-28T19:14:42.104Z"
   },
   {
    "duration": 31,
    "start_time": "2022-01-28T19:14:42.132Z"
   },
   {
    "duration": 29,
    "start_time": "2022-01-28T19:14:42.165Z"
   },
   {
    "duration": 6,
    "start_time": "2022-01-28T19:14:42.196Z"
   },
   {
    "duration": 64,
    "start_time": "2022-01-28T19:14:42.204Z"
   },
   {
    "duration": 7,
    "start_time": "2022-01-28T19:14:42.269Z"
   },
   {
    "duration": 9,
    "start_time": "2022-01-28T19:14:42.277Z"
   },
   {
    "duration": 9,
    "start_time": "2022-01-28T19:14:42.287Z"
   },
   {
    "duration": 12,
    "start_time": "2022-01-28T19:14:42.298Z"
   },
   {
    "duration": 10,
    "start_time": "2022-01-28T19:14:42.312Z"
   },
   {
    "duration": 46,
    "start_time": "2022-01-28T19:14:42.323Z"
   },
   {
    "duration": 12,
    "start_time": "2022-01-28T19:14:42.371Z"
   },
   {
    "duration": 4,
    "start_time": "2022-01-28T19:14:42.385Z"
   },
   {
    "duration": 10,
    "start_time": "2022-01-28T19:14:42.391Z"
   },
   {
    "duration": 8,
    "start_time": "2022-01-28T19:14:42.403Z"
   },
   {
    "duration": 13,
    "start_time": "2022-01-28T19:14:42.412Z"
   },
   {
    "duration": 43,
    "start_time": "2022-01-28T19:14:42.427Z"
   },
   {
    "duration": 11,
    "start_time": "2022-01-28T19:14:42.471Z"
   },
   {
    "duration": 11,
    "start_time": "2022-01-28T19:14:42.484Z"
   },
   {
    "duration": 3,
    "start_time": "2022-01-28T19:14:42.497Z"
   },
   {
    "duration": 8,
    "start_time": "2022-01-28T19:14:42.502Z"
   },
   {
    "duration": 8,
    "start_time": "2022-01-28T19:14:42.511Z"
   },
   {
    "duration": 44,
    "start_time": "2022-01-28T19:14:42.520Z"
   },
   {
    "duration": 9,
    "start_time": "2022-01-28T19:14:42.566Z"
   },
   {
    "duration": 18,
    "start_time": "2022-01-28T19:14:42.576Z"
   },
   {
    "duration": 6,
    "start_time": "2022-01-28T19:14:42.596Z"
   },
   {
    "duration": 9,
    "start_time": "2022-01-28T19:14:42.603Z"
   },
   {
    "duration": 3,
    "start_time": "2022-01-28T19:15:23.262Z"
   },
   {
    "duration": 2460,
    "start_time": "2022-01-28T19:15:45.581Z"
   },
   {
    "duration": 2388,
    "start_time": "2022-01-28T19:16:43.674Z"
   },
   {
    "duration": 2362,
    "start_time": "2022-01-28T19:16:56.585Z"
   },
   {
    "duration": 5,
    "start_time": "2022-01-28T19:17:36.277Z"
   },
   {
    "duration": 1227,
    "start_time": "2022-01-28T19:18:02.227Z"
   },
   {
    "duration": 311,
    "start_time": "2022-01-28T19:18:03.456Z"
   },
   {
    "duration": 248,
    "start_time": "2022-01-28T19:18:03.769Z"
   },
   {
    "duration": 159,
    "start_time": "2022-01-28T19:18:04.019Z"
   },
   {
    "duration": 30,
    "start_time": "2022-01-28T19:18:04.180Z"
   },
   {
    "duration": 93,
    "start_time": "2022-01-28T19:18:04.212Z"
   },
   {
    "duration": 7,
    "start_time": "2022-01-28T19:18:04.307Z"
   },
   {
    "duration": 10,
    "start_time": "2022-01-28T19:18:04.317Z"
   },
   {
    "duration": 60,
    "start_time": "2022-01-28T19:18:04.329Z"
   },
   {
    "duration": 41,
    "start_time": "2022-01-28T19:18:04.390Z"
   },
   {
    "duration": 46,
    "start_time": "2022-01-28T19:18:04.433Z"
   },
   {
    "duration": 15,
    "start_time": "2022-01-28T19:18:04.481Z"
   },
   {
    "duration": 20,
    "start_time": "2022-01-28T19:18:04.498Z"
   },
   {
    "duration": 6,
    "start_time": "2022-01-28T19:18:04.520Z"
   },
   {
    "duration": 38,
    "start_time": "2022-01-28T19:18:04.528Z"
   },
   {
    "duration": 5,
    "start_time": "2022-01-28T19:18:04.568Z"
   },
   {
    "duration": 14,
    "start_time": "2022-01-28T19:18:04.575Z"
   },
   {
    "duration": 7,
    "start_time": "2022-01-28T19:18:04.591Z"
   },
   {
    "duration": 455,
    "start_time": "2022-01-28T19:18:04.599Z"
   },
   {
    "duration": 15,
    "start_time": "2022-01-28T19:18:05.059Z"
   },
   {
    "duration": 3,
    "start_time": "2022-01-28T19:18:05.076Z"
   },
   {
    "duration": 112,
    "start_time": "2022-01-28T19:18:05.081Z"
   },
   {
    "duration": 24,
    "start_time": "2022-01-28T19:18:05.196Z"
   },
   {
    "duration": 40,
    "start_time": "2022-01-28T19:18:05.223Z"
   },
   {
    "duration": 17,
    "start_time": "2022-01-28T19:18:05.265Z"
   },
   {
    "duration": 21,
    "start_time": "2022-01-28T19:18:05.284Z"
   },
   {
    "duration": 20,
    "start_time": "2022-01-28T19:18:05.307Z"
   },
   {
    "duration": 43,
    "start_time": "2022-01-28T19:18:05.328Z"
   },
   {
    "duration": 21,
    "start_time": "2022-01-28T19:18:05.373Z"
   },
   {
    "duration": 10,
    "start_time": "2022-01-28T19:18:05.396Z"
   },
   {
    "duration": 57,
    "start_time": "2022-01-28T19:18:05.408Z"
   },
   {
    "duration": 28,
    "start_time": "2022-01-28T19:18:05.468Z"
   },
   {
    "duration": 9,
    "start_time": "2022-01-28T19:18:05.499Z"
   },
   {
    "duration": 65,
    "start_time": "2022-01-28T19:18:05.510Z"
   },
   {
    "duration": 7,
    "start_time": "2022-01-28T19:18:05.576Z"
   },
   {
    "duration": 44,
    "start_time": "2022-01-28T19:18:05.585Z"
   },
   {
    "duration": 32,
    "start_time": "2022-01-28T19:18:05.630Z"
   },
   {
    "duration": 11,
    "start_time": "2022-01-28T19:18:05.665Z"
   },
   {
    "duration": 14,
    "start_time": "2022-01-28T19:18:05.678Z"
   },
   {
    "duration": 16,
    "start_time": "2022-01-28T19:18:05.694Z"
   },
   {
    "duration": 12,
    "start_time": "2022-01-28T19:18:05.712Z"
   },
   {
    "duration": 37,
    "start_time": "2022-01-28T19:18:05.726Z"
   },
   {
    "duration": 13,
    "start_time": "2022-01-28T19:18:05.764Z"
   },
   {
    "duration": 7,
    "start_time": "2022-01-28T19:18:05.779Z"
   },
   {
    "duration": 14,
    "start_time": "2022-01-28T19:18:05.788Z"
   },
   {
    "duration": 7,
    "start_time": "2022-01-28T19:18:05.804Z"
   },
   {
    "duration": 16,
    "start_time": "2022-01-28T19:18:05.812Z"
   },
   {
    "duration": 46,
    "start_time": "2022-01-28T19:18:05.830Z"
   },
   {
    "duration": 24,
    "start_time": "2022-01-28T19:18:05.878Z"
   },
   {
    "duration": 22,
    "start_time": "2022-01-28T19:18:05.904Z"
   },
   {
    "duration": 8,
    "start_time": "2022-01-28T19:18:05.927Z"
   },
   {
    "duration": 7,
    "start_time": "2022-01-28T19:18:05.937Z"
   },
   {
    "duration": 4,
    "start_time": "2022-01-28T19:18:05.960Z"
   },
   {
    "duration": 17,
    "start_time": "2022-01-28T19:18:05.966Z"
   },
   {
    "duration": 11,
    "start_time": "2022-01-28T19:18:05.985Z"
   },
   {
    "duration": 16,
    "start_time": "2022-01-28T19:18:05.998Z"
   },
   {
    "duration": 4,
    "start_time": "2022-01-28T19:18:06.016Z"
   },
   {
    "duration": 2563,
    "start_time": "2022-01-28T19:18:12.910Z"
   },
   {
    "duration": 8,
    "start_time": "2022-01-28T19:20:18.248Z"
   },
   {
    "duration": 5,
    "start_time": "2022-01-28T19:23:02.508Z"
   },
   {
    "duration": 9,
    "start_time": "2022-01-28T19:23:32.795Z"
   },
   {
    "duration": 517,
    "start_time": "2022-01-28T19:23:43.970Z"
   },
   {
    "duration": 141,
    "start_time": "2022-01-28T19:24:49.430Z"
   },
   {
    "duration": 165,
    "start_time": "2022-01-28T19:25:08.382Z"
   },
   {
    "duration": 146,
    "start_time": "2022-01-28T19:26:55.383Z"
   },
   {
    "duration": 3,
    "start_time": "2022-01-28T19:27:17.191Z"
   },
   {
    "duration": 134,
    "start_time": "2022-01-28T19:27:29.260Z"
   },
   {
    "duration": 9,
    "start_time": "2022-01-28T19:27:42.052Z"
   },
   {
    "duration": 206,
    "start_time": "2022-01-28T19:27:55.171Z"
   },
   {
    "duration": 11,
    "start_time": "2022-01-28T19:28:25.778Z"
   },
   {
    "duration": 13,
    "start_time": "2022-01-28T19:28:30.561Z"
   },
   {
    "duration": 13,
    "start_time": "2022-01-28T19:29:55.676Z"
   },
   {
    "duration": 21,
    "start_time": "2022-01-28T19:30:02.172Z"
   },
   {
    "duration": 13,
    "start_time": "2022-01-28T19:30:08.604Z"
   },
   {
    "duration": 8,
    "start_time": "2022-01-28T19:30:39.530Z"
   },
   {
    "duration": 16,
    "start_time": "2022-01-28T19:30:45.369Z"
   },
   {
    "duration": 9,
    "start_time": "2022-01-28T19:31:58.573Z"
   },
   {
    "duration": 7,
    "start_time": "2022-01-28T19:32:09.053Z"
   },
   {
    "duration": 9,
    "start_time": "2022-01-28T19:32:37.499Z"
   },
   {
    "duration": 444,
    "start_time": "2022-01-28T19:34:18.141Z"
   },
   {
    "duration": 446,
    "start_time": "2022-01-28T19:35:34.626Z"
   },
   {
    "duration": 138,
    "start_time": "2022-01-28T19:48:02.646Z"
   },
   {
    "duration": 176,
    "start_time": "2022-01-28T19:48:08.326Z"
   },
   {
    "duration": 191,
    "start_time": "2022-01-28T19:48:37.992Z"
   },
   {
    "duration": 321,
    "start_time": "2022-01-28T19:50:13.031Z"
   },
   {
    "duration": 282,
    "start_time": "2022-01-28T19:50:17.973Z"
   },
   {
    "duration": 402,
    "start_time": "2022-01-28T20:05:04.171Z"
   },
   {
    "duration": 371,
    "start_time": "2022-01-28T20:05:09.747Z"
   },
   {
    "duration": 360,
    "start_time": "2022-01-28T20:05:17.331Z"
   },
   {
    "duration": 343,
    "start_time": "2022-01-28T20:05:26.458Z"
   },
   {
    "duration": 379,
    "start_time": "2022-01-28T20:05:35.546Z"
   },
   {
    "duration": 3,
    "start_time": "2022-01-28T20:22:23.189Z"
   },
   {
    "duration": 284,
    "start_time": "2022-01-28T20:22:23.195Z"
   },
   {
    "duration": 219,
    "start_time": "2022-01-28T20:22:23.480Z"
   },
   {
    "duration": 136,
    "start_time": "2022-01-28T20:22:23.701Z"
   },
   {
    "duration": 27,
    "start_time": "2022-01-28T20:22:23.839Z"
   },
   {
    "duration": 53,
    "start_time": "2022-01-28T20:22:23.868Z"
   },
   {
    "duration": 6,
    "start_time": "2022-01-28T20:22:23.922Z"
   },
   {
    "duration": 9,
    "start_time": "2022-01-28T20:22:23.930Z"
   },
   {
    "duration": 47,
    "start_time": "2022-01-28T20:22:23.941Z"
   },
   {
    "duration": 35,
    "start_time": "2022-01-28T20:22:23.990Z"
   },
   {
    "duration": 51,
    "start_time": "2022-01-28T20:22:24.026Z"
   },
   {
    "duration": 11,
    "start_time": "2022-01-28T20:22:24.078Z"
   },
   {
    "duration": 18,
    "start_time": "2022-01-28T20:22:24.090Z"
   },
   {
    "duration": 8,
    "start_time": "2022-01-28T20:22:24.110Z"
   },
   {
    "duration": 9,
    "start_time": "2022-01-28T20:22:24.120Z"
   },
   {
    "duration": 5,
    "start_time": "2022-01-28T20:22:24.159Z"
   },
   {
    "duration": 15,
    "start_time": "2022-01-28T20:22:24.166Z"
   },
   {
    "duration": 16,
    "start_time": "2022-01-28T20:22:24.183Z"
   },
   {
    "duration": 413,
    "start_time": "2022-01-28T20:22:24.201Z"
   },
   {
    "duration": 13,
    "start_time": "2022-01-28T20:22:24.616Z"
   },
   {
    "duration": 3,
    "start_time": "2022-01-28T20:22:24.631Z"
   },
   {
    "duration": 105,
    "start_time": "2022-01-28T20:22:24.636Z"
   },
   {
    "duration": 28,
    "start_time": "2022-01-28T20:22:24.743Z"
   },
   {
    "duration": 27,
    "start_time": "2022-01-28T20:22:24.774Z"
   },
   {
    "duration": 17,
    "start_time": "2022-01-28T20:22:24.803Z"
   },
   {
    "duration": 48,
    "start_time": "2022-01-28T20:22:24.822Z"
   },
   {
    "duration": 18,
    "start_time": "2022-01-28T20:22:24.871Z"
   },
   {
    "duration": 9,
    "start_time": "2022-01-28T20:22:24.891Z"
   },
   {
    "duration": 20,
    "start_time": "2022-01-28T20:22:24.901Z"
   },
   {
    "duration": 38,
    "start_time": "2022-01-28T20:22:24.922Z"
   },
   {
    "duration": 20,
    "start_time": "2022-01-28T20:22:24.962Z"
   },
   {
    "duration": 28,
    "start_time": "2022-01-28T20:22:24.984Z"
   },
   {
    "duration": 8,
    "start_time": "2022-01-28T20:22:25.013Z"
   },
   {
    "duration": 72,
    "start_time": "2022-01-28T20:22:25.022Z"
   },
   {
    "duration": 6,
    "start_time": "2022-01-28T20:22:25.096Z"
   },
   {
    "duration": 42,
    "start_time": "2022-01-28T20:22:25.104Z"
   },
   {
    "duration": 16,
    "start_time": "2022-01-28T20:22:25.147Z"
   },
   {
    "duration": 14,
    "start_time": "2022-01-28T20:22:25.165Z"
   },
   {
    "duration": 14,
    "start_time": "2022-01-28T20:22:25.181Z"
   },
   {
    "duration": 16,
    "start_time": "2022-01-28T20:22:25.197Z"
   },
   {
    "duration": 11,
    "start_time": "2022-01-28T20:22:25.215Z"
   },
   {
    "duration": 32,
    "start_time": "2022-01-28T20:22:25.228Z"
   },
   {
    "duration": 11,
    "start_time": "2022-01-28T20:22:25.262Z"
   },
   {
    "duration": 8,
    "start_time": "2022-01-28T20:22:25.275Z"
   },
   {
    "duration": 10,
    "start_time": "2022-01-28T20:22:25.284Z"
   },
   {
    "duration": 8,
    "start_time": "2022-01-28T20:22:25.296Z"
   },
   {
    "duration": 11,
    "start_time": "2022-01-28T20:22:25.306Z"
   },
   {
    "duration": 49,
    "start_time": "2022-01-28T20:22:25.319Z"
   },
   {
    "duration": 12,
    "start_time": "2022-01-28T20:22:25.370Z"
   },
   {
    "duration": 12,
    "start_time": "2022-01-28T20:22:25.384Z"
   },
   {
    "duration": 4,
    "start_time": "2022-01-28T20:22:25.398Z"
   },
   {
    "duration": 13,
    "start_time": "2022-01-28T20:22:25.404Z"
   },
   {
    "duration": 12,
    "start_time": "2022-01-28T20:22:25.419Z"
   },
   {
    "duration": 31,
    "start_time": "2022-01-28T20:22:25.433Z"
   },
   {
    "duration": 4,
    "start_time": "2022-01-28T20:22:25.466Z"
   },
   {
    "duration": 14,
    "start_time": "2022-01-28T20:22:25.472Z"
   },
   {
    "duration": 16,
    "start_time": "2022-01-28T20:22:25.488Z"
   },
   {
    "duration": 15,
    "start_time": "2022-01-28T20:22:25.506Z"
   },
   {
    "duration": 12,
    "start_time": "2022-01-28T20:22:25.523Z"
   },
   {
    "duration": 370,
    "start_time": "2022-01-28T20:22:25.537Z"
   },
   {
    "duration": 9,
    "start_time": "2022-01-28T20:22:25.909Z"
   },
   {
    "duration": 6,
    "start_time": "2022-01-28T20:22:25.919Z"
   },
   {
    "duration": 9,
    "start_time": "2022-01-28T20:22:30.550Z"
   },
   {
    "duration": 8,
    "start_time": "2022-01-28T20:23:00.957Z"
   },
   {
    "duration": 10,
    "start_time": "2022-01-28T20:24:35.471Z"
   },
   {
    "duration": 377,
    "start_time": "2022-01-28T20:25:04.445Z"
   },
   {
    "duration": 337,
    "start_time": "2022-01-28T20:25:17.077Z"
   },
   {
    "duration": 438,
    "start_time": "2022-01-28T20:25:45.475Z"
   },
   {
    "duration": 539,
    "start_time": "2022-01-28T20:25:53.570Z"
   },
   {
    "duration": 331,
    "start_time": "2022-01-28T20:26:00.083Z"
   },
   {
    "duration": 369,
    "start_time": "2022-01-28T20:26:07.609Z"
   },
   {
    "duration": 8,
    "start_time": "2022-01-28T20:26:19.657Z"
   },
   {
    "duration": 10,
    "start_time": "2022-01-28T20:26:30.521Z"
   },
   {
    "duration": 274,
    "start_time": "2022-01-28T20:27:13.533Z"
   },
   {
    "duration": 244,
    "start_time": "2022-01-28T20:27:30.189Z"
   },
   {
    "duration": 322,
    "start_time": "2022-01-28T20:28:34.418Z"
   },
   {
    "duration": 1218,
    "start_time": "2022-01-28T20:31:04.067Z"
   },
   {
    "duration": 314,
    "start_time": "2022-01-28T20:31:05.289Z"
   },
   {
    "duration": 229,
    "start_time": "2022-01-28T20:31:05.605Z"
   },
   {
    "duration": 157,
    "start_time": "2022-01-28T20:31:05.836Z"
   },
   {
    "duration": 33,
    "start_time": "2022-01-28T20:31:05.995Z"
   },
   {
    "duration": 65,
    "start_time": "2022-01-28T20:31:06.029Z"
   },
   {
    "duration": 6,
    "start_time": "2022-01-28T20:31:06.096Z"
   },
   {
    "duration": 13,
    "start_time": "2022-01-28T20:31:06.105Z"
   },
   {
    "duration": 68,
    "start_time": "2022-01-28T20:31:06.120Z"
   },
   {
    "duration": 34,
    "start_time": "2022-01-28T20:31:06.189Z"
   },
   {
    "duration": 41,
    "start_time": "2022-01-28T20:31:06.225Z"
   },
   {
    "duration": 12,
    "start_time": "2022-01-28T20:31:06.268Z"
   },
   {
    "duration": 18,
    "start_time": "2022-01-28T20:31:06.282Z"
   },
   {
    "duration": 10,
    "start_time": "2022-01-28T20:31:06.301Z"
   },
   {
    "duration": 10,
    "start_time": "2022-01-28T20:31:06.313Z"
   },
   {
    "duration": 38,
    "start_time": "2022-01-28T20:31:06.325Z"
   },
   {
    "duration": 38,
    "start_time": "2022-01-28T20:31:06.366Z"
   },
   {
    "duration": 7,
    "start_time": "2022-01-28T20:31:06.406Z"
   },
   {
    "duration": 445,
    "start_time": "2022-01-28T20:31:06.415Z"
   },
   {
    "duration": 16,
    "start_time": "2022-01-28T20:31:06.862Z"
   },
   {
    "duration": 20,
    "start_time": "2022-01-28T20:31:06.879Z"
   },
   {
    "duration": 118,
    "start_time": "2022-01-28T20:31:06.901Z"
   },
   {
    "duration": 25,
    "start_time": "2022-01-28T20:31:07.021Z"
   },
   {
    "duration": 29,
    "start_time": "2022-01-28T20:31:07.061Z"
   },
   {
    "duration": 16,
    "start_time": "2022-01-28T20:31:07.092Z"
   },
   {
    "duration": 21,
    "start_time": "2022-01-28T20:31:07.113Z"
   },
   {
    "duration": 22,
    "start_time": "2022-01-28T20:31:07.158Z"
   },
   {
    "duration": 11,
    "start_time": "2022-01-28T20:31:07.182Z"
   },
   {
    "duration": 31,
    "start_time": "2022-01-28T20:31:07.195Z"
   },
   {
    "duration": 10,
    "start_time": "2022-01-28T20:31:07.228Z"
   },
   {
    "duration": 26,
    "start_time": "2022-01-28T20:31:07.259Z"
   },
   {
    "duration": 25,
    "start_time": "2022-01-28T20:31:07.287Z"
   },
   {
    "duration": 7,
    "start_time": "2022-01-28T20:31:07.314Z"
   },
   {
    "duration": 66,
    "start_time": "2022-01-28T20:31:07.322Z"
   },
   {
    "duration": 7,
    "start_time": "2022-01-28T20:31:07.390Z"
   },
   {
    "duration": 37,
    "start_time": "2022-01-28T20:31:07.398Z"
   },
   {
    "duration": 14,
    "start_time": "2022-01-28T20:31:07.459Z"
   },
   {
    "duration": 8,
    "start_time": "2022-01-28T20:31:07.475Z"
   },
   {
    "duration": 10,
    "start_time": "2022-01-28T20:31:07.485Z"
   },
   {
    "duration": 10,
    "start_time": "2022-01-28T20:31:07.497Z"
   },
   {
    "duration": 9,
    "start_time": "2022-01-28T20:31:07.509Z"
   },
   {
    "duration": 55,
    "start_time": "2022-01-28T20:31:07.520Z"
   },
   {
    "duration": 13,
    "start_time": "2022-01-28T20:31:07.577Z"
   },
   {
    "duration": 4,
    "start_time": "2022-01-28T20:31:07.592Z"
   },
   {
    "duration": 10,
    "start_time": "2022-01-28T20:31:07.598Z"
   },
   {
    "duration": 7,
    "start_time": "2022-01-28T20:31:07.611Z"
   },
   {
    "duration": 12,
    "start_time": "2022-01-28T20:31:07.619Z"
   },
   {
    "duration": 36,
    "start_time": "2022-01-28T20:31:07.633Z"
   },
   {
    "duration": 15,
    "start_time": "2022-01-28T20:31:07.671Z"
   },
   {
    "duration": 12,
    "start_time": "2022-01-28T20:31:07.688Z"
   },
   {
    "duration": 4,
    "start_time": "2022-01-28T20:31:07.701Z"
   },
   {
    "duration": 8,
    "start_time": "2022-01-28T20:31:07.706Z"
   },
   {
    "duration": 9,
    "start_time": "2022-01-28T20:31:07.716Z"
   },
   {
    "duration": 40,
    "start_time": "2022-01-28T20:31:07.726Z"
   },
   {
    "duration": 6,
    "start_time": "2022-01-28T20:31:07.768Z"
   },
   {
    "duration": 7,
    "start_time": "2022-01-28T20:31:07.776Z"
   },
   {
    "duration": 11,
    "start_time": "2022-01-28T20:31:07.785Z"
   },
   {
    "duration": 9,
    "start_time": "2022-01-28T20:31:07.798Z"
   },
   {
    "duration": 10,
    "start_time": "2022-01-28T20:31:07.809Z"
   },
   {
    "duration": 457,
    "start_time": "2022-01-28T20:31:07.820Z"
   },
   {
    "duration": 9,
    "start_time": "2022-01-28T20:31:08.278Z"
   },
   {
    "duration": 8,
    "start_time": "2022-01-28T20:31:08.288Z"
   },
   {
    "duration": 16,
    "start_time": "2022-01-28T20:31:08.297Z"
   },
   {
    "duration": 14,
    "start_time": "2022-01-28T20:31:08.315Z"
   },
   {
    "duration": 11,
    "start_time": "2022-01-28T20:31:08.331Z"
   },
   {
    "duration": 320,
    "start_time": "2022-01-28T20:31:08.368Z"
   },
   {
    "duration": 9,
    "start_time": "2022-01-28T20:31:08.690Z"
   },
   {
    "duration": 276,
    "start_time": "2022-01-28T20:31:08.700Z"
   },
   {
    "duration": 256,
    "start_time": "2022-01-28T20:31:08.977Z"
   },
   {
    "duration": 7,
    "start_time": "2022-01-28T20:36:01.256Z"
   },
   {
    "duration": 9,
    "start_time": "2022-01-28T20:36:03.608Z"
   },
   {
    "duration": 9,
    "start_time": "2022-01-28T20:36:06.640Z"
   },
   {
    "duration": 9,
    "start_time": "2022-01-28T20:36:20.590Z"
   },
   {
    "duration": 331,
    "start_time": "2022-01-28T20:36:45.276Z"
   },
   {
    "duration": 9,
    "start_time": "2022-01-28T20:36:55.468Z"
   },
   {
    "duration": 294,
    "start_time": "2022-01-28T20:37:06.183Z"
   },
   {
    "duration": 359,
    "start_time": "2022-01-28T20:37:35.676Z"
   },
   {
    "duration": 280,
    "start_time": "2022-01-28T20:37:44.649Z"
   },
   {
    "duration": 1180,
    "start_time": "2022-01-28T20:43:13.884Z"
   },
   {
    "duration": 300,
    "start_time": "2022-01-28T20:43:15.066Z"
   },
   {
    "duration": 222,
    "start_time": "2022-01-28T20:43:15.368Z"
   },
   {
    "duration": 150,
    "start_time": "2022-01-28T20:43:15.592Z"
   },
   {
    "duration": 26,
    "start_time": "2022-01-28T20:43:15.743Z"
   },
   {
    "duration": 52,
    "start_time": "2022-01-28T20:43:15.771Z"
   },
   {
    "duration": 5,
    "start_time": "2022-01-28T20:43:15.825Z"
   },
   {
    "duration": 8,
    "start_time": "2022-01-28T20:43:15.833Z"
   },
   {
    "duration": 44,
    "start_time": "2022-01-28T20:43:15.843Z"
   },
   {
    "duration": 37,
    "start_time": "2022-01-28T20:43:15.888Z"
   },
   {
    "duration": 51,
    "start_time": "2022-01-28T20:43:15.926Z"
   },
   {
    "duration": 10,
    "start_time": "2022-01-28T20:43:15.979Z"
   },
   {
    "duration": 11,
    "start_time": "2022-01-28T20:43:15.991Z"
   },
   {
    "duration": 9,
    "start_time": "2022-01-28T20:43:16.004Z"
   },
   {
    "duration": 46,
    "start_time": "2022-01-28T20:43:16.015Z"
   },
   {
    "duration": 5,
    "start_time": "2022-01-28T20:43:16.063Z"
   },
   {
    "duration": 18,
    "start_time": "2022-01-28T20:43:16.070Z"
   },
   {
    "duration": 8,
    "start_time": "2022-01-28T20:43:16.090Z"
   },
   {
    "duration": 452,
    "start_time": "2022-01-28T20:43:16.100Z"
   },
   {
    "duration": 13,
    "start_time": "2022-01-28T20:43:16.558Z"
   },
   {
    "duration": 3,
    "start_time": "2022-01-28T20:43:16.573Z"
   },
   {
    "duration": 108,
    "start_time": "2022-01-28T20:43:16.578Z"
   },
   {
    "duration": 24,
    "start_time": "2022-01-28T20:43:16.691Z"
   },
   {
    "duration": 49,
    "start_time": "2022-01-28T20:43:16.718Z"
   },
   {
    "duration": 17,
    "start_time": "2022-01-28T20:43:16.770Z"
   },
   {
    "duration": 22,
    "start_time": "2022-01-28T20:43:16.789Z"
   },
   {
    "duration": 48,
    "start_time": "2022-01-28T20:43:16.813Z"
   },
   {
    "duration": 11,
    "start_time": "2022-01-28T20:43:16.863Z"
   },
   {
    "duration": 21,
    "start_time": "2022-01-28T20:43:16.876Z"
   },
   {
    "duration": 9,
    "start_time": "2022-01-28T20:43:16.899Z"
   },
   {
    "duration": 54,
    "start_time": "2022-01-28T20:43:16.910Z"
   },
   {
    "duration": 26,
    "start_time": "2022-01-28T20:43:16.966Z"
   },
   {
    "duration": 6,
    "start_time": "2022-01-28T20:43:16.994Z"
   },
   {
    "duration": 61,
    "start_time": "2022-01-28T20:43:17.002Z"
   },
   {
    "duration": 6,
    "start_time": "2022-01-28T20:43:17.065Z"
   },
   {
    "duration": 38,
    "start_time": "2022-01-28T20:43:17.073Z"
   },
   {
    "duration": 6,
    "start_time": "2022-01-28T20:43:17.113Z"
   },
   {
    "duration": 8,
    "start_time": "2022-01-28T20:43:17.121Z"
   },
   {
    "duration": 37,
    "start_time": "2022-01-28T20:43:17.130Z"
   },
   {
    "duration": 10,
    "start_time": "2022-01-28T20:43:17.169Z"
   },
   {
    "duration": 11,
    "start_time": "2022-01-28T20:43:17.181Z"
   },
   {
    "duration": 16,
    "start_time": "2022-01-28T20:43:17.193Z"
   },
   {
    "duration": 9,
    "start_time": "2022-01-28T20:43:17.211Z"
   },
   {
    "duration": 4,
    "start_time": "2022-01-28T20:43:17.222Z"
   },
   {
    "duration": 8,
    "start_time": "2022-01-28T20:43:17.259Z"
   },
   {
    "duration": 7,
    "start_time": "2022-01-28T20:43:17.268Z"
   },
   {
    "duration": 11,
    "start_time": "2022-01-28T20:43:17.276Z"
   },
   {
    "duration": 11,
    "start_time": "2022-01-28T20:43:17.289Z"
   },
   {
    "duration": 9,
    "start_time": "2022-01-28T20:43:17.302Z"
   },
   {
    "duration": 49,
    "start_time": "2022-01-28T20:43:17.313Z"
   },
   {
    "duration": 4,
    "start_time": "2022-01-28T20:43:17.364Z"
   },
   {
    "duration": 4,
    "start_time": "2022-01-28T20:43:17.370Z"
   },
   {
    "duration": 9,
    "start_time": "2022-01-28T20:43:17.375Z"
   },
   {
    "duration": 11,
    "start_time": "2022-01-28T20:43:17.386Z"
   },
   {
    "duration": 4,
    "start_time": "2022-01-28T20:43:17.399Z"
   },
   {
    "duration": 6,
    "start_time": "2022-01-28T20:43:17.404Z"
   },
   {
    "duration": 9,
    "start_time": "2022-01-28T20:43:17.412Z"
   },
   {
    "duration": 40,
    "start_time": "2022-01-28T20:43:17.422Z"
   },
   {
    "duration": 12,
    "start_time": "2022-01-28T20:43:17.464Z"
   },
   {
    "duration": 387,
    "start_time": "2022-01-28T20:43:17.477Z"
   },
   {
    "duration": 9,
    "start_time": "2022-01-28T20:43:17.866Z"
   },
   {
    "duration": 9,
    "start_time": "2022-01-28T20:43:17.876Z"
   },
   {
    "duration": 11,
    "start_time": "2022-01-28T20:43:17.887Z"
   },
   {
    "duration": 10,
    "start_time": "2022-01-28T20:43:17.899Z"
   },
   {
    "duration": 11,
    "start_time": "2022-01-28T20:43:17.911Z"
   },
   {
    "duration": 314,
    "start_time": "2022-01-28T20:43:17.923Z"
   },
   {
    "duration": 9,
    "start_time": "2022-01-28T20:43:18.238Z"
   },
   {
    "duration": 5,
    "start_time": "2022-01-28T20:43:18.259Z"
   },
   {
    "duration": 9,
    "start_time": "2022-01-28T20:43:18.266Z"
   },
   {
    "duration": 265,
    "start_time": "2022-01-28T20:43:18.277Z"
   },
   {
    "duration": 240,
    "start_time": "2022-01-28T20:43:18.544Z"
   },
   {
    "duration": 473,
    "start_time": "2022-01-28T20:44:05.887Z"
   },
   {
    "duration": 5,
    "start_time": "2022-01-28T20:45:26.124Z"
   },
   {
    "duration": 5,
    "start_time": "2022-01-28T20:46:45.459Z"
   },
   {
    "duration": 6,
    "start_time": "2022-01-28T20:47:00.261Z"
   },
   {
    "duration": 6,
    "start_time": "2022-01-28T20:56:08.529Z"
   },
   {
    "duration": 1175,
    "start_time": "2022-01-28T20:57:45.740Z"
   },
   {
    "duration": 296,
    "start_time": "2022-01-28T20:57:46.917Z"
   },
   {
    "duration": 211,
    "start_time": "2022-01-28T20:57:47.216Z"
   },
   {
    "duration": 145,
    "start_time": "2022-01-28T20:57:47.429Z"
   },
   {
    "duration": 27,
    "start_time": "2022-01-28T20:57:47.576Z"
   },
   {
    "duration": 52,
    "start_time": "2022-01-28T20:57:47.605Z"
   },
   {
    "duration": 6,
    "start_time": "2022-01-28T20:57:47.658Z"
   },
   {
    "duration": 7,
    "start_time": "2022-01-28T20:57:47.667Z"
   },
   {
    "duration": 44,
    "start_time": "2022-01-28T20:57:47.676Z"
   },
   {
    "duration": 54,
    "start_time": "2022-01-28T20:57:47.722Z"
   },
   {
    "duration": 29,
    "start_time": "2022-01-28T20:57:47.777Z"
   },
   {
    "duration": 10,
    "start_time": "2022-01-28T20:57:47.808Z"
   },
   {
    "duration": 12,
    "start_time": "2022-01-28T20:57:47.820Z"
   },
   {
    "duration": 32,
    "start_time": "2022-01-28T20:57:47.834Z"
   },
   {
    "duration": 10,
    "start_time": "2022-01-28T20:57:47.868Z"
   },
   {
    "duration": 5,
    "start_time": "2022-01-28T20:57:47.879Z"
   },
   {
    "duration": 20,
    "start_time": "2022-01-28T20:57:47.886Z"
   },
   {
    "duration": 7,
    "start_time": "2022-01-28T20:57:47.908Z"
   },
   {
    "duration": 453,
    "start_time": "2022-01-28T20:57:47.916Z"
   },
   {
    "duration": 13,
    "start_time": "2022-01-28T20:57:48.371Z"
   },
   {
    "duration": 3,
    "start_time": "2022-01-28T20:57:48.386Z"
   },
   {
    "duration": 106,
    "start_time": "2022-01-28T20:57:48.390Z"
   },
   {
    "duration": 25,
    "start_time": "2022-01-28T20:57:48.501Z"
   },
   {
    "duration": 44,
    "start_time": "2022-01-28T20:57:48.529Z"
   },
   {
    "duration": 17,
    "start_time": "2022-01-28T20:57:48.575Z"
   },
   {
    "duration": 20,
    "start_time": "2022-01-28T20:57:48.594Z"
   },
   {
    "duration": 43,
    "start_time": "2022-01-28T20:57:48.616Z"
   },
   {
    "duration": 10,
    "start_time": "2022-01-28T20:57:48.661Z"
   },
   {
    "duration": 20,
    "start_time": "2022-01-28T20:57:48.673Z"
   },
   {
    "duration": 8,
    "start_time": "2022-01-28T20:57:48.695Z"
   },
   {
    "duration": 23,
    "start_time": "2022-01-28T20:57:48.705Z"
   },
   {
    "duration": 57,
    "start_time": "2022-01-28T20:57:48.729Z"
   },
   {
    "duration": 7,
    "start_time": "2022-01-28T20:57:48.787Z"
   },
   {
    "duration": 30,
    "start_time": "2022-01-28T20:57:48.796Z"
   },
   {
    "duration": 37,
    "start_time": "2022-01-28T20:57:48.827Z"
   },
   {
    "duration": 34,
    "start_time": "2022-01-28T20:57:48.866Z"
   },
   {
    "duration": 5,
    "start_time": "2022-01-28T20:57:48.902Z"
   },
   {
    "duration": 7,
    "start_time": "2022-01-28T20:57:48.908Z"
   },
   {
    "duration": 42,
    "start_time": "2022-01-28T20:57:48.917Z"
   },
   {
    "duration": 7,
    "start_time": "2022-01-28T20:57:48.961Z"
   },
   {
    "duration": 9,
    "start_time": "2022-01-28T20:57:48.970Z"
   },
   {
    "duration": 15,
    "start_time": "2022-01-28T20:57:48.981Z"
   },
   {
    "duration": 12,
    "start_time": "2022-01-28T20:57:48.997Z"
   },
   {
    "duration": 5,
    "start_time": "2022-01-28T20:57:49.010Z"
   },
   {
    "duration": 10,
    "start_time": "2022-01-28T20:57:49.016Z"
   },
   {
    "duration": 7,
    "start_time": "2022-01-28T20:57:49.060Z"
   },
   {
    "duration": 11,
    "start_time": "2022-01-28T20:57:49.068Z"
   },
   {
    "duration": 14,
    "start_time": "2022-01-28T20:57:49.081Z"
   },
   {
    "duration": 12,
    "start_time": "2022-01-28T20:57:49.096Z"
   },
   {
    "duration": 15,
    "start_time": "2022-01-28T20:57:49.109Z"
   },
   {
    "duration": 34,
    "start_time": "2022-01-28T20:57:49.125Z"
   },
   {
    "duration": 6,
    "start_time": "2022-01-28T20:57:49.161Z"
   },
   {
    "duration": 7,
    "start_time": "2022-01-28T20:57:49.168Z"
   },
   {
    "duration": 10,
    "start_time": "2022-01-28T20:57:49.177Z"
   },
   {
    "duration": 4,
    "start_time": "2022-01-28T20:57:49.188Z"
   },
   {
    "duration": 8,
    "start_time": "2022-01-28T20:57:49.194Z"
   },
   {
    "duration": 12,
    "start_time": "2022-01-28T20:57:49.203Z"
   },
   {
    "duration": 8,
    "start_time": "2022-01-28T20:57:49.216Z"
   },
   {
    "duration": 10,
    "start_time": "2022-01-28T20:57:49.259Z"
   },
   {
    "duration": 374,
    "start_time": "2022-01-28T20:57:49.270Z"
   },
   {
    "duration": 13,
    "start_time": "2022-01-28T20:57:49.645Z"
   },
   {
    "duration": 8,
    "start_time": "2022-01-28T20:57:49.660Z"
   },
   {
    "duration": 8,
    "start_time": "2022-01-28T20:57:49.670Z"
   },
   {
    "duration": 7,
    "start_time": "2022-01-28T20:57:49.680Z"
   },
   {
    "duration": 9,
    "start_time": "2022-01-28T20:57:49.689Z"
   },
   {
    "duration": 502,
    "start_time": "2022-01-28T20:57:49.700Z"
   },
   {
    "duration": 9,
    "start_time": "2022-01-28T20:57:50.203Z"
   },
   {
    "duration": 6,
    "start_time": "2022-01-28T20:57:50.217Z"
   },
   {
    "duration": 10,
    "start_time": "2022-01-28T20:57:50.224Z"
   },
   {
    "duration": 30,
    "start_time": "2022-01-28T20:57:50.236Z"
   },
   {
    "duration": 11,
    "start_time": "2022-01-28T20:57:50.267Z"
   },
   {
    "duration": 501,
    "start_time": "2022-01-28T20:57:50.279Z"
   },
   {
    "duration": 282,
    "start_time": "2022-01-28T20:57:50.782Z"
   },
   {
    "duration": 315,
    "start_time": "2022-01-28T20:57:51.066Z"
   },
   {
    "duration": 10,
    "start_time": "2022-01-28T20:58:21.450Z"
   },
   {
    "duration": 289,
    "start_time": "2022-01-28T20:58:45.520Z"
   },
   {
    "duration": 287,
    "start_time": "2022-01-28T21:00:21.026Z"
   },
   {
    "duration": 273,
    "start_time": "2022-01-28T21:00:57.720Z"
   },
   {
    "duration": 809,
    "start_time": "2022-01-28T21:01:06.752Z"
   },
   {
    "duration": 395,
    "start_time": "2022-01-28T21:01:25.859Z"
   },
   {
    "duration": 281,
    "start_time": "2022-01-28T21:11:58.464Z"
   },
   {
    "duration": 1116,
    "start_time": "2022-01-29T04:41:52.753Z"
   },
   {
    "duration": 242,
    "start_time": "2022-01-29T04:41:53.871Z"
   },
   {
    "duration": 186,
    "start_time": "2022-01-29T04:41:54.116Z"
   },
   {
    "duration": 129,
    "start_time": "2022-01-29T04:41:54.304Z"
   },
   {
    "duration": 23,
    "start_time": "2022-01-29T04:41:54.435Z"
   },
   {
    "duration": 67,
    "start_time": "2022-01-29T04:41:54.460Z"
   },
   {
    "duration": 6,
    "start_time": "2022-01-29T04:41:54.529Z"
   },
   {
    "duration": 7,
    "start_time": "2022-01-29T04:41:54.537Z"
   },
   {
    "duration": 39,
    "start_time": "2022-01-29T04:41:54.546Z"
   },
   {
    "duration": 46,
    "start_time": "2022-01-29T04:41:54.587Z"
   },
   {
    "duration": 26,
    "start_time": "2022-01-29T04:41:54.635Z"
   },
   {
    "duration": 10,
    "start_time": "2022-01-29T04:41:54.662Z"
   },
   {
    "duration": 10,
    "start_time": "2022-01-29T04:41:54.674Z"
   },
   {
    "duration": 7,
    "start_time": "2022-01-29T04:41:54.686Z"
   },
   {
    "duration": 9,
    "start_time": "2022-01-29T04:41:54.728Z"
   },
   {
    "duration": 5,
    "start_time": "2022-01-29T04:41:54.739Z"
   },
   {
    "duration": 12,
    "start_time": "2022-01-29T04:41:54.745Z"
   },
   {
    "duration": 7,
    "start_time": "2022-01-29T04:41:54.759Z"
   },
   {
    "duration": 352,
    "start_time": "2022-01-29T04:41:54.768Z"
   },
   {
    "duration": 14,
    "start_time": "2022-01-29T04:41:55.122Z"
   },
   {
    "duration": 3,
    "start_time": "2022-01-29T04:41:55.138Z"
   },
   {
    "duration": 103,
    "start_time": "2022-01-29T04:41:55.143Z"
   },
   {
    "duration": 23,
    "start_time": "2022-01-29T04:41:55.251Z"
   },
   {
    "duration": 23,
    "start_time": "2022-01-29T04:41:55.277Z"
   },
   {
    "duration": 36,
    "start_time": "2022-01-29T04:41:55.302Z"
   },
   {
    "duration": 19,
    "start_time": "2022-01-29T04:41:55.340Z"
   },
   {
    "duration": 18,
    "start_time": "2022-01-29T04:41:55.361Z"
   },
   {
    "duration": 11,
    "start_time": "2022-01-29T04:41:55.380Z"
   },
   {
    "duration": 48,
    "start_time": "2022-01-29T04:41:55.393Z"
   },
   {
    "duration": 8,
    "start_time": "2022-01-29T04:41:55.443Z"
   },
   {
    "duration": 20,
    "start_time": "2022-01-29T04:41:55.453Z"
   },
   {
    "duration": 22,
    "start_time": "2022-01-29T04:41:55.475Z"
   },
   {
    "duration": 30,
    "start_time": "2022-01-29T04:41:55.498Z"
   },
   {
    "duration": 28,
    "start_time": "2022-01-29T04:41:55.530Z"
   },
   {
    "duration": 6,
    "start_time": "2022-01-29T04:41:55.560Z"
   },
   {
    "duration": 61,
    "start_time": "2022-01-29T04:41:55.568Z"
   },
   {
    "duration": 6,
    "start_time": "2022-01-29T04:41:55.631Z"
   },
   {
    "duration": 8,
    "start_time": "2022-01-29T04:41:55.639Z"
   },
   {
    "duration": 7,
    "start_time": "2022-01-29T04:41:55.649Z"
   },
   {
    "duration": 10,
    "start_time": "2022-01-29T04:41:55.658Z"
   },
   {
    "duration": 11,
    "start_time": "2022-01-29T04:41:55.669Z"
   },
   {
    "duration": 52,
    "start_time": "2022-01-29T04:41:55.681Z"
   },
   {
    "duration": 10,
    "start_time": "2022-01-29T04:41:55.735Z"
   },
   {
    "duration": 5,
    "start_time": "2022-01-29T04:41:55.747Z"
   },
   {
    "duration": 7,
    "start_time": "2022-01-29T04:41:55.754Z"
   },
   {
    "duration": 7,
    "start_time": "2022-01-29T04:41:55.763Z"
   },
   {
    "duration": 10,
    "start_time": "2022-01-29T04:41:55.772Z"
   },
   {
    "duration": 49,
    "start_time": "2022-01-29T04:41:55.784Z"
   },
   {
    "duration": 12,
    "start_time": "2022-01-29T04:41:55.835Z"
   },
   {
    "duration": 12,
    "start_time": "2022-01-29T04:41:55.849Z"
   },
   {
    "duration": 3,
    "start_time": "2022-01-29T04:41:55.863Z"
   },
   {
    "duration": 4,
    "start_time": "2022-01-29T04:41:55.868Z"
   },
   {
    "duration": 5,
    "start_time": "2022-01-29T04:41:55.874Z"
   },
   {
    "duration": 51,
    "start_time": "2022-01-29T04:41:55.880Z"
   },
   {
    "duration": 4,
    "start_time": "2022-01-29T04:41:55.933Z"
   },
   {
    "duration": 5,
    "start_time": "2022-01-29T04:41:55.939Z"
   },
   {
    "duration": 15,
    "start_time": "2022-01-29T04:41:55.946Z"
   },
   {
    "duration": 7,
    "start_time": "2022-01-29T04:41:55.963Z"
   },
   {
    "duration": 8,
    "start_time": "2022-01-29T04:41:55.972Z"
   },
   {
    "duration": 347,
    "start_time": "2022-01-29T04:41:55.982Z"
   },
   {
    "duration": 9,
    "start_time": "2022-01-29T04:41:56.331Z"
   },
   {
    "duration": 6,
    "start_time": "2022-01-29T04:41:56.342Z"
   },
   {
    "duration": 7,
    "start_time": "2022-01-29T04:41:56.350Z"
   },
   {
    "duration": 8,
    "start_time": "2022-01-29T04:41:56.359Z"
   },
   {
    "duration": 9,
    "start_time": "2022-01-29T04:41:56.368Z"
   },
   {
    "duration": 455,
    "start_time": "2022-01-29T04:41:56.378Z"
   },
   {
    "duration": 9,
    "start_time": "2022-01-29T04:41:56.835Z"
   },
   {
    "duration": 7,
    "start_time": "2022-01-29T04:41:56.848Z"
   },
   {
    "duration": 7,
    "start_time": "2022-01-29T04:41:56.857Z"
   },
   {
    "duration": 7,
    "start_time": "2022-01-29T04:41:56.866Z"
   },
   {
    "duration": 8,
    "start_time": "2022-01-29T04:41:56.874Z"
   },
   {
    "duration": 363,
    "start_time": "2022-01-29T04:41:56.883Z"
   },
   {
    "duration": 8,
    "start_time": "2022-01-29T04:41:57.248Z"
   },
   {
    "duration": 245,
    "start_time": "2022-01-29T04:41:57.258Z"
   },
   {
    "duration": 265,
    "start_time": "2022-01-29T04:41:57.504Z"
   },
   {
    "duration": 233,
    "start_time": "2022-01-29T04:41:57.771Z"
   },
   {
    "duration": 668,
    "start_time": "2022-01-29T04:46:10.395Z"
   },
   {
    "duration": 307,
    "start_time": "2022-01-29T04:47:58.500Z"
   },
   {
    "duration": 94,
    "start_time": "2022-01-29T04:49:27.926Z"
   },
   {
    "duration": 724,
    "start_time": "2022-01-29T04:51:34.749Z"
   },
   {
    "duration": 585,
    "start_time": "2022-01-29T04:51:40.972Z"
   },
   {
    "duration": 316,
    "start_time": "2022-01-29T04:52:13.905Z"
   },
   {
    "duration": 452,
    "start_time": "2022-01-29T04:52:54.162Z"
   },
   {
    "duration": 624,
    "start_time": "2022-01-29T04:53:26.773Z"
   },
   {
    "duration": 316,
    "start_time": "2022-01-29T04:54:37.117Z"
   },
   {
    "duration": 405,
    "start_time": "2022-01-29T04:55:03.348Z"
   },
   {
    "duration": 324,
    "start_time": "2022-01-29T04:56:33.035Z"
   },
   {
    "duration": 430,
    "start_time": "2022-01-29T04:56:59.780Z"
   },
   {
    "duration": 425,
    "start_time": "2022-01-29T04:57:13.546Z"
   },
   {
    "duration": 313,
    "start_time": "2022-01-29T04:57:25.263Z"
   },
   {
    "duration": 318,
    "start_time": "2022-01-29T04:58:00.669Z"
   },
   {
    "duration": 4,
    "start_time": "2022-01-29T05:12:08.525Z"
   },
   {
    "duration": 8,
    "start_time": "2022-01-29T05:13:18.789Z"
   },
   {
    "duration": 7,
    "start_time": "2022-01-29T05:13:21.461Z"
   },
   {
    "duration": 8,
    "start_time": "2022-01-29T05:13:23.850Z"
   },
   {
    "duration": 7,
    "start_time": "2022-01-29T05:13:25.785Z"
   },
   {
    "duration": 1205,
    "start_time": "2022-01-29T05:13:35.651Z"
   },
   {
    "duration": 260,
    "start_time": "2022-01-29T05:13:36.858Z"
   },
   {
    "duration": 186,
    "start_time": "2022-01-29T05:13:37.120Z"
   },
   {
    "duration": 134,
    "start_time": "2022-01-29T05:13:37.308Z"
   },
   {
    "duration": 22,
    "start_time": "2022-01-29T05:13:37.444Z"
   },
   {
    "duration": 38,
    "start_time": "2022-01-29T05:13:37.467Z"
   },
   {
    "duration": 6,
    "start_time": "2022-01-29T05:13:37.506Z"
   },
   {
    "duration": 8,
    "start_time": "2022-01-29T05:13:37.514Z"
   },
   {
    "duration": 40,
    "start_time": "2022-01-29T05:13:37.523Z"
   },
   {
    "duration": 29,
    "start_time": "2022-01-29T05:13:37.565Z"
   },
   {
    "duration": 39,
    "start_time": "2022-01-29T05:13:37.595Z"
   },
   {
    "duration": 9,
    "start_time": "2022-01-29T05:13:37.635Z"
   },
   {
    "duration": 10,
    "start_time": "2022-01-29T05:13:37.645Z"
   },
   {
    "duration": 8,
    "start_time": "2022-01-29T05:13:37.656Z"
   },
   {
    "duration": 8,
    "start_time": "2022-01-29T05:13:37.666Z"
   },
   {
    "duration": 3,
    "start_time": "2022-01-29T05:13:37.675Z"
   },
   {
    "duration": 16,
    "start_time": "2022-01-29T05:13:37.680Z"
   },
   {
    "duration": 35,
    "start_time": "2022-01-29T05:13:37.698Z"
   },
   {
    "duration": 336,
    "start_time": "2022-01-29T05:13:37.734Z"
   },
   {
    "duration": 10,
    "start_time": "2022-01-29T05:13:38.072Z"
   },
   {
    "duration": 3,
    "start_time": "2022-01-29T05:13:38.083Z"
   },
   {
    "duration": 94,
    "start_time": "2022-01-29T05:13:38.087Z"
   },
   {
    "duration": 22,
    "start_time": "2022-01-29T05:13:38.185Z"
   },
   {
    "duration": 34,
    "start_time": "2022-01-29T05:13:38.210Z"
   },
   {
    "duration": 16,
    "start_time": "2022-01-29T05:13:38.245Z"
   },
   {
    "duration": 20,
    "start_time": "2022-01-29T05:13:38.263Z"
   },
   {
    "duration": 18,
    "start_time": "2022-01-29T05:13:38.284Z"
   },
   {
    "duration": 11,
    "start_time": "2022-01-29T05:13:38.327Z"
   },
   {
    "duration": 19,
    "start_time": "2022-01-29T05:13:38.339Z"
   },
   {
    "duration": 9,
    "start_time": "2022-01-29T05:13:38.360Z"
   },
   {
    "duration": 18,
    "start_time": "2022-01-29T05:13:38.371Z"
   },
   {
    "duration": 58,
    "start_time": "2022-01-29T05:13:38.391Z"
   },
   {
    "duration": 7,
    "start_time": "2022-01-29T05:13:38.450Z"
   },
   {
    "duration": 29,
    "start_time": "2022-01-29T05:13:38.459Z"
   },
   {
    "duration": 6,
    "start_time": "2022-01-29T05:13:38.489Z"
   },
   {
    "duration": 62,
    "start_time": "2022-01-29T05:13:38.496Z"
   },
   {
    "duration": 7,
    "start_time": "2022-01-29T05:13:38.559Z"
   },
   {
    "duration": 7,
    "start_time": "2022-01-29T05:13:38.568Z"
   },
   {
    "duration": 9,
    "start_time": "2022-01-29T05:13:38.577Z"
   },
   {
    "duration": 44,
    "start_time": "2022-01-29T05:13:38.587Z"
   },
   {
    "duration": 9,
    "start_time": "2022-01-29T05:13:38.633Z"
   },
   {
    "duration": 14,
    "start_time": "2022-01-29T05:13:38.644Z"
   },
   {
    "duration": 9,
    "start_time": "2022-01-29T05:13:38.660Z"
   },
   {
    "duration": 4,
    "start_time": "2022-01-29T05:13:38.671Z"
   },
   {
    "duration": 8,
    "start_time": "2022-01-29T05:13:38.677Z"
   },
   {
    "duration": 43,
    "start_time": "2022-01-29T05:13:38.686Z"
   },
   {
    "duration": 11,
    "start_time": "2022-01-29T05:13:38.731Z"
   },
   {
    "duration": 11,
    "start_time": "2022-01-29T05:13:38.743Z"
   },
   {
    "duration": 10,
    "start_time": "2022-01-29T05:13:38.756Z"
   },
   {
    "duration": 11,
    "start_time": "2022-01-29T05:13:38.768Z"
   },
   {
    "duration": 3,
    "start_time": "2022-01-29T05:13:38.780Z"
   },
   {
    "duration": 42,
    "start_time": "2022-01-29T05:13:38.785Z"
   },
   {
    "duration": 9,
    "start_time": "2022-01-29T05:13:38.829Z"
   },
   {
    "duration": 9,
    "start_time": "2022-01-29T05:13:38.839Z"
   },
   {
    "duration": 4,
    "start_time": "2022-01-29T05:13:38.850Z"
   },
   {
    "duration": 10,
    "start_time": "2022-01-29T05:13:38.855Z"
   },
   {
    "duration": 11,
    "start_time": "2022-01-29T05:13:38.867Z"
   },
   {
    "duration": 9,
    "start_time": "2022-01-29T05:13:38.879Z"
   },
   {
    "duration": 12,
    "start_time": "2022-01-29T05:13:38.889Z"
   },
   {
    "duration": 342,
    "start_time": "2022-01-29T05:13:38.902Z"
   },
   {
    "duration": 8,
    "start_time": "2022-01-29T05:13:39.246Z"
   },
   {
    "duration": 6,
    "start_time": "2022-01-29T05:13:39.256Z"
   },
   {
    "duration": 8,
    "start_time": "2022-01-29T05:13:39.263Z"
   },
   {
    "duration": 8,
    "start_time": "2022-01-29T05:13:39.273Z"
   },
   {
    "duration": 8,
    "start_time": "2022-01-29T05:13:39.283Z"
   },
   {
    "duration": 461,
    "start_time": "2022-01-29T05:13:39.293Z"
   },
   {
    "duration": 8,
    "start_time": "2022-01-29T05:13:39.756Z"
   },
   {
    "duration": 4,
    "start_time": "2022-01-29T05:13:39.769Z"
   },
   {
    "duration": 8,
    "start_time": "2022-01-29T05:13:39.775Z"
   },
   {
    "duration": 8,
    "start_time": "2022-01-29T05:13:39.785Z"
   },
   {
    "duration": 32,
    "start_time": "2022-01-29T05:13:39.795Z"
   },
   {
    "duration": 331,
    "start_time": "2022-01-29T05:13:39.829Z"
   },
   {
    "duration": 8,
    "start_time": "2022-01-29T05:13:40.162Z"
   },
   {
    "duration": 240,
    "start_time": "2022-01-29T05:13:40.172Z"
   },
   {
    "duration": 264,
    "start_time": "2022-01-29T05:13:40.414Z"
   },
   {
    "duration": 228,
    "start_time": "2022-01-29T05:13:40.680Z"
   },
   {
    "duration": 2,
    "start_time": "2022-01-29T05:21:46.923Z"
   },
   {
    "duration": 3,
    "start_time": "2022-01-29T06:19:01.584Z"
   },
   {
    "duration": 291,
    "start_time": "2022-01-29T06:19:01.593Z"
   },
   {
    "duration": 214,
    "start_time": "2022-01-29T06:19:01.885Z"
   },
   {
    "duration": 150,
    "start_time": "2022-01-29T06:19:02.101Z"
   },
   {
    "duration": 22,
    "start_time": "2022-01-29T06:19:02.253Z"
   },
   {
    "duration": 36,
    "start_time": "2022-01-29T06:19:02.277Z"
   },
   {
    "duration": 5,
    "start_time": "2022-01-29T06:19:02.315Z"
   },
   {
    "duration": 8,
    "start_time": "2022-01-29T06:19:02.321Z"
   },
   {
    "duration": 42,
    "start_time": "2022-01-29T06:19:02.331Z"
   },
   {
    "duration": 29,
    "start_time": "2022-01-29T06:19:02.375Z"
   },
   {
    "duration": 32,
    "start_time": "2022-01-29T06:19:02.406Z"
   },
   {
    "duration": 8,
    "start_time": "2022-01-29T06:19:02.440Z"
   },
   {
    "duration": 9,
    "start_time": "2022-01-29T06:19:02.450Z"
   },
   {
    "duration": 7,
    "start_time": "2022-01-29T06:19:02.460Z"
   },
   {
    "duration": 9,
    "start_time": "2022-01-29T06:19:02.468Z"
   },
   {
    "duration": 4,
    "start_time": "2022-01-29T06:19:02.479Z"
   },
   {
    "duration": 50,
    "start_time": "2022-01-29T06:19:02.484Z"
   },
   {
    "duration": 6,
    "start_time": "2022-01-29T06:19:02.536Z"
   },
   {
    "duration": 458,
    "start_time": "2022-01-29T06:19:02.543Z"
   },
   {
    "duration": 11,
    "start_time": "2022-01-29T06:19:03.002Z"
   },
   {
    "duration": 12,
    "start_time": "2022-01-29T06:19:03.015Z"
   },
   {
    "duration": 83,
    "start_time": "2022-01-29T06:19:03.029Z"
   },
   {
    "duration": 31,
    "start_time": "2022-01-29T06:19:03.114Z"
   },
   {
    "duration": 32,
    "start_time": "2022-01-29T06:19:03.151Z"
   },
   {
    "duration": 15,
    "start_time": "2022-01-29T06:19:03.186Z"
   },
   {
    "duration": 39,
    "start_time": "2022-01-29T06:19:03.203Z"
   },
   {
    "duration": 16,
    "start_time": "2022-01-29T06:19:03.244Z"
   },
   {
    "duration": 8,
    "start_time": "2022-01-29T06:19:03.262Z"
   },
   {
    "duration": 17,
    "start_time": "2022-01-29T06:19:03.272Z"
   },
   {
    "duration": 7,
    "start_time": "2022-01-29T06:19:03.291Z"
   },
   {
    "duration": 19,
    "start_time": "2022-01-29T06:19:03.328Z"
   },
   {
    "duration": 25,
    "start_time": "2022-01-29T06:19:03.348Z"
   },
   {
    "duration": 5,
    "start_time": "2022-01-29T06:19:03.375Z"
   },
   {
    "duration": 52,
    "start_time": "2022-01-29T06:19:03.382Z"
   },
   {
    "duration": 5,
    "start_time": "2022-01-29T06:19:03.435Z"
   },
   {
    "duration": 30,
    "start_time": "2022-01-29T06:19:03.441Z"
   },
   {
    "duration": 5,
    "start_time": "2022-01-29T06:19:03.473Z"
   },
   {
    "duration": 8,
    "start_time": "2022-01-29T06:19:03.479Z"
   },
   {
    "duration": 9,
    "start_time": "2022-01-29T06:19:03.488Z"
   },
   {
    "duration": 10,
    "start_time": "2022-01-29T06:19:03.528Z"
   },
   {
    "duration": 8,
    "start_time": "2022-01-29T06:19:03.539Z"
   },
   {
    "duration": 14,
    "start_time": "2022-01-29T06:19:03.549Z"
   },
   {
    "duration": 10,
    "start_time": "2022-01-29T06:19:03.564Z"
   },
   {
    "duration": 4,
    "start_time": "2022-01-29T06:19:03.575Z"
   },
   {
    "duration": 7,
    "start_time": "2022-01-29T06:19:03.580Z"
   },
   {
    "duration": 6,
    "start_time": "2022-01-29T06:19:03.589Z"
   },
   {
    "duration": 39,
    "start_time": "2022-01-29T06:19:03.596Z"
   },
   {
    "duration": 9,
    "start_time": "2022-01-29T06:19:03.637Z"
   },
   {
    "duration": 9,
    "start_time": "2022-01-29T06:19:03.648Z"
   },
   {
    "duration": 9,
    "start_time": "2022-01-29T06:19:03.659Z"
   },
   {
    "duration": 3,
    "start_time": "2022-01-29T06:19:03.670Z"
   },
   {
    "duration": 4,
    "start_time": "2022-01-29T06:19:03.674Z"
   },
   {
    "duration": 6,
    "start_time": "2022-01-29T06:19:03.679Z"
   },
   {
    "duration": 43,
    "start_time": "2022-01-29T06:19:03.686Z"
   },
   {
    "duration": 3,
    "start_time": "2022-01-29T06:19:07.618Z"
   },
   {
    "duration": 8,
    "start_time": "2022-01-29T06:19:58.581Z"
   },
   {
    "duration": 7,
    "start_time": "2022-01-29T06:42:33.804Z"
   },
   {
    "duration": 2,
    "start_time": "2022-01-29T06:42:43.110Z"
   },
   {
    "duration": 242,
    "start_time": "2022-01-29T06:42:43.118Z"
   },
   {
    "duration": 197,
    "start_time": "2022-01-29T06:42:43.362Z"
   },
   {
    "duration": 134,
    "start_time": "2022-01-29T06:42:43.561Z"
   },
   {
    "duration": 23,
    "start_time": "2022-01-29T06:42:43.697Z"
   },
   {
    "duration": 57,
    "start_time": "2022-01-29T06:42:43.722Z"
   },
   {
    "duration": 5,
    "start_time": "2022-01-29T06:42:43.780Z"
   },
   {
    "duration": 7,
    "start_time": "2022-01-29T06:42:43.787Z"
   },
   {
    "duration": 38,
    "start_time": "2022-01-29T06:42:43.796Z"
   },
   {
    "duration": 31,
    "start_time": "2022-01-29T06:42:43.836Z"
   },
   {
    "duration": 24,
    "start_time": "2022-01-29T06:42:43.869Z"
   },
   {
    "duration": 33,
    "start_time": "2022-01-29T06:42:43.895Z"
   },
   {
    "duration": 10,
    "start_time": "2022-01-29T06:42:43.930Z"
   },
   {
    "duration": 8,
    "start_time": "2022-01-29T06:42:43.941Z"
   },
   {
    "duration": 10,
    "start_time": "2022-01-29T06:42:43.950Z"
   },
   {
    "duration": 4,
    "start_time": "2022-01-29T06:42:43.962Z"
   },
   {
    "duration": 12,
    "start_time": "2022-01-29T06:42:43.967Z"
   },
   {
    "duration": 7,
    "start_time": "2022-01-29T06:42:43.980Z"
   },
   {
    "duration": 375,
    "start_time": "2022-01-29T06:42:43.988Z"
   },
   {
    "duration": 10,
    "start_time": "2022-01-29T06:42:44.365Z"
   },
   {
    "duration": 2,
    "start_time": "2022-01-29T06:42:44.377Z"
   },
   {
    "duration": 98,
    "start_time": "2022-01-29T06:42:44.381Z"
   },
   {
    "duration": 21,
    "start_time": "2022-01-29T06:42:44.481Z"
   },
   {
    "duration": 34,
    "start_time": "2022-01-29T06:42:44.505Z"
   },
   {
    "duration": 14,
    "start_time": "2022-01-29T06:42:44.541Z"
   },
   {
    "duration": 18,
    "start_time": "2022-01-29T06:42:44.557Z"
   },
   {
    "duration": 17,
    "start_time": "2022-01-29T06:42:44.576Z"
   },
   {
    "duration": 34,
    "start_time": "2022-01-29T06:42:44.594Z"
   },
   {
    "duration": 16,
    "start_time": "2022-01-29T06:42:44.629Z"
   },
   {
    "duration": 7,
    "start_time": "2022-01-29T06:42:44.647Z"
   },
   {
    "duration": 17,
    "start_time": "2022-01-29T06:42:44.655Z"
   },
   {
    "duration": 21,
    "start_time": "2022-01-29T06:42:44.674Z"
   },
   {
    "duration": 35,
    "start_time": "2022-01-29T06:42:44.696Z"
   },
   {
    "duration": 26,
    "start_time": "2022-01-29T06:42:44.733Z"
   },
   {
    "duration": 6,
    "start_time": "2022-01-29T06:42:44.760Z"
   },
   {
    "duration": 28,
    "start_time": "2022-01-29T06:42:44.767Z"
   },
   {
    "duration": 34,
    "start_time": "2022-01-29T06:42:44.797Z"
   },
   {
    "duration": 9,
    "start_time": "2022-01-29T06:42:44.832Z"
   },
   {
    "duration": 7,
    "start_time": "2022-01-29T06:42:44.842Z"
   },
   {
    "duration": 16,
    "start_time": "2022-01-29T06:42:44.850Z"
   },
   {
    "duration": 10,
    "start_time": "2022-01-29T06:42:44.868Z"
   },
   {
    "duration": 14,
    "start_time": "2022-01-29T06:42:44.879Z"
   },
   {
    "duration": 8,
    "start_time": "2022-01-29T06:42:44.894Z"
   },
   {
    "duration": 4,
    "start_time": "2022-01-29T06:42:44.927Z"
   },
   {
    "duration": 8,
    "start_time": "2022-01-29T06:42:44.932Z"
   },
   {
    "duration": 6,
    "start_time": "2022-01-29T06:42:44.941Z"
   },
   {
    "duration": 11,
    "start_time": "2022-01-29T06:42:44.948Z"
   },
   {
    "duration": 12,
    "start_time": "2022-01-29T06:42:44.960Z"
   },
   {
    "duration": 10,
    "start_time": "2022-01-29T06:42:44.973Z"
   },
   {
    "duration": 9,
    "start_time": "2022-01-29T06:42:44.984Z"
   },
   {
    "duration": 4,
    "start_time": "2022-01-29T06:42:45.027Z"
   },
   {
    "duration": 6,
    "start_time": "2022-01-29T06:42:45.032Z"
   },
   {
    "duration": 11,
    "start_time": "2022-01-29T06:42:45.039Z"
   },
   {
    "duration": 11,
    "start_time": "2022-01-29T06:42:45.051Z"
   },
   {
    "duration": 4,
    "start_time": "2022-01-29T06:42:45.063Z"
   },
   {
    "duration": 7,
    "start_time": "2022-01-29T06:42:50.612Z"
   },
   {
    "duration": 6,
    "start_time": "2022-01-29T06:42:59.020Z"
   },
   {
    "duration": 366,
    "start_time": "2022-01-29T06:43:18.864Z"
   },
   {
    "duration": 303,
    "start_time": "2022-01-29T06:44:03.942Z"
   },
   {
    "duration": 4,
    "start_time": "2022-01-29T06:44:07.528Z"
   },
   {
    "duration": 295,
    "start_time": "2022-01-29T06:44:09.830Z"
   },
   {
    "duration": 1026,
    "start_time": "2022-01-29T06:44:41.128Z"
   },
   {
    "duration": 236,
    "start_time": "2022-01-29T06:44:42.155Z"
   },
   {
    "duration": 175,
    "start_time": "2022-01-29T06:44:42.393Z"
   },
   {
    "duration": 119,
    "start_time": "2022-01-29T06:44:42.570Z"
   },
   {
    "duration": 23,
    "start_time": "2022-01-29T06:44:42.690Z"
   },
   {
    "duration": 45,
    "start_time": "2022-01-29T06:44:42.715Z"
   },
   {
    "duration": 4,
    "start_time": "2022-01-29T06:44:42.762Z"
   },
   {
    "duration": 10,
    "start_time": "2022-01-29T06:44:42.768Z"
   },
   {
    "duration": 39,
    "start_time": "2022-01-29T06:44:42.780Z"
   },
   {
    "duration": 29,
    "start_time": "2022-01-29T06:44:42.821Z"
   },
   {
    "duration": 26,
    "start_time": "2022-01-29T06:44:42.852Z"
   },
   {
    "duration": 9,
    "start_time": "2022-01-29T06:44:42.879Z"
   },
   {
    "duration": 10,
    "start_time": "2022-01-29T06:44:42.889Z"
   },
   {
    "duration": 31,
    "start_time": "2022-01-29T06:44:42.900Z"
   },
   {
    "duration": 8,
    "start_time": "2022-01-29T06:44:42.932Z"
   },
   {
    "duration": 4,
    "start_time": "2022-01-29T06:44:42.942Z"
   },
   {
    "duration": 12,
    "start_time": "2022-01-29T06:44:42.947Z"
   },
   {
    "duration": 5,
    "start_time": "2022-01-29T06:44:42.961Z"
   },
   {
    "duration": 339,
    "start_time": "2022-01-29T06:44:42.968Z"
   },
   {
    "duration": 23,
    "start_time": "2022-01-29T06:44:43.308Z"
   },
   {
    "duration": 2,
    "start_time": "2022-01-29T06:44:43.333Z"
   },
   {
    "duration": 81,
    "start_time": "2022-01-29T06:44:43.336Z"
   },
   {
    "duration": 26,
    "start_time": "2022-01-29T06:44:43.418Z"
   },
   {
    "duration": 21,
    "start_time": "2022-01-29T06:44:43.445Z"
   },
   {
    "duration": 15,
    "start_time": "2022-01-29T06:44:43.467Z"
   },
   {
    "duration": 44,
    "start_time": "2022-01-29T06:44:43.483Z"
   },
   {
    "duration": 17,
    "start_time": "2022-01-29T06:44:43.530Z"
   },
   {
    "duration": 9,
    "start_time": "2022-01-29T06:44:43.549Z"
   },
   {
    "duration": 16,
    "start_time": "2022-01-29T06:44:43.559Z"
   },
   {
    "duration": 7,
    "start_time": "2022-01-29T06:44:43.577Z"
   },
   {
    "duration": 45,
    "start_time": "2022-01-29T06:44:43.586Z"
   },
   {
    "duration": 23,
    "start_time": "2022-01-29T06:44:43.633Z"
   },
   {
    "duration": 6,
    "start_time": "2022-01-29T06:44:43.661Z"
   },
   {
    "duration": 27,
    "start_time": "2022-01-29T06:44:43.669Z"
   },
   {
    "duration": 29,
    "start_time": "2022-01-29T06:44:43.698Z"
   },
   {
    "duration": 30,
    "start_time": "2022-01-29T06:44:43.729Z"
   },
   {
    "duration": 5,
    "start_time": "2022-01-29T06:44:43.760Z"
   },
   {
    "duration": 6,
    "start_time": "2022-01-29T06:44:43.767Z"
   },
   {
    "duration": 6,
    "start_time": "2022-01-29T06:44:43.774Z"
   },
   {
    "duration": 10,
    "start_time": "2022-01-29T06:44:43.782Z"
   },
   {
    "duration": 40,
    "start_time": "2022-01-29T06:44:43.793Z"
   },
   {
    "duration": 14,
    "start_time": "2022-01-29T06:44:43.834Z"
   },
   {
    "duration": 8,
    "start_time": "2022-01-29T06:44:43.850Z"
   },
   {
    "duration": 4,
    "start_time": "2022-01-29T06:44:43.859Z"
   },
   {
    "duration": 9,
    "start_time": "2022-01-29T06:44:43.865Z"
   },
   {
    "duration": 7,
    "start_time": "2022-01-29T06:44:43.875Z"
   },
   {
    "duration": 45,
    "start_time": "2022-01-29T06:44:43.883Z"
   },
   {
    "duration": 12,
    "start_time": "2022-01-29T06:44:43.929Z"
   },
   {
    "duration": 11,
    "start_time": "2022-01-29T06:44:43.942Z"
   },
   {
    "duration": 11,
    "start_time": "2022-01-29T06:44:43.954Z"
   },
   {
    "duration": 4,
    "start_time": "2022-01-29T06:44:43.966Z"
   },
   {
    "duration": 5,
    "start_time": "2022-01-29T06:44:43.971Z"
   },
   {
    "duration": 5,
    "start_time": "2022-01-29T06:44:43.977Z"
   },
   {
    "duration": 45,
    "start_time": "2022-01-29T06:44:43.984Z"
   },
   {
    "duration": 2,
    "start_time": "2022-01-29T06:44:44.031Z"
   },
   {
    "duration": 7,
    "start_time": "2022-01-29T06:45:02.694Z"
   },
   {
    "duration": 7,
    "start_time": "2022-01-29T06:45:53.501Z"
   },
   {
    "duration": 107,
    "start_time": "2022-01-29T06:51:51.089Z"
   },
   {
    "duration": 13,
    "start_time": "2022-01-29T06:51:55.410Z"
   },
   {
    "duration": 11,
    "start_time": "2022-01-29T06:54:21.559Z"
   },
   {
    "duration": 1011,
    "start_time": "2022-01-29T06:54:31.741Z"
   },
   {
    "duration": 228,
    "start_time": "2022-01-29T06:54:32.754Z"
   },
   {
    "duration": 178,
    "start_time": "2022-01-29T06:54:32.983Z"
   },
   {
    "duration": 118,
    "start_time": "2022-01-29T06:54:33.163Z"
   },
   {
    "duration": 22,
    "start_time": "2022-01-29T06:54:33.283Z"
   },
   {
    "duration": 53,
    "start_time": "2022-01-29T06:54:33.307Z"
   },
   {
    "duration": 5,
    "start_time": "2022-01-29T06:54:33.362Z"
   },
   {
    "duration": 8,
    "start_time": "2022-01-29T06:54:33.369Z"
   },
   {
    "duration": 37,
    "start_time": "2022-01-29T06:54:33.379Z"
   },
   {
    "duration": 33,
    "start_time": "2022-01-29T06:54:33.418Z"
   },
   {
    "duration": 26,
    "start_time": "2022-01-29T06:54:33.452Z"
   },
   {
    "duration": 8,
    "start_time": "2022-01-29T06:54:33.480Z"
   },
   {
    "duration": 10,
    "start_time": "2022-01-29T06:54:33.490Z"
   },
   {
    "duration": 26,
    "start_time": "2022-01-29T06:54:33.501Z"
   },
   {
    "duration": 9,
    "start_time": "2022-01-29T06:54:33.528Z"
   },
   {
    "duration": 4,
    "start_time": "2022-01-29T06:54:33.538Z"
   },
   {
    "duration": 14,
    "start_time": "2022-01-29T06:54:33.543Z"
   },
   {
    "duration": 6,
    "start_time": "2022-01-29T06:54:33.559Z"
   },
   {
    "duration": 346,
    "start_time": "2022-01-29T06:54:33.566Z"
   },
   {
    "duration": 18,
    "start_time": "2022-01-29T06:54:33.914Z"
   },
   {
    "duration": 3,
    "start_time": "2022-01-29T06:54:33.933Z"
   },
   {
    "duration": 94,
    "start_time": "2022-01-29T06:54:33.938Z"
   },
   {
    "duration": 22,
    "start_time": "2022-01-29T06:54:34.037Z"
   },
   {
    "duration": 22,
    "start_time": "2022-01-29T06:54:34.062Z"
   },
   {
    "duration": 15,
    "start_time": "2022-01-29T06:54:34.086Z"
   },
   {
    "duration": 20,
    "start_time": "2022-01-29T06:54:34.127Z"
   },
   {
    "duration": 18,
    "start_time": "2022-01-29T06:54:34.149Z"
   },
   {
    "duration": 11,
    "start_time": "2022-01-29T06:54:34.168Z"
   },
   {
    "duration": 48,
    "start_time": "2022-01-29T06:54:34.180Z"
   },
   {
    "duration": 8,
    "start_time": "2022-01-29T06:54:34.230Z"
   },
   {
    "duration": 25,
    "start_time": "2022-01-29T06:54:34.239Z"
   },
   {
    "duration": 21,
    "start_time": "2022-01-29T06:54:34.265Z"
   },
   {
    "duration": 5,
    "start_time": "2022-01-29T06:54:34.288Z"
   },
   {
    "duration": 49,
    "start_time": "2022-01-29T06:54:34.295Z"
   },
   {
    "duration": 5,
    "start_time": "2022-01-29T06:54:34.345Z"
   },
   {
    "duration": 30,
    "start_time": "2022-01-29T06:54:34.351Z"
   },
   {
    "duration": 5,
    "start_time": "2022-01-29T06:54:34.382Z"
   },
   {
    "duration": 6,
    "start_time": "2022-01-29T06:54:34.389Z"
   },
   {
    "duration": 31,
    "start_time": "2022-01-29T06:54:34.397Z"
   },
   {
    "duration": 10,
    "start_time": "2022-01-29T06:54:34.429Z"
   },
   {
    "duration": 8,
    "start_time": "2022-01-29T06:54:34.441Z"
   },
   {
    "duration": 14,
    "start_time": "2022-01-29T06:54:34.450Z"
   },
   {
    "duration": 9,
    "start_time": "2022-01-29T06:54:34.465Z"
   },
   {
    "duration": 4,
    "start_time": "2022-01-29T06:54:34.475Z"
   },
   {
    "duration": 8,
    "start_time": "2022-01-29T06:54:34.480Z"
   },
   {
    "duration": 38,
    "start_time": "2022-01-29T06:54:34.490Z"
   },
   {
    "duration": 10,
    "start_time": "2022-01-29T06:54:34.529Z"
   },
   {
    "duration": 11,
    "start_time": "2022-01-29T06:54:34.541Z"
   },
   {
    "duration": 9,
    "start_time": "2022-01-29T06:54:34.553Z"
   },
   {
    "duration": 9,
    "start_time": "2022-01-29T06:54:34.564Z"
   },
   {
    "duration": 3,
    "start_time": "2022-01-29T06:54:34.574Z"
   },
   {
    "duration": 5,
    "start_time": "2022-01-29T06:54:34.578Z"
   },
   {
    "duration": 7,
    "start_time": "2022-01-29T06:54:34.584Z"
   },
   {
    "duration": 40,
    "start_time": "2022-01-29T06:54:34.592Z"
   },
   {
    "duration": 3,
    "start_time": "2022-01-29T06:54:34.633Z"
   },
   {
    "duration": 11,
    "start_time": "2022-01-29T06:54:34.637Z"
   },
   {
    "duration": 6,
    "start_time": "2022-01-29T06:54:34.649Z"
   },
   {
    "duration": 3,
    "start_time": "2022-01-29T06:54:34.656Z"
   },
   {
    "duration": 440,
    "start_time": "2022-01-29T06:54:34.660Z"
   },
   {
    "duration": 12,
    "start_time": "2022-01-29T06:54:35.101Z"
   },
   {
    "duration": 14,
    "start_time": "2022-01-29T06:54:35.115Z"
   },
   {
    "duration": 10,
    "start_time": "2022-01-29T06:54:35.131Z"
   },
   {
    "duration": 7,
    "start_time": "2022-01-29T06:54:35.142Z"
   },
   {
    "duration": 15,
    "start_time": "2022-01-29T06:54:35.150Z"
   },
   {
    "duration": 418,
    "start_time": "2022-01-29T06:54:35.167Z"
   },
   {
    "duration": 8,
    "start_time": "2022-01-29T06:54:35.586Z"
   },
   {
    "duration": 6,
    "start_time": "2022-01-29T06:54:35.595Z"
   },
   {
    "duration": 25,
    "start_time": "2022-01-29T06:54:35.606Z"
   },
   {
    "duration": 7,
    "start_time": "2022-01-29T06:54:35.633Z"
   },
   {
    "duration": 10,
    "start_time": "2022-01-29T06:54:35.642Z"
   },
   {
    "duration": 328,
    "start_time": "2022-01-29T06:54:35.653Z"
   },
   {
    "duration": 8,
    "start_time": "2022-01-29T06:54:35.983Z"
   },
   {
    "duration": 236,
    "start_time": "2022-01-29T06:54:35.992Z"
   },
   {
    "duration": 359,
    "start_time": "2022-01-29T06:54:36.229Z"
   },
   {
    "duration": 229,
    "start_time": "2022-01-29T06:54:36.589Z"
   },
   {
    "duration": 13,
    "start_time": "2022-01-29T06:56:20.745Z"
   },
   {
    "duration": 1075,
    "start_time": "2022-01-29T06:59:32.062Z"
   },
   {
    "duration": 230,
    "start_time": "2022-01-29T06:59:33.139Z"
   },
   {
    "duration": 172,
    "start_time": "2022-01-29T06:59:33.372Z"
   },
   {
    "duration": 119,
    "start_time": "2022-01-29T06:59:33.546Z"
   },
   {
    "duration": 22,
    "start_time": "2022-01-29T06:59:33.667Z"
   },
   {
    "duration": 38,
    "start_time": "2022-01-29T06:59:33.691Z"
   },
   {
    "duration": 5,
    "start_time": "2022-01-29T06:59:33.731Z"
   },
   {
    "duration": 7,
    "start_time": "2022-01-29T06:59:33.738Z"
   },
   {
    "duration": 37,
    "start_time": "2022-01-29T06:59:33.746Z"
   },
   {
    "duration": 53,
    "start_time": "2022-01-29T06:59:33.785Z"
   },
   {
    "duration": 25,
    "start_time": "2022-01-29T06:59:33.840Z"
   },
   {
    "duration": 8,
    "start_time": "2022-01-29T06:59:33.867Z"
   },
   {
    "duration": 8,
    "start_time": "2022-01-29T06:59:33.877Z"
   },
   {
    "duration": 6,
    "start_time": "2022-01-29T06:59:33.887Z"
   },
   {
    "duration": 7,
    "start_time": "2022-01-29T06:59:33.927Z"
   },
   {
    "duration": 4,
    "start_time": "2022-01-29T06:59:33.936Z"
   },
   {
    "duration": 14,
    "start_time": "2022-01-29T06:59:33.941Z"
   },
   {
    "duration": 5,
    "start_time": "2022-01-29T06:59:33.957Z"
   },
   {
    "duration": 358,
    "start_time": "2022-01-29T06:59:33.963Z"
   },
   {
    "duration": 10,
    "start_time": "2022-01-29T06:59:34.323Z"
   },
   {
    "duration": 2,
    "start_time": "2022-01-29T06:59:34.335Z"
   },
   {
    "duration": 101,
    "start_time": "2022-01-29T06:59:34.339Z"
   },
   {
    "duration": 22,
    "start_time": "2022-01-29T06:59:34.443Z"
   },
   {
    "duration": 25,
    "start_time": "2022-01-29T06:59:34.467Z"
   },
   {
    "duration": 35,
    "start_time": "2022-01-29T06:59:34.494Z"
   },
   {
    "duration": 18,
    "start_time": "2022-01-29T06:59:34.530Z"
   },
   {
    "duration": 16,
    "start_time": "2022-01-29T06:59:34.550Z"
   },
   {
    "duration": 9,
    "start_time": "2022-01-29T06:59:34.567Z"
   },
   {
    "duration": 17,
    "start_time": "2022-01-29T06:59:34.577Z"
   },
   {
    "duration": 35,
    "start_time": "2022-01-29T06:59:34.596Z"
   },
   {
    "duration": 20,
    "start_time": "2022-01-29T06:59:34.633Z"
   },
   {
    "duration": 22,
    "start_time": "2022-01-29T06:59:34.655Z"
   },
   {
    "duration": 6,
    "start_time": "2022-01-29T06:59:34.678Z"
   },
   {
    "duration": 53,
    "start_time": "2022-01-29T06:59:34.685Z"
   },
   {
    "duration": 6,
    "start_time": "2022-01-29T06:59:34.740Z"
   },
   {
    "duration": 46,
    "start_time": "2022-01-29T06:59:34.747Z"
   },
   {
    "duration": 5,
    "start_time": "2022-01-29T06:59:34.795Z"
   },
   {
    "duration": 28,
    "start_time": "2022-01-29T06:59:34.802Z"
   },
   {
    "duration": 8,
    "start_time": "2022-01-29T06:59:34.832Z"
   },
   {
    "duration": 12,
    "start_time": "2022-01-29T06:59:34.841Z"
   },
   {
    "duration": 8,
    "start_time": "2022-01-29T06:59:34.855Z"
   },
   {
    "duration": 13,
    "start_time": "2022-01-29T06:59:34.865Z"
   },
   {
    "duration": 9,
    "start_time": "2022-01-29T06:59:34.880Z"
   },
   {
    "duration": 3,
    "start_time": "2022-01-29T06:59:34.890Z"
   },
   {
    "duration": 33,
    "start_time": "2022-01-29T06:59:34.895Z"
   },
   {
    "duration": 6,
    "start_time": "2022-01-29T06:59:34.929Z"
   },
   {
    "duration": 11,
    "start_time": "2022-01-29T06:59:34.936Z"
   },
   {
    "duration": 9,
    "start_time": "2022-01-29T06:59:34.948Z"
   },
   {
    "duration": 9,
    "start_time": "2022-01-29T06:59:34.959Z"
   },
   {
    "duration": 9,
    "start_time": "2022-01-29T06:59:34.969Z"
   },
   {
    "duration": 3,
    "start_time": "2022-01-29T06:59:34.979Z"
   },
   {
    "duration": 4,
    "start_time": "2022-01-29T06:59:34.983Z"
   },
   {
    "duration": 38,
    "start_time": "2022-01-29T06:59:34.989Z"
   },
   {
    "duration": 10,
    "start_time": "2022-01-29T06:59:35.029Z"
   },
   {
    "duration": 3,
    "start_time": "2022-01-29T06:59:35.041Z"
   },
   {
    "duration": 13,
    "start_time": "2022-01-29T06:59:35.045Z"
   },
   {
    "duration": 9,
    "start_time": "2022-01-29T06:59:35.059Z"
   },
   {
    "duration": 3,
    "start_time": "2022-01-29T06:59:35.069Z"
   },
   {
    "duration": 329,
    "start_time": "2022-01-29T06:59:35.073Z"
   },
   {
    "duration": 24,
    "start_time": "2022-01-29T06:59:35.404Z"
   },
   {
    "duration": 7,
    "start_time": "2022-01-29T06:59:35.429Z"
   },
   {
    "duration": 9,
    "start_time": "2022-01-29T06:59:35.437Z"
   },
   {
    "duration": 423,
    "start_time": "2022-01-29T06:59:35.448Z"
   },
   {
    "duration": 12,
    "start_time": "2022-01-29T06:59:35.872Z"
   },
   {
    "duration": 9,
    "start_time": "2022-01-29T06:59:35.885Z"
   },
   {
    "duration": 6,
    "start_time": "2022-01-29T06:59:35.895Z"
   },
   {
    "duration": 337,
    "start_time": "2022-01-29T06:59:35.903Z"
   },
   {
    "duration": 11,
    "start_time": "2022-01-29T06:59:36.244Z"
   },
   {
    "duration": 233,
    "start_time": "2022-01-29T06:59:36.257Z"
   },
   {
    "duration": 261,
    "start_time": "2022-01-29T06:59:36.491Z"
   },
   {
    "duration": 237,
    "start_time": "2022-01-29T06:59:36.753Z"
   },
   {
    "duration": 7,
    "start_time": "2022-01-29T07:21:52.285Z"
   },
   {
    "duration": 7,
    "start_time": "2022-01-29T07:24:41.977Z"
   },
   {
    "duration": 1046,
    "start_time": "2022-01-29T07:24:50.124Z"
   },
   {
    "duration": 239,
    "start_time": "2022-01-29T07:24:51.172Z"
   },
   {
    "duration": 177,
    "start_time": "2022-01-29T07:24:51.413Z"
   },
   {
    "duration": 118,
    "start_time": "2022-01-29T07:24:51.591Z"
   },
   {
    "duration": 22,
    "start_time": "2022-01-29T07:24:51.711Z"
   },
   {
    "duration": 38,
    "start_time": "2022-01-29T07:24:51.735Z"
   },
   {
    "duration": 9,
    "start_time": "2022-01-29T07:24:51.775Z"
   },
   {
    "duration": 16,
    "start_time": "2022-01-29T07:24:51.787Z"
   },
   {
    "duration": 41,
    "start_time": "2022-01-29T07:24:51.805Z"
   },
   {
    "duration": 30,
    "start_time": "2022-01-29T07:24:51.848Z"
   },
   {
    "duration": 26,
    "start_time": "2022-01-29T07:24:51.880Z"
   },
   {
    "duration": 9,
    "start_time": "2022-01-29T07:24:51.927Z"
   },
   {
    "duration": 11,
    "start_time": "2022-01-29T07:24:51.937Z"
   },
   {
    "duration": 6,
    "start_time": "2022-01-29T07:24:51.949Z"
   },
   {
    "duration": 8,
    "start_time": "2022-01-29T07:24:51.956Z"
   },
   {
    "duration": 4,
    "start_time": "2022-01-29T07:24:51.965Z"
   },
   {
    "duration": 15,
    "start_time": "2022-01-29T07:24:51.970Z"
   },
   {
    "duration": 41,
    "start_time": "2022-01-29T07:24:51.986Z"
   },
   {
    "duration": 325,
    "start_time": "2022-01-29T07:24:52.028Z"
   },
   {
    "duration": 10,
    "start_time": "2022-01-29T07:24:52.355Z"
   },
   {
    "duration": 2,
    "start_time": "2022-01-29T07:24:52.367Z"
   },
   {
    "duration": 101,
    "start_time": "2022-01-29T07:24:52.370Z"
   },
   {
    "duration": 22,
    "start_time": "2022-01-29T07:24:52.474Z"
   },
   {
    "duration": 33,
    "start_time": "2022-01-29T07:24:52.498Z"
   },
   {
    "duration": 14,
    "start_time": "2022-01-29T07:24:52.533Z"
   },
   {
    "duration": 18,
    "start_time": "2022-01-29T07:24:52.548Z"
   },
   {
    "duration": 17,
    "start_time": "2022-01-29T07:24:52.568Z"
   },
   {
    "duration": 40,
    "start_time": "2022-01-29T07:24:52.587Z"
   },
   {
    "duration": 19,
    "start_time": "2022-01-29T07:24:52.628Z"
   },
   {
    "duration": 8,
    "start_time": "2022-01-29T07:24:52.649Z"
   },
   {
    "duration": 26,
    "start_time": "2022-01-29T07:24:52.659Z"
   },
   {
    "duration": 20,
    "start_time": "2022-01-29T07:24:52.687Z"
   },
   {
    "duration": 21,
    "start_time": "2022-01-29T07:24:52.709Z"
   },
   {
    "duration": 27,
    "start_time": "2022-01-29T07:24:52.731Z"
   },
   {
    "duration": 5,
    "start_time": "2022-01-29T07:24:52.759Z"
   },
   {
    "duration": 30,
    "start_time": "2022-01-29T07:24:52.765Z"
   },
   {
    "duration": 34,
    "start_time": "2022-01-29T07:24:52.796Z"
   },
   {
    "duration": 8,
    "start_time": "2022-01-29T07:24:52.832Z"
   },
   {
    "duration": 9,
    "start_time": "2022-01-29T07:24:52.841Z"
   },
   {
    "duration": 9,
    "start_time": "2022-01-29T07:24:52.851Z"
   },
   {
    "duration": 11,
    "start_time": "2022-01-29T07:24:52.861Z"
   },
   {
    "duration": 13,
    "start_time": "2022-01-29T07:24:52.873Z"
   },
   {
    "duration": 7,
    "start_time": "2022-01-29T07:24:52.888Z"
   },
   {
    "duration": 31,
    "start_time": "2022-01-29T07:24:52.897Z"
   },
   {
    "duration": 7,
    "start_time": "2022-01-29T07:24:52.929Z"
   },
   {
    "duration": 6,
    "start_time": "2022-01-29T07:24:52.938Z"
   },
   {
    "duration": 10,
    "start_time": "2022-01-29T07:24:52.945Z"
   },
   {
    "duration": 9,
    "start_time": "2022-01-29T07:24:52.957Z"
   },
   {
    "duration": 10,
    "start_time": "2022-01-29T07:24:52.967Z"
   },
   {
    "duration": 9,
    "start_time": "2022-01-29T07:24:52.978Z"
   },
   {
    "duration": 3,
    "start_time": "2022-01-29T07:24:52.989Z"
   },
   {
    "duration": 35,
    "start_time": "2022-01-29T07:24:52.993Z"
   },
   {
    "duration": 8,
    "start_time": "2022-01-29T07:24:53.030Z"
   },
   {
    "duration": 9,
    "start_time": "2022-01-29T07:24:53.039Z"
   },
   {
    "duration": 3,
    "start_time": "2022-01-29T07:24:53.049Z"
   },
   {
    "duration": 10,
    "start_time": "2022-01-29T07:24:53.053Z"
   },
   {
    "duration": 8,
    "start_time": "2022-01-29T07:24:53.064Z"
   },
   {
    "duration": 5,
    "start_time": "2022-01-29T07:24:53.073Z"
   },
   {
    "duration": 377,
    "start_time": "2022-01-29T07:24:53.079Z"
   },
   {
    "duration": 12,
    "start_time": "2022-01-29T07:24:53.458Z"
   },
   {
    "duration": 7,
    "start_time": "2022-01-29T07:24:53.472Z"
   },
   {
    "duration": 9,
    "start_time": "2022-01-29T07:24:53.480Z"
   },
   {
    "duration": 441,
    "start_time": "2022-01-29T07:24:53.491Z"
   },
   {
    "duration": 13,
    "start_time": "2022-01-29T07:24:53.933Z"
   },
   {
    "duration": 8,
    "start_time": "2022-01-29T07:24:53.947Z"
   },
   {
    "duration": 7,
    "start_time": "2022-01-29T07:24:53.957Z"
   },
   {
    "duration": 356,
    "start_time": "2022-01-29T07:24:53.965Z"
   },
   {
    "duration": 12,
    "start_time": "2022-01-29T07:24:54.325Z"
   },
   {
    "duration": 7,
    "start_time": "2022-01-29T07:24:54.339Z"
   },
   {
    "duration": 7,
    "start_time": "2022-01-29T07:24:54.348Z"
   },
   {
    "duration": 264,
    "start_time": "2022-01-29T07:24:54.357Z"
   },
   {
    "duration": 269,
    "start_time": "2022-01-29T07:24:54.623Z"
   },
   {
    "duration": 237,
    "start_time": "2022-01-29T07:24:54.893Z"
   },
   {
    "duration": 1032,
    "start_time": "2022-01-29T07:25:45.161Z"
   },
   {
    "duration": 228,
    "start_time": "2022-01-29T07:25:46.195Z"
   },
   {
    "duration": 177,
    "start_time": "2022-01-29T07:25:46.425Z"
   },
   {
    "duration": 116,
    "start_time": "2022-01-29T07:25:46.603Z"
   },
   {
    "duration": 22,
    "start_time": "2022-01-29T07:25:46.720Z"
   },
   {
    "duration": 38,
    "start_time": "2022-01-29T07:25:46.744Z"
   },
   {
    "duration": 5,
    "start_time": "2022-01-29T07:25:46.783Z"
   },
   {
    "duration": 8,
    "start_time": "2022-01-29T07:25:46.790Z"
   },
   {
    "duration": 40,
    "start_time": "2022-01-29T07:25:46.799Z"
   },
   {
    "duration": 31,
    "start_time": "2022-01-29T07:25:46.840Z"
   },
   {
    "duration": 26,
    "start_time": "2022-01-29T07:25:46.872Z"
   },
   {
    "duration": 31,
    "start_time": "2022-01-29T07:25:46.900Z"
   },
   {
    "duration": 10,
    "start_time": "2022-01-29T07:25:46.933Z"
   },
   {
    "duration": 6,
    "start_time": "2022-01-29T07:25:46.945Z"
   },
   {
    "duration": 7,
    "start_time": "2022-01-29T07:25:46.953Z"
   },
   {
    "duration": 5,
    "start_time": "2022-01-29T07:25:46.961Z"
   },
   {
    "duration": 14,
    "start_time": "2022-01-29T07:25:46.967Z"
   },
   {
    "duration": 6,
    "start_time": "2022-01-29T07:25:46.982Z"
   },
   {
    "duration": 321,
    "start_time": "2022-01-29T07:25:47.028Z"
   },
   {
    "duration": 10,
    "start_time": "2022-01-29T07:25:47.350Z"
   },
   {
    "duration": 2,
    "start_time": "2022-01-29T07:25:47.362Z"
   },
   {
    "duration": 95,
    "start_time": "2022-01-29T07:25:47.365Z"
   },
   {
    "duration": 22,
    "start_time": "2022-01-29T07:25:47.468Z"
   },
   {
    "duration": 37,
    "start_time": "2022-01-29T07:25:47.492Z"
   },
   {
    "duration": 14,
    "start_time": "2022-01-29T07:25:47.531Z"
   },
   {
    "duration": 18,
    "start_time": "2022-01-29T07:25:47.547Z"
   },
   {
    "duration": 17,
    "start_time": "2022-01-29T07:25:47.566Z"
   },
   {
    "duration": 8,
    "start_time": "2022-01-29T07:25:47.584Z"
   },
   {
    "duration": 42,
    "start_time": "2022-01-29T07:25:47.593Z"
   },
   {
    "duration": 7,
    "start_time": "2022-01-29T07:25:47.637Z"
   },
   {
    "duration": 20,
    "start_time": "2022-01-29T07:25:47.645Z"
   },
   {
    "duration": 21,
    "start_time": "2022-01-29T07:25:47.666Z"
   },
   {
    "duration": 5,
    "start_time": "2022-01-29T07:25:47.688Z"
   },
   {
    "duration": 52,
    "start_time": "2022-01-29T07:25:47.695Z"
   },
   {
    "duration": 4,
    "start_time": "2022-01-29T07:25:47.749Z"
   },
   {
    "duration": 30,
    "start_time": "2022-01-29T07:25:47.755Z"
   },
   {
    "duration": 4,
    "start_time": "2022-01-29T07:25:47.787Z"
   },
   {
    "duration": 7,
    "start_time": "2022-01-29T07:25:47.793Z"
   },
   {
    "duration": 28,
    "start_time": "2022-01-29T07:25:47.801Z"
   },
   {
    "duration": 10,
    "start_time": "2022-01-29T07:25:47.831Z"
   },
   {
    "duration": 8,
    "start_time": "2022-01-29T07:25:47.843Z"
   },
   {
    "duration": 13,
    "start_time": "2022-01-29T07:25:47.852Z"
   },
   {
    "duration": 9,
    "start_time": "2022-01-29T07:25:47.866Z"
   },
   {
    "duration": 3,
    "start_time": "2022-01-29T07:25:47.877Z"
   },
   {
    "duration": 8,
    "start_time": "2022-01-29T07:25:47.882Z"
   },
   {
    "duration": 5,
    "start_time": "2022-01-29T07:25:47.892Z"
   },
   {
    "duration": 9,
    "start_time": "2022-01-29T07:25:47.927Z"
   },
   {
    "duration": 10,
    "start_time": "2022-01-29T07:25:47.938Z"
   },
   {
    "duration": 9,
    "start_time": "2022-01-29T07:25:47.949Z"
   },
   {
    "duration": 15,
    "start_time": "2022-01-29T07:25:47.960Z"
   },
   {
    "duration": 5,
    "start_time": "2022-01-29T07:25:47.976Z"
   },
   {
    "duration": 5,
    "start_time": "2022-01-29T07:25:47.982Z"
   },
   {
    "duration": 7,
    "start_time": "2022-01-29T07:25:47.988Z"
   },
   {
    "duration": 31,
    "start_time": "2022-01-29T07:25:47.996Z"
   },
   {
    "duration": 3,
    "start_time": "2022-01-29T07:25:48.028Z"
   },
   {
    "duration": 14,
    "start_time": "2022-01-29T07:25:48.033Z"
   },
   {
    "duration": 7,
    "start_time": "2022-01-29T07:25:48.049Z"
   },
   {
    "duration": 3,
    "start_time": "2022-01-29T07:25:48.057Z"
   },
   {
    "duration": 316,
    "start_time": "2022-01-29T07:25:48.061Z"
   },
   {
    "duration": 12,
    "start_time": "2022-01-29T07:25:48.379Z"
   },
   {
    "duration": 6,
    "start_time": "2022-01-29T07:25:48.393Z"
   },
   {
    "duration": 27,
    "start_time": "2022-01-29T07:25:48.400Z"
   },
   {
    "duration": 407,
    "start_time": "2022-01-29T07:25:48.428Z"
   },
   {
    "duration": 12,
    "start_time": "2022-01-29T07:25:48.837Z"
   },
   {
    "duration": 6,
    "start_time": "2022-01-29T07:25:48.850Z"
   },
   {
    "duration": 6,
    "start_time": "2022-01-29T07:25:48.857Z"
   },
   {
    "duration": 440,
    "start_time": "2022-01-29T07:25:48.865Z"
   },
   {
    "duration": 19,
    "start_time": "2022-01-29T07:25:49.310Z"
   },
   {
    "duration": 8,
    "start_time": "2022-01-29T07:25:49.330Z"
   },
   {
    "duration": 9,
    "start_time": "2022-01-29T07:25:49.339Z"
   },
   {
    "duration": 7,
    "start_time": "2022-01-29T07:25:49.349Z"
   },
   {
    "duration": 236,
    "start_time": "2022-01-29T07:25:49.358Z"
   },
   {
    "duration": 262,
    "start_time": "2022-01-29T07:25:49.596Z"
   },
   {
    "duration": 232,
    "start_time": "2022-01-29T07:25:49.859Z"
   },
   {
    "duration": 1105,
    "start_time": "2022-01-29T07:26:43.347Z"
   },
   {
    "duration": 230,
    "start_time": "2022-01-29T07:26:44.453Z"
   },
   {
    "duration": 171,
    "start_time": "2022-01-29T07:26:44.685Z"
   },
   {
    "duration": 121,
    "start_time": "2022-01-29T07:26:44.858Z"
   },
   {
    "duration": 22,
    "start_time": "2022-01-29T07:26:44.981Z"
   },
   {
    "duration": 44,
    "start_time": "2022-01-29T07:26:45.004Z"
   },
   {
    "duration": 6,
    "start_time": "2022-01-29T07:26:45.049Z"
   },
   {
    "duration": 8,
    "start_time": "2022-01-29T07:26:45.058Z"
   },
   {
    "duration": 40,
    "start_time": "2022-01-29T07:26:45.069Z"
   },
   {
    "duration": 31,
    "start_time": "2022-01-29T07:26:45.126Z"
   },
   {
    "duration": 25,
    "start_time": "2022-01-29T07:26:45.158Z"
   },
   {
    "duration": 8,
    "start_time": "2022-01-29T07:26:45.185Z"
   },
   {
    "duration": 34,
    "start_time": "2022-01-29T07:26:45.195Z"
   },
   {
    "duration": 6,
    "start_time": "2022-01-29T07:26:45.231Z"
   },
   {
    "duration": 17,
    "start_time": "2022-01-29T07:26:45.239Z"
   },
   {
    "duration": 6,
    "start_time": "2022-01-29T07:26:45.258Z"
   },
   {
    "duration": 18,
    "start_time": "2022-01-29T07:26:45.265Z"
   },
   {
    "duration": 5,
    "start_time": "2022-01-29T07:26:45.284Z"
   },
   {
    "duration": 316,
    "start_time": "2022-01-29T07:26:45.291Z"
   },
   {
    "duration": 20,
    "start_time": "2022-01-29T07:26:45.608Z"
   },
   {
    "duration": 2,
    "start_time": "2022-01-29T07:26:45.629Z"
   },
   {
    "duration": 87,
    "start_time": "2022-01-29T07:26:45.633Z"
   },
   {
    "duration": 21,
    "start_time": "2022-01-29T07:26:45.724Z"
   },
   {
    "duration": 24,
    "start_time": "2022-01-29T07:26:45.747Z"
   },
   {
    "duration": 15,
    "start_time": "2022-01-29T07:26:45.772Z"
   },
   {
    "duration": 42,
    "start_time": "2022-01-29T07:26:45.788Z"
   },
   {
    "duration": 16,
    "start_time": "2022-01-29T07:26:45.832Z"
   },
   {
    "duration": 9,
    "start_time": "2022-01-29T07:26:45.849Z"
   },
   {
    "duration": 18,
    "start_time": "2022-01-29T07:26:45.859Z"
   },
   {
    "duration": 6,
    "start_time": "2022-01-29T07:26:45.879Z"
   },
   {
    "duration": 43,
    "start_time": "2022-01-29T07:26:45.887Z"
   },
   {
    "duration": 22,
    "start_time": "2022-01-29T07:26:45.931Z"
   },
   {
    "duration": 5,
    "start_time": "2022-01-29T07:26:45.954Z"
   },
   {
    "duration": 25,
    "start_time": "2022-01-29T07:26:45.961Z"
   },
   {
    "duration": 5,
    "start_time": "2022-01-29T07:26:45.987Z"
   },
   {
    "duration": 59,
    "start_time": "2022-01-29T07:26:45.993Z"
   },
   {
    "duration": 4,
    "start_time": "2022-01-29T07:26:46.054Z"
   },
   {
    "duration": 9,
    "start_time": "2022-01-29T07:26:46.060Z"
   },
   {
    "duration": 8,
    "start_time": "2022-01-29T07:26:46.071Z"
   },
   {
    "duration": 9,
    "start_time": "2022-01-29T07:26:46.080Z"
   },
   {
    "duration": 8,
    "start_time": "2022-01-29T07:26:46.091Z"
   },
   {
    "duration": 37,
    "start_time": "2022-01-29T07:26:46.100Z"
   },
   {
    "duration": 8,
    "start_time": "2022-01-29T07:26:46.138Z"
   },
   {
    "duration": 4,
    "start_time": "2022-01-29T07:26:46.147Z"
   },
   {
    "duration": 8,
    "start_time": "2022-01-29T07:26:46.152Z"
   },
   {
    "duration": 6,
    "start_time": "2022-01-29T07:26:46.161Z"
   },
   {
    "duration": 9,
    "start_time": "2022-01-29T07:26:46.168Z"
   },
   {
    "duration": 10,
    "start_time": "2022-01-29T07:26:46.179Z"
   },
   {
    "duration": 42,
    "start_time": "2022-01-29T07:26:46.191Z"
   },
   {
    "duration": 10,
    "start_time": "2022-01-29T07:26:46.234Z"
   },
   {
    "duration": 3,
    "start_time": "2022-01-29T07:26:46.245Z"
   },
   {
    "duration": 6,
    "start_time": "2022-01-29T07:26:46.249Z"
   },
   {
    "duration": 7,
    "start_time": "2022-01-29T07:26:46.256Z"
   },
   {
    "duration": 10,
    "start_time": "2022-01-29T07:26:46.265Z"
   },
   {
    "duration": 3,
    "start_time": "2022-01-29T07:26:46.277Z"
   },
   {
    "duration": 9,
    "start_time": "2022-01-29T07:26:46.281Z"
   },
   {
    "duration": 8,
    "start_time": "2022-01-29T07:26:46.291Z"
   },
   {
    "duration": 27,
    "start_time": "2022-01-29T07:26:46.300Z"
   },
   {
    "duration": 318,
    "start_time": "2022-01-29T07:26:46.329Z"
   },
   {
    "duration": 12,
    "start_time": "2022-01-29T07:26:46.648Z"
   },
   {
    "duration": 6,
    "start_time": "2022-01-29T07:26:46.661Z"
   },
   {
    "duration": 8,
    "start_time": "2022-01-29T07:26:46.669Z"
   },
   {
    "duration": 435,
    "start_time": "2022-01-29T07:26:46.678Z"
   },
   {
    "duration": 22,
    "start_time": "2022-01-29T07:26:47.115Z"
   },
   {
    "duration": 7,
    "start_time": "2022-01-29T07:26:47.138Z"
   },
   {
    "duration": 7,
    "start_time": "2022-01-29T07:26:47.147Z"
   },
   {
    "duration": 431,
    "start_time": "2022-01-29T07:26:47.156Z"
   },
   {
    "duration": 14,
    "start_time": "2022-01-29T07:26:47.592Z"
   },
   {
    "duration": 20,
    "start_time": "2022-01-29T07:26:47.607Z"
   },
   {
    "duration": 7,
    "start_time": "2022-01-29T07:26:47.628Z"
   },
   {
    "duration": 8,
    "start_time": "2022-01-29T07:26:47.636Z"
   },
   {
    "duration": 234,
    "start_time": "2022-01-29T07:26:47.645Z"
   },
   {
    "duration": 258,
    "start_time": "2022-01-29T07:26:47.880Z"
   },
   {
    "duration": 223,
    "start_time": "2022-01-29T07:26:48.140Z"
   },
   {
    "duration": 6,
    "start_time": "2022-01-29T07:29:01.324Z"
   },
   {
    "duration": 5,
    "start_time": "2022-01-29T07:30:12.454Z"
   },
   {
    "duration": 5,
    "start_time": "2022-01-29T07:30:26.682Z"
   },
   {
    "duration": 3,
    "start_time": "2022-01-29T07:32:59.893Z"
   },
   {
    "duration": 394,
    "start_time": "2022-01-29T07:43:58.863Z"
   },
   {
    "duration": 8,
    "start_time": "2022-01-29T07:44:02.500Z"
   },
   {
    "duration": 4,
    "start_time": "2022-01-29T07:44:06.934Z"
   },
   {
    "duration": 5,
    "start_time": "2022-01-29T07:44:37.791Z"
   },
   {
    "duration": 6,
    "start_time": "2022-01-29T07:46:11.578Z"
   },
   {
    "duration": 291,
    "start_time": "2022-01-29T07:46:59.786Z"
   },
   {
    "duration": 7,
    "start_time": "2022-01-29T07:47:41.899Z"
   },
   {
    "duration": 502,
    "start_time": "2022-01-29T07:53:54.498Z"
   },
   {
    "duration": 568,
    "start_time": "2022-01-29T07:54:06.512Z"
   },
   {
    "duration": 2117,
    "start_time": "2022-01-29T07:55:01.334Z"
   },
   {
    "duration": 5,
    "start_time": "2022-01-29T07:55:25.853Z"
   },
   {
    "duration": 5,
    "start_time": "2022-01-29T07:57:39.030Z"
   },
   {
    "duration": 5,
    "start_time": "2022-01-29T07:58:09.715Z"
   },
   {
    "duration": 5,
    "start_time": "2022-01-29T08:01:08.531Z"
   },
   {
    "duration": 5,
    "start_time": "2022-01-29T08:01:21.320Z"
   },
   {
    "duration": 89,
    "start_time": "2022-01-29T08:05:57.824Z"
   },
   {
    "duration": 282,
    "start_time": "2022-01-29T08:06:19.437Z"
   },
   {
    "duration": 5,
    "start_time": "2022-01-29T08:06:33.839Z"
   },
   {
    "duration": 5,
    "start_time": "2022-01-29T08:07:14.429Z"
   },
   {
    "duration": 5,
    "start_time": "2022-01-29T08:07:24.513Z"
   },
   {
    "duration": 5,
    "start_time": "2022-01-29T08:07:29.537Z"
   },
   {
    "duration": 97,
    "start_time": "2022-01-29T08:24:01.135Z"
   },
   {
    "duration": 12,
    "start_time": "2022-01-29T08:28:39.418Z"
   },
   {
    "duration": 315,
    "start_time": "2022-01-29T08:30:28.953Z"
   },
   {
    "duration": 5,
    "start_time": "2022-01-29T08:30:49.191Z"
   },
   {
    "duration": 6,
    "start_time": "2022-01-29T08:31:30.391Z"
   },
   {
    "duration": 6,
    "start_time": "2022-01-29T08:34:08.522Z"
   },
   {
    "duration": 1100,
    "start_time": "2022-01-29T08:42:00.356Z"
   },
   {
    "duration": 256,
    "start_time": "2022-01-29T08:42:01.457Z"
   },
   {
    "duration": 191,
    "start_time": "2022-01-29T08:42:01.716Z"
   },
   {
    "duration": 126,
    "start_time": "2022-01-29T08:42:01.910Z"
   },
   {
    "duration": 22,
    "start_time": "2022-01-29T08:42:02.038Z"
   },
   {
    "duration": 38,
    "start_time": "2022-01-29T08:42:02.062Z"
   },
   {
    "duration": 5,
    "start_time": "2022-01-29T08:42:02.102Z"
   },
   {
    "duration": 7,
    "start_time": "2022-01-29T08:42:02.109Z"
   },
   {
    "duration": 38,
    "start_time": "2022-01-29T08:42:02.118Z"
   },
   {
    "duration": 29,
    "start_time": "2022-01-29T08:42:02.157Z"
   },
   {
    "duration": 40,
    "start_time": "2022-01-29T08:42:02.187Z"
   },
   {
    "duration": 10,
    "start_time": "2022-01-29T08:42:02.228Z"
   },
   {
    "duration": 10,
    "start_time": "2022-01-29T08:42:02.239Z"
   },
   {
    "duration": 7,
    "start_time": "2022-01-29T08:42:02.251Z"
   },
   {
    "duration": 9,
    "start_time": "2022-01-29T08:42:02.260Z"
   },
   {
    "duration": 4,
    "start_time": "2022-01-29T08:42:02.271Z"
   },
   {
    "duration": 16,
    "start_time": "2022-01-29T08:42:02.277Z"
   },
   {
    "duration": 8,
    "start_time": "2022-01-29T08:42:02.327Z"
   },
   {
    "duration": 319,
    "start_time": "2022-01-29T08:42:02.337Z"
   },
   {
    "duration": 10,
    "start_time": "2022-01-29T08:42:02.658Z"
   },
   {
    "duration": 7,
    "start_time": "2022-01-29T08:42:02.670Z"
   },
   {
    "duration": 94,
    "start_time": "2022-01-29T08:42:02.678Z"
   },
   {
    "duration": 22,
    "start_time": "2022-01-29T08:42:02.775Z"
   },
   {
    "duration": 37,
    "start_time": "2022-01-29T08:42:02.800Z"
   },
   {
    "duration": 14,
    "start_time": "2022-01-29T08:42:02.839Z"
   },
   {
    "duration": 18,
    "start_time": "2022-01-29T08:42:02.855Z"
   },
   {
    "duration": 17,
    "start_time": "2022-01-29T08:42:02.874Z"
   },
   {
    "duration": 35,
    "start_time": "2022-01-29T08:42:02.892Z"
   },
   {
    "duration": 19,
    "start_time": "2022-01-29T08:42:02.928Z"
   },
   {
    "duration": 7,
    "start_time": "2022-01-29T08:42:02.948Z"
   },
   {
    "duration": 24,
    "start_time": "2022-01-29T08:42:02.957Z"
   },
   {
    "duration": 22,
    "start_time": "2022-01-29T08:42:02.982Z"
   },
   {
    "duration": 26,
    "start_time": "2022-01-29T08:42:03.005Z"
   },
   {
    "duration": 29,
    "start_time": "2022-01-29T08:42:03.032Z"
   },
   {
    "duration": 4,
    "start_time": "2022-01-29T08:42:03.063Z"
   },
   {
    "duration": 28,
    "start_time": "2022-01-29T08:42:03.068Z"
   },
   {
    "duration": 30,
    "start_time": "2022-01-29T08:42:03.097Z"
   },
   {
    "duration": 6,
    "start_time": "2022-01-29T08:42:03.128Z"
   },
   {
    "duration": 9,
    "start_time": "2022-01-29T08:42:03.135Z"
   },
   {
    "duration": 16,
    "start_time": "2022-01-29T08:42:03.146Z"
   },
   {
    "duration": 9,
    "start_time": "2022-01-29T08:42:03.163Z"
   },
   {
    "duration": 14,
    "start_time": "2022-01-29T08:42:03.173Z"
   },
   {
    "duration": 10,
    "start_time": "2022-01-29T08:42:03.189Z"
   },
   {
    "duration": 28,
    "start_time": "2022-01-29T08:42:03.200Z"
   },
   {
    "duration": 7,
    "start_time": "2022-01-29T08:42:03.229Z"
   },
   {
    "duration": 6,
    "start_time": "2022-01-29T08:42:03.237Z"
   },
   {
    "duration": 11,
    "start_time": "2022-01-29T08:42:03.244Z"
   },
   {
    "duration": 10,
    "start_time": "2022-01-29T08:42:03.256Z"
   },
   {
    "duration": 10,
    "start_time": "2022-01-29T08:42:03.267Z"
   },
   {
    "duration": 12,
    "start_time": "2022-01-29T08:42:03.278Z"
   },
   {
    "duration": 37,
    "start_time": "2022-01-29T08:42:03.291Z"
   },
   {
    "duration": 8,
    "start_time": "2022-01-29T08:42:03.329Z"
   },
   {
    "duration": 9,
    "start_time": "2022-01-29T08:42:03.338Z"
   },
   {
    "duration": 3,
    "start_time": "2022-01-29T08:42:03.348Z"
   },
   {
    "duration": 9,
    "start_time": "2022-01-29T08:42:03.352Z"
   },
   {
    "duration": 9,
    "start_time": "2022-01-29T08:42:03.362Z"
   },
   {
    "duration": 3,
    "start_time": "2022-01-29T08:42:03.373Z"
   },
   {
    "duration": 331,
    "start_time": "2022-01-29T08:42:03.377Z"
   },
   {
    "duration": 20,
    "start_time": "2022-01-29T08:42:03.709Z"
   },
   {
    "duration": 6,
    "start_time": "2022-01-29T08:42:03.731Z"
   },
   {
    "duration": 7,
    "start_time": "2022-01-29T08:42:03.738Z"
   },
   {
    "duration": 433,
    "start_time": "2022-01-29T08:42:03.746Z"
   },
   {
    "duration": 13,
    "start_time": "2022-01-29T08:42:04.181Z"
   },
   {
    "duration": 6,
    "start_time": "2022-01-29T08:42:04.196Z"
   },
   {
    "duration": 26,
    "start_time": "2022-01-29T08:42:04.203Z"
   },
   {
    "duration": 325,
    "start_time": "2022-01-29T08:42:04.231Z"
   },
   {
    "duration": 12,
    "start_time": "2022-01-29T08:42:04.558Z"
   },
   {
    "duration": 7,
    "start_time": "2022-01-29T08:42:04.575Z"
   },
   {
    "duration": 7,
    "start_time": "2022-01-29T08:42:04.584Z"
   },
   {
    "duration": 36,
    "start_time": "2022-01-29T08:42:04.593Z"
   },
   {
    "duration": 7,
    "start_time": "2022-01-29T08:42:04.631Z"
   },
   {
    "duration": 3,
    "start_time": "2022-01-29T08:42:04.639Z"
   },
   {
    "duration": 7,
    "start_time": "2022-01-29T08:42:04.644Z"
   },
   {
    "duration": 5,
    "start_time": "2022-01-29T08:42:04.653Z"
   },
   {
    "duration": 5,
    "start_time": "2022-01-29T08:42:04.660Z"
   },
   {
    "duration": 7,
    "start_time": "2022-01-29T08:42:04.667Z"
   },
   {
    "duration": 8,
    "start_time": "2022-01-29T08:42:04.676Z"
   },
   {
    "duration": 48,
    "start_time": "2022-01-29T08:42:04.685Z"
   },
   {
    "duration": 8,
    "start_time": "2022-01-29T08:42:04.735Z"
   },
   {
    "duration": 9,
    "start_time": "2022-01-29T08:42:04.744Z"
   },
   {
    "duration": 11,
    "start_time": "2022-01-29T08:42:04.754Z"
   },
   {
    "duration": 11,
    "start_time": "2022-01-29T08:42:04.766Z"
   },
   {
    "duration": 273,
    "start_time": "2022-01-29T08:42:04.778Z"
   },
   {
    "duration": 260,
    "start_time": "2022-01-29T08:42:05.053Z"
   },
   {
    "duration": 231,
    "start_time": "2022-01-29T08:42:05.315Z"
   },
   {
    "duration": 2,
    "start_time": "2022-01-29T08:44:46.528Z"
   },
   {
    "duration": 221,
    "start_time": "2022-01-29T08:44:46.537Z"
   },
   {
    "duration": 197,
    "start_time": "2022-01-29T08:44:46.760Z"
   },
   {
    "duration": 122,
    "start_time": "2022-01-29T08:44:46.959Z"
   },
   {
    "duration": 24,
    "start_time": "2022-01-29T08:44:47.083Z"
   },
   {
    "duration": 41,
    "start_time": "2022-01-29T08:44:47.109Z"
   },
   {
    "duration": 5,
    "start_time": "2022-01-29T08:44:47.151Z"
   },
   {
    "duration": 7,
    "start_time": "2022-01-29T08:44:47.157Z"
   },
   {
    "duration": 37,
    "start_time": "2022-01-29T08:44:47.166Z"
   },
   {
    "duration": 50,
    "start_time": "2022-01-29T08:44:47.205Z"
   },
   {
    "duration": 26,
    "start_time": "2022-01-29T08:44:47.256Z"
   },
   {
    "duration": 10,
    "start_time": "2022-01-29T08:44:47.284Z"
   },
   {
    "duration": 10,
    "start_time": "2022-01-29T08:44:47.327Z"
   },
   {
    "duration": 7,
    "start_time": "2022-01-29T08:44:47.338Z"
   },
   {
    "duration": 8,
    "start_time": "2022-01-29T08:44:47.346Z"
   },
   {
    "duration": 4,
    "start_time": "2022-01-29T08:44:47.355Z"
   },
   {
    "duration": 10,
    "start_time": "2022-01-29T08:44:47.361Z"
   },
   {
    "duration": 7,
    "start_time": "2022-01-29T08:44:47.373Z"
   },
   {
    "duration": 330,
    "start_time": "2022-01-29T08:44:47.382Z"
   },
   {
    "duration": 22,
    "start_time": "2022-01-29T08:44:47.714Z"
   },
   {
    "duration": 2,
    "start_time": "2022-01-29T08:44:47.738Z"
   },
   {
    "duration": 87,
    "start_time": "2022-01-29T08:44:47.742Z"
   },
   {
    "duration": 21,
    "start_time": "2022-01-29T08:44:47.831Z"
   },
   {
    "duration": 21,
    "start_time": "2022-01-29T08:44:47.855Z"
   },
   {
    "duration": 15,
    "start_time": "2022-01-29T08:44:47.878Z"
   },
   {
    "duration": 47,
    "start_time": "2022-01-29T08:44:47.894Z"
   },
   {
    "duration": 16,
    "start_time": "2022-01-29T08:44:47.942Z"
   },
   {
    "duration": 8,
    "start_time": "2022-01-29T08:44:47.960Z"
   },
   {
    "duration": 16,
    "start_time": "2022-01-29T08:44:47.969Z"
   },
   {
    "duration": 7,
    "start_time": "2022-01-29T08:44:47.986Z"
   },
   {
    "duration": 41,
    "start_time": "2022-01-29T08:44:47.994Z"
   },
   {
    "duration": 22,
    "start_time": "2022-01-29T08:44:48.036Z"
   },
   {
    "duration": 5,
    "start_time": "2022-01-29T08:44:48.059Z"
   },
   {
    "duration": 26,
    "start_time": "2022-01-29T08:44:48.065Z"
   },
   {
    "duration": 34,
    "start_time": "2022-01-29T08:44:48.093Z"
   },
   {
    "duration": 30,
    "start_time": "2022-01-29T08:44:48.129Z"
   },
   {
    "duration": 5,
    "start_time": "2022-01-29T08:44:48.161Z"
   },
   {
    "duration": 7,
    "start_time": "2022-01-29T08:44:48.167Z"
   },
   {
    "duration": 8,
    "start_time": "2022-01-29T08:44:48.176Z"
   },
   {
    "duration": 12,
    "start_time": "2022-01-29T08:44:48.185Z"
   },
   {
    "duration": 28,
    "start_time": "2022-01-29T08:44:48.199Z"
   },
   {
    "duration": 14,
    "start_time": "2022-01-29T08:44:48.229Z"
   },
   {
    "duration": 13,
    "start_time": "2022-01-29T08:44:48.244Z"
   },
   {
    "duration": 4,
    "start_time": "2022-01-29T08:44:48.258Z"
   },
   {
    "duration": 7,
    "start_time": "2022-01-29T08:44:48.263Z"
   },
   {
    "duration": 6,
    "start_time": "2022-01-29T08:44:48.272Z"
   },
   {
    "duration": 11,
    "start_time": "2022-01-29T08:44:48.279Z"
   },
   {
    "duration": 38,
    "start_time": "2022-01-29T08:44:48.291Z"
   },
   {
    "duration": 10,
    "start_time": "2022-01-29T08:44:48.330Z"
   },
   {
    "duration": 12,
    "start_time": "2022-01-29T08:44:48.341Z"
   },
   {
    "duration": 3,
    "start_time": "2022-01-29T08:44:48.354Z"
   },
   {
    "duration": 5,
    "start_time": "2022-01-29T08:44:48.359Z"
   },
   {
    "duration": 8,
    "start_time": "2022-01-29T08:44:48.366Z"
   },
   {
    "duration": 3,
    "start_time": "2022-01-29T08:44:48.376Z"
   },
   {
    "duration": 10,
    "start_time": "2022-01-29T08:44:48.380Z"
   },
   {
    "duration": 37,
    "start_time": "2022-01-29T08:44:48.392Z"
   },
   {
    "duration": 2,
    "start_time": "2022-01-29T08:44:48.431Z"
   },
   {
    "duration": 326,
    "start_time": "2022-01-29T08:44:48.435Z"
   },
   {
    "duration": 13,
    "start_time": "2022-01-29T08:44:48.763Z"
   },
   {
    "duration": 7,
    "start_time": "2022-01-29T08:44:48.777Z"
   },
   {
    "duration": 7,
    "start_time": "2022-01-29T08:44:48.785Z"
   },
   {
    "duration": 435,
    "start_time": "2022-01-29T08:44:48.794Z"
   },
   {
    "duration": 12,
    "start_time": "2022-01-29T08:44:49.230Z"
   },
   {
    "duration": 8,
    "start_time": "2022-01-29T08:44:49.243Z"
   },
   {
    "duration": 9,
    "start_time": "2022-01-29T08:44:49.252Z"
   },
   {
    "duration": 331,
    "start_time": "2022-01-29T08:44:49.263Z"
   },
   {
    "duration": 11,
    "start_time": "2022-01-29T08:44:49.596Z"
   },
   {
    "duration": 18,
    "start_time": "2022-01-29T08:44:49.609Z"
   },
   {
    "duration": 6,
    "start_time": "2022-01-29T08:44:49.631Z"
   },
   {
    "duration": 10,
    "start_time": "2022-01-29T08:44:49.638Z"
   },
   {
    "duration": 5,
    "start_time": "2022-01-29T08:44:49.649Z"
   },
   {
    "duration": 2,
    "start_time": "2022-01-29T08:44:56.116Z"
   },
   {
    "duration": 6,
    "start_time": "2022-01-29T08:44:57.696Z"
   },
   {
    "duration": 5,
    "start_time": "2022-01-29T08:45:00.219Z"
   },
   {
    "duration": 5,
    "start_time": "2022-01-29T08:45:02.253Z"
   },
   {
    "duration": 7,
    "start_time": "2022-01-29T08:45:11.369Z"
   },
   {
    "duration": 6,
    "start_time": "2022-01-29T08:45:13.268Z"
   },
   {
    "duration": 5,
    "start_time": "2022-01-29T08:45:24.018Z"
   },
   {
    "duration": 7,
    "start_time": "2022-01-29T08:49:39.222Z"
   },
   {
    "duration": 6,
    "start_time": "2022-01-29T08:49:40.948Z"
   },
   {
    "duration": 6,
    "start_time": "2022-01-29T08:49:45.405Z"
   },
   {
    "duration": 5,
    "start_time": "2022-01-29T09:00:04.617Z"
   },
   {
    "duration": 1129,
    "start_time": "2022-01-29T09:00:25.819Z"
   },
   {
    "duration": 228,
    "start_time": "2022-01-29T09:00:26.950Z"
   },
   {
    "duration": 276,
    "start_time": "2022-01-29T09:00:27.179Z"
   },
   {
    "duration": 227,
    "start_time": "2022-01-29T09:00:27.457Z"
   },
   {
    "duration": 39,
    "start_time": "2022-01-29T09:00:27.688Z"
   },
   {
    "duration": 40,
    "start_time": "2022-01-29T09:00:27.729Z"
   },
   {
    "duration": 6,
    "start_time": "2022-01-29T09:00:27.770Z"
   },
   {
    "duration": 6,
    "start_time": "2022-01-29T09:00:27.778Z"
   },
   {
    "duration": 41,
    "start_time": "2022-01-29T09:00:27.786Z"
   },
   {
    "duration": 29,
    "start_time": "2022-01-29T09:00:27.829Z"
   },
   {
    "duration": 25,
    "start_time": "2022-01-29T09:00:27.860Z"
   },
   {
    "duration": 10,
    "start_time": "2022-01-29T09:00:27.886Z"
   },
   {
    "duration": 31,
    "start_time": "2022-01-29T09:00:27.897Z"
   },
   {
    "duration": 6,
    "start_time": "2022-01-29T09:00:27.929Z"
   },
   {
    "duration": 8,
    "start_time": "2022-01-29T09:00:27.937Z"
   },
   {
    "duration": 4,
    "start_time": "2022-01-29T09:00:27.946Z"
   },
   {
    "duration": 13,
    "start_time": "2022-01-29T09:00:27.952Z"
   },
   {
    "duration": 5,
    "start_time": "2022-01-29T09:00:27.967Z"
   },
   {
    "duration": 354,
    "start_time": "2022-01-29T09:00:27.974Z"
   },
   {
    "duration": 11,
    "start_time": "2022-01-29T09:00:28.329Z"
   },
   {
    "duration": 2,
    "start_time": "2022-01-29T09:00:28.341Z"
   },
   {
    "duration": 96,
    "start_time": "2022-01-29T09:00:28.344Z"
   },
   {
    "duration": 21,
    "start_time": "2022-01-29T09:00:28.444Z"
   },
   {
    "duration": 23,
    "start_time": "2022-01-29T09:00:28.467Z"
   },
   {
    "duration": 15,
    "start_time": "2022-01-29T09:00:28.491Z"
   },
   {
    "duration": 18,
    "start_time": "2022-01-29T09:00:28.527Z"
   },
   {
    "duration": 16,
    "start_time": "2022-01-29T09:00:28.546Z"
   },
   {
    "duration": 8,
    "start_time": "2022-01-29T09:00:28.564Z"
   },
   {
    "duration": 16,
    "start_time": "2022-01-29T09:00:28.574Z"
   },
   {
    "duration": 36,
    "start_time": "2022-01-29T09:00:28.592Z"
   },
   {
    "duration": 19,
    "start_time": "2022-01-29T09:00:28.629Z"
   },
   {
    "duration": 22,
    "start_time": "2022-01-29T09:00:28.649Z"
   },
   {
    "duration": 6,
    "start_time": "2022-01-29T09:00:28.672Z"
   },
   {
    "duration": 49,
    "start_time": "2022-01-29T09:00:28.679Z"
   },
   {
    "duration": 5,
    "start_time": "2022-01-29T09:00:28.729Z"
   },
   {
    "duration": 29,
    "start_time": "2022-01-29T09:00:28.735Z"
   },
   {
    "duration": 5,
    "start_time": "2022-01-29T09:00:28.765Z"
   },
   {
    "duration": 7,
    "start_time": "2022-01-29T09:00:28.771Z"
   },
   {
    "duration": 11,
    "start_time": "2022-01-29T09:00:28.779Z"
   },
   {
    "duration": 36,
    "start_time": "2022-01-29T09:00:28.792Z"
   },
   {
    "duration": 8,
    "start_time": "2022-01-29T09:00:28.829Z"
   },
   {
    "duration": 13,
    "start_time": "2022-01-29T09:00:28.839Z"
   },
   {
    "duration": 10,
    "start_time": "2022-01-29T09:00:28.853Z"
   },
   {
    "duration": 4,
    "start_time": "2022-01-29T09:00:28.864Z"
   },
   {
    "duration": 8,
    "start_time": "2022-01-29T09:00:28.869Z"
   },
   {
    "duration": 7,
    "start_time": "2022-01-29T09:00:28.878Z"
   },
   {
    "duration": 13,
    "start_time": "2022-01-29T09:00:28.886Z"
   },
   {
    "duration": 11,
    "start_time": "2022-01-29T09:00:28.927Z"
   },
   {
    "duration": 11,
    "start_time": "2022-01-29T09:00:28.939Z"
   },
   {
    "duration": 11,
    "start_time": "2022-01-29T09:00:28.952Z"
   },
   {
    "duration": 6,
    "start_time": "2022-01-29T09:00:28.964Z"
   },
   {
    "duration": 6,
    "start_time": "2022-01-29T09:00:28.972Z"
   },
   {
    "duration": 9,
    "start_time": "2022-01-29T09:00:28.979Z"
   },
   {
    "duration": 6,
    "start_time": "2022-01-29T09:00:28.989Z"
   },
   {
    "duration": 31,
    "start_time": "2022-01-29T09:00:28.996Z"
   },
   {
    "duration": 6,
    "start_time": "2022-01-29T09:00:29.028Z"
   },
   {
    "duration": 2,
    "start_time": "2022-01-29T09:00:29.036Z"
   },
   {
    "duration": 328,
    "start_time": "2022-01-29T09:00:29.040Z"
   },
   {
    "duration": 12,
    "start_time": "2022-01-29T09:00:29.369Z"
   },
   {
    "duration": 7,
    "start_time": "2022-01-29T09:00:29.382Z"
   },
   {
    "duration": 8,
    "start_time": "2022-01-29T09:00:29.390Z"
   },
   {
    "duration": 431,
    "start_time": "2022-01-29T09:00:29.400Z"
   },
   {
    "duration": 11,
    "start_time": "2022-01-29T09:00:29.833Z"
   },
   {
    "duration": 6,
    "start_time": "2022-01-29T09:00:29.846Z"
   },
   {
    "duration": 9,
    "start_time": "2022-01-29T09:00:29.853Z"
   },
   {
    "duration": 337,
    "start_time": "2022-01-29T09:00:29.863Z"
   },
   {
    "duration": 12,
    "start_time": "2022-01-29T09:00:30.202Z"
   },
   {
    "duration": 7,
    "start_time": "2022-01-29T09:00:30.228Z"
   },
   {
    "duration": 14,
    "start_time": "2022-01-29T09:00:30.237Z"
   },
   {
    "duration": 11,
    "start_time": "2022-01-29T09:00:30.252Z"
   },
   {
    "duration": 6,
    "start_time": "2022-01-29T09:00:30.264Z"
   },
   {
    "duration": 9,
    "start_time": "2022-01-29T09:00:30.271Z"
   },
   {
    "duration": 12,
    "start_time": "2022-01-29T09:00:30.282Z"
   },
   {
    "duration": 6,
    "start_time": "2022-01-29T09:00:30.295Z"
   },
   {
    "duration": 11,
    "start_time": "2022-01-29T09:00:30.302Z"
   },
   {
    "duration": 21,
    "start_time": "2022-01-29T09:00:30.314Z"
   },
   {
    "duration": 16,
    "start_time": "2022-01-29T09:00:30.337Z"
   },
   {
    "duration": 19,
    "start_time": "2022-01-29T09:00:30.354Z"
   },
   {
    "duration": 11,
    "start_time": "2022-01-29T09:00:30.375Z"
   },
   {
    "duration": 18,
    "start_time": "2022-01-29T09:00:30.387Z"
   },
   {
    "duration": 11,
    "start_time": "2022-01-29T09:00:30.406Z"
   },
   {
    "duration": 4,
    "start_time": "2022-01-29T09:00:30.418Z"
   },
   {
    "duration": 9,
    "start_time": "2022-01-29T09:00:30.423Z"
   },
   {
    "duration": 16,
    "start_time": "2022-01-29T09:00:30.434Z"
   },
   {
    "duration": 13,
    "start_time": "2022-01-29T09:00:30.452Z"
   },
   {
    "duration": 22,
    "start_time": "2022-01-29T09:00:30.467Z"
   },
   {
    "duration": 9,
    "start_time": "2022-01-29T09:00:30.490Z"
   },
   {
    "duration": 7,
    "start_time": "2022-01-29T09:00:30.500Z"
   },
   {
    "duration": 232,
    "start_time": "2022-01-29T09:00:30.509Z"
   },
   {
    "duration": 271,
    "start_time": "2022-01-29T09:00:30.743Z"
   },
   {
    "duration": 232,
    "start_time": "2022-01-29T09:00:31.015Z"
   },
   {
    "duration": 3,
    "start_time": "2022-01-29T09:13:52.816Z"
   },
   {
    "duration": 225,
    "start_time": "2022-01-29T09:13:52.826Z"
   },
   {
    "duration": 208,
    "start_time": "2022-01-29T09:13:53.053Z"
   },
   {
    "duration": 135,
    "start_time": "2022-01-29T09:13:53.263Z"
   },
   {
    "duration": 35,
    "start_time": "2022-01-29T09:13:53.400Z"
   },
   {
    "duration": 38,
    "start_time": "2022-01-29T09:13:53.436Z"
   },
   {
    "duration": 6,
    "start_time": "2022-01-29T09:13:53.475Z"
   },
   {
    "duration": 9,
    "start_time": "2022-01-29T09:13:53.482Z"
   },
   {
    "duration": 52,
    "start_time": "2022-01-29T09:13:53.493Z"
   },
   {
    "duration": 32,
    "start_time": "2022-01-29T09:13:53.547Z"
   },
   {
    "duration": 48,
    "start_time": "2022-01-29T09:13:53.580Z"
   },
   {
    "duration": 9,
    "start_time": "2022-01-29T09:13:53.630Z"
   },
   {
    "duration": 13,
    "start_time": "2022-01-29T09:13:53.640Z"
   },
   {
    "duration": 8,
    "start_time": "2022-01-29T09:13:53.655Z"
   },
   {
    "duration": 8,
    "start_time": "2022-01-29T09:13:53.665Z"
   },
   {
    "duration": 3,
    "start_time": "2022-01-29T09:13:53.675Z"
   },
   {
    "duration": 11,
    "start_time": "2022-01-29T09:13:53.680Z"
   },
   {
    "duration": 35,
    "start_time": "2022-01-29T09:13:53.693Z"
   },
   {
    "duration": 326,
    "start_time": "2022-01-29T09:13:53.729Z"
   },
   {
    "duration": 12,
    "start_time": "2022-01-29T09:13:54.057Z"
   },
   {
    "duration": 2,
    "start_time": "2022-01-29T09:13:54.070Z"
   },
   {
    "duration": 98,
    "start_time": "2022-01-29T09:13:54.074Z"
   },
   {
    "duration": 23,
    "start_time": "2022-01-29T09:13:54.173Z"
   },
   {
    "duration": 39,
    "start_time": "2022-01-29T09:13:54.200Z"
   },
   {
    "duration": 15,
    "start_time": "2022-01-29T09:13:54.242Z"
   },
   {
    "duration": 19,
    "start_time": "2022-01-29T09:13:54.259Z"
   },
   {
    "duration": 17,
    "start_time": "2022-01-29T09:13:54.279Z"
   },
   {
    "duration": 34,
    "start_time": "2022-01-29T09:13:54.298Z"
   },
   {
    "duration": 17,
    "start_time": "2022-01-29T09:13:54.333Z"
   },
   {
    "duration": 8,
    "start_time": "2022-01-29T09:13:54.351Z"
   },
   {
    "duration": 20,
    "start_time": "2022-01-29T09:13:54.360Z"
   },
   {
    "duration": 50,
    "start_time": "2022-01-29T09:13:54.382Z"
   },
   {
    "duration": 6,
    "start_time": "2022-01-29T09:13:54.435Z"
   },
   {
    "duration": 30,
    "start_time": "2022-01-29T09:13:54.442Z"
   },
   {
    "duration": 6,
    "start_time": "2022-01-29T09:13:54.474Z"
   },
   {
    "duration": 56,
    "start_time": "2022-01-29T09:13:54.481Z"
   },
   {
    "duration": 5,
    "start_time": "2022-01-29T09:13:54.539Z"
   },
   {
    "duration": 7,
    "start_time": "2022-01-29T09:13:54.546Z"
   },
   {
    "duration": 8,
    "start_time": "2022-01-29T09:13:54.554Z"
   },
   {
    "duration": 10,
    "start_time": "2022-01-29T09:13:54.563Z"
   },
   {
    "duration": 8,
    "start_time": "2022-01-29T09:13:54.575Z"
   },
   {
    "duration": 43,
    "start_time": "2022-01-29T09:13:54.584Z"
   },
   {
    "duration": 8,
    "start_time": "2022-01-29T09:13:54.629Z"
   },
   {
    "duration": 3,
    "start_time": "2022-01-29T09:13:54.639Z"
   },
   {
    "duration": 8,
    "start_time": "2022-01-29T09:13:54.643Z"
   },
   {
    "duration": 6,
    "start_time": "2022-01-29T09:13:54.653Z"
   },
   {
    "duration": 9,
    "start_time": "2022-01-29T09:13:54.660Z"
   },
   {
    "duration": 9,
    "start_time": "2022-01-29T09:13:54.671Z"
   },
   {
    "duration": 46,
    "start_time": "2022-01-29T09:13:54.682Z"
   },
   {
    "duration": 13,
    "start_time": "2022-01-29T09:13:54.730Z"
   },
   {
    "duration": 4,
    "start_time": "2022-01-29T09:13:54.744Z"
   },
   {
    "duration": 5,
    "start_time": "2022-01-29T09:13:54.750Z"
   },
   {
    "duration": 10,
    "start_time": "2022-01-29T09:13:54.756Z"
   },
   {
    "duration": 3,
    "start_time": "2022-01-29T09:13:54.767Z"
   },
   {
    "duration": 10,
    "start_time": "2022-01-29T09:13:54.771Z"
   },
   {
    "duration": 6,
    "start_time": "2022-01-29T09:13:54.783Z"
   },
   {
    "duration": 5,
    "start_time": "2022-01-29T09:13:54.790Z"
   },
   {
    "duration": 357,
    "start_time": "2022-01-29T09:13:54.796Z"
   },
   {
    "duration": 12,
    "start_time": "2022-01-29T09:13:55.155Z"
   },
   {
    "duration": 9,
    "start_time": "2022-01-29T09:13:55.168Z"
   },
   {
    "duration": 7,
    "start_time": "2022-01-29T09:13:55.178Z"
   },
   {
    "duration": 434,
    "start_time": "2022-01-29T09:13:55.187Z"
   },
   {
    "duration": 11,
    "start_time": "2022-01-29T09:13:55.627Z"
   },
   {
    "duration": 6,
    "start_time": "2022-01-29T09:13:55.640Z"
   },
   {
    "duration": 8,
    "start_time": "2022-01-29T09:13:55.647Z"
   },
   {
    "duration": 335,
    "start_time": "2022-01-29T09:13:55.656Z"
   },
   {
    "duration": 12,
    "start_time": "2022-01-29T09:13:55.992Z"
   },
   {
    "duration": 22,
    "start_time": "2022-01-29T09:13:56.005Z"
   },
   {
    "duration": 7,
    "start_time": "2022-01-29T09:13:56.032Z"
   },
   {
    "duration": 8,
    "start_time": "2022-01-29T09:13:56.040Z"
   },
   {
    "duration": 5,
    "start_time": "2022-01-29T09:13:56.050Z"
   },
   {
    "duration": 5,
    "start_time": "2022-01-29T09:13:56.056Z"
   },
   {
    "duration": 7,
    "start_time": "2022-01-29T09:13:56.063Z"
   },
   {
    "duration": 4,
    "start_time": "2022-01-29T09:13:56.072Z"
   },
   {
    "duration": 5,
    "start_time": "2022-01-29T09:13:56.078Z"
   },
   {
    "duration": 8,
    "start_time": "2022-01-29T09:13:56.084Z"
   },
   {
    "duration": 36,
    "start_time": "2022-01-29T09:13:56.093Z"
   },
   {
    "duration": 6,
    "start_time": "2022-01-29T09:13:56.130Z"
   },
   {
    "duration": 7,
    "start_time": "2022-01-29T09:13:56.137Z"
   },
   {
    "duration": 7,
    "start_time": "2022-01-29T09:13:56.145Z"
   },
   {
    "duration": 7,
    "start_time": "2022-01-29T09:13:56.153Z"
   },
   {
    "duration": 3,
    "start_time": "2022-01-29T09:13:56.162Z"
   },
   {
    "duration": 8,
    "start_time": "2022-01-29T09:13:56.166Z"
   },
   {
    "duration": 5,
    "start_time": "2022-01-29T09:13:56.176Z"
   },
   {
    "duration": 5,
    "start_time": "2022-01-29T09:13:56.183Z"
   },
   {
    "duration": 40,
    "start_time": "2022-01-29T09:13:56.189Z"
   },
   {
    "duration": 9,
    "start_time": "2022-01-29T09:13:56.230Z"
   },
   {
    "duration": 7,
    "start_time": "2022-01-29T09:13:56.240Z"
   },
   {
    "duration": 240,
    "start_time": "2022-01-29T09:13:56.249Z"
   },
   {
    "duration": 206,
    "start_time": "2022-01-29T09:13:56.491Z"
   },
   {
    "duration": 228,
    "start_time": "2022-01-29T09:13:56.699Z"
   },
   {
    "duration": 7,
    "start_time": "2022-01-29T09:21:57.278Z"
   },
   {
    "duration": 5,
    "start_time": "2022-01-29T09:22:07.424Z"
   },
   {
    "duration": 5,
    "start_time": "2022-01-29T09:22:18.469Z"
   },
   {
    "duration": 6,
    "start_time": "2022-01-29T09:23:28.577Z"
   },
   {
    "duration": 5,
    "start_time": "2022-01-29T09:24:00.637Z"
   },
   {
    "duration": 2,
    "start_time": "2022-01-29T09:29:22.766Z"
   },
   {
    "duration": 1828,
    "start_time": "2022-01-29T09:37:36.717Z"
   },
   {
    "duration": 411,
    "start_time": "2022-01-29T09:37:52.659Z"
   },
   {
    "duration": 5,
    "start_time": "2022-01-29T09:43:06.631Z"
   },
   {
    "duration": 1949,
    "start_time": "2022-01-29T09:44:50.804Z"
   },
   {
    "duration": 370,
    "start_time": "2022-01-29T09:45:28.237Z"
   },
   {
    "duration": 1895,
    "start_time": "2022-01-29T09:46:05.708Z"
   },
   {
    "duration": 278,
    "start_time": "2022-01-29T09:46:27.987Z"
   },
   {
    "duration": 816,
    "start_time": "2022-01-29T09:46:54.311Z"
   },
   {
    "duration": 666,
    "start_time": "2022-01-29T09:47:11.623Z"
   },
   {
    "duration": 364,
    "start_time": "2022-01-29T09:48:38.502Z"
   },
   {
    "duration": 326,
    "start_time": "2022-01-29T09:50:44.038Z"
   },
   {
    "duration": 292,
    "start_time": "2022-01-29T09:52:00.602Z"
   },
   {
    "duration": 298,
    "start_time": "2022-01-29T09:52:04.782Z"
   },
   {
    "duration": 463,
    "start_time": "2022-01-29T09:52:33.936Z"
   },
   {
    "duration": 411,
    "start_time": "2022-01-29T09:52:49.691Z"
   },
   {
    "duration": 168,
    "start_time": "2022-01-29T09:53:28.699Z"
   },
   {
    "duration": 1072,
    "start_time": "2022-01-29T09:53:37.502Z"
   },
   {
    "duration": 233,
    "start_time": "2022-01-29T09:53:38.576Z"
   },
   {
    "duration": 177,
    "start_time": "2022-01-29T09:53:38.812Z"
   },
   {
    "duration": 154,
    "start_time": "2022-01-29T09:53:38.991Z"
   },
   {
    "duration": 26,
    "start_time": "2022-01-29T09:53:39.147Z"
   },
   {
    "duration": 42,
    "start_time": "2022-01-29T09:53:39.175Z"
   },
   {
    "duration": 6,
    "start_time": "2022-01-29T09:53:39.219Z"
   },
   {
    "duration": 8,
    "start_time": "2022-01-29T09:53:39.228Z"
   },
   {
    "duration": 56,
    "start_time": "2022-01-29T09:53:39.238Z"
   },
   {
    "duration": 54,
    "start_time": "2022-01-29T09:53:39.296Z"
   },
   {
    "duration": 23,
    "start_time": "2022-01-29T09:53:39.352Z"
   },
   {
    "duration": 9,
    "start_time": "2022-01-29T09:53:39.376Z"
   },
   {
    "duration": 9,
    "start_time": "2022-01-29T09:53:39.387Z"
   },
   {
    "duration": 33,
    "start_time": "2022-01-29T09:53:39.397Z"
   },
   {
    "duration": 8,
    "start_time": "2022-01-29T09:53:39.431Z"
   },
   {
    "duration": 4,
    "start_time": "2022-01-29T09:53:39.440Z"
   },
   {
    "duration": 17,
    "start_time": "2022-01-29T09:53:39.445Z"
   },
   {
    "duration": 9,
    "start_time": "2022-01-29T09:53:39.463Z"
   },
   {
    "duration": 328,
    "start_time": "2022-01-29T09:53:39.473Z"
   },
   {
    "duration": 11,
    "start_time": "2022-01-29T09:53:39.802Z"
   },
   {
    "duration": 2,
    "start_time": "2022-01-29T09:53:39.815Z"
   },
   {
    "duration": 84,
    "start_time": "2022-01-29T09:53:39.827Z"
   },
   {
    "duration": 30,
    "start_time": "2022-01-29T09:53:39.914Z"
   },
   {
    "duration": 25,
    "start_time": "2022-01-29T09:53:39.946Z"
   },
   {
    "duration": 14,
    "start_time": "2022-01-29T09:53:39.973Z"
   },
   {
    "duration": 19,
    "start_time": "2022-01-29T09:53:39.988Z"
   },
   {
    "duration": 18,
    "start_time": "2022-01-29T09:53:40.027Z"
   },
   {
    "duration": 9,
    "start_time": "2022-01-29T09:53:40.046Z"
   },
   {
    "duration": 17,
    "start_time": "2022-01-29T09:53:40.057Z"
   },
   {
    "duration": 7,
    "start_time": "2022-01-29T09:53:40.075Z"
   },
   {
    "duration": 47,
    "start_time": "2022-01-29T09:53:40.084Z"
   },
   {
    "duration": 21,
    "start_time": "2022-01-29T09:53:40.132Z"
   },
   {
    "duration": 5,
    "start_time": "2022-01-29T09:53:40.155Z"
   },
   {
    "duration": 27,
    "start_time": "2022-01-29T09:53:40.161Z"
   },
   {
    "duration": 5,
    "start_time": "2022-01-29T09:53:40.189Z"
   },
   {
    "duration": 30,
    "start_time": "2022-01-29T09:53:40.226Z"
   },
   {
    "duration": 5,
    "start_time": "2022-01-29T09:53:40.258Z"
   },
   {
    "duration": 7,
    "start_time": "2022-01-29T09:53:40.264Z"
   },
   {
    "duration": 10,
    "start_time": "2022-01-29T09:53:40.273Z"
   },
   {
    "duration": 9,
    "start_time": "2022-01-29T09:53:40.284Z"
   },
   {
    "duration": 33,
    "start_time": "2022-01-29T09:53:40.294Z"
   },
   {
    "duration": 14,
    "start_time": "2022-01-29T09:53:40.329Z"
   },
   {
    "duration": 9,
    "start_time": "2022-01-29T09:53:40.344Z"
   },
   {
    "duration": 3,
    "start_time": "2022-01-29T09:53:40.355Z"
   },
   {
    "duration": 9,
    "start_time": "2022-01-29T09:53:40.360Z"
   },
   {
    "duration": 7,
    "start_time": "2022-01-29T09:53:40.371Z"
   },
   {
    "duration": 10,
    "start_time": "2022-01-29T09:53:40.380Z"
   },
   {
    "duration": 41,
    "start_time": "2022-01-29T09:53:40.392Z"
   },
   {
    "duration": 10,
    "start_time": "2022-01-29T09:53:40.435Z"
   },
   {
    "duration": 18,
    "start_time": "2022-01-29T09:53:40.446Z"
   },
   {
    "duration": 6,
    "start_time": "2022-01-29T09:53:40.465Z"
   },
   {
    "duration": 8,
    "start_time": "2022-01-29T09:53:40.473Z"
   },
   {
    "duration": 13,
    "start_time": "2022-01-29T09:53:40.483Z"
   },
   {
    "duration": 2,
    "start_time": "2022-01-29T09:53:40.498Z"
   },
   {
    "duration": 8,
    "start_time": "2022-01-29T09:53:40.502Z"
   },
   {
    "duration": 18,
    "start_time": "2022-01-29T09:53:40.511Z"
   },
   {
    "duration": 4,
    "start_time": "2022-01-29T09:53:40.530Z"
   },
   {
    "duration": 330,
    "start_time": "2022-01-29T09:53:40.536Z"
   },
   {
    "duration": 11,
    "start_time": "2022-01-29T09:53:40.868Z"
   },
   {
    "duration": 7,
    "start_time": "2022-01-29T09:53:40.880Z"
   },
   {
    "duration": 7,
    "start_time": "2022-01-29T09:53:40.889Z"
   },
   {
    "duration": 433,
    "start_time": "2022-01-29T09:53:40.898Z"
   },
   {
    "duration": 12,
    "start_time": "2022-01-29T09:53:41.333Z"
   },
   {
    "duration": 6,
    "start_time": "2022-01-29T09:53:41.347Z"
   },
   {
    "duration": 11,
    "start_time": "2022-01-29T09:53:41.354Z"
   },
   {
    "duration": 336,
    "start_time": "2022-01-29T09:53:41.366Z"
   },
   {
    "duration": 12,
    "start_time": "2022-01-29T09:53:41.704Z"
   },
   {
    "duration": 7,
    "start_time": "2022-01-29T09:53:41.730Z"
   },
   {
    "duration": 9,
    "start_time": "2022-01-29T09:53:41.738Z"
   },
   {
    "duration": 9,
    "start_time": "2022-01-29T09:53:41.748Z"
   },
   {
    "duration": 7,
    "start_time": "2022-01-29T09:53:41.758Z"
   },
   {
    "duration": 4,
    "start_time": "2022-01-29T09:53:41.766Z"
   },
   {
    "duration": 8,
    "start_time": "2022-01-29T09:53:41.771Z"
   },
   {
    "duration": 8,
    "start_time": "2022-01-29T09:53:41.780Z"
   },
   {
    "duration": 6,
    "start_time": "2022-01-29T09:53:41.789Z"
   },
   {
    "duration": 36,
    "start_time": "2022-01-29T09:53:41.796Z"
   },
   {
    "duration": 10,
    "start_time": "2022-01-29T09:53:41.833Z"
   },
   {
    "duration": 7,
    "start_time": "2022-01-29T09:53:41.844Z"
   },
   {
    "duration": 12,
    "start_time": "2022-01-29T09:53:41.853Z"
   },
   {
    "duration": 8,
    "start_time": "2022-01-29T09:53:41.867Z"
   },
   {
    "duration": 7,
    "start_time": "2022-01-29T09:53:41.877Z"
   },
   {
    "duration": 6,
    "start_time": "2022-01-29T09:53:41.886Z"
   },
   {
    "duration": 10,
    "start_time": "2022-01-29T09:53:41.893Z"
   },
   {
    "duration": 22,
    "start_time": "2022-01-29T09:53:41.905Z"
   },
   {
    "duration": 4,
    "start_time": "2022-01-29T09:53:41.929Z"
   },
   {
    "duration": 9,
    "start_time": "2022-01-29T09:53:41.934Z"
   },
   {
    "duration": 8,
    "start_time": "2022-01-29T09:53:41.944Z"
   },
   {
    "duration": 7,
    "start_time": "2022-01-29T09:53:41.953Z"
   },
   {
    "duration": 7,
    "start_time": "2022-01-29T09:53:41.961Z"
   },
   {
    "duration": 200,
    "start_time": "2022-01-29T09:53:41.969Z"
   },
   {
    "duration": 240,
    "start_time": "2022-01-29T09:54:00.716Z"
   },
   {
    "duration": 397,
    "start_time": "2022-01-29T09:56:02.995Z"
   },
   {
    "duration": 2112,
    "start_time": "2022-01-29T09:56:29.622Z"
   },
   {
    "duration": 99,
    "start_time": "2022-01-29T09:57:24.511Z"
   },
   {
    "duration": 326,
    "start_time": "2022-01-29T09:57:29.332Z"
   },
   {
    "duration": 333,
    "start_time": "2022-01-29T09:57:44.035Z"
   },
   {
    "duration": 378,
    "start_time": "2022-01-29T09:58:29.792Z"
   },
   {
    "duration": 217,
    "start_time": "2022-01-29T09:58:42.555Z"
   },
   {
    "duration": 308,
    "start_time": "2022-01-29T09:58:53.424Z"
   },
   {
    "duration": 288,
    "start_time": "2022-01-29T09:59:22.153Z"
   },
   {
    "duration": 10,
    "start_time": "2022-01-29T10:06:16.780Z"
   },
   {
    "duration": 13,
    "start_time": "2022-01-29T10:06:52.205Z"
   },
   {
    "duration": 17,
    "start_time": "2022-01-29T10:07:11.973Z"
   },
   {
    "duration": 16,
    "start_time": "2022-01-29T10:08:55.324Z"
   },
   {
    "duration": 16,
    "start_time": "2022-01-29T10:09:19.230Z"
   },
   {
    "duration": 12,
    "start_time": "2022-01-29T10:09:30.515Z"
   },
   {
    "duration": 14,
    "start_time": "2022-01-29T10:09:45.137Z"
   },
   {
    "duration": 10,
    "start_time": "2022-01-29T10:10:55.428Z"
   },
   {
    "duration": 17,
    "start_time": "2022-01-29T10:11:02.113Z"
   },
   {
    "duration": 17,
    "start_time": "2022-01-29T10:12:06.259Z"
   },
   {
    "duration": 299,
    "start_time": "2022-01-29T10:12:30.623Z"
   },
   {
    "duration": 433,
    "start_time": "2022-01-29T10:13:16.688Z"
   },
   {
    "duration": 23,
    "start_time": "2022-01-29T10:13:49.220Z"
   },
   {
    "duration": 15,
    "start_time": "2022-01-29T10:14:03.482Z"
   },
   {
    "duration": 15,
    "start_time": "2022-01-29T10:14:28.127Z"
   },
   {
    "duration": 17,
    "start_time": "2022-01-29T10:15:04.149Z"
   },
   {
    "duration": 296,
    "start_time": "2022-01-29T10:15:52.740Z"
   },
   {
    "duration": 282,
    "start_time": "2022-01-29T10:16:39.359Z"
   },
   {
    "duration": 20,
    "start_time": "2022-01-29T10:17:08.643Z"
   },
   {
    "duration": 24,
    "start_time": "2022-01-29T10:18:13.793Z"
   },
   {
    "duration": 15,
    "start_time": "2022-01-29T10:18:46.136Z"
   },
   {
    "duration": 24,
    "start_time": "2022-01-29T10:18:51.529Z"
   },
   {
    "duration": 25,
    "start_time": "2022-01-29T10:19:05.350Z"
   },
   {
    "duration": 26,
    "start_time": "2022-01-29T10:19:35.165Z"
   },
   {
    "duration": 19,
    "start_time": "2022-01-29T10:20:24.838Z"
   },
   {
    "duration": 26,
    "start_time": "2022-01-29T10:21:05.946Z"
   },
   {
    "duration": 26,
    "start_time": "2022-01-29T10:22:42.082Z"
   },
   {
    "duration": 26,
    "start_time": "2022-01-29T10:25:59.446Z"
   },
   {
    "duration": 3,
    "start_time": "2022-01-29T11:02:19.477Z"
   },
   {
    "duration": 222,
    "start_time": "2022-01-29T11:02:19.486Z"
   },
   {
    "duration": 196,
    "start_time": "2022-01-29T11:02:19.710Z"
   },
   {
    "duration": 132,
    "start_time": "2022-01-29T11:02:19.908Z"
   },
   {
    "duration": 23,
    "start_time": "2022-01-29T11:02:20.042Z"
   },
   {
    "duration": 36,
    "start_time": "2022-01-29T11:02:20.067Z"
   },
   {
    "duration": 5,
    "start_time": "2022-01-29T11:02:20.104Z"
   },
   {
    "duration": 8,
    "start_time": "2022-01-29T11:02:20.110Z"
   },
   {
    "duration": 41,
    "start_time": "2022-01-29T11:02:20.120Z"
   },
   {
    "duration": 29,
    "start_time": "2022-01-29T11:02:20.163Z"
   },
   {
    "duration": 50,
    "start_time": "2022-01-29T11:02:20.194Z"
   },
   {
    "duration": 9,
    "start_time": "2022-01-29T11:02:20.246Z"
   },
   {
    "duration": 11,
    "start_time": "2022-01-29T11:02:20.257Z"
   },
   {
    "duration": 8,
    "start_time": "2022-01-29T11:02:20.269Z"
   },
   {
    "duration": 49,
    "start_time": "2022-01-29T11:02:20.278Z"
   },
   {
    "duration": 5,
    "start_time": "2022-01-29T11:02:20.328Z"
   },
   {
    "duration": 11,
    "start_time": "2022-01-29T11:02:20.334Z"
   },
   {
    "duration": 6,
    "start_time": "2022-01-29T11:02:20.347Z"
   },
   {
    "duration": 325,
    "start_time": "2022-01-29T11:02:20.354Z"
   },
   {
    "duration": 10,
    "start_time": "2022-01-29T11:02:20.681Z"
   },
   {
    "duration": 2,
    "start_time": "2022-01-29T11:02:20.693Z"
   },
   {
    "duration": 91,
    "start_time": "2022-01-29T11:02:20.696Z"
   },
   {
    "duration": 21,
    "start_time": "2022-01-29T11:02:20.788Z"
   },
   {
    "duration": 34,
    "start_time": "2022-01-29T11:02:20.812Z"
   },
   {
    "duration": 14,
    "start_time": "2022-01-29T11:02:20.848Z"
   },
   {
    "duration": 17,
    "start_time": "2022-01-29T11:02:20.864Z"
   },
   {
    "duration": 17,
    "start_time": "2022-01-29T11:02:20.883Z"
   },
   {
    "duration": 28,
    "start_time": "2022-01-29T11:02:20.902Z"
   },
   {
    "duration": 19,
    "start_time": "2022-01-29T11:02:20.932Z"
   },
   {
    "duration": 8,
    "start_time": "2022-01-29T11:02:20.952Z"
   },
   {
    "duration": 19,
    "start_time": "2022-01-29T11:02:20.961Z"
   },
   {
    "duration": 46,
    "start_time": "2022-01-29T11:02:20.981Z"
   },
   {
    "duration": 6,
    "start_time": "2022-01-29T11:02:21.029Z"
   },
   {
    "duration": 30,
    "start_time": "2022-01-29T11:02:21.036Z"
   },
   {
    "duration": 5,
    "start_time": "2022-01-29T11:02:21.067Z"
   },
   {
    "duration": 59,
    "start_time": "2022-01-29T11:02:21.074Z"
   },
   {
    "duration": 5,
    "start_time": "2022-01-29T11:02:21.135Z"
   },
   {
    "duration": 16,
    "start_time": "2022-01-29T11:02:21.142Z"
   },
   {
    "duration": 8,
    "start_time": "2022-01-29T11:02:21.160Z"
   },
   {
    "duration": 8,
    "start_time": "2022-01-29T11:02:21.170Z"
   },
   {
    "duration": 9,
    "start_time": "2022-01-29T11:02:21.180Z"
   },
   {
    "duration": 14,
    "start_time": "2022-01-29T11:02:21.190Z"
   },
   {
    "duration": 28,
    "start_time": "2022-01-29T11:02:21.205Z"
   },
   {
    "duration": 4,
    "start_time": "2022-01-29T11:02:21.235Z"
   },
   {
    "duration": 13,
    "start_time": "2022-01-29T11:02:21.240Z"
   },
   {
    "duration": 6,
    "start_time": "2022-01-29T11:02:21.254Z"
   },
   {
    "duration": 10,
    "start_time": "2022-01-29T11:02:21.262Z"
   },
   {
    "duration": 12,
    "start_time": "2022-01-29T11:02:21.273Z"
   },
   {
    "duration": 10,
    "start_time": "2022-01-29T11:02:21.286Z"
   },
   {
    "duration": 13,
    "start_time": "2022-01-29T11:02:21.327Z"
   },
   {
    "duration": 7,
    "start_time": "2022-01-29T11:02:21.342Z"
   },
   {
    "duration": 10,
    "start_time": "2022-01-29T11:02:21.351Z"
   },
   {
    "duration": 33,
    "start_time": "2022-01-29T11:02:21.363Z"
   },
   {
    "duration": 6,
    "start_time": "2022-01-29T11:02:21.398Z"
   },
   {
    "duration": 4,
    "start_time": "2022-01-29T11:02:21.406Z"
   },
   {
    "duration": 7,
    "start_time": "2022-01-29T11:02:21.427Z"
   },
   {
    "duration": 8,
    "start_time": "2022-01-29T11:02:21.436Z"
   },
   {
    "duration": 7,
    "start_time": "2022-01-29T11:02:21.445Z"
   },
   {
    "duration": 333,
    "start_time": "2022-01-29T11:02:21.453Z"
   },
   {
    "duration": 12,
    "start_time": "2022-01-29T11:02:21.787Z"
   },
   {
    "duration": 7,
    "start_time": "2022-01-29T11:02:21.800Z"
   },
   {
    "duration": 21,
    "start_time": "2022-01-29T11:02:21.808Z"
   },
   {
    "duration": 430,
    "start_time": "2022-01-29T11:02:21.830Z"
   },
   {
    "duration": 12,
    "start_time": "2022-01-29T11:02:22.261Z"
   },
   {
    "duration": 8,
    "start_time": "2022-01-29T11:02:22.274Z"
   },
   {
    "duration": 7,
    "start_time": "2022-01-29T11:02:22.283Z"
   },
   {
    "duration": 339,
    "start_time": "2022-01-29T11:02:22.291Z"
   },
   {
    "duration": 12,
    "start_time": "2022-01-29T11:02:22.632Z"
   },
   {
    "duration": 6,
    "start_time": "2022-01-29T11:02:22.648Z"
   },
   {
    "duration": 8,
    "start_time": "2022-01-29T11:02:22.655Z"
   },
   {
    "duration": 8,
    "start_time": "2022-01-29T11:02:22.664Z"
   },
   {
    "duration": 6,
    "start_time": "2022-01-29T11:02:22.673Z"
   },
   {
    "duration": 5,
    "start_time": "2022-01-29T11:02:22.681Z"
   },
   {
    "duration": 9,
    "start_time": "2022-01-29T11:02:22.687Z"
   },
   {
    "duration": 33,
    "start_time": "2022-01-29T11:02:22.698Z"
   },
   {
    "duration": 9,
    "start_time": "2022-01-29T11:02:22.732Z"
   },
   {
    "duration": 8,
    "start_time": "2022-01-29T11:02:22.742Z"
   },
   {
    "duration": 8,
    "start_time": "2022-01-29T11:02:22.751Z"
   },
   {
    "duration": 5,
    "start_time": "2022-01-29T11:02:22.760Z"
   },
   {
    "duration": 6,
    "start_time": "2022-01-29T11:02:22.767Z"
   },
   {
    "duration": 6,
    "start_time": "2022-01-29T11:02:22.775Z"
   },
   {
    "duration": 47,
    "start_time": "2022-01-29T11:02:22.782Z"
   },
   {
    "duration": 3,
    "start_time": "2022-01-29T11:02:22.831Z"
   },
   {
    "duration": 9,
    "start_time": "2022-01-29T11:02:22.836Z"
   },
   {
    "duration": 5,
    "start_time": "2022-01-29T11:02:22.846Z"
   },
   {
    "duration": 5,
    "start_time": "2022-01-29T11:02:22.853Z"
   },
   {
    "duration": 7,
    "start_time": "2022-01-29T11:02:22.860Z"
   },
   {
    "duration": 8,
    "start_time": "2022-01-29T11:02:22.869Z"
   },
   {
    "duration": 6,
    "start_time": "2022-01-29T11:02:22.879Z"
   },
   {
    "duration": 284,
    "start_time": "2022-01-29T11:03:35.958Z"
   },
   {
    "duration": 338,
    "start_time": "2022-01-29T11:03:40.156Z"
   },
   {
    "duration": 28,
    "start_time": "2022-01-29T11:03:52.653Z"
   },
   {
    "duration": 28,
    "start_time": "2022-01-29T11:04:06.025Z"
   },
   {
    "duration": 3,
    "start_time": "2022-01-29T11:04:21.270Z"
   },
   {
    "duration": 210,
    "start_time": "2022-01-29T11:04:21.286Z"
   },
   {
    "duration": 194,
    "start_time": "2022-01-29T11:04:21.498Z"
   },
   {
    "duration": 133,
    "start_time": "2022-01-29T11:04:21.694Z"
   },
   {
    "duration": 24,
    "start_time": "2022-01-29T11:04:21.829Z"
   },
   {
    "duration": 38,
    "start_time": "2022-01-29T11:04:21.855Z"
   },
   {
    "duration": 5,
    "start_time": "2022-01-29T11:04:21.894Z"
   },
   {
    "duration": 8,
    "start_time": "2022-01-29T11:04:21.900Z"
   },
   {
    "duration": 37,
    "start_time": "2022-01-29T11:04:21.910Z"
   },
   {
    "duration": 29,
    "start_time": "2022-01-29T11:04:21.949Z"
   },
   {
    "duration": 25,
    "start_time": "2022-01-29T11:04:21.980Z"
   },
   {
    "duration": 27,
    "start_time": "2022-01-29T11:04:22.006Z"
   },
   {
    "duration": 11,
    "start_time": "2022-01-29T11:04:22.034Z"
   },
   {
    "duration": 5,
    "start_time": "2022-01-29T11:04:22.047Z"
   },
   {
    "duration": 8,
    "start_time": "2022-01-29T11:04:22.053Z"
   },
   {
    "duration": 3,
    "start_time": "2022-01-29T11:04:22.063Z"
   },
   {
    "duration": 13,
    "start_time": "2022-01-29T11:04:22.067Z"
   },
   {
    "duration": 6,
    "start_time": "2022-01-29T11:04:22.082Z"
   },
   {
    "duration": 338,
    "start_time": "2022-01-29T11:04:22.089Z"
   },
   {
    "duration": 11,
    "start_time": "2022-01-29T11:04:22.429Z"
   },
   {
    "duration": 2,
    "start_time": "2022-01-29T11:04:22.441Z"
   },
   {
    "duration": 93,
    "start_time": "2022-01-29T11:04:22.445Z"
   },
   {
    "duration": 22,
    "start_time": "2022-01-29T11:04:22.539Z"
   },
   {
    "duration": 22,
    "start_time": "2022-01-29T11:04:22.564Z"
   },
   {
    "duration": 15,
    "start_time": "2022-01-29T11:04:22.587Z"
   },
   {
    "duration": 39,
    "start_time": "2022-01-29T11:04:22.604Z"
   },
   {
    "duration": 16,
    "start_time": "2022-01-29T11:04:22.645Z"
   },
   {
    "duration": 8,
    "start_time": "2022-01-29T11:04:22.663Z"
   },
   {
    "duration": 15,
    "start_time": "2022-01-29T11:04:22.673Z"
   },
   {
    "duration": 8,
    "start_time": "2022-01-29T11:04:22.689Z"
   },
   {
    "duration": 17,
    "start_time": "2022-01-29T11:04:22.727Z"
   },
   {
    "duration": 22,
    "start_time": "2022-01-29T11:04:22.745Z"
   },
   {
    "duration": 6,
    "start_time": "2022-01-29T11:04:22.768Z"
   },
   {
    "duration": 53,
    "start_time": "2022-01-29T11:04:22.775Z"
   },
   {
    "duration": 5,
    "start_time": "2022-01-29T11:04:22.829Z"
   },
   {
    "duration": 31,
    "start_time": "2022-01-29T11:04:22.835Z"
   },
   {
    "duration": 5,
    "start_time": "2022-01-29T11:04:22.867Z"
   },
   {
    "duration": 8,
    "start_time": "2022-01-29T11:04:22.873Z"
   },
   {
    "duration": 7,
    "start_time": "2022-01-29T11:04:22.882Z"
   },
   {
    "duration": 40,
    "start_time": "2022-01-29T11:04:22.890Z"
   },
   {
    "duration": 8,
    "start_time": "2022-01-29T11:04:22.932Z"
   },
   {
    "duration": 14,
    "start_time": "2022-01-29T11:04:22.941Z"
   },
   {
    "duration": 10,
    "start_time": "2022-01-29T11:04:22.956Z"
   },
   {
    "duration": 3,
    "start_time": "2022-01-29T11:04:22.968Z"
   },
   {
    "duration": 7,
    "start_time": "2022-01-29T11:04:22.973Z"
   },
   {
    "duration": 7,
    "start_time": "2022-01-29T11:04:22.982Z"
   },
   {
    "duration": 45,
    "start_time": "2022-01-29T11:04:22.991Z"
   },
   {
    "duration": 10,
    "start_time": "2022-01-29T11:04:23.038Z"
   },
   {
    "duration": 11,
    "start_time": "2022-01-29T11:04:23.050Z"
   },
   {
    "duration": 13,
    "start_time": "2022-01-29T11:04:23.062Z"
   },
   {
    "duration": 4,
    "start_time": "2022-01-29T11:04:23.077Z"
   },
   {
    "duration": 7,
    "start_time": "2022-01-29T11:04:23.082Z"
   },
   {
    "duration": 59,
    "start_time": "2022-01-29T11:04:23.091Z"
   },
   {
    "duration": 31,
    "start_time": "2022-01-29T11:04:54.025Z"
   },
   {
    "duration": 28,
    "start_time": "2022-01-29T11:05:10.588Z"
   },
   {
    "duration": 45,
    "start_time": "2022-01-29T11:12:43.282Z"
   },
   {
    "duration": 41,
    "start_time": "2022-01-29T11:13:38.869Z"
   },
   {
    "duration": 31,
    "start_time": "2022-01-29T11:13:54.146Z"
   },
   {
    "duration": 28,
    "start_time": "2022-01-29T11:15:45.767Z"
   },
   {
    "duration": 28,
    "start_time": "2022-01-29T11:16:00.678Z"
   },
   {
    "duration": 34,
    "start_time": "2022-01-29T11:16:24.454Z"
   },
   {
    "duration": 28,
    "start_time": "2022-01-29T11:16:43.121Z"
   },
   {
    "duration": 29,
    "start_time": "2022-01-29T11:16:59.830Z"
   },
   {
    "duration": 29,
    "start_time": "2022-01-29T11:20:31.966Z"
   },
   {
    "duration": 27,
    "start_time": "2022-01-29T11:59:48.846Z"
   },
   {
    "duration": 26,
    "start_time": "2022-01-29T11:59:56.217Z"
   },
   {
    "duration": 28,
    "start_time": "2022-01-29T12:03:38.583Z"
   },
   {
    "duration": 308,
    "start_time": "2022-01-29T12:08:17.175Z"
   },
   {
    "duration": 419,
    "start_time": "2022-01-29T12:08:32.213Z"
   },
   {
    "duration": 1151,
    "start_time": "2022-01-29T20:18:51.102Z"
   },
   {
    "duration": 246,
    "start_time": "2022-01-29T20:18:52.255Z"
   },
   {
    "duration": 178,
    "start_time": "2022-01-29T20:18:52.503Z"
   },
   {
    "duration": 130,
    "start_time": "2022-01-29T20:18:52.683Z"
   },
   {
    "duration": 21,
    "start_time": "2022-01-29T20:18:52.814Z"
   },
   {
    "duration": 34,
    "start_time": "2022-01-29T20:18:52.837Z"
   },
   {
    "duration": 5,
    "start_time": "2022-01-29T20:18:52.873Z"
   },
   {
    "duration": 7,
    "start_time": "2022-01-29T20:18:52.881Z"
   },
   {
    "duration": 50,
    "start_time": "2022-01-29T20:18:52.890Z"
   },
   {
    "duration": 32,
    "start_time": "2022-01-29T20:18:52.942Z"
   },
   {
    "duration": 44,
    "start_time": "2022-01-29T20:18:52.975Z"
   },
   {
    "duration": 10,
    "start_time": "2022-01-29T20:18:53.021Z"
   },
   {
    "duration": 13,
    "start_time": "2022-01-29T20:18:53.033Z"
   },
   {
    "duration": 7,
    "start_time": "2022-01-29T20:18:53.048Z"
   },
   {
    "duration": 8,
    "start_time": "2022-01-29T20:18:53.057Z"
   },
   {
    "duration": 5,
    "start_time": "2022-01-29T20:18:53.067Z"
   },
   {
    "duration": 48,
    "start_time": "2022-01-29T20:18:53.074Z"
   },
   {
    "duration": 9,
    "start_time": "2022-01-29T20:18:53.124Z"
   },
   {
    "duration": 364,
    "start_time": "2022-01-29T20:18:53.136Z"
   },
   {
    "duration": 18,
    "start_time": "2022-01-29T20:18:53.502Z"
   },
   {
    "duration": 3,
    "start_time": "2022-01-29T20:18:53.522Z"
   },
   {
    "duration": 98,
    "start_time": "2022-01-29T20:18:53.527Z"
   },
   {
    "duration": 23,
    "start_time": "2022-01-29T20:18:53.629Z"
   },
   {
    "duration": 25,
    "start_time": "2022-01-29T20:18:53.655Z"
   },
   {
    "duration": 36,
    "start_time": "2022-01-29T20:18:53.682Z"
   },
   {
    "duration": 19,
    "start_time": "2022-01-29T20:18:53.719Z"
   },
   {
    "duration": 17,
    "start_time": "2022-01-29T20:18:53.740Z"
   },
   {
    "duration": 9,
    "start_time": "2022-01-29T20:18:53.759Z"
   },
   {
    "duration": 54,
    "start_time": "2022-01-29T20:18:53.769Z"
   },
   {
    "duration": 8,
    "start_time": "2022-01-29T20:18:53.824Z"
   },
   {
    "duration": 20,
    "start_time": "2022-01-29T20:18:53.834Z"
   },
   {
    "duration": 58,
    "start_time": "2022-01-29T20:18:53.855Z"
   },
   {
    "duration": 6,
    "start_time": "2022-01-29T20:18:53.915Z"
   },
   {
    "duration": 27,
    "start_time": "2022-01-29T20:18:53.923Z"
   },
   {
    "duration": 6,
    "start_time": "2022-01-29T20:18:53.952Z"
   },
   {
    "duration": 67,
    "start_time": "2022-01-29T20:18:53.959Z"
   },
   {
    "duration": 5,
    "start_time": "2022-01-29T20:18:54.027Z"
   },
   {
    "duration": 7,
    "start_time": "2022-01-29T20:18:54.034Z"
   },
   {
    "duration": 7,
    "start_time": "2022-01-29T20:18:54.042Z"
   },
   {
    "duration": 10,
    "start_time": "2022-01-29T20:18:54.051Z"
   },
   {
    "duration": 9,
    "start_time": "2022-01-29T20:18:54.063Z"
   },
   {
    "duration": 50,
    "start_time": "2022-01-29T20:18:54.073Z"
   },
   {
    "duration": 9,
    "start_time": "2022-01-29T20:18:54.125Z"
   },
   {
    "duration": 4,
    "start_time": "2022-01-29T20:18:54.135Z"
   },
   {
    "duration": 9,
    "start_time": "2022-01-29T20:18:54.141Z"
   },
   {
    "duration": 7,
    "start_time": "2022-01-29T20:18:54.152Z"
   },
   {
    "duration": 13,
    "start_time": "2022-01-29T20:18:54.161Z"
   },
   {
    "duration": 44,
    "start_time": "2022-01-29T20:18:54.176Z"
   },
   {
    "duration": 11,
    "start_time": "2022-01-29T20:18:54.222Z"
   },
   {
    "duration": 13,
    "start_time": "2022-01-29T20:18:54.235Z"
   },
   {
    "duration": 3,
    "start_time": "2022-01-29T20:18:54.250Z"
   },
   {
    "duration": 6,
    "start_time": "2022-01-29T20:18:54.255Z"
   },
   {
    "duration": 450,
    "start_time": "2022-01-29T20:18:54.262Z"
   },
   {
    "duration": -376,
    "start_time": "2022-01-29T20:18:55.089Z"
   },
   {
    "duration": -387,
    "start_time": "2022-01-29T20:18:55.101Z"
   },
   {
    "duration": -392,
    "start_time": "2022-01-29T20:18:55.108Z"
   },
   {
    "duration": -398,
    "start_time": "2022-01-29T20:18:55.114Z"
   },
   {
    "duration": 231,
    "start_time": "2022-01-29T20:19:09.079Z"
   },
   {
    "duration": 238,
    "start_time": "2022-01-29T20:19:23.279Z"
   },
   {
    "duration": 3,
    "start_time": "2022-01-29T20:19:40.665Z"
   },
   {
    "duration": 225,
    "start_time": "2022-01-29T20:19:40.671Z"
   },
   {
    "duration": 189,
    "start_time": "2022-01-29T20:19:40.912Z"
   },
   {
    "duration": 133,
    "start_time": "2022-01-29T20:19:41.103Z"
   },
   {
    "duration": 21,
    "start_time": "2022-01-29T20:19:41.238Z"
   },
   {
    "duration": 34,
    "start_time": "2022-01-29T20:19:41.261Z"
   },
   {
    "duration": 6,
    "start_time": "2022-01-29T20:19:41.297Z"
   },
   {
    "duration": 15,
    "start_time": "2022-01-29T20:19:41.304Z"
   },
   {
    "duration": 42,
    "start_time": "2022-01-29T20:19:41.322Z"
   },
   {
    "duration": 68,
    "start_time": "2022-01-29T20:19:41.367Z"
   },
   {
    "duration": 29,
    "start_time": "2022-01-29T20:19:41.437Z"
   },
   {
    "duration": 10,
    "start_time": "2022-01-29T20:19:41.467Z"
   },
   {
    "duration": 39,
    "start_time": "2022-01-29T20:19:41.478Z"
   },
   {
    "duration": 6,
    "start_time": "2022-01-29T20:19:41.519Z"
   },
   {
    "duration": 9,
    "start_time": "2022-01-29T20:19:41.527Z"
   },
   {
    "duration": 3,
    "start_time": "2022-01-29T20:19:41.538Z"
   },
   {
    "duration": 10,
    "start_time": "2022-01-29T20:19:41.543Z"
   },
   {
    "duration": 6,
    "start_time": "2022-01-29T20:19:41.555Z"
   },
   {
    "duration": 364,
    "start_time": "2022-01-29T20:19:41.563Z"
   },
   {
    "duration": 11,
    "start_time": "2022-01-29T20:19:41.929Z"
   },
   {
    "duration": 3,
    "start_time": "2022-01-29T20:19:41.941Z"
   },
   {
    "duration": 103,
    "start_time": "2022-01-29T20:19:41.945Z"
   },
   {
    "duration": 23,
    "start_time": "2022-01-29T20:19:42.050Z"
   },
   {
    "duration": 42,
    "start_time": "2022-01-29T20:19:42.076Z"
   },
   {
    "duration": 17,
    "start_time": "2022-01-29T20:19:42.120Z"
   },
   {
    "duration": 20,
    "start_time": "2022-01-29T20:19:42.139Z"
   },
   {
    "duration": 19,
    "start_time": "2022-01-29T20:19:42.161Z"
   },
   {
    "duration": 35,
    "start_time": "2022-01-29T20:19:42.181Z"
   },
   {
    "duration": 24,
    "start_time": "2022-01-29T20:19:42.218Z"
   },
   {
    "duration": 9,
    "start_time": "2022-01-29T20:19:42.243Z"
   },
   {
    "duration": 22,
    "start_time": "2022-01-29T20:19:42.254Z"
   },
   {
    "duration": 56,
    "start_time": "2022-01-29T20:19:42.277Z"
   },
   {
    "duration": 8,
    "start_time": "2022-01-29T20:19:42.335Z"
   },
   {
    "duration": 31,
    "start_time": "2022-01-29T20:19:42.345Z"
   },
   {
    "duration": 38,
    "start_time": "2022-01-29T20:19:42.378Z"
   },
   {
    "duration": 35,
    "start_time": "2022-01-29T20:19:42.418Z"
   },
   {
    "duration": 6,
    "start_time": "2022-01-29T20:19:42.454Z"
   },
   {
    "duration": 6,
    "start_time": "2022-01-29T20:19:42.461Z"
   },
   {
    "duration": 7,
    "start_time": "2022-01-29T20:19:42.468Z"
   },
   {
    "duration": 38,
    "start_time": "2022-01-29T20:19:42.477Z"
   },
   {
    "duration": 13,
    "start_time": "2022-01-29T20:19:42.517Z"
   },
   {
    "duration": 16,
    "start_time": "2022-01-29T20:19:42.532Z"
   },
   {
    "duration": 13,
    "start_time": "2022-01-29T20:19:42.549Z"
   },
   {
    "duration": 4,
    "start_time": "2022-01-29T20:19:42.564Z"
   },
   {
    "duration": 10,
    "start_time": "2022-01-29T20:19:42.570Z"
   },
   {
    "duration": 36,
    "start_time": "2022-01-29T20:19:42.581Z"
   },
   {
    "duration": 13,
    "start_time": "2022-01-29T20:19:42.618Z"
   },
   {
    "duration": 10,
    "start_time": "2022-01-29T20:19:42.633Z"
   },
   {
    "duration": 10,
    "start_time": "2022-01-29T20:19:42.645Z"
   },
   {
    "duration": 12,
    "start_time": "2022-01-29T20:19:42.657Z"
   },
   {
    "duration": 3,
    "start_time": "2022-01-29T20:19:42.671Z"
   },
   {
    "duration": 39,
    "start_time": "2022-01-29T20:19:42.676Z"
   },
   {
    "duration": 241,
    "start_time": "2022-01-29T20:19:47.124Z"
   },
   {
    "duration": 13,
    "start_time": "2022-01-29T20:19:52.828Z"
   },
   {
    "duration": 1108,
    "start_time": "2022-01-29T20:20:28.736Z"
   },
   {
    "duration": 252,
    "start_time": "2022-01-29T20:20:29.846Z"
   },
   {
    "duration": 184,
    "start_time": "2022-01-29T20:20:30.101Z"
   },
   {
    "duration": 137,
    "start_time": "2022-01-29T20:20:30.287Z"
   },
   {
    "duration": 23,
    "start_time": "2022-01-29T20:20:30.425Z"
   },
   {
    "duration": 41,
    "start_time": "2022-01-29T20:20:30.450Z"
   },
   {
    "duration": 11,
    "start_time": "2022-01-29T20:20:30.492Z"
   },
   {
    "duration": 20,
    "start_time": "2022-01-29T20:20:30.506Z"
   },
   {
    "duration": 58,
    "start_time": "2022-01-29T20:20:30.528Z"
   },
   {
    "duration": 32,
    "start_time": "2022-01-29T20:20:30.587Z"
   },
   {
    "duration": 27,
    "start_time": "2022-01-29T20:20:30.620Z"
   },
   {
    "duration": 10,
    "start_time": "2022-01-29T20:20:30.649Z"
   },
   {
    "duration": 11,
    "start_time": "2022-01-29T20:20:30.660Z"
   },
   {
    "duration": 20,
    "start_time": "2022-01-29T20:20:30.673Z"
   },
   {
    "duration": 24,
    "start_time": "2022-01-29T20:20:30.695Z"
   },
   {
    "duration": 11,
    "start_time": "2022-01-29T20:20:30.721Z"
   },
   {
    "duration": 19,
    "start_time": "2022-01-29T20:20:30.734Z"
   },
   {
    "duration": 17,
    "start_time": "2022-01-29T20:20:30.755Z"
   },
   {
    "duration": 333,
    "start_time": "2022-01-29T20:20:30.774Z"
   },
   {
    "duration": 12,
    "start_time": "2022-01-29T20:20:31.108Z"
   },
   {
    "duration": 6,
    "start_time": "2022-01-29T20:20:31.122Z"
   },
   {
    "duration": 97,
    "start_time": "2022-01-29T20:20:31.129Z"
   },
   {
    "duration": 22,
    "start_time": "2022-01-29T20:20:31.229Z"
   },
   {
    "duration": 24,
    "start_time": "2022-01-29T20:20:31.253Z"
   },
   {
    "duration": 34,
    "start_time": "2022-01-29T20:20:31.279Z"
   },
   {
    "duration": 18,
    "start_time": "2022-01-29T20:20:31.315Z"
   },
   {
    "duration": 18,
    "start_time": "2022-01-29T20:20:31.334Z"
   },
   {
    "duration": 9,
    "start_time": "2022-01-29T20:20:31.354Z"
   },
   {
    "duration": 18,
    "start_time": "2022-01-29T20:20:31.364Z"
   },
   {
    "duration": 32,
    "start_time": "2022-01-29T20:20:31.384Z"
   },
   {
    "duration": 20,
    "start_time": "2022-01-29T20:20:31.417Z"
   },
   {
    "duration": 24,
    "start_time": "2022-01-29T20:20:31.439Z"
   },
   {
    "duration": 7,
    "start_time": "2022-01-29T20:20:31.465Z"
   },
   {
    "duration": 67,
    "start_time": "2022-01-29T20:20:31.474Z"
   },
   {
    "duration": 5,
    "start_time": "2022-01-29T20:20:31.542Z"
   },
   {
    "duration": 77,
    "start_time": "2022-01-29T20:20:31.549Z"
   },
   {
    "duration": 6,
    "start_time": "2022-01-29T20:20:31.627Z"
   },
   {
    "duration": 14,
    "start_time": "2022-01-29T20:20:31.634Z"
   },
   {
    "duration": 12,
    "start_time": "2022-01-29T20:20:31.649Z"
   },
   {
    "duration": 9,
    "start_time": "2022-01-29T20:20:31.662Z"
   },
   {
    "duration": 13,
    "start_time": "2022-01-29T20:20:31.674Z"
   },
   {
    "duration": 25,
    "start_time": "2022-01-29T20:20:31.689Z"
   },
   {
    "duration": 15,
    "start_time": "2022-01-29T20:20:31.716Z"
   },
   {
    "duration": 6,
    "start_time": "2022-01-29T20:20:31.733Z"
   },
   {
    "duration": 20,
    "start_time": "2022-01-29T20:20:31.741Z"
   },
   {
    "duration": 14,
    "start_time": "2022-01-29T20:20:31.762Z"
   },
   {
    "duration": 10,
    "start_time": "2022-01-29T20:20:31.778Z"
   },
   {
    "duration": 12,
    "start_time": "2022-01-29T20:20:31.790Z"
   },
   {
    "duration": 29,
    "start_time": "2022-01-29T20:20:31.804Z"
   },
   {
    "duration": 17,
    "start_time": "2022-01-29T20:20:31.834Z"
   },
   {
    "duration": 12,
    "start_time": "2022-01-29T20:20:31.853Z"
   },
   {
    "duration": 8,
    "start_time": "2022-01-29T20:20:31.866Z"
   },
   {
    "duration": 434,
    "start_time": "2022-01-29T20:20:31.876Z"
   },
   {
    "duration": 249,
    "start_time": "2022-01-29T20:20:52.377Z"
   },
   {
    "duration": 32,
    "start_time": "2022-01-29T20:22:00.613Z"
   },
   {
    "duration": 7,
    "start_time": "2022-01-29T20:22:04.869Z"
   },
   {
    "duration": 3,
    "start_time": "2022-01-29T20:22:08.940Z"
   },
   {
    "duration": 362,
    "start_time": "2022-01-29T20:22:10.619Z"
   },
   {
    "duration": 13,
    "start_time": "2022-01-29T20:22:29.899Z"
   },
   {
    "duration": 372,
    "start_time": "2022-01-29T20:22:45.626Z"
   },
   {
    "duration": 4,
    "start_time": "2022-01-29T20:26:18.655Z"
   },
   {
    "duration": 5,
    "start_time": "2022-01-29T20:26:23.607Z"
   },
   {
    "duration": 6,
    "start_time": "2022-01-29T20:26:30.366Z"
   },
   {
    "duration": 5,
    "start_time": "2022-01-29T20:26:51.908Z"
   },
   {
    "duration": 106,
    "start_time": "2022-01-29T20:29:37.523Z"
   },
   {
    "duration": 6,
    "start_time": "2022-01-29T20:29:43.290Z"
   },
   {
    "duration": 222,
    "start_time": "2022-01-29T20:30:08.825Z"
   },
   {
    "duration": 5,
    "start_time": "2022-01-29T20:30:12.969Z"
   },
   {
    "duration": 6,
    "start_time": "2022-01-29T20:30:18.529Z"
   },
   {
    "duration": 3,
    "start_time": "2022-01-29T20:38:16.917Z"
   },
   {
    "duration": 254,
    "start_time": "2022-01-29T20:38:53.651Z"
   },
   {
    "duration": 439,
    "start_time": "2022-01-29T20:39:07.052Z"
   },
   {
    "duration": 4,
    "start_time": "2022-01-29T20:39:21.049Z"
   },
   {
    "duration": 11,
    "start_time": "2022-01-29T20:39:24.881Z"
   },
   {
    "duration": 6,
    "start_time": "2022-01-29T20:40:10.750Z"
   },
   {
    "duration": 5,
    "start_time": "2022-01-29T20:40:51.637Z"
   },
   {
    "duration": 6,
    "start_time": "2022-01-29T20:41:19.195Z"
   },
   {
    "duration": 5,
    "start_time": "2022-01-29T20:41:58.465Z"
   },
   {
    "duration": 5,
    "start_time": "2022-01-29T20:45:33.997Z"
   },
   {
    "duration": 12,
    "start_time": "2022-01-29T20:49:39.686Z"
   },
   {
    "duration": 6,
    "start_time": "2022-01-29T20:50:02.813Z"
   },
   {
    "duration": 466,
    "start_time": "2022-01-29T20:57:18.716Z"
   },
   {
    "duration": 13,
    "start_time": "2022-01-29T20:57:22.524Z"
   },
   {
    "duration": 71,
    "start_time": "2022-01-29T21:02:02.339Z"
   },
   {
    "duration": 5,
    "start_time": "2022-01-29T21:02:11.517Z"
   },
   {
    "duration": 7,
    "start_time": "2022-01-29T21:02:12.858Z"
   },
   {
    "duration": 8,
    "start_time": "2022-01-29T21:02:14.066Z"
   },
   {
    "duration": 4,
    "start_time": "2022-01-29T21:02:19.434Z"
   },
   {
    "duration": 412,
    "start_time": "2022-01-29T21:02:21.723Z"
   },
   {
    "duration": 13,
    "start_time": "2022-01-29T21:02:32.969Z"
   },
   {
    "duration": 392,
    "start_time": "2022-01-29T21:02:39.162Z"
   },
   {
    "duration": 8,
    "start_time": "2022-01-29T21:02:58.175Z"
   },
   {
    "duration": 8,
    "start_time": "2022-01-29T21:03:00.119Z"
   },
   {
    "duration": 495,
    "start_time": "2022-01-29T21:03:03.015Z"
   },
   {
    "duration": 14,
    "start_time": "2022-01-29T21:03:07.151Z"
   },
   {
    "duration": 8,
    "start_time": "2022-01-29T21:05:45.295Z"
   },
   {
    "duration": 8,
    "start_time": "2022-01-29T21:05:46.414Z"
   },
   {
    "duration": 354,
    "start_time": "2022-01-29T21:05:51.285Z"
   },
   {
    "duration": 13,
    "start_time": "2022-01-29T21:05:56.640Z"
   },
   {
    "duration": 1100,
    "start_time": "2022-01-29T21:06:07.387Z"
   },
   {
    "duration": 286,
    "start_time": "2022-01-29T21:06:08.492Z"
   },
   {
    "duration": 185,
    "start_time": "2022-01-29T21:06:08.780Z"
   },
   {
    "duration": 127,
    "start_time": "2022-01-29T21:06:08.966Z"
   },
   {
    "duration": 25,
    "start_time": "2022-01-29T21:06:09.095Z"
   },
   {
    "duration": 35,
    "start_time": "2022-01-29T21:06:09.122Z"
   },
   {
    "duration": 5,
    "start_time": "2022-01-29T21:06:09.159Z"
   },
   {
    "duration": 8,
    "start_time": "2022-01-29T21:06:09.166Z"
   },
   {
    "duration": 57,
    "start_time": "2022-01-29T21:06:09.175Z"
   },
   {
    "duration": 31,
    "start_time": "2022-01-29T21:06:09.234Z"
   },
   {
    "duration": 24,
    "start_time": "2022-01-29T21:06:09.267Z"
   },
   {
    "duration": 25,
    "start_time": "2022-01-29T21:06:09.292Z"
   },
   {
    "duration": 10,
    "start_time": "2022-01-29T21:06:09.319Z"
   },
   {
    "duration": 6,
    "start_time": "2022-01-29T21:06:09.330Z"
   },
   {
    "duration": 8,
    "start_time": "2022-01-29T21:06:09.338Z"
   },
   {
    "duration": 3,
    "start_time": "2022-01-29T21:06:09.348Z"
   },
   {
    "duration": 14,
    "start_time": "2022-01-29T21:06:09.353Z"
   },
   {
    "duration": 44,
    "start_time": "2022-01-29T21:06:09.368Z"
   },
   {
    "duration": 336,
    "start_time": "2022-01-29T21:06:09.414Z"
   },
   {
    "duration": 12,
    "start_time": "2022-01-29T21:06:09.751Z"
   },
   {
    "duration": 3,
    "start_time": "2022-01-29T21:06:09.764Z"
   },
   {
    "duration": 105,
    "start_time": "2022-01-29T21:06:09.770Z"
   },
   {
    "duration": 22,
    "start_time": "2022-01-29T21:06:09.878Z"
   },
   {
    "duration": 33,
    "start_time": "2022-01-29T21:06:09.902Z"
   },
   {
    "duration": 15,
    "start_time": "2022-01-29T21:06:09.936Z"
   },
   {
    "duration": 19,
    "start_time": "2022-01-29T21:06:09.953Z"
   },
   {
    "duration": 43,
    "start_time": "2022-01-29T21:06:09.973Z"
   },
   {
    "duration": 10,
    "start_time": "2022-01-29T21:06:10.018Z"
   },
   {
    "duration": 19,
    "start_time": "2022-01-29T21:06:10.029Z"
   },
   {
    "duration": 8,
    "start_time": "2022-01-29T21:06:10.049Z"
   },
   {
    "duration": 21,
    "start_time": "2022-01-29T21:06:10.058Z"
   },
   {
    "duration": 48,
    "start_time": "2022-01-29T21:06:10.080Z"
   },
   {
    "duration": 6,
    "start_time": "2022-01-29T21:06:10.129Z"
   },
   {
    "duration": 28,
    "start_time": "2022-01-29T21:06:10.136Z"
   },
   {
    "duration": 5,
    "start_time": "2022-01-29T21:06:10.166Z"
   },
   {
    "duration": 64,
    "start_time": "2022-01-29T21:06:10.172Z"
   },
   {
    "duration": 5,
    "start_time": "2022-01-29T21:06:10.238Z"
   },
   {
    "duration": 6,
    "start_time": "2022-01-29T21:06:10.245Z"
   },
   {
    "duration": 8,
    "start_time": "2022-01-29T21:06:10.253Z"
   },
   {
    "duration": 11,
    "start_time": "2022-01-29T21:06:10.262Z"
   },
   {
    "duration": 9,
    "start_time": "2022-01-29T21:06:10.274Z"
   },
   {
    "duration": 41,
    "start_time": "2022-01-29T21:06:10.284Z"
   },
   {
    "duration": 13,
    "start_time": "2022-01-29T21:06:10.326Z"
   },
   {
    "duration": 4,
    "start_time": "2022-01-29T21:06:10.341Z"
   },
   {
    "duration": 8,
    "start_time": "2022-01-29T21:06:10.347Z"
   },
   {
    "duration": 7,
    "start_time": "2022-01-29T21:06:10.357Z"
   },
   {
    "duration": 11,
    "start_time": "2022-01-29T21:06:10.366Z"
   },
   {
    "duration": 44,
    "start_time": "2022-01-29T21:06:10.379Z"
   },
   {
    "duration": 12,
    "start_time": "2022-01-29T21:06:10.425Z"
   },
   {
    "duration": 13,
    "start_time": "2022-01-29T21:06:10.438Z"
   },
   {
    "duration": 4,
    "start_time": "2022-01-29T21:06:10.453Z"
   },
   {
    "duration": 9,
    "start_time": "2022-01-29T21:06:10.458Z"
   },
   {
    "duration": 57,
    "start_time": "2022-01-29T21:06:10.468Z"
   },
   {
    "duration": 6,
    "start_time": "2022-01-29T21:06:10.527Z"
   },
   {
    "duration": 5,
    "start_time": "2022-01-29T21:06:10.534Z"
   },
   {
    "duration": 12,
    "start_time": "2022-01-29T21:06:10.541Z"
   },
   {
    "duration": 7,
    "start_time": "2022-01-29T21:06:10.555Z"
   },
   {
    "duration": 2,
    "start_time": "2022-01-29T21:06:10.564Z"
   },
   {
    "duration": 395,
    "start_time": "2022-01-29T21:06:10.568Z"
   },
   {
    "duration": 12,
    "start_time": "2022-01-29T21:06:10.965Z"
   },
   {
    "duration": 6,
    "start_time": "2022-01-29T21:06:10.978Z"
   },
   {
    "duration": 8,
    "start_time": "2022-01-29T21:06:10.986Z"
   },
   {
    "duration": 503,
    "start_time": "2022-01-29T21:06:11.012Z"
   },
   {
    "duration": 14,
    "start_time": "2022-01-29T21:06:11.517Z"
   },
   {
    "duration": 7,
    "start_time": "2022-01-29T21:06:11.533Z"
   },
   {
    "duration": 8,
    "start_time": "2022-01-29T21:06:11.542Z"
   },
   {
    "duration": 404,
    "start_time": "2022-01-29T21:06:11.555Z"
   },
   {
    "duration": 14,
    "start_time": "2022-01-29T21:06:11.961Z"
   },
   {
    "duration": 9,
    "start_time": "2022-01-29T21:06:11.977Z"
   },
   {
    "duration": 28,
    "start_time": "2022-01-29T21:06:11.988Z"
   },
   {
    "duration": 7,
    "start_time": "2022-01-29T21:06:12.018Z"
   },
   {
    "duration": 9,
    "start_time": "2022-01-29T21:06:12.026Z"
   },
   {
    "duration": 3,
    "start_time": "2022-01-29T21:06:12.037Z"
   },
   {
    "duration": 9,
    "start_time": "2022-01-29T21:06:12.041Z"
   },
   {
    "duration": 5,
    "start_time": "2022-01-29T21:06:12.051Z"
   },
   {
    "duration": 4,
    "start_time": "2022-01-29T21:06:12.057Z"
   },
   {
    "duration": 8,
    "start_time": "2022-01-29T21:06:12.063Z"
   },
   {
    "duration": 48,
    "start_time": "2022-01-29T21:06:12.072Z"
   },
   {
    "duration": 6,
    "start_time": "2022-01-29T21:06:12.121Z"
   },
   {
    "duration": 7,
    "start_time": "2022-01-29T21:06:12.128Z"
   },
   {
    "duration": 7,
    "start_time": "2022-01-29T21:06:12.136Z"
   },
   {
    "duration": 6,
    "start_time": "2022-01-29T21:06:12.145Z"
   },
   {
    "duration": 5,
    "start_time": "2022-01-29T21:06:12.152Z"
   },
   {
    "duration": 9,
    "start_time": "2022-01-29T21:06:12.159Z"
   },
   {
    "duration": 5,
    "start_time": "2022-01-29T21:06:12.170Z"
   },
   {
    "duration": 39,
    "start_time": "2022-01-29T21:06:12.177Z"
   },
   {
    "duration": 9,
    "start_time": "2022-01-29T21:06:12.218Z"
   },
   {
    "duration": 8,
    "start_time": "2022-01-29T21:06:12.229Z"
   },
   {
    "duration": 6,
    "start_time": "2022-01-29T21:06:12.239Z"
   },
   {
    "duration": 822,
    "start_time": "2022-01-29T21:12:09.158Z"
   },
   {
    "duration": 274,
    "start_time": "2022-01-29T21:12:16.422Z"
   },
   {
    "duration": 301,
    "start_time": "2022-01-29T21:13:43.761Z"
   },
   {
    "duration": 361,
    "start_time": "2022-01-29T21:13:54.976Z"
   },
   {
    "duration": 1141,
    "start_time": "2022-01-29T21:33:36.011Z"
   },
   {
    "duration": 244,
    "start_time": "2022-01-29T21:33:37.153Z"
   },
   {
    "duration": 181,
    "start_time": "2022-01-29T21:33:37.399Z"
   },
   {
    "duration": 130,
    "start_time": "2022-01-29T21:33:37.582Z"
   },
   {
    "duration": 21,
    "start_time": "2022-01-29T21:33:37.714Z"
   },
   {
    "duration": 34,
    "start_time": "2022-01-29T21:33:37.737Z"
   },
   {
    "duration": 5,
    "start_time": "2022-01-29T21:33:37.773Z"
   },
   {
    "duration": 7,
    "start_time": "2022-01-29T21:33:37.781Z"
   },
   {
    "duration": 49,
    "start_time": "2022-01-29T21:33:37.790Z"
   },
   {
    "duration": 30,
    "start_time": "2022-01-29T21:33:37.841Z"
   },
   {
    "duration": 43,
    "start_time": "2022-01-29T21:33:37.873Z"
   },
   {
    "duration": 8,
    "start_time": "2022-01-29T21:33:37.918Z"
   },
   {
    "duration": 11,
    "start_time": "2022-01-29T21:33:37.928Z"
   },
   {
    "duration": 6,
    "start_time": "2022-01-29T21:33:37.941Z"
   },
   {
    "duration": 8,
    "start_time": "2022-01-29T21:33:37.949Z"
   },
   {
    "duration": 4,
    "start_time": "2022-01-29T21:33:37.958Z"
   },
   {
    "duration": 50,
    "start_time": "2022-01-29T21:33:37.963Z"
   },
   {
    "duration": 7,
    "start_time": "2022-01-29T21:33:38.015Z"
   },
   {
    "duration": 356,
    "start_time": "2022-01-29T21:33:38.023Z"
   },
   {
    "duration": 10,
    "start_time": "2022-01-29T21:33:38.381Z"
   },
   {
    "duration": 2,
    "start_time": "2022-01-29T21:33:38.393Z"
   },
   {
    "duration": 98,
    "start_time": "2022-01-29T21:33:38.397Z"
   },
   {
    "duration": 31,
    "start_time": "2022-01-29T21:33:38.499Z"
   },
   {
    "duration": 25,
    "start_time": "2022-01-29T21:33:38.532Z"
   },
   {
    "duration": 15,
    "start_time": "2022-01-29T21:33:38.558Z"
   },
   {
    "duration": 42,
    "start_time": "2022-01-29T21:33:38.575Z"
   },
   {
    "duration": 17,
    "start_time": "2022-01-29T21:33:38.619Z"
   },
   {
    "duration": 10,
    "start_time": "2022-01-29T21:33:38.638Z"
   },
   {
    "duration": 18,
    "start_time": "2022-01-29T21:33:38.649Z"
   },
   {
    "duration": 8,
    "start_time": "2022-01-29T21:33:38.668Z"
   },
   {
    "duration": 48,
    "start_time": "2022-01-29T21:33:38.677Z"
   },
   {
    "duration": 23,
    "start_time": "2022-01-29T21:33:38.726Z"
   },
   {
    "duration": 7,
    "start_time": "2022-01-29T21:33:38.750Z"
   },
   {
    "duration": 28,
    "start_time": "2022-01-29T21:33:38.758Z"
   },
   {
    "duration": 5,
    "start_time": "2022-01-29T21:33:38.812Z"
   },
   {
    "duration": 32,
    "start_time": "2022-01-29T21:33:38.819Z"
   },
   {
    "duration": 4,
    "start_time": "2022-01-29T21:33:38.853Z"
   },
   {
    "duration": 7,
    "start_time": "2022-01-29T21:33:38.859Z"
   },
   {
    "duration": 8,
    "start_time": "2022-01-29T21:33:38.868Z"
   },
   {
    "duration": 41,
    "start_time": "2022-01-29T21:33:38.877Z"
   },
   {
    "duration": 9,
    "start_time": "2022-01-29T21:33:38.919Z"
   },
   {
    "duration": 14,
    "start_time": "2022-01-29T21:33:38.930Z"
   },
   {
    "duration": 10,
    "start_time": "2022-01-29T21:33:38.945Z"
   },
   {
    "duration": 4,
    "start_time": "2022-01-29T21:33:38.956Z"
   },
   {
    "duration": 8,
    "start_time": "2022-01-29T21:33:38.961Z"
   },
   {
    "duration": 6,
    "start_time": "2022-01-29T21:33:38.970Z"
   },
   {
    "duration": 12,
    "start_time": "2022-01-29T21:33:39.012Z"
   },
   {
    "duration": 10,
    "start_time": "2022-01-29T21:33:39.026Z"
   },
   {
    "duration": 10,
    "start_time": "2022-01-29T21:33:39.038Z"
   },
   {
    "duration": 13,
    "start_time": "2022-01-29T21:33:39.049Z"
   },
   {
    "duration": 9,
    "start_time": "2022-01-29T21:33:39.063Z"
   },
   {
    "duration": 13,
    "start_time": "2022-01-29T21:33:39.073Z"
   },
   {
    "duration": 52,
    "start_time": "2022-01-29T21:33:39.088Z"
   },
   {
    "duration": 7,
    "start_time": "2022-01-29T21:33:39.142Z"
   },
   {
    "duration": 6,
    "start_time": "2022-01-29T21:33:39.150Z"
   },
   {
    "duration": 11,
    "start_time": "2022-01-29T21:33:39.157Z"
   },
   {
    "duration": 7,
    "start_time": "2022-01-29T21:33:39.169Z"
   },
   {
    "duration": 4,
    "start_time": "2022-01-29T21:33:39.178Z"
   },
   {
    "duration": 354,
    "start_time": "2022-01-29T21:33:39.213Z"
   },
   {
    "duration": 13,
    "start_time": "2022-01-29T21:33:39.568Z"
   },
   {
    "duration": 6,
    "start_time": "2022-01-29T21:33:39.583Z"
   },
   {
    "duration": 30,
    "start_time": "2022-01-29T21:33:39.590Z"
   },
   {
    "duration": 490,
    "start_time": "2022-01-29T21:33:39.622Z"
   },
   {
    "duration": 13,
    "start_time": "2022-01-29T21:33:40.114Z"
   },
   {
    "duration": 7,
    "start_time": "2022-01-29T21:33:40.129Z"
   },
   {
    "duration": 8,
    "start_time": "2022-01-29T21:33:40.138Z"
   },
   {
    "duration": 374,
    "start_time": "2022-01-29T21:33:40.147Z"
   },
   {
    "duration": 14,
    "start_time": "2022-01-29T21:33:40.527Z"
   },
   {
    "duration": 8,
    "start_time": "2022-01-29T21:33:40.543Z"
   },
   {
    "duration": 8,
    "start_time": "2022-01-29T21:33:40.553Z"
   },
   {
    "duration": 11,
    "start_time": "2022-01-29T21:33:40.563Z"
   },
   {
    "duration": 40,
    "start_time": "2022-01-29T21:33:40.576Z"
   },
   {
    "duration": 3,
    "start_time": "2022-01-29T21:33:40.617Z"
   },
   {
    "duration": 8,
    "start_time": "2022-01-29T21:33:40.622Z"
   },
   {
    "duration": 5,
    "start_time": "2022-01-29T21:33:40.631Z"
   },
   {
    "duration": 4,
    "start_time": "2022-01-29T21:33:40.638Z"
   },
   {
    "duration": 8,
    "start_time": "2022-01-29T21:33:40.644Z"
   },
   {
    "duration": 7,
    "start_time": "2022-01-29T21:33:40.653Z"
   },
   {
    "duration": 6,
    "start_time": "2022-01-29T21:33:40.661Z"
   },
   {
    "duration": 5,
    "start_time": "2022-01-29T21:33:40.669Z"
   },
   {
    "duration": 6,
    "start_time": "2022-01-29T21:33:40.712Z"
   },
   {
    "duration": 7,
    "start_time": "2022-01-29T21:33:40.720Z"
   },
   {
    "duration": 2,
    "start_time": "2022-01-29T21:33:40.729Z"
   },
   {
    "duration": 9,
    "start_time": "2022-01-29T21:33:40.733Z"
   },
   {
    "duration": 5,
    "start_time": "2022-01-29T21:33:40.744Z"
   },
   {
    "duration": 5,
    "start_time": "2022-01-29T21:33:40.750Z"
   },
   {
    "duration": 7,
    "start_time": "2022-01-29T21:33:40.757Z"
   },
   {
    "duration": 8,
    "start_time": "2022-01-29T21:33:40.812Z"
   },
   {
    "duration": 7,
    "start_time": "2022-01-29T21:33:40.822Z"
   },
   {
    "duration": 4,
    "start_time": "2022-01-29T21:37:55.362Z"
   },
   {
    "duration": 257,
    "start_time": "2022-01-29T21:37:55.370Z"
   },
   {
    "duration": 213,
    "start_time": "2022-01-29T21:37:55.629Z"
   },
   {
    "duration": 128,
    "start_time": "2022-01-29T21:37:55.844Z"
   },
   {
    "duration": 21,
    "start_time": "2022-01-29T21:37:55.974Z"
   },
   {
    "duration": 33,
    "start_time": "2022-01-29T21:37:56.013Z"
   },
   {
    "duration": 6,
    "start_time": "2022-01-29T21:37:56.048Z"
   },
   {
    "duration": 11,
    "start_time": "2022-01-29T21:37:56.055Z"
   },
   {
    "duration": 53,
    "start_time": "2022-01-29T21:37:56.068Z"
   },
   {
    "duration": 32,
    "start_time": "2022-01-29T21:37:56.123Z"
   },
   {
    "duration": 25,
    "start_time": "2022-01-29T21:37:56.157Z"
   },
   {
    "duration": 35,
    "start_time": "2022-01-29T21:37:56.184Z"
   },
   {
    "duration": 12,
    "start_time": "2022-01-29T21:37:56.220Z"
   },
   {
    "duration": 7,
    "start_time": "2022-01-29T21:37:56.234Z"
   },
   {
    "duration": 8,
    "start_time": "2022-01-29T21:37:56.242Z"
   },
   {
    "duration": 4,
    "start_time": "2022-01-29T21:37:56.252Z"
   },
   {
    "duration": 12,
    "start_time": "2022-01-29T21:37:56.257Z"
   },
   {
    "duration": 46,
    "start_time": "2022-01-29T21:37:56.270Z"
   },
   {
    "duration": 371,
    "start_time": "2022-01-29T21:37:56.317Z"
   },
   {
    "duration": 22,
    "start_time": "2022-01-29T21:37:56.690Z"
   },
   {
    "duration": 2,
    "start_time": "2022-01-29T21:37:56.714Z"
   },
   {
    "duration": 97,
    "start_time": "2022-01-29T21:37:56.718Z"
   },
   {
    "duration": 25,
    "start_time": "2022-01-29T21:37:56.816Z"
   },
   {
    "duration": 23,
    "start_time": "2022-01-29T21:37:56.845Z"
   },
   {
    "duration": 15,
    "start_time": "2022-01-29T21:37:56.872Z"
   },
   {
    "duration": 42,
    "start_time": "2022-01-29T21:37:56.889Z"
   },
   {
    "duration": 20,
    "start_time": "2022-01-29T21:37:56.933Z"
   },
   {
    "duration": 10,
    "start_time": "2022-01-29T21:37:56.955Z"
   },
   {
    "duration": 51,
    "start_time": "2022-01-29T21:37:56.967Z"
   },
   {
    "duration": 9,
    "start_time": "2022-01-29T21:37:57.020Z"
   },
   {
    "duration": 20,
    "start_time": "2022-01-29T21:37:57.030Z"
   },
   {
    "duration": 23,
    "start_time": "2022-01-29T21:37:57.052Z"
   },
   {
    "duration": 6,
    "start_time": "2022-01-29T21:37:57.076Z"
   },
   {
    "duration": 29,
    "start_time": "2022-01-29T21:37:57.113Z"
   },
   {
    "duration": 5,
    "start_time": "2022-01-29T21:37:57.143Z"
   },
   {
    "duration": 33,
    "start_time": "2022-01-29T21:37:57.150Z"
   },
   {
    "duration": 32,
    "start_time": "2022-01-29T21:37:57.184Z"
   },
   {
    "duration": 7,
    "start_time": "2022-01-29T21:37:57.217Z"
   },
   {
    "duration": 7,
    "start_time": "2022-01-29T21:37:57.226Z"
   },
   {
    "duration": 10,
    "start_time": "2022-01-29T21:37:57.235Z"
   },
   {
    "duration": 9,
    "start_time": "2022-01-29T21:37:57.247Z"
   },
   {
    "duration": 15,
    "start_time": "2022-01-29T21:37:57.257Z"
   },
   {
    "duration": 45,
    "start_time": "2022-01-29T21:37:57.274Z"
   },
   {
    "duration": 3,
    "start_time": "2022-01-29T21:37:57.321Z"
   },
   {
    "duration": 8,
    "start_time": "2022-01-29T21:37:57.326Z"
   },
   {
    "duration": 5,
    "start_time": "2022-01-29T21:37:57.336Z"
   },
   {
    "duration": 11,
    "start_time": "2022-01-29T21:37:57.343Z"
   },
   {
    "duration": 10,
    "start_time": "2022-01-29T21:37:57.356Z"
   },
   {
    "duration": 10,
    "start_time": "2022-01-29T21:37:57.367Z"
   },
   {
    "duration": 41,
    "start_time": "2022-01-29T21:37:57.378Z"
   },
   {
    "duration": 3,
    "start_time": "2022-01-29T21:37:57.420Z"
   },
   {
    "duration": 6,
    "start_time": "2022-01-29T21:37:57.425Z"
   },
   {
    "duration": 30,
    "start_time": "2022-01-29T21:37:57.433Z"
   },
   {
    "duration": 7,
    "start_time": "2022-01-29T21:37:57.465Z"
   },
   {
    "duration": 3,
    "start_time": "2022-01-29T21:37:57.474Z"
   },
   {
    "duration": 38,
    "start_time": "2022-01-29T21:37:57.479Z"
   },
   {
    "duration": 8,
    "start_time": "2022-01-29T21:37:57.519Z"
   },
   {
    "duration": 4,
    "start_time": "2022-01-29T21:37:57.529Z"
   },
   {
    "duration": 442,
    "start_time": "2022-01-29T21:37:57.535Z"
   },
   {
    "duration": 14,
    "start_time": "2022-01-29T21:37:57.979Z"
   },
   {
    "duration": 23,
    "start_time": "2022-01-29T21:37:57.995Z"
   },
   {
    "duration": 9,
    "start_time": "2022-01-29T21:37:58.020Z"
   },
   {
    "duration": 490,
    "start_time": "2022-01-29T21:37:58.030Z"
   },
   {
    "duration": 15,
    "start_time": "2022-01-29T21:37:58.523Z"
   },
   {
    "duration": 8,
    "start_time": "2022-01-29T21:37:58.540Z"
   },
   {
    "duration": 8,
    "start_time": "2022-01-29T21:37:58.550Z"
   },
   {
    "duration": 414,
    "start_time": "2022-01-29T21:37:58.559Z"
   },
   {
    "duration": 13,
    "start_time": "2022-01-29T21:37:58.975Z"
   },
   {
    "duration": 22,
    "start_time": "2022-01-29T21:37:58.994Z"
   },
   {
    "duration": 16,
    "start_time": "2022-01-29T21:37:59.018Z"
   },
   {
    "duration": 17,
    "start_time": "2022-01-29T21:37:59.035Z"
   },
   {
    "duration": 27,
    "start_time": "2022-01-29T21:37:59.053Z"
   },
   {
    "duration": 16,
    "start_time": "2022-01-29T21:37:59.081Z"
   },
   {
    "duration": 14,
    "start_time": "2022-01-29T21:37:59.098Z"
   },
   {
    "duration": 9,
    "start_time": "2022-01-29T21:37:59.113Z"
   },
   {
    "duration": 12,
    "start_time": "2022-01-29T21:37:59.124Z"
   },
   {
    "duration": 15,
    "start_time": "2022-01-29T21:37:59.137Z"
   },
   {
    "duration": 13,
    "start_time": "2022-01-29T21:37:59.153Z"
   },
   {
    "duration": 16,
    "start_time": "2022-01-29T21:37:59.167Z"
   },
   {
    "duration": 13,
    "start_time": "2022-01-29T21:37:59.184Z"
   },
   {
    "duration": 9,
    "start_time": "2022-01-29T21:37:59.198Z"
   },
   {
    "duration": 14,
    "start_time": "2022-01-29T21:37:59.208Z"
   },
   {
    "duration": 18,
    "start_time": "2022-01-29T21:37:59.223Z"
   },
   {
    "duration": 15,
    "start_time": "2022-01-29T21:37:59.242Z"
   },
   {
    "duration": 14,
    "start_time": "2022-01-29T21:37:59.259Z"
   },
   {
    "duration": 10,
    "start_time": "2022-01-29T21:37:59.275Z"
   },
   {
    "duration": 13,
    "start_time": "2022-01-29T21:37:59.286Z"
   },
   {
    "duration": 18,
    "start_time": "2022-01-29T21:37:59.301Z"
   },
   {
    "duration": 13,
    "start_time": "2022-01-29T21:37:59.320Z"
   },
   {
    "duration": 3,
    "start_time": "2022-01-29T21:42:02.670Z"
   },
   {
    "duration": 246,
    "start_time": "2022-01-29T21:42:02.677Z"
   },
   {
    "duration": 212,
    "start_time": "2022-01-29T21:42:02.925Z"
   },
   {
    "duration": 135,
    "start_time": "2022-01-29T21:42:03.139Z"
   },
   {
    "duration": 24,
    "start_time": "2022-01-29T21:42:03.276Z"
   },
   {
    "duration": 39,
    "start_time": "2022-01-29T21:42:03.302Z"
   },
   {
    "duration": 6,
    "start_time": "2022-01-29T21:42:03.343Z"
   },
   {
    "duration": 9,
    "start_time": "2022-01-29T21:42:03.351Z"
   },
   {
    "duration": 60,
    "start_time": "2022-01-29T21:42:03.362Z"
   },
   {
    "duration": 35,
    "start_time": "2022-01-29T21:42:03.424Z"
   },
   {
    "duration": 29,
    "start_time": "2022-01-29T21:42:03.461Z"
   },
   {
    "duration": 9,
    "start_time": "2022-01-29T21:42:03.513Z"
   },
   {
    "duration": 13,
    "start_time": "2022-01-29T21:42:03.524Z"
   },
   {
    "duration": 7,
    "start_time": "2022-01-29T21:42:03.539Z"
   },
   {
    "duration": 11,
    "start_time": "2022-01-29T21:42:03.548Z"
   },
   {
    "duration": 5,
    "start_time": "2022-01-29T21:42:03.561Z"
   },
   {
    "duration": 55,
    "start_time": "2022-01-29T21:42:03.568Z"
   },
   {
    "duration": 8,
    "start_time": "2022-01-29T21:42:03.625Z"
   },
   {
    "duration": 412,
    "start_time": "2022-01-29T21:42:03.634Z"
   },
   {
    "duration": 13,
    "start_time": "2022-01-29T21:42:04.048Z"
   },
   {
    "duration": 3,
    "start_time": "2022-01-29T21:42:04.062Z"
   },
   {
    "duration": 113,
    "start_time": "2022-01-29T21:42:04.067Z"
   },
   {
    "duration": 31,
    "start_time": "2022-01-29T21:42:04.182Z"
   },
   {
    "duration": 27,
    "start_time": "2022-01-29T21:42:04.216Z"
   },
   {
    "duration": 16,
    "start_time": "2022-01-29T21:42:04.245Z"
   },
   {
    "duration": 19,
    "start_time": "2022-01-29T21:42:04.262Z"
   },
   {
    "duration": 42,
    "start_time": "2022-01-29T21:42:04.283Z"
   },
   {
    "duration": 10,
    "start_time": "2022-01-29T21:42:04.327Z"
   },
   {
    "duration": 19,
    "start_time": "2022-01-29T21:42:04.338Z"
   },
   {
    "duration": 8,
    "start_time": "2022-01-29T21:42:04.359Z"
   },
   {
    "duration": 50,
    "start_time": "2022-01-29T21:42:04.368Z"
   },
   {
    "duration": 25,
    "start_time": "2022-01-29T21:42:04.420Z"
   },
   {
    "duration": 6,
    "start_time": "2022-01-29T21:42:04.446Z"
   },
   {
    "duration": 59,
    "start_time": "2022-01-29T21:42:04.454Z"
   },
   {
    "duration": 6,
    "start_time": "2022-01-29T21:42:04.515Z"
   },
   {
    "duration": 33,
    "start_time": "2022-01-29T21:42:04.522Z"
   },
   {
    "duration": 5,
    "start_time": "2022-01-29T21:42:04.557Z"
   },
   {
    "duration": 1083,
    "start_time": "2022-01-29T21:42:44.809Z"
   },
   {
    "duration": 256,
    "start_time": "2022-01-29T21:42:45.894Z"
   },
   {
    "duration": 183,
    "start_time": "2022-01-29T21:42:46.152Z"
   },
   {
    "duration": 122,
    "start_time": "2022-01-29T21:42:46.337Z"
   },
   {
    "duration": 20,
    "start_time": "2022-01-29T21:42:46.461Z"
   },
   {
    "duration": 35,
    "start_time": "2022-01-29T21:42:46.483Z"
   },
   {
    "duration": 5,
    "start_time": "2022-01-29T21:42:46.520Z"
   },
   {
    "duration": 7,
    "start_time": "2022-01-29T21:42:46.528Z"
   },
   {
    "duration": 41,
    "start_time": "2022-01-29T21:42:46.537Z"
   },
   {
    "duration": 57,
    "start_time": "2022-01-29T21:42:46.580Z"
   },
   {
    "duration": 28,
    "start_time": "2022-01-29T21:42:46.638Z"
   },
   {
    "duration": 11,
    "start_time": "2022-01-29T21:42:46.667Z"
   },
   {
    "duration": 33,
    "start_time": "2022-01-29T21:42:46.680Z"
   },
   {
    "duration": 6,
    "start_time": "2022-01-29T21:42:46.715Z"
   },
   {
    "duration": 8,
    "start_time": "2022-01-29T21:42:46.723Z"
   },
   {
    "duration": 3,
    "start_time": "2022-01-29T21:42:46.733Z"
   },
   {
    "duration": 13,
    "start_time": "2022-01-29T21:42:46.738Z"
   },
   {
    "duration": 6,
    "start_time": "2022-01-29T21:42:46.752Z"
   },
   {
    "duration": 374,
    "start_time": "2022-01-29T21:42:46.760Z"
   },
   {
    "duration": 11,
    "start_time": "2022-01-29T21:42:47.136Z"
   },
   {
    "duration": 2,
    "start_time": "2022-01-29T21:42:47.149Z"
   },
   {
    "duration": 107,
    "start_time": "2022-01-29T21:42:47.153Z"
   },
   {
    "duration": 23,
    "start_time": "2022-01-29T21:42:47.264Z"
   },
   {
    "duration": 38,
    "start_time": "2022-01-29T21:42:47.290Z"
   },
   {
    "duration": 15,
    "start_time": "2022-01-29T21:42:47.330Z"
   },
   {
    "duration": 18,
    "start_time": "2022-01-29T21:42:47.347Z"
   },
   {
    "duration": 17,
    "start_time": "2022-01-29T21:42:47.367Z"
   },
   {
    "duration": 30,
    "start_time": "2022-01-29T21:42:47.385Z"
   },
   {
    "duration": 19,
    "start_time": "2022-01-29T21:42:47.416Z"
   },
   {
    "duration": 7,
    "start_time": "2022-01-29T21:42:47.437Z"
   },
   {
    "duration": 20,
    "start_time": "2022-01-29T21:42:47.445Z"
   },
   {
    "duration": 56,
    "start_time": "2022-01-29T21:42:47.467Z"
   },
   {
    "duration": 6,
    "start_time": "2022-01-29T21:42:47.524Z"
   },
   {
    "duration": 31,
    "start_time": "2022-01-29T21:42:47.531Z"
   },
   {
    "duration": 5,
    "start_time": "2022-01-29T21:42:47.564Z"
   },
   {
    "duration": 55,
    "start_time": "2022-01-29T21:42:47.570Z"
   },
   {
    "duration": 5,
    "start_time": "2022-01-29T21:42:47.626Z"
   },
   {
    "duration": 6,
    "start_time": "2022-01-29T21:42:47.633Z"
   },
   {
    "duration": 7,
    "start_time": "2022-01-29T21:42:47.640Z"
   },
   {
    "duration": 9,
    "start_time": "2022-01-29T21:42:47.649Z"
   },
   {
    "duration": 10,
    "start_time": "2022-01-29T21:42:47.660Z"
   },
   {
    "duration": 49,
    "start_time": "2022-01-29T21:42:47.672Z"
   },
   {
    "duration": 10,
    "start_time": "2022-01-29T21:42:47.723Z"
   },
   {
    "duration": 5,
    "start_time": "2022-01-29T21:42:47.734Z"
   },
   {
    "duration": 8,
    "start_time": "2022-01-29T21:42:47.741Z"
   },
   {
    "duration": 9,
    "start_time": "2022-01-29T21:42:47.751Z"
   },
   {
    "duration": 52,
    "start_time": "2022-01-29T21:42:47.761Z"
   },
   {
    "duration": 13,
    "start_time": "2022-01-29T21:42:47.815Z"
   },
   {
    "duration": 11,
    "start_time": "2022-01-29T21:42:47.830Z"
   },
   {
    "duration": 18,
    "start_time": "2022-01-29T21:42:47.842Z"
   },
   {
    "duration": 3,
    "start_time": "2022-01-29T21:42:47.861Z"
   },
   {
    "duration": 8,
    "start_time": "2022-01-29T21:42:47.865Z"
   },
   {
    "duration": 63,
    "start_time": "2022-01-29T21:42:47.875Z"
   },
   {
    "duration": 6,
    "start_time": "2022-01-29T21:42:47.939Z"
   },
   {
    "duration": 3,
    "start_time": "2022-01-29T21:42:47.947Z"
   },
   {
    "duration": 11,
    "start_time": "2022-01-29T21:42:47.951Z"
   },
   {
    "duration": 6,
    "start_time": "2022-01-29T21:42:47.964Z"
   },
   {
    "duration": 3,
    "start_time": "2022-01-29T21:42:47.971Z"
   },
   {
    "duration": 373,
    "start_time": "2022-01-29T21:42:47.976Z"
   },
   {
    "duration": 13,
    "start_time": "2022-01-29T21:42:48.351Z"
   },
   {
    "duration": 7,
    "start_time": "2022-01-29T21:42:48.366Z"
   },
   {
    "duration": 7,
    "start_time": "2022-01-29T21:42:48.374Z"
   },
   {
    "duration": 496,
    "start_time": "2022-01-29T21:42:48.382Z"
   },
   {
    "duration": 13,
    "start_time": "2022-01-29T21:42:48.879Z"
   },
   {
    "duration": 21,
    "start_time": "2022-01-29T21:42:48.893Z"
   },
   {
    "duration": 8,
    "start_time": "2022-01-29T21:42:48.916Z"
   },
   {
    "duration": 374,
    "start_time": "2022-01-29T21:42:48.926Z"
   },
   {
    "duration": 18,
    "start_time": "2022-01-29T21:42:49.305Z"
   },
   {
    "duration": 6,
    "start_time": "2022-01-29T21:42:49.325Z"
   },
   {
    "duration": 7,
    "start_time": "2022-01-29T21:42:49.333Z"
   },
   {
    "duration": 6,
    "start_time": "2022-01-29T21:42:49.342Z"
   },
   {
    "duration": 11,
    "start_time": "2022-01-29T21:42:49.350Z"
   },
   {
    "duration": 2,
    "start_time": "2022-01-29T21:42:49.363Z"
   },
   {
    "duration": 8,
    "start_time": "2022-01-29T21:42:49.367Z"
   },
   {
    "duration": 40,
    "start_time": "2022-01-29T21:42:49.376Z"
   },
   {
    "duration": 5,
    "start_time": "2022-01-29T21:42:49.417Z"
   },
   {
    "duration": 7,
    "start_time": "2022-01-29T21:42:49.424Z"
   },
   {
    "duration": 8,
    "start_time": "2022-01-29T21:42:49.433Z"
   },
   {
    "duration": 5,
    "start_time": "2022-01-29T21:42:49.442Z"
   },
   {
    "duration": 5,
    "start_time": "2022-01-29T21:42:49.449Z"
   },
   {
    "duration": 7,
    "start_time": "2022-01-29T21:42:49.456Z"
   },
   {
    "duration": 6,
    "start_time": "2022-01-29T21:42:49.464Z"
   },
   {
    "duration": 42,
    "start_time": "2022-01-29T21:42:49.471Z"
   },
   {
    "duration": 9,
    "start_time": "2022-01-29T21:42:49.515Z"
   },
   {
    "duration": 4,
    "start_time": "2022-01-29T21:42:49.525Z"
   },
   {
    "duration": 5,
    "start_time": "2022-01-29T21:42:49.530Z"
   },
   {
    "duration": 8,
    "start_time": "2022-01-29T21:42:49.536Z"
   },
   {
    "duration": 6,
    "start_time": "2022-01-29T21:42:49.546Z"
   },
   {
    "duration": 4,
    "start_time": "2022-01-29T21:42:49.554Z"
   },
   {
    "duration": 1093,
    "start_time": "2022-01-29T21:44:27.456Z"
   },
   {
    "duration": 257,
    "start_time": "2022-01-29T21:44:28.551Z"
   },
   {
    "duration": 184,
    "start_time": "2022-01-29T21:44:28.810Z"
   },
   {
    "duration": 129,
    "start_time": "2022-01-29T21:44:28.996Z"
   },
   {
    "duration": 21,
    "start_time": "2022-01-29T21:44:29.126Z"
   },
   {
    "duration": 35,
    "start_time": "2022-01-29T21:44:29.149Z"
   },
   {
    "duration": 5,
    "start_time": "2022-01-29T21:44:29.186Z"
   },
   {
    "duration": 8,
    "start_time": "2022-01-29T21:44:29.194Z"
   },
   {
    "duration": 41,
    "start_time": "2022-01-29T21:44:29.212Z"
   },
   {
    "duration": 31,
    "start_time": "2022-01-29T21:44:29.254Z"
   },
   {
    "duration": 44,
    "start_time": "2022-01-29T21:44:29.286Z"
   },
   {
    "duration": 9,
    "start_time": "2022-01-29T21:44:29.332Z"
   },
   {
    "duration": 10,
    "start_time": "2022-01-29T21:44:29.343Z"
   },
   {
    "duration": 7,
    "start_time": "2022-01-29T21:44:29.355Z"
   },
   {
    "duration": 9,
    "start_time": "2022-01-29T21:44:29.363Z"
   },
   {
    "duration": 4,
    "start_time": "2022-01-29T21:44:29.413Z"
   },
   {
    "duration": 13,
    "start_time": "2022-01-29T21:44:29.419Z"
   },
   {
    "duration": 6,
    "start_time": "2022-01-29T21:44:29.434Z"
   },
   {
    "duration": 365,
    "start_time": "2022-01-29T21:44:29.441Z"
   },
   {
    "duration": 11,
    "start_time": "2022-01-29T21:44:29.807Z"
   },
   {
    "duration": 2,
    "start_time": "2022-01-29T21:44:29.820Z"
   },
   {
    "duration": 98,
    "start_time": "2022-01-29T21:44:29.824Z"
   },
   {
    "duration": 23,
    "start_time": "2022-01-29T21:44:29.925Z"
   },
   {
    "duration": 26,
    "start_time": "2022-01-29T21:44:29.950Z"
   },
   {
    "duration": 41,
    "start_time": "2022-01-29T21:44:29.978Z"
   },
   {
    "duration": 20,
    "start_time": "2022-01-29T21:44:30.021Z"
   },
   {
    "duration": 18,
    "start_time": "2022-01-29T21:44:30.043Z"
   },
   {
    "duration": 10,
    "start_time": "2022-01-29T21:44:30.062Z"
   },
   {
    "duration": 45,
    "start_time": "2022-01-29T21:44:30.074Z"
   },
   {
    "duration": 8,
    "start_time": "2022-01-29T21:44:30.121Z"
   },
   {
    "duration": 32,
    "start_time": "2022-01-29T21:44:30.130Z"
   },
   {
    "duration": 30,
    "start_time": "2022-01-29T21:44:30.164Z"
   },
   {
    "duration": 6,
    "start_time": "2022-01-29T21:44:30.195Z"
   },
   {
    "duration": 48,
    "start_time": "2022-01-29T21:44:30.202Z"
   },
   {
    "duration": 5,
    "start_time": "2022-01-29T21:44:30.252Z"
   },
   {
    "duration": 37,
    "start_time": "2022-01-29T21:44:30.259Z"
   },
   {
    "duration": 18,
    "start_time": "2022-01-29T21:44:30.298Z"
   },
   {
    "duration": 15,
    "start_time": "2022-01-29T21:44:30.318Z"
   },
   {
    "duration": 16,
    "start_time": "2022-01-29T21:44:30.335Z"
   },
   {
    "duration": 21,
    "start_time": "2022-01-29T21:44:30.353Z"
   },
   {
    "duration": 15,
    "start_time": "2022-01-29T21:44:30.375Z"
   },
   {
    "duration": 21,
    "start_time": "2022-01-29T21:44:30.392Z"
   },
   {
    "duration": 11,
    "start_time": "2022-01-29T21:44:30.415Z"
   },
   {
    "duration": 5,
    "start_time": "2022-01-29T21:44:30.428Z"
   },
   {
    "duration": 16,
    "start_time": "2022-01-29T21:44:30.435Z"
   },
   {
    "duration": 9,
    "start_time": "2022-01-29T21:44:30.453Z"
   },
   {
    "duration": 13,
    "start_time": "2022-01-29T21:44:30.464Z"
   },
   {
    "duration": 19,
    "start_time": "2022-01-29T21:44:30.478Z"
   },
   {
    "duration": 40,
    "start_time": "2022-01-29T21:44:30.498Z"
   },
   {
    "duration": 18,
    "start_time": "2022-01-29T21:44:30.540Z"
   },
   {
    "duration": 25,
    "start_time": "2022-01-29T21:44:30.560Z"
   },
   {
    "duration": 11,
    "start_time": "2022-01-29T21:44:30.586Z"
   },
   {
    "duration": 43,
    "start_time": "2022-01-29T21:44:30.599Z"
   },
   {
    "duration": 7,
    "start_time": "2022-01-29T21:44:30.644Z"
   },
   {
    "duration": 8,
    "start_time": "2022-01-29T21:44:30.652Z"
   },
   {
    "duration": 12,
    "start_time": "2022-01-29T21:44:30.662Z"
   },
   {
    "duration": 9,
    "start_time": "2022-01-29T21:44:30.675Z"
   },
   {
    "duration": 6,
    "start_time": "2022-01-29T21:44:30.685Z"
   },
   {
    "duration": 369,
    "start_time": "2022-01-29T21:44:30.693Z"
   },
   {
    "duration": 14,
    "start_time": "2022-01-29T21:44:31.064Z"
   },
   {
    "duration": 9,
    "start_time": "2022-01-29T21:44:31.080Z"
   },
   {
    "duration": 27,
    "start_time": "2022-01-29T21:44:31.091Z"
   },
   {
    "duration": 508,
    "start_time": "2022-01-29T21:44:31.120Z"
   },
   {
    "duration": 14,
    "start_time": "2022-01-29T21:44:31.630Z"
   },
   {
    "duration": 7,
    "start_time": "2022-01-29T21:44:31.646Z"
   },
   {
    "duration": 8,
    "start_time": "2022-01-29T21:44:31.654Z"
   },
   {
    "duration": 392,
    "start_time": "2022-01-29T21:44:31.664Z"
   },
   {
    "duration": 14,
    "start_time": "2022-01-29T21:44:32.060Z"
   },
   {
    "duration": 6,
    "start_time": "2022-01-29T21:44:32.076Z"
   },
   {
    "duration": 29,
    "start_time": "2022-01-29T21:44:32.084Z"
   },
   {
    "duration": 8,
    "start_time": "2022-01-29T21:44:32.114Z"
   },
   {
    "duration": 11,
    "start_time": "2022-01-29T21:44:32.123Z"
   },
   {
    "duration": 2,
    "start_time": "2022-01-29T21:44:32.136Z"
   },
   {
    "duration": 10,
    "start_time": "2022-01-29T21:44:32.139Z"
   },
   {
    "duration": 6,
    "start_time": "2022-01-29T21:44:32.150Z"
   },
   {
    "duration": 5,
    "start_time": "2022-01-29T21:44:32.158Z"
   },
   {
    "duration": 8,
    "start_time": "2022-01-29T21:44:32.164Z"
   },
   {
    "duration": 40,
    "start_time": "2022-01-29T21:44:32.173Z"
   },
   {
    "duration": 5,
    "start_time": "2022-01-29T21:44:32.215Z"
   },
   {
    "duration": 6,
    "start_time": "2022-01-29T21:44:32.222Z"
   },
   {
    "duration": 4,
    "start_time": "2022-01-29T21:44:32.230Z"
   },
   {
    "duration": 5,
    "start_time": "2022-01-29T21:44:32.236Z"
   },
   {
    "duration": 4,
    "start_time": "2022-01-29T21:44:32.243Z"
   },
   {
    "duration": 9,
    "start_time": "2022-01-29T21:44:32.248Z"
   },
   {
    "duration": 4,
    "start_time": "2022-01-29T21:44:32.258Z"
   },
   {
    "duration": 4,
    "start_time": "2022-01-29T21:44:32.264Z"
   },
   {
    "duration": 45,
    "start_time": "2022-01-29T21:44:32.269Z"
   },
   {
    "duration": 9,
    "start_time": "2022-01-29T21:44:32.315Z"
   },
   {
    "duration": 9,
    "start_time": "2022-01-29T21:44:32.325Z"
   },
   {
    "duration": 1282,
    "start_time": "2022-02-07T17:24:43.738Z"
   },
   {
    "duration": 319,
    "start_time": "2022-02-07T17:24:45.023Z"
   },
   {
    "duration": 226,
    "start_time": "2022-02-07T17:24:45.345Z"
   },
   {
    "duration": 159,
    "start_time": "2022-02-07T17:24:45.573Z"
   },
   {
    "duration": 29,
    "start_time": "2022-02-07T17:24:45.734Z"
   },
   {
    "duration": 45,
    "start_time": "2022-02-07T17:24:45.765Z"
   },
   {
    "duration": 6,
    "start_time": "2022-02-07T17:24:45.812Z"
   },
   {
    "duration": 7,
    "start_time": "2022-02-07T17:24:45.821Z"
   },
   {
    "duration": 46,
    "start_time": "2022-02-07T17:24:45.830Z"
   },
   {
    "duration": 53,
    "start_time": "2022-02-07T17:24:45.878Z"
   },
   {
    "duration": 32,
    "start_time": "2022-02-07T17:24:45.934Z"
   },
   {
    "duration": 10,
    "start_time": "2022-02-07T17:24:45.968Z"
   },
   {
    "duration": 41,
    "start_time": "2022-02-07T17:24:45.979Z"
   },
   {
    "duration": 10,
    "start_time": "2022-02-07T17:24:46.021Z"
   },
   {
    "duration": 16,
    "start_time": "2022-02-07T17:24:46.032Z"
   },
   {
    "duration": 8,
    "start_time": "2022-02-07T17:24:46.050Z"
   },
   {
    "duration": 21,
    "start_time": "2022-02-07T17:24:46.060Z"
   },
   {
    "duration": 36,
    "start_time": "2022-02-07T17:24:46.083Z"
   },
   {
    "duration": 588,
    "start_time": "2022-02-07T17:24:46.122Z"
   },
   {
    "duration": 19,
    "start_time": "2022-02-07T17:24:46.717Z"
   },
   {
    "duration": 3,
    "start_time": "2022-02-07T17:24:46.737Z"
   },
   {
    "duration": 117,
    "start_time": "2022-02-07T17:24:46.743Z"
   },
   {
    "duration": 27,
    "start_time": "2022-02-07T17:24:46.865Z"
   },
   {
    "duration": 42,
    "start_time": "2022-02-07T17:24:46.895Z"
   },
   {
    "duration": 19,
    "start_time": "2022-02-07T17:24:46.939Z"
   },
   {
    "duration": 23,
    "start_time": "2022-02-07T17:24:46.960Z"
   },
   {
    "duration": 46,
    "start_time": "2022-02-07T17:24:46.984Z"
   },
   {
    "duration": 11,
    "start_time": "2022-02-07T17:24:47.032Z"
   },
   {
    "duration": 21,
    "start_time": "2022-02-07T17:24:47.045Z"
   },
   {
    "duration": 10,
    "start_time": "2022-02-07T17:24:47.068Z"
   },
   {
    "duration": 55,
    "start_time": "2022-02-07T17:24:47.080Z"
   },
   {
    "duration": 28,
    "start_time": "2022-02-07T17:24:47.137Z"
   },
   {
    "duration": 7,
    "start_time": "2022-02-07T17:24:47.166Z"
   },
   {
    "duration": 62,
    "start_time": "2022-02-07T17:24:47.175Z"
   },
   {
    "duration": 6,
    "start_time": "2022-02-07T17:24:47.239Z"
   },
   {
    "duration": 40,
    "start_time": "2022-02-07T17:24:47.247Z"
   },
   {
    "duration": 7,
    "start_time": "2022-02-07T17:24:47.288Z"
   },
   {
    "duration": 27,
    "start_time": "2022-02-07T17:24:47.296Z"
   },
   {
    "duration": 8,
    "start_time": "2022-02-07T17:24:47.325Z"
   },
   {
    "duration": 16,
    "start_time": "2022-02-07T17:24:47.335Z"
   },
   {
    "duration": 11,
    "start_time": "2022-02-07T17:24:47.353Z"
   },
   {
    "duration": 16,
    "start_time": "2022-02-07T17:24:47.366Z"
   },
   {
    "duration": 44,
    "start_time": "2022-02-07T17:24:47.384Z"
   },
   {
    "duration": 5,
    "start_time": "2022-02-07T17:24:47.430Z"
   },
   {
    "duration": 14,
    "start_time": "2022-02-07T17:24:47.437Z"
   },
   {
    "duration": 14,
    "start_time": "2022-02-07T17:24:47.453Z"
   },
   {
    "duration": 17,
    "start_time": "2022-02-07T17:24:47.469Z"
   },
   {
    "duration": 37,
    "start_time": "2022-02-07T17:24:47.488Z"
   },
   {
    "duration": 13,
    "start_time": "2022-02-07T17:24:47.527Z"
   },
   {
    "duration": 16,
    "start_time": "2022-02-07T17:24:47.542Z"
   },
   {
    "duration": 7,
    "start_time": "2022-02-07T17:24:47.560Z"
   },
   {
    "duration": 9,
    "start_time": "2022-02-07T17:24:47.568Z"
   },
   {
    "duration": 57,
    "start_time": "2022-02-07T17:24:47.579Z"
   },
   {
    "duration": 7,
    "start_time": "2022-02-07T17:24:47.638Z"
   },
   {
    "duration": 6,
    "start_time": "2022-02-07T17:24:47.647Z"
   },
   {
    "duration": 17,
    "start_time": "2022-02-07T17:24:47.655Z"
   },
   {
    "duration": 10,
    "start_time": "2022-02-07T17:24:47.674Z"
   },
   {
    "duration": 4,
    "start_time": "2022-02-07T17:24:47.686Z"
   },
   {
    "duration": 418,
    "start_time": "2022-02-07T17:24:47.692Z"
   },
   {
    "duration": 20,
    "start_time": "2022-02-07T17:24:48.112Z"
   },
   {
    "duration": 8,
    "start_time": "2022-02-07T17:24:48.133Z"
   },
   {
    "duration": 10,
    "start_time": "2022-02-07T17:24:48.143Z"
   },
   {
    "duration": 537,
    "start_time": "2022-02-07T17:24:48.155Z"
   },
   {
    "duration": 32,
    "start_time": "2022-02-07T17:24:48.694Z"
   },
   {
    "duration": 8,
    "start_time": "2022-02-07T17:24:48.728Z"
   },
   {
    "duration": 13,
    "start_time": "2022-02-07T17:24:48.738Z"
   },
   {
    "duration": 394,
    "start_time": "2022-02-07T17:24:48.753Z"
   },
   {
    "duration": 14,
    "start_time": "2022-02-07T17:24:49.153Z"
   },
   {
    "duration": 13,
    "start_time": "2022-02-07T17:24:49.169Z"
   },
   {
    "duration": 12,
    "start_time": "2022-02-07T17:24:49.184Z"
   },
   {
    "duration": 27,
    "start_time": "2022-02-07T17:24:49.198Z"
   },
   {
    "duration": 11,
    "start_time": "2022-02-07T17:24:49.227Z"
   },
   {
    "duration": 6,
    "start_time": "2022-02-07T17:24:49.240Z"
   },
   {
    "duration": 12,
    "start_time": "2022-02-07T17:24:49.248Z"
   },
   {
    "duration": 5,
    "start_time": "2022-02-07T17:24:49.262Z"
   },
   {
    "duration": 6,
    "start_time": "2022-02-07T17:24:49.269Z"
   },
   {
    "duration": 8,
    "start_time": "2022-02-07T17:24:49.276Z"
   },
   {
    "duration": 38,
    "start_time": "2022-02-07T17:24:49.286Z"
   },
   {
    "duration": 8,
    "start_time": "2022-02-07T17:24:49.326Z"
   },
   {
    "duration": 11,
    "start_time": "2022-02-07T17:24:49.335Z"
   },
   {
    "duration": 7,
    "start_time": "2022-02-07T17:24:49.348Z"
   },
   {
    "duration": 6,
    "start_time": "2022-02-07T17:24:49.357Z"
   },
   {
    "duration": 6,
    "start_time": "2022-02-07T17:24:49.365Z"
   },
   {
    "duration": 12,
    "start_time": "2022-02-07T17:24:49.373Z"
   },
   {
    "duration": 6,
    "start_time": "2022-02-07T17:24:49.419Z"
   },
   {
    "duration": 7,
    "start_time": "2022-02-07T17:24:49.427Z"
   },
   {
    "duration": 23,
    "start_time": "2022-02-07T17:24:49.436Z"
   },
   {
    "duration": 24,
    "start_time": "2022-02-07T17:24:49.461Z"
   },
   {
    "duration": 9,
    "start_time": "2022-02-07T17:24:49.487Z"
   },
   {
    "duration": 23,
    "start_time": "2022-02-07T17:28:24.867Z"
   },
   {
    "duration": 9,
    "start_time": "2022-02-07T17:31:05.538Z"
   },
   {
    "duration": 22,
    "start_time": "2022-02-07T17:31:36.508Z"
   },
   {
    "duration": 20,
    "start_time": "2022-02-07T17:32:52.398Z"
   },
   {
    "duration": 20,
    "start_time": "2022-02-07T17:34:23.018Z"
   },
   {
    "duration": 414,
    "start_time": "2022-02-07T17:34:46.798Z"
   },
   {
    "duration": 5,
    "start_time": "2022-02-07T17:34:53.068Z"
   },
   {
    "duration": 4,
    "start_time": "2022-02-07T17:37:34.508Z"
   },
   {
    "duration": 22,
    "start_time": "2022-02-07T17:38:02.079Z"
   },
   {
    "duration": 6,
    "start_time": "2022-02-07T17:47:20.507Z"
   },
   {
    "duration": 371,
    "start_time": "2022-02-07T18:22:51.234Z"
   },
   {
    "duration": 1586,
    "start_time": "2022-02-07T18:22:55.273Z"
   },
   {
    "duration": 344,
    "start_time": "2022-02-07T18:22:56.862Z"
   },
   {
    "duration": 271,
    "start_time": "2022-02-07T18:22:57.209Z"
   },
   {
    "duration": 186,
    "start_time": "2022-02-07T18:22:57.483Z"
   },
   {
    "duration": 32,
    "start_time": "2022-02-07T18:22:57.671Z"
   },
   {
    "duration": 50,
    "start_time": "2022-02-07T18:22:57.706Z"
   },
   {
    "duration": 8,
    "start_time": "2022-02-07T18:22:57.759Z"
   },
   {
    "duration": 12,
    "start_time": "2022-02-07T18:22:57.770Z"
   },
   {
    "duration": 91,
    "start_time": "2022-02-07T18:22:57.784Z"
   },
   {
    "duration": 52,
    "start_time": "2022-02-07T18:22:57.877Z"
   },
   {
    "duration": 64,
    "start_time": "2022-02-07T18:22:57.932Z"
   },
   {
    "duration": 13,
    "start_time": "2022-02-07T18:22:57.999Z"
   },
   {
    "duration": 44,
    "start_time": "2022-02-07T18:22:58.015Z"
   },
   {
    "duration": 9,
    "start_time": "2022-02-07T18:22:58.061Z"
   },
   {
    "duration": 13,
    "start_time": "2022-02-07T18:22:58.072Z"
   },
   {
    "duration": 6,
    "start_time": "2022-02-07T18:22:58.087Z"
   },
   {
    "duration": 24,
    "start_time": "2022-02-07T18:22:58.095Z"
   },
   {
    "duration": 54,
    "start_time": "2022-02-07T18:22:58.121Z"
   },
   {
    "duration": 502,
    "start_time": "2022-02-07T18:22:58.177Z"
   },
   {
    "duration": 17,
    "start_time": "2022-02-07T18:22:58.681Z"
   },
   {
    "duration": 34,
    "start_time": "2022-02-07T18:23:00.432Z"
   },
   {
    "duration": 38,
    "start_time": "2022-02-07T18:23:19.047Z"
   },
   {
    "duration": 63,
    "start_time": "2022-02-07T18:23:44.094Z"
   },
   {
    "duration": 107,
    "start_time": "2022-02-07T18:24:07.869Z"
   },
   {
    "duration": 38,
    "start_time": "2022-02-07T18:24:45.195Z"
   },
   {
    "duration": 34,
    "start_time": "2022-02-07T18:24:54.905Z"
   },
   {
    "duration": 464,
    "start_time": "2022-02-07T18:25:24.816Z"
   },
   {
    "duration": 361,
    "start_time": "2022-02-07T18:25:43.503Z"
   },
   {
    "duration": 494,
    "start_time": "2022-02-07T18:25:47.589Z"
   },
   {
    "duration": 38,
    "start_time": "2022-02-07T18:25:55.651Z"
   },
   {
    "duration": 398,
    "start_time": "2022-02-07T18:34:29.944Z"
   },
   {
    "duration": 92,
    "start_time": "2022-02-07T18:35:59.084Z"
   },
   {
    "duration": 88,
    "start_time": "2022-02-07T18:36:06.883Z"
   },
   {
    "duration": 94,
    "start_time": "2022-02-07T18:36:22.115Z"
   },
   {
    "duration": 106,
    "start_time": "2022-02-07T18:36:38.874Z"
   },
   {
    "duration": 253,
    "start_time": "2022-02-07T18:38:27.539Z"
   },
   {
    "duration": 318,
    "start_time": "2022-02-07T18:39:05.530Z"
   },
   {
    "duration": 107,
    "start_time": "2022-02-07T18:39:12.768Z"
   },
   {
    "duration": 105,
    "start_time": "2022-02-07T18:39:32.415Z"
   },
   {
    "duration": 101,
    "start_time": "2022-02-07T18:39:47.209Z"
   },
   {
    "duration": 93,
    "start_time": "2022-02-07T18:39:56.870Z"
   },
   {
    "duration": 59,
    "start_time": "2022-02-07T18:40:38.051Z"
   },
   {
    "duration": 66,
    "start_time": "2022-02-07T18:40:38.607Z"
   },
   {
    "duration": 71,
    "start_time": "2022-02-07T18:41:21.073Z"
   },
   {
    "duration": 111,
    "start_time": "2022-02-07T18:42:26.583Z"
   },
   {
    "duration": 100,
    "start_time": "2022-02-07T18:42:37.679Z"
   },
   {
    "duration": 67,
    "start_time": "2022-02-07T18:42:44.680Z"
   },
   {
    "duration": 65,
    "start_time": "2022-02-07T18:42:57.044Z"
   },
   {
    "duration": 1432,
    "start_time": "2022-02-07T18:43:04.447Z"
   },
   {
    "duration": 344,
    "start_time": "2022-02-07T18:43:05.882Z"
   },
   {
    "duration": 280,
    "start_time": "2022-02-07T18:43:06.230Z"
   },
   {
    "duration": 188,
    "start_time": "2022-02-07T18:43:06.512Z"
   },
   {
    "duration": 31,
    "start_time": "2022-02-07T18:43:06.703Z"
   },
   {
    "duration": 49,
    "start_time": "2022-02-07T18:43:06.736Z"
   },
   {
    "duration": 7,
    "start_time": "2022-02-07T18:43:06.788Z"
   },
   {
    "duration": 11,
    "start_time": "2022-02-07T18:43:06.799Z"
   },
   {
    "duration": 93,
    "start_time": "2022-02-07T18:43:06.813Z"
   },
   {
    "duration": 60,
    "start_time": "2022-02-07T18:43:06.908Z"
   },
   {
    "duration": 39,
    "start_time": "2022-02-07T18:43:06.970Z"
   },
   {
    "duration": 14,
    "start_time": "2022-02-07T18:43:07.011Z"
   },
   {
    "duration": 46,
    "start_time": "2022-02-07T18:43:07.027Z"
   },
   {
    "duration": 9,
    "start_time": "2022-02-07T18:43:07.075Z"
   },
   {
    "duration": 12,
    "start_time": "2022-02-07T18:43:07.086Z"
   },
   {
    "duration": 6,
    "start_time": "2022-02-07T18:43:07.100Z"
   },
   {
    "duration": 64,
    "start_time": "2022-02-07T18:43:07.108Z"
   },
   {
    "duration": 11,
    "start_time": "2022-02-07T18:43:07.174Z"
   },
   {
    "duration": 523,
    "start_time": "2022-02-07T18:43:07.188Z"
   },
   {
    "duration": 19,
    "start_time": "2022-02-07T18:43:07.714Z"
   },
   {
    "duration": 87,
    "start_time": "2022-02-07T18:43:07.737Z"
   },
   {
    "duration": 4,
    "start_time": "2022-02-07T18:43:07.826Z"
   },
   {
    "duration": 139,
    "start_time": "2022-02-07T18:43:07.862Z"
   },
   {
    "duration": 35,
    "start_time": "2022-02-07T18:43:08.005Z"
   },
   {
    "duration": 51,
    "start_time": "2022-02-07T18:43:08.042Z"
   },
   {
    "duration": 24,
    "start_time": "2022-02-07T18:43:08.095Z"
   },
   {
    "duration": 62,
    "start_time": "2022-02-07T18:43:08.121Z"
   },
   {
    "duration": 28,
    "start_time": "2022-02-07T18:43:08.185Z"
   },
   {
    "duration": 15,
    "start_time": "2022-02-07T18:43:08.216Z"
   },
   {
    "duration": 55,
    "start_time": "2022-02-07T18:43:08.233Z"
   },
   {
    "duration": 14,
    "start_time": "2022-02-07T18:43:08.291Z"
   },
   {
    "duration": 69,
    "start_time": "2022-02-07T18:43:08.308Z"
   },
   {
    "duration": 39,
    "start_time": "2022-02-07T18:43:08.379Z"
   },
   {
    "duration": 8,
    "start_time": "2022-02-07T18:43:08.421Z"
   },
   {
    "duration": 73,
    "start_time": "2022-02-07T18:43:08.431Z"
   },
   {
    "duration": 8,
    "start_time": "2022-02-07T18:43:08.506Z"
   },
   {
    "duration": 88,
    "start_time": "2022-02-07T18:43:08.517Z"
   },
   {
    "duration": 10,
    "start_time": "2022-02-07T18:43:08.608Z"
   },
   {
    "duration": 43,
    "start_time": "2022-02-07T18:43:08.621Z"
   },
   {
    "duration": 12,
    "start_time": "2022-02-07T18:43:08.667Z"
   },
   {
    "duration": 14,
    "start_time": "2022-02-07T18:43:08.682Z"
   },
   {
    "duration": 13,
    "start_time": "2022-02-07T18:43:08.699Z"
   },
   {
    "duration": 64,
    "start_time": "2022-02-07T18:43:08.714Z"
   },
   {
    "duration": 15,
    "start_time": "2022-02-07T18:43:08.780Z"
   },
   {
    "duration": 6,
    "start_time": "2022-02-07T18:43:08.797Z"
   },
   {
    "duration": 13,
    "start_time": "2022-02-07T18:43:08.805Z"
   },
   {
    "duration": 44,
    "start_time": "2022-02-07T18:43:08.821Z"
   },
   {
    "duration": 18,
    "start_time": "2022-02-07T18:43:08.867Z"
   },
   {
    "duration": 16,
    "start_time": "2022-02-07T18:43:08.888Z"
   },
   {
    "duration": 54,
    "start_time": "2022-02-07T18:43:08.906Z"
   },
   {
    "duration": 22,
    "start_time": "2022-02-07T18:43:08.963Z"
   },
   {
    "duration": 5,
    "start_time": "2022-02-07T18:43:08.988Z"
   },
   {
    "duration": 7,
    "start_time": "2022-02-07T18:43:08.995Z"
   },
   {
    "duration": 86,
    "start_time": "2022-02-07T18:43:09.005Z"
   },
   {
    "duration": 10,
    "start_time": "2022-02-07T18:43:09.093Z"
   },
   {
    "duration": 4,
    "start_time": "2022-02-07T18:43:09.105Z"
   },
   {
    "duration": 14,
    "start_time": "2022-02-07T18:43:09.111Z"
   },
   {
    "duration": 36,
    "start_time": "2022-02-07T18:43:09.128Z"
   },
   {
    "duration": 4,
    "start_time": "2022-02-07T18:43:09.167Z"
   },
   {
    "duration": 607,
    "start_time": "2022-02-07T18:43:09.176Z"
   },
   {
    "duration": 19,
    "start_time": "2022-02-07T18:43:09.786Z"
   },
   {
    "duration": 10,
    "start_time": "2022-02-07T18:43:09.808Z"
   },
   {
    "duration": 44,
    "start_time": "2022-02-07T18:43:09.820Z"
   },
   {
    "duration": 792,
    "start_time": "2022-02-07T18:43:09.867Z"
   },
   {
    "duration": 22,
    "start_time": "2022-02-07T18:43:10.661Z"
   },
   {
    "duration": 11,
    "start_time": "2022-02-07T18:43:10.686Z"
   },
   {
    "duration": 12,
    "start_time": "2022-02-07T18:43:10.699Z"
   },
   {
    "duration": 819,
    "start_time": "2022-02-07T18:43:10.720Z"
   },
   {
    "duration": 33,
    "start_time": "2022-02-07T18:43:11.543Z"
   },
   {
    "duration": 12,
    "start_time": "2022-02-07T18:43:11.579Z"
   },
   {
    "duration": 26,
    "start_time": "2022-02-07T18:43:11.594Z"
   },
   {
    "duration": 49,
    "start_time": "2022-02-07T18:43:11.622Z"
   },
   {
    "duration": 22,
    "start_time": "2022-02-07T18:43:11.677Z"
   },
   {
    "duration": 6,
    "start_time": "2022-02-07T18:43:11.702Z"
   },
   {
    "duration": 15,
    "start_time": "2022-02-07T18:43:11.711Z"
   },
   {
    "duration": 9,
    "start_time": "2022-02-07T18:43:11.729Z"
   },
   {
    "duration": 31,
    "start_time": "2022-02-07T18:43:11.741Z"
   },
   {
    "duration": 14,
    "start_time": "2022-02-07T18:43:11.776Z"
   },
   {
    "duration": 15,
    "start_time": "2022-02-07T18:43:11.793Z"
   },
   {
    "duration": 12,
    "start_time": "2022-02-07T18:43:11.810Z"
   },
   {
    "duration": 46,
    "start_time": "2022-02-07T18:43:11.825Z"
   },
   {
    "duration": 11,
    "start_time": "2022-02-07T18:43:11.875Z"
   },
   {
    "duration": 11,
    "start_time": "2022-02-07T18:43:11.888Z"
   },
   {
    "duration": 7,
    "start_time": "2022-02-07T18:43:11.901Z"
   },
   {
    "duration": 14,
    "start_time": "2022-02-07T18:43:11.910Z"
   },
   {
    "duration": 10,
    "start_time": "2022-02-07T18:43:11.959Z"
   },
   {
    "duration": 16,
    "start_time": "2022-02-07T18:43:11.972Z"
   },
   {
    "duration": 20,
    "start_time": "2022-02-07T18:43:11.990Z"
   },
   {
    "duration": 16,
    "start_time": "2022-02-07T18:43:12.013Z"
   },
   {
    "duration": 34,
    "start_time": "2022-02-07T18:43:12.032Z"
   },
   {
    "duration": 1554,
    "start_time": "2022-02-07T18:43:45.629Z"
   },
   {
    "duration": 346,
    "start_time": "2022-02-07T18:43:47.185Z"
   },
   {
    "duration": 287,
    "start_time": "2022-02-07T18:43:47.534Z"
   },
   {
    "duration": 182,
    "start_time": "2022-02-07T18:43:47.824Z"
   },
   {
    "duration": 32,
    "start_time": "2022-02-07T18:43:48.008Z"
   },
   {
    "duration": 51,
    "start_time": "2022-02-07T18:43:48.043Z"
   },
   {
    "duration": 8,
    "start_time": "2022-02-07T18:43:48.096Z"
   },
   {
    "duration": 11,
    "start_time": "2022-02-07T18:43:48.108Z"
   },
   {
    "duration": 87,
    "start_time": "2022-02-07T18:43:48.121Z"
   },
   {
    "duration": 59,
    "start_time": "2022-02-07T18:43:48.210Z"
   },
   {
    "duration": 36,
    "start_time": "2022-02-07T18:43:48.272Z"
   },
   {
    "duration": 14,
    "start_time": "2022-02-07T18:43:48.310Z"
   },
   {
    "duration": 45,
    "start_time": "2022-02-07T18:43:48.326Z"
   },
   {
    "duration": 10,
    "start_time": "2022-02-07T18:43:48.373Z"
   },
   {
    "duration": 12,
    "start_time": "2022-02-07T18:43:48.385Z"
   },
   {
    "duration": 6,
    "start_time": "2022-02-07T18:43:48.400Z"
   },
   {
    "duration": 66,
    "start_time": "2022-02-07T18:43:48.408Z"
   },
   {
    "duration": 10,
    "start_time": "2022-02-07T18:43:48.476Z"
   },
   {
    "duration": 524,
    "start_time": "2022-02-07T18:43:48.488Z"
   },
   {
    "duration": 17,
    "start_time": "2022-02-07T18:43:49.014Z"
   },
   {
    "duration": 93,
    "start_time": "2022-02-07T18:43:49.034Z"
   },
   {
    "duration": 63,
    "start_time": "2022-02-07T18:44:03.952Z"
   },
   {
    "duration": 126,
    "start_time": "2022-02-07T18:44:26.200Z"
   },
   {
    "duration": 71,
    "start_time": "2022-02-07T18:44:32.078Z"
   },
   {
    "duration": 73,
    "start_time": "2022-02-07T18:44:35.453Z"
   },
   {
    "duration": 75,
    "start_time": "2022-02-07T18:44:39.758Z"
   },
   {
    "duration": 92,
    "start_time": "2022-02-07T18:45:37.643Z"
   },
   {
    "duration": 117,
    "start_time": "2022-02-07T18:45:44.683Z"
   },
   {
    "duration": 2868,
    "start_time": "2022-02-07T18:46:13.368Z"
   },
   {
    "duration": 2269,
    "start_time": "2022-02-07T18:46:25.489Z"
   },
   {
    "duration": 118,
    "start_time": "2022-02-07T18:46:35.704Z"
   },
   {
    "duration": 122,
    "start_time": "2022-02-07T18:46:51.743Z"
   },
   {
    "duration": 131,
    "start_time": "2022-02-07T18:47:20.165Z"
   },
   {
    "duration": 125,
    "start_time": "2022-02-07T18:47:31.644Z"
   },
   {
    "duration": 406,
    "start_time": "2022-02-07T18:47:43.787Z"
   },
   {
    "duration": 533,
    "start_time": "2022-02-07T18:47:58.083Z"
   },
   {
    "duration": 74,
    "start_time": "2022-02-07T18:48:15.491Z"
   },
   {
    "duration": 70,
    "start_time": "2022-02-07T18:48:29.001Z"
   },
   {
    "duration": 111,
    "start_time": "2022-02-07T18:48:50.752Z"
   },
   {
    "duration": 461,
    "start_time": "2022-02-07T18:48:56.568Z"
   },
   {
    "duration": 579,
    "start_time": "2022-02-07T18:49:22.192Z"
   },
   {
    "duration": 1553,
    "start_time": "2022-02-07T18:49:28.093Z"
   },
   {
    "duration": 763,
    "start_time": "2022-02-07T18:49:43.396Z"
   },
   {
    "duration": 509,
    "start_time": "2022-02-07T18:49:49.852Z"
   },
   {
    "duration": 525,
    "start_time": "2022-02-07T18:50:11.268Z"
   },
   {
    "duration": 420,
    "start_time": "2022-02-07T19:01:20.141Z"
   },
   {
    "duration": 545,
    "start_time": "2022-02-07T19:04:10.774Z"
   },
   {
    "duration": 432,
    "start_time": "2022-02-07T19:09:38.097Z"
   },
   {
    "duration": 438,
    "start_time": "2022-02-07T19:09:59.792Z"
   },
   {
    "duration": 500,
    "start_time": "2022-02-07T19:10:07.743Z"
   },
   {
    "duration": 421,
    "start_time": "2022-02-07T19:10:14.015Z"
   },
   {
    "duration": 464,
    "start_time": "2022-02-07T19:10:20.622Z"
   },
   {
    "duration": 470,
    "start_time": "2022-02-07T19:12:00.729Z"
   },
   {
    "duration": 456,
    "start_time": "2022-02-07T19:12:18.263Z"
   },
   {
    "duration": 442,
    "start_time": "2022-02-07T19:13:46.835Z"
   },
   {
    "duration": 6,
    "start_time": "2022-02-07T19:16:21.305Z"
   },
   {
    "duration": 6,
    "start_time": "2022-02-07T19:16:32.497Z"
   },
   {
    "duration": 6,
    "start_time": "2022-02-07T19:16:39.232Z"
   },
   {
    "duration": 1219,
    "start_time": "2022-02-07T19:19:26.399Z"
   },
   {
    "duration": 1284,
    "start_time": "2022-02-07T19:19:56.071Z"
   },
   {
    "duration": 673,
    "start_time": "2022-02-07T19:20:10.445Z"
   },
   {
    "duration": 852,
    "start_time": "2022-02-07T19:20:22.324Z"
   },
   {
    "duration": 889,
    "start_time": "2022-02-07T19:21:19.704Z"
   },
   {
    "duration": 830,
    "start_time": "2022-02-07T19:21:23.400Z"
   },
   {
    "duration": 981,
    "start_time": "2022-02-07T19:21:26.898Z"
   },
   {
    "duration": 849,
    "start_time": "2022-02-07T19:21:30.775Z"
   },
   {
    "duration": 866,
    "start_time": "2022-02-07T19:21:34.199Z"
   },
   {
    "duration": 828,
    "start_time": "2022-02-07T19:21:37.834Z"
   },
   {
    "duration": 329,
    "start_time": "2022-02-07T19:26:00.466Z"
   },
   {
    "duration": 378,
    "start_time": "2022-02-07T19:28:01.211Z"
   },
   {
    "duration": 4,
    "start_time": "2022-02-07T19:28:05.858Z"
   },
   {
    "duration": 133,
    "start_time": "2022-02-07T19:28:07.512Z"
   },
   {
    "duration": 125,
    "start_time": "2022-02-07T19:29:28.342Z"
   },
   {
    "duration": 223,
    "start_time": "2022-02-07T19:30:07.940Z"
   },
   {
    "duration": 229,
    "start_time": "2022-02-07T19:30:18.954Z"
   },
   {
    "duration": 34,
    "start_time": "2022-02-07T19:31:47.239Z"
   },
   {
    "duration": 35,
    "start_time": "2022-02-07T19:31:49.804Z"
   },
   {
    "duration": 47,
    "start_time": "2022-02-07T19:32:19.100Z"
   },
   {
    "duration": 10,
    "start_time": "2022-02-07T19:37:32.531Z"
   },
   {
    "duration": 123,
    "start_time": "2022-02-07T19:38:16.776Z"
   },
   {
    "duration": 4772,
    "start_time": "2022-02-07T19:39:44.147Z"
   },
   {
    "duration": 8,
    "start_time": "2022-02-07T19:40:02.691Z"
   },
   {
    "duration": 12,
    "start_time": "2022-02-07T19:40:06.209Z"
   },
   {
    "duration": 9,
    "start_time": "2022-02-07T19:41:36.644Z"
   },
   {
    "duration": 313,
    "start_time": "2022-02-07T19:42:21.265Z"
   },
   {
    "duration": 12,
    "start_time": "2022-02-07T19:42:32.785Z"
   },
   {
    "duration": 984,
    "start_time": "2022-02-07T19:42:46.696Z"
   },
   {
    "duration": 12,
    "start_time": "2022-02-07T19:43:50.565Z"
   },
   {
    "duration": 697,
    "start_time": "2022-02-07T19:43:57.805Z"
   },
   {
    "duration": 327,
    "start_time": "2022-02-07T19:44:31.826Z"
   },
   {
    "duration": 12,
    "start_time": "2022-02-07T19:44:37.738Z"
   },
   {
    "duration": 12,
    "start_time": "2022-02-07T19:44:52.560Z"
   },
   {
    "duration": 317,
    "start_time": "2022-02-07T19:45:07.601Z"
   },
   {
    "duration": 12,
    "start_time": "2022-02-07T19:45:15.655Z"
   },
   {
    "duration": 14,
    "start_time": "2022-02-07T19:45:20.910Z"
   },
   {
    "duration": 16,
    "start_time": "2022-02-07T19:45:36.741Z"
   },
   {
    "duration": 18,
    "start_time": "2022-02-07T19:45:45.661Z"
   },
   {
    "duration": 21,
    "start_time": "2022-02-07T19:50:31.497Z"
   },
   {
    "duration": 398,
    "start_time": "2022-02-07T19:50:55.924Z"
   },
   {
    "duration": 373,
    "start_time": "2022-02-07T19:51:34.699Z"
   },
   {
    "duration": 387,
    "start_time": "2022-02-07T19:52:02.768Z"
   },
   {
    "duration": 23,
    "start_time": "2022-02-07T19:52:11.831Z"
   },
   {
    "duration": 411,
    "start_time": "2022-02-07T19:52:25.870Z"
   },
   {
    "duration": 33,
    "start_time": "2022-02-07T19:52:33.055Z"
   },
   {
    "duration": 26,
    "start_time": "2022-02-07T19:52:43.756Z"
   },
   {
    "duration": 825,
    "start_time": "2022-02-07T19:55:46.476Z"
   },
   {
    "duration": 1038,
    "start_time": "2022-02-07T19:56:09.009Z"
   },
   {
    "duration": 998,
    "start_time": "2022-02-07T19:56:29.176Z"
   },
   {
    "duration": 834,
    "start_time": "2022-02-07T19:56:44.607Z"
   },
   {
    "duration": 832,
    "start_time": "2022-02-07T19:56:51.311Z"
   },
   {
    "duration": 863,
    "start_time": "2022-02-07T19:57:26.900Z"
   },
   {
    "duration": 836,
    "start_time": "2022-02-07T19:58:04.827Z"
   },
   {
    "duration": 1318,
    "start_time": "2022-02-07T19:58:56.384Z"
   },
   {
    "duration": 867,
    "start_time": "2022-02-07T19:59:35.182Z"
   },
   {
    "duration": 92,
    "start_time": "2022-02-07T19:59:45.045Z"
   },
   {
    "duration": 94,
    "start_time": "2022-02-07T20:00:00.581Z"
   },
   {
    "duration": 85,
    "start_time": "2022-02-07T20:00:26.315Z"
   },
   {
    "duration": 84,
    "start_time": "2022-02-07T20:00:32.129Z"
   },
   {
    "duration": 84,
    "start_time": "2022-02-07T20:00:35.707Z"
   },
   {
    "duration": 84,
    "start_time": "2022-02-07T20:00:38.594Z"
   },
   {
    "duration": 81,
    "start_time": "2022-02-07T20:01:13.893Z"
   },
   {
    "duration": 74,
    "start_time": "2022-02-07T20:01:16.704Z"
   },
   {
    "duration": 84,
    "start_time": "2022-02-07T20:01:24.096Z"
   },
   {
    "duration": 74,
    "start_time": "2022-02-07T20:01:42.384Z"
   },
   {
    "duration": 74,
    "start_time": "2022-02-07T20:01:49.863Z"
   },
   {
    "duration": 85,
    "start_time": "2022-02-07T20:01:59.862Z"
   },
   {
    "duration": 85,
    "start_time": "2022-02-07T20:02:11.909Z"
   },
   {
    "duration": 89,
    "start_time": "2022-02-07T20:02:28.156Z"
   },
   {
    "duration": 88,
    "start_time": "2022-02-07T20:02:57.539Z"
   },
   {
    "duration": 79,
    "start_time": "2022-02-07T20:03:04.130Z"
   },
   {
    "duration": 17,
    "start_time": "2022-02-07T20:03:33.952Z"
   },
   {
    "duration": 19,
    "start_time": "2022-02-07T20:03:44.176Z"
   },
   {
    "duration": 17,
    "start_time": "2022-02-07T20:03:53.056Z"
   },
   {
    "duration": 16,
    "start_time": "2022-02-07T20:03:58.535Z"
   },
   {
    "duration": 15,
    "start_time": "2022-02-07T20:04:10.470Z"
   },
   {
    "duration": 20,
    "start_time": "2022-02-07T20:04:15.527Z"
   },
   {
    "duration": 21,
    "start_time": "2022-02-07T20:04:26.733Z"
   },
   {
    "duration": 15,
    "start_time": "2022-02-07T20:04:48.645Z"
   },
   {
    "duration": 17,
    "start_time": "2022-02-07T20:05:02.243Z"
   },
   {
    "duration": 17,
    "start_time": "2022-02-07T20:05:13.171Z"
   },
   {
    "duration": 22,
    "start_time": "2022-02-07T20:05:40.450Z"
   },
   {
    "duration": 29,
    "start_time": "2022-02-07T20:05:55.154Z"
   },
   {
    "duration": 29,
    "start_time": "2022-02-07T20:05:57.937Z"
   },
   {
    "duration": 33,
    "start_time": "2022-02-07T20:06:14.720Z"
   },
   {
    "duration": 28,
    "start_time": "2022-02-07T20:06:25.455Z"
   },
   {
    "duration": 24,
    "start_time": "2022-02-07T20:06:29.358Z"
   },
   {
    "duration": 23,
    "start_time": "2022-02-07T20:06:40.030Z"
   },
   {
    "duration": 17,
    "start_time": "2022-02-07T20:07:05.037Z"
   },
   {
    "duration": 19,
    "start_time": "2022-02-07T20:07:10.164Z"
   },
   {
    "duration": 105,
    "start_time": "2022-02-07T20:07:15.324Z"
   },
   {
    "duration": 17,
    "start_time": "2022-02-07T20:07:18.795Z"
   },
   {
    "duration": 13,
    "start_time": "2022-02-07T20:07:28.019Z"
   },
   {
    "duration": 20,
    "start_time": "2022-02-07T20:07:37.963Z"
   },
   {
    "duration": 13,
    "start_time": "2022-02-07T20:08:55.479Z"
   },
   {
    "duration": 9,
    "start_time": "2022-02-07T20:09:11.054Z"
   },
   {
    "duration": 13,
    "start_time": "2022-02-07T20:09:13.733Z"
   },
   {
    "duration": 10,
    "start_time": "2022-02-07T20:09:40.892Z"
   },
   {
    "duration": 14,
    "start_time": "2022-02-07T20:10:04.266Z"
   },
   {
    "duration": 12,
    "start_time": "2022-02-07T20:10:13.306Z"
   },
   {
    "duration": 1987,
    "start_time": "2022-02-07T20:10:32.413Z"
   },
   {
    "duration": 580,
    "start_time": "2022-02-07T20:10:34.404Z"
   },
   {
    "duration": 404,
    "start_time": "2022-02-07T20:10:34.988Z"
   },
   {
    "duration": 219,
    "start_time": "2022-02-07T20:10:35.395Z"
   },
   {
    "duration": 44,
    "start_time": "2022-02-07T20:10:35.618Z"
   },
   {
    "duration": 60,
    "start_time": "2022-02-07T20:10:35.665Z"
   },
   {
    "duration": 11,
    "start_time": "2022-02-07T20:10:35.728Z"
   },
   {
    "duration": 22,
    "start_time": "2022-02-07T20:10:35.743Z"
   },
   {
    "duration": 13,
    "start_time": "2022-02-07T20:10:35.769Z"
   },
   {
    "duration": 128,
    "start_time": "2022-02-07T20:10:35.786Z"
   },
   {
    "duration": 88,
    "start_time": "2022-02-07T20:10:35.917Z"
   },
   {
    "duration": 57,
    "start_time": "2022-02-07T20:10:36.008Z"
   },
   {
    "duration": 15,
    "start_time": "2022-02-07T20:10:36.068Z"
   },
   {
    "duration": 26,
    "start_time": "2022-02-07T20:10:36.085Z"
   },
   {
    "duration": 52,
    "start_time": "2022-02-07T20:10:36.114Z"
   },
   {
    "duration": 19,
    "start_time": "2022-02-07T20:10:36.169Z"
   },
   {
    "duration": 9,
    "start_time": "2022-02-07T20:10:36.192Z"
   },
   {
    "duration": 62,
    "start_time": "2022-02-07T20:10:36.204Z"
   },
   {
    "duration": 15,
    "start_time": "2022-02-07T20:10:36.269Z"
   },
   {
    "duration": 594,
    "start_time": "2022-02-07T20:10:36.289Z"
   },
   {
    "duration": 26,
    "start_time": "2022-02-07T20:10:36.886Z"
   },
   {
    "duration": 13,
    "start_time": "2022-02-07T20:10:36.915Z"
   },
   {
    "duration": 11,
    "start_time": "2022-02-07T20:10:41.139Z"
   },
   {
    "duration": 15,
    "start_time": "2022-02-07T20:10:50.463Z"
   },
   {
    "duration": 17,
    "start_time": "2022-02-07T20:11:02.000Z"
   },
   {
    "duration": 15,
    "start_time": "2022-02-07T20:11:38.268Z"
   },
   {
    "duration": 7,
    "start_time": "2022-02-07T20:12:05.563Z"
   },
   {
    "duration": 20,
    "start_time": "2022-02-07T20:12:58.552Z"
   },
   {
    "duration": 10,
    "start_time": "2022-02-07T20:13:19.415Z"
   },
   {
    "duration": 11,
    "start_time": "2022-02-07T20:14:56.561Z"
   },
   {
    "duration": 13,
    "start_time": "2022-02-07T20:14:59.449Z"
   },
   {
    "duration": 7,
    "start_time": "2022-02-07T20:15:03.359Z"
   },
   {
    "duration": 9,
    "start_time": "2022-02-07T20:15:07.552Z"
   },
   {
    "duration": 11,
    "start_time": "2022-02-07T20:16:01.326Z"
   },
   {
    "duration": 12,
    "start_time": "2022-02-07T20:16:12.493Z"
   },
   {
    "duration": 81,
    "start_time": "2022-02-07T20:17:20.953Z"
   },
   {
    "duration": 10,
    "start_time": "2022-02-07T20:18:02.277Z"
   },
   {
    "duration": 7,
    "start_time": "2022-02-07T20:18:21.485Z"
   },
   {
    "duration": 12,
    "start_time": "2022-02-07T20:18:31.359Z"
   },
   {
    "duration": -1011,
    "start_time": "2022-02-07T20:18:54.497Z"
   },
   {
    "duration": 1449,
    "start_time": "2022-02-07T20:19:16.523Z"
   },
   {
    "duration": 340,
    "start_time": "2022-02-07T20:19:17.975Z"
   },
   {
    "duration": 280,
    "start_time": "2022-02-07T20:19:18.318Z"
   },
   {
    "duration": 184,
    "start_time": "2022-02-07T20:19:18.602Z"
   },
   {
    "duration": 35,
    "start_time": "2022-02-07T20:19:18.789Z"
   },
   {
    "duration": 49,
    "start_time": "2022-02-07T20:19:18.826Z"
   },
   {
    "duration": 9,
    "start_time": "2022-02-07T20:19:18.877Z"
   },
   {
    "duration": 9,
    "start_time": "2022-02-07T20:19:18.889Z"
   },
   {
    "duration": 12,
    "start_time": "2022-02-07T20:19:18.900Z"
   },
   {
    "duration": 93,
    "start_time": "2022-02-07T20:19:18.915Z"
   },
   {
    "duration": 62,
    "start_time": "2022-02-07T20:19:19.010Z"
   },
   {
    "duration": 40,
    "start_time": "2022-02-07T20:19:19.075Z"
   },
   {
    "duration": 42,
    "start_time": "2022-02-07T20:19:19.117Z"
   },
   {
    "duration": 17,
    "start_time": "2022-02-07T20:19:19.162Z"
   },
   {
    "duration": 9,
    "start_time": "2022-02-07T20:19:19.182Z"
   },
   {
    "duration": 12,
    "start_time": "2022-02-07T20:19:19.194Z"
   },
   {
    "duration": 6,
    "start_time": "2022-02-07T20:19:19.208Z"
   },
   {
    "duration": 21,
    "start_time": "2022-02-07T20:19:19.260Z"
   },
   {
    "duration": 10,
    "start_time": "2022-02-07T20:19:19.283Z"
   },
   {
    "duration": 538,
    "start_time": "2022-02-07T20:19:19.296Z"
   },
   {
    "duration": 30,
    "start_time": "2022-02-07T20:19:19.837Z"
   },
   {
    "duration": 90,
    "start_time": "2022-02-07T20:19:19.869Z"
   },
   {
    "duration": 13,
    "start_time": "2022-02-07T20:19:19.963Z"
   },
   {
    "duration": 11,
    "start_time": "2022-02-07T20:19:19.979Z"
   },
   {
    "duration": 10,
    "start_time": "2022-02-07T20:19:38.026Z"
   },
   {
    "duration": 11,
    "start_time": "2022-02-07T20:20:03.769Z"
   },
   {
    "duration": 1643,
    "start_time": "2022-02-07T20:22:54.463Z"
   },
   {
    "duration": 10584,
    "start_time": "2022-02-07T20:25:22.023Z"
   },
   {
    "duration": -974,
    "start_time": "2022-02-07T20:26:00.798Z"
   },
   {
    "duration": 8062,
    "start_time": "2022-02-07T20:26:28.563Z"
   },
   {
    "duration": 1460,
    "start_time": "2022-02-07T20:26:50.954Z"
   },
   {
    "duration": 359,
    "start_time": "2022-02-07T20:26:52.417Z"
   },
   {
    "duration": 282,
    "start_time": "2022-02-07T20:26:52.780Z"
   },
   {
    "duration": 196,
    "start_time": "2022-02-07T20:26:53.065Z"
   },
   {
    "duration": 33,
    "start_time": "2022-02-07T20:26:53.264Z"
   },
   {
    "duration": 49,
    "start_time": "2022-02-07T20:26:53.300Z"
   },
   {
    "duration": 12,
    "start_time": "2022-02-07T20:26:53.352Z"
   },
   {
    "duration": 9,
    "start_time": "2022-02-07T20:26:53.369Z"
   },
   {
    "duration": 15,
    "start_time": "2022-02-07T20:26:53.381Z"
   },
   {
    "duration": 90,
    "start_time": "2022-02-07T20:26:53.399Z"
   },
   {
    "duration": 80,
    "start_time": "2022-02-07T20:26:53.492Z"
   },
   {
    "duration": 58,
    "start_time": "2022-02-07T20:26:53.575Z"
   },
   {
    "duration": 39,
    "start_time": "2022-02-07T20:26:53.635Z"
   },
   {
    "duration": 16,
    "start_time": "2022-02-07T20:26:53.677Z"
   },
   {
    "duration": 10,
    "start_time": "2022-02-07T20:26:53.696Z"
   },
   {
    "duration": 64,
    "start_time": "2022-02-07T20:26:53.708Z"
   },
   {
    "duration": 6,
    "start_time": "2022-02-07T20:26:53.774Z"
   },
   {
    "duration": 21,
    "start_time": "2022-02-07T20:26:53.782Z"
   },
   {
    "duration": 10,
    "start_time": "2022-02-07T20:26:53.805Z"
   },
   {
    "duration": 548,
    "start_time": "2022-02-07T20:26:53.817Z"
   },
   {
    "duration": 17,
    "start_time": "2022-02-07T20:26:54.367Z"
   },
   {
    "duration": 14092,
    "start_time": "2022-02-07T20:26:57.560Z"
   },
   {
    "duration": 7960,
    "start_time": "2022-02-07T20:27:12.658Z"
   },
   {
    "duration": 12,
    "start_time": "2022-02-07T20:27:23.257Z"
   },
   {
    "duration": 15,
    "start_time": "2022-02-07T20:27:33.463Z"
   },
   {
    "duration": 25,
    "start_time": "2022-02-07T20:27:48.613Z"
   },
   {
    "duration": 345,
    "start_time": "2022-02-07T20:28:07.063Z"
   },
   {
    "duration": 27,
    "start_time": "2022-02-07T20:28:18.101Z"
   },
   {
    "duration": 30,
    "start_time": "2022-02-07T20:28:24.284Z"
   },
   {
    "duration": 28,
    "start_time": "2022-02-07T20:28:50.331Z"
   },
   {
    "duration": 37,
    "start_time": "2022-02-07T20:28:59.233Z"
   },
   {
    "duration": 34,
    "start_time": "2022-02-07T20:29:36.808Z"
   },
   {
    "duration": 29,
    "start_time": "2022-02-07T20:30:39.212Z"
   },
   {
    "duration": 44,
    "start_time": "2022-02-07T20:30:44.532Z"
   },
   {
    "duration": 29,
    "start_time": "2022-02-07T20:32:00.704Z"
   },
   {
    "duration": 37,
    "start_time": "2022-02-07T20:32:07.910Z"
   },
   {
    "duration": 335,
    "start_time": "2022-02-07T20:32:38.445Z"
   },
   {
    "duration": 774,
    "start_time": "2022-02-07T20:32:42.132Z"
   },
   {
    "duration": 1648,
    "start_time": "2022-02-07T20:35:18.464Z"
   },
   {
    "duration": 385,
    "start_time": "2022-02-07T20:35:20.115Z"
   },
   {
    "duration": 307,
    "start_time": "2022-02-07T20:35:20.506Z"
   },
   {
    "duration": 197,
    "start_time": "2022-02-07T20:35:20.815Z"
   },
   {
    "duration": 34,
    "start_time": "2022-02-07T20:35:21.015Z"
   },
   {
    "duration": 63,
    "start_time": "2022-02-07T20:35:21.052Z"
   },
   {
    "duration": 9,
    "start_time": "2022-02-07T20:35:21.119Z"
   },
   {
    "duration": 30,
    "start_time": "2022-02-07T20:35:21.134Z"
   },
   {
    "duration": 17,
    "start_time": "2022-02-07T20:35:21.170Z"
   },
   {
    "duration": 86,
    "start_time": "2022-02-07T20:35:21.190Z"
   },
   {
    "duration": 46,
    "start_time": "2022-02-07T20:35:21.281Z"
   },
   {
    "duration": 63,
    "start_time": "2022-02-07T20:35:21.330Z"
   },
   {
    "duration": 15,
    "start_time": "2022-02-07T20:35:21.396Z"
   },
   {
    "duration": 49,
    "start_time": "2022-02-07T20:35:21.414Z"
   },
   {
    "duration": 11,
    "start_time": "2022-02-07T20:35:21.466Z"
   },
   {
    "duration": 15,
    "start_time": "2022-02-07T20:35:21.480Z"
   },
   {
    "duration": 6,
    "start_time": "2022-02-07T20:35:21.498Z"
   },
   {
    "duration": 34,
    "start_time": "2022-02-07T20:35:21.559Z"
   },
   {
    "duration": 11,
    "start_time": "2022-02-07T20:35:21.596Z"
   },
   {
    "duration": 562,
    "start_time": "2022-02-07T20:35:21.610Z"
   },
   {
    "duration": 26,
    "start_time": "2022-02-07T20:35:22.175Z"
   },
   {
    "duration": 57,
    "start_time": "2022-02-07T20:35:24.039Z"
   },
   {
    "duration": 127,
    "start_time": "2022-02-07T20:36:01.006Z"
   },
   {
    "duration": 47,
    "start_time": "2022-02-07T20:36:41.987Z"
   },
   {
    "duration": 45,
    "start_time": "2022-02-07T20:36:55.490Z"
   },
   {
    "duration": 44,
    "start_time": "2022-02-07T20:37:08.425Z"
   },
   {
    "duration": 38,
    "start_time": "2022-02-07T20:37:30.712Z"
   },
   {
    "duration": 341,
    "start_time": "2022-02-07T20:41:07.203Z"
   },
   {
    "duration": 1203,
    "start_time": "2022-02-07T20:41:48.862Z"
   },
   {
    "duration": 648,
    "start_time": "2022-02-07T20:42:01.504Z"
   },
   {
    "duration": 753,
    "start_time": "2022-02-07T20:48:00.788Z"
   },
   {
    "duration": 791,
    "start_time": "2022-02-07T20:48:14.475Z"
   },
   {
    "duration": 699,
    "start_time": "2022-02-07T20:48:31.183Z"
   },
   {
    "duration": 381,
    "start_time": "2022-02-07T20:49:35.230Z"
   },
   {
    "duration": 742,
    "start_time": "2022-02-07T20:50:20.956Z"
   },
   {
    "duration": 775,
    "start_time": "2022-02-07T20:50:29.058Z"
   },
   {
    "duration": 1002,
    "start_time": "2022-02-07T20:50:49.641Z"
   },
   {
    "duration": 686,
    "start_time": "2022-02-07T20:51:11.145Z"
   },
   {
    "duration": 652,
    "start_time": "2022-02-07T20:51:39.895Z"
   },
   {
    "duration": 770,
    "start_time": "2022-02-07T20:51:48.342Z"
   },
   {
    "duration": 690,
    "start_time": "2022-02-07T20:52:55.547Z"
   },
   {
    "duration": 8,
    "start_time": "2022-02-07T20:53:14.193Z"
   },
   {
    "duration": 11,
    "start_time": "2022-02-07T20:53:32.416Z"
   },
   {
    "duration": 12,
    "start_time": "2022-02-07T20:53:52.816Z"
   },
   {
    "duration": 9,
    "start_time": "2022-02-07T20:54:54.956Z"
   },
   {
    "duration": 12,
    "start_time": "2022-02-07T20:54:58.563Z"
   },
   {
    "duration": 6,
    "start_time": "2022-02-07T20:55:13.739Z"
   },
   {
    "duration": 19,
    "start_time": "2022-02-07T20:55:50.000Z"
   },
   {
    "duration": 19,
    "start_time": "2022-02-07T20:56:15.025Z"
   },
   {
    "duration": 6,
    "start_time": "2022-02-07T20:56:27.775Z"
   },
   {
    "duration": 309,
    "start_time": "2022-02-07T20:59:52.315Z"
   },
   {
    "duration": 328,
    "start_time": "2022-02-07T21:00:17.754Z"
   },
   {
    "duration": 9,
    "start_time": "2022-02-07T21:01:12.505Z"
   },
   {
    "duration": 11,
    "start_time": "2022-02-07T21:01:19.213Z"
   },
   {
    "duration": 11,
    "start_time": "2022-02-07T21:01:24.564Z"
   },
   {
    "duration": 18,
    "start_time": "2022-02-07T21:01:33.012Z"
   },
   {
    "duration": 6,
    "start_time": "2022-02-07T21:01:39.055Z"
   },
   {
    "duration": 5,
    "start_time": "2022-02-07T21:01:44.932Z"
   },
   {
    "duration": 3,
    "start_time": "2022-02-07T21:02:25.490Z"
   },
   {
    "duration": 135,
    "start_time": "2022-02-07T21:02:35.530Z"
   },
   {
    "duration": 35,
    "start_time": "2022-02-07T21:02:38.888Z"
   },
   {
    "duration": 34,
    "start_time": "2022-02-07T21:02:41.208Z"
   },
   {
    "duration": 5,
    "start_time": "2022-02-07T21:04:03.142Z"
   },
   {
    "duration": 393,
    "start_time": "2022-02-07T21:04:03.153Z"
   },
   {
    "duration": 313,
    "start_time": "2022-02-07T21:04:03.560Z"
   },
   {
    "duration": 205,
    "start_time": "2022-02-07T21:04:03.876Z"
   },
   {
    "duration": 33,
    "start_time": "2022-02-07T21:04:04.084Z"
   },
   {
    "duration": 52,
    "start_time": "2022-02-07T21:04:04.119Z"
   },
   {
    "duration": 9,
    "start_time": "2022-02-07T21:04:04.173Z"
   },
   {
    "duration": 9,
    "start_time": "2022-02-07T21:04:04.184Z"
   },
   {
    "duration": 12,
    "start_time": "2022-02-07T21:04:04.197Z"
   },
   {
    "duration": 102,
    "start_time": "2022-02-07T21:04:04.213Z"
   },
   {
    "duration": 71,
    "start_time": "2022-02-07T21:04:04.318Z"
   },
   {
    "duration": 38,
    "start_time": "2022-02-07T21:04:04.392Z"
   },
   {
    "duration": 37,
    "start_time": "2022-02-07T21:04:04.433Z"
   },
   {
    "duration": 15,
    "start_time": "2022-02-07T21:04:04.472Z"
   },
   {
    "duration": 10,
    "start_time": "2022-02-07T21:04:04.489Z"
   },
   {
    "duration": 62,
    "start_time": "2022-02-07T21:04:04.501Z"
   },
   {
    "duration": 5,
    "start_time": "2022-02-07T21:04:04.566Z"
   },
   {
    "duration": 17,
    "start_time": "2022-02-07T21:04:04.574Z"
   },
   {
    "duration": 11,
    "start_time": "2022-02-07T21:04:04.594Z"
   },
   {
    "duration": 566,
    "start_time": "2022-02-07T21:04:04.608Z"
   },
   {
    "duration": 19,
    "start_time": "2022-02-07T21:04:05.176Z"
   },
   {
    "duration": 709,
    "start_time": "2022-02-07T21:04:05.198Z"
   },
   {
    "duration": 331,
    "start_time": "2022-02-07T21:04:05.910Z"
   },
   {
    "duration": 15,
    "start_time": "2022-02-07T21:04:06.246Z"
   },
   {
    "duration": 13,
    "start_time": "2022-02-07T21:04:06.263Z"
   },
   {
    "duration": 5,
    "start_time": "2022-02-07T21:04:06.279Z"
   },
   {
    "duration": 8,
    "start_time": "2022-02-07T21:04:06.287Z"
   },
   {
    "duration": 179,
    "start_time": "2022-02-07T21:04:06.297Z"
   },
   {
    "duration": 35,
    "start_time": "2022-02-07T21:04:06.478Z"
   },
   {
    "duration": 75,
    "start_time": "2022-02-07T21:04:06.516Z"
   },
   {
    "duration": 29,
    "start_time": "2022-02-07T21:04:06.594Z"
   },
   {
    "duration": 62,
    "start_time": "2022-02-07T21:04:06.626Z"
   },
   {
    "duration": 34,
    "start_time": "2022-02-07T21:04:06.691Z"
   },
   {
    "duration": 44,
    "start_time": "2022-02-07T21:04:06.728Z"
   },
   {
    "duration": 39,
    "start_time": "2022-02-07T21:04:06.775Z"
   },
   {
    "duration": 43,
    "start_time": "2022-02-07T21:04:06.817Z"
   },
   {
    "duration": 30,
    "start_time": "2022-02-07T21:04:44.426Z"
   },
   {
    "duration": 33,
    "start_time": "2022-02-07T21:05:28.624Z"
   },
   {
    "duration": 33,
    "start_time": "2022-02-07T21:05:39.680Z"
   },
   {
    "duration": 43,
    "start_time": "2022-02-07T21:06:37.068Z"
   },
   {
    "duration": 9,
    "start_time": "2022-02-07T21:06:51.523Z"
   },
   {
    "duration": 50,
    "start_time": "2022-02-07T21:06:58.809Z"
   },
   {
    "duration": 58,
    "start_time": "2022-02-07T21:07:09.370Z"
   },
   {
    "duration": 35,
    "start_time": "2022-02-07T21:09:18.083Z"
   },
   {
    "duration": 35,
    "start_time": "2022-02-07T21:09:36.787Z"
   },
   {
    "duration": 43,
    "start_time": "2022-02-07T21:09:53.291Z"
   },
   {
    "duration": 69,
    "start_time": "2022-02-07T21:10:05.401Z"
   },
   {
    "duration": 83,
    "start_time": "2022-02-07T21:10:12.802Z"
   },
   {
    "duration": 62,
    "start_time": "2022-02-07T21:10:16.489Z"
   },
   {
    "duration": 76,
    "start_time": "2022-02-07T21:13:01.678Z"
   },
   {
    "duration": 33,
    "start_time": "2022-02-07T21:13:23.303Z"
   },
   {
    "duration": 327,
    "start_time": "2022-02-07T21:13:44.605Z"
   },
   {
    "duration": 326,
    "start_time": "2022-02-07T21:13:59.547Z"
   },
   {
    "duration": 1410,
    "start_time": "2022-02-07T21:14:15.665Z"
   },
   {
    "duration": 354,
    "start_time": "2022-02-07T21:14:17.077Z"
   },
   {
    "duration": 375,
    "start_time": "2022-02-07T21:14:17.435Z"
   },
   {
    "duration": 251,
    "start_time": "2022-02-07T21:14:17.813Z"
   },
   {
    "duration": 39,
    "start_time": "2022-02-07T21:14:18.067Z"
   },
   {
    "duration": 59,
    "start_time": "2022-02-07T21:14:18.108Z"
   },
   {
    "duration": 10,
    "start_time": "2022-02-07T21:14:18.170Z"
   },
   {
    "duration": 9,
    "start_time": "2022-02-07T21:14:18.185Z"
   },
   {
    "duration": 14,
    "start_time": "2022-02-07T21:14:18.197Z"
   },
   {
    "duration": 96,
    "start_time": "2022-02-07T21:14:18.215Z"
   },
   {
    "duration": 64,
    "start_time": "2022-02-07T21:14:18.313Z"
   },
   {
    "duration": 39,
    "start_time": "2022-02-07T21:14:18.379Z"
   },
   {
    "duration": 42,
    "start_time": "2022-02-07T21:14:18.420Z"
   },
   {
    "duration": 18,
    "start_time": "2022-02-07T21:14:18.466Z"
   },
   {
    "duration": 12,
    "start_time": "2022-02-07T21:14:18.488Z"
   },
   {
    "duration": 57,
    "start_time": "2022-02-07T21:14:18.503Z"
   },
   {
    "duration": 8,
    "start_time": "2022-02-07T21:14:18.563Z"
   },
   {
    "duration": 22,
    "start_time": "2022-02-07T21:14:18.576Z"
   },
   {
    "duration": 9,
    "start_time": "2022-02-07T21:14:18.601Z"
   },
   {
    "duration": 534,
    "start_time": "2022-02-07T21:14:18.613Z"
   },
   {
    "duration": 25,
    "start_time": "2022-02-07T21:14:19.150Z"
   },
   {
    "duration": 987,
    "start_time": "2022-02-07T21:14:19.178Z"
   },
   {
    "duration": 321,
    "start_time": "2022-02-07T21:14:20.171Z"
   },
   {
    "duration": 10,
    "start_time": "2022-02-07T21:14:20.494Z"
   },
   {
    "duration": 13,
    "start_time": "2022-02-07T21:14:20.506Z"
   },
   {
    "duration": 38,
    "start_time": "2022-02-07T21:14:20.521Z"
   },
   {
    "duration": 3,
    "start_time": "2022-02-07T21:14:20.561Z"
   },
   {
    "duration": 153,
    "start_time": "2022-02-07T21:14:20.567Z"
   },
   {
    "duration": 49,
    "start_time": "2022-02-07T21:14:20.722Z"
   },
   {
    "duration": 33,
    "start_time": "2022-02-07T21:14:20.774Z"
   },
   {
    "duration": 26,
    "start_time": "2022-02-07T21:14:20.809Z"
   },
   {
    "duration": 49,
    "start_time": "2022-02-07T21:14:20.837Z"
   },
   {
    "duration": 26,
    "start_time": "2022-02-07T21:14:20.889Z"
   },
   {
    "duration": 43,
    "start_time": "2022-02-07T21:14:20.918Z"
   },
   {
    "duration": 27,
    "start_time": "2022-02-07T21:14:20.963Z"
   },
   {
    "duration": 12,
    "start_time": "2022-02-07T21:14:20.993Z"
   },
   {
    "duration": 71,
    "start_time": "2022-02-07T21:14:21.008Z"
   },
   {
    "duration": 44,
    "start_time": "2022-02-07T21:14:21.081Z"
   },
   {
    "duration": 39,
    "start_time": "2022-02-07T21:14:21.127Z"
   },
   {
    "duration": 50,
    "start_time": "2022-02-07T21:14:21.168Z"
   },
   {
    "duration": 48,
    "start_time": "2022-02-07T21:14:21.220Z"
   },
   {
    "duration": 90,
    "start_time": "2022-02-07T21:14:21.271Z"
   },
   {
    "duration": 9,
    "start_time": "2022-02-07T21:14:33.653Z"
   },
   {
    "duration": 11,
    "start_time": "2022-02-07T21:14:42.668Z"
   },
   {
    "duration": 10,
    "start_time": "2022-02-07T21:14:43.892Z"
   },
   {
    "duration": 12,
    "start_time": "2022-02-07T21:14:46.035Z"
   },
   {
    "duration": 16,
    "start_time": "2022-02-07T21:14:50.772Z"
   },
   {
    "duration": 25,
    "start_time": "2022-02-07T21:14:56.589Z"
   },
   {
    "duration": 15,
    "start_time": "2022-02-07T21:15:05.163Z"
   },
   {
    "duration": 6,
    "start_time": "2022-02-07T21:15:07.403Z"
   },
   {
    "duration": 10,
    "start_time": "2022-02-07T21:15:08.523Z"
   },
   {
    "duration": 14,
    "start_time": "2022-02-07T21:15:10.154Z"
   },
   {
    "duration": 4,
    "start_time": "2022-02-07T21:19:23.522Z"
   },
   {
    "duration": 344,
    "start_time": "2022-02-07T21:19:23.532Z"
   },
   {
    "duration": 290,
    "start_time": "2022-02-07T21:19:23.879Z"
   },
   {
    "duration": 178,
    "start_time": "2022-02-07T21:19:24.172Z"
   },
   {
    "duration": 34,
    "start_time": "2022-02-07T21:19:24.361Z"
   },
   {
    "duration": 49,
    "start_time": "2022-02-07T21:19:24.397Z"
   },
   {
    "duration": 12,
    "start_time": "2022-02-07T21:19:24.448Z"
   },
   {
    "duration": 9,
    "start_time": "2022-02-07T21:19:24.463Z"
   },
   {
    "duration": 12,
    "start_time": "2022-02-07T21:19:24.475Z"
   },
   {
    "duration": 116,
    "start_time": "2022-02-07T21:19:24.491Z"
   },
   {
    "duration": 80,
    "start_time": "2022-02-07T21:19:24.610Z"
   },
   {
    "duration": 68,
    "start_time": "2022-02-07T21:19:24.693Z"
   },
   {
    "duration": 19,
    "start_time": "2022-02-07T21:19:24.764Z"
   },
   {
    "duration": 20,
    "start_time": "2022-02-07T21:19:24.786Z"
   },
   {
    "duration": 50,
    "start_time": "2022-02-07T21:19:24.809Z"
   },
   {
    "duration": 13,
    "start_time": "2022-02-07T21:19:24.861Z"
   },
   {
    "duration": 6,
    "start_time": "2022-02-07T21:19:24.876Z"
   },
   {
    "duration": 17,
    "start_time": "2022-02-07T21:19:24.884Z"
   },
   {
    "duration": 9,
    "start_time": "2022-02-07T21:19:24.903Z"
   },
   {
    "duration": 533,
    "start_time": "2022-02-07T21:19:24.915Z"
   },
   {
    "duration": 23,
    "start_time": "2022-02-07T21:19:25.451Z"
   },
   {
    "duration": 706,
    "start_time": "2022-02-07T21:19:25.476Z"
   },
   {
    "duration": 318,
    "start_time": "2022-02-07T21:19:26.185Z"
   },
   {
    "duration": 9,
    "start_time": "2022-02-07T21:19:26.508Z"
   },
   {
    "duration": 12,
    "start_time": "2022-02-07T21:19:26.520Z"
   },
   {
    "duration": 28,
    "start_time": "2022-02-07T21:19:26.535Z"
   },
   {
    "duration": 7,
    "start_time": "2022-02-07T21:19:26.566Z"
   },
   {
    "duration": 168,
    "start_time": "2022-02-07T21:19:26.576Z"
   },
   {
    "duration": 38,
    "start_time": "2022-02-07T21:19:26.746Z"
   },
   {
    "duration": 36,
    "start_time": "2022-02-07T21:19:26.786Z"
   },
   {
    "duration": 47,
    "start_time": "2022-02-07T21:19:26.824Z"
   },
   {
    "duration": 29,
    "start_time": "2022-02-07T21:19:26.874Z"
   },
   {
    "duration": 26,
    "start_time": "2022-02-07T21:19:26.906Z"
   },
   {
    "duration": 38,
    "start_time": "2022-02-07T21:19:26.934Z"
   },
   {
    "duration": 26,
    "start_time": "2022-02-07T21:19:26.974Z"
   },
   {
    "duration": 12,
    "start_time": "2022-02-07T21:19:27.003Z"
   },
   {
    "duration": 68,
    "start_time": "2022-02-07T21:19:27.017Z"
   },
   {
    "duration": 41,
    "start_time": "2022-02-07T21:19:27.088Z"
   },
   {
    "duration": 10,
    "start_time": "2022-02-07T21:19:27.160Z"
   },
   {
    "duration": 48,
    "start_time": "2022-02-07T21:19:27.173Z"
   },
   {
    "duration": 39,
    "start_time": "2022-02-07T21:19:27.224Z"
   },
   {
    "duration": 62,
    "start_time": "2022-02-07T21:19:27.265Z"
   },
   {
    "duration": 34,
    "start_time": "2022-02-07T21:19:27.330Z"
   },
   {
    "duration": 9,
    "start_time": "2022-02-07T21:19:27.367Z"
   },
   {
    "duration": 11,
    "start_time": "2022-02-07T21:19:27.379Z"
   },
   {
    "duration": 12,
    "start_time": "2022-02-07T21:19:27.392Z"
   },
   {
    "duration": 60,
    "start_time": "2022-02-07T21:19:27.406Z"
   },
   {
    "duration": 26,
    "start_time": "2022-02-07T21:19:27.468Z"
   },
   {
    "duration": 19,
    "start_time": "2022-02-07T21:19:27.496Z"
   },
   {
    "duration": 5,
    "start_time": "2022-02-07T21:19:27.518Z"
   },
   {
    "duration": 41,
    "start_time": "2022-02-07T21:19:27.526Z"
   },
   {
    "duration": 11,
    "start_time": "2022-02-07T21:19:27.569Z"
   },
   {
    "duration": 17,
    "start_time": "2022-02-07T21:19:27.582Z"
   },
   {
    "duration": 17,
    "start_time": "2022-02-07T21:19:27.602Z"
   },
   {
    "duration": 18,
    "start_time": "2022-02-07T21:19:27.661Z"
   },
   {
    "duration": 24,
    "start_time": "2022-02-07T21:19:31.755Z"
   },
   {
    "duration": 6,
    "start_time": "2022-02-07T21:19:40.643Z"
   },
   {
    "duration": 6,
    "start_time": "2022-02-07T21:19:42.923Z"
   },
   {
    "duration": 53,
    "start_time": "2022-02-07T21:19:46.491Z"
   },
   {
    "duration": 10,
    "start_time": "2022-02-07T21:19:49.610Z"
   },
   {
    "duration": 11,
    "start_time": "2022-02-07T21:19:52.888Z"
   },
   {
    "duration": 12,
    "start_time": "2022-02-07T21:19:54.973Z"
   },
   {
    "duration": 5,
    "start_time": "2022-02-07T21:19:56.917Z"
   },
   {
    "duration": 566,
    "start_time": "2022-02-07T21:20:01.509Z"
   },
   {
    "duration": 21,
    "start_time": "2022-02-07T21:20:05.445Z"
   },
   {
    "duration": 11,
    "start_time": "2022-02-07T21:20:15.805Z"
   },
   {
    "duration": 11,
    "start_time": "2022-02-07T21:20:16.868Z"
   },
   {
    "duration": 850,
    "start_time": "2022-02-07T21:20:18.532Z"
   },
   {
    "duration": 20,
    "start_time": "2022-02-07T21:20:19.596Z"
   },
   {
    "duration": 15,
    "start_time": "2022-02-07T21:20:27.172Z"
   },
   {
    "duration": 14,
    "start_time": "2022-02-07T21:20:28.037Z"
   },
   {
    "duration": 587,
    "start_time": "2022-02-07T21:20:32.381Z"
   },
   {
    "duration": 21,
    "start_time": "2022-02-07T21:20:32.971Z"
   },
   {
    "duration": 106,
    "start_time": "2022-02-07T21:21:46.068Z"
   },
   {
    "duration": 10,
    "start_time": "2022-02-07T21:22:33.891Z"
   },
   {
    "duration": 9,
    "start_time": "2022-02-07T21:22:36.708Z"
   },
   {
    "duration": 12,
    "start_time": "2022-02-07T21:23:55.238Z"
   },
   {
    "duration": 9,
    "start_time": "2022-02-07T21:24:07.365Z"
   },
   {
    "duration": 431,
    "start_time": "2022-02-07T21:24:17.764Z"
   },
   {
    "duration": 4,
    "start_time": "2022-02-07T21:24:21.875Z"
   },
   {
    "duration": 356,
    "start_time": "2022-02-07T21:24:21.885Z"
   },
   {
    "duration": 321,
    "start_time": "2022-02-07T21:24:22.259Z"
   },
   {
    "duration": 190,
    "start_time": "2022-02-07T21:24:22.583Z"
   },
   {
    "duration": 34,
    "start_time": "2022-02-07T21:24:22.777Z"
   },
   {
    "duration": 50,
    "start_time": "2022-02-07T21:24:22.813Z"
   },
   {
    "duration": 8,
    "start_time": "2022-02-07T21:24:22.865Z"
   },
   {
    "duration": 10,
    "start_time": "2022-02-07T21:24:22.875Z"
   },
   {
    "duration": 13,
    "start_time": "2022-02-07T21:24:22.889Z"
   },
   {
    "duration": 93,
    "start_time": "2022-02-07T21:24:22.906Z"
   },
   {
    "duration": 63,
    "start_time": "2022-02-07T21:24:23.001Z"
   },
   {
    "duration": 61,
    "start_time": "2022-02-07T21:24:23.067Z"
   },
   {
    "duration": 45,
    "start_time": "2022-02-07T21:24:23.131Z"
   },
   {
    "duration": 22,
    "start_time": "2022-02-07T21:24:23.179Z"
   },
   {
    "duration": 14,
    "start_time": "2022-02-07T21:24:23.204Z"
   },
   {
    "duration": 57,
    "start_time": "2022-02-07T21:24:23.221Z"
   },
   {
    "duration": 6,
    "start_time": "2022-02-07T21:24:23.281Z"
   },
   {
    "duration": 16,
    "start_time": "2022-02-07T21:24:23.290Z"
   },
   {
    "duration": 51,
    "start_time": "2022-02-07T21:24:23.309Z"
   },
   {
    "duration": 551,
    "start_time": "2022-02-07T21:24:23.362Z"
   },
   {
    "duration": 17,
    "start_time": "2022-02-07T21:24:23.916Z"
   },
   {
    "duration": 818,
    "start_time": "2022-02-07T21:24:23.935Z"
   },
   {
    "duration": 455,
    "start_time": "2022-02-07T21:24:24.760Z"
   },
   {
    "duration": 10,
    "start_time": "2022-02-07T21:24:25.221Z"
   },
   {
    "duration": 29,
    "start_time": "2022-02-07T21:24:25.235Z"
   },
   {
    "duration": 5,
    "start_time": "2022-02-07T21:24:25.266Z"
   },
   {
    "duration": 5,
    "start_time": "2022-02-07T21:24:25.273Z"
   },
   {
    "duration": 167,
    "start_time": "2022-02-07T21:24:25.280Z"
   },
   {
    "duration": 35,
    "start_time": "2022-02-07T21:24:25.450Z"
   },
   {
    "duration": 44,
    "start_time": "2022-02-07T21:24:25.488Z"
   },
   {
    "duration": 26,
    "start_time": "2022-02-07T21:24:25.560Z"
   },
   {
    "duration": 31,
    "start_time": "2022-02-07T21:24:25.588Z"
   },
   {
    "duration": 56,
    "start_time": "2022-02-07T21:24:25.621Z"
   },
   {
    "duration": 16,
    "start_time": "2022-02-07T21:24:25.680Z"
   },
   {
    "duration": 63,
    "start_time": "2022-02-07T21:24:25.699Z"
   },
   {
    "duration": 14,
    "start_time": "2022-02-07T21:24:25.764Z"
   },
   {
    "duration": 34,
    "start_time": "2022-02-07T21:24:25.782Z"
   },
   {
    "duration": 82,
    "start_time": "2022-02-07T21:24:25.819Z"
   },
   {
    "duration": 11,
    "start_time": "2022-02-07T21:24:25.904Z"
   },
   {
    "duration": 88,
    "start_time": "2022-02-07T21:24:25.918Z"
   },
   {
    "duration": 15,
    "start_time": "2022-02-07T21:24:26.008Z"
   },
   {
    "duration": 108,
    "start_time": "2022-02-07T21:24:26.027Z"
   },
   {
    "duration": 28,
    "start_time": "2022-02-07T21:24:26.138Z"
   },
   {
    "duration": 15,
    "start_time": "2022-02-07T21:24:26.169Z"
   },
   {
    "duration": 16,
    "start_time": "2022-02-07T21:24:26.187Z"
   },
   {
    "duration": 53,
    "start_time": "2022-02-07T21:24:26.206Z"
   },
   {
    "duration": 16,
    "start_time": "2022-02-07T21:24:26.263Z"
   },
   {
    "duration": 32,
    "start_time": "2022-02-07T21:24:26.282Z"
   },
   {
    "duration": 45,
    "start_time": "2022-02-07T21:24:26.317Z"
   },
   {
    "duration": 7,
    "start_time": "2022-02-07T21:24:26.365Z"
   },
   {
    "duration": 18,
    "start_time": "2022-02-07T21:24:26.375Z"
   },
   {
    "duration": 15,
    "start_time": "2022-02-07T21:24:26.396Z"
   },
   {
    "duration": 57,
    "start_time": "2022-02-07T21:24:26.414Z"
   },
   {
    "duration": 22,
    "start_time": "2022-02-07T21:24:26.475Z"
   },
   {
    "duration": 20,
    "start_time": "2022-02-07T21:24:26.500Z"
   },
   {
    "duration": 54,
    "start_time": "2022-02-07T21:24:26.524Z"
   },
   {
    "duration": 5,
    "start_time": "2022-02-07T21:24:26.581Z"
   },
   {
    "duration": 7,
    "start_time": "2022-02-07T21:24:26.588Z"
   },
   {
    "duration": 91,
    "start_time": "2022-02-07T21:24:26.598Z"
   },
   {
    "duration": 10,
    "start_time": "2022-02-07T21:24:26.692Z"
   },
   {
    "duration": 11,
    "start_time": "2022-02-07T21:24:26.704Z"
   },
   {
    "duration": 45,
    "start_time": "2022-02-07T21:24:26.718Z"
   },
   {
    "duration": 10,
    "start_time": "2022-02-07T21:24:26.766Z"
   },
   {
    "duration": 686,
    "start_time": "2022-02-07T21:24:26.779Z"
   },
   {
    "duration": 20,
    "start_time": "2022-02-07T21:24:27.470Z"
   },
   {
    "duration": 14,
    "start_time": "2022-02-07T21:24:27.493Z"
   },
   {
    "duration": 49,
    "start_time": "2022-02-07T21:24:27.510Z"
   },
   {
    "duration": 1160,
    "start_time": "2022-02-07T21:24:27.562Z"
   },
   {
    "duration": 31,
    "start_time": "2022-02-07T21:24:28.734Z"
   },
   {
    "duration": 11,
    "start_time": "2022-02-07T21:24:28.768Z"
   },
   {
    "duration": 13,
    "start_time": "2022-02-07T21:24:28.782Z"
   },
   {
    "duration": 844,
    "start_time": "2022-02-07T21:24:28.798Z"
   },
   {
    "duration": 25,
    "start_time": "2022-02-07T21:24:29.644Z"
   },
   {
    "duration": 10,
    "start_time": "2022-02-07T21:24:29.671Z"
   },
   {
    "duration": 10,
    "start_time": "2022-02-07T21:24:29.684Z"
   },
   {
    "duration": 10,
    "start_time": "2022-02-07T21:24:29.696Z"
   },
   {
    "duration": 18,
    "start_time": "2022-02-07T21:24:29.709Z"
   },
   {
    "duration": 13,
    "start_time": "2022-02-07T21:24:29.730Z"
   },
   {
    "duration": 29,
    "start_time": "2022-02-07T21:24:29.745Z"
   },
   {
    "duration": 9,
    "start_time": "2022-02-07T21:24:38.363Z"
   },
   {
    "duration": 13,
    "start_time": "2022-02-07T21:25:27.448Z"
   },
   {
    "duration": 8,
    "start_time": "2022-02-07T21:25:31.327Z"
   },
   {
    "duration": 321,
    "start_time": "2022-02-07T21:26:26.829Z"
   },
   {
    "duration": 7,
    "start_time": "2022-02-07T21:26:31.240Z"
   },
   {
    "duration": 9,
    "start_time": "2022-02-07T21:26:49.275Z"
   },
   {
    "duration": 11,
    "start_time": "2022-02-07T21:29:59.127Z"
   },
   {
    "duration": 13,
    "start_time": "2022-02-07T21:30:09.424Z"
   },
   {
    "duration": 319,
    "start_time": "2022-02-07T21:30:21.975Z"
   },
   {
    "duration": 320,
    "start_time": "2022-02-07T21:30:26.823Z"
   },
   {
    "duration": 10,
    "start_time": "2022-02-07T21:30:31.254Z"
   },
   {
    "duration": 418,
    "start_time": "2022-02-07T21:31:23.323Z"
   },
   {
    "duration": 11,
    "start_time": "2022-02-07T21:31:44.977Z"
   },
   {
    "duration": 9,
    "start_time": "2022-02-07T21:32:31.944Z"
   },
   {
    "duration": 5,
    "start_time": "2022-02-07T21:33:47.144Z"
   },
   {
    "duration": 368,
    "start_time": "2022-02-07T21:33:47.154Z"
   },
   {
    "duration": 368,
    "start_time": "2022-02-07T21:33:47.526Z"
   },
   {
    "duration": 205,
    "start_time": "2022-02-07T21:33:47.899Z"
   },
   {
    "duration": 37,
    "start_time": "2022-02-07T21:33:48.108Z"
   },
   {
    "duration": 69,
    "start_time": "2022-02-07T21:33:48.160Z"
   },
   {
    "duration": 8,
    "start_time": "2022-02-07T21:33:48.232Z"
   },
   {
    "duration": 8,
    "start_time": "2022-02-07T21:33:48.243Z"
   },
   {
    "duration": 14,
    "start_time": "2022-02-07T21:33:48.255Z"
   },
   {
    "duration": 61,
    "start_time": "2022-02-07T21:33:48.273Z"
   },
   {
    "duration": 57,
    "start_time": "2022-02-07T21:33:48.360Z"
   },
   {
    "duration": 66,
    "start_time": "2022-02-07T21:33:48.421Z"
   },
   {
    "duration": 15,
    "start_time": "2022-02-07T21:33:48.490Z"
   },
   {
    "duration": 51,
    "start_time": "2022-02-07T21:33:48.508Z"
   },
   {
    "duration": 13,
    "start_time": "2022-02-07T21:33:48.562Z"
   },
   {
    "duration": 14,
    "start_time": "2022-02-07T21:33:48.577Z"
   },
   {
    "duration": 9,
    "start_time": "2022-02-07T21:33:48.593Z"
   },
   {
    "duration": 63,
    "start_time": "2022-02-07T21:33:48.605Z"
   },
   {
    "duration": 11,
    "start_time": "2022-02-07T21:33:48.671Z"
   },
   {
    "duration": 525,
    "start_time": "2022-02-07T21:33:48.684Z"
   },
   {
    "duration": 17,
    "start_time": "2022-02-07T21:33:49.211Z"
   },
   {
    "duration": 689,
    "start_time": "2022-02-07T21:33:49.231Z"
   },
   {
    "duration": 428,
    "start_time": "2022-02-07T21:33:49.923Z"
   },
   {
    "duration": 12,
    "start_time": "2022-02-07T21:33:50.361Z"
   },
   {
    "duration": 14,
    "start_time": "2022-02-07T21:33:50.377Z"
   },
   {
    "duration": 7,
    "start_time": "2022-02-07T21:33:50.394Z"
   },
   {
    "duration": 7,
    "start_time": "2022-02-07T21:33:50.403Z"
   },
   {
    "duration": 181,
    "start_time": "2022-02-07T21:33:50.413Z"
   },
   {
    "duration": 41,
    "start_time": "2022-02-07T21:33:50.597Z"
   },
   {
    "duration": 35,
    "start_time": "2022-02-07T21:33:50.659Z"
   },
   {
    "duration": 22,
    "start_time": "2022-02-07T21:33:50.697Z"
   },
   {
    "duration": 55,
    "start_time": "2022-02-07T21:33:50.722Z"
   },
   {
    "duration": 26,
    "start_time": "2022-02-07T21:33:50.779Z"
   },
   {
    "duration": 13,
    "start_time": "2022-02-07T21:33:50.808Z"
   },
   {
    "duration": 53,
    "start_time": "2022-02-07T21:33:50.823Z"
   },
   {
    "duration": 12,
    "start_time": "2022-02-07T21:33:50.879Z"
   },
   {
    "duration": 67,
    "start_time": "2022-02-07T21:33:50.893Z"
   },
   {
    "duration": 43,
    "start_time": "2022-02-07T21:33:50.963Z"
   },
   {
    "duration": 9,
    "start_time": "2022-02-07T21:33:51.009Z"
   },
   {
    "duration": 84,
    "start_time": "2022-02-07T21:33:51.021Z"
   },
   {
    "duration": 9,
    "start_time": "2022-02-07T21:33:51.108Z"
   },
   {
    "duration": 91,
    "start_time": "2022-02-07T21:33:51.120Z"
   },
   {
    "duration": 9,
    "start_time": "2022-02-07T21:33:51.213Z"
   },
   {
    "duration": 43,
    "start_time": "2022-02-07T21:33:51.224Z"
   },
   {
    "duration": 12,
    "start_time": "2022-02-07T21:33:51.270Z"
   },
   {
    "duration": 14,
    "start_time": "2022-02-07T21:33:51.285Z"
   },
   {
    "duration": 57,
    "start_time": "2022-02-07T21:33:51.302Z"
   },
   {
    "duration": 26,
    "start_time": "2022-02-07T21:33:51.362Z"
   },
   {
    "duration": 14,
    "start_time": "2022-02-07T21:33:51.390Z"
   },
   {
    "duration": 5,
    "start_time": "2022-02-07T21:33:51.407Z"
   },
   {
    "duration": 52,
    "start_time": "2022-02-07T21:33:51.415Z"
   },
   {
    "duration": 12,
    "start_time": "2022-02-07T21:33:51.469Z"
   },
   {
    "duration": 15,
    "start_time": "2022-02-07T21:33:51.483Z"
   },
   {
    "duration": 14,
    "start_time": "2022-02-07T21:33:51.501Z"
   },
   {
    "duration": 55,
    "start_time": "2022-02-07T21:33:51.517Z"
   },
   {
    "duration": 23,
    "start_time": "2022-02-07T21:33:51.574Z"
   },
   {
    "duration": 5,
    "start_time": "2022-02-07T21:33:51.600Z"
   },
   {
    "duration": 6,
    "start_time": "2022-02-07T21:33:51.607Z"
   },
   {
    "duration": 87,
    "start_time": "2022-02-07T21:33:51.616Z"
   },
   {
    "duration": 10,
    "start_time": "2022-02-07T21:33:51.705Z"
   },
   {
    "duration": 13,
    "start_time": "2022-02-07T21:33:51.718Z"
   },
   {
    "duration": 10,
    "start_time": "2022-02-07T21:33:51.759Z"
   },
   {
    "duration": 7,
    "start_time": "2022-02-07T21:33:51.772Z"
   },
   {
    "duration": 677,
    "start_time": "2022-02-07T21:33:51.782Z"
   },
   {
    "duration": 20,
    "start_time": "2022-02-07T21:33:52.461Z"
   },
   {
    "duration": 10,
    "start_time": "2022-02-07T21:33:52.483Z"
   },
   {
    "duration": 11,
    "start_time": "2022-02-07T21:33:52.496Z"
   },
   {
    "duration": 806,
    "start_time": "2022-02-07T21:33:52.509Z"
   },
   {
    "duration": 20,
    "start_time": "2022-02-07T21:33:53.322Z"
   },
   {
    "duration": 13,
    "start_time": "2022-02-07T21:33:53.361Z"
   },
   {
    "duration": 16,
    "start_time": "2022-02-07T21:33:53.377Z"
   },
   {
    "duration": 633,
    "start_time": "2022-02-07T21:33:53.395Z"
   },
   {
    "duration": 34,
    "start_time": "2022-02-07T21:33:54.030Z"
   },
   {
    "duration": 10,
    "start_time": "2022-02-07T21:33:54.067Z"
   },
   {
    "duration": 10,
    "start_time": "2022-02-07T21:33:54.079Z"
   },
   {
    "duration": 13,
    "start_time": "2022-02-07T21:33:54.091Z"
   },
   {
    "duration": 8,
    "start_time": "2022-02-07T21:33:54.106Z"
   },
   {
    "duration": 45,
    "start_time": "2022-02-07T21:33:54.116Z"
   },
   {
    "duration": 8,
    "start_time": "2022-02-07T21:33:54.163Z"
   },
   {
    "duration": 10,
    "start_time": "2022-02-07T21:33:54.174Z"
   },
   {
    "duration": 12,
    "start_time": "2022-02-07T21:33:54.187Z"
   },
   {
    "duration": 7,
    "start_time": "2022-02-07T21:33:54.202Z"
   },
   {
    "duration": 56,
    "start_time": "2022-02-07T21:33:54.211Z"
   },
   {
    "duration": 1241,
    "start_time": "2022-02-08T05:25:34.340Z"
   },
   {
    "duration": 285,
    "start_time": "2022-02-08T05:25:35.583Z"
   },
   {
    "duration": 213,
    "start_time": "2022-02-08T05:25:35.870Z"
   },
   {
    "duration": 151,
    "start_time": "2022-02-08T05:25:36.085Z"
   },
   {
    "duration": 26,
    "start_time": "2022-02-08T05:25:36.238Z"
   },
   {
    "duration": 51,
    "start_time": "2022-02-08T05:25:36.266Z"
   },
   {
    "duration": 6,
    "start_time": "2022-02-08T05:25:36.319Z"
   },
   {
    "duration": 7,
    "start_time": "2022-02-08T05:25:36.328Z"
   },
   {
    "duration": 16,
    "start_time": "2022-02-08T05:25:36.338Z"
   },
   {
    "duration": 74,
    "start_time": "2022-02-08T05:25:36.356Z"
   },
   {
    "duration": 36,
    "start_time": "2022-02-08T05:25:36.432Z"
   },
   {
    "duration": 48,
    "start_time": "2022-02-08T05:25:36.470Z"
   },
   {
    "duration": 11,
    "start_time": "2022-02-08T05:25:36.519Z"
   },
   {
    "duration": 13,
    "start_time": "2022-02-08T05:25:36.533Z"
   },
   {
    "duration": 8,
    "start_time": "2022-02-08T05:25:36.548Z"
   },
   {
    "duration": 43,
    "start_time": "2022-02-08T05:25:36.558Z"
   },
   {
    "duration": 5,
    "start_time": "2022-02-08T05:25:36.603Z"
   },
   {
    "duration": 14,
    "start_time": "2022-02-08T05:25:36.610Z"
   },
   {
    "duration": 7,
    "start_time": "2022-02-08T05:25:36.626Z"
   },
   {
    "duration": 447,
    "start_time": "2022-02-08T05:25:36.635Z"
   },
   {
    "duration": 24,
    "start_time": "2022-02-08T05:25:37.083Z"
   },
   {
    "duration": 519,
    "start_time": "2022-02-08T05:25:37.109Z"
   },
   {
    "duration": 240,
    "start_time": "2022-02-08T05:25:37.633Z"
   },
   {
    "duration": 7,
    "start_time": "2022-02-08T05:25:37.877Z"
   },
   {
    "duration": 16,
    "start_time": "2022-02-08T05:25:37.886Z"
   },
   {
    "duration": 22,
    "start_time": "2022-02-08T05:25:37.904Z"
   },
   {
    "duration": 15,
    "start_time": "2022-02-08T05:25:37.928Z"
   },
   {
    "duration": 95,
    "start_time": "2022-02-08T05:25:37.945Z"
   },
   {
    "duration": 27,
    "start_time": "2022-02-08T05:25:38.042Z"
   },
   {
    "duration": 36,
    "start_time": "2022-02-08T05:25:38.070Z"
   },
   {
    "duration": 18,
    "start_time": "2022-02-08T05:25:38.108Z"
   },
   {
    "duration": 23,
    "start_time": "2022-02-08T05:25:38.128Z"
   },
   {
    "duration": 48,
    "start_time": "2022-02-08T05:25:38.152Z"
   },
   {
    "duration": 11,
    "start_time": "2022-02-08T05:25:38.201Z"
   },
   {
    "duration": 19,
    "start_time": "2022-02-08T05:25:38.214Z"
   },
   {
    "duration": 8,
    "start_time": "2022-02-08T05:25:38.235Z"
   },
   {
    "duration": 54,
    "start_time": "2022-02-08T05:25:38.245Z"
   },
   {
    "duration": 31,
    "start_time": "2022-02-08T05:25:38.301Z"
   },
   {
    "duration": 8,
    "start_time": "2022-02-08T05:25:38.333Z"
   },
   {
    "duration": 62,
    "start_time": "2022-02-08T05:25:38.343Z"
   },
   {
    "duration": 6,
    "start_time": "2022-02-08T05:25:38.407Z"
   },
   {
    "duration": 44,
    "start_time": "2022-02-08T05:25:38.415Z"
   },
   {
    "duration": 7,
    "start_time": "2022-02-08T05:25:38.461Z"
   },
   {
    "duration": 8,
    "start_time": "2022-02-08T05:25:38.499Z"
   },
   {
    "duration": 17,
    "start_time": "2022-02-08T05:25:38.509Z"
   },
   {
    "duration": 28,
    "start_time": "2022-02-08T05:25:38.528Z"
   },
   {
    "duration": 32,
    "start_time": "2022-02-08T05:25:38.557Z"
   },
   {
    "duration": 19,
    "start_time": "2022-02-08T05:25:38.591Z"
   },
   {
    "duration": 43,
    "start_time": "2022-02-08T05:25:38.612Z"
   },
   {
    "duration": 14,
    "start_time": "2022-02-08T05:25:38.657Z"
   },
   {
    "duration": 15,
    "start_time": "2022-02-08T05:25:38.672Z"
   },
   {
    "duration": 21,
    "start_time": "2022-02-08T05:25:38.689Z"
   },
   {
    "duration": 23,
    "start_time": "2022-02-08T05:25:38.712Z"
   },
   {
    "duration": 30,
    "start_time": "2022-02-08T05:25:38.737Z"
   },
   {
    "duration": 25,
    "start_time": "2022-02-08T05:25:38.769Z"
   },
   {
    "duration": 25,
    "start_time": "2022-02-08T05:25:38.795Z"
   },
   {
    "duration": 8,
    "start_time": "2022-02-08T05:25:38.822Z"
   },
   {
    "duration": 7,
    "start_time": "2022-02-08T05:25:38.832Z"
   },
   {
    "duration": 37,
    "start_time": "2022-02-08T05:25:38.840Z"
   },
   {
    "duration": 7,
    "start_time": "2022-02-08T05:25:38.879Z"
   },
   {
    "duration": 18,
    "start_time": "2022-02-08T05:25:38.888Z"
   },
   {
    "duration": 11,
    "start_time": "2022-02-08T05:25:38.908Z"
   },
   {
    "duration": 4,
    "start_time": "2022-02-08T05:25:38.920Z"
   },
   {
    "duration": 432,
    "start_time": "2022-02-08T05:25:38.926Z"
   },
   {
    "duration": 16,
    "start_time": "2022-02-08T05:25:39.359Z"
   },
   {
    "duration": 22,
    "start_time": "2022-02-08T05:25:39.377Z"
   },
   {
    "duration": 9,
    "start_time": "2022-02-08T05:25:39.401Z"
   },
   {
    "duration": 570,
    "start_time": "2022-02-08T05:25:39.415Z"
   },
   {
    "duration": 21,
    "start_time": "2022-02-08T05:25:39.987Z"
   },
   {
    "duration": 8,
    "start_time": "2022-02-08T05:25:40.010Z"
   },
   {
    "duration": 16,
    "start_time": "2022-02-08T05:25:40.020Z"
   },
   {
    "duration": 527,
    "start_time": "2022-02-08T05:25:40.038Z"
   },
   {
    "duration": 15,
    "start_time": "2022-02-08T05:25:40.567Z"
   },
   {
    "duration": 21,
    "start_time": "2022-02-08T05:25:40.584Z"
   },
   {
    "duration": 14,
    "start_time": "2022-02-08T05:25:40.607Z"
   },
   {
    "duration": 10,
    "start_time": "2022-02-08T05:25:40.622Z"
   },
   {
    "duration": 7,
    "start_time": "2022-02-08T05:25:40.634Z"
   },
   {
    "duration": 9,
    "start_time": "2022-02-08T05:25:40.643Z"
   },
   {
    "duration": 14,
    "start_time": "2022-02-08T05:25:40.654Z"
   },
   {
    "duration": 32,
    "start_time": "2022-02-08T05:25:40.669Z"
   },
   {
    "duration": 7,
    "start_time": "2022-02-08T05:25:40.703Z"
   },
   {
    "duration": 10,
    "start_time": "2022-02-08T05:25:40.711Z"
   },
   {
    "duration": 1675,
    "start_time": "2022-02-08T14:24:21.840Z"
   },
   {
    "duration": 417,
    "start_time": "2022-02-08T14:24:23.518Z"
   },
   {
    "duration": 422,
    "start_time": "2022-02-08T14:24:23.939Z"
   },
   {
    "duration": 198,
    "start_time": "2022-02-08T14:24:24.364Z"
   },
   {
    "duration": 29,
    "start_time": "2022-02-08T14:24:24.570Z"
   },
   {
    "duration": 68,
    "start_time": "2022-02-08T14:24:24.602Z"
   },
   {
    "duration": 10,
    "start_time": "2022-02-08T14:24:24.673Z"
   },
   {
    "duration": 11,
    "start_time": "2022-02-08T14:24:24.689Z"
   },
   {
    "duration": 24,
    "start_time": "2022-02-08T14:24:24.703Z"
   },
   {
    "duration": 104,
    "start_time": "2022-02-08T14:24:24.730Z"
   },
   {
    "duration": 64,
    "start_time": "2022-02-08T14:24:24.836Z"
   },
   {
    "duration": 41,
    "start_time": "2022-02-08T14:24:24.903Z"
   },
   {
    "duration": 15,
    "start_time": "2022-02-08T14:24:24.970Z"
   },
   {
    "duration": 16,
    "start_time": "2022-02-08T14:24:24.988Z"
   },
   {
    "duration": 18,
    "start_time": "2022-02-08T14:24:25.007Z"
   },
   {
    "duration": 47,
    "start_time": "2022-02-08T14:24:25.027Z"
   },
   {
    "duration": 7,
    "start_time": "2022-02-08T14:24:25.078Z"
   },
   {
    "duration": 25,
    "start_time": "2022-02-08T14:24:25.088Z"
   },
   {
    "duration": 14,
    "start_time": "2022-02-08T14:24:25.117Z"
   },
   {
    "duration": 878,
    "start_time": "2022-02-08T14:24:25.171Z"
   },
   {
    "duration": 39,
    "start_time": "2022-02-08T14:24:26.053Z"
   },
   {
    "duration": 749,
    "start_time": "2022-02-08T14:24:26.095Z"
   },
   {
    "duration": 355,
    "start_time": "2022-02-08T14:24:26.854Z"
   },
   {
    "duration": 10,
    "start_time": "2022-02-08T14:24:27.213Z"
   },
   {
    "duration": 44,
    "start_time": "2022-02-08T14:24:27.225Z"
   },
   {
    "duration": 7,
    "start_time": "2022-02-08T14:24:27.273Z"
   },
   {
    "duration": 10,
    "start_time": "2022-02-08T14:24:27.283Z"
   },
   {
    "duration": 173,
    "start_time": "2022-02-08T14:24:27.296Z"
   },
   {
    "duration": 37,
    "start_time": "2022-02-08T14:24:27.471Z"
   },
   {
    "duration": 60,
    "start_time": "2022-02-08T14:24:27.511Z"
   },
   {
    "duration": 33,
    "start_time": "2022-02-08T14:24:27.574Z"
   },
   {
    "duration": 74,
    "start_time": "2022-02-08T14:24:27.611Z"
   },
   {
    "duration": 37,
    "start_time": "2022-02-08T14:24:27.689Z"
   },
   {
    "duration": 47,
    "start_time": "2022-02-08T14:24:27.730Z"
   },
   {
    "duration": 45,
    "start_time": "2022-02-08T14:24:27.780Z"
   },
   {
    "duration": 40,
    "start_time": "2022-02-08T14:24:27.829Z"
   },
   {
    "duration": 38,
    "start_time": "2022-02-08T14:24:27.872Z"
   },
   {
    "duration": 80,
    "start_time": "2022-02-08T14:24:27.912Z"
   },
   {
    "duration": 14,
    "start_time": "2022-02-08T14:24:27.995Z"
   },
   {
    "duration": 82,
    "start_time": "2022-02-08T14:24:28.011Z"
   },
   {
    "duration": 10,
    "start_time": "2022-02-08T14:24:28.096Z"
   },
   {
    "duration": 94,
    "start_time": "2022-02-08T14:24:28.108Z"
   },
   {
    "duration": 9,
    "start_time": "2022-02-08T14:24:28.205Z"
   },
   {
    "duration": 22,
    "start_time": "2022-02-08T14:24:28.216Z"
   },
   {
    "duration": 39,
    "start_time": "2022-02-08T14:24:28.241Z"
   },
   {
    "duration": 20,
    "start_time": "2022-02-08T14:24:28.283Z"
   },
   {
    "duration": 24,
    "start_time": "2022-02-08T14:24:28.306Z"
   },
   {
    "duration": 64,
    "start_time": "2022-02-08T14:24:28.332Z"
   },
   {
    "duration": 24,
    "start_time": "2022-02-08T14:24:28.398Z"
   },
   {
    "duration": 8,
    "start_time": "2022-02-08T14:24:28.425Z"
   },
   {
    "duration": 37,
    "start_time": "2022-02-08T14:24:28.436Z"
   },
   {
    "duration": 17,
    "start_time": "2022-02-08T14:24:28.476Z"
   },
   {
    "duration": 34,
    "start_time": "2022-02-08T14:24:28.497Z"
   },
   {
    "duration": 47,
    "start_time": "2022-02-08T14:24:28.534Z"
   },
   {
    "duration": 26,
    "start_time": "2022-02-08T14:24:28.584Z"
   },
   {
    "duration": 56,
    "start_time": "2022-02-08T14:24:28.613Z"
   },
   {
    "duration": 4,
    "start_time": "2022-02-08T14:24:28.672Z"
   },
   {
    "duration": 28,
    "start_time": "2022-02-08T14:24:28.678Z"
   },
   {
    "duration": 59,
    "start_time": "2022-02-08T14:24:28.709Z"
   },
   {
    "duration": 11,
    "start_time": "2022-02-08T14:24:28.770Z"
   },
   {
    "duration": 23,
    "start_time": "2022-02-08T14:24:28.784Z"
   },
   {
    "duration": 23,
    "start_time": "2022-02-08T14:24:28.810Z"
   },
   {
    "duration": 15,
    "start_time": "2022-02-08T14:24:28.836Z"
   },
   {
    "duration": 637,
    "start_time": "2022-02-08T14:24:28.853Z"
   },
   {
    "duration": 31,
    "start_time": "2022-02-08T14:24:29.493Z"
   },
   {
    "duration": 42,
    "start_time": "2022-02-08T14:24:29.527Z"
   },
   {
    "duration": 23,
    "start_time": "2022-02-08T14:24:29.572Z"
   },
   {
    "duration": 870,
    "start_time": "2022-02-08T14:24:29.606Z"
   },
   {
    "duration": 22,
    "start_time": "2022-02-08T14:24:30.479Z"
   },
   {
    "duration": 20,
    "start_time": "2022-02-08T14:24:30.504Z"
   },
   {
    "duration": 32,
    "start_time": "2022-02-08T14:24:30.526Z"
   },
   {
    "duration": 767,
    "start_time": "2022-02-08T14:24:30.570Z"
   },
   {
    "duration": 36,
    "start_time": "2022-02-08T14:24:31.339Z"
   },
   {
    "duration": 14,
    "start_time": "2022-02-08T14:24:31.378Z"
   },
   {
    "duration": 21,
    "start_time": "2022-02-08T14:24:31.394Z"
   },
   {
    "duration": 16,
    "start_time": "2022-02-08T14:24:31.418Z"
   },
   {
    "duration": 38,
    "start_time": "2022-02-08T14:24:31.437Z"
   },
   {
    "duration": 24,
    "start_time": "2022-02-08T14:24:31.479Z"
   },
   {
    "duration": 33,
    "start_time": "2022-02-08T14:24:31.507Z"
   },
   {
    "duration": 9,
    "start_time": "2022-02-08T14:24:31.543Z"
   },
   {
    "duration": 8,
    "start_time": "2022-02-08T14:24:31.570Z"
   },
   {
    "duration": 12,
    "start_time": "2022-02-08T14:24:31.580Z"
   },
   {
    "duration": 55,
    "start_time": "2022-02-08T14:25:30.501Z"
   },
   {
    "duration": 19,
    "start_time": "2022-02-08T14:28:15.791Z"
   },
   {
    "duration": 1483,
    "start_time": "2022-02-08T15:47:15.332Z"
   },
   {
    "duration": 360,
    "start_time": "2022-02-08T15:47:16.817Z"
   },
   {
    "duration": 296,
    "start_time": "2022-02-08T15:47:17.180Z"
   },
   {
    "duration": 192,
    "start_time": "2022-02-08T15:47:17.479Z"
   },
   {
    "duration": 29,
    "start_time": "2022-02-08T15:47:17.673Z"
   },
   {
    "duration": 50,
    "start_time": "2022-02-08T15:47:17.705Z"
   },
   {
    "duration": 9,
    "start_time": "2022-02-08T15:47:17.758Z"
   },
   {
    "duration": 12,
    "start_time": "2022-02-08T15:47:17.772Z"
   },
   {
    "duration": 45,
    "start_time": "2022-02-08T15:47:17.788Z"
   },
   {
    "duration": 75,
    "start_time": "2022-02-08T15:47:17.836Z"
   },
   {
    "duration": 74,
    "start_time": "2022-02-08T15:47:17.931Z"
   },
   {
    "duration": 58,
    "start_time": "2022-02-08T15:47:18.008Z"
   },
   {
    "duration": 13,
    "start_time": "2022-02-08T15:47:18.069Z"
   },
   {
    "duration": 47,
    "start_time": "2022-02-08T15:47:18.085Z"
   },
   {
    "duration": 9,
    "start_time": "2022-02-08T15:47:18.135Z"
   },
   {
    "duration": 12,
    "start_time": "2022-02-08T15:47:18.147Z"
   },
   {
    "duration": 8,
    "start_time": "2022-02-08T15:47:18.162Z"
   },
   {
    "duration": 66,
    "start_time": "2022-02-08T15:47:18.172Z"
   },
   {
    "duration": 12,
    "start_time": "2022-02-08T15:47:18.240Z"
   },
   {
    "duration": 546,
    "start_time": "2022-02-08T15:47:18.254Z"
   },
   {
    "duration": 30,
    "start_time": "2022-02-08T15:47:18.802Z"
   },
   {
    "duration": 708,
    "start_time": "2022-02-08T15:47:18.835Z"
   },
   {
    "duration": 329,
    "start_time": "2022-02-08T15:47:19.548Z"
   },
   {
    "duration": 11,
    "start_time": "2022-02-08T15:47:19.880Z"
   },
   {
    "duration": 40,
    "start_time": "2022-02-08T15:47:19.894Z"
   },
   {
    "duration": 6,
    "start_time": "2022-02-08T15:47:19.937Z"
   },
   {
    "duration": 8,
    "start_time": "2022-02-08T15:47:19.946Z"
   },
   {
    "duration": 165,
    "start_time": "2022-02-08T15:47:19.957Z"
   },
   {
    "duration": 40,
    "start_time": "2022-02-08T15:47:20.125Z"
   },
   {
    "duration": 39,
    "start_time": "2022-02-08T15:47:20.168Z"
   },
   {
    "duration": 44,
    "start_time": "2022-02-08T15:47:20.210Z"
   },
   {
    "duration": 27,
    "start_time": "2022-02-08T15:47:20.257Z"
   },
   {
    "duration": 56,
    "start_time": "2022-02-08T15:47:20.286Z"
   },
   {
    "duration": 14,
    "start_time": "2022-02-08T15:47:20.344Z"
   },
   {
    "duration": 28,
    "start_time": "2022-02-08T15:47:20.361Z"
   },
   {
    "duration": 42,
    "start_time": "2022-02-08T15:47:20.391Z"
   },
   {
    "duration": 428,
    "start_time": "2022-02-08T15:47:23.184Z"
   },
   {
    "duration": 32,
    "start_time": "2022-02-08T15:47:40.528Z"
   },
   {
    "duration": 31,
    "start_time": "2022-02-08T15:48:16.907Z"
   },
   {
    "duration": 29,
    "start_time": "2022-02-08T15:49:11.708Z"
   },
   {
    "duration": 9,
    "start_time": "2022-02-08T15:49:49.921Z"
   },
   {
    "duration": 9,
    "start_time": "2022-02-08T15:50:07.848Z"
   },
   {
    "duration": 31,
    "start_time": "2022-02-08T15:51:40.876Z"
   },
   {
    "duration": 7,
    "start_time": "2022-02-08T15:52:10.706Z"
   },
   {
    "duration": 8,
    "start_time": "2022-02-08T15:52:34.927Z"
   },
   {
    "duration": 311,
    "start_time": "2022-02-08T15:55:38.141Z"
   },
   {
    "duration": 309,
    "start_time": "2022-02-08T15:56:08.763Z"
   },
   {
    "duration": 392,
    "start_time": "2022-02-08T15:56:41.570Z"
   },
   {
    "duration": 697,
    "start_time": "2022-02-08T15:56:59.480Z"
   },
   {
    "duration": 276,
    "start_time": "2022-02-08T15:57:06.866Z"
   },
   {
    "duration": 5,
    "start_time": "2022-02-08T15:57:15.922Z"
   },
   {
    "duration": 373,
    "start_time": "2022-02-08T15:57:15.933Z"
   },
   {
    "duration": 303,
    "start_time": "2022-02-08T15:57:16.308Z"
   },
   {
    "duration": 173,
    "start_time": "2022-02-08T15:57:16.614Z"
   },
   {
    "duration": 43,
    "start_time": "2022-02-08T15:57:16.790Z"
   },
   {
    "duration": 39,
    "start_time": "2022-02-08T15:57:16.836Z"
   },
   {
    "duration": 8,
    "start_time": "2022-02-08T15:57:16.878Z"
   },
   {
    "duration": 8,
    "start_time": "2022-02-08T15:57:16.888Z"
   },
   {
    "duration": 40,
    "start_time": "2022-02-08T15:57:16.900Z"
   },
   {
    "duration": 60,
    "start_time": "2022-02-08T15:57:16.943Z"
   },
   {
    "duration": 67,
    "start_time": "2022-02-08T15:57:17.006Z"
   },
   {
    "duration": 57,
    "start_time": "2022-02-08T15:57:17.076Z"
   },
   {
    "duration": 15,
    "start_time": "2022-02-08T15:57:17.136Z"
   },
   {
    "duration": 17,
    "start_time": "2022-02-08T15:57:17.153Z"
   },
   {
    "duration": 9,
    "start_time": "2022-02-08T15:57:17.172Z"
   },
   {
    "duration": 52,
    "start_time": "2022-02-08T15:57:17.184Z"
   },
   {
    "duration": 6,
    "start_time": "2022-02-08T15:57:17.238Z"
   },
   {
    "duration": 20,
    "start_time": "2022-02-08T15:57:17.246Z"
   },
   {
    "duration": 14,
    "start_time": "2022-02-08T15:57:17.268Z"
   },
   {
    "duration": 525,
    "start_time": "2022-02-08T15:57:17.285Z"
   },
   {
    "duration": 29,
    "start_time": "2022-02-08T15:57:17.812Z"
   },
   {
    "duration": 827,
    "start_time": "2022-02-08T15:57:17.844Z"
   },
   {
    "duration": 314,
    "start_time": "2022-02-08T15:57:18.673Z"
   },
   {
    "duration": 8,
    "start_time": "2022-02-08T15:57:18.991Z"
   },
   {
    "duration": 32,
    "start_time": "2022-02-08T15:57:19.002Z"
   },
   {
    "duration": 4,
    "start_time": "2022-02-08T15:57:19.036Z"
   },
   {
    "duration": 11,
    "start_time": "2022-02-08T15:57:19.042Z"
   },
   {
    "duration": 145,
    "start_time": "2022-02-08T15:57:19.055Z"
   },
   {
    "duration": 42,
    "start_time": "2022-02-08T15:57:19.203Z"
   },
   {
    "duration": 34,
    "start_time": "2022-02-08T15:57:19.248Z"
   },
   {
    "duration": 47,
    "start_time": "2022-02-08T15:57:19.285Z"
   },
   {
    "duration": 27,
    "start_time": "2022-02-08T15:57:19.335Z"
   },
   {
    "duration": 25,
    "start_time": "2022-02-08T15:57:19.364Z"
   },
   {
    "duration": 42,
    "start_time": "2022-02-08T15:57:19.391Z"
   },
   {
    "duration": 26,
    "start_time": "2022-02-08T15:57:19.436Z"
   },
   {
    "duration": 12,
    "start_time": "2022-02-08T15:57:19.464Z"
   },
   {
    "duration": 59,
    "start_time": "2022-02-08T15:57:19.478Z"
   },
   {
    "duration": 25,
    "start_time": "2022-02-08T15:57:19.539Z"
   },
   {
    "duration": 28,
    "start_time": "2022-02-08T15:57:19.566Z"
   },
   {
    "duration": 307,
    "start_time": "2022-02-08T15:57:26.735Z"
   },
   {
    "duration": 12,
    "start_time": "2022-02-08T15:57:59.573Z"
   },
   {
    "duration": 19,
    "start_time": "2022-02-08T15:58:00.948Z"
   },
   {
    "duration": 45,
    "start_time": "2022-02-08T15:58:14.515Z"
   },
   {
    "duration": 47,
    "start_time": "2022-02-08T15:58:29.164Z"
   },
   {
    "duration": 50,
    "start_time": "2022-02-08T15:59:02.067Z"
   },
   {
    "duration": 10,
    "start_time": "2022-02-08T16:01:34.359Z"
   },
   {
    "duration": 12,
    "start_time": "2022-02-08T16:01:46.191Z"
   },
   {
    "duration": 17,
    "start_time": "2022-02-08T16:02:32.997Z"
   },
   {
    "duration": 17,
    "start_time": "2022-02-08T16:04:34.790Z"
   },
   {
    "duration": 38,
    "start_time": "2022-02-08T16:05:04.580Z"
   },
   {
    "duration": 45,
    "start_time": "2022-02-08T16:05:58.306Z"
   },
   {
    "duration": 10,
    "start_time": "2022-02-08T16:07:23.957Z"
   },
   {
    "duration": 5,
    "start_time": "2022-02-08T16:07:32.157Z"
   },
   {
    "duration": 338,
    "start_time": "2022-02-08T16:07:32.176Z"
   },
   {
    "duration": 301,
    "start_time": "2022-02-08T16:07:32.516Z"
   },
   {
    "duration": 184,
    "start_time": "2022-02-08T16:07:32.820Z"
   },
   {
    "duration": 38,
    "start_time": "2022-02-08T16:07:33.007Z"
   },
   {
    "duration": 49,
    "start_time": "2022-02-08T16:07:33.048Z"
   },
   {
    "duration": 7,
    "start_time": "2022-02-08T16:07:33.099Z"
   },
   {
    "duration": 30,
    "start_time": "2022-02-08T16:07:33.109Z"
   },
   {
    "duration": 19,
    "start_time": "2022-02-08T16:07:33.142Z"
   },
   {
    "duration": 85,
    "start_time": "2022-02-08T16:07:33.167Z"
   },
   {
    "duration": 48,
    "start_time": "2022-02-08T16:07:33.256Z"
   },
   {
    "duration": 46,
    "start_time": "2022-02-08T16:07:33.333Z"
   },
   {
    "duration": 15,
    "start_time": "2022-02-08T16:07:33.382Z"
   },
   {
    "duration": 43,
    "start_time": "2022-02-08T16:07:33.400Z"
   },
   {
    "duration": 8,
    "start_time": "2022-02-08T16:07:33.446Z"
   },
   {
    "duration": 13,
    "start_time": "2022-02-08T16:07:33.457Z"
   },
   {
    "duration": 5,
    "start_time": "2022-02-08T16:07:33.472Z"
   },
   {
    "duration": 64,
    "start_time": "2022-02-08T16:07:33.480Z"
   },
   {
    "duration": 11,
    "start_time": "2022-02-08T16:07:33.547Z"
   },
   {
    "duration": 536,
    "start_time": "2022-02-08T16:07:33.560Z"
   },
   {
    "duration": 17,
    "start_time": "2022-02-08T16:07:34.098Z"
   },
   {
    "duration": 736,
    "start_time": "2022-02-08T16:07:34.133Z"
   },
   {
    "duration": 334,
    "start_time": "2022-02-08T16:07:34.873Z"
   },
   {
    "duration": 24,
    "start_time": "2022-02-08T16:07:35.210Z"
   },
   {
    "duration": 14,
    "start_time": "2022-02-08T16:07:35.236Z"
   },
   {
    "duration": 10,
    "start_time": "2022-02-08T16:07:35.252Z"
   },
   {
    "duration": 9,
    "start_time": "2022-02-08T16:07:35.264Z"
   },
   {
    "duration": 171,
    "start_time": "2022-02-08T16:07:35.278Z"
   },
   {
    "duration": 34,
    "start_time": "2022-02-08T16:07:35.452Z"
   },
   {
    "duration": 59,
    "start_time": "2022-02-08T16:07:35.488Z"
   },
   {
    "duration": 23,
    "start_time": "2022-02-08T16:07:35.549Z"
   },
   {
    "duration": 27,
    "start_time": "2022-02-08T16:07:35.574Z"
   },
   {
    "duration": 50,
    "start_time": "2022-02-08T16:07:35.604Z"
   },
   {
    "duration": 13,
    "start_time": "2022-02-08T16:07:35.657Z"
   },
   {
    "duration": 27,
    "start_time": "2022-02-08T16:07:35.673Z"
   },
   {
    "duration": 14,
    "start_time": "2022-02-08T16:07:35.732Z"
   },
   {
    "duration": 34,
    "start_time": "2022-02-08T16:07:35.748Z"
   },
   {
    "duration": 56,
    "start_time": "2022-02-08T16:07:35.784Z"
   },
   {
    "duration": 32,
    "start_time": "2022-02-08T16:07:35.842Z"
   },
   {
    "duration": 18,
    "start_time": "2022-02-08T16:07:35.876Z"
   },
   {
    "duration": 13,
    "start_time": "2022-02-08T16:07:35.932Z"
   },
   {
    "duration": 51,
    "start_time": "2022-02-08T16:07:35.947Z"
   },
   {
    "duration": 35,
    "start_time": "2022-02-08T16:07:36.001Z"
   },
   {
    "duration": 13,
    "start_time": "2022-02-08T16:07:41.995Z"
   },
   {
    "duration": 16,
    "start_time": "2022-02-08T16:07:46.938Z"
   },
   {
    "duration": 37,
    "start_time": "2022-02-08T16:08:59.363Z"
   },
   {
    "duration": 39,
    "start_time": "2022-02-08T16:09:23.486Z"
   },
   {
    "duration": 98,
    "start_time": "2022-02-08T16:10:47.082Z"
   },
   {
    "duration": 43,
    "start_time": "2022-02-08T16:12:31.917Z"
   },
   {
    "duration": 63,
    "start_time": "2022-02-08T16:14:33.340Z"
   },
   {
    "duration": 12,
    "start_time": "2022-02-08T16:17:02.732Z"
   },
   {
    "duration": 6,
    "start_time": "2022-02-08T16:17:07.803Z"
   },
   {
    "duration": 11,
    "start_time": "2022-02-08T16:17:10.667Z"
   },
   {
    "duration": 12,
    "start_time": "2022-02-08T16:17:15.562Z"
   },
   {
    "duration": 22,
    "start_time": "2022-02-08T16:17:19.731Z"
   },
   {
    "duration": 25,
    "start_time": "2022-02-08T16:17:24.331Z"
   },
   {
    "duration": 20,
    "start_time": "2022-02-08T16:17:26.723Z"
   },
   {
    "duration": 36,
    "start_time": "2022-02-08T16:17:30.217Z"
   },
   {
    "duration": 6,
    "start_time": "2022-02-08T16:17:33.524Z"
   },
   {
    "duration": 7,
    "start_time": "2022-02-08T16:17:35.945Z"
   },
   {
    "duration": 50,
    "start_time": "2022-02-08T16:17:39.361Z"
   },
   {
    "duration": 11,
    "start_time": "2022-02-08T16:17:44.808Z"
   },
   {
    "duration": 12,
    "start_time": "2022-02-08T16:17:46.151Z"
   },
   {
    "duration": 13,
    "start_time": "2022-02-08T16:17:47.423Z"
   },
   {
    "duration": 5,
    "start_time": "2022-02-08T16:17:56.719Z"
   },
   {
    "duration": 575,
    "start_time": "2022-02-08T16:17:58.359Z"
   },
   {
    "duration": 22,
    "start_time": "2022-02-08T16:18:03.814Z"
   },
   {
    "duration": 16,
    "start_time": "2022-02-08T16:18:26.270Z"
   },
   {
    "duration": 15,
    "start_time": "2022-02-08T16:18:27.486Z"
   },
   {
    "duration": 776,
    "start_time": "2022-02-08T16:18:28.909Z"
   },
   {
    "duration": 20,
    "start_time": "2022-02-08T16:18:33.550Z"
   },
   {
    "duration": 12,
    "start_time": "2022-02-08T16:19:12.579Z"
   },
   {
    "duration": 13,
    "start_time": "2022-02-08T16:19:13.802Z"
   },
   {
    "duration": 616,
    "start_time": "2022-02-08T16:19:15.546Z"
   },
   {
    "duration": 29,
    "start_time": "2022-02-08T16:19:19.730Z"
   },
   {
    "duration": 2039,
    "start_time": "2022-02-08T16:21:53.059Z"
   },
   {
    "duration": 519,
    "start_time": "2022-02-08T16:21:55.101Z"
   },
   {
    "duration": 422,
    "start_time": "2022-02-08T16:21:55.624Z"
   },
   {
    "duration": 208,
    "start_time": "2022-02-08T16:21:56.050Z"
   },
   {
    "duration": 34,
    "start_time": "2022-02-08T16:21:56.260Z"
   },
   {
    "duration": 58,
    "start_time": "2022-02-08T16:21:56.298Z"
   },
   {
    "duration": 9,
    "start_time": "2022-02-08T16:21:56.359Z"
   },
   {
    "duration": 12,
    "start_time": "2022-02-08T16:21:56.374Z"
   },
   {
    "duration": 48,
    "start_time": "2022-02-08T16:21:56.390Z"
   },
   {
    "duration": 60,
    "start_time": "2022-02-08T16:21:56.441Z"
   },
   {
    "duration": 93,
    "start_time": "2022-02-08T16:21:56.504Z"
   },
   {
    "duration": 74,
    "start_time": "2022-02-08T16:21:56.600Z"
   },
   {
    "duration": 19,
    "start_time": "2022-02-08T16:21:56.677Z"
   },
   {
    "duration": 52,
    "start_time": "2022-02-08T16:21:56.700Z"
   },
   {
    "duration": 19,
    "start_time": "2022-02-08T16:21:56.755Z"
   },
   {
    "duration": 19,
    "start_time": "2022-02-08T16:21:56.778Z"
   },
   {
    "duration": 37,
    "start_time": "2022-02-08T16:21:56.800Z"
   },
   {
    "duration": 29,
    "start_time": "2022-02-08T16:21:56.841Z"
   },
   {
    "duration": 10,
    "start_time": "2022-02-08T16:21:56.872Z"
   },
   {
    "duration": 621,
    "start_time": "2022-02-08T16:21:56.885Z"
   },
   {
    "duration": 33,
    "start_time": "2022-02-08T16:21:57.508Z"
   },
   {
    "duration": 788,
    "start_time": "2022-02-08T16:21:57.544Z"
   },
   {
    "duration": 331,
    "start_time": "2022-02-08T16:21:58.340Z"
   },
   {
    "duration": 11,
    "start_time": "2022-02-08T16:21:58.676Z"
   },
   {
    "duration": 17,
    "start_time": "2022-02-08T16:21:58.690Z"
   },
   {
    "duration": 6,
    "start_time": "2022-02-08T16:21:58.733Z"
   },
   {
    "duration": 13,
    "start_time": "2022-02-08T16:21:58.742Z"
   },
   {
    "duration": 276,
    "start_time": "2022-02-08T16:21:58.758Z"
   },
   {
    "duration": 42,
    "start_time": "2022-02-08T16:21:59.037Z"
   },
   {
    "duration": 67,
    "start_time": "2022-02-08T16:21:59.081Z"
   },
   {
    "duration": 29,
    "start_time": "2022-02-08T16:21:59.151Z"
   },
   {
    "duration": 62,
    "start_time": "2022-02-08T16:21:59.183Z"
   },
   {
    "duration": 28,
    "start_time": "2022-02-08T16:21:59.247Z"
   },
   {
    "duration": 15,
    "start_time": "2022-02-08T16:21:59.277Z"
   },
   {
    "duration": 62,
    "start_time": "2022-02-08T16:21:59.294Z"
   },
   {
    "duration": 12,
    "start_time": "2022-02-08T16:21:59.358Z"
   },
   {
    "duration": 68,
    "start_time": "2022-02-08T16:21:59.372Z"
   },
   {
    "duration": 28,
    "start_time": "2022-02-08T16:21:59.443Z"
   },
   {
    "duration": 68,
    "start_time": "2022-02-08T16:21:59.473Z"
   },
   {
    "duration": 50,
    "start_time": "2022-02-08T16:21:59.543Z"
   },
   {
    "duration": 38,
    "start_time": "2022-02-08T16:21:59.595Z"
   },
   {
    "duration": 16,
    "start_time": "2022-02-08T16:21:59.636Z"
   },
   {
    "duration": 18,
    "start_time": "2022-02-08T16:21:59.654Z"
   },
   {
    "duration": 114,
    "start_time": "2022-02-08T16:21:59.675Z"
   },
   {
    "duration": 15,
    "start_time": "2022-02-08T16:21:59.792Z"
   },
   {
    "duration": 6,
    "start_time": "2022-02-08T16:21:59.833Z"
   },
   {
    "duration": 19,
    "start_time": "2022-02-08T16:21:59.841Z"
   },
   {
    "duration": 13,
    "start_time": "2022-02-08T16:21:59.862Z"
   },
   {
    "duration": 18,
    "start_time": "2022-02-08T16:21:59.877Z"
   },
   {
    "duration": 20,
    "start_time": "2022-02-08T16:21:59.933Z"
   },
   {
    "duration": 15,
    "start_time": "2022-02-08T16:21:59.957Z"
   },
   {
    "duration": 64,
    "start_time": "2022-02-08T16:21:59.974Z"
   },
   {
    "duration": 5,
    "start_time": "2022-02-08T16:22:00.041Z"
   },
   {
    "duration": 16,
    "start_time": "2022-02-08T16:22:00.048Z"
   },
   {
    "duration": 70,
    "start_time": "2022-02-08T16:22:00.067Z"
   },
   {
    "duration": 12,
    "start_time": "2022-02-08T16:22:00.140Z"
   },
   {
    "duration": 21,
    "start_time": "2022-02-08T16:22:00.155Z"
   },
   {
    "duration": 23,
    "start_time": "2022-02-08T16:22:00.179Z"
   },
   {
    "duration": 28,
    "start_time": "2022-02-08T16:22:00.204Z"
   },
   {
    "duration": 618,
    "start_time": "2022-02-08T16:22:00.235Z"
   },
   {
    "duration": 21,
    "start_time": "2022-02-08T16:22:00.855Z"
   },
   {
    "duration": 19,
    "start_time": "2022-02-08T16:22:00.880Z"
   },
   {
    "duration": 13,
    "start_time": "2022-02-08T16:22:00.933Z"
   },
   {
    "duration": 1170,
    "start_time": "2022-02-08T16:22:00.950Z"
   },
   {
    "duration": 30,
    "start_time": "2022-02-08T16:22:02.132Z"
   },
   {
    "duration": 16,
    "start_time": "2022-02-08T16:22:02.166Z"
   },
   {
    "duration": 116,
    "start_time": "2022-02-08T16:22:02.185Z"
   },
   {
    "duration": 876,
    "start_time": "2022-02-08T16:22:02.308Z"
   },
   {
    "duration": 19,
    "start_time": "2022-02-08T16:22:03.187Z"
   },
   {
    "duration": 29,
    "start_time": "2022-02-08T16:22:03.209Z"
   },
   {
    "duration": 11,
    "start_time": "2022-02-08T16:22:03.240Z"
   },
   {
    "duration": 15,
    "start_time": "2022-02-08T16:22:03.254Z"
   },
   {
    "duration": 13,
    "start_time": "2022-02-08T16:22:03.272Z"
   },
   {
    "duration": 8,
    "start_time": "2022-02-08T16:22:03.287Z"
   },
   {
    "duration": 42,
    "start_time": "2022-02-08T16:22:03.298Z"
   },
   {
    "duration": 11,
    "start_time": "2022-02-08T16:22:03.343Z"
   },
   {
    "duration": 10,
    "start_time": "2022-02-08T16:22:03.356Z"
   },
   {
    "duration": 19,
    "start_time": "2022-02-08T16:22:03.368Z"
   },
   {
    "duration": 5,
    "start_time": "2022-02-08T16:40:13.008Z"
   },
   {
    "duration": 98,
    "start_time": "2022-02-08T16:41:17.826Z"
   },
   {
    "duration": 1531,
    "start_time": "2022-02-08T16:42:19.317Z"
   },
   {
    "duration": 348,
    "start_time": "2022-02-08T16:42:20.850Z"
   },
   {
    "duration": 276,
    "start_time": "2022-02-08T16:42:21.201Z"
   },
   {
    "duration": 182,
    "start_time": "2022-02-08T16:42:21.480Z"
   },
   {
    "duration": 24,
    "start_time": "2022-02-08T16:42:21.664Z"
   },
   {
    "duration": 45,
    "start_time": "2022-02-08T16:42:21.691Z"
   },
   {
    "duration": 8,
    "start_time": "2022-02-08T16:42:21.738Z"
   },
   {
    "duration": 6,
    "start_time": "2022-02-08T16:42:21.750Z"
   },
   {
    "duration": 14,
    "start_time": "2022-02-08T16:42:21.759Z"
   },
   {
    "duration": 91,
    "start_time": "2022-02-08T16:42:21.775Z"
   },
   {
    "duration": 46,
    "start_time": "2022-02-08T16:42:21.868Z"
   },
   {
    "duration": 40,
    "start_time": "2022-02-08T16:42:21.933Z"
   },
   {
    "duration": 15,
    "start_time": "2022-02-08T16:42:21.976Z"
   },
   {
    "duration": 51,
    "start_time": "2022-02-08T16:42:21.994Z"
   },
   {
    "duration": 12,
    "start_time": "2022-02-08T16:42:22.048Z"
   },
   {
    "duration": 20,
    "start_time": "2022-02-08T16:42:22.063Z"
   },
   {
    "duration": 8,
    "start_time": "2022-02-08T16:42:22.086Z"
   },
   {
    "duration": 59,
    "start_time": "2022-02-08T16:42:22.096Z"
   },
   {
    "duration": 9,
    "start_time": "2022-02-08T16:42:22.157Z"
   },
   {
    "duration": 526,
    "start_time": "2022-02-08T16:42:22.168Z"
   },
   {
    "duration": 17,
    "start_time": "2022-02-08T16:42:22.696Z"
   },
   {
    "duration": 674,
    "start_time": "2022-02-08T16:42:22.731Z"
   },
   {
    "duration": 318,
    "start_time": "2022-02-08T16:42:23.411Z"
   },
   {
    "duration": 10,
    "start_time": "2022-02-08T16:42:23.734Z"
   },
   {
    "duration": 13,
    "start_time": "2022-02-08T16:42:23.746Z"
   },
   {
    "duration": 7,
    "start_time": "2022-02-08T16:42:23.761Z"
   },
   {
    "duration": 8,
    "start_time": "2022-02-08T16:42:23.770Z"
   },
   {
    "duration": 170,
    "start_time": "2022-02-08T16:42:23.781Z"
   },
   {
    "duration": 32,
    "start_time": "2022-02-08T16:42:23.953Z"
   },
   {
    "duration": 63,
    "start_time": "2022-02-08T16:42:23.988Z"
   },
   {
    "duration": 23,
    "start_time": "2022-02-08T16:42:24.054Z"
   },
   {
    "duration": 53,
    "start_time": "2022-02-08T16:42:24.080Z"
   },
   {
    "duration": 29,
    "start_time": "2022-02-08T16:42:24.136Z"
   },
   {
    "duration": 15,
    "start_time": "2022-02-08T16:42:24.168Z"
   },
   {
    "duration": 60,
    "start_time": "2022-02-08T16:42:24.185Z"
   },
   {
    "duration": 13,
    "start_time": "2022-02-08T16:42:24.247Z"
   },
   {
    "duration": 41,
    "start_time": "2022-02-08T16:42:24.262Z"
   },
   {
    "duration": 50,
    "start_time": "2022-02-08T16:42:24.306Z"
   },
   {
    "duration": 34,
    "start_time": "2022-02-08T16:42:24.359Z"
   },
   {
    "duration": 84,
    "start_time": "2022-02-08T16:42:24.395Z"
   },
   {
    "duration": 11,
    "start_time": "2022-02-08T16:42:24.482Z"
   },
   {
    "duration": 42,
    "start_time": "2022-02-08T16:42:24.495Z"
   },
   {
    "duration": 14,
    "start_time": "2022-02-08T16:42:24.539Z"
   },
   {
    "duration": 88,
    "start_time": "2022-02-08T16:42:24.555Z"
   },
   {
    "duration": 14,
    "start_time": "2022-02-08T16:42:24.646Z"
   },
   {
    "duration": 5,
    "start_time": "2022-02-08T16:42:24.663Z"
   },
   {
    "duration": 17,
    "start_time": "2022-02-08T16:42:24.670Z"
   },
   {
    "duration": 45,
    "start_time": "2022-02-08T16:42:24.689Z"
   },
   {
    "duration": 35,
    "start_time": "2022-02-08T16:42:24.737Z"
   },
   {
    "duration": 16,
    "start_time": "2022-02-08T16:42:24.775Z"
   },
   {
    "duration": 16,
    "start_time": "2022-02-08T16:42:24.794Z"
   },
   {
    "duration": 36,
    "start_time": "2022-02-08T16:42:24.841Z"
   },
   {
    "duration": 9,
    "start_time": "2022-02-08T16:42:24.880Z"
   },
   {
    "duration": 9,
    "start_time": "2022-02-08T16:42:24.892Z"
   },
   {
    "duration": 86,
    "start_time": "2022-02-08T16:42:24.904Z"
   },
   {
    "duration": 10,
    "start_time": "2022-02-08T16:42:24.992Z"
   },
   {
    "duration": 33,
    "start_time": "2022-02-08T16:42:25.004Z"
   },
   {
    "duration": 27,
    "start_time": "2022-02-08T16:42:25.039Z"
   },
   {
    "duration": 7,
    "start_time": "2022-02-08T16:42:25.069Z"
   },
   {
    "duration": 588,
    "start_time": "2022-02-08T16:42:25.078Z"
   },
   {
    "duration": 20,
    "start_time": "2022-02-08T16:42:25.669Z"
   },
   {
    "duration": 11,
    "start_time": "2022-02-08T16:42:25.691Z"
   },
   {
    "duration": 12,
    "start_time": "2022-02-08T16:42:25.733Z"
   },
   {
    "duration": 794,
    "start_time": "2022-02-08T16:42:25.747Z"
   },
   {
    "duration": 20,
    "start_time": "2022-02-08T16:42:26.543Z"
   },
   {
    "duration": 10,
    "start_time": "2022-02-08T16:42:26.565Z"
   },
   {
    "duration": 109,
    "start_time": "2022-02-08T16:42:26.578Z"
   },
   {
    "duration": 611,
    "start_time": "2022-02-08T16:42:26.694Z"
   },
   {
    "duration": 28,
    "start_time": "2022-02-08T16:42:27.308Z"
   },
   {
    "duration": 10,
    "start_time": "2022-02-08T16:42:27.338Z"
   },
   {
    "duration": 12,
    "start_time": "2022-02-08T16:42:27.350Z"
   },
   {
    "duration": 11,
    "start_time": "2022-02-08T16:42:27.365Z"
   },
   {
    "duration": 7,
    "start_time": "2022-02-08T16:42:27.379Z"
   },
   {
    "duration": 50,
    "start_time": "2022-02-08T16:42:27.388Z"
   },
   {
    "duration": 14,
    "start_time": "2022-02-08T16:42:27.440Z"
   },
   {
    "duration": 11,
    "start_time": "2022-02-08T16:42:27.457Z"
   },
   {
    "duration": 8,
    "start_time": "2022-02-08T16:42:27.471Z"
   },
   {
    "duration": 56,
    "start_time": "2022-02-08T16:42:27.482Z"
   }
  ],
  "kernelspec": {
   "display_name": "Python 3 (ipykernel)",
   "language": "python",
   "name": "python3"
  },
  "language_info": {
   "codemirror_mode": {
    "name": "ipython",
    "version": 3
   },
   "file_extension": ".py",
   "mimetype": "text/x-python",
   "name": "python",
   "nbconvert_exporter": "python",
   "pygments_lexer": "ipython3",
   "version": "3.10.5"
  },
  "toc": {
   "base_numbering": 1,
   "nav_menu": {
    "height": "475px",
    "width": "236px"
   },
   "number_sections": false,
   "sideBar": true,
   "skip_h1_title": false,
   "title_cell": "Оглавление",
   "title_sidebar": "Contents",
   "toc_cell": true,
   "toc_position": {
    "height": "calc(100% - 180px)",
    "left": "10px",
    "top": "150px",
    "width": "285px"
   },
   "toc_section_display": true,
   "toc_window_display": true
  },
  "varInspector": {
   "cols": {
    "lenName": 16,
    "lenType": 16,
    "lenVar": 40
   },
   "kernels_config": {
    "python": {
     "delete_cmd_postfix": "",
     "delete_cmd_prefix": "del ",
     "library": "var_list.py",
     "varRefreshCmd": "print(var_dic_list())"
    },
    "r": {
     "delete_cmd_postfix": ") ",
     "delete_cmd_prefix": "rm(",
     "library": "var_list.r",
     "varRefreshCmd": "cat(var_dic_list()) "
    }
   },
   "types_to_exclude": [
    "module",
    "function",
    "builtin_function_or_method",
    "instance",
    "_Feature"
   ],
   "window_display": false
  },
  "widgets": {
   "application/vnd.jupyter.widget-state+json": {
    "state": {},
    "version_major": 2,
    "version_minor": 0
   }
  }
 },
 "nbformat": 4,
 "nbformat_minor": 2
}
