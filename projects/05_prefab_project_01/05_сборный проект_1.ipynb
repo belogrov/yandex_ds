{
 "cells": [
  {
   "cell_type": "markdown",
   "metadata": {},
   "source": [
    "# Общая информация\n",
    "Вы работаете в интернет-магазине «Стримчик», который продаёт по всему миру компьютерные игры. Из открытых источников доступны исторические данные о продажах игр, оценки пользователей и экспертов, жанры и платформы (например, Xbox или PlayStation).  \n",
    "Вам нужно выявить определяющие успешность игры закономерности. Это позволит сделать ставку на потенциально популярный продукт и спланировать рекламные кампании.  \n",
    "Перед вами данные до 2016 года. Представим, что сейчас декабрь 2016 г., и вы планируете кампанию на 2017-й. Нужно отработать принцип работы с данными. Неважно, прогнозируете ли вы продажи на 2017 год по данным 2016-го или же 2027-й — по данным 2026 года.  \n",
    "В наборе данных попадается аббревиатура ESRB (Entertainment Software Rating Board) — это ассоциация, определяющая возрастной рейтинг компьютерных игр. ESRB оценивает игровой контент и присваивает ему подходящую возрастную категорию, например, «Для взрослых», «Для детей младшего возраста» или «Для подростков».\n",
    "\n",
    "**Шаг 1.** Откройте файл с данными и изучите общую информацию\n",
    "Путь к файлу: /datasets/games.csv.  \n",
    "\n",
    "**Шаг 2.** Подготовьте данные\n",
    "- Замените названия столбцов (приведите к нижнему регистру);\n",
    "- Преобразуйте данные в нужные типы. Опишите, в каких столбцах заменили тип данных и почему;\n",
    "- Обработайте пропуски при необходимости:\n",
    "- Объясните, почему заполнили пропуски определённым образом или почему не стали это делать;\n",
    "- Опишите причины, которые могли привести к пропускам;\n",
    "- Обратите внимание на аббревиатуру 'tbd' в столбцах с рейтингом. Отдельно разберите это значение и опишите, как его обработать;\n",
    "- Посчитайте суммарные продажи во всех регионах и запишите их в отдельный столбец.  \n",
    "\n",
    "**Шаг 3.** Проведите исследовательский анализ данных\n",
    "- Посмотрите, сколько игр выпускалось в разные годы. Важны ли данные за все периоды?\n",
    "- Посмотрите, как менялись продажи по платформам. Выберите платформы с наибольшими суммарными продажами и постройте распределение по годам. За какой характерный срок появляются новые и исчезают старые платформы?\n",
    "- Возьмите данные за соответствующий актуальный период. Актуальный период определите самостоятельно в результате исследования предыдущих вопросов. Основной фактор — эти данные помогут построить прогноз на 2017 год.\n",
    "- Не учитывайте в работе данные за предыдущие годы.\n",
    "- Какие платформы лидируют по продажам, растут или падают? Выберите несколько потенциально прибыльных платформ.\n",
    "- Постройте график «ящик с усами» по глобальным продажам игр в разбивке по платформам. Опишите результат.\n",
    "- Посмотрите, как влияют на продажи внутри одной популярной платформы отзывы пользователей и критиков. Постройте диаграмму рассеяния и посчитайте корреляцию между отзывами и продажами. Сформулируйте выводы.\n",
    "- Соотнесите выводы с продажами игр на других платформах.\n",
    "- Посмотрите на общее распределение игр по жанрам. Что можно сказать о самых прибыльных жанрах? Выделяются ли жанры с высокими и низкими продажами?  \n",
    "\n",
    "**Шаг 4.** Составьте портрет пользователя каждого региона\n",
    "Определите для пользователя каждого региона (NA, EU, JP):\n",
    "- Самые популярные платформы (топ-5). Опишите различия в долях продаж.\n",
    "- Самые популярные жанры (топ-5). Поясните разницу.\n",
    "- Влияет ли рейтинг ESRB на продажи в отдельном регионе?  \n",
    "\n",
    "**Шаг 5.** Проверьте гипотезы\n",
    "- Средние пользовательские рейтинги платформ Xbox One и PC одинаковые;\n",
    "- Средние пользовательские рейтинги жанров Action (англ. «действие», экшен-игры) и Sports (англ. «спортивные соревнования») разные.\n",
    "Задайте самостоятельно пороговое значение alpha.  \n",
    "\n",
    "Поясните:\n",
    "- Как вы сформулировали нулевую и альтернативную гипотезы;\n",
    "- Какой критерий применили для проверки гипотез и почему.  \n",
    "\n",
    "**Шаг 6.** Напишите общий вывод"
   ]
  },
  {
   "cell_type": "markdown",
   "metadata": {},
   "source": [
    "# Описание данных\n",
    "- Name — название игры\n",
    "- Platform — платформа\n",
    "- Year_of_Release — год выпуска\n",
    "- Genre — жанр игры\n",
    "- NA_sales — продажи в Северной Америке (миллионы проданных копий)\n",
    "- EU_sales — продажи в Европе (миллионы проданных копий)\n",
    "- JP_sales — продажи в Японии (миллионы проданных копий)\n",
    "- Other_sales — продажи в других странах (миллионы проданных копий)\n",
    "- Critic_Score — оценка критиков (максимум 100)\n",
    "- User_Score — оценка пользователей (максимум 10)\n",
    "- Rating — рейтинг от организации ESRB (англ. Entertainment Software Rating Board). Эта ассоциация определяет рейтинг компьютерных игр и присваивает им подходящую возрастную категорию.  \n",
    "\n",
    "Данные за 2016 год могут быть неполными"
   ]
  },
  {
   "cell_type": "markdown",
   "metadata": {},
   "source": [
    "## Изучение данных"
   ]
  },
  {
   "cell_type": "code",
   "execution_count": 1,
   "metadata": {},
   "outputs": [],
   "source": [
    "import pandas as pd\n",
    "import numpy as np\n",
    "\n",
    "import matplotlib.pyplot as plt\n",
    "import seaborn as sns\n",
    "\n",
    "from scipy import stats as st"
   ]
  },
  {
   "cell_type": "markdown",
   "metadata": {},
   "source": [
    "Данные представлены в виде датасета games.csv. Откроем его, выведем 5 строк, просмотрим информацию с помощью метода .info()"
   ]
  },
  {
   "cell_type": "code",
   "execution_count": 2,
   "metadata": {},
   "outputs": [
    {
     "data": {
      "text/html": [
       "<div>\n",
       "<style scoped>\n",
       "    .dataframe tbody tr th:only-of-type {\n",
       "        vertical-align: middle;\n",
       "    }\n",
       "\n",
       "    .dataframe tbody tr th {\n",
       "        vertical-align: top;\n",
       "    }\n",
       "\n",
       "    .dataframe thead th {\n",
       "        text-align: right;\n",
       "    }\n",
       "</style>\n",
       "<table border=\"1\" class=\"dataframe\">\n",
       "  <thead>\n",
       "    <tr style=\"text-align: right;\">\n",
       "      <th></th>\n",
       "      <th>Name</th>\n",
       "      <th>Platform</th>\n",
       "      <th>Year_of_Release</th>\n",
       "      <th>Genre</th>\n",
       "      <th>NA_sales</th>\n",
       "      <th>EU_sales</th>\n",
       "      <th>JP_sales</th>\n",
       "      <th>Other_sales</th>\n",
       "      <th>Critic_Score</th>\n",
       "      <th>User_Score</th>\n",
       "      <th>Rating</th>\n",
       "    </tr>\n",
       "  </thead>\n",
       "  <tbody>\n",
       "    <tr>\n",
       "      <th>0</th>\n",
       "      <td>Wii Sports</td>\n",
       "      <td>Wii</td>\n",
       "      <td>2006.0</td>\n",
       "      <td>Sports</td>\n",
       "      <td>41.36</td>\n",
       "      <td>28.96</td>\n",
       "      <td>3.77</td>\n",
       "      <td>8.45</td>\n",
       "      <td>76.0</td>\n",
       "      <td>8</td>\n",
       "      <td>E</td>\n",
       "    </tr>\n",
       "    <tr>\n",
       "      <th>1</th>\n",
       "      <td>Super Mario Bros.</td>\n",
       "      <td>NES</td>\n",
       "      <td>1985.0</td>\n",
       "      <td>Platform</td>\n",
       "      <td>29.08</td>\n",
       "      <td>3.58</td>\n",
       "      <td>6.81</td>\n",
       "      <td>0.77</td>\n",
       "      <td>NaN</td>\n",
       "      <td>NaN</td>\n",
       "      <td>NaN</td>\n",
       "    </tr>\n",
       "    <tr>\n",
       "      <th>2</th>\n",
       "      <td>Mario Kart Wii</td>\n",
       "      <td>Wii</td>\n",
       "      <td>2008.0</td>\n",
       "      <td>Racing</td>\n",
       "      <td>15.68</td>\n",
       "      <td>12.76</td>\n",
       "      <td>3.79</td>\n",
       "      <td>3.29</td>\n",
       "      <td>82.0</td>\n",
       "      <td>8.3</td>\n",
       "      <td>E</td>\n",
       "    </tr>\n",
       "    <tr>\n",
       "      <th>3</th>\n",
       "      <td>Wii Sports Resort</td>\n",
       "      <td>Wii</td>\n",
       "      <td>2009.0</td>\n",
       "      <td>Sports</td>\n",
       "      <td>15.61</td>\n",
       "      <td>10.93</td>\n",
       "      <td>3.28</td>\n",
       "      <td>2.95</td>\n",
       "      <td>80.0</td>\n",
       "      <td>8</td>\n",
       "      <td>E</td>\n",
       "    </tr>\n",
       "    <tr>\n",
       "      <th>4</th>\n",
       "      <td>Pokemon Red/Pokemon Blue</td>\n",
       "      <td>GB</td>\n",
       "      <td>1996.0</td>\n",
       "      <td>Role-Playing</td>\n",
       "      <td>11.27</td>\n",
       "      <td>8.89</td>\n",
       "      <td>10.22</td>\n",
       "      <td>1.00</td>\n",
       "      <td>NaN</td>\n",
       "      <td>NaN</td>\n",
       "      <td>NaN</td>\n",
       "    </tr>\n",
       "    <tr>\n",
       "      <th>5</th>\n",
       "      <td>Tetris</td>\n",
       "      <td>GB</td>\n",
       "      <td>1989.0</td>\n",
       "      <td>Puzzle</td>\n",
       "      <td>23.20</td>\n",
       "      <td>2.26</td>\n",
       "      <td>4.22</td>\n",
       "      <td>0.58</td>\n",
       "      <td>NaN</td>\n",
       "      <td>NaN</td>\n",
       "      <td>NaN</td>\n",
       "    </tr>\n",
       "    <tr>\n",
       "      <th>6</th>\n",
       "      <td>New Super Mario Bros.</td>\n",
       "      <td>DS</td>\n",
       "      <td>2006.0</td>\n",
       "      <td>Platform</td>\n",
       "      <td>11.28</td>\n",
       "      <td>9.14</td>\n",
       "      <td>6.50</td>\n",
       "      <td>2.88</td>\n",
       "      <td>89.0</td>\n",
       "      <td>8.5</td>\n",
       "      <td>E</td>\n",
       "    </tr>\n",
       "    <tr>\n",
       "      <th>7</th>\n",
       "      <td>Wii Play</td>\n",
       "      <td>Wii</td>\n",
       "      <td>2006.0</td>\n",
       "      <td>Misc</td>\n",
       "      <td>13.96</td>\n",
       "      <td>9.18</td>\n",
       "      <td>2.93</td>\n",
       "      <td>2.84</td>\n",
       "      <td>58.0</td>\n",
       "      <td>6.6</td>\n",
       "      <td>E</td>\n",
       "    </tr>\n",
       "    <tr>\n",
       "      <th>8</th>\n",
       "      <td>New Super Mario Bros. Wii</td>\n",
       "      <td>Wii</td>\n",
       "      <td>2009.0</td>\n",
       "      <td>Platform</td>\n",
       "      <td>14.44</td>\n",
       "      <td>6.94</td>\n",
       "      <td>4.70</td>\n",
       "      <td>2.24</td>\n",
       "      <td>87.0</td>\n",
       "      <td>8.4</td>\n",
       "      <td>E</td>\n",
       "    </tr>\n",
       "    <tr>\n",
       "      <th>9</th>\n",
       "      <td>Duck Hunt</td>\n",
       "      <td>NES</td>\n",
       "      <td>1984.0</td>\n",
       "      <td>Shooter</td>\n",
       "      <td>26.93</td>\n",
       "      <td>0.63</td>\n",
       "      <td>0.28</td>\n",
       "      <td>0.47</td>\n",
       "      <td>NaN</td>\n",
       "      <td>NaN</td>\n",
       "      <td>NaN</td>\n",
       "    </tr>\n",
       "  </tbody>\n",
       "</table>\n",
       "</div>"
      ],
      "text/plain": [
       "                        Name Platform  Year_of_Release         Genre  \\\n",
       "0                 Wii Sports      Wii           2006.0        Sports   \n",
       "1          Super Mario Bros.      NES           1985.0      Platform   \n",
       "2             Mario Kart Wii      Wii           2008.0        Racing   \n",
       "3          Wii Sports Resort      Wii           2009.0        Sports   \n",
       "4   Pokemon Red/Pokemon Blue       GB           1996.0  Role-Playing   \n",
       "5                     Tetris       GB           1989.0        Puzzle   \n",
       "6      New Super Mario Bros.       DS           2006.0      Platform   \n",
       "7                   Wii Play      Wii           2006.0          Misc   \n",
       "8  New Super Mario Bros. Wii      Wii           2009.0      Platform   \n",
       "9                  Duck Hunt      NES           1984.0       Shooter   \n",
       "\n",
       "   NA_sales  EU_sales  JP_sales  Other_sales  Critic_Score User_Score Rating  \n",
       "0     41.36     28.96      3.77         8.45          76.0          8      E  \n",
       "1     29.08      3.58      6.81         0.77           NaN        NaN    NaN  \n",
       "2     15.68     12.76      3.79         3.29          82.0        8.3      E  \n",
       "3     15.61     10.93      3.28         2.95          80.0          8      E  \n",
       "4     11.27      8.89     10.22         1.00           NaN        NaN    NaN  \n",
       "5     23.20      2.26      4.22         0.58           NaN        NaN    NaN  \n",
       "6     11.28      9.14      6.50         2.88          89.0        8.5      E  \n",
       "7     13.96      9.18      2.93         2.84          58.0        6.6      E  \n",
       "8     14.44      6.94      4.70         2.24          87.0        8.4      E  \n",
       "9     26.93      0.63      0.28         0.47           NaN        NaN    NaN  "
      ]
     },
     "execution_count": 2,
     "metadata": {},
     "output_type": "execute_result"
    }
   ],
   "source": [
    "path_local = r'games.csv'\n",
    "path_ya = r'/datasets/games.csv'\n",
    "\n",
    "# чтение файла с данными в случае локальной работы и сохранение в data\n",
    "try:\n",
    "    df_raw = pd.read_csv(path_local)\n",
    "# чтение файла с данными в случае работы online и сохранение в data\n",
    "except:\n",
    "    df_raw = pd.read_csv(path_ya) \n",
    "\n",
    "df_raw.head(10)"
   ]
  },
  {
   "cell_type": "code",
   "execution_count": 3,
   "metadata": {},
   "outputs": [
    {
     "name": "stdout",
     "output_type": "stream",
     "text": [
      "<class 'pandas.core.frame.DataFrame'>\n",
      "RangeIndex: 16715 entries, 0 to 16714\n",
      "Data columns (total 11 columns):\n",
      " #   Column           Non-Null Count  Dtype  \n",
      "---  ------           --------------  -----  \n",
      " 0   Name             16713 non-null  object \n",
      " 1   Platform         16715 non-null  object \n",
      " 2   Year_of_Release  16446 non-null  float64\n",
      " 3   Genre            16713 non-null  object \n",
      " 4   NA_sales         16715 non-null  float64\n",
      " 5   EU_sales         16715 non-null  float64\n",
      " 6   JP_sales         16715 non-null  float64\n",
      " 7   Other_sales      16715 non-null  float64\n",
      " 8   Critic_Score     8137 non-null   float64\n",
      " 9   User_Score       10014 non-null  object \n",
      " 10  Rating           9949 non-null   object \n",
      "dtypes: float64(6), object(5)\n",
      "memory usage: 1.4+ MB\n"
     ]
    }
   ],
   "source": [
    "df_raw.info()"
   ]
  },
  {
   "cell_type": "markdown",
   "metadata": {},
   "source": [
    "Колличество явных дубликатов"
   ]
  },
  {
   "cell_type": "code",
   "execution_count": 4,
   "metadata": {},
   "outputs": [
    {
     "data": {
      "text/plain": [
       "0"
      ]
     },
     "execution_count": 4,
     "metadata": {},
     "output_type": "execute_result"
    }
   ],
   "source": [
    "df_raw.duplicated().sum()"
   ]
  },
  {
   "cell_type": "markdown",
   "metadata": {},
   "source": [
    "Колличество пропусков"
   ]
  },
  {
   "cell_type": "code",
   "execution_count": 5,
   "metadata": {},
   "outputs": [
    {
     "data": {
      "text/plain": [
       "Name                  2\n",
       "Platform              0\n",
       "Year_of_Release     269\n",
       "Genre                 2\n",
       "NA_sales              0\n",
       "EU_sales              0\n",
       "JP_sales              0\n",
       "Other_sales           0\n",
       "Critic_Score       8578\n",
       "User_Score         6701\n",
       "Rating             6766\n",
       "dtype: int64"
      ]
     },
     "execution_count": 5,
     "metadata": {},
     "output_type": "execute_result"
    }
   ],
   "source": [
    "df_raw.isna().sum()"
   ]
  },
  {
   "cell_type": "markdown",
   "metadata": {},
   "source": [
    "### Вывод\n",
    "Предварительно можно утверждать, что данных достаточно для проверки гипотез.\n",
    "Чтобы двигаться дальше, нужно произвести предобработку данных."
   ]
  },
  {
   "cell_type": "markdown",
   "metadata": {},
   "source": [
    "## Предобработка данных"
   ]
  },
  {
   "cell_type": "markdown",
   "metadata": {},
   "source": [
    "Названия столбцов не соответствуют 'змеиному стилю'. Переименуем их"
   ]
  },
  {
   "cell_type": "code",
   "execution_count": 6,
   "metadata": {},
   "outputs": [
    {
     "data": {
      "text/plain": [
       "Index(['name', 'platform', 'year_of_release', 'genre', 'na_sales', 'eu_sales',\n",
       "       'jp_sales', 'other_sales', 'critic_score', 'user_score', 'rating'],\n",
       "      dtype='object')"
      ]
     },
     "execution_count": 6,
     "metadata": {},
     "output_type": "execute_result"
    }
   ],
   "source": [
    "df_raw.columns = df_raw.columns.str.lower()\n",
    "df_raw.columns"
   ]
  },
  {
   "cell_type": "markdown",
   "metadata": {},
   "source": [
    "### Замена пропусков"
   ]
  },
  {
   "cell_type": "markdown",
   "metadata": {},
   "source": [
    "#### Столбцы 'name', 'genre'"
   ]
  },
  {
   "cell_type": "markdown",
   "metadata": {},
   "source": [
    "Расcмотрим пропуски в столбце 'name'"
   ]
  },
  {
   "cell_type": "code",
   "execution_count": 7,
   "metadata": {},
   "outputs": [
    {
     "data": {
      "text/html": [
       "<div>\n",
       "<style scoped>\n",
       "    .dataframe tbody tr th:only-of-type {\n",
       "        vertical-align: middle;\n",
       "    }\n",
       "\n",
       "    .dataframe tbody tr th {\n",
       "        vertical-align: top;\n",
       "    }\n",
       "\n",
       "    .dataframe thead th {\n",
       "        text-align: right;\n",
       "    }\n",
       "</style>\n",
       "<table border=\"1\" class=\"dataframe\">\n",
       "  <thead>\n",
       "    <tr style=\"text-align: right;\">\n",
       "      <th></th>\n",
       "      <th>name</th>\n",
       "      <th>platform</th>\n",
       "      <th>year_of_release</th>\n",
       "      <th>genre</th>\n",
       "      <th>na_sales</th>\n",
       "      <th>eu_sales</th>\n",
       "      <th>jp_sales</th>\n",
       "      <th>other_sales</th>\n",
       "      <th>critic_score</th>\n",
       "      <th>user_score</th>\n",
       "      <th>rating</th>\n",
       "    </tr>\n",
       "  </thead>\n",
       "  <tbody>\n",
       "    <tr>\n",
       "      <th>659</th>\n",
       "      <td>NaN</td>\n",
       "      <td>GEN</td>\n",
       "      <td>1993.0</td>\n",
       "      <td>NaN</td>\n",
       "      <td>1.78</td>\n",
       "      <td>0.53</td>\n",
       "      <td>0.00</td>\n",
       "      <td>0.08</td>\n",
       "      <td>NaN</td>\n",
       "      <td>NaN</td>\n",
       "      <td>NaN</td>\n",
       "    </tr>\n",
       "    <tr>\n",
       "      <th>14244</th>\n",
       "      <td>NaN</td>\n",
       "      <td>GEN</td>\n",
       "      <td>1993.0</td>\n",
       "      <td>NaN</td>\n",
       "      <td>0.00</td>\n",
       "      <td>0.00</td>\n",
       "      <td>0.03</td>\n",
       "      <td>0.00</td>\n",
       "      <td>NaN</td>\n",
       "      <td>NaN</td>\n",
       "      <td>NaN</td>\n",
       "    </tr>\n",
       "  </tbody>\n",
       "</table>\n",
       "</div>"
      ],
      "text/plain": [
       "      name platform  year_of_release genre  na_sales  eu_sales  jp_sales  \\\n",
       "659    NaN      GEN           1993.0   NaN      1.78      0.53      0.00   \n",
       "14244  NaN      GEN           1993.0   NaN      0.00      0.00      0.03   \n",
       "\n",
       "       other_sales  critic_score user_score rating  \n",
       "659           0.08           NaN        NaN    NaN  \n",
       "14244         0.00           NaN        NaN    NaN  "
      ]
     },
     "execution_count": 7,
     "metadata": {},
     "output_type": "execute_result"
    }
   ],
   "source": [
    "df_raw.query(\"name.isna()\")"
   ]
  },
  {
   "cell_type": "markdown",
   "metadata": {},
   "source": [
    "Без названия игры невозможно восстановить жанр игры. Можем смело удалить эти строки"
   ]
  },
  {
   "cell_type": "code",
   "execution_count": 8,
   "metadata": {},
   "outputs": [
    {
     "data": {
      "text/html": [
       "<div>\n",
       "<style scoped>\n",
       "    .dataframe tbody tr th:only-of-type {\n",
       "        vertical-align: middle;\n",
       "    }\n",
       "\n",
       "    .dataframe tbody tr th {\n",
       "        vertical-align: top;\n",
       "    }\n",
       "\n",
       "    .dataframe thead th {\n",
       "        text-align: right;\n",
       "    }\n",
       "</style>\n",
       "<table border=\"1\" class=\"dataframe\">\n",
       "  <thead>\n",
       "    <tr style=\"text-align: right;\">\n",
       "      <th></th>\n",
       "      <th>name</th>\n",
       "      <th>platform</th>\n",
       "      <th>year_of_release</th>\n",
       "      <th>genre</th>\n",
       "      <th>na_sales</th>\n",
       "      <th>eu_sales</th>\n",
       "      <th>jp_sales</th>\n",
       "      <th>other_sales</th>\n",
       "      <th>critic_score</th>\n",
       "      <th>user_score</th>\n",
       "      <th>rating</th>\n",
       "    </tr>\n",
       "  </thead>\n",
       "  <tbody>\n",
       "  </tbody>\n",
       "</table>\n",
       "</div>"
      ],
      "text/plain": [
       "Empty DataFrame\n",
       "Columns: [name, platform, year_of_release, genre, na_sales, eu_sales, jp_sales, other_sales, critic_score, user_score, rating]\n",
       "Index: []"
      ]
     },
     "execution_count": 8,
     "metadata": {},
     "output_type": "execute_result"
    }
   ],
   "source": [
    "# удаляем пропуски\n",
    "df_raw = df_raw.dropna(subset=['name'])\n",
    "\n",
    "# проверяем удаление\n",
    "df_raw.query(\"name.isna()\")"
   ]
  },
  {
   "cell_type": "markdown",
   "metadata": {},
   "source": [
    "#### Столбец 'critic_score'"
   ]
  },
  {
   "cell_type": "code",
   "execution_count": 9,
   "metadata": {},
   "outputs": [
    {
     "data": {
      "text/plain": [
       "count    8137.000000\n",
       "mean       68.967679\n",
       "std        13.938165\n",
       "min        13.000000\n",
       "25%        60.000000\n",
       "50%        71.000000\n",
       "75%        79.000000\n",
       "max        98.000000\n",
       "Name: critic_score, dtype: float64"
      ]
     },
     "execution_count": 9,
     "metadata": {},
     "output_type": "execute_result"
    }
   ],
   "source": [
    "df_raw['critic_score'].describe()"
   ]
  },
  {
   "cell_type": "markdown",
   "metadata": {},
   "source": [
    "Оставим пропуски, т.к. отсутствие оценки это не 0. Так же, присвоение пропуску, какого-либо значения, может отрицательно повлиять на исследования."
   ]
  },
  {
   "cell_type": "raw",
   "metadata": {},
   "source": [
    "df_raw['critic_score'].fillna(-10, inplace=True)"
   ]
  },
  {
   "cell_type": "markdown",
   "metadata": {},
   "source": [
    "#### Столбец 'user_score'"
   ]
  },
  {
   "cell_type": "code",
   "execution_count": 10,
   "metadata": {},
   "outputs": [
    {
     "data": {
      "text/plain": [
       "9.7       1\n",
       "0         1\n",
       "1.9       2\n",
       "0.5       2\n",
       "0.9       2\n",
       "       ... \n",
       "8.3     254\n",
       "8.2     282\n",
       "8       290\n",
       "7.8     324\n",
       "tbd    2424\n",
       "Name: user_score, Length: 96, dtype: int64"
      ]
     },
     "execution_count": 10,
     "metadata": {},
     "output_type": "execute_result"
    }
   ],
   "source": [
    "df_raw['user_score'].value_counts().sort_values()"
   ]
  },
  {
   "cell_type": "markdown",
   "metadata": {},
   "source": [
    "[Сокращение tbd](https://yandex.ru/turbo/fb.ru/s/article/171345/tbd---chto-znachit-eto-sokraschenie) означает, что рейтинг в данный момент неизвестен, подсчитывается."
   ]
  },
  {
   "cell_type": "markdown",
   "metadata": {},
   "source": [
    "Поступим аналогично. Так же, заменим tbd на NaN"
   ]
  },
  {
   "cell_type": "code",
   "execution_count": 11,
   "metadata": {},
   "outputs": [],
   "source": [
    "df_raw.loc[ df_raw['user_score'] == 'tbd',  'user_score'] = np.nan"
   ]
  },
  {
   "cell_type": "markdown",
   "metadata": {},
   "source": [
    "#### Столбец 'rating'"
   ]
  },
  {
   "cell_type": "code",
   "execution_count": 12,
   "metadata": {},
   "outputs": [
    {
     "data": {
      "text/plain": [
       "E       3990\n",
       "T       2961\n",
       "M       1563\n",
       "E10+    1420\n",
       "EC         8\n",
       "K-A        3\n",
       "RP         3\n",
       "AO         1\n",
       "Name: rating, dtype: int64"
      ]
     },
     "execution_count": 12,
     "metadata": {},
     "output_type": "execute_result"
    }
   ],
   "source": [
    "df_raw['rating'].value_counts()"
   ]
  },
  {
   "cell_type": "markdown",
   "metadata": {},
   "source": [
    "На определение рейтинга по пропускам уйдет много времени. Заменим пропуски в данном сталбце на [RP](https://ru.wikipedia.org/wiki/Entertainment_Software_Rating_Board): \"Рейтинг ожидается\". Не стоит заменять на NaN, это категориальная переменная. Ее потеря отрицательно влияет на исследования."
   ]
  },
  {
   "cell_type": "code",
   "execution_count": 13,
   "metadata": {},
   "outputs": [
    {
     "data": {
      "text/plain": [
       "0"
      ]
     },
     "execution_count": 13,
     "metadata": {},
     "output_type": "execute_result"
    }
   ],
   "source": [
    "# Замена\n",
    "df_raw['rating'].fillna('RP', inplace=True)\n",
    "\n",
    "# Проверка\n",
    "df_raw['rating'].isna().sum()"
   ]
  },
  {
   "cell_type": "markdown",
   "metadata": {},
   "source": [
    "#### Столбец 'year_of_release'"
   ]
  },
  {
   "cell_type": "markdown",
   "metadata": {},
   "source": [
    "Год выхода игры может быть любым. Эти пропуски составляют менее 2% данных. Удалим их."
   ]
  },
  {
   "cell_type": "code",
   "execution_count": 14,
   "metadata": {},
   "outputs": [
    {
     "data": {
      "text/html": [
       "<div>\n",
       "<style scoped>\n",
       "    .dataframe tbody tr th:only-of-type {\n",
       "        vertical-align: middle;\n",
       "    }\n",
       "\n",
       "    .dataframe tbody tr th {\n",
       "        vertical-align: top;\n",
       "    }\n",
       "\n",
       "    .dataframe thead th {\n",
       "        text-align: right;\n",
       "    }\n",
       "</style>\n",
       "<table border=\"1\" class=\"dataframe\">\n",
       "  <thead>\n",
       "    <tr style=\"text-align: right;\">\n",
       "      <th></th>\n",
       "      <th>name</th>\n",
       "      <th>platform</th>\n",
       "      <th>year_of_release</th>\n",
       "      <th>genre</th>\n",
       "      <th>na_sales</th>\n",
       "      <th>eu_sales</th>\n",
       "      <th>jp_sales</th>\n",
       "      <th>other_sales</th>\n",
       "      <th>critic_score</th>\n",
       "      <th>user_score</th>\n",
       "      <th>rating</th>\n",
       "    </tr>\n",
       "  </thead>\n",
       "  <tbody>\n",
       "  </tbody>\n",
       "</table>\n",
       "</div>"
      ],
      "text/plain": [
       "Empty DataFrame\n",
       "Columns: [name, platform, year_of_release, genre, na_sales, eu_sales, jp_sales, other_sales, critic_score, user_score, rating]\n",
       "Index: []"
      ]
     },
     "execution_count": 14,
     "metadata": {},
     "output_type": "execute_result"
    }
   ],
   "source": [
    "# удаляем пропуски\n",
    "df_raw.dropna(subset=['year_of_release'], inplace=True)\n",
    "\n",
    "# проверяем удаление\n",
    "df_raw.query(\"year_of_release.isna()\")"
   ]
  },
  {
   "cell_type": "code",
   "execution_count": 15,
   "metadata": {},
   "outputs": [
    {
     "data": {
      "text/plain": [
       "name                  0\n",
       "platform              0\n",
       "year_of_release       0\n",
       "genre                 0\n",
       "na_sales              0\n",
       "eu_sales              0\n",
       "jp_sales              0\n",
       "other_sales           0\n",
       "critic_score       8461\n",
       "user_score         8981\n",
       "rating                0\n",
       "dtype: int64"
      ]
     },
     "execution_count": 15,
     "metadata": {},
     "output_type": "execute_result"
    }
   ],
   "source": [
    "# Проверка\n",
    "df_raw.isna().sum()"
   ]
  },
  {
   "cell_type": "markdown",
   "metadata": {},
   "source": [
    "**Вывод**  \n",
    "Произведена замена пропусков"
   ]
  },
  {
   "cell_type": "markdown",
   "metadata": {},
   "source": [
    "### Замена типов"
   ]
  },
  {
   "cell_type": "markdown",
   "metadata": {},
   "source": [
    "Достаточно заменить типы следующих столбцов:\n",
    "- year_of_release, т.к. нам не нужны дробные года;\n",
    "- user_score: привести к вещественному типу, исходя из данных;\n",
    "- critic_score: изменить тип  на целочисленный, исходя из данных."
   ]
  },
  {
   "cell_type": "code",
   "execution_count": 16,
   "metadata": {},
   "outputs": [
    {
     "name": "stdout",
     "output_type": "stream",
     "text": [
      "<class 'pandas.core.frame.DataFrame'>\n",
      "Int64Index: 16444 entries, 0 to 16714\n",
      "Data columns (total 11 columns):\n",
      " #   Column           Non-Null Count  Dtype  \n",
      "---  ------           --------------  -----  \n",
      " 0   name             16444 non-null  object \n",
      " 1   platform         16444 non-null  object \n",
      " 2   year_of_release  16444 non-null  int32  \n",
      " 3   genre            16444 non-null  object \n",
      " 4   na_sales         16444 non-null  float64\n",
      " 5   eu_sales         16444 non-null  float64\n",
      " 6   jp_sales         16444 non-null  float64\n",
      " 7   other_sales      16444 non-null  float64\n",
      " 8   critic_score     7983 non-null   float64\n",
      " 9   user_score       7463 non-null   float64\n",
      " 10  rating           16444 non-null  object \n",
      "dtypes: float64(6), int32(1), object(4)\n",
      "memory usage: 1.4+ MB\n"
     ]
    }
   ],
   "source": [
    "df_raw = df_raw.astype(\n",
    "    {\n",
    "        'year_of_release': 'int',\n",
    "        'critic_score':'int',\n",
    "        'user_score':'float',\n",
    "    }, errors='ignore'\n",
    ")\n",
    "df_raw.info()"
   ]
  },
  {
   "cell_type": "markdown",
   "metadata": {},
   "source": [
    "### Предварительные расчеты"
   ]
  },
  {
   "cell_type": "markdown",
   "metadata": {},
   "source": [
    "Посчитайте суммарные продажи во всех регионах и запишите их в отдельный столбец."
   ]
  },
  {
   "cell_type": "code",
   "execution_count": 17,
   "metadata": {},
   "outputs": [
    {
     "data": {
      "text/html": [
       "<div>\n",
       "<style scoped>\n",
       "    .dataframe tbody tr th:only-of-type {\n",
       "        vertical-align: middle;\n",
       "    }\n",
       "\n",
       "    .dataframe tbody tr th {\n",
       "        vertical-align: top;\n",
       "    }\n",
       "\n",
       "    .dataframe thead th {\n",
       "        text-align: right;\n",
       "    }\n",
       "</style>\n",
       "<table border=\"1\" class=\"dataframe\">\n",
       "  <thead>\n",
       "    <tr style=\"text-align: right;\">\n",
       "      <th></th>\n",
       "      <th>name</th>\n",
       "      <th>platform</th>\n",
       "      <th>year_of_release</th>\n",
       "      <th>genre</th>\n",
       "      <th>na_sales</th>\n",
       "      <th>eu_sales</th>\n",
       "      <th>jp_sales</th>\n",
       "      <th>other_sales</th>\n",
       "      <th>critic_score</th>\n",
       "      <th>user_score</th>\n",
       "      <th>rating</th>\n",
       "      <th>region_sales</th>\n",
       "    </tr>\n",
       "  </thead>\n",
       "  <tbody>\n",
       "    <tr>\n",
       "      <th>0</th>\n",
       "      <td>Wii Sports</td>\n",
       "      <td>Wii</td>\n",
       "      <td>2006</td>\n",
       "      <td>Sports</td>\n",
       "      <td>41.36</td>\n",
       "      <td>28.96</td>\n",
       "      <td>3.77</td>\n",
       "      <td>8.45</td>\n",
       "      <td>76.0</td>\n",
       "      <td>8.0</td>\n",
       "      <td>E</td>\n",
       "      <td>82.54</td>\n",
       "    </tr>\n",
       "    <tr>\n",
       "      <th>1</th>\n",
       "      <td>Super Mario Bros.</td>\n",
       "      <td>NES</td>\n",
       "      <td>1985</td>\n",
       "      <td>Platform</td>\n",
       "      <td>29.08</td>\n",
       "      <td>3.58</td>\n",
       "      <td>6.81</td>\n",
       "      <td>0.77</td>\n",
       "      <td>NaN</td>\n",
       "      <td>NaN</td>\n",
       "      <td>RP</td>\n",
       "      <td>40.24</td>\n",
       "    </tr>\n",
       "    <tr>\n",
       "      <th>2</th>\n",
       "      <td>Mario Kart Wii</td>\n",
       "      <td>Wii</td>\n",
       "      <td>2008</td>\n",
       "      <td>Racing</td>\n",
       "      <td>15.68</td>\n",
       "      <td>12.76</td>\n",
       "      <td>3.79</td>\n",
       "      <td>3.29</td>\n",
       "      <td>82.0</td>\n",
       "      <td>8.3</td>\n",
       "      <td>E</td>\n",
       "      <td>35.52</td>\n",
       "    </tr>\n",
       "    <tr>\n",
       "      <th>3</th>\n",
       "      <td>Wii Sports Resort</td>\n",
       "      <td>Wii</td>\n",
       "      <td>2009</td>\n",
       "      <td>Sports</td>\n",
       "      <td>15.61</td>\n",
       "      <td>10.93</td>\n",
       "      <td>3.28</td>\n",
       "      <td>2.95</td>\n",
       "      <td>80.0</td>\n",
       "      <td>8.0</td>\n",
       "      <td>E</td>\n",
       "      <td>32.77</td>\n",
       "    </tr>\n",
       "    <tr>\n",
       "      <th>4</th>\n",
       "      <td>Pokemon Red/Pokemon Blue</td>\n",
       "      <td>GB</td>\n",
       "      <td>1996</td>\n",
       "      <td>Role-Playing</td>\n",
       "      <td>11.27</td>\n",
       "      <td>8.89</td>\n",
       "      <td>10.22</td>\n",
       "      <td>1.00</td>\n",
       "      <td>NaN</td>\n",
       "      <td>NaN</td>\n",
       "      <td>RP</td>\n",
       "      <td>31.38</td>\n",
       "    </tr>\n",
       "  </tbody>\n",
       "</table>\n",
       "</div>"
      ],
      "text/plain": [
       "                       name platform  year_of_release         genre  na_sales  \\\n",
       "0                Wii Sports      Wii             2006        Sports     41.36   \n",
       "1         Super Mario Bros.      NES             1985      Platform     29.08   \n",
       "2            Mario Kart Wii      Wii             2008        Racing     15.68   \n",
       "3         Wii Sports Resort      Wii             2009        Sports     15.61   \n",
       "4  Pokemon Red/Pokemon Blue       GB             1996  Role-Playing     11.27   \n",
       "\n",
       "   eu_sales  jp_sales  other_sales  critic_score  user_score rating  \\\n",
       "0     28.96      3.77         8.45          76.0         8.0      E   \n",
       "1      3.58      6.81         0.77           NaN         NaN     RP   \n",
       "2     12.76      3.79         3.29          82.0         8.3      E   \n",
       "3     10.93      3.28         2.95          80.0         8.0      E   \n",
       "4      8.89     10.22         1.00           NaN         NaN     RP   \n",
       "\n",
       "   region_sales  \n",
       "0         82.54  \n",
       "1         40.24  \n",
       "2         35.52  \n",
       "3         32.77  \n",
       "4         31.38  "
      ]
     },
     "execution_count": 17,
     "metadata": {},
     "output_type": "execute_result"
    }
   ],
   "source": [
    "df_raw['region_sales'] = (\n",
    "    df_raw['na_sales'] +\n",
    "    df_raw['eu_sales'] +\n",
    "    df_raw['jp_sales'] +\n",
    "    df_raw['other_sales']\n",
    ")\n",
    "df_raw.head()"
   ]
  },
  {
   "cell_type": "markdown",
   "metadata": {},
   "source": [
    "### Вывод"
   ]
  },
  {
   "cell_type": "markdown",
   "metadata": {},
   "source": [
    "Проведена необходимая предобработка данных. Выполнены расчеты"
   ]
  },
  {
   "cell_type": "markdown",
   "metadata": {},
   "source": [
    "## Проведите исследовательский анализ данных"
   ]
  },
  {
   "cell_type": "markdown",
   "metadata": {},
   "source": [
    "### Выпуск игр за все время"
   ]
  },
  {
   "cell_type": "markdown",
   "metadata": {},
   "source": [
    "Построим столбчатаю диаграмму количества игр по датам релиза. "
   ]
  },
  {
   "cell_type": "code",
   "execution_count": 18,
   "metadata": {},
   "outputs": [
    {
     "data": {
      "image/png": "[encoded data removed]",
      "text/plain": [
       "<Figure size 1080x360 with 1 Axes>"
      ]
     },
     "metadata": {
      "needs_background": "light"
     },
     "output_type": "display_data"
    }
   ],
   "source": [
    "df_raw.groupby('year_of_release')['rating'].count().plot(kind='bar', figsize=(15,5), grid=True)\n",
    "plt.xlabel('Год выхода')\n",
    "plt.ylabel('Кол-во игр')\n",
    "plt.title('Диаграмма выхода игр по дате', fontsize=22)\n",
    "plt.show();"
   ]
  },
  {
   "cell_type": "markdown",
   "metadata": {},
   "source": [
    "Для дальнейшего исследования возьмем игры выпущенные с 2013 года."
   ]
  },
  {
   "cell_type": "code",
   "execution_count": 19,
   "metadata": {},
   "outputs": [],
   "source": [
    "df_period = df_raw.query(\"year_of_release >= 2013\")"
   ]
  },
  {
   "cell_type": "markdown",
   "metadata": {},
   "source": [
    "### Продажи по платформам"
   ]
  },
  {
   "cell_type": "markdown",
   "metadata": {},
   "source": [
    "Выберем платформы с самыми высокими продажами"
   ]
  },
  {
   "cell_type": "code",
   "execution_count": 20,
   "metadata": {},
   "outputs": [
    {
     "data": {
      "text/plain": [
       "platform\n",
       "PS4     314.14\n",
       "PS3     181.43\n",
       "XOne    159.32\n",
       "3DS     143.25\n",
       "X360    136.80\n",
       "WiiU     64.63\n",
       "PC       39.43\n",
       "PSV      32.99\n",
       "Wii      13.66\n",
       "PSP       3.50\n",
       "DS        1.54\n",
       "Name: region_sales, dtype: float64"
      ]
     },
     "execution_count": 20,
     "metadata": {},
     "output_type": "execute_result"
    }
   ],
   "source": [
    "df_period.groupby('platform')['region_sales'].sum().sort_values(ascending=False)"
   ]
  },
  {
   "cell_type": "code",
   "execution_count": 21,
   "metadata": {},
   "outputs": [
    {
     "data": {
      "text/plain": [
       "['PS4', 'PS3', 'XOne', '3DS', 'X360']"
      ]
     },
     "execution_count": 21,
     "metadata": {},
     "output_type": "execute_result"
    }
   ],
   "source": [
    "lst_consol = (\n",
    "    df_period\n",
    "    .groupby('platform')['region_sales']\n",
    "    .sum().sort_values(ascending=False)\n",
    "    .head(5).index.tolist()\n",
    ")\n",
    "lst_consol"
   ]
  },
  {
   "cell_type": "markdown",
   "metadata": {},
   "source": [
    "К сожалению, платформа PC, не попала в топ. Самые прибыльные - это игровые консоли: PS4, PS3, XOne, 3DS, X360"
   ]
  },
  {
   "cell_type": "code",
   "execution_count": 22,
   "metadata": {},
   "outputs": [
    {
     "data": {
      "image/png": "[encoded data removed]",
      "text/plain": [
       "<Figure size 1080x360 with 1 Axes>"
      ]
     },
     "metadata": {
      "needs_background": "light"
     },
     "output_type": "display_data"
    }
   ],
   "source": [
    "df_consol_2001 = df_period.query(\" platform in @lst_consol\")\n",
    "\n",
    "(\n",
    "    df_consol_2001\n",
    "    .pivot_table(index='year_of_release', columns='platform', values='region_sales', aggfunc='sum')\n",
    "    .plot(\n",
    "        figsize=(15,5),\n",
    "        grid=True,\n",
    "        title='релиз игр по платформам',\n",
    "    )\n",
    ")\n",
    "plt.xlabel('Дата релиза')\n",
    "plt.ylabel('Продажи')\n",
    "plt.show();"
   ]
  },
  {
   "cell_type": "markdown",
   "metadata": {},
   "source": [
    "В описании к данным сказано, что информация за 2016 год не полная. Построим графики по всем платформам."
   ]
  },
  {
   "cell_type": "code",
   "execution_count": 23,
   "metadata": {},
   "outputs": [
    {
     "data": {
      "image/png": "[encoded data removed]",
      "text/plain": [
       "<Figure size 1080x360 with 1 Axes>"
      ]
     },
     "metadata": {
      "needs_background": "light"
     },
     "output_type": "display_data"
    }
   ],
   "source": [
    "(\n",
    "    df_raw\n",
    "    .pivot_table(index='year_of_release', columns='platform', values='region_sales', aggfunc='sum')\n",
    "    .plot(\n",
    "        figsize=(15,5),\n",
    "        grid=True,\n",
    "        title='релиз игр по платформам',\n",
    "        xlim=(2013,2015)\n",
    "    )\n",
    ")\n",
    "plt.show();"
   ]
  },
  {
   "cell_type": "markdown",
   "metadata": {},
   "source": [
    "Есть две платформы, которые показывают рост. Найдем их."
   ]
  },
  {
   "cell_type": "code",
   "execution_count": 24,
   "metadata": {},
   "outputs": [
    {
     "data": {
      "text/html": [
       "<div>\n",
       "<style scoped>\n",
       "    .dataframe tbody tr th:only-of-type {\n",
       "        vertical-align: middle;\n",
       "    }\n",
       "\n",
       "    .dataframe tbody tr th {\n",
       "        vertical-align: top;\n",
       "    }\n",
       "\n",
       "    .dataframe thead th {\n",
       "        text-align: right;\n",
       "    }\n",
       "</style>\n",
       "<table border=\"1\" class=\"dataframe\">\n",
       "  <thead>\n",
       "    <tr style=\"text-align: right;\">\n",
       "      <th></th>\n",
       "      <th>platform</th>\n",
       "      <th>year_of_release</th>\n",
       "      <th>region_sales</th>\n",
       "    </tr>\n",
       "  </thead>\n",
       "  <tbody>\n",
       "    <tr>\n",
       "      <th>154</th>\n",
       "      <td>PS4</td>\n",
       "      <td>2014</td>\n",
       "      <td>100.00</td>\n",
       "    </tr>\n",
       "    <tr>\n",
       "      <th>155</th>\n",
       "      <td>PS4</td>\n",
       "      <td>2015</td>\n",
       "      <td>118.90</td>\n",
       "    </tr>\n",
       "    <tr>\n",
       "      <th>235</th>\n",
       "      <td>XOne</td>\n",
       "      <td>2014</td>\n",
       "      <td>54.07</td>\n",
       "    </tr>\n",
       "    <tr>\n",
       "      <th>236</th>\n",
       "      <td>XOne</td>\n",
       "      <td>2015</td>\n",
       "      <td>60.14</td>\n",
       "    </tr>\n",
       "  </tbody>\n",
       "</table>\n",
       "</div>"
      ],
      "text/plain": [
       "    platform  year_of_release  region_sales\n",
       "154      PS4             2014        100.00\n",
       "155      PS4             2015        118.90\n",
       "235     XOne             2014         54.07\n",
       "236     XOne             2015         60.14"
      ]
     },
     "execution_count": 24,
     "metadata": {},
     "output_type": "execute_result"
    }
   ],
   "source": [
    "(\n",
    "    df_raw\n",
    "    .pivot_table(index=['platform', 'year_of_release'],  values='region_sales', aggfunc='sum')\n",
    "    .reset_index()\n",
    "    .query(\" 2014 <= year_of_release <= 2015  \")\n",
    "    .query(\" 50 <= region_sales\") # эти графики выше отметки 50\n",
    ")"
   ]
  },
  {
   "cell_type": "markdown",
   "metadata": {},
   "source": [
    "Рост показывают PS4 и XOne"
   ]
  },
  {
   "cell_type": "markdown",
   "metadata": {},
   "source": [
    "Найдем все платформы, которые обладают потенциалом и на 2017 год. Изучим срез продаж от 5 млн. копий"
   ]
  },
  {
   "cell_type": "code",
   "execution_count": 25,
   "metadata": {},
   "outputs": [
    {
     "data": {
      "text/html": [
       "<div>\n",
       "<style scoped>\n",
       "    .dataframe tbody tr th:only-of-type {\n",
       "        vertical-align: middle;\n",
       "    }\n",
       "\n",
       "    .dataframe tbody tr th {\n",
       "        vertical-align: top;\n",
       "    }\n",
       "\n",
       "    .dataframe thead th {\n",
       "        text-align: right;\n",
       "    }\n",
       "</style>\n",
       "<table border=\"1\" class=\"dataframe\">\n",
       "  <thead>\n",
       "    <tr style=\"text-align: right;\">\n",
       "      <th></th>\n",
       "      <th>platform</th>\n",
       "      <th>region_sales</th>\n",
       "    </tr>\n",
       "  </thead>\n",
       "  <tbody>\n",
       "    <tr>\n",
       "      <th>14</th>\n",
       "      <td>3DS</td>\n",
       "      <td>56.57</td>\n",
       "    </tr>\n",
       "    <tr>\n",
       "      <th>15</th>\n",
       "      <td>3DS</td>\n",
       "      <td>43.76</td>\n",
       "    </tr>\n",
       "    <tr>\n",
       "      <th>16</th>\n",
       "      <td>3DS</td>\n",
       "      <td>27.78</td>\n",
       "    </tr>\n",
       "    <tr>\n",
       "      <th>115</th>\n",
       "      <td>PC</td>\n",
       "      <td>12.38</td>\n",
       "    </tr>\n",
       "    <tr>\n",
       "      <th>116</th>\n",
       "      <td>PC</td>\n",
       "      <td>13.28</td>\n",
       "    </tr>\n",
       "    <tr>\n",
       "      <th>117</th>\n",
       "      <td>PC</td>\n",
       "      <td>8.52</td>\n",
       "    </tr>\n",
       "    <tr>\n",
       "      <th>149</th>\n",
       "      <td>PS3</td>\n",
       "      <td>113.25</td>\n",
       "    </tr>\n",
       "    <tr>\n",
       "      <th>150</th>\n",
       "      <td>PS3</td>\n",
       "      <td>47.76</td>\n",
       "    </tr>\n",
       "    <tr>\n",
       "      <th>151</th>\n",
       "      <td>PS3</td>\n",
       "      <td>16.82</td>\n",
       "    </tr>\n",
       "    <tr>\n",
       "      <th>153</th>\n",
       "      <td>PS4</td>\n",
       "      <td>25.99</td>\n",
       "    </tr>\n",
       "    <tr>\n",
       "      <th>154</th>\n",
       "      <td>PS4</td>\n",
       "      <td>100.00</td>\n",
       "    </tr>\n",
       "    <tr>\n",
       "      <th>155</th>\n",
       "      <td>PS4</td>\n",
       "      <td>118.90</td>\n",
       "    </tr>\n",
       "    <tr>\n",
       "      <th>171</th>\n",
       "      <td>PSV</td>\n",
       "      <td>10.59</td>\n",
       "    </tr>\n",
       "    <tr>\n",
       "      <th>172</th>\n",
       "      <td>PSV</td>\n",
       "      <td>11.90</td>\n",
       "    </tr>\n",
       "    <tr>\n",
       "      <th>173</th>\n",
       "      <td>PSV</td>\n",
       "      <td>6.25</td>\n",
       "    </tr>\n",
       "    <tr>\n",
       "      <th>204</th>\n",
       "      <td>Wii</td>\n",
       "      <td>8.59</td>\n",
       "    </tr>\n",
       "    <tr>\n",
       "      <th>209</th>\n",
       "      <td>WiiU</td>\n",
       "      <td>21.65</td>\n",
       "    </tr>\n",
       "    <tr>\n",
       "      <th>210</th>\n",
       "      <td>WiiU</td>\n",
       "      <td>22.03</td>\n",
       "    </tr>\n",
       "    <tr>\n",
       "      <th>211</th>\n",
       "      <td>WiiU</td>\n",
       "      <td>16.35</td>\n",
       "    </tr>\n",
       "    <tr>\n",
       "      <th>221</th>\n",
       "      <td>X360</td>\n",
       "      <td>88.58</td>\n",
       "    </tr>\n",
       "    <tr>\n",
       "      <th>222</th>\n",
       "      <td>X360</td>\n",
       "      <td>34.74</td>\n",
       "    </tr>\n",
       "    <tr>\n",
       "      <th>223</th>\n",
       "      <td>X360</td>\n",
       "      <td>11.96</td>\n",
       "    </tr>\n",
       "    <tr>\n",
       "      <th>234</th>\n",
       "      <td>XOne</td>\n",
       "      <td>18.96</td>\n",
       "    </tr>\n",
       "    <tr>\n",
       "      <th>235</th>\n",
       "      <td>XOne</td>\n",
       "      <td>54.07</td>\n",
       "    </tr>\n",
       "    <tr>\n",
       "      <th>236</th>\n",
       "      <td>XOne</td>\n",
       "      <td>60.14</td>\n",
       "    </tr>\n",
       "  </tbody>\n",
       "</table>\n",
       "</div>"
      ],
      "text/plain": [
       "    platform  region_sales\n",
       "14       3DS         56.57\n",
       "15       3DS         43.76\n",
       "16       3DS         27.78\n",
       "115       PC         12.38\n",
       "116       PC         13.28\n",
       "117       PC          8.52\n",
       "149      PS3        113.25\n",
       "150      PS3         47.76\n",
       "151      PS3         16.82\n",
       "153      PS4         25.99\n",
       "154      PS4        100.00\n",
       "155      PS4        118.90\n",
       "171      PSV         10.59\n",
       "172      PSV         11.90\n",
       "173      PSV          6.25\n",
       "204      Wii          8.59\n",
       "209     WiiU         21.65\n",
       "210     WiiU         22.03\n",
       "211     WiiU         16.35\n",
       "221     X360         88.58\n",
       "222     X360         34.74\n",
       "223     X360         11.96\n",
       "234     XOne         18.96\n",
       "235     XOne         54.07\n",
       "236     XOne         60.14"
      ]
     },
     "metadata": {},
     "output_type": "display_data"
    },
    {
     "data": {
      "text/plain": [
       "PS4     244.89\n",
       "PS3     177.83\n",
       "X360    135.28\n",
       "XOne    133.17\n",
       "3DS     128.11\n",
       "WiiU     60.03\n",
       "PC       34.18\n",
       "PSV      28.74\n",
       "Wii       8.59\n",
       "dtype: float64"
      ]
     },
     "execution_count": 25,
     "metadata": {},
     "output_type": "execute_result"
    }
   ],
   "source": [
    "# ============================================================================\n",
    "top_2013 = (\n",
    "    df_raw\n",
    "    .pivot_table(index=['platform', 'year_of_release'],  values='region_sales', aggfunc='sum')\n",
    "    .reset_index()\n",
    "    \n",
    "    # срез по периоду с 2013 по 2015. т.к. 2016 - не полный\n",
    "    .query(\" 2013 <= year_of_release <= 2015  \")\n",
    "    \n",
    "    # эти графики выше отметки 5 млн.\n",
    "    .query(\" 5 <= region_sales\") \n",
    "    \n",
    "    # выбераеам столбец платформы и продажи\n",
    "    [['platform', 'region_sales']]\n",
    ")\n",
    "# выводим результат\n",
    "display(top_2013)\n",
    "# ============================================================================\n",
    "\n",
    "# создаем словарь\n",
    "top_plat = dict()\n",
    "\n",
    "# перебераем названия платформ\n",
    "for i in top_2013['platform'].unique():\n",
    "    # суммируем продажи по платформам\n",
    "    top_plat[i] = top_2013[ top_2013['platform']==i ]['region_sales'].sum()\n",
    "    \n",
    "top_plat = pd.Series(data=top_plat)\n",
    "top_plat.sort_values(ascending=False)"
   ]
  },
  {
   "cell_type": "markdown",
   "metadata": {},
   "source": [
    "Найдем жизненный цикл всех платформ"
   ]
  },
  {
   "cell_type": "code",
   "execution_count": 26,
   "metadata": {},
   "outputs": [
    {
     "name": "stdout",
     "output_type": "stream",
     "text": [
      "3DS     4\n",
      "PC      4\n",
      "PS3     4\n",
      "PS4     4\n",
      "PSV     4\n",
      "Wii     4\n",
      "WiiU    4\n",
      "X360    4\n",
      "XOne    4\n",
      "PSP     3\n",
      "DS      1\n",
      "dtype: int64\n",
      "4.0\n",
      "3.6\n"
     ]
    }
   ],
   "source": [
    "# группируем по платформам и годам релиза\n",
    "plat_cycle = (\n",
    "    df_raw\n",
    "    \n",
    "    # срез по годам релиза с 2013 года\n",
    "    .query(\"2013 <= year_of_release\")\n",
    "    \n",
    "    .pivot_table(index=['platform', 'year_of_release'], values='name', aggfunc='count')\n",
    ")\n",
    "\n",
    "# убираем индексы\n",
    "plat_cycle = plat_cycle.reset_index()\n",
    "\n",
    "# создаем сериес из словаря. в словарь добавляем ключ=платформа, значение=кол-во лет\n",
    "life_cycle = dict()\n",
    "\n",
    "for i in plat_cycle['platform'].unique():\n",
    "    life_cycle[i] = plat_cycle[ plat_cycle['platform'] == i ]['year_of_release'].count()\n",
    "\n",
    "plat_cycle = pd.Series(life_cycle)\n",
    "print(plat_cycle.sort_values(ascending=False))\n",
    "\n",
    "print(plat_cycle[1:].median())\n",
    "print(plat_cycle[1:].mean().round(1))"
   ]
  },
  {
   "cell_type": "code",
   "execution_count": 27,
   "metadata": {},
   "outputs": [
    {
     "data": {
      "text/plain": [
       "platform\n",
       "3DS     4\n",
       "PC      4\n",
       "PS3     4\n",
       "PS4     4\n",
       "PSV     4\n",
       "Wii     4\n",
       "WiiU    4\n",
       "X360    4\n",
       "XOne    4\n",
       "PSP     3\n",
       "DS      1\n",
       "Name: name, dtype: int64"
      ]
     },
     "execution_count": 27,
     "metadata": {},
     "output_type": "execute_result"
    }
   ],
   "source": [
    "plat_cycle = (\n",
    "    df_raw\n",
    "    .query(\"2013 <= year_of_release\")\n",
    "    .pivot_table(index=['platform', 'year_of_release'], values='name', aggfunc='count')\n",
    ")\n",
    "plat_cycle.groupby('platform')['name'].count().sort_values(ascending=False)"
   ]
  },
  {
   "cell_type": "markdown",
   "metadata": {},
   "source": [
    "Жизненный цикл платформ составляет 4 года."
   ]
  },
  {
   "cell_type": "markdown",
   "metadata": {},
   "source": [
    "#### Вывод\n",
    "- Характерный срок жизни популярных игровых платформ составляет 4 года.\n",
    "- Продажи на конец 2015 года падают.\n",
    "- Пик игровой индустрии, судя по графикам, приходится на период 2006-2011 годов.\n",
    "- Потенциал по выручке показывают платформы PS4 и XOne. Так же, все еще в строю, оказались платформы:\n",
    "** PS3,\n",
    "** X360,\n",
    "** 3DS"
   ]
  },
  {
   "cell_type": "markdown",
   "metadata": {},
   "source": [
    "###  «ящик с усами»"
   ]
  },
  {
   "cell_type": "code",
   "execution_count": 28,
   "metadata": {},
   "outputs": [
    {
     "data": {
      "image/png": "[encoded data removed]",
      "text/plain": [
       "<Figure size 1296x1008 with 1 Axes>"
      ]
     },
     "metadata": {
      "needs_background": "light"
     },
     "output_type": "display_data"
    }
   ],
   "source": [
    "plt.figure(figsize=(18,14))\n",
    "\n",
    "ax = sns.boxplot(\n",
    "    y=\"platform\",\n",
    "    x=\"region_sales\",\n",
    "    data=df_period,\n",
    "    orient='h',\n",
    ")\n",
    "\n",
    "ax.grid(which='both')\n",
    "plt.xlabel('выручка, млн', fontsize=22)\n",
    "plt.ylabel('платформы', fontsize=18)\n",
    "plt.title('продажи по платформам', fontsize=22)\n",
    "# ax.set(xlim=(0,1))\n",
    "\n",
    "plt.show()"
   ]
  },
  {
   "cell_type": "code",
   "execution_count": 29,
   "metadata": {},
   "outputs": [
    {
     "data": {
      "image/png": "[encoded data removed]",
      "text/plain": [
       "<Figure size 1296x1008 with 1 Axes>"
      ]
     },
     "metadata": {
      "needs_background": "light"
     },
     "output_type": "display_data"
    }
   ],
   "source": [
    "plt.figure(figsize=(18,14))\n",
    "\n",
    "ax = sns.boxplot(\n",
    "    y=\"platform\",\n",
    "    x=\"region_sales\",\n",
    "    data=df_period,\n",
    "    orient='h',\n",
    ")\n",
    "\n",
    "ax.grid(which='both')\n",
    "plt.xlabel('выручка, млн', fontsize=22)\n",
    "plt.ylabel('платформы', fontsize=18)\n",
    "plt.title('продажи по платформам до 2 млн.', fontsize=22)\n",
    "ax.set(xlim=(0,2))\n",
    "\n",
    "plt.show()"
   ]
  },
  {
   "cell_type": "code",
   "execution_count": 30,
   "metadata": {},
   "outputs": [
    {
     "data": {
      "text/plain": [
       "count    2233.000000\n",
       "mean        0.488442\n",
       "std         1.235226\n",
       "min         0.010000\n",
       "25%         0.030000\n",
       "50%         0.110000\n",
       "75%         0.400000\n",
       "max        21.050000\n",
       "Name: region_sales, dtype: float64"
      ]
     },
     "execution_count": 30,
     "metadata": {},
     "output_type": "execute_result"
    }
   ],
   "source": [
    "df_period['region_sales'].describe()"
   ]
  },
  {
   "cell_type": "markdown",
   "metadata": {},
   "source": [
    "#### Вывод\n",
    "В игровой индустрии полагаются на хиты - это хорошо видно по выбросам. Рядовые игры приносят до 1 млн. выручки. "
   ]
  },
  {
   "cell_type": "markdown",
   "metadata": {},
   "source": [
    "### продажи внутри одной популярной платформы"
   ]
  },
  {
   "cell_type": "code",
   "execution_count": 31,
   "metadata": {},
   "outputs": [],
   "source": [
    "def get_corr_table(data_f, title=None, size=(12, 10)):\n",
    "    \"\"\" Строит цветастую таблицу корреляции всего датафрейма \"\"\"\n",
    "    pirson = data_f.corr().round(2)\n",
    "\n",
    "    # Plot\n",
    "    plt.figure(figsize=size)\n",
    "    sns.heatmap(\n",
    "        pirson,\n",
    "        yticklabels=pirson.index,\n",
    "        cmap='RdYlGn', center=0,\n",
    "        annot=True)\n",
    "\n",
    "    # Decorations\n",
    "    plt.title(title, fontsize=22)\n",
    "    plt.xticks(fontsize=12)\n",
    "    plt.yticks(fontsize=12)\n",
    "    plt.show()\n"
   ]
  },
  {
   "cell_type": "code",
   "execution_count": 32,
   "metadata": {},
   "outputs": [],
   "source": [
    "def get_corr_column(data_f, col, title=None, size=(3, 8)):\n",
    "    \"\"\" строит цветастую таблицу коррелиции для датафрейма\n",
    "    и вытаскивает из него нужный столбец \"\"\"\n",
    "    # коэф Пирсона\n",
    "    pirson = (\n",
    "        data_f\n",
    "        .corr()[[col]]\n",
    "        .round(2).\n",
    "        sort_values(col, ascending=False)\n",
    "    )\n",
    "\n",
    "    pirson = pirson.drop(index=[col])\n",
    "\n",
    "    # Plot\n",
    "    plt.figure(figsize=(size))\n",
    "    sns.heatmap(\n",
    "        pirson,\n",
    "        yticklabels=pirson.index,\n",
    "        cmap='RdYlGn', center=0,\n",
    "        annot=True)\n",
    "\n",
    "    # Decorations\n",
    "    plt.title(f'корреляция по {title}', fontsize=22)\n",
    "    plt.xticks(fontsize=12)\n",
    "    plt.yticks(fontsize=8)\n",
    "    plt.show()\n"
   ]
  },
  {
   "cell_type": "markdown",
   "metadata": {},
   "source": [
    "Определим популярную платформу по количеству выпущенных игр."
   ]
  },
  {
   "cell_type": "code",
   "execution_count": 33,
   "metadata": {},
   "outputs": [
    {
     "data": {
      "text/html": [
       "<div>\n",
       "<style scoped>\n",
       "    .dataframe tbody tr th:only-of-type {\n",
       "        vertical-align: middle;\n",
       "    }\n",
       "\n",
       "    .dataframe tbody tr th {\n",
       "        vertical-align: top;\n",
       "    }\n",
       "\n",
       "    .dataframe thead th {\n",
       "        text-align: right;\n",
       "    }\n",
       "</style>\n",
       "<table border=\"1\" class=\"dataframe\">\n",
       "  <thead>\n",
       "    <tr style=\"text-align: right;\">\n",
       "      <th></th>\n",
       "      <th>platform</th>\n",
       "      <th>name</th>\n",
       "    </tr>\n",
       "  </thead>\n",
       "  <tbody>\n",
       "    <tr>\n",
       "      <th>4</th>\n",
       "      <td>PS4</td>\n",
       "      <td>392</td>\n",
       "    </tr>\n",
       "    <tr>\n",
       "      <th>6</th>\n",
       "      <td>PSV</td>\n",
       "      <td>358</td>\n",
       "    </tr>\n",
       "    <tr>\n",
       "      <th>3</th>\n",
       "      <td>PS3</td>\n",
       "      <td>345</td>\n",
       "    </tr>\n",
       "    <tr>\n",
       "      <th>0</th>\n",
       "      <td>3DS</td>\n",
       "      <td>303</td>\n",
       "    </tr>\n",
       "    <tr>\n",
       "      <th>10</th>\n",
       "      <td>XOne</td>\n",
       "      <td>247</td>\n",
       "    </tr>\n",
       "    <tr>\n",
       "      <th>2</th>\n",
       "      <td>PC</td>\n",
       "      <td>189</td>\n",
       "    </tr>\n",
       "    <tr>\n",
       "      <th>9</th>\n",
       "      <td>X360</td>\n",
       "      <td>186</td>\n",
       "    </tr>\n",
       "    <tr>\n",
       "      <th>8</th>\n",
       "      <td>WiiU</td>\n",
       "      <td>115</td>\n",
       "    </tr>\n",
       "    <tr>\n",
       "      <th>5</th>\n",
       "      <td>PSP</td>\n",
       "      <td>67</td>\n",
       "    </tr>\n",
       "    <tr>\n",
       "      <th>7</th>\n",
       "      <td>Wii</td>\n",
       "      <td>23</td>\n",
       "    </tr>\n",
       "    <tr>\n",
       "      <th>1</th>\n",
       "      <td>DS</td>\n",
       "      <td>8</td>\n",
       "    </tr>\n",
       "  </tbody>\n",
       "</table>\n",
       "</div>"
      ],
      "text/plain": [
       "   platform  name\n",
       "4       PS4   392\n",
       "6       PSV   358\n",
       "3       PS3   345\n",
       "0       3DS   303\n",
       "10     XOne   247\n",
       "2        PC   189\n",
       "9      X360   186\n",
       "8      WiiU   115\n",
       "5       PSP    67\n",
       "7       Wii    23\n",
       "1        DS     8"
      ]
     },
     "execution_count": 33,
     "metadata": {},
     "output_type": "execute_result"
    }
   ],
   "source": [
    "(\n",
    "    df_period\n",
    "    .pivot_table(index='platform', values='name', aggfunc='count')\n",
    "    .reset_index()\n",
    "    .sort_values('name', ascending=False)\n",
    ")"
   ]
  },
  {
   "cell_type": "markdown",
   "metadata": {},
   "source": [
    "Рассмотрим продажи по PS4"
   ]
  },
  {
   "cell_type": "code",
   "execution_count": 34,
   "metadata": {},
   "outputs": [],
   "source": [
    "df_ps = df_period.query(\" platform == 'PS4'\")"
   ]
  },
  {
   "cell_type": "code",
   "execution_count": 35,
   "metadata": {},
   "outputs": [
    {
     "data": {
      "image/png": "[encoded data removed]",
      "text/plain": [
       "<Figure size 1152x720 with 2 Axes>"
      ]
     },
     "metadata": {
      "needs_background": "light"
     },
     "output_type": "display_data"
    }
   ],
   "source": [
    "get_corr_table(\n",
    "    df_ps[\n",
    "        ['na_sales',\n",
    "         'eu_sales',\n",
    "         'jp_sales',\n",
    "         'other_sales',\n",
    "         'critic_score',\n",
    "         'user_score',\n",
    "         'rating',\n",
    "         'region_sales'\n",
    "        ]\n",
    "    ],\n",
    "    size=(16, 10)\n",
    ")"
   ]
  },
  {
   "cell_type": "code",
   "execution_count": 36,
   "metadata": {},
   "outputs": [
    {
     "data": {
      "image/png": "[encoded data removed]",
      "text/plain": [
       "<Figure size 216x576 with 2 Axes>"
      ]
     },
     "metadata": {
      "needs_background": "light"
     },
     "output_type": "display_data"
    }
   ],
   "source": [
    "get_corr_column(df_ps, 'region_sales', title='общим продажам')"
   ]
  },
  {
   "cell_type": "markdown",
   "metadata": {},
   "source": [
    "Умеренная линейная корреляция между продажами и отзывами критиков. Построим диаграммы рассеивания"
   ]
  },
  {
   "cell_type": "code",
   "execution_count": 37,
   "metadata": {},
   "outputs": [
    {
     "name": "stderr",
     "output_type": "stream",
     "text": [
      "C:\\Users\\Alex\\AppData\\Roaming\\Python\\Python310\\site-packages\\seaborn\\_decorators.py:36: FutureWarning: Pass the following variables as keyword args: x, y. From version 0.12, the only valid positional argument will be `data`, and passing other arguments without an explicit keyword will result in an error or misinterpretation.\n",
      "  warnings.warn(\n"
     ]
    },
    {
     "data": {
      "image/png": "[encoded data removed]",
      "text/plain": [
       "<Figure size 1600x400 with 1 Axes>"
      ]
     },
     "metadata": {
      "needs_background": "light"
     },
     "output_type": "display_data"
    }
   ],
   "source": [
    "# Draw Stripplot\n",
    "fig, ax = plt.subplots(figsize=(20,5), dpi= 80) \n",
    "\n",
    "sns.stripplot(df_ps['critic_score'], df_ps['region_sales'], jitter=0.25, size=8, ax=ax, linewidth=.5)\n",
    "\n",
    "# Decorations\n",
    "plt.title('Диаграмма рассеяния оценки критиков и продаж', fontsize=22)\n",
    "plt.xlabel('оценки критиков', fontsize=18)\n",
    "plt.ylabel('продажи')\n",
    "ax.grid()\n",
    "\n",
    "plt.show()"
   ]
  },
  {
   "cell_type": "code",
   "execution_count": 38,
   "metadata": {},
   "outputs": [
    {
     "name": "stderr",
     "output_type": "stream",
     "text": [
      "C:\\Users\\Alex\\AppData\\Roaming\\Python\\Python310\\site-packages\\seaborn\\_decorators.py:36: FutureWarning: Pass the following variables as keyword args: x, y. From version 0.12, the only valid positional argument will be `data`, and passing other arguments without an explicit keyword will result in an error or misinterpretation.\n",
      "  warnings.warn(\n"
     ]
    },
    {
     "data": {
      "image/png": "[encoded data removed]",
      "text/plain": [
       "<Figure size 1440x400 with 1 Axes>"
      ]
     },
     "metadata": {
      "needs_background": "light"
     },
     "output_type": "display_data"
    }
   ],
   "source": [
    "# Draw Stripplot\n",
    "fig, ax = plt.subplots(figsize=(18,5), dpi= 80)    \n",
    "sns.stripplot(df_ps['user_score'], df_ps['region_sales'], jitter=0.5, size=8, ax=ax, linewidth=.5)\n",
    "\n",
    "# Decorations\n",
    "plt.title('Диаграмма рассеяния оценки пользователей и продаж', fontsize=22)\n",
    "plt.xlabel('оценки пользователей', fontsize=22)\n",
    "plt.ylabel('продажи')\n",
    "ax.grid()\n",
    "plt.show()"
   ]
  },
  {
   "cell_type": "markdown",
   "metadata": {},
   "source": [
    "#### Вывод\n",
    "Оценки критиков умеренно влияют на продажи игр"
   ]
  },
  {
   "cell_type": "markdown",
   "metadata": {},
   "source": [
    "### продажи на остальных платформах"
   ]
  },
  {
   "cell_type": "code",
   "execution_count": 39,
   "metadata": {},
   "outputs": [
    {
     "name": "stdout",
     "output_type": "stream",
     "text": [
      "======PS3=====\n",
      "critic_score    0.33\n",
      "user_score      0.00\n",
      "Name: region_sales, dtype: float64\n",
      "\n",
      "======X360=====\n",
      "critic_score    0.35\n",
      "user_score     -0.01\n",
      "Name: region_sales, dtype: float64\n",
      "\n",
      "======PS4=====\n",
      "critic_score    0.41\n",
      "user_score     -0.03\n",
      "Name: region_sales, dtype: float64\n",
      "\n",
      "======3DS=====\n",
      "critic_score    0.36\n",
      "user_score      0.24\n",
      "Name: region_sales, dtype: float64\n",
      "\n",
      "======XOne=====\n",
      "critic_score    0.42\n",
      "user_score     -0.07\n",
      "Name: region_sales, dtype: float64\n",
      "\n",
      "======WiiU=====\n",
      "user_score      0.42\n",
      "critic_score    0.38\n",
      "Name: region_sales, dtype: float64\n",
      "\n",
      "======Wii=====\n",
      "user_score      0.68\n",
      "critic_score     NaN\n",
      "Name: region_sales, dtype: float64\n",
      "\n",
      "======PC=====\n",
      "critic_score    0.20\n",
      "user_score     -0.09\n",
      "Name: region_sales, dtype: float64\n",
      "\n",
      "======PSV=====\n",
      "critic_score    0.25\n",
      "user_score      0.00\n",
      "Name: region_sales, dtype: float64\n",
      "\n",
      "======DS=====\n",
      "critic_score   NaN\n",
      "user_score     NaN\n",
      "Name: region_sales, dtype: float64\n",
      "\n",
      "======PSP=====\n",
      "user_score     -1.0\n",
      "critic_score    NaN\n",
      "Name: region_sales, dtype: float64\n",
      "\n"
     ]
    }
   ],
   "source": [
    "for plat in df_period['platform'].unique().tolist():\n",
    "    \n",
    "    print(f'======{plat}=====')\n",
    "    print(\n",
    "        df_period\n",
    "        .query(\"platform == @plat\")\n",
    "        .corr()\n",
    "        .loc[ ['critic_score', 'user_score'] ,'region_sales' ]\n",
    "        .round(2)\n",
    "        .sort_values(ascending=False)\n",
    "    )    \n",
    "    print()"
   ]
  },
  {
   "cell_type": "markdown",
   "metadata": {},
   "source": [
    "Рассмотрим чем вызвана обратная корреляция -1 у платформы PSP."
   ]
  },
  {
   "cell_type": "code",
   "execution_count": 40,
   "metadata": {},
   "outputs": [
    {
     "data": {
      "text/html": [
       "<div>\n",
       "<style scoped>\n",
       "    .dataframe tbody tr th:only-of-type {\n",
       "        vertical-align: middle;\n",
       "    }\n",
       "\n",
       "    .dataframe tbody tr th {\n",
       "        vertical-align: top;\n",
       "    }\n",
       "\n",
       "    .dataframe thead th {\n",
       "        text-align: right;\n",
       "    }\n",
       "</style>\n",
       "<table border=\"1\" class=\"dataframe\">\n",
       "  <thead>\n",
       "    <tr style=\"text-align: right;\">\n",
       "      <th></th>\n",
       "      <th>platform</th>\n",
       "      <th>user_score</th>\n",
       "    </tr>\n",
       "  </thead>\n",
       "  <tbody>\n",
       "    <tr>\n",
       "      <th>7875</th>\n",
       "      <td>PSP</td>\n",
       "      <td>3.4</td>\n",
       "    </tr>\n",
       "    <tr>\n",
       "      <th>8969</th>\n",
       "      <td>PSP</td>\n",
       "      <td>8.3</td>\n",
       "    </tr>\n",
       "  </tbody>\n",
       "</table>\n",
       "</div>"
      ],
      "text/plain": [
       "     platform  user_score\n",
       "7875      PSP         3.4\n",
       "8969      PSP         8.3"
      ]
     },
     "execution_count": 40,
     "metadata": {},
     "output_type": "execute_result"
    }
   ],
   "source": [
    "(\n",
    "    df_period\n",
    "    \n",
    "    # срез по платформам\n",
    "    .query(\"platform == 'PSP'\")\n",
    "    \n",
    "    # срез по непустым значениям\n",
    "    .query(\"~user_score.isna()\")\n",
    "    \n",
    "    [['platform', 'user_score']]\n",
    ")"
   ]
  },
  {
   "cell_type": "markdown",
   "metadata": {},
   "source": [
    "Малое количество оценок. Недостаточно, для вывода о взаимосвязи."
   ]
  },
  {
   "cell_type": "markdown",
   "metadata": {},
   "source": [
    "Модифицируем функцию, описанную выше и посмотрим на все оценки."
   ]
  },
  {
   "cell_type": "code",
   "execution_count": 41,
   "metadata": {},
   "outputs": [
    {
     "name": "stderr",
     "output_type": "stream",
     "text": [
      "C:\\Users\\Alex\\AppData\\Local\\Temp/ipykernel_3224/250601476.py:2: FutureWarning: The default dtype for empty Series will be 'object' instead of 'float64' in a future version. Specify a dtype explicitly to silence this warning.\n",
      "  df_plat_corr = pd.Series(index=['critic_score', 'user_score'])\n"
     ]
    },
    {
     "data": {
      "text/html": [
       "<div>\n",
       "<style scoped>\n",
       "    .dataframe tbody tr th:only-of-type {\n",
       "        vertical-align: middle;\n",
       "    }\n",
       "\n",
       "    .dataframe tbody tr th {\n",
       "        vertical-align: top;\n",
       "    }\n",
       "\n",
       "    .dataframe thead th {\n",
       "        text-align: right;\n",
       "    }\n",
       "</style>\n",
       "<table border=\"1\" class=\"dataframe\">\n",
       "  <thead>\n",
       "    <tr style=\"text-align: right;\">\n",
       "      <th></th>\n",
       "      <th>PS3</th>\n",
       "      <th>X360</th>\n",
       "      <th>PS4</th>\n",
       "      <th>3DS</th>\n",
       "      <th>XOne</th>\n",
       "      <th>WiiU</th>\n",
       "      <th>Wii</th>\n",
       "      <th>PC</th>\n",
       "      <th>PSV</th>\n",
       "      <th>DS</th>\n",
       "      <th>PSP</th>\n",
       "    </tr>\n",
       "  </thead>\n",
       "  <tbody>\n",
       "    <tr>\n",
       "      <th>critic_score</th>\n",
       "      <td>0.33</td>\n",
       "      <td>0.35</td>\n",
       "      <td>0.41</td>\n",
       "      <td>0.36</td>\n",
       "      <td>0.42</td>\n",
       "      <td>0.38</td>\n",
       "      <td>NaN</td>\n",
       "      <td>0.20</td>\n",
       "      <td>0.25</td>\n",
       "      <td>NaN</td>\n",
       "      <td>NaN</td>\n",
       "    </tr>\n",
       "    <tr>\n",
       "      <th>user_score</th>\n",
       "      <td>0.00</td>\n",
       "      <td>-0.01</td>\n",
       "      <td>-0.03</td>\n",
       "      <td>0.24</td>\n",
       "      <td>-0.07</td>\n",
       "      <td>0.42</td>\n",
       "      <td>0.68</td>\n",
       "      <td>-0.09</td>\n",
       "      <td>0.00</td>\n",
       "      <td>NaN</td>\n",
       "      <td>-1.0</td>\n",
       "    </tr>\n",
       "    <tr>\n",
       "      <th>Кол-во игр</th>\n",
       "      <td>345.00</td>\n",
       "      <td>186.00</td>\n",
       "      <td>392.00</td>\n",
       "      <td>303.00</td>\n",
       "      <td>247.00</td>\n",
       "      <td>115.00</td>\n",
       "      <td>23.00</td>\n",
       "      <td>189.00</td>\n",
       "      <td>358.00</td>\n",
       "      <td>8.0</td>\n",
       "      <td>67.0</td>\n",
       "    </tr>\n",
       "    <tr>\n",
       "      <th>Кол-во оценок критиков</th>\n",
       "      <td>121.00</td>\n",
       "      <td>81.00</td>\n",
       "      <td>252.00</td>\n",
       "      <td>71.00</td>\n",
       "      <td>169.00</td>\n",
       "      <td>70.00</td>\n",
       "      <td>0.00</td>\n",
       "      <td>149.00</td>\n",
       "      <td>77.00</td>\n",
       "      <td>0.0</td>\n",
       "      <td>1.0</td>\n",
       "    </tr>\n",
       "    <tr>\n",
       "      <th>Кол-во оценок пользователей</th>\n",
       "      <td>186.00</td>\n",
       "      <td>143.00</td>\n",
       "      <td>257.00</td>\n",
       "      <td>80.00</td>\n",
       "      <td>182.00</td>\n",
       "      <td>80.00</td>\n",
       "      <td>7.00</td>\n",
       "      <td>155.00</td>\n",
       "      <td>99.00</td>\n",
       "      <td>1.0</td>\n",
       "      <td>2.0</td>\n",
       "    </tr>\n",
       "  </tbody>\n",
       "</table>\n",
       "</div>"
      ],
      "text/plain": [
       "                                PS3    X360     PS4     3DS    XOne    WiiU  \\\n",
       "critic_score                   0.33    0.35    0.41    0.36    0.42    0.38   \n",
       "user_score                     0.00   -0.01   -0.03    0.24   -0.07    0.42   \n",
       "Кол-во игр                   345.00  186.00  392.00  303.00  247.00  115.00   \n",
       "Кол-во оценок критиков       121.00   81.00  252.00   71.00  169.00   70.00   \n",
       "Кол-во оценок пользователей  186.00  143.00  257.00   80.00  182.00   80.00   \n",
       "\n",
       "                               Wii      PC     PSV   DS   PSP  \n",
       "critic_score                   NaN    0.20    0.25  NaN   NaN  \n",
       "user_score                    0.68   -0.09    0.00  NaN  -1.0  \n",
       "Кол-во игр                   23.00  189.00  358.00  8.0  67.0  \n",
       "Кол-во оценок критиков        0.00  149.00   77.00  0.0   1.0  \n",
       "Кол-во оценок пользователей   7.00  155.00   99.00  1.0   2.0  "
      ]
     },
     "execution_count": 41,
     "metadata": {},
     "output_type": "execute_result"
    }
   ],
   "source": [
    "# пустой сериес\n",
    "df_plat_corr = pd.Series(index=['critic_score', 'user_score'])\n",
    "\n",
    "# проходим по всем платформам\n",
    "for plat in df_period['platform'].unique().tolist():\n",
    "    \n",
    "    \n",
    "    df_temp = (\n",
    "        df_period\n",
    "        \n",
    "#         срез по платформам\n",
    "        .query(\"platform == @plat\")\n",
    "        \n",
    "        .corr()\n",
    "        .loc[ ['critic_score', 'user_score'] ,'region_sales' ]\n",
    "        .round(2)\n",
    "        .sort_values(ascending=False)\n",
    "    )\n",
    "#     соединяем пустой сериес с df_temp\n",
    "    df_plat_corr = pd.concat([df_plat_corr, df_temp], axis=1)\n",
    "    \n",
    "# удаляем столбец 0. появился от пустого сериес в начале\n",
    "del df_plat_corr[0]\n",
    "\n",
    "# переименовываем столбцы\n",
    "df_plat_corr.columns = df_period['platform'].unique()\n",
    "\n",
    "\n",
    "for plat in df_plat_corr.columns:\n",
    "    # добавляем строки\n",
    "    \n",
    "    df_plat_corr.loc['Кол-во игр', plat] = len( df_period.query(\" platform == @plat \"))\n",
    "    \n",
    "    df_plat_corr.loc['Кол-во оценок критиков', plat] = (\n",
    "            len( df_period.query(\" platform == @plat \")\n",
    "            .query(\"~critic_score.isna()\") )\n",
    "        )\n",
    "    \n",
    "    df_plat_corr.loc['Кол-во оценок пользователей', plat] = (\n",
    "            len(df_period.query(\" platform == @plat \")\n",
    "            .query(\"~user_score.isna()\"))\n",
    "        )\n",
    "\n",
    "df_plat_corr\n"
   ]
  },
  {
   "cell_type": "markdown",
   "metadata": {},
   "source": [
    "Wii, DS, PSP имеют малое количество оценок, чтобы делать выводы о взаимосвязи"
   ]
  },
  {
   "cell_type": "code",
   "execution_count": 42,
   "metadata": {},
   "outputs": [],
   "source": [
    "# много раз проверял, надоело, что выдает ошибку. заключил в try-except\n",
    "try:\n",
    "    del df_plat_corr['Wii']\n",
    "    del df_plat_corr['DS']\n",
    "    del df_plat_corr['PSP']\n",
    "except:\n",
    "    pass"
   ]
  },
  {
   "cell_type": "code",
   "execution_count": 43,
   "metadata": {},
   "outputs": [
    {
     "name": "stdout",
     "output_type": "stream",
     "text": [
      "таблица корреляции продаж от оценок\n"
     ]
    },
    {
     "data": {
      "text/html": [
       "<div>\n",
       "<style scoped>\n",
       "    .dataframe tbody tr th:only-of-type {\n",
       "        vertical-align: middle;\n",
       "    }\n",
       "\n",
       "    .dataframe tbody tr th {\n",
       "        vertical-align: top;\n",
       "    }\n",
       "\n",
       "    .dataframe thead th {\n",
       "        text-align: right;\n",
       "    }\n",
       "</style>\n",
       "<table border=\"1\" class=\"dataframe\">\n",
       "  <thead>\n",
       "    <tr style=\"text-align: right;\">\n",
       "      <th></th>\n",
       "      <th>PS3</th>\n",
       "      <th>X360</th>\n",
       "      <th>PS4</th>\n",
       "      <th>3DS</th>\n",
       "      <th>XOne</th>\n",
       "      <th>WiiU</th>\n",
       "      <th>PC</th>\n",
       "      <th>PSV</th>\n",
       "    </tr>\n",
       "  </thead>\n",
       "  <tbody>\n",
       "    <tr>\n",
       "      <th>critic_score</th>\n",
       "      <td>0.33</td>\n",
       "      <td>0.35</td>\n",
       "      <td>0.41</td>\n",
       "      <td>0.36</td>\n",
       "      <td>0.42</td>\n",
       "      <td>0.38</td>\n",
       "      <td>0.20</td>\n",
       "      <td>0.25</td>\n",
       "    </tr>\n",
       "    <tr>\n",
       "      <th>user_score</th>\n",
       "      <td>0.00</td>\n",
       "      <td>-0.01</td>\n",
       "      <td>-0.03</td>\n",
       "      <td>0.24</td>\n",
       "      <td>-0.07</td>\n",
       "      <td>0.42</td>\n",
       "      <td>-0.09</td>\n",
       "      <td>0.00</td>\n",
       "    </tr>\n",
       "    <tr>\n",
       "      <th>Кол-во игр</th>\n",
       "      <td>345.00</td>\n",
       "      <td>186.00</td>\n",
       "      <td>392.00</td>\n",
       "      <td>303.00</td>\n",
       "      <td>247.00</td>\n",
       "      <td>115.00</td>\n",
       "      <td>189.00</td>\n",
       "      <td>358.00</td>\n",
       "    </tr>\n",
       "    <tr>\n",
       "      <th>Кол-во оценок критиков</th>\n",
       "      <td>121.00</td>\n",
       "      <td>81.00</td>\n",
       "      <td>252.00</td>\n",
       "      <td>71.00</td>\n",
       "      <td>169.00</td>\n",
       "      <td>70.00</td>\n",
       "      <td>149.00</td>\n",
       "      <td>77.00</td>\n",
       "    </tr>\n",
       "    <tr>\n",
       "      <th>Кол-во оценок пользователей</th>\n",
       "      <td>186.00</td>\n",
       "      <td>143.00</td>\n",
       "      <td>257.00</td>\n",
       "      <td>80.00</td>\n",
       "      <td>182.00</td>\n",
       "      <td>80.00</td>\n",
       "      <td>155.00</td>\n",
       "      <td>99.00</td>\n",
       "    </tr>\n",
       "  </tbody>\n",
       "</table>\n",
       "</div>"
      ],
      "text/plain": [
       "                                PS3    X360     PS4     3DS    XOne    WiiU  \\\n",
       "critic_score                   0.33    0.35    0.41    0.36    0.42    0.38   \n",
       "user_score                     0.00   -0.01   -0.03    0.24   -0.07    0.42   \n",
       "Кол-во игр                   345.00  186.00  392.00  303.00  247.00  115.00   \n",
       "Кол-во оценок критиков       121.00   81.00  252.00   71.00  169.00   70.00   \n",
       "Кол-во оценок пользователей  186.00  143.00  257.00   80.00  182.00   80.00   \n",
       "\n",
       "                                 PC     PSV  \n",
       "critic_score                   0.20    0.25  \n",
       "user_score                    -0.09    0.00  \n",
       "Кол-во игр                   189.00  358.00  \n",
       "Кол-во оценок критиков       149.00   77.00  \n",
       "Кол-во оценок пользователей  155.00   99.00  "
      ]
     },
     "execution_count": 43,
     "metadata": {},
     "output_type": "execute_result"
    }
   ],
   "source": [
    "print('таблица корреляции продаж от оценок')\n",
    "df_plat_corr"
   ]
  },
  {
   "cell_type": "markdown",
   "metadata": {},
   "source": [
    "#### Вывод\n",
    "- На остальных платформах умереренная корреляция между продажами и оценками критиков. PC, PCV - показывают слабую взаимосвязь.\n",
    "- Оценки пользователей, практически, не влияют на продажи. На платформах WiiU, оценки пользователей показывают умеренную корреляцию."
   ]
  },
  {
   "cell_type": "markdown",
   "metadata": {},
   "source": [
    "### распределение игр по жанрам"
   ]
  },
  {
   "cell_type": "code",
   "execution_count": 44,
   "metadata": {},
   "outputs": [
    {
     "data": {
      "text/html": [
       "<div>\n",
       "<style scoped>\n",
       "    .dataframe tbody tr th:only-of-type {\n",
       "        vertical-align: middle;\n",
       "    }\n",
       "\n",
       "    .dataframe tbody tr th {\n",
       "        vertical-align: top;\n",
       "    }\n",
       "\n",
       "    .dataframe thead th {\n",
       "        text-align: right;\n",
       "    }\n",
       "</style>\n",
       "<table border=\"1\" class=\"dataframe\">\n",
       "  <thead>\n",
       "    <tr style=\"text-align: right;\">\n",
       "      <th></th>\n",
       "      <th>genre</th>\n",
       "      <th>region_sales</th>\n",
       "    </tr>\n",
       "  </thead>\n",
       "  <tbody>\n",
       "    <tr>\n",
       "      <th>8</th>\n",
       "      <td>Shooter</td>\n",
       "      <td>0.450</td>\n",
       "    </tr>\n",
       "    <tr>\n",
       "      <th>10</th>\n",
       "      <td>Sports</td>\n",
       "      <td>0.240</td>\n",
       "    </tr>\n",
       "    <tr>\n",
       "      <th>4</th>\n",
       "      <td>Platform</td>\n",
       "      <td>0.225</td>\n",
       "    </tr>\n",
       "    <tr>\n",
       "      <th>7</th>\n",
       "      <td>Role-Playing</td>\n",
       "      <td>0.125</td>\n",
       "    </tr>\n",
       "    <tr>\n",
       "      <th>2</th>\n",
       "      <td>Fighting</td>\n",
       "      <td>0.125</td>\n",
       "    </tr>\n",
       "    <tr>\n",
       "      <th>6</th>\n",
       "      <td>Racing</td>\n",
       "      <td>0.120</td>\n",
       "    </tr>\n",
       "    <tr>\n",
       "      <th>0</th>\n",
       "      <td>Action</td>\n",
       "      <td>0.110</td>\n",
       "    </tr>\n",
       "    <tr>\n",
       "      <th>9</th>\n",
       "      <td>Simulation</td>\n",
       "      <td>0.100</td>\n",
       "    </tr>\n",
       "    <tr>\n",
       "      <th>3</th>\n",
       "      <td>Misc</td>\n",
       "      <td>0.100</td>\n",
       "    </tr>\n",
       "    <tr>\n",
       "      <th>11</th>\n",
       "      <td>Strategy</td>\n",
       "      <td>0.080</td>\n",
       "    </tr>\n",
       "    <tr>\n",
       "      <th>5</th>\n",
       "      <td>Puzzle</td>\n",
       "      <td>0.060</td>\n",
       "    </tr>\n",
       "    <tr>\n",
       "      <th>1</th>\n",
       "      <td>Adventure</td>\n",
       "      <td>0.030</td>\n",
       "    </tr>\n",
       "  </tbody>\n",
       "</table>\n",
       "</div>"
      ],
      "text/plain": [
       "           genre  region_sales\n",
       "8        Shooter         0.450\n",
       "10        Sports         0.240\n",
       "4       Platform         0.225\n",
       "7   Role-Playing         0.125\n",
       "2       Fighting         0.125\n",
       "6         Racing         0.120\n",
       "0         Action         0.110\n",
       "9     Simulation         0.100\n",
       "3           Misc         0.100\n",
       "11      Strategy         0.080\n",
       "5         Puzzle         0.060\n",
       "1      Adventure         0.030"
      ]
     },
     "metadata": {},
     "output_type": "display_data"
    }
   ],
   "source": [
    "display(\n",
    "    df_period\n",
    "    .pivot_table(index='genre', values='region_sales', aggfunc='median' )\n",
    "    .reset_index()\n",
    "    .sort_values(by='region_sales', ascending=False)\n",
    ")"
   ]
  },
  {
   "cell_type": "markdown",
   "metadata": {},
   "source": [
    "#### Вывод\n",
    "Чем активнее игра, тем большую выручку она приносит(как правило, это шутеры, спортивные игры). Наоборот, чем спокойнее - тем ниже(пазлы, симуляторы)."
   ]
  },
  {
   "cell_type": "markdown",
   "metadata": {},
   "source": [
    "## Портреты пользователя каждого региона"
   ]
  },
  {
   "cell_type": "markdown",
   "metadata": {},
   "source": [
    "### популярные платформы"
   ]
  },
  {
   "cell_type": "code",
   "execution_count": 45,
   "metadata": {},
   "outputs": [
    {
     "data": {
      "text/html": [
       "<div>\n",
       "<style scoped>\n",
       "    .dataframe tbody tr th:only-of-type {\n",
       "        vertical-align: middle;\n",
       "    }\n",
       "\n",
       "    .dataframe tbody tr th {\n",
       "        vertical-align: top;\n",
       "    }\n",
       "\n",
       "    .dataframe thead th {\n",
       "        text-align: right;\n",
       "    }\n",
       "</style>\n",
       "<table border=\"1\" class=\"dataframe\">\n",
       "  <thead>\n",
       "    <tr style=\"text-align: right;\">\n",
       "      <th></th>\n",
       "      <th>eu_sales</th>\n",
       "      <th>jp_sales</th>\n",
       "      <th>na_sales</th>\n",
       "    </tr>\n",
       "    <tr>\n",
       "      <th>platform</th>\n",
       "      <th></th>\n",
       "      <th></th>\n",
       "      <th></th>\n",
       "    </tr>\n",
       "  </thead>\n",
       "  <tbody>\n",
       "    <tr>\n",
       "      <th>3DS</th>\n",
       "      <td>30.96</td>\n",
       "      <td>67.81</td>\n",
       "      <td>38.20</td>\n",
       "    </tr>\n",
       "    <tr>\n",
       "      <th>DS</th>\n",
       "      <td>0.85</td>\n",
       "      <td>0.00</td>\n",
       "      <td>0.57</td>\n",
       "    </tr>\n",
       "    <tr>\n",
       "      <th>PC</th>\n",
       "      <td>25.36</td>\n",
       "      <td>0.00</td>\n",
       "      <td>11.11</td>\n",
       "    </tr>\n",
       "    <tr>\n",
       "      <th>PS3</th>\n",
       "      <td>67.81</td>\n",
       "      <td>23.35</td>\n",
       "      <td>63.50</td>\n",
       "    </tr>\n",
       "    <tr>\n",
       "      <th>PS4</th>\n",
       "      <td>141.09</td>\n",
       "      <td>15.96</td>\n",
       "      <td>108.74</td>\n",
       "    </tr>\n",
       "    <tr>\n",
       "      <th>PSP</th>\n",
       "      <td>0.17</td>\n",
       "      <td>3.29</td>\n",
       "      <td>0.00</td>\n",
       "    </tr>\n",
       "    <tr>\n",
       "      <th>PSV</th>\n",
       "      <td>6.10</td>\n",
       "      <td>18.59</td>\n",
       "      <td>5.04</td>\n",
       "    </tr>\n",
       "    <tr>\n",
       "      <th>Wii</th>\n",
       "      <td>5.93</td>\n",
       "      <td>0.05</td>\n",
       "      <td>6.56</td>\n",
       "    </tr>\n",
       "    <tr>\n",
       "      <th>WiiU</th>\n",
       "      <td>19.85</td>\n",
       "      <td>10.88</td>\n",
       "      <td>29.21</td>\n",
       "    </tr>\n",
       "    <tr>\n",
       "      <th>X360</th>\n",
       "      <td>42.52</td>\n",
       "      <td>0.51</td>\n",
       "      <td>81.66</td>\n",
       "    </tr>\n",
       "    <tr>\n",
       "      <th>XOne</th>\n",
       "      <td>51.59</td>\n",
       "      <td>0.34</td>\n",
       "      <td>93.12</td>\n",
       "    </tr>\n",
       "  </tbody>\n",
       "</table>\n",
       "</div>"
      ],
      "text/plain": [
       "          eu_sales  jp_sales  na_sales\n",
       "platform                              \n",
       "3DS          30.96     67.81     38.20\n",
       "DS            0.85      0.00      0.57\n",
       "PC           25.36      0.00     11.11\n",
       "PS3          67.81     23.35     63.50\n",
       "PS4         141.09     15.96    108.74\n",
       "PSP           0.17      3.29      0.00\n",
       "PSV           6.10     18.59      5.04\n",
       "Wii           5.93      0.05      6.56\n",
       "WiiU         19.85     10.88     29.21\n",
       "X360         42.52      0.51     81.66\n",
       "XOne         51.59      0.34     93.12"
      ]
     },
     "execution_count": 45,
     "metadata": {},
     "output_type": "execute_result"
    }
   ],
   "source": [
    "# группируем по платформам\n",
    "user_plat = (\n",
    "    df_period\n",
    "    .pivot_table(\n",
    "        index='platform',\n",
    "        values=['na_sales', 'eu_sales', 'jp_sales'],\n",
    "        aggfunc='sum')\n",
    "\n",
    ")\n",
    "user_plat"
   ]
  },
  {
   "cell_type": "code",
   "execution_count": 46,
   "metadata": {},
   "outputs": [
    {
     "data": {
      "image/png": "[encoded data removed]",
      "text/plain": [
       "<Figure size 1296x288 with 3 Axes>"
      ]
     },
     "metadata": {
      "needs_background": "light"
     },
     "output_type": "display_data"
    }
   ],
   "source": [
    "fig = plt.figure(figsize=(18, 4))\n",
    "grid = plt.GridSpec(1, 3, wspace=0.2)\n",
    "\n",
    "ax_l = fig.add_subplot(grid[0,0] )\n",
    "ax_center = fig.add_subplot(grid[0,1])\n",
    "ax_r = fig.add_subplot(grid[0,2])\n",
    "\n",
    "# Строим столбчатые диаграммы для каждого региона\n",
    "user_plat['na_sales'].sort_values(ascending=False).head().plot(kind='bar', y='na_sales', ax=ax_l, legend=False)\n",
    "user_plat['jp_sales'].sort_values(ascending=False).head().plot(kind='bar', y='jp_sales', ax=ax_r, legend=False)\n",
    "user_plat['eu_sales'].sort_values(ascending=False).head().plot(kind='bar', y='eu_sales', ax=ax_center, legend=False)\n",
    "\n",
    "ax_l.set(xlabel='Cеверная Америка')\n",
    "ax_center.set(xlabel='Европа')\n",
    "ax_r.set(xlabel='Япония')\n",
    "\n",
    "ax_center.set(title='Рейтинг платформ')\n",
    "ax_center.title.set_fontsize(20)\n",
    "\n",
    "plt.show();"
   ]
  },
  {
   "cell_type": "markdown",
   "metadata": {},
   "source": [
    "#### Вывод\n",
    "- Северная Америка отдает предпочтение родным консолям семейства xbox и платформе PS4.\n",
    "- В Европе любят поиграть в семейство PlayStation.\n",
    "- Япония, родина Nintendo, все так же отдает предпочтение этому семейству приставок (3DS)."
   ]
  },
  {
   "cell_type": "markdown",
   "metadata": {},
   "source": [
    "### Популярные жанры"
   ]
  },
  {
   "cell_type": "raw",
   "metadata": {},
   "source": [
    "print( len(df_2008.query('na_sales != 0').query(\" genre == 'Role-Playing'\") ))\n",
    "print( len(df_2008.query('eu_sales != 0').query(\" genre == 'Role-Playing'\") ))\n",
    "print( len(df_2008.query('jp_sales != 0').query(\" genre == 'Role-Playing'\") ))"
   ]
  },
  {
   "cell_type": "code",
   "execution_count": 47,
   "metadata": {},
   "outputs": [
    {
     "data": {
      "text/html": [
       "<div>\n",
       "<style scoped>\n",
       "    .dataframe tbody tr th:only-of-type {\n",
       "        vertical-align: middle;\n",
       "    }\n",
       "\n",
       "    .dataframe tbody tr th {\n",
       "        vertical-align: top;\n",
       "    }\n",
       "\n",
       "    .dataframe thead th {\n",
       "        text-align: right;\n",
       "    }\n",
       "</style>\n",
       "<table border=\"1\" class=\"dataframe\">\n",
       "  <thead>\n",
       "    <tr style=\"text-align: right;\">\n",
       "      <th></th>\n",
       "      <th>eu_sales</th>\n",
       "      <th>jp_sales</th>\n",
       "      <th>na_sales</th>\n",
       "    </tr>\n",
       "    <tr>\n",
       "      <th>genre</th>\n",
       "      <th></th>\n",
       "      <th></th>\n",
       "      <th></th>\n",
       "    </tr>\n",
       "  </thead>\n",
       "  <tbody>\n",
       "    <tr>\n",
       "      <th>Action</th>\n",
       "      <td>118.13</td>\n",
       "      <td>40.49</td>\n",
       "      <td>126.05</td>\n",
       "    </tr>\n",
       "    <tr>\n",
       "      <th>Adventure</th>\n",
       "      <td>8.25</td>\n",
       "      <td>5.82</td>\n",
       "      <td>7.14</td>\n",
       "    </tr>\n",
       "    <tr>\n",
       "      <th>Fighting</th>\n",
       "      <td>8.55</td>\n",
       "      <td>7.65</td>\n",
       "      <td>15.55</td>\n",
       "    </tr>\n",
       "    <tr>\n",
       "      <th>Misc</th>\n",
       "      <td>20.04</td>\n",
       "      <td>9.20</td>\n",
       "      <td>27.49</td>\n",
       "    </tr>\n",
       "    <tr>\n",
       "      <th>Platform</th>\n",
       "      <td>15.58</td>\n",
       "      <td>4.79</td>\n",
       "      <td>18.14</td>\n",
       "    </tr>\n",
       "    <tr>\n",
       "      <th>Puzzle</th>\n",
       "      <td>1.00</td>\n",
       "      <td>1.18</td>\n",
       "      <td>0.83</td>\n",
       "    </tr>\n",
       "    <tr>\n",
       "      <th>Racing</th>\n",
       "      <td>20.19</td>\n",
       "      <td>2.30</td>\n",
       "      <td>12.96</td>\n",
       "    </tr>\n",
       "    <tr>\n",
       "      <th>Role-Playing</th>\n",
       "      <td>36.97</td>\n",
       "      <td>51.04</td>\n",
       "      <td>46.40</td>\n",
       "    </tr>\n",
       "    <tr>\n",
       "      <th>Shooter</th>\n",
       "      <td>87.86</td>\n",
       "      <td>6.61</td>\n",
       "      <td>109.74</td>\n",
       "    </tr>\n",
       "    <tr>\n",
       "      <th>Simulation</th>\n",
       "      <td>10.92</td>\n",
       "      <td>4.52</td>\n",
       "      <td>4.86</td>\n",
       "    </tr>\n",
       "    <tr>\n",
       "      <th>Sports</th>\n",
       "      <td>60.52</td>\n",
       "      <td>5.41</td>\n",
       "      <td>65.27</td>\n",
       "    </tr>\n",
       "    <tr>\n",
       "      <th>Strategy</th>\n",
       "      <td>4.22</td>\n",
       "      <td>1.77</td>\n",
       "      <td>3.28</td>\n",
       "    </tr>\n",
       "  </tbody>\n",
       "</table>\n",
       "</div>"
      ],
      "text/plain": [
       "              eu_sales  jp_sales  na_sales\n",
       "genre                                     \n",
       "Action          118.13     40.49    126.05\n",
       "Adventure         8.25      5.82      7.14\n",
       "Fighting          8.55      7.65     15.55\n",
       "Misc             20.04      9.20     27.49\n",
       "Platform         15.58      4.79     18.14\n",
       "Puzzle            1.00      1.18      0.83\n",
       "Racing           20.19      2.30     12.96\n",
       "Role-Playing     36.97     51.04     46.40\n",
       "Shooter          87.86      6.61    109.74\n",
       "Simulation       10.92      4.52      4.86\n",
       "Sports           60.52      5.41     65.27\n",
       "Strategy          4.22      1.77      3.28"
      ]
     },
     "execution_count": 47,
     "metadata": {},
     "output_type": "execute_result"
    }
   ],
   "source": [
    "user_genre = (df_period\n",
    "    .pivot_table(\n",
    "        index='genre',\n",
    "        values=['na_sales', 'eu_sales', 'jp_sales'],\n",
    "        aggfunc='sum')\n",
    ")\n",
    "user_genre"
   ]
  },
  {
   "cell_type": "code",
   "execution_count": 48,
   "metadata": {},
   "outputs": [
    {
     "data": {
      "image/png": "[encoded data removed]",
      "text/plain": [
       "<Figure size 1296x288 with 3 Axes>"
      ]
     },
     "metadata": {
      "needs_background": "light"
     },
     "output_type": "display_data"
    }
   ],
   "source": [
    "fig = plt.figure(figsize=(18, 4))\n",
    "grid = plt.GridSpec(1, 3, wspace=0.2)\n",
    "\n",
    "ax_l = fig.add_subplot(grid[0,0] )\n",
    "ax_center = fig.add_subplot(grid[0,1])\n",
    "ax_r = fig.add_subplot(grid[0,2])\n",
    "\n",
    "# Строим столбчатые диаграммы для каждого региона\n",
    "user_genre['na_sales'].sort_values(ascending=False).head().plot(kind='bar', y='na_sales', ax=ax_l, legend=False)\n",
    "user_genre['jp_sales'].sort_values(ascending=False).head().plot(kind='bar', y='jp_sales', ax=ax_r, legend=False)\n",
    "user_genre['eu_sales'].sort_values(ascending=False).head().plot(kind='bar', y='eu_sales', ax=ax_center, legend=False)\n",
    "\n",
    "ax_l.set(xlabel='Cеверная Америка')\n",
    "ax_center.set(xlabel='Европа')\n",
    "ax_r.set(xlabel='Япония')\n",
    "\n",
    "ax_center.set(title='Рейтинг жанров')\n",
    "ax_center.title.set_fontsize(20)\n",
    "\n",
    "plt.show();"
   ]
  },
  {
   "cell_type": "markdown",
   "metadata": {},
   "source": [
    "#### Вывод\n",
    "- В Америке и Европе, популрны динамичекие игры(шутеры, экшены, спорт)\n",
    "- В Японии популярен ролеплей и экшен.\n",
    "\n",
    "Азиатский регион всегда славился ролеплеем и mmorpg, в то время, как западная игроиндустрия отдает предпочтение боевикам и спорту."
   ]
  },
  {
   "cell_type": "markdown",
   "metadata": {},
   "source": [
    "### Зависимость продаж от рейтинга ESRB"
   ]
  },
  {
   "cell_type": "markdown",
   "metadata": {},
   "source": [
    "Рассмотрим корреляцию продаж в Североамериканском регионе"
   ]
  },
  {
   "cell_type": "code",
   "execution_count": 49,
   "metadata": {},
   "outputs": [
    {
     "data": {
      "text/html": [
       "<div>\n",
       "<style scoped>\n",
       "    .dataframe tbody tr th:only-of-type {\n",
       "        vertical-align: middle;\n",
       "    }\n",
       "\n",
       "    .dataframe tbody tr th {\n",
       "        vertical-align: top;\n",
       "    }\n",
       "\n",
       "    .dataframe thead th {\n",
       "        text-align: right;\n",
       "    }\n",
       "</style>\n",
       "<table border=\"1\" class=\"dataframe\">\n",
       "  <thead>\n",
       "    <tr style=\"text-align: right;\">\n",
       "      <th></th>\n",
       "      <th>na_sales</th>\n",
       "    </tr>\n",
       "  </thead>\n",
       "  <tbody>\n",
       "    <tr>\n",
       "      <th>na_sales</th>\n",
       "      <td>1.0</td>\n",
       "    </tr>\n",
       "  </tbody>\n",
       "</table>\n",
       "</div>"
      ],
      "text/plain": [
       "          na_sales\n",
       "na_sales       1.0"
      ]
     },
     "execution_count": 49,
     "metadata": {},
     "output_type": "execute_result"
    }
   ],
   "source": [
    "df_period[['rating', 'na_sales']].corr()"
   ]
  },
  {
   "cell_type": "markdown",
   "metadata": {},
   "source": [
    "К сожалению, метод .corr() и диаграммы рассеивания не дадут нам ответа, т.к. рейтинг является строковым типом. Рассмотрим рейтинг [подробнее](https://ru.wikipedia.org/wiki/Entertainment_Software_Rating_Board)"
   ]
  },
  {
   "cell_type": "code",
   "execution_count": 50,
   "metadata": {},
   "outputs": [
    {
     "data": {
      "text/plain": [
       "['M', 'RP', 'E', 'T', 'E10+']"
      ]
     },
     "execution_count": 50,
     "metadata": {},
     "output_type": "execute_result"
    }
   ],
   "source": [
    "df_period['rating'].unique().tolist()"
   ]
  },
  {
   "cell_type": "markdown",
   "metadata": {},
   "source": [
    "* RP - нет рейтинга. Заменим на 0\n",
    "* EC - Игра подходит для детей от 3 лет. Заменим на 3\n",
    "* E - от 6 лет. Заменим на 6\n",
    "* E10+ - Для всех от 10 лет и старше. Заменим на 10\n",
    "* T -  Игра подходит для лиц от 13 лет. Заменим на 13\n",
    "* M - Материалы игры не подходят для подростков младше 17 лет. Заменим на 17"
   ]
  },
  {
   "cell_type": "code",
   "execution_count": 51,
   "metadata": {},
   "outputs": [],
   "source": [
    "def rep_rat(row):\n",
    "    \n",
    "    if row == 'RP':\n",
    "        return (0)\n",
    "    \n",
    "    elif row == 'EC':\n",
    "        return (3)\n",
    "    \n",
    "    elif row == 'E':\n",
    "        return (6)\n",
    "    \n",
    "    elif row == 'E10+':\n",
    "        return (10)\n",
    "    \n",
    "    elif row == 'T':\n",
    "        return (13)\n",
    "    \n",
    "    elif row == 'M':\n",
    "        return (17)    "
   ]
  },
  {
   "cell_type": "code",
   "execution_count": 52,
   "metadata": {},
   "outputs": [
    {
     "name": "stderr",
     "output_type": "stream",
     "text": [
      "C:\\Users\\Alex\\AppData\\Local\\Temp/ipykernel_3224/97453675.py:1: SettingWithCopyWarning: \n",
      "A value is trying to be set on a copy of a slice from a DataFrame.\n",
      "Try using .loc[row_indexer,col_indexer] = value instead\n",
      "\n",
      "See the caveats in the documentation: https://pandas.pydata.org/pandas-docs/stable/user_guide/indexing.html#returning-a-view-versus-a-copy\n",
      "  df_period['rating_num'] = df_period['rating'].apply(rep_rat)\n"
     ]
    },
    {
     "data": {
      "text/plain": [
       "array([17,  0,  6, 13, 10], dtype=int64)"
      ]
     },
     "execution_count": 52,
     "metadata": {},
     "output_type": "execute_result"
    }
   ],
   "source": [
    "df_period['rating_num'] = df_period['rating'].apply(rep_rat)\n",
    "df_period['rating_num'].unique()"
   ]
  },
  {
   "cell_type": "code",
   "execution_count": 53,
   "metadata": {},
   "outputs": [
    {
     "data": {
      "text/html": [
       "<div>\n",
       "<style scoped>\n",
       "    .dataframe tbody tr th:only-of-type {\n",
       "        vertical-align: middle;\n",
       "    }\n",
       "\n",
       "    .dataframe tbody tr th {\n",
       "        vertical-align: top;\n",
       "    }\n",
       "\n",
       "    .dataframe thead th {\n",
       "        text-align: right;\n",
       "    }\n",
       "</style>\n",
       "<table border=\"1\" class=\"dataframe\">\n",
       "  <thead>\n",
       "    <tr style=\"text-align: right;\">\n",
       "      <th></th>\n",
       "      <th>rating_num</th>\n",
       "      <th>na_sales</th>\n",
       "      <th>eu_sales</th>\n",
       "      <th>jp_sales</th>\n",
       "      <th>region_sales</th>\n",
       "    </tr>\n",
       "  </thead>\n",
       "  <tbody>\n",
       "    <tr>\n",
       "      <th>rating_num</th>\n",
       "      <td>1.00</td>\n",
       "      <td>0.19</td>\n",
       "      <td>0.17</td>\n",
       "      <td>-0.08</td>\n",
       "      <td>0.16</td>\n",
       "    </tr>\n",
       "    <tr>\n",
       "      <th>na_sales</th>\n",
       "      <td>0.19</td>\n",
       "      <td>1.00</td>\n",
       "      <td>0.77</td>\n",
       "      <td>0.26</td>\n",
       "      <td>0.92</td>\n",
       "    </tr>\n",
       "    <tr>\n",
       "      <th>eu_sales</th>\n",
       "      <td>0.17</td>\n",
       "      <td>0.77</td>\n",
       "      <td>1.00</td>\n",
       "      <td>0.24</td>\n",
       "      <td>0.93</td>\n",
       "    </tr>\n",
       "    <tr>\n",
       "      <th>jp_sales</th>\n",
       "      <td>-0.08</td>\n",
       "      <td>0.26</td>\n",
       "      <td>0.24</td>\n",
       "      <td>1.00</td>\n",
       "      <td>0.43</td>\n",
       "    </tr>\n",
       "    <tr>\n",
       "      <th>region_sales</th>\n",
       "      <td>0.16</td>\n",
       "      <td>0.92</td>\n",
       "      <td>0.93</td>\n",
       "      <td>0.43</td>\n",
       "      <td>1.00</td>\n",
       "    </tr>\n",
       "  </tbody>\n",
       "</table>\n",
       "</div>"
      ],
      "text/plain": [
       "              rating_num  na_sales  eu_sales  jp_sales  region_sales\n",
       "rating_num          1.00      0.19      0.17     -0.08          0.16\n",
       "na_sales            0.19      1.00      0.77      0.26          0.92\n",
       "eu_sales            0.17      0.77      1.00      0.24          0.93\n",
       "jp_sales           -0.08      0.26      0.24      1.00          0.43\n",
       "region_sales        0.16      0.92      0.93      0.43          1.00"
      ]
     },
     "execution_count": 53,
     "metadata": {},
     "output_type": "execute_result"
    }
   ],
   "source": [
    "df_period[['rating_num', 'na_sales', 'eu_sales', 'jp_sales', 'region_sales']].corr().round(2)"
   ]
  },
  {
   "cell_type": "code",
   "execution_count": 54,
   "metadata": {},
   "outputs": [
    {
     "name": "stderr",
     "output_type": "stream",
     "text": [
      "C:\\Users\\Alex\\AppData\\Roaming\\Python\\Python310\\site-packages\\seaborn\\_decorators.py:36: FutureWarning: Pass the following variables as keyword args: x, y. From version 0.12, the only valid positional argument will be `data`, and passing other arguments without an explicit keyword will result in an error or misinterpretation.\n",
      "  warnings.warn(\n"
     ]
    },
    {
     "data": {
      "image/png": "[encoded data removed]",
      "text/plain": [
       "<Figure size 1280x400 with 1 Axes>"
      ]
     },
     "metadata": {
      "needs_background": "light"
     },
     "output_type": "display_data"
    }
   ],
   "source": [
    "# Draw Stripplot\n",
    "fig, ax = plt.subplots(figsize=(16,5), dpi= 80)    \n",
    "sns.stripplot(df_period['rating_num'], df_period['na_sales'], jitter=0.45, size=8, ax=ax, linewidth=.5)\n",
    "\n",
    "# Decorations\n",
    "plt.title('Диаграмма рассеяния оценки ESRB и продаж для североамериканского региона', fontsize=22)\n",
    "plt.xlabel('рейтинг')\n",
    "plt.ylabel('продажи в Северной Америке')\n",
    "ax.grid(which='both')\n",
    "plt.show()"
   ]
  },
  {
   "cell_type": "markdown",
   "metadata": {},
   "source": [
    "Рассмотрим продажи по регионам в зависимости от рейтинга ESRB"
   ]
  },
  {
   "cell_type": "code",
   "execution_count": 55,
   "metadata": {},
   "outputs": [
    {
     "name": "stdout",
     "output_type": "stream",
     "text": [
      "====eu_sales=====\n"
     ]
    },
    {
     "data": {
      "text/plain": [
       "rating\n",
       "M       145.32\n",
       "E        83.36\n",
       "RP       78.91\n",
       "E10+     42.69\n",
       "T        41.95\n",
       "Name: eu_sales, dtype: float64"
      ]
     },
     "metadata": {},
     "output_type": "display_data"
    },
    {
     "name": "stdout",
     "output_type": "stream",
     "text": [
      "====jp_sales=====\n"
     ]
    },
    {
     "data": {
      "text/plain": [
       "rating\n",
       "RP      85.05\n",
       "T       20.59\n",
       "E       15.14\n",
       "M       14.11\n",
       "E10+     5.89\n",
       "Name: jp_sales, dtype: float64"
      ]
     },
     "metadata": {},
     "output_type": "display_data"
    },
    {
     "name": "stdout",
     "output_type": "stream",
     "text": [
      "====na_sales=====\n"
     ]
    },
    {
     "data": {
      "text/plain": [
       "rating\n",
       "M       165.21\n",
       "RP       89.42\n",
       "E        79.05\n",
       "E10+     54.24\n",
       "T        49.79\n",
       "Name: na_sales, dtype: float64"
      ]
     },
     "metadata": {},
     "output_type": "display_data"
    }
   ],
   "source": [
    "df_esrb = (\n",
    "    df_period\n",
    "    .pivot_table(index='rating', values=['na_sales', 'eu_sales', 'jp_sales'], aggfunc='sum')\n",
    "#     .sort_values('region_sales', ascending=False)\n",
    ")\n",
    "# df_esrb\n",
    "\n",
    "for i in df_esrb.columns:\n",
    "    print(f'===={i}=====')\n",
    "    display(df_esrb[i].sort_values(ascending=False))\n"
   ]
  },
  {
   "cell_type": "markdown",
   "metadata": {},
   "source": [
    "#### Вывод\n",
    "- Рейтинг игры не коррелируют с продажами.\n",
    "\n",
    "\n",
    "- Популярные рейтинги в:\n",
    "-- Европе: М и Е,\n",
    "-- Северной Америке: E, M\n",
    "-- В Японии: T, E, M"
   ]
  },
  {
   "cell_type": "markdown",
   "metadata": {},
   "source": [
    "##  Проверка гипотез  "
   ]
  },
  {
   "cell_type": "markdown",
   "metadata": {},
   "source": [
    "типичной статистической гипотезой для первого и второго вопроса является гипотеза о равенстве средних. Используются распределния стьюдента, реализованные в библиотеке scipy"
   ]
  },
  {
   "cell_type": "markdown",
   "metadata": {},
   "source": [
    "### Средние пользовательские рейтинги платформ Xbox One и PC одинаковые"
   ]
  },
  {
   "cell_type": "markdown",
   "metadata": {},
   "source": [
    "* H0: Средние пользовательские рейтинги платформ Xbox One и PC одинаковые\n",
    "* H1:Средние пользовательские рейтинги платформ Xbox One и PC различаются"
   ]
  },
  {
   "cell_type": "code",
   "execution_count": 56,
   "metadata": {},
   "outputs": [],
   "source": [
    "# срез по xbox\n",
    "df_xbox = df_period.query(\" platform == 'XOne' \")\n",
    "\n",
    "# срез по PC\n",
    "df_pc = df_period.query(\" platform == 'PC' \")\n",
    "\n",
    "# убираем NaN, т.к. в p-value может появиться NaN. Проверено\n",
    "df_xbox = df_xbox.dropna()\n",
    "df_pc = df_pc.dropna()"
   ]
  },
  {
   "cell_type": "markdown",
   "metadata": {},
   "source": [
    "Для начала сравним средние двух выборок, а затем использцем распределения стьюдента. Метод реализован в библиотеке scipy."
   ]
  },
  {
   "cell_type": "code",
   "execution_count": 57,
   "metadata": {},
   "outputs": [
    {
     "name": "stdout",
     "output_type": "stream",
     "text": [
      "6.54\n",
      "6.3\n"
     ]
    }
   ],
   "source": [
    "print(df_xbox['user_score'].mean().round(2))\n",
    "print(df_pc['user_score'].mean().round(2))"
   ]
  },
  {
   "cell_type": "markdown",
   "metadata": {},
   "source": [
    "Средние равны. Гипотеза подтверждена. Воспользуемся методом ttest_ind()"
   ]
  },
  {
   "cell_type": "code",
   "execution_count": 58,
   "metadata": {},
   "outputs": [
    {
     "name": "stdout",
     "output_type": "stream",
     "text": [
      "уровень значимости p-value= 17.88 %\n",
      "не получилось отвергнуть H0\n"
     ]
    }
   ],
   "source": [
    "alpha = .05 # статистическая зачимость 5%\n",
    "\n",
    "#  Выборка считается достаточно большой(больше 30), поэтому считаем, что дисперсия у выборок не равна\n",
    "# и принимаем equal_var=False\n",
    "results = st.ttest_ind(df_xbox['user_score'], df_pc['user_score'], equal_var=False)\n",
    "print('уровень значимости p-value=', f'{round(results.pvalue*100,2)} %')\n",
    "\n",
    "if results.pvalue < alpha:\n",
    "    print('отвергаем H0')\n",
    "else:\n",
    "    print('не получилось отвергнуть H0')"
   ]
  },
  {
   "cell_type": "markdown",
   "metadata": {},
   "source": [
    "#### Вывод\n",
    "гипотеза `'Средние пользовательские рейтинги платформ Xbox One и PC одинаковые'` подтверждена"
   ]
  },
  {
   "cell_type": "markdown",
   "metadata": {},
   "source": [
    "### Средние пользовательские рейтинги жанров Action и Sports разные"
   ]
  },
  {
   "cell_type": "markdown",
   "metadata": {},
   "source": [
    "- H0: Средние пользовательские рейтинги жанров Action и Sports одинаковые. Ее опровержение считается подтверждением изначальной гипотезы.\n",
    "- H1: Средние пользовательские рейтинги жанров Action и Sports разные\n",
    "\n",
    "\n"
   ]
  },
  {
   "cell_type": "code",
   "execution_count": 59,
   "metadata": {},
   "outputs": [],
   "source": [
    "# срез по Action\n",
    "df_act = df_period.query(\" genre == 'Action' \")\n",
    "\n",
    "# срез по PC\n",
    "df_sport = df_period.query(\" genre == 'Sports' \")\n",
    "\n",
    "# убираем NaN, т.к. в p-value может появиться NaN. Проверено\n",
    "df_act = df_act.dropna()\n",
    "df_sport = df_sport.dropna()"
   ]
  },
  {
   "cell_type": "code",
   "execution_count": 60,
   "metadata": {},
   "outputs": [
    {
     "name": "stdout",
     "output_type": "stream",
     "text": [
      "6.94\n",
      "5.67\n"
     ]
    }
   ],
   "source": [
    "# сравним средние двух выборок\n",
    "print(df_act['user_score'].mean().round(2))\n",
    "print(df_sport['user_score'].mean().round(2))"
   ]
  },
  {
   "cell_type": "markdown",
   "metadata": {},
   "source": [
    "Средние отличаются. Посмотрим на ttest"
   ]
  },
  {
   "cell_type": "code",
   "execution_count": 61,
   "metadata": {},
   "outputs": [
    {
     "name": "stdout",
     "output_type": "stream",
     "text": [
      "уровень значимости p-value= 0.0 %\n",
      "отвергаем H0\n"
     ]
    }
   ],
   "source": [
    "alpha = .05 # статистическая зачимость 5%\n",
    "\n",
    "#  Выборка считается достаточно большой(больше 30), поэтому считаем, что дисперсия у выборок не равна\n",
    "# и принимаем equal_var=False\n",
    "results = st.ttest_ind(df_act['user_score'], df_sport['user_score'], equal_var=False)\n",
    "print('уровень значимости p-value=', f'{round(results.pvalue*100,2)} %')\n",
    "\n",
    "if results.pvalue < alpha:\n",
    "    print('отвергаем H0')\n",
    "else:\n",
    "    print('не получилось отвергнуть H0')"
   ]
  },
  {
   "cell_type": "markdown",
   "metadata": {},
   "source": [
    "#### Вывод\n",
    "гипотеза `'Средние пользовательские рейтинги жанров Action и Sports разные'` подтверждена"
   ]
  },
  {
   "cell_type": "markdown",
   "metadata": {},
   "source": [
    "## ИТОГ\n",
    "* Для максимазации выручки с рекламных компаний, стоит делать упор на платформы PS4 и XOne. Не помешает уделить внимание консолям PS3, X360, 3DS. В будущем, на молодые платформы. Жизненный цикл новых платформ составляет 4 года.\n",
    "\n",
    "* Необходимо учитавать регион продаж. Так Североамериканский регион и Европа играет на семействах xbox и PS. Предпочитают шутеры, спорт и экшен.\n",
    "* Япония отдает дань традициям и играет на семействе Nintendo в ролеплейные игры(например, DnD).  \n",
    "\n",
    "\n",
    "* Игроки в умеренной степени учитывают рейтинги критиков.\n",
    "\n",
    "\n",
    "* Популярные рейтинги ESRB: `E` и `M`. (`E` - от 6 лет, `M` от 17 лет). Рейтингш ESRB имеет слабую корреляцию с продажами.\n",
    "\n",
    "\n",
    "* Проверены гипотезы.\n",
    "\n",
    "\n",
    "* В процессе работы даны краткие выводы."
   ]
  }
 ],
 "metadata": {
  "ExecuteTimeLog": [
   {
    "duration": 1519,
    "start_time": "2022-02-09T13:04:49.524Z"
   },
   {
    "duration": 269,
    "start_time": "2022-02-09T13:04:51.046Z"
   },
   {
    "duration": 16,
    "start_time": "2022-02-09T13:04:51.319Z"
   },
   {
    "duration": 30,
    "start_time": "2022-02-09T13:04:51.339Z"
   },
   {
    "duration": 11,
    "start_time": "2022-02-09T13:04:51.372Z"
   },
   {
    "duration": 6,
    "start_time": "2022-02-09T13:04:51.386Z"
   },
   {
    "duration": 24,
    "start_time": "2022-02-09T13:04:51.394Z"
   },
   {
    "duration": 23,
    "start_time": "2022-02-09T13:04:51.458Z"
   },
   {
    "duration": 11,
    "start_time": "2022-02-09T13:04:51.484Z"
   },
   {
    "duration": 4,
    "start_time": "2022-02-09T13:04:51.497Z"
   },
   {
    "duration": 14,
    "start_time": "2022-02-09T13:04:51.503Z"
   },
   {
    "duration": 47,
    "start_time": "2022-02-09T13:04:51.520Z"
   },
   {
    "duration": 11,
    "start_time": "2022-02-09T13:04:51.570Z"
   },
   {
    "duration": 13,
    "start_time": "2022-02-09T13:04:51.583Z"
   },
   {
    "duration": 10,
    "start_time": "2022-02-09T13:04:51.598Z"
   },
   {
    "duration": 9,
    "start_time": "2022-02-09T13:04:51.610Z"
   },
   {
    "duration": 21,
    "start_time": "2022-02-09T13:04:51.660Z"
   },
   {
    "duration": 11,
    "start_time": "2022-02-09T13:04:51.683Z"
   },
   {
    "duration": 21,
    "start_time": "2022-02-09T13:04:51.696Z"
   },
   {
    "duration": 59,
    "start_time": "2022-02-09T13:04:51.719Z"
   },
   {
    "duration": 632,
    "start_time": "2022-02-09T13:04:51.781Z"
   },
   {
    "duration": 9,
    "start_time": "2022-02-09T13:04:52.416Z"
   },
   {
    "duration": 30,
    "start_time": "2022-02-09T13:04:52.430Z"
   },
   {
    "duration": 8,
    "start_time": "2022-02-09T13:04:52.463Z"
   },
   {
    "duration": 819,
    "start_time": "2022-02-09T13:04:52.474Z"
   },
   {
    "duration": -3932,
    "start_time": "2022-02-09T13:04:57.227Z"
   },
   {
    "duration": -3936,
    "start_time": "2022-02-09T13:04:57.232Z"
   },
   {
    "duration": -3939,
    "start_time": "2022-02-09T13:04:57.237Z"
   },
   {
    "duration": 668,
    "start_time": "2022-02-09T13:05:21.610Z"
   },
   {
    "duration": 450,
    "start_time": "2022-02-09T13:05:32.656Z"
   },
   {
    "duration": 451,
    "start_time": "2022-02-09T13:05:41.967Z"
   },
   {
    "duration": 754,
    "start_time": "2022-02-09T13:05:42.420Z"
   },
   {
    "duration": -3949,
    "start_time": "2022-02-09T13:05:47.126Z"
   },
   {
    "duration": -3960,
    "start_time": "2022-02-09T13:05:47.140Z"
   },
   {
    "duration": 786,
    "start_time": "2022-02-09T13:05:49.496Z"
   },
   {
    "duration": 725,
    "start_time": "2022-02-09T13:05:53.168Z"
   },
   {
    "duration": 751,
    "start_time": "2022-02-09T13:06:06.122Z"
   },
   {
    "duration": 683,
    "start_time": "2022-02-09T13:06:17.004Z"
   },
   {
    "duration": 434,
    "start_time": "2022-02-09T13:06:21.193Z"
   },
   {
    "duration": 265,
    "start_time": "2022-02-09T16:01:47.075Z"
   },
   {
    "duration": 1234,
    "start_time": "2022-02-09T16:01:54.233Z"
   },
   {
    "duration": 201,
    "start_time": "2022-02-09T16:01:55.469Z"
   },
   {
    "duration": 11,
    "start_time": "2022-02-09T16:01:55.672Z"
   },
   {
    "duration": 17,
    "start_time": "2022-02-09T16:01:55.685Z"
   },
   {
    "duration": 9,
    "start_time": "2022-02-09T16:01:55.703Z"
   },
   {
    "duration": 8,
    "start_time": "2022-02-09T16:01:55.714Z"
   },
   {
    "duration": 20,
    "start_time": "2022-02-09T16:01:55.724Z"
   },
   {
    "duration": 16,
    "start_time": "2022-02-09T16:01:55.746Z"
   },
   {
    "duration": 35,
    "start_time": "2022-02-09T16:01:55.764Z"
   },
   {
    "duration": 3,
    "start_time": "2022-02-09T16:01:55.801Z"
   },
   {
    "duration": 16,
    "start_time": "2022-02-09T16:01:55.806Z"
   },
   {
    "duration": 8,
    "start_time": "2022-02-09T16:01:55.823Z"
   },
   {
    "duration": 11,
    "start_time": "2022-02-09T16:01:55.833Z"
   },
   {
    "duration": 13,
    "start_time": "2022-02-09T16:01:55.846Z"
   },
   {
    "duration": 43,
    "start_time": "2022-02-09T16:01:55.861Z"
   },
   {
    "duration": 12,
    "start_time": "2022-02-09T16:01:55.906Z"
   },
   {
    "duration": 16,
    "start_time": "2022-02-09T16:01:55.920Z"
   },
   {
    "duration": 9,
    "start_time": "2022-02-09T16:01:55.937Z"
   },
   {
    "duration": 50,
    "start_time": "2022-02-09T16:01:55.948Z"
   },
   {
    "duration": 18,
    "start_time": "2022-02-09T16:01:56.000Z"
   },
   {
    "duration": 485,
    "start_time": "2022-02-09T16:01:56.020Z"
   },
   {
    "duration": 7,
    "start_time": "2022-02-09T16:01:56.506Z"
   },
   {
    "duration": 10,
    "start_time": "2022-02-09T16:01:56.517Z"
   },
   {
    "duration": 7,
    "start_time": "2022-02-09T16:01:56.529Z"
   },
   {
    "duration": 371,
    "start_time": "2022-02-09T16:01:56.537Z"
   },
   {
    "duration": 551,
    "start_time": "2022-02-09T16:01:56.910Z"
   },
   {
    "duration": 528,
    "start_time": "2022-02-09T16:01:57.462Z"
   },
   {
    "duration": 406,
    "start_time": "2022-02-09T16:01:57.992Z"
   },
   {
    "duration": 595,
    "start_time": "2022-02-09T16:17:47.641Z"
   },
   {
    "duration": 998,
    "start_time": "2022-02-09T16:18:00.333Z"
   },
   {
    "duration": 27475,
    "start_time": "2022-02-09T16:20:25.614Z"
   },
   {
    "duration": 38512,
    "start_time": "2022-02-09T16:21:04.451Z"
   },
   {
    "duration": 1224,
    "start_time": "2022-02-09T16:23:04.007Z"
   },
   {
    "duration": 169,
    "start_time": "2022-02-09T16:23:05.234Z"
   },
   {
    "duration": 12,
    "start_time": "2022-02-09T16:23:05.406Z"
   },
   {
    "duration": 34,
    "start_time": "2022-02-09T16:23:05.420Z"
   },
   {
    "duration": 22,
    "start_time": "2022-02-09T16:23:05.455Z"
   },
   {
    "duration": 14,
    "start_time": "2022-02-09T16:23:05.479Z"
   },
   {
    "duration": 43,
    "start_time": "2022-02-09T16:23:05.495Z"
   },
   {
    "duration": 17,
    "start_time": "2022-02-09T16:23:05.541Z"
   },
   {
    "duration": 16,
    "start_time": "2022-02-09T16:23:05.560Z"
   },
   {
    "duration": 17,
    "start_time": "2022-02-09T16:23:05.578Z"
   },
   {
    "duration": 22,
    "start_time": "2022-02-09T16:23:05.597Z"
   },
   {
    "duration": 27,
    "start_time": "2022-02-09T16:23:05.621Z"
   },
   {
    "duration": 30,
    "start_time": "2022-02-09T16:23:05.650Z"
   },
   {
    "duration": 21,
    "start_time": "2022-02-09T16:23:05.682Z"
   },
   {
    "duration": 23,
    "start_time": "2022-02-09T16:23:05.705Z"
   },
   {
    "duration": 36,
    "start_time": "2022-02-09T16:23:05.730Z"
   },
   {
    "duration": 28,
    "start_time": "2022-02-09T16:23:05.768Z"
   },
   {
    "duration": 19,
    "start_time": "2022-02-09T16:23:05.798Z"
   },
   {
    "duration": 18,
    "start_time": "2022-02-09T16:23:05.819Z"
   },
   {
    "duration": 24,
    "start_time": "2022-02-09T16:23:05.839Z"
   },
   {
    "duration": 490,
    "start_time": "2022-02-09T16:23:05.865Z"
   },
   {
    "duration": 7,
    "start_time": "2022-02-09T16:23:06.357Z"
   },
   {
    "duration": 17,
    "start_time": "2022-02-09T16:23:06.367Z"
   },
   {
    "duration": 9,
    "start_time": "2022-02-09T16:23:06.400Z"
   },
   {
    "duration": 366,
    "start_time": "2022-02-09T16:23:06.412Z"
   },
   {
    "duration": 594,
    "start_time": "2022-02-09T16:23:06.780Z"
   },
   {
    "duration": 572,
    "start_time": "2022-02-09T16:23:06.804Z"
   },
   {
    "duration": 564,
    "start_time": "2022-02-09T16:23:06.813Z"
   },
   {
    "duration": 582,
    "start_time": "2022-02-09T16:23:30.673Z"
   },
   {
    "duration": 371,
    "start_time": "2022-02-09T16:24:19.129Z"
   },
   {
    "duration": 341,
    "start_time": "2022-02-09T16:25:57.034Z"
   },
   {
    "duration": 627,
    "start_time": "2022-02-09T16:26:15.921Z"
   },
   {
    "duration": 513,
    "start_time": "2022-02-09T16:27:54.986Z"
   },
   {
    "duration": 332,
    "start_time": "2022-02-09T16:31:25.494Z"
   },
   {
    "duration": 310,
    "start_time": "2022-02-09T16:32:00.741Z"
   },
   {
    "duration": 656,
    "start_time": "2022-02-09T16:48:26.332Z"
   },
   {
    "duration": 707,
    "start_time": "2022-02-09T16:48:38.082Z"
   },
   {
    "duration": 667,
    "start_time": "2022-02-09T16:48:51.394Z"
   },
   {
    "duration": 789,
    "start_time": "2022-02-09T16:49:03.065Z"
   },
   {
    "duration": 814,
    "start_time": "2022-02-09T16:49:41.520Z"
   },
   {
    "duration": 836,
    "start_time": "2022-02-09T16:50:00.927Z"
   },
   {
    "duration": 815,
    "start_time": "2022-02-09T16:50:21.261Z"
   },
   {
    "duration": 942,
    "start_time": "2022-02-09T16:53:23.379Z"
   },
   {
    "duration": 841,
    "start_time": "2022-02-09T16:53:27.354Z"
   },
   {
    "duration": 826,
    "start_time": "2022-02-09T16:53:39.211Z"
   },
   {
    "duration": 843,
    "start_time": "2022-02-09T16:53:49.169Z"
   },
   {
    "duration": 1127,
    "start_time": "2022-02-09T16:53:54.938Z"
   },
   {
    "duration": 820,
    "start_time": "2022-02-09T16:57:19.238Z"
   },
   {
    "duration": 952,
    "start_time": "2022-02-09T16:57:23.701Z"
   },
   {
    "duration": 831,
    "start_time": "2022-02-09T16:57:44.688Z"
   },
   {
    "duration": 11,
    "start_time": "2022-02-09T17:00:53.346Z"
   },
   {
    "duration": 9,
    "start_time": "2022-02-09T17:01:03.936Z"
   },
   {
    "duration": 12,
    "start_time": "2022-02-09T17:01:35.031Z"
   },
   {
    "duration": 11,
    "start_time": "2022-02-09T17:01:43.174Z"
   },
   {
    "duration": 12,
    "start_time": "2022-02-09T17:02:41.228Z"
   },
   {
    "duration": 827,
    "start_time": "2022-02-09T17:04:02.791Z"
   },
   {
    "duration": 825,
    "start_time": "2022-02-09T17:04:18.463Z"
   },
   {
    "duration": 495,
    "start_time": "2022-02-09T17:05:39.281Z"
   },
   {
    "duration": 730,
    "start_time": "2022-02-09T17:05:46.034Z"
   },
   {
    "duration": 820,
    "start_time": "2022-02-09T17:06:10.009Z"
   },
   {
    "duration": 849,
    "start_time": "2022-02-09T17:06:24.207Z"
   },
   {
    "duration": 858,
    "start_time": "2022-02-09T17:13:58.413Z"
   },
   {
    "duration": 840,
    "start_time": "2022-02-09T17:14:14.605Z"
   },
   {
    "duration": 15,
    "start_time": "2022-02-09T17:15:27.768Z"
   },
   {
    "duration": 221,
    "start_time": "2022-02-09T17:15:40.344Z"
   },
   {
    "duration": 16,
    "start_time": "2022-02-09T17:15:51.718Z"
   },
   {
    "duration": 19,
    "start_time": "2022-02-09T17:16:02.534Z"
   },
   {
    "duration": 17,
    "start_time": "2022-02-09T17:16:17.157Z"
   },
   {
    "duration": 17,
    "start_time": "2022-02-09T17:16:28.197Z"
   },
   {
    "duration": 7,
    "start_time": "2022-02-09T17:20:51.582Z"
   },
   {
    "duration": 135,
    "start_time": "2022-02-09T17:21:10.004Z"
   },
   {
    "duration": 5,
    "start_time": "2022-02-09T17:22:00.082Z"
   },
   {
    "duration": 775,
    "start_time": "2022-02-09T17:22:16.970Z"
   },
   {
    "duration": 4,
    "start_time": "2022-02-09T17:22:42.129Z"
   },
   {
    "duration": 7,
    "start_time": "2022-02-09T17:22:46.784Z"
   },
   {
    "duration": 826,
    "start_time": "2022-02-09T17:22:58.671Z"
   },
   {
    "duration": 795,
    "start_time": "2022-02-09T17:23:08.854Z"
   },
   {
    "duration": 5,
    "start_time": "2022-02-09T17:23:37.461Z"
   },
   {
    "duration": 328,
    "start_time": "2022-02-09T17:24:07.826Z"
   },
   {
    "duration": 5,
    "start_time": "2022-02-09T17:24:27.650Z"
   },
   {
    "duration": 331,
    "start_time": "2022-02-09T17:24:32.105Z"
   },
   {
    "duration": 682,
    "start_time": "2022-02-09T17:26:18.540Z"
   },
   {
    "duration": 325,
    "start_time": "2022-02-09T17:28:55.115Z"
   },
   {
    "duration": 919,
    "start_time": "2022-02-09T17:35:53.259Z"
   },
   {
    "duration": 13148,
    "start_time": "2022-02-09T17:36:34.305Z"
   },
   {
    "duration": 2033,
    "start_time": "2022-02-09T17:38:37.897Z"
   },
   {
    "duration": 259,
    "start_time": "2022-02-09T17:41:42.688Z"
   },
   {
    "duration": 563,
    "start_time": "2022-02-09T17:41:56.725Z"
   },
   {
    "duration": 410,
    "start_time": "2022-02-09T17:42:16.478Z"
   },
   {
    "duration": 421,
    "start_time": "2022-02-09T17:42:20.932Z"
   },
   {
    "duration": 426,
    "start_time": "2022-02-09T17:42:33.572Z"
   },
   {
    "duration": 403,
    "start_time": "2022-02-09T17:42:41.283Z"
   },
   {
    "duration": 1636,
    "start_time": "2022-02-09T17:44:05.599Z"
   },
   {
    "duration": 2324,
    "start_time": "2022-02-09T17:45:04.716Z"
   },
   {
    "duration": 950,
    "start_time": "2022-02-09T17:46:30.143Z"
   },
   {
    "duration": 1978,
    "start_time": "2022-02-09T17:46:37.469Z"
   },
   {
    "duration": 1081,
    "start_time": "2022-02-09T17:49:42.604Z"
   },
   {
    "duration": 1921,
    "start_time": "2022-02-09T17:51:06.470Z"
   },
   {
    "duration": 1833,
    "start_time": "2022-02-09T17:52:24.506Z"
   },
   {
    "duration": 1924,
    "start_time": "2022-02-09T17:53:31.151Z"
   },
   {
    "duration": 315,
    "start_time": "2022-02-09T17:55:07.514Z"
   },
   {
    "duration": 1815,
    "start_time": "2022-02-09T17:55:32.647Z"
   },
   {
    "duration": 1719,
    "start_time": "2022-02-09T17:55:39.583Z"
   },
   {
    "duration": 1814,
    "start_time": "2022-02-09T17:55:48.550Z"
   },
   {
    "duration": 1804,
    "start_time": "2022-02-09T17:57:27.218Z"
   },
   {
    "duration": 1888,
    "start_time": "2022-02-09T18:00:45.414Z"
   },
   {
    "duration": 327,
    "start_time": "2022-02-09T18:04:47.009Z"
   },
   {
    "duration": 350,
    "start_time": "2022-02-09T18:05:23.278Z"
   },
   {
    "duration": 16,
    "start_time": "2022-02-09T18:10:28.571Z"
   },
   {
    "duration": 4,
    "start_time": "2022-02-09T18:11:24.842Z"
   },
   {
    "duration": 5,
    "start_time": "2022-02-09T18:11:29.440Z"
   },
   {
    "duration": 444,
    "start_time": "2022-02-09T18:12:37.079Z"
   },
   {
    "duration": 704,
    "start_time": "2022-02-09T18:12:48.139Z"
   },
   {
    "duration": 284,
    "start_time": "2022-02-09T18:13:09.981Z"
   },
   {
    "duration": 148,
    "start_time": "2022-02-09T18:13:23.871Z"
   },
   {
    "duration": 149,
    "start_time": "2022-02-09T18:14:01.368Z"
   },
   {
    "duration": 151,
    "start_time": "2022-02-09T18:14:10.782Z"
   },
   {
    "duration": 101,
    "start_time": "2022-02-09T18:14:51.724Z"
   },
   {
    "duration": 119,
    "start_time": "2022-02-09T18:15:48.633Z"
   },
   {
    "duration": 130,
    "start_time": "2022-02-09T18:16:04.256Z"
   },
   {
    "duration": 10,
    "start_time": "2022-02-09T18:17:02.349Z"
   },
   {
    "duration": 106,
    "start_time": "2022-02-09T18:17:51.066Z"
   },
   {
    "duration": 81,
    "start_time": "2022-02-09T18:19:35.739Z"
   },
   {
    "duration": 117,
    "start_time": "2022-02-09T18:19:45.715Z"
   },
   {
    "duration": 192,
    "start_time": "2022-02-09T18:24:13.229Z"
   },
   {
    "duration": 14,
    "start_time": "2022-02-09T18:25:48.512Z"
   },
   {
    "duration": 226,
    "start_time": "2022-02-09T18:26:05.155Z"
   },
   {
    "duration": 16,
    "start_time": "2022-02-09T18:26:24.261Z"
   },
   {
    "duration": 83,
    "start_time": "2022-02-09T18:26:36.732Z"
   },
   {
    "duration": 18,
    "start_time": "2022-02-09T18:26:41.213Z"
   },
   {
    "duration": 16,
    "start_time": "2022-02-09T18:41:51.639Z"
   },
   {
    "duration": 14,
    "start_time": "2022-02-09T18:44:21.848Z"
   },
   {
    "duration": 85,
    "start_time": "2022-02-09T18:44:56.710Z"
   },
   {
    "duration": 26,
    "start_time": "2022-02-09T18:45:01.646Z"
   },
   {
    "duration": 18,
    "start_time": "2022-02-09T18:45:20.685Z"
   },
   {
    "duration": 19,
    "start_time": "2022-02-09T18:45:35.731Z"
   },
   {
    "duration": 19,
    "start_time": "2022-02-09T18:46:16.586Z"
   },
   {
    "duration": 75,
    "start_time": "2022-02-09T18:46:45.471Z"
   },
   {
    "duration": 64,
    "start_time": "2022-02-09T18:47:16.934Z"
   },
   {
    "duration": 65,
    "start_time": "2022-02-09T18:47:28.935Z"
   },
   {
    "duration": 20,
    "start_time": "2022-02-09T18:48:31.924Z"
   },
   {
    "duration": 222,
    "start_time": "2022-02-09T18:48:59.495Z"
   },
   {
    "duration": 20,
    "start_time": "2022-02-09T18:49:10.567Z"
   },
   {
    "duration": 21,
    "start_time": "2022-02-09T18:49:25.102Z"
   },
   {
    "duration": 17,
    "start_time": "2022-02-09T18:50:18.676Z"
   },
   {
    "duration": 228,
    "start_time": "2022-02-09T18:50:49.929Z"
   },
   {
    "duration": 19,
    "start_time": "2022-02-09T18:51:50.846Z"
   },
   {
    "duration": 40,
    "start_time": "2022-02-09T18:53:34.946Z"
   },
   {
    "duration": 250,
    "start_time": "2022-02-09T18:55:12.380Z"
   },
   {
    "duration": 84,
    "start_time": "2022-02-09T18:55:23.738Z"
   },
   {
    "duration": 83,
    "start_time": "2022-02-09T18:55:27.594Z"
   },
   {
    "duration": 73,
    "start_time": "2022-02-09T18:55:32.985Z"
   },
   {
    "duration": 63,
    "start_time": "2022-02-09T18:55:37.522Z"
   },
   {
    "duration": 53,
    "start_time": "2022-02-09T18:55:49.497Z"
   },
   {
    "duration": 44,
    "start_time": "2022-02-09T18:56:00.753Z"
   },
   {
    "duration": 53,
    "start_time": "2022-02-09T18:56:10.776Z"
   },
   {
    "duration": 40,
    "start_time": "2022-02-09T18:56:29.559Z"
   },
   {
    "duration": 59,
    "start_time": "2022-02-09T18:56:34.209Z"
   },
   {
    "duration": 42,
    "start_time": "2022-02-09T18:56:36.814Z"
   },
   {
    "duration": 5,
    "start_time": "2022-02-09T18:59:23.877Z"
   },
   {
    "duration": 13,
    "start_time": "2022-02-09T19:04:43.322Z"
   },
   {
    "duration": 20,
    "start_time": "2022-02-09T19:04:50.010Z"
   },
   {
    "duration": 21,
    "start_time": "2022-02-09T19:05:15.761Z"
   },
   {
    "duration": 74,
    "start_time": "2022-02-09T19:08:31.183Z"
   },
   {
    "duration": 491,
    "start_time": "2022-02-09T19:08:43.508Z"
   },
   {
    "duration": 476,
    "start_time": "2022-02-09T19:09:17.642Z"
   },
   {
    "duration": 9,
    "start_time": "2022-02-09T19:14:24.041Z"
   },
   {
    "duration": 8,
    "start_time": "2022-02-09T19:14:58.216Z"
   },
   {
    "duration": 13,
    "start_time": "2022-02-09T19:15:24.902Z"
   },
   {
    "duration": 69,
    "start_time": "2022-02-09T19:15:54.415Z"
   },
   {
    "duration": 247,
    "start_time": "2022-02-09T19:16:00.179Z"
   },
   {
    "duration": 223,
    "start_time": "2022-02-09T19:17:28.024Z"
   },
   {
    "duration": 21,
    "start_time": "2022-02-09T19:17:39.429Z"
   },
   {
    "duration": 17,
    "start_time": "2022-02-09T19:19:30.239Z"
   },
   {
    "duration": 128,
    "start_time": "2022-02-09T19:19:38.134Z"
   },
   {
    "duration": 14,
    "start_time": "2022-02-09T19:19:44.226Z"
   },
   {
    "duration": 21,
    "start_time": "2022-02-09T19:19:52.423Z"
   },
   {
    "duration": 19,
    "start_time": "2022-02-09T19:20:17.820Z"
   },
   {
    "duration": 20,
    "start_time": "2022-02-09T19:20:22.068Z"
   },
   {
    "duration": 16,
    "start_time": "2022-02-09T19:20:53.290Z"
   },
   {
    "duration": 29,
    "start_time": "2022-02-09T19:22:15.518Z"
   },
   {
    "duration": 93,
    "start_time": "2022-02-09T19:24:01.824Z"
   },
   {
    "duration": 241,
    "start_time": "2022-02-09T19:24:05.231Z"
   },
   {
    "duration": 23,
    "start_time": "2022-02-09T19:24:16.590Z"
   },
   {
    "duration": 37,
    "start_time": "2022-02-09T19:24:22.214Z"
   },
   {
    "duration": 36,
    "start_time": "2022-02-09T19:25:09.445Z"
   },
   {
    "duration": 234,
    "start_time": "2022-02-09T19:25:28.851Z"
   },
   {
    "duration": 22,
    "start_time": "2022-02-09T19:25:38.579Z"
   },
   {
    "duration": 5336,
    "start_time": "2022-02-09T19:26:27.807Z"
   },
   {
    "duration": 15,
    "start_time": "2022-02-09T19:26:37.440Z"
   },
   {
    "duration": 16,
    "start_time": "2022-02-09T19:27:03.749Z"
   },
   {
    "duration": 16,
    "start_time": "2022-02-09T19:27:33.427Z"
   },
   {
    "duration": 24,
    "start_time": "2022-02-09T19:28:20.425Z"
   },
   {
    "duration": 17,
    "start_time": "2022-02-09T19:32:05.861Z"
   },
   {
    "duration": 22,
    "start_time": "2022-02-09T19:32:12.610Z"
   },
   {
    "duration": 19,
    "start_time": "2022-02-09T19:32:50.498Z"
   },
   {
    "duration": 14,
    "start_time": "2022-02-09T19:34:06.757Z"
   },
   {
    "duration": 22,
    "start_time": "2022-02-09T19:34:12.133Z"
   },
   {
    "duration": 15,
    "start_time": "2022-02-09T19:34:30.139Z"
   },
   {
    "duration": 241,
    "start_time": "2022-02-09T19:34:35.339Z"
   },
   {
    "duration": 74,
    "start_time": "2022-02-09T19:34:41.755Z"
   },
   {
    "duration": 16,
    "start_time": "2022-02-09T19:34:45.347Z"
   },
   {
    "duration": 17,
    "start_time": "2022-02-09T19:35:19.345Z"
   },
   {
    "duration": 23,
    "start_time": "2022-02-09T19:36:29.220Z"
   },
   {
    "duration": 23,
    "start_time": "2022-02-09T19:36:52.444Z"
   },
   {
    "duration": 21,
    "start_time": "2022-02-09T19:36:55.740Z"
   },
   {
    "duration": 23,
    "start_time": "2022-02-09T19:37:00.683Z"
   },
   {
    "duration": 21,
    "start_time": "2022-02-09T19:37:04.316Z"
   },
   {
    "duration": 14,
    "start_time": "2022-02-09T19:37:10.234Z"
   },
   {
    "duration": 21,
    "start_time": "2022-02-09T19:37:16.729Z"
   },
   {
    "duration": 27,
    "start_time": "2022-02-09T19:38:44.765Z"
   },
   {
    "duration": 72,
    "start_time": "2022-02-09T19:39:08.707Z"
   },
   {
    "duration": 71,
    "start_time": "2022-02-09T19:39:12.579Z"
   },
   {
    "duration": 28,
    "start_time": "2022-02-09T19:39:21.090Z"
   },
   {
    "duration": 32,
    "start_time": "2022-02-09T19:39:49.625Z"
   },
   {
    "duration": 42,
    "start_time": "2022-02-09T19:39:59.793Z"
   },
   {
    "duration": 41,
    "start_time": "2022-02-09T19:40:15.592Z"
   },
   {
    "duration": 42,
    "start_time": "2022-02-09T19:40:44.069Z"
   },
   {
    "duration": 42,
    "start_time": "2022-02-09T19:41:30.676Z"
   },
   {
    "duration": 41,
    "start_time": "2022-02-09T19:41:43.955Z"
   },
   {
    "duration": 261,
    "start_time": "2022-02-09T19:42:29.208Z"
   },
   {
    "duration": 233,
    "start_time": "2022-02-09T19:42:33.248Z"
   },
   {
    "duration": 23,
    "start_time": "2022-02-09T19:43:11.349Z"
   },
   {
    "duration": 18,
    "start_time": "2022-02-09T19:43:21.181Z"
   },
   {
    "duration": 20,
    "start_time": "2022-02-09T19:43:31.756Z"
   },
   {
    "duration": 19,
    "start_time": "2022-02-09T19:43:40.388Z"
   },
   {
    "duration": 18,
    "start_time": "2022-02-09T19:43:47.851Z"
   },
   {
    "duration": 23,
    "start_time": "2022-02-09T19:43:56.572Z"
   },
   {
    "duration": 22,
    "start_time": "2022-02-09T19:44:06.330Z"
   },
   {
    "duration": 23,
    "start_time": "2022-02-09T19:44:10.298Z"
   },
   {
    "duration": 39,
    "start_time": "2022-02-09T19:44:29.714Z"
   },
   {
    "duration": 42,
    "start_time": "2022-02-09T19:44:45.512Z"
   },
   {
    "duration": 21,
    "start_time": "2022-02-09T19:45:01.479Z"
   },
   {
    "duration": 22,
    "start_time": "2022-02-09T19:45:09.246Z"
   },
   {
    "duration": 19,
    "start_time": "2022-02-09T19:45:21.254Z"
   },
   {
    "duration": 21,
    "start_time": "2022-02-09T19:45:24.174Z"
   },
   {
    "duration": 41,
    "start_time": "2022-02-09T19:45:41.093Z"
   },
   {
    "duration": 32,
    "start_time": "2022-02-09T19:47:31.151Z"
   },
   {
    "duration": 34,
    "start_time": "2022-02-09T19:47:37.447Z"
   },
   {
    "duration": 33,
    "start_time": "2022-02-09T19:47:54.102Z"
   },
   {
    "duration": 34,
    "start_time": "2022-02-09T19:50:15.678Z"
   },
   {
    "duration": 32,
    "start_time": "2022-02-09T19:50:20.261Z"
   },
   {
    "duration": 31,
    "start_time": "2022-02-09T19:50:35.412Z"
   },
   {
    "duration": 35,
    "start_time": "2022-02-09T19:50:39.515Z"
   },
   {
    "duration": 265,
    "start_time": "2022-02-09T19:50:48.061Z"
   },
   {
    "duration": 203,
    "start_time": "2022-02-09T19:50:55.971Z"
   },
   {
    "duration": 299,
    "start_time": "2022-02-09T19:51:06.060Z"
   },
   {
    "duration": 34,
    "start_time": "2022-02-09T19:51:17.562Z"
   },
   {
    "duration": 36,
    "start_time": "2022-02-09T19:51:31.497Z"
   },
   {
    "duration": 35,
    "start_time": "2022-02-09T19:51:39.378Z"
   },
   {
    "duration": 34,
    "start_time": "2022-02-09T19:56:48.216Z"
   },
   {
    "duration": 33,
    "start_time": "2022-02-09T19:57:35.277Z"
   },
   {
    "duration": 35,
    "start_time": "2022-02-09T19:57:45.532Z"
   },
   {
    "duration": 468,
    "start_time": "2022-02-09T20:02:57.299Z"
   },
   {
    "duration": 596,
    "start_time": "2022-02-09T20:09:41.532Z"
   },
   {
    "duration": 238,
    "start_time": "2022-02-09T20:09:58.434Z"
   },
   {
    "duration": 392,
    "start_time": "2022-02-09T20:11:36.837Z"
   },
   {
    "duration": 327,
    "start_time": "2022-02-09T20:11:45.405Z"
   },
   {
    "duration": 616,
    "start_time": "2022-02-09T20:13:03.937Z"
   },
   {
    "duration": 821,
    "start_time": "2022-02-09T20:13:41.351Z"
   },
   {
    "duration": 605,
    "start_time": "2022-02-09T20:13:50.983Z"
   },
   {
    "duration": 817,
    "start_time": "2022-02-09T20:14:25.252Z"
   },
   {
    "duration": 786,
    "start_time": "2022-02-09T20:14:33.246Z"
   },
   {
    "duration": 792,
    "start_time": "2022-02-09T20:14:56.161Z"
   },
   {
    "duration": 820,
    "start_time": "2022-02-09T20:15:03.938Z"
   },
   {
    "duration": 902,
    "start_time": "2022-02-09T20:15:10.681Z"
   },
   {
    "duration": 395,
    "start_time": "2022-02-09T20:16:17.206Z"
   },
   {
    "duration": 131,
    "start_time": "2022-02-09T20:16:39.132Z"
   },
   {
    "duration": 221,
    "start_time": "2022-02-09T20:17:03.714Z"
   },
   {
    "duration": 604,
    "start_time": "2022-02-09T20:19:19.060Z"
   },
   {
    "duration": 488,
    "start_time": "2022-02-09T20:19:54.066Z"
   },
   {
    "duration": 740,
    "start_time": "2022-02-09T20:19:59.928Z"
   },
   {
    "duration": 471,
    "start_time": "2022-02-09T20:21:32.588Z"
   },
   {
    "duration": 19,
    "start_time": "2022-02-09T20:21:49.818Z"
   },
   {
    "duration": 500,
    "start_time": "2022-02-09T20:22:05.201Z"
   },
   {
    "duration": 714,
    "start_time": "2022-02-09T20:22:34.240Z"
   },
   {
    "duration": 616,
    "start_time": "2022-02-09T20:25:28.119Z"
   },
   {
    "duration": 420,
    "start_time": "2022-02-09T20:25:50.773Z"
   },
   {
    "duration": 500,
    "start_time": "2022-02-09T20:25:58.572Z"
   },
   {
    "duration": 520,
    "start_time": "2022-02-09T20:27:06.448Z"
   },
   {
    "duration": 461,
    "start_time": "2022-02-09T20:28:58.187Z"
   },
   {
    "duration": 476,
    "start_time": "2022-02-09T20:30:38.643Z"
   },
   {
    "duration": 476,
    "start_time": "2022-02-09T20:31:00.690Z"
   },
   {
    "duration": 459,
    "start_time": "2022-02-09T20:32:06.239Z"
   },
   {
    "duration": 21,
    "start_time": "2022-02-09T20:32:35.365Z"
   },
   {
    "duration": 21,
    "start_time": "2022-02-09T20:33:00.979Z"
   },
   {
    "duration": 455,
    "start_time": "2022-02-09T20:33:08.514Z"
   },
   {
    "duration": 20,
    "start_time": "2022-02-09T20:33:14.819Z"
   },
   {
    "duration": 612,
    "start_time": "2022-02-09T20:33:17.242Z"
   },
   {
    "duration": 477,
    "start_time": "2022-02-09T20:33:31.106Z"
   },
   {
    "duration": 558,
    "start_time": "2022-02-09T20:43:18.120Z"
   },
   {
    "duration": 555,
    "start_time": "2022-02-09T20:43:34.534Z"
   },
   {
    "duration": 537,
    "start_time": "2022-02-09T20:44:21.483Z"
   },
   {
    "duration": 549,
    "start_time": "2022-02-09T20:44:30.043Z"
   },
   {
    "duration": 526,
    "start_time": "2022-02-09T20:46:20.061Z"
   },
   {
    "duration": 79,
    "start_time": "2022-02-09T20:46:46.940Z"
   },
   {
    "duration": 241,
    "start_time": "2022-02-09T20:46:52.611Z"
   },
   {
    "duration": 48,
    "start_time": "2022-02-09T20:46:56.035Z"
   },
   {
    "duration": 25,
    "start_time": "2022-02-09T20:48:08.097Z"
   },
   {
    "duration": 24,
    "start_time": "2022-02-09T20:48:24.214Z"
   },
   {
    "duration": 22,
    "start_time": "2022-02-09T20:48:40.541Z"
   },
   {
    "duration": 23,
    "start_time": "2022-02-09T20:49:09.499Z"
   },
   {
    "duration": 27,
    "start_time": "2022-02-09T20:49:43.834Z"
   },
   {
    "duration": 28,
    "start_time": "2022-02-09T20:51:03.150Z"
   },
   {
    "duration": 566,
    "start_time": "2022-02-09T20:52:16.129Z"
   },
   {
    "duration": 7,
    "start_time": "2022-02-09T20:56:13.636Z"
   },
   {
    "duration": 9,
    "start_time": "2022-02-09T20:56:17.018Z"
   },
   {
    "duration": 7,
    "start_time": "2022-02-09T20:56:19.866Z"
   },
   {
    "duration": 362,
    "start_time": "2022-02-09T20:56:22.106Z"
   },
   {
    "duration": 782,
    "start_time": "2022-02-09T20:56:31.162Z"
   },
   {
    "duration": 1167,
    "start_time": "2022-02-09T20:57:11.624Z"
   },
   {
    "duration": 224,
    "start_time": "2022-02-09T20:57:12.793Z"
   },
   {
    "duration": 11,
    "start_time": "2022-02-09T20:57:13.020Z"
   },
   {
    "duration": 18,
    "start_time": "2022-02-09T20:57:13.034Z"
   },
   {
    "duration": 9,
    "start_time": "2022-02-09T20:57:13.054Z"
   },
   {
    "duration": 34,
    "start_time": "2022-02-09T20:57:13.065Z"
   },
   {
    "duration": 17,
    "start_time": "2022-02-09T20:57:13.101Z"
   },
   {
    "duration": 17,
    "start_time": "2022-02-09T20:57:13.121Z"
   },
   {
    "duration": 9,
    "start_time": "2022-02-09T20:57:13.140Z"
   },
   {
    "duration": 4,
    "start_time": "2022-02-09T20:57:13.150Z"
   },
   {
    "duration": 45,
    "start_time": "2022-02-09T20:57:13.155Z"
   },
   {
    "duration": 10,
    "start_time": "2022-02-09T20:57:13.201Z"
   },
   {
    "duration": 9,
    "start_time": "2022-02-09T20:57:13.212Z"
   },
   {
    "duration": 22,
    "start_time": "2022-02-09T20:57:13.223Z"
   },
   {
    "duration": 12,
    "start_time": "2022-02-09T20:57:13.247Z"
   },
   {
    "duration": 28,
    "start_time": "2022-02-09T20:57:13.261Z"
   },
   {
    "duration": 32,
    "start_time": "2022-02-09T20:57:13.291Z"
   },
   {
    "duration": 14,
    "start_time": "2022-02-09T20:57:13.325Z"
   },
   {
    "duration": 32,
    "start_time": "2022-02-09T20:57:13.341Z"
   },
   {
    "duration": 15,
    "start_time": "2022-02-09T20:57:13.375Z"
   },
   {
    "duration": 456,
    "start_time": "2022-02-09T20:57:13.392Z"
   },
   {
    "duration": 7,
    "start_time": "2022-02-09T20:57:13.850Z"
   },
   {
    "duration": 8,
    "start_time": "2022-02-09T20:57:13.861Z"
   },
   {
    "duration": 28,
    "start_time": "2022-02-09T20:57:13.871Z"
   },
   {
    "duration": 340,
    "start_time": "2022-02-09T20:57:13.901Z"
   },
   {
    "duration": 577,
    "start_time": "2022-02-09T20:57:14.243Z"
   },
   {
    "duration": 25,
    "start_time": "2022-02-09T20:57:14.822Z"
   },
   {
    "duration": 51,
    "start_time": "2022-02-09T20:57:14.849Z"
   },
   {
    "duration": 824,
    "start_time": "2022-02-09T20:57:14.902Z"
   },
   {
    "duration": 901,
    "start_time": "2022-02-09T20:57:15.728Z"
   },
   {
    "duration": 10,
    "start_time": "2022-02-09T20:57:16.631Z"
   },
   {
    "duration": 5,
    "start_time": "2022-02-09T20:57:16.642Z"
   },
   {
    "duration": 12,
    "start_time": "2022-02-09T20:57:16.649Z"
   },
   {
    "duration": 38,
    "start_time": "2022-02-09T20:57:16.663Z"
   },
   {
    "duration": 7,
    "start_time": "2022-02-09T20:57:16.702Z"
   },
   {
    "duration": 679,
    "start_time": "2022-02-09T20:57:16.711Z"
   },
   {
    "duration": 341,
    "start_time": "2022-02-09T20:57:17.392Z"
   },
   {
    "duration": 1704,
    "start_time": "2022-02-09T20:57:17.735Z"
   },
   {
    "duration": 1736,
    "start_time": "2022-02-09T20:57:19.441Z"
   },
   {
    "duration": 219,
    "start_time": "2022-02-09T20:57:21.179Z"
   },
   {
    "duration": 19,
    "start_time": "2022-02-09T20:57:21.400Z"
   },
   {
    "duration": 20,
    "start_time": "2022-02-09T20:57:21.421Z"
   },
   {
    "duration": 510,
    "start_time": "2022-02-09T20:57:21.444Z"
   },
   {
    "duration": 23,
    "start_time": "2022-02-09T21:12:57.163Z"
   },
   {
    "duration": 24,
    "start_time": "2022-02-09T21:13:32.264Z"
   },
   {
    "duration": 412,
    "start_time": "2022-02-10T05:29:05.624Z"
   },
   {
    "duration": 1431,
    "start_time": "2022-02-10T05:29:09.962Z"
   },
   {
    "duration": 613,
    "start_time": "2022-02-10T05:29:11.395Z"
   },
   {
    "duration": 14,
    "start_time": "2022-02-10T05:29:12.011Z"
   },
   {
    "duration": 23,
    "start_time": "2022-02-10T05:29:12.028Z"
   },
   {
    "duration": 14,
    "start_time": "2022-02-10T05:29:12.054Z"
   },
   {
    "duration": 7,
    "start_time": "2022-02-10T05:29:12.071Z"
   },
   {
    "duration": 68,
    "start_time": "2022-02-10T05:29:12.080Z"
   },
   {
    "duration": 23,
    "start_time": "2022-02-10T05:29:12.151Z"
   },
   {
    "duration": 12,
    "start_time": "2022-02-10T05:29:12.177Z"
   },
   {
    "duration": 4,
    "start_time": "2022-02-10T05:29:12.191Z"
   },
   {
    "duration": 15,
    "start_time": "2022-02-10T05:29:12.224Z"
   },
   {
    "duration": 16,
    "start_time": "2022-02-10T05:29:12.241Z"
   },
   {
    "duration": 11,
    "start_time": "2022-02-10T05:29:12.260Z"
   },
   {
    "duration": 51,
    "start_time": "2022-02-10T05:29:12.274Z"
   },
   {
    "duration": 13,
    "start_time": "2022-02-10T05:29:12.328Z"
   },
   {
    "duration": 10,
    "start_time": "2022-02-10T05:29:12.344Z"
   },
   {
    "duration": 26,
    "start_time": "2022-02-10T05:29:12.356Z"
   },
   {
    "duration": 39,
    "start_time": "2022-02-10T05:29:12.385Z"
   },
   {
    "duration": 21,
    "start_time": "2022-02-10T05:29:12.426Z"
   },
   {
    "duration": 34,
    "start_time": "2022-02-10T05:29:12.451Z"
   },
   {
    "duration": 901,
    "start_time": "2022-02-10T05:29:12.489Z"
   },
   {
    "duration": 9,
    "start_time": "2022-02-10T05:29:15.619Z"
   },
   {
    "duration": 12,
    "start_time": "2022-02-10T05:29:20.438Z"
   },
   {
    "duration": 11,
    "start_time": "2022-02-10T05:29:25.692Z"
   },
   {
    "duration": 9,
    "start_time": "2022-02-10T05:29:57.369Z"
   },
   {
    "duration": 11,
    "start_time": "2022-02-10T05:29:59.583Z"
   },
   {
    "duration": 9,
    "start_time": "2022-02-10T05:30:02.984Z"
   },
   {
    "duration": 598,
    "start_time": "2022-02-10T05:30:04.849Z"
   },
   {
    "duration": 774,
    "start_time": "2022-02-10T05:30:25.558Z"
   },
   {
    "duration": 33,
    "start_time": "2022-02-10T05:30:38.405Z"
   },
   {
    "duration": 390,
    "start_time": "2022-02-10T05:33:56.864Z"
   },
   {
    "duration": 9,
    "start_time": "2022-02-10T05:34:01.544Z"
   },
   {
    "duration": 11,
    "start_time": "2022-02-10T05:34:04.259Z"
   },
   {
    "duration": 10,
    "start_time": "2022-02-10T05:34:06.952Z"
   },
   {
    "duration": 445,
    "start_time": "2022-02-10T05:34:11.972Z"
   },
   {
    "duration": 814,
    "start_time": "2022-02-10T05:35:08.388Z"
   },
   {
    "duration": 32,
    "start_time": "2022-02-10T05:35:53.775Z"
   },
   {
    "duration": 41,
    "start_time": "2022-02-10T05:36:22.278Z"
   },
   {
    "duration": 4,
    "start_time": "2022-02-10T05:36:45.088Z"
   },
   {
    "duration": 223,
    "start_time": "2022-02-10T05:36:45.096Z"
   },
   {
    "duration": 14,
    "start_time": "2022-02-10T05:36:45.322Z"
   },
   {
    "duration": 22,
    "start_time": "2022-02-10T05:36:45.339Z"
   },
   {
    "duration": 12,
    "start_time": "2022-02-10T05:36:45.364Z"
   },
   {
    "duration": 8,
    "start_time": "2022-02-10T05:36:45.379Z"
   },
   {
    "duration": 24,
    "start_time": "2022-02-10T05:36:45.425Z"
   },
   {
    "duration": 29,
    "start_time": "2022-02-10T05:36:45.452Z"
   },
   {
    "duration": 41,
    "start_time": "2022-02-10T05:36:45.484Z"
   },
   {
    "duration": 4,
    "start_time": "2022-02-10T05:36:45.528Z"
   },
   {
    "duration": 16,
    "start_time": "2022-02-10T05:36:45.534Z"
   },
   {
    "duration": 11,
    "start_time": "2022-02-10T05:36:45.552Z"
   },
   {
    "duration": 13,
    "start_time": "2022-02-10T05:36:45.565Z"
   },
   {
    "duration": 46,
    "start_time": "2022-02-10T05:36:45.580Z"
   },
   {
    "duration": 15,
    "start_time": "2022-02-10T05:36:45.629Z"
   },
   {
    "duration": 14,
    "start_time": "2022-02-10T05:36:45.647Z"
   },
   {
    "duration": 61,
    "start_time": "2022-02-10T05:36:45.664Z"
   },
   {
    "duration": 18,
    "start_time": "2022-02-10T05:36:45.728Z"
   },
   {
    "duration": 30,
    "start_time": "2022-02-10T05:36:45.748Z"
   },
   {
    "duration": 54,
    "start_time": "2022-02-10T05:36:45.782Z"
   },
   {
    "duration": 640,
    "start_time": "2022-02-10T05:36:45.839Z"
   },
   {
    "duration": 9,
    "start_time": "2022-02-10T05:36:46.482Z"
   },
   {
    "duration": 30,
    "start_time": "2022-02-10T05:36:46.493Z"
   },
   {
    "duration": 9,
    "start_time": "2022-02-10T05:36:46.528Z"
   },
   {
    "duration": 470,
    "start_time": "2022-02-10T05:36:46.539Z"
   },
   {
    "duration": 792,
    "start_time": "2022-02-10T05:36:47.012Z"
   },
   {
    "duration": 40,
    "start_time": "2022-02-10T05:36:47.806Z"
   },
   {
    "duration": 41,
    "start_time": "2022-02-10T05:36:47.848Z"
   },
   {
    "duration": 60,
    "start_time": "2022-02-10T05:37:22.284Z"
   },
   {
    "duration": 65,
    "start_time": "2022-02-10T05:38:08.167Z"
   },
   {
    "duration": 87,
    "start_time": "2022-02-10T05:38:14.418Z"
   },
   {
    "duration": 953,
    "start_time": "2022-02-10T05:43:18.565Z"
   },
   {
    "duration": 1222,
    "start_time": "2022-02-10T05:43:24.226Z"
   },
   {
    "duration": 13,
    "start_time": "2022-02-10T05:43:31.332Z"
   },
   {
    "duration": 8,
    "start_time": "2022-02-10T05:43:45.384Z"
   },
   {
    "duration": 6,
    "start_time": "2022-02-10T05:43:52.185Z"
   },
   {
    "duration": 22,
    "start_time": "2022-02-10T05:43:56.229Z"
   },
   {
    "duration": 9,
    "start_time": "2022-02-10T05:45:16.739Z"
   },
   {
    "duration": 401,
    "start_time": "2022-02-10T05:45:18.509Z"
   },
   {
    "duration": 870,
    "start_time": "2022-02-10T05:45:23.823Z"
   },
   {
    "duration": 535,
    "start_time": "2022-02-10T05:45:31.962Z"
   },
   {
    "duration": 1081,
    "start_time": "2022-02-10T05:45:51.643Z"
   },
   {
    "duration": 1619,
    "start_time": "2022-02-10T05:46:02.844Z"
   },
   {
    "duration": 162,
    "start_time": "2022-02-10T05:46:16.709Z"
   },
   {
    "duration": 33,
    "start_time": "2022-02-10T05:46:32.476Z"
   },
   {
    "duration": 24,
    "start_time": "2022-02-10T05:46:42.994Z"
   },
   {
    "duration": 620,
    "start_time": "2022-02-10T05:47:00.557Z"
   },
   {
    "duration": 590,
    "start_time": "2022-02-10T05:47:21.585Z"
   },
   {
    "duration": 602,
    "start_time": "2022-02-10T05:47:25.587Z"
   },
   {
    "duration": 726,
    "start_time": "2022-02-10T05:47:29.299Z"
   },
   {
    "duration": 393,
    "start_time": "2022-02-10T05:59:52.046Z"
   },
   {
    "duration": 62,
    "start_time": "2022-02-10T06:00:01.880Z"
   },
   {
    "duration": 61,
    "start_time": "2022-02-10T06:00:11.885Z"
   },
   {
    "duration": 25,
    "start_time": "2022-02-10T06:06:39.720Z"
   },
   {
    "duration": 619,
    "start_time": "2022-02-10T06:07:00.491Z"
   },
   {
    "duration": 14,
    "start_time": "2022-02-10T06:08:41.029Z"
   },
   {
    "duration": 21,
    "start_time": "2022-02-10T06:09:18.736Z"
   },
   {
    "duration": 38,
    "start_time": "2022-02-10T06:09:31.195Z"
   },
   {
    "duration": 880,
    "start_time": "2022-02-10T06:11:41.888Z"
   },
   {
    "duration": 107,
    "start_time": "2022-02-10T06:14:29.140Z"
   },
   {
    "duration": 56,
    "start_time": "2022-02-10T06:14:38.143Z"
   },
   {
    "duration": 45,
    "start_time": "2022-02-10T06:14:50.929Z"
   },
   {
    "duration": 27,
    "start_time": "2022-02-10T06:15:07.193Z"
   },
   {
    "duration": 32,
    "start_time": "2022-02-10T06:15:22.374Z"
   },
   {
    "duration": 45,
    "start_time": "2022-02-10T06:15:38.829Z"
   },
   {
    "duration": 33,
    "start_time": "2022-02-10T06:15:57.539Z"
   },
   {
    "duration": 1917,
    "start_time": "2022-02-10T06:17:35.372Z"
   },
   {
    "duration": 35,
    "start_time": "2022-02-10T06:17:50.860Z"
   },
   {
    "duration": 34,
    "start_time": "2022-02-10T06:18:24.372Z"
   },
   {
    "duration": 37,
    "start_time": "2022-02-10T06:24:58.568Z"
   },
   {
    "duration": 210,
    "start_time": "2022-02-10T06:27:00.903Z"
   },
   {
    "duration": 19,
    "start_time": "2022-02-10T06:27:13.169Z"
   },
   {
    "duration": 18,
    "start_time": "2022-02-10T06:28:53.687Z"
   },
   {
    "duration": 24,
    "start_time": "2022-02-10T06:29:39.088Z"
   },
   {
    "duration": 29,
    "start_time": "2022-02-10T06:30:02.074Z"
   },
   {
    "duration": 24,
    "start_time": "2022-02-10T06:32:30.064Z"
   },
   {
    "duration": 659,
    "start_time": "2022-02-10T06:32:33.468Z"
   },
   {
    "duration": 6,
    "start_time": "2022-02-10T07:01:48.006Z"
   },
   {
    "duration": 6,
    "start_time": "2022-02-10T07:02:14.933Z"
   },
   {
    "duration": 7,
    "start_time": "2022-02-10T07:04:02.096Z"
   },
   {
    "duration": 24,
    "start_time": "2022-02-10T07:16:48.016Z"
   },
   {
    "duration": 702,
    "start_time": "2022-02-10T07:17:01.240Z"
   },
   {
    "duration": 22,
    "start_time": "2022-02-10T07:17:10.299Z"
   },
   {
    "duration": 21,
    "start_time": "2022-02-10T07:17:18.857Z"
   },
   {
    "duration": 12,
    "start_time": "2022-02-10T07:18:02.057Z"
   },
   {
    "duration": 22,
    "start_time": "2022-02-10T07:25:44.996Z"
   },
   {
    "duration": 21,
    "start_time": "2022-02-10T07:25:52.912Z"
   },
   {
    "duration": 413,
    "start_time": "2022-02-10T07:26:13.339Z"
   },
   {
    "duration": 33,
    "start_time": "2022-02-10T07:26:30.188Z"
   },
   {
    "duration": 4,
    "start_time": "2022-02-10T07:56:20.087Z"
   },
   {
    "duration": 42,
    "start_time": "2022-02-10T07:57:14.400Z"
   },
   {
    "duration": 1493,
    "start_time": "2022-02-10T07:59:58.292Z"
   },
   {
    "duration": 281,
    "start_time": "2022-02-10T07:59:59.788Z"
   },
   {
    "duration": 14,
    "start_time": "2022-02-10T08:00:00.072Z"
   },
   {
    "duration": 35,
    "start_time": "2022-02-10T08:00:00.089Z"
   },
   {
    "duration": 11,
    "start_time": "2022-02-10T08:00:00.127Z"
   },
   {
    "duration": 9,
    "start_time": "2022-02-10T08:00:00.140Z"
   },
   {
    "duration": 35,
    "start_time": "2022-02-10T08:00:00.151Z"
   },
   {
    "duration": 46,
    "start_time": "2022-02-10T08:00:00.190Z"
   },
   {
    "duration": 12,
    "start_time": "2022-02-10T08:00:00.239Z"
   },
   {
    "duration": 5,
    "start_time": "2022-02-10T08:00:00.253Z"
   },
   {
    "duration": 16,
    "start_time": "2022-02-10T08:00:00.260Z"
   },
   {
    "duration": 48,
    "start_time": "2022-02-10T08:00:00.278Z"
   },
   {
    "duration": 18,
    "start_time": "2022-02-10T08:00:00.329Z"
   },
   {
    "duration": 20,
    "start_time": "2022-02-10T08:00:00.349Z"
   },
   {
    "duration": 13,
    "start_time": "2022-02-10T08:00:00.372Z"
   },
   {
    "duration": 38,
    "start_time": "2022-02-10T08:00:00.388Z"
   },
   {
    "duration": 21,
    "start_time": "2022-02-10T08:00:00.428Z"
   },
   {
    "duration": 14,
    "start_time": "2022-02-10T08:00:00.451Z"
   },
   {
    "duration": 56,
    "start_time": "2022-02-10T08:00:00.468Z"
   },
   {
    "duration": 24,
    "start_time": "2022-02-10T08:00:00.526Z"
   },
   {
    "duration": 648,
    "start_time": "2022-02-10T08:00:00.552Z"
   },
   {
    "duration": 9,
    "start_time": "2022-02-10T08:00:01.202Z"
   },
   {
    "duration": 10,
    "start_time": "2022-02-10T08:00:01.225Z"
   },
   {
    "duration": 16,
    "start_time": "2022-02-10T08:00:01.238Z"
   },
   {
    "duration": 486,
    "start_time": "2022-02-10T08:00:01.257Z"
   },
   {
    "duration": 826,
    "start_time": "2022-02-10T08:00:01.746Z"
   },
   {
    "duration": 49,
    "start_time": "2022-02-10T08:00:02.575Z"
   },
   {
    "duration": 65,
    "start_time": "2022-02-10T08:00:02.627Z"
   },
   {
    "duration": 1024,
    "start_time": "2022-02-10T08:00:02.695Z"
   },
   {
    "duration": 1102,
    "start_time": "2022-02-10T08:00:03.724Z"
   },
   {
    "duration": 11,
    "start_time": "2022-02-10T08:00:04.828Z"
   },
   {
    "duration": 6,
    "start_time": "2022-02-10T08:00:04.841Z"
   },
   {
    "duration": 7,
    "start_time": "2022-02-10T08:00:04.849Z"
   },
   {
    "duration": 25,
    "start_time": "2022-02-10T08:00:04.859Z"
   },
   {
    "duration": 8,
    "start_time": "2022-02-10T08:00:04.925Z"
   },
   {
    "duration": 989,
    "start_time": "2022-02-10T08:00:04.936Z"
   },
   {
    "duration": 418,
    "start_time": "2022-02-10T08:00:05.929Z"
   },
   {
    "duration": 1210,
    "start_time": "2022-02-10T08:00:06.350Z"
   },
   {
    "duration": 1941,
    "start_time": "2022-02-10T08:00:07.562Z"
   },
   {
    "duration": 255,
    "start_time": "2022-02-10T08:00:09.506Z"
   },
   {
    "duration": 64,
    "start_time": "2022-02-10T08:00:09.763Z"
   },
   {
    "duration": 23,
    "start_time": "2022-02-10T08:00:09.830Z"
   },
   {
    "duration": 772,
    "start_time": "2022-02-10T08:00:09.856Z"
   },
   {
    "duration": 24,
    "start_time": "2022-02-10T08:00:10.630Z"
   },
   {
    "duration": 777,
    "start_time": "2022-02-10T08:00:10.657Z"
   },
   {
    "duration": 11,
    "start_time": "2022-02-10T08:00:11.436Z"
   },
   {
    "duration": 6,
    "start_time": "2022-02-10T08:00:11.450Z"
   },
   {
    "duration": 5,
    "start_time": "2022-02-10T08:00:11.458Z"
   },
   {
    "duration": 85,
    "start_time": "2022-02-10T08:00:11.465Z"
   },
   {
    "duration": 34,
    "start_time": "2022-02-10T08:00:11.553Z"
   },
   {
    "duration": 13,
    "start_time": "2022-02-10T08:00:46.232Z"
   },
   {
    "duration": 5,
    "start_time": "2022-02-10T08:01:10.856Z"
   },
   {
    "duration": 5,
    "start_time": "2022-02-10T08:01:35.911Z"
   },
   {
    "duration": 12,
    "start_time": "2022-02-10T08:01:38.714Z"
   },
   {
    "duration": 6,
    "start_time": "2022-02-10T08:03:09.685Z"
   },
   {
    "duration": 13,
    "start_time": "2022-02-10T08:21:25.099Z"
   },
   {
    "duration": 18,
    "start_time": "2022-02-10T08:21:37.406Z"
   },
   {
    "duration": 1264,
    "start_time": "2022-02-10T08:23:47.798Z"
   },
   {
    "duration": 1002,
    "start_time": "2022-02-10T08:28:34.155Z"
   },
   {
    "duration": 1019,
    "start_time": "2022-02-10T08:29:01.649Z"
   },
   {
    "duration": 999,
    "start_time": "2022-02-10T08:29:30.889Z"
   },
   {
    "duration": 1137,
    "start_time": "2022-02-10T08:32:09.907Z"
   },
   {
    "duration": 1947,
    "start_time": "2022-02-10T08:32:23.806Z"
   },
   {
    "duration": 1647,
    "start_time": "2022-02-10T08:33:35.675Z"
   },
   {
    "duration": 30,
    "start_time": "2022-02-10T08:33:46.734Z"
   },
   {
    "duration": 31,
    "start_time": "2022-02-10T08:34:05.465Z"
   },
   {
    "duration": 17,
    "start_time": "2022-02-10T08:35:37.165Z"
   },
   {
    "duration": 1124,
    "start_time": "2022-02-10T08:36:34.483Z"
   },
   {
    "duration": 1086,
    "start_time": "2022-02-10T08:41:35.633Z"
   },
   {
    "duration": 1608,
    "start_time": "2022-02-10T08:41:44.743Z"
   },
   {
    "duration": 1139,
    "start_time": "2022-02-10T08:42:06.264Z"
   },
   {
    "duration": 730,
    "start_time": "2022-02-10T09:01:26.147Z"
   },
   {
    "duration": 341,
    "start_time": "2022-02-10T09:01:35.415Z"
   },
   {
    "duration": 337,
    "start_time": "2022-02-10T09:01:41.843Z"
   },
   {
    "duration": 1017,
    "start_time": "2022-02-10T09:03:23.696Z"
   },
   {
    "duration": 606,
    "start_time": "2022-02-10T09:03:41.250Z"
   },
   {
    "duration": 329,
    "start_time": "2022-02-10T09:13:19.974Z"
   },
   {
    "duration": 24,
    "start_time": "2022-02-10T09:13:24.726Z"
   },
   {
    "duration": 23,
    "start_time": "2022-02-10T09:13:29.515Z"
   },
   {
    "duration": 6,
    "start_time": "2022-02-10T09:33:00.365Z"
   },
   {
    "duration": 8,
    "start_time": "2022-02-10T09:33:21.501Z"
   },
   {
    "duration": 1501,
    "start_time": "2022-02-10T09:36:56.010Z"
   },
   {
    "duration": 232,
    "start_time": "2022-02-10T09:36:57.514Z"
   },
   {
    "duration": 14,
    "start_time": "2022-02-10T09:36:57.749Z"
   },
   {
    "duration": 22,
    "start_time": "2022-02-10T09:36:57.766Z"
   },
   {
    "duration": 35,
    "start_time": "2022-02-10T09:36:57.790Z"
   },
   {
    "duration": 7,
    "start_time": "2022-02-10T09:36:57.828Z"
   },
   {
    "duration": 31,
    "start_time": "2022-02-10T09:36:57.837Z"
   },
   {
    "duration": 52,
    "start_time": "2022-02-10T09:36:57.872Z"
   },
   {
    "duration": 12,
    "start_time": "2022-02-10T09:36:57.927Z"
   },
   {
    "duration": 10,
    "start_time": "2022-02-10T09:36:57.941Z"
   },
   {
    "duration": 8,
    "start_time": "2022-02-10T09:36:57.954Z"
   },
   {
    "duration": 11,
    "start_time": "2022-02-10T09:36:57.965Z"
   },
   {
    "duration": 47,
    "start_time": "2022-02-10T09:36:57.978Z"
   },
   {
    "duration": 28,
    "start_time": "2022-02-10T09:36:58.028Z"
   },
   {
    "duration": 11,
    "start_time": "2022-02-10T09:36:58.058Z"
   },
   {
    "duration": 59,
    "start_time": "2022-02-10T09:36:58.071Z"
   },
   {
    "duration": 24,
    "start_time": "2022-02-10T09:36:58.132Z"
   },
   {
    "duration": 709,
    "start_time": "2022-02-10T09:36:58.158Z"
   },
   {
    "duration": 8,
    "start_time": "2022-02-10T09:36:58.870Z"
   },
   {
    "duration": 11,
    "start_time": "2022-02-10T09:36:58.881Z"
   },
   {
    "duration": 36,
    "start_time": "2022-02-10T09:36:58.894Z"
   },
   {
    "duration": 677,
    "start_time": "2022-02-10T09:36:58.933Z"
   },
   {
    "duration": 809,
    "start_time": "2022-02-10T09:36:59.627Z"
   },
   {
    "duration": 34,
    "start_time": "2022-02-10T09:37:00.439Z"
   },
   {
    "duration": 95,
    "start_time": "2022-02-10T09:37:00.476Z"
   },
   {
    "duration": 1030,
    "start_time": "2022-02-10T09:37:00.574Z"
   },
   {
    "duration": 1089,
    "start_time": "2022-02-10T09:37:01.606Z"
   },
   {
    "duration": 25,
    "start_time": "2022-02-10T09:37:02.698Z"
   },
   {
    "duration": 5,
    "start_time": "2022-02-10T09:37:02.726Z"
   },
   {
    "duration": 12,
    "start_time": "2022-02-10T09:37:02.734Z"
   },
   {
    "duration": 28,
    "start_time": "2022-02-10T09:37:02.749Z"
   },
   {
    "duration": 7,
    "start_time": "2022-02-10T09:37:02.779Z"
   },
   {
    "duration": 929,
    "start_time": "2022-02-10T09:37:02.824Z"
   },
   {
    "duration": 693,
    "start_time": "2022-02-10T09:37:03.756Z"
   },
   {
    "duration": 1048,
    "start_time": "2022-02-10T09:37:04.452Z"
   },
   {
    "duration": 1302,
    "start_time": "2022-02-10T09:37:05.503Z"
   },
   {
    "duration": 172,
    "start_time": "2022-02-10T09:37:06.808Z"
   },
   {
    "duration": 59,
    "start_time": "2022-02-10T09:37:06.983Z"
   },
   {
    "duration": 24,
    "start_time": "2022-02-10T09:37:07.044Z"
   },
   {
    "duration": 680,
    "start_time": "2022-02-10T09:37:07.071Z"
   },
   {
    "duration": 31,
    "start_time": "2022-02-10T09:37:07.754Z"
   },
   {
    "duration": 861,
    "start_time": "2022-02-10T09:37:07.788Z"
   },
   {
    "duration": 13,
    "start_time": "2022-02-10T09:37:08.652Z"
   },
   {
    "duration": 9,
    "start_time": "2022-02-10T09:37:08.668Z"
   },
   {
    "duration": 5,
    "start_time": "2022-02-10T09:37:08.680Z"
   },
   {
    "duration": 51,
    "start_time": "2022-02-10T09:37:08.688Z"
   },
   {
    "duration": 19,
    "start_time": "2022-02-10T09:37:08.742Z"
   },
   {
    "duration": 1571,
    "start_time": "2022-02-10T09:37:08.763Z"
   },
   {
    "duration": 5,
    "start_time": "2022-02-10T09:37:10.337Z"
   },
   {
    "duration": 12,
    "start_time": "2022-02-10T09:37:10.345Z"
   },
   {
    "duration": 1186,
    "start_time": "2022-02-10T09:41:10.424Z"
   },
   {
    "duration": 24,
    "start_time": "2022-02-10T09:47:27.291Z"
   },
   {
    "duration": 22,
    "start_time": "2022-02-10T09:47:34.061Z"
   },
   {
    "duration": 7,
    "start_time": "2022-02-10T09:50:09.096Z"
   },
   {
    "duration": 7,
    "start_time": "2022-02-10T09:51:04.470Z"
   },
   {
    "duration": 10,
    "start_time": "2022-02-10T09:52:37.227Z"
   },
   {
    "duration": 14,
    "start_time": "2022-02-10T09:53:34.896Z"
   },
   {
    "duration": 725,
    "start_time": "2022-02-10T09:54:19.966Z"
   },
   {
    "duration": 646,
    "start_time": "2022-02-10T09:54:54.825Z"
   },
   {
    "duration": 1481,
    "start_time": "2022-02-10T09:55:17.306Z"
   },
   {
    "duration": 705,
    "start_time": "2022-02-10T09:56:20.032Z"
   },
   {
    "duration": 973,
    "start_time": "2022-02-10T09:57:43.884Z"
   },
   {
    "duration": 959,
    "start_time": "2022-02-10T09:58:04.315Z"
   },
   {
    "duration": 973,
    "start_time": "2022-02-10T09:58:30.157Z"
   },
   {
    "duration": 15,
    "start_time": "2022-02-10T10:00:06.611Z"
   },
   {
    "duration": 15,
    "start_time": "2022-02-10T10:00:20.597Z"
   },
   {
    "duration": 15,
    "start_time": "2022-02-10T10:00:23.355Z"
   },
   {
    "duration": 296,
    "start_time": "2022-02-10T15:40:05.284Z"
   },
   {
    "duration": 1474,
    "start_time": "2022-02-10T15:40:09.040Z"
   },
   {
    "duration": 205,
    "start_time": "2022-02-10T15:40:10.517Z"
   },
   {
    "duration": 13,
    "start_time": "2022-02-10T15:40:10.725Z"
   },
   {
    "duration": 24,
    "start_time": "2022-02-10T15:40:10.741Z"
   },
   {
    "duration": 13,
    "start_time": "2022-02-10T15:40:10.768Z"
   },
   {
    "duration": 8,
    "start_time": "2022-02-10T15:40:10.784Z"
   },
   {
    "duration": 56,
    "start_time": "2022-02-10T15:40:10.795Z"
   },
   {
    "duration": 22,
    "start_time": "2022-02-10T15:40:10.855Z"
   },
   {
    "duration": 11,
    "start_time": "2022-02-10T15:40:10.880Z"
   },
   {
    "duration": 10,
    "start_time": "2022-02-10T15:40:10.894Z"
   },
   {
    "duration": 46,
    "start_time": "2022-02-10T15:40:10.907Z"
   },
   {
    "duration": 22,
    "start_time": "2022-02-10T15:40:10.956Z"
   },
   {
    "duration": 9,
    "start_time": "2022-02-10T15:40:10.981Z"
   },
   {
    "duration": 25,
    "start_time": "2022-02-10T15:40:10.992Z"
   },
   {
    "duration": 11,
    "start_time": "2022-02-10T15:40:11.048Z"
   },
   {
    "duration": 19,
    "start_time": "2022-02-10T15:40:11.062Z"
   },
   {
    "duration": 23,
    "start_time": "2022-02-10T15:40:11.084Z"
   },
   {
    "duration": 665,
    "start_time": "2022-02-10T15:40:11.109Z"
   },
   {
    "duration": 9,
    "start_time": "2022-02-10T15:40:11.776Z"
   },
   {
    "duration": 19,
    "start_time": "2022-02-10T15:40:11.788Z"
   },
   {
    "duration": 10,
    "start_time": "2022-02-10T15:40:11.810Z"
   },
   {
    "duration": 492,
    "start_time": "2022-02-10T15:40:11.822Z"
   },
   {
    "duration": 761,
    "start_time": "2022-02-10T15:40:12.320Z"
   },
   {
    "duration": 31,
    "start_time": "2022-02-10T15:40:13.085Z"
   },
   {
    "duration": 87,
    "start_time": "2022-02-10T15:40:13.119Z"
   },
   {
    "duration": 993,
    "start_time": "2022-02-10T15:40:13.209Z"
   },
   {
    "duration": 1063,
    "start_time": "2022-02-10T15:40:14.205Z"
   },
   {
    "duration": 12,
    "start_time": "2022-02-10T15:40:15.270Z"
   },
   {
    "duration": 22,
    "start_time": "2022-02-10T15:40:15.284Z"
   },
   {
    "duration": 18,
    "start_time": "2022-02-10T15:40:15.308Z"
   },
   {
    "duration": 50,
    "start_time": "2022-02-10T15:40:15.328Z"
   },
   {
    "duration": 10,
    "start_time": "2022-02-10T15:40:15.383Z"
   },
   {
    "duration": 959,
    "start_time": "2022-02-10T15:40:15.396Z"
   },
   {
    "duration": 396,
    "start_time": "2022-02-10T15:40:16.358Z"
   },
   {
    "duration": 981,
    "start_time": "2022-02-10T15:40:16.756Z"
   },
   {
    "duration": 1321,
    "start_time": "2022-02-10T15:40:17.739Z"
   },
   {
    "duration": 220,
    "start_time": "2022-02-10T15:40:19.063Z"
   },
   {
    "duration": 22,
    "start_time": "2022-02-10T15:40:19.286Z"
   },
   {
    "duration": 24,
    "start_time": "2022-02-10T15:40:19.348Z"
   },
   {
    "duration": 668,
    "start_time": "2022-02-10T15:40:19.374Z"
   },
   {
    "duration": 24,
    "start_time": "2022-02-10T15:40:20.048Z"
   },
   {
    "duration": 777,
    "start_time": "2022-02-10T15:40:20.074Z"
   },
   {
    "duration": 11,
    "start_time": "2022-02-10T15:40:20.854Z"
   },
   {
    "duration": 14,
    "start_time": "2022-02-10T15:40:20.868Z"
   },
   {
    "duration": 15,
    "start_time": "2022-02-10T15:40:20.884Z"
   },
   {
    "duration": 19,
    "start_time": "2022-02-10T15:40:20.901Z"
   },
   {
    "duration": 50,
    "start_time": "2022-02-10T15:40:20.924Z"
   },
   {
    "duration": 1039,
    "start_time": "2022-02-10T15:40:20.977Z"
   },
   {
    "duration": 10,
    "start_time": "2022-02-10T15:40:22.019Z"
   },
   {
    "duration": 370,
    "start_time": "2022-02-10T15:40:27.139Z"
   },
   {
    "duration": 9,
    "start_time": "2022-02-10T15:40:48.968Z"
   },
   {
    "duration": 9,
    "start_time": "2022-02-10T15:41:07.072Z"
   },
   {
    "duration": 6,
    "start_time": "2022-02-10T15:41:14.686Z"
   },
   {
    "duration": 249,
    "start_time": "2022-02-10T15:42:50.457Z"
   },
   {
    "duration": 4,
    "start_time": "2022-02-10T15:43:18.255Z"
   },
   {
    "duration": 7,
    "start_time": "2022-02-10T15:43:25.367Z"
   },
   {
    "duration": 9,
    "start_time": "2022-02-10T15:43:57.278Z"
   },
   {
    "duration": 10,
    "start_time": "2022-02-10T15:44:34.411Z"
   },
   {
    "duration": 20,
    "start_time": "2022-02-10T15:45:47.543Z"
   },
   {
    "duration": 8,
    "start_time": "2022-02-10T15:45:58.918Z"
   },
   {
    "duration": 7,
    "start_time": "2022-02-10T15:46:11.943Z"
   },
   {
    "duration": 7,
    "start_time": "2022-02-10T15:46:14.646Z"
   },
   {
    "duration": 8,
    "start_time": "2022-02-10T15:46:58.285Z"
   },
   {
    "duration": 20,
    "start_time": "2022-02-10T15:56:52.497Z"
   },
   {
    "duration": 6,
    "start_time": "2022-02-10T15:56:55.752Z"
   },
   {
    "duration": 17,
    "start_time": "2022-02-10T15:57:42.534Z"
   },
   {
    "duration": 6,
    "start_time": "2022-02-10T15:57:44.855Z"
   },
   {
    "duration": 9,
    "start_time": "2022-02-10T15:57:46.805Z"
   },
   {
    "duration": 7,
    "start_time": "2022-02-10T15:57:50.277Z"
   },
   {
    "duration": 18,
    "start_time": "2022-02-10T15:58:05.197Z"
   },
   {
    "duration": 19,
    "start_time": "2022-02-10T15:58:11.652Z"
   },
   {
    "duration": 7,
    "start_time": "2022-02-10T15:58:14.709Z"
   },
   {
    "duration": 7,
    "start_time": "2022-02-10T15:58:48.036Z"
   },
   {
    "duration": 1402,
    "start_time": "2022-02-10T16:16:15.702Z"
   },
   {
    "duration": 206,
    "start_time": "2022-02-10T16:16:17.107Z"
   },
   {
    "duration": 16,
    "start_time": "2022-02-10T16:16:17.317Z"
   },
   {
    "duration": 26,
    "start_time": "2022-02-10T16:16:17.336Z"
   },
   {
    "duration": 11,
    "start_time": "2022-02-10T16:16:17.365Z"
   },
   {
    "duration": 14,
    "start_time": "2022-02-10T16:16:17.378Z"
   },
   {
    "duration": 24,
    "start_time": "2022-02-10T16:16:17.395Z"
   },
   {
    "duration": 23,
    "start_time": "2022-02-10T16:16:17.450Z"
   },
   {
    "duration": 12,
    "start_time": "2022-02-10T16:16:17.478Z"
   },
   {
    "duration": 11,
    "start_time": "2022-02-10T16:16:17.494Z"
   },
   {
    "duration": 49,
    "start_time": "2022-02-10T16:16:17.508Z"
   },
   {
    "duration": 16,
    "start_time": "2022-02-10T16:16:17.560Z"
   },
   {
    "duration": 12,
    "start_time": "2022-02-10T16:16:17.578Z"
   },
   {
    "duration": 56,
    "start_time": "2022-02-10T16:16:17.593Z"
   },
   {
    "duration": 13,
    "start_time": "2022-02-10T16:16:17.652Z"
   },
   {
    "duration": 21,
    "start_time": "2022-02-10T16:16:17.669Z"
   },
   {
    "duration": 59,
    "start_time": "2022-02-10T16:16:17.693Z"
   },
   {
    "duration": 616,
    "start_time": "2022-02-10T16:16:17.754Z"
   },
   {
    "duration": 9,
    "start_time": "2022-02-10T16:16:18.373Z"
   },
   {
    "duration": 11,
    "start_time": "2022-02-10T16:16:18.384Z"
   },
   {
    "duration": 13,
    "start_time": "2022-02-10T16:16:18.397Z"
   },
   {
    "duration": 494,
    "start_time": "2022-02-10T16:16:18.413Z"
   },
   {
    "duration": 890,
    "start_time": "2022-02-10T16:16:18.910Z"
   },
   {
    "duration": 47,
    "start_time": "2022-02-10T16:16:19.802Z"
   },
   {
    "duration": 58,
    "start_time": "2022-02-10T16:16:19.852Z"
   },
   {
    "duration": 1027,
    "start_time": "2022-02-10T16:16:19.913Z"
   },
   {
    "duration": 1090,
    "start_time": "2022-02-10T16:16:20.950Z"
   },
   {
    "duration": 12,
    "start_time": "2022-02-10T16:16:22.047Z"
   },
   {
    "duration": 8,
    "start_time": "2022-02-10T16:16:22.061Z"
   },
   {
    "duration": 7,
    "start_time": "2022-02-10T16:16:22.071Z"
   },
   {
    "duration": 28,
    "start_time": "2022-02-10T16:16:22.081Z"
   },
   {
    "duration": 41,
    "start_time": "2022-02-10T16:16:22.112Z"
   },
   {
    "duration": 871,
    "start_time": "2022-02-10T16:16:22.155Z"
   },
   {
    "duration": 414,
    "start_time": "2022-02-10T16:16:23.029Z"
   },
   {
    "duration": 974,
    "start_time": "2022-02-10T16:16:23.449Z"
   },
   {
    "duration": 1322,
    "start_time": "2022-02-10T16:16:24.426Z"
   },
   {
    "duration": 218,
    "start_time": "2022-02-10T16:16:25.751Z"
   },
   {
    "duration": 24,
    "start_time": "2022-02-10T16:16:25.972Z"
   },
   {
    "duration": 57,
    "start_time": "2022-02-10T16:16:25.998Z"
   },
   {
    "duration": 668,
    "start_time": "2022-02-10T16:16:26.058Z"
   },
   {
    "duration": 34,
    "start_time": "2022-02-10T16:16:26.728Z"
   },
   {
    "duration": 747,
    "start_time": "2022-02-10T16:16:26.764Z"
   },
   {
    "duration": 11,
    "start_time": "2022-02-10T16:16:27.514Z"
   },
   {
    "duration": 27,
    "start_time": "2022-02-10T16:16:27.527Z"
   },
   {
    "duration": 6,
    "start_time": "2022-02-10T16:16:27.556Z"
   },
   {
    "duration": 18,
    "start_time": "2022-02-10T16:16:27.564Z"
   },
   {
    "duration": 17,
    "start_time": "2022-02-10T16:16:27.585Z"
   },
   {
    "duration": 1154,
    "start_time": "2022-02-10T16:16:27.604Z"
   },
   {
    "duration": 21,
    "start_time": "2022-02-10T16:16:28.761Z"
   },
   {
    "duration": 9,
    "start_time": "2022-02-10T16:16:28.785Z"
   },
   {
    "duration": 11,
    "start_time": "2022-02-10T16:16:28.796Z"
   },
   {
    "duration": 51,
    "start_time": "2022-02-10T16:16:28.809Z"
   },
   {
    "duration": 11,
    "start_time": "2022-02-10T16:16:28.863Z"
   },
   {
    "duration": 10,
    "start_time": "2022-02-10T16:16:28.876Z"
   },
   {
    "duration": 1066,
    "start_time": "2022-02-10T16:29:25.922Z"
   },
   {
    "duration": 1052,
    "start_time": "2022-02-10T16:45:16.349Z"
   },
   {
    "duration": 1275,
    "start_time": "2022-02-10T16:45:53.674Z"
   },
   {
    "duration": 10,
    "start_time": "2022-02-10T16:55:58.559Z"
   },
   {
    "duration": 13,
    "start_time": "2022-02-10T16:56:03.592Z"
   },
   {
    "duration": 1072,
    "start_time": "2022-02-10T16:56:20.465Z"
   },
   {
    "duration": 1069,
    "start_time": "2022-02-10T16:56:28.470Z"
   },
   {
    "duration": 1303,
    "start_time": "2022-02-10T16:56:35.247Z"
   },
   {
    "duration": 1117,
    "start_time": "2022-02-10T17:01:04.286Z"
   },
   {
    "duration": 1341,
    "start_time": "2022-02-10T17:01:10.696Z"
   },
   {
    "duration": 1079,
    "start_time": "2022-02-10T17:01:18.773Z"
   },
   {
    "duration": 1037,
    "start_time": "2022-02-10T17:01:24.549Z"
   },
   {
    "duration": 19,
    "start_time": "2022-02-10T17:29:41.460Z"
   },
   {
    "duration": 399,
    "start_time": "2022-02-10T17:30:06.887Z"
   },
   {
    "duration": 21,
    "start_time": "2022-02-10T17:30:15.097Z"
   },
   {
    "duration": 20,
    "start_time": "2022-02-10T17:30:23.394Z"
   },
   {
    "duration": 1097,
    "start_time": "2022-02-10T17:30:50.232Z"
   },
   {
    "duration": 1038,
    "start_time": "2022-02-10T17:30:59.575Z"
   },
   {
    "duration": 251,
    "start_time": "2022-02-10T17:47:46.311Z"
   },
   {
    "duration": 19,
    "start_time": "2022-02-10T17:48:40.316Z"
   },
   {
    "duration": 25,
    "start_time": "2022-02-10T17:49:22.240Z"
   },
   {
    "duration": 33,
    "start_time": "2022-02-10T17:49:38.761Z"
   },
   {
    "duration": 18,
    "start_time": "2022-02-10T17:52:11.823Z"
   },
   {
    "duration": 19,
    "start_time": "2022-02-10T17:52:51.757Z"
   },
   {
    "duration": 27,
    "start_time": "2022-02-10T17:53:02.651Z"
   },
   {
    "duration": 30,
    "start_time": "2022-02-10T17:53:37.761Z"
   },
   {
    "duration": 30,
    "start_time": "2022-02-10T17:53:52.632Z"
   },
   {
    "duration": 36,
    "start_time": "2022-02-10T17:54:51.399Z"
   },
   {
    "duration": 92,
    "start_time": "2022-02-10T17:55:35.875Z"
   },
   {
    "duration": 44,
    "start_time": "2022-02-10T17:55:41.147Z"
   },
   {
    "duration": 37,
    "start_time": "2022-02-10T17:56:13.609Z"
   },
   {
    "duration": 543,
    "start_time": "2022-02-10T17:57:30.366Z"
   },
   {
    "duration": 13,
    "start_time": "2022-02-10T17:57:39.900Z"
   },
   {
    "duration": 15,
    "start_time": "2022-02-10T17:57:50.276Z"
   },
   {
    "duration": 14,
    "start_time": "2022-02-10T17:57:56.835Z"
   },
   {
    "duration": 15,
    "start_time": "2022-02-10T17:58:56.088Z"
   },
   {
    "duration": 16,
    "start_time": "2022-02-10T18:03:37.764Z"
   },
   {
    "duration": 18,
    "start_time": "2022-02-10T18:03:47.807Z"
   },
   {
    "duration": 1461,
    "start_time": "2022-02-10T18:13:15.360Z"
   },
   {
    "duration": 197,
    "start_time": "2022-02-10T18:13:16.823Z"
   },
   {
    "duration": 15,
    "start_time": "2022-02-10T18:13:17.023Z"
   },
   {
    "duration": 24,
    "start_time": "2022-02-10T18:13:17.041Z"
   },
   {
    "duration": 12,
    "start_time": "2022-02-10T18:13:17.068Z"
   },
   {
    "duration": 6,
    "start_time": "2022-02-10T18:13:17.083Z"
   },
   {
    "duration": 61,
    "start_time": "2022-02-10T18:13:17.092Z"
   },
   {
    "duration": 23,
    "start_time": "2022-02-10T18:13:17.157Z"
   },
   {
    "duration": 13,
    "start_time": "2022-02-10T18:13:17.183Z"
   },
   {
    "duration": 12,
    "start_time": "2022-02-10T18:13:17.198Z"
   },
   {
    "duration": 44,
    "start_time": "2022-02-10T18:13:17.212Z"
   },
   {
    "duration": 19,
    "start_time": "2022-02-10T18:13:17.259Z"
   },
   {
    "duration": 24,
    "start_time": "2022-02-10T18:13:17.280Z"
   },
   {
    "duration": 43,
    "start_time": "2022-02-10T18:13:17.307Z"
   },
   {
    "duration": 14,
    "start_time": "2022-02-10T18:13:17.354Z"
   },
   {
    "duration": 20,
    "start_time": "2022-02-10T18:13:17.372Z"
   },
   {
    "duration": 61,
    "start_time": "2022-02-10T18:13:17.394Z"
   },
   {
    "duration": 771,
    "start_time": "2022-02-10T18:13:17.458Z"
   },
   {
    "duration": 20,
    "start_time": "2022-02-10T18:13:18.232Z"
   },
   {
    "duration": 12,
    "start_time": "2022-02-10T18:13:18.255Z"
   },
   {
    "duration": 11,
    "start_time": "2022-02-10T18:13:18.270Z"
   },
   {
    "duration": 483,
    "start_time": "2022-02-10T18:13:18.284Z"
   },
   {
    "duration": 785,
    "start_time": "2022-02-10T18:13:18.775Z"
   },
   {
    "duration": 31,
    "start_time": "2022-02-10T18:13:19.565Z"
   },
   {
    "duration": 86,
    "start_time": "2022-02-10T18:13:19.599Z"
   },
   {
    "duration": 982,
    "start_time": "2022-02-10T18:13:19.688Z"
   },
   {
    "duration": 1053,
    "start_time": "2022-02-10T18:13:20.673Z"
   },
   {
    "duration": 25,
    "start_time": "2022-02-10T18:13:21.729Z"
   },
   {
    "duration": 7,
    "start_time": "2022-02-10T18:13:21.757Z"
   },
   {
    "duration": 7,
    "start_time": "2022-02-10T18:13:21.767Z"
   },
   {
    "duration": 26,
    "start_time": "2022-02-10T18:13:21.778Z"
   },
   {
    "duration": 48,
    "start_time": "2022-02-10T18:13:21.807Z"
   },
   {
    "duration": 912,
    "start_time": "2022-02-10T18:13:21.858Z"
   },
   {
    "duration": 475,
    "start_time": "2022-02-10T18:13:22.773Z"
   },
   {
    "duration": 1188,
    "start_time": "2022-02-10T18:13:23.251Z"
   },
   {
    "duration": 1610,
    "start_time": "2022-02-10T18:13:24.449Z"
   },
   {
    "duration": 207,
    "start_time": "2022-02-10T18:13:26.062Z"
   },
   {
    "duration": 22,
    "start_time": "2022-02-10T18:13:26.272Z"
   },
   {
    "duration": 65,
    "start_time": "2022-02-10T18:13:26.296Z"
   },
   {
    "duration": 651,
    "start_time": "2022-02-10T18:13:26.365Z"
   },
   {
    "duration": 36,
    "start_time": "2022-02-10T18:13:27.018Z"
   },
   {
    "duration": 830,
    "start_time": "2022-02-10T18:13:27.057Z"
   },
   {
    "duration": 14,
    "start_time": "2022-02-10T18:13:27.890Z"
   },
   {
    "duration": 11,
    "start_time": "2022-02-10T18:13:27.907Z"
   },
   {
    "duration": 5,
    "start_time": "2022-02-10T18:13:27.949Z"
   },
   {
    "duration": 16,
    "start_time": "2022-02-10T18:13:27.957Z"
   },
   {
    "duration": 19,
    "start_time": "2022-02-10T18:13:27.977Z"
   },
   {
    "duration": 1113,
    "start_time": "2022-02-10T18:13:27.999Z"
   },
   {
    "duration": 48,
    "start_time": "2022-02-10T18:13:29.115Z"
   },
   {
    "duration": 16,
    "start_time": "2022-02-10T18:13:29.166Z"
   },
   {
    "duration": 5,
    "start_time": "2022-02-10T18:13:29.185Z"
   },
   {
    "duration": 9,
    "start_time": "2022-02-10T18:13:29.192Z"
   },
   {
    "duration": 58,
    "start_time": "2022-02-10T18:13:29.204Z"
   },
   {
    "duration": 6,
    "start_time": "2022-02-10T18:13:29.265Z"
   },
   {
    "duration": 9,
    "start_time": "2022-02-10T18:13:29.273Z"
   },
   {
    "duration": 1562,
    "start_time": "2022-02-16T17:36:00.033Z"
   },
   {
    "duration": 227,
    "start_time": "2022-02-16T17:36:01.598Z"
   },
   {
    "duration": 13,
    "start_time": "2022-02-16T17:36:01.828Z"
   },
   {
    "duration": 22,
    "start_time": "2022-02-16T17:36:01.844Z"
   },
   {
    "duration": 12,
    "start_time": "2022-02-16T17:36:01.868Z"
   },
   {
    "duration": 42,
    "start_time": "2022-02-16T17:36:01.882Z"
   },
   {
    "duration": 31,
    "start_time": "2022-02-16T17:36:01.927Z"
   },
   {
    "duration": 21,
    "start_time": "2022-02-16T17:36:01.961Z"
   },
   {
    "duration": 11,
    "start_time": "2022-02-16T17:36:01.986Z"
   },
   {
    "duration": 12,
    "start_time": "2022-02-16T17:36:02.024Z"
   },
   {
    "duration": 11,
    "start_time": "2022-02-16T17:36:02.038Z"
   },
   {
    "duration": 11,
    "start_time": "2022-02-16T17:36:02.051Z"
   },
   {
    "duration": 11,
    "start_time": "2022-02-16T17:36:02.064Z"
   },
   {
    "duration": 56,
    "start_time": "2022-02-16T17:36:02.078Z"
   },
   {
    "duration": 12,
    "start_time": "2022-02-16T17:36:02.136Z"
   },
   {
    "duration": 19,
    "start_time": "2022-02-16T17:36:02.151Z"
   },
   {
    "duration": 54,
    "start_time": "2022-02-16T17:36:02.172Z"
   },
   {
    "duration": 644,
    "start_time": "2022-02-16T17:36:02.229Z"
   },
   {
    "duration": 9,
    "start_time": "2022-02-16T17:36:02.876Z"
   },
   {
    "duration": 35,
    "start_time": "2022-02-16T17:36:02.887Z"
   },
   {
    "duration": 11,
    "start_time": "2022-02-16T17:36:02.925Z"
   },
   {
    "duration": 547,
    "start_time": "2022-02-16T17:36:02.939Z"
   },
   {
    "duration": 796,
    "start_time": "2022-02-16T17:36:03.488Z"
   },
   {
    "duration": 45,
    "start_time": "2022-02-16T17:36:04.286Z"
   },
   {
    "duration": 63,
    "start_time": "2022-02-16T17:36:04.333Z"
   },
   {
    "duration": 1047,
    "start_time": "2022-02-16T17:36:04.398Z"
   },
   {
    "duration": 1102,
    "start_time": "2022-02-16T17:36:05.451Z"
   },
   {
    "duration": 11,
    "start_time": "2022-02-16T17:36:06.556Z"
   },
   {
    "duration": 6,
    "start_time": "2022-02-16T17:36:06.569Z"
   },
   {
    "duration": 12,
    "start_time": "2022-02-16T17:36:06.577Z"
   },
   {
    "duration": 49,
    "start_time": "2022-02-16T17:36:06.592Z"
   },
   {
    "duration": 7,
    "start_time": "2022-02-16T17:36:06.643Z"
   },
   {
    "duration": 938,
    "start_time": "2022-02-16T17:36:06.653Z"
   },
   {
    "duration": 434,
    "start_time": "2022-02-16T17:36:07.594Z"
   },
   {
    "duration": 1003,
    "start_time": "2022-02-16T17:36:08.031Z"
   },
   {
    "duration": 1392,
    "start_time": "2022-02-16T17:36:09.038Z"
   },
   {
    "duration": 221,
    "start_time": "2022-02-16T17:36:10.433Z"
   },
   {
    "duration": 25,
    "start_time": "2022-02-16T17:36:10.657Z"
   },
   {
    "duration": 61,
    "start_time": "2022-02-16T17:36:10.684Z"
   },
   {
    "duration": 696,
    "start_time": "2022-02-16T17:36:10.748Z"
   },
   {
    "duration": 24,
    "start_time": "2022-02-16T17:36:11.447Z"
   },
   {
    "duration": 791,
    "start_time": "2022-02-16T17:36:11.473Z"
   },
   {
    "duration": 11,
    "start_time": "2022-02-16T17:36:12.266Z"
   },
   {
    "duration": 7,
    "start_time": "2022-02-16T17:36:12.280Z"
   },
   {
    "duration": 33,
    "start_time": "2022-02-16T17:36:12.290Z"
   },
   {
    "duration": 15,
    "start_time": "2022-02-16T17:36:12.326Z"
   },
   {
    "duration": 21,
    "start_time": "2022-02-16T17:36:12.344Z"
   },
   {
    "duration": 1189,
    "start_time": "2022-02-16T17:36:12.368Z"
   },
   {
    "duration": 63,
    "start_time": "2022-02-16T17:36:13.560Z"
   },
   {
    "duration": 18,
    "start_time": "2022-02-16T17:36:13.626Z"
   },
   {
    "duration": 8,
    "start_time": "2022-02-16T17:36:13.646Z"
   },
   {
    "duration": 7,
    "start_time": "2022-02-16T17:36:13.656Z"
   },
   {
    "duration": 57,
    "start_time": "2022-02-16T17:36:13.666Z"
   },
   {
    "duration": 7,
    "start_time": "2022-02-16T17:36:13.725Z"
   },
   {
    "duration": 12,
    "start_time": "2022-02-16T17:36:13.734Z"
   },
   {
    "duration": 25,
    "start_time": "2022-02-16T17:55:29.147Z"
   },
   {
    "duration": 32,
    "start_time": "2022-02-16T17:55:37.099Z"
   },
   {
    "duration": 7,
    "start_time": "2022-02-16T17:56:02.896Z"
   },
   {
    "duration": 21,
    "start_time": "2022-02-16T17:56:05.332Z"
   },
   {
    "duration": 9,
    "start_time": "2022-02-16T18:02:36.888Z"
   },
   {
    "duration": 705,
    "start_time": "2022-02-16T18:02:50.808Z"
   },
   {
    "duration": 144,
    "start_time": "2022-02-16T18:05:28.809Z"
   },
   {
    "duration": 92,
    "start_time": "2022-02-16T18:09:38.222Z"
   },
   {
    "duration": 16,
    "start_time": "2022-02-16T18:12:05.665Z"
   },
   {
    "duration": 6,
    "start_time": "2022-02-16T18:12:20.999Z"
   },
   {
    "duration": 7,
    "start_time": "2022-02-16T18:12:23.443Z"
   },
   {
    "duration": 16,
    "start_time": "2022-02-16T18:12:27.534Z"
   },
   {
    "duration": 6,
    "start_time": "2022-02-16T18:12:31.333Z"
   },
   {
    "duration": 8,
    "start_time": "2022-02-16T18:12:33.523Z"
   },
   {
    "duration": 1493,
    "start_time": "2022-02-16T18:17:33.660Z"
   },
   {
    "duration": 276,
    "start_time": "2022-02-16T18:17:35.156Z"
   },
   {
    "duration": 14,
    "start_time": "2022-02-16T18:17:35.435Z"
   },
   {
    "duration": 25,
    "start_time": "2022-02-16T18:17:35.453Z"
   },
   {
    "duration": 45,
    "start_time": "2022-02-16T18:17:35.481Z"
   },
   {
    "duration": 7,
    "start_time": "2022-02-16T18:17:35.529Z"
   },
   {
    "duration": 50,
    "start_time": "2022-02-16T18:17:35.538Z"
   },
   {
    "duration": 44,
    "start_time": "2022-02-16T18:17:35.593Z"
   },
   {
    "duration": 12,
    "start_time": "2022-02-16T18:17:35.641Z"
   },
   {
    "duration": 16,
    "start_time": "2022-02-16T18:17:35.656Z"
   },
   {
    "duration": 13,
    "start_time": "2022-02-16T18:17:35.674Z"
   },
   {
    "duration": 39,
    "start_time": "2022-02-16T18:17:35.690Z"
   },
   {
    "duration": 27,
    "start_time": "2022-02-16T18:17:35.731Z"
   },
   {
    "duration": 34,
    "start_time": "2022-02-16T18:17:35.761Z"
   },
   {
    "duration": 28,
    "start_time": "2022-02-16T18:17:35.797Z"
   },
   {
    "duration": 33,
    "start_time": "2022-02-16T18:17:35.827Z"
   },
   {
    "duration": 24,
    "start_time": "2022-02-16T18:17:35.862Z"
   },
   {
    "duration": 710,
    "start_time": "2022-02-16T18:17:35.888Z"
   },
   {
    "duration": 22,
    "start_time": "2022-02-16T18:17:36.601Z"
   },
   {
    "duration": 12,
    "start_time": "2022-02-16T18:17:36.626Z"
   },
   {
    "duration": 9,
    "start_time": "2022-02-16T18:17:36.640Z"
   },
   {
    "duration": 526,
    "start_time": "2022-02-16T18:17:36.652Z"
   },
   {
    "duration": 831,
    "start_time": "2022-02-16T18:17:37.187Z"
   },
   {
    "duration": 35,
    "start_time": "2022-02-16T18:17:38.025Z"
   },
   {
    "duration": 99,
    "start_time": "2022-02-16T18:17:38.063Z"
   },
   {
    "duration": 1073,
    "start_time": "2022-02-16T18:17:38.166Z"
   },
   {
    "duration": 1244,
    "start_time": "2022-02-16T18:17:39.241Z"
   },
   {
    "duration": 13,
    "start_time": "2022-02-16T18:17:40.488Z"
   },
   {
    "duration": 6,
    "start_time": "2022-02-16T18:17:40.523Z"
   },
   {
    "duration": 8,
    "start_time": "2022-02-16T18:17:40.531Z"
   },
   {
    "duration": 23,
    "start_time": "2022-02-16T18:17:40.541Z"
   },
   {
    "duration": 8,
    "start_time": "2022-02-16T18:17:40.568Z"
   },
   {
    "duration": 959,
    "start_time": "2022-02-16T18:17:40.579Z"
   },
   {
    "duration": 415,
    "start_time": "2022-02-16T18:17:41.541Z"
   },
   {
    "duration": 1214,
    "start_time": "2022-02-16T18:17:41.959Z"
   },
   {
    "duration": 1438,
    "start_time": "2022-02-16T18:17:43.177Z"
   },
   {
    "duration": 220,
    "start_time": "2022-02-16T18:17:44.618Z"
   },
   {
    "duration": 24,
    "start_time": "2022-02-16T18:17:44.842Z"
   },
   {
    "duration": 61,
    "start_time": "2022-02-16T18:17:44.868Z"
   },
   {
    "duration": 781,
    "start_time": "2022-02-16T18:17:44.931Z"
   },
   {
    "duration": 28,
    "start_time": "2022-02-16T18:17:45.714Z"
   },
   {
    "duration": 788,
    "start_time": "2022-02-16T18:17:45.744Z"
   },
   {
    "duration": 11,
    "start_time": "2022-02-16T18:17:46.534Z"
   },
   {
    "duration": 7,
    "start_time": "2022-02-16T18:17:46.547Z"
   },
   {
    "duration": 5,
    "start_time": "2022-02-16T18:17:46.556Z"
   },
   {
    "duration": 15,
    "start_time": "2022-02-16T18:17:46.564Z"
   },
   {
    "duration": 56,
    "start_time": "2022-02-16T18:17:46.582Z"
   },
   {
    "duration": 1114,
    "start_time": "2022-02-16T18:17:46.641Z"
   },
   {
    "duration": 30,
    "start_time": "2022-02-16T18:17:47.757Z"
   },
   {
    "duration": 53,
    "start_time": "2022-02-16T18:17:47.790Z"
   },
   {
    "duration": 6,
    "start_time": "2022-02-16T18:17:47.846Z"
   },
   {
    "duration": 10,
    "start_time": "2022-02-16T18:17:47.855Z"
   },
   {
    "duration": 60,
    "start_time": "2022-02-16T18:17:47.868Z"
   },
   {
    "duration": 7,
    "start_time": "2022-02-16T18:17:47.931Z"
   },
   {
    "duration": 10,
    "start_time": "2022-02-16T18:17:47.941Z"
   },
   {
    "duration": 1088,
    "start_time": "2022-02-16T18:32:02.812Z"
   },
   {
    "duration": 181,
    "start_time": "2022-02-16T18:32:03.901Z"
   },
   {
    "duration": 10,
    "start_time": "2022-02-16T18:32:04.084Z"
   },
   {
    "duration": 15,
    "start_time": "2022-02-16T18:32:04.096Z"
   },
   {
    "duration": 9,
    "start_time": "2022-02-16T18:32:04.112Z"
   },
   {
    "duration": 14,
    "start_time": "2022-02-16T18:32:04.123Z"
   },
   {
    "duration": 16,
    "start_time": "2022-02-16T18:32:04.140Z"
   },
   {
    "duration": 14,
    "start_time": "2022-02-16T18:32:04.159Z"
   },
   {
    "duration": 7,
    "start_time": "2022-02-16T18:32:04.175Z"
   },
   {
    "duration": 6,
    "start_time": "2022-02-16T18:32:04.183Z"
   },
   {
    "duration": 5,
    "start_time": "2022-02-16T18:32:04.191Z"
   },
   {
    "duration": 37,
    "start_time": "2022-02-16T18:32:04.197Z"
   },
   {
    "duration": 10,
    "start_time": "2022-02-16T18:32:04.235Z"
   },
   {
    "duration": 12,
    "start_time": "2022-02-16T18:32:04.248Z"
   },
   {
    "duration": 7,
    "start_time": "2022-02-16T18:32:04.262Z"
   },
   {
    "duration": 12,
    "start_time": "2022-02-16T18:32:04.271Z"
   },
   {
    "duration": 50,
    "start_time": "2022-02-16T18:32:04.284Z"
   },
   {
    "duration": 384,
    "start_time": "2022-02-16T18:32:04.335Z"
   },
   {
    "duration": 13,
    "start_time": "2022-02-16T18:32:04.721Z"
   },
   {
    "duration": 10,
    "start_time": "2022-02-16T18:32:04.736Z"
   },
   {
    "duration": 7,
    "start_time": "2022-02-16T18:32:04.748Z"
   },
   {
    "duration": 301,
    "start_time": "2022-02-16T18:32:04.757Z"
   },
   {
    "duration": 483,
    "start_time": "2022-02-16T18:32:05.061Z"
   },
   {
    "duration": 21,
    "start_time": "2022-02-16T18:32:05.546Z"
   },
   {
    "duration": 21,
    "start_time": "2022-02-16T18:32:12.352Z"
   },
   {
    "duration": 394,
    "start_time": "2022-02-16T18:32:48.177Z"
   },
   {
    "duration": 17,
    "start_time": "2022-02-16T18:33:11.282Z"
   },
   {
    "duration": 25,
    "start_time": "2022-02-16T18:35:08.971Z"
   },
   {
    "duration": 3,
    "start_time": "2022-02-16T18:38:30.315Z"
   },
   {
    "duration": 160,
    "start_time": "2022-02-16T18:38:30.324Z"
   },
   {
    "duration": 11,
    "start_time": "2022-02-16T18:38:30.485Z"
   },
   {
    "duration": 17,
    "start_time": "2022-02-16T18:38:30.498Z"
   },
   {
    "duration": 8,
    "start_time": "2022-02-16T18:38:30.516Z"
   },
   {
    "duration": 9,
    "start_time": "2022-02-16T18:38:30.525Z"
   },
   {
    "duration": 16,
    "start_time": "2022-02-16T18:38:30.535Z"
   },
   {
    "duration": 14,
    "start_time": "2022-02-16T18:38:30.553Z"
   },
   {
    "duration": 6,
    "start_time": "2022-02-16T18:38:30.569Z"
   },
   {
    "duration": 9,
    "start_time": "2022-02-16T18:38:30.577Z"
   },
   {
    "duration": 9,
    "start_time": "2022-02-16T18:38:30.587Z"
   },
   {
    "duration": 7,
    "start_time": "2022-02-16T18:38:30.657Z"
   },
   {
    "duration": 11,
    "start_time": "2022-02-16T18:38:30.667Z"
   },
   {
    "duration": 17,
    "start_time": "2022-02-16T18:38:30.679Z"
   },
   {
    "duration": 7,
    "start_time": "2022-02-16T18:38:30.698Z"
   },
   {
    "duration": 13,
    "start_time": "2022-02-16T18:38:30.707Z"
   },
   {
    "duration": 14,
    "start_time": "2022-02-16T18:38:30.721Z"
   },
   {
    "duration": 369,
    "start_time": "2022-02-16T18:38:30.737Z"
   },
   {
    "duration": 5,
    "start_time": "2022-02-16T18:38:31.108Z"
   },
   {
    "duration": 29,
    "start_time": "2022-02-16T18:38:31.114Z"
   },
   {
    "duration": 12,
    "start_time": "2022-02-16T18:38:31.145Z"
   },
   {
    "duration": 334,
    "start_time": "2022-02-16T18:38:31.160Z"
   },
   {
    "duration": 471,
    "start_time": "2022-02-16T18:38:31.496Z"
   },
   {
    "duration": 19,
    "start_time": "2022-02-16T18:38:31.968Z"
   },
   {
    "duration": 16,
    "start_time": "2022-02-16T18:38:31.989Z"
   },
   {
    "duration": 52,
    "start_time": "2022-02-16T18:38:32.006Z"
   },
   {
    "duration": 3,
    "start_time": "2022-02-16T18:52:31.252Z"
   },
   {
    "duration": 196,
    "start_time": "2022-02-16T18:52:31.261Z"
   },
   {
    "duration": 11,
    "start_time": "2022-02-16T18:52:31.458Z"
   },
   {
    "duration": 13,
    "start_time": "2022-02-16T18:52:31.471Z"
   },
   {
    "duration": 8,
    "start_time": "2022-02-16T18:52:31.486Z"
   },
   {
    "duration": 4,
    "start_time": "2022-02-16T18:52:31.496Z"
   },
   {
    "duration": 42,
    "start_time": "2022-02-16T18:52:31.501Z"
   },
   {
    "duration": 15,
    "start_time": "2022-02-16T18:52:31.545Z"
   },
   {
    "duration": 6,
    "start_time": "2022-02-16T18:52:31.562Z"
   },
   {
    "duration": 9,
    "start_time": "2022-02-16T18:52:31.570Z"
   },
   {
    "duration": 10,
    "start_time": "2022-02-16T18:52:31.580Z"
   },
   {
    "duration": 9,
    "start_time": "2022-02-16T18:52:31.594Z"
   },
   {
    "duration": 10,
    "start_time": "2022-02-16T18:52:31.604Z"
   },
   {
    "duration": 19,
    "start_time": "2022-02-16T18:52:31.632Z"
   },
   {
    "duration": 7,
    "start_time": "2022-02-16T18:52:31.653Z"
   },
   {
    "duration": 15,
    "start_time": "2022-02-16T18:52:31.662Z"
   },
   {
    "duration": 12,
    "start_time": "2022-02-16T18:52:31.679Z"
   },
   {
    "duration": 461,
    "start_time": "2022-02-16T18:52:31.693Z"
   },
   {
    "duration": 6,
    "start_time": "2022-02-16T18:52:32.155Z"
   },
   {
    "duration": 8,
    "start_time": "2022-02-16T18:52:32.162Z"
   },
   {
    "duration": 5,
    "start_time": "2022-02-16T18:52:32.172Z"
   },
   {
    "duration": 300,
    "start_time": "2022-02-16T18:52:32.179Z"
   },
   {
    "duration": 463,
    "start_time": "2022-02-16T18:52:32.481Z"
   },
   {
    "duration": 20,
    "start_time": "2022-02-16T18:52:32.946Z"
   },
   {
    "duration": 16,
    "start_time": "2022-02-16T18:52:32.968Z"
   },
   {
    "duration": 22,
    "start_time": "2022-02-16T18:52:32.985Z"
   },
   {
    "duration": 531,
    "start_time": "2022-02-16T18:52:33.031Z"
   },
   {
    "duration": 600,
    "start_time": "2022-02-16T18:52:33.563Z"
   },
   {
    "duration": 7,
    "start_time": "2022-02-16T18:52:34.164Z"
   },
   {
    "duration": 5,
    "start_time": "2022-02-16T18:52:34.173Z"
   },
   {
    "duration": 6,
    "start_time": "2022-02-16T18:52:34.180Z"
   },
   {
    "duration": 15,
    "start_time": "2022-02-16T18:52:34.187Z"
   },
   {
    "duration": 29,
    "start_time": "2022-02-16T18:52:34.204Z"
   },
   {
    "duration": 496,
    "start_time": "2022-02-16T18:52:34.235Z"
   },
   {
    "duration": -22672,
    "start_time": "2022-02-16T18:52:57.405Z"
   },
   {
    "duration": -22681,
    "start_time": "2022-02-16T18:52:57.416Z"
   },
   {
    "duration": -22690,
    "start_time": "2022-02-16T18:52:57.426Z"
   },
   {
    "duration": -22699,
    "start_time": "2022-02-16T18:52:57.436Z"
   },
   {
    "duration": -23045,
    "start_time": "2022-02-16T18:52:57.784Z"
   },
   {
    "duration": -23055,
    "start_time": "2022-02-16T18:52:57.795Z"
   },
   {
    "duration": -23063,
    "start_time": "2022-02-16T18:52:57.804Z"
   },
   {
    "duration": -23073,
    "start_time": "2022-02-16T18:52:57.815Z"
   },
   {
    "duration": -23081,
    "start_time": "2022-02-16T18:52:57.824Z"
   },
   {
    "duration": -23115,
    "start_time": "2022-02-16T18:52:57.859Z"
   },
   {
    "duration": -23125,
    "start_time": "2022-02-16T18:52:57.871Z"
   },
   {
    "duration": -23387,
    "start_time": "2022-02-16T18:52:58.134Z"
   },
   {
    "duration": -23409,
    "start_time": "2022-02-16T18:52:58.157Z"
   },
   {
    "duration": -23418,
    "start_time": "2022-02-16T18:52:58.167Z"
   },
   {
    "duration": -23441,
    "start_time": "2022-02-16T18:52:58.191Z"
   },
   {
    "duration": -23451,
    "start_time": "2022-02-16T18:52:58.203Z"
   },
   {
    "duration": -23490,
    "start_time": "2022-02-16T18:52:58.243Z"
   },
   {
    "duration": -23500,
    "start_time": "2022-02-16T18:52:58.254Z"
   },
   {
    "duration": -23509,
    "start_time": "2022-02-16T18:52:58.264Z"
   },
   {
    "duration": -23560,
    "start_time": "2022-02-16T18:52:58.316Z"
   },
   {
    "duration": -23568,
    "start_time": "2022-02-16T18:52:58.325Z"
   },
   {
    "duration": -23579,
    "start_time": "2022-02-16T18:52:58.337Z"
   },
   {
    "duration": 5,
    "start_time": "2022-02-16T18:53:41.472Z"
   },
   {
    "duration": 241,
    "start_time": "2022-02-16T18:53:48.109Z"
   },
   {
    "duration": 565,
    "start_time": "2022-02-16T18:53:52.583Z"
   },
   {
    "duration": 329,
    "start_time": "2022-02-16T18:53:59.881Z"
   },
   {
    "duration": 296,
    "start_time": "2022-02-16T18:54:15.680Z"
   },
   {
    "duration": 469,
    "start_time": "2022-02-16T18:54:15.977Z"
   },
   {
    "duration": -5400,
    "start_time": "2022-02-16T18:54:21.849Z"
   },
   {
    "duration": -5454,
    "start_time": "2022-02-16T18:54:21.904Z"
   },
   {
    "duration": -5696,
    "start_time": "2022-02-16T18:54:22.147Z"
   },
   {
    "duration": -5703,
    "start_time": "2022-02-16T18:54:22.156Z"
   },
   {
    "duration": -5712,
    "start_time": "2022-02-16T18:54:22.166Z"
   },
   {
    "duration": -5721,
    "start_time": "2022-02-16T18:54:22.176Z"
   },
   {
    "duration": -5757,
    "start_time": "2022-02-16T18:54:22.213Z"
   },
   {
    "duration": -5767,
    "start_time": "2022-02-16T18:54:22.224Z"
   },
   {
    "duration": -5777,
    "start_time": "2022-02-16T18:54:22.235Z"
   },
   {
    "duration": -5786,
    "start_time": "2022-02-16T18:54:22.245Z"
   },
   {
    "duration": -5798,
    "start_time": "2022-02-16T18:54:22.258Z"
   },
   {
    "duration": -5822,
    "start_time": "2022-02-16T18:54:22.283Z"
   },
   {
    "duration": -5831,
    "start_time": "2022-02-16T18:54:22.294Z"
   },
   {
    "duration": -6172,
    "start_time": "2022-02-16T18:54:22.636Z"
   },
   {
    "duration": -6217,
    "start_time": "2022-02-16T18:54:22.682Z"
   },
   {
    "duration": -6250,
    "start_time": "2022-02-16T18:54:22.716Z"
   },
   {
    "duration": -6288,
    "start_time": "2022-02-16T18:54:22.756Z"
   },
   {
    "duration": -6329,
    "start_time": "2022-02-16T18:54:22.798Z"
   },
   {
    "duration": -6368,
    "start_time": "2022-02-16T18:54:22.838Z"
   },
   {
    "duration": -6405,
    "start_time": "2022-02-16T18:54:22.876Z"
   },
   {
    "duration": 3,
    "start_time": "2022-02-16T18:54:36.421Z"
   },
   {
    "duration": 134,
    "start_time": "2022-02-16T18:54:36.430Z"
   },
   {
    "duration": 9,
    "start_time": "2022-02-16T18:54:36.565Z"
   },
   {
    "duration": 16,
    "start_time": "2022-02-16T18:54:36.576Z"
   },
   {
    "duration": 8,
    "start_time": "2022-02-16T18:54:36.594Z"
   },
   {
    "duration": 4,
    "start_time": "2022-02-16T18:54:36.603Z"
   },
   {
    "duration": 37,
    "start_time": "2022-02-16T18:54:36.609Z"
   },
   {
    "duration": 16,
    "start_time": "2022-02-16T18:54:36.648Z"
   },
   {
    "duration": 8,
    "start_time": "2022-02-16T18:54:36.667Z"
   },
   {
    "duration": 7,
    "start_time": "2022-02-16T18:54:36.677Z"
   },
   {
    "duration": 11,
    "start_time": "2022-02-16T18:54:36.686Z"
   },
   {
    "duration": 7,
    "start_time": "2022-02-16T18:54:36.752Z"
   },
   {
    "duration": 6,
    "start_time": "2022-02-16T18:54:36.763Z"
   },
   {
    "duration": 14,
    "start_time": "2022-02-16T18:54:36.772Z"
   },
   {
    "duration": 8,
    "start_time": "2022-02-16T18:54:36.788Z"
   },
   {
    "duration": 14,
    "start_time": "2022-02-16T18:54:36.798Z"
   },
   {
    "duration": 33,
    "start_time": "2022-02-16T18:54:36.813Z"
   },
   {
    "duration": 451,
    "start_time": "2022-02-16T18:54:36.849Z"
   },
   {
    "duration": 7,
    "start_time": "2022-02-16T18:54:37.302Z"
   },
   {
    "duration": 23,
    "start_time": "2022-02-16T18:54:37.310Z"
   },
   {
    "duration": 12,
    "start_time": "2022-02-16T18:54:37.336Z"
   },
   {
    "duration": 299,
    "start_time": "2022-02-16T18:54:37.351Z"
   },
   {
    "duration": 544,
    "start_time": "2022-02-16T18:54:37.652Z"
   },
   {
    "duration": 22,
    "start_time": "2022-02-16T18:54:38.197Z"
   },
   {
    "duration": 33,
    "start_time": "2022-02-16T18:54:38.220Z"
   },
   {
    "duration": 24,
    "start_time": "2022-02-16T18:54:38.255Z"
   },
   {
    "duration": 569,
    "start_time": "2022-02-16T18:54:38.281Z"
   },
   {
    "duration": 545,
    "start_time": "2022-02-16T18:54:38.852Z"
   },
   {
    "duration": 8,
    "start_time": "2022-02-16T18:54:39.399Z"
   },
   {
    "duration": 5,
    "start_time": "2022-02-16T18:54:39.409Z"
   },
   {
    "duration": 4,
    "start_time": "2022-02-16T18:54:39.432Z"
   },
   {
    "duration": 17,
    "start_time": "2022-02-16T18:54:39.438Z"
   },
   {
    "duration": 4,
    "start_time": "2022-02-16T18:54:39.457Z"
   },
   {
    "duration": 652,
    "start_time": "2022-02-16T18:54:39.464Z"
   },
   {
    "duration": 303,
    "start_time": "2022-02-16T18:54:40.117Z"
   },
   {
    "duration": 459,
    "start_time": "2022-02-16T18:54:40.422Z"
   },
   {
    "duration": -9250,
    "start_time": "2022-02-16T18:54:50.133Z"
   },
   {
    "duration": -9259,
    "start_time": "2022-02-16T18:54:50.144Z"
   },
   {
    "duration": -9469,
    "start_time": "2022-02-16T18:54:50.355Z"
   },
   {
    "duration": -9494,
    "start_time": "2022-02-16T18:54:50.381Z"
   },
   {
    "duration": -9501,
    "start_time": "2022-02-16T18:54:50.390Z"
   },
   {
    "duration": -9511,
    "start_time": "2022-02-16T18:54:50.401Z"
   },
   {
    "duration": -9519,
    "start_time": "2022-02-16T18:54:50.410Z"
   },
   {
    "duration": -9528,
    "start_time": "2022-02-16T18:54:50.420Z"
   },
   {
    "duration": -9537,
    "start_time": "2022-02-16T18:54:50.430Z"
   },
   {
    "duration": -9812,
    "start_time": "2022-02-16T18:54:50.706Z"
   },
   {
    "duration": -9821,
    "start_time": "2022-02-16T18:54:50.716Z"
   },
   {
    "duration": -9830,
    "start_time": "2022-02-16T18:54:50.726Z"
   },
   {
    "duration": -9839,
    "start_time": "2022-02-16T18:54:50.736Z"
   },
   {
    "duration": -9862,
    "start_time": "2022-02-16T18:54:50.760Z"
   },
   {
    "duration": -9870,
    "start_time": "2022-02-16T18:54:50.769Z"
   },
   {
    "duration": -9881,
    "start_time": "2022-02-16T18:54:50.781Z"
   },
   {
    "duration": -9906,
    "start_time": "2022-02-16T18:54:50.806Z"
   },
   {
    "duration": -9914,
    "start_time": "2022-02-16T18:54:50.815Z"
   },
   {
    "duration": -9925,
    "start_time": "2022-02-16T18:54:50.826Z"
   },
   {
    "duration": -9934,
    "start_time": "2022-02-16T18:54:50.836Z"
   },
   {
    "duration": 5,
    "start_time": "2022-02-16T18:57:56.859Z"
   },
   {
    "duration": 11,
    "start_time": "2022-02-16T18:58:10.313Z"
   },
   {
    "duration": 17,
    "start_time": "2022-02-16T18:58:16.532Z"
   },
   {
    "duration": 263,
    "start_time": "2022-02-16T18:59:00.560Z"
   },
   {
    "duration": 14,
    "start_time": "2022-02-16T18:59:06.967Z"
   },
   {
    "duration": 14,
    "start_time": "2022-02-16T18:59:31.933Z"
   },
   {
    "duration": 16,
    "start_time": "2022-02-16T18:59:40.046Z"
   },
   {
    "duration": 457,
    "start_time": "2022-02-16T19:03:33.080Z"
   },
   {
    "duration": 1143,
    "start_time": "2022-02-16T19:04:09.849Z"
   },
   {
    "duration": 464,
    "start_time": "2022-02-16T19:04:36.119Z"
   },
   {
    "duration": 1059,
    "start_time": "2022-02-16T19:04:52.763Z"
   },
   {
    "duration": 61,
    "start_time": "2022-02-16T19:05:07.108Z"
   },
   {
    "duration": 14,
    "start_time": "2022-02-16T19:05:37.963Z"
   },
   {
    "duration": 14,
    "start_time": "2022-02-16T19:05:54.714Z"
   },
   {
    "duration": 15,
    "start_time": "2022-02-16T19:07:35.464Z"
   },
   {
    "duration": 346,
    "start_time": "2022-02-16T19:07:41.197Z"
   },
   {
    "duration": 14,
    "start_time": "2022-02-16T19:09:35.090Z"
   },
   {
    "duration": 359,
    "start_time": "2022-02-16T19:09:39.363Z"
   },
   {
    "duration": 7,
    "start_time": "2022-02-16T19:12:35.205Z"
   },
   {
    "duration": 5,
    "start_time": "2022-02-16T19:12:38.833Z"
   },
   {
    "duration": 6,
    "start_time": "2022-02-16T19:12:42.549Z"
   },
   {
    "duration": 4,
    "start_time": "2022-02-16T19:12:48.164Z"
   },
   {
    "duration": 8,
    "start_time": "2022-02-16T19:12:50.494Z"
   },
   {
    "duration": 339,
    "start_time": "2022-02-16T19:12:54.811Z"
   },
   {
    "duration": 12,
    "start_time": "2022-02-16T19:13:06.128Z"
   },
   {
    "duration": 480,
    "start_time": "2022-02-16T19:13:19.710Z"
   },
   {
    "duration": 20,
    "start_time": "2022-02-16T19:14:53.758Z"
   },
   {
    "duration": 11,
    "start_time": "2022-02-16T19:28:11.301Z"
   },
   {
    "duration": 4,
    "start_time": "2022-02-16T19:28:13.422Z"
   },
   {
    "duration": 5,
    "start_time": "2022-02-16T19:28:16.067Z"
   },
   {
    "duration": 11,
    "start_time": "2022-02-16T19:28:21.407Z"
   },
   {
    "duration": 5,
    "start_time": "2022-02-16T19:28:23.295Z"
   },
   {
    "duration": 5,
    "start_time": "2022-02-16T19:28:25.319Z"
   },
   {
    "duration": 12,
    "start_time": "2022-02-16T19:31:02.639Z"
   },
   {
    "duration": 1613,
    "start_time": "2022-02-16T19:35:56.871Z"
   },
   {
    "duration": 796,
    "start_time": "2022-02-16T19:35:58.486Z"
   },
   {
    "duration": 10,
    "start_time": "2022-02-16T19:35:59.284Z"
   },
   {
    "duration": 22,
    "start_time": "2022-02-16T19:35:59.296Z"
   },
   {
    "duration": 12,
    "start_time": "2022-02-16T19:35:59.320Z"
   },
   {
    "duration": 20,
    "start_time": "2022-02-16T19:35:59.334Z"
   },
   {
    "duration": 21,
    "start_time": "2022-02-16T19:35:59.356Z"
   },
   {
    "duration": 19,
    "start_time": "2022-02-16T19:35:59.380Z"
   },
   {
    "duration": 12,
    "start_time": "2022-02-16T19:35:59.401Z"
   },
   {
    "duration": 12,
    "start_time": "2022-02-16T19:35:59.415Z"
   },
   {
    "duration": 22,
    "start_time": "2022-02-16T19:35:59.429Z"
   },
   {
    "duration": 13,
    "start_time": "2022-02-16T19:35:59.453Z"
   },
   {
    "duration": 17,
    "start_time": "2022-02-16T19:35:59.468Z"
   },
   {
    "duration": 19,
    "start_time": "2022-02-16T19:35:59.487Z"
   },
   {
    "duration": 7,
    "start_time": "2022-02-16T19:35:59.508Z"
   },
   {
    "duration": 31,
    "start_time": "2022-02-16T19:35:59.517Z"
   },
   {
    "duration": 31,
    "start_time": "2022-02-16T19:35:59.550Z"
   },
   {
    "duration": 395,
    "start_time": "2022-02-16T19:35:59.583Z"
   },
   {
    "duration": 6,
    "start_time": "2022-02-16T19:35:59.980Z"
   },
   {
    "duration": 22,
    "start_time": "2022-02-16T19:35:59.987Z"
   },
   {
    "duration": 18,
    "start_time": "2022-02-16T19:36:00.010Z"
   },
   {
    "duration": 306,
    "start_time": "2022-02-16T19:36:00.030Z"
   },
   {
    "duration": 455,
    "start_time": "2022-02-16T19:36:00.342Z"
   },
   {
    "duration": 18,
    "start_time": "2022-02-16T19:36:00.799Z"
   },
   {
    "duration": 31,
    "start_time": "2022-02-16T19:36:00.819Z"
   },
   {
    "duration": 48,
    "start_time": "2022-02-16T19:36:00.852Z"
   },
   {
    "duration": 14,
    "start_time": "2022-02-16T19:36:00.901Z"
   },
   {
    "duration": 534,
    "start_time": "2022-02-16T19:36:00.916Z"
   },
   {
    "duration": 616,
    "start_time": "2022-02-16T19:36:01.452Z"
   },
   {
    "duration": 7,
    "start_time": "2022-02-16T19:36:02.069Z"
   },
   {
    "duration": 4,
    "start_time": "2022-02-16T19:36:02.077Z"
   },
   {
    "duration": 4,
    "start_time": "2022-02-16T19:36:02.083Z"
   },
   {
    "duration": 15,
    "start_time": "2022-02-16T19:36:02.088Z"
   },
   {
    "duration": 4,
    "start_time": "2022-02-16T19:36:02.104Z"
   },
   {
    "duration": 618,
    "start_time": "2022-02-16T19:36:02.110Z"
   },
   {
    "duration": 304,
    "start_time": "2022-02-16T19:36:02.729Z"
   },
   {
    "duration": 1308,
    "start_time": "2022-02-16T19:36:03.036Z"
   },
   {
    "duration": 1325,
    "start_time": "2022-02-16T19:36:04.346Z"
   },
   {
    "duration": 88,
    "start_time": "2022-02-16T19:36:05.673Z"
   },
   {
    "duration": 12,
    "start_time": "2022-02-16T19:36:05.762Z"
   },
   {
    "duration": 13,
    "start_time": "2022-02-16T19:36:05.776Z"
   },
   {
    "duration": 413,
    "start_time": "2022-02-16T19:36:05.791Z"
   },
   {
    "duration": 14,
    "start_time": "2022-02-16T19:36:06.206Z"
   },
   {
    "duration": 448,
    "start_time": "2022-02-16T19:36:06.221Z"
   },
   {
    "duration": 7,
    "start_time": "2022-02-16T19:36:06.670Z"
   },
   {
    "duration": 5,
    "start_time": "2022-02-16T19:36:06.679Z"
   },
   {
    "duration": 4,
    "start_time": "2022-02-16T19:36:06.686Z"
   },
   {
    "duration": 10,
    "start_time": "2022-02-16T19:36:06.691Z"
   },
   {
    "duration": 35,
    "start_time": "2022-02-16T19:36:06.702Z"
   },
   {
    "duration": 446,
    "start_time": "2022-02-16T19:36:06.739Z"
   },
   {
    "duration": 17,
    "start_time": "2022-02-16T19:36:07.187Z"
   },
   {
    "duration": 29,
    "start_time": "2022-02-16T19:36:07.206Z"
   },
   {
    "duration": 4,
    "start_time": "2022-02-16T19:36:07.237Z"
   },
   {
    "duration": 5,
    "start_time": "2022-02-16T19:36:07.242Z"
   },
   {
    "duration": 12,
    "start_time": "2022-02-16T19:36:07.248Z"
   },
   {
    "duration": 3,
    "start_time": "2022-02-16T19:36:07.262Z"
   },
   {
    "duration": 5,
    "start_time": "2022-02-16T19:36:07.267Z"
   },
   {
    "duration": 8,
    "start_time": "2022-02-16T19:36:07.274Z"
   },
   {
    "duration": 20,
    "start_time": "2022-02-16T19:38:31.002Z"
   },
   {
    "duration": 367,
    "start_time": "2022-02-16T19:39:10.056Z"
   },
   {
    "duration": 18,
    "start_time": "2022-02-16T19:39:19.501Z"
   },
   {
    "duration": 258,
    "start_time": "2022-02-16T19:39:30.207Z"
   },
   {
    "duration": 21,
    "start_time": "2022-02-16T19:39:40.321Z"
   },
   {
    "duration": 19,
    "start_time": "2022-02-16T19:39:51.397Z"
   },
   {
    "duration": 21,
    "start_time": "2022-02-16T19:40:20.067Z"
   },
   {
    "duration": 5,
    "start_time": "2022-02-16T19:40:58.259Z"
   },
   {
    "duration": 30,
    "start_time": "2022-02-16T19:42:13.433Z"
   },
   {
    "duration": 23,
    "start_time": "2022-02-16T19:43:10.965Z"
   },
   {
    "duration": 26,
    "start_time": "2022-02-16T19:43:24.415Z"
   },
   {
    "duration": 21,
    "start_time": "2022-02-16T19:43:36.293Z"
   },
   {
    "duration": 25,
    "start_time": "2022-02-16T19:44:26.571Z"
   },
   {
    "duration": 22,
    "start_time": "2022-02-16T19:44:45.570Z"
   },
   {
    "duration": 25,
    "start_time": "2022-02-16T19:44:53.258Z"
   },
   {
    "duration": 24,
    "start_time": "2022-02-16T19:45:08.813Z"
   },
   {
    "duration": 22,
    "start_time": "2022-02-16T19:45:10.616Z"
   },
   {
    "duration": 1059,
    "start_time": "2022-02-16T19:45:16.721Z"
   },
   {
    "duration": 172,
    "start_time": "2022-02-16T19:45:17.782Z"
   },
   {
    "duration": 10,
    "start_time": "2022-02-16T19:45:17.956Z"
   },
   {
    "duration": 13,
    "start_time": "2022-02-16T19:45:17.968Z"
   },
   {
    "duration": 7,
    "start_time": "2022-02-16T19:45:17.982Z"
   },
   {
    "duration": 5,
    "start_time": "2022-02-16T19:45:17.991Z"
   },
   {
    "duration": 36,
    "start_time": "2022-02-16T19:45:17.998Z"
   },
   {
    "duration": 15,
    "start_time": "2022-02-16T19:45:18.036Z"
   },
   {
    "duration": 8,
    "start_time": "2022-02-16T19:45:18.053Z"
   },
   {
    "duration": 8,
    "start_time": "2022-02-16T19:45:18.063Z"
   },
   {
    "duration": 8,
    "start_time": "2022-02-16T19:45:18.072Z"
   },
   {
    "duration": 10,
    "start_time": "2022-02-16T19:45:18.081Z"
   },
   {
    "duration": 41,
    "start_time": "2022-02-16T19:45:18.093Z"
   },
   {
    "duration": 12,
    "start_time": "2022-02-16T19:45:18.136Z"
   },
   {
    "duration": 7,
    "start_time": "2022-02-16T19:45:18.150Z"
   },
   {
    "duration": 14,
    "start_time": "2022-02-16T19:45:18.159Z"
   },
   {
    "duration": 15,
    "start_time": "2022-02-16T19:45:18.174Z"
   },
   {
    "duration": 409,
    "start_time": "2022-02-16T19:45:18.191Z"
   },
   {
    "duration": 6,
    "start_time": "2022-02-16T19:45:18.601Z"
   },
   {
    "duration": 8,
    "start_time": "2022-02-16T19:45:18.609Z"
   },
   {
    "duration": 19,
    "start_time": "2022-02-16T19:45:18.619Z"
   },
   {
    "duration": 397,
    "start_time": "2022-02-16T19:45:18.640Z"
   },
   {
    "duration": 462,
    "start_time": "2022-02-16T19:45:19.043Z"
   },
   {
    "duration": 38,
    "start_time": "2022-02-16T19:45:19.508Z"
   },
   {
    "duration": 21,
    "start_time": "2022-02-16T19:45:19.547Z"
   },
   {
    "duration": 333,
    "start_time": "2022-02-16T19:45:19.569Z"
   },
   {
    "duration": -4635,
    "start_time": "2022-02-16T19:45:24.538Z"
   },
   {
    "duration": -4647,
    "start_time": "2022-02-16T19:45:24.552Z"
   },
   {
    "duration": -4656,
    "start_time": "2022-02-16T19:45:24.562Z"
   },
   {
    "duration": -4666,
    "start_time": "2022-02-16T19:45:24.573Z"
   },
   {
    "duration": -4675,
    "start_time": "2022-02-16T19:45:24.582Z"
   },
   {
    "duration": -4685,
    "start_time": "2022-02-16T19:45:24.593Z"
   },
   {
    "duration": -4694,
    "start_time": "2022-02-16T19:45:24.603Z"
   },
   {
    "duration": -4742,
    "start_time": "2022-02-16T19:45:24.652Z"
   },
   {
    "duration": -4755,
    "start_time": "2022-02-16T19:45:24.666Z"
   },
   {
    "duration": -4767,
    "start_time": "2022-02-16T19:45:24.679Z"
   },
   {
    "duration": -4776,
    "start_time": "2022-02-16T19:45:24.689Z"
   },
   {
    "duration": -4786,
    "start_time": "2022-02-16T19:45:24.700Z"
   },
   {
    "duration": -4795,
    "start_time": "2022-02-16T19:45:24.710Z"
   },
   {
    "duration": -4806,
    "start_time": "2022-02-16T19:45:24.722Z"
   },
   {
    "duration": -4815,
    "start_time": "2022-02-16T19:45:24.732Z"
   },
   {
    "duration": -4841,
    "start_time": "2022-02-16T19:45:24.759Z"
   },
   {
    "duration": -4850,
    "start_time": "2022-02-16T19:45:24.769Z"
   },
   {
    "duration": -4860,
    "start_time": "2022-02-16T19:45:24.780Z"
   },
   {
    "duration": -4868,
    "start_time": "2022-02-16T19:45:24.789Z"
   },
   {
    "duration": -4878,
    "start_time": "2022-02-16T19:45:24.800Z"
   },
   {
    "duration": -4888,
    "start_time": "2022-02-16T19:45:24.811Z"
   },
   {
    "duration": -4897,
    "start_time": "2022-02-16T19:45:24.821Z"
   },
   {
    "duration": -4907,
    "start_time": "2022-02-16T19:45:24.831Z"
   },
   {
    "duration": -4916,
    "start_time": "2022-02-16T19:45:24.841Z"
   },
   {
    "duration": -4925,
    "start_time": "2022-02-16T19:45:24.851Z"
   },
   {
    "duration": -4953,
    "start_time": "2022-02-16T19:45:24.880Z"
   },
   {
    "duration": -4961,
    "start_time": "2022-02-16T19:45:24.889Z"
   },
   {
    "duration": -4970,
    "start_time": "2022-02-16T19:45:24.899Z"
   },
   {
    "duration": -4978,
    "start_time": "2022-02-16T19:45:24.908Z"
   },
   {
    "duration": -4989,
    "start_time": "2022-02-16T19:45:24.919Z"
   },
   {
    "duration": -4997,
    "start_time": "2022-02-16T19:45:24.929Z"
   },
   {
    "duration": -5006,
    "start_time": "2022-02-16T19:45:24.939Z"
   },
   {
    "duration": -5014,
    "start_time": "2022-02-16T19:45:24.948Z"
   },
   {
    "duration": 42,
    "start_time": "2022-02-16T19:45:49.223Z"
   },
   {
    "duration": 24,
    "start_time": "2022-02-16T19:45:53.539Z"
   },
   {
    "duration": 18,
    "start_time": "2022-02-16T19:46:01.867Z"
   },
   {
    "duration": 23,
    "start_time": "2022-02-16T19:46:29.444Z"
   },
   {
    "duration": 25,
    "start_time": "2022-02-16T19:46:45.979Z"
   },
   {
    "duration": 26,
    "start_time": "2022-02-16T19:46:54.615Z"
   },
   {
    "duration": 1084,
    "start_time": "2022-02-16T19:47:13.198Z"
   },
   {
    "duration": 166,
    "start_time": "2022-02-16T19:47:14.284Z"
   },
   {
    "duration": 10,
    "start_time": "2022-02-16T19:47:14.453Z"
   },
   {
    "duration": 34,
    "start_time": "2022-02-16T19:47:14.465Z"
   },
   {
    "duration": 14,
    "start_time": "2022-02-16T19:47:14.500Z"
   },
   {
    "duration": 4,
    "start_time": "2022-02-16T19:47:14.516Z"
   },
   {
    "duration": 45,
    "start_time": "2022-02-16T19:47:14.522Z"
   },
   {
    "duration": 19,
    "start_time": "2022-02-16T19:47:14.570Z"
   },
   {
    "duration": 12,
    "start_time": "2022-02-16T19:47:14.591Z"
   },
   {
    "duration": 6,
    "start_time": "2022-02-16T19:47:14.605Z"
   },
   {
    "duration": 6,
    "start_time": "2022-02-16T19:47:14.613Z"
   },
   {
    "duration": 8,
    "start_time": "2022-02-16T19:47:14.620Z"
   },
   {
    "duration": 9,
    "start_time": "2022-02-16T19:47:14.629Z"
   },
   {
    "duration": 17,
    "start_time": "2022-02-16T19:47:14.641Z"
   },
   {
    "duration": 7,
    "start_time": "2022-02-16T19:47:14.659Z"
   },
   {
    "duration": 20,
    "start_time": "2022-02-16T19:47:14.668Z"
   },
   {
    "duration": 15,
    "start_time": "2022-02-16T19:47:14.690Z"
   },
   {
    "duration": 416,
    "start_time": "2022-02-16T19:47:14.707Z"
   },
   {
    "duration": 9,
    "start_time": "2022-02-16T19:47:15.125Z"
   },
   {
    "duration": 9,
    "start_time": "2022-02-16T19:47:15.136Z"
   },
   {
    "duration": 9,
    "start_time": "2022-02-16T19:47:15.147Z"
   },
   {
    "duration": 300,
    "start_time": "2022-02-16T19:47:15.157Z"
   },
   {
    "duration": 454,
    "start_time": "2022-02-16T19:47:15.460Z"
   },
   {
    "duration": 28,
    "start_time": "2022-02-16T19:47:15.917Z"
   },
   {
    "duration": 21,
    "start_time": "2022-02-16T19:47:15.946Z"
   },
   {
    "duration": 348,
    "start_time": "2022-02-16T19:47:15.968Z"
   },
   {
    "duration": -4641,
    "start_time": "2022-02-16T19:47:20.959Z"
   },
   {
    "duration": -4701,
    "start_time": "2022-02-16T19:47:21.020Z"
   },
   {
    "duration": -4718,
    "start_time": "2022-02-16T19:47:21.038Z"
   },
   {
    "duration": -4731,
    "start_time": "2022-02-16T19:47:21.052Z"
   },
   {
    "duration": -4742,
    "start_time": "2022-02-16T19:47:21.064Z"
   },
   {
    "duration": -4755,
    "start_time": "2022-02-16T19:47:21.078Z"
   },
   {
    "duration": -4766,
    "start_time": "2022-02-16T19:47:21.090Z"
   },
   {
    "duration": -4779,
    "start_time": "2022-02-16T19:47:21.103Z"
   },
   {
    "duration": -4806,
    "start_time": "2022-02-16T19:47:21.131Z"
   },
   {
    "duration": -4839,
    "start_time": "2022-02-16T19:47:21.165Z"
   },
   {
    "duration": -4848,
    "start_time": "2022-02-16T19:47:21.175Z"
   },
   {
    "duration": -4857,
    "start_time": "2022-02-16T19:47:21.185Z"
   },
   {
    "duration": -4866,
    "start_time": "2022-02-16T19:47:21.195Z"
   },
   {
    "duration": -4880,
    "start_time": "2022-02-16T19:47:21.210Z"
   },
   {
    "duration": -4889,
    "start_time": "2022-02-16T19:47:21.220Z"
   },
   {
    "duration": -4899,
    "start_time": "2022-02-16T19:47:21.231Z"
   },
   {
    "duration": -4907,
    "start_time": "2022-02-16T19:47:21.240Z"
   },
   {
    "duration": -4916,
    "start_time": "2022-02-16T19:47:21.250Z"
   },
   {
    "duration": -4925,
    "start_time": "2022-02-16T19:47:21.260Z"
   },
   {
    "duration": -4953,
    "start_time": "2022-02-16T19:47:21.289Z"
   },
   {
    "duration": -4961,
    "start_time": "2022-02-16T19:47:21.298Z"
   },
   {
    "duration": -4970,
    "start_time": "2022-02-16T19:47:21.308Z"
   },
   {
    "duration": -4979,
    "start_time": "2022-02-16T19:47:21.318Z"
   },
   {
    "duration": -4988,
    "start_time": "2022-02-16T19:47:21.328Z"
   },
   {
    "duration": -5099,
    "start_time": "2022-02-16T19:47:21.440Z"
   },
   {
    "duration": -5108,
    "start_time": "2022-02-16T19:47:21.450Z"
   },
   {
    "duration": -5117,
    "start_time": "2022-02-16T19:47:21.460Z"
   },
   {
    "duration": -5126,
    "start_time": "2022-02-16T19:47:21.470Z"
   },
   {
    "duration": -5134,
    "start_time": "2022-02-16T19:47:21.479Z"
   },
   {
    "duration": -5143,
    "start_time": "2022-02-16T19:47:21.490Z"
   },
   {
    "duration": -5151,
    "start_time": "2022-02-16T19:47:21.499Z"
   },
   {
    "duration": -5177,
    "start_time": "2022-02-16T19:47:21.528Z"
   },
   {
    "duration": -5184,
    "start_time": "2022-02-16T19:47:21.537Z"
   },
   {
    "duration": 26,
    "start_time": "2022-02-16T19:47:44.219Z"
   },
   {
    "duration": 28,
    "start_time": "2022-02-16T19:48:16.519Z"
   },
   {
    "duration": 24,
    "start_time": "2022-02-16T19:48:28.950Z"
   },
   {
    "duration": 21,
    "start_time": "2022-02-16T19:48:55.561Z"
   },
   {
    "duration": 9,
    "start_time": "2022-02-16T19:49:04.044Z"
   },
   {
    "duration": 35,
    "start_time": "2022-02-16T19:51:24.761Z"
   },
   {
    "duration": 291,
    "start_time": "2022-02-16T19:51:49.537Z"
   },
   {
    "duration": 261,
    "start_time": "2022-02-16T19:52:08.903Z"
   },
   {
    "duration": 26,
    "start_time": "2022-02-16T19:52:16.143Z"
   },
   {
    "duration": 28,
    "start_time": "2022-02-16T19:52:28.194Z"
   },
   {
    "duration": 25,
    "start_time": "2022-02-16T19:52:36.278Z"
   },
   {
    "duration": 31,
    "start_time": "2022-02-16T19:52:59.266Z"
   },
   {
    "duration": 1346,
    "start_time": "2022-02-16T19:56:10.192Z"
   },
   {
    "duration": 147,
    "start_time": "2022-02-16T19:56:11.541Z"
   },
   {
    "duration": 9,
    "start_time": "2022-02-16T19:56:11.690Z"
   },
   {
    "duration": 13,
    "start_time": "2022-02-16T19:56:11.701Z"
   },
   {
    "duration": 7,
    "start_time": "2022-02-16T19:56:11.716Z"
   },
   {
    "duration": 4,
    "start_time": "2022-02-16T19:56:11.725Z"
   },
   {
    "duration": 20,
    "start_time": "2022-02-16T19:56:11.731Z"
   },
   {
    "duration": 13,
    "start_time": "2022-02-16T19:56:11.753Z"
   },
   {
    "duration": 8,
    "start_time": "2022-02-16T19:56:11.768Z"
   },
   {
    "duration": 6,
    "start_time": "2022-02-16T19:56:11.778Z"
   },
   {
    "duration": 10,
    "start_time": "2022-02-16T19:56:11.786Z"
   },
   {
    "duration": 11,
    "start_time": "2022-02-16T19:56:11.797Z"
   },
   {
    "duration": 10,
    "start_time": "2022-02-16T19:56:11.810Z"
   },
   {
    "duration": 18,
    "start_time": "2022-02-16T19:56:11.821Z"
   },
   {
    "duration": 11,
    "start_time": "2022-02-16T19:56:11.841Z"
   },
   {
    "duration": 13,
    "start_time": "2022-02-16T19:56:11.854Z"
   },
   {
    "duration": 12,
    "start_time": "2022-02-16T19:56:11.869Z"
   },
   {
    "duration": 387,
    "start_time": "2022-02-16T19:56:11.882Z"
   },
   {
    "duration": 6,
    "start_time": "2022-02-16T19:56:12.270Z"
   },
   {
    "duration": 8,
    "start_time": "2022-02-16T19:56:12.278Z"
   },
   {
    "duration": 10,
    "start_time": "2022-02-16T19:56:12.288Z"
   },
   {
    "duration": 461,
    "start_time": "2022-02-16T19:56:12.299Z"
   },
   {
    "duration": 533,
    "start_time": "2022-02-16T19:56:12.764Z"
   },
   {
    "duration": 32,
    "start_time": "2022-02-16T19:56:13.300Z"
   },
   {
    "duration": 36,
    "start_time": "2022-02-16T19:56:13.334Z"
   },
   {
    "duration": 24,
    "start_time": "2022-02-16T19:56:13.371Z"
   },
   {
    "duration": 39,
    "start_time": "2022-02-16T19:56:13.397Z"
   },
   {
    "duration": 540,
    "start_time": "2022-02-16T19:56:13.439Z"
   },
   {
    "duration": 610,
    "start_time": "2022-02-16T19:56:13.981Z"
   },
   {
    "duration": 7,
    "start_time": "2022-02-16T19:56:14.593Z"
   },
   {
    "duration": 7,
    "start_time": "2022-02-16T19:56:14.601Z"
   },
   {
    "duration": 7,
    "start_time": "2022-02-16T19:56:14.609Z"
   },
   {
    "duration": 36,
    "start_time": "2022-02-16T19:56:14.618Z"
   },
   {
    "duration": 10,
    "start_time": "2022-02-16T19:56:14.655Z"
   },
   {
    "duration": 593,
    "start_time": "2022-02-16T19:56:14.667Z"
   },
   {
    "duration": 288,
    "start_time": "2022-02-16T19:56:15.262Z"
   },
   {
    "duration": 1199,
    "start_time": "2022-02-16T19:56:15.552Z"
   },
   {
    "duration": 1316,
    "start_time": "2022-02-16T19:56:16.754Z"
   },
   {
    "duration": 91,
    "start_time": "2022-02-16T19:56:18.071Z"
   },
   {
    "duration": 17,
    "start_time": "2022-02-16T19:56:18.164Z"
   },
   {
    "duration": 20,
    "start_time": "2022-02-16T19:56:18.182Z"
   },
   {
    "duration": 591,
    "start_time": "2022-02-16T19:56:18.203Z"
   },
   {
    "duration": 19,
    "start_time": "2022-02-16T19:56:18.796Z"
   },
   {
    "duration": 648,
    "start_time": "2022-02-16T19:56:18.816Z"
   },
   {
    "duration": 9,
    "start_time": "2022-02-16T19:56:19.466Z"
   },
   {
    "duration": 5,
    "start_time": "2022-02-16T19:56:19.476Z"
   },
   {
    "duration": 4,
    "start_time": "2022-02-16T19:56:19.483Z"
   },
   {
    "duration": 9,
    "start_time": "2022-02-16T19:56:19.488Z"
   },
   {
    "duration": 39,
    "start_time": "2022-02-16T19:56:19.498Z"
   },
   {
    "duration": 483,
    "start_time": "2022-02-16T19:56:19.539Z"
   },
   {
    "duration": 25,
    "start_time": "2022-02-16T19:56:20.032Z"
   },
   {
    "duration": 10,
    "start_time": "2022-02-16T19:56:20.059Z"
   },
   {
    "duration": 5,
    "start_time": "2022-02-16T19:56:20.070Z"
   },
   {
    "duration": 4,
    "start_time": "2022-02-16T19:56:20.076Z"
   },
   {
    "duration": 9,
    "start_time": "2022-02-16T19:56:20.082Z"
   },
   {
    "duration": 42,
    "start_time": "2022-02-16T19:56:20.093Z"
   },
   {
    "duration": 6,
    "start_time": "2022-02-16T19:56:20.138Z"
   },
   {
    "duration": 7,
    "start_time": "2022-02-16T19:56:20.145Z"
   },
   {
    "duration": 45,
    "start_time": "2022-02-16T19:57:56.227Z"
   },
   {
    "duration": 23,
    "start_time": "2022-02-16T20:19:24.910Z"
   },
   {
    "duration": 13,
    "start_time": "2022-02-16T20:19:45.798Z"
   },
   {
    "duration": 13,
    "start_time": "2022-02-16T20:25:50.708Z"
   },
   {
    "duration": 13,
    "start_time": "2022-02-16T20:29:01.748Z"
   },
   {
    "duration": 15,
    "start_time": "2022-02-16T20:34:27.940Z"
   },
   {
    "duration": 40,
    "start_time": "2022-02-16T20:35:06.081Z"
   },
   {
    "duration": 63,
    "start_time": "2022-02-16T20:35:17.006Z"
   },
   {
    "duration": 94,
    "start_time": "2022-02-16T20:36:47.374Z"
   },
   {
    "duration": 90,
    "start_time": "2022-02-16T20:37:09.149Z"
   },
   {
    "duration": 83,
    "start_time": "2022-02-16T20:37:33.351Z"
   },
   {
    "duration": 90,
    "start_time": "2022-02-16T20:38:12.710Z"
   },
   {
    "duration": 327,
    "start_time": "2022-02-16T20:38:20.834Z"
   },
   {
    "duration": 277,
    "start_time": "2022-02-16T20:38:45.859Z"
   },
   {
    "duration": 304,
    "start_time": "2022-02-16T20:39:13.352Z"
   },
   {
    "duration": 234,
    "start_time": "2022-02-16T20:39:38.000Z"
   },
   {
    "duration": 115,
    "start_time": "2022-02-16T20:40:33.668Z"
   },
   {
    "duration": 89,
    "start_time": "2022-02-16T20:42:38.407Z"
   },
   {
    "duration": 165,
    "start_time": "2022-02-16T20:42:55.992Z"
   },
   {
    "duration": 176,
    "start_time": "2022-02-16T20:44:56.813Z"
   },
   {
    "duration": 106,
    "start_time": "2022-02-16T20:46:28.264Z"
   },
   {
    "duration": 193,
    "start_time": "2022-02-16T20:46:36.751Z"
   },
   {
    "duration": 66,
    "start_time": "2022-02-16T20:47:39.588Z"
   },
   {
    "duration": 193,
    "start_time": "2022-02-16T20:48:13.256Z"
   },
   {
    "duration": 46,
    "start_time": "2022-02-16T20:48:37.030Z"
   },
   {
    "duration": 211,
    "start_time": "2022-02-16T20:48:43.124Z"
   },
   {
    "duration": 211,
    "start_time": "2022-02-16T20:50:13.894Z"
   },
   {
    "duration": 3,
    "start_time": "2022-02-16T20:55:42.454Z"
   },
   {
    "duration": 84,
    "start_time": "2022-02-16T20:57:17.153Z"
   },
   {
    "duration": 290,
    "start_time": "2022-02-16T20:57:30.752Z"
   },
   {
    "duration": 44,
    "start_time": "2022-02-16T20:57:43.100Z"
   },
   {
    "duration": 46,
    "start_time": "2022-02-16T20:57:53.582Z"
   },
   {
    "duration": 53,
    "start_time": "2022-02-16T20:58:23.316Z"
   },
   {
    "duration": 82,
    "start_time": "2022-02-16T20:58:39.484Z"
   },
   {
    "duration": 48,
    "start_time": "2022-02-16T20:58:45.127Z"
   },
   {
    "duration": 36,
    "start_time": "2022-02-16T20:58:52.272Z"
   },
   {
    "duration": 117,
    "start_time": "2022-02-16T20:59:02.034Z"
   },
   {
    "duration": 121,
    "start_time": "2022-02-16T20:59:11.532Z"
   },
   {
    "duration": 3,
    "start_time": "2022-02-16T20:59:37.634Z"
   },
   {
    "duration": 5,
    "start_time": "2022-02-16T20:59:41.315Z"
   },
   {
    "duration": 36,
    "start_time": "2022-02-16T21:00:33.113Z"
   },
   {
    "duration": 41,
    "start_time": "2022-02-16T21:00:38.817Z"
   },
   {
    "duration": 282,
    "start_time": "2022-02-16T21:00:44.160Z"
   },
   {
    "duration": 36,
    "start_time": "2022-02-16T21:00:47.641Z"
   },
   {
    "duration": 84,
    "start_time": "2022-02-16T21:00:55.053Z"
   },
   {
    "duration": 34,
    "start_time": "2022-02-16T21:01:10.763Z"
   },
   {
    "duration": 39,
    "start_time": "2022-02-16T21:01:18.481Z"
   },
   {
    "duration": 1148,
    "start_time": "2022-02-16T21:05:22.930Z"
   },
   {
    "duration": 234,
    "start_time": "2022-02-16T21:05:24.080Z"
   },
   {
    "duration": 10,
    "start_time": "2022-02-16T21:05:24.316Z"
   },
   {
    "duration": 14,
    "start_time": "2022-02-16T21:05:24.328Z"
   },
   {
    "duration": 8,
    "start_time": "2022-02-16T21:05:24.343Z"
   },
   {
    "duration": 4,
    "start_time": "2022-02-16T21:05:24.352Z"
   },
   {
    "duration": 14,
    "start_time": "2022-02-16T21:05:24.358Z"
   },
   {
    "duration": 15,
    "start_time": "2022-02-16T21:05:24.374Z"
   },
   {
    "duration": 7,
    "start_time": "2022-02-16T21:05:24.391Z"
   },
   {
    "duration": 34,
    "start_time": "2022-02-16T21:05:24.400Z"
   },
   {
    "duration": 6,
    "start_time": "2022-02-16T21:05:24.436Z"
   },
   {
    "duration": 9,
    "start_time": "2022-02-16T21:05:24.443Z"
   },
   {
    "duration": 11,
    "start_time": "2022-02-16T21:05:24.453Z"
   },
   {
    "duration": 20,
    "start_time": "2022-02-16T21:05:24.466Z"
   },
   {
    "duration": 11,
    "start_time": "2022-02-16T21:05:24.488Z"
   },
   {
    "duration": 47,
    "start_time": "2022-02-16T21:05:24.501Z"
   },
   {
    "duration": 14,
    "start_time": "2022-02-16T21:05:24.550Z"
   },
   {
    "duration": 394,
    "start_time": "2022-02-16T21:05:24.566Z"
   },
   {
    "duration": 5,
    "start_time": "2022-02-16T21:05:24.962Z"
   },
   {
    "duration": 8,
    "start_time": "2022-02-16T21:05:24.969Z"
   },
   {
    "duration": 7,
    "start_time": "2022-02-16T21:05:24.979Z"
   },
   {
    "duration": 290,
    "start_time": "2022-02-16T21:05:24.988Z"
   },
   {
    "duration": 467,
    "start_time": "2022-02-16T21:05:25.282Z"
   },
   {
    "duration": 21,
    "start_time": "2022-02-16T21:05:25.751Z"
   },
   {
    "duration": 33,
    "start_time": "2022-02-16T21:05:25.774Z"
   },
   {
    "duration": 25,
    "start_time": "2022-02-16T21:05:25.832Z"
   },
   {
    "duration": 13,
    "start_time": "2022-02-16T21:05:25.858Z"
   },
   {
    "duration": 504,
    "start_time": "2022-02-16T21:05:25.873Z"
   },
   {
    "duration": 579,
    "start_time": "2022-02-16T21:05:26.379Z"
   },
   {
    "duration": 8,
    "start_time": "2022-02-16T21:05:26.959Z"
   },
   {
    "duration": 4,
    "start_time": "2022-02-16T21:05:26.969Z"
   },
   {
    "duration": 5,
    "start_time": "2022-02-16T21:05:26.974Z"
   },
   {
    "duration": 16,
    "start_time": "2022-02-16T21:05:26.980Z"
   },
   {
    "duration": 4,
    "start_time": "2022-02-16T21:05:26.998Z"
   },
   {
    "duration": 585,
    "start_time": "2022-02-16T21:05:27.003Z"
   },
   {
    "duration": 301,
    "start_time": "2022-02-16T21:05:27.590Z"
   },
   {
    "duration": 1252,
    "start_time": "2022-02-16T21:05:27.893Z"
   },
   {
    "duration": 1098,
    "start_time": "2022-02-16T21:05:29.147Z"
   },
   {
    "duration": 45,
    "start_time": "2022-02-16T21:05:30.247Z"
   },
   {
    "duration": 11,
    "start_time": "2022-02-16T21:05:30.293Z"
   },
   {
    "duration": 237,
    "start_time": "2022-02-16T21:05:30.306Z"
   },
   {
    "duration": 14,
    "start_time": "2022-02-16T21:18:22.468Z"
   },
   {
    "duration": 355,
    "start_time": "2022-02-16T21:19:00.668Z"
   },
   {
    "duration": 277,
    "start_time": "2022-02-16T21:19:18.578Z"
   },
   {
    "duration": 3,
    "start_time": "2022-02-16T21:19:28.829Z"
   },
   {
    "duration": 178,
    "start_time": "2022-02-16T21:19:28.837Z"
   },
   {
    "duration": 8,
    "start_time": "2022-02-16T21:19:29.017Z"
   },
   {
    "duration": 13,
    "start_time": "2022-02-16T21:19:29.027Z"
   },
   {
    "duration": 7,
    "start_time": "2022-02-16T21:19:29.042Z"
   },
   {
    "duration": 4,
    "start_time": "2022-02-16T21:19:29.051Z"
   },
   {
    "duration": 14,
    "start_time": "2022-02-16T21:19:29.056Z"
   },
   {
    "duration": 13,
    "start_time": "2022-02-16T21:19:29.072Z"
   },
   {
    "duration": 7,
    "start_time": "2022-02-16T21:19:29.087Z"
   },
   {
    "duration": 40,
    "start_time": "2022-02-16T21:19:29.095Z"
   },
   {
    "duration": 5,
    "start_time": "2022-02-16T21:19:29.137Z"
   },
   {
    "duration": 6,
    "start_time": "2022-02-16T21:19:29.182Z"
   },
   {
    "duration": 6,
    "start_time": "2022-02-16T21:19:29.192Z"
   },
   {
    "duration": 12,
    "start_time": "2022-02-16T21:19:29.202Z"
   },
   {
    "duration": 6,
    "start_time": "2022-02-16T21:19:29.216Z"
   },
   {
    "duration": 13,
    "start_time": "2022-02-16T21:19:29.224Z"
   },
   {
    "duration": 13,
    "start_time": "2022-02-16T21:19:29.239Z"
   },
   {
    "duration": 374,
    "start_time": "2022-02-16T21:19:29.254Z"
   },
   {
    "duration": 6,
    "start_time": "2022-02-16T21:19:29.629Z"
   },
   {
    "duration": 6,
    "start_time": "2022-02-16T21:19:29.637Z"
   },
   {
    "duration": 7,
    "start_time": "2022-02-16T21:19:29.645Z"
   },
   {
    "duration": 381,
    "start_time": "2022-02-16T21:19:29.653Z"
   },
   {
    "duration": 448,
    "start_time": "2022-02-16T21:19:30.036Z"
   },
   {
    "duration": 20,
    "start_time": "2022-02-16T21:19:30.485Z"
   },
   {
    "duration": 46,
    "start_time": "2022-02-16T21:19:30.507Z"
   },
   {
    "duration": 22,
    "start_time": "2022-02-16T21:19:30.555Z"
   },
   {
    "duration": 17,
    "start_time": "2022-02-16T21:19:30.579Z"
   },
   {
    "duration": 506,
    "start_time": "2022-02-16T21:19:30.597Z"
   },
   {
    "duration": 506,
    "start_time": "2022-02-16T21:19:31.105Z"
   },
   {
    "duration": 7,
    "start_time": "2022-02-16T21:19:31.613Z"
   },
   {
    "duration": 22,
    "start_time": "2022-02-16T21:19:31.621Z"
   },
   {
    "duration": 9,
    "start_time": "2022-02-16T21:19:31.644Z"
   },
   {
    "duration": 23,
    "start_time": "2022-02-16T21:19:31.654Z"
   },
   {
    "duration": 5,
    "start_time": "2022-02-16T21:19:31.679Z"
   },
   {
    "duration": 584,
    "start_time": "2022-02-16T21:19:31.686Z"
   },
   {
    "duration": 282,
    "start_time": "2022-02-16T21:19:32.272Z"
   },
   {
    "duration": 1151,
    "start_time": "2022-02-16T21:19:32.555Z"
   },
   {
    "duration": 1107,
    "start_time": "2022-02-16T21:19:33.708Z"
   },
   {
    "duration": 54,
    "start_time": "2022-02-16T21:19:34.816Z"
   },
   {
    "duration": 11,
    "start_time": "2022-02-16T21:19:34.873Z"
   },
   {
    "duration": 212,
    "start_time": "2022-02-16T21:19:34.885Z"
   },
   {
    "duration": 268,
    "start_time": "2022-02-16T21:19:37.108Z"
   },
   {
    "duration": 17,
    "start_time": "2022-02-16T21:19:45.871Z"
   },
   {
    "duration": 254,
    "start_time": "2022-02-16T21:21:16.483Z"
   },
   {
    "duration": 256,
    "start_time": "2022-02-16T21:21:34.592Z"
   },
   {
    "duration": 277,
    "start_time": "2022-02-16T21:22:34.627Z"
   },
   {
    "duration": 276,
    "start_time": "2022-02-16T21:22:46.718Z"
   },
   {
    "duration": 89,
    "start_time": "2022-02-16T21:22:54.700Z"
   },
   {
    "duration": 45,
    "start_time": "2022-02-16T21:23:02.576Z"
   },
   {
    "duration": 254,
    "start_time": "2022-02-16T21:23:26.410Z"
   },
   {
    "duration": 21,
    "start_time": "2022-02-16T21:24:07.778Z"
   },
   {
    "duration": 25,
    "start_time": "2022-02-16T21:24:23.066Z"
   },
   {
    "duration": 13,
    "start_time": "2022-02-16T21:25:22.509Z"
   },
   {
    "duration": 14,
    "start_time": "2022-02-16T21:25:56.526Z"
   },
   {
    "duration": 346,
    "start_time": "2022-02-16T21:26:00.359Z"
   },
   {
    "duration": 1069,
    "start_time": "2022-02-16T21:28:57.846Z"
   },
   {
    "duration": 253,
    "start_time": "2022-02-16T21:28:58.917Z"
   },
   {
    "duration": 8,
    "start_time": "2022-02-16T21:28:59.172Z"
   },
   {
    "duration": 23,
    "start_time": "2022-02-16T21:28:59.182Z"
   },
   {
    "duration": 7,
    "start_time": "2022-02-16T21:28:59.207Z"
   },
   {
    "duration": 4,
    "start_time": "2022-02-16T21:28:59.216Z"
   },
   {
    "duration": 20,
    "start_time": "2022-02-16T21:28:59.221Z"
   },
   {
    "duration": 14,
    "start_time": "2022-02-16T21:28:59.243Z"
   },
   {
    "duration": 8,
    "start_time": "2022-02-16T21:28:59.259Z"
   },
   {
    "duration": 7,
    "start_time": "2022-02-16T21:28:59.268Z"
   },
   {
    "duration": 8,
    "start_time": "2022-02-16T21:28:59.276Z"
   },
   {
    "duration": 11,
    "start_time": "2022-02-16T21:28:59.286Z"
   },
   {
    "duration": 35,
    "start_time": "2022-02-16T21:28:59.298Z"
   },
   {
    "duration": 12,
    "start_time": "2022-02-16T21:28:59.334Z"
   },
   {
    "duration": 6,
    "start_time": "2022-02-16T21:28:59.348Z"
   },
   {
    "duration": 13,
    "start_time": "2022-02-16T21:28:59.356Z"
   },
   {
    "duration": 12,
    "start_time": "2022-02-16T21:28:59.371Z"
   },
   {
    "duration": 371,
    "start_time": "2022-02-16T21:28:59.384Z"
   },
   {
    "duration": 6,
    "start_time": "2022-02-16T21:28:59.757Z"
   },
   {
    "duration": 9,
    "start_time": "2022-02-16T21:28:59.764Z"
   },
   {
    "duration": 5,
    "start_time": "2022-02-16T21:28:59.774Z"
   },
   {
    "duration": 283,
    "start_time": "2022-02-16T21:28:59.781Z"
   },
   {
    "duration": 451,
    "start_time": "2022-02-16T21:29:00.068Z"
   },
   {
    "duration": 50,
    "start_time": "2022-02-16T21:29:00.522Z"
   },
   {
    "duration": 77,
    "start_time": "2022-02-16T21:29:00.576Z"
   },
   {
    "duration": 28,
    "start_time": "2022-02-16T21:29:00.655Z"
   },
   {
    "duration": 14,
    "start_time": "2022-02-16T21:29:00.685Z"
   },
   {
    "duration": 521,
    "start_time": "2022-02-16T21:29:00.701Z"
   },
   {
    "duration": 577,
    "start_time": "2022-02-16T21:29:01.231Z"
   },
   {
    "duration": 8,
    "start_time": "2022-02-16T21:29:01.809Z"
   },
   {
    "duration": 15,
    "start_time": "2022-02-16T21:29:01.818Z"
   },
   {
    "duration": 5,
    "start_time": "2022-02-16T21:29:01.834Z"
   },
   {
    "duration": 15,
    "start_time": "2022-02-16T21:29:01.840Z"
   },
   {
    "duration": 4,
    "start_time": "2022-02-16T21:29:01.856Z"
   },
   {
    "duration": 546,
    "start_time": "2022-02-16T21:29:01.861Z"
   },
   {
    "duration": 301,
    "start_time": "2022-02-16T21:29:02.410Z"
   },
   {
    "duration": 1090,
    "start_time": "2022-02-16T21:29:02.713Z"
   },
   {
    "duration": 1095,
    "start_time": "2022-02-16T21:29:03.805Z"
   },
   {
    "duration": 56,
    "start_time": "2022-02-16T21:29:04.901Z"
   },
   {
    "duration": 11,
    "start_time": "2022-02-16T21:29:04.959Z"
   },
   {
    "duration": 210,
    "start_time": "2022-02-16T21:29:04.972Z"
   },
   {
    "duration": 14,
    "start_time": "2022-02-16T21:29:05.184Z"
   },
   {
    "duration": 44,
    "start_time": "2022-02-16T21:29:05.199Z"
   },
   {
    "duration": 376,
    "start_time": "2022-02-16T21:29:05.244Z"
   },
   {
    "duration": 23,
    "start_time": "2022-02-16T21:29:05.622Z"
   },
   {
    "duration": 454,
    "start_time": "2022-02-16T21:29:05.647Z"
   },
   {
    "duration": 8,
    "start_time": "2022-02-16T21:29:06.103Z"
   },
   {
    "duration": 21,
    "start_time": "2022-02-16T21:29:06.112Z"
   },
   {
    "duration": 4,
    "start_time": "2022-02-16T21:29:06.134Z"
   },
   {
    "duration": 8,
    "start_time": "2022-02-16T21:29:06.140Z"
   },
   {
    "duration": 13,
    "start_time": "2022-02-16T21:29:06.150Z"
   },
   {
    "duration": 501,
    "start_time": "2022-02-16T21:29:06.165Z"
   },
   {
    "duration": 19,
    "start_time": "2022-02-16T21:29:06.667Z"
   },
   {
    "duration": 10,
    "start_time": "2022-02-16T21:29:06.687Z"
   },
   {
    "duration": 6,
    "start_time": "2022-02-16T21:29:06.698Z"
   },
   {
    "duration": 29,
    "start_time": "2022-02-16T21:29:06.705Z"
   },
   {
    "duration": 12,
    "start_time": "2022-02-16T21:29:06.735Z"
   },
   {
    "duration": 3,
    "start_time": "2022-02-16T21:29:06.749Z"
   },
   {
    "duration": 5,
    "start_time": "2022-02-16T21:29:06.753Z"
   },
   {
    "duration": 3,
    "start_time": "2022-02-16T21:29:06.760Z"
   },
   {
    "duration": 145,
    "start_time": "2022-02-16T22:39:14.631Z"
   },
   {
    "duration": 88,
    "start_time": "2022-02-16T22:39:19.901Z"
   },
   {
    "duration": 334,
    "start_time": "2022-02-16T22:39:27.380Z"
   },
   {
    "duration": 10,
    "start_time": "2022-02-16T22:39:35.491Z"
   },
   {
    "duration": 313,
    "start_time": "2022-02-16T22:39:40.428Z"
   },
   {
    "duration": 13,
    "start_time": "2022-02-16T22:39:46.517Z"
   },
   {
    "duration": 15,
    "start_time": "2022-02-16T22:39:58.852Z"
   },
   {
    "duration": 9,
    "start_time": "2022-02-16T22:40:33.817Z"
   },
   {
    "duration": 8,
    "start_time": "2022-02-16T22:40:40.736Z"
   },
   {
    "duration": 10,
    "start_time": "2022-02-16T22:40:50.760Z"
   },
   {
    "duration": 22,
    "start_time": "2022-02-16T22:41:19.661Z"
   },
   {
    "duration": 11,
    "start_time": "2022-02-16T22:41:40.717Z"
   },
   {
    "duration": 16,
    "start_time": "2022-02-16T22:42:16.707Z"
   },
   {
    "duration": 16,
    "start_time": "2022-02-16T22:42:54.673Z"
   },
   {
    "duration": 277,
    "start_time": "2022-02-16T22:43:21.958Z"
   },
   {
    "duration": 270,
    "start_time": "2022-02-16T22:43:32.591Z"
   },
   {
    "duration": 17,
    "start_time": "2022-02-16T22:44:32.531Z"
   },
   {
    "duration": 18,
    "start_time": "2022-02-16T22:44:38.979Z"
   },
   {
    "duration": 16,
    "start_time": "2022-02-16T22:45:07.865Z"
   },
   {
    "duration": 23,
    "start_time": "2022-02-16T22:45:16.760Z"
   },
   {
    "duration": 157,
    "start_time": "2022-02-16T22:47:18.202Z"
   },
   {
    "duration": 46,
    "start_time": "2022-02-16T22:48:34.525Z"
   },
   {
    "duration": 52,
    "start_time": "2022-02-16T22:48:42.228Z"
   },
   {
    "duration": 48,
    "start_time": "2022-02-16T22:49:02.548Z"
   },
   {
    "duration": 54,
    "start_time": "2022-02-16T22:49:13.443Z"
   },
   {
    "duration": 54,
    "start_time": "2022-02-16T22:49:50.850Z"
   },
   {
    "duration": 1095,
    "start_time": "2022-02-16T22:51:08.181Z"
   },
   {
    "duration": 71,
    "start_time": "2022-02-16T22:52:44.639Z"
   },
   {
    "duration": 107,
    "start_time": "2022-02-16T22:54:35.561Z"
   },
   {
    "duration": 153,
    "start_time": "2022-02-16T22:55:04.247Z"
   },
   {
    "duration": 88,
    "start_time": "2022-02-16T22:56:43.545Z"
   },
   {
    "duration": 90,
    "start_time": "2022-02-16T22:57:33.983Z"
   },
   {
    "duration": 148,
    "start_time": "2022-02-16T22:57:52.070Z"
   },
   {
    "duration": 150,
    "start_time": "2022-02-16T22:58:33.556Z"
   },
   {
    "duration": 1021,
    "start_time": "2022-02-16T23:02:34.768Z"
   },
   {
    "duration": 182,
    "start_time": "2022-02-16T23:02:35.791Z"
   },
   {
    "duration": 9,
    "start_time": "2022-02-16T23:02:35.975Z"
   },
   {
    "duration": 36,
    "start_time": "2022-02-16T23:02:35.985Z"
   },
   {
    "duration": 21,
    "start_time": "2022-02-16T23:02:36.022Z"
   },
   {
    "duration": 27,
    "start_time": "2022-02-16T23:02:36.044Z"
   },
   {
    "duration": 36,
    "start_time": "2022-02-16T23:02:36.073Z"
   },
   {
    "duration": 23,
    "start_time": "2022-02-16T23:02:36.111Z"
   },
   {
    "duration": 16,
    "start_time": "2022-02-16T23:02:36.137Z"
   },
   {
    "duration": 27,
    "start_time": "2022-02-16T23:02:36.154Z"
   },
   {
    "duration": 19,
    "start_time": "2022-02-16T23:02:36.182Z"
   },
   {
    "duration": 28,
    "start_time": "2022-02-16T23:02:36.202Z"
   },
   {
    "duration": 27,
    "start_time": "2022-02-16T23:02:36.231Z"
   },
   {
    "duration": 30,
    "start_time": "2022-02-16T23:02:36.259Z"
   },
   {
    "duration": 13,
    "start_time": "2022-02-16T23:02:36.290Z"
   },
   {
    "duration": 40,
    "start_time": "2022-02-16T23:02:36.304Z"
   },
   {
    "duration": 28,
    "start_time": "2022-02-16T23:02:36.345Z"
   },
   {
    "duration": 384,
    "start_time": "2022-02-16T23:02:36.374Z"
   },
   {
    "duration": 5,
    "start_time": "2022-02-16T23:02:36.759Z"
   },
   {
    "duration": 34,
    "start_time": "2022-02-16T23:02:36.766Z"
   },
   {
    "duration": 34,
    "start_time": "2022-02-16T23:02:36.802Z"
   },
   {
    "duration": 297,
    "start_time": "2022-02-16T23:02:36.837Z"
   },
   {
    "duration": 428,
    "start_time": "2022-02-16T23:02:37.138Z"
   },
   {
    "duration": 20,
    "start_time": "2022-02-16T23:02:37.568Z"
   },
   {
    "duration": 43,
    "start_time": "2022-02-16T23:02:37.589Z"
   },
   {
    "duration": 31,
    "start_time": "2022-02-16T23:02:37.634Z"
   },
   {
    "duration": 19,
    "start_time": "2022-02-16T23:02:37.666Z"
   },
   {
    "duration": 688,
    "start_time": "2022-02-16T23:02:37.686Z"
   },
   {
    "duration": 599,
    "start_time": "2022-02-16T23:02:38.375Z"
   },
   {
    "duration": 8,
    "start_time": "2022-02-16T23:02:38.976Z"
   },
   {
    "duration": 6,
    "start_time": "2022-02-16T23:02:38.986Z"
   },
   {
    "duration": 18,
    "start_time": "2022-02-16T23:02:38.994Z"
   },
   {
    "duration": 54,
    "start_time": "2022-02-16T23:02:39.013Z"
   },
   {
    "duration": 32,
    "start_time": "2022-02-16T23:02:39.069Z"
   },
   {
    "duration": 575,
    "start_time": "2022-02-16T23:02:39.103Z"
   },
   {
    "duration": 297,
    "start_time": "2022-02-16T23:02:39.680Z"
   },
   {
    "duration": 1037,
    "start_time": "2022-02-16T23:02:39.979Z"
   },
   {
    "duration": 1080,
    "start_time": "2022-02-16T23:02:41.018Z"
   },
   {
    "duration": 55,
    "start_time": "2022-02-16T23:02:42.100Z"
   },
   {
    "duration": 10,
    "start_time": "2022-02-16T23:02:42.157Z"
   },
   {
    "duration": 159,
    "start_time": "2022-02-16T23:02:42.168Z"
   },
   {
    "duration": 11,
    "start_time": "2022-02-16T23:02:42.332Z"
   },
   {
    "duration": 48,
    "start_time": "2022-02-16T23:02:42.345Z"
   },
   {
    "duration": 366,
    "start_time": "2022-02-16T23:02:42.394Z"
   },
   {
    "duration": 15,
    "start_time": "2022-02-16T23:02:42.761Z"
   },
   {
    "duration": 445,
    "start_time": "2022-02-16T23:02:42.777Z"
   },
   {
    "duration": 14,
    "start_time": "2022-02-16T23:02:43.223Z"
   },
   {
    "duration": 13,
    "start_time": "2022-02-16T23:02:43.238Z"
   },
   {
    "duration": 22,
    "start_time": "2022-02-16T23:02:43.252Z"
   },
   {
    "duration": 46,
    "start_time": "2022-02-16T23:02:43.275Z"
   },
   {
    "duration": 26,
    "start_time": "2022-02-16T23:02:43.322Z"
   },
   {
    "duration": 448,
    "start_time": "2022-02-16T23:02:43.349Z"
   },
   {
    "duration": 34,
    "start_time": "2022-02-16T23:02:43.798Z"
   },
   {
    "duration": 10,
    "start_time": "2022-02-16T23:02:43.833Z"
   },
   {
    "duration": 14,
    "start_time": "2022-02-16T23:02:43.845Z"
   },
   {
    "duration": 25,
    "start_time": "2022-02-16T23:02:43.861Z"
   },
   {
    "duration": 36,
    "start_time": "2022-02-16T23:02:43.887Z"
   },
   {
    "duration": 12,
    "start_time": "2022-02-16T23:02:43.925Z"
   },
   {
    "duration": 24,
    "start_time": "2022-02-16T23:02:43.939Z"
   },
   {
    "duration": 11,
    "start_time": "2022-02-16T23:02:43.964Z"
   },
   {
    "duration": 152,
    "start_time": "2022-02-16T23:04:10.303Z"
   },
   {
    "duration": 2178,
    "start_time": "2022-02-16T23:04:51.165Z"
   },
   {
    "duration": 6041,
    "start_time": "2022-02-16T23:05:02.964Z"
   },
   {
    "duration": 14,
    "start_time": "2022-02-16T23:05:33.635Z"
   },
   {
    "duration": 10,
    "start_time": "2022-02-16T23:06:38.591Z"
   },
   {
    "duration": 6099,
    "start_time": "2022-02-16T23:06:42.678Z"
   },
   {
    "duration": 3,
    "start_time": "2022-02-16T23:07:08.774Z"
   },
   {
    "duration": 10,
    "start_time": "2022-02-16T23:07:11.397Z"
   },
   {
    "duration": 1080,
    "start_time": "2022-02-16T23:11:08.860Z"
   },
   {
    "duration": 219,
    "start_time": "2022-02-16T23:11:09.941Z"
   },
   {
    "duration": 9,
    "start_time": "2022-02-16T23:11:10.161Z"
   },
   {
    "duration": 14,
    "start_time": "2022-02-16T23:11:10.172Z"
   },
   {
    "duration": 7,
    "start_time": "2022-02-16T23:11:10.187Z"
   },
   {
    "duration": 3,
    "start_time": "2022-02-16T23:11:10.196Z"
   },
   {
    "duration": 35,
    "start_time": "2022-02-16T23:11:10.200Z"
   },
   {
    "duration": 12,
    "start_time": "2022-02-16T23:11:10.237Z"
   },
   {
    "duration": 6,
    "start_time": "2022-02-16T23:11:10.251Z"
   },
   {
    "duration": 6,
    "start_time": "2022-02-16T23:11:10.259Z"
   },
   {
    "duration": 7,
    "start_time": "2022-02-16T23:11:10.267Z"
   },
   {
    "duration": 10,
    "start_time": "2022-02-16T23:11:10.275Z"
   },
   {
    "duration": 11,
    "start_time": "2022-02-16T23:11:10.286Z"
   },
   {
    "duration": 42,
    "start_time": "2022-02-16T23:11:10.299Z"
   },
   {
    "duration": 7,
    "start_time": "2022-02-16T23:11:10.343Z"
   },
   {
    "duration": 12,
    "start_time": "2022-02-16T23:11:10.352Z"
   },
   {
    "duration": 13,
    "start_time": "2022-02-16T23:11:10.365Z"
   },
   {
    "duration": 385,
    "start_time": "2022-02-16T23:11:10.380Z"
   },
   {
    "duration": 5,
    "start_time": "2022-02-16T23:11:10.767Z"
   },
   {
    "duration": 7,
    "start_time": "2022-02-16T23:11:10.774Z"
   },
   {
    "duration": 8,
    "start_time": "2022-02-16T23:11:10.783Z"
   },
   {
    "duration": 287,
    "start_time": "2022-02-16T23:11:10.792Z"
   },
   {
    "duration": 436,
    "start_time": "2022-02-16T23:11:11.083Z"
   },
   {
    "duration": 27,
    "start_time": "2022-02-16T23:11:11.521Z"
   },
   {
    "duration": 30,
    "start_time": "2022-02-16T23:11:11.550Z"
   },
   {
    "duration": 21,
    "start_time": "2022-02-16T23:11:11.581Z"
   },
   {
    "duration": 32,
    "start_time": "2022-02-16T23:11:11.604Z"
   },
   {
    "duration": 501,
    "start_time": "2022-02-16T23:11:11.638Z"
   },
   {
    "duration": 577,
    "start_time": "2022-02-16T23:11:12.140Z"
   },
   {
    "duration": 18,
    "start_time": "2022-02-16T23:11:12.718Z"
   },
   {
    "duration": 3,
    "start_time": "2022-02-16T23:11:12.738Z"
   },
   {
    "duration": 4,
    "start_time": "2022-02-16T23:11:12.743Z"
   },
   {
    "duration": 18,
    "start_time": "2022-02-16T23:11:12.749Z"
   },
   {
    "duration": 4,
    "start_time": "2022-02-16T23:11:12.769Z"
   },
   {
    "duration": 667,
    "start_time": "2022-02-16T23:11:12.775Z"
   },
   {
    "duration": 306,
    "start_time": "2022-02-16T23:11:13.443Z"
   },
   {
    "duration": 1149,
    "start_time": "2022-02-16T23:11:13.751Z"
   },
   {
    "duration": 1083,
    "start_time": "2022-02-16T23:11:14.902Z"
   },
   {
    "duration": 62,
    "start_time": "2022-02-16T23:11:15.987Z"
   },
   {
    "duration": 11,
    "start_time": "2022-02-16T23:11:16.050Z"
   },
   {
    "duration": 363,
    "start_time": "2022-02-16T23:11:16.063Z"
   },
   {
    "duration": -463,
    "start_time": "2022-02-16T23:11:16.891Z"
   },
   {
    "duration": -470,
    "start_time": "2022-02-16T23:11:16.898Z"
   },
   {
    "duration": -475,
    "start_time": "2022-02-16T23:11:16.904Z"
   },
   {
    "duration": -480,
    "start_time": "2022-02-16T23:11:16.910Z"
   },
   {
    "duration": -485,
    "start_time": "2022-02-16T23:11:16.916Z"
   },
   {
    "duration": -490,
    "start_time": "2022-02-16T23:11:16.922Z"
   },
   {
    "duration": -504,
    "start_time": "2022-02-16T23:11:16.936Z"
   },
   {
    "duration": -509,
    "start_time": "2022-02-16T23:11:16.942Z"
   },
   {
    "duration": -514,
    "start_time": "2022-02-16T23:11:16.948Z"
   },
   {
    "duration": -519,
    "start_time": "2022-02-16T23:11:16.954Z"
   },
   {
    "duration": -524,
    "start_time": "2022-02-16T23:11:16.960Z"
   },
   {
    "duration": -529,
    "start_time": "2022-02-16T23:11:16.966Z"
   },
   {
    "duration": -535,
    "start_time": "2022-02-16T23:11:16.972Z"
   },
   {
    "duration": -539,
    "start_time": "2022-02-16T23:11:16.977Z"
   },
   {
    "duration": -556,
    "start_time": "2022-02-16T23:11:16.995Z"
   },
   {
    "duration": -561,
    "start_time": "2022-02-16T23:11:17.001Z"
   },
   {
    "duration": -566,
    "start_time": "2022-02-16T23:11:17.007Z"
   },
   {
    "duration": -571,
    "start_time": "2022-02-16T23:11:17.013Z"
   },
   {
    "duration": -577,
    "start_time": "2022-02-16T23:11:17.020Z"
   },
   {
    "duration": -581,
    "start_time": "2022-02-16T23:11:17.025Z"
   },
   {
    "duration": -586,
    "start_time": "2022-02-16T23:11:17.031Z"
   },
   {
    "duration": 1081,
    "start_time": "2022-02-16T23:12:00.051Z"
   },
   {
    "duration": 167,
    "start_time": "2022-02-16T23:12:01.133Z"
   },
   {
    "duration": 9,
    "start_time": "2022-02-16T23:12:01.302Z"
   },
   {
    "duration": 15,
    "start_time": "2022-02-16T23:12:01.313Z"
   },
   {
    "duration": 8,
    "start_time": "2022-02-16T23:12:01.330Z"
   },
   {
    "duration": 9,
    "start_time": "2022-02-16T23:12:01.339Z"
   },
   {
    "duration": 26,
    "start_time": "2022-02-16T23:12:01.349Z"
   },
   {
    "duration": 13,
    "start_time": "2022-02-16T23:12:01.377Z"
   },
   {
    "duration": 7,
    "start_time": "2022-02-16T23:12:01.393Z"
   },
   {
    "duration": 8,
    "start_time": "2022-02-16T23:12:01.402Z"
   },
   {
    "duration": 10,
    "start_time": "2022-02-16T23:12:01.411Z"
   },
   {
    "duration": 6,
    "start_time": "2022-02-16T23:12:01.432Z"
   },
   {
    "duration": 9,
    "start_time": "2022-02-16T23:12:01.440Z"
   },
   {
    "duration": 17,
    "start_time": "2022-02-16T23:12:01.451Z"
   },
   {
    "duration": 8,
    "start_time": "2022-02-16T23:12:01.470Z"
   },
   {
    "duration": 14,
    "start_time": "2022-02-16T23:12:01.479Z"
   },
   {
    "duration": 39,
    "start_time": "2022-02-16T23:12:01.495Z"
   },
   {
    "duration": 361,
    "start_time": "2022-02-16T23:12:01.536Z"
   },
   {
    "duration": 5,
    "start_time": "2022-02-16T23:12:01.900Z"
   },
   {
    "duration": 7,
    "start_time": "2022-02-16T23:12:01.907Z"
   },
   {
    "duration": 17,
    "start_time": "2022-02-16T23:12:01.916Z"
   },
   {
    "duration": 266,
    "start_time": "2022-02-16T23:12:01.934Z"
   },
   {
    "duration": 433,
    "start_time": "2022-02-16T23:12:02.205Z"
   },
   {
    "duration": 19,
    "start_time": "2022-02-16T23:12:02.641Z"
   },
   {
    "duration": 30,
    "start_time": "2022-02-16T23:12:02.662Z"
   },
   {
    "duration": 47,
    "start_time": "2022-02-16T23:12:02.694Z"
   },
   {
    "duration": 14,
    "start_time": "2022-02-16T23:12:02.743Z"
   },
   {
    "duration": 511,
    "start_time": "2022-02-16T23:12:02.758Z"
   },
   {
    "duration": 586,
    "start_time": "2022-02-16T23:12:03.271Z"
   },
   {
    "duration": 8,
    "start_time": "2022-02-16T23:12:03.859Z"
   },
   {
    "duration": 4,
    "start_time": "2022-02-16T23:12:03.868Z"
   },
   {
    "duration": 8,
    "start_time": "2022-02-16T23:12:03.873Z"
   },
   {
    "duration": 12,
    "start_time": "2022-02-16T23:12:03.883Z"
   },
   {
    "duration": 4,
    "start_time": "2022-02-16T23:12:03.897Z"
   },
   {
    "duration": 587,
    "start_time": "2022-02-16T23:12:03.902Z"
   },
   {
    "duration": 300,
    "start_time": "2022-02-16T23:12:04.491Z"
   },
   {
    "duration": 1042,
    "start_time": "2022-02-16T23:12:04.793Z"
   },
   {
    "duration": 1075,
    "start_time": "2022-02-16T23:12:05.837Z"
   },
   {
    "duration": 52,
    "start_time": "2022-02-16T23:12:06.914Z"
   },
   {
    "duration": 11,
    "start_time": "2022-02-16T23:12:06.968Z"
   },
   {
    "duration": 163,
    "start_time": "2022-02-16T23:12:06.980Z"
   },
   {
    "duration": 3,
    "start_time": "2022-02-16T23:12:07.145Z"
   },
   {
    "duration": 17,
    "start_time": "2022-02-16T23:12:07.150Z"
   },
   {
    "duration": 13,
    "start_time": "2022-02-16T23:12:07.168Z"
   },
   {
    "duration": 13,
    "start_time": "2022-02-16T23:12:07.182Z"
   },
   {
    "duration": 384,
    "start_time": "2022-02-16T23:12:07.197Z"
   },
   {
    "duration": 14,
    "start_time": "2022-02-16T23:12:07.583Z"
   },
   {
    "duration": 449,
    "start_time": "2022-02-16T23:12:07.599Z"
   },
   {
    "duration": 7,
    "start_time": "2022-02-16T23:12:08.049Z"
   },
   {
    "duration": 7,
    "start_time": "2022-02-16T23:12:08.057Z"
   },
   {
    "duration": 4,
    "start_time": "2022-02-16T23:12:08.065Z"
   },
   {
    "duration": 8,
    "start_time": "2022-02-16T23:12:08.070Z"
   },
   {
    "duration": 12,
    "start_time": "2022-02-16T23:12:08.079Z"
   },
   {
    "duration": 488,
    "start_time": "2022-02-16T23:12:08.092Z"
   },
   {
    "duration": 20,
    "start_time": "2022-02-16T23:12:08.581Z"
   },
   {
    "duration": 36,
    "start_time": "2022-02-16T23:12:08.603Z"
   },
   {
    "duration": 9,
    "start_time": "2022-02-16T23:12:08.641Z"
   },
   {
    "duration": 6,
    "start_time": "2022-02-16T23:12:08.651Z"
   },
   {
    "duration": 14,
    "start_time": "2022-02-16T23:12:08.659Z"
   },
   {
    "duration": 4,
    "start_time": "2022-02-16T23:12:08.674Z"
   },
   {
    "duration": 9,
    "start_time": "2022-02-16T23:12:08.680Z"
   },
   {
    "duration": 5,
    "start_time": "2022-02-16T23:12:08.690Z"
   },
   {
    "duration": 13,
    "start_time": "2022-02-16T23:13:39.577Z"
   },
   {
    "duration": 17,
    "start_time": "2022-02-16T23:14:21.550Z"
   },
   {
    "duration": 94,
    "start_time": "2022-02-16T23:24:17.668Z"
   },
   {
    "duration": 13,
    "start_time": "2022-02-16T23:39:43.471Z"
   },
   {
    "duration": 1282,
    "start_time": "2022-02-16T23:40:22.787Z"
   },
   {
    "duration": 343,
    "start_time": "2022-02-16T23:40:24.070Z"
   },
   {
    "duration": 9,
    "start_time": "2022-02-16T23:40:24.415Z"
   },
   {
    "duration": 13,
    "start_time": "2022-02-16T23:40:24.426Z"
   },
   {
    "duration": 8,
    "start_time": "2022-02-16T23:40:24.441Z"
   },
   {
    "duration": 4,
    "start_time": "2022-02-16T23:40:24.450Z"
   },
   {
    "duration": 14,
    "start_time": "2022-02-16T23:40:24.455Z"
   },
   {
    "duration": 13,
    "start_time": "2022-02-16T23:40:24.472Z"
   },
   {
    "duration": 7,
    "start_time": "2022-02-16T23:40:24.487Z"
   },
   {
    "duration": 38,
    "start_time": "2022-02-16T23:40:24.495Z"
   },
   {
    "duration": 6,
    "start_time": "2022-02-16T23:40:24.535Z"
   },
   {
    "duration": 7,
    "start_time": "2022-02-16T23:40:24.543Z"
   },
   {
    "duration": 11,
    "start_time": "2022-02-16T23:40:24.551Z"
   },
   {
    "duration": 15,
    "start_time": "2022-02-16T23:40:24.563Z"
   },
   {
    "duration": 7,
    "start_time": "2022-02-16T23:40:24.579Z"
   },
   {
    "duration": 13,
    "start_time": "2022-02-16T23:40:24.588Z"
   },
   {
    "duration": 38,
    "start_time": "2022-02-16T23:40:24.602Z"
   },
   {
    "duration": 381,
    "start_time": "2022-02-16T23:40:24.641Z"
   },
   {
    "duration": 10,
    "start_time": "2022-02-16T23:40:25.024Z"
   },
   {
    "duration": 6,
    "start_time": "2022-02-16T23:40:25.035Z"
   },
   {
    "duration": 6,
    "start_time": "2022-02-16T23:40:25.042Z"
   },
   {
    "duration": 278,
    "start_time": "2022-02-16T23:40:25.049Z"
   },
   {
    "duration": 455,
    "start_time": "2022-02-16T23:40:25.330Z"
   },
   {
    "duration": 19,
    "start_time": "2022-02-16T23:40:25.787Z"
   },
   {
    "duration": 44,
    "start_time": "2022-02-16T23:40:25.807Z"
   },
   {
    "duration": 23,
    "start_time": "2022-02-16T23:40:25.852Z"
   },
   {
    "duration": 14,
    "start_time": "2022-02-16T23:40:25.877Z"
   },
   {
    "duration": 512,
    "start_time": "2022-02-16T23:40:25.892Z"
   },
   {
    "duration": 578,
    "start_time": "2022-02-16T23:40:26.405Z"
   },
   {
    "duration": 8,
    "start_time": "2022-02-16T23:40:26.985Z"
   },
   {
    "duration": 5,
    "start_time": "2022-02-16T23:40:26.994Z"
   },
   {
    "duration": 5,
    "start_time": "2022-02-16T23:40:27.000Z"
   },
   {
    "duration": 31,
    "start_time": "2022-02-16T23:40:27.006Z"
   },
   {
    "duration": 5,
    "start_time": "2022-02-16T23:40:27.039Z"
   },
   {
    "duration": 534,
    "start_time": "2022-02-16T23:40:27.046Z"
   },
   {
    "duration": 291,
    "start_time": "2022-02-16T23:40:27.582Z"
   },
   {
    "duration": 1035,
    "start_time": "2022-02-16T23:40:27.875Z"
   },
   {
    "duration": 1093,
    "start_time": "2022-02-16T23:40:28.911Z"
   },
   {
    "duration": 57,
    "start_time": "2022-02-16T23:40:30.006Z"
   },
   {
    "duration": 11,
    "start_time": "2022-02-16T23:40:30.065Z"
   },
   {
    "duration": 167,
    "start_time": "2022-02-16T23:40:30.077Z"
   },
   {
    "duration": 3,
    "start_time": "2022-02-16T23:40:30.246Z"
   },
   {
    "duration": 14,
    "start_time": "2022-02-16T23:40:30.251Z"
   },
   {
    "duration": 19,
    "start_time": "2022-02-16T23:40:30.267Z"
   },
   {
    "duration": 15,
    "start_time": "2022-02-16T23:40:30.288Z"
   },
   {
    "duration": 367,
    "start_time": "2022-02-16T23:40:30.305Z"
   },
   {
    "duration": 14,
    "start_time": "2022-02-16T23:40:30.673Z"
   },
   {
    "duration": 463,
    "start_time": "2022-02-16T23:40:30.688Z"
   },
   {
    "duration": 7,
    "start_time": "2022-02-16T23:40:31.152Z"
   },
   {
    "duration": 8,
    "start_time": "2022-02-16T23:40:31.161Z"
   },
   {
    "duration": 6,
    "start_time": "2022-02-16T23:40:31.171Z"
   },
   {
    "duration": 9,
    "start_time": "2022-02-16T23:40:31.178Z"
   },
   {
    "duration": 11,
    "start_time": "2022-02-16T23:40:31.189Z"
   },
   {
    "duration": 484,
    "start_time": "2022-02-16T23:40:31.202Z"
   },
   {
    "duration": 18,
    "start_time": "2022-02-16T23:40:31.688Z"
   },
   {
    "duration": 31,
    "start_time": "2022-02-16T23:40:31.707Z"
   },
   {
    "duration": 6,
    "start_time": "2022-02-16T23:40:31.739Z"
   },
   {
    "duration": 9,
    "start_time": "2022-02-16T23:40:31.746Z"
   },
   {
    "duration": 12,
    "start_time": "2022-02-16T23:40:31.756Z"
   },
   {
    "duration": 5,
    "start_time": "2022-02-16T23:40:31.769Z"
   },
   {
    "duration": 4,
    "start_time": "2022-02-16T23:40:31.776Z"
   },
   {
    "duration": 11,
    "start_time": "2022-02-16T23:40:31.782Z"
   },
   {
    "duration": 1191,
    "start_time": "2022-02-17T19:13:53.392Z"
   },
   {
    "duration": 240,
    "start_time": "2022-02-17T19:13:54.585Z"
   },
   {
    "duration": 9,
    "start_time": "2022-02-17T19:13:54.826Z"
   },
   {
    "duration": 13,
    "start_time": "2022-02-17T19:13:54.837Z"
   },
   {
    "duration": 7,
    "start_time": "2022-02-17T19:13:54.852Z"
   },
   {
    "duration": 4,
    "start_time": "2022-02-17T19:13:54.861Z"
   },
   {
    "duration": 16,
    "start_time": "2022-02-17T19:13:54.866Z"
   },
   {
    "duration": 14,
    "start_time": "2022-02-17T19:13:54.884Z"
   },
   {
    "duration": 36,
    "start_time": "2022-02-17T19:13:54.900Z"
   },
   {
    "duration": 6,
    "start_time": "2022-02-17T19:13:54.938Z"
   },
   {
    "duration": 7,
    "start_time": "2022-02-17T19:13:54.946Z"
   },
   {
    "duration": 9,
    "start_time": "2022-02-17T19:13:54.954Z"
   },
   {
    "duration": 8,
    "start_time": "2022-02-17T19:13:54.964Z"
   },
   {
    "duration": 16,
    "start_time": "2022-02-17T19:13:54.973Z"
   },
   {
    "duration": 8,
    "start_time": "2022-02-17T19:13:54.990Z"
   },
   {
    "duration": 13,
    "start_time": "2022-02-17T19:13:55.032Z"
   },
   {
    "duration": 15,
    "start_time": "2022-02-17T19:13:55.048Z"
   },
   {
    "duration": 378,
    "start_time": "2022-02-17T19:13:55.065Z"
   },
   {
    "duration": 6,
    "start_time": "2022-02-17T19:13:55.444Z"
   },
   {
    "duration": 9,
    "start_time": "2022-02-17T19:13:55.452Z"
   },
   {
    "duration": 6,
    "start_time": "2022-02-17T19:13:55.463Z"
   },
   {
    "duration": 454,
    "start_time": "2022-02-17T19:13:55.471Z"
   },
   {
    "duration": 712,
    "start_time": "2022-02-17T19:13:55.930Z"
   },
   {
    "duration": 29,
    "start_time": "2022-02-17T19:13:56.645Z"
   },
   {
    "duration": 66,
    "start_time": "2022-02-17T19:13:56.676Z"
   },
   {
    "duration": 35,
    "start_time": "2022-02-17T19:13:56.744Z"
   },
   {
    "duration": 19,
    "start_time": "2022-02-17T19:13:56.781Z"
   },
   {
    "duration": 538,
    "start_time": "2022-02-17T19:13:56.802Z"
   },
   {
    "duration": 591,
    "start_time": "2022-02-17T19:13:57.342Z"
   },
   {
    "duration": 7,
    "start_time": "2022-02-17T19:13:57.935Z"
   },
   {
    "duration": 4,
    "start_time": "2022-02-17T19:13:57.944Z"
   },
   {
    "duration": 5,
    "start_time": "2022-02-17T19:13:57.950Z"
   },
   {
    "duration": 20,
    "start_time": "2022-02-17T19:13:57.957Z"
   },
   {
    "duration": 6,
    "start_time": "2022-02-17T19:13:57.978Z"
   },
   {
    "duration": 616,
    "start_time": "2022-02-17T19:13:57.986Z"
   },
   {
    "duration": 329,
    "start_time": "2022-02-17T19:13:58.604Z"
   },
   {
    "duration": 1292,
    "start_time": "2022-02-17T19:13:58.935Z"
   },
   {
    "duration": 1310,
    "start_time": "2022-02-17T19:14:00.231Z"
   },
   {
    "duration": 43,
    "start_time": "2022-02-17T19:14:01.542Z"
   },
   {
    "duration": 11,
    "start_time": "2022-02-17T19:14:01.586Z"
   },
   {
    "duration": 172,
    "start_time": "2022-02-17T19:14:01.599Z"
   },
   {
    "duration": 4,
    "start_time": "2022-02-17T19:14:01.772Z"
   },
   {
    "duration": 13,
    "start_time": "2022-02-17T19:14:01.777Z"
   },
   {
    "duration": 14,
    "start_time": "2022-02-17T19:14:01.792Z"
   },
   {
    "duration": 37,
    "start_time": "2022-02-17T19:14:01.807Z"
   },
   {
    "duration": 372,
    "start_time": "2022-02-17T19:14:01.846Z"
   },
   {
    "duration": 25,
    "start_time": "2022-02-17T19:14:02.219Z"
   },
   {
    "duration": 431,
    "start_time": "2022-02-17T19:14:02.245Z"
   },
   {
    "duration": 6,
    "start_time": "2022-02-17T19:14:02.678Z"
   },
   {
    "duration": 5,
    "start_time": "2022-02-17T19:14:02.686Z"
   },
   {
    "duration": 3,
    "start_time": "2022-02-17T19:14:02.693Z"
   },
   {
    "duration": 36,
    "start_time": "2022-02-17T19:14:02.698Z"
   },
   {
    "duration": 11,
    "start_time": "2022-02-17T19:14:02.735Z"
   },
   {
    "duration": 672,
    "start_time": "2022-02-17T19:14:02.756Z"
   },
   {
    "duration": 23,
    "start_time": "2022-02-17T19:14:03.432Z"
   },
   {
    "duration": 13,
    "start_time": "2022-02-17T19:14:03.457Z"
   },
   {
    "duration": 6,
    "start_time": "2022-02-17T19:14:03.472Z"
   },
   {
    "duration": 6,
    "start_time": "2022-02-17T19:14:03.479Z"
   },
   {
    "duration": 10,
    "start_time": "2022-02-17T19:14:03.487Z"
   },
   {
    "duration": 35,
    "start_time": "2022-02-17T19:14:03.499Z"
   },
   {
    "duration": 10,
    "start_time": "2022-02-17T19:14:03.535Z"
   },
   {
    "duration": 7,
    "start_time": "2022-02-17T19:14:03.546Z"
   },
   {
    "duration": 1099,
    "start_time": "2022-02-17T19:34:01.974Z"
   },
   {
    "duration": 240,
    "start_time": "2022-02-17T19:34:03.075Z"
   },
   {
    "duration": 9,
    "start_time": "2022-02-17T19:34:03.317Z"
   },
   {
    "duration": 27,
    "start_time": "2022-02-17T19:34:03.327Z"
   },
   {
    "duration": 9,
    "start_time": "2022-02-17T19:34:03.356Z"
   },
   {
    "duration": 4,
    "start_time": "2022-02-17T19:34:03.367Z"
   },
   {
    "duration": 13,
    "start_time": "2022-02-17T19:34:03.372Z"
   },
   {
    "duration": 14,
    "start_time": "2022-02-17T19:34:03.387Z"
   },
   {
    "duration": 7,
    "start_time": "2022-02-17T19:34:03.403Z"
   },
   {
    "duration": 24,
    "start_time": "2022-02-17T19:34:03.412Z"
   },
   {
    "duration": 5,
    "start_time": "2022-02-17T19:34:03.438Z"
   },
   {
    "duration": 9,
    "start_time": "2022-02-17T19:34:03.445Z"
   },
   {
    "duration": 11,
    "start_time": "2022-02-17T19:34:03.455Z"
   },
   {
    "duration": 15,
    "start_time": "2022-02-17T19:34:03.467Z"
   },
   {
    "duration": 8,
    "start_time": "2022-02-17T19:34:03.483Z"
   },
   {
    "duration": 41,
    "start_time": "2022-02-17T19:34:03.493Z"
   },
   {
    "duration": 13,
    "start_time": "2022-02-17T19:34:03.536Z"
   },
   {
    "duration": 375,
    "start_time": "2022-02-17T19:34:03.551Z"
   },
   {
    "duration": 8,
    "start_time": "2022-02-17T19:34:03.927Z"
   },
   {
    "duration": 6,
    "start_time": "2022-02-17T19:34:03.937Z"
   },
   {
    "duration": 5,
    "start_time": "2022-02-17T19:34:03.945Z"
   },
   {
    "duration": 294,
    "start_time": "2022-02-17T19:34:03.952Z"
   },
   {
    "duration": 542,
    "start_time": "2022-02-17T19:34:04.249Z"
   },
   {
    "duration": 19,
    "start_time": "2022-02-17T19:34:04.793Z"
   },
   {
    "duration": 45,
    "start_time": "2022-02-17T19:34:04.814Z"
   },
   {
    "duration": 22,
    "start_time": "2022-02-17T19:34:04.861Z"
   },
   {
    "duration": 14,
    "start_time": "2022-02-17T19:34:04.885Z"
   },
   {
    "duration": 530,
    "start_time": "2022-02-17T19:34:04.901Z"
   },
   {
    "duration": 573,
    "start_time": "2022-02-17T19:34:05.433Z"
   },
   {
    "duration": 8,
    "start_time": "2022-02-17T19:34:06.008Z"
   },
   {
    "duration": 17,
    "start_time": "2022-02-17T19:34:06.017Z"
   },
   {
    "duration": 5,
    "start_time": "2022-02-17T19:34:06.035Z"
   },
   {
    "duration": 15,
    "start_time": "2022-02-17T19:34:06.041Z"
   },
   {
    "duration": 5,
    "start_time": "2022-02-17T19:34:06.058Z"
   },
   {
    "duration": 540,
    "start_time": "2022-02-17T19:34:06.064Z"
   },
   {
    "duration": 303,
    "start_time": "2022-02-17T19:34:06.606Z"
   },
   {
    "duration": 1028,
    "start_time": "2022-02-17T19:34:06.911Z"
   },
   {
    "duration": 1109,
    "start_time": "2022-02-17T19:34:07.941Z"
   },
   {
    "duration": 47,
    "start_time": "2022-02-17T19:34:09.051Z"
   },
   {
    "duration": 31,
    "start_time": "2022-02-17T19:34:09.100Z"
   },
   {
    "duration": 165,
    "start_time": "2022-02-17T19:34:09.133Z"
   },
   {
    "duration": 4,
    "start_time": "2022-02-17T19:34:09.300Z"
   },
   {
    "duration": 13,
    "start_time": "2022-02-17T19:34:09.306Z"
   },
   {
    "duration": 14,
    "start_time": "2022-02-17T19:34:09.332Z"
   },
   {
    "duration": 15,
    "start_time": "2022-02-17T19:34:09.347Z"
   },
   {
    "duration": 381,
    "start_time": "2022-02-17T19:34:09.364Z"
   },
   {
    "duration": 21,
    "start_time": "2022-02-17T19:34:09.747Z"
   },
   {
    "duration": 711,
    "start_time": "2022-02-17T19:34:09.770Z"
   },
   {
    "duration": 8,
    "start_time": "2022-02-17T19:34:10.483Z"
   },
   {
    "duration": 3,
    "start_time": "2022-02-17T19:34:10.493Z"
   },
   {
    "duration": 4,
    "start_time": "2022-02-17T19:34:10.498Z"
   },
   {
    "duration": 30,
    "start_time": "2022-02-17T19:34:10.504Z"
   },
   {
    "duration": 13,
    "start_time": "2022-02-17T19:34:10.536Z"
   },
   {
    "duration": 541,
    "start_time": "2022-02-17T19:34:10.550Z"
   },
   {
    "duration": 19,
    "start_time": "2022-02-17T19:34:11.092Z"
   },
   {
    "duration": 10,
    "start_time": "2022-02-17T19:34:11.132Z"
   },
   {
    "duration": 5,
    "start_time": "2022-02-17T19:34:11.143Z"
   },
   {
    "duration": 6,
    "start_time": "2022-02-17T19:34:11.149Z"
   },
   {
    "duration": 11,
    "start_time": "2022-02-17T19:34:11.156Z"
   },
   {
    "duration": 4,
    "start_time": "2022-02-17T19:34:11.168Z"
   },
   {
    "duration": 4,
    "start_time": "2022-02-17T19:34:11.174Z"
   },
   {
    "duration": 9,
    "start_time": "2022-02-17T19:34:11.180Z"
   }
  ],
  "kernelspec": {
   "display_name": "Python 3 (ipykernel)",
   "language": "python",
   "name": "python3"
  },
  "language_info": {
   "codemirror_mode": {
    "name": "ipython",
    "version": 3
   },
   "file_extension": ".py",
   "mimetype": "text/x-python",
   "name": "python",
   "nbconvert_exporter": "python",
   "pygments_lexer": "ipython3",
   "version": "3.10.5"
  },
  "toc": {
   "base_numbering": 1,
   "nav_menu": {},
   "number_sections": true,
   "sideBar": true,
   "skip_h1_title": true,
   "title_cell": "Оглавление",
   "title_sidebar": "Contents",
   "toc_cell": true,
   "toc_position": {
    "height": "calc(100% - 180px)",
    "left": "10px",
    "top": "150px",
    "width": "360px"
   },
   "toc_section_display": true,
   "toc_window_display": true
  },
  "varInspector": {
   "cols": {
    "lenName": 16,
    "lenType": 16,
    "lenVar": 40
   },
   "kernels_config": {
    "python": {
     "delete_cmd_postfix": "",
     "delete_cmd_prefix": "del ",
     "library": "var_list.py",
     "varRefreshCmd": "print(var_dic_list())"
    },
    "r": {
     "delete_cmd_postfix": ") ",
     "delete_cmd_prefix": "rm(",
     "library": "var_list.r",
     "varRefreshCmd": "cat(var_dic_list()) "
    }
   },
   "position": {
    "height": "356.844px",
    "left": "1044px",
    "right": "20px",
    "top": "120px",
    "width": "376px"
   },
   "types_to_exclude": [
    "module",
    "function",
    "builtin_function_or_method",
    "instance",
    "_Feature"
   ],
   "window_display": false
  }
 },
 "nbformat": 4,
 "nbformat_minor": 4
}
