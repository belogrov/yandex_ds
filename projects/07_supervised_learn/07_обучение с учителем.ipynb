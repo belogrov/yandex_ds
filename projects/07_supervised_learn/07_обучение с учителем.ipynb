{
 "cells": [
  {
   "cell_type": "markdown",
   "metadata": {},
   "source": [
    "# Отток клиентов"
   ]
  },
  {
   "cell_type": "markdown",
   "metadata": {},
   "source": [
    "Из «Бета-Банка» стали уходить клиенты. Каждый месяц. Немного, но заметно. Банковские маркетологи посчитали: сохранять текущих клиентов дешевле, чем привлекать новых.\n",
    "\n",
    "Нужно спрогнозировать, уйдёт клиент из банка в ближайшее время или нет. Нам предоставлены исторические данные о поведении клиентов и расторжении договоров с банком. \n",
    "\n",
    "Построим модель с предельно большим значением *F1*-меры. Чтобы сдать проект успешно, нужно довести метрику до 0.59. Проверить *F1*-меру на тестовой выборке самостоятельно.\n",
    "\n",
    "Дополнительно измерить *AUC-ROC*, сравнивнить её значение с *F1*-мерой.\n",
    "\n",
    "Источник данных: [https://www.kaggle.com/barelydedicated/bank-customer-churn-modeling](https://www.kaggle.com/barelydedicated/bank-customer-churn-modeling)"
   ]
  },
  {
   "cell_type": "markdown",
   "metadata": {},
   "source": [
    "# Описание данных\n",
    "**Признаки:**\n",
    "- RowNumber — индекс строки в данных\n",
    "- CustomerId — уникальный идентификатор клиента\n",
    "- Surname — фамилия\n",
    "- CreditScore — кредитный рейтинг\n",
    "- Geography — страна проживания\n",
    "- Gender — пол\n",
    "- Age — возраст\n",
    "- Tenure — сколько лет человек является клиентом банка\n",
    "- Balance — баланс на счёте\n",
    "- NumOfProducts — количество продуктов банка, используемых клиентом\n",
    "- HasCrCard — наличие кредитной карты\n",
    "- IsActiveMember — активность клиента\n",
    "- EstimatedSalary — предполагаемая зарплата  \n",
    "\n",
    "**Целевой признак:**  \n",
    "- Exited — факт ухода клиента"
   ]
  },
  {
   "cell_type": "markdown",
   "metadata": {},
   "source": [
    "## Подготовка данных"
   ]
  },
  {
   "cell_type": "code",
   "execution_count": 1,
   "metadata": {},
   "outputs": [],
   "source": [
    "import pandas as pd\n",
    "import numpy as np\n",
    "\n",
    "import matplotlib.pyplot as plt\n",
    "import seaborn as sns\n",
    "\n",
    "from tqdm.notebook import tqdm_notebook\n",
    "\n",
    "#предобработка\n",
    "from sklearn.preprocessing import OrdinalEncoder, StandardScaler\n",
    "from sklearn.model_selection import train_test_split\n",
    "from sklearn.utils import shuffle\n",
    "from sklearn.model_selection import GridSearchCV\n",
    "\n",
    "#модели\n",
    "from sklearn.tree import DecisionTreeClassifier\n",
    "from sklearn.ensemble import RandomForestClassifier\n",
    "from sklearn.linear_model import LogisticRegression\n",
    "\n",
    "#метрики\n",
    "from sklearn.metrics import f1_score, roc_auc_score, roc_curve\n",
    "\n",
    "import warnings\n",
    "warnings.filterwarnings('ignore')"
   ]
  },
  {
   "cell_type": "code",
   "execution_count": 2,
   "metadata": {},
   "outputs": [
    {
     "data": {
      "text/html": [
       "<div>\n",
       "<style scoped>\n",
       "    .dataframe tbody tr th:only-of-type {\n",
       "        vertical-align: middle;\n",
       "    }\n",
       "\n",
       "    .dataframe tbody tr th {\n",
       "        vertical-align: top;\n",
       "    }\n",
       "\n",
       "    .dataframe thead th {\n",
       "        text-align: right;\n",
       "    }\n",
       "</style>\n",
       "<table border=\"1\" class=\"dataframe\">\n",
       "  <thead>\n",
       "    <tr style=\"text-align: right;\">\n",
       "      <th></th>\n",
       "      <th>RowNumber</th>\n",
       "      <th>CustomerId</th>\n",
       "      <th>Surname</th>\n",
       "      <th>CreditScore</th>\n",
       "      <th>Geography</th>\n",
       "      <th>Gender</th>\n",
       "      <th>Age</th>\n",
       "      <th>Tenure</th>\n",
       "      <th>Balance</th>\n",
       "      <th>NumOfProducts</th>\n",
       "      <th>HasCrCard</th>\n",
       "      <th>IsActiveMember</th>\n",
       "      <th>EstimatedSalary</th>\n",
       "      <th>Exited</th>\n",
       "    </tr>\n",
       "  </thead>\n",
       "  <tbody>\n",
       "    <tr>\n",
       "      <th>0</th>\n",
       "      <td>1</td>\n",
       "      <td>15634602</td>\n",
       "      <td>Hargrave</td>\n",
       "      <td>619</td>\n",
       "      <td>France</td>\n",
       "      <td>Female</td>\n",
       "      <td>42</td>\n",
       "      <td>2.0</td>\n",
       "      <td>0.00</td>\n",
       "      <td>1</td>\n",
       "      <td>1</td>\n",
       "      <td>1</td>\n",
       "      <td>101348.88</td>\n",
       "      <td>1</td>\n",
       "    </tr>\n",
       "    <tr>\n",
       "      <th>1</th>\n",
       "      <td>2</td>\n",
       "      <td>15647311</td>\n",
       "      <td>Hill</td>\n",
       "      <td>608</td>\n",
       "      <td>Spain</td>\n",
       "      <td>Female</td>\n",
       "      <td>41</td>\n",
       "      <td>1.0</td>\n",
       "      <td>83807.86</td>\n",
       "      <td>1</td>\n",
       "      <td>0</td>\n",
       "      <td>1</td>\n",
       "      <td>112542.58</td>\n",
       "      <td>0</td>\n",
       "    </tr>\n",
       "    <tr>\n",
       "      <th>2</th>\n",
       "      <td>3</td>\n",
       "      <td>15619304</td>\n",
       "      <td>Onio</td>\n",
       "      <td>502</td>\n",
       "      <td>France</td>\n",
       "      <td>Female</td>\n",
       "      <td>42</td>\n",
       "      <td>8.0</td>\n",
       "      <td>159660.80</td>\n",
       "      <td>3</td>\n",
       "      <td>1</td>\n",
       "      <td>0</td>\n",
       "      <td>113931.57</td>\n",
       "      <td>1</td>\n",
       "    </tr>\n",
       "    <tr>\n",
       "      <th>3</th>\n",
       "      <td>4</td>\n",
       "      <td>15701354</td>\n",
       "      <td>Boni</td>\n",
       "      <td>699</td>\n",
       "      <td>France</td>\n",
       "      <td>Female</td>\n",
       "      <td>39</td>\n",
       "      <td>1.0</td>\n",
       "      <td>0.00</td>\n",
       "      <td>2</td>\n",
       "      <td>0</td>\n",
       "      <td>0</td>\n",
       "      <td>93826.63</td>\n",
       "      <td>0</td>\n",
       "    </tr>\n",
       "    <tr>\n",
       "      <th>4</th>\n",
       "      <td>5</td>\n",
       "      <td>15737888</td>\n",
       "      <td>Mitchell</td>\n",
       "      <td>850</td>\n",
       "      <td>Spain</td>\n",
       "      <td>Female</td>\n",
       "      <td>43</td>\n",
       "      <td>2.0</td>\n",
       "      <td>125510.82</td>\n",
       "      <td>1</td>\n",
       "      <td>1</td>\n",
       "      <td>1</td>\n",
       "      <td>79084.10</td>\n",
       "      <td>0</td>\n",
       "    </tr>\n",
       "  </tbody>\n",
       "</table>\n",
       "</div>"
      ],
      "text/plain": [
       "   RowNumber  CustomerId   Surname  CreditScore Geography  Gender  Age  \\\n",
       "0          1    15634602  Hargrave          619    France  Female   42   \n",
       "1          2    15647311      Hill          608     Spain  Female   41   \n",
       "2          3    15619304      Onio          502    France  Female   42   \n",
       "3          4    15701354      Boni          699    France  Female   39   \n",
       "4          5    15737888  Mitchell          850     Spain  Female   43   \n",
       "\n",
       "   Tenure    Balance  NumOfProducts  HasCrCard  IsActiveMember  \\\n",
       "0     2.0       0.00              1          1               1   \n",
       "1     1.0   83807.86              1          0               1   \n",
       "2     8.0  159660.80              3          1               0   \n",
       "3     1.0       0.00              2          0               0   \n",
       "4     2.0  125510.82              1          1               1   \n",
       "\n",
       "   EstimatedSalary  Exited  \n",
       "0        101348.88       1  \n",
       "1        112542.58       0  \n",
       "2        113931.57       1  \n",
       "3         93826.63       0  \n",
       "4         79084.10       0  "
      ]
     },
     "execution_count": 2,
     "metadata": {},
     "output_type": "execute_result"
    }
   ],
   "source": [
    "try:\n",
    "    df_raw = pd.read_csv(r\"Churn.csv\")\n",
    "except:\n",
    "    df_raw = pd.read_csv(r\"/datasets/Churn.csv\")\n",
    "    \n",
    "df_raw.head()"
   ]
  },
  {
   "cell_type": "code",
   "execution_count": 3,
   "metadata": {},
   "outputs": [],
   "source": [
    "# БЛОК МОИХ ФУНКЦИЙ\n",
    "#====================================================================\n",
    "def get_corr_table(data_f, title=None, size=(12, 10)):\n",
    "    \"\"\" Строит цветастую таблицу корреляции всего датафрейма \"\"\"\n",
    "    pirson = data_f.corr().round(2)\n",
    "\n",
    "    # Plot\n",
    "    plt.figure(figsize=size)\n",
    "    sns.heatmap(\n",
    "        pirson,\n",
    "        yticklabels=pirson.index,\n",
    "        cmap='RdYlGn', center=0,\n",
    "        annot=True)\n",
    "\n",
    "    # Decorations\n",
    "    plt.title(title, fontsize=22)\n",
    "    plt.xticks(fontsize=12)\n",
    "    plt.yticks(fontsize=12)\n",
    "    plt.show()\n",
    "#====================================================================\n",
    "def get_isna(data_f: pd.DataFrame):\n",
    "    \"\"\"выводит таблицу пропусков\"\"\"\n",
    "    some_df = pd.concat(\n",
    "        [data_f.isna().sum().sort_values(),\n",
    "         (data_f.isna().sum().sort_values() / len(data_f) * 100).round(2)], axis=1)\n",
    "\n",
    "    some_df.columns = ['абсолют', '%']\n",
    "    return some_df\n",
    "#====================================================================\n",
    "def upsample(features, target, repeat, max_class=0, r_state=2022):\n",
    "    \"\"\"увеличивает выборку\"\"\"\n",
    "    features_0 = features[target == 0]\n",
    "    features_1 = features[target == 1]\n",
    "    target_0 = target[target == 0]\n",
    "    target_1 = target[target == 1]\n",
    "    \n",
    "    if max_class == 0:\n",
    "        features_upsampled = pd.concat(\n",
    "            [features_0] + [features_1]*repeat\n",
    "        )\n",
    "\n",
    "        target_upsampled = pd.concat(\n",
    "            [target_0] + [target_1]*repeat\n",
    "        )\n",
    "    else:\n",
    "        features_upsampled = pd.concat(\n",
    "            [features_1] + [features_0]*repeat\n",
    "        )\n",
    "\n",
    "        target_upsampled = pd.concat(\n",
    "            [target_1] + [target_0]*repeat\n",
    "        )\n",
    "    \n",
    "    features_upsampled, target_upsampled = shuffle(\n",
    "        features_upsampled, target_upsampled, random_state=r_state\n",
    "    )\n",
    "    return features_upsampled, target_upsampled\n",
    "#====================================================================\n",
    "def downsample(features, target, fraction, max_class=0, r_state=2022):\n",
    "    \"\"\"уменьшает выборку\"\"\"\n",
    "    features_0 = features[target == 0]\n",
    "    features_1 = features[target == 1]\n",
    "    target_0 = target[target == 0]\n",
    "    target_1 = target[target == 1]\n",
    "    \n",
    "    if max_class == 0:\n",
    "        features_downsampled = pd.concat(\n",
    "            [features_0.sample(frac=fraction, random_state=r_state)] + [features_1]\n",
    "        )\n",
    "        target_downsampled = pd.concat(\n",
    "            [target_0.sample(frac=fraction, random_state=r_state)] + [target_1]\n",
    "        )\n",
    "    else:\n",
    "        features_downsampled = pd.concat(\n",
    "            [features_1.sample(frac=fraction, random_state=r_state)] + [features_0]\n",
    "        )\n",
    "        target_downsampled = pd.concat(\n",
    "            [target_1.sample(frac=fraction, random_state=r_state)] + [target_0]\n",
    "        )\n",
    "        \n",
    "    features_downsampled, target_downsampled = shuffle(\n",
    "        features_downsampled, target_downsampled, random_state=r_state\n",
    "    )\n",
    "    \n",
    "    return features_downsampled, target_downsampled"
   ]
  },
  {
   "cell_type": "code",
   "execution_count": 4,
   "metadata": {},
   "outputs": [
    {
     "name": "stdout",
     "output_type": "stream",
     "text": [
      "<class 'pandas.core.frame.DataFrame'>\n",
      "RangeIndex: 10000 entries, 0 to 9999\n",
      "Data columns (total 14 columns):\n",
      " #   Column           Non-Null Count  Dtype  \n",
      "---  ------           --------------  -----  \n",
      " 0   RowNumber        10000 non-null  int64  \n",
      " 1   CustomerId       10000 non-null  int64  \n",
      " 2   Surname          10000 non-null  object \n",
      " 3   CreditScore      10000 non-null  int64  \n",
      " 4   Geography        10000 non-null  object \n",
      " 5   Gender           10000 non-null  object \n",
      " 6   Age              10000 non-null  int64  \n",
      " 7   Tenure           9091 non-null   float64\n",
      " 8   Balance          10000 non-null  float64\n",
      " 9   NumOfProducts    10000 non-null  int64  \n",
      " 10  HasCrCard        10000 non-null  int64  \n",
      " 11  IsActiveMember   10000 non-null  int64  \n",
      " 12  EstimatedSalary  10000 non-null  float64\n",
      " 13  Exited           10000 non-null  int64  \n",
      "dtypes: float64(3), int64(8), object(3)\n",
      "memory usage: 1.1+ MB\n"
     ]
    }
   ],
   "source": [
    "df_raw.info()"
   ]
  },
  {
   "cell_type": "markdown",
   "metadata": {},
   "source": [
    "В столбце tenure пропуски заменим на 0, т.к. врядли сотрудники/система банка проигнорируют  **постоянного** клиента."
   ]
  },
  {
   "cell_type": "code",
   "execution_count": 5,
   "metadata": {},
   "outputs": [
    {
     "data": {
      "text/html": [
       "<div>\n",
       "<style scoped>\n",
       "    .dataframe tbody tr th:only-of-type {\n",
       "        vertical-align: middle;\n",
       "    }\n",
       "\n",
       "    .dataframe tbody tr th {\n",
       "        vertical-align: top;\n",
       "    }\n",
       "\n",
       "    .dataframe thead th {\n",
       "        text-align: right;\n",
       "    }\n",
       "</style>\n",
       "<table border=\"1\" class=\"dataframe\">\n",
       "  <thead>\n",
       "    <tr style=\"text-align: right;\">\n",
       "      <th></th>\n",
       "      <th>абсолют</th>\n",
       "      <th>%</th>\n",
       "    </tr>\n",
       "  </thead>\n",
       "  <tbody>\n",
       "    <tr>\n",
       "      <th>RowNumber</th>\n",
       "      <td>0</td>\n",
       "      <td>0.0</td>\n",
       "    </tr>\n",
       "    <tr>\n",
       "      <th>CustomerId</th>\n",
       "      <td>0</td>\n",
       "      <td>0.0</td>\n",
       "    </tr>\n",
       "    <tr>\n",
       "      <th>Surname</th>\n",
       "      <td>0</td>\n",
       "      <td>0.0</td>\n",
       "    </tr>\n",
       "    <tr>\n",
       "      <th>CreditScore</th>\n",
       "      <td>0</td>\n",
       "      <td>0.0</td>\n",
       "    </tr>\n",
       "    <tr>\n",
       "      <th>Geography</th>\n",
       "      <td>0</td>\n",
       "      <td>0.0</td>\n",
       "    </tr>\n",
       "    <tr>\n",
       "      <th>Gender</th>\n",
       "      <td>0</td>\n",
       "      <td>0.0</td>\n",
       "    </tr>\n",
       "    <tr>\n",
       "      <th>Age</th>\n",
       "      <td>0</td>\n",
       "      <td>0.0</td>\n",
       "    </tr>\n",
       "    <tr>\n",
       "      <th>Tenure</th>\n",
       "      <td>0</td>\n",
       "      <td>0.0</td>\n",
       "    </tr>\n",
       "    <tr>\n",
       "      <th>Balance</th>\n",
       "      <td>0</td>\n",
       "      <td>0.0</td>\n",
       "    </tr>\n",
       "    <tr>\n",
       "      <th>NumOfProducts</th>\n",
       "      <td>0</td>\n",
       "      <td>0.0</td>\n",
       "    </tr>\n",
       "    <tr>\n",
       "      <th>HasCrCard</th>\n",
       "      <td>0</td>\n",
       "      <td>0.0</td>\n",
       "    </tr>\n",
       "    <tr>\n",
       "      <th>IsActiveMember</th>\n",
       "      <td>0</td>\n",
       "      <td>0.0</td>\n",
       "    </tr>\n",
       "    <tr>\n",
       "      <th>EstimatedSalary</th>\n",
       "      <td>0</td>\n",
       "      <td>0.0</td>\n",
       "    </tr>\n",
       "    <tr>\n",
       "      <th>Exited</th>\n",
       "      <td>0</td>\n",
       "      <td>0.0</td>\n",
       "    </tr>\n",
       "  </tbody>\n",
       "</table>\n",
       "</div>"
      ],
      "text/plain": [
       "                 абсолют    %\n",
       "RowNumber              0  0.0\n",
       "CustomerId             0  0.0\n",
       "Surname                0  0.0\n",
       "CreditScore            0  0.0\n",
       "Geography              0  0.0\n",
       "Gender                 0  0.0\n",
       "Age                    0  0.0\n",
       "Tenure                 0  0.0\n",
       "Balance                0  0.0\n",
       "NumOfProducts          0  0.0\n",
       "HasCrCard              0  0.0\n",
       "IsActiveMember         0  0.0\n",
       "EstimatedSalary        0  0.0\n",
       "Exited                 0  0.0"
      ]
     },
     "execution_count": 5,
     "metadata": {},
     "output_type": "execute_result"
    }
   ],
   "source": [
    "df_raw = df_raw.fillna(0)\n",
    "get_isna(df_raw)"
   ]
  },
  {
   "cell_type": "markdown",
   "metadata": {},
   "source": [
    "Приведем названия столбцов к нижнему регистру"
   ]
  },
  {
   "cell_type": "code",
   "execution_count": 6,
   "metadata": {},
   "outputs": [
    {
     "data": {
      "text/plain": [
       "Index(['rownumber', 'customerid', 'surname', 'creditscore', 'geography',\n",
       "       'gender', 'age', 'tenure', 'balance', 'numofproducts', 'hascrcard',\n",
       "       'isactivemember', 'estimatedsalary', 'exited'],\n",
       "      dtype='object')"
      ]
     },
     "execution_count": 6,
     "metadata": {},
     "output_type": "execute_result"
    }
   ],
   "source": [
    "df_raw.columns = df_raw.columns.str.lower()\n",
    "df_raw.columns"
   ]
  },
  {
   "cell_type": "code",
   "execution_count": 7,
   "metadata": {},
   "outputs": [
    {
     "data": {
      "text/html": [
       "<div>\n",
       "<style scoped>\n",
       "    .dataframe tbody tr th:only-of-type {\n",
       "        vertical-align: middle;\n",
       "    }\n",
       "\n",
       "    .dataframe tbody tr th {\n",
       "        vertical-align: top;\n",
       "    }\n",
       "\n",
       "    .dataframe thead th {\n",
       "        text-align: right;\n",
       "    }\n",
       "</style>\n",
       "<table border=\"1\" class=\"dataframe\">\n",
       "  <thead>\n",
       "    <tr style=\"text-align: right;\">\n",
       "      <th></th>\n",
       "      <th>rownumber</th>\n",
       "      <th>customerid</th>\n",
       "      <th>creditscore</th>\n",
       "      <th>age</th>\n",
       "      <th>tenure</th>\n",
       "      <th>balance</th>\n",
       "      <th>numofproducts</th>\n",
       "      <th>hascrcard</th>\n",
       "      <th>isactivemember</th>\n",
       "      <th>estimatedsalary</th>\n",
       "      <th>exited</th>\n",
       "    </tr>\n",
       "  </thead>\n",
       "  <tbody>\n",
       "    <tr>\n",
       "      <th>count</th>\n",
       "      <td>10000.0</td>\n",
       "      <td>10000.0</td>\n",
       "      <td>10000.0</td>\n",
       "      <td>10000.0</td>\n",
       "      <td>10000.0</td>\n",
       "      <td>10000.0</td>\n",
       "      <td>10000.0</td>\n",
       "      <td>10000.0</td>\n",
       "      <td>10000.0</td>\n",
       "      <td>10000.0</td>\n",
       "      <td>10000.0</td>\n",
       "    </tr>\n",
       "    <tr>\n",
       "      <th>mean</th>\n",
       "      <td>5000.0</td>\n",
       "      <td>15690941.0</td>\n",
       "      <td>651.0</td>\n",
       "      <td>39.0</td>\n",
       "      <td>5.0</td>\n",
       "      <td>76486.0</td>\n",
       "      <td>2.0</td>\n",
       "      <td>1.0</td>\n",
       "      <td>1.0</td>\n",
       "      <td>100090.0</td>\n",
       "      <td>0.0</td>\n",
       "    </tr>\n",
       "    <tr>\n",
       "      <th>std</th>\n",
       "      <td>2887.0</td>\n",
       "      <td>71936.0</td>\n",
       "      <td>97.0</td>\n",
       "      <td>10.0</td>\n",
       "      <td>3.0</td>\n",
       "      <td>62397.0</td>\n",
       "      <td>1.0</td>\n",
       "      <td>0.0</td>\n",
       "      <td>0.0</td>\n",
       "      <td>57510.0</td>\n",
       "      <td>0.0</td>\n",
       "    </tr>\n",
       "    <tr>\n",
       "      <th>min</th>\n",
       "      <td>1.0</td>\n",
       "      <td>15565701.0</td>\n",
       "      <td>350.0</td>\n",
       "      <td>18.0</td>\n",
       "      <td>0.0</td>\n",
       "      <td>0.0</td>\n",
       "      <td>1.0</td>\n",
       "      <td>0.0</td>\n",
       "      <td>0.0</td>\n",
       "      <td>12.0</td>\n",
       "      <td>0.0</td>\n",
       "    </tr>\n",
       "    <tr>\n",
       "      <th>25%</th>\n",
       "      <td>2501.0</td>\n",
       "      <td>15628528.0</td>\n",
       "      <td>584.0</td>\n",
       "      <td>32.0</td>\n",
       "      <td>2.0</td>\n",
       "      <td>0.0</td>\n",
       "      <td>1.0</td>\n",
       "      <td>0.0</td>\n",
       "      <td>0.0</td>\n",
       "      <td>51002.0</td>\n",
       "      <td>0.0</td>\n",
       "    </tr>\n",
       "    <tr>\n",
       "      <th>50%</th>\n",
       "      <td>5000.0</td>\n",
       "      <td>15690738.0</td>\n",
       "      <td>652.0</td>\n",
       "      <td>37.0</td>\n",
       "      <td>4.0</td>\n",
       "      <td>97199.0</td>\n",
       "      <td>1.0</td>\n",
       "      <td>1.0</td>\n",
       "      <td>1.0</td>\n",
       "      <td>100194.0</td>\n",
       "      <td>0.0</td>\n",
       "    </tr>\n",
       "    <tr>\n",
       "      <th>75%</th>\n",
       "      <td>7500.0</td>\n",
       "      <td>15753234.0</td>\n",
       "      <td>718.0</td>\n",
       "      <td>44.0</td>\n",
       "      <td>7.0</td>\n",
       "      <td>127644.0</td>\n",
       "      <td>2.0</td>\n",
       "      <td>1.0</td>\n",
       "      <td>1.0</td>\n",
       "      <td>149388.0</td>\n",
       "      <td>0.0</td>\n",
       "    </tr>\n",
       "    <tr>\n",
       "      <th>max</th>\n",
       "      <td>10000.0</td>\n",
       "      <td>15815690.0</td>\n",
       "      <td>850.0</td>\n",
       "      <td>92.0</td>\n",
       "      <td>10.0</td>\n",
       "      <td>250898.0</td>\n",
       "      <td>4.0</td>\n",
       "      <td>1.0</td>\n",
       "      <td>1.0</td>\n",
       "      <td>199992.0</td>\n",
       "      <td>1.0</td>\n",
       "    </tr>\n",
       "  </tbody>\n",
       "</table>\n",
       "</div>"
      ],
      "text/plain": [
       "       rownumber  customerid  creditscore      age   tenure   balance  \\\n",
       "count    10000.0     10000.0      10000.0  10000.0  10000.0   10000.0   \n",
       "mean      5000.0  15690941.0        651.0     39.0      5.0   76486.0   \n",
       "std       2887.0     71936.0         97.0     10.0      3.0   62397.0   \n",
       "min          1.0  15565701.0        350.0     18.0      0.0       0.0   \n",
       "25%       2501.0  15628528.0        584.0     32.0      2.0       0.0   \n",
       "50%       5000.0  15690738.0        652.0     37.0      4.0   97199.0   \n",
       "75%       7500.0  15753234.0        718.0     44.0      7.0  127644.0   \n",
       "max      10000.0  15815690.0        850.0     92.0     10.0  250898.0   \n",
       "\n",
       "       numofproducts  hascrcard  isactivemember  estimatedsalary   exited  \n",
       "count        10000.0    10000.0         10000.0          10000.0  10000.0  \n",
       "mean             2.0        1.0             1.0         100090.0      0.0  \n",
       "std              1.0        0.0             0.0          57510.0      0.0  \n",
       "min              1.0        0.0             0.0             12.0      0.0  \n",
       "25%              1.0        0.0             0.0          51002.0      0.0  \n",
       "50%              1.0        1.0             1.0         100194.0      0.0  \n",
       "75%              2.0        1.0             1.0         149388.0      0.0  \n",
       "max              4.0        1.0             1.0         199992.0      1.0  "
      ]
     },
     "execution_count": 7,
     "metadata": {},
     "output_type": "execute_result"
    }
   ],
   "source": [
    "df_raw.describe().round()"
   ]
  },
  {
   "cell_type": "code",
   "execution_count": 8,
   "metadata": {},
   "outputs": [
    {
     "data": {
      "image/png": "[encoded data removed]",
      "text/plain": [
       "<Figure size 864x720 with 2 Axes>"
      ]
     },
     "metadata": {
      "needs_background": "light"
     },
     "output_type": "display_data"
    }
   ],
   "source": [
    "get_corr_table(df_raw)"
   ]
  },
  {
   "cell_type": "markdown",
   "metadata": {},
   "source": [
    "В данных присутсвует слабая линейная корреляция"
   ]
  },
  {
   "cell_type": "markdown",
   "metadata": {},
   "source": [
    "Очевидно, что столбцы 'rownumber', 'customerid', 'surname' для обучения модели не важны. Удалим их."
   ]
  },
  {
   "cell_type": "code",
   "execution_count": 9,
   "metadata": {},
   "outputs": [],
   "source": [
    "# Обернем в try-except, т.к. в процессе отладки возникающие ошибки могут мешать\n",
    "try:\n",
    "    df_raw = df_raw.drop(columns=['rownumber', 'customerid', 'surname'], axis=1)\n",
    "except:\n",
    "    pass"
   ]
  },
  {
   "cell_type": "markdown",
   "metadata": {},
   "source": [
    "Рассмотрим столбец 'geography'. Определим, является ли географическое положение признаком необходимым для обучения модели."
   ]
  },
  {
   "cell_type": "code",
   "execution_count": 10,
   "metadata": {},
   "outputs": [
    {
     "data": {
      "text/html": [
       "<div>\n",
       "<style scoped>\n",
       "    .dataframe tbody tr th:only-of-type {\n",
       "        vertical-align: middle;\n",
       "    }\n",
       "\n",
       "    .dataframe tbody tr th {\n",
       "        vertical-align: top;\n",
       "    }\n",
       "\n",
       "    .dataframe thead th {\n",
       "        text-align: right;\n",
       "    }\n",
       "</style>\n",
       "<table border=\"1\" class=\"dataframe\">\n",
       "  <thead>\n",
       "    <tr style=\"text-align: right;\">\n",
       "      <th></th>\n",
       "      <th>balance</th>\n",
       "      <th>estimatedsalary</th>\n",
       "      <th>age</th>\n",
       "      <th>exited</th>\n",
       "    </tr>\n",
       "    <tr>\n",
       "      <th>geography</th>\n",
       "      <th></th>\n",
       "      <th></th>\n",
       "      <th></th>\n",
       "      <th></th>\n",
       "    </tr>\n",
       "  </thead>\n",
       "  <tbody>\n",
       "    <tr>\n",
       "      <th>France</th>\n",
       "      <td>62154.0</td>\n",
       "      <td>99132.0</td>\n",
       "      <td>5014</td>\n",
       "      <td>810</td>\n",
       "    </tr>\n",
       "    <tr>\n",
       "      <th>Germany</th>\n",
       "      <td>119703.0</td>\n",
       "      <td>102397.0</td>\n",
       "      <td>2509</td>\n",
       "      <td>814</td>\n",
       "    </tr>\n",
       "    <tr>\n",
       "      <th>Spain</th>\n",
       "      <td>61710.0</td>\n",
       "      <td>99985.0</td>\n",
       "      <td>2477</td>\n",
       "      <td>413</td>\n",
       "    </tr>\n",
       "  </tbody>\n",
       "</table>\n",
       "</div>"
      ],
      "text/plain": [
       "            balance  estimatedsalary   age  exited\n",
       "geography                                         \n",
       "France      62154.0          99132.0  5014     810\n",
       "Germany    119703.0         102397.0  2509     814\n",
       "Spain       61710.0          99985.0  2477     413"
      ]
     },
     "execution_count": 10,
     "metadata": {},
     "output_type": "execute_result"
    }
   ],
   "source": [
    "df_raw.groupby('geography').agg({\n",
    "    'balance':'median',# медианный баланс\n",
    "    'estimatedsalary':'median',# медианная зарплата\n",
    "    'age':'count',# сколько клиентов в стране\n",
    "    'exited':'sum'# сколько клиентов ушло\n",
    "}).round()"
   ]
  },
  {
   "cell_type": "markdown",
   "metadata": {},
   "source": [
    "Как мы видим, граждане разных стран обладают разным финансовым состоянием внутри банковской системы. Оставим этот признак.  \n",
    "Рассмотрим, так же финансовое состояние в зависимости от пола клиента."
   ]
  },
  {
   "cell_type": "code",
   "execution_count": 11,
   "metadata": {},
   "outputs": [
    {
     "data": {
      "text/html": [
       "<div>\n",
       "<style scoped>\n",
       "    .dataframe tbody tr th:only-of-type {\n",
       "        vertical-align: middle;\n",
       "    }\n",
       "\n",
       "    .dataframe tbody tr th {\n",
       "        vertical-align: top;\n",
       "    }\n",
       "\n",
       "    .dataframe thead th {\n",
       "        text-align: right;\n",
       "    }\n",
       "</style>\n",
       "<table border=\"1\" class=\"dataframe\">\n",
       "  <thead>\n",
       "    <tr style=\"text-align: right;\">\n",
       "      <th></th>\n",
       "      <th>balance</th>\n",
       "      <th>estimatedsalary</th>\n",
       "      <th>age</th>\n",
       "      <th>exited</th>\n",
       "    </tr>\n",
       "    <tr>\n",
       "      <th>gender</th>\n",
       "      <th></th>\n",
       "      <th></th>\n",
       "      <th></th>\n",
       "      <th></th>\n",
       "    </tr>\n",
       "  </thead>\n",
       "  <tbody>\n",
       "    <tr>\n",
       "      <th>Female</th>\n",
       "      <td>96148.0</td>\n",
       "      <td>101905.0</td>\n",
       "      <td>4543</td>\n",
       "      <td>1139</td>\n",
       "    </tr>\n",
       "    <tr>\n",
       "      <th>Male</th>\n",
       "      <td>98065.0</td>\n",
       "      <td>98061.0</td>\n",
       "      <td>5457</td>\n",
       "      <td>898</td>\n",
       "    </tr>\n",
       "  </tbody>\n",
       "</table>\n",
       "</div>"
      ],
      "text/plain": [
       "        balance  estimatedsalary   age  exited\n",
       "gender                                        \n",
       "Female  96148.0         101905.0  4543    1139\n",
       "Male    98065.0          98061.0  5457     898"
      ]
     },
     "execution_count": 11,
     "metadata": {},
     "output_type": "execute_result"
    }
   ],
   "source": [
    "df_raw.groupby('gender').agg({\n",
    "    'balance':'median',# медианный баланс\n",
    "    'estimatedsalary':'median',# медианная зарплата\n",
    "    'age':'count',# сколько клиентов в стране\n",
    "    'exited':'sum'# сколько клиентов ушло\n",
    "}).round()"
   ]
  },
  {
   "cell_type": "markdown",
   "metadata": {},
   "source": [
    "Женщины больше зарабатывают и чаще уходят. Оставим этот признак"
   ]
  },
  {
   "cell_type": "code",
   "execution_count": 12,
   "metadata": {},
   "outputs": [
    {
     "data": {
      "text/html": [
       "<div>\n",
       "<style scoped>\n",
       "    .dataframe tbody tr th:only-of-type {\n",
       "        vertical-align: middle;\n",
       "    }\n",
       "\n",
       "    .dataframe tbody tr th {\n",
       "        vertical-align: top;\n",
       "    }\n",
       "\n",
       "    .dataframe thead th {\n",
       "        text-align: right;\n",
       "    }\n",
       "</style>\n",
       "<table border=\"1\" class=\"dataframe\">\n",
       "  <thead>\n",
       "    <tr style=\"text-align: right;\">\n",
       "      <th></th>\n",
       "      <th>balance</th>\n",
       "      <th>estimatedsalary</th>\n",
       "      <th>age</th>\n",
       "      <th>exited</th>\n",
       "    </tr>\n",
       "    <tr>\n",
       "      <th>age</th>\n",
       "      <th></th>\n",
       "      <th></th>\n",
       "      <th></th>\n",
       "      <th></th>\n",
       "    </tr>\n",
       "  </thead>\n",
       "  <tbody>\n",
       "    <tr>\n",
       "      <th>46</th>\n",
       "      <td>90593.400</td>\n",
       "      <td>95714.150</td>\n",
       "      <td>226</td>\n",
       "      <td>91</td>\n",
       "    </tr>\n",
       "    <tr>\n",
       "      <th>40</th>\n",
       "      <td>97552.200</td>\n",
       "      <td>113413.290</td>\n",
       "      <td>432</td>\n",
       "      <td>89</td>\n",
       "    </tr>\n",
       "    <tr>\n",
       "      <th>43</th>\n",
       "      <td>102338.190</td>\n",
       "      <td>98586.140</td>\n",
       "      <td>297</td>\n",
       "      <td>88</td>\n",
       "    </tr>\n",
       "    <tr>\n",
       "      <th>45</th>\n",
       "      <td>102703.620</td>\n",
       "      <td>115719.080</td>\n",
       "      <td>229</td>\n",
       "      <td>87</td>\n",
       "    </tr>\n",
       "    <tr>\n",
       "      <th>48</th>\n",
       "      <td>106822.085</td>\n",
       "      <td>103712.990</td>\n",
       "      <td>168</td>\n",
       "      <td>80</td>\n",
       "    </tr>\n",
       "    <tr>\n",
       "      <th>42</th>\n",
       "      <td>95386.820</td>\n",
       "      <td>91429.740</td>\n",
       "      <td>321</td>\n",
       "      <td>77</td>\n",
       "    </tr>\n",
       "    <tr>\n",
       "      <th>47</th>\n",
       "      <td>103894.380</td>\n",
       "      <td>107625.460</td>\n",
       "      <td>175</td>\n",
       "      <td>77</td>\n",
       "    </tr>\n",
       "    <tr>\n",
       "      <th>49</th>\n",
       "      <td>106160.370</td>\n",
       "      <td>116249.720</td>\n",
       "      <td>147</td>\n",
       "      <td>75</td>\n",
       "    </tr>\n",
       "    <tr>\n",
       "      <th>44</th>\n",
       "      <td>98862.540</td>\n",
       "      <td>94862.930</td>\n",
       "      <td>257</td>\n",
       "      <td>73</td>\n",
       "    </tr>\n",
       "    <tr>\n",
       "      <th>39</th>\n",
       "      <td>94968.970</td>\n",
       "      <td>94711.430</td>\n",
       "      <td>423</td>\n",
       "      <td>72</td>\n",
       "    </tr>\n",
       "    <tr>\n",
       "      <th>50</th>\n",
       "      <td>104679.480</td>\n",
       "      <td>90879.290</td>\n",
       "      <td>134</td>\n",
       "      <td>71</td>\n",
       "    </tr>\n",
       "    <tr>\n",
       "      <th>41</th>\n",
       "      <td>95358.660</td>\n",
       "      <td>111727.170</td>\n",
       "      <td>366</td>\n",
       "      <td>69</td>\n",
       "    </tr>\n",
       "    <tr>\n",
       "      <th>51</th>\n",
       "      <td>105056.130</td>\n",
       "      <td>92406.220</td>\n",
       "      <td>119</td>\n",
       "      <td>66</td>\n",
       "    </tr>\n",
       "    <tr>\n",
       "      <th>52</th>\n",
       "      <td>96488.815</td>\n",
       "      <td>105188.035</td>\n",
       "      <td>102</td>\n",
       "      <td>64</td>\n",
       "    </tr>\n",
       "    <tr>\n",
       "      <th>38</th>\n",
       "      <td>96858.350</td>\n",
       "      <td>91094.460</td>\n",
       "      <td>477</td>\n",
       "      <td>63</td>\n",
       "    </tr>\n",
       "  </tbody>\n",
       "</table>\n",
       "</div>"
      ],
      "text/plain": [
       "        balance  estimatedsalary  age  exited\n",
       "age                                          \n",
       "46    90593.400        95714.150  226      91\n",
       "40    97552.200       113413.290  432      89\n",
       "43   102338.190        98586.140  297      88\n",
       "45   102703.620       115719.080  229      87\n",
       "48   106822.085       103712.990  168      80\n",
       "42    95386.820        91429.740  321      77\n",
       "47   103894.380       107625.460  175      77\n",
       "49   106160.370       116249.720  147      75\n",
       "44    98862.540        94862.930  257      73\n",
       "39    94968.970        94711.430  423      72\n",
       "50   104679.480        90879.290  134      71\n",
       "41    95358.660       111727.170  366      69\n",
       "51   105056.130        92406.220  119      66\n",
       "52    96488.815       105188.035  102      64\n",
       "38    96858.350        91094.460  477      63"
      ]
     },
     "execution_count": 12,
     "metadata": {},
     "output_type": "execute_result"
    }
   ],
   "source": [
    "df_raw.groupby('age').agg({\n",
    "    'balance':'median',# медианный баланс\n",
    "    'estimatedsalary':'median',# медианная зарплата\n",
    "    'age':'count',# сколько клиентов в стране\n",
    "    'exited':'sum'# сколько клиентов ушло\n",
    "}).sort_values(by='exited', ascending=False).head(15)"
   ]
  },
  {
   "cell_type": "markdown",
   "metadata": {},
   "source": [
    "Люди среднего возраста тоже сколонны уходить"
   ]
  },
  {
   "cell_type": "markdown",
   "metadata": {},
   "source": [
    "### Подготовка выборок\n",
    "Разобьем датасет на признаки и целевой признак."
   ]
  },
  {
   "cell_type": "code",
   "execution_count": 13,
   "metadata": {},
   "outputs": [],
   "source": [
    "target = df_raw['exited']\n",
    "features = df_raw.drop(columns='exited', axis=1)"
   ]
  },
  {
   "cell_type": "markdown",
   "metadata": {},
   "source": [
    "#### Прямое кодирование OHE"
   ]
  },
  {
   "cell_type": "code",
   "execution_count": 14,
   "metadata": {},
   "outputs": [
    {
     "data": {
      "text/html": [
       "<div>\n",
       "<style scoped>\n",
       "    .dataframe tbody tr th:only-of-type {\n",
       "        vertical-align: middle;\n",
       "    }\n",
       "\n",
       "    .dataframe tbody tr th {\n",
       "        vertical-align: top;\n",
       "    }\n",
       "\n",
       "    .dataframe thead th {\n",
       "        text-align: right;\n",
       "    }\n",
       "</style>\n",
       "<table border=\"1\" class=\"dataframe\">\n",
       "  <thead>\n",
       "    <tr style=\"text-align: right;\">\n",
       "      <th></th>\n",
       "      <th>creditscore</th>\n",
       "      <th>age</th>\n",
       "      <th>tenure</th>\n",
       "      <th>balance</th>\n",
       "      <th>numofproducts</th>\n",
       "      <th>hascrcard</th>\n",
       "      <th>isactivemember</th>\n",
       "      <th>estimatedsalary</th>\n",
       "      <th>geography_germany</th>\n",
       "      <th>geography_spain</th>\n",
       "      <th>gender_male</th>\n",
       "    </tr>\n",
       "  </thead>\n",
       "  <tbody>\n",
       "    <tr>\n",
       "      <th>0</th>\n",
       "      <td>619</td>\n",
       "      <td>42</td>\n",
       "      <td>2.0</td>\n",
       "      <td>0.00</td>\n",
       "      <td>1</td>\n",
       "      <td>1</td>\n",
       "      <td>1</td>\n",
       "      <td>101348.88</td>\n",
       "      <td>0</td>\n",
       "      <td>0</td>\n",
       "      <td>0</td>\n",
       "    </tr>\n",
       "    <tr>\n",
       "      <th>1</th>\n",
       "      <td>608</td>\n",
       "      <td>41</td>\n",
       "      <td>1.0</td>\n",
       "      <td>83807.86</td>\n",
       "      <td>1</td>\n",
       "      <td>0</td>\n",
       "      <td>1</td>\n",
       "      <td>112542.58</td>\n",
       "      <td>0</td>\n",
       "      <td>1</td>\n",
       "      <td>0</td>\n",
       "    </tr>\n",
       "    <tr>\n",
       "      <th>2</th>\n",
       "      <td>502</td>\n",
       "      <td>42</td>\n",
       "      <td>8.0</td>\n",
       "      <td>159660.80</td>\n",
       "      <td>3</td>\n",
       "      <td>1</td>\n",
       "      <td>0</td>\n",
       "      <td>113931.57</td>\n",
       "      <td>0</td>\n",
       "      <td>0</td>\n",
       "      <td>0</td>\n",
       "    </tr>\n",
       "    <tr>\n",
       "      <th>3</th>\n",
       "      <td>699</td>\n",
       "      <td>39</td>\n",
       "      <td>1.0</td>\n",
       "      <td>0.00</td>\n",
       "      <td>2</td>\n",
       "      <td>0</td>\n",
       "      <td>0</td>\n",
       "      <td>93826.63</td>\n",
       "      <td>0</td>\n",
       "      <td>0</td>\n",
       "      <td>0</td>\n",
       "    </tr>\n",
       "    <tr>\n",
       "      <th>4</th>\n",
       "      <td>850</td>\n",
       "      <td>43</td>\n",
       "      <td>2.0</td>\n",
       "      <td>125510.82</td>\n",
       "      <td>1</td>\n",
       "      <td>1</td>\n",
       "      <td>1</td>\n",
       "      <td>79084.10</td>\n",
       "      <td>0</td>\n",
       "      <td>1</td>\n",
       "      <td>0</td>\n",
       "    </tr>\n",
       "  </tbody>\n",
       "</table>\n",
       "</div>"
      ],
      "text/plain": [
       "   creditscore  age  tenure    balance  numofproducts  hascrcard  \\\n",
       "0          619   42     2.0       0.00              1          1   \n",
       "1          608   41     1.0   83807.86              1          0   \n",
       "2          502   42     8.0  159660.80              3          1   \n",
       "3          699   39     1.0       0.00              2          0   \n",
       "4          850   43     2.0  125510.82              1          1   \n",
       "\n",
       "   isactivemember  estimatedsalary  geography_germany  geography_spain  \\\n",
       "0               1        101348.88                  0                0   \n",
       "1               1        112542.58                  0                1   \n",
       "2               0        113931.57                  0                0   \n",
       "3               0         93826.63                  0                0   \n",
       "4               1         79084.10                  0                1   \n",
       "\n",
       "   gender_male  \n",
       "0            0  \n",
       "1            0  \n",
       "2            0  \n",
       "3            0  \n",
       "4            0  "
      ]
     },
     "execution_count": 14,
     "metadata": {},
     "output_type": "execute_result"
    }
   ],
   "source": [
    "# прямое кодирование OHE\n",
    "features = pd.get_dummies(\n",
    "    features,\n",
    "    drop_first=True # избегаем dummy-ловушки\n",
    ")\n",
    "\n",
    "# приводим к нижнему регистру\n",
    "features.columns = features.columns.str.lower()\n",
    "\n",
    "features.head()"
   ]
  },
  {
   "cell_type": "markdown",
   "metadata": {},
   "source": [
    "#### Разбивка выборок"
   ]
  },
  {
   "cell_type": "code",
   "execution_count": 15,
   "metadata": {},
   "outputs": [
    {
     "name": "stdout",
     "output_type": "stream",
     "text": [
      "(6000, 11)\n",
      "(6000,)\n"
     ]
    }
   ],
   "source": [
    "train_features, valid_features, train_target, valid_target = train_test_split(\n",
    "    features,\n",
    "    target,\n",
    "    train_size=0.6,\n",
    "    test_size=0.4,\n",
    "    random_state=2022\n",
    ")\n",
    "print(train_features.shape)\n",
    "print(train_target.shape)"
   ]
  },
  {
   "cell_type": "markdown",
   "metadata": {},
   "source": [
    "Создадим тестовую выборку"
   ]
  },
  {
   "cell_type": "code",
   "execution_count": 16,
   "metadata": {},
   "outputs": [
    {
     "name": "stdout",
     "output_type": "stream",
     "text": [
      "(2000, 11)\n",
      "(2000,)\n",
      "(2000, 11)\n",
      "(2000,)\n"
     ]
    }
   ],
   "source": [
    "valid_features, test_features, valid_target, test_target = train_test_split(\n",
    "    valid_features, valid_target, test_size=0.5, random_state=2022)\n",
    "\n",
    "print(valid_features.shape)\n",
    "print(valid_target.shape)\n",
    "print(test_features.shape)\n",
    "print(test_target.shape)"
   ]
  },
  {
   "cell_type": "markdown",
   "metadata": {},
   "source": [
    "#### Масштабирование признаков"
   ]
  },
  {
   "cell_type": "code",
   "execution_count": 17,
   "metadata": {},
   "outputs": [],
   "source": [
    "numeric = ['creditscore', 'age', 'tenure',\n",
    "           'balance', 'numofproducts', 'hascrcard', 'isactivemember','estimatedsalary']\n",
    "\n",
    "# масштабирование признаков обучающей выборки\n",
    "scaler = StandardScaler()\n",
    "\n",
    "# обучаем стандартизатор на обучающей выборке\n",
    "scaler.fit(train_features[numeric])\n",
    "#=======================================================\n",
    "# применяем пправила к выборке\n",
    "train_features[numeric] = scaler.transform(train_features[numeric])\n",
    "\n",
    "# масштабирование признаков валидационной выборки\n",
    "valid_features[numeric] = scaler.transform(valid_features[numeric])\n",
    "\n",
    "# масштабирование признаков тестовой выборки\n",
    "test_features[numeric] = scaler.transform(test_features[numeric])"
   ]
  },
  {
   "cell_type": "code",
   "execution_count": 18,
   "metadata": {},
   "outputs": [
    {
     "data": {
      "text/html": [
       "<div>\n",
       "<style scoped>\n",
       "    .dataframe tbody tr th:only-of-type {\n",
       "        vertical-align: middle;\n",
       "    }\n",
       "\n",
       "    .dataframe tbody tr th {\n",
       "        vertical-align: top;\n",
       "    }\n",
       "\n",
       "    .dataframe thead th {\n",
       "        text-align: right;\n",
       "    }\n",
       "</style>\n",
       "<table border=\"1\" class=\"dataframe\">\n",
       "  <thead>\n",
       "    <tr style=\"text-align: right;\">\n",
       "      <th></th>\n",
       "      <th>creditscore</th>\n",
       "      <th>age</th>\n",
       "      <th>tenure</th>\n",
       "      <th>balance</th>\n",
       "      <th>numofproducts</th>\n",
       "      <th>hascrcard</th>\n",
       "      <th>isactivemember</th>\n",
       "      <th>estimatedsalary</th>\n",
       "      <th>geography_germany</th>\n",
       "      <th>geography_spain</th>\n",
       "      <th>gender_male</th>\n",
       "    </tr>\n",
       "  </thead>\n",
       "  <tbody>\n",
       "    <tr>\n",
       "      <th>5678</th>\n",
       "      <td>-0.224339</td>\n",
       "      <td>-0.554332</td>\n",
       "      <td>1.408816</td>\n",
       "      <td>-1.222968</td>\n",
       "      <td>0.822903</td>\n",
       "      <td>0.638584</td>\n",
       "      <td>-1.042572</td>\n",
       "      <td>-0.615261</td>\n",
       "      <td>0</td>\n",
       "      <td>0</td>\n",
       "      <td>1</td>\n",
       "    </tr>\n",
       "    <tr>\n",
       "      <th>1617</th>\n",
       "      <td>-0.982105</td>\n",
       "      <td>0.115806</td>\n",
       "      <td>-0.183966</td>\n",
       "      <td>-1.222968</td>\n",
       "      <td>0.822903</td>\n",
       "      <td>-1.565964</td>\n",
       "      <td>0.959166</td>\n",
       "      <td>0.092934</td>\n",
       "      <td>0</td>\n",
       "      <td>1</td>\n",
       "      <td>0</td>\n",
       "    </tr>\n",
       "    <tr>\n",
       "      <th>1677</th>\n",
       "      <td>1.374238</td>\n",
       "      <td>0.115806</td>\n",
       "      <td>1.090260</td>\n",
       "      <td>-1.222968</td>\n",
       "      <td>0.822903</td>\n",
       "      <td>0.638584</td>\n",
       "      <td>-1.042572</td>\n",
       "      <td>0.153206</td>\n",
       "      <td>0</td>\n",
       "      <td>1</td>\n",
       "      <td>0</td>\n",
       "    </tr>\n",
       "    <tr>\n",
       "      <th>7092</th>\n",
       "      <td>1.104348</td>\n",
       "      <td>0.115806</td>\n",
       "      <td>-0.502523</td>\n",
       "      <td>-1.222968</td>\n",
       "      <td>0.822903</td>\n",
       "      <td>-1.565964</td>\n",
       "      <td>-1.042572</td>\n",
       "      <td>-0.069798</td>\n",
       "      <td>0</td>\n",
       "      <td>1</td>\n",
       "      <td>1</td>\n",
       "    </tr>\n",
       "    <tr>\n",
       "      <th>7885</th>\n",
       "      <td>1.457281</td>\n",
       "      <td>0.307274</td>\n",
       "      <td>-1.458193</td>\n",
       "      <td>0.361042</td>\n",
       "      <td>0.822903</td>\n",
       "      <td>0.638584</td>\n",
       "      <td>-1.042572</td>\n",
       "      <td>-0.922820</td>\n",
       "      <td>0</td>\n",
       "      <td>0</td>\n",
       "      <td>0</td>\n",
       "    </tr>\n",
       "  </tbody>\n",
       "</table>\n",
       "</div>"
      ],
      "text/plain": [
       "      creditscore       age    tenure   balance  numofproducts  hascrcard  \\\n",
       "5678    -0.224339 -0.554332  1.408816 -1.222968       0.822903   0.638584   \n",
       "1617    -0.982105  0.115806 -0.183966 -1.222968       0.822903  -1.565964   \n",
       "1677     1.374238  0.115806  1.090260 -1.222968       0.822903   0.638584   \n",
       "7092     1.104348  0.115806 -0.502523 -1.222968       0.822903  -1.565964   \n",
       "7885     1.457281  0.307274 -1.458193  0.361042       0.822903   0.638584   \n",
       "\n",
       "      isactivemember  estimatedsalary  geography_germany  geography_spain  \\\n",
       "5678       -1.042572        -0.615261                  0                0   \n",
       "1617        0.959166         0.092934                  0                1   \n",
       "1677       -1.042572         0.153206                  0                1   \n",
       "7092       -1.042572        -0.069798                  0                1   \n",
       "7885       -1.042572        -0.922820                  0                0   \n",
       "\n",
       "      gender_male  \n",
       "5678            1  \n",
       "1617            0  \n",
       "1677            0  \n",
       "7092            1  \n",
       "7885            0  "
      ]
     },
     "execution_count": 18,
     "metadata": {},
     "output_type": "execute_result"
    }
   ],
   "source": [
    "train_features.head()"
   ]
  },
  {
   "cell_type": "markdown",
   "metadata": {},
   "source": [
    "### Вывод\n",
    "* Данные изучены и подготовлены к работе.\n",
    "* Созданы выборки необходимые для обучения и проверки модели.\n",
    "* Признаки закодированы и отмасштабированы."
   ]
  },
  {
   "cell_type": "markdown",
   "metadata": {},
   "source": [
    "## Исследование задачи"
   ]
  },
  {
   "cell_type": "markdown",
   "metadata": {},
   "source": [
    "Обучим наши модели на \"сырых данных\". Посмотрим на баланс целевых признаков"
   ]
  },
  {
   "cell_type": "code",
   "execution_count": 19,
   "metadata": {},
   "outputs": [
    {
     "data": {
      "text/html": [
       "<div>\n",
       "<style scoped>\n",
       "    .dataframe tbody tr th:only-of-type {\n",
       "        vertical-align: middle;\n",
       "    }\n",
       "\n",
       "    .dataframe tbody tr th {\n",
       "        vertical-align: top;\n",
       "    }\n",
       "\n",
       "    .dataframe thead th {\n",
       "        text-align: right;\n",
       "    }\n",
       "</style>\n",
       "<table border=\"1\" class=\"dataframe\">\n",
       "  <thead>\n",
       "    <tr style=\"text-align: right;\">\n",
       "      <th></th>\n",
       "      <th>абсолют</th>\n",
       "      <th>относит</th>\n",
       "    </tr>\n",
       "  </thead>\n",
       "  <tbody>\n",
       "    <tr>\n",
       "      <th>0</th>\n",
       "      <td>7963</td>\n",
       "      <td>0.8</td>\n",
       "    </tr>\n",
       "    <tr>\n",
       "      <th>1</th>\n",
       "      <td>2037</td>\n",
       "      <td>0.2</td>\n",
       "    </tr>\n",
       "  </tbody>\n",
       "</table>\n",
       "</div>"
      ],
      "text/plain": [
       "   абсолют  относит\n",
       "0     7963      0.8\n",
       "1     2037      0.2"
      ]
     },
     "execution_count": 19,
     "metadata": {},
     "output_type": "execute_result"
    }
   ],
   "source": [
    "df = pd.concat(\n",
    "    [\n",
    "        df_raw['exited'].value_counts().round(2),\n",
    "        df_raw['exited'].value_counts(normalize=True).round(2),\n",
    "    ], axis=1,\n",
    "         )\n",
    "df.columns = ['абсолют','относит']\n",
    "df"
   ]
  },
  {
   "cell_type": "markdown",
   "metadata": {},
   "source": [
    "Как видно, наш датасет несбланасирован. Исследуем модели"
   ]
  },
  {
   "cell_type": "code",
   "execution_count": 20,
   "metadata": {},
   "outputs": [],
   "source": [
    "# датафрейм для хранения лучших результатов обучения\n",
    "df_train_result = pd.DataFrame(\n",
    "    columns=['F1_raw', 'AUC_ROC_raw', '|',\n",
    "             'F1_balanced', 'AUC_ROC_balanced', '|',\n",
    "             'F1_up', 'AUC_ROC_up', '|',\n",
    "             'F1_down', 'AUC_ROC_down',\n",
    "            ],\n",
    "    \n",
    "    index=['решающее_дерево',\n",
    "           'случайный_лес',\n",
    "           'логистическая_регрессия']\n",
    ")\n",
    "df_train_result['|'] =  '|'"
   ]
  },
  {
   "cell_type": "markdown",
   "metadata": {},
   "source": [
    "### Решающее дерево"
   ]
  },
  {
   "cell_type": "code",
   "execution_count": 21,
   "metadata": {
    "scrolled": false
   },
   "outputs": [
    {
     "data": {
      "application/vnd.jupyter.widget-view+json": {
       "model_id": "02db21ef1d7b40deb5a86b2e63ae66cb",
       "version_major": 2,
       "version_minor": 0
      },
      "text/plain": [
       "  0%|          | 0/25 [00:00<?, ?it/s]"
      ]
     },
     "metadata": {},
     "output_type": "display_data"
    },
    {
     "name": "stdout",
     "output_type": "stream",
     "text": [
      "max_depth = 11 \n",
      "F1_score = 0.5844504021447722 \n",
      "auc_roc = 0.7859147931181272\n"
     ]
    },
    {
     "data": {
      "text/plain": [
       "<Figure size 432x288 with 0 Axes>"
      ]
     },
     "metadata": {},
     "output_type": "display_data"
    },
    {
     "data": {
      "image/png": "[encoded data removed]",
      "text/plain": [
       "<Figure size 648x648 with 1 Axes>"
      ]
     },
     "metadata": {
      "needs_background": "light"
     },
     "output_type": "display_data"
    },
    {
     "data": {
      "text/html": [
       "<div>\n",
       "<style scoped>\n",
       "    .dataframe tbody tr th:only-of-type {\n",
       "        vertical-align: middle;\n",
       "    }\n",
       "\n",
       "    .dataframe tbody tr th {\n",
       "        vertical-align: top;\n",
       "    }\n",
       "\n",
       "    .dataframe thead th {\n",
       "        text-align: right;\n",
       "    }\n",
       "</style>\n",
       "<table border=\"1\" class=\"dataframe\">\n",
       "  <thead>\n",
       "    <tr style=\"text-align: right;\">\n",
       "      <th></th>\n",
       "    </tr>\n",
       "  </thead>\n",
       "  <tbody>\n",
       "  </tbody>\n",
       "</table>\n",
       "</div>"
      ],
      "text/plain": [
       "Empty DataFrame\n",
       "Columns: []\n",
       "Index: []"
      ]
     },
     "metadata": {},
     "output_type": "display_data"
    },
    {
     "data": {
      "text/html": [
       "<div>\n",
       "<style scoped>\n",
       "    .dataframe tbody tr th:only-of-type {\n",
       "        vertical-align: middle;\n",
       "    }\n",
       "\n",
       "    .dataframe tbody tr th {\n",
       "        vertical-align: top;\n",
       "    }\n",
       "\n",
       "    .dataframe thead th {\n",
       "        text-align: right;\n",
       "    }\n",
       "</style>\n",
       "<table border=\"1\" class=\"dataframe\">\n",
       "  <thead>\n",
       "    <tr style=\"text-align: right;\">\n",
       "      <th></th>\n",
       "      <th>max_depth</th>\n",
       "      <th>F1_score</th>\n",
       "      <th>AUC_ROC</th>\n",
       "    </tr>\n",
       "  </thead>\n",
       "  <tbody>\n",
       "    <tr>\n",
       "      <th>0</th>\n",
       "      <td>1.0</td>\n",
       "      <td>0.0</td>\n",
       "      <td>0.680946</td>\n",
       "    </tr>\n",
       "    <tr>\n",
       "      <th>1</th>\n",
       "      <td>2.0</td>\n",
       "      <td>0.538244</td>\n",
       "      <td>0.748</td>\n",
       "    </tr>\n",
       "    <tr>\n",
       "      <th>2</th>\n",
       "      <td>3.0</td>\n",
       "      <td>0.390892</td>\n",
       "      <td>0.802473</td>\n",
       "    </tr>\n",
       "    <tr>\n",
       "      <th>3</th>\n",
       "      <td>4.0</td>\n",
       "      <td>0.535658</td>\n",
       "      <td>0.822047</td>\n",
       "    </tr>\n",
       "    <tr>\n",
       "      <th>4</th>\n",
       "      <td>5.0</td>\n",
       "      <td>0.544872</td>\n",
       "      <td>0.847202</td>\n",
       "    </tr>\n",
       "    <tr>\n",
       "      <th>5</th>\n",
       "      <td>6.0</td>\n",
       "      <td>0.549206</td>\n",
       "      <td>0.838979</td>\n",
       "    </tr>\n",
       "    <tr>\n",
       "      <th>6</th>\n",
       "      <td>7.0</td>\n",
       "      <td>0.57958</td>\n",
       "      <td>0.840072</td>\n",
       "    </tr>\n",
       "    <tr>\n",
       "      <th>7</th>\n",
       "      <td>8.0</td>\n",
       "      <td>0.580838</td>\n",
       "      <td>0.836105</td>\n",
       "    </tr>\n",
       "    <tr>\n",
       "      <th>8</th>\n",
       "      <td>9.0</td>\n",
       "      <td>0.570175</td>\n",
       "      <td>0.812403</td>\n",
       "    </tr>\n",
       "    <tr>\n",
       "      <th>9</th>\n",
       "      <td>10.0</td>\n",
       "      <td>0.573333</td>\n",
       "      <td>0.800446</td>\n",
       "    </tr>\n",
       "    <tr>\n",
       "      <th>10</th>\n",
       "      <td>11.0</td>\n",
       "      <td>0.58445</td>\n",
       "      <td>0.785915</td>\n",
       "    </tr>\n",
       "    <tr>\n",
       "      <th>11</th>\n",
       "      <td>12.0</td>\n",
       "      <td>0.538765</td>\n",
       "      <td>0.766441</td>\n",
       "    </tr>\n",
       "    <tr>\n",
       "      <th>12</th>\n",
       "      <td>13.0</td>\n",
       "      <td>0.517766</td>\n",
       "      <td>0.735602</td>\n",
       "    </tr>\n",
       "    <tr>\n",
       "      <th>13</th>\n",
       "      <td>14.0</td>\n",
       "      <td>0.515971</td>\n",
       "      <td>0.722242</td>\n",
       "    </tr>\n",
       "    <tr>\n",
       "      <th>14</th>\n",
       "      <td>15.0</td>\n",
       "      <td>0.521635</td>\n",
       "      <td>0.708489</td>\n",
       "    </tr>\n",
       "    <tr>\n",
       "      <th>15</th>\n",
       "      <td>16.0</td>\n",
       "      <td>0.526442</td>\n",
       "      <td>0.700063</td>\n",
       "    </tr>\n",
       "    <tr>\n",
       "      <th>16</th>\n",
       "      <td>17.0</td>\n",
       "      <td>0.516129</td>\n",
       "      <td>0.694592</td>\n",
       "    </tr>\n",
       "    <tr>\n",
       "      <th>17</th>\n",
       "      <td>18.0</td>\n",
       "      <td>0.52205</td>\n",
       "      <td>0.696518</td>\n",
       "    </tr>\n",
       "    <tr>\n",
       "      <th>18</th>\n",
       "      <td>19.0</td>\n",
       "      <td>0.52205</td>\n",
       "      <td>0.696357</td>\n",
       "    </tr>\n",
       "    <tr>\n",
       "      <th>19</th>\n",
       "      <td>20.0</td>\n",
       "      <td>0.515222</td>\n",
       "      <td>0.694818</td>\n",
       "    </tr>\n",
       "    <tr>\n",
       "      <th>20</th>\n",
       "      <td>21.0</td>\n",
       "      <td>0.51074</td>\n",
       "      <td>0.691213</td>\n",
       "    </tr>\n",
       "    <tr>\n",
       "      <th>21</th>\n",
       "      <td>22.0</td>\n",
       "      <td>0.51074</td>\n",
       "      <td>0.691213</td>\n",
       "    </tr>\n",
       "    <tr>\n",
       "      <th>22</th>\n",
       "      <td>23.0</td>\n",
       "      <td>0.51074</td>\n",
       "      <td>0.691213</td>\n",
       "    </tr>\n",
       "    <tr>\n",
       "      <th>23</th>\n",
       "      <td>24.0</td>\n",
       "      <td>0.51074</td>\n",
       "      <td>0.691213</td>\n",
       "    </tr>\n",
       "    <tr>\n",
       "      <th>24</th>\n",
       "      <td>25.0</td>\n",
       "      <td>0.51074</td>\n",
       "      <td>0.691213</td>\n",
       "    </tr>\n",
       "  </tbody>\n",
       "</table>\n",
       "</div>"
      ],
      "text/plain": [
       "   max_depth  F1_score   AUC_ROC\n",
       "0        1.0       0.0  0.680946\n",
       "1        2.0  0.538244     0.748\n",
       "2        3.0  0.390892  0.802473\n",
       "3        4.0  0.535658  0.822047\n",
       "4        5.0  0.544872  0.847202\n",
       "5        6.0  0.549206  0.838979\n",
       "6        7.0   0.57958  0.840072\n",
       "7        8.0  0.580838  0.836105\n",
       "8        9.0  0.570175  0.812403\n",
       "9       10.0  0.573333  0.800446\n",
       "10      11.0   0.58445  0.785915\n",
       "11      12.0  0.538765  0.766441\n",
       "12      13.0  0.517766  0.735602\n",
       "13      14.0  0.515971  0.722242\n",
       "14      15.0  0.521635  0.708489\n",
       "15      16.0  0.526442  0.700063\n",
       "16      17.0  0.516129  0.694592\n",
       "17      18.0   0.52205  0.696518\n",
       "18      19.0   0.52205  0.696357\n",
       "19      20.0  0.515222  0.694818\n",
       "20      21.0   0.51074  0.691213\n",
       "21      22.0   0.51074  0.691213\n",
       "22      23.0   0.51074  0.691213\n",
       "23      24.0   0.51074  0.691213\n",
       "24      25.0   0.51074  0.691213"
      ]
     },
     "metadata": {},
     "output_type": "display_data"
    }
   ],
   "source": [
    "# используем датафрейм для неаглядности\n",
    "df_temp = pd.DataFrame(\n",
    "    columns=['max_depth', 'F1_score', 'AUC_ROC']\n",
    ")\n",
    "\n",
    "best_raw_tree_model = 0\n",
    "best_tree_depth = 0\n",
    "best_tree_result = 0\n",
    "best_tree_aucroc = 0\n",
    "\n",
    "for depth in tqdm_notebook(range(1, 26, 1)):\n",
    "    model = DecisionTreeClassifier(\n",
    "        max_depth=depth,\n",
    "        random_state=2022)\n",
    "    \n",
    "    model.fit(train_features, train_target)\n",
    "    \n",
    "    prediction_tree = model.predict(valid_features)\n",
    "    result = f1_score(valid_target, prediction_tree)\n",
    "    \n",
    "    probabilities = model.predict_proba(valid_features)\n",
    "    probabilities_one = probabilities[:,1]\n",
    "    auc_roc = roc_auc_score(valid_target, probabilities_one)\n",
    "    \n",
    "    df_temp = df_temp.append(\n",
    "        {'max_depth': depth, 'F1_score':result, 'AUC_ROC':auc_roc}, ignore_index=True\n",
    "    )\n",
    "        \n",
    "    if result > best_tree_result:\n",
    "        best_tree_result = result\n",
    "        best_tree_depth = depth\n",
    "        best_raw_tree_model = model\n",
    "        best_tree_aucroc = auc_roc\n",
    "        \n",
    "print(\n",
    "    \"max_depth =\", best_tree_depth,\n",
    "    \"\\nF1_score =\", best_tree_result,\n",
    "    \"\\nauc_roc =\", best_tree_aucroc\n",
    ")\n",
    "\n",
    "df_train_result.loc['решающее_дерево', 'F1_raw'] = best_tree_result\n",
    "df_train_result.loc['решающее_дерево', 'AUC_ROC_raw'] = best_tree_aucroc\n",
    "\n",
    "n=0.05\n",
    "m=0.05\n",
    "np_xticks = np.arange(0, 1+2*m, n)\n",
    "np_yticks = np.arange(0, 1+2*m, n)\n",
    "\n",
    "plt.figure()\n",
    "(\n",
    "    df_temp\n",
    "    .round(4) # округляем\n",
    "    .sort_values(by='F1_score') # сортируем по F1\n",
    "    .plot(\n",
    "        kind='scatter',\n",
    "        x='F1_score',\n",
    "        y='AUC_ROC',\n",
    "        figsize=(9,9),\n",
    "        xlim=(0, 0.6),\n",
    "        ylim=(0.4, 1),\n",
    "        grid=True,\n",
    "        rot=45,\n",
    "        yticks=np_yticks,\n",
    "        xticks=np_xticks\n",
    "));\n",
    "\n",
    "plt.title('Зависимость AUC-ROC от F1_score')\n",
    "plt.show()\n",
    "display(df_temp.corr().round(2))\n",
    "display(df_temp)"
   ]
  },
  {
   "cell_type": "raw",
   "metadata": {},
   "source": [
    "ax=df_temp.plot(x='max_depth',y='F1_score', kind='bar', figsize=(15,6), color='lightblue', ylim=(0.35,0.6))\n",
    "ax1=ax.twinx() #Создание второй оси\n",
    "df_temp.plot(y='AUC_ROC', ax=ax1, color='red');"
   ]
  },
  {
   "cell_type": "raw",
   "metadata": {},
   "source": [
    "ax=df_temp.plot(x='max_depth',y='F1_score', kind='bar', figsize=(15,6), color='blue', alpha=0.6)\n",
    "df_temp.plot(y='AUC_ROC', color='red', ax=ax, kind='bar', alpha=0.4);"
   ]
  },
  {
   "cell_type": "markdown",
   "metadata": {},
   "source": [
    "### Случайный лес"
   ]
  },
  {
   "cell_type": "code",
   "execution_count": 24,
   "metadata": {
    "scrolled": false
   },
   "outputs": [
    {
     "data": {
      "application/vnd.jupyter.widget-view+json": {
       "model_id": "acbb3f93fd5047cea748b22619b6b806",
       "version_major": 2,
       "version_minor": 0
      },
      "text/plain": [
       "  0%|          | 0/30 [00:00<?, ?it/s]"
      ]
     },
     "metadata": {},
     "output_type": "display_data"
    },
    {
     "name": "stdout",
     "output_type": "stream",
     "text": [
      "max_depth = 19 \n",
      "F1 = 0.6153846153846154 \n",
      "auc_roc = 0.7859147931181272\n"
     ]
    },
    {
     "data": {
      "text/plain": [
       "<Figure size 432x288 with 0 Axes>"
      ]
     },
     "metadata": {},
     "output_type": "display_data"
    },
    {
     "data": {
      "image/png": "[encoded data removed]",
      "text/plain": [
       "<Figure size 648x648 with 1 Axes>"
      ]
     },
     "metadata": {
      "needs_background": "light"
     },
     "output_type": "display_data"
    },
    {
     "data": {
      "text/html": [
       "<div>\n",
       "<style scoped>\n",
       "    .dataframe tbody tr th:only-of-type {\n",
       "        vertical-align: middle;\n",
       "    }\n",
       "\n",
       "    .dataframe tbody tr th {\n",
       "        vertical-align: top;\n",
       "    }\n",
       "\n",
       "    .dataframe thead th {\n",
       "        text-align: right;\n",
       "    }\n",
       "</style>\n",
       "<table border=\"1\" class=\"dataframe\">\n",
       "  <thead>\n",
       "    <tr style=\"text-align: right;\">\n",
       "      <th></th>\n",
       "    </tr>\n",
       "  </thead>\n",
       "  <tbody>\n",
       "  </tbody>\n",
       "</table>\n",
       "</div>"
      ],
      "text/plain": [
       "Empty DataFrame\n",
       "Columns: []\n",
       "Index: []"
      ]
     },
     "metadata": {},
     "output_type": "display_data"
    },
    {
     "data": {
      "text/html": [
       "<div>\n",
       "<style scoped>\n",
       "    .dataframe tbody tr th:only-of-type {\n",
       "        vertical-align: middle;\n",
       "    }\n",
       "\n",
       "    .dataframe tbody tr th {\n",
       "        vertical-align: top;\n",
       "    }\n",
       "\n",
       "    .dataframe thead th {\n",
       "        text-align: right;\n",
       "    }\n",
       "</style>\n",
       "<table border=\"1\" class=\"dataframe\">\n",
       "  <thead>\n",
       "    <tr style=\"text-align: right;\">\n",
       "      <th></th>\n",
       "      <th>max_depth</th>\n",
       "      <th>F1_score</th>\n",
       "      <th>AUC_ROC</th>\n",
       "    </tr>\n",
       "  </thead>\n",
       "  <tbody>\n",
       "    <tr>\n",
       "      <th>0</th>\n",
       "      <td>1.0</td>\n",
       "      <td>0.0</td>\n",
       "      <td>0.80598</td>\n",
       "    </tr>\n",
       "    <tr>\n",
       "      <th>1</th>\n",
       "      <td>2.0</td>\n",
       "      <td>0.142539</td>\n",
       "      <td>0.822979</td>\n",
       "    </tr>\n",
       "    <tr>\n",
       "      <th>2</th>\n",
       "      <td>3.0</td>\n",
       "      <td>0.278119</td>\n",
       "      <td>0.836438</td>\n",
       "    </tr>\n",
       "    <tr>\n",
       "      <th>3</th>\n",
       "      <td>4.0</td>\n",
       "      <td>0.405253</td>\n",
       "      <td>0.850215</td>\n",
       "    </tr>\n",
       "    <tr>\n",
       "      <th>4</th>\n",
       "      <td>5.0</td>\n",
       "      <td>0.481416</td>\n",
       "      <td>0.860393</td>\n",
       "    </tr>\n",
       "    <tr>\n",
       "      <th>5</th>\n",
       "      <td>6.0</td>\n",
       "      <td>0.547899</td>\n",
       "      <td>0.864193</td>\n",
       "    </tr>\n",
       "    <tr>\n",
       "      <th>6</th>\n",
       "      <td>7.0</td>\n",
       "      <td>0.574675</td>\n",
       "      <td>0.871</td>\n",
       "    </tr>\n",
       "    <tr>\n",
       "      <th>7</th>\n",
       "      <td>8.0</td>\n",
       "      <td>0.562197</td>\n",
       "      <td>0.873499</td>\n",
       "    </tr>\n",
       "    <tr>\n",
       "      <th>8</th>\n",
       "      <td>9.0</td>\n",
       "      <td>0.580032</td>\n",
       "      <td>0.870329</td>\n",
       "    </tr>\n",
       "    <tr>\n",
       "      <th>9</th>\n",
       "      <td>10.0</td>\n",
       "      <td>0.584906</td>\n",
       "      <td>0.870198</td>\n",
       "    </tr>\n",
       "    <tr>\n",
       "      <th>10</th>\n",
       "      <td>11.0</td>\n",
       "      <td>0.579439</td>\n",
       "      <td>0.871708</td>\n",
       "    </tr>\n",
       "    <tr>\n",
       "      <th>11</th>\n",
       "      <td>12.0</td>\n",
       "      <td>0.595092</td>\n",
       "      <td>0.868981</td>\n",
       "    </tr>\n",
       "    <tr>\n",
       "      <th>12</th>\n",
       "      <td>13.0</td>\n",
       "      <td>0.587156</td>\n",
       "      <td>0.868884</td>\n",
       "    </tr>\n",
       "    <tr>\n",
       "      <th>13</th>\n",
       "      <td>14.0</td>\n",
       "      <td>0.583206</td>\n",
       "      <td>0.868062</td>\n",
       "    </tr>\n",
       "    <tr>\n",
       "      <th>14</th>\n",
       "      <td>15.0</td>\n",
       "      <td>0.613534</td>\n",
       "      <td>0.864109</td>\n",
       "    </tr>\n",
       "    <tr>\n",
       "      <th>15</th>\n",
       "      <td>16.0</td>\n",
       "      <td>0.591118</td>\n",
       "      <td>0.86458</td>\n",
       "    </tr>\n",
       "    <tr>\n",
       "      <th>16</th>\n",
       "      <td>17.0</td>\n",
       "      <td>0.606607</td>\n",
       "      <td>0.867768</td>\n",
       "    </tr>\n",
       "    <tr>\n",
       "      <th>17</th>\n",
       "      <td>18.0</td>\n",
       "      <td>0.600302</td>\n",
       "      <td>0.869531</td>\n",
       "    </tr>\n",
       "    <tr>\n",
       "      <th>18</th>\n",
       "      <td>19.0</td>\n",
       "      <td>0.615385</td>\n",
       "      <td>0.870623</td>\n",
       "    </tr>\n",
       "    <tr>\n",
       "      <th>19</th>\n",
       "      <td>20.0</td>\n",
       "      <td>0.607519</td>\n",
       "      <td>0.866664</td>\n",
       "    </tr>\n",
       "    <tr>\n",
       "      <th>20</th>\n",
       "      <td>21.0</td>\n",
       "      <td>0.610526</td>\n",
       "      <td>0.865082</td>\n",
       "    </tr>\n",
       "    <tr>\n",
       "      <th>21</th>\n",
       "      <td>22.0</td>\n",
       "      <td>0.604511</td>\n",
       "      <td>0.863158</td>\n",
       "    </tr>\n",
       "    <tr>\n",
       "      <th>22</th>\n",
       "      <td>23.0</td>\n",
       "      <td>0.597876</td>\n",
       "      <td>0.863474</td>\n",
       "    </tr>\n",
       "    <tr>\n",
       "      <th>23</th>\n",
       "      <td>24.0</td>\n",
       "      <td>0.603604</td>\n",
       "      <td>0.863809</td>\n",
       "    </tr>\n",
       "    <tr>\n",
       "      <th>24</th>\n",
       "      <td>25.0</td>\n",
       "      <td>0.594268</td>\n",
       "      <td>0.864929</td>\n",
       "    </tr>\n",
       "    <tr>\n",
       "      <th>25</th>\n",
       "      <td>26.0</td>\n",
       "      <td>0.60479</td>\n",
       "      <td>0.864734</td>\n",
       "    </tr>\n",
       "    <tr>\n",
       "      <th>26</th>\n",
       "      <td>27.0</td>\n",
       "      <td>0.601796</td>\n",
       "      <td>0.864716</td>\n",
       "    </tr>\n",
       "    <tr>\n",
       "      <th>27</th>\n",
       "      <td>28.0</td>\n",
       "      <td>0.599398</td>\n",
       "      <td>0.864725</td>\n",
       "    </tr>\n",
       "    <tr>\n",
       "      <th>28</th>\n",
       "      <td>29.0</td>\n",
       "      <td>0.599398</td>\n",
       "      <td>0.864725</td>\n",
       "    </tr>\n",
       "    <tr>\n",
       "      <th>29</th>\n",
       "      <td>30.0</td>\n",
       "      <td>0.599398</td>\n",
       "      <td>0.864725</td>\n",
       "    </tr>\n",
       "  </tbody>\n",
       "</table>\n",
       "</div>"
      ],
      "text/plain": [
       "   max_depth  F1_score   AUC_ROC\n",
       "0        1.0       0.0   0.80598\n",
       "1        2.0  0.142539  0.822979\n",
       "2        3.0  0.278119  0.836438\n",
       "3        4.0  0.405253  0.850215\n",
       "4        5.0  0.481416  0.860393\n",
       "5        6.0  0.547899  0.864193\n",
       "6        7.0  0.574675     0.871\n",
       "7        8.0  0.562197  0.873499\n",
       "8        9.0  0.580032  0.870329\n",
       "9       10.0  0.584906  0.870198\n",
       "10      11.0  0.579439  0.871708\n",
       "11      12.0  0.595092  0.868981\n",
       "12      13.0  0.587156  0.868884\n",
       "13      14.0  0.583206  0.868062\n",
       "14      15.0  0.613534  0.864109\n",
       "15      16.0  0.591118   0.86458\n",
       "16      17.0  0.606607  0.867768\n",
       "17      18.0  0.600302  0.869531\n",
       "18      19.0  0.615385  0.870623\n",
       "19      20.0  0.607519  0.866664\n",
       "20      21.0  0.610526  0.865082\n",
       "21      22.0  0.604511  0.863158\n",
       "22      23.0  0.597876  0.863474\n",
       "23      24.0  0.603604  0.863809\n",
       "24      25.0  0.594268  0.864929\n",
       "25      26.0   0.60479  0.864734\n",
       "26      27.0  0.601796  0.864716\n",
       "27      28.0  0.599398  0.864725\n",
       "28      29.0  0.599398  0.864725\n",
       "29      30.0  0.599398  0.864725"
      ]
     },
     "metadata": {},
     "output_type": "display_data"
    }
   ],
   "source": [
    "df_temp = df_temp.drop(df_temp.index)\n",
    "\n",
    "best_raw_forest_model = 0\n",
    "best_forest_depth = 0\n",
    "# best_forest_estimators = 0\n",
    "best_forest_result = 0\n",
    "best_forest_auc_roc = 0\n",
    "\n",
    "for depth in tqdm_notebook(range(1,31,1)):\n",
    "#     for estimators in tqdm_notebook(range(115,116,1), leave=False):\n",
    "        model = RandomForestClassifier(\n",
    "            random_state=2022,\n",
    "            max_depth=depth,\n",
    "            n_estimators = 115,# было найдено до этого\n",
    "            n_jobs=-1\n",
    "        )\n",
    "\n",
    "        model.fit(train_features, train_target)\n",
    "        prediction = model.predict(valid_features)\n",
    "        result = f1_score(valid_target, prediction)\n",
    "        \n",
    "        probabilities = model.predict_proba(valid_features)\n",
    "        probabilities_one = probabilities[:,1]\n",
    "        auc_roc = roc_auc_score(valid_target, probabilities_one)\n",
    "    \n",
    "        df_temp = df_temp.append(\n",
    "        {'max_depth': depth, 'F1_score':result, 'AUC_ROC':auc_roc}, ignore_index=True\n",
    "    )\n",
    "\n",
    "        if result > best_forest_result:\n",
    "            best_forest_result = result\n",
    "            best_forest_depth = depth\n",
    "#             best_forest_estimators = estimators\n",
    "            best_raw_forest_model = model\n",
    "    \n",
    "print(\n",
    "    \"max_depth =\", best_forest_depth,\n",
    "#     \"\\nn_estimators =\", best_forest_estimators,\n",
    "    \"\\nF1 =\", best_forest_result,\n",
    "    \"\\nauc_roc =\", best_tree_aucroc\n",
    ")\n",
    "\n",
    "df_train_result.loc['случайный_лес', 'F1_raw'] = best_forest_result\n",
    "df_train_result.loc['случайный_лес', 'AUC_ROC_raw'] = best_tree_aucroc\n",
    "\n",
    "\n",
    "plt.figure()\n",
    "(\n",
    "    df_temp\n",
    "    .round(4)\n",
    "    .sort_values(by='F1_score')\n",
    "    .plot(\n",
    "        kind='scatter',\n",
    "        x='F1_score',\n",
    "        y='AUC_ROC',\n",
    "        figsize=(9,9),\n",
    "        xlim=(0, 0.65),\n",
    "        ylim=(0.35, 1),\n",
    "        grid=True,\n",
    "        rot=45,\n",
    "        xticks=np_xticks,\n",
    "        yticks=np_yticks\n",
    "))\n",
    "plt.title('Зависимость AUC-ROC от F1_score')\n",
    "plt.show()\n",
    "display(df_temp.corr().round(2))\n",
    "display(df_temp)"
   ]
  },
  {
   "cell_type": "markdown",
   "metadata": {},
   "source": [
    "### Логистическая регрессия"
   ]
  },
  {
   "cell_type": "code",
   "execution_count": 25,
   "metadata": {},
   "outputs": [
    {
     "name": "stdout",
     "output_type": "stream",
     "text": [
      "F1_score = 0.2888086642599278 \n",
      "AUC_ROC = 0.7797173505667986\n"
     ]
    }
   ],
   "source": [
    "model_logistic = LogisticRegression(random_state=2022)\n",
    "model_logistic.fit(train_features, train_target)\n",
    "prediction = model_logistic.predict(valid_features)\n",
    "f1_logistic = f1_score(valid_target, prediction)\n",
    "\n",
    "probabilities = model_logistic.predict_proba(valid_features)\n",
    "probabilities_one_logistic = probabilities[:,1]\n",
    "logistic_auc_roc = roc_auc_score(valid_target, probabilities_one_logistic)\n",
    "print(\n",
    "    \"F1_score =\", f1_logistic,\n",
    "    \"\\nAUC_ROC =\", logistic_auc_roc\n",
    ")\n",
    "\n",
    "df_train_result.loc['логистическая_регрессия', 'F1_raw'] = f1_logistic\n",
    "df_train_result.loc['логистическая_регрессия', 'AUC_ROC_raw'] = logistic_auc_roc"
   ]
  },
  {
   "cell_type": "markdown",
   "metadata": {},
   "source": [
    "### тестирование и ROC-кривая"
   ]
  },
  {
   "cell_type": "code",
   "execution_count": 26,
   "metadata": {},
   "outputs": [
    {
     "data": {
      "text/html": [
       "<div>\n",
       "<style scoped>\n",
       "    .dataframe tbody tr th:only-of-type {\n",
       "        vertical-align: middle;\n",
       "    }\n",
       "\n",
       "    .dataframe tbody tr th {\n",
       "        vertical-align: top;\n",
       "    }\n",
       "\n",
       "    .dataframe thead th {\n",
       "        text-align: right;\n",
       "    }\n",
       "</style>\n",
       "<table border=\"1\" class=\"dataframe\">\n",
       "  <thead>\n",
       "    <tr style=\"text-align: right;\">\n",
       "      <th></th>\n",
       "      <th>F1_raw</th>\n",
       "      <th>AUC_ROC_raw</th>\n",
       "      <th>|</th>\n",
       "      <th>F1_balanced</th>\n",
       "      <th>AUC_ROC_balanced</th>\n",
       "      <th>|</th>\n",
       "      <th>F1_up</th>\n",
       "      <th>AUC_ROC_up</th>\n",
       "      <th>|</th>\n",
       "      <th>F1_down</th>\n",
       "      <th>AUC_ROC_down</th>\n",
       "    </tr>\n",
       "  </thead>\n",
       "  <tbody>\n",
       "    <tr>\n",
       "      <th>решающее_дерево</th>\n",
       "      <td>0.58445</td>\n",
       "      <td>0.785915</td>\n",
       "      <td>|</td>\n",
       "      <td>NaN</td>\n",
       "      <td>NaN</td>\n",
       "      <td>|</td>\n",
       "      <td>NaN</td>\n",
       "      <td>NaN</td>\n",
       "      <td>|</td>\n",
       "      <td>NaN</td>\n",
       "      <td>NaN</td>\n",
       "    </tr>\n",
       "    <tr>\n",
       "      <th>случайный_лес</th>\n",
       "      <td>0.615385</td>\n",
       "      <td>0.785915</td>\n",
       "      <td>|</td>\n",
       "      <td>NaN</td>\n",
       "      <td>NaN</td>\n",
       "      <td>|</td>\n",
       "      <td>NaN</td>\n",
       "      <td>NaN</td>\n",
       "      <td>|</td>\n",
       "      <td>NaN</td>\n",
       "      <td>NaN</td>\n",
       "    </tr>\n",
       "    <tr>\n",
       "      <th>логистическая_регрессия</th>\n",
       "      <td>0.288809</td>\n",
       "      <td>0.779717</td>\n",
       "      <td>|</td>\n",
       "      <td>NaN</td>\n",
       "      <td>NaN</td>\n",
       "      <td>|</td>\n",
       "      <td>NaN</td>\n",
       "      <td>NaN</td>\n",
       "      <td>|</td>\n",
       "      <td>NaN</td>\n",
       "      <td>NaN</td>\n",
       "    </tr>\n",
       "  </tbody>\n",
       "</table>\n",
       "</div>"
      ],
      "text/plain": [
       "                           F1_raw AUC_ROC_raw  | F1_balanced AUC_ROC_balanced  \\\n",
       "решающее_дерево           0.58445    0.785915  |         NaN              NaN   \n",
       "случайный_лес            0.615385    0.785915  |         NaN              NaN   \n",
       "логистическая_регрессия  0.288809    0.779717  |         NaN              NaN   \n",
       "\n",
       "                         | F1_up AUC_ROC_up  | F1_down AUC_ROC_down  \n",
       "решающее_дерево          |   NaN        NaN  |     NaN          NaN  \n",
       "случайный_лес            |   NaN        NaN  |     NaN          NaN  \n",
       "логистическая_регрессия  |   NaN        NaN  |     NaN          NaN  "
      ]
     },
     "execution_count": 26,
     "metadata": {},
     "output_type": "execute_result"
    }
   ],
   "source": [
    "df_train_result"
   ]
  },
  {
   "cell_type": "markdown",
   "metadata": {},
   "source": [
    "Как мы видим модель \"случайный лес\" - единственная модель, которая преодолела барьер f1_score=0,59"
   ]
  },
  {
   "cell_type": "markdown",
   "metadata": {},
   "source": [
    "Расммотрим AUC-ROC **всех** моделей на валидационной выборке"
   ]
  },
  {
   "cell_type": "code",
   "execution_count": 27,
   "metadata": {},
   "outputs": [],
   "source": [
    "prediction_tree_test = best_raw_tree_model.predict(valid_features)\n",
    "probabilities = best_raw_tree_model.predict_proba(valid_features)\n",
    "probabilities_one_tree_raw = probabilities[:,1]\n",
    "\n",
    "# =============================================================================\n",
    "\n",
    "prediction_forest_test = best_raw_forest_model.predict(valid_features)\n",
    "probabilities = best_raw_forest_model.predict_proba(valid_features)\n",
    "probabilities_one_forest_raw = probabilities[:,1]\n",
    "\n",
    "# =============================================================================\n",
    "                               \n",
    "prediction = model_logistic.predict(valid_features)\n",
    "probabilities = model_logistic.predict_proba(valid_features)\n",
    "probabilities_one_logistic_raw = probabilities[:,1]"
   ]
  },
  {
   "cell_type": "markdown",
   "metadata": {},
   "source": [
    "Рассмотрим кривую auc-roc **всех** моделей на валидационной выборке"
   ]
  },
  {
   "cell_type": "code",
   "execution_count": 28,
   "metadata": {},
   "outputs": [
    {
     "data": {
      "image/png": "[encoded data removed]",
      "text/plain": [
       "<Figure size 720x720 with 1 Axes>"
      ]
     },
     "metadata": {
      "needs_background": "light"
     },
     "output_type": "display_data"
    }
   ],
   "source": [
    "x=np.arange(0, 1.1, 0.1)\n",
    "\n",
    "fpr_tree_raw, tpr_tree_raw, thresholds = roc_curve(valid_target, probabilities_one_tree_raw)\n",
    "fpr_forest_raw, tpr_forest_raw, thresholds = roc_curve(valid_target, probabilities_one_forest_raw)\n",
    "fpr_logistic_raw, tpr_logistic_raw, thresholds = roc_curve(valid_target, probabilities_one_logistic_raw)\n",
    "\n",
    "fig, ax = plt.subplots()\n",
    "fig.set_figheight(10)\n",
    "fig.set_figwidth(10)\n",
    "\n",
    "ax.plot([0,1],[0,1], linestyle='--', label='случайная модель')\n",
    "ax.plot(fpr_forest_raw, tpr_forest_raw, label='случайный лес')\n",
    "ax.plot(fpr_tree_raw, tpr_tree_raw, label='решающее дерево')\n",
    "ax.plot(fpr_logistic_raw, tpr_logistic_raw, label='логистическая регрессия')\n",
    "\n",
    "plt.title('ROC-кривая на несбалансированных данных', fontsize=26)\n",
    "plt.xlabel('False Positive Rate', fontsize=16)\n",
    "plt.ylabel('True Positive Rate', fontsize=16)\n",
    "plt.xticks(x)\n",
    "plt.yticks(x)\n",
    "ax.legend(fontsize=22)\n",
    "ax.grid(True)\n",
    "\n",
    "plt.show()"
   ]
  },
  {
   "cell_type": "markdown",
   "metadata": {},
   "source": [
    "### Вывод\n",
    "В данных сущестует дисбаланс классов в отношении 1:4. Возможно он влияет на качество изучаемых моделей. Обучим модели заново, применяя различные техники устранения дисбаланса"
   ]
  },
  {
   "cell_type": "markdown",
   "metadata": {},
   "source": [
    "## Борьба с дисбалансом"
   ]
  },
  {
   "cell_type": "markdown",
   "metadata": {},
   "source": [
    "Для увеличения качества модели при дисбалансе классов существуют техники:\n",
    "* взвешивание классов,\n",
    "* upsampling,\n",
    "* downsampling."
   ]
  },
  {
   "cell_type": "markdown",
   "metadata": {},
   "source": [
    "### Взвешивание классов"
   ]
  },
  {
   "cell_type": "markdown",
   "metadata": {},
   "source": [
    "Для осуществления работы данной техники, необъодимо в качестве параметра модели указать:  \n",
    "\n",
    "model = LogisticRegression(**class_weight='balanced'**)"
   ]
  },
  {
   "cell_type": "markdown",
   "metadata": {},
   "source": [
    "#### Логистическая регрессия¶"
   ]
  },
  {
   "cell_type": "code",
   "execution_count": 29,
   "metadata": {},
   "outputs": [
    {
     "name": "stdout",
     "output_type": "stream",
     "text": [
      "F1_score = 0.5213675213675213 \n",
      "AUC_ROC = 0.780394509408266\n"
     ]
    },
    {
     "data": {
      "text/html": [
       "<div>\n",
       "<style scoped>\n",
       "    .dataframe tbody tr th:only-of-type {\n",
       "        vertical-align: middle;\n",
       "    }\n",
       "\n",
       "    .dataframe tbody tr th {\n",
       "        vertical-align: top;\n",
       "    }\n",
       "\n",
       "    .dataframe thead th {\n",
       "        text-align: right;\n",
       "    }\n",
       "</style>\n",
       "<table border=\"1\" class=\"dataframe\">\n",
       "  <thead>\n",
       "    <tr style=\"text-align: right;\">\n",
       "      <th></th>\n",
       "      <th>F1_raw</th>\n",
       "      <th>AUC_ROC_raw</th>\n",
       "      <th>|</th>\n",
       "      <th>F1_balanced</th>\n",
       "      <th>AUC_ROC_balanced</th>\n",
       "      <th>|</th>\n",
       "      <th>F1_up</th>\n",
       "      <th>AUC_ROC_up</th>\n",
       "      <th>|</th>\n",
       "      <th>F1_down</th>\n",
       "      <th>AUC_ROC_down</th>\n",
       "    </tr>\n",
       "  </thead>\n",
       "  <tbody>\n",
       "    <tr>\n",
       "      <th>решающее_дерево</th>\n",
       "      <td>0.58445</td>\n",
       "      <td>0.785915</td>\n",
       "      <td>|</td>\n",
       "      <td>NaN</td>\n",
       "      <td>NaN</td>\n",
       "      <td>|</td>\n",
       "      <td>NaN</td>\n",
       "      <td>NaN</td>\n",
       "      <td>|</td>\n",
       "      <td>NaN</td>\n",
       "      <td>NaN</td>\n",
       "    </tr>\n",
       "    <tr>\n",
       "      <th>случайный_лес</th>\n",
       "      <td>0.615385</td>\n",
       "      <td>0.785915</td>\n",
       "      <td>|</td>\n",
       "      <td>NaN</td>\n",
       "      <td>NaN</td>\n",
       "      <td>|</td>\n",
       "      <td>NaN</td>\n",
       "      <td>NaN</td>\n",
       "      <td>|</td>\n",
       "      <td>NaN</td>\n",
       "      <td>NaN</td>\n",
       "    </tr>\n",
       "    <tr>\n",
       "      <th>логистическая_регрессия</th>\n",
       "      <td>0.288809</td>\n",
       "      <td>0.779717</td>\n",
       "      <td>|</td>\n",
       "      <td>0.521368</td>\n",
       "      <td>0.780395</td>\n",
       "      <td>|</td>\n",
       "      <td>NaN</td>\n",
       "      <td>NaN</td>\n",
       "      <td>|</td>\n",
       "      <td>NaN</td>\n",
       "      <td>NaN</td>\n",
       "    </tr>\n",
       "  </tbody>\n",
       "</table>\n",
       "</div>"
      ],
      "text/plain": [
       "                           F1_raw AUC_ROC_raw  | F1_balanced AUC_ROC_balanced  \\\n",
       "решающее_дерево           0.58445    0.785915  |         NaN              NaN   \n",
       "случайный_лес            0.615385    0.785915  |         NaN              NaN   \n",
       "логистическая_регрессия  0.288809    0.779717  |    0.521368         0.780395   \n",
       "\n",
       "                         | F1_up AUC_ROC_up  | F1_down AUC_ROC_down  \n",
       "решающее_дерево          |   NaN        NaN  |     NaN          NaN  \n",
       "случайный_лес            |   NaN        NaN  |     NaN          NaN  \n",
       "логистическая_регрессия  |   NaN        NaN  |     NaN          NaN  "
      ]
     },
     "execution_count": 29,
     "metadata": {},
     "output_type": "execute_result"
    }
   ],
   "source": [
    "model_balanced_logistic = LogisticRegression(random_state=2022, class_weight='balanced')\n",
    "model_balanced_logistic.fit(train_features, train_target)\n",
    "prediction = model_balanced_logistic.predict(valid_features)\n",
    "f1_logistic = f1_score(valid_target, prediction)\n",
    "\n",
    "probabilities = model_balanced_logistic.predict_proba(valid_features)\n",
    "probabilities_one_logistic = probabilities[:,1]\n",
    "logistic_auc_roc = roc_auc_score(valid_target, probabilities_one_logistic)\n",
    "print(\n",
    "    \"F1_score =\", f1_logistic,\n",
    "    \"\\nAUC_ROC =\", logistic_auc_roc\n",
    ")\n",
    "\n",
    "df_train_result.loc['логистическая_регрессия', 'F1_balanced'] = f1_logistic\n",
    "df_train_result.loc['логистическая_регрессия', 'AUC_ROC_balanced'] = logistic_auc_roc\n",
    "\n",
    "df_train_result"
   ]
  },
  {
   "cell_type": "markdown",
   "metadata": {},
   "source": [
    "Качество модели значительно выросло. Так же выросла AUC_ROC"
   ]
  },
  {
   "cell_type": "markdown",
   "metadata": {},
   "source": [
    "#### Решающее дерево"
   ]
  },
  {
   "cell_type": "code",
   "execution_count": 30,
   "metadata": {
    "scrolled": false
   },
   "outputs": [
    {
     "data": {
      "application/vnd.jupyter.widget-view+json": {
       "model_id": "e3eb29317e174697a6c74e0de55a0c05",
       "version_major": 2,
       "version_minor": 0
      },
      "text/plain": [
       "  0%|          | 0/30 [00:00<?, ?it/s]"
      ]
     },
     "metadata": {},
     "output_type": "display_data"
    },
    {
     "name": "stdout",
     "output_type": "stream",
     "text": [
      "max_depth = 8 \n",
      "f1_score = 0.590513068731849 \n",
      "f1_score = 0.8257914199278608\n"
     ]
    },
    {
     "data": {
      "text/plain": [
       "<Figure size 432x288 with 0 Axes>"
      ]
     },
     "metadata": {},
     "output_type": "display_data"
    },
    {
     "data": {
      "image/png": "[encoded data removed]",
      "text/plain": [
       "<Figure size 648x648 with 1 Axes>"
      ]
     },
     "metadata": {
      "needs_background": "light"
     },
     "output_type": "display_data"
    },
    {
     "data": {
      "text/html": [
       "<div>\n",
       "<style scoped>\n",
       "    .dataframe tbody tr th:only-of-type {\n",
       "        vertical-align: middle;\n",
       "    }\n",
       "\n",
       "    .dataframe tbody tr th {\n",
       "        vertical-align: top;\n",
       "    }\n",
       "\n",
       "    .dataframe thead th {\n",
       "        text-align: right;\n",
       "    }\n",
       "</style>\n",
       "<table border=\"1\" class=\"dataframe\">\n",
       "  <thead>\n",
       "    <tr style=\"text-align: right;\">\n",
       "      <th></th>\n",
       "    </tr>\n",
       "  </thead>\n",
       "  <tbody>\n",
       "  </tbody>\n",
       "</table>\n",
       "</div>"
      ],
      "text/plain": [
       "Empty DataFrame\n",
       "Columns: []\n",
       "Index: []"
      ]
     },
     "metadata": {},
     "output_type": "display_data"
    },
    {
     "data": {
      "text/html": [
       "<div>\n",
       "<style scoped>\n",
       "    .dataframe tbody tr th:only-of-type {\n",
       "        vertical-align: middle;\n",
       "    }\n",
       "\n",
       "    .dataframe tbody tr th {\n",
       "        vertical-align: top;\n",
       "    }\n",
       "\n",
       "    .dataframe thead th {\n",
       "        text-align: right;\n",
       "    }\n",
       "</style>\n",
       "<table border=\"1\" class=\"dataframe\">\n",
       "  <thead>\n",
       "    <tr style=\"text-align: right;\">\n",
       "      <th></th>\n",
       "      <th>max_depth</th>\n",
       "      <th>F1_score</th>\n",
       "      <th>AUC_ROC</th>\n",
       "    </tr>\n",
       "  </thead>\n",
       "  <tbody>\n",
       "    <tr>\n",
       "      <th>0</th>\n",
       "      <td>1.0</td>\n",
       "      <td>0.482</td>\n",
       "      <td>0.680946</td>\n",
       "    </tr>\n",
       "    <tr>\n",
       "      <th>1</th>\n",
       "      <td>2.0</td>\n",
       "      <td>0.525604</td>\n",
       "      <td>0.748</td>\n",
       "    </tr>\n",
       "    <tr>\n",
       "      <th>2</th>\n",
       "      <td>3.0</td>\n",
       "      <td>0.525604</td>\n",
       "      <td>0.802473</td>\n",
       "    </tr>\n",
       "    <tr>\n",
       "      <th>3</th>\n",
       "      <td>4.0</td>\n",
       "      <td>0.56926</td>\n",
       "      <td>0.821297</td>\n",
       "    </tr>\n",
       "    <tr>\n",
       "      <th>4</th>\n",
       "      <td>5.0</td>\n",
       "      <td>0.574526</td>\n",
       "      <td>0.83962</td>\n",
       "    </tr>\n",
       "    <tr>\n",
       "      <th>5</th>\n",
       "      <td>6.0</td>\n",
       "      <td>0.586859</td>\n",
       "      <td>0.841375</td>\n",
       "    </tr>\n",
       "    <tr>\n",
       "      <th>6</th>\n",
       "      <td>7.0</td>\n",
       "      <td>0.587669</td>\n",
       "      <td>0.837346</td>\n",
       "    </tr>\n",
       "    <tr>\n",
       "      <th>7</th>\n",
       "      <td>8.0</td>\n",
       "      <td>0.590513</td>\n",
       "      <td>0.825791</td>\n",
       "    </tr>\n",
       "    <tr>\n",
       "      <th>8</th>\n",
       "      <td>9.0</td>\n",
       "      <td>0.578842</td>\n",
       "      <td>0.807114</td>\n",
       "    </tr>\n",
       "    <tr>\n",
       "      <th>9</th>\n",
       "      <td>10.0</td>\n",
       "      <td>0.565517</td>\n",
       "      <td>0.783074</td>\n",
       "    </tr>\n",
       "    <tr>\n",
       "      <th>10</th>\n",
       "      <td>11.0</td>\n",
       "      <td>0.556701</td>\n",
       "      <td>0.766634</td>\n",
       "    </tr>\n",
       "    <tr>\n",
       "      <th>11</th>\n",
       "      <td>12.0</td>\n",
       "      <td>0.543075</td>\n",
       "      <td>0.739929</td>\n",
       "    </tr>\n",
       "    <tr>\n",
       "      <th>12</th>\n",
       "      <td>13.0</td>\n",
       "      <td>0.543264</td>\n",
       "      <td>0.727585</td>\n",
       "    </tr>\n",
       "    <tr>\n",
       "      <th>13</th>\n",
       "      <td>14.0</td>\n",
       "      <td>0.540295</td>\n",
       "      <td>0.713606</td>\n",
       "    </tr>\n",
       "    <tr>\n",
       "      <th>14</th>\n",
       "      <td>15.0</td>\n",
       "      <td>0.504717</td>\n",
       "      <td>0.691615</td>\n",
       "    </tr>\n",
       "    <tr>\n",
       "      <th>15</th>\n",
       "      <td>16.0</td>\n",
       "      <td>0.510131</td>\n",
       "      <td>0.691406</td>\n",
       "    </tr>\n",
       "    <tr>\n",
       "      <th>16</th>\n",
       "      <td>17.0</td>\n",
       "      <td>0.521951</td>\n",
       "      <td>0.694045</td>\n",
       "    </tr>\n",
       "    <tr>\n",
       "      <th>17</th>\n",
       "      <td>18.0</td>\n",
       "      <td>0.50365</td>\n",
       "      <td>0.684764</td>\n",
       "    </tr>\n",
       "    <tr>\n",
       "      <th>18</th>\n",
       "      <td>19.0</td>\n",
       "      <td>0.509004</td>\n",
       "      <td>0.689473</td>\n",
       "    </tr>\n",
       "    <tr>\n",
       "      <th>19</th>\n",
       "      <td>20.0</td>\n",
       "      <td>0.497585</td>\n",
       "      <td>0.681942</td>\n",
       "    </tr>\n",
       "    <tr>\n",
       "      <th>20</th>\n",
       "      <td>21.0</td>\n",
       "      <td>0.517157</td>\n",
       "      <td>0.693189</td>\n",
       "    </tr>\n",
       "    <tr>\n",
       "      <th>21</th>\n",
       "      <td>22.0</td>\n",
       "      <td>0.515337</td>\n",
       "      <td>0.692418</td>\n",
       "    </tr>\n",
       "    <tr>\n",
       "      <th>22</th>\n",
       "      <td>23.0</td>\n",
       "      <td>0.515337</td>\n",
       "      <td>0.692418</td>\n",
       "    </tr>\n",
       "    <tr>\n",
       "      <th>23</th>\n",
       "      <td>24.0</td>\n",
       "      <td>0.515337</td>\n",
       "      <td>0.692418</td>\n",
       "    </tr>\n",
       "    <tr>\n",
       "      <th>24</th>\n",
       "      <td>25.0</td>\n",
       "      <td>0.515337</td>\n",
       "      <td>0.692418</td>\n",
       "    </tr>\n",
       "    <tr>\n",
       "      <th>25</th>\n",
       "      <td>26.0</td>\n",
       "      <td>0.515337</td>\n",
       "      <td>0.692418</td>\n",
       "    </tr>\n",
       "    <tr>\n",
       "      <th>26</th>\n",
       "      <td>27.0</td>\n",
       "      <td>0.515337</td>\n",
       "      <td>0.692418</td>\n",
       "    </tr>\n",
       "    <tr>\n",
       "      <th>27</th>\n",
       "      <td>28.0</td>\n",
       "      <td>0.515337</td>\n",
       "      <td>0.692418</td>\n",
       "    </tr>\n",
       "    <tr>\n",
       "      <th>28</th>\n",
       "      <td>29.0</td>\n",
       "      <td>0.515337</td>\n",
       "      <td>0.692418</td>\n",
       "    </tr>\n",
       "    <tr>\n",
       "      <th>29</th>\n",
       "      <td>30.0</td>\n",
       "      <td>0.515337</td>\n",
       "      <td>0.692418</td>\n",
       "    </tr>\n",
       "  </tbody>\n",
       "</table>\n",
       "</div>"
      ],
      "text/plain": [
       "   max_depth  F1_score   AUC_ROC\n",
       "0        1.0     0.482  0.680946\n",
       "1        2.0  0.525604     0.748\n",
       "2        3.0  0.525604  0.802473\n",
       "3        4.0   0.56926  0.821297\n",
       "4        5.0  0.574526   0.83962\n",
       "5        6.0  0.586859  0.841375\n",
       "6        7.0  0.587669  0.837346\n",
       "7        8.0  0.590513  0.825791\n",
       "8        9.0  0.578842  0.807114\n",
       "9       10.0  0.565517  0.783074\n",
       "10      11.0  0.556701  0.766634\n",
       "11      12.0  0.543075  0.739929\n",
       "12      13.0  0.543264  0.727585\n",
       "13      14.0  0.540295  0.713606\n",
       "14      15.0  0.504717  0.691615\n",
       "15      16.0  0.510131  0.691406\n",
       "16      17.0  0.521951  0.694045\n",
       "17      18.0   0.50365  0.684764\n",
       "18      19.0  0.509004  0.689473\n",
       "19      20.0  0.497585  0.681942\n",
       "20      21.0  0.517157  0.693189\n",
       "21      22.0  0.515337  0.692418\n",
       "22      23.0  0.515337  0.692418\n",
       "23      24.0  0.515337  0.692418\n",
       "24      25.0  0.515337  0.692418\n",
       "25      26.0  0.515337  0.692418\n",
       "26      27.0  0.515337  0.692418\n",
       "27      28.0  0.515337  0.692418\n",
       "28      29.0  0.515337  0.692418\n",
       "29      30.0  0.515337  0.692418"
      ]
     },
     "metadata": {},
     "output_type": "display_data"
    }
   ],
   "source": [
    "df_temp = df_temp.drop(df_temp.index)\n",
    "\n",
    "best_balanced_tree_model = 0\n",
    "best_tree_depth = 0\n",
    "best_tree_result = 0\n",
    "best_tree_aucroc = 0\n",
    "\n",
    "for depth in tqdm_notebook(range(1, 31, 1)):\n",
    "    model = DecisionTreeClassifier(\n",
    "        class_weight='balanced',\n",
    "        max_depth=depth,\n",
    "        random_state=2022)\n",
    "    \n",
    "    model.fit(train_features, train_target)\n",
    "    \n",
    "    prediction_tree = model.predict(valid_features)\n",
    "    result = f1_score(valid_target, prediction_tree)\n",
    "    \n",
    "    probabilities = model.predict_proba(valid_features)\n",
    "    probabilities_one = probabilities[:,1]\n",
    "    auc_roc = roc_auc_score(valid_target, probabilities_one)\n",
    "    \n",
    "    df_temp = df_temp.append(\n",
    "        {'max_depth': depth, 'F1_score':result, 'AUC_ROC':auc_roc}, ignore_index=True\n",
    "    )\n",
    "    \n",
    "    if result > best_tree_result:\n",
    "        best_tree_result = result\n",
    "        best_tree_depth = depth\n",
    "        best_balanced_tree_model = model\n",
    "        best_tree_aucroc = auc_roc\n",
    "print(\n",
    "    \"max_depth =\", best_tree_depth,\n",
    "    \"\\nf1_score =\", best_tree_result,\n",
    "    \"\\nf1_score =\", best_tree_aucroc\n",
    ")\n",
    "\n",
    "\n",
    "df_train_result.loc['решающее_дерево', 'F1_balanced'] = best_tree_result\n",
    "df_train_result.loc['решающее_дерево', 'AUC_ROC_balanced'] = best_tree_aucroc\n",
    "\n",
    "\n",
    "plt.figure()\n",
    "(\n",
    "    df_temp\n",
    "    .round(4) # округляем\n",
    "    .sort_values(by='F1_score') # сортируем по F1\n",
    "    .plot(\n",
    "        kind='scatter',\n",
    "        x='F1_score',\n",
    "        y='AUC_ROC',\n",
    "        figsize=(9,9),        \n",
    "        ylim=(0.65, 0.85),\n",
    "        xlim=(0.45, 0.65),        \n",
    "        grid=True,\n",
    "        rot=45,\n",
    "        xticks=np_xticks,\n",
    "        yticks=np_yticks\n",
    "));\n",
    "\n",
    "plt.title('Зависимость AUC-ROC от F1_score')\n",
    "plt.show()\n",
    "display(df_temp.corr().round(2))\n",
    "display(df_temp)"
   ]
  },
  {
   "cell_type": "code",
   "execution_count": 31,
   "metadata": {},
   "outputs": [
    {
     "data": {
      "text/html": [
       "<div>\n",
       "<style scoped>\n",
       "    .dataframe tbody tr th:only-of-type {\n",
       "        vertical-align: middle;\n",
       "    }\n",
       "\n",
       "    .dataframe tbody tr th {\n",
       "        vertical-align: top;\n",
       "    }\n",
       "\n",
       "    .dataframe thead th {\n",
       "        text-align: right;\n",
       "    }\n",
       "</style>\n",
       "<table border=\"1\" class=\"dataframe\">\n",
       "  <thead>\n",
       "    <tr style=\"text-align: right;\">\n",
       "      <th></th>\n",
       "      <th>F1_raw</th>\n",
       "      <th>AUC_ROC_raw</th>\n",
       "      <th>|</th>\n",
       "      <th>F1_balanced</th>\n",
       "      <th>AUC_ROC_balanced</th>\n",
       "      <th>|</th>\n",
       "      <th>F1_up</th>\n",
       "      <th>AUC_ROC_up</th>\n",
       "      <th>|</th>\n",
       "      <th>F1_down</th>\n",
       "      <th>AUC_ROC_down</th>\n",
       "    </tr>\n",
       "  </thead>\n",
       "  <tbody>\n",
       "    <tr>\n",
       "      <th>решающее_дерево</th>\n",
       "      <td>0.58445</td>\n",
       "      <td>0.785915</td>\n",
       "      <td>|</td>\n",
       "      <td>0.590513</td>\n",
       "      <td>0.825791</td>\n",
       "      <td>|</td>\n",
       "      <td>NaN</td>\n",
       "      <td>NaN</td>\n",
       "      <td>|</td>\n",
       "      <td>NaN</td>\n",
       "      <td>NaN</td>\n",
       "    </tr>\n",
       "    <tr>\n",
       "      <th>случайный_лес</th>\n",
       "      <td>0.615385</td>\n",
       "      <td>0.785915</td>\n",
       "      <td>|</td>\n",
       "      <td>NaN</td>\n",
       "      <td>NaN</td>\n",
       "      <td>|</td>\n",
       "      <td>NaN</td>\n",
       "      <td>NaN</td>\n",
       "      <td>|</td>\n",
       "      <td>NaN</td>\n",
       "      <td>NaN</td>\n",
       "    </tr>\n",
       "    <tr>\n",
       "      <th>логистическая_регрессия</th>\n",
       "      <td>0.288809</td>\n",
       "      <td>0.779717</td>\n",
       "      <td>|</td>\n",
       "      <td>0.521368</td>\n",
       "      <td>0.780395</td>\n",
       "      <td>|</td>\n",
       "      <td>NaN</td>\n",
       "      <td>NaN</td>\n",
       "      <td>|</td>\n",
       "      <td>NaN</td>\n",
       "      <td>NaN</td>\n",
       "    </tr>\n",
       "  </tbody>\n",
       "</table>\n",
       "</div>"
      ],
      "text/plain": [
       "                           F1_raw AUC_ROC_raw  | F1_balanced AUC_ROC_balanced  \\\n",
       "решающее_дерево           0.58445    0.785915  |    0.590513         0.825791   \n",
       "случайный_лес            0.615385    0.785915  |         NaN              NaN   \n",
       "логистическая_регрессия  0.288809    0.779717  |    0.521368         0.780395   \n",
       "\n",
       "                         | F1_up AUC_ROC_up  | F1_down AUC_ROC_down  \n",
       "решающее_дерево          |   NaN        NaN  |     NaN          NaN  \n",
       "случайный_лес            |   NaN        NaN  |     NaN          NaN  \n",
       "логистическая_регрессия  |   NaN        NaN  |     NaN          NaN  "
      ]
     },
     "execution_count": 31,
     "metadata": {},
     "output_type": "execute_result"
    }
   ],
   "source": [
    "df_train_result"
   ]
  },
  {
   "cell_type": "markdown",
   "metadata": {},
   "source": [
    "Качество модели выросло. Увеличилась AUC_ROC."
   ]
  },
  {
   "cell_type": "markdown",
   "metadata": {},
   "source": [
    "#### Случайный лес"
   ]
  },
  {
   "cell_type": "code",
   "execution_count": 32,
   "metadata": {
    "scrolled": false
   },
   "outputs": [
    {
     "data": {
      "application/vnd.jupyter.widget-view+json": {
       "model_id": "8d79c38beddc4801a109b1634150d2f5",
       "version_major": 2,
       "version_minor": 0
      },
      "text/plain": [
       "  0%|          | 0/30 [00:00<?, ?it/s]"
      ]
     },
     "metadata": {},
     "output_type": "display_data"
    },
    {
     "name": "stdout",
     "output_type": "stream",
     "text": [
      "max_depth = 10 \n",
      "F1_score = 0.6584158415841586 \n",
      "AUC_ROC = 0.87125801569736\n"
     ]
    },
    {
     "data": {
      "text/plain": [
       "<Figure size 432x288 with 0 Axes>"
      ]
     },
     "metadata": {},
     "output_type": "display_data"
    },
    {
     "data": {
      "image/png": "[encoded data removed]",
      "text/plain": [
       "<Figure size 648x648 with 1 Axes>"
      ]
     },
     "metadata": {
      "needs_background": "light"
     },
     "output_type": "display_data"
    },
    {
     "data": {
      "text/html": [
       "<div>\n",
       "<style scoped>\n",
       "    .dataframe tbody tr th:only-of-type {\n",
       "        vertical-align: middle;\n",
       "    }\n",
       "\n",
       "    .dataframe tbody tr th {\n",
       "        vertical-align: top;\n",
       "    }\n",
       "\n",
       "    .dataframe thead th {\n",
       "        text-align: right;\n",
       "    }\n",
       "</style>\n",
       "<table border=\"1\" class=\"dataframe\">\n",
       "  <thead>\n",
       "    <tr style=\"text-align: right;\">\n",
       "      <th></th>\n",
       "    </tr>\n",
       "  </thead>\n",
       "  <tbody>\n",
       "  </tbody>\n",
       "</table>\n",
       "</div>"
      ],
      "text/plain": [
       "Empty DataFrame\n",
       "Columns: []\n",
       "Index: []"
      ]
     },
     "metadata": {},
     "output_type": "display_data"
    },
    {
     "data": {
      "text/html": [
       "<div>\n",
       "<style scoped>\n",
       "    .dataframe tbody tr th:only-of-type {\n",
       "        vertical-align: middle;\n",
       "    }\n",
       "\n",
       "    .dataframe tbody tr th {\n",
       "        vertical-align: top;\n",
       "    }\n",
       "\n",
       "    .dataframe thead th {\n",
       "        text-align: right;\n",
       "    }\n",
       "</style>\n",
       "<table border=\"1\" class=\"dataframe\">\n",
       "  <thead>\n",
       "    <tr style=\"text-align: right;\">\n",
       "      <th></th>\n",
       "      <th>max_depth</th>\n",
       "      <th>F1_score</th>\n",
       "      <th>AUC_ROC</th>\n",
       "    </tr>\n",
       "  </thead>\n",
       "  <tbody>\n",
       "    <tr>\n",
       "      <th>0</th>\n",
       "      <td>1.0</td>\n",
       "      <td>0.576471</td>\n",
       "      <td>0.818287</td>\n",
       "    </tr>\n",
       "    <tr>\n",
       "      <th>1</th>\n",
       "      <td>2.0</td>\n",
       "      <td>0.592223</td>\n",
       "      <td>0.841086</td>\n",
       "    </tr>\n",
       "    <tr>\n",
       "      <th>2</th>\n",
       "      <td>3.0</td>\n",
       "      <td>0.581506</td>\n",
       "      <td>0.848419</td>\n",
       "    </tr>\n",
       "    <tr>\n",
       "      <th>3</th>\n",
       "      <td>4.0</td>\n",
       "      <td>0.626122</td>\n",
       "      <td>0.861432</td>\n",
       "    </tr>\n",
       "    <tr>\n",
       "      <th>4</th>\n",
       "      <td>5.0</td>\n",
       "      <td>0.62749</td>\n",
       "      <td>0.863174</td>\n",
       "    </tr>\n",
       "    <tr>\n",
       "      <th>5</th>\n",
       "      <td>6.0</td>\n",
       "      <td>0.619433</td>\n",
       "      <td>0.860204</td>\n",
       "    </tr>\n",
       "    <tr>\n",
       "      <th>6</th>\n",
       "      <td>7.0</td>\n",
       "      <td>0.647858</td>\n",
       "      <td>0.866038</td>\n",
       "    </tr>\n",
       "    <tr>\n",
       "      <th>7</th>\n",
       "      <td>8.0</td>\n",
       "      <td>0.651564</td>\n",
       "      <td>0.870743</td>\n",
       "    </tr>\n",
       "    <tr>\n",
       "      <th>8</th>\n",
       "      <td>9.0</td>\n",
       "      <td>0.645012</td>\n",
       "      <td>0.868283</td>\n",
       "    </tr>\n",
       "    <tr>\n",
       "      <th>9</th>\n",
       "      <td>10.0</td>\n",
       "      <td>0.658416</td>\n",
       "      <td>0.871258</td>\n",
       "    </tr>\n",
       "    <tr>\n",
       "      <th>10</th>\n",
       "      <td>11.0</td>\n",
       "      <td>0.638243</td>\n",
       "      <td>0.8663</td>\n",
       "    </tr>\n",
       "    <tr>\n",
       "      <th>11</th>\n",
       "      <td>12.0</td>\n",
       "      <td>0.608931</td>\n",
       "      <td>0.86448</td>\n",
       "    </tr>\n",
       "    <tr>\n",
       "      <th>12</th>\n",
       "      <td>13.0</td>\n",
       "      <td>0.609179</td>\n",
       "      <td>0.865176</td>\n",
       "    </tr>\n",
       "    <tr>\n",
       "      <th>13</th>\n",
       "      <td>14.0</td>\n",
       "      <td>0.614509</td>\n",
       "      <td>0.863551</td>\n",
       "    </tr>\n",
       "    <tr>\n",
       "      <th>14</th>\n",
       "      <td>15.0</td>\n",
       "      <td>0.6</td>\n",
       "      <td>0.864234</td>\n",
       "    </tr>\n",
       "    <tr>\n",
       "      <th>15</th>\n",
       "      <td>16.0</td>\n",
       "      <td>0.590504</td>\n",
       "      <td>0.854876</td>\n",
       "    </tr>\n",
       "    <tr>\n",
       "      <th>16</th>\n",
       "      <td>17.0</td>\n",
       "      <td>0.585736</td>\n",
       "      <td>0.858774</td>\n",
       "    </tr>\n",
       "    <tr>\n",
       "      <th>17</th>\n",
       "      <td>18.0</td>\n",
       "      <td>0.567026</td>\n",
       "      <td>0.856099</td>\n",
       "    </tr>\n",
       "    <tr>\n",
       "      <th>18</th>\n",
       "      <td>19.0</td>\n",
       "      <td>0.592025</td>\n",
       "      <td>0.858015</td>\n",
       "    </tr>\n",
       "    <tr>\n",
       "      <th>19</th>\n",
       "      <td>20.0</td>\n",
       "      <td>0.558502</td>\n",
       "      <td>0.850308</td>\n",
       "    </tr>\n",
       "    <tr>\n",
       "      <th>20</th>\n",
       "      <td>21.0</td>\n",
       "      <td>0.562986</td>\n",
       "      <td>0.854453</td>\n",
       "    </tr>\n",
       "    <tr>\n",
       "      <th>21</th>\n",
       "      <td>22.0</td>\n",
       "      <td>0.543478</td>\n",
       "      <td>0.855237</td>\n",
       "    </tr>\n",
       "    <tr>\n",
       "      <th>22</th>\n",
       "      <td>23.0</td>\n",
       "      <td>0.533123</td>\n",
       "      <td>0.850071</td>\n",
       "    </tr>\n",
       "    <tr>\n",
       "      <th>23</th>\n",
       "      <td>24.0</td>\n",
       "      <td>0.539432</td>\n",
       "      <td>0.85071</td>\n",
       "    </tr>\n",
       "    <tr>\n",
       "      <th>24</th>\n",
       "      <td>25.0</td>\n",
       "      <td>0.537975</td>\n",
       "      <td>0.850982</td>\n",
       "    </tr>\n",
       "    <tr>\n",
       "      <th>25</th>\n",
       "      <td>26.0</td>\n",
       "      <td>0.537975</td>\n",
       "      <td>0.850982</td>\n",
       "    </tr>\n",
       "    <tr>\n",
       "      <th>26</th>\n",
       "      <td>27.0</td>\n",
       "      <td>0.537975</td>\n",
       "      <td>0.850982</td>\n",
       "    </tr>\n",
       "    <tr>\n",
       "      <th>27</th>\n",
       "      <td>28.0</td>\n",
       "      <td>0.537975</td>\n",
       "      <td>0.850982</td>\n",
       "    </tr>\n",
       "    <tr>\n",
       "      <th>28</th>\n",
       "      <td>29.0</td>\n",
       "      <td>0.537975</td>\n",
       "      <td>0.850982</td>\n",
       "    </tr>\n",
       "    <tr>\n",
       "      <th>29</th>\n",
       "      <td>30.0</td>\n",
       "      <td>0.537975</td>\n",
       "      <td>0.850982</td>\n",
       "    </tr>\n",
       "  </tbody>\n",
       "</table>\n",
       "</div>"
      ],
      "text/plain": [
       "   max_depth  F1_score   AUC_ROC\n",
       "0        1.0  0.576471  0.818287\n",
       "1        2.0  0.592223  0.841086\n",
       "2        3.0  0.581506  0.848419\n",
       "3        4.0  0.626122  0.861432\n",
       "4        5.0   0.62749  0.863174\n",
       "5        6.0  0.619433  0.860204\n",
       "6        7.0  0.647858  0.866038\n",
       "7        8.0  0.651564  0.870743\n",
       "8        9.0  0.645012  0.868283\n",
       "9       10.0  0.658416  0.871258\n",
       "10      11.0  0.638243    0.8663\n",
       "11      12.0  0.608931   0.86448\n",
       "12      13.0  0.609179  0.865176\n",
       "13      14.0  0.614509  0.863551\n",
       "14      15.0       0.6  0.864234\n",
       "15      16.0  0.590504  0.854876\n",
       "16      17.0  0.585736  0.858774\n",
       "17      18.0  0.567026  0.856099\n",
       "18      19.0  0.592025  0.858015\n",
       "19      20.0  0.558502  0.850308\n",
       "20      21.0  0.562986  0.854453\n",
       "21      22.0  0.543478  0.855237\n",
       "22      23.0  0.533123  0.850071\n",
       "23      24.0  0.539432   0.85071\n",
       "24      25.0  0.537975  0.850982\n",
       "25      26.0  0.537975  0.850982\n",
       "26      27.0  0.537975  0.850982\n",
       "27      28.0  0.537975  0.850982\n",
       "28      29.0  0.537975  0.850982\n",
       "29      30.0  0.537975  0.850982"
      ]
     },
     "metadata": {},
     "output_type": "display_data"
    }
   ],
   "source": [
    "df_temp = df_temp.drop(df_temp.index)\n",
    "\n",
    "best_balanced_forest_model = 0\n",
    "best_forest_depth = 0\n",
    "# best_forest_estimators = 0\n",
    "best_forest_result = 0\n",
    "best_forest_auc_roc = 0\n",
    "\n",
    "for depth in tqdm_notebook(range(1,31, 1)):\n",
    "#     for estimators in tqdm_notebook(range(30,34,1), leave=False):\n",
    "        model = RandomForestClassifier(\n",
    "            class_weight='balanced',\n",
    "            random_state=2022,\n",
    "            max_depth=depth,\n",
    "            n_estimators = 32,\n",
    "            n_jobs=-1\n",
    "        )\n",
    "\n",
    "        model.fit(train_features, train_target)\n",
    "        \n",
    "        prediction = model.predict(valid_features)\n",
    "        result = f1_score(valid_target, prediction)\n",
    "        \n",
    "        probabilities = model.predict_proba(valid_features)\n",
    "        probabilities_one = probabilities[:,1]\n",
    "        auc_roc = roc_auc_score(valid_target, probabilities_one)\n",
    "        \n",
    "        df_temp = df_temp.append(\n",
    "        {'max_depth': depth, 'F1_score':result, 'AUC_ROC':auc_roc}, ignore_index=True\n",
    "    )\n",
    "        \n",
    "        \n",
    "        if result > best_forest_result:\n",
    "            best_forest_result = result\n",
    "            best_forest_depth = depth\n",
    "#             best_forest_estimators = estimators\n",
    "            best_balanced_forest_model = model\n",
    "            best_forest_auc_roc = auc_roc\n",
    "    \n",
    "print(\n",
    "    \"max_depth =\", best_forest_depth,\n",
    "#     \"\\nn_estimators =\", best_forest_estimators,\n",
    "    \"\\nF1_score =\", best_forest_result,\n",
    "    \"\\nAUC_ROC =\", best_forest_auc_roc\n",
    "    \n",
    ")\n",
    "df_train_result.loc['случайный_лес', 'F1_balanced'] = best_forest_result\n",
    "df_train_result.loc['случайный_лес', 'AUC_ROC_balanced'] = best_forest_auc_roc\n",
    "\n",
    "\n",
    "plt.figure()\n",
    "(\n",
    "    df_temp\n",
    "    .round(4) # округляем\n",
    "    .sort_values(by='F1_score') # сортируем по F1\n",
    "    .plot(\n",
    "        kind='scatter',\n",
    "        x='F1_score',\n",
    "        y='AUC_ROC',\n",
    "        figsize=(9,9),\n",
    "        xlim=(0.5, 0.7),\n",
    "        ylim=(0.75, 0.95),\n",
    "        grid=True,\n",
    "        rot=45,\n",
    "        xticks=np_xticks,\n",
    "        yticks=np_yticks\n",
    "));\n",
    "\n",
    "plt.title('Зависимость AUC-ROC от F1_score')\n",
    "plt.show()\n",
    "display(df_temp.corr().round(2))\n",
    "display(df_temp)"
   ]
  },
  {
   "cell_type": "code",
   "execution_count": 33,
   "metadata": {},
   "outputs": [
    {
     "data": {
      "text/html": [
       "<div>\n",
       "<style scoped>\n",
       "    .dataframe tbody tr th:only-of-type {\n",
       "        vertical-align: middle;\n",
       "    }\n",
       "\n",
       "    .dataframe tbody tr th {\n",
       "        vertical-align: top;\n",
       "    }\n",
       "\n",
       "    .dataframe thead th {\n",
       "        text-align: right;\n",
       "    }\n",
       "</style>\n",
       "<table border=\"1\" class=\"dataframe\">\n",
       "  <thead>\n",
       "    <tr style=\"text-align: right;\">\n",
       "      <th></th>\n",
       "      <th>F1_raw</th>\n",
       "      <th>AUC_ROC_raw</th>\n",
       "      <th>|</th>\n",
       "      <th>F1_balanced</th>\n",
       "      <th>AUC_ROC_balanced</th>\n",
       "      <th>|</th>\n",
       "      <th>F1_up</th>\n",
       "      <th>AUC_ROC_up</th>\n",
       "      <th>|</th>\n",
       "      <th>F1_down</th>\n",
       "      <th>AUC_ROC_down</th>\n",
       "    </tr>\n",
       "  </thead>\n",
       "  <tbody>\n",
       "    <tr>\n",
       "      <th>решающее_дерево</th>\n",
       "      <td>0.58445</td>\n",
       "      <td>0.785915</td>\n",
       "      <td>|</td>\n",
       "      <td>0.590513</td>\n",
       "      <td>0.825791</td>\n",
       "      <td>|</td>\n",
       "      <td>NaN</td>\n",
       "      <td>NaN</td>\n",
       "      <td>|</td>\n",
       "      <td>NaN</td>\n",
       "      <td>NaN</td>\n",
       "    </tr>\n",
       "    <tr>\n",
       "      <th>случайный_лес</th>\n",
       "      <td>0.615385</td>\n",
       "      <td>0.785915</td>\n",
       "      <td>|</td>\n",
       "      <td>0.658416</td>\n",
       "      <td>0.871258</td>\n",
       "      <td>|</td>\n",
       "      <td>NaN</td>\n",
       "      <td>NaN</td>\n",
       "      <td>|</td>\n",
       "      <td>NaN</td>\n",
       "      <td>NaN</td>\n",
       "    </tr>\n",
       "    <tr>\n",
       "      <th>логистическая_регрессия</th>\n",
       "      <td>0.288809</td>\n",
       "      <td>0.779717</td>\n",
       "      <td>|</td>\n",
       "      <td>0.521368</td>\n",
       "      <td>0.780395</td>\n",
       "      <td>|</td>\n",
       "      <td>NaN</td>\n",
       "      <td>NaN</td>\n",
       "      <td>|</td>\n",
       "      <td>NaN</td>\n",
       "      <td>NaN</td>\n",
       "    </tr>\n",
       "  </tbody>\n",
       "</table>\n",
       "</div>"
      ],
      "text/plain": [
       "                           F1_raw AUC_ROC_raw  | F1_balanced AUC_ROC_balanced  \\\n",
       "решающее_дерево           0.58445    0.785915  |    0.590513         0.825791   \n",
       "случайный_лес            0.615385    0.785915  |    0.658416         0.871258   \n",
       "логистическая_регрессия  0.288809    0.779717  |    0.521368         0.780395   \n",
       "\n",
       "                         | F1_up AUC_ROC_up  | F1_down AUC_ROC_down  \n",
       "решающее_дерево          |   NaN        NaN  |     NaN          NaN  \n",
       "случайный_лес            |   NaN        NaN  |     NaN          NaN  \n",
       "логистическая_регрессия  |   NaN        NaN  |     NaN          NaN  "
      ]
     },
     "execution_count": 33,
     "metadata": {},
     "output_type": "execute_result"
    }
   ],
   "source": [
    "df_train_result"
   ]
  },
  {
   "cell_type": "markdown",
   "metadata": {},
   "source": [
    "Качество модели и AUC_ROC увеличились."
   ]
  },
  {
   "cell_type": "markdown",
   "metadata": {},
   "source": [
    "### Увеличение выборки"
   ]
  },
  {
   "cell_type": "markdown",
   "metadata": {},
   "source": [
    "Для балансировки модели, применяется техника увеличения выборок"
   ]
  },
  {
   "cell_type": "code",
   "execution_count": 34,
   "metadata": {},
   "outputs": [
    {
     "data": {
      "text/html": [
       "<div>\n",
       "<style scoped>\n",
       "    .dataframe tbody tr th:only-of-type {\n",
       "        vertical-align: middle;\n",
       "    }\n",
       "\n",
       "    .dataframe tbody tr th {\n",
       "        vertical-align: top;\n",
       "    }\n",
       "\n",
       "    .dataframe thead th {\n",
       "        text-align: right;\n",
       "    }\n",
       "</style>\n",
       "<table border=\"1\" class=\"dataframe\">\n",
       "  <thead>\n",
       "    <tr style=\"text-align: right;\">\n",
       "      <th></th>\n",
       "      <th>абсолют</th>\n",
       "      <th>относит</th>\n",
       "    </tr>\n",
       "  </thead>\n",
       "  <tbody>\n",
       "    <tr>\n",
       "      <th>0</th>\n",
       "      <td>7963</td>\n",
       "      <td>0.8</td>\n",
       "    </tr>\n",
       "    <tr>\n",
       "      <th>1</th>\n",
       "      <td>2037</td>\n",
       "      <td>0.2</td>\n",
       "    </tr>\n",
       "  </tbody>\n",
       "</table>\n",
       "</div>"
      ],
      "text/plain": [
       "   абсолют  относит\n",
       "0     7963      0.8\n",
       "1     2037      0.2"
      ]
     },
     "execution_count": 34,
     "metadata": {},
     "output_type": "execute_result"
    }
   ],
   "source": [
    "df = pd.concat(\n",
    "    [\n",
    "        df_raw['exited'].value_counts().round(2),\n",
    "        df_raw['exited'].value_counts(normalize=True).round(2),\n",
    "    ], axis=1,\n",
    ")\n",
    "df.columns = ['абсолют', 'относит']\n",
    "df"
   ]
  },
  {
   "cell_type": "code",
   "execution_count": 35,
   "metadata": {},
   "outputs": [
    {
     "name": "stdout",
     "output_type": "stream",
     "text": [
      "4796\n",
      "4816\n",
      "1.0041701417848208\n",
      "0.9958471760797342\n",
      "(9612, 11)\n",
      "(9612,)\n"
     ]
    }
   ],
   "source": [
    "train_features_up, train_target_up = upsample(train_features, train_target, 4)\n",
    "\n",
    "# подбираем параметр repeat, проверяя, чтобы соотношение\n",
    "# классов целевого признака, было близко к соотношению 1:1\n",
    "print(len(train_features_up[train_target_up == 0]))\n",
    "print(len(train_features_up[train_target_up == 1]))\n",
    "\n",
    "print(\n",
    "    len(train_features_up[train_target_up == 1]) / len(train_features_up[train_target_up == 0])\n",
    ")\n",
    "\n",
    "print(\n",
    "    len(train_features_up[train_target_up == 0]) / len(train_features_up[train_target_up == 1])\n",
    ")\n",
    "\n",
    "print(train_features_up.shape)\n",
    "print(train_target_up.shape)"
   ]
  },
  {
   "cell_type": "markdown",
   "metadata": {},
   "source": [
    "#### Логистическая регрессия¶"
   ]
  },
  {
   "cell_type": "code",
   "execution_count": 36,
   "metadata": {},
   "outputs": [
    {
     "name": "stdout",
     "output_type": "stream",
     "text": [
      "F1_score = 0.5209222886421861 \n",
      "AUC_ROC = 0.780394509408266\n"
     ]
    },
    {
     "data": {
      "text/html": [
       "<div>\n",
       "<style scoped>\n",
       "    .dataframe tbody tr th:only-of-type {\n",
       "        vertical-align: middle;\n",
       "    }\n",
       "\n",
       "    .dataframe tbody tr th {\n",
       "        vertical-align: top;\n",
       "    }\n",
       "\n",
       "    .dataframe thead th {\n",
       "        text-align: right;\n",
       "    }\n",
       "</style>\n",
       "<table border=\"1\" class=\"dataframe\">\n",
       "  <thead>\n",
       "    <tr style=\"text-align: right;\">\n",
       "      <th></th>\n",
       "      <th>F1_raw</th>\n",
       "      <th>AUC_ROC_raw</th>\n",
       "      <th>|</th>\n",
       "      <th>F1_balanced</th>\n",
       "      <th>AUC_ROC_balanced</th>\n",
       "      <th>|</th>\n",
       "      <th>F1_up</th>\n",
       "      <th>AUC_ROC_up</th>\n",
       "      <th>|</th>\n",
       "      <th>F1_down</th>\n",
       "      <th>AUC_ROC_down</th>\n",
       "    </tr>\n",
       "  </thead>\n",
       "  <tbody>\n",
       "    <tr>\n",
       "      <th>решающее_дерево</th>\n",
       "      <td>0.58445</td>\n",
       "      <td>0.785915</td>\n",
       "      <td>|</td>\n",
       "      <td>0.590513</td>\n",
       "      <td>0.825791</td>\n",
       "      <td>|</td>\n",
       "      <td>NaN</td>\n",
       "      <td>NaN</td>\n",
       "      <td>|</td>\n",
       "      <td>NaN</td>\n",
       "      <td>NaN</td>\n",
       "    </tr>\n",
       "    <tr>\n",
       "      <th>случайный_лес</th>\n",
       "      <td>0.615385</td>\n",
       "      <td>0.785915</td>\n",
       "      <td>|</td>\n",
       "      <td>0.658416</td>\n",
       "      <td>0.871258</td>\n",
       "      <td>|</td>\n",
       "      <td>NaN</td>\n",
       "      <td>NaN</td>\n",
       "      <td>|</td>\n",
       "      <td>NaN</td>\n",
       "      <td>NaN</td>\n",
       "    </tr>\n",
       "    <tr>\n",
       "      <th>логистическая_регрессия</th>\n",
       "      <td>0.288809</td>\n",
       "      <td>0.779717</td>\n",
       "      <td>|</td>\n",
       "      <td>0.521368</td>\n",
       "      <td>0.780395</td>\n",
       "      <td>|</td>\n",
       "      <td>0.520922</td>\n",
       "      <td>0.780395</td>\n",
       "      <td>|</td>\n",
       "      <td>NaN</td>\n",
       "      <td>NaN</td>\n",
       "    </tr>\n",
       "  </tbody>\n",
       "</table>\n",
       "</div>"
      ],
      "text/plain": [
       "                           F1_raw AUC_ROC_raw  | F1_balanced AUC_ROC_balanced  \\\n",
       "решающее_дерево           0.58445    0.785915  |    0.590513         0.825791   \n",
       "случайный_лес            0.615385    0.785915  |    0.658416         0.871258   \n",
       "логистическая_регрессия  0.288809    0.779717  |    0.521368         0.780395   \n",
       "\n",
       "                         |     F1_up AUC_ROC_up  | F1_down AUC_ROC_down  \n",
       "решающее_дерево          |       NaN        NaN  |     NaN          NaN  \n",
       "случайный_лес            |       NaN        NaN  |     NaN          NaN  \n",
       "логистическая_регрессия  |  0.520922   0.780395  |     NaN          NaN  "
      ]
     },
     "execution_count": 36,
     "metadata": {},
     "output_type": "execute_result"
    }
   ],
   "source": [
    "model_up_logistic = LogisticRegression(random_state=2022,\n",
    "#                                        class_weight='balanced'\n",
    "                                      )\n",
    "\n",
    "# обучение на увеличенной выборке\n",
    "model_up_logistic.fit(train_features_up, train_target_up)\n",
    "\n",
    "# f1 на валидационной выборке\n",
    "prediction = model_up_logistic.predict(valid_features)\n",
    "f1_logistic = f1_score(valid_target, prediction)\n",
    "\n",
    "# auc_roc на валидационной выборке\n",
    "probabilities = model_balanced_logistic.predict_proba(valid_features)\n",
    "probabilities_one_logistic = probabilities[:,1]\n",
    "logistic_auc_roc = roc_auc_score(valid_target, probabilities_one_logistic)\n",
    "print(\n",
    "    \"F1_score =\", f1_logistic,\n",
    "    \"\\nAUC_ROC =\", logistic_auc_roc\n",
    ")\n",
    "\n",
    "df_train_result.loc['логистическая_регрессия', 'F1_up'] = f1_logistic\n",
    "df_train_result.loc['логистическая_регрессия', 'AUC_ROC_up'] = logistic_auc_roc\n",
    "\n",
    "\n",
    "df_train_result\n"
   ]
  },
  {
   "cell_type": "markdown",
   "metadata": {},
   "source": [
    "Качество модели ухудшилось, AUC_ROC не изменилась в сравнении с предыдущей техникой."
   ]
  },
  {
   "cell_type": "markdown",
   "metadata": {},
   "source": [
    "#### Решающее дерево"
   ]
  },
  {
   "cell_type": "markdown",
   "metadata": {},
   "source": [
    "Переобучим модель с новыми параметрами"
   ]
  },
  {
   "cell_type": "code",
   "execution_count": 37,
   "metadata": {},
   "outputs": [
    {
     "data": {
      "application/vnd.jupyter.widget-view+json": {
       "model_id": "2cf5857733654a57a254bc0b421a2927",
       "version_major": 2,
       "version_minor": 0
      },
      "text/plain": [
       "  0%|          | 0/30 [00:00<?, ?it/s]"
      ]
     },
     "metadata": {},
     "output_type": "display_data"
    },
    {
     "name": "stdout",
     "output_type": "stream",
     "text": [
      "max_depth = 8 \n",
      "f1_score = 0.5942173479561316 \n",
      "f1_score = 0.8218011819224343\n"
     ]
    },
    {
     "data": {
      "text/plain": [
       "<Figure size 432x288 with 0 Axes>"
      ]
     },
     "metadata": {},
     "output_type": "display_data"
    },
    {
     "data": {
      "image/png": "[encoded data removed]",
      "text/plain": [
       "<Figure size 648x648 with 1 Axes>"
      ]
     },
     "metadata": {
      "needs_background": "light"
     },
     "output_type": "display_data"
    },
    {
     "data": {
      "text/html": [
       "<div>\n",
       "<style scoped>\n",
       "    .dataframe tbody tr th:only-of-type {\n",
       "        vertical-align: middle;\n",
       "    }\n",
       "\n",
       "    .dataframe tbody tr th {\n",
       "        vertical-align: top;\n",
       "    }\n",
       "\n",
       "    .dataframe thead th {\n",
       "        text-align: right;\n",
       "    }\n",
       "</style>\n",
       "<table border=\"1\" class=\"dataframe\">\n",
       "  <thead>\n",
       "    <tr style=\"text-align: right;\">\n",
       "      <th></th>\n",
       "    </tr>\n",
       "  </thead>\n",
       "  <tbody>\n",
       "  </tbody>\n",
       "</table>\n",
       "</div>"
      ],
      "text/plain": [
       "Empty DataFrame\n",
       "Columns: []\n",
       "Index: []"
      ]
     },
     "metadata": {},
     "output_type": "display_data"
    },
    {
     "data": {
      "text/html": [
       "<div>\n",
       "<style scoped>\n",
       "    .dataframe tbody tr th:only-of-type {\n",
       "        vertical-align: middle;\n",
       "    }\n",
       "\n",
       "    .dataframe tbody tr th {\n",
       "        vertical-align: top;\n",
       "    }\n",
       "\n",
       "    .dataframe thead th {\n",
       "        text-align: right;\n",
       "    }\n",
       "</style>\n",
       "<table border=\"1\" class=\"dataframe\">\n",
       "  <thead>\n",
       "    <tr style=\"text-align: right;\">\n",
       "      <th></th>\n",
       "      <th>max_depth</th>\n",
       "      <th>F1_score</th>\n",
       "      <th>AUC_ROC</th>\n",
       "    </tr>\n",
       "  </thead>\n",
       "  <tbody>\n",
       "    <tr>\n",
       "      <th>0</th>\n",
       "      <td>1.0</td>\n",
       "      <td>0.482</td>\n",
       "      <td>0.680946</td>\n",
       "    </tr>\n",
       "    <tr>\n",
       "      <th>1</th>\n",
       "      <td>2.0</td>\n",
       "      <td>0.525604</td>\n",
       "      <td>0.748</td>\n",
       "    </tr>\n",
       "    <tr>\n",
       "      <th>2</th>\n",
       "      <td>3.0</td>\n",
       "      <td>0.552577</td>\n",
       "      <td>0.809409</td>\n",
       "    </tr>\n",
       "    <tr>\n",
       "      <th>3</th>\n",
       "      <td>4.0</td>\n",
       "      <td>0.54026</td>\n",
       "      <td>0.816445</td>\n",
       "    </tr>\n",
       "    <tr>\n",
       "      <th>4</th>\n",
       "      <td>5.0</td>\n",
       "      <td>0.584995</td>\n",
       "      <td>0.840174</td>\n",
       "    </tr>\n",
       "    <tr>\n",
       "      <th>5</th>\n",
       "      <td>6.0</td>\n",
       "      <td>0.592058</td>\n",
       "      <td>0.841512</td>\n",
       "    </tr>\n",
       "    <tr>\n",
       "      <th>6</th>\n",
       "      <td>7.0</td>\n",
       "      <td>0.589719</td>\n",
       "      <td>0.83398</td>\n",
       "    </tr>\n",
       "    <tr>\n",
       "      <th>7</th>\n",
       "      <td>8.0</td>\n",
       "      <td>0.594217</td>\n",
       "      <td>0.821801</td>\n",
       "    </tr>\n",
       "    <tr>\n",
       "      <th>8</th>\n",
       "      <td>9.0</td>\n",
       "      <td>0.570297</td>\n",
       "      <td>0.802929</td>\n",
       "    </tr>\n",
       "    <tr>\n",
       "      <th>9</th>\n",
       "      <td>10.0</td>\n",
       "      <td>0.565476</td>\n",
       "      <td>0.787833</td>\n",
       "    </tr>\n",
       "    <tr>\n",
       "      <th>10</th>\n",
       "      <td>11.0</td>\n",
       "      <td>0.545825</td>\n",
       "      <td>0.762408</td>\n",
       "    </tr>\n",
       "    <tr>\n",
       "      <th>11</th>\n",
       "      <td>12.0</td>\n",
       "      <td>0.536741</td>\n",
       "      <td>0.740372</td>\n",
       "    </tr>\n",
       "    <tr>\n",
       "      <th>12</th>\n",
       "      <td>13.0</td>\n",
       "      <td>0.53217</td>\n",
       "      <td>0.724262</td>\n",
       "    </tr>\n",
       "    <tr>\n",
       "      <th>13</th>\n",
       "      <td>14.0</td>\n",
       "      <td>0.532584</td>\n",
       "      <td>0.712414</td>\n",
       "    </tr>\n",
       "    <tr>\n",
       "      <th>14</th>\n",
       "      <td>15.0</td>\n",
       "      <td>0.525205</td>\n",
       "      <td>0.706469</td>\n",
       "    </tr>\n",
       "    <tr>\n",
       "      <th>15</th>\n",
       "      <td>16.0</td>\n",
       "      <td>0.507109</td>\n",
       "      <td>0.692354</td>\n",
       "    </tr>\n",
       "    <tr>\n",
       "      <th>16</th>\n",
       "      <td>17.0</td>\n",
       "      <td>0.504831</td>\n",
       "      <td>0.686388</td>\n",
       "    </tr>\n",
       "    <tr>\n",
       "      <th>17</th>\n",
       "      <td>18.0</td>\n",
       "      <td>0.517968</td>\n",
       "      <td>0.693873</td>\n",
       "    </tr>\n",
       "    <tr>\n",
       "      <th>18</th>\n",
       "      <td>19.0</td>\n",
       "      <td>0.506234</td>\n",
       "      <td>0.686709</td>\n",
       "    </tr>\n",
       "    <tr>\n",
       "      <th>19</th>\n",
       "      <td>20.0</td>\n",
       "      <td>0.512315</td>\n",
       "      <td>0.690366</td>\n",
       "    </tr>\n",
       "    <tr>\n",
       "      <th>20</th>\n",
       "      <td>21.0</td>\n",
       "      <td>0.511222</td>\n",
       "      <td>0.688949</td>\n",
       "    </tr>\n",
       "    <tr>\n",
       "      <th>21</th>\n",
       "      <td>22.0</td>\n",
       "      <td>0.511222</td>\n",
       "      <td>0.688949</td>\n",
       "    </tr>\n",
       "    <tr>\n",
       "      <th>22</th>\n",
       "      <td>23.0</td>\n",
       "      <td>0.511222</td>\n",
       "      <td>0.688949</td>\n",
       "    </tr>\n",
       "    <tr>\n",
       "      <th>23</th>\n",
       "      <td>24.0</td>\n",
       "      <td>0.511222</td>\n",
       "      <td>0.688949</td>\n",
       "    </tr>\n",
       "    <tr>\n",
       "      <th>24</th>\n",
       "      <td>25.0</td>\n",
       "      <td>0.511222</td>\n",
       "      <td>0.688949</td>\n",
       "    </tr>\n",
       "    <tr>\n",
       "      <th>25</th>\n",
       "      <td>26.0</td>\n",
       "      <td>0.511222</td>\n",
       "      <td>0.688949</td>\n",
       "    </tr>\n",
       "    <tr>\n",
       "      <th>26</th>\n",
       "      <td>27.0</td>\n",
       "      <td>0.511222</td>\n",
       "      <td>0.688949</td>\n",
       "    </tr>\n",
       "    <tr>\n",
       "      <th>27</th>\n",
       "      <td>28.0</td>\n",
       "      <td>0.511222</td>\n",
       "      <td>0.688949</td>\n",
       "    </tr>\n",
       "    <tr>\n",
       "      <th>28</th>\n",
       "      <td>29.0</td>\n",
       "      <td>0.511222</td>\n",
       "      <td>0.688949</td>\n",
       "    </tr>\n",
       "    <tr>\n",
       "      <th>29</th>\n",
       "      <td>30.0</td>\n",
       "      <td>0.511222</td>\n",
       "      <td>0.688949</td>\n",
       "    </tr>\n",
       "  </tbody>\n",
       "</table>\n",
       "</div>"
      ],
      "text/plain": [
       "   max_depth  F1_score   AUC_ROC\n",
       "0        1.0     0.482  0.680946\n",
       "1        2.0  0.525604     0.748\n",
       "2        3.0  0.552577  0.809409\n",
       "3        4.0   0.54026  0.816445\n",
       "4        5.0  0.584995  0.840174\n",
       "5        6.0  0.592058  0.841512\n",
       "6        7.0  0.589719   0.83398\n",
       "7        8.0  0.594217  0.821801\n",
       "8        9.0  0.570297  0.802929\n",
       "9       10.0  0.565476  0.787833\n",
       "10      11.0  0.545825  0.762408\n",
       "11      12.0  0.536741  0.740372\n",
       "12      13.0   0.53217  0.724262\n",
       "13      14.0  0.532584  0.712414\n",
       "14      15.0  0.525205  0.706469\n",
       "15      16.0  0.507109  0.692354\n",
       "16      17.0  0.504831  0.686388\n",
       "17      18.0  0.517968  0.693873\n",
       "18      19.0  0.506234  0.686709\n",
       "19      20.0  0.512315  0.690366\n",
       "20      21.0  0.511222  0.688949\n",
       "21      22.0  0.511222  0.688949\n",
       "22      23.0  0.511222  0.688949\n",
       "23      24.0  0.511222  0.688949\n",
       "24      25.0  0.511222  0.688949\n",
       "25      26.0  0.511222  0.688949\n",
       "26      27.0  0.511222  0.688949\n",
       "27      28.0  0.511222  0.688949\n",
       "28      29.0  0.511222  0.688949\n",
       "29      30.0  0.511222  0.688949"
      ]
     },
     "metadata": {},
     "output_type": "display_data"
    }
   ],
   "source": [
    "df_temp = df_temp.drop(df_temp.index)\n",
    "\n",
    "best_up_tree_model = 0\n",
    "best_tree_depth = 0\n",
    "best_tree_result = 0\n",
    "best_tree_aucroc = 0\n",
    "\n",
    "for depth in tqdm_notebook(range(1, 31, 1)):\n",
    "    model = DecisionTreeClassifier(\n",
    "#         class_weight='balanced',\n",
    "        max_depth=depth,\n",
    "        random_state=2022)\n",
    "    \n",
    "    # обучение на увеличенной выборке\n",
    "    model.fit(train_features_up, train_target_up)\n",
    "    \n",
    "    prediction_tree = model.predict(valid_features)\n",
    "    result = f1_score(valid_target, prediction_tree)\n",
    "    \n",
    "    probabilities = model.predict_proba(valid_features)\n",
    "    probabilities_one = probabilities[:,1]\n",
    "    auc_roc = roc_auc_score(valid_target, probabilities_one)\n",
    "    \n",
    "    df_temp = df_temp.append(\n",
    "        {'max_depth': depth, 'F1_score':result, 'AUC_ROC':auc_roc}, ignore_index=True\n",
    "    )\n",
    "    \n",
    "    if result > best_tree_result:\n",
    "        best_tree_result = result\n",
    "        best_tree_depth = depth\n",
    "        best_up_tree_model = model\n",
    "        best_tree_aucroc = auc_roc\n",
    "print(\n",
    "    \"max_depth =\", best_tree_depth,\n",
    "    \"\\nf1_score =\", best_tree_result,\n",
    "    \"\\nf1_score =\", best_tree_aucroc\n",
    ")\n",
    "\n",
    "\n",
    "df_train_result.loc['решающее_дерево', 'F1_up'] = best_tree_result\n",
    "df_train_result.loc['решающее_дерево', 'AUC_ROC_up'] = best_tree_aucroc\n",
    "\n",
    "plt.figure()\n",
    "(\n",
    "    df_temp\n",
    "    .round(4) # округляем\n",
    "    .sort_values(by='F1_score') # сортируем по F1\n",
    "    .plot(\n",
    "        kind='scatter',\n",
    "        x='F1_score',\n",
    "        y='AUC_ROC',\n",
    "        figsize=(9,9),\n",
    "        xlim=(0.45, 0.65),\n",
    "        ylim=(0.65, 0.85),\n",
    "        grid=True,\n",
    "        rot=45,\n",
    "        xticks=np_xticks,\n",
    "        yticks=np_yticks\n",
    "));\n",
    "\n",
    "plt.title('Зависимость AUC-ROC от F1_score')\n",
    "plt.show()\n",
    "display(df_temp.corr().round(2))\n",
    "display(df_temp)"
   ]
  },
  {
   "cell_type": "code",
   "execution_count": 38,
   "metadata": {},
   "outputs": [
    {
     "data": {
      "text/html": [
       "<div>\n",
       "<style scoped>\n",
       "    .dataframe tbody tr th:only-of-type {\n",
       "        vertical-align: middle;\n",
       "    }\n",
       "\n",
       "    .dataframe tbody tr th {\n",
       "        vertical-align: top;\n",
       "    }\n",
       "\n",
       "    .dataframe thead th {\n",
       "        text-align: right;\n",
       "    }\n",
       "</style>\n",
       "<table border=\"1\" class=\"dataframe\">\n",
       "  <thead>\n",
       "    <tr style=\"text-align: right;\">\n",
       "      <th></th>\n",
       "      <th>F1_raw</th>\n",
       "      <th>AUC_ROC_raw</th>\n",
       "      <th>|</th>\n",
       "      <th>F1_balanced</th>\n",
       "      <th>AUC_ROC_balanced</th>\n",
       "      <th>|</th>\n",
       "      <th>F1_up</th>\n",
       "      <th>AUC_ROC_up</th>\n",
       "      <th>|</th>\n",
       "      <th>F1_down</th>\n",
       "      <th>AUC_ROC_down</th>\n",
       "    </tr>\n",
       "  </thead>\n",
       "  <tbody>\n",
       "    <tr>\n",
       "      <th>решающее_дерево</th>\n",
       "      <td>0.58445</td>\n",
       "      <td>0.785915</td>\n",
       "      <td>|</td>\n",
       "      <td>0.590513</td>\n",
       "      <td>0.825791</td>\n",
       "      <td>|</td>\n",
       "      <td>0.594217</td>\n",
       "      <td>0.821801</td>\n",
       "      <td>|</td>\n",
       "      <td>NaN</td>\n",
       "      <td>NaN</td>\n",
       "    </tr>\n",
       "    <tr>\n",
       "      <th>случайный_лес</th>\n",
       "      <td>0.615385</td>\n",
       "      <td>0.785915</td>\n",
       "      <td>|</td>\n",
       "      <td>0.658416</td>\n",
       "      <td>0.871258</td>\n",
       "      <td>|</td>\n",
       "      <td>NaN</td>\n",
       "      <td>NaN</td>\n",
       "      <td>|</td>\n",
       "      <td>NaN</td>\n",
       "      <td>NaN</td>\n",
       "    </tr>\n",
       "    <tr>\n",
       "      <th>логистическая_регрессия</th>\n",
       "      <td>0.288809</td>\n",
       "      <td>0.779717</td>\n",
       "      <td>|</td>\n",
       "      <td>0.521368</td>\n",
       "      <td>0.780395</td>\n",
       "      <td>|</td>\n",
       "      <td>0.520922</td>\n",
       "      <td>0.780395</td>\n",
       "      <td>|</td>\n",
       "      <td>NaN</td>\n",
       "      <td>NaN</td>\n",
       "    </tr>\n",
       "  </tbody>\n",
       "</table>\n",
       "</div>"
      ],
      "text/plain": [
       "                           F1_raw AUC_ROC_raw  | F1_balanced AUC_ROC_balanced  \\\n",
       "решающее_дерево           0.58445    0.785915  |    0.590513         0.825791   \n",
       "случайный_лес            0.615385    0.785915  |    0.658416         0.871258   \n",
       "логистическая_регрессия  0.288809    0.779717  |    0.521368         0.780395   \n",
       "\n",
       "                         |     F1_up AUC_ROC_up  | F1_down AUC_ROC_down  \n",
       "решающее_дерево          |  0.594217   0.821801  |     NaN          NaN  \n",
       "случайный_лес            |       NaN        NaN  |     NaN          NaN  \n",
       "логистическая_регрессия  |  0.520922   0.780395  |     NaN          NaN  "
      ]
     },
     "execution_count": 38,
     "metadata": {},
     "output_type": "execute_result"
    }
   ],
   "source": [
    "df_train_result"
   ]
  },
  {
   "cell_type": "markdown",
   "metadata": {},
   "source": [
    "увеличение качества модели, уменьшение AUC_ROC"
   ]
  },
  {
   "cell_type": "markdown",
   "metadata": {},
   "source": [
    "#### Случайный лес"
   ]
  },
  {
   "cell_type": "code",
   "execution_count": 39,
   "metadata": {
    "scrolled": false
   },
   "outputs": [
    {
     "data": {
      "application/vnd.jupyter.widget-view+json": {
       "model_id": "d0a7f150d85b46708b7256ecaac610e0",
       "version_major": 2,
       "version_minor": 0
      },
      "text/plain": [
       "  0%|          | 0/30 [00:00<?, ?it/s]"
      ]
     },
     "metadata": {},
     "output_type": "display_data"
    },
    {
     "name": "stdout",
     "output_type": "stream",
     "text": [
      "max_depth = 11 \n",
      "F1_score = 0.6636466591166478 \n",
      "AUC_ROC = 0.8701718347368852\n"
     ]
    },
    {
     "data": {
      "text/plain": [
       "<Figure size 432x288 with 0 Axes>"
      ]
     },
     "metadata": {},
     "output_type": "display_data"
    },
    {
     "data": {
      "image/png": "[encoded data removed]",
      "text/plain": [
       "<Figure size 648x648 with 1 Axes>"
      ]
     },
     "metadata": {
      "needs_background": "light"
     },
     "output_type": "display_data"
    },
    {
     "data": {
      "text/html": [
       "<div>\n",
       "<style scoped>\n",
       "    .dataframe tbody tr th:only-of-type {\n",
       "        vertical-align: middle;\n",
       "    }\n",
       "\n",
       "    .dataframe tbody tr th {\n",
       "        vertical-align: top;\n",
       "    }\n",
       "\n",
       "    .dataframe thead th {\n",
       "        text-align: right;\n",
       "    }\n",
       "</style>\n",
       "<table border=\"1\" class=\"dataframe\">\n",
       "  <thead>\n",
       "    <tr style=\"text-align: right;\">\n",
       "      <th></th>\n",
       "    </tr>\n",
       "  </thead>\n",
       "  <tbody>\n",
       "  </tbody>\n",
       "</table>\n",
       "</div>"
      ],
      "text/plain": [
       "Empty DataFrame\n",
       "Columns: []\n",
       "Index: []"
      ]
     },
     "metadata": {},
     "output_type": "display_data"
    },
    {
     "data": {
      "text/html": [
       "<div>\n",
       "<style scoped>\n",
       "    .dataframe tbody tr th:only-of-type {\n",
       "        vertical-align: middle;\n",
       "    }\n",
       "\n",
       "    .dataframe tbody tr th {\n",
       "        vertical-align: top;\n",
       "    }\n",
       "\n",
       "    .dataframe thead th {\n",
       "        text-align: right;\n",
       "    }\n",
       "</style>\n",
       "<table border=\"1\" class=\"dataframe\">\n",
       "  <thead>\n",
       "    <tr style=\"text-align: right;\">\n",
       "      <th></th>\n",
       "      <th>max_depth</th>\n",
       "      <th>F1_score</th>\n",
       "      <th>AUC_ROC</th>\n",
       "    </tr>\n",
       "  </thead>\n",
       "  <tbody>\n",
       "    <tr>\n",
       "      <th>0</th>\n",
       "      <td>1.0</td>\n",
       "      <td>0.514886</td>\n",
       "      <td>0.810617</td>\n",
       "    </tr>\n",
       "    <tr>\n",
       "      <th>1</th>\n",
       "      <td>2.0</td>\n",
       "      <td>0.573864</td>\n",
       "      <td>0.83554</td>\n",
       "    </tr>\n",
       "    <tr>\n",
       "      <th>2</th>\n",
       "      <td>3.0</td>\n",
       "      <td>0.545136</td>\n",
       "      <td>0.842377</td>\n",
       "    </tr>\n",
       "    <tr>\n",
       "      <th>3</th>\n",
       "      <td>4.0</td>\n",
       "      <td>0.587465</td>\n",
       "      <td>0.857172</td>\n",
       "    </tr>\n",
       "    <tr>\n",
       "      <th>4</th>\n",
       "      <td>5.0</td>\n",
       "      <td>0.604066</td>\n",
       "      <td>0.863269</td>\n",
       "    </tr>\n",
       "    <tr>\n",
       "      <th>5</th>\n",
       "      <td>6.0</td>\n",
       "      <td>0.632207</td>\n",
       "      <td>0.867428</td>\n",
       "    </tr>\n",
       "    <tr>\n",
       "      <th>6</th>\n",
       "      <td>7.0</td>\n",
       "      <td>0.630542</td>\n",
       "      <td>0.870179</td>\n",
       "    </tr>\n",
       "    <tr>\n",
       "      <th>7</th>\n",
       "      <td>8.0</td>\n",
       "      <td>0.660436</td>\n",
       "      <td>0.871712</td>\n",
       "    </tr>\n",
       "    <tr>\n",
       "      <th>8</th>\n",
       "      <td>9.0</td>\n",
       "      <td>0.642105</td>\n",
       "      <td>0.871185</td>\n",
       "    </tr>\n",
       "    <tr>\n",
       "      <th>9</th>\n",
       "      <td>10.0</td>\n",
       "      <td>0.655738</td>\n",
       "      <td>0.869208</td>\n",
       "    </tr>\n",
       "    <tr>\n",
       "      <th>10</th>\n",
       "      <td>11.0</td>\n",
       "      <td>0.663647</td>\n",
       "      <td>0.870172</td>\n",
       "    </tr>\n",
       "    <tr>\n",
       "      <th>11</th>\n",
       "      <td>12.0</td>\n",
       "      <td>0.64554</td>\n",
       "      <td>0.865411</td>\n",
       "    </tr>\n",
       "    <tr>\n",
       "      <th>12</th>\n",
       "      <td>13.0</td>\n",
       "      <td>0.651442</td>\n",
       "      <td>0.869212</td>\n",
       "    </tr>\n",
       "    <tr>\n",
       "      <th>13</th>\n",
       "      <td>14.0</td>\n",
       "      <td>0.641089</td>\n",
       "      <td>0.86693</td>\n",
       "    </tr>\n",
       "    <tr>\n",
       "      <th>14</th>\n",
       "      <td>15.0</td>\n",
       "      <td>0.634395</td>\n",
       "      <td>0.861146</td>\n",
       "    </tr>\n",
       "    <tr>\n",
       "      <th>15</th>\n",
       "      <td>16.0</td>\n",
       "      <td>0.640103</td>\n",
       "      <td>0.862622</td>\n",
       "    </tr>\n",
       "    <tr>\n",
       "      <th>16</th>\n",
       "      <td>17.0</td>\n",
       "      <td>0.625654</td>\n",
       "      <td>0.866028</td>\n",
       "    </tr>\n",
       "    <tr>\n",
       "      <th>17</th>\n",
       "      <td>18.0</td>\n",
       "      <td>0.630631</td>\n",
       "      <td>0.865823</td>\n",
       "    </tr>\n",
       "    <tr>\n",
       "      <th>18</th>\n",
       "      <td>19.0</td>\n",
       "      <td>0.629243</td>\n",
       "      <td>0.864723</td>\n",
       "    </tr>\n",
       "    <tr>\n",
       "      <th>19</th>\n",
       "      <td>20.0</td>\n",
       "      <td>0.630607</td>\n",
       "      <td>0.865482</td>\n",
       "    </tr>\n",
       "    <tr>\n",
       "      <th>20</th>\n",
       "      <td>21.0</td>\n",
       "      <td>0.642951</td>\n",
       "      <td>0.866889</td>\n",
       "    </tr>\n",
       "    <tr>\n",
       "      <th>21</th>\n",
       "      <td>22.0</td>\n",
       "      <td>0.632275</td>\n",
       "      <td>0.862406</td>\n",
       "    </tr>\n",
       "    <tr>\n",
       "      <th>22</th>\n",
       "      <td>23.0</td>\n",
       "      <td>0.6313</td>\n",
       "      <td>0.863064</td>\n",
       "    </tr>\n",
       "    <tr>\n",
       "      <th>23</th>\n",
       "      <td>24.0</td>\n",
       "      <td>0.637681</td>\n",
       "      <td>0.863661</td>\n",
       "    </tr>\n",
       "    <tr>\n",
       "      <th>24</th>\n",
       "      <td>25.0</td>\n",
       "      <td>0.626667</td>\n",
       "      <td>0.862855</td>\n",
       "    </tr>\n",
       "    <tr>\n",
       "      <th>25</th>\n",
       "      <td>26.0</td>\n",
       "      <td>0.634082</td>\n",
       "      <td>0.863999</td>\n",
       "    </tr>\n",
       "    <tr>\n",
       "      <th>26</th>\n",
       "      <td>27.0</td>\n",
       "      <td>0.632411</td>\n",
       "      <td>0.863999</td>\n",
       "    </tr>\n",
       "    <tr>\n",
       "      <th>27</th>\n",
       "      <td>28.0</td>\n",
       "      <td>0.629921</td>\n",
       "      <td>0.863915</td>\n",
       "    </tr>\n",
       "    <tr>\n",
       "      <th>28</th>\n",
       "      <td>29.0</td>\n",
       "      <td>0.629921</td>\n",
       "      <td>0.863915</td>\n",
       "    </tr>\n",
       "    <tr>\n",
       "      <th>29</th>\n",
       "      <td>30.0</td>\n",
       "      <td>0.629921</td>\n",
       "      <td>0.863915</td>\n",
       "    </tr>\n",
       "  </tbody>\n",
       "</table>\n",
       "</div>"
      ],
      "text/plain": [
       "   max_depth  F1_score   AUC_ROC\n",
       "0        1.0  0.514886  0.810617\n",
       "1        2.0  0.573864   0.83554\n",
       "2        3.0  0.545136  0.842377\n",
       "3        4.0  0.587465  0.857172\n",
       "4        5.0  0.604066  0.863269\n",
       "5        6.0  0.632207  0.867428\n",
       "6        7.0  0.630542  0.870179\n",
       "7        8.0  0.660436  0.871712\n",
       "8        9.0  0.642105  0.871185\n",
       "9       10.0  0.655738  0.869208\n",
       "10      11.0  0.663647  0.870172\n",
       "11      12.0   0.64554  0.865411\n",
       "12      13.0  0.651442  0.869212\n",
       "13      14.0  0.641089   0.86693\n",
       "14      15.0  0.634395  0.861146\n",
       "15      16.0  0.640103  0.862622\n",
       "16      17.0  0.625654  0.866028\n",
       "17      18.0  0.630631  0.865823\n",
       "18      19.0  0.629243  0.864723\n",
       "19      20.0  0.630607  0.865482\n",
       "20      21.0  0.642951  0.866889\n",
       "21      22.0  0.632275  0.862406\n",
       "22      23.0    0.6313  0.863064\n",
       "23      24.0  0.637681  0.863661\n",
       "24      25.0  0.626667  0.862855\n",
       "25      26.0  0.634082  0.863999\n",
       "26      27.0  0.632411  0.863999\n",
       "27      28.0  0.629921  0.863915\n",
       "28      29.0  0.629921  0.863915\n",
       "29      30.0  0.629921  0.863915"
      ]
     },
     "metadata": {},
     "output_type": "display_data"
    }
   ],
   "source": [
    "df_temp = df_temp.drop(df_temp.index)\n",
    "\n",
    "best_up_forest_model = 0\n",
    "best_forest_depth = 0\n",
    "# best_forest_estimators = 0\n",
    "best_forest_result = 0\n",
    "best_forest_auc_roc = 0\n",
    "\n",
    "for depth in tqdm_notebook(range(1,31, 1)):\n",
    "#     for estimators in tqdm_notebook(range(57,63, 1), leave=False):\n",
    "        model = RandomForestClassifier(\n",
    "#             class_weight='balanced',\n",
    "            random_state=2022,\n",
    "            max_depth=depth,\n",
    "            n_estimators = 59,\n",
    "            n_jobs=-1\n",
    "        )\n",
    "\n",
    "        model.fit(train_features_up, train_target_up)\n",
    "        \n",
    "        prediction = model.predict(valid_features)\n",
    "        result = f1_score(valid_target, prediction)\n",
    "        \n",
    "        probabilities = model.predict_proba(valid_features)\n",
    "        probabilities_one = probabilities[:,1]\n",
    "        auc_roc = roc_auc_score(valid_target, probabilities_one)\n",
    "        \n",
    "        df_temp = df_temp.append(\n",
    "        {'max_depth': depth, 'F1_score':result, 'AUC_ROC':auc_roc}, ignore_index=True\n",
    "    )\n",
    "        \n",
    "        \n",
    "        if result > best_forest_result:\n",
    "            best_forest_result = result\n",
    "            best_forest_depth = depth\n",
    "#             best_forest_estimators = estimators\n",
    "            best_up_forest_model = model\n",
    "            best_forest_auc_roc = auc_roc\n",
    "    \n",
    "print(\n",
    "    \"max_depth =\", best_forest_depth,\n",
    "#     \"\\nn_estimators =\", best_forest_estimators,\n",
    "    \"\\nF1_score =\", best_forest_result,\n",
    "    \"\\nAUC_ROC =\", best_forest_auc_roc\n",
    "    \n",
    ")\n",
    "df_train_result.loc['случайный_лес', 'F1_up'] = best_forest_result\n",
    "df_train_result.loc['случайный_лес', 'AUC_ROC_up'] = best_forest_auc_roc\n",
    "\n",
    "plt.figure()\n",
    "(\n",
    "    df_temp\n",
    "    .round(4) # округляем\n",
    "    .sort_values(by='F1_score') # сортируем по F1\n",
    "    .plot(\n",
    "        kind='scatter',\n",
    "        x='F1_score',\n",
    "        y='AUC_ROC',\n",
    "        figsize=(9,9),\n",
    "        xlim=(0.6, 0.7),\n",
    "        ylim=(0.8, 0.9),\n",
    "        grid=True,\n",
    "        rot=45,\n",
    "        xticks=np_xticks,\n",
    "        yticks=np_yticks\n",
    "));\n",
    "\n",
    "plt.title('Зависимость AUC-ROC от F1_score')\n",
    "plt.show()\n",
    "display(df_temp.corr().round(2))\n",
    "display(df_temp)"
   ]
  },
  {
   "cell_type": "code",
   "execution_count": 40,
   "metadata": {},
   "outputs": [
    {
     "data": {
      "text/html": [
       "<div>\n",
       "<style scoped>\n",
       "    .dataframe tbody tr th:only-of-type {\n",
       "        vertical-align: middle;\n",
       "    }\n",
       "\n",
       "    .dataframe tbody tr th {\n",
       "        vertical-align: top;\n",
       "    }\n",
       "\n",
       "    .dataframe thead th {\n",
       "        text-align: right;\n",
       "    }\n",
       "</style>\n",
       "<table border=\"1\" class=\"dataframe\">\n",
       "  <thead>\n",
       "    <tr style=\"text-align: right;\">\n",
       "      <th></th>\n",
       "      <th>F1_raw</th>\n",
       "      <th>AUC_ROC_raw</th>\n",
       "      <th>|</th>\n",
       "      <th>F1_balanced</th>\n",
       "      <th>AUC_ROC_balanced</th>\n",
       "      <th>|</th>\n",
       "      <th>F1_up</th>\n",
       "      <th>AUC_ROC_up</th>\n",
       "      <th>|</th>\n",
       "      <th>F1_down</th>\n",
       "      <th>AUC_ROC_down</th>\n",
       "    </tr>\n",
       "  </thead>\n",
       "  <tbody>\n",
       "    <tr>\n",
       "      <th>решающее_дерево</th>\n",
       "      <td>0.58445</td>\n",
       "      <td>0.785915</td>\n",
       "      <td>|</td>\n",
       "      <td>0.590513</td>\n",
       "      <td>0.825791</td>\n",
       "      <td>|</td>\n",
       "      <td>0.594217</td>\n",
       "      <td>0.821801</td>\n",
       "      <td>|</td>\n",
       "      <td>NaN</td>\n",
       "      <td>NaN</td>\n",
       "    </tr>\n",
       "    <tr>\n",
       "      <th>случайный_лес</th>\n",
       "      <td>0.615385</td>\n",
       "      <td>0.785915</td>\n",
       "      <td>|</td>\n",
       "      <td>0.658416</td>\n",
       "      <td>0.871258</td>\n",
       "      <td>|</td>\n",
       "      <td>0.663647</td>\n",
       "      <td>0.870172</td>\n",
       "      <td>|</td>\n",
       "      <td>NaN</td>\n",
       "      <td>NaN</td>\n",
       "    </tr>\n",
       "    <tr>\n",
       "      <th>логистическая_регрессия</th>\n",
       "      <td>0.288809</td>\n",
       "      <td>0.779717</td>\n",
       "      <td>|</td>\n",
       "      <td>0.521368</td>\n",
       "      <td>0.780395</td>\n",
       "      <td>|</td>\n",
       "      <td>0.520922</td>\n",
       "      <td>0.780395</td>\n",
       "      <td>|</td>\n",
       "      <td>NaN</td>\n",
       "      <td>NaN</td>\n",
       "    </tr>\n",
       "  </tbody>\n",
       "</table>\n",
       "</div>"
      ],
      "text/plain": [
       "                           F1_raw AUC_ROC_raw  | F1_balanced AUC_ROC_balanced  \\\n",
       "решающее_дерево           0.58445    0.785915  |    0.590513         0.825791   \n",
       "случайный_лес            0.615385    0.785915  |    0.658416         0.871258   \n",
       "логистическая_регрессия  0.288809    0.779717  |    0.521368         0.780395   \n",
       "\n",
       "                         |     F1_up AUC_ROC_up  | F1_down AUC_ROC_down  \n",
       "решающее_дерево          |  0.594217   0.821801  |     NaN          NaN  \n",
       "случайный_лес            |  0.663647   0.870172  |     NaN          NaN  \n",
       "логистическая_регрессия  |  0.520922   0.780395  |     NaN          NaN  "
      ]
     },
     "execution_count": 40,
     "metadata": {},
     "output_type": "execute_result"
    }
   ],
   "source": [
    "df_train_result"
   ]
  },
  {
   "cell_type": "markdown",
   "metadata": {},
   "source": [
    "Уменьшение качества модели, увеличение AUC-ROC"
   ]
  },
  {
   "cell_type": "markdown",
   "metadata": {},
   "source": [
    "### Уменьшение выборки"
   ]
  },
  {
   "cell_type": "markdown",
   "metadata": {},
   "source": [
    "Для балансировки модели, применяется техника увеличения выборок"
   ]
  },
  {
   "cell_type": "code",
   "execution_count": 41,
   "metadata": {},
   "outputs": [
    {
     "data": {
      "text/html": [
       "<div>\n",
       "<style scoped>\n",
       "    .dataframe tbody tr th:only-of-type {\n",
       "        vertical-align: middle;\n",
       "    }\n",
       "\n",
       "    .dataframe tbody tr th {\n",
       "        vertical-align: top;\n",
       "    }\n",
       "\n",
       "    .dataframe thead th {\n",
       "        text-align: right;\n",
       "    }\n",
       "</style>\n",
       "<table border=\"1\" class=\"dataframe\">\n",
       "  <thead>\n",
       "    <tr style=\"text-align: right;\">\n",
       "      <th></th>\n",
       "      <th>абсолют</th>\n",
       "      <th>относит</th>\n",
       "    </tr>\n",
       "  </thead>\n",
       "  <tbody>\n",
       "    <tr>\n",
       "      <th>0</th>\n",
       "      <td>7963</td>\n",
       "      <td>0.8</td>\n",
       "    </tr>\n",
       "    <tr>\n",
       "      <th>1</th>\n",
       "      <td>2037</td>\n",
       "      <td>0.2</td>\n",
       "    </tr>\n",
       "  </tbody>\n",
       "</table>\n",
       "</div>"
      ],
      "text/plain": [
       "   абсолют  относит\n",
       "0     7963      0.8\n",
       "1     2037      0.2"
      ]
     },
     "execution_count": 41,
     "metadata": {},
     "output_type": "execute_result"
    }
   ],
   "source": [
    "df = pd.concat(\n",
    "    [\n",
    "        df_raw['exited'].value_counts().round(2),\n",
    "        df_raw['exited'].value_counts(normalize=True).round(2),\n",
    "    ], axis=1,\n",
    "         )\n",
    "df.columns = ['абсолют','относит']\n",
    "df"
   ]
  },
  {
   "cell_type": "code",
   "execution_count": 42,
   "metadata": {},
   "outputs": [
    {
     "name": "stdout",
     "output_type": "stream",
     "text": [
      "1223\n",
      "1204\n",
      "0.9844644317252658\n",
      "1.01578073089701\n",
      "(2427, 11)\n",
      "(2427,)\n"
     ]
    }
   ],
   "source": [
    "train_features_down, train_target_down = downsample(train_features, train_target, 0.255)\n",
    "\n",
    "print(len(train_features_down[train_target_down == 0]))\n",
    "print(len(train_features_down[train_target_down == 1]))\n",
    "\n",
    "print(\n",
    "    len(train_features_down[train_target_down == 1]) / len(train_features_down[train_target_down == 0])\n",
    ")\n",
    "\n",
    "print(\n",
    "    len(train_features_down[train_target_down == 0]) / len(train_features_down[train_target_down == 1])\n",
    ")\n",
    "\n",
    "print(train_features_down.shape)\n",
    "print(train_target_down.shape)"
   ]
  },
  {
   "cell_type": "markdown",
   "metadata": {},
   "source": [
    "#### Логистическая регрессия¶"
   ]
  },
  {
   "cell_type": "code",
   "execution_count": 43,
   "metadata": {},
   "outputs": [
    {
     "name": "stdout",
     "output_type": "stream",
     "text": [
      "F1_score = 0.524505588993981 \n",
      "AUC_ROC = 0.780394509408266\n"
     ]
    },
    {
     "data": {
      "text/html": [
       "<div>\n",
       "<style scoped>\n",
       "    .dataframe tbody tr th:only-of-type {\n",
       "        vertical-align: middle;\n",
       "    }\n",
       "\n",
       "    .dataframe tbody tr th {\n",
       "        vertical-align: top;\n",
       "    }\n",
       "\n",
       "    .dataframe thead th {\n",
       "        text-align: right;\n",
       "    }\n",
       "</style>\n",
       "<table border=\"1\" class=\"dataframe\">\n",
       "  <thead>\n",
       "    <tr style=\"text-align: right;\">\n",
       "      <th></th>\n",
       "      <th>F1_raw</th>\n",
       "      <th>AUC_ROC_raw</th>\n",
       "      <th>|</th>\n",
       "      <th>F1_balanced</th>\n",
       "      <th>AUC_ROC_balanced</th>\n",
       "      <th>|</th>\n",
       "      <th>F1_up</th>\n",
       "      <th>AUC_ROC_up</th>\n",
       "      <th>|</th>\n",
       "      <th>F1_down</th>\n",
       "      <th>AUC_ROC_down</th>\n",
       "    </tr>\n",
       "  </thead>\n",
       "  <tbody>\n",
       "    <tr>\n",
       "      <th>решающее_дерево</th>\n",
       "      <td>0.58445</td>\n",
       "      <td>0.785915</td>\n",
       "      <td>|</td>\n",
       "      <td>0.590513</td>\n",
       "      <td>0.825791</td>\n",
       "      <td>|</td>\n",
       "      <td>0.594217</td>\n",
       "      <td>0.821801</td>\n",
       "      <td>|</td>\n",
       "      <td>NaN</td>\n",
       "      <td>NaN</td>\n",
       "    </tr>\n",
       "    <tr>\n",
       "      <th>случайный_лес</th>\n",
       "      <td>0.615385</td>\n",
       "      <td>0.785915</td>\n",
       "      <td>|</td>\n",
       "      <td>0.658416</td>\n",
       "      <td>0.871258</td>\n",
       "      <td>|</td>\n",
       "      <td>0.663647</td>\n",
       "      <td>0.870172</td>\n",
       "      <td>|</td>\n",
       "      <td>NaN</td>\n",
       "      <td>NaN</td>\n",
       "    </tr>\n",
       "    <tr>\n",
       "      <th>логистическая_регрессия</th>\n",
       "      <td>0.288809</td>\n",
       "      <td>0.779717</td>\n",
       "      <td>|</td>\n",
       "      <td>0.521368</td>\n",
       "      <td>0.780395</td>\n",
       "      <td>|</td>\n",
       "      <td>0.520922</td>\n",
       "      <td>0.780395</td>\n",
       "      <td>|</td>\n",
       "      <td>0.524506</td>\n",
       "      <td>0.780395</td>\n",
       "    </tr>\n",
       "  </tbody>\n",
       "</table>\n",
       "</div>"
      ],
      "text/plain": [
       "                           F1_raw AUC_ROC_raw  | F1_balanced AUC_ROC_balanced  \\\n",
       "решающее_дерево           0.58445    0.785915  |    0.590513         0.825791   \n",
       "случайный_лес            0.615385    0.785915  |    0.658416         0.871258   \n",
       "логистическая_регрессия  0.288809    0.779717  |    0.521368         0.780395   \n",
       "\n",
       "                         |     F1_up AUC_ROC_up  |   F1_down AUC_ROC_down  \n",
       "решающее_дерево          |  0.594217   0.821801  |       NaN          NaN  \n",
       "случайный_лес            |  0.663647   0.870172  |       NaN          NaN  \n",
       "логистическая_регрессия  |  0.520922   0.780395  |  0.524506     0.780395  "
      ]
     },
     "execution_count": 43,
     "metadata": {},
     "output_type": "execute_result"
    }
   ],
   "source": [
    "model_down_logistic = LogisticRegression(\n",
    "    random_state=2022,\n",
    "#     class_weight='balanced'\n",
    ")\n",
    "# обучение уменьшенной выборке\n",
    "model_down_logistic.fit(train_features_down, train_target_down)\n",
    "\n",
    "prediction = model_down_logistic.predict(valid_features)\n",
    "f1_logistic = f1_score(valid_target, prediction)\n",
    "\n",
    "probabilities = model_balanced_logistic.predict_proba(valid_features)\n",
    "probabilities_one_logistic = probabilities[:,1]\n",
    "logistic_auc_roc = roc_auc_score(valid_target, probabilities_one_logistic)\n",
    "print(\n",
    "    \"F1_score =\", f1_logistic,\n",
    "    \"\\nAUC_ROC =\", logistic_auc_roc\n",
    ")\n",
    "\n",
    "df_train_result.loc['логистическая_регрессия', 'F1_down'] = f1_logistic\n",
    "df_train_result.loc['логистическая_регрессия', 'AUC_ROC_down'] = logistic_auc_roc\n",
    "\n",
    "df_train_result"
   ]
  },
  {
   "cell_type": "markdown",
   "metadata": {},
   "source": [
    "Качество модели увеличилось. AUC_ROC не изменилась."
   ]
  },
  {
   "cell_type": "markdown",
   "metadata": {},
   "source": [
    "#### Решающее дерево"
   ]
  },
  {
   "cell_type": "code",
   "execution_count": 44,
   "metadata": {},
   "outputs": [
    {
     "data": {
      "application/vnd.jupyter.widget-view+json": {
       "model_id": "855b648814e5449cad8b91734469fd56",
       "version_major": 2,
       "version_minor": 0
      },
      "text/plain": [
       "  0%|          | 0/25 [00:00<?, ?it/s]"
      ]
     },
     "metadata": {},
     "output_type": "display_data"
    },
    {
     "name": "stdout",
     "output_type": "stream",
     "text": [
      "max_depth = 7 \n",
      "f1_score = 0.5914691943127961 \n",
      "f1_score = 0.8253058955236316\n"
     ]
    },
    {
     "data": {
      "text/plain": [
       "<Figure size 432x288 with 0 Axes>"
      ]
     },
     "metadata": {},
     "output_type": "display_data"
    },
    {
     "data": {
      "image/png": "[encoded data removed]",
      "text/plain": [
       "<Figure size 648x648 with 1 Axes>"
      ]
     },
     "metadata": {
      "needs_background": "light"
     },
     "output_type": "display_data"
    },
    {
     "data": {
      "text/html": [
       "<div>\n",
       "<style scoped>\n",
       "    .dataframe tbody tr th:only-of-type {\n",
       "        vertical-align: middle;\n",
       "    }\n",
       "\n",
       "    .dataframe tbody tr th {\n",
       "        vertical-align: top;\n",
       "    }\n",
       "\n",
       "    .dataframe thead th {\n",
       "        text-align: right;\n",
       "    }\n",
       "</style>\n",
       "<table border=\"1\" class=\"dataframe\">\n",
       "  <thead>\n",
       "    <tr style=\"text-align: right;\">\n",
       "      <th></th>\n",
       "    </tr>\n",
       "  </thead>\n",
       "  <tbody>\n",
       "  </tbody>\n",
       "</table>\n",
       "</div>"
      ],
      "text/plain": [
       "Empty DataFrame\n",
       "Columns: []\n",
       "Index: []"
      ]
     },
     "metadata": {},
     "output_type": "display_data"
    },
    {
     "data": {
      "text/html": [
       "<div>\n",
       "<style scoped>\n",
       "    .dataframe tbody tr th:only-of-type {\n",
       "        vertical-align: middle;\n",
       "    }\n",
       "\n",
       "    .dataframe tbody tr th {\n",
       "        vertical-align: top;\n",
       "    }\n",
       "\n",
       "    .dataframe thead th {\n",
       "        text-align: right;\n",
       "    }\n",
       "</style>\n",
       "<table border=\"1\" class=\"dataframe\">\n",
       "  <thead>\n",
       "    <tr style=\"text-align: right;\">\n",
       "      <th></th>\n",
       "      <th>max_depth</th>\n",
       "      <th>F1_score</th>\n",
       "      <th>AUC_ROC</th>\n",
       "    </tr>\n",
       "  </thead>\n",
       "  <tbody>\n",
       "    <tr>\n",
       "      <th>0</th>\n",
       "      <td>1.0</td>\n",
       "      <td>0.482</td>\n",
       "      <td>0.680946</td>\n",
       "    </tr>\n",
       "    <tr>\n",
       "      <th>1</th>\n",
       "      <td>2.0</td>\n",
       "      <td>0.525604</td>\n",
       "      <td>0.748</td>\n",
       "    </tr>\n",
       "    <tr>\n",
       "      <th>2</th>\n",
       "      <td>3.0</td>\n",
       "      <td>0.549587</td>\n",
       "      <td>0.806436</td>\n",
       "    </tr>\n",
       "    <tr>\n",
       "      <th>3</th>\n",
       "      <td>4.0</td>\n",
       "      <td>0.541958</td>\n",
       "      <td>0.816572</td>\n",
       "    </tr>\n",
       "    <tr>\n",
       "      <th>4</th>\n",
       "      <td>5.0</td>\n",
       "      <td>0.575673</td>\n",
       "      <td>0.833132</td>\n",
       "    </tr>\n",
       "    <tr>\n",
       "      <th>5</th>\n",
       "      <td>6.0</td>\n",
       "      <td>0.577778</td>\n",
       "      <td>0.833305</td>\n",
       "    </tr>\n",
       "    <tr>\n",
       "      <th>6</th>\n",
       "      <td>7.0</td>\n",
       "      <td>0.591469</td>\n",
       "      <td>0.825306</td>\n",
       "    </tr>\n",
       "    <tr>\n",
       "      <th>7</th>\n",
       "      <td>8.0</td>\n",
       "      <td>0.576846</td>\n",
       "      <td>0.80354</td>\n",
       "    </tr>\n",
       "    <tr>\n",
       "      <th>8</th>\n",
       "      <td>9.0</td>\n",
       "      <td>0.532556</td>\n",
       "      <td>0.774605</td>\n",
       "    </tr>\n",
       "    <tr>\n",
       "      <th>9</th>\n",
       "      <td>10.0</td>\n",
       "      <td>0.542884</td>\n",
       "      <td>0.758898</td>\n",
       "    </tr>\n",
       "    <tr>\n",
       "      <th>10</th>\n",
       "      <td>11.0</td>\n",
       "      <td>0.52861</td>\n",
       "      <td>0.737039</td>\n",
       "    </tr>\n",
       "    <tr>\n",
       "      <th>11</th>\n",
       "      <td>12.0</td>\n",
       "      <td>0.523767</td>\n",
       "      <td>0.736309</td>\n",
       "    </tr>\n",
       "    <tr>\n",
       "      <th>12</th>\n",
       "      <td>13.0</td>\n",
       "      <td>0.506993</td>\n",
       "      <td>0.720452</td>\n",
       "    </tr>\n",
       "    <tr>\n",
       "      <th>13</th>\n",
       "      <td>14.0</td>\n",
       "      <td>0.508155</td>\n",
       "      <td>0.717076</td>\n",
       "    </tr>\n",
       "    <tr>\n",
       "      <th>14</th>\n",
       "      <td>15.0</td>\n",
       "      <td>0.507284</td>\n",
       "      <td>0.712404</td>\n",
       "    </tr>\n",
       "    <tr>\n",
       "      <th>15</th>\n",
       "      <td>16.0</td>\n",
       "      <td>0.494898</td>\n",
       "      <td>0.703136</td>\n",
       "    </tr>\n",
       "    <tr>\n",
       "      <th>16</th>\n",
       "      <td>17.0</td>\n",
       "      <td>0.503937</td>\n",
       "      <td>0.707769</td>\n",
       "    </tr>\n",
       "    <tr>\n",
       "      <th>17</th>\n",
       "      <td>18.0</td>\n",
       "      <td>0.502172</td>\n",
       "      <td>0.705191</td>\n",
       "    </tr>\n",
       "    <tr>\n",
       "      <th>18</th>\n",
       "      <td>19.0</td>\n",
       "      <td>0.506993</td>\n",
       "      <td>0.70994</td>\n",
       "    </tr>\n",
       "    <tr>\n",
       "      <th>19</th>\n",
       "      <td>20.0</td>\n",
       "      <td>0.503896</td>\n",
       "      <td>0.707542</td>\n",
       "    </tr>\n",
       "    <tr>\n",
       "      <th>20</th>\n",
       "      <td>21.0</td>\n",
       "      <td>0.498258</td>\n",
       "      <td>0.702803</td>\n",
       "    </tr>\n",
       "    <tr>\n",
       "      <th>21</th>\n",
       "      <td>22.0</td>\n",
       "      <td>0.5</td>\n",
       "      <td>0.703885</td>\n",
       "    </tr>\n",
       "    <tr>\n",
       "      <th>22</th>\n",
       "      <td>23.0</td>\n",
       "      <td>0.5</td>\n",
       "      <td>0.703885</td>\n",
       "    </tr>\n",
       "    <tr>\n",
       "      <th>23</th>\n",
       "      <td>24.0</td>\n",
       "      <td>0.5</td>\n",
       "      <td>0.703885</td>\n",
       "    </tr>\n",
       "    <tr>\n",
       "      <th>24</th>\n",
       "      <td>25.0</td>\n",
       "      <td>0.5</td>\n",
       "      <td>0.703885</td>\n",
       "    </tr>\n",
       "  </tbody>\n",
       "</table>\n",
       "</div>"
      ],
      "text/plain": [
       "   max_depth  F1_score   AUC_ROC\n",
       "0        1.0     0.482  0.680946\n",
       "1        2.0  0.525604     0.748\n",
       "2        3.0  0.549587  0.806436\n",
       "3        4.0  0.541958  0.816572\n",
       "4        5.0  0.575673  0.833132\n",
       "5        6.0  0.577778  0.833305\n",
       "6        7.0  0.591469  0.825306\n",
       "7        8.0  0.576846   0.80354\n",
       "8        9.0  0.532556  0.774605\n",
       "9       10.0  0.542884  0.758898\n",
       "10      11.0   0.52861  0.737039\n",
       "11      12.0  0.523767  0.736309\n",
       "12      13.0  0.506993  0.720452\n",
       "13      14.0  0.508155  0.717076\n",
       "14      15.0  0.507284  0.712404\n",
       "15      16.0  0.494898  0.703136\n",
       "16      17.0  0.503937  0.707769\n",
       "17      18.0  0.502172  0.705191\n",
       "18      19.0  0.506993   0.70994\n",
       "19      20.0  0.503896  0.707542\n",
       "20      21.0  0.498258  0.702803\n",
       "21      22.0       0.5  0.703885\n",
       "22      23.0       0.5  0.703885\n",
       "23      24.0       0.5  0.703885\n",
       "24      25.0       0.5  0.703885"
      ]
     },
     "metadata": {},
     "output_type": "display_data"
    }
   ],
   "source": [
    "df_temp = df_temp.drop(df_temp.index)\n",
    "\n",
    "best_down_tree_model = 0\n",
    "best_tree_depth = 0\n",
    "best_tree_result = 0\n",
    "best_tree_aucroc = 0\n",
    "\n",
    "for depth in tqdm_notebook(range(1, 26, 1)):\n",
    "    model = DecisionTreeClassifier(\n",
    "#         class_weight='balanced',\n",
    "        max_depth=depth,\n",
    "        random_state=2022)\n",
    "    \n",
    "    # обучение на уменьшенной выборке\n",
    "    model.fit(train_features_down, train_target_down)\n",
    "    \n",
    "    prediction_tree = model.predict(valid_features)\n",
    "    result = f1_score(valid_target, prediction_tree)\n",
    "    \n",
    "    probabilities = model.predict_proba(valid_features)\n",
    "    probabilities_one = probabilities[:,1]\n",
    "    auc_roc = roc_auc_score(valid_target, probabilities_one)\n",
    "    \n",
    "    df_temp = df_temp.append(\n",
    "        {'max_depth': depth, 'F1_score':result, 'AUC_ROC':auc_roc}, ignore_index=True\n",
    "    )\n",
    "    \n",
    "    if result > best_tree_result:\n",
    "        best_tree_result = result\n",
    "        best_tree_depth = depth\n",
    "        best_down_tree_model = model\n",
    "        best_tree_aucroc = auc_roc\n",
    "print(\n",
    "    \"max_depth =\", best_tree_depth,\n",
    "    \"\\nf1_score =\", best_tree_result,\n",
    "    \"\\nf1_score =\", best_tree_aucroc\n",
    ")\n",
    "\n",
    "\n",
    "df_train_result.loc['решающее_дерево', 'F1_down'] = best_tree_result\n",
    "df_train_result.loc['решающее_дерево', 'AUC_ROC_down'] = best_tree_aucroc\n",
    "\n",
    "plt.figure()\n",
    "(\n",
    "    df_temp\n",
    "    .round(4) # округляем\n",
    "    .sort_values(by='F1_score') # сортируем по F1\n",
    "    .plot(\n",
    "        kind='scatter',\n",
    "        x='F1_score',\n",
    "        y='AUC_ROC',\n",
    "        figsize=(9,9),\n",
    "        xlim=(0.45, 0.65),\n",
    "        ylim=(0.65, 0.85),\n",
    "        grid=True,\n",
    "        rot=45,\n",
    "        xticks=np_xticks,\n",
    "        yticks=np_yticks\n",
    "));\n",
    "\n",
    "plt.title('Зависимость AUC-ROC от F1_score')\n",
    "plt.show()\n",
    "display(df_temp.corr().round(2))\n",
    "display(df_temp)"
   ]
  },
  {
   "cell_type": "code",
   "execution_count": 45,
   "metadata": {},
   "outputs": [
    {
     "data": {
      "text/html": [
       "<div>\n",
       "<style scoped>\n",
       "    .dataframe tbody tr th:only-of-type {\n",
       "        vertical-align: middle;\n",
       "    }\n",
       "\n",
       "    .dataframe tbody tr th {\n",
       "        vertical-align: top;\n",
       "    }\n",
       "\n",
       "    .dataframe thead th {\n",
       "        text-align: right;\n",
       "    }\n",
       "</style>\n",
       "<table border=\"1\" class=\"dataframe\">\n",
       "  <thead>\n",
       "    <tr style=\"text-align: right;\">\n",
       "      <th></th>\n",
       "      <th>F1_raw</th>\n",
       "      <th>AUC_ROC_raw</th>\n",
       "      <th>|</th>\n",
       "      <th>F1_balanced</th>\n",
       "      <th>AUC_ROC_balanced</th>\n",
       "      <th>|</th>\n",
       "      <th>F1_up</th>\n",
       "      <th>AUC_ROC_up</th>\n",
       "      <th>|</th>\n",
       "      <th>F1_down</th>\n",
       "      <th>AUC_ROC_down</th>\n",
       "    </tr>\n",
       "  </thead>\n",
       "  <tbody>\n",
       "    <tr>\n",
       "      <th>решающее_дерево</th>\n",
       "      <td>0.58445</td>\n",
       "      <td>0.785915</td>\n",
       "      <td>|</td>\n",
       "      <td>0.590513</td>\n",
       "      <td>0.825791</td>\n",
       "      <td>|</td>\n",
       "      <td>0.594217</td>\n",
       "      <td>0.821801</td>\n",
       "      <td>|</td>\n",
       "      <td>0.591469</td>\n",
       "      <td>0.825306</td>\n",
       "    </tr>\n",
       "    <tr>\n",
       "      <th>случайный_лес</th>\n",
       "      <td>0.615385</td>\n",
       "      <td>0.785915</td>\n",
       "      <td>|</td>\n",
       "      <td>0.658416</td>\n",
       "      <td>0.871258</td>\n",
       "      <td>|</td>\n",
       "      <td>0.663647</td>\n",
       "      <td>0.870172</td>\n",
       "      <td>|</td>\n",
       "      <td>NaN</td>\n",
       "      <td>NaN</td>\n",
       "    </tr>\n",
       "    <tr>\n",
       "      <th>логистическая_регрессия</th>\n",
       "      <td>0.288809</td>\n",
       "      <td>0.779717</td>\n",
       "      <td>|</td>\n",
       "      <td>0.521368</td>\n",
       "      <td>0.780395</td>\n",
       "      <td>|</td>\n",
       "      <td>0.520922</td>\n",
       "      <td>0.780395</td>\n",
       "      <td>|</td>\n",
       "      <td>0.524506</td>\n",
       "      <td>0.780395</td>\n",
       "    </tr>\n",
       "  </tbody>\n",
       "</table>\n",
       "</div>"
      ],
      "text/plain": [
       "                           F1_raw AUC_ROC_raw  | F1_balanced AUC_ROC_balanced  \\\n",
       "решающее_дерево           0.58445    0.785915  |    0.590513         0.825791   \n",
       "случайный_лес            0.615385    0.785915  |    0.658416         0.871258   \n",
       "логистическая_регрессия  0.288809    0.779717  |    0.521368         0.780395   \n",
       "\n",
       "                         |     F1_up AUC_ROC_up  |   F1_down AUC_ROC_down  \n",
       "решающее_дерево          |  0.594217   0.821801  |  0.591469     0.825306  \n",
       "случайный_лес            |  0.663647   0.870172  |       NaN          NaN  \n",
       "логистическая_регрессия  |  0.520922   0.780395  |  0.524506     0.780395  "
      ]
     },
     "execution_count": 45,
     "metadata": {},
     "output_type": "execute_result"
    }
   ],
   "source": [
    "df_train_result"
   ]
  },
  {
   "cell_type": "markdown",
   "metadata": {},
   "source": [
    "Качество снизилось, AUC_ROC увеличилось"
   ]
  },
  {
   "cell_type": "markdown",
   "metadata": {},
   "source": [
    "#### Случайный лес"
   ]
  },
  {
   "cell_type": "code",
   "execution_count": 46,
   "metadata": {
    "scrolled": false
   },
   "outputs": [
    {
     "data": {
      "application/vnd.jupyter.widget-view+json": {
       "model_id": "b7a9e72cd18543ecbc8d9b0363a035fc",
       "version_major": 2,
       "version_minor": 0
      },
      "text/plain": [
       "  0%|          | 0/30 [00:00<?, ?it/s]"
      ]
     },
     "metadata": {},
     "output_type": "display_data"
    },
    {
     "name": "stdout",
     "output_type": "stream",
     "text": [
      "max_depth = 11 \n",
      "F1_score = 0.6393762183235868 \n",
      "AUC_ROC = 0.866284609709579\n"
     ]
    },
    {
     "data": {
      "text/plain": [
       "<Figure size 432x288 with 0 Axes>"
      ]
     },
     "metadata": {},
     "output_type": "display_data"
    },
    {
     "data": {
      "image/png": "[encoded data removed]",
      "text/plain": [
       "<Figure size 648x648 with 1 Axes>"
      ]
     },
     "metadata": {
      "needs_background": "light"
     },
     "output_type": "display_data"
    },
    {
     "data": {
      "text/html": [
       "<div>\n",
       "<style scoped>\n",
       "    .dataframe tbody tr th:only-of-type {\n",
       "        vertical-align: middle;\n",
       "    }\n",
       "\n",
       "    .dataframe tbody tr th {\n",
       "        vertical-align: top;\n",
       "    }\n",
       "\n",
       "    .dataframe thead th {\n",
       "        text-align: right;\n",
       "    }\n",
       "</style>\n",
       "<table border=\"1\" class=\"dataframe\">\n",
       "  <thead>\n",
       "    <tr style=\"text-align: right;\">\n",
       "      <th></th>\n",
       "    </tr>\n",
       "  </thead>\n",
       "  <tbody>\n",
       "  </tbody>\n",
       "</table>\n",
       "</div>"
      ],
      "text/plain": [
       "Empty DataFrame\n",
       "Columns: []\n",
       "Index: []"
      ]
     },
     "metadata": {},
     "output_type": "display_data"
    },
    {
     "data": {
      "text/html": [
       "<div>\n",
       "<style scoped>\n",
       "    .dataframe tbody tr th:only-of-type {\n",
       "        vertical-align: middle;\n",
       "    }\n",
       "\n",
       "    .dataframe tbody tr th {\n",
       "        vertical-align: top;\n",
       "    }\n",
       "\n",
       "    .dataframe thead th {\n",
       "        text-align: right;\n",
       "    }\n",
       "</style>\n",
       "<table border=\"1\" class=\"dataframe\">\n",
       "  <thead>\n",
       "    <tr style=\"text-align: right;\">\n",
       "      <th></th>\n",
       "      <th>max_depth</th>\n",
       "      <th>F1_score</th>\n",
       "      <th>AUC_ROC</th>\n",
       "    </tr>\n",
       "  </thead>\n",
       "  <tbody>\n",
       "    <tr>\n",
       "      <th>0</th>\n",
       "      <td>1.0</td>\n",
       "      <td>0.52516</td>\n",
       "      <td>0.820386</td>\n",
       "    </tr>\n",
       "    <tr>\n",
       "      <th>1</th>\n",
       "      <td>2.0</td>\n",
       "      <td>0.551849</td>\n",
       "      <td>0.836569</td>\n",
       "    </tr>\n",
       "    <tr>\n",
       "      <th>2</th>\n",
       "      <td>3.0</td>\n",
       "      <td>0.553191</td>\n",
       "      <td>0.842539</td>\n",
       "    </tr>\n",
       "    <tr>\n",
       "      <th>3</th>\n",
       "      <td>4.0</td>\n",
       "      <td>0.597549</td>\n",
       "      <td>0.855655</td>\n",
       "    </tr>\n",
       "    <tr>\n",
       "      <th>4</th>\n",
       "      <td>5.0</td>\n",
       "      <td>0.606635</td>\n",
       "      <td>0.862632</td>\n",
       "    </tr>\n",
       "    <tr>\n",
       "      <th>5</th>\n",
       "      <td>6.0</td>\n",
       "      <td>0.611006</td>\n",
       "      <td>0.865244</td>\n",
       "    </tr>\n",
       "    <tr>\n",
       "      <th>6</th>\n",
       "      <td>7.0</td>\n",
       "      <td>0.614203</td>\n",
       "      <td>0.868683</td>\n",
       "    </tr>\n",
       "    <tr>\n",
       "      <th>7</th>\n",
       "      <td>8.0</td>\n",
       "      <td>0.623782</td>\n",
       "      <td>0.867603</td>\n",
       "    </tr>\n",
       "    <tr>\n",
       "      <th>8</th>\n",
       "      <td>9.0</td>\n",
       "      <td>0.626341</td>\n",
       "      <td>0.866068</td>\n",
       "    </tr>\n",
       "    <tr>\n",
       "      <th>9</th>\n",
       "      <td>10.0</td>\n",
       "      <td>0.622351</td>\n",
       "      <td>0.86778</td>\n",
       "    </tr>\n",
       "    <tr>\n",
       "      <th>10</th>\n",
       "      <td>11.0</td>\n",
       "      <td>0.639376</td>\n",
       "      <td>0.866285</td>\n",
       "    </tr>\n",
       "    <tr>\n",
       "      <th>11</th>\n",
       "      <td>12.0</td>\n",
       "      <td>0.627037</td>\n",
       "      <td>0.862158</td>\n",
       "    </tr>\n",
       "    <tr>\n",
       "      <th>12</th>\n",
       "      <td>13.0</td>\n",
       "      <td>0.626204</td>\n",
       "      <td>0.862774</td>\n",
       "    </tr>\n",
       "    <tr>\n",
       "      <th>13</th>\n",
       "      <td>14.0</td>\n",
       "      <td>0.629845</td>\n",
       "      <td>0.864112</td>\n",
       "    </tr>\n",
       "    <tr>\n",
       "      <th>14</th>\n",
       "      <td>15.0</td>\n",
       "      <td>0.619827</td>\n",
       "      <td>0.863896</td>\n",
       "    </tr>\n",
       "    <tr>\n",
       "      <th>15</th>\n",
       "      <td>16.0</td>\n",
       "      <td>0.627299</td>\n",
       "      <td>0.861476</td>\n",
       "    </tr>\n",
       "    <tr>\n",
       "      <th>16</th>\n",
       "      <td>17.0</td>\n",
       "      <td>0.622222</td>\n",
       "      <td>0.866395</td>\n",
       "    </tr>\n",
       "    <tr>\n",
       "      <th>17</th>\n",
       "      <td>18.0</td>\n",
       "      <td>0.631683</td>\n",
       "      <td>0.864458</td>\n",
       "    </tr>\n",
       "    <tr>\n",
       "      <th>18</th>\n",
       "      <td>19.0</td>\n",
       "      <td>0.620019</td>\n",
       "      <td>0.863371</td>\n",
       "    </tr>\n",
       "    <tr>\n",
       "      <th>19</th>\n",
       "      <td>20.0</td>\n",
       "      <td>0.620488</td>\n",
       "      <td>0.862142</td>\n",
       "    </tr>\n",
       "    <tr>\n",
       "      <th>20</th>\n",
       "      <td>21.0</td>\n",
       "      <td>0.627335</td>\n",
       "      <td>0.861992</td>\n",
       "    </tr>\n",
       "    <tr>\n",
       "      <th>21</th>\n",
       "      <td>22.0</td>\n",
       "      <td>0.623782</td>\n",
       "      <td>0.862241</td>\n",
       "    </tr>\n",
       "    <tr>\n",
       "      <th>22</th>\n",
       "      <td>23.0</td>\n",
       "      <td>0.625</td>\n",
       "      <td>0.861939</td>\n",
       "    </tr>\n",
       "    <tr>\n",
       "      <th>23</th>\n",
       "      <td>24.0</td>\n",
       "      <td>0.625</td>\n",
       "      <td>0.861941</td>\n",
       "    </tr>\n",
       "    <tr>\n",
       "      <th>24</th>\n",
       "      <td>25.0</td>\n",
       "      <td>0.625</td>\n",
       "      <td>0.861941</td>\n",
       "    </tr>\n",
       "    <tr>\n",
       "      <th>25</th>\n",
       "      <td>26.0</td>\n",
       "      <td>0.625</td>\n",
       "      <td>0.861941</td>\n",
       "    </tr>\n",
       "    <tr>\n",
       "      <th>26</th>\n",
       "      <td>27.0</td>\n",
       "      <td>0.625</td>\n",
       "      <td>0.861941</td>\n",
       "    </tr>\n",
       "    <tr>\n",
       "      <th>27</th>\n",
       "      <td>28.0</td>\n",
       "      <td>0.625</td>\n",
       "      <td>0.861941</td>\n",
       "    </tr>\n",
       "    <tr>\n",
       "      <th>28</th>\n",
       "      <td>29.0</td>\n",
       "      <td>0.625</td>\n",
       "      <td>0.861941</td>\n",
       "    </tr>\n",
       "    <tr>\n",
       "      <th>29</th>\n",
       "      <td>30.0</td>\n",
       "      <td>0.625</td>\n",
       "      <td>0.861941</td>\n",
       "    </tr>\n",
       "  </tbody>\n",
       "</table>\n",
       "</div>"
      ],
      "text/plain": [
       "   max_depth  F1_score   AUC_ROC\n",
       "0        1.0   0.52516  0.820386\n",
       "1        2.0  0.551849  0.836569\n",
       "2        3.0  0.553191  0.842539\n",
       "3        4.0  0.597549  0.855655\n",
       "4        5.0  0.606635  0.862632\n",
       "5        6.0  0.611006  0.865244\n",
       "6        7.0  0.614203  0.868683\n",
       "7        8.0  0.623782  0.867603\n",
       "8        9.0  0.626341  0.866068\n",
       "9       10.0  0.622351   0.86778\n",
       "10      11.0  0.639376  0.866285\n",
       "11      12.0  0.627037  0.862158\n",
       "12      13.0  0.626204  0.862774\n",
       "13      14.0  0.629845  0.864112\n",
       "14      15.0  0.619827  0.863896\n",
       "15      16.0  0.627299  0.861476\n",
       "16      17.0  0.622222  0.866395\n",
       "17      18.0  0.631683  0.864458\n",
       "18      19.0  0.620019  0.863371\n",
       "19      20.0  0.620488  0.862142\n",
       "20      21.0  0.627335  0.861992\n",
       "21      22.0  0.623782  0.862241\n",
       "22      23.0     0.625  0.861939\n",
       "23      24.0     0.625  0.861941\n",
       "24      25.0     0.625  0.861941\n",
       "25      26.0     0.625  0.861941\n",
       "26      27.0     0.625  0.861941\n",
       "27      28.0     0.625  0.861941\n",
       "28      29.0     0.625  0.861941\n",
       "29      30.0     0.625  0.861941"
      ]
     },
     "metadata": {},
     "output_type": "display_data"
    }
   ],
   "source": [
    "df_temp = df_temp.drop(df_temp.index)\n",
    "\n",
    "best_down_forest_model = 0\n",
    "best_forest_depth = 0\n",
    "# best_forest_estimators = 0\n",
    "best_forest_result = 0\n",
    "best_forest_auc_roc = 0\n",
    "\n",
    "for depth in tqdm_notebook(range(1,31, 1)):\n",
    "#     for estimators in tqdm_notebook(range(86,90,1), leave=False):\n",
    "        model = RandomForestClassifier(\n",
    "#             class_weight='balanced',\n",
    "            random_state=2022,\n",
    "            max_depth=depth,\n",
    "            n_estimators = 88,\n",
    "            n_jobs=-1\n",
    "        )\n",
    "        # обучение на уменьшенной выборке\n",
    "        model.fit(train_features_down, train_target_down)\n",
    "        \n",
    "        prediction = model.predict(valid_features)\n",
    "        result = f1_score(valid_target, prediction)\n",
    "        \n",
    "        probabilities = model.predict_proba(valid_features)\n",
    "        probabilities_one = probabilities[:,1]\n",
    "        auc_roc = roc_auc_score(valid_target, probabilities_one)\n",
    "        \n",
    "        df_temp = df_temp.append(\n",
    "        {'max_depth': depth, 'F1_score':result, 'AUC_ROC':auc_roc}, ignore_index=True\n",
    "    )\n",
    "        \n",
    "        \n",
    "        if result > best_forest_result:\n",
    "            best_forest_result = result\n",
    "            best_forest_depth = depth\n",
    "#             best_forest_estimators = estimators\n",
    "            best_down_forest_model = model\n",
    "            best_forest_auc_roc = auc_roc\n",
    "    \n",
    "print(\n",
    "    \"max_depth =\", best_forest_depth,\n",
    "#     \"\\nn_estimators =\", best_forest_estimators,\n",
    "    \"\\nF1_score =\", best_forest_result,\n",
    "    \"\\nAUC_ROC =\", best_forest_auc_roc\n",
    "    \n",
    ")\n",
    "df_train_result.loc['случайный_лес', 'F1_down'] = best_forest_result\n",
    "df_train_result.loc['случайный_лес', 'AUC_ROC_down'] = best_forest_auc_roc\n",
    "\n",
    "plt.figure()\n",
    "(\n",
    "    df_temp\n",
    "    .round(4) # округляем\n",
    "    .sort_values(by='F1_score') # сортируем по F1\n",
    "    .plot(\n",
    "        kind='scatter',\n",
    "        x='F1_score',\n",
    "        y='AUC_ROC',\n",
    "        figsize=(9,9),\n",
    "        xlim=(0.5, 0.7),\n",
    "        ylim=(0.75, 0.95),\n",
    "        grid=True,\n",
    "        rot=45,\n",
    "        xticks=np_xticks,\n",
    "        yticks=np_yticks\n",
    "));\n",
    "\n",
    "plt.title('Зависимость AUC-ROC от F1_score')\n",
    "plt.show()\n",
    "display(df_temp.corr().round(2))\n",
    "display(df_temp)"
   ]
  },
  {
   "cell_type": "code",
   "execution_count": 47,
   "metadata": {},
   "outputs": [
    {
     "data": {
      "text/html": [
       "<div>\n",
       "<style scoped>\n",
       "    .dataframe tbody tr th:only-of-type {\n",
       "        vertical-align: middle;\n",
       "    }\n",
       "\n",
       "    .dataframe tbody tr th {\n",
       "        vertical-align: top;\n",
       "    }\n",
       "\n",
       "    .dataframe thead th {\n",
       "        text-align: right;\n",
       "    }\n",
       "</style>\n",
       "<table border=\"1\" class=\"dataframe\">\n",
       "  <thead>\n",
       "    <tr style=\"text-align: right;\">\n",
       "      <th></th>\n",
       "      <th>F1_raw</th>\n",
       "      <th>AUC_ROC_raw</th>\n",
       "      <th>|</th>\n",
       "      <th>F1_balanced</th>\n",
       "      <th>AUC_ROC_balanced</th>\n",
       "      <th>|</th>\n",
       "      <th>F1_up</th>\n",
       "      <th>AUC_ROC_up</th>\n",
       "      <th>|</th>\n",
       "      <th>F1_down</th>\n",
       "      <th>AUC_ROC_down</th>\n",
       "    </tr>\n",
       "  </thead>\n",
       "  <tbody>\n",
       "    <tr>\n",
       "      <th>решающее_дерево</th>\n",
       "      <td>0.58445</td>\n",
       "      <td>0.785915</td>\n",
       "      <td>|</td>\n",
       "      <td>0.590513</td>\n",
       "      <td>0.825791</td>\n",
       "      <td>|</td>\n",
       "      <td>0.594217</td>\n",
       "      <td>0.821801</td>\n",
       "      <td>|</td>\n",
       "      <td>0.591469</td>\n",
       "      <td>0.825306</td>\n",
       "    </tr>\n",
       "    <tr>\n",
       "      <th>случайный_лес</th>\n",
       "      <td>0.615385</td>\n",
       "      <td>0.785915</td>\n",
       "      <td>|</td>\n",
       "      <td>0.658416</td>\n",
       "      <td>0.871258</td>\n",
       "      <td>|</td>\n",
       "      <td>0.663647</td>\n",
       "      <td>0.870172</td>\n",
       "      <td>|</td>\n",
       "      <td>0.639376</td>\n",
       "      <td>0.866285</td>\n",
       "    </tr>\n",
       "    <tr>\n",
       "      <th>логистическая_регрессия</th>\n",
       "      <td>0.288809</td>\n",
       "      <td>0.779717</td>\n",
       "      <td>|</td>\n",
       "      <td>0.521368</td>\n",
       "      <td>0.780395</td>\n",
       "      <td>|</td>\n",
       "      <td>0.520922</td>\n",
       "      <td>0.780395</td>\n",
       "      <td>|</td>\n",
       "      <td>0.524506</td>\n",
       "      <td>0.780395</td>\n",
       "    </tr>\n",
       "  </tbody>\n",
       "</table>\n",
       "</div>"
      ],
      "text/plain": [
       "                           F1_raw AUC_ROC_raw  | F1_balanced AUC_ROC_balanced  \\\n",
       "решающее_дерево           0.58445    0.785915  |    0.590513         0.825791   \n",
       "случайный_лес            0.615385    0.785915  |    0.658416         0.871258   \n",
       "логистическая_регрессия  0.288809    0.779717  |    0.521368         0.780395   \n",
       "\n",
       "                         |     F1_up AUC_ROC_up  |   F1_down AUC_ROC_down  \n",
       "решающее_дерево          |  0.594217   0.821801  |  0.591469     0.825306  \n",
       "случайный_лес            |  0.663647   0.870172  |  0.639376     0.866285  \n",
       "логистическая_регрессия  |  0.520922   0.780395  |  0.524506     0.780395  "
      ]
     },
     "execution_count": 47,
     "metadata": {},
     "output_type": "execute_result"
    }
   ],
   "source": [
    "df_train_result"
   ]
  },
  {
   "cell_type": "markdown",
   "metadata": {},
   "source": [
    "Качество значительно испортилось"
   ]
  },
  {
   "cell_type": "markdown",
   "metadata": {},
   "source": [
    "### Вывод"
   ]
  },
  {
   "cell_type": "code",
   "execution_count": 48,
   "metadata": {},
   "outputs": [
    {
     "data": {
      "text/html": [
       "<div>\n",
       "<style scoped>\n",
       "    .dataframe tbody tr th:only-of-type {\n",
       "        vertical-align: middle;\n",
       "    }\n",
       "\n",
       "    .dataframe tbody tr th {\n",
       "        vertical-align: top;\n",
       "    }\n",
       "\n",
       "    .dataframe thead th {\n",
       "        text-align: right;\n",
       "    }\n",
       "</style>\n",
       "<table border=\"1\" class=\"dataframe\">\n",
       "  <thead>\n",
       "    <tr style=\"text-align: right;\">\n",
       "      <th></th>\n",
       "      <th>F1_raw</th>\n",
       "      <th>AUC_ROC_raw</th>\n",
       "      <th>|</th>\n",
       "      <th>F1_balanced</th>\n",
       "      <th>AUC_ROC_balanced</th>\n",
       "      <th>|</th>\n",
       "      <th>F1_up</th>\n",
       "      <th>AUC_ROC_up</th>\n",
       "      <th>|</th>\n",
       "      <th>F1_down</th>\n",
       "      <th>AUC_ROC_down</th>\n",
       "    </tr>\n",
       "  </thead>\n",
       "  <tbody>\n",
       "    <tr>\n",
       "      <th>решающее_дерево</th>\n",
       "      <td>0.58445</td>\n",
       "      <td>0.785915</td>\n",
       "      <td>|</td>\n",
       "      <td>0.590513</td>\n",
       "      <td>0.825791</td>\n",
       "      <td>|</td>\n",
       "      <td>0.594217</td>\n",
       "      <td>0.821801</td>\n",
       "      <td>|</td>\n",
       "      <td>0.591469</td>\n",
       "      <td>0.825306</td>\n",
       "    </tr>\n",
       "    <tr>\n",
       "      <th>случайный_лес</th>\n",
       "      <td>0.615385</td>\n",
       "      <td>0.785915</td>\n",
       "      <td>|</td>\n",
       "      <td>0.658416</td>\n",
       "      <td>0.871258</td>\n",
       "      <td>|</td>\n",
       "      <td>0.663647</td>\n",
       "      <td>0.870172</td>\n",
       "      <td>|</td>\n",
       "      <td>0.639376</td>\n",
       "      <td>0.866285</td>\n",
       "    </tr>\n",
       "    <tr>\n",
       "      <th>логистическая_регрессия</th>\n",
       "      <td>0.288809</td>\n",
       "      <td>0.779717</td>\n",
       "      <td>|</td>\n",
       "      <td>0.521368</td>\n",
       "      <td>0.780395</td>\n",
       "      <td>|</td>\n",
       "      <td>0.520922</td>\n",
       "      <td>0.780395</td>\n",
       "      <td>|</td>\n",
       "      <td>0.524506</td>\n",
       "      <td>0.780395</td>\n",
       "    </tr>\n",
       "  </tbody>\n",
       "</table>\n",
       "</div>"
      ],
      "text/plain": [
       "                           F1_raw AUC_ROC_raw  | F1_balanced AUC_ROC_balanced  \\\n",
       "решающее_дерево           0.58445    0.785915  |    0.590513         0.825791   \n",
       "случайный_лес            0.615385    0.785915  |    0.658416         0.871258   \n",
       "логистическая_регрессия  0.288809    0.779717  |    0.521368         0.780395   \n",
       "\n",
       "                         |     F1_up AUC_ROC_up  |   F1_down AUC_ROC_down  \n",
       "решающее_дерево          |  0.594217   0.821801  |  0.591469     0.825306  \n",
       "случайный_лес            |  0.663647   0.870172  |  0.639376     0.866285  \n",
       "логистическая_регрессия  |  0.520922   0.780395  |  0.524506     0.780395  "
      ]
     },
     "execution_count": 48,
     "metadata": {},
     "output_type": "execute_result"
    }
   ],
   "source": [
    "df_train_result"
   ]
  },
  {
   "cell_type": "markdown",
   "metadata": {},
   "source": [
    "- Значительный прирост в качестве дают техники взвешивания классов и увеличения выборки.\n",
    "- Лучшая модель - 'случайный лес'.\n",
    "- 'Решающее_дерево' прошла порог F1_score = 0,59 с помощью увеличения выборки\n",
    "- Показана зависимость F1-меры и площади ROC-кривой. Показана корреляция между этими мерами."
   ]
  },
  {
   "cell_type": "markdown",
   "metadata": {},
   "source": [
    "## Тестирование модели"
   ]
  },
  {
   "cell_type": "code",
   "execution_count": 49,
   "metadata": {},
   "outputs": [],
   "source": [
    "df_test_result = pd.DataFrame()"
   ]
  },
  {
   "cell_type": "markdown",
   "metadata": {},
   "source": [
    "Лучшей моделью, является модель случайного леса, обученной с помощью взвешивания классов.  \n",
    "Параметры модели:"
   ]
  },
  {
   "cell_type": "code",
   "execution_count": 50,
   "metadata": {},
   "outputs": [
    {
     "data": {
      "text/plain": [
       "RandomForestClassifier(class_weight='balanced', max_depth=10, n_estimators=32,\n",
       "                       n_jobs=-1, random_state=2022)"
      ]
     },
     "execution_count": 50,
     "metadata": {},
     "output_type": "execute_result"
    }
   ],
   "source": [
    "# параметры модели\n",
    "best_balanced_forest_model"
   ]
  },
  {
   "cell_type": "markdown",
   "metadata": {},
   "source": [
    "Проетстируем все модели, обученные с помощью техники взвешивания классов"
   ]
  },
  {
   "cell_type": "code",
   "execution_count": 51,
   "metadata": {},
   "outputs": [
    {
     "data": {
      "text/html": [
       "<div>\n",
       "<style scoped>\n",
       "    .dataframe tbody tr th:only-of-type {\n",
       "        vertical-align: middle;\n",
       "    }\n",
       "\n",
       "    .dataframe tbody tr th {\n",
       "        vertical-align: top;\n",
       "    }\n",
       "\n",
       "    .dataframe thead th {\n",
       "        text-align: right;\n",
       "    }\n",
       "</style>\n",
       "<table border=\"1\" class=\"dataframe\">\n",
       "  <thead>\n",
       "    <tr style=\"text-align: right;\">\n",
       "      <th></th>\n",
       "      <th>F1</th>\n",
       "      <th>AUC_ROC</th>\n",
       "    </tr>\n",
       "  </thead>\n",
       "  <tbody>\n",
       "    <tr>\n",
       "      <th>решающее_дерево</th>\n",
       "      <td>0.541899</td>\n",
       "      <td>0.796326</td>\n",
       "    </tr>\n",
       "    <tr>\n",
       "      <th>случайный_лес</th>\n",
       "      <td>0.609412</td>\n",
       "      <td>0.852725</td>\n",
       "    </tr>\n",
       "    <tr>\n",
       "      <th>логистическая_регрессия</th>\n",
       "      <td>0.521368</td>\n",
       "      <td>0.766223</td>\n",
       "    </tr>\n",
       "  </tbody>\n",
       "</table>\n",
       "</div>"
      ],
      "text/plain": [
       "                               F1   AUC_ROC\n",
       "решающее_дерево          0.541899  0.796326\n",
       "случайный_лес            0.609412  0.852725\n",
       "логистическая_регрессия  0.521368  0.766223"
      ]
     },
     "execution_count": 51,
     "metadata": {},
     "output_type": "execute_result"
    }
   ],
   "source": [
    "# тестирование решающего дерева\n",
    "prediction_tree_test = best_balanced_tree_model.predict(test_features)\n",
    "\n",
    "f1_tree = f1_score(test_target, prediction_tree_test)\n",
    "\n",
    "probabilities = best_balanced_tree_model.predict_proba(test_features)\n",
    "\n",
    "probabilities_one_tree_balance = probabilities[:,1]\n",
    "\n",
    "tree_auc_roc = roc_auc_score(test_target, probabilities_one_tree_balance)\n",
    "\n",
    "df_test_result.loc['решающее_дерево', 'F1'] = f1_tree\n",
    "df_test_result.loc['решающее_дерево', 'AUC_ROC'] = tree_auc_roc\n",
    "# =============================================================================\n",
    "# тестирование случайного леса\n",
    "prediction_forest_test = best_balanced_forest_model.predict(test_features)\n",
    "\n",
    "f1_forest = f1_score(test_target, prediction_forest_test)\n",
    "\n",
    "probabilities = best_balanced_forest_model.predict_proba(test_features)\n",
    "\n",
    "probabilities_one_forest_balance = probabilities[:,1]\n",
    "\n",
    "forest_auc_roc = roc_auc_score(test_target, probabilities_one_forest_balance)\n",
    "\n",
    "df_test_result.loc['случайный_лес', 'F1'] = f1_forest\n",
    "df_test_result.loc['случайный_лес', 'AUC_ROC'] = forest_auc_roc\n",
    "# =============================================================================\n",
    "# тестирование логистической ргерессии\n",
    "prediction = model_balanced_logistic.predict(valid_features)\n",
    "\n",
    "f1_logistic = f1_score(valid_target, prediction)\n",
    "\n",
    "probabilities = model_balanced_logistic.predict_proba(test_features)\n",
    "\n",
    "probabilities_one_logistic_balance = probabilities[:,1]\n",
    "\n",
    "logistic_auc_roc = roc_auc_score(test_target, probabilities_one_logistic_balance)\n",
    "\n",
    "df_test_result.loc['логистическая_регрессия', 'F1'] = f1_logistic\n",
    "df_test_result.loc['логистическая_регрессия', 'AUC_ROC'] = logistic_auc_roc\n",
    "\n",
    "df_test_result"
   ]
  },
  {
   "cell_type": "markdown",
   "metadata": {},
   "source": [
    "Ни одна модель не прошла барьер F1_score=0.59.  \n",
    "Рассмотрим модели, обченные на увеличенных выборках"
   ]
  },
  {
   "cell_type": "code",
   "execution_count": 52,
   "metadata": {},
   "outputs": [
    {
     "data": {
      "text/html": [
       "<div>\n",
       "<style scoped>\n",
       "    .dataframe tbody tr th:only-of-type {\n",
       "        vertical-align: middle;\n",
       "    }\n",
       "\n",
       "    .dataframe tbody tr th {\n",
       "        vertical-align: top;\n",
       "    }\n",
       "\n",
       "    .dataframe thead th {\n",
       "        text-align: right;\n",
       "    }\n",
       "</style>\n",
       "<table border=\"1\" class=\"dataframe\">\n",
       "  <thead>\n",
       "    <tr style=\"text-align: right;\">\n",
       "      <th></th>\n",
       "      <th>F1</th>\n",
       "      <th>AUC_ROC</th>\n",
       "    </tr>\n",
       "  </thead>\n",
       "  <tbody>\n",
       "    <tr>\n",
       "      <th>решающее_дерево</th>\n",
       "      <td>0.545106</td>\n",
       "      <td>0.793871</td>\n",
       "    </tr>\n",
       "    <tr>\n",
       "      <th>случайный_лес</th>\n",
       "      <td>0.601751</td>\n",
       "      <td>0.847638</td>\n",
       "    </tr>\n",
       "    <tr>\n",
       "      <th>логистическая_регрессия</th>\n",
       "      <td>0.520922</td>\n",
       "      <td>0.766226</td>\n",
       "    </tr>\n",
       "  </tbody>\n",
       "</table>\n",
       "</div>"
      ],
      "text/plain": [
       "                               F1   AUC_ROC\n",
       "решающее_дерево          0.545106  0.793871\n",
       "случайный_лес            0.601751  0.847638\n",
       "логистическая_регрессия  0.520922  0.766226"
      ]
     },
     "execution_count": 52,
     "metadata": {},
     "output_type": "execute_result"
    }
   ],
   "source": [
    "# тестирование решающего дерева\n",
    "prediction_tree_test = best_up_tree_model.predict(test_features)\n",
    "\n",
    "f1_tree = f1_score(test_target, prediction_tree_test)\n",
    "\n",
    "probabilities = best_up_tree_model.predict_proba(test_features)\n",
    "\n",
    "probabilities_one_tree_balance = probabilities[:,1]\n",
    "\n",
    "tree_auc_roc = roc_auc_score(test_target, probabilities_one_tree_balance)\n",
    "\n",
    "df_test_result.loc['решающее_дерево', 'F1'] = f1_tree\n",
    "df_test_result.loc['решающее_дерево', 'AUC_ROC'] = tree_auc_roc\n",
    "# =============================================================================\n",
    "# тестирование случайного леса\n",
    "prediction_forest_test = best_up_forest_model.predict(test_features)\n",
    "\n",
    "f1_forest = f1_score(test_target, prediction_forest_test)\n",
    "\n",
    "probabilities = best_up_forest_model.predict_proba(test_features)\n",
    "\n",
    "probabilities_one_forest_balance = probabilities[:,1]\n",
    "\n",
    "forest_auc_roc = roc_auc_score(test_target, probabilities_one_forest_balance)\n",
    "\n",
    "df_test_result.loc['случайный_лес', 'F1'] = f1_forest\n",
    "df_test_result.loc['случайный_лес', 'AUC_ROC'] = forest_auc_roc\n",
    "# =============================================================================\n",
    "# тестирование логистической ргерессии\n",
    "prediction = model_up_logistic.predict(valid_features)\n",
    "\n",
    "f1_logistic = f1_score(valid_target, prediction)\n",
    "\n",
    "probabilities = model_up_logistic.predict_proba(test_features)\n",
    "\n",
    "probabilities_one_logistic_balance = probabilities[:,1]\n",
    "\n",
    "logistic_auc_roc = roc_auc_score(test_target, probabilities_one_logistic_balance)\n",
    "\n",
    "df_test_result.loc['логистическая_регрессия', 'F1'] = f1_logistic\n",
    "df_test_result.loc['логистическая_регрессия', 'AUC_ROC'] = logistic_auc_roc\n",
    "\n",
    "df_test_result"
   ]
  },
  {
   "cell_type": "markdown",
   "metadata": {},
   "source": [
    "Судя по выводам на тестовой выборке, при относительном равенстве двух F1, метрика AUC_ROC является предпочтительнее при выборе лучшей модели.  \n",
    "Возможно, эта гипотеза верна при относительном равенстве AUC_ROC  и различии F1_score.  \n",
    "Вывод в п.3 ошибочен.\n"
   ]
  },
  {
   "cell_type": "markdown",
   "metadata": {},
   "source": [
    "Построим ROC-кривую моделей"
   ]
  },
  {
   "cell_type": "code",
   "execution_count": 53,
   "metadata": {},
   "outputs": [
    {
     "data": {
      "image/png": "[encoded data removed]",
      "text/plain": [
       "<Figure size 648x648 with 1 Axes>"
      ]
     },
     "metadata": {
      "needs_background": "light"
     },
     "output_type": "display_data"
    }
   ],
   "source": [
    "fpr_tree_balance, tpr_tree_balance, thresholds = roc_curve(test_target, probabilities_one_tree_balance)\n",
    "fpr_forest_balance, tpr_forest_balance, thresholds = roc_curve(test_target, probabilities_one_forest_balance)\n",
    "fpr_logistic_balance, tpr_logistic_balance, thresholds = roc_curve(test_target, probabilities_one_logistic_balance)\n",
    "\n",
    "fig, ax = plt.subplots()\n",
    "fig.set_figheight(9)\n",
    "fig.set_figwidth(9)\n",
    "\n",
    "ax.plot([0,1],[0,1], linestyle='--', label='случайная модель')\n",
    "ax.plot(fpr_forest_balance,tpr_forest_balance, label='случайный лес')\n",
    "ax.plot(fpr_tree_balance, tpr_tree_balance, label='решающее дерево')\n",
    "ax.plot(fpr_logistic_balance, tpr_logistic_balance, label='логистическая регрессия')\n",
    "\n",
    "plt.title('ROC-кривая: увеличение выборки', fontsize=26)\n",
    "plt.xlabel('False Positive Rate', fontsize=16)\n",
    "plt.ylabel('True Positive Rate', fontsize=16)\n",
    "plt.xticks(x)\n",
    "plt.yticks(x)\n",
    "ax.legend(fontsize=22)\n",
    "ax.grid(True)\n",
    "\n",
    "plt.show()"
   ]
  },
  {
   "cell_type": "markdown",
   "metadata": {},
   "source": [
    "## ВЫВОД"
   ]
  },
  {
   "cell_type": "code",
   "execution_count": 54,
   "metadata": {},
   "outputs": [
    {
     "name": "stdout",
     "output_type": "stream",
     "text": [
      "Метрики моделей на валидационных выборках\n"
     ]
    },
    {
     "data": {
      "text/html": [
       "<div>\n",
       "<style scoped>\n",
       "    .dataframe tbody tr th:only-of-type {\n",
       "        vertical-align: middle;\n",
       "    }\n",
       "\n",
       "    .dataframe tbody tr th {\n",
       "        vertical-align: top;\n",
       "    }\n",
       "\n",
       "    .dataframe thead th {\n",
       "        text-align: right;\n",
       "    }\n",
       "</style>\n",
       "<table border=\"1\" class=\"dataframe\">\n",
       "  <thead>\n",
       "    <tr style=\"text-align: right;\">\n",
       "      <th></th>\n",
       "      <th>F1_raw</th>\n",
       "      <th>AUC_ROC_raw</th>\n",
       "      <th>|</th>\n",
       "      <th>F1_balanced</th>\n",
       "      <th>AUC_ROC_balanced</th>\n",
       "      <th>|</th>\n",
       "      <th>F1_up</th>\n",
       "      <th>AUC_ROC_up</th>\n",
       "      <th>|</th>\n",
       "      <th>F1_down</th>\n",
       "      <th>AUC_ROC_down</th>\n",
       "    </tr>\n",
       "  </thead>\n",
       "  <tbody>\n",
       "    <tr>\n",
       "      <th>решающее_дерево</th>\n",
       "      <td>0.58445</td>\n",
       "      <td>0.785915</td>\n",
       "      <td>|</td>\n",
       "      <td>0.590513</td>\n",
       "      <td>0.825791</td>\n",
       "      <td>|</td>\n",
       "      <td>0.594217</td>\n",
       "      <td>0.821801</td>\n",
       "      <td>|</td>\n",
       "      <td>0.591469</td>\n",
       "      <td>0.825306</td>\n",
       "    </tr>\n",
       "    <tr>\n",
       "      <th>случайный_лес</th>\n",
       "      <td>0.615385</td>\n",
       "      <td>0.785915</td>\n",
       "      <td>|</td>\n",
       "      <td>0.658416</td>\n",
       "      <td>0.871258</td>\n",
       "      <td>|</td>\n",
       "      <td>0.663647</td>\n",
       "      <td>0.870172</td>\n",
       "      <td>|</td>\n",
       "      <td>0.639376</td>\n",
       "      <td>0.866285</td>\n",
       "    </tr>\n",
       "    <tr>\n",
       "      <th>логистическая_регрессия</th>\n",
       "      <td>0.288809</td>\n",
       "      <td>0.779717</td>\n",
       "      <td>|</td>\n",
       "      <td>0.521368</td>\n",
       "      <td>0.780395</td>\n",
       "      <td>|</td>\n",
       "      <td>0.520922</td>\n",
       "      <td>0.780395</td>\n",
       "      <td>|</td>\n",
       "      <td>0.524506</td>\n",
       "      <td>0.780395</td>\n",
       "    </tr>\n",
       "  </tbody>\n",
       "</table>\n",
       "</div>"
      ],
      "text/plain": [
       "                           F1_raw AUC_ROC_raw  | F1_balanced AUC_ROC_balanced  \\\n",
       "решающее_дерево           0.58445    0.785915  |    0.590513         0.825791   \n",
       "случайный_лес            0.615385    0.785915  |    0.658416         0.871258   \n",
       "логистическая_регрессия  0.288809    0.779717  |    0.521368         0.780395   \n",
       "\n",
       "                         |     F1_up AUC_ROC_up  |   F1_down AUC_ROC_down  \n",
       "решающее_дерево          |  0.594217   0.821801  |  0.591469     0.825306  \n",
       "случайный_лес            |  0.663647   0.870172  |  0.639376     0.866285  \n",
       "логистическая_регрессия  |  0.520922   0.780395  |  0.524506     0.780395  "
      ]
     },
     "metadata": {},
     "output_type": "display_data"
    },
    {
     "name": "stdout",
     "output_type": "stream",
     "text": [
      "Метрики моделей обученных с помощью увеличения выборок на тестовых выборках\n"
     ]
    },
    {
     "data": {
      "text/html": [
       "<div>\n",
       "<style scoped>\n",
       "    .dataframe tbody tr th:only-of-type {\n",
       "        vertical-align: middle;\n",
       "    }\n",
       "\n",
       "    .dataframe tbody tr th {\n",
       "        vertical-align: top;\n",
       "    }\n",
       "\n",
       "    .dataframe thead th {\n",
       "        text-align: right;\n",
       "    }\n",
       "</style>\n",
       "<table border=\"1\" class=\"dataframe\">\n",
       "  <thead>\n",
       "    <tr style=\"text-align: right;\">\n",
       "      <th></th>\n",
       "      <th>F1</th>\n",
       "      <th>AUC_ROC</th>\n",
       "    </tr>\n",
       "  </thead>\n",
       "  <tbody>\n",
       "    <tr>\n",
       "      <th>решающее_дерево</th>\n",
       "      <td>0.545106</td>\n",
       "      <td>0.793871</td>\n",
       "    </tr>\n",
       "    <tr>\n",
       "      <th>случайный_лес</th>\n",
       "      <td>0.601751</td>\n",
       "      <td>0.847638</td>\n",
       "    </tr>\n",
       "    <tr>\n",
       "      <th>логистическая_регрессия</th>\n",
       "      <td>0.520922</td>\n",
       "      <td>0.766226</td>\n",
       "    </tr>\n",
       "  </tbody>\n",
       "</table>\n",
       "</div>"
      ],
      "text/plain": [
       "                               F1   AUC_ROC\n",
       "решающее_дерево          0.545106  0.793871\n",
       "случайный_лес            0.601751  0.847638\n",
       "логистическая_регрессия  0.520922  0.766226"
      ]
     },
     "metadata": {},
     "output_type": "display_data"
    }
   ],
   "source": [
    "print('Метрики моделей на валидационных выборках')\n",
    "display(df_train_result)\n",
    "print('Метрики моделей обученных с помощью увеличения выборок на тестовых выборках')\n",
    "display(df_test_result)"
   ]
  },
  {
   "cell_type": "markdown",
   "metadata": {},
   "source": [
    "- Была проанализирована работа различных алгоритмов обучения с различными параметрами.\n",
    "- Показана зависимость метрик F1 и AUC_ROC.\n",
    "- Лучшей моделью является модель случайного леса.\n",
    "- Лучшая техника борьбы с дисбалансом - увеличение выборки:\n",
    "    - при выборе лучшей техники необходимо обращать внимание на различные метрики, а не заострять внимание на одной\n",
    "- Проанализирован график ROC-кривой. Чем лучше модель, тем линия графика стремится прижаться к краям осей графика. Напротив, чем хуже, тем линия стремится прижаться к графику случайной модели."
   ]
  }
 ],
 "metadata": {
  "ExecuteTimeLog": [
   {
    "duration": 561,
    "start_time": "2022-03-08T15:50:31.188Z"
   },
   {
    "duration": 530,
    "start_time": "2022-03-08T15:50:37.135Z"
   },
   {
    "duration": 193,
    "start_time": "2022-03-08T15:50:39.058Z"
   },
   {
    "duration": 8,
    "start_time": "2022-03-08T15:55:18.891Z"
   },
   {
    "duration": 8,
    "start_time": "2022-03-08T15:57:39.219Z"
   },
   {
    "duration": 6,
    "start_time": "2022-03-08T15:57:56.417Z"
   },
   {
    "duration": 5,
    "start_time": "2022-03-08T15:58:02.657Z"
   },
   {
    "duration": 5,
    "start_time": "2022-03-08T15:58:08.105Z"
   },
   {
    "duration": 37,
    "start_time": "2022-03-08T15:59:13.285Z"
   },
   {
    "duration": 4,
    "start_time": "2022-03-08T16:07:14.217Z"
   },
   {
    "duration": 7,
    "start_time": "2022-03-08T16:07:16.952Z"
   },
   {
    "duration": 30,
    "start_time": "2022-03-08T16:07:20.730Z"
   },
   {
    "duration": 13,
    "start_time": "2022-03-08T16:11:27.949Z"
   },
   {
    "duration": 16,
    "start_time": "2022-03-08T16:14:25.048Z"
   },
   {
    "duration": 6,
    "start_time": "2022-03-08T16:19:16.721Z"
   },
   {
    "duration": 11,
    "start_time": "2022-03-08T16:19:22.144Z"
   },
   {
    "duration": 511,
    "start_time": "2022-03-08T16:19:36.976Z"
   },
   {
    "duration": 66,
    "start_time": "2022-03-08T16:19:58.391Z"
   },
   {
    "duration": 782,
    "start_time": "2022-03-08T16:20:02.174Z"
   },
   {
    "duration": 402,
    "start_time": "2022-03-08T16:20:32.788Z"
   },
   {
    "duration": 655,
    "start_time": "2022-03-08T16:20:36.699Z"
   },
   {
    "duration": 6,
    "start_time": "2022-03-08T16:23:03.804Z"
   },
   {
    "duration": 5,
    "start_time": "2022-03-08T16:26:32.599Z"
   },
   {
    "duration": 5,
    "start_time": "2022-03-08T16:26:32.606Z"
   },
   {
    "duration": 258,
    "start_time": "2022-03-08T16:26:32.613Z"
   },
   {
    "duration": 15,
    "start_time": "2022-03-08T16:26:32.872Z"
   },
   {
    "duration": 10,
    "start_time": "2022-03-08T16:26:52.016Z"
   },
   {
    "duration": 10,
    "start_time": "2022-03-08T16:27:44.702Z"
   },
   {
    "duration": 4,
    "start_time": "2022-03-08T16:28:42.272Z"
   },
   {
    "duration": 5,
    "start_time": "2022-03-08T16:28:56.111Z"
   },
   {
    "duration": 11,
    "start_time": "2022-03-08T16:31:29.508Z"
   },
   {
    "duration": 5,
    "start_time": "2022-03-08T16:36:39.500Z"
   },
   {
    "duration": 6700,
    "start_time": "2022-03-08T16:37:20.379Z"
   },
   {
    "duration": 6113,
    "start_time": "2022-03-08T16:39:24.063Z"
   },
   {
    "duration": 9,
    "start_time": "2022-03-08T16:39:30.619Z"
   },
   {
    "duration": 8,
    "start_time": "2022-03-08T16:39:35.882Z"
   },
   {
    "duration": 13,
    "start_time": "2022-03-08T16:39:43.097Z"
   },
   {
    "duration": 10,
    "start_time": "2022-03-08T16:40:37.745Z"
   },
   {
    "duration": 18,
    "start_time": "2022-03-08T16:40:44.495Z"
   },
   {
    "duration": 14,
    "start_time": "2022-03-08T16:41:37.404Z"
   },
   {
    "duration": 14,
    "start_time": "2022-03-08T16:41:40.572Z"
   },
   {
    "duration": 22,
    "start_time": "2022-03-08T16:41:45.555Z"
   },
   {
    "duration": 18,
    "start_time": "2022-03-08T16:41:52.787Z"
   },
   {
    "duration": 13,
    "start_time": "2022-03-08T16:52:12.848Z"
   },
   {
    "duration": 6320,
    "start_time": "2022-03-08T16:53:17.597Z"
   },
   {
    "duration": 5,
    "start_time": "2022-03-08T16:54:12.745Z"
   },
   {
    "duration": 4,
    "start_time": "2022-03-08T16:54:20.448Z"
   },
   {
    "duration": 10,
    "start_time": "2022-03-08T16:54:36.960Z"
   },
   {
    "duration": 11,
    "start_time": "2022-03-08T16:55:05.486Z"
   },
   {
    "duration": 6212,
    "start_time": "2022-03-08T16:55:10.069Z"
   },
   {
    "duration": 10,
    "start_time": "2022-03-08T16:55:21.174Z"
   },
   {
    "duration": 14,
    "start_time": "2022-03-08T16:55:39.301Z"
   },
   {
    "duration": 783,
    "start_time": "2022-03-08T16:56:40.272Z"
   },
   {
    "duration": 37,
    "start_time": "2022-03-08T16:56:44.672Z"
   },
   {
    "duration": 238,
    "start_time": "2022-03-08T17:04:36.357Z"
   },
   {
    "duration": 7,
    "start_time": "2022-03-08T17:04:47.485Z"
   },
   {
    "duration": 827,
    "start_time": "2022-03-08T17:04:50.356Z"
   },
   {
    "duration": 17,
    "start_time": "2022-03-08T17:12:01.495Z"
   },
   {
    "duration": 14,
    "start_time": "2022-03-08T17:12:48.305Z"
   },
   {
    "duration": 16,
    "start_time": "2022-03-08T17:12:56.818Z"
   },
   {
    "duration": 15,
    "start_time": "2022-03-08T17:14:46.410Z"
   },
   {
    "duration": 15,
    "start_time": "2022-03-08T19:07:07.123Z"
   },
   {
    "duration": 15,
    "start_time": "2022-03-08T19:07:12.650Z"
   },
   {
    "duration": 15,
    "start_time": "2022-03-08T19:07:54.214Z"
   },
   {
    "duration": 16,
    "start_time": "2022-03-08T19:08:04.037Z"
   },
   {
    "duration": 16,
    "start_time": "2022-03-08T19:08:27.094Z"
   },
   {
    "duration": 16,
    "start_time": "2022-03-08T19:09:43.649Z"
   },
   {
    "duration": 17,
    "start_time": "2022-03-08T19:10:31.861Z"
   },
   {
    "duration": 822,
    "start_time": "2022-03-08T19:11:43.449Z"
   },
   {
    "duration": 5,
    "start_time": "2022-03-08T19:13:23.243Z"
   },
   {
    "duration": 17,
    "start_time": "2022-03-08T19:13:26.883Z"
   },
   {
    "duration": 701,
    "start_time": "2022-03-08T19:14:43.480Z"
   },
   {
    "duration": 3,
    "start_time": "2022-03-08T19:16:00.233Z"
   },
   {
    "duration": 12,
    "start_time": "2022-03-08T19:16:02.386Z"
   },
   {
    "duration": 83,
    "start_time": "2022-03-08T19:16:27.441Z"
   },
   {
    "duration": 7,
    "start_time": "2022-03-08T19:16:31.144Z"
   },
   {
    "duration": 19,
    "start_time": "2022-03-08T19:18:27.114Z"
   },
   {
    "duration": 35,
    "start_time": "2022-03-08T19:19:28.694Z"
   },
   {
    "duration": 892,
    "start_time": "2022-03-08T19:19:41.862Z"
   },
   {
    "duration": 766,
    "start_time": "2022-03-08T19:23:28.049Z"
   },
   {
    "duration": 745,
    "start_time": "2022-03-08T19:24:07.751Z"
   },
   {
    "duration": 834,
    "start_time": "2022-03-08T19:25:04.420Z"
   },
   {
    "duration": 347,
    "start_time": "2022-03-08T19:26:22.542Z"
   },
   {
    "duration": 402,
    "start_time": "2022-03-08T19:26:50.541Z"
   },
   {
    "duration": 342,
    "start_time": "2022-03-08T19:28:06.436Z"
   },
   {
    "duration": 366,
    "start_time": "2022-03-08T19:28:47.655Z"
   },
   {
    "duration": 342,
    "start_time": "2022-03-08T19:29:04.822Z"
   },
   {
    "duration": 386,
    "start_time": "2022-03-08T19:29:16.660Z"
   },
   {
    "duration": 334,
    "start_time": "2022-03-08T19:29:21.149Z"
   },
   {
    "duration": 362,
    "start_time": "2022-03-08T19:30:10.649Z"
   },
   {
    "duration": 339,
    "start_time": "2022-03-08T19:30:57.007Z"
   },
   {
    "duration": 366,
    "start_time": "2022-03-08T19:31:10.710Z"
   },
   {
    "duration": 359,
    "start_time": "2022-03-08T19:31:18.389Z"
   },
   {
    "duration": 334,
    "start_time": "2022-03-08T19:31:22.813Z"
   },
   {
    "duration": 5,
    "start_time": "2022-03-08T19:31:51.535Z"
   },
   {
    "duration": 4,
    "start_time": "2022-03-08T19:31:51.542Z"
   },
   {
    "duration": 203,
    "start_time": "2022-03-08T19:31:51.547Z"
   },
   {
    "duration": 4,
    "start_time": "2022-03-08T19:31:51.752Z"
   },
   {
    "duration": 9,
    "start_time": "2022-03-08T19:31:51.757Z"
   },
   {
    "duration": 33,
    "start_time": "2022-03-08T19:31:51.768Z"
   },
   {
    "duration": 767,
    "start_time": "2022-03-08T19:31:51.802Z"
   },
   {
    "duration": 393,
    "start_time": "2022-03-08T19:31:52.571Z"
   },
   {
    "duration": 392,
    "start_time": "2022-03-08T19:31:52.965Z"
   },
   {
    "duration": 15,
    "start_time": "2022-03-08T19:31:53.359Z"
   },
   {
    "duration": 3,
    "start_time": "2022-03-08T19:31:53.376Z"
   },
   {
    "duration": 22,
    "start_time": "2022-03-08T19:31:53.380Z"
   },
   {
    "duration": 3,
    "start_time": "2022-03-08T19:31:53.403Z"
   },
   {
    "duration": 14,
    "start_time": "2022-03-08T19:34:46.786Z"
   },
   {
    "duration": 18,
    "start_time": "2022-03-08T19:35:26.265Z"
   },
   {
    "duration": 6,
    "start_time": "2022-03-08T19:35:48.344Z"
   },
   {
    "duration": 3,
    "start_time": "2022-03-08T19:36:48.730Z"
   },
   {
    "duration": 789,
    "start_time": "2022-03-08T19:40:19.798Z"
   },
   {
    "duration": 14,
    "start_time": "2022-03-08T19:41:26.995Z"
   },
   {
    "duration": 13,
    "start_time": "2022-03-08T19:42:15.634Z"
   },
   {
    "duration": 11,
    "start_time": "2022-03-08T19:45:29.459Z"
   },
   {
    "duration": 14,
    "start_time": "2022-03-08T19:45:35.485Z"
   },
   {
    "duration": 25,
    "start_time": "2022-03-08T19:45:47.053Z"
   },
   {
    "duration": 15,
    "start_time": "2022-03-08T19:46:24.578Z"
   },
   {
    "duration": 12,
    "start_time": "2022-03-08T19:46:52.720Z"
   },
   {
    "duration": 266,
    "start_time": "2022-03-08T19:48:02.172Z"
   },
   {
    "duration": 25,
    "start_time": "2022-03-08T20:36:30.511Z"
   },
   {
    "duration": 18,
    "start_time": "2022-03-08T20:36:57.909Z"
   },
   {
    "duration": 11,
    "start_time": "2022-03-08T20:37:11.964Z"
   },
   {
    "duration": 11,
    "start_time": "2022-03-08T20:37:28.547Z"
   },
   {
    "duration": 12,
    "start_time": "2022-03-08T20:37:30.066Z"
   },
   {
    "duration": 10,
    "start_time": "2022-03-08T20:37:30.715Z"
   },
   {
    "duration": 9,
    "start_time": "2022-03-08T20:37:31.130Z"
   },
   {
    "duration": 8,
    "start_time": "2022-03-08T20:37:31.346Z"
   },
   {
    "duration": 310,
    "start_time": "2022-03-08T20:37:31.522Z"
   },
   {
    "duration": 5,
    "start_time": "2022-03-08T20:37:35.304Z"
   },
   {
    "duration": 12,
    "start_time": "2022-03-08T20:37:35.311Z"
   },
   {
    "duration": 226,
    "start_time": "2022-03-08T20:37:35.325Z"
   },
   {
    "duration": 5,
    "start_time": "2022-03-08T20:37:35.554Z"
   },
   {
    "duration": 22,
    "start_time": "2022-03-08T20:37:35.560Z"
   },
   {
    "duration": 52,
    "start_time": "2022-03-08T20:37:35.583Z"
   },
   {
    "duration": 797,
    "start_time": "2022-03-08T20:37:35.636Z"
   },
   {
    "duration": 354,
    "start_time": "2022-03-08T20:37:36.435Z"
   },
   {
    "duration": 394,
    "start_time": "2022-03-08T20:37:36.791Z"
   },
   {
    "duration": 25,
    "start_time": "2022-03-08T20:37:37.186Z"
   },
   {
    "duration": 5,
    "start_time": "2022-03-08T20:37:37.212Z"
   },
   {
    "duration": 18,
    "start_time": "2022-03-08T20:37:37.219Z"
   },
   {
    "duration": 14,
    "start_time": "2022-03-08T20:37:37.238Z"
   },
   {
    "duration": 6,
    "start_time": "2022-03-08T20:37:37.254Z"
   },
   {
    "duration": 6,
    "start_time": "2022-03-08T20:37:37.262Z"
   },
   {
    "duration": 11,
    "start_time": "2022-03-08T20:37:53.089Z"
   },
   {
    "duration": 12,
    "start_time": "2022-03-08T20:37:53.904Z"
   },
   {
    "duration": 11,
    "start_time": "2022-03-08T20:37:58.717Z"
   },
   {
    "duration": 15,
    "start_time": "2022-03-08T20:41:55.653Z"
   },
   {
    "duration": 13,
    "start_time": "2022-03-08T20:42:28.066Z"
   },
   {
    "duration": 11,
    "start_time": "2022-03-08T20:42:45.953Z"
   },
   {
    "duration": 9,
    "start_time": "2022-03-08T20:43:19.520Z"
   },
   {
    "duration": 15,
    "start_time": "2022-03-08T20:44:30.756Z"
   },
   {
    "duration": 11,
    "start_time": "2022-03-08T20:45:26.406Z"
   },
   {
    "duration": 12,
    "start_time": "2022-03-08T20:45:35.047Z"
   },
   {
    "duration": 16,
    "start_time": "2022-03-08T20:45:39.904Z"
   },
   {
    "duration": 16,
    "start_time": "2022-03-08T20:47:24.898Z"
   },
   {
    "duration": 25,
    "start_time": "2022-03-08T20:47:29.818Z"
   },
   {
    "duration": 245,
    "start_time": "2022-03-08T20:48:21.174Z"
   },
   {
    "duration": 6110,
    "start_time": "2022-03-08T20:50:13.464Z"
   },
   {
    "duration": 5,
    "start_time": "2022-03-08T20:50:43.353Z"
   },
   {
    "duration": 4,
    "start_time": "2022-03-08T20:50:43.359Z"
   },
   {
    "duration": 203,
    "start_time": "2022-03-08T20:50:43.365Z"
   },
   {
    "duration": 3,
    "start_time": "2022-03-08T20:50:43.570Z"
   },
   {
    "duration": 8,
    "start_time": "2022-03-08T20:50:43.575Z"
   },
   {
    "duration": 36,
    "start_time": "2022-03-08T20:50:43.585Z"
   },
   {
    "duration": 865,
    "start_time": "2022-03-08T20:50:43.622Z"
   },
   {
    "duration": 379,
    "start_time": "2022-03-08T20:50:44.493Z"
   },
   {
    "duration": 504,
    "start_time": "2022-03-08T20:50:44.874Z"
   },
   {
    "duration": 29,
    "start_time": "2022-03-08T20:50:45.380Z"
   },
   {
    "duration": 5,
    "start_time": "2022-03-08T20:50:45.411Z"
   },
   {
    "duration": 19,
    "start_time": "2022-03-08T20:50:45.418Z"
   },
   {
    "duration": 6143,
    "start_time": "2022-03-08T20:50:45.439Z"
   },
   {
    "duration": -2710,
    "start_time": "2022-03-08T20:50:54.294Z"
   },
   {
    "duration": -2712,
    "start_time": "2022-03-08T20:50:54.297Z"
   },
   {
    "duration": 6096,
    "start_time": "2022-03-08T20:51:09.509Z"
   },
   {
    "duration": 6164,
    "start_time": "2022-03-08T20:51:16.317Z"
   },
   {
    "duration": 262,
    "start_time": "2022-03-08T20:51:46.355Z"
   },
   {
    "duration": 77,
    "start_time": "2022-03-08T20:52:31.552Z"
   },
   {
    "duration": 75,
    "start_time": "2022-03-08T20:52:37.624Z"
   },
   {
    "duration": 6037,
    "start_time": "2022-03-08T20:52:44.999Z"
   },
   {
    "duration": 6130,
    "start_time": "2022-03-08T20:53:41.901Z"
   },
   {
    "duration": 9,
    "start_time": "2022-03-08T20:54:05.595Z"
   },
   {
    "duration": 10,
    "start_time": "2022-03-08T20:55:20.286Z"
   },
   {
    "duration": 241,
    "start_time": "2022-03-08T20:55:27.685Z"
   },
   {
    "duration": 9,
    "start_time": "2022-03-08T20:56:27.315Z"
   },
   {
    "duration": 14,
    "start_time": "2022-03-08T20:56:32.610Z"
   },
   {
    "duration": 23,
    "start_time": "2022-03-08T20:57:09.481Z"
   },
   {
    "duration": 4,
    "start_time": "2022-03-08T21:06:16.642Z"
   },
   {
    "duration": 6,
    "start_time": "2022-03-08T21:06:16.648Z"
   },
   {
    "duration": 211,
    "start_time": "2022-03-08T21:06:16.656Z"
   },
   {
    "duration": 4,
    "start_time": "2022-03-08T21:06:16.869Z"
   },
   {
    "duration": 8,
    "start_time": "2022-03-08T21:06:16.874Z"
   },
   {
    "duration": 33,
    "start_time": "2022-03-08T21:06:16.884Z"
   },
   {
    "duration": 753,
    "start_time": "2022-03-08T21:06:16.919Z"
   },
   {
    "duration": 387,
    "start_time": "2022-03-08T21:06:17.674Z"
   },
   {
    "duration": 396,
    "start_time": "2022-03-08T21:06:18.063Z"
   },
   {
    "duration": 16,
    "start_time": "2022-03-08T21:06:18.460Z"
   },
   {
    "duration": 4,
    "start_time": "2022-03-08T21:06:18.477Z"
   },
   {
    "duration": 22,
    "start_time": "2022-03-08T21:06:18.482Z"
   },
   {
    "duration": 8,
    "start_time": "2022-03-08T21:06:18.506Z"
   },
   {
    "duration": 5,
    "start_time": "2022-03-08T21:06:18.515Z"
   },
   {
    "duration": 3,
    "start_time": "2022-03-08T21:06:18.522Z"
   },
   {
    "duration": 9,
    "start_time": "2022-03-08T21:07:45.969Z"
   },
   {
    "duration": 23,
    "start_time": "2022-03-08T21:08:28.104Z"
   },
   {
    "duration": 20,
    "start_time": "2022-03-08T21:08:49.494Z"
   },
   {
    "duration": 23,
    "start_time": "2022-03-08T21:09:37.524Z"
   },
   {
    "duration": 621,
    "start_time": "2022-03-08T21:11:25.852Z"
   },
   {
    "duration": 24,
    "start_time": "2022-03-08T21:12:04.659Z"
   },
   {
    "duration": 938,
    "start_time": "2022-03-08T21:12:07.802Z"
   },
   {
    "duration": 11,
    "start_time": "2022-03-08T21:14:03.211Z"
   },
   {
    "duration": 5,
    "start_time": "2022-03-08T21:14:12.954Z"
   },
   {
    "duration": 3,
    "start_time": "2022-03-08T21:15:50.076Z"
   },
   {
    "duration": 272,
    "start_time": "2022-03-08T21:17:14.151Z"
   },
   {
    "duration": 2,
    "start_time": "2022-03-08T21:17:18.791Z"
   },
   {
    "duration": 29,
    "start_time": "2022-03-08T21:17:21.662Z"
   },
   {
    "duration": 4,
    "start_time": "2022-03-08T21:19:54.079Z"
   },
   {
    "duration": 6,
    "start_time": "2022-03-08T21:19:54.085Z"
   },
   {
    "duration": 201,
    "start_time": "2022-03-08T21:19:54.092Z"
   },
   {
    "duration": 4,
    "start_time": "2022-03-08T21:19:54.294Z"
   },
   {
    "duration": 8,
    "start_time": "2022-03-08T21:19:54.299Z"
   },
   {
    "duration": 33,
    "start_time": "2022-03-08T21:19:54.309Z"
   },
   {
    "duration": 749,
    "start_time": "2022-03-08T21:19:54.343Z"
   },
   {
    "duration": 354,
    "start_time": "2022-03-08T21:19:55.094Z"
   },
   {
    "duration": 353,
    "start_time": "2022-03-08T21:19:55.450Z"
   },
   {
    "duration": 16,
    "start_time": "2022-03-08T21:19:55.804Z"
   },
   {
    "duration": 3,
    "start_time": "2022-03-08T21:19:55.821Z"
   },
   {
    "duration": 216,
    "start_time": "2022-03-08T21:20:05.942Z"
   },
   {
    "duration": 88,
    "start_time": "2022-03-08T21:21:37.129Z"
   },
   {
    "duration": 83,
    "start_time": "2022-03-08T21:21:44.201Z"
   },
   {
    "duration": 83,
    "start_time": "2022-03-08T21:22:03.151Z"
   },
   {
    "duration": 82,
    "start_time": "2022-03-08T21:22:49.116Z"
   },
   {
    "duration": 23,
    "start_time": "2022-03-08T21:23:11.219Z"
   },
   {
    "duration": 12,
    "start_time": "2022-03-08T21:23:43.155Z"
   },
   {
    "duration": 276,
    "start_time": "2022-03-08T21:24:36.576Z"
   },
   {
    "duration": -81,
    "start_time": "2022-03-08T21:24:36.935Z"
   },
   {
    "duration": -83,
    "start_time": "2022-03-08T21:24:36.938Z"
   },
   {
    "duration": -100,
    "start_time": "2022-03-08T21:24:36.955Z"
   },
   {
    "duration": -108,
    "start_time": "2022-03-08T21:24:36.964Z"
   },
   {
    "duration": -110,
    "start_time": "2022-03-08T21:24:36.967Z"
   },
   {
    "duration": -112,
    "start_time": "2022-03-08T21:24:36.969Z"
   },
   {
    "duration": -113,
    "start_time": "2022-03-08T21:24:36.971Z"
   },
   {
    "duration": -115,
    "start_time": "2022-03-08T21:24:36.974Z"
   },
   {
    "duration": -118,
    "start_time": "2022-03-08T21:24:36.977Z"
   },
   {
    "duration": -119,
    "start_time": "2022-03-08T21:24:36.979Z"
   },
   {
    "duration": 298,
    "start_time": "2022-03-08T21:24:50.045Z"
   },
   {
    "duration": 262,
    "start_time": "2022-03-08T21:24:58.261Z"
   },
   {
    "duration": -70,
    "start_time": "2022-03-08T21:24:58.595Z"
   },
   {
    "duration": -94,
    "start_time": "2022-03-08T21:24:58.620Z"
   },
   {
    "duration": -100,
    "start_time": "2022-03-08T21:24:58.627Z"
   },
   {
    "duration": -101,
    "start_time": "2022-03-08T21:24:58.629Z"
   },
   {
    "duration": -103,
    "start_time": "2022-03-08T21:24:58.632Z"
   },
   {
    "duration": -107,
    "start_time": "2022-03-08T21:24:58.636Z"
   },
   {
    "duration": -108,
    "start_time": "2022-03-08T21:24:58.638Z"
   },
   {
    "duration": -110,
    "start_time": "2022-03-08T21:24:58.641Z"
   },
   {
    "duration": -111,
    "start_time": "2022-03-08T21:24:58.643Z"
   },
   {
    "duration": -114,
    "start_time": "2022-03-08T21:24:58.647Z"
   },
   {
    "duration": 333,
    "start_time": "2022-03-08T21:25:08.968Z"
   },
   {
    "duration": -88,
    "start_time": "2022-03-08T21:25:09.391Z"
   },
   {
    "duration": -90,
    "start_time": "2022-03-08T21:25:09.393Z"
   },
   {
    "duration": -101,
    "start_time": "2022-03-08T21:25:09.405Z"
   },
   {
    "duration": -105,
    "start_time": "2022-03-08T21:25:09.410Z"
   },
   {
    "duration": -107,
    "start_time": "2022-03-08T21:25:09.413Z"
   },
   {
    "duration": -108,
    "start_time": "2022-03-08T21:25:09.415Z"
   },
   {
    "duration": -110,
    "start_time": "2022-03-08T21:25:09.418Z"
   },
   {
    "duration": -111,
    "start_time": "2022-03-08T21:25:09.420Z"
   },
   {
    "duration": -113,
    "start_time": "2022-03-08T21:25:09.423Z"
   },
   {
    "duration": -115,
    "start_time": "2022-03-08T21:25:09.425Z"
   },
   {
    "duration": 241,
    "start_time": "2022-03-08T21:25:12.458Z"
   },
   {
    "duration": 257,
    "start_time": "2022-03-08T21:25:20.192Z"
   },
   {
    "duration": -87,
    "start_time": "2022-03-08T21:25:20.538Z"
   },
   {
    "duration": -89,
    "start_time": "2022-03-08T21:25:20.541Z"
   },
   {
    "duration": -95,
    "start_time": "2022-03-08T21:25:20.548Z"
   },
   {
    "duration": -97,
    "start_time": "2022-03-08T21:25:20.551Z"
   },
   {
    "duration": -103,
    "start_time": "2022-03-08T21:25:20.558Z"
   },
   {
    "duration": -105,
    "start_time": "2022-03-08T21:25:20.561Z"
   },
   {
    "duration": -106,
    "start_time": "2022-03-08T21:25:20.563Z"
   },
   {
    "duration": -109,
    "start_time": "2022-03-08T21:25:20.566Z"
   },
   {
    "duration": -110,
    "start_time": "2022-03-08T21:25:20.568Z"
   },
   {
    "duration": -112,
    "start_time": "2022-03-08T21:25:20.571Z"
   },
   {
    "duration": 241,
    "start_time": "2022-03-08T21:25:52.375Z"
   },
   {
    "duration": -85,
    "start_time": "2022-03-08T21:25:52.703Z"
   },
   {
    "duration": -92,
    "start_time": "2022-03-08T21:25:52.711Z"
   },
   {
    "duration": -95,
    "start_time": "2022-03-08T21:25:52.714Z"
   },
   {
    "duration": -97,
    "start_time": "2022-03-08T21:25:52.717Z"
   },
   {
    "duration": -98,
    "start_time": "2022-03-08T21:25:52.719Z"
   },
   {
    "duration": -100,
    "start_time": "2022-03-08T21:25:52.722Z"
   },
   {
    "duration": -101,
    "start_time": "2022-03-08T21:25:52.724Z"
   },
   {
    "duration": -103,
    "start_time": "2022-03-08T21:25:52.727Z"
   },
   {
    "duration": -105,
    "start_time": "2022-03-08T21:25:52.729Z"
   },
   {
    "duration": -107,
    "start_time": "2022-03-08T21:25:52.732Z"
   },
   {
    "duration": -108,
    "start_time": "2022-03-08T21:25:52.734Z"
   },
   {
    "duration": -109,
    "start_time": "2022-03-08T21:25:52.736Z"
   },
   {
    "duration": -111,
    "start_time": "2022-03-08T21:25:52.739Z"
   },
   {
    "duration": 1068,
    "start_time": "2022-03-08T21:26:29.200Z"
   },
   {
    "duration": 213,
    "start_time": "2022-03-08T21:26:30.269Z"
   },
   {
    "duration": 6,
    "start_time": "2022-03-08T21:26:30.484Z"
   },
   {
    "duration": 19,
    "start_time": "2022-03-08T21:26:30.492Z"
   },
   {
    "duration": 22,
    "start_time": "2022-03-08T21:26:30.513Z"
   },
   {
    "duration": 45,
    "start_time": "2022-03-08T21:26:30.538Z"
   },
   {
    "duration": 778,
    "start_time": "2022-03-08T21:26:30.585Z"
   },
   {
    "duration": 373,
    "start_time": "2022-03-08T21:26:31.365Z"
   },
   {
    "duration": 338,
    "start_time": "2022-03-08T21:26:31.740Z"
   },
   {
    "duration": 23,
    "start_time": "2022-03-08T21:26:32.080Z"
   },
   {
    "duration": 3,
    "start_time": "2022-03-08T21:26:32.105Z"
   },
   {
    "duration": 13,
    "start_time": "2022-03-08T21:26:37.331Z"
   },
   {
    "duration": 24,
    "start_time": "2022-03-08T21:26:42.749Z"
   },
   {
    "duration": 25,
    "start_time": "2022-03-08T21:27:01.238Z"
   },
   {
    "duration": 24,
    "start_time": "2022-03-08T21:28:05.257Z"
   },
   {
    "duration": 6,
    "start_time": "2022-03-08T21:30:59.671Z"
   },
   {
    "duration": 6,
    "start_time": "2022-03-08T21:31:41.605Z"
   },
   {
    "duration": 10,
    "start_time": "2022-03-08T21:32:31.138Z"
   },
   {
    "duration": 10,
    "start_time": "2022-03-08T21:35:29.623Z"
   },
   {
    "duration": 493,
    "start_time": "2022-03-08T21:36:14.870Z"
   },
   {
    "duration": 10,
    "start_time": "2022-03-08T21:36:22.828Z"
   },
   {
    "duration": 11,
    "start_time": "2022-03-08T21:36:37.221Z"
   },
   {
    "duration": 11,
    "start_time": "2022-03-08T21:36:42.019Z"
   },
   {
    "duration": 7,
    "start_time": "2022-03-08T21:38:00.975Z"
   },
   {
    "duration": 11,
    "start_time": "2022-03-08T21:38:26.781Z"
   },
   {
    "duration": 678,
    "start_time": "2022-03-08T21:39:56.771Z"
   },
   {
    "duration": 973,
    "start_time": "2022-03-08T21:40:17.255Z"
   },
   {
    "duration": 913,
    "start_time": "2022-03-09T09:49:19.066Z"
   },
   {
    "duration": 2050,
    "start_time": "2022-03-09T09:49:24.816Z"
   },
   {
    "duration": 1702,
    "start_time": "2022-03-09T09:49:26.868Z"
   },
   {
    "duration": 7,
    "start_time": "2022-03-09T09:49:28.573Z"
   },
   {
    "duration": 18,
    "start_time": "2022-03-09T09:49:28.583Z"
   },
   {
    "duration": 18,
    "start_time": "2022-03-09T09:49:28.604Z"
   },
   {
    "duration": 68,
    "start_time": "2022-03-09T09:49:28.624Z"
   },
   {
    "duration": 1314,
    "start_time": "2022-03-09T09:49:28.695Z"
   },
   {
    "duration": 589,
    "start_time": "2022-03-09T09:49:30.014Z"
   },
   {
    "duration": 547,
    "start_time": "2022-03-09T09:49:30.605Z"
   },
   {
    "duration": 3983,
    "start_time": "2022-03-09T09:49:34.116Z"
   },
   {
    "duration": 19,
    "start_time": "2022-03-09T09:49:51.137Z"
   },
   {
    "duration": 19,
    "start_time": "2022-03-09T09:50:10.967Z"
   },
   {
    "duration": 10,
    "start_time": "2022-03-09T09:51:04.580Z"
   },
   {
    "duration": 278,
    "start_time": "2022-03-09T09:51:17.979Z"
   },
   {
    "duration": 17,
    "start_time": "2022-03-09T09:51:21.358Z"
   },
   {
    "duration": 16,
    "start_time": "2022-03-09T09:52:25.232Z"
   },
   {
    "duration": 10,
    "start_time": "2022-03-09T09:52:30.769Z"
   },
   {
    "duration": 17,
    "start_time": "2022-03-09T09:52:38.094Z"
   },
   {
    "duration": 4,
    "start_time": "2022-03-09T09:52:51.295Z"
   },
   {
    "duration": 235,
    "start_time": "2022-03-09T09:52:51.302Z"
   },
   {
    "duration": 8,
    "start_time": "2022-03-09T09:52:51.541Z"
   },
   {
    "duration": 11,
    "start_time": "2022-03-09T09:52:51.552Z"
   },
   {
    "duration": 29,
    "start_time": "2022-03-09T09:52:51.565Z"
   },
   {
    "duration": 62,
    "start_time": "2022-03-09T09:52:51.597Z"
   },
   {
    "duration": 1268,
    "start_time": "2022-03-09T09:52:51.661Z"
   },
   {
    "duration": 548,
    "start_time": "2022-03-09T09:52:52.932Z"
   },
   {
    "duration": 526,
    "start_time": "2022-03-09T09:52:53.482Z"
   },
   {
    "duration": 17,
    "start_time": "2022-03-09T09:52:54.010Z"
   },
   {
    "duration": 15,
    "start_time": "2022-03-09T09:52:54.029Z"
   },
   {
    "duration": 13,
    "start_time": "2022-03-09T09:54:39.056Z"
   },
   {
    "duration": 23,
    "start_time": "2022-03-09T09:54:44.319Z"
   },
   {
    "duration": 18,
    "start_time": "2022-03-09T09:59:06.392Z"
   },
   {
    "duration": 288,
    "start_time": "2022-03-09T10:06:21.144Z"
   },
   {
    "duration": 392,
    "start_time": "2022-03-09T10:06:29.663Z"
   },
   {
    "duration": 390,
    "start_time": "2022-03-09T10:07:00.326Z"
   },
   {
    "duration": 422,
    "start_time": "2022-03-09T10:07:04.837Z"
   },
   {
    "duration": 398,
    "start_time": "2022-03-09T10:07:08.172Z"
   },
   {
    "duration": 413,
    "start_time": "2022-03-09T10:07:11.503Z"
   },
   {
    "duration": 516,
    "start_time": "2022-03-09T10:07:13.816Z"
   },
   {
    "duration": 498,
    "start_time": "2022-03-09T10:07:16.501Z"
   },
   {
    "duration": 401,
    "start_time": "2022-03-09T10:07:27.148Z"
   },
   {
    "duration": 296,
    "start_time": "2022-03-09T10:09:26.213Z"
   },
   {
    "duration": 352,
    "start_time": "2022-03-09T10:09:39.813Z"
   },
   {
    "duration": 382,
    "start_time": "2022-03-09T10:09:45.428Z"
   },
   {
    "duration": 491,
    "start_time": "2022-03-09T10:09:58.027Z"
   },
   {
    "duration": 9,
    "start_time": "2022-03-09T10:11:08.762Z"
   },
   {
    "duration": 34,
    "start_time": "2022-03-09T10:11:36.246Z"
   },
   {
    "duration": 10,
    "start_time": "2022-03-09T10:11:54.077Z"
   },
   {
    "duration": 1215,
    "start_time": "2022-03-11T08:20:27.242Z"
   },
   {
    "duration": 177,
    "start_time": "2022-03-11T08:20:28.459Z"
   },
   {
    "duration": 13,
    "start_time": "2022-03-11T08:20:28.640Z"
   },
   {
    "duration": 28,
    "start_time": "2022-03-11T08:20:28.656Z"
   },
   {
    "duration": 32,
    "start_time": "2022-03-11T08:20:28.686Z"
   },
   {
    "duration": 5,
    "start_time": "2022-03-11T08:20:28.719Z"
   },
   {
    "duration": 62,
    "start_time": "2022-03-11T08:20:28.726Z"
   },
   {
    "duration": 873,
    "start_time": "2022-03-11T08:20:28.790Z"
   },
   {
    "duration": 5,
    "start_time": "2022-03-11T08:20:29.666Z"
   },
   {
    "duration": 32,
    "start_time": "2022-03-11T08:20:29.674Z"
   },
   {
    "duration": 16,
    "start_time": "2022-03-11T08:20:29.709Z"
   },
   {
    "duration": 15,
    "start_time": "2022-03-11T08:20:29.727Z"
   },
   {
    "duration": 4,
    "start_time": "2022-03-11T08:20:29.744Z"
   },
   {
    "duration": 66,
    "start_time": "2022-03-11T08:20:29.750Z"
   },
   {
    "duration": 8,
    "start_time": "2022-03-11T08:20:29.818Z"
   },
   {
    "duration": 22,
    "start_time": "2022-03-11T08:20:29.828Z"
   },
   {
    "duration": 11,
    "start_time": "2022-03-11T08:20:29.852Z"
   },
   {
    "duration": 12,
    "start_time": "2022-03-11T08:20:29.865Z"
   },
   {
    "duration": 154,
    "start_time": "2022-03-11T08:20:29.878Z"
   },
   {
    "duration": 3967,
    "start_time": "2022-03-11T08:20:30.035Z"
   },
   {
    "duration": 104,
    "start_time": "2022-03-11T08:20:34.004Z"
   },
   {
    "duration": 99,
    "start_time": "2022-03-11T08:20:34.111Z"
   },
   {
    "duration": 190,
    "start_time": "2022-03-11T08:20:34.213Z"
   },
   {
    "duration": 100,
    "start_time": "2022-03-11T08:20:34.406Z"
   },
   {
    "duration": 371,
    "start_time": "2022-03-11T08:20:34.508Z"
   },
   {
    "duration": 128,
    "start_time": "2022-03-11T08:20:34.881Z"
   },
   {
    "duration": 28,
    "start_time": "2022-03-11T08:20:35.105Z"
   },
   {
    "duration": 142,
    "start_time": "2022-03-11T08:20:35.136Z"
   },
   {
    "duration": 208,
    "start_time": "2022-03-11T08:20:35.279Z"
   },
   {
    "duration": 2962,
    "start_time": "2022-03-11T08:20:35.489Z"
   },
   {
    "duration": 10,
    "start_time": "2022-03-11T08:20:38.453Z"
   },
   {
    "duration": 140,
    "start_time": "2022-03-11T08:20:38.465Z"
   },
   {
    "duration": 94,
    "start_time": "2022-03-11T08:20:38.610Z"
   },
   {
    "duration": 21,
    "start_time": "2022-03-11T08:20:38.707Z"
   },
   {
    "duration": 40,
    "start_time": "2022-03-11T08:20:38.730Z"
   },
   {
    "duration": 42,
    "start_time": "2022-03-11T08:20:38.772Z"
   },
   {
    "duration": 10,
    "start_time": "2022-03-11T08:20:38.816Z"
   },
   {
    "duration": 21,
    "start_time": "2022-03-11T08:20:38.828Z"
   },
   {
    "duration": 34,
    "start_time": "2022-03-11T08:20:38.851Z"
   },
   {
    "duration": 116,
    "start_time": "2022-03-11T08:20:38.887Z"
   },
   {
    "duration": 133,
    "start_time": "2022-03-11T08:20:39.005Z"
   },
   {
    "duration": 254,
    "start_time": "2022-03-11T08:20:39.140Z"
   },
   {
    "duration": 459,
    "start_time": "2022-03-11T08:20:39.402Z"
   },
   {
    "duration": 9658,
    "start_time": "2022-03-11T08:20:39.863Z"
   },
   {
    "duration": 9,
    "start_time": "2022-03-11T08:20:49.523Z"
   },
   {
    "duration": 177,
    "start_time": "2022-03-11T08:20:49.534Z"
   },
   {
    "duration": 99,
    "start_time": "2022-03-11T08:20:49.803Z"
   },
   {
    "duration": 12,
    "start_time": "2022-03-11T08:20:49.904Z"
   },
   {
    "duration": 14,
    "start_time": "2022-03-11T08:20:49.918Z"
   },
   {
    "duration": 25,
    "start_time": "2022-03-11T08:20:49.934Z"
   },
   {
    "duration": 6,
    "start_time": "2022-03-11T08:20:49.961Z"
   },
   {
    "duration": 5,
    "start_time": "2022-03-11T08:20:50.001Z"
   },
   {
    "duration": 18,
    "start_time": "2022-03-11T08:20:50.007Z"
   },
   {
    "duration": 19,
    "start_time": "2022-03-11T08:20:50.027Z"
   },
   {
    "duration": 54,
    "start_time": "2022-03-11T08:20:50.048Z"
   },
   {
    "duration": 107,
    "start_time": "2022-03-11T08:20:50.105Z"
   },
   {
    "duration": 405,
    "start_time": "2022-03-11T08:20:50.214Z"
   },
   {
    "duration": 2683,
    "start_time": "2022-03-11T08:20:50.621Z"
   },
   {
    "duration": 10,
    "start_time": "2022-03-11T08:20:53.306Z"
   },
   {
    "duration": 50,
    "start_time": "2022-03-11T08:20:53.318Z"
   },
   {
    "duration": 33,
    "start_time": "2022-03-11T08:20:53.370Z"
   },
   {
    "duration": 16,
    "start_time": "2022-03-11T08:20:53.404Z"
   },
   {
    "duration": 30,
    "start_time": "2022-03-11T08:20:53.422Z"
   },
   {
    "duration": 153,
    "start_time": "2022-03-11T08:20:53.454Z"
   },
   {
    "duration": 536,
    "start_time": "2022-03-11T08:20:53.613Z"
   },
   {
    "duration": 3,
    "start_time": "2022-03-11T08:20:54.151Z"
   },
   {
    "duration": 1282,
    "start_time": "2022-03-11T09:19:42.863Z"
   },
   {
    "duration": 169,
    "start_time": "2022-03-11T09:19:44.147Z"
   },
   {
    "duration": 12,
    "start_time": "2022-03-11T09:19:44.318Z"
   },
   {
    "duration": 13,
    "start_time": "2022-03-11T09:19:44.332Z"
   },
   {
    "duration": 20,
    "start_time": "2022-03-11T09:19:44.347Z"
   },
   {
    "duration": 4,
    "start_time": "2022-03-11T09:19:44.369Z"
   },
   {
    "duration": 67,
    "start_time": "2022-03-11T09:19:44.375Z"
   },
   {
    "duration": 878,
    "start_time": "2022-03-11T09:19:44.445Z"
   },
   {
    "duration": 7,
    "start_time": "2022-03-11T09:19:45.326Z"
   },
   {
    "duration": 19,
    "start_time": "2022-03-11T09:19:45.335Z"
   },
   {
    "duration": 16,
    "start_time": "2022-03-11T09:19:45.356Z"
   },
   {
    "duration": 17,
    "start_time": "2022-03-11T09:19:45.402Z"
   },
   {
    "duration": 6,
    "start_time": "2022-03-11T09:19:45.421Z"
   },
   {
    "duration": 45,
    "start_time": "2022-03-11T09:19:45.429Z"
   },
   {
    "duration": 9,
    "start_time": "2022-03-11T09:19:45.502Z"
   },
   {
    "duration": 12,
    "start_time": "2022-03-11T09:19:45.513Z"
   },
   {
    "duration": 13,
    "start_time": "2022-03-11T09:19:45.527Z"
   },
   {
    "duration": 13,
    "start_time": "2022-03-11T09:19:45.542Z"
   },
   {
    "duration": 180,
    "start_time": "2022-03-11T09:19:45.557Z"
   },
   {
    "duration": 3908,
    "start_time": "2022-03-11T09:19:45.740Z"
   },
   {
    "duration": 155,
    "start_time": "2022-03-11T09:19:49.650Z"
   },
   {
    "duration": 9,
    "start_time": "2022-03-11T09:19:49.807Z"
   },
   {
    "duration": 186,
    "start_time": "2022-03-11T09:19:49.823Z"
   },
   {
    "duration": 98,
    "start_time": "2022-03-11T09:19:50.011Z"
   },
   {
    "duration": 376,
    "start_time": "2022-03-11T09:19:50.112Z"
   },
   {
    "duration": 112,
    "start_time": "2022-03-11T09:19:50.491Z"
   },
   {
    "duration": 118,
    "start_time": "2022-03-11T09:19:50.606Z"
   },
   {
    "duration": 157,
    "start_time": "2022-03-11T09:19:50.726Z"
   },
   {
    "duration": 222,
    "start_time": "2022-03-11T09:19:50.885Z"
   },
   {
    "duration": 3019,
    "start_time": "2022-03-11T09:19:51.110Z"
   },
   {
    "duration": 9,
    "start_time": "2022-03-11T09:19:54.131Z"
   },
   {
    "duration": 163,
    "start_time": "2022-03-11T09:19:54.142Z"
   },
   {
    "duration": 98,
    "start_time": "2022-03-11T09:19:54.307Z"
   },
   {
    "duration": 16,
    "start_time": "2022-03-11T09:19:54.407Z"
   },
   {
    "duration": 27,
    "start_time": "2022-03-11T09:19:54.425Z"
   },
   {
    "duration": 35,
    "start_time": "2022-03-11T09:19:54.454Z"
   },
   {
    "duration": 15,
    "start_time": "2022-03-11T09:19:54.491Z"
   },
   {
    "duration": 16,
    "start_time": "2022-03-11T09:19:54.508Z"
   },
   {
    "duration": 24,
    "start_time": "2022-03-11T09:19:54.526Z"
   },
   {
    "duration": 54,
    "start_time": "2022-03-11T09:19:54.553Z"
   },
   {
    "duration": 217,
    "start_time": "2022-03-11T09:19:54.610Z"
   },
   {
    "duration": 220,
    "start_time": "2022-03-11T09:19:54.829Z"
   },
   {
    "duration": 439,
    "start_time": "2022-03-11T09:19:55.051Z"
   },
   {
    "duration": 9417,
    "start_time": "2022-03-11T09:19:55.492Z"
   },
   {
    "duration": 10,
    "start_time": "2022-03-11T09:20:04.911Z"
   },
   {
    "duration": 280,
    "start_time": "2022-03-11T09:20:04.922Z"
   },
   {
    "duration": 98,
    "start_time": "2022-03-11T09:20:05.205Z"
   },
   {
    "duration": 14,
    "start_time": "2022-03-11T09:20:05.305Z"
   },
   {
    "duration": 13,
    "start_time": "2022-03-11T09:20:05.320Z"
   },
   {
    "duration": 26,
    "start_time": "2022-03-11T09:20:05.335Z"
   },
   {
    "duration": 39,
    "start_time": "2022-03-11T09:20:05.362Z"
   },
   {
    "duration": 4,
    "start_time": "2022-03-11T09:20:05.403Z"
   },
   {
    "duration": 27,
    "start_time": "2022-03-11T09:20:05.408Z"
   },
   {
    "duration": 19,
    "start_time": "2022-03-11T09:20:05.437Z"
   },
   {
    "duration": 46,
    "start_time": "2022-03-11T09:20:05.458Z"
   },
   {
    "duration": 105,
    "start_time": "2022-03-11T09:20:05.506Z"
   },
   {
    "duration": 391,
    "start_time": "2022-03-11T09:20:05.613Z"
   },
   {
    "duration": 2661,
    "start_time": "2022-03-11T09:20:06.006Z"
   },
   {
    "duration": 10,
    "start_time": "2022-03-11T09:20:08.668Z"
   },
   {
    "duration": 68,
    "start_time": "2022-03-11T09:20:08.680Z"
   },
   {
    "duration": 6,
    "start_time": "2022-03-11T09:20:08.750Z"
   },
   {
    "duration": 16,
    "start_time": "2022-03-11T09:20:08.759Z"
   },
   {
    "duration": 17,
    "start_time": "2022-03-11T09:20:08.802Z"
   },
   {
    "duration": 186,
    "start_time": "2022-03-11T09:20:08.821Z"
   },
   {
    "duration": 555,
    "start_time": "2022-03-11T09:20:09.009Z"
   },
   {
    "duration": 4,
    "start_time": "2022-03-11T09:20:09.566Z"
   },
   {
    "duration": 1498,
    "start_time": "2022-03-11T12:39:38.419Z"
   },
   {
    "duration": 219,
    "start_time": "2022-03-11T12:39:39.919Z"
   },
   {
    "duration": 17,
    "start_time": "2022-03-11T12:39:40.141Z"
   },
   {
    "duration": 20,
    "start_time": "2022-03-11T12:39:40.161Z"
   },
   {
    "duration": 30,
    "start_time": "2022-03-11T12:39:40.183Z"
   },
   {
    "duration": 6,
    "start_time": "2022-03-11T12:39:40.215Z"
   },
   {
    "duration": 86,
    "start_time": "2022-03-11T12:39:40.223Z"
   },
   {
    "duration": 1251,
    "start_time": "2022-03-11T12:39:40.312Z"
   },
   {
    "duration": 16,
    "start_time": "2022-03-11T12:39:41.566Z"
   },
   {
    "duration": 54,
    "start_time": "2022-03-11T12:39:41.584Z"
   },
   {
    "duration": 19,
    "start_time": "2022-03-11T12:39:41.640Z"
   },
   {
    "duration": 23,
    "start_time": "2022-03-11T12:39:41.662Z"
   },
   {
    "duration": 11,
    "start_time": "2022-03-11T12:39:41.687Z"
   },
   {
    "duration": 81,
    "start_time": "2022-03-11T12:39:41.700Z"
   },
   {
    "duration": 12,
    "start_time": "2022-03-11T12:39:41.784Z"
   },
   {
    "duration": 24,
    "start_time": "2022-03-11T12:39:41.799Z"
   },
   {
    "duration": 28,
    "start_time": "2022-03-11T12:39:41.825Z"
   },
   {
    "duration": 34,
    "start_time": "2022-03-11T12:39:41.856Z"
   },
   {
    "duration": 166,
    "start_time": "2022-03-11T12:39:41.893Z"
   },
   {
    "duration": 5134,
    "start_time": "2022-03-11T12:39:42.063Z"
   },
   {
    "duration": 183,
    "start_time": "2022-03-11T12:39:47.199Z"
   },
   {
    "duration": 12,
    "start_time": "2022-03-11T12:39:47.385Z"
   },
   {
    "duration": 283,
    "start_time": "2022-03-11T12:39:47.403Z"
   },
   {
    "duration": 11,
    "start_time": "2022-03-11T12:39:47.689Z"
   },
   {
    "duration": 524,
    "start_time": "2022-03-11T12:39:47.703Z"
   },
   {
    "duration": 62,
    "start_time": "2022-03-11T12:39:48.229Z"
   },
   {
    "duration": 105,
    "start_time": "2022-03-11T12:39:48.384Z"
   },
   {
    "duration": 206,
    "start_time": "2022-03-11T12:39:48.492Z"
   },
   {
    "duration": 276,
    "start_time": "2022-03-11T12:39:48.701Z"
   },
   {
    "duration": 3789,
    "start_time": "2022-03-11T12:39:48.982Z"
   },
   {
    "duration": 17,
    "start_time": "2022-03-11T12:39:52.774Z"
   },
   {
    "duration": 190,
    "start_time": "2022-03-11T12:39:52.793Z"
   },
   {
    "duration": 101,
    "start_time": "2022-03-11T12:39:52.987Z"
   },
   {
    "duration": 30,
    "start_time": "2022-03-11T12:39:53.090Z"
   },
   {
    "duration": 39,
    "start_time": "2022-03-11T12:39:53.123Z"
   },
   {
    "duration": 38,
    "start_time": "2022-03-11T12:39:53.164Z"
   },
   {
    "duration": 9,
    "start_time": "2022-03-11T12:39:53.204Z"
   },
   {
    "duration": 17,
    "start_time": "2022-03-11T12:39:53.215Z"
   },
   {
    "duration": 41,
    "start_time": "2022-03-11T12:39:53.234Z"
   },
   {
    "duration": 207,
    "start_time": "2022-03-11T12:39:53.278Z"
   },
   {
    "duration": 52,
    "start_time": "2022-03-11T12:39:53.487Z"
   },
   {
    "duration": 306,
    "start_time": "2022-03-11T12:39:53.542Z"
   },
   {
    "duration": 563,
    "start_time": "2022-03-11T12:39:53.850Z"
   },
   {
    "duration": 12096,
    "start_time": "2022-03-11T12:39:54.415Z"
   },
   {
    "duration": 20,
    "start_time": "2022-03-11T12:40:06.514Z"
   },
   {
    "duration": 346,
    "start_time": "2022-03-11T12:40:06.537Z"
   },
   {
    "duration": 98,
    "start_time": "2022-03-11T12:40:06.886Z"
   },
   {
    "duration": 16,
    "start_time": "2022-03-11T12:40:06.987Z"
   },
   {
    "duration": 16,
    "start_time": "2022-03-11T12:40:07.006Z"
   },
   {
    "duration": 64,
    "start_time": "2022-03-11T12:40:07.024Z"
   },
   {
    "duration": 8,
    "start_time": "2022-03-11T12:40:07.090Z"
   },
   {
    "duration": 5,
    "start_time": "2022-03-11T12:40:07.100Z"
   },
   {
    "duration": 19,
    "start_time": "2022-03-11T12:40:07.107Z"
   },
   {
    "duration": 64,
    "start_time": "2022-03-11T12:40:07.128Z"
   },
   {
    "duration": 25,
    "start_time": "2022-03-11T12:40:07.195Z"
   },
   {
    "duration": 126,
    "start_time": "2022-03-11T12:40:07.222Z"
   },
   {
    "duration": 534,
    "start_time": "2022-03-11T12:40:07.350Z"
   },
   {
    "duration": 3301,
    "start_time": "2022-03-11T12:40:07.886Z"
   },
   {
    "duration": 12,
    "start_time": "2022-03-11T12:40:11.189Z"
   },
   {
    "duration": 91,
    "start_time": "2022-03-11T12:40:11.204Z"
   },
   {
    "duration": 9,
    "start_time": "2022-03-11T12:40:11.298Z"
   },
   {
    "duration": 30,
    "start_time": "2022-03-11T12:40:11.309Z"
   },
   {
    "duration": 40,
    "start_time": "2022-03-11T12:40:11.342Z"
   },
   {
    "duration": 202,
    "start_time": "2022-03-11T12:40:11.384Z"
   },
   {
    "duration": 682,
    "start_time": "2022-03-11T12:40:11.589Z"
   },
   {
    "duration": 9,
    "start_time": "2022-03-11T12:40:12.273Z"
   },
   {
    "duration": 52,
    "start_time": "2022-03-11T15:57:30.120Z"
   },
   {
    "duration": 1153,
    "start_time": "2022-03-11T15:59:36.352Z"
   },
   {
    "duration": 125,
    "start_time": "2022-03-11T15:59:38.974Z"
   },
   {
    "duration": 5,
    "start_time": "2022-03-11T16:04:09.658Z"
   },
   {
    "duration": 116,
    "start_time": "2022-03-11T16:04:09.664Z"
   },
   {
    "duration": 12,
    "start_time": "2022-03-11T16:04:09.782Z"
   },
   {
    "duration": 15,
    "start_time": "2022-03-11T16:04:09.796Z"
   },
   {
    "duration": 18,
    "start_time": "2022-03-11T16:04:09.813Z"
   },
   {
    "duration": 5,
    "start_time": "2022-03-11T16:04:09.833Z"
   },
   {
    "duration": 69,
    "start_time": "2022-03-11T16:04:09.840Z"
   },
   {
    "duration": 932,
    "start_time": "2022-03-11T16:04:09.912Z"
   },
   {
    "duration": 5,
    "start_time": "2022-03-11T16:04:10.846Z"
   },
   {
    "duration": 27,
    "start_time": "2022-03-11T16:04:10.853Z"
   },
   {
    "duration": 19,
    "start_time": "2022-03-11T16:04:10.882Z"
   },
   {
    "duration": 42,
    "start_time": "2022-03-11T16:04:10.903Z"
   },
   {
    "duration": 5,
    "start_time": "2022-03-11T16:04:10.947Z"
   },
   {
    "duration": 258,
    "start_time": "2022-03-11T16:04:49.732Z"
   },
   {
    "duration": 36,
    "start_time": "2022-03-11T16:05:03.155Z"
   },
   {
    "duration": 143,
    "start_time": "2022-03-11T16:05:12.210Z"
   },
   {
    "duration": 4,
    "start_time": "2022-03-11T16:05:16.183Z"
   },
   {
    "duration": 130,
    "start_time": "2022-03-11T16:05:16.190Z"
   },
   {
    "duration": 12,
    "start_time": "2022-03-11T16:05:16.323Z"
   },
   {
    "duration": 13,
    "start_time": "2022-03-11T16:05:16.337Z"
   },
   {
    "duration": 18,
    "start_time": "2022-03-11T16:05:16.352Z"
   },
   {
    "duration": 4,
    "start_time": "2022-03-11T16:05:16.372Z"
   },
   {
    "duration": 68,
    "start_time": "2022-03-11T16:05:16.379Z"
   },
   {
    "duration": 893,
    "start_time": "2022-03-11T16:05:16.449Z"
   },
   {
    "duration": 5,
    "start_time": "2022-03-11T16:05:17.344Z"
   },
   {
    "duration": 20,
    "start_time": "2022-03-11T16:05:17.350Z"
   },
   {
    "duration": 13,
    "start_time": "2022-03-11T16:05:17.372Z"
   },
   {
    "duration": 13,
    "start_time": "2022-03-11T16:05:17.387Z"
   },
   {
    "duration": 5,
    "start_time": "2022-03-11T16:05:17.402Z"
   },
   {
    "duration": 20,
    "start_time": "2022-03-11T16:08:32.383Z"
   },
   {
    "duration": 10,
    "start_time": "2022-03-11T16:29:43.922Z"
   },
   {
    "duration": 130,
    "start_time": "2022-03-11T16:38:50.995Z"
   },
   {
    "duration": 9,
    "start_time": "2022-03-11T16:38:57.700Z"
   },
   {
    "duration": 159,
    "start_time": "2022-03-11T16:38:59.756Z"
   },
   {
    "duration": 9,
    "start_time": "2022-03-11T16:39:14.882Z"
   },
   {
    "duration": 19,
    "start_time": "2022-03-11T16:44:41.953Z"
   },
   {
    "duration": 12,
    "start_time": "2022-03-11T16:56:54.476Z"
   },
   {
    "duration": 11,
    "start_time": "2022-03-11T17:06:12.921Z"
   },
   {
    "duration": 93,
    "start_time": "2022-03-11T17:06:14.689Z"
   },
   {
    "duration": 146,
    "start_time": "2022-03-11T17:06:28.456Z"
   },
   {
    "duration": 103,
    "start_time": "2022-03-11T17:06:33.935Z"
   },
   {
    "duration": 138,
    "start_time": "2022-03-11T17:14:56.101Z"
   },
   {
    "duration": 3510,
    "start_time": "2022-03-11T17:14:59.807Z"
   },
   {
    "duration": 313,
    "start_time": "2022-03-11T17:15:05.709Z"
   },
   {
    "duration": 5,
    "start_time": "2022-03-11T17:15:18.101Z"
   },
   {
    "duration": 115,
    "start_time": "2022-03-11T17:15:18.107Z"
   },
   {
    "duration": 10,
    "start_time": "2022-03-11T17:15:18.224Z"
   },
   {
    "duration": 14,
    "start_time": "2022-03-11T17:15:18.236Z"
   },
   {
    "duration": 17,
    "start_time": "2022-03-11T17:15:18.252Z"
   },
   {
    "duration": 5,
    "start_time": "2022-03-11T17:15:18.271Z"
   },
   {
    "duration": 67,
    "start_time": "2022-03-11T17:15:18.278Z"
   },
   {
    "duration": 881,
    "start_time": "2022-03-11T17:15:18.348Z"
   },
   {
    "duration": 7,
    "start_time": "2022-03-11T17:15:19.231Z"
   },
   {
    "duration": 19,
    "start_time": "2022-03-11T17:15:19.240Z"
   },
   {
    "duration": 13,
    "start_time": "2022-03-11T17:15:19.261Z"
   },
   {
    "duration": 14,
    "start_time": "2022-03-11T17:15:19.276Z"
   },
   {
    "duration": 4,
    "start_time": "2022-03-11T17:15:19.292Z"
   },
   {
    "duration": 55,
    "start_time": "2022-03-11T17:15:19.298Z"
   },
   {
    "duration": 8,
    "start_time": "2022-03-11T17:15:19.354Z"
   },
   {
    "duration": 6,
    "start_time": "2022-03-11T17:15:19.363Z"
   },
   {
    "duration": 18,
    "start_time": "2022-03-11T17:15:19.371Z"
   },
   {
    "duration": 16,
    "start_time": "2022-03-11T17:15:19.391Z"
   },
   {
    "duration": 31,
    "start_time": "2022-03-11T17:15:19.410Z"
   },
   {
    "duration": 11,
    "start_time": "2022-03-11T17:15:19.443Z"
   },
   {
    "duration": 105,
    "start_time": "2022-03-11T17:15:19.456Z"
   },
   {
    "duration": 3403,
    "start_time": "2022-03-11T17:15:19.563Z"
   },
   {
    "duration": 340,
    "start_time": "2022-03-11T17:15:25.074Z"
   },
   {
    "duration": 164,
    "start_time": "2022-03-11T17:15:33.283Z"
   },
   {
    "duration": 3398,
    "start_time": "2022-03-11T17:17:40.623Z"
   },
   {
    "duration": 16,
    "start_time": "2022-03-11T17:17:47.295Z"
   },
   {
    "duration": 1166,
    "start_time": "2022-03-11T17:18:02.802Z"
   },
   {
    "duration": 130,
    "start_time": "2022-03-11T17:18:03.970Z"
   },
   {
    "duration": 12,
    "start_time": "2022-03-11T17:18:04.102Z"
   },
   {
    "duration": 15,
    "start_time": "2022-03-11T17:18:04.115Z"
   },
   {
    "duration": 20,
    "start_time": "2022-03-11T17:18:04.132Z"
   },
   {
    "duration": 4,
    "start_time": "2022-03-11T17:18:04.154Z"
   },
   {
    "duration": 45,
    "start_time": "2022-03-11T17:18:04.160Z"
   },
   {
    "duration": 875,
    "start_time": "2022-03-11T17:18:04.207Z"
   },
   {
    "duration": 5,
    "start_time": "2022-03-11T17:18:05.084Z"
   },
   {
    "duration": 32,
    "start_time": "2022-03-11T17:18:05.091Z"
   },
   {
    "duration": 14,
    "start_time": "2022-03-11T17:18:05.124Z"
   },
   {
    "duration": 13,
    "start_time": "2022-03-11T17:18:05.139Z"
   },
   {
    "duration": 4,
    "start_time": "2022-03-11T17:18:05.153Z"
   },
   {
    "duration": 36,
    "start_time": "2022-03-11T17:18:05.159Z"
   },
   {
    "duration": 8,
    "start_time": "2022-03-11T17:18:05.196Z"
   },
   {
    "duration": 19,
    "start_time": "2022-03-11T17:18:05.206Z"
   },
   {
    "duration": 27,
    "start_time": "2022-03-11T17:18:05.227Z"
   },
   {
    "duration": 17,
    "start_time": "2022-03-11T17:18:05.256Z"
   },
   {
    "duration": 15,
    "start_time": "2022-03-11T17:18:05.275Z"
   },
   {
    "duration": 32,
    "start_time": "2022-03-11T17:18:05.292Z"
   },
   {
    "duration": 111,
    "start_time": "2022-03-11T17:18:05.326Z"
   },
   {
    "duration": 3404,
    "start_time": "2022-03-11T17:18:05.440Z"
   },
   {
    "duration": 16,
    "start_time": "2022-03-11T17:18:13.997Z"
   },
   {
    "duration": 39,
    "start_time": "2022-03-11T17:38:20.466Z"
   },
   {
    "duration": 49,
    "start_time": "2022-03-11T17:42:56.274Z"
   },
   {
    "duration": 9,
    "start_time": "2022-03-11T17:43:07.184Z"
   },
   {
    "duration": 264,
    "start_time": "2022-03-11T17:45:31.826Z"
   },
   {
    "duration": 5,
    "start_time": "2022-03-11T17:45:49.591Z"
   },
   {
    "duration": 129,
    "start_time": "2022-03-11T17:45:49.597Z"
   },
   {
    "duration": 10,
    "start_time": "2022-03-11T17:45:49.728Z"
   },
   {
    "duration": 13,
    "start_time": "2022-03-11T17:45:49.741Z"
   },
   {
    "duration": 19,
    "start_time": "2022-03-11T17:45:49.755Z"
   },
   {
    "duration": 5,
    "start_time": "2022-03-11T17:45:49.776Z"
   },
   {
    "duration": 60,
    "start_time": "2022-03-11T17:45:49.783Z"
   },
   {
    "duration": 877,
    "start_time": "2022-03-11T17:45:49.845Z"
   },
   {
    "duration": 14,
    "start_time": "2022-03-11T17:45:50.724Z"
   },
   {
    "duration": 20,
    "start_time": "2022-03-11T17:45:50.740Z"
   },
   {
    "duration": 14,
    "start_time": "2022-03-11T17:45:50.762Z"
   },
   {
    "duration": 15,
    "start_time": "2022-03-11T17:45:50.778Z"
   },
   {
    "duration": 4,
    "start_time": "2022-03-11T17:45:50.795Z"
   },
   {
    "duration": 54,
    "start_time": "2022-03-11T17:45:50.801Z"
   },
   {
    "duration": 9,
    "start_time": "2022-03-11T17:45:50.857Z"
   },
   {
    "duration": 7,
    "start_time": "2022-03-11T17:45:50.868Z"
   },
   {
    "duration": 14,
    "start_time": "2022-03-11T17:45:50.877Z"
   },
   {
    "duration": 11,
    "start_time": "2022-03-11T17:45:50.892Z"
   },
   {
    "duration": 40,
    "start_time": "2022-03-11T17:45:50.905Z"
   },
   {
    "duration": 12,
    "start_time": "2022-03-11T17:45:50.946Z"
   },
   {
    "duration": 76,
    "start_time": "2022-03-11T17:46:12.594Z"
   },
   {
    "duration": 83,
    "start_time": "2022-03-11T17:48:51.566Z"
   },
   {
    "duration": 339,
    "start_time": "2022-03-11T17:49:07.029Z"
   },
   {
    "duration": 325,
    "start_time": "2022-03-11T17:49:29.581Z"
   },
   {
    "duration": 498,
    "start_time": "2022-03-11T17:50:41.041Z"
   },
   {
    "duration": 859,
    "start_time": "2022-03-11T17:51:00.480Z"
   },
   {
    "duration": 420,
    "start_time": "2022-03-11T17:51:30.543Z"
   },
   {
    "duration": 633,
    "start_time": "2022-03-11T17:51:44.164Z"
   },
   {
    "duration": 817,
    "start_time": "2022-03-11T17:51:58.475Z"
   },
   {
    "duration": 1054,
    "start_time": "2022-03-11T17:52:55.146Z"
   },
   {
    "duration": 1234,
    "start_time": "2022-03-11T17:53:11.975Z"
   },
   {
    "duration": 1253,
    "start_time": "2022-03-11T17:53:58.781Z"
   },
   {
    "duration": 1283,
    "start_time": "2022-03-11T17:54:18.524Z"
   },
   {
    "duration": 1232,
    "start_time": "2022-03-11T17:55:22.113Z"
   },
   {
    "duration": 829,
    "start_time": "2022-03-11T17:55:52.704Z"
   },
   {
    "duration": 873,
    "start_time": "2022-03-11T17:56:09.886Z"
   },
   {
    "duration": 808,
    "start_time": "2022-03-11T17:58:25.015Z"
   },
   {
    "duration": 906,
    "start_time": "2022-03-11T17:58:37.050Z"
   },
   {
    "duration": 935,
    "start_time": "2022-03-11T17:58:48.245Z"
   },
   {
    "duration": 899,
    "start_time": "2022-03-11T17:58:54.845Z"
   },
   {
    "duration": 3948,
    "start_time": "2022-03-11T17:59:58.881Z"
   },
   {
    "duration": 4781,
    "start_time": "2022-03-11T18:00:11.328Z"
   },
   {
    "duration": 3118,
    "start_time": "2022-03-11T18:07:46.137Z"
   },
   {
    "duration": 3096,
    "start_time": "2022-03-11T18:07:55.742Z"
   },
   {
    "duration": 5072,
    "start_time": "2022-03-11T18:08:16.533Z"
   },
   {
    "duration": 3996,
    "start_time": "2022-03-11T18:08:36.147Z"
   },
   {
    "duration": 4528,
    "start_time": "2022-03-11T18:09:29.848Z"
   },
   {
    "duration": 4390,
    "start_time": "2022-03-11T18:09:52.783Z"
   },
   {
    "duration": 4352,
    "start_time": "2022-03-11T18:10:38.873Z"
   },
   {
    "duration": 882,
    "start_time": "2022-03-11T18:11:52.097Z"
   },
   {
    "duration": 1274,
    "start_time": "2022-03-11T18:12:02.169Z"
   },
   {
    "duration": 1026,
    "start_time": "2022-03-11T18:12:36.190Z"
   },
   {
    "duration": 4581,
    "start_time": "2022-03-11T18:13:37.644Z"
   },
   {
    "duration": 5474,
    "start_time": "2022-03-11T18:15:22.230Z"
   },
   {
    "duration": 5727,
    "start_time": "2022-03-11T18:17:52.925Z"
   },
   {
    "duration": 5932,
    "start_time": "2022-03-11T18:18:11.259Z"
   },
   {
    "duration": 1046,
    "start_time": "2022-03-11T18:19:43.262Z"
   },
   {
    "duration": 1082,
    "start_time": "2022-03-11T18:21:13.882Z"
   },
   {
    "duration": 1079,
    "start_time": "2022-03-11T18:21:50.926Z"
   },
   {
    "duration": 1072,
    "start_time": "2022-03-11T18:22:40.430Z"
   },
   {
    "duration": 5879,
    "start_time": "2022-03-11T18:25:35.364Z"
   },
   {
    "duration": 6278,
    "start_time": "2022-03-11T18:29:35.214Z"
   },
   {
    "duration": 6885,
    "start_time": "2022-03-11T18:29:57.324Z"
   },
   {
    "duration": 6190,
    "start_time": "2022-03-11T18:31:35.554Z"
   },
   {
    "duration": 1563,
    "start_time": "2022-03-11T18:33:12.954Z"
   },
   {
    "duration": 1322,
    "start_time": "2022-03-11T18:37:47.236Z"
   },
   {
    "duration": 1349,
    "start_time": "2022-03-11T18:41:45.844Z"
   },
   {
    "duration": 1338,
    "start_time": "2022-03-11T18:42:07.139Z"
   },
   {
    "duration": 5700,
    "start_time": "2022-03-11T18:42:23.715Z"
   },
   {
    "duration": 24,
    "start_time": "2022-03-11T18:43:50.022Z"
   },
   {
    "duration": 8,
    "start_time": "2022-03-11T18:44:16.515Z"
   },
   {
    "duration": 5709,
    "start_time": "2022-03-11T18:48:38.076Z"
   },
   {
    "duration": 5909,
    "start_time": "2022-03-11T18:49:09.476Z"
   },
   {
    "duration": 5805,
    "start_time": "2022-03-11T18:49:27.691Z"
   },
   {
    "duration": 15,
    "start_time": "2022-03-11T19:13:48.685Z"
   },
   {
    "duration": 18,
    "start_time": "2022-03-11T19:15:28.199Z"
   },
   {
    "duration": 14,
    "start_time": "2022-03-11T19:15:41.957Z"
   },
   {
    "duration": 14,
    "start_time": "2022-03-11T19:15:55.613Z"
   },
   {
    "duration": 15,
    "start_time": "2022-03-11T19:16:26.924Z"
   },
   {
    "duration": 15,
    "start_time": "2022-03-11T19:16:37.841Z"
   },
   {
    "duration": 8,
    "start_time": "2022-03-11T19:16:50.082Z"
   },
   {
    "duration": 16,
    "start_time": "2022-03-11T19:16:54.921Z"
   },
   {
    "duration": 1291,
    "start_time": "2022-03-11T19:17:58.282Z"
   },
   {
    "duration": 1326,
    "start_time": "2022-03-11T19:18:44.653Z"
   },
   {
    "duration": 5822,
    "start_time": "2022-03-11T19:18:53.581Z"
   },
   {
    "duration": 89,
    "start_time": "2022-03-11T19:19:26.449Z"
   },
   {
    "duration": 12,
    "start_time": "2022-03-11T19:19:29.129Z"
   },
   {
    "duration": 284,
    "start_time": "2022-03-11T19:22:58.497Z"
   },
   {
    "duration": 10,
    "start_time": "2022-03-11T19:23:04.605Z"
   },
   {
    "duration": 178,
    "start_time": "2022-03-11T19:23:06.861Z"
   },
   {
    "duration": 12,
    "start_time": "2022-03-11T19:23:11.238Z"
   },
   {
    "duration": 325,
    "start_time": "2022-03-11T19:23:46.663Z"
   },
   {
    "duration": 17,
    "start_time": "2022-03-11T19:34:05.819Z"
   },
   {
    "duration": 205,
    "start_time": "2022-03-11T19:35:08.439Z"
   },
   {
    "duration": 135,
    "start_time": "2022-03-11T19:40:10.503Z"
   },
   {
    "duration": 1201,
    "start_time": "2022-03-11T19:40:59.773Z"
   },
   {
    "duration": 200,
    "start_time": "2022-03-11T19:41:00.976Z"
   },
   {
    "duration": 12,
    "start_time": "2022-03-11T19:41:01.180Z"
   },
   {
    "duration": 30,
    "start_time": "2022-03-11T19:41:01.194Z"
   },
   {
    "duration": 21,
    "start_time": "2022-03-11T19:41:01.226Z"
   },
   {
    "duration": 4,
    "start_time": "2022-03-11T19:41:01.249Z"
   },
   {
    "duration": 62,
    "start_time": "2022-03-11T19:41:01.255Z"
   },
   {
    "duration": 893,
    "start_time": "2022-03-11T19:41:01.320Z"
   },
   {
    "duration": 5,
    "start_time": "2022-03-11T19:41:02.215Z"
   },
   {
    "duration": 28,
    "start_time": "2022-03-11T19:41:02.222Z"
   },
   {
    "duration": 30,
    "start_time": "2022-03-11T19:41:02.252Z"
   },
   {
    "duration": 18,
    "start_time": "2022-03-11T19:41:02.284Z"
   },
   {
    "duration": 13,
    "start_time": "2022-03-11T19:41:02.303Z"
   },
   {
    "duration": 45,
    "start_time": "2022-03-11T19:41:02.318Z"
   },
   {
    "duration": 8,
    "start_time": "2022-03-11T19:41:02.365Z"
   },
   {
    "duration": 20,
    "start_time": "2022-03-11T19:41:02.374Z"
   },
   {
    "duration": 21,
    "start_time": "2022-03-11T19:41:02.396Z"
   },
   {
    "duration": 10,
    "start_time": "2022-03-11T19:41:02.418Z"
   },
   {
    "duration": 19,
    "start_time": "2022-03-11T19:41:02.429Z"
   },
   {
    "duration": 1413,
    "start_time": "2022-03-11T19:41:02.450Z"
   },
   {
    "duration": 5789,
    "start_time": "2022-03-11T19:41:03.865Z"
   },
   {
    "duration": 181,
    "start_time": "2022-03-11T19:41:09.656Z"
   },
   {
    "duration": 12,
    "start_time": "2022-03-11T19:41:09.840Z"
   },
   {
    "duration": 98,
    "start_time": "2022-03-11T19:41:09.854Z"
   },
   {
    "duration": 188,
    "start_time": "2022-03-11T19:41:09.954Z"
   },
   {
    "duration": 12,
    "start_time": "2022-03-11T19:41:10.145Z"
   },
   {
    "duration": 413,
    "start_time": "2022-03-11T19:41:10.159Z"
   },
   {
    "duration": 4,
    "start_time": "2022-03-11T19:41:54.815Z"
   },
   {
    "duration": 115,
    "start_time": "2022-03-11T19:41:54.820Z"
   },
   {
    "duration": 10,
    "start_time": "2022-03-11T19:41:54.937Z"
   },
   {
    "duration": 17,
    "start_time": "2022-03-11T19:41:54.950Z"
   },
   {
    "duration": 17,
    "start_time": "2022-03-11T19:41:54.970Z"
   },
   {
    "duration": 5,
    "start_time": "2022-03-11T19:41:54.989Z"
   },
   {
    "duration": 71,
    "start_time": "2022-03-11T19:41:54.997Z"
   },
   {
    "duration": 839,
    "start_time": "2022-03-11T19:41:55.071Z"
   },
   {
    "duration": 5,
    "start_time": "2022-03-11T19:41:55.913Z"
   },
   {
    "duration": 30,
    "start_time": "2022-03-11T19:41:55.920Z"
   },
   {
    "duration": 14,
    "start_time": "2022-03-11T19:41:55.952Z"
   },
   {
    "duration": 14,
    "start_time": "2022-03-11T19:41:55.968Z"
   },
   {
    "duration": 4,
    "start_time": "2022-03-11T19:41:55.984Z"
   },
   {
    "duration": 53,
    "start_time": "2022-03-11T19:41:55.990Z"
   },
   {
    "duration": 9,
    "start_time": "2022-03-11T19:41:56.045Z"
   },
   {
    "duration": 9,
    "start_time": "2022-03-11T19:41:56.056Z"
   },
   {
    "duration": 13,
    "start_time": "2022-03-11T19:41:56.066Z"
   },
   {
    "duration": 11,
    "start_time": "2022-03-11T19:41:56.081Z"
   },
   {
    "duration": 45,
    "start_time": "2022-03-11T19:41:56.094Z"
   },
   {
    "duration": 1326,
    "start_time": "2022-03-11T19:41:56.141Z"
   },
   {
    "duration": 5899,
    "start_time": "2022-03-11T19:41:57.469Z"
   },
   {
    "duration": 72,
    "start_time": "2022-03-11T19:42:03.369Z"
   },
   {
    "duration": 108,
    "start_time": "2022-03-11T19:42:03.443Z"
   },
   {
    "duration": 23,
    "start_time": "2022-03-11T19:42:03.552Z"
   },
   {
    "duration": 171,
    "start_time": "2022-03-11T19:42:03.576Z"
   },
   {
    "duration": 90,
    "start_time": "2022-03-11T19:42:03.749Z"
   },
   {
    "duration": 333,
    "start_time": "2022-03-11T19:42:03.841Z"
   },
   {
    "duration": 109,
    "start_time": "2022-03-11T19:42:11.831Z"
   },
   {
    "duration": 27,
    "start_time": "2022-03-11T19:43:08.995Z"
   },
   {
    "duration": 111,
    "start_time": "2022-03-11T19:44:16.767Z"
   },
   {
    "duration": 179,
    "start_time": "2022-03-11T19:44:24.599Z"
   },
   {
    "duration": 944,
    "start_time": "2022-03-11T19:49:09.868Z"
   },
   {
    "duration": 1713,
    "start_time": "2022-03-11T19:49:21.120Z"
   },
   {
    "duration": 2205,
    "start_time": "2022-03-11T19:49:47.759Z"
   },
   {
    "duration": 1493,
    "start_time": "2022-03-11T19:50:28.565Z"
   },
   {
    "duration": 12,
    "start_time": "2022-03-11T19:52:07.598Z"
   },
   {
    "duration": 5064,
    "start_time": "2022-03-11T19:54:28.551Z"
   },
   {
    "duration": 3755,
    "start_time": "2022-03-11T19:54:44.526Z"
   },
   {
    "duration": 4827,
    "start_time": "2022-03-11T19:55:00.670Z"
   },
   {
    "duration": 3911,
    "start_time": "2022-03-11T19:55:14.828Z"
   },
   {
    "duration": 847,
    "start_time": "2022-03-11T19:55:35.164Z"
   },
   {
    "duration": 2549,
    "start_time": "2022-03-11T19:55:46.400Z"
   },
   {
    "duration": 1368,
    "start_time": "2022-03-11T19:55:58.698Z"
   },
   {
    "duration": 2722,
    "start_time": "2022-03-11T19:56:09.529Z"
   },
   {
    "duration": 1996,
    "start_time": "2022-03-11T19:56:19.121Z"
   },
   {
    "duration": 9269,
    "start_time": "2022-03-11T19:59:50.157Z"
   },
   {
    "duration": 55,
    "start_time": "2022-03-11T20:00:50.459Z"
   },
   {
    "duration": 9455,
    "start_time": "2022-03-11T20:01:01.426Z"
   },
   {
    "duration": 10,
    "start_time": "2022-03-11T20:01:55.534Z"
   },
   {
    "duration": 12,
    "start_time": "2022-03-11T20:02:14.133Z"
   },
   {
    "duration": 12,
    "start_time": "2022-03-11T20:05:29.210Z"
   },
   {
    "duration": 264,
    "start_time": "2022-03-11T20:09:01.487Z"
   },
   {
    "duration": 250,
    "start_time": "2022-03-11T20:10:20.403Z"
   },
   {
    "duration": 295,
    "start_time": "2022-03-11T20:10:29.995Z"
   },
   {
    "duration": 4,
    "start_time": "2022-03-11T20:10:49.442Z"
   },
   {
    "duration": 129,
    "start_time": "2022-03-11T20:10:49.448Z"
   },
   {
    "duration": 11,
    "start_time": "2022-03-11T20:10:49.579Z"
   },
   {
    "duration": 14,
    "start_time": "2022-03-11T20:10:49.592Z"
   },
   {
    "duration": 15,
    "start_time": "2022-03-11T20:10:49.608Z"
   },
   {
    "duration": 15,
    "start_time": "2022-03-11T20:10:49.624Z"
   },
   {
    "duration": 47,
    "start_time": "2022-03-11T20:10:49.642Z"
   },
   {
    "duration": 879,
    "start_time": "2022-03-11T20:10:49.691Z"
   },
   {
    "duration": 5,
    "start_time": "2022-03-11T20:10:50.572Z"
   },
   {
    "duration": 21,
    "start_time": "2022-03-11T20:10:50.578Z"
   },
   {
    "duration": 12,
    "start_time": "2022-03-11T20:10:50.601Z"
   },
   {
    "duration": 29,
    "start_time": "2022-03-11T20:10:50.615Z"
   },
   {
    "duration": 4,
    "start_time": "2022-03-11T20:10:50.646Z"
   },
   {
    "duration": 22,
    "start_time": "2022-03-11T20:10:50.651Z"
   },
   {
    "duration": 7,
    "start_time": "2022-03-11T20:10:50.675Z"
   },
   {
    "duration": 6,
    "start_time": "2022-03-11T20:10:50.684Z"
   },
   {
    "duration": 13,
    "start_time": "2022-03-11T20:10:50.692Z"
   },
   {
    "duration": 40,
    "start_time": "2022-03-11T20:10:50.706Z"
   },
   {
    "duration": 14,
    "start_time": "2022-03-11T20:10:50.749Z"
   },
   {
    "duration": 1344,
    "start_time": "2022-03-11T20:10:50.765Z"
   },
   {
    "duration": 5668,
    "start_time": "2022-03-11T20:10:52.111Z"
   },
   {
    "duration": 58,
    "start_time": "2022-03-11T20:10:57.780Z"
   },
   {
    "duration": 99,
    "start_time": "2022-03-11T20:10:57.841Z"
   },
   {
    "duration": 15,
    "start_time": "2022-03-11T20:10:57.942Z"
   },
   {
    "duration": 190,
    "start_time": "2022-03-11T20:10:57.959Z"
   },
   {
    "duration": 88,
    "start_time": "2022-03-11T20:10:58.151Z"
   },
   {
    "duration": 322,
    "start_time": "2022-03-11T20:10:58.241Z"
   },
   {
    "duration": 82,
    "start_time": "2022-03-11T20:10:58.565Z"
   },
   {
    "duration": 1712,
    "start_time": "2022-03-11T20:10:58.738Z"
   },
   {
    "duration": 11,
    "start_time": "2022-03-11T20:11:00.452Z"
   },
   {
    "duration": 9357,
    "start_time": "2022-03-11T20:11:00.465Z"
   },
   {
    "duration": 20,
    "start_time": "2022-03-11T20:11:09.824Z"
   },
   {
    "duration": 14,
    "start_time": "2022-03-11T20:11:09.846Z"
   },
   {
    "duration": 272,
    "start_time": "2022-03-11T20:11:19.503Z"
   },
   {
    "duration": 5,
    "start_time": "2022-03-11T20:12:22.830Z"
   },
   {
    "duration": 133,
    "start_time": "2022-03-11T20:12:32.188Z"
   },
   {
    "duration": 4,
    "start_time": "2022-03-11T20:12:36.571Z"
   },
   {
    "duration": 4,
    "start_time": "2022-03-11T20:13:39.587Z"
   },
   {
    "duration": 120,
    "start_time": "2022-03-11T20:13:39.594Z"
   },
   {
    "duration": 11,
    "start_time": "2022-03-11T20:13:39.716Z"
   },
   {
    "duration": 11,
    "start_time": "2022-03-11T20:13:39.730Z"
   },
   {
    "duration": 16,
    "start_time": "2022-03-11T20:13:39.743Z"
   },
   {
    "duration": 4,
    "start_time": "2022-03-11T20:13:39.761Z"
   },
   {
    "duration": 49,
    "start_time": "2022-03-11T20:13:39.768Z"
   },
   {
    "duration": 894,
    "start_time": "2022-03-11T20:13:39.820Z"
   },
   {
    "duration": 5,
    "start_time": "2022-03-11T20:13:40.716Z"
   },
   {
    "duration": 23,
    "start_time": "2022-03-11T20:13:40.722Z"
   },
   {
    "duration": 15,
    "start_time": "2022-03-11T20:13:40.747Z"
   },
   {
    "duration": 13,
    "start_time": "2022-03-11T20:13:40.764Z"
   },
   {
    "duration": 4,
    "start_time": "2022-03-11T20:13:40.779Z"
   },
   {
    "duration": 31,
    "start_time": "2022-03-11T20:13:40.785Z"
   },
   {
    "duration": 26,
    "start_time": "2022-03-11T20:13:40.818Z"
   },
   {
    "duration": 7,
    "start_time": "2022-03-11T20:13:40.845Z"
   },
   {
    "duration": 13,
    "start_time": "2022-03-11T20:13:40.854Z"
   },
   {
    "duration": 10,
    "start_time": "2022-03-11T20:13:40.869Z"
   },
   {
    "duration": 33,
    "start_time": "2022-03-11T20:13:40.881Z"
   },
   {
    "duration": 1339,
    "start_time": "2022-03-11T20:13:40.916Z"
   },
   {
    "duration": 5905,
    "start_time": "2022-03-11T20:13:42.257Z"
   },
   {
    "duration": 79,
    "start_time": "2022-03-11T20:13:48.163Z"
   },
   {
    "duration": 101,
    "start_time": "2022-03-11T20:13:48.244Z"
   },
   {
    "duration": 15,
    "start_time": "2022-03-11T20:13:48.347Z"
   },
   {
    "duration": 179,
    "start_time": "2022-03-11T20:13:48.363Z"
   },
   {
    "duration": 11,
    "start_time": "2022-03-11T20:13:48.544Z"
   },
   {
    "duration": 415,
    "start_time": "2022-03-11T20:13:48.558Z"
   },
   {
    "duration": 168,
    "start_time": "2022-03-11T20:13:48.975Z"
   },
   {
    "duration": 1694,
    "start_time": "2022-03-11T20:13:49.145Z"
   },
   {
    "duration": 11,
    "start_time": "2022-03-11T20:13:50.840Z"
   },
   {
    "duration": 9267,
    "start_time": "2022-03-11T20:13:50.853Z"
   },
   {
    "duration": 22,
    "start_time": "2022-03-11T20:14:00.122Z"
   },
   {
    "duration": 13,
    "start_time": "2022-03-11T20:14:00.146Z"
   },
   {
    "duration": 4,
    "start_time": "2022-03-11T20:14:04.087Z"
   },
   {
    "duration": 4,
    "start_time": "2022-03-11T20:14:21.430Z"
   },
   {
    "duration": 1185,
    "start_time": "2022-03-11T20:14:42.057Z"
   },
   {
    "duration": 117,
    "start_time": "2022-03-11T20:14:43.244Z"
   },
   {
    "duration": 12,
    "start_time": "2022-03-11T20:14:43.364Z"
   },
   {
    "duration": 19,
    "start_time": "2022-03-11T20:14:43.378Z"
   },
   {
    "duration": 17,
    "start_time": "2022-03-11T20:14:43.398Z"
   },
   {
    "duration": 5,
    "start_time": "2022-03-11T20:14:43.417Z"
   },
   {
    "duration": 45,
    "start_time": "2022-03-11T20:14:43.437Z"
   },
   {
    "duration": 845,
    "start_time": "2022-03-11T20:14:43.484Z"
   },
   {
    "duration": 9,
    "start_time": "2022-03-11T20:14:44.331Z"
   },
   {
    "duration": 18,
    "start_time": "2022-03-11T20:14:44.342Z"
   },
   {
    "duration": 13,
    "start_time": "2022-03-11T20:14:44.361Z"
   },
   {
    "duration": 14,
    "start_time": "2022-03-11T20:14:44.375Z"
   },
   {
    "duration": 4,
    "start_time": "2022-03-11T20:14:44.390Z"
   },
   {
    "duration": 54,
    "start_time": "2022-03-11T20:14:44.395Z"
   },
   {
    "duration": 8,
    "start_time": "2022-03-11T20:14:44.450Z"
   },
   {
    "duration": 7,
    "start_time": "2022-03-11T20:14:44.460Z"
   },
   {
    "duration": 12,
    "start_time": "2022-03-11T20:14:44.469Z"
   },
   {
    "duration": 5,
    "start_time": "2022-03-11T20:14:52.584Z"
   },
   {
    "duration": 44,
    "start_time": "2022-03-11T20:20:48.166Z"
   },
   {
    "duration": 8,
    "start_time": "2022-03-11T20:21:15.898Z"
   },
   {
    "duration": 5,
    "start_time": "2022-03-11T20:21:35.557Z"
   },
   {
    "duration": 116,
    "start_time": "2022-03-11T20:21:35.564Z"
   },
   {
    "duration": 10,
    "start_time": "2022-03-11T20:21:35.682Z"
   },
   {
    "duration": 15,
    "start_time": "2022-03-11T20:21:35.694Z"
   },
   {
    "duration": 16,
    "start_time": "2022-03-11T20:21:35.711Z"
   },
   {
    "duration": 4,
    "start_time": "2022-03-11T20:21:35.729Z"
   },
   {
    "duration": 44,
    "start_time": "2022-03-11T20:21:35.735Z"
   },
   {
    "duration": 837,
    "start_time": "2022-03-11T20:21:35.781Z"
   },
   {
    "duration": 5,
    "start_time": "2022-03-11T20:21:36.620Z"
   },
   {
    "duration": 24,
    "start_time": "2022-03-11T20:21:36.626Z"
   },
   {
    "duration": 13,
    "start_time": "2022-03-11T20:21:36.651Z"
   },
   {
    "duration": 13,
    "start_time": "2022-03-11T20:21:36.666Z"
   },
   {
    "duration": 4,
    "start_time": "2022-03-11T20:21:36.680Z"
   },
   {
    "duration": 25,
    "start_time": "2022-03-11T20:21:36.686Z"
   },
   {
    "duration": 31,
    "start_time": "2022-03-11T20:21:36.712Z"
   },
   {
    "duration": 7,
    "start_time": "2022-03-11T20:21:36.745Z"
   },
   {
    "duration": 15,
    "start_time": "2022-03-11T20:21:36.754Z"
   },
   {
    "duration": 4,
    "start_time": "2022-03-11T20:21:42.665Z"
   },
   {
    "duration": 350,
    "start_time": "2022-03-11T20:21:51.488Z"
   },
   {
    "duration": 4,
    "start_time": "2022-03-11T20:24:11.317Z"
   },
   {
    "duration": 126,
    "start_time": "2022-03-11T20:24:11.323Z"
   },
   {
    "duration": 10,
    "start_time": "2022-03-11T20:24:11.451Z"
   },
   {
    "duration": 13,
    "start_time": "2022-03-11T20:24:11.463Z"
   },
   {
    "duration": 18,
    "start_time": "2022-03-11T20:24:11.478Z"
   },
   {
    "duration": 4,
    "start_time": "2022-03-11T20:24:11.498Z"
   },
   {
    "duration": 71,
    "start_time": "2022-03-11T20:24:11.505Z"
   },
   {
    "duration": 856,
    "start_time": "2022-03-11T20:24:11.578Z"
   },
   {
    "duration": 5,
    "start_time": "2022-03-11T20:24:12.435Z"
   },
   {
    "duration": 19,
    "start_time": "2022-03-11T20:24:12.442Z"
   },
   {
    "duration": 13,
    "start_time": "2022-03-11T20:24:12.463Z"
   },
   {
    "duration": 13,
    "start_time": "2022-03-11T20:24:12.478Z"
   },
   {
    "duration": 5,
    "start_time": "2022-03-11T20:24:12.493Z"
   },
   {
    "duration": 54,
    "start_time": "2022-03-11T20:24:12.500Z"
   },
   {
    "duration": 8,
    "start_time": "2022-03-11T20:24:12.555Z"
   },
   {
    "duration": 8,
    "start_time": "2022-03-11T20:24:12.565Z"
   },
   {
    "duration": 143,
    "start_time": "2022-03-11T20:24:14.897Z"
   },
   {
    "duration": 17,
    "start_time": "2022-03-11T20:24:40.239Z"
   },
   {
    "duration": 12,
    "start_time": "2022-03-11T20:25:18.759Z"
   },
   {
    "duration": 4,
    "start_time": "2022-03-11T20:25:20.253Z"
   },
   {
    "duration": 133,
    "start_time": "2022-03-11T20:27:13.567Z"
   },
   {
    "duration": 5,
    "start_time": "2022-03-11T20:27:30.702Z"
   },
   {
    "duration": 121,
    "start_time": "2022-03-11T20:27:30.709Z"
   },
   {
    "duration": 10,
    "start_time": "2022-03-11T20:27:30.832Z"
   },
   {
    "duration": 23,
    "start_time": "2022-03-11T20:27:30.844Z"
   },
   {
    "duration": 21,
    "start_time": "2022-03-11T20:27:30.869Z"
   },
   {
    "duration": 8,
    "start_time": "2022-03-11T20:27:30.892Z"
   },
   {
    "duration": 56,
    "start_time": "2022-03-11T20:27:30.902Z"
   },
   {
    "duration": 859,
    "start_time": "2022-03-11T20:27:30.960Z"
   },
   {
    "duration": 5,
    "start_time": "2022-03-11T20:27:31.821Z"
   },
   {
    "duration": 24,
    "start_time": "2022-03-11T20:27:31.828Z"
   },
   {
    "duration": 24,
    "start_time": "2022-03-11T20:27:31.854Z"
   },
   {
    "duration": 15,
    "start_time": "2022-03-11T20:27:31.879Z"
   },
   {
    "duration": 6,
    "start_time": "2022-03-11T20:27:31.895Z"
   },
   {
    "duration": 67,
    "start_time": "2022-03-11T20:27:31.903Z"
   },
   {
    "duration": 30,
    "start_time": "2022-03-11T20:27:31.972Z"
   },
   {
    "duration": 17,
    "start_time": "2022-03-11T20:27:32.004Z"
   },
   {
    "duration": 20,
    "start_time": "2022-03-11T20:27:32.023Z"
   },
   {
    "duration": 154,
    "start_time": "2022-03-11T20:27:38.726Z"
   },
   {
    "duration": 11,
    "start_time": "2022-03-11T20:28:44.739Z"
   },
   {
    "duration": 4,
    "start_time": "2022-03-11T20:29:26.125Z"
   },
   {
    "duration": 155,
    "start_time": "2022-03-11T20:29:26.130Z"
   },
   {
    "duration": 10,
    "start_time": "2022-03-11T20:29:26.286Z"
   },
   {
    "duration": 12,
    "start_time": "2022-03-11T20:29:26.298Z"
   },
   {
    "duration": 17,
    "start_time": "2022-03-11T20:29:26.312Z"
   },
   {
    "duration": 4,
    "start_time": "2022-03-11T20:29:26.330Z"
   },
   {
    "duration": 42,
    "start_time": "2022-03-11T20:29:26.337Z"
   },
   {
    "duration": 831,
    "start_time": "2022-03-11T20:29:26.381Z"
   },
   {
    "duration": 4,
    "start_time": "2022-03-11T20:29:27.214Z"
   },
   {
    "duration": 26,
    "start_time": "2022-03-11T20:29:27.220Z"
   },
   {
    "duration": 13,
    "start_time": "2022-03-11T20:29:27.248Z"
   },
   {
    "duration": 13,
    "start_time": "2022-03-11T20:29:27.263Z"
   },
   {
    "duration": 5,
    "start_time": "2022-03-11T20:29:27.277Z"
   },
   {
    "duration": 6,
    "start_time": "2022-03-11T20:29:27.283Z"
   },
   {
    "duration": 11,
    "start_time": "2022-03-11T20:29:27.290Z"
   },
   {
    "duration": 37,
    "start_time": "2022-03-11T20:29:27.302Z"
   },
   {
    "duration": 16,
    "start_time": "2022-03-11T20:29:27.341Z"
   },
   {
    "duration": 20,
    "start_time": "2022-03-11T20:30:07.094Z"
   },
   {
    "duration": 18,
    "start_time": "2022-03-11T20:30:32.373Z"
   },
   {
    "duration": 20,
    "start_time": "2022-03-11T20:30:39.580Z"
   },
   {
    "duration": 8,
    "start_time": "2022-03-11T20:30:42.595Z"
   },
   {
    "duration": 7,
    "start_time": "2022-03-11T20:30:44.620Z"
   },
   {
    "duration": 17,
    "start_time": "2022-03-11T20:30:47.564Z"
   },
   {
    "duration": 5,
    "start_time": "2022-03-11T20:31:02.386Z"
   },
   {
    "duration": 22,
    "start_time": "2022-03-11T20:31:57.160Z"
   },
   {
    "duration": 146,
    "start_time": "2022-03-11T20:33:05.109Z"
   },
   {
    "duration": 4,
    "start_time": "2022-03-11T20:33:20.383Z"
   },
   {
    "duration": 126,
    "start_time": "2022-03-11T20:33:20.390Z"
   },
   {
    "duration": 11,
    "start_time": "2022-03-11T20:33:20.518Z"
   },
   {
    "duration": 30,
    "start_time": "2022-03-11T20:33:20.531Z"
   },
   {
    "duration": 15,
    "start_time": "2022-03-11T20:33:20.563Z"
   },
   {
    "duration": 5,
    "start_time": "2022-03-11T20:33:20.580Z"
   },
   {
    "duration": 48,
    "start_time": "2022-03-11T20:33:20.587Z"
   },
   {
    "duration": 1087,
    "start_time": "2022-03-11T20:33:20.638Z"
   },
   {
    "duration": 12,
    "start_time": "2022-03-11T20:33:21.726Z"
   },
   {
    "duration": 20,
    "start_time": "2022-03-11T20:33:21.739Z"
   },
   {
    "duration": 14,
    "start_time": "2022-03-11T20:33:21.760Z"
   },
   {
    "duration": 16,
    "start_time": "2022-03-11T20:33:21.776Z"
   },
   {
    "duration": 5,
    "start_time": "2022-03-11T20:33:21.794Z"
   },
   {
    "duration": 56,
    "start_time": "2022-03-11T20:33:21.801Z"
   },
   {
    "duration": 8,
    "start_time": "2022-03-11T20:33:21.859Z"
   },
   {
    "duration": 8,
    "start_time": "2022-03-11T20:33:21.869Z"
   },
   {
    "duration": 20,
    "start_time": "2022-03-11T20:33:21.879Z"
   },
   {
    "duration": 5,
    "start_time": "2022-03-11T20:33:21.901Z"
   },
   {
    "duration": 32,
    "start_time": "2022-03-11T20:33:26.139Z"
   },
   {
    "duration": 18,
    "start_time": "2022-03-11T20:33:27.530Z"
   },
   {
    "duration": 4,
    "start_time": "2022-03-11T20:34:05.124Z"
   },
   {
    "duration": 116,
    "start_time": "2022-03-11T20:34:05.130Z"
   },
   {
    "duration": 9,
    "start_time": "2022-03-11T20:34:05.248Z"
   },
   {
    "duration": 12,
    "start_time": "2022-03-11T20:34:05.259Z"
   },
   {
    "duration": 15,
    "start_time": "2022-03-11T20:34:05.273Z"
   },
   {
    "duration": 4,
    "start_time": "2022-03-11T20:34:05.290Z"
   },
   {
    "duration": 67,
    "start_time": "2022-03-11T20:34:05.296Z"
   },
   {
    "duration": 827,
    "start_time": "2022-03-11T20:34:05.365Z"
   },
   {
    "duration": 5,
    "start_time": "2022-03-11T20:34:06.194Z"
   },
   {
    "duration": 30,
    "start_time": "2022-03-11T20:34:06.200Z"
   },
   {
    "duration": 17,
    "start_time": "2022-03-11T20:34:06.231Z"
   },
   {
    "duration": 20,
    "start_time": "2022-03-11T20:34:06.250Z"
   },
   {
    "duration": 12,
    "start_time": "2022-03-11T20:34:06.272Z"
   },
   {
    "duration": 35,
    "start_time": "2022-03-11T20:34:06.286Z"
   },
   {
    "duration": 10,
    "start_time": "2022-03-11T20:34:06.323Z"
   },
   {
    "duration": 7,
    "start_time": "2022-03-11T20:34:06.335Z"
   },
   {
    "duration": 36,
    "start_time": "2022-03-11T20:34:06.344Z"
   },
   {
    "duration": 16,
    "start_time": "2022-03-11T20:34:06.382Z"
   },
   {
    "duration": 12,
    "start_time": "2022-03-11T20:34:06.401Z"
   },
   {
    "duration": 36,
    "start_time": "2022-03-11T20:34:06.415Z"
   },
   {
    "duration": 1426,
    "start_time": "2022-03-11T20:34:13.049Z"
   },
   {
    "duration": 5725,
    "start_time": "2022-03-11T20:34:24.064Z"
   },
   {
    "duration": 88,
    "start_time": "2022-03-11T20:34:36.751Z"
   },
   {
    "duration": 4,
    "start_time": "2022-03-11T20:34:55.944Z"
   },
   {
    "duration": 117,
    "start_time": "2022-03-11T20:34:55.950Z"
   },
   {
    "duration": 10,
    "start_time": "2022-03-11T20:34:56.069Z"
   },
   {
    "duration": 12,
    "start_time": "2022-03-11T20:34:56.081Z"
   },
   {
    "duration": 16,
    "start_time": "2022-03-11T20:34:56.095Z"
   },
   {
    "duration": 26,
    "start_time": "2022-03-11T20:34:56.113Z"
   },
   {
    "duration": 43,
    "start_time": "2022-03-11T20:34:56.141Z"
   },
   {
    "duration": 877,
    "start_time": "2022-03-11T20:34:56.186Z"
   },
   {
    "duration": 5,
    "start_time": "2022-03-11T20:34:57.065Z"
   },
   {
    "duration": 18,
    "start_time": "2022-03-11T20:34:57.071Z"
   },
   {
    "duration": 13,
    "start_time": "2022-03-11T20:34:57.090Z"
   },
   {
    "duration": 39,
    "start_time": "2022-03-11T20:34:57.105Z"
   },
   {
    "duration": 5,
    "start_time": "2022-03-11T20:34:57.145Z"
   },
   {
    "duration": 27,
    "start_time": "2022-03-11T20:34:57.152Z"
   },
   {
    "duration": 8,
    "start_time": "2022-03-11T20:34:57.180Z"
   },
   {
    "duration": 7,
    "start_time": "2022-03-11T20:34:57.189Z"
   },
   {
    "duration": 59,
    "start_time": "2022-03-11T20:34:57.197Z"
   },
   {
    "duration": 15,
    "start_time": "2022-03-11T20:34:57.258Z"
   },
   {
    "duration": 14,
    "start_time": "2022-03-11T20:34:57.276Z"
   },
   {
    "duration": 14,
    "start_time": "2022-03-11T20:34:57.292Z"
   },
   {
    "duration": 1363,
    "start_time": "2022-03-11T20:34:57.307Z"
   },
   {
    "duration": 5820,
    "start_time": "2022-03-11T20:34:58.672Z"
   },
   {
    "duration": 51,
    "start_time": "2022-03-11T20:35:04.494Z"
   },
   {
    "duration": 192,
    "start_time": "2022-03-11T20:35:04.547Z"
   },
   {
    "duration": 16,
    "start_time": "2022-03-11T20:35:04.741Z"
   },
   {
    "duration": 279,
    "start_time": "2022-03-11T20:35:04.759Z"
   },
   {
    "duration": 12,
    "start_time": "2022-03-11T20:35:05.041Z"
   },
   {
    "duration": 350,
    "start_time": "2022-03-11T20:35:05.055Z"
   },
   {
    "duration": 233,
    "start_time": "2022-03-11T20:35:05.407Z"
   },
   {
    "duration": 1821,
    "start_time": "2022-03-11T20:35:05.641Z"
   },
   {
    "duration": 11,
    "start_time": "2022-03-11T20:35:07.464Z"
   },
   {
    "duration": 295,
    "start_time": "2022-03-11T20:35:07.477Z"
   },
   {
    "duration": -462,
    "start_time": "2022-03-11T20:35:08.236Z"
   },
   {
    "duration": -468,
    "start_time": "2022-03-11T20:35:08.243Z"
   },
   {
    "duration": 12,
    "start_time": "2022-03-11T20:35:12.493Z"
   },
   {
    "duration": 18,
    "start_time": "2022-03-11T20:35:13.853Z"
   },
   {
    "duration": 21,
    "start_time": "2022-03-11T20:35:19.876Z"
   },
   {
    "duration": 169,
    "start_time": "2022-03-11T20:36:09.874Z"
   },
   {
    "duration": 125,
    "start_time": "2022-03-11T20:37:31.421Z"
   },
   {
    "duration": 233,
    "start_time": "2022-03-11T20:39:36.406Z"
   },
   {
    "duration": 1224,
    "start_time": "2022-03-11T20:39:53.444Z"
   },
   {
    "duration": 115,
    "start_time": "2022-03-11T20:39:54.670Z"
   },
   {
    "duration": 11,
    "start_time": "2022-03-11T20:39:54.787Z"
   },
   {
    "duration": 19,
    "start_time": "2022-03-11T20:39:54.800Z"
   },
   {
    "duration": 18,
    "start_time": "2022-03-11T20:39:54.821Z"
   },
   {
    "duration": 4,
    "start_time": "2022-03-11T20:39:54.841Z"
   },
   {
    "duration": 48,
    "start_time": "2022-03-11T20:39:54.847Z"
   },
   {
    "duration": 875,
    "start_time": "2022-03-11T20:39:54.898Z"
   },
   {
    "duration": 5,
    "start_time": "2022-03-11T20:39:55.776Z"
   },
   {
    "duration": 22,
    "start_time": "2022-03-11T20:39:55.783Z"
   },
   {
    "duration": 13,
    "start_time": "2022-03-11T20:39:55.807Z"
   },
   {
    "duration": 15,
    "start_time": "2022-03-11T20:39:55.838Z"
   },
   {
    "duration": 4,
    "start_time": "2022-03-11T20:39:55.855Z"
   },
   {
    "duration": 26,
    "start_time": "2022-03-11T20:39:55.861Z"
   },
   {
    "duration": 8,
    "start_time": "2022-03-11T20:39:55.889Z"
   },
   {
    "duration": 7,
    "start_time": "2022-03-11T20:39:55.899Z"
   },
   {
    "duration": 59,
    "start_time": "2022-03-11T20:39:55.908Z"
   },
   {
    "duration": 16,
    "start_time": "2022-03-11T20:39:55.969Z"
   },
   {
    "duration": 11,
    "start_time": "2022-03-11T20:39:55.987Z"
   },
   {
    "duration": 41,
    "start_time": "2022-03-11T20:39:56.000Z"
   },
   {
    "duration": 1440,
    "start_time": "2022-03-11T20:39:56.043Z"
   },
   {
    "duration": 5837,
    "start_time": "2022-03-11T20:39:57.484Z"
   },
   {
    "duration": 115,
    "start_time": "2022-03-11T20:40:03.324Z"
   },
   {
    "duration": 103,
    "start_time": "2022-03-11T20:40:03.442Z"
   },
   {
    "duration": 18,
    "start_time": "2022-03-11T20:40:03.547Z"
   },
   {
    "duration": 178,
    "start_time": "2022-03-11T20:40:03.567Z"
   },
   {
    "duration": 97,
    "start_time": "2022-03-11T20:40:03.748Z"
   },
   {
    "duration": 341,
    "start_time": "2022-03-11T20:40:03.847Z"
   },
   {
    "duration": 159,
    "start_time": "2022-03-11T20:40:04.190Z"
   },
   {
    "duration": 1679,
    "start_time": "2022-03-11T20:40:04.352Z"
   },
   {
    "duration": 13,
    "start_time": "2022-03-11T20:40:06.037Z"
   },
   {
    "duration": 395,
    "start_time": "2022-03-11T20:40:06.052Z"
   },
   {
    "duration": -479,
    "start_time": "2022-03-11T20:40:06.928Z"
   },
   {
    "duration": -484,
    "start_time": "2022-03-11T20:40:06.934Z"
   },
   {
    "duration": -490,
    "start_time": "2022-03-11T20:40:06.941Z"
   },
   {
    "duration": 133,
    "start_time": "2022-03-11T20:40:09.371Z"
   },
   {
    "duration": 9133,
    "start_time": "2022-03-11T20:40:38.458Z"
   },
   {
    "duration": 11,
    "start_time": "2022-03-11T20:40:51.960Z"
   },
   {
    "duration": 12,
    "start_time": "2022-03-11T20:41:06.176Z"
   },
   {
    "duration": 22,
    "start_time": "2022-03-11T20:41:07.743Z"
   },
   {
    "duration": 218,
    "start_time": "2022-03-11T20:41:44.422Z"
   },
   {
    "duration": 1973,
    "start_time": "2022-03-11T20:43:59.710Z"
   },
   {
    "duration": 1587,
    "start_time": "2022-03-11T20:44:17.438Z"
   },
   {
    "duration": 12,
    "start_time": "2022-03-11T20:44:40.715Z"
   },
   {
    "duration": 7127,
    "start_time": "2022-03-11T20:47:52.761Z"
   },
   {
    "duration": 11,
    "start_time": "2022-03-11T20:48:16.447Z"
   },
   {
    "duration": 7034,
    "start_time": "2022-03-11T20:48:32.476Z"
   },
   {
    "duration": 12,
    "start_time": "2022-03-11T20:49:22.718Z"
   },
   {
    "duration": 143,
    "start_time": "2022-03-11T20:50:37.473Z"
   },
   {
    "duration": 20,
    "start_time": "2022-03-11T20:50:52.367Z"
   },
   {
    "duration": 181,
    "start_time": "2022-03-11T20:53:12.864Z"
   },
   {
    "duration": 229,
    "start_time": "2022-03-11T20:54:30.515Z"
   },
   {
    "duration": 1183,
    "start_time": "2022-03-11T20:54:49.267Z"
   },
   {
    "duration": 119,
    "start_time": "2022-03-11T20:54:50.452Z"
   },
   {
    "duration": 12,
    "start_time": "2022-03-11T20:54:50.577Z"
   },
   {
    "duration": 14,
    "start_time": "2022-03-11T20:54:50.591Z"
   },
   {
    "duration": 32,
    "start_time": "2022-03-11T20:54:50.607Z"
   },
   {
    "duration": 5,
    "start_time": "2022-03-11T20:54:50.641Z"
   },
   {
    "duration": 43,
    "start_time": "2022-03-11T20:54:50.650Z"
   },
   {
    "duration": 891,
    "start_time": "2022-03-11T20:54:50.696Z"
   },
   {
    "duration": 6,
    "start_time": "2022-03-11T20:54:51.589Z"
   },
   {
    "duration": 19,
    "start_time": "2022-03-11T20:54:51.597Z"
   },
   {
    "duration": 30,
    "start_time": "2022-03-11T20:54:51.618Z"
   },
   {
    "duration": 15,
    "start_time": "2022-03-11T20:54:51.650Z"
   },
   {
    "duration": 5,
    "start_time": "2022-03-11T20:54:51.667Z"
   },
   {
    "duration": 26,
    "start_time": "2022-03-11T20:54:51.674Z"
   },
   {
    "duration": 40,
    "start_time": "2022-03-11T20:54:51.702Z"
   },
   {
    "duration": 8,
    "start_time": "2022-03-11T20:54:51.743Z"
   },
   {
    "duration": 35,
    "start_time": "2022-03-11T20:54:51.753Z"
   },
   {
    "duration": 15,
    "start_time": "2022-03-11T20:54:51.790Z"
   },
   {
    "duration": 32,
    "start_time": "2022-03-11T20:54:51.807Z"
   },
   {
    "duration": 15,
    "start_time": "2022-03-11T20:54:51.840Z"
   },
   {
    "duration": 1473,
    "start_time": "2022-03-11T20:54:51.857Z"
   },
   {
    "duration": 5552,
    "start_time": "2022-03-11T20:54:53.339Z"
   },
   {
    "duration": -583,
    "start_time": "2022-03-11T20:54:59.476Z"
   },
   {
    "duration": -587,
    "start_time": "2022-03-11T20:54:59.481Z"
   },
   {
    "duration": -594,
    "start_time": "2022-03-11T20:54:59.489Z"
   },
   {
    "duration": -599,
    "start_time": "2022-03-11T20:54:59.495Z"
   },
   {
    "duration": -606,
    "start_time": "2022-03-11T20:54:59.503Z"
   },
   {
    "duration": -610,
    "start_time": "2022-03-11T20:54:59.508Z"
   },
   {
    "duration": -617,
    "start_time": "2022-03-11T20:54:59.515Z"
   },
   {
    "duration": -620,
    "start_time": "2022-03-11T20:54:59.520Z"
   },
   {
    "duration": -626,
    "start_time": "2022-03-11T20:54:59.527Z"
   },
   {
    "duration": -633,
    "start_time": "2022-03-11T20:54:59.534Z"
   },
   {
    "duration": -639,
    "start_time": "2022-03-11T20:54:59.541Z"
   },
   {
    "duration": -645,
    "start_time": "2022-03-11T20:54:59.548Z"
   },
   {
    "duration": -651,
    "start_time": "2022-03-11T20:54:59.555Z"
   },
   {
    "duration": -656,
    "start_time": "2022-03-11T20:54:59.561Z"
   },
   {
    "duration": -662,
    "start_time": "2022-03-11T20:54:59.568Z"
   },
   {
    "duration": -686,
    "start_time": "2022-03-11T20:54:59.593Z"
   },
   {
    "duration": -702,
    "start_time": "2022-03-11T20:54:59.610Z"
   },
   {
    "duration": -726,
    "start_time": "2022-03-11T20:54:59.636Z"
   },
   {
    "duration": -731,
    "start_time": "2022-03-11T20:54:59.642Z"
   },
   {
    "duration": -736,
    "start_time": "2022-03-11T20:54:59.648Z"
   },
   {
    "duration": -766,
    "start_time": "2022-03-11T20:54:59.679Z"
   },
   {
    "duration": -774,
    "start_time": "2022-03-11T20:54:59.688Z"
   },
   {
    "duration": -800,
    "start_time": "2022-03-11T20:54:59.715Z"
   },
   {
    "duration": -804,
    "start_time": "2022-03-11T20:54:59.720Z"
   },
   {
    "duration": -810,
    "start_time": "2022-03-11T20:54:59.727Z"
   },
   {
    "duration": -832,
    "start_time": "2022-03-11T20:54:59.750Z"
   },
   {
    "duration": -847,
    "start_time": "2022-03-11T20:54:59.766Z"
   },
   {
    "duration": -861,
    "start_time": "2022-03-11T20:54:59.781Z"
   },
   {
    "duration": -874,
    "start_time": "2022-03-11T20:54:59.795Z"
   },
   {
    "duration": -887,
    "start_time": "2022-03-11T20:54:59.809Z"
   },
   {
    "duration": -910,
    "start_time": "2022-03-11T20:54:59.833Z"
   },
   {
    "duration": -915,
    "start_time": "2022-03-11T20:54:59.839Z"
   },
   {
    "duration": -921,
    "start_time": "2022-03-11T20:54:59.846Z"
   },
   {
    "duration": 1137,
    "start_time": "2022-03-11T20:55:07.132Z"
   },
   {
    "duration": 117,
    "start_time": "2022-03-11T20:55:08.271Z"
   },
   {
    "duration": 11,
    "start_time": "2022-03-11T20:55:08.390Z"
   },
   {
    "duration": 13,
    "start_time": "2022-03-11T20:55:08.403Z"
   },
   {
    "duration": 17,
    "start_time": "2022-03-11T20:55:08.418Z"
   },
   {
    "duration": 4,
    "start_time": "2022-03-11T20:55:08.436Z"
   },
   {
    "duration": 47,
    "start_time": "2022-03-11T20:55:08.442Z"
   },
   {
    "duration": 860,
    "start_time": "2022-03-11T20:55:08.490Z"
   },
   {
    "duration": 4,
    "start_time": "2022-03-11T20:55:09.353Z"
   },
   {
    "duration": 20,
    "start_time": "2022-03-11T20:55:09.360Z"
   },
   {
    "duration": 14,
    "start_time": "2022-03-11T20:55:09.382Z"
   },
   {
    "duration": 13,
    "start_time": "2022-03-11T20:55:09.398Z"
   },
   {
    "duration": 5,
    "start_time": "2022-03-11T20:55:09.437Z"
   },
   {
    "duration": 34,
    "start_time": "2022-03-11T20:55:09.444Z"
   },
   {
    "duration": 8,
    "start_time": "2022-03-11T20:55:09.480Z"
   },
   {
    "duration": 7,
    "start_time": "2022-03-11T20:55:09.490Z"
   },
   {
    "duration": 54,
    "start_time": "2022-03-11T20:55:09.499Z"
   },
   {
    "duration": 15,
    "start_time": "2022-03-11T20:55:09.555Z"
   },
   {
    "duration": 11,
    "start_time": "2022-03-11T20:55:09.572Z"
   },
   {
    "duration": 14,
    "start_time": "2022-03-11T20:55:09.585Z"
   },
   {
    "duration": 1466,
    "start_time": "2022-03-11T20:55:09.601Z"
   },
   {
    "duration": 5912,
    "start_time": "2022-03-11T20:55:11.069Z"
   },
   {
    "duration": 62,
    "start_time": "2022-03-11T20:55:16.983Z"
   },
   {
    "duration": 106,
    "start_time": "2022-03-11T20:55:17.048Z"
   },
   {
    "duration": 90,
    "start_time": "2022-03-11T20:55:17.156Z"
   },
   {
    "duration": 194,
    "start_time": "2022-03-11T20:55:17.248Z"
   },
   {
    "duration": 11,
    "start_time": "2022-03-11T20:55:17.446Z"
   },
   {
    "duration": 353,
    "start_time": "2022-03-11T20:55:17.459Z"
   },
   {
    "duration": 226,
    "start_time": "2022-03-11T20:55:17.813Z"
   },
   {
    "duration": 1558,
    "start_time": "2022-03-11T20:55:18.041Z"
   },
   {
    "duration": 11,
    "start_time": "2022-03-11T20:55:19.601Z"
   },
   {
    "duration": 9217,
    "start_time": "2022-03-11T20:55:19.614Z"
   },
   {
    "duration": 12,
    "start_time": "2022-03-11T20:55:28.833Z"
   },
   {
    "duration": 17,
    "start_time": "2022-03-11T20:55:28.846Z"
   },
   {
    "duration": 19,
    "start_time": "2022-03-11T20:55:28.864Z"
   },
   {
    "duration": 162,
    "start_time": "2022-03-11T20:55:28.885Z"
   },
   {
    "duration": 1685,
    "start_time": "2022-03-11T20:55:29.138Z"
   },
   {
    "duration": 17,
    "start_time": "2022-03-11T20:55:30.825Z"
   },
   {
    "duration": 7165,
    "start_time": "2022-03-11T20:55:30.844Z"
   },
   {
    "duration": 11,
    "start_time": "2022-03-11T20:55:38.011Z"
   },
   {
    "duration": 22,
    "start_time": "2022-03-11T20:55:38.024Z"
   },
   {
    "duration": 20,
    "start_time": "2022-03-11T20:55:38.048Z"
   },
   {
    "duration": 156,
    "start_time": "2022-03-11T20:55:47.984Z"
   },
   {
    "duration": 1165,
    "start_time": "2022-03-11T20:57:58.426Z"
   },
   {
    "duration": 1299,
    "start_time": "2022-03-11T20:59:04.792Z"
   },
   {
    "duration": 12,
    "start_time": "2022-03-11T21:00:02.755Z"
   },
   {
    "duration": 1218,
    "start_time": "2022-03-11T21:01:23.844Z"
   },
   {
    "duration": 5595,
    "start_time": "2022-03-11T21:02:22.278Z"
   },
   {
    "duration": 1788,
    "start_time": "2022-03-11T21:02:42.866Z"
   },
   {
    "duration": 3047,
    "start_time": "2022-03-11T21:02:59.305Z"
   },
   {
    "duration": 2711,
    "start_time": "2022-03-11T21:03:20.737Z"
   },
   {
    "duration": 12444,
    "start_time": "2022-03-11T21:03:52.935Z"
   },
   {
    "duration": 11,
    "start_time": "2022-03-11T21:04:13.733Z"
   },
   {
    "duration": 4872,
    "start_time": "2022-03-11T21:06:23.078Z"
   },
   {
    "duration": 2376,
    "start_time": "2022-03-11T21:07:03.000Z"
   },
   {
    "duration": 1466,
    "start_time": "2022-03-11T21:07:15.127Z"
   },
   {
    "duration": 1356,
    "start_time": "2022-03-11T21:07:25.947Z"
   },
   {
    "duration": 1503,
    "start_time": "2022-03-11T21:07:34.291Z"
   },
   {
    "duration": 640,
    "start_time": "2022-03-11T21:08:07.097Z"
   },
   {
    "duration": 6180,
    "start_time": "2022-03-11T21:08:13.976Z"
   },
   {
    "duration": 6198,
    "start_time": "2022-03-11T21:08:48.766Z"
   },
   {
    "duration": 6188,
    "start_time": "2022-03-11T21:09:05.542Z"
   },
   {
    "duration": 1156,
    "start_time": "2022-03-11T21:10:49.997Z"
   },
   {
    "duration": 116,
    "start_time": "2022-03-11T21:10:51.155Z"
   },
   {
    "duration": 11,
    "start_time": "2022-03-11T21:10:51.273Z"
   },
   {
    "duration": 14,
    "start_time": "2022-03-11T21:10:51.286Z"
   },
   {
    "duration": 17,
    "start_time": "2022-03-11T21:10:51.302Z"
   },
   {
    "duration": 4,
    "start_time": "2022-03-11T21:10:51.321Z"
   },
   {
    "duration": 42,
    "start_time": "2022-03-11T21:10:51.337Z"
   },
   {
    "duration": 828,
    "start_time": "2022-03-11T21:10:51.381Z"
   },
   {
    "duration": 4,
    "start_time": "2022-03-11T21:10:52.211Z"
   },
   {
    "duration": 26,
    "start_time": "2022-03-11T21:10:52.217Z"
   },
   {
    "duration": 12,
    "start_time": "2022-03-11T21:10:52.245Z"
   },
   {
    "duration": 14,
    "start_time": "2022-03-11T21:10:52.259Z"
   },
   {
    "duration": 4,
    "start_time": "2022-03-11T21:10:52.274Z"
   },
   {
    "duration": 39,
    "start_time": "2022-03-11T21:10:52.279Z"
   },
   {
    "duration": 23,
    "start_time": "2022-03-11T21:10:52.320Z"
   },
   {
    "duration": 6,
    "start_time": "2022-03-11T21:10:52.345Z"
   },
   {
    "duration": 32,
    "start_time": "2022-03-11T21:10:52.352Z"
   },
   {
    "duration": 17,
    "start_time": "2022-03-11T21:10:52.385Z"
   },
   {
    "duration": 35,
    "start_time": "2022-03-11T21:10:52.403Z"
   },
   {
    "duration": 15,
    "start_time": "2022-03-11T21:10:52.440Z"
   },
   {
    "duration": 1433,
    "start_time": "2022-03-11T21:10:52.457Z"
   },
   {
    "duration": 5738,
    "start_time": "2022-03-11T21:10:53.892Z"
   },
   {
    "duration": 106,
    "start_time": "2022-03-11T21:10:59.638Z"
   },
   {
    "duration": 12,
    "start_time": "2022-03-11T21:10:59.838Z"
   },
   {
    "duration": 17,
    "start_time": "2022-03-11T21:10:59.852Z"
   },
   {
    "duration": 172,
    "start_time": "2022-03-11T21:10:59.871Z"
   },
   {
    "duration": 98,
    "start_time": "2022-03-11T21:11:00.047Z"
   },
   {
    "duration": 365,
    "start_time": "2022-03-11T21:11:00.147Z"
   },
   {
    "duration": 129,
    "start_time": "2022-03-11T21:11:00.514Z"
   },
   {
    "duration": 1728,
    "start_time": "2022-03-11T21:11:00.646Z"
   },
   {
    "duration": 11,
    "start_time": "2022-03-11T21:11:02.376Z"
   },
   {
    "duration": 9459,
    "start_time": "2022-03-11T21:11:02.389Z"
   },
   {
    "duration": 11,
    "start_time": "2022-03-11T21:11:11.850Z"
   },
   {
    "duration": 14,
    "start_time": "2022-03-11T21:11:11.862Z"
   },
   {
    "duration": 18,
    "start_time": "2022-03-11T21:11:11.878Z"
   },
   {
    "duration": 242,
    "start_time": "2022-03-11T21:11:11.897Z"
   },
   {
    "duration": 1722,
    "start_time": "2022-03-11T21:11:12.141Z"
   },
   {
    "duration": 10,
    "start_time": "2022-03-11T21:11:13.865Z"
   },
   {
    "duration": 438,
    "start_time": "2022-03-11T21:11:13.877Z"
   },
   {
    "duration": -561,
    "start_time": "2022-03-11T21:11:14.878Z"
   },
   {
    "duration": -566,
    "start_time": "2022-03-11T21:11:14.884Z"
   },
   {
    "duration": -572,
    "start_time": "2022-03-11T21:11:14.891Z"
   },
   {
    "duration": -578,
    "start_time": "2022-03-11T21:11:14.898Z"
   },
   {
    "duration": -584,
    "start_time": "2022-03-11T21:11:14.905Z"
   },
   {
    "duration": -591,
    "start_time": "2022-03-11T21:11:14.913Z"
   },
   {
    "duration": -597,
    "start_time": "2022-03-11T21:11:14.920Z"
   },
   {
    "duration": 12317,
    "start_time": "2022-03-11T21:12:03.724Z"
   },
   {
    "duration": 12,
    "start_time": "2022-03-11T21:12:21.752Z"
   },
   {
    "duration": 11,
    "start_time": "2022-03-11T21:12:30.216Z"
   },
   {
    "duration": 22,
    "start_time": "2022-03-11T21:12:34.695Z"
   },
   {
    "duration": 224,
    "start_time": "2022-03-11T21:12:40.215Z"
   },
   {
    "duration": 1139,
    "start_time": "2022-03-11T21:12:43.102Z"
   },
   {
    "duration": 11,
    "start_time": "2022-03-11T21:12:50.879Z"
   },
   {
    "duration": 254,
    "start_time": "2022-03-11T21:12:52.902Z"
   },
   {
    "duration": 6395,
    "start_time": "2022-03-11T21:13:09.471Z"
   },
   {
    "duration": 11,
    "start_time": "2022-03-11T21:14:08.203Z"
   },
   {
    "duration": 11,
    "start_time": "2022-03-11T21:14:28.177Z"
   },
   {
    "duration": 6,
    "start_time": "2022-03-11T21:14:49.360Z"
   },
   {
    "duration": 148,
    "start_time": "2022-03-11T21:15:04.671Z"
   },
   {
    "duration": 8,
    "start_time": "2022-03-11T21:15:08.529Z"
   },
   {
    "duration": 152,
    "start_time": "2022-03-11T21:17:41.648Z"
   },
   {
    "duration": 1136,
    "start_time": "2022-03-11T21:18:35.328Z"
   },
   {
    "duration": 116,
    "start_time": "2022-03-11T21:18:36.466Z"
   },
   {
    "duration": 11,
    "start_time": "2022-03-11T21:18:36.584Z"
   },
   {
    "duration": 16,
    "start_time": "2022-03-11T21:18:36.598Z"
   },
   {
    "duration": 19,
    "start_time": "2022-03-11T21:18:36.616Z"
   },
   {
    "duration": 4,
    "start_time": "2022-03-11T21:18:36.637Z"
   },
   {
    "duration": 47,
    "start_time": "2022-03-11T21:18:36.643Z"
   },
   {
    "duration": 893,
    "start_time": "2022-03-11T21:18:36.693Z"
   },
   {
    "duration": 5,
    "start_time": "2022-03-11T21:18:37.588Z"
   },
   {
    "duration": 19,
    "start_time": "2022-03-11T21:18:37.595Z"
   },
   {
    "duration": 30,
    "start_time": "2022-03-11T21:18:37.616Z"
   },
   {
    "duration": 14,
    "start_time": "2022-03-11T21:18:37.647Z"
   },
   {
    "duration": 4,
    "start_time": "2022-03-11T21:18:37.663Z"
   },
   {
    "duration": 27,
    "start_time": "2022-03-11T21:18:37.668Z"
   },
   {
    "duration": 7,
    "start_time": "2022-03-11T21:18:37.697Z"
   },
   {
    "duration": 35,
    "start_time": "2022-03-11T21:18:37.706Z"
   },
   {
    "duration": 31,
    "start_time": "2022-03-11T21:18:37.743Z"
   },
   {
    "duration": 16,
    "start_time": "2022-03-11T21:18:37.775Z"
   },
   {
    "duration": 10,
    "start_time": "2022-03-11T21:18:37.792Z"
   },
   {
    "duration": 42,
    "start_time": "2022-03-11T21:18:37.804Z"
   },
   {
    "duration": 1424,
    "start_time": "2022-03-11T21:18:37.848Z"
   },
   {
    "duration": 5641,
    "start_time": "2022-03-11T21:18:39.274Z"
   },
   {
    "duration": 120,
    "start_time": "2022-03-11T21:18:44.920Z"
   },
   {
    "duration": 12,
    "start_time": "2022-03-11T21:18:45.137Z"
   },
   {
    "duration": 18,
    "start_time": "2022-03-11T21:18:45.162Z"
   },
   {
    "duration": 256,
    "start_time": "2022-03-11T21:18:45.182Z"
   },
   {
    "duration": 11,
    "start_time": "2022-03-11T21:18:45.440Z"
   },
   {
    "duration": 329,
    "start_time": "2022-03-11T21:18:45.452Z"
   },
   {
    "duration": 157,
    "start_time": "2022-03-11T21:18:45.783Z"
   },
   {
    "duration": 1628,
    "start_time": "2022-03-11T21:18:45.942Z"
   },
   {
    "duration": 10,
    "start_time": "2022-03-11T21:18:47.572Z"
   },
   {
    "duration": 9357,
    "start_time": "2022-03-11T21:18:47.584Z"
   },
   {
    "duration": 11,
    "start_time": "2022-03-11T21:18:56.943Z"
   },
   {
    "duration": 13,
    "start_time": "2022-03-11T21:18:56.957Z"
   },
   {
    "duration": 18,
    "start_time": "2022-03-11T21:18:56.972Z"
   },
   {
    "duration": 247,
    "start_time": "2022-03-11T21:18:56.992Z"
   },
   {
    "duration": 1649,
    "start_time": "2022-03-11T21:18:57.241Z"
   },
   {
    "duration": 11,
    "start_time": "2022-03-11T21:18:58.891Z"
   },
   {
    "duration": 12671,
    "start_time": "2022-03-11T21:18:58.904Z"
   },
   {
    "duration": 11,
    "start_time": "2022-03-11T21:19:11.577Z"
   },
   {
    "duration": 12,
    "start_time": "2022-03-11T21:19:11.590Z"
   },
   {
    "duration": 41,
    "start_time": "2022-03-11T21:19:11.604Z"
   },
   {
    "duration": 98,
    "start_time": "2022-03-11T21:19:11.647Z"
   },
   {
    "duration": 1304,
    "start_time": "2022-03-11T21:19:11.747Z"
   },
   {
    "duration": 11,
    "start_time": "2022-03-11T21:19:13.052Z"
   },
   {
    "duration": 6377,
    "start_time": "2022-03-11T21:19:13.064Z"
   },
   {
    "duration": 10,
    "start_time": "2022-03-11T21:19:19.443Z"
   },
   {
    "duration": 11,
    "start_time": "2022-03-11T21:19:19.455Z"
   },
   {
    "duration": 7,
    "start_time": "2022-03-11T21:19:19.468Z"
   },
   {
    "duration": 231,
    "start_time": "2022-03-11T21:19:19.476Z"
   },
   {
    "duration": -558,
    "start_time": "2022-03-11T21:19:20.267Z"
   },
   {
    "duration": -565,
    "start_time": "2022-03-11T21:19:20.275Z"
   },
   {
    "duration": 6,
    "start_time": "2022-03-11T21:20:29.786Z"
   },
   {
    "duration": 136,
    "start_time": "2022-03-11T21:21:19.302Z"
   },
   {
    "duration": 150,
    "start_time": "2022-03-11T21:22:01.493Z"
   },
   {
    "duration": 4,
    "start_time": "2022-03-11T21:22:15.371Z"
   },
   {
    "duration": 3,
    "start_time": "2022-03-11T21:23:35.103Z"
   },
   {
    "duration": 12470,
    "start_time": "2022-03-11T21:23:38.241Z"
   },
   {
    "duration": 5,
    "start_time": "2022-03-11T21:23:56.189Z"
   },
   {
    "duration": 219,
    "start_time": "2022-03-11T21:24:00.285Z"
   },
   {
    "duration": 88,
    "start_time": "2022-03-11T21:24:29.452Z"
   },
   {
    "duration": 11,
    "start_time": "2022-03-11T21:24:51.475Z"
   },
   {
    "duration": 10,
    "start_time": "2022-03-11T21:29:58.180Z"
   },
   {
    "duration": 8,
    "start_time": "2022-03-11T21:30:04.473Z"
   },
   {
    "duration": 105,
    "start_time": "2022-03-11T21:30:12.242Z"
   },
   {
    "duration": 9,
    "start_time": "2022-03-11T21:30:14.280Z"
   },
   {
    "duration": 12,
    "start_time": "2022-03-11T21:30:45.231Z"
   },
   {
    "duration": 83,
    "start_time": "2022-03-11T21:30:55.463Z"
   },
   {
    "duration": 12,
    "start_time": "2022-03-11T21:30:56.919Z"
   },
   {
    "duration": 9,
    "start_time": "2022-03-11T21:31:13.701Z"
   },
   {
    "duration": 88,
    "start_time": "2022-03-11T21:31:34.461Z"
   },
   {
    "duration": 166,
    "start_time": "2022-03-11T21:31:56.683Z"
   },
   {
    "duration": 192,
    "start_time": "2022-03-11T21:31:59.347Z"
   },
   {
    "duration": 280,
    "start_time": "2022-03-11T21:32:15.258Z"
   },
   {
    "duration": 311,
    "start_time": "2022-03-11T21:32:30.033Z"
   },
   {
    "duration": 222,
    "start_time": "2022-03-11T21:32:50.617Z"
   },
   {
    "duration": 11,
    "start_time": "2022-03-11T21:33:06.015Z"
   },
   {
    "duration": 200,
    "start_time": "2022-03-11T21:33:08.039Z"
   },
   {
    "duration": 108,
    "start_time": "2022-03-11T21:33:12.638Z"
   },
   {
    "duration": 122,
    "start_time": "2022-03-11T21:33:43.581Z"
   },
   {
    "duration": 347,
    "start_time": "2022-03-11T21:34:18.179Z"
   },
   {
    "duration": 1163,
    "start_time": "2022-03-11T21:36:23.991Z"
   },
   {
    "duration": 112,
    "start_time": "2022-03-11T21:36:25.156Z"
   },
   {
    "duration": 12,
    "start_time": "2022-03-11T21:36:25.274Z"
   },
   {
    "duration": 12,
    "start_time": "2022-03-11T21:36:25.288Z"
   },
   {
    "duration": 18,
    "start_time": "2022-03-11T21:36:25.302Z"
   },
   {
    "duration": 4,
    "start_time": "2022-03-11T21:36:25.338Z"
   },
   {
    "duration": 44,
    "start_time": "2022-03-11T21:36:25.345Z"
   },
   {
    "duration": 881,
    "start_time": "2022-03-11T21:36:25.391Z"
   },
   {
    "duration": 5,
    "start_time": "2022-03-11T21:36:26.274Z"
   },
   {
    "duration": 20,
    "start_time": "2022-03-11T21:36:26.280Z"
   },
   {
    "duration": 12,
    "start_time": "2022-03-11T21:36:26.302Z"
   },
   {
    "duration": 30,
    "start_time": "2022-03-11T21:36:26.315Z"
   },
   {
    "duration": 4,
    "start_time": "2022-03-11T21:36:26.346Z"
   },
   {
    "duration": 24,
    "start_time": "2022-03-11T21:36:26.351Z"
   },
   {
    "duration": 8,
    "start_time": "2022-03-11T21:36:26.376Z"
   },
   {
    "duration": 7,
    "start_time": "2022-03-11T21:36:26.385Z"
   },
   {
    "duration": 60,
    "start_time": "2022-03-11T21:36:26.393Z"
   },
   {
    "duration": 15,
    "start_time": "2022-03-11T21:36:26.455Z"
   },
   {
    "duration": 10,
    "start_time": "2022-03-11T21:36:26.472Z"
   },
   {
    "duration": 15,
    "start_time": "2022-03-11T21:36:26.484Z"
   },
   {
    "duration": 1434,
    "start_time": "2022-03-11T21:36:26.501Z"
   },
   {
    "duration": 5761,
    "start_time": "2022-03-11T21:36:27.939Z"
   },
   {
    "duration": 46,
    "start_time": "2022-03-11T21:36:33.702Z"
   },
   {
    "duration": 100,
    "start_time": "2022-03-11T21:36:33.839Z"
   },
   {
    "duration": 10,
    "start_time": "2022-03-11T21:36:33.941Z"
   },
   {
    "duration": 186,
    "start_time": "2022-03-11T21:36:33.953Z"
   },
   {
    "duration": 12,
    "start_time": "2022-03-11T21:36:34.141Z"
   },
   {
    "duration": 388,
    "start_time": "2022-03-11T21:36:34.155Z"
   },
   {
    "duration": 294,
    "start_time": "2022-03-11T21:36:34.545Z"
   },
   {
    "duration": 1588,
    "start_time": "2022-03-11T21:36:34.841Z"
   },
   {
    "duration": 11,
    "start_time": "2022-03-11T21:36:36.431Z"
   },
   {
    "duration": 9225,
    "start_time": "2022-03-11T21:36:36.444Z"
   },
   {
    "duration": 11,
    "start_time": "2022-03-11T21:36:45.670Z"
   },
   {
    "duration": 18,
    "start_time": "2022-03-11T21:36:45.683Z"
   },
   {
    "duration": 17,
    "start_time": "2022-03-11T21:36:45.703Z"
   },
   {
    "duration": 201,
    "start_time": "2022-03-11T21:36:45.738Z"
   },
   {
    "duration": 1660,
    "start_time": "2022-03-11T21:36:45.941Z"
   },
   {
    "duration": 11,
    "start_time": "2022-03-11T21:36:47.603Z"
   },
   {
    "duration": 12271,
    "start_time": "2022-03-11T21:36:47.615Z"
   },
   {
    "duration": 10,
    "start_time": "2022-03-11T21:36:59.887Z"
   },
   {
    "duration": 12,
    "start_time": "2022-03-11T21:36:59.899Z"
   },
   {
    "duration": 38,
    "start_time": "2022-03-11T21:36:59.912Z"
   },
   {
    "duration": 193,
    "start_time": "2022-03-11T21:36:59.952Z"
   },
   {
    "duration": 1262,
    "start_time": "2022-03-11T21:37:00.147Z"
   },
   {
    "duration": 12,
    "start_time": "2022-03-11T21:37:01.410Z"
   },
   {
    "duration": 6421,
    "start_time": "2022-03-11T21:37:01.424Z"
   },
   {
    "duration": 9,
    "start_time": "2022-03-11T21:37:07.847Z"
   },
   {
    "duration": 15,
    "start_time": "2022-03-11T21:37:07.857Z"
   },
   {
    "duration": 6,
    "start_time": "2022-03-11T21:37:07.874Z"
   },
   {
    "duration": 269,
    "start_time": "2022-03-11T21:37:07.881Z"
   },
   {
    "duration": -588,
    "start_time": "2022-03-11T21:37:08.740Z"
   },
   {
    "duration": -595,
    "start_time": "2022-03-11T21:37:08.748Z"
   },
   {
    "duration": 4,
    "start_time": "2022-03-11T21:38:00.140Z"
   },
   {
    "duration": 144,
    "start_time": "2022-03-11T21:38:31.850Z"
   },
   {
    "duration": 145,
    "start_time": "2022-03-11T21:39:24.623Z"
   },
   {
    "duration": 4,
    "start_time": "2022-03-11T21:39:29.487Z"
   },
   {
    "duration": 12,
    "start_time": "2022-03-11T21:41:00.409Z"
   },
   {
    "duration": 1145,
    "start_time": "2022-03-11T21:43:19.053Z"
   },
   {
    "duration": 119,
    "start_time": "2022-03-11T21:43:20.200Z"
   },
   {
    "duration": 11,
    "start_time": "2022-03-11T21:43:20.322Z"
   },
   {
    "duration": 14,
    "start_time": "2022-03-11T21:43:20.335Z"
   },
   {
    "duration": 20,
    "start_time": "2022-03-11T21:43:20.351Z"
   },
   {
    "duration": 4,
    "start_time": "2022-03-11T21:43:20.372Z"
   },
   {
    "duration": 45,
    "start_time": "2022-03-11T21:43:20.378Z"
   },
   {
    "duration": 838,
    "start_time": "2022-03-11T21:43:20.438Z"
   },
   {
    "duration": 5,
    "start_time": "2022-03-11T21:43:21.278Z"
   },
   {
    "duration": 19,
    "start_time": "2022-03-11T21:43:21.284Z"
   },
   {
    "duration": 13,
    "start_time": "2022-03-11T21:43:21.304Z"
   },
   {
    "duration": 30,
    "start_time": "2022-03-11T21:43:21.318Z"
   },
   {
    "duration": 4,
    "start_time": "2022-03-11T21:43:21.349Z"
   },
   {
    "duration": 24,
    "start_time": "2022-03-11T21:43:21.354Z"
   },
   {
    "duration": 7,
    "start_time": "2022-03-11T21:43:21.380Z"
   },
   {
    "duration": 7,
    "start_time": "2022-03-11T21:43:21.388Z"
   },
   {
    "duration": 63,
    "start_time": "2022-03-11T21:43:21.396Z"
   },
   {
    "duration": 15,
    "start_time": "2022-03-11T21:43:21.461Z"
   },
   {
    "duration": 10,
    "start_time": "2022-03-11T21:43:21.478Z"
   },
   {
    "duration": 20,
    "start_time": "2022-03-11T21:43:21.490Z"
   },
   {
    "duration": 1442,
    "start_time": "2022-03-11T21:43:21.512Z"
   },
   {
    "duration": 5660,
    "start_time": "2022-03-11T21:43:22.956Z"
   },
   {
    "duration": 117,
    "start_time": "2022-03-11T21:43:28.620Z"
   },
   {
    "duration": 98,
    "start_time": "2022-03-11T21:43:28.741Z"
   },
   {
    "duration": 11,
    "start_time": "2022-03-11T21:43:28.841Z"
   },
   {
    "duration": 186,
    "start_time": "2022-03-11T21:43:28.854Z"
   },
   {
    "duration": 16,
    "start_time": "2022-03-11T21:43:29.042Z"
   },
   {
    "duration": 386,
    "start_time": "2022-03-11T21:43:29.060Z"
   },
   {
    "duration": 192,
    "start_time": "2022-03-11T21:43:29.448Z"
   },
   {
    "duration": 1664,
    "start_time": "2022-03-11T21:43:29.642Z"
   },
   {
    "duration": 29,
    "start_time": "2022-03-11T21:43:31.309Z"
   },
   {
    "duration": 9399,
    "start_time": "2022-03-11T21:43:31.340Z"
   },
   {
    "duration": 11,
    "start_time": "2022-03-11T21:43:40.741Z"
   },
   {
    "duration": 13,
    "start_time": "2022-03-11T21:43:40.754Z"
   },
   {
    "duration": 20,
    "start_time": "2022-03-11T21:43:40.769Z"
   },
   {
    "duration": 248,
    "start_time": "2022-03-11T21:43:40.791Z"
   },
   {
    "duration": 1700,
    "start_time": "2022-03-11T21:43:41.041Z"
   },
   {
    "duration": 10,
    "start_time": "2022-03-11T21:43:42.743Z"
   },
   {
    "duration": 12303,
    "start_time": "2022-03-11T21:43:42.754Z"
   },
   {
    "duration": 11,
    "start_time": "2022-03-11T21:43:55.059Z"
   },
   {
    "duration": 18,
    "start_time": "2022-03-11T21:43:55.071Z"
   },
   {
    "duration": 19,
    "start_time": "2022-03-11T21:43:55.091Z"
   },
   {
    "duration": 228,
    "start_time": "2022-03-11T21:43:55.112Z"
   },
   {
    "duration": 1210,
    "start_time": "2022-03-11T21:43:55.342Z"
   },
   {
    "duration": 10,
    "start_time": "2022-03-11T21:43:56.554Z"
   },
   {
    "duration": 6390,
    "start_time": "2022-03-11T21:43:56.565Z"
   },
   {
    "duration": 9,
    "start_time": "2022-03-11T21:44:02.957Z"
   },
   {
    "duration": 25,
    "start_time": "2022-03-11T21:44:02.968Z"
   },
   {
    "duration": 14,
    "start_time": "2022-03-11T21:44:02.994Z"
   },
   {
    "duration": 28,
    "start_time": "2022-03-11T21:44:03.009Z"
   },
   {
    "duration": 10,
    "start_time": "2022-03-11T21:44:03.038Z"
   },
   {
    "duration": 190,
    "start_time": "2022-03-11T21:44:03.049Z"
   },
   {
    "duration": 393,
    "start_time": "2022-03-11T21:44:03.241Z"
   },
   {
    "duration": 3,
    "start_time": "2022-03-11T21:44:03.636Z"
   },
   {
    "duration": 6,
    "start_time": "2022-03-11T22:10:13.009Z"
   },
   {
    "duration": 6,
    "start_time": "2022-03-11T22:10:17.471Z"
   },
   {
    "duration": 11,
    "start_time": "2022-03-11T22:10:40.710Z"
   },
   {
    "duration": 50,
    "start_time": "2022-03-11T22:13:23.238Z"
   },
   {
    "duration": 15,
    "start_time": "2022-03-11T22:28:57.583Z"
   },
   {
    "duration": 13,
    "start_time": "2022-03-11T22:29:15.558Z"
   },
   {
    "duration": 17,
    "start_time": "2022-03-11T22:29:19.509Z"
   },
   {
    "duration": 4,
    "start_time": "2022-03-11T22:29:41.292Z"
   },
   {
    "duration": 15,
    "start_time": "2022-03-11T22:30:16.292Z"
   },
   {
    "duration": 15,
    "start_time": "2022-03-11T22:30:27.129Z"
   },
   {
    "duration": 16,
    "start_time": "2022-03-11T22:30:31.281Z"
   },
   {
    "duration": 13,
    "start_time": "2022-03-11T22:30:35.953Z"
   },
   {
    "duration": 1467,
    "start_time": "2022-03-11T22:40:21.513Z"
   },
   {
    "duration": 5809,
    "start_time": "2022-03-11T22:40:48.682Z"
   },
   {
    "duration": 1752,
    "start_time": "2022-03-11T22:41:37.012Z"
   },
   {
    "duration": 9351,
    "start_time": "2022-03-11T22:41:49.939Z"
   },
   {
    "duration": 9393,
    "start_time": "2022-03-11T22:42:22.378Z"
   },
   {
    "duration": 1680,
    "start_time": "2022-03-11T22:43:05.047Z"
   },
   {
    "duration": 12415,
    "start_time": "2022-03-11T22:43:17.910Z"
   },
   {
    "duration": 1282,
    "start_time": "2022-03-11T22:43:46.969Z"
   },
   {
    "duration": 6199,
    "start_time": "2022-03-11T22:44:48.152Z"
   },
   {
    "duration": 1440,
    "start_time": "2022-03-11T22:49:40.265Z"
   },
   {
    "duration": 5986,
    "start_time": "2022-03-11T22:50:02.344Z"
   },
   {
    "duration": 1665,
    "start_time": "2022-03-11T22:50:48.564Z"
   },
   {
    "duration": 1632,
    "start_time": "2022-03-11T22:52:18.471Z"
   },
   {
    "duration": 1482,
    "start_time": "2022-03-11T22:54:03.162Z"
   },
   {
    "duration": 2051,
    "start_time": "2022-03-11T22:54:12.768Z"
   },
   {
    "duration": 1477,
    "start_time": "2022-03-11T22:54:22.703Z"
   },
   {
    "duration": 1228,
    "start_time": "2022-03-11T22:54:56.318Z"
   },
   {
    "duration": 1205,
    "start_time": "2022-03-11T22:55:04.191Z"
   },
   {
    "duration": 1506,
    "start_time": "2022-03-11T22:55:23.468Z"
   },
   {
    "duration": 42,
    "start_time": "2022-03-11T22:55:46.204Z"
   },
   {
    "duration": 1553,
    "start_time": "2022-03-11T22:55:51.530Z"
   },
   {
    "duration": 1855,
    "start_time": "2022-03-11T22:56:09.891Z"
   },
   {
    "duration": 1505,
    "start_time": "2022-03-11T22:56:42.825Z"
   },
   {
    "duration": 1511,
    "start_time": "2022-03-11T22:56:56.776Z"
   },
   {
    "duration": 5840,
    "start_time": "2022-03-11T22:58:07.363Z"
   },
   {
    "duration": 6130,
    "start_time": "2022-03-11T22:58:23.587Z"
   },
   {
    "duration": 6088,
    "start_time": "2022-03-11T22:58:50.129Z"
   },
   {
    "duration": 1779,
    "start_time": "2022-03-11T23:00:53.258Z"
   },
   {
    "duration": 1750,
    "start_time": "2022-03-11T23:01:36.688Z"
   },
   {
    "duration": 9253,
    "start_time": "2022-03-11T23:02:48.995Z"
   },
   {
    "duration": 9381,
    "start_time": "2022-03-11T23:03:04.986Z"
   },
   {
    "duration": 9879,
    "start_time": "2022-03-11T23:03:37.097Z"
   },
   {
    "duration": 1828,
    "start_time": "2022-03-11T23:04:55.555Z"
   },
   {
    "duration": 2022,
    "start_time": "2022-03-11T23:05:04.011Z"
   },
   {
    "duration": 1832,
    "start_time": "2022-03-11T23:05:36.506Z"
   },
   {
    "duration": 6509,
    "start_time": "2022-03-11T23:06:36.078Z"
   },
   {
    "duration": 1764,
    "start_time": "2022-03-11T23:07:30.795Z"
   },
   {
    "duration": 1768,
    "start_time": "2022-03-11T23:07:56.529Z"
   },
   {
    "duration": 9420,
    "start_time": "2022-03-11T23:09:03.085Z"
   },
   {
    "duration": 9422,
    "start_time": "2022-03-11T23:09:20.292Z"
   },
   {
    "duration": 1725,
    "start_time": "2022-03-11T23:10:27.920Z"
   },
   {
    "duration": 1745,
    "start_time": "2022-03-11T23:10:41.353Z"
   },
   {
    "duration": 2100,
    "start_time": "2022-03-11T23:14:33.771Z"
   },
   {
    "duration": 1911,
    "start_time": "2022-03-11T23:15:09.536Z"
   },
   {
    "duration": 1759,
    "start_time": "2022-03-11T23:15:39.742Z"
   },
   {
    "duration": 12478,
    "start_time": "2022-03-11T23:15:54.654Z"
   },
   {
    "duration": 13640,
    "start_time": "2022-03-11T23:16:59.890Z"
   },
   {
    "duration": 12437,
    "start_time": "2022-03-11T23:17:54.623Z"
   },
   {
    "duration": 1307,
    "start_time": "2022-03-11T23:19:18.107Z"
   },
   {
    "duration": 1524,
    "start_time": "2022-03-11T23:19:31.457Z"
   },
   {
    "duration": 6490,
    "start_time": "2022-03-11T23:20:27.711Z"
   },
   {
    "duration": 6335,
    "start_time": "2022-03-11T23:21:08.284Z"
   },
   {
    "duration": 1158,
    "start_time": "2022-03-11T23:21:57.135Z"
   },
   {
    "duration": 116,
    "start_time": "2022-03-11T23:21:58.295Z"
   },
   {
    "duration": 12,
    "start_time": "2022-03-11T23:21:58.414Z"
   },
   {
    "duration": 12,
    "start_time": "2022-03-11T23:21:58.429Z"
   },
   {
    "duration": 18,
    "start_time": "2022-03-11T23:21:58.443Z"
   },
   {
    "duration": 5,
    "start_time": "2022-03-11T23:21:58.463Z"
   },
   {
    "duration": 43,
    "start_time": "2022-03-11T23:21:58.470Z"
   },
   {
    "duration": 826,
    "start_time": "2022-03-11T23:21:58.537Z"
   },
   {
    "duration": 5,
    "start_time": "2022-03-11T23:21:59.366Z"
   },
   {
    "duration": 16,
    "start_time": "2022-03-11T23:21:59.373Z"
   },
   {
    "duration": 13,
    "start_time": "2022-03-11T23:21:59.391Z"
   },
   {
    "duration": 35,
    "start_time": "2022-03-11T23:21:59.406Z"
   },
   {
    "duration": 4,
    "start_time": "2022-03-11T23:21:59.443Z"
   },
   {
    "duration": 23,
    "start_time": "2022-03-11T23:21:59.449Z"
   },
   {
    "duration": 9,
    "start_time": "2022-03-11T23:21:59.474Z"
   },
   {
    "duration": 7,
    "start_time": "2022-03-11T23:21:59.485Z"
   },
   {
    "duration": 70,
    "start_time": "2022-03-11T23:21:59.494Z"
   },
   {
    "duration": 16,
    "start_time": "2022-03-11T23:21:59.565Z"
   },
   {
    "duration": 11,
    "start_time": "2022-03-11T23:21:59.583Z"
   },
   {
    "duration": 45,
    "start_time": "2022-03-11T23:21:59.596Z"
   },
   {
    "duration": 1708,
    "start_time": "2022-03-11T23:21:59.643Z"
   },
   {
    "duration": 6096,
    "start_time": "2022-03-11T23:22:01.353Z"
   },
   {
    "duration": 87,
    "start_time": "2022-03-11T23:22:07.452Z"
   },
   {
    "duration": 102,
    "start_time": "2022-03-11T23:22:07.543Z"
   },
   {
    "duration": 15,
    "start_time": "2022-03-11T23:22:07.647Z"
   },
   {
    "duration": 179,
    "start_time": "2022-03-11T23:22:07.663Z"
   },
   {
    "duration": 11,
    "start_time": "2022-03-11T23:22:07.844Z"
   },
   {
    "duration": 389,
    "start_time": "2022-03-11T23:22:07.856Z"
   },
   {
    "duration": 194,
    "start_time": "2022-03-11T23:22:08.246Z"
   },
   {
    "duration": 1806,
    "start_time": "2022-03-11T23:22:08.442Z"
   },
   {
    "duration": 10,
    "start_time": "2022-03-11T23:22:10.250Z"
   },
   {
    "duration": 9677,
    "start_time": "2022-03-11T23:22:10.262Z"
   },
   {
    "duration": 11,
    "start_time": "2022-03-11T23:22:19.940Z"
   },
   {
    "duration": 15,
    "start_time": "2022-03-11T23:22:19.952Z"
   },
   {
    "duration": 18,
    "start_time": "2022-03-11T23:22:19.968Z"
   },
   {
    "duration": 252,
    "start_time": "2022-03-11T23:22:19.987Z"
   },
   {
    "duration": 1821,
    "start_time": "2022-03-11T23:22:20.241Z"
   },
   {
    "duration": 12,
    "start_time": "2022-03-11T23:22:22.064Z"
   },
   {
    "duration": 12446,
    "start_time": "2022-03-11T23:22:22.078Z"
   },
   {
    "duration": 19,
    "start_time": "2022-03-11T23:22:34.525Z"
   },
   {
    "duration": 13,
    "start_time": "2022-03-11T23:22:34.545Z"
   },
   {
    "duration": 19,
    "start_time": "2022-03-11T23:22:34.560Z"
   },
   {
    "duration": 159,
    "start_time": "2022-03-11T23:22:34.581Z"
   },
   {
    "duration": 1688,
    "start_time": "2022-03-11T23:22:34.743Z"
   },
   {
    "duration": 14,
    "start_time": "2022-03-11T23:22:36.432Z"
   },
   {
    "duration": 6246,
    "start_time": "2022-03-11T23:22:36.447Z"
   },
   {
    "duration": 10,
    "start_time": "2022-03-11T23:22:42.695Z"
   },
   {
    "duration": 17,
    "start_time": "2022-03-11T23:22:42.706Z"
   },
   {
    "duration": 17,
    "start_time": "2022-03-11T23:22:42.725Z"
   },
   {
    "duration": 197,
    "start_time": "2022-03-11T23:22:42.743Z"
   },
   {
    "duration": 383,
    "start_time": "2022-03-11T23:22:42.942Z"
   },
   {
    "duration": 11,
    "start_time": "2022-03-11T23:22:43.327Z"
   },
   {
    "duration": 1679,
    "start_time": "2022-03-11T23:28:34.752Z"
   },
   {
    "duration": 1727,
    "start_time": "2022-03-11T23:29:28.172Z"
   },
   {
    "duration": 9531,
    "start_time": "2022-03-11T23:30:30.271Z"
   },
   {
    "duration": 9369,
    "start_time": "2022-03-11T23:30:45.254Z"
   },
   {
    "duration": 1744,
    "start_time": "2022-03-11T23:31:41.354Z"
   },
   {
    "duration": 12148,
    "start_time": "2022-03-11T23:32:27.360Z"
   },
   {
    "duration": 49,
    "start_time": "2022-03-11T23:34:01.051Z"
   },
   {
    "duration": 47,
    "start_time": "2022-03-11T23:34:20.551Z"
   },
   {
    "duration": 1237,
    "start_time": "2022-03-11T23:34:37.374Z"
   },
   {
    "duration": 1281,
    "start_time": "2022-03-11T23:35:17.597Z"
   },
   {
    "duration": 1390,
    "start_time": "2022-03-11T23:35:36.589Z"
   },
   {
    "duration": 6521,
    "start_time": "2022-03-11T23:36:19.730Z"
   },
   {
    "duration": 6542,
    "start_time": "2022-03-11T23:36:31.008Z"
   },
   {
    "duration": 6318,
    "start_time": "2022-03-11T23:36:40.777Z"
   },
   {
    "duration": 8051,
    "start_time": "2022-03-11T23:37:09.830Z"
   },
   {
    "duration": 6231,
    "start_time": "2022-03-11T23:37:23.190Z"
   },
   {
    "duration": 6316,
    "start_time": "2022-03-11T23:40:42.257Z"
   },
   {
    "duration": 6324,
    "start_time": "2022-03-11T23:40:52.768Z"
   },
   {
    "duration": 1426,
    "start_time": "2022-03-11T23:46:12.013Z"
   },
   {
    "duration": 1842,
    "start_time": "2022-03-11T23:46:29.756Z"
   },
   {
    "duration": 1844,
    "start_time": "2022-03-11T23:46:43.747Z"
   },
   {
    "duration": 1520,
    "start_time": "2022-03-11T23:46:50.059Z"
   },
   {
    "duration": 6525,
    "start_time": "2022-03-11T23:47:30.896Z"
   },
   {
    "duration": 5915,
    "start_time": "2022-03-11T23:47:54.319Z"
   },
   {
    "duration": 1780,
    "start_time": "2022-03-11T23:48:43.901Z"
   },
   {
    "duration": 9483,
    "start_time": "2022-03-11T23:49:05.259Z"
   },
   {
    "duration": 9376,
    "start_time": "2022-03-11T23:49:26.009Z"
   },
   {
    "duration": 1680,
    "start_time": "2022-03-11T23:50:17.798Z"
   },
   {
    "duration": 12318,
    "start_time": "2022-03-11T23:50:51.868Z"
   },
   {
    "duration": 1325,
    "start_time": "2022-03-11T23:51:42.906Z"
   },
   {
    "duration": 1440,
    "start_time": "2022-03-11T23:51:46.801Z"
   },
   {
    "duration": 1679,
    "start_time": "2022-03-11T23:52:45.494Z"
   },
   {
    "duration": 1529,
    "start_time": "2022-03-11T23:53:54.833Z"
   },
   {
    "duration": 5772,
    "start_time": "2022-03-11T23:54:27.048Z"
   },
   {
    "duration": 9434,
    "start_time": "2022-03-11T23:55:26.556Z"
   },
   {
    "duration": 1726,
    "start_time": "2022-03-11T23:55:55.964Z"
   },
   {
    "duration": 12216,
    "start_time": "2022-03-11T23:56:17.354Z"
   },
   {
    "duration": 1320,
    "start_time": "2022-03-11T23:56:48.191Z"
   },
   {
    "duration": 6399,
    "start_time": "2022-03-11T23:57:02.862Z"
   },
   {
    "duration": 1197,
    "start_time": "2022-03-11T23:57:23.042Z"
   },
   {
    "duration": 242,
    "start_time": "2022-03-11T23:57:24.241Z"
   },
   {
    "duration": 12,
    "start_time": "2022-03-11T23:57:24.485Z"
   },
   {
    "duration": 31,
    "start_time": "2022-03-11T23:57:24.499Z"
   },
   {
    "duration": 25,
    "start_time": "2022-03-11T23:57:24.531Z"
   },
   {
    "duration": 4,
    "start_time": "2022-03-11T23:57:24.558Z"
   },
   {
    "duration": 45,
    "start_time": "2022-03-11T23:57:24.563Z"
   },
   {
    "duration": 864,
    "start_time": "2022-03-11T23:57:24.610Z"
   },
   {
    "duration": 4,
    "start_time": "2022-03-11T23:57:25.477Z"
   },
   {
    "duration": 17,
    "start_time": "2022-03-11T23:57:25.483Z"
   },
   {
    "duration": 13,
    "start_time": "2022-03-11T23:57:25.502Z"
   },
   {
    "duration": 14,
    "start_time": "2022-03-11T23:57:25.537Z"
   },
   {
    "duration": 4,
    "start_time": "2022-03-11T23:57:25.553Z"
   },
   {
    "duration": 21,
    "start_time": "2022-03-11T23:57:25.559Z"
   },
   {
    "duration": 7,
    "start_time": "2022-03-11T23:57:25.582Z"
   },
   {
    "duration": 8,
    "start_time": "2022-03-11T23:57:25.591Z"
   },
   {
    "duration": 62,
    "start_time": "2022-03-11T23:57:25.600Z"
   },
   {
    "duration": 15,
    "start_time": "2022-03-11T23:57:25.664Z"
   },
   {
    "duration": 10,
    "start_time": "2022-03-11T23:57:25.681Z"
   },
   {
    "duration": 13,
    "start_time": "2022-03-11T23:57:25.693Z"
   },
   {
    "duration": 1540,
    "start_time": "2022-03-11T23:57:25.708Z"
   },
   {
    "duration": 5926,
    "start_time": "2022-03-11T23:57:27.249Z"
   },
   {
    "duration": 67,
    "start_time": "2022-03-11T23:57:33.178Z"
   },
   {
    "duration": 97,
    "start_time": "2022-03-11T23:57:33.248Z"
   },
   {
    "duration": 10,
    "start_time": "2022-03-11T23:57:33.347Z"
   },
   {
    "duration": 186,
    "start_time": "2022-03-11T23:57:33.359Z"
   },
   {
    "duration": 100,
    "start_time": "2022-03-11T23:57:33.548Z"
   },
   {
    "duration": 344,
    "start_time": "2022-03-11T23:57:33.650Z"
   },
   {
    "duration": 144,
    "start_time": "2022-03-11T23:57:33.996Z"
   },
   {
    "duration": 1830,
    "start_time": "2022-03-11T23:57:34.142Z"
   },
   {
    "duration": 10,
    "start_time": "2022-03-11T23:57:35.974Z"
   },
   {
    "duration": 9358,
    "start_time": "2022-03-11T23:57:35.985Z"
   },
   {
    "duration": 12,
    "start_time": "2022-03-11T23:57:45.345Z"
   },
   {
    "duration": 12,
    "start_time": "2022-03-11T23:57:45.359Z"
   },
   {
    "duration": 22,
    "start_time": "2022-03-11T23:57:45.373Z"
   },
   {
    "duration": 148,
    "start_time": "2022-03-11T23:57:45.397Z"
   },
   {
    "duration": 2122,
    "start_time": "2022-03-11T23:57:45.548Z"
   },
   {
    "duration": 11,
    "start_time": "2022-03-11T23:57:47.672Z"
   },
   {
    "duration": 12311,
    "start_time": "2022-03-11T23:57:47.684Z"
   },
   {
    "duration": 12,
    "start_time": "2022-03-11T23:57:59.996Z"
   },
   {
    "duration": 36,
    "start_time": "2022-03-11T23:58:00.010Z"
   },
   {
    "duration": 25,
    "start_time": "2022-03-11T23:58:00.048Z"
   },
   {
    "duration": 264,
    "start_time": "2022-03-11T23:58:00.075Z"
   },
   {
    "duration": 1437,
    "start_time": "2022-03-11T23:58:00.341Z"
   },
   {
    "duration": 11,
    "start_time": "2022-03-11T23:58:01.780Z"
   },
   {
    "duration": 6398,
    "start_time": "2022-03-11T23:58:01.793Z"
   },
   {
    "duration": 11,
    "start_time": "2022-03-11T23:58:08.192Z"
   },
   {
    "duration": 16,
    "start_time": "2022-03-11T23:58:08.204Z"
   },
   {
    "duration": 200,
    "start_time": "2022-03-11T23:58:08.238Z"
   },
   {
    "duration": 319,
    "start_time": "2022-03-11T23:58:08.440Z"
   },
   {
    "duration": 3,
    "start_time": "2022-03-11T23:58:08.760Z"
   },
   {
    "duration": 1154,
    "start_time": "2022-03-12T07:27:02.993Z"
   },
   {
    "duration": 150,
    "start_time": "2022-03-12T07:27:04.149Z"
   },
   {
    "duration": 12,
    "start_time": "2022-03-12T07:27:04.301Z"
   },
   {
    "duration": 17,
    "start_time": "2022-03-12T07:27:04.315Z"
   },
   {
    "duration": 18,
    "start_time": "2022-03-12T07:27:04.334Z"
   },
   {
    "duration": 4,
    "start_time": "2022-03-12T07:27:04.354Z"
   },
   {
    "duration": 46,
    "start_time": "2022-03-12T07:27:04.360Z"
   },
   {
    "duration": 857,
    "start_time": "2022-03-12T07:27:04.408Z"
   },
   {
    "duration": 5,
    "start_time": "2022-03-12T07:27:05.269Z"
   },
   {
    "duration": 15,
    "start_time": "2022-03-12T07:27:05.277Z"
   },
   {
    "duration": 14,
    "start_time": "2022-03-12T07:27:05.295Z"
   },
   {
    "duration": 39,
    "start_time": "2022-03-12T07:27:05.310Z"
   },
   {
    "duration": 4,
    "start_time": "2022-03-12T07:27:05.351Z"
   },
   {
    "duration": 27,
    "start_time": "2022-03-12T07:27:05.357Z"
   },
   {
    "duration": 8,
    "start_time": "2022-03-12T07:27:05.386Z"
   },
   {
    "duration": 7,
    "start_time": "2022-03-12T07:27:05.396Z"
   },
   {
    "duration": 62,
    "start_time": "2022-03-12T07:27:05.405Z"
   },
   {
    "duration": 16,
    "start_time": "2022-03-12T07:27:05.469Z"
   },
   {
    "duration": 10,
    "start_time": "2022-03-12T07:27:05.487Z"
   },
   {
    "duration": 14,
    "start_time": "2022-03-12T07:27:05.499Z"
   },
   {
    "duration": 1566,
    "start_time": "2022-03-12T07:27:05.537Z"
   },
   {
    "duration": 6286,
    "start_time": "2022-03-12T07:27:07.105Z"
   },
   {
    "duration": 54,
    "start_time": "2022-03-12T07:27:13.392Z"
   },
   {
    "duration": 100,
    "start_time": "2022-03-12T07:27:13.542Z"
   },
   {
    "duration": 13,
    "start_time": "2022-03-12T07:27:13.644Z"
   },
   {
    "duration": 180,
    "start_time": "2022-03-12T07:27:13.659Z"
   },
   {
    "duration": 16,
    "start_time": "2022-03-12T07:27:13.845Z"
   },
   {
    "duration": 336,
    "start_time": "2022-03-12T07:27:13.939Z"
   },
   {
    "duration": 165,
    "start_time": "2022-03-12T07:27:14.277Z"
   },
   {
    "duration": 1840,
    "start_time": "2022-03-12T07:27:14.445Z"
   },
   {
    "duration": 12,
    "start_time": "2022-03-12T07:27:16.287Z"
   },
   {
    "duration": 9470,
    "start_time": "2022-03-12T07:27:16.300Z"
   },
   {
    "duration": 11,
    "start_time": "2022-03-12T07:27:25.771Z"
   },
   {
    "duration": 19,
    "start_time": "2022-03-12T07:27:25.784Z"
   },
   {
    "duration": 33,
    "start_time": "2022-03-12T07:27:25.804Z"
   },
   {
    "duration": 101,
    "start_time": "2022-03-12T07:27:25.839Z"
   },
   {
    "duration": 1946,
    "start_time": "2022-03-12T07:27:25.943Z"
   },
   {
    "duration": 11,
    "start_time": "2022-03-12T07:27:27.890Z"
   },
   {
    "duration": 12288,
    "start_time": "2022-03-12T07:27:27.902Z"
   },
   {
    "duration": 11,
    "start_time": "2022-03-12T07:27:40.191Z"
   },
   {
    "duration": 12,
    "start_time": "2022-03-12T07:27:40.203Z"
   },
   {
    "duration": 37,
    "start_time": "2022-03-12T07:27:40.217Z"
   },
   {
    "duration": 90,
    "start_time": "2022-03-12T07:27:40.256Z"
   },
   {
    "duration": 1371,
    "start_time": "2022-03-12T07:27:40.438Z"
   },
   {
    "duration": 10,
    "start_time": "2022-03-12T07:27:41.811Z"
   },
   {
    "duration": 6346,
    "start_time": "2022-03-12T07:27:41.838Z"
   },
   {
    "duration": 11,
    "start_time": "2022-03-12T07:27:48.185Z"
   },
   {
    "duration": 17,
    "start_time": "2022-03-12T07:27:48.197Z"
   },
   {
    "duration": 222,
    "start_time": "2022-03-12T07:27:48.216Z"
   },
   {
    "duration": 332,
    "start_time": "2022-03-12T07:27:48.440Z"
   },
   {
    "duration": 3,
    "start_time": "2022-03-12T07:27:48.773Z"
   },
   {
    "duration": 184,
    "start_time": "2022-03-12T09:39:25.601Z"
   },
   {
    "duration": 1240,
    "start_time": "2022-03-12T09:39:29.881Z"
   },
   {
    "duration": 119,
    "start_time": "2022-03-12T09:39:31.123Z"
   },
   {
    "duration": 12,
    "start_time": "2022-03-12T09:39:31.244Z"
   },
   {
    "duration": 19,
    "start_time": "2022-03-12T09:39:31.257Z"
   },
   {
    "duration": 17,
    "start_time": "2022-03-12T09:39:31.278Z"
   },
   {
    "duration": 5,
    "start_time": "2022-03-12T09:39:31.296Z"
   },
   {
    "duration": 72,
    "start_time": "2022-03-12T09:39:31.303Z"
   },
   {
    "duration": 855,
    "start_time": "2022-03-12T09:39:31.378Z"
   },
   {
    "duration": 5,
    "start_time": "2022-03-12T09:39:32.234Z"
   },
   {
    "duration": 32,
    "start_time": "2022-03-12T09:39:32.241Z"
   },
   {
    "duration": 18,
    "start_time": "2022-03-12T09:39:32.275Z"
   },
   {
    "duration": 16,
    "start_time": "2022-03-12T09:39:32.295Z"
   },
   {
    "duration": 6,
    "start_time": "2022-03-12T09:39:32.313Z"
   },
   {
    "duration": 130,
    "start_time": "2022-03-12T09:39:32.320Z"
   },
   {
    "duration": 8,
    "start_time": "2022-03-12T09:39:32.452Z"
   },
   {
    "duration": 6,
    "start_time": "2022-03-12T09:39:32.461Z"
   },
   {
    "duration": 31,
    "start_time": "2022-03-12T09:39:32.469Z"
   },
   {
    "duration": 46,
    "start_time": "2022-03-12T09:39:32.502Z"
   },
   {
    "duration": 11,
    "start_time": "2022-03-12T09:39:32.549Z"
   },
   {
    "duration": 14,
    "start_time": "2022-03-12T09:39:32.562Z"
   },
   {
    "duration": 1191,
    "start_time": "2022-03-12T09:39:38.215Z"
   },
   {
    "duration": 5556,
    "start_time": "2022-03-12T09:42:17.261Z"
   },
   {
    "duration": 5587,
    "start_time": "2022-03-12T09:42:53.932Z"
   },
   {
    "duration": 66,
    "start_time": "2022-03-12T09:43:08.073Z"
   },
   {
    "duration": 388,
    "start_time": "2022-03-12T09:48:16.217Z"
   },
   {
    "duration": 11,
    "start_time": "2022-03-12T09:48:37.135Z"
   },
   {
    "duration": 82,
    "start_time": "2022-03-12T09:48:40.664Z"
   },
   {
    "duration": 41,
    "start_time": "2022-03-12T09:49:08.710Z"
   },
   {
    "duration": 328,
    "start_time": "2022-03-12T09:49:19.902Z"
   },
   {
    "duration": 157,
    "start_time": "2022-03-12T09:54:08.582Z"
   },
   {
    "duration": 29,
    "start_time": "2022-03-12T09:55:17.354Z"
   },
   {
    "duration": 312,
    "start_time": "2022-03-12T09:55:20.217Z"
   },
   {
    "duration": 1316,
    "start_time": "2022-03-12T09:55:42.313Z"
   },
   {
    "duration": 1415,
    "start_time": "2022-03-12T09:55:50.930Z"
   },
   {
    "duration": 9495,
    "start_time": "2022-03-12T09:57:00.756Z"
   },
   {
    "duration": 11,
    "start_time": "2022-03-12T09:58:24.046Z"
   },
   {
    "duration": 19,
    "start_time": "2022-03-12T09:58:26.942Z"
   },
   {
    "duration": 207,
    "start_time": "2022-03-12T09:58:59.037Z"
   },
   {
    "duration": 133,
    "start_time": "2022-03-12T09:59:13.508Z"
   },
   {
    "duration": 1307,
    "start_time": "2022-03-12T10:01:46.485Z"
   },
   {
    "duration": 11,
    "start_time": "2022-03-12T10:01:59.602Z"
   },
   {
    "duration": 13999,
    "start_time": "2022-03-12T10:02:37.210Z"
   },
   {
    "duration": 4946,
    "start_time": "2022-03-12T10:03:11.859Z"
   },
   {
    "duration": 4757,
    "start_time": "2022-03-12T10:03:36.790Z"
   },
   {
    "duration": 2230,
    "start_time": "2022-03-12T10:03:58.213Z"
   },
   {
    "duration": 2694,
    "start_time": "2022-03-12T10:04:14.403Z"
   },
   {
    "duration": 2274,
    "start_time": "2022-03-12T10:04:44.891Z"
   },
   {
    "duration": 695,
    "start_time": "2022-03-12T10:05:11.305Z"
   },
   {
    "duration": 1632,
    "start_time": "2022-03-12T10:05:26.968Z"
   },
   {
    "duration": 4384,
    "start_time": "2022-03-12T10:05:45.831Z"
   },
   {
    "duration": 3001,
    "start_time": "2022-03-12T10:05:59.792Z"
   },
   {
    "duration": 4500,
    "start_time": "2022-03-12T10:06:12.925Z"
   },
   {
    "duration": 2716,
    "start_time": "2022-03-12T10:06:26.460Z"
   },
   {
    "duration": 13770,
    "start_time": "2022-03-12T10:06:43.671Z"
   },
   {
    "duration": 13996,
    "start_time": "2022-03-12T10:08:07.049Z"
   },
   {
    "duration": 324,
    "start_time": "2022-03-12T10:08:34.863Z"
   },
   {
    "duration": 275,
    "start_time": "2022-03-12T10:09:00.982Z"
   },
   {
    "duration": 4355,
    "start_time": "2022-03-12T10:09:39.098Z"
   },
   {
    "duration": 1739,
    "start_time": "2022-03-12T10:10:00.219Z"
   },
   {
    "duration": 2083,
    "start_time": "2022-03-12T10:10:09.527Z"
   },
   {
    "duration": 4220,
    "start_time": "2022-03-12T10:10:28.607Z"
   },
   {
    "duration": 3250,
    "start_time": "2022-03-12T10:10:43.679Z"
   },
   {
    "duration": 3606,
    "start_time": "2022-03-12T10:10:54.407Z"
   },
   {
    "duration": 3271,
    "start_time": "2022-03-12T10:11:07.341Z"
   },
   {
    "duration": 12677,
    "start_time": "2022-03-12T10:11:33.469Z"
   },
   {
    "duration": 17102,
    "start_time": "2022-03-12T10:11:48.724Z"
   },
   {
    "duration": 17195,
    "start_time": "2022-03-12T10:13:25.398Z"
   },
   {
    "duration": 12,
    "start_time": "2022-03-12T10:31:50.821Z"
   },
   {
    "duration": 19,
    "start_time": "2022-03-12T10:31:52.981Z"
   },
   {
    "duration": 12,
    "start_time": "2022-03-12T10:33:35.679Z"
   },
   {
    "duration": 21,
    "start_time": "2022-03-12T10:33:43.359Z"
   },
   {
    "duration": 238,
    "start_time": "2022-03-12T10:35:07.203Z"
   },
   {
    "duration": 16,
    "start_time": "2022-03-12T10:35:13.378Z"
   },
   {
    "duration": 22,
    "start_time": "2022-03-12T10:35:14.427Z"
   },
   {
    "duration": 72,
    "start_time": "2022-03-12T10:36:12.574Z"
   },
   {
    "duration": 284,
    "start_time": "2022-03-12T10:36:48.060Z"
   },
   {
    "duration": 1054,
    "start_time": "2022-03-12T10:37:31.051Z"
   },
   {
    "duration": 12,
    "start_time": "2022-03-12T10:38:07.513Z"
   },
   {
    "duration": 7370,
    "start_time": "2022-03-12T10:38:44.918Z"
   },
   {
    "duration": 7526,
    "start_time": "2022-03-12T10:39:01.705Z"
   },
   {
    "duration": 2139,
    "start_time": "2022-03-12T10:39:28.503Z"
   },
   {
    "duration": 2281,
    "start_time": "2022-03-12T10:39:48.563Z"
   },
   {
    "duration": 2281,
    "start_time": "2022-03-12T10:39:55.259Z"
   },
   {
    "duration": 1361,
    "start_time": "2022-03-12T10:40:08.571Z"
   },
   {
    "duration": 1826,
    "start_time": "2022-03-12T10:40:20.122Z"
   },
   {
    "duration": 1535,
    "start_time": "2022-03-12T10:40:30.474Z"
   },
   {
    "duration": 630,
    "start_time": "2022-03-12T10:40:49.297Z"
   },
   {
    "duration": 6228,
    "start_time": "2022-03-12T10:40:59.096Z"
   },
   {
    "duration": 12,
    "start_time": "2022-03-12T10:43:37.902Z"
   },
   {
    "duration": 1198,
    "start_time": "2022-03-12T10:46:53.976Z"
   },
   {
    "duration": 130,
    "start_time": "2022-03-12T10:46:55.176Z"
   },
   {
    "duration": 13,
    "start_time": "2022-03-12T10:46:55.308Z"
   },
   {
    "duration": 14,
    "start_time": "2022-03-12T10:46:55.323Z"
   },
   {
    "duration": 18,
    "start_time": "2022-03-12T10:46:55.339Z"
   },
   {
    "duration": 5,
    "start_time": "2022-03-12T10:46:55.359Z"
   },
   {
    "duration": 45,
    "start_time": "2022-03-12T10:46:55.365Z"
   },
   {
    "duration": 901,
    "start_time": "2022-03-12T10:46:55.413Z"
   },
   {
    "duration": 5,
    "start_time": "2022-03-12T10:46:56.317Z"
   },
   {
    "duration": 33,
    "start_time": "2022-03-12T10:46:56.323Z"
   },
   {
    "duration": 26,
    "start_time": "2022-03-12T10:46:56.358Z"
   },
   {
    "duration": 19,
    "start_time": "2022-03-12T10:46:56.386Z"
   },
   {
    "duration": 18,
    "start_time": "2022-03-12T10:46:56.407Z"
   },
   {
    "duration": 31,
    "start_time": "2022-03-12T10:46:56.426Z"
   },
   {
    "duration": 8,
    "start_time": "2022-03-12T10:46:56.458Z"
   },
   {
    "duration": 9,
    "start_time": "2022-03-12T10:46:56.467Z"
   },
   {
    "duration": 36,
    "start_time": "2022-03-12T10:46:56.478Z"
   },
   {
    "duration": 33,
    "start_time": "2022-03-12T10:46:56.515Z"
   },
   {
    "duration": 11,
    "start_time": "2022-03-12T10:46:56.550Z"
   },
   {
    "duration": 15,
    "start_time": "2022-03-12T10:46:56.563Z"
   },
   {
    "duration": 1279,
    "start_time": "2022-03-12T10:46:56.580Z"
   },
   {
    "duration": 5870,
    "start_time": "2022-03-12T10:46:57.860Z"
   },
   {
    "duration": 100,
    "start_time": "2022-03-12T10:47:03.739Z"
   },
   {
    "duration": 99,
    "start_time": "2022-03-12T10:47:03.842Z"
   },
   {
    "duration": 14,
    "start_time": "2022-03-12T10:47:03.943Z"
   },
   {
    "duration": 84,
    "start_time": "2022-03-12T10:47:03.959Z"
   },
   {
    "duration": 507,
    "start_time": "2022-03-12T10:47:04.045Z"
   },
   {
    "duration": 186,
    "start_time": "2022-03-12T10:47:04.554Z"
   },
   {
    "duration": 1513,
    "start_time": "2022-03-12T10:47:04.742Z"
   },
   {
    "duration": 10,
    "start_time": "2022-03-12T10:47:06.256Z"
   },
   {
    "duration": 9426,
    "start_time": "2022-03-12T10:47:06.268Z"
   },
   {
    "duration": 11,
    "start_time": "2022-03-12T10:47:15.696Z"
   },
   {
    "duration": 29,
    "start_time": "2022-03-12T10:47:15.709Z"
   },
   {
    "duration": 18,
    "start_time": "2022-03-12T10:47:15.740Z"
   },
   {
    "duration": 180,
    "start_time": "2022-03-12T10:47:15.760Z"
   },
   {
    "duration": 1386,
    "start_time": "2022-03-12T10:47:15.942Z"
   },
   {
    "duration": 10,
    "start_time": "2022-03-12T10:47:17.338Z"
   },
   {
    "duration": 17590,
    "start_time": "2022-03-12T10:47:17.350Z"
   },
   {
    "duration": 11,
    "start_time": "2022-03-12T10:47:34.942Z"
   },
   {
    "duration": 24,
    "start_time": "2022-03-12T10:47:34.954Z"
   },
   {
    "duration": 164,
    "start_time": "2022-03-12T10:47:34.980Z"
   },
   {
    "duration": 1122,
    "start_time": "2022-03-12T10:47:35.147Z"
   },
   {
    "duration": 12,
    "start_time": "2022-03-12T10:47:36.271Z"
   },
   {
    "duration": 378,
    "start_time": "2022-03-12T10:47:36.284Z"
   },
   {
    "duration": -419,
    "start_time": "2022-03-12T10:47:37.083Z"
   },
   {
    "duration": -426,
    "start_time": "2022-03-12T10:47:37.091Z"
   },
   {
    "duration": -431,
    "start_time": "2022-03-12T10:47:37.098Z"
   },
   {
    "duration": -438,
    "start_time": "2022-03-12T10:47:37.106Z"
   },
   {
    "duration": -443,
    "start_time": "2022-03-12T10:47:37.112Z"
   },
   {
    "duration": 6228,
    "start_time": "2022-03-12T10:48:08.711Z"
   },
   {
    "duration": 11,
    "start_time": "2022-03-12T10:48:20.780Z"
   },
   {
    "duration": 12,
    "start_time": "2022-03-12T10:48:46.379Z"
   },
   {
    "duration": 6,
    "start_time": "2022-03-12T10:49:07.290Z"
   },
   {
    "duration": 12,
    "start_time": "2022-03-12T10:49:15.390Z"
   },
   {
    "duration": 138,
    "start_time": "2022-03-12T10:49:52.096Z"
   },
   {
    "duration": 209,
    "start_time": "2022-03-12T10:50:03.952Z"
   },
   {
    "duration": 205,
    "start_time": "2022-03-12T10:50:15.407Z"
   },
   {
    "duration": 12,
    "start_time": "2022-03-12T10:50:23.485Z"
   },
   {
    "duration": 265,
    "start_time": "2022-03-12T10:52:09.481Z"
   },
   {
    "duration": 143,
    "start_time": "2022-03-12T10:52:28.025Z"
   },
   {
    "duration": 12,
    "start_time": "2022-03-12T10:53:06.801Z"
   },
   {
    "duration": 5,
    "start_time": "2022-03-12T10:57:33.589Z"
   },
   {
    "duration": 14,
    "start_time": "2022-03-12T11:01:03.945Z"
   },
   {
    "duration": 12,
    "start_time": "2022-03-12T11:01:20.544Z"
   },
   {
    "duration": 7,
    "start_time": "2022-03-12T11:05:55.320Z"
   },
   {
    "duration": 125,
    "start_time": "2022-03-12T11:06:02.721Z"
   },
   {
    "duration": 168,
    "start_time": "2022-03-12T11:06:28.071Z"
   },
   {
    "duration": 6,
    "start_time": "2022-03-12T11:06:31.774Z"
   },
   {
    "duration": 86,
    "start_time": "2022-03-12T11:06:36.862Z"
   },
   {
    "duration": 322,
    "start_time": "2022-03-12T11:07:40.690Z"
   },
   {
    "duration": 17,
    "start_time": "2022-03-12T11:08:24.728Z"
   },
   {
    "duration": 310,
    "start_time": "2022-03-12T11:12:56.122Z"
   },
   {
    "duration": 329,
    "start_time": "2022-03-12T11:13:04.258Z"
   },
   {
    "duration": 1250,
    "start_time": "2022-03-12T11:13:20.828Z"
   },
   {
    "duration": 115,
    "start_time": "2022-03-12T11:13:22.080Z"
   },
   {
    "duration": 13,
    "start_time": "2022-03-12T11:13:22.197Z"
   },
   {
    "duration": 14,
    "start_time": "2022-03-12T11:13:22.213Z"
   },
   {
    "duration": 21,
    "start_time": "2022-03-12T11:13:22.229Z"
   },
   {
    "duration": 4,
    "start_time": "2022-03-12T11:13:22.252Z"
   },
   {
    "duration": 49,
    "start_time": "2022-03-12T11:13:22.258Z"
   },
   {
    "duration": 891,
    "start_time": "2022-03-12T11:13:22.309Z"
   },
   {
    "duration": 5,
    "start_time": "2022-03-12T11:13:23.203Z"
   },
   {
    "duration": 29,
    "start_time": "2022-03-12T11:13:23.210Z"
   },
   {
    "duration": 15,
    "start_time": "2022-03-12T11:13:23.241Z"
   },
   {
    "duration": 16,
    "start_time": "2022-03-12T11:13:23.258Z"
   },
   {
    "duration": 5,
    "start_time": "2022-03-12T11:13:23.276Z"
   },
   {
    "duration": 56,
    "start_time": "2022-03-12T11:13:23.283Z"
   },
   {
    "duration": 9,
    "start_time": "2022-03-12T11:13:23.341Z"
   },
   {
    "duration": 8,
    "start_time": "2022-03-12T11:13:23.352Z"
   },
   {
    "duration": 31,
    "start_time": "2022-03-12T11:13:23.362Z"
   },
   {
    "duration": 15,
    "start_time": "2022-03-12T11:13:23.395Z"
   },
   {
    "duration": 36,
    "start_time": "2022-03-12T11:13:23.411Z"
   },
   {
    "duration": 14,
    "start_time": "2022-03-12T11:13:23.449Z"
   },
   {
    "duration": 1242,
    "start_time": "2022-03-12T11:13:23.465Z"
   },
   {
    "duration": 5723,
    "start_time": "2022-03-12T11:13:24.709Z"
   },
   {
    "duration": 105,
    "start_time": "2022-03-12T11:13:30.439Z"
   },
   {
    "duration": 100,
    "start_time": "2022-03-12T11:13:30.547Z"
   },
   {
    "duration": 34,
    "start_time": "2022-03-12T11:13:30.649Z"
   },
   {
    "duration": 478,
    "start_time": "2022-03-12T11:13:30.685Z"
   },
   {
    "duration": 175,
    "start_time": "2022-03-12T11:13:31.164Z"
   },
   {
    "duration": 1401,
    "start_time": "2022-03-12T11:13:31.341Z"
   },
   {
    "duration": 11,
    "start_time": "2022-03-12T11:13:32.743Z"
   },
   {
    "duration": 9096,
    "start_time": "2022-03-12T11:13:32.755Z"
   },
   {
    "duration": 10,
    "start_time": "2022-03-12T11:13:41.853Z"
   },
   {
    "duration": 11,
    "start_time": "2022-03-12T11:13:41.865Z"
   },
   {
    "duration": 18,
    "start_time": "2022-03-12T11:13:41.878Z"
   },
   {
    "duration": 242,
    "start_time": "2022-03-12T11:13:41.897Z"
   },
   {
    "duration": 1348,
    "start_time": "2022-03-12T11:13:42.141Z"
   },
   {
    "duration": 11,
    "start_time": "2022-03-12T11:13:43.491Z"
   },
   {
    "duration": 17136,
    "start_time": "2022-03-12T11:13:43.503Z"
   },
   {
    "duration": 12,
    "start_time": "2022-03-12T11:14:00.641Z"
   },
   {
    "duration": 30,
    "start_time": "2022-03-12T11:14:00.655Z"
   },
   {
    "duration": 252,
    "start_time": "2022-03-12T11:14:00.687Z"
   },
   {
    "duration": 1086,
    "start_time": "2022-03-12T11:14:00.941Z"
   },
   {
    "duration": 12,
    "start_time": "2022-03-12T11:14:02.037Z"
   },
   {
    "duration": 6095,
    "start_time": "2022-03-12T11:14:02.051Z"
   },
   {
    "duration": 11,
    "start_time": "2022-03-12T11:14:08.148Z"
   },
   {
    "duration": 13,
    "start_time": "2022-03-12T11:14:08.161Z"
   },
   {
    "duration": 7,
    "start_time": "2022-03-12T11:14:08.176Z"
   },
   {
    "duration": 7,
    "start_time": "2022-03-12T11:14:08.184Z"
   },
   {
    "duration": 346,
    "start_time": "2022-03-12T11:14:08.192Z"
   },
   {
    "duration": 327,
    "start_time": "2022-03-12T11:14:08.540Z"
   },
   {
    "duration": 15,
    "start_time": "2022-03-12T11:14:08.869Z"
   },
   {
    "duration": 3,
    "start_time": "2022-03-12T11:14:08.886Z"
   },
   {
    "duration": 31,
    "start_time": "2022-03-12T11:17:23.609Z"
   },
   {
    "duration": 329,
    "start_time": "2022-03-12T11:17:26.489Z"
   },
   {
    "duration": 252,
    "start_time": "2022-03-12T11:19:32.811Z"
   },
   {
    "duration": 148,
    "start_time": "2022-03-12T11:19:42.690Z"
   },
   {
    "duration": 328,
    "start_time": "2022-03-12T11:19:45.268Z"
   },
   {
    "duration": 330,
    "start_time": "2022-03-12T11:22:06.210Z"
   },
   {
    "duration": 399,
    "start_time": "2022-03-12T11:22:42.129Z"
   },
   {
    "duration": 303,
    "start_time": "2022-03-12T11:22:51.848Z"
   },
   {
    "duration": 318,
    "start_time": "2022-03-12T11:23:01.295Z"
   },
   {
    "duration": 292,
    "start_time": "2022-03-12T11:23:39.357Z"
   },
   {
    "duration": 3,
    "start_time": "2022-03-12T11:25:25.103Z"
   },
   {
    "duration": 317,
    "start_time": "2022-03-12T11:27:12.667Z"
   },
   {
    "duration": 349,
    "start_time": "2022-03-12T11:27:19.307Z"
   },
   {
    "duration": 299,
    "start_time": "2022-03-12T11:27:28.178Z"
   },
   {
    "duration": 9336,
    "start_time": "2022-03-12T11:28:29.839Z"
   },
   {
    "duration": 1276,
    "start_time": "2022-03-12T11:30:44.889Z"
   },
   {
    "duration": 121,
    "start_time": "2022-03-12T11:30:46.167Z"
   },
   {
    "duration": 12,
    "start_time": "2022-03-12T11:30:46.290Z"
   },
   {
    "duration": 14,
    "start_time": "2022-03-12T11:30:46.304Z"
   },
   {
    "duration": 18,
    "start_time": "2022-03-12T11:30:46.319Z"
   },
   {
    "duration": 4,
    "start_time": "2022-03-12T11:30:46.338Z"
   },
   {
    "duration": 46,
    "start_time": "2022-03-12T11:30:46.344Z"
   },
   {
    "duration": 881,
    "start_time": "2022-03-12T11:30:46.393Z"
   },
   {
    "duration": 5,
    "start_time": "2022-03-12T11:30:47.277Z"
   },
   {
    "duration": 16,
    "start_time": "2022-03-12T11:30:47.284Z"
   },
   {
    "duration": 13,
    "start_time": "2022-03-12T11:30:47.301Z"
   },
   {
    "duration": 15,
    "start_time": "2022-03-12T11:30:47.338Z"
   },
   {
    "duration": 3,
    "start_time": "2022-03-12T11:30:47.355Z"
   },
   {
    "duration": 23,
    "start_time": "2022-03-12T11:30:47.360Z"
   },
   {
    "duration": 8,
    "start_time": "2022-03-12T11:30:47.385Z"
   },
   {
    "duration": 7,
    "start_time": "2022-03-12T11:30:47.394Z"
   },
   {
    "duration": 66,
    "start_time": "2022-03-12T11:30:47.402Z"
   },
   {
    "duration": 17,
    "start_time": "2022-03-12T11:30:47.470Z"
   },
   {
    "duration": 11,
    "start_time": "2022-03-12T11:30:47.489Z"
   },
   {
    "duration": 41,
    "start_time": "2022-03-12T11:30:47.501Z"
   },
   {
    "duration": 1180,
    "start_time": "2022-03-12T11:30:47.544Z"
   },
   {
    "duration": 5683,
    "start_time": "2022-03-12T11:30:48.725Z"
   },
   {
    "duration": 126,
    "start_time": "2022-03-12T11:30:54.412Z"
   },
   {
    "duration": 104,
    "start_time": "2022-03-12T11:30:54.541Z"
   },
   {
    "duration": 34,
    "start_time": "2022-03-12T11:30:54.646Z"
   },
   {
    "duration": 469,
    "start_time": "2022-03-12T11:30:54.682Z"
   },
   {
    "duration": 188,
    "start_time": "2022-03-12T11:30:55.153Z"
   },
   {
    "duration": 1356,
    "start_time": "2022-03-12T11:30:55.343Z"
   },
   {
    "duration": 10,
    "start_time": "2022-03-12T11:30:56.700Z"
   },
   {
    "duration": 9293,
    "start_time": "2022-03-12T11:30:56.712Z"
   },
   {
    "duration": 11,
    "start_time": "2022-03-12T11:31:06.006Z"
   },
   {
    "duration": 11,
    "start_time": "2022-03-12T11:31:06.039Z"
   },
   {
    "duration": 18,
    "start_time": "2022-03-12T11:31:06.052Z"
   },
   {
    "duration": 177,
    "start_time": "2022-03-12T11:31:06.073Z"
   },
   {
    "duration": 1463,
    "start_time": "2022-03-12T11:31:06.252Z"
   },
   {
    "duration": 25,
    "start_time": "2022-03-12T11:31:07.718Z"
   },
   {
    "duration": 17079,
    "start_time": "2022-03-12T11:31:07.744Z"
   },
   {
    "duration": 22,
    "start_time": "2022-03-12T11:31:24.825Z"
   },
   {
    "duration": 21,
    "start_time": "2022-03-12T11:31:24.849Z"
   },
   {
    "duration": 176,
    "start_time": "2022-03-12T11:31:24.873Z"
   },
   {
    "duration": 1140,
    "start_time": "2022-03-12T11:31:25.051Z"
   },
   {
    "duration": 11,
    "start_time": "2022-03-12T11:31:26.193Z"
   },
   {
    "duration": 6109,
    "start_time": "2022-03-12T11:31:26.206Z"
   },
   {
    "duration": 11,
    "start_time": "2022-03-12T11:31:32.316Z"
   },
   {
    "duration": 10,
    "start_time": "2022-03-12T11:31:32.337Z"
   },
   {
    "duration": 10,
    "start_time": "2022-03-12T11:31:32.349Z"
   },
   {
    "duration": 7,
    "start_time": "2022-03-12T11:31:32.361Z"
   },
   {
    "duration": 270,
    "start_time": "2022-03-12T11:31:32.370Z"
   },
   {
    "duration": 420,
    "start_time": "2022-03-12T11:31:32.646Z"
   },
   {
    "duration": 14,
    "start_time": "2022-03-12T11:31:33.068Z"
   },
   {
    "duration": 4,
    "start_time": "2022-03-12T11:31:33.083Z"
   },
   {
    "duration": 287,
    "start_time": "2022-03-12T11:32:12.836Z"
   },
   {
    "duration": 282,
    "start_time": "2022-03-12T11:32:47.186Z"
   },
   {
    "duration": 17,
    "start_time": "2022-03-12T11:33:52.670Z"
   },
   {
    "duration": 223,
    "start_time": "2022-03-12T11:34:25.076Z"
   },
   {
    "duration": 4,
    "start_time": "2022-03-12T11:34:34.052Z"
   },
   {
    "duration": 125,
    "start_time": "2022-03-12T11:34:48.515Z"
   },
   {
    "duration": 4,
    "start_time": "2022-03-12T11:35:26.594Z"
   },
   {
    "duration": 16,
    "start_time": "2022-03-12T11:43:29.351Z"
   },
   {
    "duration": 16,
    "start_time": "2022-03-12T11:44:17.842Z"
   },
   {
    "duration": 17,
    "start_time": "2022-03-12T11:45:06.178Z"
   },
   {
    "duration": 1219,
    "start_time": "2022-03-12T11:57:45.529Z"
   },
   {
    "duration": 5659,
    "start_time": "2022-03-12T11:58:43.480Z"
   },
   {
    "duration": 1226,
    "start_time": "2022-03-12T12:00:05.881Z"
   },
   {
    "duration": 1230,
    "start_time": "2022-03-12T12:01:36.260Z"
   },
   {
    "duration": 7,
    "start_time": "2022-03-12T12:01:49.346Z"
   },
   {
    "duration": 12,
    "start_time": "2022-03-12T12:03:11.006Z"
   },
   {
    "duration": 1229,
    "start_time": "2022-03-12T12:08:12.009Z"
   },
   {
    "duration": 141,
    "start_time": "2022-03-12T12:08:13.240Z"
   },
   {
    "duration": 14,
    "start_time": "2022-03-12T12:08:13.383Z"
   },
   {
    "duration": 41,
    "start_time": "2022-03-12T12:08:13.399Z"
   },
   {
    "duration": 22,
    "start_time": "2022-03-12T12:08:13.443Z"
   },
   {
    "duration": 6,
    "start_time": "2022-03-12T12:08:13.467Z"
   },
   {
    "duration": 79,
    "start_time": "2022-03-12T12:08:13.475Z"
   },
   {
    "duration": 869,
    "start_time": "2022-03-12T12:08:13.557Z"
   },
   {
    "duration": 11,
    "start_time": "2022-03-12T12:08:14.428Z"
   },
   {
    "duration": 22,
    "start_time": "2022-03-12T12:08:14.441Z"
   },
   {
    "duration": 13,
    "start_time": "2022-03-12T12:08:14.464Z"
   },
   {
    "duration": 13,
    "start_time": "2022-03-12T12:08:14.479Z"
   },
   {
    "duration": 4,
    "start_time": "2022-03-12T12:08:14.493Z"
   },
   {
    "duration": 54,
    "start_time": "2022-03-12T12:08:14.498Z"
   },
   {
    "duration": 8,
    "start_time": "2022-03-12T12:08:14.554Z"
   },
   {
    "duration": 8,
    "start_time": "2022-03-12T12:08:14.563Z"
   },
   {
    "duration": 33,
    "start_time": "2022-03-12T12:08:14.573Z"
   },
   {
    "duration": 42,
    "start_time": "2022-03-12T12:08:14.608Z"
   },
   {
    "duration": 11,
    "start_time": "2022-03-12T12:08:14.651Z"
   },
   {
    "duration": 6,
    "start_time": "2022-03-12T12:08:14.664Z"
   },
   {
    "duration": 1319,
    "start_time": "2022-03-12T12:08:14.672Z"
   },
   {
    "duration": 5813,
    "start_time": "2022-03-12T12:08:15.993Z"
   },
   {
    "duration": 228,
    "start_time": "2022-03-12T12:08:21.810Z"
   },
   {
    "duration": 17,
    "start_time": "2022-03-12T12:08:22.042Z"
   },
   {
    "duration": 177,
    "start_time": "2022-03-12T12:08:22.061Z"
   },
   {
    "duration": 404,
    "start_time": "2022-03-12T12:08:22.241Z"
   },
   {
    "duration": 100,
    "start_time": "2022-03-12T12:08:22.647Z"
   },
   {
    "duration": 1361,
    "start_time": "2022-03-12T12:08:22.839Z"
   },
   {
    "duration": 11,
    "start_time": "2022-03-12T12:08:24.201Z"
   },
   {
    "duration": 9304,
    "start_time": "2022-03-12T12:08:24.214Z"
   },
   {
    "duration": 24,
    "start_time": "2022-03-12T12:08:33.520Z"
   },
   {
    "duration": 12,
    "start_time": "2022-03-12T12:08:33.546Z"
   },
   {
    "duration": 18,
    "start_time": "2022-03-12T12:08:33.559Z"
   },
   {
    "duration": 168,
    "start_time": "2022-03-12T12:08:33.578Z"
   },
   {
    "duration": 1475,
    "start_time": "2022-03-12T12:08:33.748Z"
   },
   {
    "duration": 20,
    "start_time": "2022-03-12T12:08:35.224Z"
   },
   {
    "duration": 17599,
    "start_time": "2022-03-12T12:08:35.246Z"
   },
   {
    "duration": 11,
    "start_time": "2022-03-12T12:08:52.847Z"
   },
   {
    "duration": 19,
    "start_time": "2022-03-12T12:08:52.860Z"
   },
   {
    "duration": 25,
    "start_time": "2022-03-12T12:08:52.881Z"
   },
   {
    "duration": 333,
    "start_time": "2022-03-12T12:08:52.907Z"
   },
   {
    "duration": 1123,
    "start_time": "2022-03-12T12:08:53.242Z"
   },
   {
    "duration": 14,
    "start_time": "2022-03-12T12:08:54.367Z"
   },
   {
    "duration": 6539,
    "start_time": "2022-03-12T12:08:54.383Z"
   },
   {
    "duration": 22,
    "start_time": "2022-03-12T12:09:00.924Z"
   },
   {
    "duration": 35,
    "start_time": "2022-03-12T12:09:00.947Z"
   },
   {
    "duration": 21,
    "start_time": "2022-03-12T12:09:00.984Z"
   },
   {
    "duration": 20,
    "start_time": "2022-03-12T12:09:01.006Z"
   },
   {
    "duration": 217,
    "start_time": "2022-03-12T12:09:01.028Z"
   },
   {
    "duration": 399,
    "start_time": "2022-03-12T12:09:01.247Z"
   },
   {
    "duration": 18,
    "start_time": "2022-03-12T12:09:01.648Z"
   },
   {
    "duration": 7,
    "start_time": "2022-03-12T12:09:01.668Z"
   },
   {
    "duration": 1245,
    "start_time": "2022-03-12T12:15:36.227Z"
   },
   {
    "duration": 126,
    "start_time": "2022-03-12T12:15:37.474Z"
   },
   {
    "duration": 12,
    "start_time": "2022-03-12T12:15:37.602Z"
   },
   {
    "duration": 16,
    "start_time": "2022-03-12T12:15:37.617Z"
   },
   {
    "duration": 18,
    "start_time": "2022-03-12T12:15:37.635Z"
   },
   {
    "duration": 4,
    "start_time": "2022-03-12T12:15:37.655Z"
   },
   {
    "duration": 50,
    "start_time": "2022-03-12T12:15:37.660Z"
   },
   {
    "duration": 913,
    "start_time": "2022-03-12T12:15:37.712Z"
   },
   {
    "duration": 12,
    "start_time": "2022-03-12T12:15:38.627Z"
   },
   {
    "duration": 20,
    "start_time": "2022-03-12T12:15:38.641Z"
   },
   {
    "duration": 21,
    "start_time": "2022-03-12T12:15:38.663Z"
   },
   {
    "duration": 17,
    "start_time": "2022-03-12T12:15:38.686Z"
   },
   {
    "duration": 5,
    "start_time": "2022-03-12T12:15:38.705Z"
   },
   {
    "duration": 44,
    "start_time": "2022-03-12T12:15:38.712Z"
   },
   {
    "duration": 8,
    "start_time": "2022-03-12T12:15:38.759Z"
   },
   {
    "duration": 13,
    "start_time": "2022-03-12T12:15:38.769Z"
   },
   {
    "duration": 61,
    "start_time": "2022-03-12T12:15:38.784Z"
   },
   {
    "duration": 17,
    "start_time": "2022-03-12T12:15:38.847Z"
   },
   {
    "duration": 11,
    "start_time": "2022-03-12T12:15:38.866Z"
   },
   {
    "duration": 14,
    "start_time": "2022-03-12T12:15:38.879Z"
   },
   {
    "duration": 1245,
    "start_time": "2022-03-12T12:15:38.894Z"
   },
   {
    "duration": 5804,
    "start_time": "2022-03-12T12:15:40.141Z"
   },
   {
    "duration": 199,
    "start_time": "2022-03-12T12:15:45.950Z"
   },
   {
    "duration": 20,
    "start_time": "2022-03-12T12:15:46.237Z"
   },
   {
    "duration": 87,
    "start_time": "2022-03-12T12:15:46.259Z"
   },
   {
    "duration": 579,
    "start_time": "2022-03-12T12:15:46.348Z"
   },
   {
    "duration": 121,
    "start_time": "2022-03-12T12:15:46.929Z"
   },
   {
    "duration": 1384,
    "start_time": "2022-03-12T12:15:47.137Z"
   },
   {
    "duration": 20,
    "start_time": "2022-03-12T12:15:48.523Z"
   },
   {
    "duration": 9266,
    "start_time": "2022-03-12T12:15:48.545Z"
   },
   {
    "duration": 11,
    "start_time": "2022-03-12T12:15:57.813Z"
   },
   {
    "duration": 12,
    "start_time": "2022-03-12T12:15:57.838Z"
   },
   {
    "duration": 17,
    "start_time": "2022-03-12T12:15:57.852Z"
   },
   {
    "duration": 176,
    "start_time": "2022-03-12T12:15:57.870Z"
   },
   {
    "duration": 1464,
    "start_time": "2022-03-12T12:15:58.048Z"
   },
   {
    "duration": 11,
    "start_time": "2022-03-12T12:15:59.513Z"
   },
   {
    "duration": 17478,
    "start_time": "2022-03-12T12:15:59.538Z"
   },
   {
    "duration": 21,
    "start_time": "2022-03-12T12:16:17.018Z"
   },
   {
    "duration": 31,
    "start_time": "2022-03-12T12:16:17.041Z"
   },
   {
    "duration": 20,
    "start_time": "2022-03-12T12:16:17.074Z"
   },
   {
    "duration": 147,
    "start_time": "2022-03-12T12:16:17.096Z"
   },
   {
    "duration": 1092,
    "start_time": "2022-03-12T12:16:17.246Z"
   },
   {
    "duration": 18,
    "start_time": "2022-03-12T12:16:18.340Z"
   },
   {
    "duration": 5936,
    "start_time": "2022-03-12T12:16:18.359Z"
   },
   {
    "duration": 11,
    "start_time": "2022-03-12T12:16:24.297Z"
   },
   {
    "duration": 29,
    "start_time": "2022-03-12T12:16:24.310Z"
   },
   {
    "duration": 5,
    "start_time": "2022-03-12T12:16:24.341Z"
   },
   {
    "duration": 10,
    "start_time": "2022-03-12T12:16:24.348Z"
   },
   {
    "duration": 182,
    "start_time": "2022-03-12T12:16:24.359Z"
   },
   {
    "duration": 396,
    "start_time": "2022-03-12T12:16:24.543Z"
   },
   {
    "duration": 18,
    "start_time": "2022-03-12T12:16:24.941Z"
   },
   {
    "duration": 4,
    "start_time": "2022-03-12T12:16:24.960Z"
   },
   {
    "duration": 1259,
    "start_time": "2022-03-12T18:31:27.432Z"
   },
   {
    "duration": 177,
    "start_time": "2022-03-12T18:31:28.693Z"
   },
   {
    "duration": 11,
    "start_time": "2022-03-12T18:31:28.872Z"
   },
   {
    "duration": 22,
    "start_time": "2022-03-12T18:31:28.885Z"
   },
   {
    "duration": 27,
    "start_time": "2022-03-12T18:31:28.909Z"
   },
   {
    "duration": 4,
    "start_time": "2022-03-12T18:31:28.938Z"
   },
   {
    "duration": 56,
    "start_time": "2022-03-12T18:31:28.943Z"
   },
   {
    "duration": 782,
    "start_time": "2022-03-12T18:31:29.001Z"
   },
   {
    "duration": 4,
    "start_time": "2022-03-12T18:31:29.786Z"
   },
   {
    "duration": 18,
    "start_time": "2022-03-12T18:31:29.792Z"
   },
   {
    "duration": 12,
    "start_time": "2022-03-12T18:31:29.812Z"
   },
   {
    "duration": 12,
    "start_time": "2022-03-12T18:31:29.825Z"
   },
   {
    "duration": 4,
    "start_time": "2022-03-12T18:31:29.864Z"
   },
   {
    "duration": 23,
    "start_time": "2022-03-12T18:31:29.870Z"
   },
   {
    "duration": 7,
    "start_time": "2022-03-12T18:31:29.894Z"
   },
   {
    "duration": 6,
    "start_time": "2022-03-12T18:31:29.903Z"
   },
   {
    "duration": 56,
    "start_time": "2022-03-12T18:31:29.911Z"
   },
   {
    "duration": 15,
    "start_time": "2022-03-12T18:31:29.968Z"
   },
   {
    "duration": 11,
    "start_time": "2022-03-12T18:31:29.985Z"
   },
   {
    "duration": 7,
    "start_time": "2022-03-12T18:31:29.997Z"
   },
   {
    "duration": 1206,
    "start_time": "2022-03-12T18:31:30.005Z"
   },
   {
    "duration": 5805,
    "start_time": "2022-03-12T18:31:31.212Z"
   },
   {
    "duration": 145,
    "start_time": "2022-03-12T18:31:37.019Z"
   },
   {
    "duration": 103,
    "start_time": "2022-03-12T18:31:37.166Z"
   },
   {
    "duration": 27,
    "start_time": "2022-03-12T18:31:37.271Z"
   },
   {
    "duration": 456,
    "start_time": "2022-03-12T18:31:37.301Z"
   },
   {
    "duration": 204,
    "start_time": "2022-03-12T18:31:37.761Z"
   },
   {
    "duration": 1345,
    "start_time": "2022-03-12T18:31:37.968Z"
   },
   {
    "duration": 12,
    "start_time": "2022-03-12T18:31:39.314Z"
   },
   {
    "duration": 8997,
    "start_time": "2022-03-12T18:31:39.327Z"
   },
   {
    "duration": 11,
    "start_time": "2022-03-12T18:31:48.325Z"
   },
   {
    "duration": 28,
    "start_time": "2022-03-12T18:31:48.338Z"
   },
   {
    "duration": 18,
    "start_time": "2022-03-12T18:31:48.368Z"
   },
   {
    "duration": 178,
    "start_time": "2022-03-12T18:31:48.388Z"
   },
   {
    "duration": 1370,
    "start_time": "2022-03-12T18:31:48.568Z"
   },
   {
    "duration": 24,
    "start_time": "2022-03-12T18:31:49.939Z"
   },
   {
    "duration": 17258,
    "start_time": "2022-03-12T18:31:49.965Z"
   },
   {
    "duration": 9,
    "start_time": "2022-03-12T18:32:07.224Z"
   },
   {
    "duration": 29,
    "start_time": "2022-03-12T18:32:07.235Z"
   },
   {
    "duration": 20,
    "start_time": "2022-03-12T18:32:07.265Z"
   },
   {
    "duration": 181,
    "start_time": "2022-03-12T18:32:07.287Z"
   },
   {
    "duration": 1038,
    "start_time": "2022-03-12T18:32:07.471Z"
   },
   {
    "duration": 10,
    "start_time": "2022-03-12T18:32:08.510Z"
   },
   {
    "duration": 6046,
    "start_time": "2022-03-12T18:32:08.521Z"
   },
   {
    "duration": 15,
    "start_time": "2022-03-12T18:32:14.569Z"
   },
   {
    "duration": 15,
    "start_time": "2022-03-12T18:32:14.586Z"
   },
   {
    "duration": 5,
    "start_time": "2022-03-12T18:32:14.603Z"
   },
   {
    "duration": 10,
    "start_time": "2022-03-12T18:32:14.609Z"
   },
   {
    "duration": 245,
    "start_time": "2022-03-12T18:32:14.621Z"
   },
   {
    "duration": 386,
    "start_time": "2022-03-12T18:32:14.868Z"
   },
   {
    "duration": 17,
    "start_time": "2022-03-12T18:32:15.256Z"
   },
   {
    "duration": 3,
    "start_time": "2022-03-12T18:32:15.274Z"
   },
   {
    "duration": 1300,
    "start_time": "2022-03-12T19:37:44.435Z"
   },
   {
    "duration": 119,
    "start_time": "2022-03-12T19:37:45.738Z"
   },
   {
    "duration": 12,
    "start_time": "2022-03-12T19:37:45.859Z"
   },
   {
    "duration": 17,
    "start_time": "2022-03-12T19:37:45.873Z"
   },
   {
    "duration": 16,
    "start_time": "2022-03-12T19:37:45.892Z"
   },
   {
    "duration": 5,
    "start_time": "2022-03-12T19:37:45.933Z"
   },
   {
    "duration": 50,
    "start_time": "2022-03-12T19:37:45.940Z"
   },
   {
    "duration": 1213,
    "start_time": "2022-03-12T19:37:45.992Z"
   },
   {
    "duration": 6,
    "start_time": "2022-03-12T19:37:47.208Z"
   },
   {
    "duration": 30,
    "start_time": "2022-03-12T19:37:47.217Z"
   },
   {
    "duration": 15,
    "start_time": "2022-03-12T19:37:47.249Z"
   },
   {
    "duration": 14,
    "start_time": "2022-03-12T19:37:47.266Z"
   },
   {
    "duration": 5,
    "start_time": "2022-03-12T19:37:47.282Z"
   },
   {
    "duration": 57,
    "start_time": "2022-03-12T19:37:47.289Z"
   },
   {
    "duration": 10,
    "start_time": "2022-03-12T19:37:47.347Z"
   },
   {
    "duration": 14,
    "start_time": "2022-03-12T19:37:47.359Z"
   },
   {
    "duration": 24,
    "start_time": "2022-03-12T19:37:47.375Z"
   },
   {
    "duration": 39,
    "start_time": "2022-03-12T19:37:47.401Z"
   },
   {
    "duration": 15,
    "start_time": "2022-03-12T19:37:47.442Z"
   },
   {
    "duration": 1234,
    "start_time": "2022-03-12T19:37:47.459Z"
   },
   {
    "duration": 6199,
    "start_time": "2022-03-12T19:37:48.694Z"
   },
   {
    "duration": 48,
    "start_time": "2022-03-12T19:37:54.894Z"
   },
   {
    "duration": 99,
    "start_time": "2022-03-12T19:37:54.948Z"
   },
   {
    "duration": 129,
    "start_time": "2022-03-12T19:37:55.050Z"
   },
   {
    "duration": 513,
    "start_time": "2022-03-12T19:37:55.182Z"
   },
   {
    "duration": 142,
    "start_time": "2022-03-12T19:37:55.697Z"
   },
   {
    "duration": 1998,
    "start_time": "2022-03-12T19:37:55.843Z"
   },
   {
    "duration": 14,
    "start_time": "2022-03-12T19:37:57.843Z"
   },
   {
    "duration": 10085,
    "start_time": "2022-03-12T19:37:57.860Z"
   },
   {
    "duration": 12,
    "start_time": "2022-03-12T19:38:07.947Z"
   },
   {
    "duration": 13,
    "start_time": "2022-03-12T19:38:07.961Z"
   },
   {
    "duration": 18,
    "start_time": "2022-03-12T19:38:07.976Z"
   },
   {
    "duration": 240,
    "start_time": "2022-03-12T19:38:07.996Z"
   },
   {
    "duration": 1465,
    "start_time": "2022-03-12T19:38:08.239Z"
   },
   {
    "duration": 11,
    "start_time": "2022-03-12T19:38:09.705Z"
   },
   {
    "duration": 18220,
    "start_time": "2022-03-12T19:38:09.718Z"
   },
   {
    "duration": 16,
    "start_time": "2022-03-12T19:38:27.940Z"
   },
   {
    "duration": 17,
    "start_time": "2022-03-12T19:38:27.958Z"
   },
   {
    "duration": 17,
    "start_time": "2022-03-12T19:38:27.977Z"
   },
   {
    "duration": 140,
    "start_time": "2022-03-12T19:38:27.996Z"
   },
   {
    "duration": 977,
    "start_time": "2022-03-12T19:38:28.138Z"
   },
   {
    "duration": 26,
    "start_time": "2022-03-12T19:38:29.116Z"
   },
   {
    "duration": 5462,
    "start_time": "2022-03-12T19:38:29.144Z"
   },
   {
    "duration": 10,
    "start_time": "2022-03-12T19:38:34.607Z"
   },
   {
    "duration": 27,
    "start_time": "2022-03-12T19:38:34.618Z"
   },
   {
    "duration": 11,
    "start_time": "2022-03-12T19:38:34.646Z"
   },
   {
    "duration": 18,
    "start_time": "2022-03-12T19:38:34.659Z"
   },
   {
    "duration": 67,
    "start_time": "2022-03-12T19:38:34.679Z"
   },
   {
    "duration": 461,
    "start_time": "2022-03-12T19:38:34.748Z"
   },
   {
    "duration": 29,
    "start_time": "2022-03-12T19:38:35.212Z"
   },
   {
    "duration": 6,
    "start_time": "2022-03-12T19:38:35.243Z"
   },
   {
    "duration": 20,
    "start_time": "2022-03-12T19:39:00.360Z"
   },
   {
    "duration": 1165,
    "start_time": "2022-03-12T19:40:24.390Z"
   },
   {
    "duration": 158,
    "start_time": "2022-03-12T19:40:25.557Z"
   },
   {
    "duration": 12,
    "start_time": "2022-03-12T19:40:25.717Z"
   },
   {
    "duration": 29,
    "start_time": "2022-03-12T19:40:25.731Z"
   },
   {
    "duration": 19,
    "start_time": "2022-03-12T19:40:25.762Z"
   },
   {
    "duration": 4,
    "start_time": "2022-03-12T19:40:25.783Z"
   },
   {
    "duration": 49,
    "start_time": "2022-03-12T19:40:25.789Z"
   },
   {
    "duration": 840,
    "start_time": "2022-03-12T19:40:25.841Z"
   },
   {
    "duration": 5,
    "start_time": "2022-03-12T19:40:26.683Z"
   },
   {
    "duration": 15,
    "start_time": "2022-03-12T19:40:26.690Z"
   },
   {
    "duration": 29,
    "start_time": "2022-03-12T19:40:26.707Z"
   },
   {
    "duration": 17,
    "start_time": "2022-03-12T19:40:26.738Z"
   },
   {
    "duration": 6,
    "start_time": "2022-03-12T19:40:26.757Z"
   },
   {
    "duration": 24,
    "start_time": "2022-03-12T19:40:26.764Z"
   },
   {
    "duration": 9,
    "start_time": "2022-03-12T19:40:26.790Z"
   },
   {
    "duration": 38,
    "start_time": "2022-03-12T19:40:26.801Z"
   },
   {
    "duration": 43,
    "start_time": "2022-03-12T19:40:26.842Z"
   },
   {
    "duration": 12,
    "start_time": "2022-03-12T19:40:26.887Z"
   },
   {
    "duration": 13,
    "start_time": "2022-03-12T19:40:26.901Z"
   },
   {
    "duration": 17,
    "start_time": "2022-03-12T19:40:26.916Z"
   },
   {
    "duration": 1373,
    "start_time": "2022-03-12T19:40:41.319Z"
   },
   {
    "duration": 428,
    "start_time": "2022-03-12T19:43:04.831Z"
   },
   {
    "duration": 48,
    "start_time": "2022-03-12T19:44:03.607Z"
   },
   {
    "duration": 1801,
    "start_time": "2022-03-12T19:44:10.300Z"
   },
   {
    "duration": 4187,
    "start_time": "2022-03-12T19:44:43.527Z"
   },
   {
    "duration": 4270,
    "start_time": "2022-03-12T19:44:54.317Z"
   },
   {
    "duration": 5934,
    "start_time": "2022-03-12T19:45:06.658Z"
   },
   {
    "duration": 5203,
    "start_time": "2022-03-12T19:45:39.425Z"
   },
   {
    "duration": 4698,
    "start_time": "2022-03-12T19:45:56.936Z"
   },
   {
    "duration": 3481,
    "start_time": "2022-03-12T19:46:15.910Z"
   },
   {
    "duration": 4667,
    "start_time": "2022-03-12T19:46:30.582Z"
   },
   {
    "duration": 26741,
    "start_time": "2022-03-12T19:47:03.133Z"
   },
   {
    "duration": 18144,
    "start_time": "2022-03-12T19:48:33.967Z"
   },
   {
    "duration": 14045,
    "start_time": "2022-03-12T19:49:01.158Z"
   },
   {
    "duration": 72445,
    "start_time": "2022-03-12T19:49:37.795Z"
   },
   {
    "duration": 21014,
    "start_time": "2022-03-12T19:51:24.818Z"
   },
   {
    "duration": 31414,
    "start_time": "2022-03-12T19:52:22.286Z"
   },
   {
    "duration": 14021,
    "start_time": "2022-03-12T19:53:15.873Z"
   },
   {
    "duration": 24279,
    "start_time": "2022-03-12T19:53:59.221Z"
   },
   {
    "duration": 24171,
    "start_time": "2022-03-12T19:54:48.300Z"
   },
   {
    "duration": 68,
    "start_time": "2022-03-12T19:55:23.375Z"
   },
   {
    "duration": 11,
    "start_time": "2022-03-12T19:55:30.149Z"
   },
   {
    "duration": 136,
    "start_time": "2022-03-12T19:55:33.903Z"
   },
   {
    "duration": 313,
    "start_time": "2022-03-12T19:55:55.262Z"
   },
   {
    "duration": 54,
    "start_time": "2022-03-12T19:56:35.397Z"
   },
   {
    "duration": 1435,
    "start_time": "2022-03-12T19:56:54.550Z"
   },
   {
    "duration": 12,
    "start_time": "2022-03-12T19:57:07.193Z"
   },
   {
    "duration": 8787,
    "start_time": "2022-03-12T19:58:18.016Z"
   },
   {
    "duration": 8619,
    "start_time": "2022-03-12T19:58:30.150Z"
   },
   {
    "duration": 2873,
    "start_time": "2022-03-12T19:59:02.649Z"
   },
   {
    "duration": 5561,
    "start_time": "2022-03-12T19:59:22.451Z"
   },
   {
    "duration": 6664,
    "start_time": "2022-03-12T20:00:39.223Z"
   },
   {
    "duration": 5075,
    "start_time": "2022-03-12T20:00:57.207Z"
   },
   {
    "duration": 2995,
    "start_time": "2022-03-12T20:01:14.373Z"
   },
   {
    "duration": 3831,
    "start_time": "2022-03-12T20:01:24.942Z"
   },
   {
    "duration": 8294,
    "start_time": "2022-03-12T20:01:57.371Z"
   },
   {
    "duration": 6815,
    "start_time": "2022-03-12T20:03:31.073Z"
   },
   {
    "duration": 1541,
    "start_time": "2022-03-12T20:04:51.033Z"
   },
   {
    "duration": 1256,
    "start_time": "2022-03-12T20:04:56.746Z"
   },
   {
    "duration": 1332,
    "start_time": "2022-03-12T20:06:05.917Z"
   },
   {
    "duration": 23027,
    "start_time": "2022-03-12T20:07:15.826Z"
   },
   {
    "duration": 7228,
    "start_time": "2022-03-12T20:08:45.909Z"
   },
   {
    "duration": 128,
    "start_time": "2022-03-12T20:09:10.074Z"
   },
   {
    "duration": 19,
    "start_time": "2022-03-12T20:09:16.466Z"
   },
   {
    "duration": 222,
    "start_time": "2022-03-12T20:09:20.522Z"
   },
   {
    "duration": 1752,
    "start_time": "2022-03-12T20:09:51.568Z"
   },
   {
    "duration": 1630,
    "start_time": "2022-03-12T20:10:28.559Z"
   },
   {
    "duration": 12,
    "start_time": "2022-03-12T20:10:48.380Z"
   },
   {
    "duration": 24597,
    "start_time": "2022-03-12T20:11:47.417Z"
   },
   {
    "duration": 13529,
    "start_time": "2022-03-12T20:12:49.112Z"
   },
   {
    "duration": 13077,
    "start_time": "2022-03-12T20:13:20.350Z"
   },
   {
    "duration": 19697,
    "start_time": "2022-03-12T20:14:03.838Z"
   },
   {
    "duration": 17280,
    "start_time": "2022-03-12T20:15:37.863Z"
   },
   {
    "duration": 3052,
    "start_time": "2022-03-12T20:16:22.496Z"
   },
   {
    "duration": 1189,
    "start_time": "2022-03-12T20:16:42.477Z"
   },
   {
    "duration": 12,
    "start_time": "2022-03-12T20:17:22.647Z"
   },
   {
    "duration": 11,
    "start_time": "2022-03-12T20:18:02.253Z"
   },
   {
    "duration": 17,
    "start_time": "2022-03-12T20:18:04.389Z"
   },
   {
    "duration": 164,
    "start_time": "2022-03-12T20:18:14.981Z"
   },
   {
    "duration": 1030,
    "start_time": "2022-03-12T20:18:35.628Z"
   },
   {
    "duration": 1042,
    "start_time": "2022-03-12T20:19:12.133Z"
   },
   {
    "duration": 804,
    "start_time": "2022-03-12T20:19:28.483Z"
   },
   {
    "duration": 13,
    "start_time": "2022-03-12T20:19:48.128Z"
   },
   {
    "duration": 10680,
    "start_time": "2022-03-12T20:20:49.678Z"
   },
   {
    "duration": 9371,
    "start_time": "2022-03-12T20:21:13.048Z"
   },
   {
    "duration": 12807,
    "start_time": "2022-03-12T20:21:29.547Z"
   },
   {
    "duration": 12800,
    "start_time": "2022-03-12T20:22:02.234Z"
   },
   {
    "duration": 6748,
    "start_time": "2022-03-12T20:22:31.761Z"
   },
   {
    "duration": 9938,
    "start_time": "2022-03-12T20:23:05.743Z"
   },
   {
    "duration": 9587,
    "start_time": "2022-03-12T20:23:49.579Z"
   },
   {
    "duration": 9713,
    "start_time": "2022-03-12T20:24:16.291Z"
   },
   {
    "duration": 19,
    "start_time": "2022-03-12T20:24:37.617Z"
   },
   {
    "duration": 1293,
    "start_time": "2022-03-12T20:25:06.662Z"
   },
   {
    "duration": 126,
    "start_time": "2022-03-12T20:25:07.956Z"
   },
   {
    "duration": 12,
    "start_time": "2022-03-12T20:25:08.084Z"
   },
   {
    "duration": 15,
    "start_time": "2022-03-12T20:25:08.098Z"
   },
   {
    "duration": 27,
    "start_time": "2022-03-12T20:25:08.115Z"
   },
   {
    "duration": 5,
    "start_time": "2022-03-12T20:25:08.144Z"
   },
   {
    "duration": 50,
    "start_time": "2022-03-12T20:25:08.151Z"
   },
   {
    "duration": 870,
    "start_time": "2022-03-12T20:25:08.204Z"
   },
   {
    "duration": 5,
    "start_time": "2022-03-12T20:25:09.076Z"
   },
   {
    "duration": 20,
    "start_time": "2022-03-12T20:25:09.082Z"
   },
   {
    "duration": 44,
    "start_time": "2022-03-12T20:25:09.104Z"
   },
   {
    "duration": 21,
    "start_time": "2022-03-12T20:25:09.150Z"
   },
   {
    "duration": 6,
    "start_time": "2022-03-12T20:25:09.173Z"
   },
   {
    "duration": 24,
    "start_time": "2022-03-12T20:25:09.181Z"
   },
   {
    "duration": 29,
    "start_time": "2022-03-12T20:25:09.207Z"
   },
   {
    "duration": 8,
    "start_time": "2022-03-12T20:25:09.238Z"
   },
   {
    "duration": 28,
    "start_time": "2022-03-12T20:25:09.248Z"
   },
   {
    "duration": 12,
    "start_time": "2022-03-12T20:25:09.278Z"
   },
   {
    "duration": 17,
    "start_time": "2022-03-12T20:25:09.292Z"
   },
   {
    "duration": 11,
    "start_time": "2022-03-12T20:25:09.333Z"
   },
   {
    "duration": 1195,
    "start_time": "2022-03-12T20:25:09.349Z"
   },
   {
    "duration": 853,
    "start_time": "2022-03-12T20:25:10.546Z"
   },
   {
    "duration": -206,
    "start_time": "2022-03-12T20:25:11.607Z"
   },
   {
    "duration": -212,
    "start_time": "2022-03-12T20:25:11.614Z"
   },
   {
    "duration": -218,
    "start_time": "2022-03-12T20:25:11.621Z"
   },
   {
    "duration": -223,
    "start_time": "2022-03-12T20:25:11.627Z"
   },
   {
    "duration": -228,
    "start_time": "2022-03-12T20:25:11.633Z"
   },
   {
    "duration": -232,
    "start_time": "2022-03-12T20:25:11.638Z"
   },
   {
    "duration": -238,
    "start_time": "2022-03-12T20:25:11.645Z"
   },
   {
    "duration": -241,
    "start_time": "2022-03-12T20:25:11.650Z"
   },
   {
    "duration": -247,
    "start_time": "2022-03-12T20:25:11.657Z"
   },
   {
    "duration": -251,
    "start_time": "2022-03-12T20:25:11.662Z"
   },
   {
    "duration": -257,
    "start_time": "2022-03-12T20:25:11.669Z"
   },
   {
    "duration": -262,
    "start_time": "2022-03-12T20:25:11.675Z"
   },
   {
    "duration": -267,
    "start_time": "2022-03-12T20:25:11.681Z"
   },
   {
    "duration": -272,
    "start_time": "2022-03-12T20:25:11.687Z"
   },
   {
    "duration": -277,
    "start_time": "2022-03-12T20:25:11.693Z"
   },
   {
    "duration": -292,
    "start_time": "2022-03-12T20:25:11.709Z"
   },
   {
    "duration": -297,
    "start_time": "2022-03-12T20:25:11.715Z"
   },
   {
    "duration": -302,
    "start_time": "2022-03-12T20:25:11.721Z"
   },
   {
    "duration": -307,
    "start_time": "2022-03-12T20:25:11.727Z"
   },
   {
    "duration": -312,
    "start_time": "2022-03-12T20:25:11.733Z"
   },
   {
    "duration": -317,
    "start_time": "2022-03-12T20:25:11.739Z"
   },
   {
    "duration": -322,
    "start_time": "2022-03-12T20:25:11.744Z"
   },
   {
    "duration": -328,
    "start_time": "2022-03-12T20:25:11.751Z"
   },
   {
    "duration": 5,
    "start_time": "2022-03-12T20:25:40.024Z"
   },
   {
    "duration": 152,
    "start_time": "2022-03-12T20:25:40.031Z"
   },
   {
    "duration": 19,
    "start_time": "2022-03-12T20:25:40.186Z"
   },
   {
    "duration": 27,
    "start_time": "2022-03-12T20:25:40.208Z"
   },
   {
    "duration": 20,
    "start_time": "2022-03-12T20:25:40.237Z"
   },
   {
    "duration": 6,
    "start_time": "2022-03-12T20:25:40.259Z"
   },
   {
    "duration": 107,
    "start_time": "2022-03-12T20:25:40.268Z"
   },
   {
    "duration": 1319,
    "start_time": "2022-03-12T20:25:40.378Z"
   },
   {
    "duration": 6,
    "start_time": "2022-03-12T20:25:41.699Z"
   },
   {
    "duration": 36,
    "start_time": "2022-03-12T20:25:41.707Z"
   },
   {
    "duration": 19,
    "start_time": "2022-03-12T20:25:41.745Z"
   },
   {
    "duration": 19,
    "start_time": "2022-03-12T20:25:41.766Z"
   },
   {
    "duration": 5,
    "start_time": "2022-03-12T20:25:41.787Z"
   },
   {
    "duration": 56,
    "start_time": "2022-03-12T20:25:41.794Z"
   },
   {
    "duration": 10,
    "start_time": "2022-03-12T20:25:41.853Z"
   },
   {
    "duration": 6,
    "start_time": "2022-03-12T20:25:41.866Z"
   },
   {
    "duration": 22,
    "start_time": "2022-03-12T20:25:41.874Z"
   },
   {
    "duration": 40,
    "start_time": "2022-03-12T20:25:41.898Z"
   },
   {
    "duration": 17,
    "start_time": "2022-03-12T20:25:41.943Z"
   },
   {
    "duration": 6,
    "start_time": "2022-03-12T20:25:41.962Z"
   },
   {
    "duration": 1385,
    "start_time": "2022-03-12T20:25:41.970Z"
   },
   {
    "duration": 25679,
    "start_time": "2022-03-12T20:25:43.357Z"
   },
   {
    "duration": 98,
    "start_time": "2022-03-12T20:26:09.038Z"
   },
   {
    "duration": 13,
    "start_time": "2022-03-12T20:26:09.138Z"
   },
   {
    "duration": 236,
    "start_time": "2022-03-12T20:26:09.154Z"
   },
   {
    "duration": 448,
    "start_time": "2022-03-12T20:26:09.392Z"
   },
   {
    "duration": 204,
    "start_time": "2022-03-12T20:26:09.842Z"
   },
   {
    "duration": 1358,
    "start_time": "2022-03-12T20:26:10.049Z"
   },
   {
    "duration": 11,
    "start_time": "2022-03-12T20:26:11.408Z"
   },
   {
    "duration": 7476,
    "start_time": "2022-03-12T20:26:11.435Z"
   },
   {
    "duration": 19,
    "start_time": "2022-03-12T20:26:18.914Z"
   },
   {
    "duration": 15,
    "start_time": "2022-03-12T20:26:18.938Z"
   },
   {
    "duration": 19,
    "start_time": "2022-03-12T20:26:18.955Z"
   },
   {
    "duration": 178,
    "start_time": "2022-03-12T20:26:18.976Z"
   },
   {
    "duration": 1829,
    "start_time": "2022-03-12T20:26:19.156Z"
   },
   {
    "duration": 20,
    "start_time": "2022-03-12T20:26:20.987Z"
   },
   {
    "duration": 18684,
    "start_time": "2022-03-12T20:26:21.009Z"
   },
   {
    "duration": 10,
    "start_time": "2022-03-12T20:26:39.695Z"
   },
   {
    "duration": 38,
    "start_time": "2022-03-12T20:26:39.707Z"
   },
   {
    "duration": 17,
    "start_time": "2022-03-12T20:26:39.748Z"
   },
   {
    "duration": 170,
    "start_time": "2022-03-12T20:26:39.767Z"
   },
   {
    "duration": 942,
    "start_time": "2022-03-12T20:26:39.962Z"
   },
   {
    "duration": 10,
    "start_time": "2022-03-12T20:26:40.906Z"
   },
   {
    "duration": 10281,
    "start_time": "2022-03-12T20:26:40.933Z"
   },
   {
    "duration": 23,
    "start_time": "2022-03-12T20:26:51.216Z"
   },
   {
    "duration": 28,
    "start_time": "2022-03-12T20:26:51.241Z"
   },
   {
    "duration": 516,
    "start_time": "2022-03-12T20:29:22.591Z"
   },
   {
    "duration": 12,
    "start_time": "2022-03-12T20:29:36.222Z"
   },
   {
    "duration": 8,
    "start_time": "2022-03-12T20:30:07.996Z"
   },
   {
    "duration": 10,
    "start_time": "2022-03-12T20:30:12.922Z"
   },
   {
    "duration": 5,
    "start_time": "2022-03-12T20:30:21.073Z"
   },
   {
    "duration": 117,
    "start_time": "2022-03-12T20:30:21.080Z"
   },
   {
    "duration": 12,
    "start_time": "2022-03-12T20:30:21.200Z"
   },
   {
    "duration": 16,
    "start_time": "2022-03-12T20:30:21.215Z"
   },
   {
    "duration": 42,
    "start_time": "2022-03-12T20:30:21.232Z"
   },
   {
    "duration": 5,
    "start_time": "2022-03-12T20:30:21.276Z"
   },
   {
    "duration": 42,
    "start_time": "2022-03-12T20:30:21.283Z"
   },
   {
    "duration": 1413,
    "start_time": "2022-03-12T20:30:21.326Z"
   },
   {
    "duration": 6,
    "start_time": "2022-03-12T20:30:22.740Z"
   },
   {
    "duration": 30,
    "start_time": "2022-03-12T20:30:22.747Z"
   },
   {
    "duration": 56,
    "start_time": "2022-03-12T20:30:22.779Z"
   },
   {
    "duration": 22,
    "start_time": "2022-03-12T20:30:22.837Z"
   },
   {
    "duration": 6,
    "start_time": "2022-03-12T20:30:22.861Z"
   },
   {
    "duration": 81,
    "start_time": "2022-03-12T20:30:22.869Z"
   },
   {
    "duration": 9,
    "start_time": "2022-03-12T20:30:22.952Z"
   },
   {
    "duration": 6,
    "start_time": "2022-03-12T20:30:22.963Z"
   },
   {
    "duration": 20,
    "start_time": "2022-03-12T20:30:22.971Z"
   },
   {
    "duration": 11,
    "start_time": "2022-03-12T20:30:22.993Z"
   },
   {
    "duration": 15,
    "start_time": "2022-03-12T20:30:23.040Z"
   },
   {
    "duration": 6,
    "start_time": "2022-03-12T20:30:23.058Z"
   },
   {
    "duration": 1309,
    "start_time": "2022-03-12T20:30:23.066Z"
   },
   {
    "duration": 26291,
    "start_time": "2022-03-12T20:30:24.376Z"
   },
   {
    "duration": 177,
    "start_time": "2022-03-12T20:30:50.669Z"
   },
   {
    "duration": 86,
    "start_time": "2022-03-12T20:30:50.852Z"
   },
   {
    "duration": 199,
    "start_time": "2022-03-12T20:30:50.940Z"
   },
   {
    "duration": 394,
    "start_time": "2022-03-12T20:30:51.143Z"
   },
   {
    "duration": 198,
    "start_time": "2022-03-12T20:30:51.539Z"
   },
   {
    "duration": 1373,
    "start_time": "2022-03-12T20:30:51.740Z"
   },
   {
    "duration": 25,
    "start_time": "2022-03-12T20:30:53.115Z"
   },
   {
    "duration": 6479,
    "start_time": "2022-03-12T20:30:53.141Z"
   },
   {
    "duration": 15,
    "start_time": "2022-03-12T20:30:59.634Z"
   },
   {
    "duration": 13,
    "start_time": "2022-03-12T20:30:59.651Z"
   },
   {
    "duration": 19,
    "start_time": "2022-03-12T20:30:59.665Z"
   },
   {
    "duration": 155,
    "start_time": "2022-03-12T20:30:59.685Z"
   },
   {
    "duration": 2269,
    "start_time": "2022-03-12T20:30:59.842Z"
   },
   {
    "duration": 29,
    "start_time": "2022-03-12T20:31:02.113Z"
   },
   {
    "duration": 21045,
    "start_time": "2022-03-12T20:31:02.144Z"
   },
   {
    "duration": 14,
    "start_time": "2022-03-12T20:31:23.191Z"
   },
   {
    "duration": 33,
    "start_time": "2022-03-12T20:31:23.207Z"
   },
   {
    "duration": 25,
    "start_time": "2022-03-12T20:31:23.243Z"
   },
   {
    "duration": 165,
    "start_time": "2022-03-12T20:31:23.270Z"
   },
   {
    "duration": 767,
    "start_time": "2022-03-12T20:31:23.437Z"
   },
   {
    "duration": 9,
    "start_time": "2022-03-12T20:31:24.205Z"
   },
   {
    "duration": 9358,
    "start_time": "2022-03-12T20:31:24.216Z"
   },
   {
    "duration": 13,
    "start_time": "2022-03-12T20:31:33.576Z"
   },
   {
    "duration": 14,
    "start_time": "2022-03-12T20:31:33.591Z"
   },
   {
    "duration": 22,
    "start_time": "2022-03-12T20:31:46.383Z"
   },
   {
    "duration": 5,
    "start_time": "2022-03-12T20:32:10.629Z"
   },
   {
    "duration": 5164,
    "start_time": "2022-03-12T20:32:59.099Z"
   },
   {
    "duration": 140,
    "start_time": "2022-03-12T20:33:42.978Z"
   },
   {
    "duration": 16,
    "start_time": "2022-03-12T20:34:36.447Z"
   },
   {
    "duration": 9,
    "start_time": "2022-03-12T20:35:14.603Z"
   },
   {
    "duration": 14,
    "start_time": "2022-03-12T20:35:15.818Z"
   },
   {
    "duration": 8,
    "start_time": "2022-03-12T20:37:25.645Z"
   },
   {
    "duration": 12,
    "start_time": "2022-03-12T20:37:30.980Z"
   },
   {
    "duration": 5,
    "start_time": "2022-03-12T20:38:03.821Z"
   },
   {
    "duration": 132,
    "start_time": "2022-03-12T20:38:03.827Z"
   },
   {
    "duration": 11,
    "start_time": "2022-03-12T20:38:03.961Z"
   },
   {
    "duration": 12,
    "start_time": "2022-03-12T20:38:03.974Z"
   },
   {
    "duration": 15,
    "start_time": "2022-03-12T20:38:03.988Z"
   },
   {
    "duration": 32,
    "start_time": "2022-03-12T20:38:04.005Z"
   },
   {
    "duration": 98,
    "start_time": "2022-03-12T20:38:04.039Z"
   },
   {
    "duration": 1211,
    "start_time": "2022-03-12T20:38:04.139Z"
   },
   {
    "duration": 4,
    "start_time": "2022-03-12T20:38:05.352Z"
   },
   {
    "duration": 18,
    "start_time": "2022-03-12T20:38:05.358Z"
   },
   {
    "duration": 13,
    "start_time": "2022-03-12T20:38:05.378Z"
   },
   {
    "duration": 13,
    "start_time": "2022-03-12T20:38:05.392Z"
   },
   {
    "duration": 36,
    "start_time": "2022-03-12T20:38:05.407Z"
   },
   {
    "duration": 28,
    "start_time": "2022-03-12T20:38:05.446Z"
   },
   {
    "duration": 7,
    "start_time": "2022-03-12T20:38:05.476Z"
   },
   {
    "duration": 6,
    "start_time": "2022-03-12T20:38:05.485Z"
   },
   {
    "duration": 44,
    "start_time": "2022-03-12T20:38:05.493Z"
   },
   {
    "duration": 13,
    "start_time": "2022-03-12T20:38:05.542Z"
   },
   {
    "duration": 10,
    "start_time": "2022-03-12T20:38:05.559Z"
   },
   {
    "duration": 6,
    "start_time": "2022-03-12T20:38:05.571Z"
   },
   {
    "duration": 1193,
    "start_time": "2022-03-12T20:38:05.579Z"
   },
   {
    "duration": 25795,
    "start_time": "2022-03-12T20:38:06.774Z"
   },
   {
    "duration": 79,
    "start_time": "2022-03-12T20:38:32.571Z"
   },
   {
    "duration": 90,
    "start_time": "2022-03-12T20:38:32.653Z"
   },
   {
    "duration": 199,
    "start_time": "2022-03-12T20:38:32.746Z"
   },
   {
    "duration": 609,
    "start_time": "2022-03-12T20:38:32.947Z"
   },
   {
    "duration": 278,
    "start_time": "2022-03-12T20:38:33.559Z"
   },
   {
    "duration": 1740,
    "start_time": "2022-03-12T20:38:33.839Z"
   },
   {
    "duration": 12,
    "start_time": "2022-03-12T20:38:35.581Z"
   },
   {
    "duration": 7922,
    "start_time": "2022-03-12T20:38:35.595Z"
   },
   {
    "duration": 27,
    "start_time": "2022-03-12T20:38:43.518Z"
   },
   {
    "duration": 16,
    "start_time": "2022-03-12T20:38:43.548Z"
   },
   {
    "duration": 23,
    "start_time": "2022-03-12T20:38:43.566Z"
   },
   {
    "duration": 344,
    "start_time": "2022-03-12T20:38:43.591Z"
   },
   {
    "duration": 1967,
    "start_time": "2022-03-12T20:38:43.937Z"
   },
   {
    "duration": 39,
    "start_time": "2022-03-12T20:38:45.907Z"
   },
   {
    "duration": 20932,
    "start_time": "2022-03-12T20:38:45.947Z"
   },
   {
    "duration": 13,
    "start_time": "2022-03-12T20:39:06.881Z"
   },
   {
    "duration": 38,
    "start_time": "2022-03-12T20:39:06.896Z"
   },
   {
    "duration": 27,
    "start_time": "2022-03-12T20:39:06.937Z"
   },
   {
    "duration": 88,
    "start_time": "2022-03-12T20:39:06.966Z"
   },
   {
    "duration": 1019,
    "start_time": "2022-03-12T20:39:07.056Z"
   },
   {
    "duration": 14,
    "start_time": "2022-03-12T20:39:08.077Z"
   },
   {
    "duration": 12620,
    "start_time": "2022-03-12T20:39:08.092Z"
   },
   {
    "duration": 22,
    "start_time": "2022-03-12T20:39:20.713Z"
   },
   {
    "duration": 15,
    "start_time": "2022-03-12T20:39:20.737Z"
   },
   {
    "duration": 3,
    "start_time": "2022-03-12T20:39:47.421Z"
   },
   {
    "duration": 5,
    "start_time": "2022-03-12T20:39:51.883Z"
   },
   {
    "duration": 169,
    "start_time": "2022-03-12T20:40:06.290Z"
   },
   {
    "duration": 278,
    "start_time": "2022-03-12T20:40:37.265Z"
   },
   {
    "duration": 191,
    "start_time": "2022-03-12T20:42:22.253Z"
   },
   {
    "duration": 272,
    "start_time": "2022-03-12T20:42:37.151Z"
   },
   {
    "duration": 41,
    "start_time": "2022-03-12T20:44:32.390Z"
   },
   {
    "duration": 129,
    "start_time": "2022-03-12T20:44:42.214Z"
   },
   {
    "duration": 115,
    "start_time": "2022-03-12T20:44:50.724Z"
   },
   {
    "duration": 274,
    "start_time": "2022-03-12T20:44:54.987Z"
   },
   {
    "duration": 4,
    "start_time": "2022-03-12T20:47:45.815Z"
   },
   {
    "duration": 117,
    "start_time": "2022-03-12T20:47:45.823Z"
   },
   {
    "duration": 13,
    "start_time": "2022-03-12T20:47:45.942Z"
   },
   {
    "duration": 14,
    "start_time": "2022-03-12T20:47:45.957Z"
   },
   {
    "duration": 16,
    "start_time": "2022-03-12T20:47:45.973Z"
   },
   {
    "duration": 4,
    "start_time": "2022-03-12T20:47:45.991Z"
   },
   {
    "duration": 74,
    "start_time": "2022-03-12T20:47:45.997Z"
   },
   {
    "duration": 815,
    "start_time": "2022-03-12T20:47:46.073Z"
   },
   {
    "duration": 5,
    "start_time": "2022-03-12T20:47:46.890Z"
   },
   {
    "duration": 16,
    "start_time": "2022-03-12T20:47:46.897Z"
   },
   {
    "duration": 40,
    "start_time": "2022-03-12T20:47:46.914Z"
   },
   {
    "duration": 21,
    "start_time": "2022-03-12T20:47:46.956Z"
   },
   {
    "duration": 4,
    "start_time": "2022-03-12T20:47:46.980Z"
   },
   {
    "duration": 49,
    "start_time": "2022-03-12T20:47:46.986Z"
   },
   {
    "duration": 10,
    "start_time": "2022-03-12T20:47:47.039Z"
   },
   {
    "duration": 12,
    "start_time": "2022-03-12T20:47:47.051Z"
   },
   {
    "duration": 26,
    "start_time": "2022-03-12T20:47:47.065Z"
   },
   {
    "duration": 12,
    "start_time": "2022-03-12T20:47:47.093Z"
   },
   {
    "duration": 41,
    "start_time": "2022-03-12T20:47:47.106Z"
   },
   {
    "duration": 7,
    "start_time": "2022-03-12T20:47:47.149Z"
   },
   {
    "duration": 1207,
    "start_time": "2022-03-12T20:47:47.158Z"
   },
   {
    "duration": 23200,
    "start_time": "2022-03-12T20:47:48.367Z"
   },
   {
    "duration": 89,
    "start_time": "2022-03-12T20:48:11.569Z"
   },
   {
    "duration": 14,
    "start_time": "2022-03-12T20:48:11.737Z"
   },
   {
    "duration": 186,
    "start_time": "2022-03-12T20:48:11.758Z"
   },
   {
    "duration": 478,
    "start_time": "2022-03-12T20:48:11.946Z"
   },
   {
    "duration": 116,
    "start_time": "2022-03-12T20:48:12.426Z"
   },
   {
    "duration": 1382,
    "start_time": "2022-03-12T20:48:12.544Z"
   },
   {
    "duration": 21,
    "start_time": "2022-03-12T20:48:13.928Z"
   },
   {
    "duration": 7302,
    "start_time": "2022-03-12T20:48:13.951Z"
   },
   {
    "duration": 10,
    "start_time": "2022-03-12T20:48:21.255Z"
   },
   {
    "duration": 11,
    "start_time": "2022-03-12T20:48:21.267Z"
   },
   {
    "duration": 18,
    "start_time": "2022-03-12T20:48:21.279Z"
   },
   {
    "duration": 152,
    "start_time": "2022-03-12T20:48:21.299Z"
   },
   {
    "duration": 2136,
    "start_time": "2022-03-12T20:48:21.453Z"
   },
   {
    "duration": 11,
    "start_time": "2022-03-12T20:48:23.590Z"
   },
   {
    "duration": 15481,
    "start_time": "2022-03-12T20:48:23.603Z"
   },
   {
    "duration": 12,
    "start_time": "2022-03-12T20:48:39.086Z"
   },
   {
    "duration": 15,
    "start_time": "2022-03-12T20:48:39.099Z"
   },
   {
    "duration": 45,
    "start_time": "2022-03-12T20:48:39.115Z"
   },
   {
    "duration": 184,
    "start_time": "2022-03-12T20:48:39.163Z"
   },
   {
    "duration": 1071,
    "start_time": "2022-03-12T20:48:39.350Z"
   },
   {
    "duration": 23,
    "start_time": "2022-03-12T20:48:40.423Z"
   },
   {
    "duration": 10588,
    "start_time": "2022-03-12T20:48:40.447Z"
   },
   {
    "duration": 15,
    "start_time": "2022-03-12T20:48:51.037Z"
   },
   {
    "duration": 14,
    "start_time": "2022-03-12T20:48:51.054Z"
   },
   {
    "duration": 4,
    "start_time": "2022-03-12T20:48:51.070Z"
   },
   {
    "duration": 8,
    "start_time": "2022-03-12T20:48:51.076Z"
   },
   {
    "duration": 157,
    "start_time": "2022-03-12T20:48:51.086Z"
   },
   {
    "duration": 366,
    "start_time": "2022-03-12T20:48:51.245Z"
   },
   {
    "duration": 27,
    "start_time": "2022-03-12T20:48:51.612Z"
   },
   {
    "duration": 11,
    "start_time": "2022-03-12T20:48:51.641Z"
   },
   {
    "duration": 94,
    "start_time": "2022-03-12T20:49:45.245Z"
   },
   {
    "duration": 91,
    "start_time": "2022-03-12T20:51:08.351Z"
   },
   {
    "duration": 285,
    "start_time": "2022-03-12T20:51:21.862Z"
   },
   {
    "duration": 25,
    "start_time": "2022-03-12T20:51:33.878Z"
   },
   {
    "duration": 1286,
    "start_time": "2022-03-12T20:52:17.984Z"
   },
   {
    "duration": 126,
    "start_time": "2022-03-12T20:52:19.272Z"
   },
   {
    "duration": 12,
    "start_time": "2022-03-12T20:52:19.403Z"
   },
   {
    "duration": 13,
    "start_time": "2022-03-12T20:52:19.417Z"
   },
   {
    "duration": 28,
    "start_time": "2022-03-12T20:52:19.432Z"
   },
   {
    "duration": 5,
    "start_time": "2022-03-12T20:52:19.461Z"
   },
   {
    "duration": 43,
    "start_time": "2022-03-12T20:52:19.469Z"
   },
   {
    "duration": 881,
    "start_time": "2022-03-12T20:52:19.514Z"
   },
   {
    "duration": 5,
    "start_time": "2022-03-12T20:52:20.397Z"
   },
   {
    "duration": 32,
    "start_time": "2022-03-12T20:52:20.404Z"
   },
   {
    "duration": 17,
    "start_time": "2022-03-12T20:52:20.437Z"
   },
   {
    "duration": 13,
    "start_time": "2022-03-12T20:52:20.455Z"
   },
   {
    "duration": 4,
    "start_time": "2022-03-12T20:52:20.469Z"
   },
   {
    "duration": 34,
    "start_time": "2022-03-12T20:52:20.475Z"
   },
   {
    "duration": 14,
    "start_time": "2022-03-12T20:52:20.533Z"
   },
   {
    "duration": 11,
    "start_time": "2022-03-12T20:52:20.550Z"
   },
   {
    "duration": 22,
    "start_time": "2022-03-12T20:52:20.563Z"
   },
   {
    "duration": 11,
    "start_time": "2022-03-12T20:52:20.587Z"
   },
   {
    "duration": 45,
    "start_time": "2022-03-12T20:52:20.599Z"
   },
   {
    "duration": 13,
    "start_time": "2022-03-12T20:52:20.646Z"
   },
   {
    "duration": 1193,
    "start_time": "2022-03-12T20:52:20.660Z"
   },
   {
    "duration": 26031,
    "start_time": "2022-03-12T20:52:21.857Z"
   },
   {
    "duration": 60,
    "start_time": "2022-03-12T20:52:47.891Z"
   },
   {
    "duration": 103,
    "start_time": "2022-03-12T20:52:47.952Z"
   },
   {
    "duration": 188,
    "start_time": "2022-03-12T20:52:48.059Z"
   },
   {
    "duration": 471,
    "start_time": "2022-03-12T20:52:48.252Z"
   },
   {
    "duration": 220,
    "start_time": "2022-03-12T20:52:48.732Z"
   },
   {
    "duration": 1478,
    "start_time": "2022-03-12T20:52:48.956Z"
   },
   {
    "duration": 12,
    "start_time": "2022-03-12T20:52:50.436Z"
   },
   {
    "duration": 7436,
    "start_time": "2022-03-12T20:52:50.452Z"
   },
   {
    "duration": 10,
    "start_time": "2022-03-12T20:52:57.890Z"
   },
   {
    "duration": 14,
    "start_time": "2022-03-12T20:52:57.902Z"
   },
   {
    "duration": 24,
    "start_time": "2022-03-12T20:52:57.933Z"
   },
   {
    "duration": 182,
    "start_time": "2022-03-12T20:52:57.959Z"
   },
   {
    "duration": 1755,
    "start_time": "2022-03-12T20:52:58.145Z"
   },
   {
    "duration": 11,
    "start_time": "2022-03-12T20:52:59.902Z"
   },
   {
    "duration": 18567,
    "start_time": "2022-03-12T20:52:59.935Z"
   },
   {
    "duration": 11,
    "start_time": "2022-03-12T20:53:18.504Z"
   },
   {
    "duration": 31,
    "start_time": "2022-03-12T20:53:18.516Z"
   },
   {
    "duration": 21,
    "start_time": "2022-03-12T20:53:18.549Z"
   },
   {
    "duration": 80,
    "start_time": "2022-03-12T20:53:18.571Z"
   },
   {
    "duration": 917,
    "start_time": "2022-03-12T20:53:18.732Z"
   },
   {
    "duration": 19,
    "start_time": "2022-03-12T20:53:19.652Z"
   },
   {
    "duration": 9650,
    "start_time": "2022-03-12T20:53:19.673Z"
   },
   {
    "duration": 16,
    "start_time": "2022-03-12T20:53:29.332Z"
   },
   {
    "duration": 24,
    "start_time": "2022-03-12T20:53:29.351Z"
   },
   {
    "duration": 7,
    "start_time": "2022-03-12T20:53:29.377Z"
   },
   {
    "duration": 12,
    "start_time": "2022-03-12T20:53:29.386Z"
   },
   {
    "duration": 238,
    "start_time": "2022-03-12T20:53:29.400Z"
   },
   {
    "duration": 374,
    "start_time": "2022-03-12T20:53:29.640Z"
   },
   {
    "duration": 31,
    "start_time": "2022-03-12T20:53:30.016Z"
   },
   {
    "duration": 10,
    "start_time": "2022-03-12T20:53:30.049Z"
   },
   {
    "duration": 105,
    "start_time": "2022-03-12T20:54:23.833Z"
   },
   {
    "duration": 1157,
    "start_time": "2022-03-12T20:56:17.497Z"
   },
   {
    "duration": 141,
    "start_time": "2022-03-12T20:56:18.656Z"
   },
   {
    "duration": 16,
    "start_time": "2022-03-12T20:56:18.800Z"
   },
   {
    "duration": 15,
    "start_time": "2022-03-12T20:56:18.818Z"
   },
   {
    "duration": 21,
    "start_time": "2022-03-12T20:56:18.841Z"
   },
   {
    "duration": 4,
    "start_time": "2022-03-12T20:56:18.864Z"
   },
   {
    "duration": 43,
    "start_time": "2022-03-12T20:56:18.870Z"
   },
   {
    "duration": 868,
    "start_time": "2022-03-12T20:56:18.915Z"
   },
   {
    "duration": 5,
    "start_time": "2022-03-12T20:56:19.785Z"
   },
   {
    "duration": 18,
    "start_time": "2022-03-12T20:56:19.791Z"
   },
   {
    "duration": 31,
    "start_time": "2022-03-12T20:56:19.811Z"
   },
   {
    "duration": 15,
    "start_time": "2022-03-12T20:56:19.844Z"
   },
   {
    "duration": 4,
    "start_time": "2022-03-12T20:56:19.861Z"
   },
   {
    "duration": 40,
    "start_time": "2022-03-12T20:56:19.867Z"
   },
   {
    "duration": 15,
    "start_time": "2022-03-12T20:56:19.935Z"
   },
   {
    "duration": 15,
    "start_time": "2022-03-12T20:56:19.952Z"
   },
   {
    "duration": 28,
    "start_time": "2022-03-12T20:56:19.969Z"
   },
   {
    "duration": 12,
    "start_time": "2022-03-12T20:56:19.998Z"
   },
   {
    "duration": 33,
    "start_time": "2022-03-12T20:56:20.012Z"
   },
   {
    "duration": 22,
    "start_time": "2022-03-12T20:56:20.047Z"
   },
   {
    "duration": 1202,
    "start_time": "2022-03-12T20:56:20.071Z"
   },
   {
    "duration": 22450,
    "start_time": "2022-03-12T20:56:21.275Z"
   },
   {
    "duration": 105,
    "start_time": "2022-03-12T20:56:43.738Z"
   },
   {
    "duration": 95,
    "start_time": "2022-03-12T20:56:43.849Z"
   },
   {
    "duration": 103,
    "start_time": "2022-03-12T20:56:43.948Z"
   },
   {
    "duration": 596,
    "start_time": "2022-03-12T20:56:44.053Z"
   },
   {
    "duration": 190,
    "start_time": "2022-03-12T20:56:44.651Z"
   },
   {
    "duration": 1495,
    "start_time": "2022-03-12T20:56:44.843Z"
   },
   {
    "duration": 12,
    "start_time": "2022-03-12T20:56:46.340Z"
   },
   {
    "duration": 8437,
    "start_time": "2022-03-12T20:56:46.356Z"
   },
   {
    "duration": 10,
    "start_time": "2022-03-12T20:56:54.795Z"
   },
   {
    "duration": 11,
    "start_time": "2022-03-12T20:56:54.807Z"
   },
   {
    "duration": 27,
    "start_time": "2022-03-12T20:56:54.833Z"
   },
   {
    "duration": 282,
    "start_time": "2022-03-12T20:56:54.862Z"
   },
   {
    "duration": 1542,
    "start_time": "2022-03-12T20:56:55.148Z"
   },
   {
    "duration": 11,
    "start_time": "2022-03-12T20:56:56.692Z"
   },
   {
    "duration": 15500,
    "start_time": "2022-03-12T20:56:56.705Z"
   },
   {
    "duration": 11,
    "start_time": "2022-03-12T20:57:12.207Z"
   },
   {
    "duration": 31,
    "start_time": "2022-03-12T20:57:12.220Z"
   },
   {
    "duration": 19,
    "start_time": "2022-03-12T20:57:12.253Z"
   },
   {
    "duration": 170,
    "start_time": "2022-03-12T20:57:12.275Z"
   },
   {
    "duration": 859,
    "start_time": "2022-03-12T20:57:12.449Z"
   },
   {
    "duration": 26,
    "start_time": "2022-03-12T20:57:13.310Z"
   },
   {
    "duration": 11486,
    "start_time": "2022-03-12T20:57:13.338Z"
   },
   {
    "duration": 13,
    "start_time": "2022-03-12T20:57:24.833Z"
   },
   {
    "duration": 14,
    "start_time": "2022-03-12T20:57:24.849Z"
   },
   {
    "duration": 5,
    "start_time": "2022-03-12T20:57:24.865Z"
   },
   {
    "duration": 8,
    "start_time": "2022-03-12T20:57:24.872Z"
   },
   {
    "duration": 169,
    "start_time": "2022-03-12T20:57:24.882Z"
   },
   {
    "duration": 444,
    "start_time": "2022-03-12T20:57:25.057Z"
   },
   {
    "duration": 30,
    "start_time": "2022-03-12T20:57:25.503Z"
   },
   {
    "duration": 6,
    "start_time": "2022-03-12T20:57:25.535Z"
   },
   {
    "duration": 96,
    "start_time": "2022-03-12T20:59:49.462Z"
   },
   {
    "duration": 1459,
    "start_time": "2022-03-12T21:00:37.491Z"
   },
   {
    "duration": 1484,
    "start_time": "2022-03-12T21:01:04.674Z"
   },
   {
    "duration": 291,
    "start_time": "2022-03-12T21:01:58.750Z"
   },
   {
    "duration": 113,
    "start_time": "2022-03-12T21:03:13.626Z"
   },
   {
    "duration": 6,
    "start_time": "2022-03-12T21:06:16.030Z"
   },
   {
    "duration": 17,
    "start_time": "2022-03-12T21:07:36.400Z"
   },
   {
    "duration": 25,
    "start_time": "2022-03-12T21:07:48.816Z"
   },
   {
    "duration": 32,
    "start_time": "2022-03-12T21:08:42.246Z"
   },
   {
    "duration": 31,
    "start_time": "2022-03-12T21:08:46.675Z"
   },
   {
    "duration": 14,
    "start_time": "2022-03-12T21:09:23.948Z"
   },
   {
    "duration": 1209,
    "start_time": "2022-03-12T21:09:31.860Z"
   },
   {
    "duration": 127,
    "start_time": "2022-03-12T21:09:33.071Z"
   },
   {
    "duration": 11,
    "start_time": "2022-03-12T21:09:33.200Z"
   },
   {
    "duration": 12,
    "start_time": "2022-03-12T21:09:33.213Z"
   },
   {
    "duration": 21,
    "start_time": "2022-03-12T21:09:33.226Z"
   },
   {
    "duration": 6,
    "start_time": "2022-03-12T21:09:33.249Z"
   },
   {
    "duration": 43,
    "start_time": "2022-03-12T21:09:33.257Z"
   },
   {
    "duration": 850,
    "start_time": "2022-03-12T21:09:33.303Z"
   },
   {
    "duration": 5,
    "start_time": "2022-03-12T21:09:34.155Z"
   },
   {
    "duration": 15,
    "start_time": "2022-03-12T21:09:34.162Z"
   },
   {
    "duration": 12,
    "start_time": "2022-03-12T21:09:34.179Z"
   },
   {
    "duration": 12,
    "start_time": "2022-03-12T21:09:34.192Z"
   },
   {
    "duration": 29,
    "start_time": "2022-03-12T21:09:34.206Z"
   },
   {
    "duration": 42,
    "start_time": "2022-03-12T21:09:34.237Z"
   },
   {
    "duration": 8,
    "start_time": "2022-03-12T21:09:34.281Z"
   },
   {
    "duration": 7,
    "start_time": "2022-03-12T21:09:34.291Z"
   },
   {
    "duration": 53,
    "start_time": "2022-03-12T21:09:34.299Z"
   },
   {
    "duration": 12,
    "start_time": "2022-03-12T21:09:34.354Z"
   },
   {
    "duration": 11,
    "start_time": "2022-03-12T21:09:34.367Z"
   },
   {
    "duration": 7,
    "start_time": "2022-03-12T21:09:34.380Z"
   },
   {
    "duration": 1253,
    "start_time": "2022-03-12T21:09:34.389Z"
   },
   {
    "duration": 21309,
    "start_time": "2022-03-12T21:09:35.646Z"
   },
   {
    "duration": 93,
    "start_time": "2022-03-12T21:09:56.958Z"
   },
   {
    "duration": 102,
    "start_time": "2022-03-12T21:09:57.134Z"
   },
   {
    "duration": 112,
    "start_time": "2022-03-12T21:09:57.238Z"
   },
   {
    "duration": 387,
    "start_time": "2022-03-12T21:09:57.434Z"
   },
   {
    "duration": 121,
    "start_time": "2022-03-12T21:09:57.823Z"
   },
   {
    "duration": 1368,
    "start_time": "2022-03-12T21:09:57.947Z"
   },
   {
    "duration": 25,
    "start_time": "2022-03-12T21:09:59.317Z"
   },
   {
    "duration": 7856,
    "start_time": "2022-03-12T21:09:59.343Z"
   },
   {
    "duration": 11,
    "start_time": "2022-03-12T21:10:07.201Z"
   },
   {
    "duration": 30,
    "start_time": "2022-03-12T21:10:07.213Z"
   },
   {
    "duration": 26,
    "start_time": "2022-03-12T21:10:07.244Z"
   },
   {
    "duration": 167,
    "start_time": "2022-03-12T21:10:07.272Z"
   },
   {
    "duration": 1601,
    "start_time": "2022-03-12T21:10:07.441Z"
   },
   {
    "duration": 13,
    "start_time": "2022-03-12T21:10:09.044Z"
   },
   {
    "duration": 15623,
    "start_time": "2022-03-12T21:10:09.058Z"
   },
   {
    "duration": 10,
    "start_time": "2022-03-12T21:10:24.683Z"
   },
   {
    "duration": 17,
    "start_time": "2022-03-12T21:10:24.695Z"
   },
   {
    "duration": 36,
    "start_time": "2022-03-12T21:10:24.714Z"
   },
   {
    "duration": 92,
    "start_time": "2022-03-12T21:10:24.752Z"
   },
   {
    "duration": 849,
    "start_time": "2022-03-12T21:10:24.846Z"
   },
   {
    "duration": 9,
    "start_time": "2022-03-12T21:10:25.697Z"
   },
   {
    "duration": 9288,
    "start_time": "2022-03-12T21:10:25.708Z"
   },
   {
    "duration": 10,
    "start_time": "2022-03-12T21:10:34.997Z"
   },
   {
    "duration": 33,
    "start_time": "2022-03-12T21:10:35.008Z"
   },
   {
    "duration": 8,
    "start_time": "2022-03-12T21:10:35.043Z"
   },
   {
    "duration": 10,
    "start_time": "2022-03-12T21:10:35.052Z"
   },
   {
    "duration": 180,
    "start_time": "2022-03-12T21:10:35.064Z"
   },
   {
    "duration": 196,
    "start_time": "2022-03-12T21:10:35.246Z"
   },
   {
    "duration": 356,
    "start_time": "2022-03-12T21:10:35.447Z"
   },
   {
    "duration": 31,
    "start_time": "2022-03-12T21:10:35.805Z"
   },
   {
    "duration": 2,
    "start_time": "2022-03-12T21:10:35.840Z"
   },
   {
    "duration": 229,
    "start_time": "2022-03-12T21:18:35.278Z"
   },
   {
    "duration": 271,
    "start_time": "2022-03-12T21:19:39.658Z"
   },
   {
    "duration": 274,
    "start_time": "2022-03-12T21:21:44.779Z"
   },
   {
    "duration": 85,
    "start_time": "2022-03-12T21:26:49.825Z"
   },
   {
    "duration": 4,
    "start_time": "2022-03-12T21:27:16.393Z"
   },
   {
    "duration": 72264,
    "start_time": "2022-03-12T21:27:27.042Z"
   },
   {
    "duration": 1114,
    "start_time": "2022-03-12T21:40:55.416Z"
   },
   {
    "duration": 110,
    "start_time": "2022-03-12T21:40:56.533Z"
   },
   {
    "duration": 11,
    "start_time": "2022-03-12T21:40:56.645Z"
   },
   {
    "duration": 10,
    "start_time": "2022-03-12T21:40:56.658Z"
   },
   {
    "duration": 15,
    "start_time": "2022-03-12T21:40:56.670Z"
   },
   {
    "duration": 4,
    "start_time": "2022-03-12T21:40:56.687Z"
   },
   {
    "duration": 62,
    "start_time": "2022-03-12T21:40:56.692Z"
   },
   {
    "duration": 766,
    "start_time": "2022-03-12T21:40:56.757Z"
   },
   {
    "duration": 5,
    "start_time": "2022-03-12T21:40:57.533Z"
   },
   {
    "duration": 14,
    "start_time": "2022-03-12T21:40:57.540Z"
   },
   {
    "duration": 11,
    "start_time": "2022-03-12T21:40:57.556Z"
   },
   {
    "duration": 12,
    "start_time": "2022-03-12T21:40:57.569Z"
   },
   {
    "duration": 3,
    "start_time": "2022-03-12T21:40:57.583Z"
   },
   {
    "duration": 49,
    "start_time": "2022-03-12T21:40:57.588Z"
   },
   {
    "duration": 7,
    "start_time": "2022-03-12T21:40:57.639Z"
   },
   {
    "duration": 7,
    "start_time": "2022-03-12T21:40:57.648Z"
   },
   {
    "duration": 26,
    "start_time": "2022-03-12T21:40:57.656Z"
   },
   {
    "duration": 11,
    "start_time": "2022-03-12T21:40:57.684Z"
   },
   {
    "duration": 45,
    "start_time": "2022-03-12T21:40:57.696Z"
   },
   {
    "duration": 6,
    "start_time": "2022-03-12T21:40:57.743Z"
   },
   {
    "duration": 1085,
    "start_time": "2022-03-12T21:40:57.751Z"
   },
   {
    "duration": 20198,
    "start_time": "2022-03-12T21:40:58.837Z"
   },
   {
    "duration": 27,
    "start_time": "2022-03-12T21:41:19.040Z"
   },
   {
    "duration": 100,
    "start_time": "2022-03-12T21:41:19.135Z"
   },
   {
    "duration": 106,
    "start_time": "2022-03-12T21:41:19.236Z"
   },
   {
    "duration": 470,
    "start_time": "2022-03-12T21:41:19.344Z"
   },
   {
    "duration": 218,
    "start_time": "2022-03-12T21:41:19.816Z"
   },
   {
    "duration": 1257,
    "start_time": "2022-03-12T21:41:20.036Z"
   },
   {
    "duration": 10,
    "start_time": "2022-03-12T21:41:21.295Z"
   },
   {
    "duration": 6102,
    "start_time": "2022-03-12T21:41:21.307Z"
   },
   {
    "duration": 23,
    "start_time": "2022-03-12T21:41:27.411Z"
   },
   {
    "duration": 14,
    "start_time": "2022-03-12T21:41:27.435Z"
   },
   {
    "duration": 17,
    "start_time": "2022-03-12T21:41:27.451Z"
   },
   {
    "duration": 165,
    "start_time": "2022-03-12T21:41:27.470Z"
   },
   {
    "duration": 1473,
    "start_time": "2022-03-12T21:41:27.637Z"
   },
   {
    "duration": 9,
    "start_time": "2022-03-12T21:41:29.112Z"
   },
   {
    "duration": 14088,
    "start_time": "2022-03-12T21:41:29.132Z"
   },
   {
    "duration": 16,
    "start_time": "2022-03-12T21:41:43.221Z"
   },
   {
    "duration": 11,
    "start_time": "2022-03-12T21:41:43.238Z"
   },
   {
    "duration": 16,
    "start_time": "2022-03-12T21:41:43.250Z"
   },
   {
    "duration": 170,
    "start_time": "2022-03-12T21:41:43.268Z"
   },
   {
    "duration": 783,
    "start_time": "2022-03-12T21:41:43.440Z"
   },
   {
    "duration": 14,
    "start_time": "2022-03-12T21:41:44.225Z"
   },
   {
    "duration": 8961,
    "start_time": "2022-03-12T21:41:44.240Z"
   },
   {
    "duration": 11,
    "start_time": "2022-03-12T21:41:53.202Z"
   },
   {
    "duration": 26,
    "start_time": "2022-03-12T21:41:53.214Z"
   },
   {
    "duration": 4,
    "start_time": "2022-03-12T21:41:53.241Z"
   },
   {
    "duration": 6,
    "start_time": "2022-03-12T21:41:53.247Z"
   },
   {
    "duration": 187,
    "start_time": "2022-03-12T21:41:53.255Z"
   },
   {
    "duration": 201,
    "start_time": "2022-03-12T21:41:53.533Z"
   },
   {
    "duration": 304,
    "start_time": "2022-03-12T21:41:53.735Z"
   },
   {
    "duration": 17,
    "start_time": "2022-03-12T21:41:54.041Z"
   },
   {
    "duration": 3,
    "start_time": "2022-03-12T21:41:54.060Z"
   },
   {
    "duration": 17,
    "start_time": "2022-03-12T21:43:51.671Z"
   },
   {
    "duration": 1144,
    "start_time": "2022-03-12T21:46:02.830Z"
   },
   {
    "duration": 118,
    "start_time": "2022-03-12T21:46:03.976Z"
   },
   {
    "duration": 12,
    "start_time": "2022-03-12T21:46:04.097Z"
   },
   {
    "duration": 13,
    "start_time": "2022-03-12T21:46:04.111Z"
   },
   {
    "duration": 17,
    "start_time": "2022-03-12T21:46:04.126Z"
   },
   {
    "duration": 5,
    "start_time": "2022-03-12T21:46:04.145Z"
   },
   {
    "duration": 41,
    "start_time": "2022-03-12T21:46:04.152Z"
   },
   {
    "duration": 809,
    "start_time": "2022-03-12T21:46:04.196Z"
   },
   {
    "duration": 6,
    "start_time": "2022-03-12T21:46:05.007Z"
   },
   {
    "duration": 29,
    "start_time": "2022-03-12T21:46:05.015Z"
   },
   {
    "duration": 14,
    "start_time": "2022-03-12T21:46:05.046Z"
   },
   {
    "duration": 14,
    "start_time": "2022-03-12T21:46:05.061Z"
   },
   {
    "duration": 5,
    "start_time": "2022-03-12T21:46:05.077Z"
   },
   {
    "duration": 53,
    "start_time": "2022-03-12T21:46:05.083Z"
   },
   {
    "duration": 8,
    "start_time": "2022-03-12T21:46:05.139Z"
   },
   {
    "duration": 6,
    "start_time": "2022-03-12T21:46:05.149Z"
   },
   {
    "duration": 45,
    "start_time": "2022-03-12T21:46:05.157Z"
   },
   {
    "duration": 33,
    "start_time": "2022-03-12T21:46:05.205Z"
   },
   {
    "duration": 11,
    "start_time": "2022-03-12T21:46:05.240Z"
   },
   {
    "duration": 7,
    "start_time": "2022-03-12T21:46:05.252Z"
   },
   {
    "duration": 1175,
    "start_time": "2022-03-12T21:46:05.261Z"
   },
   {
    "duration": 20391,
    "start_time": "2022-03-12T21:46:06.438Z"
   },
   {
    "duration": 100,
    "start_time": "2022-03-12T21:46:26.834Z"
   },
   {
    "duration": 101,
    "start_time": "2022-03-12T21:46:26.938Z"
   },
   {
    "duration": 107,
    "start_time": "2022-03-12T21:46:27.040Z"
   },
   {
    "duration": 453,
    "start_time": "2022-03-12T21:46:27.150Z"
   },
   {
    "duration": 229,
    "start_time": "2022-03-12T21:46:27.605Z"
   },
   {
    "duration": 1241,
    "start_time": "2022-03-12T21:46:27.836Z"
   },
   {
    "duration": 11,
    "start_time": "2022-03-12T21:46:29.079Z"
   },
   {
    "duration": 6212,
    "start_time": "2022-03-12T21:46:29.091Z"
   },
   {
    "duration": 10,
    "start_time": "2022-03-12T21:46:35.304Z"
   },
   {
    "duration": 25,
    "start_time": "2022-03-12T21:46:35.316Z"
   },
   {
    "duration": 17,
    "start_time": "2022-03-12T21:46:35.342Z"
   },
   {
    "duration": 178,
    "start_time": "2022-03-12T21:46:35.360Z"
   },
   {
    "duration": 1447,
    "start_time": "2022-03-12T21:46:35.540Z"
   },
   {
    "duration": 10,
    "start_time": "2022-03-12T21:46:36.989Z"
   },
   {
    "duration": 14284,
    "start_time": "2022-03-12T21:46:37.001Z"
   },
   {
    "duration": 10,
    "start_time": "2022-03-12T21:46:51.286Z"
   },
   {
    "duration": 13,
    "start_time": "2022-03-12T21:46:51.297Z"
   },
   {
    "duration": 32,
    "start_time": "2022-03-12T21:46:51.312Z"
   },
   {
    "duration": 187,
    "start_time": "2022-03-12T21:46:51.345Z"
   },
   {
    "duration": 767,
    "start_time": "2022-03-12T21:46:51.534Z"
   },
   {
    "duration": 11,
    "start_time": "2022-03-12T21:46:52.302Z"
   },
   {
    "duration": 8883,
    "start_time": "2022-03-12T21:46:52.314Z"
   },
   {
    "duration": 10,
    "start_time": "2022-03-12T21:47:01.199Z"
   },
   {
    "duration": 24,
    "start_time": "2022-03-12T21:47:01.211Z"
   },
   {
    "duration": 6,
    "start_time": "2022-03-12T21:47:01.237Z"
   },
   {
    "duration": 9,
    "start_time": "2022-03-12T21:47:01.244Z"
   },
   {
    "duration": 182,
    "start_time": "2022-03-12T21:47:01.255Z"
   },
   {
    "duration": 294,
    "start_time": "2022-03-12T21:47:01.439Z"
   },
   {
    "duration": 280,
    "start_time": "2022-03-12T21:47:01.735Z"
   },
   {
    "duration": 27,
    "start_time": "2022-03-12T21:47:02.017Z"
   },
   {
    "duration": 14,
    "start_time": "2022-03-12T21:47:02.046Z"
   },
   {
    "duration": 53,
    "start_time": "2022-03-12T21:53:28.475Z"
   },
   {
    "duration": 299,
    "start_time": "2022-03-12T21:53:53.587Z"
   },
   {
    "duration": 215,
    "start_time": "2022-03-12T21:54:16.670Z"
   },
   {
    "duration": 248,
    "start_time": "2022-03-12T21:54:50.627Z"
   },
   {
    "duration": 212,
    "start_time": "2022-03-12T21:55:16.346Z"
   },
   {
    "duration": 129643,
    "start_time": "2022-03-12T21:55:25.704Z"
   },
   {
    "duration": 1048,
    "start_time": "2022-03-12T21:58:11.285Z"
   },
   {
    "duration": 107,
    "start_time": "2022-03-12T21:58:12.335Z"
   },
   {
    "duration": 11,
    "start_time": "2022-03-12T21:58:12.446Z"
   },
   {
    "duration": 11,
    "start_time": "2022-03-12T21:58:12.459Z"
   },
   {
    "duration": 17,
    "start_time": "2022-03-12T21:58:12.471Z"
   },
   {
    "duration": 4,
    "start_time": "2022-03-12T21:58:12.490Z"
   },
   {
    "duration": 72,
    "start_time": "2022-03-12T21:58:12.496Z"
   },
   {
    "duration": 767,
    "start_time": "2022-03-12T21:58:12.570Z"
   },
   {
    "duration": 4,
    "start_time": "2022-03-12T21:58:13.339Z"
   },
   {
    "duration": 21,
    "start_time": "2022-03-12T21:58:13.345Z"
   },
   {
    "duration": 12,
    "start_time": "2022-03-12T21:58:13.367Z"
   },
   {
    "duration": 12,
    "start_time": "2022-03-12T21:58:13.380Z"
   },
   {
    "duration": 4,
    "start_time": "2022-03-12T21:58:13.394Z"
   },
   {
    "duration": 50,
    "start_time": "2022-03-12T21:58:13.399Z"
   },
   {
    "duration": 8,
    "start_time": "2022-03-12T21:58:13.450Z"
   },
   {
    "duration": 6,
    "start_time": "2022-03-12T21:58:13.460Z"
   },
   {
    "duration": 27,
    "start_time": "2022-03-12T21:58:13.468Z"
   },
   {
    "duration": 38,
    "start_time": "2022-03-12T21:58:13.496Z"
   },
   {
    "duration": 12,
    "start_time": "2022-03-12T21:58:13.535Z"
   },
   {
    "duration": 6,
    "start_time": "2022-03-12T21:58:13.549Z"
   },
   {
    "duration": 1093,
    "start_time": "2022-03-12T21:58:13.557Z"
   },
   {
    "duration": 20150,
    "start_time": "2022-03-12T21:58:14.653Z"
   },
   {
    "duration": 129,
    "start_time": "2022-03-12T21:58:34.806Z"
   },
   {
    "duration": 100,
    "start_time": "2022-03-12T21:58:34.937Z"
   },
   {
    "duration": 112,
    "start_time": "2022-03-12T21:58:35.039Z"
   },
   {
    "duration": 480,
    "start_time": "2022-03-12T21:58:35.153Z"
   },
   {
    "duration": 198,
    "start_time": "2022-03-12T21:58:35.635Z"
   },
   {
    "duration": 1336,
    "start_time": "2022-03-12T21:58:35.835Z"
   },
   {
    "duration": 10,
    "start_time": "2022-03-12T21:58:37.173Z"
   },
   {
    "duration": 6029,
    "start_time": "2022-03-12T21:58:37.184Z"
   },
   {
    "duration": 18,
    "start_time": "2022-03-12T21:58:43.215Z"
   },
   {
    "duration": 11,
    "start_time": "2022-03-12T21:58:43.235Z"
   },
   {
    "duration": 19,
    "start_time": "2022-03-12T21:58:43.248Z"
   },
   {
    "duration": 167,
    "start_time": "2022-03-12T21:58:43.269Z"
   },
   {
    "duration": 1545,
    "start_time": "2022-03-12T21:58:43.438Z"
   },
   {
    "duration": 9,
    "start_time": "2022-03-12T21:58:44.985Z"
   },
   {
    "duration": 14192,
    "start_time": "2022-03-12T21:58:44.996Z"
   },
   {
    "duration": 9,
    "start_time": "2022-03-12T21:58:59.190Z"
   },
   {
    "duration": 11,
    "start_time": "2022-03-12T21:58:59.201Z"
   },
   {
    "duration": 33,
    "start_time": "2022-03-12T21:58:59.214Z"
   },
   {
    "duration": 187,
    "start_time": "2022-03-12T21:58:59.248Z"
   },
   {
    "duration": 746,
    "start_time": "2022-03-12T21:58:59.437Z"
   },
   {
    "duration": 11,
    "start_time": "2022-03-12T21:59:00.184Z"
   },
   {
    "duration": 8895,
    "start_time": "2022-03-12T21:59:00.197Z"
   },
   {
    "duration": 11,
    "start_time": "2022-03-12T21:59:09.094Z"
   },
   {
    "duration": 31,
    "start_time": "2022-03-12T21:59:09.107Z"
   },
   {
    "duration": 8,
    "start_time": "2022-03-12T21:59:09.139Z"
   },
   {
    "duration": 6,
    "start_time": "2022-03-12T21:59:09.148Z"
   },
   {
    "duration": 278,
    "start_time": "2022-03-12T21:59:09.156Z"
   },
   {
    "duration": 197,
    "start_time": "2022-03-12T21:59:09.436Z"
   },
   {
    "duration": 343,
    "start_time": "2022-03-12T21:59:09.636Z"
   },
   {
    "duration": 33,
    "start_time": "2022-03-12T21:59:09.981Z"
   },
   {
    "duration": 18,
    "start_time": "2022-03-12T21:59:10.016Z"
   },
   {
    "duration": 1708,
    "start_time": "2022-03-13T13:48:18.284Z"
   },
   {
    "duration": 303,
    "start_time": "2022-03-13T13:48:19.994Z"
   },
   {
    "duration": 44,
    "start_time": "2022-03-13T13:48:20.300Z"
   },
   {
    "duration": 14,
    "start_time": "2022-03-13T13:48:20.352Z"
   },
   {
    "duration": 26,
    "start_time": "2022-03-13T13:48:20.368Z"
   },
   {
    "duration": 6,
    "start_time": "2022-03-13T13:48:20.397Z"
   },
   {
    "duration": 83,
    "start_time": "2022-03-13T13:48:20.405Z"
   },
   {
    "duration": 1283,
    "start_time": "2022-03-13T13:48:20.492Z"
   },
   {
    "duration": 6,
    "start_time": "2022-03-13T13:48:21.778Z"
   },
   {
    "duration": 23,
    "start_time": "2022-03-13T13:48:21.787Z"
   },
   {
    "duration": 36,
    "start_time": "2022-03-13T13:48:21.812Z"
   },
   {
    "duration": 21,
    "start_time": "2022-03-13T13:48:21.850Z"
   },
   {
    "duration": 6,
    "start_time": "2022-03-13T13:48:21.874Z"
   },
   {
    "duration": 72,
    "start_time": "2022-03-13T13:48:21.882Z"
   },
   {
    "duration": 12,
    "start_time": "2022-03-13T13:48:21.956Z"
   },
   {
    "duration": 12,
    "start_time": "2022-03-13T13:48:21.971Z"
   },
   {
    "duration": 93,
    "start_time": "2022-03-13T13:48:21.986Z"
   },
   {
    "duration": 18,
    "start_time": "2022-03-13T13:48:22.082Z"
   },
   {
    "duration": 35,
    "start_time": "2022-03-13T13:48:22.102Z"
   },
   {
    "duration": 10,
    "start_time": "2022-03-13T13:48:22.140Z"
   },
   {
    "duration": 1710,
    "start_time": "2022-03-13T13:48:22.153Z"
   },
   {
    "duration": 34200,
    "start_time": "2022-03-13T13:48:23.866Z"
   },
   {
    "duration": 160,
    "start_time": "2022-03-13T13:48:58.072Z"
   },
   {
    "duration": 105,
    "start_time": "2022-03-13T13:48:58.242Z"
   },
   {
    "duration": 193,
    "start_time": "2022-03-13T13:48:58.349Z"
   },
   {
    "duration": 605,
    "start_time": "2022-03-13T13:48:58.634Z"
   },
   {
    "duration": 304,
    "start_time": "2022-03-13T13:48:59.242Z"
   },
   {
    "duration": 1930,
    "start_time": "2022-03-13T13:48:59.548Z"
   },
   {
    "duration": 17,
    "start_time": "2022-03-13T13:49:01.481Z"
   },
   {
    "duration": 9990,
    "start_time": "2022-03-13T13:49:01.500Z"
   },
   {
    "duration": 19,
    "start_time": "2022-03-13T13:49:11.493Z"
   },
   {
    "duration": 18,
    "start_time": "2022-03-13T13:49:11.533Z"
   },
   {
    "duration": 29,
    "start_time": "2022-03-13T13:49:11.554Z"
   },
   {
    "duration": 249,
    "start_time": "2022-03-13T13:49:11.586Z"
   },
   {
    "duration": 2644,
    "start_time": "2022-03-13T13:49:11.838Z"
   },
   {
    "duration": 16,
    "start_time": "2022-03-13T13:49:14.485Z"
   },
   {
    "duration": 24141,
    "start_time": "2022-03-13T13:49:14.504Z"
   },
   {
    "duration": 17,
    "start_time": "2022-03-13T13:49:38.648Z"
   },
   {
    "duration": 15,
    "start_time": "2022-03-13T13:49:38.667Z"
   },
   {
    "duration": 76,
    "start_time": "2022-03-13T13:49:38.685Z"
   },
   {
    "duration": 188,
    "start_time": "2022-03-13T13:49:38.764Z"
   },
   {
    "duration": 1327,
    "start_time": "2022-03-13T13:49:38.957Z"
   },
   {
    "duration": 16,
    "start_time": "2022-03-13T13:49:40.287Z"
   },
   {
    "duration": 15569,
    "start_time": "2022-03-13T13:49:40.305Z"
   },
   {
    "duration": 18,
    "start_time": "2022-03-13T13:49:55.877Z"
   },
   {
    "duration": 51,
    "start_time": "2022-03-13T13:49:55.898Z"
   },
   {
    "duration": 11,
    "start_time": "2022-03-13T13:49:55.952Z"
   },
   {
    "duration": 14,
    "start_time": "2022-03-13T13:49:55.966Z"
   },
   {
    "duration": 260,
    "start_time": "2022-03-13T13:49:55.983Z"
   },
   {
    "duration": 209,
    "start_time": "2022-03-13T13:49:56.334Z"
   },
   {
    "duration": 500,
    "start_time": "2022-03-13T13:49:56.634Z"
   },
   {
    "duration": 29,
    "start_time": "2022-03-13T13:49:57.136Z"
   },
   {
    "duration": 7,
    "start_time": "2022-03-13T13:49:57.167Z"
   },
   {
    "duration": 1285,
    "start_time": "2022-03-13T16:14:37.945Z"
   },
   {
    "duration": 217,
    "start_time": "2022-03-13T16:14:39.232Z"
   },
   {
    "duration": 13,
    "start_time": "2022-03-13T16:14:40.926Z"
   },
   {
    "duration": 9,
    "start_time": "2022-03-13T16:14:42.372Z"
   },
   {
    "duration": 19,
    "start_time": "2022-03-13T16:14:43.272Z"
   },
   {
    "duration": 5,
    "start_time": "2022-03-13T16:14:44.193Z"
   },
   {
    "duration": 49,
    "start_time": "2022-03-13T16:14:44.613Z"
   },
   {
    "duration": 1036,
    "start_time": "2022-03-13T16:14:45.131Z"
   },
   {
    "duration": 5,
    "start_time": "2022-03-13T16:14:46.355Z"
   },
   {
    "duration": 16,
    "start_time": "2022-03-13T16:14:47.115Z"
   },
   {
    "duration": 16,
    "start_time": "2022-03-13T16:14:47.839Z"
   },
   {
    "duration": 17,
    "start_time": "2022-03-13T16:14:48.544Z"
   },
   {
    "duration": 5,
    "start_time": "2022-03-13T16:14:49.944Z"
   },
   {
    "duration": 23,
    "start_time": "2022-03-13T16:14:50.665Z"
   },
   {
    "duration": 10,
    "start_time": "2022-03-13T16:14:53.251Z"
   },
   {
    "duration": 8,
    "start_time": "2022-03-13T16:14:54.065Z"
   },
   {
    "duration": 31,
    "start_time": "2022-03-13T16:14:54.862Z"
   },
   {
    "duration": 14,
    "start_time": "2022-03-13T16:14:55.275Z"
   },
   {
    "duration": 15,
    "start_time": "2022-03-13T16:15:11.794Z"
   },
   {
    "duration": 11,
    "start_time": "2022-03-13T16:15:12.485Z"
   },
   {
    "duration": 1347,
    "start_time": "2022-03-13T16:15:13.985Z"
   },
   {
    "duration": 3800,
    "start_time": "2022-03-13T16:15:48.825Z"
   },
   {
    "duration": 515,
    "start_time": "2022-03-13T16:25:33.574Z"
   },
   {
    "duration": 1256,
    "start_time": "2022-03-13T16:25:59.562Z"
   },
   {
    "duration": 510,
    "start_time": "2022-03-13T16:26:07.241Z"
   },
   {
    "duration": 494,
    "start_time": "2022-03-13T16:26:25.072Z"
   },
   {
    "duration": 517,
    "start_time": "2022-03-13T16:27:30.751Z"
   },
   {
    "duration": 648,
    "start_time": "2022-03-13T16:28:38.450Z"
   },
   {
    "duration": 467,
    "start_time": "2022-03-13T16:43:30.975Z"
   },
   {
    "duration": 503,
    "start_time": "2022-03-13T16:44:27.076Z"
   },
   {
    "duration": 501,
    "start_time": "2022-03-13T16:44:44.076Z"
   },
   {
    "duration": 1295,
    "start_time": "2022-03-13T16:53:18.522Z"
   },
   {
    "duration": 204,
    "start_time": "2022-03-13T16:53:19.819Z"
   },
   {
    "duration": 12,
    "start_time": "2022-03-13T16:53:20.025Z"
   },
   {
    "duration": 39,
    "start_time": "2022-03-13T16:53:20.040Z"
   },
   {
    "duration": 47,
    "start_time": "2022-03-13T16:53:20.082Z"
   },
   {
    "duration": 6,
    "start_time": "2022-03-13T16:53:20.130Z"
   },
   {
    "duration": 72,
    "start_time": "2022-03-13T16:53:20.138Z"
   },
   {
    "duration": 966,
    "start_time": "2022-03-13T16:53:20.212Z"
   },
   {
    "duration": 5,
    "start_time": "2022-03-13T16:53:21.181Z"
   },
   {
    "duration": 34,
    "start_time": "2022-03-13T16:53:21.188Z"
   },
   {
    "duration": 25,
    "start_time": "2022-03-13T16:53:21.224Z"
   },
   {
    "duration": 36,
    "start_time": "2022-03-13T16:53:21.252Z"
   },
   {
    "duration": 8,
    "start_time": "2022-03-13T16:53:21.290Z"
   },
   {
    "duration": 27,
    "start_time": "2022-03-13T16:53:21.300Z"
   },
   {
    "duration": 9,
    "start_time": "2022-03-13T16:53:21.329Z"
   },
   {
    "duration": 7,
    "start_time": "2022-03-13T16:53:21.340Z"
   },
   {
    "duration": 67,
    "start_time": "2022-03-13T16:53:21.349Z"
   },
   {
    "duration": 15,
    "start_time": "2022-03-13T16:53:21.417Z"
   },
   {
    "duration": 14,
    "start_time": "2022-03-13T16:53:21.434Z"
   },
   {
    "duration": 28,
    "start_time": "2022-03-13T16:53:21.450Z"
   },
   {
    "duration": 1304,
    "start_time": "2022-03-13T16:53:21.480Z"
   },
   {
    "duration": 598,
    "start_time": "2022-03-13T16:53:22.786Z"
   },
   {
    "duration": 457,
    "start_time": "2022-03-13T16:53:23.388Z"
   },
   {
    "duration": 22885,
    "start_time": "2022-03-13T16:53:23.848Z"
   },
   {
    "duration": 146,
    "start_time": "2022-03-13T16:53:46.735Z"
   },
   {
    "duration": 99,
    "start_time": "2022-03-13T16:53:46.884Z"
   },
   {
    "duration": 127,
    "start_time": "2022-03-13T16:53:46.985Z"
   },
   {
    "duration": 450,
    "start_time": "2022-03-13T16:53:47.179Z"
   },
   {
    "duration": 153,
    "start_time": "2022-03-13T16:53:47.631Z"
   },
   {
    "duration": 1480,
    "start_time": "2022-03-13T16:53:47.787Z"
   },
   {
    "duration": 18,
    "start_time": "2022-03-13T16:53:49.268Z"
   },
   {
    "duration": 6907,
    "start_time": "2022-03-13T16:53:49.288Z"
   },
   {
    "duration": 11,
    "start_time": "2022-03-13T16:53:56.197Z"
   },
   {
    "duration": 14,
    "start_time": "2022-03-13T16:53:56.209Z"
   },
   {
    "duration": 19,
    "start_time": "2022-03-13T16:53:56.225Z"
   },
   {
    "duration": 234,
    "start_time": "2022-03-13T16:53:56.245Z"
   },
   {
    "duration": 1616,
    "start_time": "2022-03-13T16:53:56.480Z"
   },
   {
    "duration": 12,
    "start_time": "2022-03-13T16:53:58.097Z"
   },
   {
    "duration": 16974,
    "start_time": "2022-03-13T16:53:58.111Z"
   },
   {
    "duration": 11,
    "start_time": "2022-03-13T16:54:15.087Z"
   },
   {
    "duration": 13,
    "start_time": "2022-03-13T16:54:15.100Z"
   },
   {
    "duration": 17,
    "start_time": "2022-03-13T16:54:15.115Z"
   },
   {
    "duration": 247,
    "start_time": "2022-03-13T16:54:15.133Z"
   },
   {
    "duration": 948,
    "start_time": "2022-03-13T16:54:15.382Z"
   },
   {
    "duration": 11,
    "start_time": "2022-03-13T16:54:16.332Z"
   },
   {
    "duration": 10142,
    "start_time": "2022-03-13T16:54:16.344Z"
   },
   {
    "duration": 12,
    "start_time": "2022-03-13T16:54:26.487Z"
   },
   {
    "duration": 14,
    "start_time": "2022-03-13T16:54:26.501Z"
   },
   {
    "duration": 7,
    "start_time": "2022-03-13T16:54:26.517Z"
   },
   {
    "duration": 8,
    "start_time": "2022-03-13T16:54:26.526Z"
   },
   {
    "duration": 244,
    "start_time": "2022-03-13T16:54:26.536Z"
   },
   {
    "duration": 202,
    "start_time": "2022-03-13T16:54:26.782Z"
   },
   {
    "duration": 335,
    "start_time": "2022-03-13T16:54:27.076Z"
   },
   {
    "duration": 18,
    "start_time": "2022-03-13T16:54:27.413Z"
   },
   {
    "duration": 3,
    "start_time": "2022-03-13T16:54:27.433Z"
   }
  ],
  "kernelspec": {
   "display_name": "Python 3 (ipykernel)",
   "language": "python",
   "name": "python3"
  },
  "language_info": {
   "codemirror_mode": {
    "name": "ipython",
    "version": 3
   },
   "file_extension": ".py",
   "mimetype": "text/x-python",
   "name": "python",
   "nbconvert_exporter": "python",
   "pygments_lexer": "ipython3",
   "version": "3.10.5"
  },
  "toc": {
   "base_numbering": 1,
   "nav_menu": {
    "height": "233px",
    "width": "290px"
   },
   "number_sections": true,
   "sideBar": true,
   "skip_h1_title": true,
   "title_cell": "Содержание",
   "title_sidebar": "Contents",
   "toc_cell": true,
   "toc_position": {
    "height": "calc(100% - 180px)",
    "left": "10px",
    "top": "150px",
    "width": "268px"
   },
   "toc_section_display": true,
   "toc_window_display": true
  },
  "varInspector": {
   "cols": {
    "lenName": 16,
    "lenType": 16,
    "lenVar": 40
   },
   "kernels_config": {
    "python": {
     "delete_cmd_postfix": "",
     "delete_cmd_prefix": "del ",
     "library": "var_list.py",
     "varRefreshCmd": "print(var_dic_list())"
    },
    "r": {
     "delete_cmd_postfix": ") ",
     "delete_cmd_prefix": "rm(",
     "library": "var_list.r",
     "varRefreshCmd": "cat(var_dic_list()) "
    }
   },
   "types_to_exclude": [
    "module",
    "function",
    "builtin_function_or_method",
    "instance",
    "_Feature"
   ],
   "window_display": false
  }
 },
 "nbformat": 4,
 "nbformat_minor": 4
}
