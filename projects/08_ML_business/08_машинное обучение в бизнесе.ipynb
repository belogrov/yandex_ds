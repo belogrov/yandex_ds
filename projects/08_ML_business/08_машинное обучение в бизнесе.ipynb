{
 "cells": [
  {
   "cell_type": "markdown",
   "metadata": {},
   "source": [
    "# Выбор локации для скважины"
   ]
  },
  {
   "cell_type": "markdown",
   "metadata": {},
   "source": [
    "Допустим, вы работаете в добывающей компании «ГлавРосГосНефть». Нужно решить, где бурить новую скважину.\n",
    "\n",
    "Вам предоставлены пробы нефти в трёх регионах: в каждом 10 000 месторождений, где измерили качество нефти и объём её запасов. Постройте модель машинного обучения, которая поможет определить регион, где добыча принесёт наибольшую прибыль. Проанализируйте возможную прибыль и риски техникой *Bootstrap.*\n",
    "\n",
    "Шаги для выбора локации:\n",
    "\n",
    "- В избранном регионе ищут месторождения, для каждого определяют значения признаков;\n",
    "- Строят модель и оценивают объём запасов;\n",
    "- Выбирают месторождения с самым высокими оценками значений. Количество месторождений зависит от бюджета компании и стоимости разработки одной скважины;\n",
    "- Прибыль равна суммарной прибыли отобранных месторождений."
   ]
  },
  {
   "cell_type": "markdown",
   "metadata": {},
   "source": [
    "## Загрузка и подготовка данных"
   ]
  },
  {
   "cell_type": "code",
   "execution_count": 1,
   "metadata": {},
   "outputs": [],
   "source": [
    "import pandas as pd\n",
    "import numpy as np\n",
    "\n",
    "from sklearn.linear_model import LinearRegression\n",
    "\n",
    "from sklearn.metrics import mean_squared_error as MSE\n",
    "\n",
    "from sklearn.model_selection import train_test_split\n",
    "\n",
    "from tqdm.notebook import tqdm_notebook"
   ]
  },
  {
   "cell_type": "markdown",
   "metadata": {},
   "source": [
    "<div class=\"alert alert-block alert-success\">\n",
    "<b>Успех:</b> Отлично, что все импорты собраны в первой ячейке ноутбука! Если у того, кто будет запускать твой ноутбук будут отсутствовать некоторые библиотеки, то он это увидит сразу, а не в процессе!\n",
    "</div>"
   ]
  },
  {
   "cell_type": "code",
   "execution_count": 2,
   "metadata": {},
   "outputs": [],
   "source": [
    "try:\n",
    "    df_reg_0 = pd.read_csv('/datasets/geo_data_0.csv')\n",
    "except:\n",
    "    df_reg_0 = pd.read_csv('geo_data_0.csv')\n",
    "\n",
    "try:\n",
    "    df_reg_1 = pd.read_csv('/datasets/geo_data_1.csv')\n",
    "except:\n",
    "    df_reg_1 = pd.read_csv('geo_data_1.csv')\n",
    "\n",
    "try:\n",
    "    df_reg_2 = pd.read_csv('/datasets/geo_data_2.csv')\n",
    "except:\n",
    "    df_reg_2 = pd.read_csv('geo_data_2.csv')"
   ]
  },
  {
   "cell_type": "markdown",
   "metadata": {},
   "source": [
    "### Регион 0"
   ]
  },
  {
   "cell_type": "code",
   "execution_count": 3,
   "metadata": {},
   "outputs": [
    {
     "data": {
      "text/html": [
       "<div>\n",
       "<style scoped>\n",
       "    .dataframe tbody tr th:only-of-type {\n",
       "        vertical-align: middle;\n",
       "    }\n",
       "\n",
       "    .dataframe tbody tr th {\n",
       "        vertical-align: top;\n",
       "    }\n",
       "\n",
       "    .dataframe thead th {\n",
       "        text-align: right;\n",
       "    }\n",
       "</style>\n",
       "<table border=\"1\" class=\"dataframe\">\n",
       "  <thead>\n",
       "    <tr style=\"text-align: right;\">\n",
       "      <th></th>\n",
       "      <th>id</th>\n",
       "      <th>f0</th>\n",
       "      <th>f1</th>\n",
       "      <th>f2</th>\n",
       "      <th>product</th>\n",
       "    </tr>\n",
       "  </thead>\n",
       "  <tbody>\n",
       "    <tr>\n",
       "      <th>0</th>\n",
       "      <td>txEyH</td>\n",
       "      <td>0.705745</td>\n",
       "      <td>-0.497823</td>\n",
       "      <td>1.221170</td>\n",
       "      <td>105.280062</td>\n",
       "    </tr>\n",
       "    <tr>\n",
       "      <th>1</th>\n",
       "      <td>2acmU</td>\n",
       "      <td>1.334711</td>\n",
       "      <td>-0.340164</td>\n",
       "      <td>4.365080</td>\n",
       "      <td>73.037750</td>\n",
       "    </tr>\n",
       "    <tr>\n",
       "      <th>2</th>\n",
       "      <td>409Wp</td>\n",
       "      <td>1.022732</td>\n",
       "      <td>0.151990</td>\n",
       "      <td>1.419926</td>\n",
       "      <td>85.265647</td>\n",
       "    </tr>\n",
       "    <tr>\n",
       "      <th>3</th>\n",
       "      <td>iJLyR</td>\n",
       "      <td>-0.032172</td>\n",
       "      <td>0.139033</td>\n",
       "      <td>2.978566</td>\n",
       "      <td>168.620776</td>\n",
       "    </tr>\n",
       "    <tr>\n",
       "      <th>4</th>\n",
       "      <td>Xdl7t</td>\n",
       "      <td>1.988431</td>\n",
       "      <td>0.155413</td>\n",
       "      <td>4.751769</td>\n",
       "      <td>154.036647</td>\n",
       "    </tr>\n",
       "  </tbody>\n",
       "</table>\n",
       "</div>"
      ],
      "text/plain": [
       "      id        f0        f1        f2     product\n",
       "0  txEyH  0.705745 -0.497823  1.221170  105.280062\n",
       "1  2acmU  1.334711 -0.340164  4.365080   73.037750\n",
       "2  409Wp  1.022732  0.151990  1.419926   85.265647\n",
       "3  iJLyR -0.032172  0.139033  2.978566  168.620776\n",
       "4  Xdl7t  1.988431  0.155413  4.751769  154.036647"
      ]
     },
     "execution_count": 3,
     "metadata": {},
     "output_type": "execute_result"
    }
   ],
   "source": [
    "df_reg_0.head()"
   ]
  },
  {
   "cell_type": "code",
   "execution_count": 4,
   "metadata": {},
   "outputs": [
    {
     "name": "stdout",
     "output_type": "stream",
     "text": [
      "<class 'pandas.core.frame.DataFrame'>\n",
      "RangeIndex: 100000 entries, 0 to 99999\n",
      "Data columns (total 5 columns):\n",
      " #   Column   Non-Null Count   Dtype  \n",
      "---  ------   --------------   -----  \n",
      " 0   id       100000 non-null  object \n",
      " 1   f0       100000 non-null  float64\n",
      " 2   f1       100000 non-null  float64\n",
      " 3   f2       100000 non-null  float64\n",
      " 4   product  100000 non-null  float64\n",
      "dtypes: float64(4), object(1)\n",
      "memory usage: 3.8+ MB\n"
     ]
    }
   ],
   "source": [
    "df_reg_0.info()"
   ]
  },
  {
   "cell_type": "code",
   "execution_count": 5,
   "metadata": {},
   "outputs": [
    {
     "data": {
      "text/html": [
       "<div>\n",
       "<style scoped>\n",
       "    .dataframe tbody tr th:only-of-type {\n",
       "        vertical-align: middle;\n",
       "    }\n",
       "\n",
       "    .dataframe tbody tr th {\n",
       "        vertical-align: top;\n",
       "    }\n",
       "\n",
       "    .dataframe thead th {\n",
       "        text-align: right;\n",
       "    }\n",
       "</style>\n",
       "<table border=\"1\" class=\"dataframe\">\n",
       "  <thead>\n",
       "    <tr style=\"text-align: right;\">\n",
       "      <th></th>\n",
       "      <th>count</th>\n",
       "      <th>mean</th>\n",
       "      <th>std</th>\n",
       "      <th>min</th>\n",
       "      <th>25%</th>\n",
       "      <th>50%</th>\n",
       "      <th>75%</th>\n",
       "      <th>max</th>\n",
       "    </tr>\n",
       "  </thead>\n",
       "  <tbody>\n",
       "    <tr>\n",
       "      <th>f0</th>\n",
       "      <td>100000.0</td>\n",
       "      <td>0.500419</td>\n",
       "      <td>0.871832</td>\n",
       "      <td>-1.408605</td>\n",
       "      <td>-0.072580</td>\n",
       "      <td>0.502360</td>\n",
       "      <td>1.073581</td>\n",
       "      <td>2.362331</td>\n",
       "    </tr>\n",
       "    <tr>\n",
       "      <th>f1</th>\n",
       "      <td>100000.0</td>\n",
       "      <td>0.250143</td>\n",
       "      <td>0.504433</td>\n",
       "      <td>-0.848218</td>\n",
       "      <td>-0.200881</td>\n",
       "      <td>0.250252</td>\n",
       "      <td>0.700646</td>\n",
       "      <td>1.343769</td>\n",
       "    </tr>\n",
       "    <tr>\n",
       "      <th>f2</th>\n",
       "      <td>100000.0</td>\n",
       "      <td>2.502647</td>\n",
       "      <td>3.248248</td>\n",
       "      <td>-12.088328</td>\n",
       "      <td>0.287748</td>\n",
       "      <td>2.515969</td>\n",
       "      <td>4.715088</td>\n",
       "      <td>16.003790</td>\n",
       "    </tr>\n",
       "    <tr>\n",
       "      <th>product</th>\n",
       "      <td>100000.0</td>\n",
       "      <td>92.500000</td>\n",
       "      <td>44.288691</td>\n",
       "      <td>0.000000</td>\n",
       "      <td>56.497507</td>\n",
       "      <td>91.849972</td>\n",
       "      <td>128.564089</td>\n",
       "      <td>185.364347</td>\n",
       "    </tr>\n",
       "  </tbody>\n",
       "</table>\n",
       "</div>"
      ],
      "text/plain": [
       "            count       mean        std        min        25%        50%  \\\n",
       "f0       100000.0   0.500419   0.871832  -1.408605  -0.072580   0.502360   \n",
       "f1       100000.0   0.250143   0.504433  -0.848218  -0.200881   0.250252   \n",
       "f2       100000.0   2.502647   3.248248 -12.088328   0.287748   2.515969   \n",
       "product  100000.0  92.500000  44.288691   0.000000  56.497507  91.849972   \n",
       "\n",
       "                75%         max  \n",
       "f0         1.073581    2.362331  \n",
       "f1         0.700646    1.343769  \n",
       "f2         4.715088   16.003790  \n",
       "product  128.564089  185.364347  "
      ]
     },
     "execution_count": 5,
     "metadata": {},
     "output_type": "execute_result"
    }
   ],
   "source": [
    "df_reg_0.describe().T"
   ]
  },
  {
   "cell_type": "code",
   "execution_count": 6,
   "metadata": {},
   "outputs": [
    {
     "data": {
      "image/png": "[encoded data removed]",
      "text/plain": [
       "<Figure size 432x288 with 1 Axes>"
      ]
     },
     "metadata": {
      "needs_background": "light"
     },
     "output_type": "display_data"
    }
   ],
   "source": [
    "df_reg_0['product'].hist(bins=np.arange(0, 192, 5));"
   ]
  },
  {
   "cell_type": "markdown",
   "metadata": {},
   "source": [
    "### Регион 1"
   ]
  },
  {
   "cell_type": "code",
   "execution_count": 7,
   "metadata": {
    "scrolled": true
   },
   "outputs": [
    {
     "data": {
      "text/html": [
       "<div>\n",
       "<style scoped>\n",
       "    .dataframe tbody tr th:only-of-type {\n",
       "        vertical-align: middle;\n",
       "    }\n",
       "\n",
       "    .dataframe tbody tr th {\n",
       "        vertical-align: top;\n",
       "    }\n",
       "\n",
       "    .dataframe thead th {\n",
       "        text-align: right;\n",
       "    }\n",
       "</style>\n",
       "<table border=\"1\" class=\"dataframe\">\n",
       "  <thead>\n",
       "    <tr style=\"text-align: right;\">\n",
       "      <th></th>\n",
       "      <th>id</th>\n",
       "      <th>f0</th>\n",
       "      <th>f1</th>\n",
       "      <th>f2</th>\n",
       "      <th>product</th>\n",
       "    </tr>\n",
       "  </thead>\n",
       "  <tbody>\n",
       "    <tr>\n",
       "      <th>0</th>\n",
       "      <td>kBEdx</td>\n",
       "      <td>-15.001348</td>\n",
       "      <td>-8.276000</td>\n",
       "      <td>-0.005876</td>\n",
       "      <td>3.179103</td>\n",
       "    </tr>\n",
       "    <tr>\n",
       "      <th>1</th>\n",
       "      <td>62mP7</td>\n",
       "      <td>14.272088</td>\n",
       "      <td>-3.475083</td>\n",
       "      <td>0.999183</td>\n",
       "      <td>26.953261</td>\n",
       "    </tr>\n",
       "    <tr>\n",
       "      <th>2</th>\n",
       "      <td>vyE1P</td>\n",
       "      <td>6.263187</td>\n",
       "      <td>-5.948386</td>\n",
       "      <td>5.001160</td>\n",
       "      <td>134.766305</td>\n",
       "    </tr>\n",
       "    <tr>\n",
       "      <th>3</th>\n",
       "      <td>KcrkZ</td>\n",
       "      <td>-13.081196</td>\n",
       "      <td>-11.506057</td>\n",
       "      <td>4.999415</td>\n",
       "      <td>137.945408</td>\n",
       "    </tr>\n",
       "    <tr>\n",
       "      <th>4</th>\n",
       "      <td>AHL4O</td>\n",
       "      <td>12.702195</td>\n",
       "      <td>-8.147433</td>\n",
       "      <td>5.004363</td>\n",
       "      <td>134.766305</td>\n",
       "    </tr>\n",
       "  </tbody>\n",
       "</table>\n",
       "</div>"
      ],
      "text/plain": [
       "      id         f0         f1        f2     product\n",
       "0  kBEdx -15.001348  -8.276000 -0.005876    3.179103\n",
       "1  62mP7  14.272088  -3.475083  0.999183   26.953261\n",
       "2  vyE1P   6.263187  -5.948386  5.001160  134.766305\n",
       "3  KcrkZ -13.081196 -11.506057  4.999415  137.945408\n",
       "4  AHL4O  12.702195  -8.147433  5.004363  134.766305"
      ]
     },
     "execution_count": 7,
     "metadata": {},
     "output_type": "execute_result"
    }
   ],
   "source": [
    "df_reg_1.head()"
   ]
  },
  {
   "cell_type": "code",
   "execution_count": 8,
   "metadata": {},
   "outputs": [
    {
     "name": "stdout",
     "output_type": "stream",
     "text": [
      "<class 'pandas.core.frame.DataFrame'>\n",
      "RangeIndex: 100000 entries, 0 to 99999\n",
      "Data columns (total 5 columns):\n",
      " #   Column   Non-Null Count   Dtype  \n",
      "---  ------   --------------   -----  \n",
      " 0   id       100000 non-null  object \n",
      " 1   f0       100000 non-null  float64\n",
      " 2   f1       100000 non-null  float64\n",
      " 3   f2       100000 non-null  float64\n",
      " 4   product  100000 non-null  float64\n",
      "dtypes: float64(4), object(1)\n",
      "memory usage: 3.8+ MB\n"
     ]
    }
   ],
   "source": [
    "df_reg_1.info()"
   ]
  },
  {
   "cell_type": "code",
   "execution_count": 9,
   "metadata": {},
   "outputs": [
    {
     "data": {
      "text/html": [
       "<div>\n",
       "<style scoped>\n",
       "    .dataframe tbody tr th:only-of-type {\n",
       "        vertical-align: middle;\n",
       "    }\n",
       "\n",
       "    .dataframe tbody tr th {\n",
       "        vertical-align: top;\n",
       "    }\n",
       "\n",
       "    .dataframe thead th {\n",
       "        text-align: right;\n",
       "    }\n",
       "</style>\n",
       "<table border=\"1\" class=\"dataframe\">\n",
       "  <thead>\n",
       "    <tr style=\"text-align: right;\">\n",
       "      <th></th>\n",
       "      <th>count</th>\n",
       "      <th>mean</th>\n",
       "      <th>std</th>\n",
       "      <th>min</th>\n",
       "      <th>25%</th>\n",
       "      <th>50%</th>\n",
       "      <th>75%</th>\n",
       "      <th>max</th>\n",
       "    </tr>\n",
       "  </thead>\n",
       "  <tbody>\n",
       "    <tr>\n",
       "      <th>f0</th>\n",
       "      <td>100000.0</td>\n",
       "      <td>1.141296</td>\n",
       "      <td>8.965932</td>\n",
       "      <td>-31.609576</td>\n",
       "      <td>-6.298551</td>\n",
       "      <td>1.153055</td>\n",
       "      <td>8.621015</td>\n",
       "      <td>29.421755</td>\n",
       "    </tr>\n",
       "    <tr>\n",
       "      <th>f1</th>\n",
       "      <td>100000.0</td>\n",
       "      <td>-4.796579</td>\n",
       "      <td>5.119872</td>\n",
       "      <td>-26.358598</td>\n",
       "      <td>-8.267985</td>\n",
       "      <td>-4.813172</td>\n",
       "      <td>-1.332816</td>\n",
       "      <td>18.734063</td>\n",
       "    </tr>\n",
       "    <tr>\n",
       "      <th>f2</th>\n",
       "      <td>100000.0</td>\n",
       "      <td>2.494541</td>\n",
       "      <td>1.703572</td>\n",
       "      <td>-0.018144</td>\n",
       "      <td>1.000021</td>\n",
       "      <td>2.011479</td>\n",
       "      <td>3.999904</td>\n",
       "      <td>5.019721</td>\n",
       "    </tr>\n",
       "    <tr>\n",
       "      <th>product</th>\n",
       "      <td>100000.0</td>\n",
       "      <td>68.825000</td>\n",
       "      <td>45.944423</td>\n",
       "      <td>0.000000</td>\n",
       "      <td>26.953261</td>\n",
       "      <td>57.085625</td>\n",
       "      <td>107.813044</td>\n",
       "      <td>137.945408</td>\n",
       "    </tr>\n",
       "  </tbody>\n",
       "</table>\n",
       "</div>"
      ],
      "text/plain": [
       "            count       mean        std        min        25%        50%  \\\n",
       "f0       100000.0   1.141296   8.965932 -31.609576  -6.298551   1.153055   \n",
       "f1       100000.0  -4.796579   5.119872 -26.358598  -8.267985  -4.813172   \n",
       "f2       100000.0   2.494541   1.703572  -0.018144   1.000021   2.011479   \n",
       "product  100000.0  68.825000  45.944423   0.000000  26.953261  57.085625   \n",
       "\n",
       "                75%         max  \n",
       "f0         8.621015   29.421755  \n",
       "f1        -1.332816   18.734063  \n",
       "f2         3.999904    5.019721  \n",
       "product  107.813044  137.945408  "
      ]
     },
     "execution_count": 9,
     "metadata": {},
     "output_type": "execute_result"
    }
   ],
   "source": [
    "df_reg_1.describe().T"
   ]
  },
  {
   "cell_type": "code",
   "execution_count": 10,
   "metadata": {},
   "outputs": [
    {
     "data": {
      "image/png": "[encoded data removed]",
      "text/plain": [
       "<Figure size 432x288 with 1 Axes>"
      ]
     },
     "metadata": {
      "needs_background": "light"
     },
     "output_type": "display_data"
    }
   ],
   "source": [
    "df_reg_1['product'].hist(bins=np.arange(0, 142, 10));"
   ]
  },
  {
   "cell_type": "markdown",
   "metadata": {},
   "source": [
    "### Регион 2"
   ]
  },
  {
   "cell_type": "code",
   "execution_count": 11,
   "metadata": {
    "scrolled": true
   },
   "outputs": [
    {
     "data": {
      "text/html": [
       "<div>\n",
       "<style scoped>\n",
       "    .dataframe tbody tr th:only-of-type {\n",
       "        vertical-align: middle;\n",
       "    }\n",
       "\n",
       "    .dataframe tbody tr th {\n",
       "        vertical-align: top;\n",
       "    }\n",
       "\n",
       "    .dataframe thead th {\n",
       "        text-align: right;\n",
       "    }\n",
       "</style>\n",
       "<table border=\"1\" class=\"dataframe\">\n",
       "  <thead>\n",
       "    <tr style=\"text-align: right;\">\n",
       "      <th></th>\n",
       "      <th>id</th>\n",
       "      <th>f0</th>\n",
       "      <th>f1</th>\n",
       "      <th>f2</th>\n",
       "      <th>product</th>\n",
       "    </tr>\n",
       "  </thead>\n",
       "  <tbody>\n",
       "    <tr>\n",
       "      <th>0</th>\n",
       "      <td>fwXo0</td>\n",
       "      <td>-1.146987</td>\n",
       "      <td>0.963328</td>\n",
       "      <td>-0.828965</td>\n",
       "      <td>27.758673</td>\n",
       "    </tr>\n",
       "    <tr>\n",
       "      <th>1</th>\n",
       "      <td>WJtFt</td>\n",
       "      <td>0.262778</td>\n",
       "      <td>0.269839</td>\n",
       "      <td>-2.530187</td>\n",
       "      <td>56.069697</td>\n",
       "    </tr>\n",
       "    <tr>\n",
       "      <th>2</th>\n",
       "      <td>ovLUW</td>\n",
       "      <td>0.194587</td>\n",
       "      <td>0.289035</td>\n",
       "      <td>-5.586433</td>\n",
       "      <td>62.871910</td>\n",
       "    </tr>\n",
       "    <tr>\n",
       "      <th>3</th>\n",
       "      <td>q6cA6</td>\n",
       "      <td>2.236060</td>\n",
       "      <td>-0.553760</td>\n",
       "      <td>0.930038</td>\n",
       "      <td>114.572842</td>\n",
       "    </tr>\n",
       "    <tr>\n",
       "      <th>4</th>\n",
       "      <td>WPMUX</td>\n",
       "      <td>-0.515993</td>\n",
       "      <td>1.716266</td>\n",
       "      <td>5.899011</td>\n",
       "      <td>149.600746</td>\n",
       "    </tr>\n",
       "  </tbody>\n",
       "</table>\n",
       "</div>"
      ],
      "text/plain": [
       "      id        f0        f1        f2     product\n",
       "0  fwXo0 -1.146987  0.963328 -0.828965   27.758673\n",
       "1  WJtFt  0.262778  0.269839 -2.530187   56.069697\n",
       "2  ovLUW  0.194587  0.289035 -5.586433   62.871910\n",
       "3  q6cA6  2.236060 -0.553760  0.930038  114.572842\n",
       "4  WPMUX -0.515993  1.716266  5.899011  149.600746"
      ]
     },
     "execution_count": 11,
     "metadata": {},
     "output_type": "execute_result"
    }
   ],
   "source": [
    "df_reg_2.head()"
   ]
  },
  {
   "cell_type": "code",
   "execution_count": 12,
   "metadata": {},
   "outputs": [
    {
     "name": "stdout",
     "output_type": "stream",
     "text": [
      "<class 'pandas.core.frame.DataFrame'>\n",
      "RangeIndex: 100000 entries, 0 to 99999\n",
      "Data columns (total 5 columns):\n",
      " #   Column   Non-Null Count   Dtype  \n",
      "---  ------   --------------   -----  \n",
      " 0   id       100000 non-null  object \n",
      " 1   f0       100000 non-null  float64\n",
      " 2   f1       100000 non-null  float64\n",
      " 3   f2       100000 non-null  float64\n",
      " 4   product  100000 non-null  float64\n",
      "dtypes: float64(4), object(1)\n",
      "memory usage: 3.8+ MB\n"
     ]
    }
   ],
   "source": [
    "df_reg_2.info()"
   ]
  },
  {
   "cell_type": "code",
   "execution_count": 13,
   "metadata": {},
   "outputs": [
    {
     "data": {
      "text/html": [
       "<div>\n",
       "<style scoped>\n",
       "    .dataframe tbody tr th:only-of-type {\n",
       "        vertical-align: middle;\n",
       "    }\n",
       "\n",
       "    .dataframe tbody tr th {\n",
       "        vertical-align: top;\n",
       "    }\n",
       "\n",
       "    .dataframe thead th {\n",
       "        text-align: right;\n",
       "    }\n",
       "</style>\n",
       "<table border=\"1\" class=\"dataframe\">\n",
       "  <thead>\n",
       "    <tr style=\"text-align: right;\">\n",
       "      <th></th>\n",
       "      <th>count</th>\n",
       "      <th>mean</th>\n",
       "      <th>std</th>\n",
       "      <th>min</th>\n",
       "      <th>25%</th>\n",
       "      <th>50%</th>\n",
       "      <th>75%</th>\n",
       "      <th>max</th>\n",
       "    </tr>\n",
       "  </thead>\n",
       "  <tbody>\n",
       "    <tr>\n",
       "      <th>f0</th>\n",
       "      <td>100000.0</td>\n",
       "      <td>0.002023</td>\n",
       "      <td>1.732045</td>\n",
       "      <td>-8.760004</td>\n",
       "      <td>-1.162288</td>\n",
       "      <td>0.009424</td>\n",
       "      <td>1.158535</td>\n",
       "      <td>7.238262</td>\n",
       "    </tr>\n",
       "    <tr>\n",
       "      <th>f1</th>\n",
       "      <td>100000.0</td>\n",
       "      <td>-0.002081</td>\n",
       "      <td>1.730417</td>\n",
       "      <td>-7.084020</td>\n",
       "      <td>-1.174820</td>\n",
       "      <td>-0.009482</td>\n",
       "      <td>1.163678</td>\n",
       "      <td>7.844801</td>\n",
       "    </tr>\n",
       "    <tr>\n",
       "      <th>f2</th>\n",
       "      <td>100000.0</td>\n",
       "      <td>2.495128</td>\n",
       "      <td>3.473445</td>\n",
       "      <td>-11.970335</td>\n",
       "      <td>0.130359</td>\n",
       "      <td>2.484236</td>\n",
       "      <td>4.858794</td>\n",
       "      <td>16.739402</td>\n",
       "    </tr>\n",
       "    <tr>\n",
       "      <th>product</th>\n",
       "      <td>100000.0</td>\n",
       "      <td>95.000000</td>\n",
       "      <td>44.749921</td>\n",
       "      <td>0.000000</td>\n",
       "      <td>59.450441</td>\n",
       "      <td>94.925613</td>\n",
       "      <td>130.595027</td>\n",
       "      <td>190.029838</td>\n",
       "    </tr>\n",
       "  </tbody>\n",
       "</table>\n",
       "</div>"
      ],
      "text/plain": [
       "            count       mean        std        min        25%        50%  \\\n",
       "f0       100000.0   0.002023   1.732045  -8.760004  -1.162288   0.009424   \n",
       "f1       100000.0  -0.002081   1.730417  -7.084020  -1.174820  -0.009482   \n",
       "f2       100000.0   2.495128   3.473445 -11.970335   0.130359   2.484236   \n",
       "product  100000.0  95.000000  44.749921   0.000000  59.450441  94.925613   \n",
       "\n",
       "                75%         max  \n",
       "f0         1.158535    7.238262  \n",
       "f1         1.163678    7.844801  \n",
       "f2         4.858794   16.739402  \n",
       "product  130.595027  190.029838  "
      ]
     },
     "execution_count": 13,
     "metadata": {},
     "output_type": "execute_result"
    }
   ],
   "source": [
    "df_reg_2.describe().T"
   ]
  },
  {
   "cell_type": "code",
   "execution_count": 14,
   "metadata": {},
   "outputs": [
    {
     "data": {
      "image/png": "[encoded data removed]",
      "text/plain": [
       "<Figure size 432x288 with 1 Axes>"
      ]
     },
     "metadata": {
      "needs_background": "light"
     },
     "output_type": "display_data"
    }
   ],
   "source": [
    "df_reg_2['product'].hist(bins=np.arange(0,192,5));"
   ]
  },
  {
   "cell_type": "markdown",
   "metadata": {},
   "source": [
    "### Вывод\n",
    "- файлы открыты и проанализированы,\n",
    "- в данных отсутствуют пропуски,\n",
    "- данные не нуждаются в дополнительной обработке,\n",
    "- из-за отсутвия дополнительных данных, описывающих, что из себя представляют столбцы, детальный анализ данных невозможен."
   ]
  },
  {
   "cell_type": "markdown",
   "metadata": {},
   "source": [
    "## Обучение и проверка модели"
   ]
  },
  {
   "cell_type": "markdown",
   "metadata": {},
   "source": [
    "### Разбивка на выборки"
   ]
  },
  {
   "cell_type": "code",
   "execution_count": 15,
   "metadata": {},
   "outputs": [],
   "source": [
    "def get_features_valid(df):\n",
    "    \"\"\"функция разбивает датасет на выборки признаков и целевого признака\"\"\"\n",
    "    features = df[['f0', 'f1', 'f2']]\n",
    "    target = df['product']\n",
    "\n",
    "    print(features.shape)\n",
    "    print(target.shape)\n",
    "    \n",
    "    return features, target"
   ]
  },
  {
   "cell_type": "markdown",
   "metadata": {},
   "source": [
    "Разобьем датасет по каждому региону"
   ]
  },
  {
   "cell_type": "code",
   "execution_count": 16,
   "metadata": {},
   "outputs": [
    {
     "name": "stdout",
     "output_type": "stream",
     "text": [
      "(100000, 3)\n",
      "(100000,)\n",
      "(100000, 3)\n",
      "(100000,)\n",
      "(100000, 3)\n",
      "(100000,)\n"
     ]
    }
   ],
   "source": [
    "features_0, target_0 = get_features_valid(df_reg_0)\n",
    "features_1, target_1 = get_features_valid(df_reg_1)\n",
    "features_2, target_2 = get_features_valid(df_reg_2)"
   ]
  },
  {
   "cell_type": "code",
   "execution_count": 17,
   "metadata": {},
   "outputs": [],
   "source": [
    "state = np.random.RandomState(12345)"
   ]
  },
  {
   "cell_type": "code",
   "execution_count": 18,
   "metadata": {},
   "outputs": [],
   "source": [
    "def get_split(features, target):\n",
    "    \"\"\"функция разбивает выборки на обучающие и валидацтонные выборки\"\"\"\n",
    "    train_features, valid_features, train_target, valid_target = train_test_split(\n",
    "    features,\n",
    "    target, \n",
    "    test_size=0.25,\n",
    "    random_state=12345\n",
    "    # random_state=state\n",
    "    )\n",
    "    #сбрасываем индексы\n",
    "    valid_target = valid_target.reset_index()\n",
    "    valid_target = valid_target['product']\n",
    "\n",
    "    print('признаки')\n",
    "    print(train_features.shape)\n",
    "    print(valid_features.shape)\n",
    "\n",
    "    print('целевые признаки')\n",
    "    print(train_target.shape)\n",
    "    print(valid_target.shape)\n",
    "\n",
    "    print('==================')\n",
    "\n",
    "    return train_features, valid_features, train_target, valid_target"
   ]
  },
  {
   "cell_type": "markdown",
   "metadata": {},
   "source": [
    "Получим валидационные и обучающие выборки по каждому региону"
   ]
  },
  {
   "cell_type": "code",
   "execution_count": 19,
   "metadata": {},
   "outputs": [
    {
     "name": "stdout",
     "output_type": "stream",
     "text": [
      "признаки\n",
      "(75000, 3)\n",
      "(25000, 3)\n",
      "целевые признаки\n",
      "(75000,)\n",
      "(25000,)\n",
      "==================\n",
      "признаки\n",
      "(75000, 3)\n",
      "(25000, 3)\n",
      "целевые признаки\n",
      "(75000,)\n",
      "(25000,)\n",
      "==================\n",
      "признаки\n",
      "(75000, 3)\n",
      "(25000, 3)\n",
      "целевые признаки\n",
      "(75000,)\n",
      "(25000,)\n",
      "==================\n"
     ]
    }
   ],
   "source": [
    "train_features_0, valid_features_0, train_target_0, valid_target_0 = get_split(features_0, target_0)\n",
    "train_features_1, valid_features_1, train_target_1, valid_target_1 = get_split(features_1, target_1)\n",
    "train_features_2, valid_features_2, train_target_2, valid_target_2 = get_split(features_2, target_2)"
   ]
  },
  {
   "cell_type": "markdown",
   "metadata": {},
   "source": [
    "### Обучение моделей"
   ]
  },
  {
   "cell_type": "code",
   "execution_count": 20,
   "metadata": {},
   "outputs": [],
   "source": [
    "def get_predict (train_features, valid_features, train_target, valid_target):\n",
    "    \"\"\"функция обучает модель, возвращает предсказания и выводит на экран значения RMSE \"\"\"\n",
    "    model = LinearRegression(n_jobs=-1)\n",
    "    model.fit(train_features, train_target)\n",
    "\n",
    "    prediction = model.predict(valid_features)\n",
    "    # переводим предсказания в сериес\n",
    "    prediction = pd.Series(prediction)\n",
    "\n",
    "    mse = MSE(valid_target, prediction)\n",
    "    rmse = mse**0.5\n",
    "\n",
    "    print(\n",
    "        f\"RMSE = {round(rmse,2)}\\nсредний запас предсказанного сырья = {round(prediction.mean(),2)}\"\n",
    "    )\n",
    "    print('=================')\n",
    "    return prediction"
   ]
  },
  {
   "cell_type": "markdown",
   "metadata": {},
   "source": [
    "Получим предсказания по регионам"
   ]
  },
  {
   "cell_type": "code",
   "execution_count": 21,
   "metadata": {},
   "outputs": [
    {
     "name": "stdout",
     "output_type": "stream",
     "text": [
      "RMSE = 37.58\n",
      "средний запас предсказанного сырья = 92.59\n",
      "=================\n",
      "RMSE = 0.89\n",
      "средний запас предсказанного сырья = 68.73\n",
      "=================\n",
      "RMSE = 40.03\n",
      "средний запас предсказанного сырья = 94.97\n",
      "=================\n"
     ]
    }
   ],
   "source": [
    "prediction_0 = get_predict(train_features_0, valid_features_0, train_target_0, valid_target_0)\n",
    "prediction_1 = get_predict(train_features_1, valid_features_1, train_target_1, valid_target_1)\n",
    "prediction_2 = get_predict(train_features_2, valid_features_2, train_target_2, valid_target_2)"
   ]
  },
  {
   "cell_type": "markdown",
   "metadata": {},
   "source": [
    "### Вывод\n",
    "- Средний запас сырья больше в регионе 0 и 2 выше, однако, значение RMSE высокое. Это свидетельствует о неоднозначности показателей, неточности модели регрессии.\n",
    "- Средние запасы сырья региона 1 меньше. Значение RMSE низкое, что говорит о более высоком качестве моделей."
   ]
  },
  {
   "cell_type": "markdown",
   "metadata": {},
   "source": [
    "## Подготовка к расчёту прибыли"
   ]
  },
  {
   "cell_type": "markdown",
   "metadata": {},
   "source": [
    "Бюджет будет полностью освоен при условии: бюджет = кол-во скважин * кол-во топлива * прибыль. Отсюда среднее кол-во сырья на одной скважине равно:\n",
    "\n",
    "$\\frac{бюджет}{скважины \\star прибыль}$"
   ]
  },
  {
   "cell_type": "code",
   "execution_count": 22,
   "metadata": {},
   "outputs": [
    {
     "data": {
      "text/plain": [
       "111.11111111111111"
      ]
     },
     "execution_count": 22,
     "metadata": {},
     "output_type": "execute_result"
    }
   ],
   "source": [
    "# бюджет на разработку 10 млдр\n",
    "BUDGET = 10*1e+9\n",
    "\n",
    "# разведка\n",
    "WELL_DEVELOPMENT = 500\n",
    "\n",
    "# лучшие скважины\n",
    "TOP_WELL = 200\n",
    "\n",
    "# прибыль с 1 ед. топлива 450 т.р.\n",
    "PROFIT_FUEL = 450*1e+3\n",
    "\n",
    "# минимальное кол-во топливо для выхода в 0\n",
    "AVERAGE_FUEL = BUDGET / (TOP_WELL * PROFIT_FUEL)\n",
    "\n",
    "AVERAGE_FUEL"
   ]
  },
  {
   "cell_type": "markdown",
   "metadata": {},
   "source": [
    "### Вывод\n",
    "Среднее количество топлива на одной скажины, необходимое для полного освоения бюджета (выход в 0) - 111 т.баррелей. Это больше чем средний запас **предсказанного сырья по валидационной выборке** по регионам."
   ]
  },
  {
   "cell_type": "markdown",
   "metadata": {},
   "source": [
    "## Расчёт прибыли и рисков "
   ]
  },
  {
   "cell_type": "code",
   "execution_count": 23,
   "metadata": {},
   "outputs": [],
   "source": [
    "def get_profit(predict, valid, count):\n",
    "    \"\"\"функция берет значение самых богатых скважин и высчитывает прибыль\"\"\"\n",
    "    #сортируем по возрастанию\n",
    "    predict_sort = predict.sort_values(ascending=False)\n",
    "\n",
    "    # отбираем из валид.выборки по индексам отсортированного предсказания и берем count скважин\n",
    "    valid_sort = valid[predict_sort.index][:count]\n",
    "    \n",
    "    # общее кол-во топлива\n",
    "    total_fuel = valid_sort.sum()\n",
    "    \n",
    "    # считаем прибиль: запасы топлива всех скважин * прибыль с топлива - бюджет\n",
    "    profit = total_fuel * PROFIT_FUEL - BUDGET\n",
    " \n",
    "    return profit"
   ]
  },
  {
   "cell_type": "code",
   "execution_count": 24,
   "metadata": {},
   "outputs": [],
   "source": [
    "def get_top_fuel(predict, valid, count):\n",
    "    #сортируем по возрастанию\n",
    "    predict_sort = predict.sort_values(ascending=False)\n",
    "\n",
    "    # отбираем из валид.выборки по индексам отсортированного предсказания и берем count скважин\n",
    "    valid_sort = valid[predict_sort.index][:count]\n",
    "    \n",
    "    # общее кол-во топлива\n",
    "    total_fuel = valid_sort.sum()\n",
    " \n",
    "    return total_fuel"
   ]
  },
  {
   "cell_type": "markdown",
   "metadata": {},
   "source": [
    "Расчитаем прибыль с 200 лучших скважин по каждому региону и общее кол-во топлива"
   ]
  },
  {
   "cell_type": "code",
   "execution_count": 25,
   "metadata": {},
   "outputs": [
    {
     "name": "stdout",
     "output_type": "stream",
     "text": [
      "======общая прибыль с лучших скважин по регионам=======\n",
      "3321 млн.\n",
      "2415 млн.\n",
      "2710 млн.\n",
      "======общее кол-во топлива с лучших скважин по регионам=======\n",
      "29602\n",
      "27589\n",
      "28245\n"
     ]
    }
   ],
   "source": [
    "print('======общая прибыль с лучших скважин по регионам=======')\n",
    "print(round(get_profit(prediction_0, valid_target_0, TOP_WELL)/1e+6), 'млн.')\n",
    "print(round(get_profit(prediction_1, valid_target_1, TOP_WELL)/1e+6), 'млн.')\n",
    "print(round(get_profit(prediction_2, valid_target_2, TOP_WELL)/1e+6), 'млн.')\n",
    "print('======общее кол-во топлива с лучших скважин по регионам=======')\n",
    "\n",
    "print(round(get_top_fuel(prediction_0, valid_target_0, TOP_WELL)))\n",
    "print(round(get_top_fuel(prediction_1, valid_target_1, TOP_WELL)))\n",
    "print(round(get_top_fuel(prediction_2, valid_target_2, TOP_WELL)))"
   ]
  },
  {
   "cell_type": "markdown",
   "metadata": {},
   "source": [
    "Общее кол-во топлива с 200 лучших скважин, превышает среднее минимальное значение топлива, необходимое для полного освоения бюджета(выход в 0)"
   ]
  },
  {
   "cell_type": "code",
   "execution_count": 26,
   "metadata": {},
   "outputs": [],
   "source": [
    "def boot_fuel(predict, valid, repeat):\n",
    "    \"\"\"функция с помощью техники бутстреп отбирает средние значения из лучших скважин из случайных\"\"\"\n",
    "    values = []\n",
    "    alpha = 0.05\n",
    "\n",
    "    # бутстреп\n",
    "    for _ in tqdm_notebook(range(repeat)):\n",
    "        predict_sample = predict.sample(n=WELL_DEVELOPMENT, random_state=state, replace=True)\n",
    "        valid_sample = valid[predict_sample.index]\n",
    "        # расчет прибыли\n",
    "        result = get_profit(predict_sample, valid_sample, TOP_WELL)\n",
    "        values.append(result)\n",
    "\n",
    "    values = pd.Series(values)\n",
    "\n",
    "    # доверительный интервал в 95%\n",
    "    lower = round( values.quantile(alpha/2) / 1e+6 ) # 2.5% снизу\n",
    "    upper = round( values.quantile(1-alpha/2) / 1e+6 ) # 2,5% сверху\n",
    "\n",
    "    #считаем шанс получить отрицательную прибыль \n",
    "    risk = (values < 0).sum() / repeat * 100\n",
    "\n",
    "    print(\n",
    "        f'Средняя прибыль: {round(values.mean()/1e+6)} млн.\\n95% интервал:{(lower, upper,)} млн.\\nриск убытков:{round(risk,2)}%'\n",
    "    )"
   ]
  },
  {
   "cell_type": "markdown",
   "metadata": {},
   "source": [
    "Посчитаем с помощью техники бутстреп среднее значение прибыли со скважин, доверительный интервал и риск убытков."
   ]
  },
  {
   "cell_type": "code",
   "execution_count": 27,
   "metadata": {},
   "outputs": [
    {
     "data": {
      "application/vnd.jupyter.widget-view+json": {
       "model_id": "7ea68bda921a4b4497060829068c8663",
       "version_major": 2,
       "version_minor": 0
      },
      "text/plain": [
       "  0%|          | 0/1000 [00:00<?, ?it/s]"
      ]
     },
     "metadata": {},
     "output_type": "display_data"
    },
    {
     "name": "stdout",
     "output_type": "stream",
     "text": [
      "Средняя прибыль: 426 млн.\n",
      "95% интервал:(-102, 948) млн.\n",
      "риск убытков:6.0%\n"
     ]
    },
    {
     "data": {
      "application/vnd.jupyter.widget-view+json": {
       "model_id": "e4397d8b530347ed8ec17378053ba786",
       "version_major": 2,
       "version_minor": 0
      },
      "text/plain": [
       "  0%|          | 0/1000 [00:00<?, ?it/s]"
      ]
     },
     "metadata": {},
     "output_type": "display_data"
    },
    {
     "name": "stdout",
     "output_type": "stream",
     "text": [
      "Средняя прибыль: 518 млн.\n",
      "95% интервал:(128, 954) млн.\n",
      "риск убытков:0.3%\n"
     ]
    },
    {
     "data": {
      "application/vnd.jupyter.widget-view+json": {
       "model_id": "90761b81522a46b3b44f655225694b69",
       "version_major": 2,
       "version_minor": 0
      },
      "text/plain": [
       "  0%|          | 0/1000 [00:00<?, ?it/s]"
      ]
     },
     "metadata": {},
     "output_type": "display_data"
    },
    {
     "name": "stdout",
     "output_type": "stream",
     "text": [
      "Средняя прибыль: 420 млн.\n",
      "95% интервал:(-116, 990) млн.\n",
      "риск убытков:6.2%\n"
     ]
    }
   ],
   "source": [
    "boot_fuel(prediction_0, valid_target_0, 1000)\n",
    "boot_fuel(prediction_1, valid_target_1, 1000)\n",
    "boot_fuel(prediction_2, valid_target_2, 1000)"
   ]
  },
  {
   "cell_type": "markdown",
   "metadata": {},
   "source": [
    "### Вывод\n",
    "Рекомендуемый регион для разработки - регион 1:\n",
    "- модель обученная на данных региона - самая качественная\n",
    "- низкий уровень риска при разработке месторождений\n",
    "- самая высокая средняя прибыль\n",
    "- 95% интервал прибыли не имеет отрицательных значений"
   ]
  },
  {
   "cell_type": "markdown",
   "metadata": {},
   "source": [
    "## ВЫВОД"
   ]
  },
  {
   "cell_type": "markdown",
   "metadata": {},
   "source": [
    "- обучены и проверены модели для каждого региона,\n",
    "- произведена подготовка прибыли,\n",
    "- написаны функции для расчёта прибыли по выбранным скважинам и предсказаниям модели,\n",
    "- подсчитаны риски и прибыли для каждого региона\n",
    "- в каждом пункте сделаны краткие выводы."
   ]
  }
 ],
 "metadata": {
  "ExecuteTimeLog": [
   {
    "duration": 11,
    "start_time": "2022-03-25T07:56:24.919Z"
   },
   {
    "duration": 53,
    "start_time": "2022-03-25T07:56:26.683Z"
   },
   {
    "duration": 1214,
    "start_time": "2022-03-25T07:56:30.717Z"
   },
   {
    "duration": 356,
    "start_time": "2022-03-25T07:56:31.932Z"
   },
   {
    "duration": 18,
    "start_time": "2022-03-25T07:56:32.290Z"
   },
   {
    "duration": 30,
    "start_time": "2022-03-25T07:56:32.311Z"
   },
   {
    "duration": 41,
    "start_time": "2022-03-25T07:56:32.343Z"
   },
   {
    "duration": 613,
    "start_time": "2022-03-25T07:56:32.386Z"
   },
   {
    "duration": 10,
    "start_time": "2022-03-25T07:56:33.001Z"
   },
   {
    "duration": 27,
    "start_time": "2022-03-25T07:56:33.013Z"
   },
   {
    "duration": 40,
    "start_time": "2022-03-25T07:56:33.042Z"
   },
   {
    "duration": 166,
    "start_time": "2022-03-25T07:56:33.085Z"
   },
   {
    "duration": 10,
    "start_time": "2022-03-25T07:56:33.253Z"
   },
   {
    "duration": 21,
    "start_time": "2022-03-25T07:56:33.265Z"
   },
   {
    "duration": 58,
    "start_time": "2022-03-25T07:56:33.288Z"
   },
   {
    "duration": 179,
    "start_time": "2022-03-25T07:56:33.348Z"
   },
   {
    "duration": 9,
    "start_time": "2022-03-25T07:56:33.529Z"
   },
   {
    "duration": 13,
    "start_time": "2022-03-25T07:56:33.540Z"
   },
   {
    "duration": 5,
    "start_time": "2022-03-25T07:56:33.555Z"
   },
   {
    "duration": 8,
    "start_time": "2022-03-25T07:56:33.562Z"
   },
   {
    "duration": 43,
    "start_time": "2022-03-25T07:56:33.572Z"
   },
   {
    "duration": 21,
    "start_time": "2022-03-25T07:56:33.617Z"
   },
   {
    "duration": 300,
    "start_time": "2022-03-25T07:56:33.640Z"
   },
   {
    "duration": 9,
    "start_time": "2022-03-25T07:56:33.943Z"
   },
   {
    "duration": 5,
    "start_time": "2022-03-25T07:56:34.039Z"
   },
   {
    "duration": 7,
    "start_time": "2022-03-25T07:56:34.046Z"
   },
   {
    "duration": 39,
    "start_time": "2022-03-25T07:56:34.055Z"
   },
   {
    "duration": 5,
    "start_time": "2022-03-25T07:56:34.095Z"
   },
   {
    "duration": 4219,
    "start_time": "2022-03-25T07:56:34.101Z"
   },
   {
    "duration": 3,
    "start_time": "2022-03-25T07:56:38.337Z"
   },
   {
    "duration": 5,
    "start_time": "2022-03-25T07:57:19.301Z"
   },
   {
    "duration": 4220,
    "start_time": "2022-03-25T07:57:23.148Z"
   },
   {
    "duration": 5,
    "start_time": "2022-03-25T07:57:40.614Z"
   },
   {
    "duration": 4225,
    "start_time": "2022-03-25T07:57:44.438Z"
   },
   {
    "duration": 5,
    "start_time": "2022-03-25T07:58:11.606Z"
   },
   {
    "duration": 4322,
    "start_time": "2022-03-25T07:58:13.849Z"
   },
   {
    "duration": 5,
    "start_time": "2022-03-25T07:58:23.204Z"
   },
   {
    "duration": 4462,
    "start_time": "2022-03-25T07:58:25.567Z"
   },
   {
    "duration": 5,
    "start_time": "2022-03-25T07:59:15.639Z"
   },
   {
    "duration": 4400,
    "start_time": "2022-03-25T07:59:18.052Z"
   },
   {
    "duration": 1098,
    "start_time": "2022-03-25T08:02:49.470Z"
   },
   {
    "duration": 340,
    "start_time": "2022-03-25T08:02:50.570Z"
   },
   {
    "duration": 17,
    "start_time": "2022-03-25T08:02:50.911Z"
   },
   {
    "duration": 22,
    "start_time": "2022-03-25T08:02:50.930Z"
   },
   {
    "duration": 71,
    "start_time": "2022-03-25T08:02:50.953Z"
   },
   {
    "duration": 460,
    "start_time": "2022-03-25T08:02:51.041Z"
   },
   {
    "duration": 11,
    "start_time": "2022-03-25T08:02:51.503Z"
   },
   {
    "duration": 34,
    "start_time": "2022-03-25T08:02:51.516Z"
   },
   {
    "duration": 38,
    "start_time": "2022-03-25T08:02:51.552Z"
   },
   {
    "duration": 163,
    "start_time": "2022-03-25T08:02:51.593Z"
   },
   {
    "duration": 12,
    "start_time": "2022-03-25T08:02:51.758Z"
   },
   {
    "duration": 15,
    "start_time": "2022-03-25T08:02:51.772Z"
   },
   {
    "duration": 66,
    "start_time": "2022-03-25T08:02:51.789Z"
   },
   {
    "duration": 188,
    "start_time": "2022-03-25T08:02:51.857Z"
   },
   {
    "duration": 4,
    "start_time": "2022-03-25T08:02:52.047Z"
   },
   {
    "duration": 14,
    "start_time": "2022-03-25T08:02:52.054Z"
   },
   {
    "duration": 11,
    "start_time": "2022-03-25T08:02:52.070Z"
   },
   {
    "duration": 10,
    "start_time": "2022-03-25T08:02:52.083Z"
   },
   {
    "duration": 55,
    "start_time": "2022-03-25T08:02:52.095Z"
   },
   {
    "duration": 10,
    "start_time": "2022-03-25T08:02:52.151Z"
   },
   {
    "duration": 179,
    "start_time": "2022-03-25T08:02:52.163Z"
   },
   {
    "duration": 7,
    "start_time": "2022-03-25T08:02:52.343Z"
   },
   {
    "duration": 6,
    "start_time": "2022-03-25T08:02:52.439Z"
   },
   {
    "duration": 7,
    "start_time": "2022-03-25T08:02:52.446Z"
   },
   {
    "duration": 85,
    "start_time": "2022-03-25T08:02:52.455Z"
   },
   {
    "duration": 6,
    "start_time": "2022-03-25T08:02:52.542Z"
   },
   {
    "duration": 4171,
    "start_time": "2022-03-25T08:02:52.550Z"
   },
   {
    "duration": 3,
    "start_time": "2022-03-25T08:02:56.737Z"
   }
  ],
  "kernelspec": {
   "display_name": "Python 3 (ipykernel)",
   "language": "python",
   "name": "python3"
  },
  "language_info": {
   "codemirror_mode": {
    "name": "ipython",
    "version": 3
   },
   "file_extension": ".py",
   "mimetype": "text/x-python",
   "name": "python",
   "nbconvert_exporter": "python",
   "pygments_lexer": "ipython3",
   "version": "3.10.5"
  },
  "toc": {
   "base_numbering": 1,
   "nav_menu": {},
   "number_sections": true,
   "sideBar": true,
   "skip_h1_title": true,
   "title_cell": "Оглавление",
   "title_sidebar": "Contents",
   "toc_cell": true,
   "toc_position": {},
   "toc_section_display": true,
   "toc_window_display": true
  },
  "varInspector": {
   "cols": {
    "lenName": 16,
    "lenType": 16,
    "lenVar": 40
   },
   "kernels_config": {
    "python": {
     "delete_cmd_postfix": "",
     "delete_cmd_prefix": "del ",
     "library": "var_list.py",
     "varRefreshCmd": "print(var_dic_list())"
    },
    "r": {
     "delete_cmd_postfix": ") ",
     "delete_cmd_prefix": "rm(",
     "library": "var_list.r",
     "varRefreshCmd": "cat(var_dic_list()) "
    }
   },
   "types_to_exclude": [
    "module",
    "function",
    "builtin_function_or_method",
    "instance",
    "_Feature"
   ],
   "window_display": false
  }
 },
 "nbformat": 4,
 "nbformat_minor": 4
}
