{
 "cells": [
  {
   "cell_type": "markdown",
   "metadata": {},
   "source": [
    "# Исследование объявлений о продаже квартир\n",
    "\n",
    "В вашем распоряжении данные сервиса Яндекс.Недвижимость — архив объявлений о продаже квартир в Санкт-Петербурге и соседних населённых пунктах за несколько лет. Нужно научиться определять рыночную стоимость объектов недвижимости. Ваша задача — установить параметры. Это позволит построить автоматизированную систему: она отследит аномалии и мошенническую деятельность. \n",
    "\n",
    "По каждой квартире на продажу доступны два вида данных. Первые вписаны пользователем, вторые получены автоматически на основе картографических данных. Например, расстояние до центра, аэропорта, ближайшего парка и водоёма."
   ]
  },
  {
   "cell_type": "markdown",
   "metadata": {},
   "source": [
    "## Изучение данных из файла"
   ]
  },
  {
   "cell_type": "markdown",
   "metadata": {},
   "source": [
    "Импортируем необходимы библиотеки"
   ]
  },
  {
   "cell_type": "code",
   "execution_count": 1,
   "metadata": {},
   "outputs": [],
   "source": [
    "import pandas as pd\n",
    "import matplotlib.pyplot as plt\n",
    "import seaborn as sns\n",
    "#sns.set()\n",
    "#plt.style.use('ggplot')"
   ]
  },
  {
   "cell_type": "markdown",
   "metadata": {},
   "source": [
    "Передадим датасет в переменную df"
   ]
  },
  {
   "cell_type": "code",
   "execution_count": 2,
   "metadata": {},
   "outputs": [],
   "source": [
    "# считываем файл *.csv в переменную df. Разделитель - знак табуляции\n",
    "df = pd.read_csv('/datasets/real_estate_data.csv', sep='\\t')"
   ]
  },
  {
   "cell_type": "markdown",
   "metadata": {},
   "source": [
    "Выведим первые строки датафрейма"
   ]
  },
  {
   "cell_type": "code",
   "execution_count": 3,
   "metadata": {},
   "outputs": [
    {
     "data": {
      "text/html": [
       "<div>\n",
       "<style scoped>\n",
       "    .dataframe tbody tr th:only-of-type {\n",
       "        vertical-align: middle;\n",
       "    }\n",
       "\n",
       "    .dataframe tbody tr th {\n",
       "        vertical-align: top;\n",
       "    }\n",
       "\n",
       "    .dataframe thead th {\n",
       "        text-align: right;\n",
       "    }\n",
       "</style>\n",
       "<table border=\"1\" class=\"dataframe\">\n",
       "  <thead>\n",
       "    <tr style=\"text-align: right;\">\n",
       "      <th></th>\n",
       "      <th>total_images</th>\n",
       "      <th>last_price</th>\n",
       "      <th>total_area</th>\n",
       "      <th>first_day_exposition</th>\n",
       "      <th>rooms</th>\n",
       "      <th>ceiling_height</th>\n",
       "      <th>floors_total</th>\n",
       "      <th>living_area</th>\n",
       "      <th>floor</th>\n",
       "      <th>is_apartment</th>\n",
       "      <th>...</th>\n",
       "      <th>kitchen_area</th>\n",
       "      <th>balcony</th>\n",
       "      <th>locality_name</th>\n",
       "      <th>airports_nearest</th>\n",
       "      <th>cityCenters_nearest</th>\n",
       "      <th>parks_around3000</th>\n",
       "      <th>parks_nearest</th>\n",
       "      <th>ponds_around3000</th>\n",
       "      <th>ponds_nearest</th>\n",
       "      <th>days_exposition</th>\n",
       "    </tr>\n",
       "  </thead>\n",
       "  <tbody>\n",
       "    <tr>\n",
       "      <td>0</td>\n",
       "      <td>20</td>\n",
       "      <td>13000000.0</td>\n",
       "      <td>108.0</td>\n",
       "      <td>2019-03-07T00:00:00</td>\n",
       "      <td>3</td>\n",
       "      <td>2.70</td>\n",
       "      <td>16.0</td>\n",
       "      <td>51.0</td>\n",
       "      <td>8</td>\n",
       "      <td>NaN</td>\n",
       "      <td>...</td>\n",
       "      <td>25.0</td>\n",
       "      <td>NaN</td>\n",
       "      <td>Санкт-Петербург</td>\n",
       "      <td>18863.0</td>\n",
       "      <td>16028.0</td>\n",
       "      <td>1.0</td>\n",
       "      <td>482.0</td>\n",
       "      <td>2.0</td>\n",
       "      <td>755.0</td>\n",
       "      <td>NaN</td>\n",
       "    </tr>\n",
       "    <tr>\n",
       "      <td>1</td>\n",
       "      <td>7</td>\n",
       "      <td>3350000.0</td>\n",
       "      <td>40.4</td>\n",
       "      <td>2018-12-04T00:00:00</td>\n",
       "      <td>1</td>\n",
       "      <td>NaN</td>\n",
       "      <td>11.0</td>\n",
       "      <td>18.6</td>\n",
       "      <td>1</td>\n",
       "      <td>NaN</td>\n",
       "      <td>...</td>\n",
       "      <td>11.0</td>\n",
       "      <td>2.0</td>\n",
       "      <td>посёлок Шушары</td>\n",
       "      <td>12817.0</td>\n",
       "      <td>18603.0</td>\n",
       "      <td>0.0</td>\n",
       "      <td>NaN</td>\n",
       "      <td>0.0</td>\n",
       "      <td>NaN</td>\n",
       "      <td>81.0</td>\n",
       "    </tr>\n",
       "    <tr>\n",
       "      <td>2</td>\n",
       "      <td>10</td>\n",
       "      <td>5196000.0</td>\n",
       "      <td>56.0</td>\n",
       "      <td>2015-08-20T00:00:00</td>\n",
       "      <td>2</td>\n",
       "      <td>NaN</td>\n",
       "      <td>5.0</td>\n",
       "      <td>34.3</td>\n",
       "      <td>4</td>\n",
       "      <td>NaN</td>\n",
       "      <td>...</td>\n",
       "      <td>8.3</td>\n",
       "      <td>0.0</td>\n",
       "      <td>Санкт-Петербург</td>\n",
       "      <td>21741.0</td>\n",
       "      <td>13933.0</td>\n",
       "      <td>1.0</td>\n",
       "      <td>90.0</td>\n",
       "      <td>2.0</td>\n",
       "      <td>574.0</td>\n",
       "      <td>558.0</td>\n",
       "    </tr>\n",
       "    <tr>\n",
       "      <td>3</td>\n",
       "      <td>0</td>\n",
       "      <td>64900000.0</td>\n",
       "      <td>159.0</td>\n",
       "      <td>2015-07-24T00:00:00</td>\n",
       "      <td>3</td>\n",
       "      <td>NaN</td>\n",
       "      <td>14.0</td>\n",
       "      <td>NaN</td>\n",
       "      <td>9</td>\n",
       "      <td>NaN</td>\n",
       "      <td>...</td>\n",
       "      <td>NaN</td>\n",
       "      <td>0.0</td>\n",
       "      <td>Санкт-Петербург</td>\n",
       "      <td>28098.0</td>\n",
       "      <td>6800.0</td>\n",
       "      <td>2.0</td>\n",
       "      <td>84.0</td>\n",
       "      <td>3.0</td>\n",
       "      <td>234.0</td>\n",
       "      <td>424.0</td>\n",
       "    </tr>\n",
       "    <tr>\n",
       "      <td>4</td>\n",
       "      <td>2</td>\n",
       "      <td>10000000.0</td>\n",
       "      <td>100.0</td>\n",
       "      <td>2018-06-19T00:00:00</td>\n",
       "      <td>2</td>\n",
       "      <td>3.03</td>\n",
       "      <td>14.0</td>\n",
       "      <td>32.0</td>\n",
       "      <td>13</td>\n",
       "      <td>NaN</td>\n",
       "      <td>...</td>\n",
       "      <td>41.0</td>\n",
       "      <td>NaN</td>\n",
       "      <td>Санкт-Петербург</td>\n",
       "      <td>31856.0</td>\n",
       "      <td>8098.0</td>\n",
       "      <td>2.0</td>\n",
       "      <td>112.0</td>\n",
       "      <td>1.0</td>\n",
       "      <td>48.0</td>\n",
       "      <td>121.0</td>\n",
       "    </tr>\n",
       "  </tbody>\n",
       "</table>\n",
       "<p>5 rows × 22 columns</p>\n",
       "</div>"
      ],
      "text/plain": [
       "   total_images  last_price  total_area first_day_exposition  rooms  \\\n",
       "0            20  13000000.0       108.0  2019-03-07T00:00:00      3   \n",
       "1             7   3350000.0        40.4  2018-12-04T00:00:00      1   \n",
       "2            10   5196000.0        56.0  2015-08-20T00:00:00      2   \n",
       "3             0  64900000.0       159.0  2015-07-24T00:00:00      3   \n",
       "4             2  10000000.0       100.0  2018-06-19T00:00:00      2   \n",
       "\n",
       "   ceiling_height  floors_total  living_area  floor is_apartment  ...  \\\n",
       "0            2.70          16.0         51.0      8          NaN  ...   \n",
       "1             NaN          11.0         18.6      1          NaN  ...   \n",
       "2             NaN           5.0         34.3      4          NaN  ...   \n",
       "3             NaN          14.0          NaN      9          NaN  ...   \n",
       "4            3.03          14.0         32.0     13          NaN  ...   \n",
       "\n",
       "   kitchen_area  balcony    locality_name  airports_nearest  \\\n",
       "0          25.0      NaN  Санкт-Петербург           18863.0   \n",
       "1          11.0      2.0   посёлок Шушары           12817.0   \n",
       "2           8.3      0.0  Санкт-Петербург           21741.0   \n",
       "3           NaN      0.0  Санкт-Петербург           28098.0   \n",
       "4          41.0      NaN  Санкт-Петербург           31856.0   \n",
       "\n",
       "  cityCenters_nearest  parks_around3000  parks_nearest  ponds_around3000  \\\n",
       "0             16028.0               1.0          482.0               2.0   \n",
       "1             18603.0               0.0            NaN               0.0   \n",
       "2             13933.0               1.0           90.0               2.0   \n",
       "3              6800.0               2.0           84.0               3.0   \n",
       "4              8098.0               2.0          112.0               1.0   \n",
       "\n",
       "   ponds_nearest  days_exposition  \n",
       "0          755.0              NaN  \n",
       "1            NaN             81.0  \n",
       "2          574.0            558.0  \n",
       "3          234.0            424.0  \n",
       "4           48.0            121.0  \n",
       "\n",
       "[5 rows x 22 columns]"
      ]
     },
     "metadata": {},
     "output_type": "display_data"
    }
   ],
   "source": [
    "display(df.head())"
   ]
  },
  {
   "cell_type": "markdown",
   "metadata": {},
   "source": [
    "Выведим инормацию о датафрейме"
   ]
  },
  {
   "cell_type": "code",
   "execution_count": 4,
   "metadata": {},
   "outputs": [
    {
     "name": "stdout",
     "output_type": "stream",
     "text": [
      "<class 'pandas.core.frame.DataFrame'>\n",
      "RangeIndex: 23699 entries, 0 to 23698\n",
      "Data columns (total 22 columns):\n",
      "total_images            23699 non-null int64\n",
      "last_price              23699 non-null float64\n",
      "total_area              23699 non-null float64\n",
      "first_day_exposition    23699 non-null object\n",
      "rooms                   23699 non-null int64\n",
      "ceiling_height          14504 non-null float64\n",
      "floors_total            23613 non-null float64\n",
      "living_area             21796 non-null float64\n",
      "floor                   23699 non-null int64\n",
      "is_apartment            2775 non-null object\n",
      "studio                  23699 non-null bool\n",
      "open_plan               23699 non-null bool\n",
      "kitchen_area            21421 non-null float64\n",
      "balcony                 12180 non-null float64\n",
      "locality_name           23650 non-null object\n",
      "airports_nearest        18157 non-null float64\n",
      "cityCenters_nearest     18180 non-null float64\n",
      "parks_around3000        18181 non-null float64\n",
      "parks_nearest           8079 non-null float64\n",
      "ponds_around3000        18181 non-null float64\n",
      "ponds_nearest           9110 non-null float64\n",
      "days_exposition         20518 non-null float64\n",
      "dtypes: bool(2), float64(14), int64(3), object(3)\n",
      "memory usage: 3.7+ MB\n"
     ]
    }
   ],
   "source": [
    "df.info()"
   ]
  },
  {
   "cell_type": "markdown",
   "metadata": {},
   "source": [
    "**Общая информация о таблице**  \n",
    "Итак, в таблице 22 столбца.\n",
    "\n",
    "Согласно документации к данным:\n",
    "\n",
    "| Наименование столбца| информация | тип данный |\n",
    "|---------------------|------------|------------|\n",
    "| total_images| число фотографий квартиры в объявлении  | Целочисленный |\n",
    "| last_price            | Цена на момент снятия с публикации      | Вещественный (float64)  |\n",
    "| total_area | площадь квартиры в квадратных метрах (м²)  | Вещественный (float64)  |\n",
    "| first_day_exposition | дата публикации | object |\n",
    "| rooms | число комнат | Целочисленный (int64) |\n",
    "| ceiling_height | высота потолков (м) | Вещественный (float64) |\n",
    "| floors_total | всего этажей в доме |  Вещественный (float64) |\n",
    "| living_area | жилая площадь в квадратных метрах (м²) | Вещественный (float64) |\n",
    "| floor | этаж | Цлочисленный (int64) |\n",
    "| is_apartment | апартаменты (булев тип). Пояснение: апартаменты — это нежилые помещения, которые не относятся к жилому фонду, но имеют необходимые условия для проживания.| object |\n",
    "| studio | квартира-студия (булев тип) | bool |\n",
    "| open_plan | свободная планировка (булев тип) | bool |\n",
    "| kitchen_area | площадь кухни в квадратных метрах (м²) | Вещественный (float64) |\n",
    "| balcony | число балконов | Вещественный (float64) |\n",
    "| locality_name | название населённого пункта | object |\n",
    "| airports_nearest | расстояние до ближайшего аэропорта в метрах (м) | Вещественный (float64) |\n",
    "| cityCenters_nearest | расстояние до центра города (м) | Вещественный (float64) |\n",
    "| parks_around3000 | число парков в радиусе 3 км | Вещественный (float64) |\n",
    "| parks_nearest | расстояние до ближайшего парка (м) | Вещественный (float64) |\n",
    "| ponds_around3000 | число водоёмов в радиусе 3 км | Вещественный (float64) |\n",
    "| ponds_nearest | расстояние до ближайшего водоёма (м) | Вещественный (float64) |\n",
    "| days_exposition | сколько дней было размещено объявление (от публикации до снятия) | Вещественный (float64) |\n",
    "\n",
    "\n",
    "Колонока `'cityCenters_nearest'` нарушает общий стиль написания в Python(заглавная буква C). Исправим это сразу\n"
   ]
  },
  {
   "cell_type": "code",
   "execution_count": 5,
   "metadata": {},
   "outputs": [
    {
     "name": "stdout",
     "output_type": "stream",
     "text": [
      "Index(['total_images', 'last_price', 'total_area', 'first_day_exposition',\n",
      "       'rooms', 'ceiling_height', 'floors_total', 'living_area', 'floor',\n",
      "       'is_apartment', 'studio', 'open_plan', 'kitchen_area', 'balcony',\n",
      "       'locality_name', 'airports_nearest', 'centers_nearest',\n",
      "       'parks_around3000', 'parks_nearest', 'ponds_around3000',\n",
      "       'ponds_nearest', 'days_exposition'],\n",
      "      dtype='object')\n"
     ]
    }
   ],
   "source": [
    "# Переименовываем столбец 'cityCenters_nearest' в 'centers_nearest'\n",
    "df = df.rename(columns={'cityCenters_nearest':'centers_nearest'})\n",
    "\n",
    "# Проверим изменения\n",
    "print(df.columns)"
   ]
  },
  {
   "cell_type": "markdown",
   "metadata": {},
   "source": [
    "### Вывод"
   ]
  },
  {
   "cell_type": "markdown",
   "metadata": {},
   "source": [
    "В каждой строке таблицы — информация о недвижимости, выставленной на продажу.  \n",
    "\n",
    "Часть колонок описывают характеритстики жилья:\n",
    "- число балконов\n",
    "- высота потолков\n",
    "- этаж\n",
    "- всего этажей в доме\n",
    "- тип жилья: апартаменты, квартира-студия\n",
    "- площадь: жилая, кухни, общая\n",
    "- число комнат\n",
    "- тип планировки  \n",
    "\n",
    "Часть георафические характеристики:\n",
    "- расстояние до ближайшего аэропорта\n",
    "- расстояние до центра города\n",
    "- название населённого пункта\n",
    "- наличие парков, водоемов в близкой доступности\n",
    "\n",
    "Часть характеристик связана с объявлением о продаже:\n",
    "- сколько дней было размещено объявление (от публикации до снятия)\n",
    "- дата публикации\n",
    "- цена на момент снятия с публикации\n",
    "- число фотографий квартиры в объявлении  \n",
    "\n",
    "Предварительно можно утверждать, что данных достаточно для проверки гипотез.  \n",
    "Чтобы двигаться дальше, нужно произвести предобработку данных."
   ]
  },
  {
   "cell_type": "markdown",
   "metadata": {},
   "source": [
    "## Предобработка данных"
   ]
  },
  {
   "cell_type": "markdown",
   "metadata": {},
   "source": [
    "Для дальнейшей работы займемся предобработкой данных. Она включает в себя:  \n",
    "1. Анализ данных на наличие пропусков. Действия по их устранению,\n",
    "2. Замены типов данных для более комфортной работы с данными,\n",
    "3. Удалению дубликатов"
   ]
  },
  {
   "cell_type": "markdown",
   "metadata": {},
   "source": [
    "### Обработка пропусков"
   ]
  },
  {
   "cell_type": "markdown",
   "metadata": {},
   "source": [
    "Узнаем, сколько пропусков имеет наш датафрейм"
   ]
  },
  {
   "cell_type": "code",
   "execution_count": 6,
   "metadata": {},
   "outputs": [
    {
     "data": {
      "text/plain": [
       "total_images                0\n",
       "last_price                  0\n",
       "total_area                  0\n",
       "first_day_exposition        0\n",
       "rooms                       0\n",
       "ceiling_height           9195\n",
       "floors_total               86\n",
       "living_area              1903\n",
       "floor                       0\n",
       "is_apartment            20924\n",
       "studio                      0\n",
       "open_plan                   0\n",
       "kitchen_area             2278\n",
       "balcony                 11519\n",
       "locality_name              49\n",
       "airports_nearest         5542\n",
       "centers_nearest          5519\n",
       "parks_around3000         5518\n",
       "parks_nearest           15620\n",
       "ponds_around3000         5518\n",
       "ponds_nearest           14589\n",
       "days_exposition          3181\n",
       "dtype: int64"
      ]
     },
     "execution_count": 6,
     "metadata": {},
     "output_type": "execute_result"
    }
   ],
   "source": [
    "# Общее количество пропусков в каждом столбце\n",
    "df.isna().sum()"
   ]
  },
  {
   "cell_type": "markdown",
   "metadata": {},
   "source": [
    "Как мы видим, пропусков очень полно. Но, большинство данных не нужно для нашего исследования. Для исследования нам потребуются столбцы:\n",
    "\n",
    "- total_area - общая площадь\n",
    "- living_area — жилая площадь в квадратных метрах\n",
    "- kitchen_area - площадь кухни в квадратных метрах\n",
    "- last_price - цена на момент снятия с публикации\n",
    "- rooms - число комнат\n",
    "- ceiling_height - высота потолков\n",
    "- first_day_exposition — дата публикации\n",
    "- days_exposition — сколько дней было размещено объявление (от публикации до снятия)\n",
    "- centers_nearest — расстояние до центра города\n",
    "- floor — этаж\n",
    "- floors_total - всего этажей\n",
    "- locality_name — название населённого пункта\n",
    "\n",
    "Следовательно, для дальнейшего анализа, мы можем выкинуть ненужные столбцы"
   ]
  },
  {
   "cell_type": "code",
   "execution_count": 7,
   "metadata": {},
   "outputs": [
    {
     "name": "stdout",
     "output_type": "stream",
     "text": [
      "Index(['total_area', 'kitchen_area', 'living_area', 'ceiling_height', 'rooms',\n",
      "       'last_price', 'first_day_exposition', 'days_exposition',\n",
      "       'centers_nearest', 'floor', 'floors_total', 'locality_name'],\n",
      "      dtype='object')\n"
     ]
    }
   ],
   "source": [
    "# список столбцов\n",
    "list_col = ['total_area',\n",
    "            'kitchen_area',\n",
    "            'living_area',\n",
    "            'ceiling_height',\n",
    "            'rooms',\n",
    "            'last_price',            \n",
    "            'first_day_exposition',\n",
    "            'days_exposition',\n",
    "            'centers_nearest',\n",
    "            'floor',\n",
    "            'floors_total',\n",
    "            'locality_name']\n",
    "\n",
    "# переприсваиваем датасет. используем только нужные  столбцы\n",
    "df = df[list_col]\n",
    "\n",
    "#Проверяем\n",
    "print(df.columns)"
   ]
  },
  {
   "cell_type": "markdown",
   "metadata": {},
   "source": [
    "Теперь еще раз проверим количество пропусков"
   ]
  },
  {
   "cell_type": "code",
   "execution_count": 8,
   "metadata": {},
   "outputs": [
    {
     "data": {
      "text/plain": [
       "total_area                 0\n",
       "kitchen_area            2278\n",
       "living_area             1903\n",
       "ceiling_height          9195\n",
       "rooms                      0\n",
       "last_price                 0\n",
       "first_day_exposition       0\n",
       "days_exposition         3181\n",
       "centers_nearest         5519\n",
       "floor                      0\n",
       "floors_total              86\n",
       "locality_name             49\n",
       "dtype: int64"
      ]
     },
     "execution_count": 8,
     "metadata": {},
     "output_type": "execute_result"
    }
   ],
   "source": [
    "df.isna().sum()"
   ]
  },
  {
   "cell_type": "markdown",
   "metadata": {},
   "source": [
    "Заполним пропуски в населенном пункте.  \n",
    "В описании, было сказано, что географические положения были созданы автоматически на основе картографических данных. Скорее всего населенный пункт не внесен в картографическую базу. Но более правдоподобный вариант - это трудности с геолокацией  или в объявлении не указали населенный пункт. Пропусков всего 49 или же 0,2% от всех данных. Для иследования их удаление не принесет существенных отклонений. Поэтому можем смело их удалить"
   ]
  },
  {
   "cell_type": "code",
   "execution_count": 9,
   "metadata": {},
   "outputs": [
    {
     "data": {
      "text/plain": [
       "total_area                 0\n",
       "kitchen_area            2269\n",
       "living_area             1898\n",
       "ceiling_height          9160\n",
       "rooms                      0\n",
       "last_price                 0\n",
       "first_day_exposition       0\n",
       "days_exposition         3180\n",
       "centers_nearest         5511\n",
       "floor                      0\n",
       "floors_total              85\n",
       "locality_name              0\n",
       "dtype: int64"
      ]
     },
     "execution_count": 9,
     "metadata": {},
     "output_type": "execute_result"
    }
   ],
   "source": [
    "# Удаляем пропуски в столбце населенный пункт\n",
    "df = df.dropna(subset=['locality_name']).reset_index(drop=True)\n",
    "\n",
    "# проверяем работу кода\n",
    "df.isna().sum()"
   ]
  },
  {
   "cell_type": "markdown",
   "metadata": {},
   "source": [
    "Пропуска, связанные с планировкой скорее всего являются результатом не полного заполнения объявления. Пропуски будем заполнять медианой, высчитанной из значений для каждого населенного пункта, исходя из предположения, что в пределах одного населенного пункта застройка является типовой. Аналогично поступим и со временем размещения объявления."
   ]
  },
  {
   "cell_type": "code",
   "execution_count": 10,
   "metadata": {},
   "outputs": [
    {
     "data": {
      "text/html": [
       "<div>\n",
       "<style scoped>\n",
       "    .dataframe tbody tr th:only-of-type {\n",
       "        vertical-align: middle;\n",
       "    }\n",
       "\n",
       "    .dataframe tbody tr th {\n",
       "        vertical-align: top;\n",
       "    }\n",
       "\n",
       "    .dataframe thead th {\n",
       "        text-align: right;\n",
       "    }\n",
       "</style>\n",
       "<table border=\"1\" class=\"dataframe\">\n",
       "  <thead>\n",
       "    <tr style=\"text-align: right;\">\n",
       "      <th></th>\n",
       "      <th>total_area</th>\n",
       "      <th>kitchen_area</th>\n",
       "      <th>living_area</th>\n",
       "      <th>ceiling_height</th>\n",
       "      <th>rooms</th>\n",
       "      <th>last_price</th>\n",
       "      <th>days_exposition</th>\n",
       "      <th>centers_nearest</th>\n",
       "      <th>floor</th>\n",
       "      <th>floors_total</th>\n",
       "    </tr>\n",
       "  </thead>\n",
       "  <tbody>\n",
       "    <tr>\n",
       "      <td>total_area</td>\n",
       "      <td>1.000000</td>\n",
       "      <td>0.608879</td>\n",
       "      <td>0.939534</td>\n",
       "      <td>0.095417</td>\n",
       "      <td>0.758745</td>\n",
       "      <td>0.653743</td>\n",
       "      <td>0.149571</td>\n",
       "      <td>-0.231904</td>\n",
       "      <td>-0.024178</td>\n",
       "      <td>-0.075252</td>\n",
       "    </tr>\n",
       "    <tr>\n",
       "      <td>kitchen_area</td>\n",
       "      <td>0.608879</td>\n",
       "      <td>1.000000</td>\n",
       "      <td>0.428773</td>\n",
       "      <td>0.087646</td>\n",
       "      <td>0.270585</td>\n",
       "      <td>0.520233</td>\n",
       "      <td>0.101063</td>\n",
       "      <td>-0.191365</td>\n",
       "      <td>0.136610</td>\n",
       "      <td>0.164803</td>\n",
       "    </tr>\n",
       "    <tr>\n",
       "      <td>living_area</td>\n",
       "      <td>0.939534</td>\n",
       "      <td>0.428773</td>\n",
       "      <td>1.000000</td>\n",
       "      <td>0.090556</td>\n",
       "      <td>0.846088</td>\n",
       "      <td>0.566517</td>\n",
       "      <td>0.142171</td>\n",
       "      <td>-0.231170</td>\n",
       "      <td>-0.096825</td>\n",
       "      <td>-0.168940</td>\n",
       "    </tr>\n",
       "    <tr>\n",
       "      <td>ceiling_height</td>\n",
       "      <td>0.095417</td>\n",
       "      <td>0.087646</td>\n",
       "      <td>0.090556</td>\n",
       "      <td>1.000000</td>\n",
       "      <td>0.054323</td>\n",
       "      <td>0.085396</td>\n",
       "      <td>0.019025</td>\n",
       "      <td>-0.091480</td>\n",
       "      <td>-0.011677</td>\n",
       "      <td>-0.028586</td>\n",
       "    </tr>\n",
       "    <tr>\n",
       "      <td>rooms</td>\n",
       "      <td>0.758745</td>\n",
       "      <td>0.270585</td>\n",
       "      <td>0.846088</td>\n",
       "      <td>0.054323</td>\n",
       "      <td>1.000000</td>\n",
       "      <td>0.363421</td>\n",
       "      <td>0.126497</td>\n",
       "      <td>-0.184322</td>\n",
       "      <td>-0.150604</td>\n",
       "      <td>-0.227913</td>\n",
       "    </tr>\n",
       "    <tr>\n",
       "      <td>last_price</td>\n",
       "      <td>0.653743</td>\n",
       "      <td>0.520233</td>\n",
       "      <td>0.566517</td>\n",
       "      <td>0.085396</td>\n",
       "      <td>0.363421</td>\n",
       "      <td>1.000000</td>\n",
       "      <td>0.080937</td>\n",
       "      <td>-0.206887</td>\n",
       "      <td>0.026770</td>\n",
       "      <td>-0.006745</td>\n",
       "    </tr>\n",
       "    <tr>\n",
       "      <td>days_exposition</td>\n",
       "      <td>0.149571</td>\n",
       "      <td>0.101063</td>\n",
       "      <td>0.142171</td>\n",
       "      <td>0.019025</td>\n",
       "      <td>0.126497</td>\n",
       "      <td>0.080937</td>\n",
       "      <td>1.000000</td>\n",
       "      <td>-0.059481</td>\n",
       "      <td>-0.039501</td>\n",
       "      <td>-0.052410</td>\n",
       "    </tr>\n",
       "    <tr>\n",
       "      <td>centers_nearest</td>\n",
       "      <td>-0.231904</td>\n",
       "      <td>-0.191365</td>\n",
       "      <td>-0.231170</td>\n",
       "      <td>-0.091480</td>\n",
       "      <td>-0.184322</td>\n",
       "      <td>-0.206887</td>\n",
       "      <td>-0.059481</td>\n",
       "      <td>1.000000</td>\n",
       "      <td>0.008508</td>\n",
       "      <td>0.018743</td>\n",
       "    </tr>\n",
       "    <tr>\n",
       "      <td>floor</td>\n",
       "      <td>-0.024178</td>\n",
       "      <td>0.136610</td>\n",
       "      <td>-0.096825</td>\n",
       "      <td>-0.011677</td>\n",
       "      <td>-0.150604</td>\n",
       "      <td>0.026770</td>\n",
       "      <td>-0.039501</td>\n",
       "      <td>0.008508</td>\n",
       "      <td>1.000000</td>\n",
       "      <td>0.678010</td>\n",
       "    </tr>\n",
       "    <tr>\n",
       "      <td>floors_total</td>\n",
       "      <td>-0.075252</td>\n",
       "      <td>0.164803</td>\n",
       "      <td>-0.168940</td>\n",
       "      <td>-0.028586</td>\n",
       "      <td>-0.227913</td>\n",
       "      <td>-0.006745</td>\n",
       "      <td>-0.052410</td>\n",
       "      <td>0.018743</td>\n",
       "      <td>0.678010</td>\n",
       "      <td>1.000000</td>\n",
       "    </tr>\n",
       "  </tbody>\n",
       "</table>\n",
       "</div>"
      ],
      "text/plain": [
       "                 total_area  kitchen_area  living_area  ceiling_height  \\\n",
       "total_area         1.000000      0.608879     0.939534        0.095417   \n",
       "kitchen_area       0.608879      1.000000     0.428773        0.087646   \n",
       "living_area        0.939534      0.428773     1.000000        0.090556   \n",
       "ceiling_height     0.095417      0.087646     0.090556        1.000000   \n",
       "rooms              0.758745      0.270585     0.846088        0.054323   \n",
       "last_price         0.653743      0.520233     0.566517        0.085396   \n",
       "days_exposition    0.149571      0.101063     0.142171        0.019025   \n",
       "centers_nearest   -0.231904     -0.191365    -0.231170       -0.091480   \n",
       "floor             -0.024178      0.136610    -0.096825       -0.011677   \n",
       "floors_total      -0.075252      0.164803    -0.168940       -0.028586   \n",
       "\n",
       "                    rooms  last_price  days_exposition  centers_nearest  \\\n",
       "total_area       0.758745    0.653743         0.149571        -0.231904   \n",
       "kitchen_area     0.270585    0.520233         0.101063        -0.191365   \n",
       "living_area      0.846088    0.566517         0.142171        -0.231170   \n",
       "ceiling_height   0.054323    0.085396         0.019025        -0.091480   \n",
       "rooms            1.000000    0.363421         0.126497        -0.184322   \n",
       "last_price       0.363421    1.000000         0.080937        -0.206887   \n",
       "days_exposition  0.126497    0.080937         1.000000        -0.059481   \n",
       "centers_nearest -0.184322   -0.206887        -0.059481         1.000000   \n",
       "floor           -0.150604    0.026770        -0.039501         0.008508   \n",
       "floors_total    -0.227913   -0.006745        -0.052410         0.018743   \n",
       "\n",
       "                    floor  floors_total  \n",
       "total_area      -0.024178     -0.075252  \n",
       "kitchen_area     0.136610      0.164803  \n",
       "living_area     -0.096825     -0.168940  \n",
       "ceiling_height  -0.011677     -0.028586  \n",
       "rooms           -0.150604     -0.227913  \n",
       "last_price       0.026770     -0.006745  \n",
       "days_exposition -0.039501     -0.052410  \n",
       "centers_nearest  0.008508      0.018743  \n",
       "floor            1.000000      0.678010  \n",
       "floors_total     0.678010      1.000000  "
      ]
     },
     "execution_count": 10,
     "metadata": {},
     "output_type": "execute_result"
    }
   ],
   "source": [
    "df.corr()"
   ]
  },
  {
   "cell_type": "code",
   "execution_count": 11,
   "metadata": {},
   "outputs": [
    {
     "data": {
      "image/png": "[encoded data removed]",
      "text/plain": [
       "<Figure size 864x720 with 2 Axes>"
      ]
     },
     "metadata": {
      "needs_background": "light"
     },
     "output_type": "display_data"
    }
   ],
   "source": [
    "# Plot\n",
    "plt.figure(figsize=(12,10))\n",
    "sns.heatmap(\n",
    "    df.corr().round(2),\n",
    "    xticklabels=df.corr().columns,\n",
    "    yticklabels=df.corr().columns,\n",
    "    cmap='RdYlGn', center=0,\n",
    "    annot=True)\n",
    "\n",
    "# Decorations\n",
    "plt.title('Корреляция в объявлениях', fontsize=22)\n",
    "plt.xticks(fontsize=12)\n",
    "plt.yticks(fontsize=12)\n",
    "plt.show()"
   ]
  },
  {
   "cell_type": "code",
   "execution_count": 12,
   "metadata": {},
   "outputs": [
    {
     "data": {
      "text/plain": [
       "total_area                 0\n",
       "kitchen_area              19\n",
       "living_area               17\n",
       "ceiling_height           121\n",
       "rooms                      0\n",
       "last_price                 0\n",
       "first_day_exposition       0\n",
       "days_exposition           80\n",
       "centers_nearest         5386\n",
       "floor                      0\n",
       "floors_total               0\n",
       "locality_name              0\n",
       "dtype: int64"
      ]
     },
     "execution_count": 12,
     "metadata": {},
     "output_type": "execute_result"
    }
   ],
   "source": [
    "# высота потолков\n",
    "df['ceiling_height'] = df['ceiling_height'].fillna(\n",
    "    df.groupby('locality_name')['ceiling_height'].transform('median'))\n",
    "\n",
    "# жилая площадь\n",
    "df['living_area'] = df['living_area'].fillna(\n",
    "    df.groupby('locality_name')['living_area'].transform('median'))\n",
    "\n",
    "# площадь кухни\n",
    "df['kitchen_area'] = df['kitchen_area'].fillna(\n",
    "    df.groupby('locality_name')['kitchen_area'].transform('median'))\n",
    "\n",
    "# расстояние до центра города\n",
    "df['centers_nearest'] = df['centers_nearest'].fillna(\n",
    "    df.groupby('locality_name')['centers_nearest'].transform('median'))\n",
    "\n",
    "# время размещения объявления\n",
    "df['days_exposition'] = df['days_exposition'].fillna(\n",
    "    df.groupby('locality_name')['days_exposition'].transform('median'))\n",
    "\n",
    "# количество этажей\n",
    "df['floors_total'] = df['floors_total'].fillna(\n",
    "    df.groupby('locality_name')['floors_total'].transform('median'))\n",
    "\n",
    "# проверяем работу кода\n",
    "df.isna().sum()"
   ]
  },
  {
   "cell_type": "markdown",
   "metadata": {},
   "source": [
    "К сожалению, в нашем датасете много пропусков. Это говорит о том, что в некоторых населенных пунктах указана недвижимость без указания ее площади, высоты потолков и нет данных о снятии объявления с показов. Заменить общей медианой, по всему стобцу не следует, т.к. дальнейшее исследование предпологает категоризацию по населенным пунктам. Удалим осавшиеся пропуски."
   ]
  },
  {
   "cell_type": "code",
   "execution_count": 13,
   "metadata": {},
   "outputs": [
    {
     "data": {
      "text/plain": [
       "total_area              0\n",
       "kitchen_area            0\n",
       "living_area             0\n",
       "ceiling_height          0\n",
       "rooms                   0\n",
       "last_price              0\n",
       "first_day_exposition    0\n",
       "days_exposition         0\n",
       "centers_nearest         0\n",
       "floor                   0\n",
       "floors_total            0\n",
       "locality_name           0\n",
       "dtype: int64"
      ]
     },
     "execution_count": 13,
     "metadata": {},
     "output_type": "execute_result"
    }
   ],
   "source": [
    "#приводим названия нас.пунктов к нижнему регистру\n",
    "df['locality_name'] = df['locality_name'].str.lower()\n",
    "df.duplicated().sum()\n",
    "\n",
    "# удаляем пропуски\n",
    "df=df.dropna().reset_index(drop=True)\n",
    "\n",
    "# проверяем работу\n",
    "df.isna().sum()"
   ]
  },
  {
   "cell_type": "markdown",
   "metadata": {},
   "source": [
    "Все пропуски заменены. Еще раз выведем информацию о датасете и первые строки."
   ]
  },
  {
   "cell_type": "code",
   "execution_count": 14,
   "metadata": {},
   "outputs": [
    {
     "name": "stdout",
     "output_type": "stream",
     "text": [
      "<class 'pandas.core.frame.DataFrame'>\n",
      "RangeIndex: 18259 entries, 0 to 18258\n",
      "Data columns (total 12 columns):\n",
      "total_area              18259 non-null float64\n",
      "kitchen_area            18259 non-null float64\n",
      "living_area             18259 non-null float64\n",
      "ceiling_height          18259 non-null float64\n",
      "rooms                   18259 non-null int64\n",
      "last_price              18259 non-null float64\n",
      "first_day_exposition    18259 non-null object\n",
      "days_exposition         18259 non-null float64\n",
      "centers_nearest         18259 non-null float64\n",
      "floor                   18259 non-null int64\n",
      "floors_total            18259 non-null float64\n",
      "locality_name           18259 non-null object\n",
      "dtypes: float64(8), int64(2), object(2)\n",
      "memory usage: 1.7+ MB\n"
     ]
    },
    {
     "data": {
      "text/html": [
       "<div>\n",
       "<style scoped>\n",
       "    .dataframe tbody tr th:only-of-type {\n",
       "        vertical-align: middle;\n",
       "    }\n",
       "\n",
       "    .dataframe tbody tr th {\n",
       "        vertical-align: top;\n",
       "    }\n",
       "\n",
       "    .dataframe thead th {\n",
       "        text-align: right;\n",
       "    }\n",
       "</style>\n",
       "<table border=\"1\" class=\"dataframe\">\n",
       "  <thead>\n",
       "    <tr style=\"text-align: right;\">\n",
       "      <th></th>\n",
       "      <th>total_area</th>\n",
       "      <th>kitchen_area</th>\n",
       "      <th>living_area</th>\n",
       "      <th>ceiling_height</th>\n",
       "      <th>rooms</th>\n",
       "      <th>last_price</th>\n",
       "      <th>first_day_exposition</th>\n",
       "      <th>days_exposition</th>\n",
       "      <th>centers_nearest</th>\n",
       "      <th>floor</th>\n",
       "      <th>floors_total</th>\n",
       "      <th>locality_name</th>\n",
       "    </tr>\n",
       "  </thead>\n",
       "  <tbody>\n",
       "    <tr>\n",
       "      <td>0</td>\n",
       "      <td>108.0</td>\n",
       "      <td>25.0</td>\n",
       "      <td>51.0</td>\n",
       "      <td>2.70</td>\n",
       "      <td>3</td>\n",
       "      <td>13000000.0</td>\n",
       "      <td>2019-03-07T00:00:00</td>\n",
       "      <td>95.0</td>\n",
       "      <td>16028.0</td>\n",
       "      <td>8</td>\n",
       "      <td>16.0</td>\n",
       "      <td>санкт-петербург</td>\n",
       "    </tr>\n",
       "    <tr>\n",
       "      <td>1</td>\n",
       "      <td>40.4</td>\n",
       "      <td>11.0</td>\n",
       "      <td>18.6</td>\n",
       "      <td>2.63</td>\n",
       "      <td>1</td>\n",
       "      <td>3350000.0</td>\n",
       "      <td>2018-12-04T00:00:00</td>\n",
       "      <td>81.0</td>\n",
       "      <td>18603.0</td>\n",
       "      <td>1</td>\n",
       "      <td>11.0</td>\n",
       "      <td>посёлок шушары</td>\n",
       "    </tr>\n",
       "    <tr>\n",
       "      <td>2</td>\n",
       "      <td>56.0</td>\n",
       "      <td>8.3</td>\n",
       "      <td>34.3</td>\n",
       "      <td>2.70</td>\n",
       "      <td>2</td>\n",
       "      <td>5196000.0</td>\n",
       "      <td>2015-08-20T00:00:00</td>\n",
       "      <td>558.0</td>\n",
       "      <td>13933.0</td>\n",
       "      <td>4</td>\n",
       "      <td>5.0</td>\n",
       "      <td>санкт-петербург</td>\n",
       "    </tr>\n",
       "    <tr>\n",
       "      <td>3</td>\n",
       "      <td>159.0</td>\n",
       "      <td>9.9</td>\n",
       "      <td>31.3</td>\n",
       "      <td>2.70</td>\n",
       "      <td>3</td>\n",
       "      <td>64900000.0</td>\n",
       "      <td>2015-07-24T00:00:00</td>\n",
       "      <td>424.0</td>\n",
       "      <td>6800.0</td>\n",
       "      <td>9</td>\n",
       "      <td>14.0</td>\n",
       "      <td>санкт-петербург</td>\n",
       "    </tr>\n",
       "    <tr>\n",
       "      <td>4</td>\n",
       "      <td>100.0</td>\n",
       "      <td>41.0</td>\n",
       "      <td>32.0</td>\n",
       "      <td>3.03</td>\n",
       "      <td>2</td>\n",
       "      <td>10000000.0</td>\n",
       "      <td>2018-06-19T00:00:00</td>\n",
       "      <td>121.0</td>\n",
       "      <td>8098.0</td>\n",
       "      <td>13</td>\n",
       "      <td>14.0</td>\n",
       "      <td>санкт-петербург</td>\n",
       "    </tr>\n",
       "  </tbody>\n",
       "</table>\n",
       "</div>"
      ],
      "text/plain": [
       "   total_area  kitchen_area  living_area  ceiling_height  rooms  last_price  \\\n",
       "0       108.0          25.0         51.0            2.70      3  13000000.0   \n",
       "1        40.4          11.0         18.6            2.63      1   3350000.0   \n",
       "2        56.0           8.3         34.3            2.70      2   5196000.0   \n",
       "3       159.0           9.9         31.3            2.70      3  64900000.0   \n",
       "4       100.0          41.0         32.0            3.03      2  10000000.0   \n",
       "\n",
       "  first_day_exposition  days_exposition  centers_nearest  floor  floors_total  \\\n",
       "0  2019-03-07T00:00:00             95.0          16028.0      8          16.0   \n",
       "1  2018-12-04T00:00:00             81.0          18603.0      1          11.0   \n",
       "2  2015-08-20T00:00:00            558.0          13933.0      4           5.0   \n",
       "3  2015-07-24T00:00:00            424.0           6800.0      9          14.0   \n",
       "4  2018-06-19T00:00:00            121.0           8098.0     13          14.0   \n",
       "\n",
       "     locality_name  \n",
       "0  санкт-петербург  \n",
       "1   посёлок шушары  \n",
       "2  санкт-петербург  \n",
       "3  санкт-петербург  \n",
       "4  санкт-петербург  "
      ]
     },
     "metadata": {},
     "output_type": "display_data"
    }
   ],
   "source": [
    "df.info()\n",
    "display(df.head())"
   ]
  },
  {
   "cell_type": "markdown",
   "metadata": {},
   "source": [
    "Изменим типы данных для более удобной работы с ними.  \n",
    "Такие столбцы как `'total_area', 'floors_total', 'kitchen_area', 'living_area', 'last_price', 'days_exposition', 'centers_nearest'` можно привести к челочисленному типу, т.к. дробные части не сыграют большой роли и в нашем исследовании не важны.  \n",
    "Значения в столбце `'ceiling_height'`(высота потолков), округлим до десятых долей"
   ]
  },
  {
   "cell_type": "code",
   "execution_count": 15,
   "metadata": {},
   "outputs": [],
   "source": [
    "# Нужные столбцы\n",
    "list_col = ['total_area',\n",
    "            'living_area',\n",
    "            'kitchen_area',\n",
    "            'last_price',\n",
    "            'days_exposition',\n",
    "            'centers_nearest',\n",
    "            'floors_total']\n",
    "\n",
    "# приводим к целочислнному типу\n",
    "df[list_col] = df[list_col].astype('int')\n",
    "\n",
    "# округляем до десятых\n",
    "df['ceiling_height'] = df['ceiling_height'].round(1)"
   ]
  },
  {
   "cell_type": "markdown",
   "metadata": {},
   "source": [
    "Значения столбеца 'first_day_exposition' приведем к типу время DateTime"
   ]
  },
  {
   "cell_type": "code",
   "execution_count": 16,
   "metadata": {},
   "outputs": [],
   "source": [
    "df['first_day_exposition'] = pd.to_datetime(df['first_day_exposition'], format='%Y-%m-%dT%H:%M:%S')"
   ]
  },
  {
   "cell_type": "markdown",
   "metadata": {},
   "source": [
    "Посмотрим на результат"
   ]
  },
  {
   "cell_type": "code",
   "execution_count": 17,
   "metadata": {},
   "outputs": [
    {
     "name": "stdout",
     "output_type": "stream",
     "text": [
      "<class 'pandas.core.frame.DataFrame'>\n",
      "RangeIndex: 18259 entries, 0 to 18258\n",
      "Data columns (total 12 columns):\n",
      "total_area              18259 non-null int64\n",
      "kitchen_area            18259 non-null int64\n",
      "living_area             18259 non-null int64\n",
      "ceiling_height          18259 non-null float64\n",
      "rooms                   18259 non-null int64\n",
      "last_price              18259 non-null int64\n",
      "first_day_exposition    18259 non-null datetime64[ns]\n",
      "days_exposition         18259 non-null int64\n",
      "centers_nearest         18259 non-null int64\n",
      "floor                   18259 non-null int64\n",
      "floors_total            18259 non-null int64\n",
      "locality_name           18259 non-null object\n",
      "dtypes: datetime64[ns](1), float64(1), int64(9), object(1)\n",
      "memory usage: 1.7+ MB\n",
      "None\n"
     ]
    },
    {
     "data": {
      "text/html": [
       "<div>\n",
       "<style scoped>\n",
       "    .dataframe tbody tr th:only-of-type {\n",
       "        vertical-align: middle;\n",
       "    }\n",
       "\n",
       "    .dataframe tbody tr th {\n",
       "        vertical-align: top;\n",
       "    }\n",
       "\n",
       "    .dataframe thead th {\n",
       "        text-align: right;\n",
       "    }\n",
       "</style>\n",
       "<table border=\"1\" class=\"dataframe\">\n",
       "  <thead>\n",
       "    <tr style=\"text-align: right;\">\n",
       "      <th></th>\n",
       "      <th>total_area</th>\n",
       "      <th>kitchen_area</th>\n",
       "      <th>living_area</th>\n",
       "      <th>ceiling_height</th>\n",
       "      <th>rooms</th>\n",
       "      <th>last_price</th>\n",
       "      <th>first_day_exposition</th>\n",
       "      <th>days_exposition</th>\n",
       "      <th>centers_nearest</th>\n",
       "      <th>floor</th>\n",
       "      <th>floors_total</th>\n",
       "      <th>locality_name</th>\n",
       "    </tr>\n",
       "  </thead>\n",
       "  <tbody>\n",
       "    <tr>\n",
       "      <td>0</td>\n",
       "      <td>108</td>\n",
       "      <td>25</td>\n",
       "      <td>51</td>\n",
       "      <td>2.7</td>\n",
       "      <td>3</td>\n",
       "      <td>13000000</td>\n",
       "      <td>2019-03-07</td>\n",
       "      <td>95</td>\n",
       "      <td>16028</td>\n",
       "      <td>8</td>\n",
       "      <td>16</td>\n",
       "      <td>санкт-петербург</td>\n",
       "    </tr>\n",
       "    <tr>\n",
       "      <td>1</td>\n",
       "      <td>40</td>\n",
       "      <td>11</td>\n",
       "      <td>18</td>\n",
       "      <td>2.6</td>\n",
       "      <td>1</td>\n",
       "      <td>3350000</td>\n",
       "      <td>2018-12-04</td>\n",
       "      <td>81</td>\n",
       "      <td>18603</td>\n",
       "      <td>1</td>\n",
       "      <td>11</td>\n",
       "      <td>посёлок шушары</td>\n",
       "    </tr>\n",
       "    <tr>\n",
       "      <td>2</td>\n",
       "      <td>56</td>\n",
       "      <td>8</td>\n",
       "      <td>34</td>\n",
       "      <td>2.7</td>\n",
       "      <td>2</td>\n",
       "      <td>5196000</td>\n",
       "      <td>2015-08-20</td>\n",
       "      <td>558</td>\n",
       "      <td>13933</td>\n",
       "      <td>4</td>\n",
       "      <td>5</td>\n",
       "      <td>санкт-петербург</td>\n",
       "    </tr>\n",
       "    <tr>\n",
       "      <td>3</td>\n",
       "      <td>159</td>\n",
       "      <td>9</td>\n",
       "      <td>31</td>\n",
       "      <td>2.7</td>\n",
       "      <td>3</td>\n",
       "      <td>64900000</td>\n",
       "      <td>2015-07-24</td>\n",
       "      <td>424</td>\n",
       "      <td>6800</td>\n",
       "      <td>9</td>\n",
       "      <td>14</td>\n",
       "      <td>санкт-петербург</td>\n",
       "    </tr>\n",
       "    <tr>\n",
       "      <td>4</td>\n",
       "      <td>100</td>\n",
       "      <td>41</td>\n",
       "      <td>32</td>\n",
       "      <td>3.0</td>\n",
       "      <td>2</td>\n",
       "      <td>10000000</td>\n",
       "      <td>2018-06-19</td>\n",
       "      <td>121</td>\n",
       "      <td>8098</td>\n",
       "      <td>13</td>\n",
       "      <td>14</td>\n",
       "      <td>санкт-петербург</td>\n",
       "    </tr>\n",
       "  </tbody>\n",
       "</table>\n",
       "</div>"
      ],
      "text/plain": [
       "   total_area  kitchen_area  living_area  ceiling_height  rooms  last_price  \\\n",
       "0         108            25           51             2.7      3    13000000   \n",
       "1          40            11           18             2.6      1     3350000   \n",
       "2          56             8           34             2.7      2     5196000   \n",
       "3         159             9           31             2.7      3    64900000   \n",
       "4         100            41           32             3.0      2    10000000   \n",
       "\n",
       "  first_day_exposition  days_exposition  centers_nearest  floor  floors_total  \\\n",
       "0           2019-03-07               95            16028      8            16   \n",
       "1           2018-12-04               81            18603      1            11   \n",
       "2           2015-08-20              558            13933      4             5   \n",
       "3           2015-07-24              424             6800      9            14   \n",
       "4           2018-06-19              121             8098     13            14   \n",
       "\n",
       "     locality_name  \n",
       "0  санкт-петербург  \n",
       "1   посёлок шушары  \n",
       "2  санкт-петербург  \n",
       "3  санкт-петербург  \n",
       "4  санкт-петербург  "
      ]
     },
     "metadata": {},
     "output_type": "display_data"
    }
   ],
   "source": [
    "print(df.info())\n",
    "display(df.head())"
   ]
  },
  {
   "cell_type": "markdown",
   "metadata": {},
   "source": [
    "Посмотрим какое количество дубликатов имеет датафрейм"
   ]
  },
  {
   "cell_type": "code",
   "execution_count": 18,
   "metadata": {},
   "outputs": [
    {
     "data": {
      "text/plain": [
       "0"
      ]
     },
     "execution_count": 18,
     "metadata": {},
     "output_type": "execute_result"
    }
   ],
   "source": [
    "df.duplicated().sum()"
   ]
  },
  {
   "cell_type": "markdown",
   "metadata": {},
   "source": [
    "Дубликаты отсутсвуют"
   ]
  },
  {
   "cell_type": "markdown",
   "metadata": {},
   "source": [
    "**Вывод**  \n",
    "Работа с предобработкой данных закончена."
   ]
  },
  {
   "cell_type": "markdown",
   "metadata": {},
   "source": [
    "## Расчёты и добавление результатов в таблицу"
   ]
  },
  {
   "cell_type": "markdown",
   "metadata": {},
   "source": [
    "Для исследования необходимо провести расчеты и добавить в таблицу:  \n",
    "* цены квадратного метра\n",
    "* дня недели, месяца и год публикации объявления\n",
    "* этажа квартиры; варианты — первый, последний, другой\n",
    "* соотношения жилой и общей площади, а также отношение площади кухни к общей     "
   ]
  },
  {
   "cell_type": "markdown",
   "metadata": {},
   "source": [
    "Цена квадратного метра"
   ]
  },
  {
   "cell_type": "code",
   "execution_count": 19,
   "metadata": {},
   "outputs": [],
   "source": [
    "df['price_sq_m'] = df['total_area'] / df['last_price']"
   ]
  },
  {
   "cell_type": "markdown",
   "metadata": {},
   "source": [
    "Добавление дня, месяца и года публикации"
   ]
  },
  {
   "cell_type": "code",
   "execution_count": 20,
   "metadata": {},
   "outputs": [
    {
     "data": {
      "text/html": [
       "<div>\n",
       "<style scoped>\n",
       "    .dataframe tbody tr th:only-of-type {\n",
       "        vertical-align: middle;\n",
       "    }\n",
       "\n",
       "    .dataframe tbody tr th {\n",
       "        vertical-align: top;\n",
       "    }\n",
       "\n",
       "    .dataframe thead th {\n",
       "        text-align: right;\n",
       "    }\n",
       "</style>\n",
       "<table border=\"1\" class=\"dataframe\">\n",
       "  <thead>\n",
       "    <tr style=\"text-align: right;\">\n",
       "      <th></th>\n",
       "      <th>total_area</th>\n",
       "      <th>kitchen_area</th>\n",
       "      <th>living_area</th>\n",
       "      <th>ceiling_height</th>\n",
       "      <th>rooms</th>\n",
       "      <th>last_price</th>\n",
       "      <th>first_day_exposition</th>\n",
       "      <th>days_exposition</th>\n",
       "      <th>centers_nearest</th>\n",
       "      <th>floor</th>\n",
       "      <th>floors_total</th>\n",
       "      <th>locality_name</th>\n",
       "      <th>price_sq_m</th>\n",
       "      <th>expo_weekday</th>\n",
       "      <th>expo_month</th>\n",
       "      <th>expo_year</th>\n",
       "    </tr>\n",
       "  </thead>\n",
       "  <tbody>\n",
       "    <tr>\n",
       "      <td>0</td>\n",
       "      <td>108</td>\n",
       "      <td>25</td>\n",
       "      <td>51</td>\n",
       "      <td>2.7</td>\n",
       "      <td>3</td>\n",
       "      <td>13000000</td>\n",
       "      <td>2019-03-07</td>\n",
       "      <td>95</td>\n",
       "      <td>16028</td>\n",
       "      <td>8</td>\n",
       "      <td>16</td>\n",
       "      <td>санкт-петербург</td>\n",
       "      <td>120370</td>\n",
       "      <td>3</td>\n",
       "      <td>3</td>\n",
       "      <td>2019</td>\n",
       "    </tr>\n",
       "    <tr>\n",
       "      <td>1</td>\n",
       "      <td>40</td>\n",
       "      <td>11</td>\n",
       "      <td>18</td>\n",
       "      <td>2.6</td>\n",
       "      <td>1</td>\n",
       "      <td>3350000</td>\n",
       "      <td>2018-12-04</td>\n",
       "      <td>81</td>\n",
       "      <td>18603</td>\n",
       "      <td>1</td>\n",
       "      <td>11</td>\n",
       "      <td>посёлок шушары</td>\n",
       "      <td>83750</td>\n",
       "      <td>1</td>\n",
       "      <td>12</td>\n",
       "      <td>2018</td>\n",
       "    </tr>\n",
       "    <tr>\n",
       "      <td>2</td>\n",
       "      <td>56</td>\n",
       "      <td>8</td>\n",
       "      <td>34</td>\n",
       "      <td>2.7</td>\n",
       "      <td>2</td>\n",
       "      <td>5196000</td>\n",
       "      <td>2015-08-20</td>\n",
       "      <td>558</td>\n",
       "      <td>13933</td>\n",
       "      <td>4</td>\n",
       "      <td>5</td>\n",
       "      <td>санкт-петербург</td>\n",
       "      <td>92785</td>\n",
       "      <td>3</td>\n",
       "      <td>8</td>\n",
       "      <td>2015</td>\n",
       "    </tr>\n",
       "    <tr>\n",
       "      <td>3</td>\n",
       "      <td>159</td>\n",
       "      <td>9</td>\n",
       "      <td>31</td>\n",
       "      <td>2.7</td>\n",
       "      <td>3</td>\n",
       "      <td>64900000</td>\n",
       "      <td>2015-07-24</td>\n",
       "      <td>424</td>\n",
       "      <td>6800</td>\n",
       "      <td>9</td>\n",
       "      <td>14</td>\n",
       "      <td>санкт-петербург</td>\n",
       "      <td>408176</td>\n",
       "      <td>4</td>\n",
       "      <td>7</td>\n",
       "      <td>2015</td>\n",
       "    </tr>\n",
       "    <tr>\n",
       "      <td>4</td>\n",
       "      <td>100</td>\n",
       "      <td>41</td>\n",
       "      <td>32</td>\n",
       "      <td>3.0</td>\n",
       "      <td>2</td>\n",
       "      <td>10000000</td>\n",
       "      <td>2018-06-19</td>\n",
       "      <td>121</td>\n",
       "      <td>8098</td>\n",
       "      <td>13</td>\n",
       "      <td>14</td>\n",
       "      <td>санкт-петербург</td>\n",
       "      <td>100000</td>\n",
       "      <td>1</td>\n",
       "      <td>6</td>\n",
       "      <td>2018</td>\n",
       "    </tr>\n",
       "  </tbody>\n",
       "</table>\n",
       "</div>"
      ],
      "text/plain": [
       "   total_area  kitchen_area  living_area  ceiling_height  rooms  last_price  \\\n",
       "0         108            25           51             2.7      3    13000000   \n",
       "1          40            11           18             2.6      1     3350000   \n",
       "2          56             8           34             2.7      2     5196000   \n",
       "3         159             9           31             2.7      3    64900000   \n",
       "4         100            41           32             3.0      2    10000000   \n",
       "\n",
       "  first_day_exposition  days_exposition  centers_nearest  floor  floors_total  \\\n",
       "0           2019-03-07               95            16028      8            16   \n",
       "1           2018-12-04               81            18603      1            11   \n",
       "2           2015-08-20              558            13933      4             5   \n",
       "3           2015-07-24              424             6800      9            14   \n",
       "4           2018-06-19              121             8098     13            14   \n",
       "\n",
       "     locality_name  price_sq_m  expo_weekday  expo_month  expo_year  \n",
       "0  санкт-петербург      120370             3           3       2019  \n",
       "1   посёлок шушары       83750             1          12       2018  \n",
       "2  санкт-петербург       92785             3           8       2015  \n",
       "3  санкт-петербург      408176             4           7       2015  \n",
       "4  санкт-петербург      100000             1           6       2018  "
      ]
     },
     "metadata": {},
     "output_type": "display_data"
    }
   ],
   "source": [
    "# Цена за квадратный метр\n",
    "df['price_sq_m'] =  (df['last_price'] / df['total_area']).astype('int')\n",
    "\n",
    "# день публикации\n",
    "df['expo_weekday'] = pd.DatetimeIndex(df['first_day_exposition']).weekday\n",
    "\n",
    "# месяц публикации\n",
    "df['expo_month'] = pd.DatetimeIndex(df['first_day_exposition']).month\n",
    "\n",
    "# год публикации\n",
    "df['expo_year'] = pd.DatetimeIndex(df['first_day_exposition']).year\n",
    "\n",
    "# проверка\n",
    "display(df.head())"
   ]
  },
  {
   "cell_type": "markdown",
   "metadata": {},
   "source": [
    "Добавление этажа квартиры; варианты — первый, последний, другой"
   ]
  },
  {
   "cell_type": "code",
   "execution_count": 21,
   "metadata": {},
   "outputs": [],
   "source": [
    "def set_floor(some_t):\n",
    "    \"\"\" Функция категоризирует этажи в доме \"\"\"\n",
    "\n",
    "    floor = some_t['floor'] # этаж квартиры\n",
    "    floor_t = some_t['floors_total'] # общее количество этажей\n",
    "    \"\"\"\n",
    "    # если этаж первый\n",
    "    if floor == 1:\n",
    "        return 'первый'\n",
    "\n",
    "    # если этаж последний\n",
    "    elif floor == floor_t:\n",
    "        return 'последний'\n",
    "\n",
    "    else:\n",
    "        return 'другой'\"\"\"\n",
    "    # если этаж первый\n",
    "    if floor == 1:\n",
    "        return 1\n",
    "\n",
    "    # если этаж последний\n",
    "    elif floor == floor_t:\n",
    "        return 3\n",
    "\n",
    "    else:\n",
    "        return 2\n",
    "\n",
    "df['floor_grp'] = df.apply(set_floor, axis=1)"
   ]
  },
  {
   "cell_type": "markdown",
   "metadata": {},
   "source": [
    "Добавление соотношения жилой и общей площади, а также отношение площади кухни к общей"
   ]
  },
  {
   "cell_type": "code",
   "execution_count": 22,
   "metadata": {},
   "outputs": [
    {
     "data": {
      "text/html": [
       "<div>\n",
       "<style scoped>\n",
       "    .dataframe tbody tr th:only-of-type {\n",
       "        vertical-align: middle;\n",
       "    }\n",
       "\n",
       "    .dataframe tbody tr th {\n",
       "        vertical-align: top;\n",
       "    }\n",
       "\n",
       "    .dataframe thead th {\n",
       "        text-align: right;\n",
       "    }\n",
       "</style>\n",
       "<table border=\"1\" class=\"dataframe\">\n",
       "  <thead>\n",
       "    <tr style=\"text-align: right;\">\n",
       "      <th></th>\n",
       "      <th>total_area</th>\n",
       "      <th>kitchen_area</th>\n",
       "      <th>living_area</th>\n",
       "      <th>ceiling_height</th>\n",
       "      <th>rooms</th>\n",
       "      <th>last_price</th>\n",
       "      <th>first_day_exposition</th>\n",
       "      <th>days_exposition</th>\n",
       "      <th>centers_nearest</th>\n",
       "      <th>floor</th>\n",
       "      <th>floors_total</th>\n",
       "      <th>locality_name</th>\n",
       "      <th>price_sq_m</th>\n",
       "      <th>expo_weekday</th>\n",
       "      <th>expo_month</th>\n",
       "      <th>expo_year</th>\n",
       "      <th>floor_grp</th>\n",
       "      <th>kitchen_total</th>\n",
       "      <th>living_total</th>\n",
       "    </tr>\n",
       "  </thead>\n",
       "  <tbody>\n",
       "    <tr>\n",
       "      <td>0</td>\n",
       "      <td>108</td>\n",
       "      <td>25</td>\n",
       "      <td>51</td>\n",
       "      <td>2.7</td>\n",
       "      <td>3</td>\n",
       "      <td>13000000</td>\n",
       "      <td>2019-03-07</td>\n",
       "      <td>95</td>\n",
       "      <td>16028</td>\n",
       "      <td>8</td>\n",
       "      <td>16</td>\n",
       "      <td>санкт-петербург</td>\n",
       "      <td>120370</td>\n",
       "      <td>3</td>\n",
       "      <td>3</td>\n",
       "      <td>2019</td>\n",
       "      <td>2</td>\n",
       "      <td>23</td>\n",
       "      <td>47</td>\n",
       "    </tr>\n",
       "    <tr>\n",
       "      <td>1</td>\n",
       "      <td>40</td>\n",
       "      <td>11</td>\n",
       "      <td>18</td>\n",
       "      <td>2.6</td>\n",
       "      <td>1</td>\n",
       "      <td>3350000</td>\n",
       "      <td>2018-12-04</td>\n",
       "      <td>81</td>\n",
       "      <td>18603</td>\n",
       "      <td>1</td>\n",
       "      <td>11</td>\n",
       "      <td>посёлок шушары</td>\n",
       "      <td>83750</td>\n",
       "      <td>1</td>\n",
       "      <td>12</td>\n",
       "      <td>2018</td>\n",
       "      <td>1</td>\n",
       "      <td>27</td>\n",
       "      <td>45</td>\n",
       "    </tr>\n",
       "    <tr>\n",
       "      <td>2</td>\n",
       "      <td>56</td>\n",
       "      <td>8</td>\n",
       "      <td>34</td>\n",
       "      <td>2.7</td>\n",
       "      <td>2</td>\n",
       "      <td>5196000</td>\n",
       "      <td>2015-08-20</td>\n",
       "      <td>558</td>\n",
       "      <td>13933</td>\n",
       "      <td>4</td>\n",
       "      <td>5</td>\n",
       "      <td>санкт-петербург</td>\n",
       "      <td>92785</td>\n",
       "      <td>3</td>\n",
       "      <td>8</td>\n",
       "      <td>2015</td>\n",
       "      <td>2</td>\n",
       "      <td>14</td>\n",
       "      <td>60</td>\n",
       "    </tr>\n",
       "    <tr>\n",
       "      <td>3</td>\n",
       "      <td>159</td>\n",
       "      <td>9</td>\n",
       "      <td>31</td>\n",
       "      <td>2.7</td>\n",
       "      <td>3</td>\n",
       "      <td>64900000</td>\n",
       "      <td>2015-07-24</td>\n",
       "      <td>424</td>\n",
       "      <td>6800</td>\n",
       "      <td>9</td>\n",
       "      <td>14</td>\n",
       "      <td>санкт-петербург</td>\n",
       "      <td>408176</td>\n",
       "      <td>4</td>\n",
       "      <td>7</td>\n",
       "      <td>2015</td>\n",
       "      <td>2</td>\n",
       "      <td>5</td>\n",
       "      <td>19</td>\n",
       "    </tr>\n",
       "    <tr>\n",
       "      <td>4</td>\n",
       "      <td>100</td>\n",
       "      <td>41</td>\n",
       "      <td>32</td>\n",
       "      <td>3.0</td>\n",
       "      <td>2</td>\n",
       "      <td>10000000</td>\n",
       "      <td>2018-06-19</td>\n",
       "      <td>121</td>\n",
       "      <td>8098</td>\n",
       "      <td>13</td>\n",
       "      <td>14</td>\n",
       "      <td>санкт-петербург</td>\n",
       "      <td>100000</td>\n",
       "      <td>1</td>\n",
       "      <td>6</td>\n",
       "      <td>2018</td>\n",
       "      <td>2</td>\n",
       "      <td>41</td>\n",
       "      <td>32</td>\n",
       "    </tr>\n",
       "  </tbody>\n",
       "</table>\n",
       "</div>"
      ],
      "text/plain": [
       "   total_area  kitchen_area  living_area  ceiling_height  rooms  last_price  \\\n",
       "0         108            25           51             2.7      3    13000000   \n",
       "1          40            11           18             2.6      1     3350000   \n",
       "2          56             8           34             2.7      2     5196000   \n",
       "3         159             9           31             2.7      3    64900000   \n",
       "4         100            41           32             3.0      2    10000000   \n",
       "\n",
       "  first_day_exposition  days_exposition  centers_nearest  floor  floors_total  \\\n",
       "0           2019-03-07               95            16028      8            16   \n",
       "1           2018-12-04               81            18603      1            11   \n",
       "2           2015-08-20              558            13933      4             5   \n",
       "3           2015-07-24              424             6800      9            14   \n",
       "4           2018-06-19              121             8098     13            14   \n",
       "\n",
       "     locality_name  price_sq_m  expo_weekday  expo_month  expo_year  \\\n",
       "0  санкт-петербург      120370             3           3       2019   \n",
       "1   посёлок шушары       83750             1          12       2018   \n",
       "2  санкт-петербург       92785             3           8       2015   \n",
       "3  санкт-петербург      408176             4           7       2015   \n",
       "4  санкт-петербург      100000             1           6       2018   \n",
       "\n",
       "   floor_grp  kitchen_total  living_total  \n",
       "0          2             23            47  \n",
       "1          1             27            45  \n",
       "2          2             14            60  \n",
       "3          2              5            19  \n",
       "4          2             41            32  "
      ]
     },
     "metadata": {},
     "output_type": "display_data"
    }
   ],
   "source": [
    "# Отношение площади кухни к общей\n",
    "df['kitchen_total'] = (df['kitchen_area'] / df['total_area'] * 100).astype('int')\n",
    "\n",
    "# Отношение жилой площади к\n",
    "df['living_total'] = (df['living_area'] / df['total_area'] * 100).astype('int')\n",
    "\n",
    "# проверка\n",
    "display(df.head())"
   ]
  },
  {
   "cell_type": "markdown",
   "metadata": {},
   "source": [
    "## Исследовательский анализ данных"
   ]
  },
  {
   "cell_type": "markdown",
   "metadata": {},
   "source": [
    "Вопросы исследования разбиты по подпунктам"
   ]
  },
  {
   "cell_type": "markdown",
   "metadata": {},
   "source": [
    "###  Изучение параметров, выборка\n",
    "* Изучите следующие параметры: площадь, цена, число комнат, высота потолков.  \n",
    "* Постройте гистограммы для каждого параметра.  \n",
    "* Изучите время продажи квартиры. Постройте гистограмму. Посчитайте среднее и медиану. Опишите, сколько обычно занимает продажа. Когда можно считать, что продажи прошли очень быстро, а когда необычно долго?\n",
    "* Уберите редкие и выбивающиеся значения. Опишите, какие особенности обнаружили.\n"
   ]
  },
  {
   "cell_type": "markdown",
   "metadata": {},
   "source": [
    "Изучим следующие параметры: площадь, цена, число комнат, высота потолков. Построим гистограммы для каждого параметра."
   ]
  },
  {
   "cell_type": "markdown",
   "metadata": {},
   "source": [
    "#### Площадь"
   ]
  },
  {
   "cell_type": "code",
   "execution_count": 23,
   "metadata": {
    "scrolled": false
   },
   "outputs": [
    {
     "name": "stdout",
     "output_type": "stream",
     "text": [
      "count    18259.00\n",
      "mean        63.14\n",
      "std         38.94\n",
      "min         12.00\n",
      "25%         41.00\n",
      "50%         54.00\n",
      "75%         73.00\n",
      "max        900.00\n",
      "Name: total_area, dtype: float64\n"
     ]
    },
    {
     "data": {
      "image/png": "[encoded data removed]",
      "text/plain": [
       "<Figure size 576x360 with 1 Axes>"
      ]
     },
     "metadata": {
      "needs_background": "light"
     },
     "output_type": "display_data"
    },
    {
     "data": {
      "image/png": "[encoded data removed]",
      "text/plain": [
       "<Figure size 432x288 with 1 Axes>"
      ]
     },
     "metadata": {
      "needs_background": "light"
     },
     "output_type": "display_data"
    }
   ],
   "source": [
    "print(df['total_area'].describe().round(2))\n",
    "\n",
    "df.plot(y='total_area',\n",
    "        kind='hist',\n",
    "        figsize=(8,5),\n",
    "        bins=500,\n",
    "        range=(0, 200),\n",
    "        grid=True,\n",
    "        )\n",
    "\n",
    "df.plot(kind='box',\n",
    "        y='total_area',\n",
    "        grid=True\n",
    "        );\n",
    "\n",
    "plt.show()"
   ]
  },
  {
   "cell_type": "markdown",
   "metadata": {},
   "source": [
    "Слишком маленькая и высокая площади могут негативно сказать на нашем исследовании. Так, например, минимальная площадь 12 м2, максимальная 900. На гистограмме видно, что площади до 30 м2 и свыше 130 м2 встречаются  редко. А именно: "
   ]
  },
  {
   "cell_type": "code",
   "execution_count": 24,
   "metadata": {},
   "outputs": [
    {
     "name": "stdout",
     "output_type": "stream",
     "text": [
      "Процент квартир, площадью менее 30 м2 = 4.18 %\n",
      "Процент квартир, площадью более 130 м2 = 4.62 %\n"
     ]
    }
   ],
   "source": [
    "\"\"\"\n",
    "Подсчет % отбираемых значений\n",
    "датафрейм отобран по площади.\n",
    "нижний придел limi1 хранит значения, отбираемые слева\n",
    "верхний предел limit2 хранит значения, отбираемые справа\n",
    "\n",
    "делим значения отобранных данных на длину всего датафрейма и умножаем на 100\n",
    "Получаем проценты, округленные до второго знака\n",
    "\"\"\"\n",
    "\n",
    "limit1 = 30\n",
    "print(f'Процент квартир, площадью менее {limit1} м2 =', round(\n",
    "    len(df.query(' total_area <= @limit1 ')) /\n",
    "    len(df) * 100,2), '%'\n",
    "     )\n",
    "limit2 = 130\n",
    "print(f'Процент квартир, площадью более {limit2} м2 =', round(\n",
    "    len(df.query(' total_area >= @limit2 ')) /\n",
    "    len(df) * 100,2), '%'\n",
    "     )"
   ]
  },
  {
   "cell_type": "markdown",
   "metadata": {},
   "source": [
    "Почистим наш датафрейм от редких значений"
   ]
  },
  {
   "cell_type": "code",
   "execution_count": 25,
   "metadata": {
    "scrolled": false
   },
   "outputs": [
    {
     "name": "stdout",
     "output_type": "stream",
     "text": [
      "count    17004.00\n",
      "mean        57.89\n",
      "std         21.84\n",
      "min         30.00\n",
      "25%         41.00\n",
      "50%         53.00\n",
      "75%         70.00\n",
      "max        130.00\n",
      "Name: total_area, dtype: float64\n"
     ]
    },
    {
     "data": {
      "text/plain": [
       "<matplotlib.axes._subplots.AxesSubplot at 0x7f6ffcfc1d50>"
      ]
     },
     "execution_count": 25,
     "metadata": {},
     "output_type": "execute_result"
    },
    {
     "data": {
      "image/png": "[encoded data removed]",
      "text/plain": [
       "<Figure size 432x288 with 1 Axes>"
      ]
     },
     "metadata": {
      "needs_background": "light"
     },
     "output_type": "display_data"
    }
   ],
   "source": [
    "df = df.query('@limit1 <= total_area <= @limit2') #фильтруем датафрейм\n",
    "print(df['total_area'].describe().round(2))\n",
    "\n",
    "df.plot(y='total_area',\n",
    "        kind='hist',\n",
    "        bins=100,\n",
    "        range=(20, 135),\n",
    "        grid=True,\n",
    "        )\n"
   ]
  },
  {
   "cell_type": "markdown",
   "metadata": {},
   "source": [
    "#### Цена"
   ]
  },
  {
   "cell_type": "code",
   "execution_count": 26,
   "metadata": {
    "scrolled": false
   },
   "outputs": [
    {
     "name": "stdout",
     "output_type": "stream",
     "text": [
      "count    1.700400e+04\n",
      "mean     6.380760e+06\n",
      "std      4.208811e+06\n",
      "min      1.219000e+04\n",
      "25%      4.000000e+06\n",
      "50%      5.200000e+06\n",
      "75%      7.300000e+06\n",
      "max      1.240000e+08\n",
      "Name: last_price, dtype: float64\n"
     ]
    },
    {
     "data": {
      "image/png": "[encoded data removed]",
      "text/plain": [
       "<Figure size 1080x360 with 1 Axes>"
      ]
     },
     "metadata": {
      "needs_background": "light"
     },
     "output_type": "display_data"
    },
    {
     "data": {
      "image/png": "[encoded data removed]",
      "text/plain": [
       "<Figure size 432x288 with 1 Axes>"
      ]
     },
     "metadata": {
      "needs_background": "light"
     },
     "output_type": "display_data"
    }
   ],
   "source": [
    "print(df['last_price'].describe())\n",
    "\n",
    "df.plot(y='last_price',\n",
    "        kind='hist',\n",
    "        bins=50,\n",
    "        range=(0, 30e+6),\n",
    "        grid=True,\n",
    "        figsize=(15, 5)\n",
    ")\n",
    "\n",
    "df.plot(kind='box',\n",
    "        y='last_price',\n",
    "        grid=True,\n",
    "        );\n",
    "\n",
    "plt.show()"
   ]
  },
  {
   "cell_type": "markdown",
   "metadata": {},
   "source": [
    "Аналогично и с ценой на жилье. Слишком низкие и высокие цены на жилье, могут негативно сказать на нашем исследовании. Так, например, минимальная цена 12 т.р., максимальная цена за квартиру составляет 124 млн.\n",
    "\n",
    "Для адекватного отбора данных исследуем цены на самое дешевое жилье. Для этого просмотрим яндекс недвижимость.\n",
    "\n",
    "Так для <a href='https://realty.yandex.ru/sankt-peterburg_i_leningradskaya_oblast/kupit/kvartira/?from=main_menu&sort=PRICE'>Санкт-Петербурга и области</a> самое дешевое жилье, на момент составления работы 300 т.р."
   ]
  },
  {
   "cell_type": "code",
   "execution_count": 27,
   "metadata": {},
   "outputs": [
    {
     "name": "stdout",
     "output_type": "stream",
     "text": [
      "Процент квартир, c ценой менее 3.000000e+05 = 0.01 %\n",
      "Процент квартир, ценой более 1.500000e+07 = 3.42 %\n"
     ]
    }
   ],
   "source": [
    "limit1 = 300e+3\n",
    "print(f'Процент квартир, c ценой менее {limit1:.6e} =', round(\n",
    "    len(df.query(' last_price <= @limit1 ')) /\n",
    "    len(df) * 100,2), '%'\n",
    "     )\n",
    "limit2 = 15e+6\n",
    "print(f'Процент квартир, ценой более {limit2:.6e} =', round(\n",
    "    len(df.query(' last_price >= @limit2 ')) /\n",
    "    len(df) * 100,2), '%'\n",
    "     )"
   ]
  },
  {
   "cell_type": "code",
   "execution_count": 28,
   "metadata": {
    "scrolled": true
   },
   "outputs": [
    {
     "name": "stdout",
     "output_type": "stream",
     "text": [
      "count    1.645000e+04\n",
      "mean     5.847679e+06\n",
      "std      2.570341e+06\n",
      "min      1.200000e+06\n",
      "25%      4.000000e+06\n",
      "50%      5.100000e+06\n",
      "75%      6.990000e+06\n",
      "max      1.500000e+07\n",
      "Name: last_price, dtype: float64\n"
     ]
    },
    {
     "data": {
      "image/png": "[encoded data removed]",
      "text/plain": [
       "<Figure size 720x360 with 1 Axes>"
      ]
     },
     "metadata": {
      "needs_background": "light"
     },
     "output_type": "display_data"
    }
   ],
   "source": [
    "df = df.query(' @limit1 <= last_price <= @limit2')\n",
    "\n",
    "print(df['last_price'].describe())\n",
    "\n",
    "df.plot(y='last_price',\n",
    "        kind='hist',\n",
    "        bins=100,\n",
    "        range=(limit1*0.9, limit2*1.1),\n",
    "        grid=True,\n",
    "        figsize=(10, 5)\n",
    ")\n",
    "plt.show()"
   ]
  },
  {
   "cell_type": "markdown",
   "metadata": {},
   "source": [
    "#### Количество комнат"
   ]
  },
  {
   "cell_type": "code",
   "execution_count": 29,
   "metadata": {},
   "outputs": [
    {
     "name": "stdout",
     "output_type": "stream",
     "text": [
      "count    16450.000000\n",
      "mean         2.025775\n",
      "std          0.922265\n",
      "min          0.000000\n",
      "25%          1.000000\n",
      "50%          2.000000\n",
      "75%          3.000000\n",
      "max          7.000000\n",
      "Name: rooms, dtype: float64\n"
     ]
    },
    {
     "data": {
      "image/png": "[encoded data removed]",
      "text/plain": [
       "<Figure size 432x288 with 1 Axes>"
      ]
     },
     "metadata": {
      "needs_background": "light"
     },
     "output_type": "display_data"
    }
   ],
   "source": [
    "print(df['rooms'].describe())\n",
    "\n",
    "df.plot(y='rooms',\n",
    "        kind='hist',\n",
    "        bins=50,\n",
    "        range=(0, 10),\n",
    "        grid=True\n",
    ");"
   ]
  },
  {
   "cell_type": "markdown",
   "metadata": {},
   "source": [
    "Как мы видим, встречаются квартиры с количеством комнат 0. И  редко с 7, 6 и 5 комнатами."
   ]
  },
  {
   "cell_type": "code",
   "execution_count": 30,
   "metadata": {},
   "outputs": [
    {
     "name": "stdout",
     "output_type": "stream",
     "text": [
      "7    0.000122\n",
      "6    0.000851\n",
      "0    0.001581\n",
      "5    0.006383\n",
      "4    0.043647\n",
      "3    0.257325\n",
      "1    0.338845\n",
      "2    0.351246\n",
      "Name: rooms, dtype: float64\n",
      "0.8936170212765958\n"
     ]
    }
   ],
   "source": [
    "# Получаем % от каждого уникального значения в столбце комнаты\n",
    "how_rooms = df['rooms'].value_counts(normalize=True).sort_values()\n",
    "\n",
    "print(how_rooms)\n",
    "\n",
    "# Dscxbnsdftv % комнат \n",
    "print( (how_rooms[7] + how_rooms[6]+how_rooms[5] + how_rooms[0])*100)\n"
   ]
  },
  {
   "cell_type": "markdown",
   "metadata": {},
   "source": [
    "Доля квартир с 0, 5, 6, 7 комнатами, составляет 0.9 %"
   ]
  },
  {
   "cell_type": "code",
   "execution_count": 31,
   "metadata": {},
   "outputs": [
    {
     "name": "stdout",
     "output_type": "stream",
     "text": [
      "count    16303.000000\n",
      "mean         2.005827\n",
      "std          0.881886\n",
      "min          1.000000\n",
      "25%          1.000000\n",
      "50%          2.000000\n",
      "75%          3.000000\n",
      "max          4.000000\n",
      "Name: rooms, dtype: float64\n"
     ]
    },
    {
     "data": {
      "image/png": "[encoded data removed]",
      "text/plain": [
       "<Figure size 432x288 with 1 Axes>"
      ]
     },
     "metadata": {
      "needs_background": "light"
     },
     "output_type": "display_data"
    }
   ],
   "source": [
    "df = df.query('1 <= rooms <= 4')\n",
    "\n",
    "print(df['rooms'].describe())\n",
    "\n",
    "df.plot(y='rooms',\n",
    "        kind='hist',\n",
    "        bins=50,\n",
    "        range=(0, 5),\n",
    "        grid=True\n",
    ")\n",
    "plt.show()"
   ]
  },
  {
   "cell_type": "markdown",
   "metadata": {},
   "source": [
    "#### Высота потолков"
   ]
  },
  {
   "cell_type": "code",
   "execution_count": 32,
   "metadata": {
    "scrolled": true
   },
   "outputs": [
    {
     "name": "stdout",
     "output_type": "stream",
     "text": [
      "count    16303.000000\n",
      "mean         2.723677\n",
      "std          0.693839\n",
      "min          1.000000\n",
      "25%          2.600000\n",
      "50%          2.700000\n",
      "75%          2.700000\n",
      "max         32.000000\n",
      "Name: ceiling_height, dtype: float64\n"
     ]
    },
    {
     "data": {
      "image/png": "[encoded data removed]",
      "text/plain": [
       "<Figure size 720x360 with 1 Axes>"
      ]
     },
     "metadata": {
      "needs_background": "light"
     },
     "output_type": "display_data"
    },
    {
     "data": {
      "image/png": "[encoded data removed]",
      "text/plain": [
       "<Figure size 432x288 with 1 Axes>"
      ]
     },
     "metadata": {
      "needs_background": "light"
     },
     "output_type": "display_data"
    }
   ],
   "source": [
    "print(df['ceiling_height'].describe())\n",
    "\n",
    "df.plot(y='ceiling_height',\n",
    "        kind='hist',\n",
    "        bins=50,\n",
    "        range=(2.4, 3.5),\n",
    "        grid=True,\n",
    "        figsize=(10,5)\n",
    ")\n",
    "\n",
    "df.plot(kind='box',\n",
    "        y='ceiling_height',\n",
    "        grid=True,\n",
    "        rot=2\n",
    "        );\n",
    "plt.show()"
   ]
  },
  {
   "cell_type": "markdown",
   "metadata": {},
   "source": [
    "Посмотрим на распределение потолков."
   ]
  },
  {
   "cell_type": "code",
   "execution_count": 33,
   "metadata": {
    "scrolled": true
   },
   "outputs": [
    {
     "name": "stdout",
     "output_type": "stream",
     "text": [
      "2.7     0.387168\n",
      "2.6     0.220696\n",
      "2.5     0.174140\n",
      "2.8     0.101270\n",
      "3.0     0.050727\n",
      "3.2     0.017665\n",
      "3.1     0.012329\n",
      "2.9     0.009446\n",
      "3.3     0.006379\n",
      "3.4     0.004907\n",
      "3.5     0.004846\n",
      "3.6     0.002392\n",
      "4.0     0.001349\n",
      "2.4     0.001349\n",
      "3.8     0.001165\n",
      "3.7     0.001104\n",
      "4.2     0.000491\n",
      "3.9     0.000429\n",
      "4.1     0.000245\n",
      "25.0    0.000245\n",
      "27.0    0.000184\n",
      "2.0     0.000184\n",
      "4.5     0.000123\n",
      "8.0     0.000123\n",
      "4.4     0.000061\n",
      "1.0     0.000061\n",
      "8.3     0.000061\n",
      "4.8     0.000061\n",
      "5.3     0.000061\n",
      "4.3     0.000061\n",
      "22.6    0.000061\n",
      "26.0    0.000061\n",
      "20.0    0.000061\n",
      "4.7     0.000061\n",
      "14.0    0.000061\n",
      "24.0    0.000061\n",
      "1.8     0.000061\n",
      "27.5    0.000061\n",
      "32.0    0.000061\n",
      "10.3    0.000061\n",
      "2.3     0.000061\n",
      "Name: ceiling_height, dtype: float64\n",
      "Процент редких высот: 4.833\n"
     ]
    }
   ],
   "source": [
    "how_ceil = df['ceiling_height'].value_counts(normalize=True).sort_values(ascending=False)\n",
    "\n",
    "print(how_ceil)\n",
    "\n",
    "list_ceil = how_ceil.iloc[0:6].index\n",
    "\n",
    "print('Процент редких высот:', round((1-how_ceil.iloc[0:6].sum())*100, 3))"
   ]
  },
  {
   "cell_type": "markdown",
   "metadata": {},
   "source": [
    "Почистим данные"
   ]
  },
  {
   "cell_type": "code",
   "execution_count": 34,
   "metadata": {
    "scrolled": true
   },
   "outputs": [
    {
     "name": "stdout",
     "output_type": "stream",
     "text": [
      "count    15515.00\n",
      "mean         2.68\n",
      "std          0.14\n",
      "min          2.50\n",
      "25%          2.60\n",
      "50%          2.70\n",
      "75%          2.70\n",
      "max          3.20\n",
      "Name: ceiling_height, dtype: float64\n"
     ]
    },
    {
     "data": {
      "image/png": "[encoded data removed]",
      "text/plain": [
       "<Figure size 360x360 with 1 Axes>"
      ]
     },
     "metadata": {
      "needs_background": "light"
     },
     "output_type": "display_data"
    }
   ],
   "source": [
    "df = df.query('ceiling_height in @ list_ceil')\n",
    "print(df['ceiling_height'].describe().round(2))\n",
    "df.plot(y='ceiling_height',\n",
    "        kind='hist',\n",
    "        bins=50,\n",
    "        range=(2.4, 3.5),\n",
    "        grid=True,\n",
    "        figsize=(5,5)\n",
    ")\n",
    "plt.show()\n"
   ]
  },
  {
   "cell_type": "markdown",
   "metadata": {},
   "source": [
    "#### Время продажи квартиры"
   ]
  },
  {
   "cell_type": "code",
   "execution_count": 35,
   "metadata": {
    "scrolled": true
   },
   "outputs": [
    {
     "name": "stdout",
     "output_type": "stream",
     "text": [
      "count    15515.000000\n",
      "mean       164.462971\n",
      "std        202.518190\n",
      "min          1.000000\n",
      "25%         45.000000\n",
      "50%         95.000000\n",
      "75%        193.000000\n",
      "max       1553.000000\n",
      "Name: days_exposition, dtype: float64\n"
     ]
    },
    {
     "data": {
      "image/png": "[encoded data removed]",
      "text/plain": [
       "<Figure size 1080x360 with 1 Axes>"
      ]
     },
     "metadata": {
      "needs_background": "light"
     },
     "output_type": "display_data"
    },
    {
     "data": {
      "image/png": "[encoded data removed]",
      "text/plain": [
       "<Figure size 432x288 with 1 Axes>"
      ]
     },
     "metadata": {
      "needs_background": "light"
     },
     "output_type": "display_data"
    }
   ],
   "source": [
    "print(df['days_exposition'].describe())\n",
    "\n",
    "df.plot(y='days_exposition',\n",
    "        kind='hist',\n",
    "        bins=100,\n",
    "        range=(0, 1000),\n",
    "        grid=True,\n",
    "        figsize=(15,5)\n",
    ")\n",
    "\n",
    "df.plot(kind='box',\n",
    "        y='days_exposition',\n",
    "        grid=True,\n",
    "        );\n",
    "plt.show()"
   ]
  },
  {
   "cell_type": "markdown",
   "metadata": {},
   "source": [
    "Имеем выбросы с частотами выше 1000. Также есть большок количество дней, в которых квартира не продается годами. Отсеем их"
   ]
  },
  {
   "cell_type": "code",
   "execution_count": 36,
   "metadata": {},
   "outputs": [
    {
     "name": "stdout",
     "output_type": "stream",
     "text": [
      "Процент развещения объявления до 8 = 4.56 %\n",
      "Процент развещения объявления после 600 = 4.72 %\n"
     ]
    }
   ],
   "source": [
    "limit1 = 8\n",
    "print(f'Процент развещения объявления до {limit1:} =', round(\n",
    "    len(df.query(' days_exposition <= @limit1 ')) /\n",
    "    len(df) * 100,2), '%'\n",
    "     )\n",
    "limit2 = 600\n",
    "print(f'Процент развещения объявления после {limit2} =', round(\n",
    "    len(df.query(' days_exposition >= @limit2 ')) /\n",
    "    len(df) * 100,2), '%'\n",
    "     )"
   ]
  },
  {
   "cell_type": "code",
   "execution_count": 37,
   "metadata": {
    "scrolled": true
   },
   "outputs": [
    {
     "name": "stdout",
     "output_type": "stream",
     "text": [
      "count    14177\n",
      "mean       135\n",
      "std        127\n",
      "min          8\n",
      "25%         47\n",
      "50%         95\n",
      "75%        174\n",
      "max        600\n",
      "Name: days_exposition, dtype: int64\n"
     ]
    },
    {
     "data": {
      "image/png": "[encoded data removed]",
      "text/plain": [
       "<Figure size 432x288 with 1 Axes>"
      ]
     },
     "metadata": {
      "needs_background": "light"
     },
     "output_type": "display_data"
    }
   ],
   "source": [
    "df = df.query(' @limit1 <= days_exposition <= @limit2 ')\n",
    "\n",
    "print(df['days_exposition'].describe().astype('int'))\n",
    "\n",
    "df.plot(y='days_exposition',\n",
    "        kind='hist',\n",
    "        bins=100,\n",
    "        range=(0, limit2*1.1),\n",
    "        grid=True\n",
    ");\n",
    "plt.show()"
   ]
  },
  {
   "cell_type": "markdown",
   "metadata": {},
   "source": [
    "Теперь разберемся с выбросами. Увеличим область"
   ]
  },
  {
   "cell_type": "code",
   "execution_count": 38,
   "metadata": {},
   "outputs": [
    {
     "data": {
      "image/png": "[encoded data removed]",
      "text/plain": [
       "<Figure size 432x288 with 1 Axes>"
      ]
     },
     "metadata": {
      "needs_background": "light"
     },
     "output_type": "display_data"
    }
   ],
   "source": [
    "df.plot(y='days_exposition',\n",
    "        kind='hist',\n",
    "        bins=150,\n",
    "        range=(0, 110),\n",
    "        grid=True\n",
    ");\n",
    "plt.show()"
   ]
  },
  {
   "cell_type": "code",
   "execution_count": 39,
   "metadata": {},
   "outputs": [
    {
     "name": "stdout",
     "output_type": "stream",
     "text": [
      "days_exposition\n",
      "8     101\n",
      "9     100\n",
      "10    101\n",
      "11    101\n",
      "12     79\n",
      "Name: days_exposition, dtype: int64\n"
     ]
    },
    {
     "data": {
      "text/plain": [
       "591"
      ]
     },
     "execution_count": 39,
     "metadata": {},
     "output_type": "execute_result"
    }
   ],
   "source": [
    "# Сводная таблица по дням\n",
    "how_days = df.groupby('days_exposition')['days_exposition'].count()\n",
    "print(how_days.head())\n",
    "len(how_days)"
   ]
  },
  {
   "cell_type": "code",
   "execution_count": 40,
   "metadata": {},
   "outputs": [
    {
     "data": {
      "text/plain": [
       "Int64Index([45, 60, 95], dtype='int64', name='days_exposition')"
      ]
     },
     "execution_count": 40,
     "metadata": {},
     "output_type": "execute_result"
    }
   ],
   "source": [
    "# отбираем индексы в которых частота(count) выше 200\n",
    "list_days = how_days.loc[how_days.values > 200].index\n",
    "\n",
    "list_days"
   ]
  },
  {
   "cell_type": "code",
   "execution_count": 41,
   "metadata": {},
   "outputs": [
    {
     "name": "stdout",
     "output_type": "stream",
     "text": [
      "count    11776\n",
      "mean       147\n",
      "std        136\n",
      "min          8\n",
      "25%         43\n",
      "50%        100\n",
      "75%        204\n",
      "max        600\n",
      "Name: days_exposition, dtype: int64\n"
     ]
    },
    {
     "data": {
      "image/png": "[encoded data removed]",
      "text/plain": [
       "<Figure size 1080x360 with 1 Axes>"
      ]
     },
     "metadata": {
      "needs_background": "light"
     },
     "output_type": "display_data"
    }
   ],
   "source": [
    "# Очищаем от выбросов\n",
    "df = df.query(' days_exposition not in @list_days ')\n",
    "\n",
    "print(df['days_exposition'].describe().astype('int'))\n",
    "\n",
    "df.plot(y='days_exposition',\n",
    "        kind='hist',\n",
    "        bins=120,\n",
    "        range=(0, 120),\n",
    "        grid=True,\n",
    "        figsize=(15,5)\n",
    ");"
   ]
  },
  {
   "cell_type": "code",
   "execution_count": 42,
   "metadata": {},
   "outputs": [
    {
     "data": {
      "image/png": "[encoded data removed]",
      "text/plain": [
       "<Figure size 1080x360 with 1 Axes>"
      ]
     },
     "metadata": {
      "needs_background": "light"
     },
     "output_type": "display_data"
    }
   ],
   "source": [
    "df.plot(y='days_exposition',\n",
    "        kind='hist',\n",
    "        bins=100,\n",
    "        range=(0, 650),\n",
    "        grid=True,\n",
    "        figsize=(15,5)\n",
    ");"
   ]
  },
  {
   "cell_type": "markdown",
   "metadata": {},
   "source": [
    "Если подумать, то 600 дней продажи(2 года) никак не вяжется с жизненными представлениями о продаже. Однако, дальнейший отбор данных приведет к их ухудшению, поэтому оставим все так."
   ]
  },
  {
   "cell_type": "markdown",
   "metadata": {},
   "source": [
    "### Вывод\n",
    "Датафрейм почищен от редких и выбивающихся значений.\n",
    "\n",
    "В среднем продажа занимает 147 дней. Исходя из общей информации передаваемой методом .describe(), делаем вывод, что квартира продается:\n",
    "- быстро, если продана в течении 43 дней (первый квартиль),\n",
    "- средне, если в течении 44-204 дней (межквартильный размах),\n",
    "- медленно, если выше 205 дней (третий квартиль)"
   ]
  },
  {
   "cell_type": "markdown",
   "metadata": {},
   "source": [
    "###  Факторы влияющие на стоимость квартиры\n",
    "\n",
    "Какие факторы больше всего влияют на стоимость квартиры?  \n",
    "- зависит ли цена от площади, числа комнат, удалённости от центра. \n",
    "- Изучите зависимость цены от того, на каком этаже расположена квартира: первом, последнем или другом.\n",
    "- Также изучите зависимость от даты размещения: дня недели, месяца и года."
   ]
  },
  {
   "cell_type": "markdown",
   "metadata": {},
   "source": [
    "Для изучения вопроса корреляции обратимся к коэффициенту Пирсона, а так же построим диаграмму рассеивания. Интерпритация коэффициента(градация корреляции) рассмотрена в <a href='https://medstatistic.ru/methods/methods8.html'>этой</a> статье.\n",
    "\n",
    "Если коэффициент Пирсона:\n",
    "* менее 0.3 - слабая\n",
    "* от 0.3 до 0.5 - умеренная\n",
    "* от 0.5 до 0.7 - заметная\n",
    "* от 0.7 до 0.9 - высокая\n",
    "* более 0.9 - весьма высокая  \n",
    "\n",
    "Детально рассмотрим взаимосвязи с коэффициентом выше 0,5"
   ]
  },
  {
   "cell_type": "markdown",
   "metadata": {},
   "source": [
    "#### Матрица корреляции"
   ]
  },
  {
   "cell_type": "code",
   "execution_count": 43,
   "metadata": {},
   "outputs": [
    {
     "data": {
      "image/png": "[encoded data removed]",
      "text/plain": [
       "<Figure size 216x360 with 2 Axes>"
      ]
     },
     "metadata": {
      "needs_background": "light"
     },
     "output_type": "display_data"
    }
   ],
   "source": [
    "# нужные столбцы\n",
    "list_corr = ['last_price',\n",
    "            'total_area',\n",
    "            'rooms',\n",
    "            'floor_grp',\n",
    "            'centers_nearest',\n",
    "            'expo_weekday',\n",
    "            'expo_month',\n",
    "            'expo_year'\n",
    "            ]\n",
    "\n",
    "# коэф Пирсона\n",
    "pirson=df[list_corr].corr()[['last_price']].round(2)\n",
    "\n",
    "# Plot\n",
    "plt.figure(figsize=(3,5))\n",
    "sns.heatmap(\n",
    "    pirson,\n",
    "    yticklabels=pirson.index,\n",
    "    #xticklabels=pirson.index,\n",
    "    cmap='RdYlGn', center=0,\n",
    "    annot=True)\n",
    "\n",
    "# Decorations\n",
    "plt.title('Корреляция в объявлениях', fontsize=22)\n",
    "plt.xticks(fontsize=12)\n",
    "plt.yticks(fontsize=12)\n",
    "plt.show()\n"
   ]
  },
  {
   "cell_type": "markdown",
   "metadata": {},
   "source": [
    "Как мы видим, на стоимость квартиры, во всех объявлениях, в основном влияют 3 параметра:\n",
    "* высокая связь с площадью квартиры,\n",
    "* заметная связь от колличества комнат\n",
    "* слабая связь от расстояния. при чем, чем дальше от центра тем ниже цена.  \n",
    "\n",
    "Остальные параметры практически не влияют на цену."
   ]
  },
  {
   "cell_type": "markdown",
   "metadata": {},
   "source": [
    "Построим диаграммы рассеивания"
   ]
  },
  {
   "cell_type": "markdown",
   "metadata": {},
   "source": [
    "#### Диаграмма рассеивания цена/площадь"
   ]
  },
  {
   "cell_type": "code",
   "execution_count": 44,
   "metadata": {},
   "outputs": [
    {
     "data": {
      "image/png": "[encoded data removed]",
      "text/plain": [
       "<Figure size 432x288 with 2 Axes>"
      ]
     },
     "metadata": {
      "needs_background": "light"
     },
     "output_type": "display_data"
    }
   ],
   "source": [
    "df.plot(x='last_price', y='total_area', kind='hexbin', gridsize=15);"
   ]
  },
  {
   "cell_type": "markdown",
   "metadata": {},
   "source": [
    "Воспользуемя библиотекой seaborn, для более наглядной визуализации"
   ]
  },
  {
   "cell_type": "code",
   "execution_count": 45,
   "metadata": {},
   "outputs": [
    {
     "name": "stdout",
     "output_type": "stream",
     "text": [
      "Взаимосвязь цены и площади, rx=0.79\n"
     ]
    },
    {
     "data": {
      "image/png": "[encoded data removed]",
      "text/plain": [
       "<Figure size 432x432 with 3 Axes>"
      ]
     },
     "metadata": {
      "needs_background": "light"
     },
     "output_type": "display_data"
    }
   ],
   "source": [
    "print(f\"Взаимосвязь цены и площади, rx={pirson.loc['total_area', 'last_price']}\")\n",
    "      \n",
    "sns.jointplot(data=df,\n",
    "              x=\"last_price\",\n",
    "              y=\"total_area\",\n",
    "              kind=\"kde\");"
   ]
  },
  {
   "cell_type": "markdown",
   "metadata": {},
   "source": [
    "#### Диаграмма рассеивания цена/число комнат"
   ]
  },
  {
   "cell_type": "code",
   "execution_count": 46,
   "metadata": {},
   "outputs": [
    {
     "name": "stdout",
     "output_type": "stream",
     "text": [
      "Взаимосвязь цены и числа комнат, rx=0.49\n"
     ]
    },
    {
     "data": {
      "image/png": "[encoded data removed]",
      "text/plain": [
       "<Figure size 432x432 with 3 Axes>"
      ]
     },
     "metadata": {
      "needs_background": "light"
     },
     "output_type": "display_data"
    }
   ],
   "source": [
    "print(f\"Взаимосвязь цены и числа комнат, rx={pirson.loc['rooms', 'last_price']}\")\n",
    "\n",
    "sns.jointplot(data=df,\n",
    "              x=\"last_price\",\n",
    "              y=\"rooms\",\n",
    "              kind=\"kde\",\n",
    "             );"
   ]
  },
  {
   "cell_type": "markdown",
   "metadata": {},
   "source": [
    "#### Диаграмма рассеивания цена/расстояние от центра"
   ]
  },
  {
   "cell_type": "code",
   "execution_count": 47,
   "metadata": {},
   "outputs": [
    {
     "name": "stdout",
     "output_type": "stream",
     "text": [
      "Взаимосвязь цены и расстояния от центра комнат, rx=-0.33\n"
     ]
    },
    {
     "data": {
      "image/png": "[encoded data removed]",
      "text/plain": [
       "<Figure size 432x432 with 3 Axes>"
      ]
     },
     "metadata": {
      "needs_background": "light"
     },
     "output_type": "display_data"
    }
   ],
   "source": [
    "print(f\"Взаимосвязь цены и расстояния от центра комнат, rx={pirson.loc['centers_nearest', 'last_price']}\")\n",
    "\n",
    "sns.jointplot(data=df,\n",
    "              x=\"last_price\",\n",
    "              y=\"centers_nearest\",\n",
    "              kind=\"kde\",\n",
    "             );\n"
   ]
  },
  {
   "cell_type": "markdown",
   "metadata": {},
   "source": [
    "#### Вывод \n",
    "- цена продажи заметно зависит от общей площади квартиры. сильная корреляция с квартирами площадью от 30 до 50 м2,\n",
    "- цена продажи высоко зависит от количества комнат. сильная корреляция с однокомнатной квартирой,\n",
    "- слабая корреляция между ценой и расстоянием до центра,\n",
    "- этаж квартиры, и даты размещения не влияют на цену."
   ]
  },
  {
   "cell_type": "markdown",
   "metadata": {},
   "source": [
    "### Исследование по населенным пунктам"
   ]
  },
  {
   "cell_type": "markdown",
   "metadata": {},
   "source": [
    "* Выберите 10 населённых пунктов с наибольшим числом объявлений.\n",
    "* Посчитайте среднюю цену квадратного метра в этих населённых пунктах.\n",
    "* Выделите среди них населённые пункты с самой высокой и низкой стоимостью жилья.  \n",
    "Эти данные можно найти по имени в столбце locality_name."
   ]
  },
  {
   "cell_type": "markdown",
   "metadata": {},
   "source": [
    "Выведим первые 10 населённых пунктов с наибольшим числом объявлений"
   ]
  },
  {
   "cell_type": "code",
   "execution_count": 48,
   "metadata": {},
   "outputs": [
    {
     "name": "stdout",
     "output_type": "stream",
     "text": [
      "['санкт-петербург', 'посёлок шушары', 'пушкин', 'колпино', 'посёлок парголово', 'петергоф', 'красное село', 'сестрорецк', 'ломоносов', 'кронштадт']\n"
     ]
    }
   ],
   "source": [
    "\"\"\"сводная таблица с подсчетом кол-ва (count)объявление. столбец можно взять любой.\n",
    "сводная таблица сортируется по значениям.\n",
    "выводится 10 значений\n",
    "выбираем из нее индексы и передаем в список\"\"\"\n",
    "\n",
    "list_col = list(\n",
    "    df.pivot_table(index='locality_name',\n",
    "                   values='floor',\n",
    "                   aggfunc='count') #кол-во\n",
    "    .sort_values('floor', ascending=False) #сортировка по убыванию\n",
    "    .head(10).index\n",
    ")\n",
    "\n",
    "print(list_col)"
   ]
  },
  {
   "cell_type": "markdown",
   "metadata": {},
   "source": [
    "Посчитаем среднюю цену квадратного метра в этих населённых пунктах."
   ]
  },
  {
   "cell_type": "code",
   "execution_count": 49,
   "metadata": {},
   "outputs": [
    {
     "name": "stdout",
     "output_type": "stream",
     "text": [
      "Цена за квадратный метр\n"
     ]
    },
    {
     "data": {
      "text/html": [
       "<div>\n",
       "<style scoped>\n",
       "    .dataframe tbody tr th:only-of-type {\n",
       "        vertical-align: middle;\n",
       "    }\n",
       "\n",
       "    .dataframe tbody tr th {\n",
       "        vertical-align: top;\n",
       "    }\n",
       "\n",
       "    .dataframe thead th {\n",
       "        text-align: right;\n",
       "    }\n",
       "</style>\n",
       "<table border=\"1\" class=\"dataframe\">\n",
       "  <thead>\n",
       "    <tr style=\"text-align: right;\">\n",
       "      <th></th>\n",
       "      <th>price_sq_m</th>\n",
       "    </tr>\n",
       "    <tr>\n",
       "      <th>locality_name</th>\n",
       "      <th></th>\n",
       "    </tr>\n",
       "  </thead>\n",
       "  <tbody>\n",
       "    <tr>\n",
       "      <td>санкт-петербург</td>\n",
       "      <td>105744</td>\n",
       "    </tr>\n",
       "    <tr>\n",
       "      <td>сестрорецк</td>\n",
       "      <td>100620</td>\n",
       "    </tr>\n",
       "    <tr>\n",
       "      <td>пушкин</td>\n",
       "      <td>100566</td>\n",
       "    </tr>\n",
       "    <tr>\n",
       "      <td>посёлок парголово</td>\n",
       "      <td>90421</td>\n",
       "    </tr>\n",
       "    <tr>\n",
       "      <td>петергоф</td>\n",
       "      <td>83602</td>\n",
       "    </tr>\n",
       "    <tr>\n",
       "      <td>кронштадт</td>\n",
       "      <td>79365</td>\n",
       "    </tr>\n",
       "    <tr>\n",
       "      <td>посёлок шушары</td>\n",
       "      <td>78335</td>\n",
       "    </tr>\n",
       "    <tr>\n",
       "      <td>колпино</td>\n",
       "      <td>75778</td>\n",
       "    </tr>\n",
       "    <tr>\n",
       "      <td>ломоносов</td>\n",
       "      <td>73271</td>\n",
       "    </tr>\n",
       "    <tr>\n",
       "      <td>красное село</td>\n",
       "      <td>72986</td>\n",
       "    </tr>\n",
       "  </tbody>\n",
       "</table>\n",
       "</div>"
      ],
      "text/plain": [
       "                   price_sq_m\n",
       "locality_name                \n",
       "санкт-петербург        105744\n",
       "сестрорецк             100620\n",
       "пушкин                 100566\n",
       "посёлок парголово       90421\n",
       "петергоф                83602\n",
       "кронштадт               79365\n",
       "посёлок шушары          78335\n",
       "колпино                 75778\n",
       "ломоносов               73271\n",
       "красное село            72986"
      ]
     },
     "metadata": {},
     "output_type": "display_data"
    }
   ],
   "source": [
    "print('Цена за квадратный метр')\n",
    "display(\n",
    "    df.query(' locality_name in @list_col ') # проверяем вхождение населенного пункта в списке\n",
    "    .pivot_table(index='locality_name',\n",
    "                 values='price_sq_m', aggfunc='mean') # находим среднее арифмитическое\n",
    "    .sort_values('price_sq_m', ascending=False)\n",
    "    .astype('int')\n",
    ")\n"
   ]
  },
  {
   "cell_type": "markdown",
   "metadata": {},
   "source": [
    "Выделим среди них населённые пункты с самой высокой и низкой стоимостью жилья."
   ]
  },
  {
   "cell_type": "code",
   "execution_count": 50,
   "metadata": {},
   "outputs": [
    {
     "name": "stdout",
     "output_type": "stream",
     "text": [
      "Самое дорогое жилье\n"
     ]
    },
    {
     "data": {
      "text/html": [
       "<div>\n",
       "<style scoped>\n",
       "    .dataframe tbody tr th:only-of-type {\n",
       "        vertical-align: middle;\n",
       "    }\n",
       "\n",
       "    .dataframe tbody tr th {\n",
       "        vertical-align: top;\n",
       "    }\n",
       "\n",
       "    .dataframe thead th {\n",
       "        text-align: right;\n",
       "    }\n",
       "</style>\n",
       "<table border=\"1\" class=\"dataframe\">\n",
       "  <thead>\n",
       "    <tr style=\"text-align: right;\">\n",
       "      <th></th>\n",
       "      <th>last_price</th>\n",
       "    </tr>\n",
       "    <tr>\n",
       "      <th>locality_name</th>\n",
       "      <th></th>\n",
       "    </tr>\n",
       "  </thead>\n",
       "  <tbody>\n",
       "    <tr>\n",
       "      <td>пушкин</td>\n",
       "      <td>15000000</td>\n",
       "    </tr>\n",
       "    <tr>\n",
       "      <td>санкт-петербург</td>\n",
       "      <td>15000000</td>\n",
       "    </tr>\n",
       "    <tr>\n",
       "      <td>сестрорецк</td>\n",
       "      <td>13999000</td>\n",
       "    </tr>\n",
       "    <tr>\n",
       "      <td>колпино</td>\n",
       "      <td>12750000</td>\n",
       "    </tr>\n",
       "    <tr>\n",
       "      <td>кронштадт</td>\n",
       "      <td>11500000</td>\n",
       "    </tr>\n",
       "    <tr>\n",
       "      <td>петергоф</td>\n",
       "      <td>11100000</td>\n",
       "    </tr>\n",
       "    <tr>\n",
       "      <td>посёлок шушары</td>\n",
       "      <td>10990000</td>\n",
       "    </tr>\n",
       "    <tr>\n",
       "      <td>ломоносов</td>\n",
       "      <td>9150000</td>\n",
       "    </tr>\n",
       "    <tr>\n",
       "      <td>посёлок парголово</td>\n",
       "      <td>9140000</td>\n",
       "    </tr>\n",
       "    <tr>\n",
       "      <td>красное село</td>\n",
       "      <td>8500000</td>\n",
       "    </tr>\n",
       "  </tbody>\n",
       "</table>\n",
       "</div>"
      ],
      "text/plain": [
       "                   last_price\n",
       "locality_name                \n",
       "пушкин               15000000\n",
       "санкт-петербург      15000000\n",
       "сестрорецк           13999000\n",
       "колпино              12750000\n",
       "кронштадт            11500000\n",
       "петергоф             11100000\n",
       "посёлок шушары       10990000\n",
       "ломоносов             9150000\n",
       "посёлок парголово     9140000\n",
       "красное село          8500000"
      ]
     },
     "metadata": {},
     "output_type": "display_data"
    },
    {
     "name": "stdout",
     "output_type": "stream",
     "text": [
      "Самое дешевое жилье\n"
     ]
    },
    {
     "data": {
      "text/html": [
       "<div>\n",
       "<style scoped>\n",
       "    .dataframe tbody tr th:only-of-type {\n",
       "        vertical-align: middle;\n",
       "    }\n",
       "\n",
       "    .dataframe tbody tr th {\n",
       "        vertical-align: top;\n",
       "    }\n",
       "\n",
       "    .dataframe thead th {\n",
       "        text-align: right;\n",
       "    }\n",
       "</style>\n",
       "<table border=\"1\" class=\"dataframe\">\n",
       "  <thead>\n",
       "    <tr style=\"text-align: right;\">\n",
       "      <th></th>\n",
       "      <th>last_price</th>\n",
       "    </tr>\n",
       "    <tr>\n",
       "      <th>locality_name</th>\n",
       "      <th></th>\n",
       "    </tr>\n",
       "  </thead>\n",
       "  <tbody>\n",
       "    <tr>\n",
       "      <td>санкт-петербург</td>\n",
       "      <td>1200000</td>\n",
       "    </tr>\n",
       "    <tr>\n",
       "      <td>ломоносов</td>\n",
       "      <td>1650000</td>\n",
       "    </tr>\n",
       "    <tr>\n",
       "      <td>красное село</td>\n",
       "      <td>1799000</td>\n",
       "    </tr>\n",
       "    <tr>\n",
       "      <td>посёлок парголово</td>\n",
       "      <td>1800000</td>\n",
       "    </tr>\n",
       "    <tr>\n",
       "      <td>пушкин</td>\n",
       "      <td>1990000</td>\n",
       "    </tr>\n",
       "    <tr>\n",
       "      <td>посёлок шушары</td>\n",
       "      <td>2000000</td>\n",
       "    </tr>\n",
       "    <tr>\n",
       "      <td>колпино</td>\n",
       "      <td>2100000</td>\n",
       "    </tr>\n",
       "    <tr>\n",
       "      <td>петергоф</td>\n",
       "      <td>2100000</td>\n",
       "    </tr>\n",
       "    <tr>\n",
       "      <td>кронштадт</td>\n",
       "      <td>2290000</td>\n",
       "    </tr>\n",
       "    <tr>\n",
       "      <td>сестрорецк</td>\n",
       "      <td>2800000</td>\n",
       "    </tr>\n",
       "  </tbody>\n",
       "</table>\n",
       "</div>"
      ],
      "text/plain": [
       "                   last_price\n",
       "locality_name                \n",
       "санкт-петербург       1200000\n",
       "ломоносов             1650000\n",
       "красное село          1799000\n",
       "посёлок парголово     1800000\n",
       "пушкин                1990000\n",
       "посёлок шушары        2000000\n",
       "колпино               2100000\n",
       "петергоф              2100000\n",
       "кронштадт             2290000\n",
       "сестрорецк            2800000"
      ]
     },
     "metadata": {},
     "output_type": "display_data"
    }
   ],
   "source": [
    "\"\"\"\n",
    "выводим сводную таблицу цен в каждом населенном пункте,\n",
    "отсортированной под убыванию\n",
    "\"\"\"\n",
    "print('Самое дорогое жилье')\n",
    "display(\n",
    "    df.query(' locality_name in @list_col ') # проверяем вхождение населенного пункта в списке\n",
    "    .pivot_table(index='locality_name',\n",
    "                 values='last_price', aggfunc='max')\n",
    "    .sort_values('last_price', ascending=False) #сортируем по убыванию\n",
    "    .astype('int')\n",
    ")\n",
    "\n",
    "\"\"\"\n",
    "выводим сводную таблицу цен в каждом населенном пункте,\n",
    "отсортированной под возрастанию\n",
    "\"\"\"\n",
    "print('Самое дешевое жилье')\n",
    "display(\n",
    "    df.query(' locality_name in @list_col ') # проверяем вхождение населенного пункта в списке\n",
    "    .pivot_table(index='locality_name',\n",
    "                 values='last_price', aggfunc='min')\n",
    "    .sort_values('last_price', ascending=True) #сортируем по возрастанию\n",
    "    .astype('int')\n",
    ")"
   ]
  },
  {
   "cell_type": "markdown",
   "metadata": {},
   "source": [
    "#### Вывод\n",
    "Самые дорогие квадратные метры, ценой от 100 т.р. в \n",
    "- Санкт-Петербург,\n",
    "- Сестрорецк,\n",
    "- Пушкин\n",
    "\n",
    "Самое дорогое жилье (от 10 до 15 млн.руб) в:\n",
    "- Пушкин,\n",
    "- Санкт-Петербург,\n",
    "- Сестрорецк,\n",
    "- Колпино,\n",
    "- Кронштадт,\n",
    "- Петергоф,\n",
    "- Посёлок Шушары\n",
    "\n",
    "Самое дешевое жилье  (от 1.2 до 2 млн) в:\n",
    "- Cанкт-Петербург,\n",
    "- Ломоносов,\n",
    "- Красное село,\n",
    "- Посёлок Парголово,\n",
    "- Пушкин,\n",
    "- Посёлок Шушары\n"
   ]
  },
  {
   "cell_type": "markdown",
   "metadata": {},
   "source": [
    "###  Факторы влияющие на стоимость квартиры в Санкт-Петербурге"
   ]
  },
  {
   "cell_type": "markdown",
   "metadata": {},
   "source": [
    "#### Поиск финансового центра\n",
    "Изучить предложения квартир: для каждой квартиры есть информация о расстоянии до центра.  \n",
    "* Выделите квартиры в Санкт-Петербурге (locality_name). \n",
    "* Ваша задача — выяснить, какая область входит в центр. Создайте столбец с расстоянием до центра в километрах: округлите до целых значений. После этого посчитайте среднюю цену для каждого километра.\n",
    "* Постройте график: он должен показывать, как цена зависит от удалённости от центра. Определите границу, где график сильно меняется, — это и будет центральная зона."
   ]
  },
  {
   "cell_type": "markdown",
   "metadata": {},
   "source": [
    "Создаем столбец 'расстояние от центра в км'"
   ]
  },
  {
   "cell_type": "code",
   "execution_count": 51,
   "metadata": {},
   "outputs": [],
   "source": [
    "df['centers_nearest_km'] = (df['centers_nearest'] / 1000).round(0)"
   ]
  },
  {
   "cell_type": "markdown",
   "metadata": {},
   "source": [
    "Выделим датафрейм с объявлениями по Санкт-Петербургу"
   ]
  },
  {
   "cell_type": "code",
   "execution_count": 52,
   "metadata": {},
   "outputs": [
    {
     "name": "stdout",
     "output_type": "stream",
     "text": [
      "count    9789.000000\n",
      "mean       12.450710\n",
      "std         4.406981\n",
      "min         0.000000\n",
      "25%        10.000000\n",
      "50%        13.000000\n",
      "75%        15.000000\n",
      "max        29.000000\n",
      "Name: centers_nearest_km, dtype: float64\n"
     ]
    }
   ],
   "source": [
    "peter = df.query(\" locality_name == 'санкт-петербург' \")\n",
    "print(peter['centers_nearest_km'].describe())"
   ]
  },
  {
   "cell_type": "markdown",
   "metadata": {},
   "source": [
    "Построим график"
   ]
  },
  {
   "cell_type": "code",
   "execution_count": 53,
   "metadata": {},
   "outputs": [
    {
     "data": {
      "image/png": "[encoded data removed]",
      "text/plain": [
       "<Figure size 720x288 with 1 Axes>"
      ]
     },
     "metadata": {
      "needs_background": "light"
     },
     "output_type": "display_data"
    }
   ],
   "source": [
    "(\n",
    "    peter\n",
    "    .pivot_table(index='centers_nearest_km', values='last_price', aggfunc='mean')\n",
    "    .plot(style='-o', grid=True, xlim=(0, 30), figsize=(10,4))\n",
    ");"
   ]
  },
  {
   "cell_type": "markdown",
   "metadata": {},
   "source": [
    "Мы получили график, который практически, равномерно идет вниз. Имеются рывки и диапозоны. Можно выделить группу от 7млн. рублей, которая находится в пределах 7 км.\n"
   ]
  },
  {
   "cell_type": "code",
   "execution_count": 54,
   "metadata": {},
   "outputs": [],
   "source": [
    "cent_rad = 7"
   ]
  },
  {
   "cell_type": "markdown",
   "metadata": {},
   "source": [
    "**Вывод**  \n",
    "На основании графика, делаем вывод, что финаносовый центр Санкт-Петербурга находится в пределах 7 км."
   ]
  },
  {
   "cell_type": "markdown",
   "metadata": {},
   "source": [
    "####  Исследования по Санкт-Петербургу\n",
    "\n",
    "* Выделите сегмент квартир в центре. Проанализируйте эту территорию и изучите следующие параметры: площадь, цена, число комнат, высота потолков.\n",
    "* Также выделите факторы, которые влияют на стоимость квартиры (число комнат, этаж, удалённость от центра, дата размещения объявления). Сделайте выводы.\n",
    "* Отличаются ли они от общих выводов по всему городу?  "
   ]
  },
  {
   "cell_type": "code",
   "execution_count": 55,
   "metadata": {},
   "outputs": [],
   "source": [
    "list_col = ['total_area',\n",
    "            'last_price',\n",
    "            'rooms',\n",
    "            'ceiling_height'\n",
    "]"
   ]
  },
  {
   "cell_type": "code",
   "execution_count": 56,
   "metadata": {},
   "outputs": [],
   "source": [
    "# Срез по квартирам в центре\n",
    "peter_center = peter.query(' centers_nearest_km <= @cent_rad ')"
   ]
  },
  {
   "cell_type": "markdown",
   "metadata": {},
   "source": [
    "Соберем наглядную статистику чепез describe()"
   ]
  },
  {
   "cell_type": "code",
   "execution_count": 57,
   "metadata": {},
   "outputs": [],
   "source": [
    "# Статистика по площади\n",
    "peter_center_area = peter_center['total_area'].describe().astype('int')\n",
    "peter_area = peter['total_area'].describe().astype('int')\n",
    "\n",
    "# Статистика по цене\n",
    "peter_center_price = peter_center['last_price'].describe().astype('int')\n",
    "peter_price = peter['last_price'].describe().astype('int')\n",
    "\n",
    "# Статистика по комнатам\n",
    "peter_center_rooms = peter_center['rooms'].describe().astype('int')\n",
    "peter_rooms = peter['rooms'].describe().astype('int')\n",
    "\n",
    "# Статистика по потолкам\n",
    "peter_center_ceil = peter_center['ceiling_height'].describe().round(2)\n",
    "peter_сeil = peter['ceiling_height'].describe().round(2)"
   ]
  },
  {
   "cell_type": "markdown",
   "metadata": {},
   "source": [
    "##### Сравнение по площади квартир"
   ]
  },
  {
   "cell_type": "code",
   "execution_count": 58,
   "metadata": {},
   "outputs": [],
   "source": [
    "final_stat_area = pd.concat([peter_center_area , peter_area], axis=1)\n",
    "final_stat_area.columns=['По центру', 'По гроду']\n"
   ]
  },
  {
   "cell_type": "code",
   "execution_count": 59,
   "metadata": {},
   "outputs": [
    {
     "data": {
      "text/html": [
       "<div>\n",
       "<style scoped>\n",
       "    .dataframe tbody tr th:only-of-type {\n",
       "        vertical-align: middle;\n",
       "    }\n",
       "\n",
       "    .dataframe tbody tr th {\n",
       "        vertical-align: top;\n",
       "    }\n",
       "\n",
       "    .dataframe thead th {\n",
       "        text-align: right;\n",
       "    }\n",
       "</style>\n",
       "<table border=\"1\" class=\"dataframe\">\n",
       "  <thead>\n",
       "    <tr style=\"text-align: right;\">\n",
       "      <th></th>\n",
       "      <th>По центру</th>\n",
       "      <th>По гроду</th>\n",
       "    </tr>\n",
       "  </thead>\n",
       "  <tbody>\n",
       "    <tr>\n",
       "      <td>count</td>\n",
       "      <td>1425</td>\n",
       "      <td>9789</td>\n",
       "    </tr>\n",
       "    <tr>\n",
       "      <td>mean</td>\n",
       "      <td>66</td>\n",
       "      <td>55</td>\n",
       "    </tr>\n",
       "    <tr>\n",
       "      <td>std</td>\n",
       "      <td>21</td>\n",
       "      <td>19</td>\n",
       "    </tr>\n",
       "    <tr>\n",
       "      <td>min</td>\n",
       "      <td>30</td>\n",
       "      <td>30</td>\n",
       "    </tr>\n",
       "    <tr>\n",
       "      <td>25%</td>\n",
       "      <td>48</td>\n",
       "      <td>41</td>\n",
       "    </tr>\n",
       "    <tr>\n",
       "      <td>50%</td>\n",
       "      <td>64</td>\n",
       "      <td>50</td>\n",
       "    </tr>\n",
       "    <tr>\n",
       "      <td>75%</td>\n",
       "      <td>82</td>\n",
       "      <td>66</td>\n",
       "    </tr>\n",
       "    <tr>\n",
       "      <td>max</td>\n",
       "      <td>130</td>\n",
       "      <td>130</td>\n",
       "    </tr>\n",
       "  </tbody>\n",
       "</table>\n",
       "</div>"
      ],
      "text/plain": [
       "       По центру  По гроду\n",
       "count       1425      9789\n",
       "mean          66        55\n",
       "std           21        19\n",
       "min           30        30\n",
       "25%           48        41\n",
       "50%           64        50\n",
       "75%           82        66\n",
       "max          130       130"
      ]
     },
     "metadata": {},
     "output_type": "display_data"
    },
    {
     "data": {
      "image/png": "[encoded data removed]",
      "text/plain": [
       "<Figure size 720x360 with 1 Axes>"
      ]
     },
     "metadata": {
      "needs_background": "light"
     },
     "output_type": "display_data"
    }
   ],
   "source": [
    "display(final_stat_area)\n",
    "\n",
    "ax = peter_center.plot(kind='hist',\n",
    "                       histtype='step',\n",
    "                       label='по центру',\n",
    "                       y='total_area',\n",
    "                       bins=100,\n",
    "                       figsize=(10,5)\n",
    "                      )\n",
    "\n",
    "peter.plot(\n",
    "    title='Распределение площади квартир',\n",
    "    kind='hist',\n",
    "    y='total_area',\n",
    "    label='по городу',\n",
    "    alpha=0.3,\n",
    "    bins=100,\n",
    "    grid=True,\n",
    "    figsize=(10,5),\n",
    "    ax=ax\n",
    ");\n"
   ]
  },
  {
   "cell_type": "markdown",
   "metadata": {},
   "source": [
    "**Вывод**  \n",
    "Площадь квартир в центре:\n",
    "* в среднем составляет 66 м2\n",
    "* основной диапозон  лежит в пределе от 48 до 82 м2\n",
    "\n",
    "Площадь квартир по городу:\n",
    "* в среднем составляет 55 м2\n",
    "* основной диапозон  лежит в пределе от 41 до 66 м2\n",
    "\n",
    "Значения площадей в центре выше, чем по городу"
   ]
  },
  {
   "cell_type": "markdown",
   "metadata": {},
   "source": [
    "##### Сравнение по цене квартир"
   ]
  },
  {
   "cell_type": "code",
   "execution_count": 60,
   "metadata": {},
   "outputs": [],
   "source": [
    "final_stat_price = pd.concat([peter_center_price , peter_price], axis=1)\n",
    "final_stat_price.columns=['По центру', 'По гроду']"
   ]
  },
  {
   "cell_type": "code",
   "execution_count": 61,
   "metadata": {
    "scrolled": false
   },
   "outputs": [
    {
     "data": {
      "text/html": [
       "<div>\n",
       "<style scoped>\n",
       "    .dataframe tbody tr th:only-of-type {\n",
       "        vertical-align: middle;\n",
       "    }\n",
       "\n",
       "    .dataframe tbody tr th {\n",
       "        vertical-align: top;\n",
       "    }\n",
       "\n",
       "    .dataframe thead th {\n",
       "        text-align: right;\n",
       "    }\n",
       "</style>\n",
       "<table border=\"1\" class=\"dataframe\">\n",
       "  <thead>\n",
       "    <tr style=\"text-align: right;\">\n",
       "      <th></th>\n",
       "      <th>По центру</th>\n",
       "      <th>По гроду</th>\n",
       "    </tr>\n",
       "  </thead>\n",
       "  <tbody>\n",
       "    <tr>\n",
       "      <td>count</td>\n",
       "      <td>1425</td>\n",
       "      <td>9789</td>\n",
       "    </tr>\n",
       "    <tr>\n",
       "      <td>mean</td>\n",
       "      <td>7937248</td>\n",
       "      <td>5811144</td>\n",
       "    </tr>\n",
       "    <tr>\n",
       "      <td>std</td>\n",
       "      <td>2762819</td>\n",
       "      <td>2461959</td>\n",
       "    </tr>\n",
       "    <tr>\n",
       "      <td>min</td>\n",
       "      <td>2100000</td>\n",
       "      <td>1200000</td>\n",
       "    </tr>\n",
       "    <tr>\n",
       "      <td>25%</td>\n",
       "      <td>5800000</td>\n",
       "      <td>4070000</td>\n",
       "    </tr>\n",
       "    <tr>\n",
       "      <td>50%</td>\n",
       "      <td>7499000</td>\n",
       "      <td>5100000</td>\n",
       "    </tr>\n",
       "    <tr>\n",
       "      <td>75%</td>\n",
       "      <td>9640000</td>\n",
       "      <td>6850000</td>\n",
       "    </tr>\n",
       "    <tr>\n",
       "      <td>max</td>\n",
       "      <td>15000000</td>\n",
       "      <td>15000000</td>\n",
       "    </tr>\n",
       "  </tbody>\n",
       "</table>\n",
       "</div>"
      ],
      "text/plain": [
       "       По центру  По гроду\n",
       "count       1425      9789\n",
       "mean     7937248   5811144\n",
       "std      2762819   2461959\n",
       "min      2100000   1200000\n",
       "25%      5800000   4070000\n",
       "50%      7499000   5100000\n",
       "75%      9640000   6850000\n",
       "max     15000000  15000000"
      ]
     },
     "metadata": {},
     "output_type": "display_data"
    },
    {
     "data": {
      "image/png": "[encoded data removed]",
      "text/plain": [
       "<Figure size 720x360 with 1 Axes>"
      ]
     },
     "metadata": {
      "needs_background": "light"
     },
     "output_type": "display_data"
    }
   ],
   "source": [
    "display(final_stat_price)\n",
    "\n",
    "ax = peter_center.plot(kind='hist',\n",
    "                       histtype='step',\n",
    "                       label='по центру',\n",
    "                       y='last_price',\n",
    "                       bins=100,\n",
    "                       figsize=(10,5)\n",
    "                      )\n",
    "\n",
    "peter.plot(\n",
    "    title='Распределение цен на квартиры',\n",
    "    kind='hist',\n",
    "    y='last_price',\n",
    "    label='по городу',\n",
    "    alpha=0.3,\n",
    "    bins=100,\n",
    "    grid=True,\n",
    "    figsize=(10,5),\n",
    "    ax=ax\n",
    ");\n"
   ]
  },
  {
   "cell_type": "markdown",
   "metadata": {},
   "source": [
    "**Вывод**  \n",
    "цены квартир в центре:\n",
    "* в среднем составляет 7 937 248\n",
    "* основной диапозон лежит в пределе от 5 800 000 до 9 640 000  \n",
    "\n",
    "цены квартир по городу:\n",
    "* в среднем составляет 5 100 000\n",
    "* основной диапозон лежит в пределе от 4 070 000 до 6 850 000  \n",
    "\n",
    "Квартиры в центре дороже."
   ]
  },
  {
   "cell_type": "markdown",
   "metadata": {},
   "source": [
    "##### Сравнение числа комнат"
   ]
  },
  {
   "cell_type": "code",
   "execution_count": 62,
   "metadata": {},
   "outputs": [],
   "source": [
    "final_stat_rooms = pd.concat([peter_center_rooms , peter_rooms], axis=1)\n",
    "\n",
    "final_stat_rooms.columns=['По центру', 'По гроду']"
   ]
  },
  {
   "cell_type": "code",
   "execution_count": 63,
   "metadata": {
    "scrolled": true
   },
   "outputs": [
    {
     "data": {
      "text/html": [
       "<div>\n",
       "<style scoped>\n",
       "    .dataframe tbody tr th:only-of-type {\n",
       "        vertical-align: middle;\n",
       "    }\n",
       "\n",
       "    .dataframe tbody tr th {\n",
       "        vertical-align: top;\n",
       "    }\n",
       "\n",
       "    .dataframe thead th {\n",
       "        text-align: right;\n",
       "    }\n",
       "</style>\n",
       "<table border=\"1\" class=\"dataframe\">\n",
       "  <thead>\n",
       "    <tr style=\"text-align: right;\">\n",
       "      <th></th>\n",
       "      <th>По центру</th>\n",
       "      <th>По гроду</th>\n",
       "    </tr>\n",
       "  </thead>\n",
       "  <tbody>\n",
       "    <tr>\n",
       "      <td>count</td>\n",
       "      <td>1425</td>\n",
       "      <td>9789</td>\n",
       "    </tr>\n",
       "    <tr>\n",
       "      <td>mean</td>\n",
       "      <td>2</td>\n",
       "      <td>1</td>\n",
       "    </tr>\n",
       "    <tr>\n",
       "      <td>std</td>\n",
       "      <td>0</td>\n",
       "      <td>0</td>\n",
       "    </tr>\n",
       "    <tr>\n",
       "      <td>min</td>\n",
       "      <td>1</td>\n",
       "      <td>1</td>\n",
       "    </tr>\n",
       "    <tr>\n",
       "      <td>25%</td>\n",
       "      <td>2</td>\n",
       "      <td>1</td>\n",
       "    </tr>\n",
       "    <tr>\n",
       "      <td>50%</td>\n",
       "      <td>2</td>\n",
       "      <td>2</td>\n",
       "    </tr>\n",
       "    <tr>\n",
       "      <td>75%</td>\n",
       "      <td>3</td>\n",
       "      <td>3</td>\n",
       "    </tr>\n",
       "    <tr>\n",
       "      <td>max</td>\n",
       "      <td>4</td>\n",
       "      <td>4</td>\n",
       "    </tr>\n",
       "  </tbody>\n",
       "</table>\n",
       "</div>"
      ],
      "text/plain": [
       "       По центру  По гроду\n",
       "count       1425      9789\n",
       "mean           2         1\n",
       "std            0         0\n",
       "min            1         1\n",
       "25%            2         1\n",
       "50%            2         2\n",
       "75%            3         3\n",
       "max            4         4"
      ]
     },
     "metadata": {},
     "output_type": "display_data"
    },
    {
     "data": {
      "image/png": "[encoded data removed]",
      "text/plain": [
       "<Figure size 720x360 with 1 Axes>"
      ]
     },
     "metadata": {
      "needs_background": "light"
     },
     "output_type": "display_data"
    }
   ],
   "source": [
    "display(final_stat_rooms)\n",
    "\n",
    "ax = peter_center.plot(kind='hist',\n",
    "                       histtype='step',\n",
    "                       label='по центру',\n",
    "                       y='rooms',\n",
    "                       bins=100,\n",
    "                       figsize=(10,5)\n",
    "                      )\n",
    "\n",
    "peter.plot(\n",
    "    title='Распределение числа комнат',\n",
    "    kind='hist',\n",
    "    y='rooms',\n",
    "    label='по городу',\n",
    "    alpha=0.3,\n",
    "    bins=100,\n",
    "    grid=True,\n",
    "    figsize=(10,5),\n",
    "    ax=ax\n",
    ");"
   ]
  },
  {
   "cell_type": "markdown",
   "metadata": {},
   "source": [
    "**Вывод**  \n",
    "* в центре преобладают кваритры с 2 и 3 комнатами,\n",
    "* в городе преобладают квартиры с 1 и 2 комнатами"
   ]
  },
  {
   "cell_type": "markdown",
   "metadata": {},
   "source": [
    "##### Сравнение высот потолков"
   ]
  },
  {
   "cell_type": "code",
   "execution_count": 64,
   "metadata": {},
   "outputs": [],
   "source": [
    "final_stat_ceil = pd.concat([peter_center_ceil , peter_сeil], axis=1)\n",
    "\n",
    "final_stat_ceil.columns=['По центру', 'По гроду']"
   ]
  },
  {
   "cell_type": "code",
   "execution_count": 65,
   "metadata": {
    "scrolled": true
   },
   "outputs": [
    {
     "data": {
      "text/html": [
       "<div>\n",
       "<style scoped>\n",
       "    .dataframe tbody tr th:only-of-type {\n",
       "        vertical-align: middle;\n",
       "    }\n",
       "\n",
       "    .dataframe tbody tr th {\n",
       "        vertical-align: top;\n",
       "    }\n",
       "\n",
       "    .dataframe thead th {\n",
       "        text-align: right;\n",
       "    }\n",
       "</style>\n",
       "<table border=\"1\" class=\"dataframe\">\n",
       "  <thead>\n",
       "    <tr style=\"text-align: right;\">\n",
       "      <th></th>\n",
       "      <th>По центру</th>\n",
       "      <th>По гроду</th>\n",
       "    </tr>\n",
       "  </thead>\n",
       "  <tbody>\n",
       "    <tr>\n",
       "      <td>count</td>\n",
       "      <td>1425.00</td>\n",
       "      <td>9789.00</td>\n",
       "    </tr>\n",
       "    <tr>\n",
       "      <td>mean</td>\n",
       "      <td>2.79</td>\n",
       "      <td>2.69</td>\n",
       "    </tr>\n",
       "    <tr>\n",
       "      <td>std</td>\n",
       "      <td>0.18</td>\n",
       "      <td>0.14</td>\n",
       "    </tr>\n",
       "    <tr>\n",
       "      <td>min</td>\n",
       "      <td>2.50</td>\n",
       "      <td>2.50</td>\n",
       "    </tr>\n",
       "    <tr>\n",
       "      <td>25%</td>\n",
       "      <td>2.70</td>\n",
       "      <td>2.60</td>\n",
       "    </tr>\n",
       "    <tr>\n",
       "      <td>50%</td>\n",
       "      <td>2.70</td>\n",
       "      <td>2.70</td>\n",
       "    </tr>\n",
       "    <tr>\n",
       "      <td>75%</td>\n",
       "      <td>2.80</td>\n",
       "      <td>2.70</td>\n",
       "    </tr>\n",
       "    <tr>\n",
       "      <td>max</td>\n",
       "      <td>3.20</td>\n",
       "      <td>3.20</td>\n",
       "    </tr>\n",
       "  </tbody>\n",
       "</table>\n",
       "</div>"
      ],
      "text/plain": [
       "       По центру  По гроду\n",
       "count    1425.00   9789.00\n",
       "mean        2.79      2.69\n",
       "std         0.18      0.14\n",
       "min         2.50      2.50\n",
       "25%         2.70      2.60\n",
       "50%         2.70      2.70\n",
       "75%         2.80      2.70\n",
       "max         3.20      3.20"
      ]
     },
     "metadata": {},
     "output_type": "display_data"
    },
    {
     "data": {
      "image/png": "[encoded data removed]",
      "text/plain": [
       "<Figure size 720x360 with 1 Axes>"
      ]
     },
     "metadata": {
      "needs_background": "light"
     },
     "output_type": "display_data"
    }
   ],
   "source": [
    "display(final_stat_ceil)\n",
    "\n",
    "ax = peter_center.plot(kind='hist',\n",
    "                       histtype='step',\n",
    "                       label='по центру',\n",
    "                       y='ceiling_height',\n",
    "                       bins=100,\n",
    "                       figsize=(10,5)\n",
    "                      )\n",
    "\n",
    "peter.plot(\n",
    "    title='Распределение высот потолков',\n",
    "    kind='hist',\n",
    "    y='ceiling_height',\n",
    "    label='по городу',\n",
    "    alpha=0.3,\n",
    "    bins=100,\n",
    "    grid=True,\n",
    "    figsize=(10,5),\n",
    "    ax=ax\n",
    ");"
   ]
  },
  {
   "cell_type": "markdown",
   "metadata": {},
   "source": [
    "**Вывод**  \n",
    "В центре преобладают потолки высотой 2,7 м, а в городе от 2,5 до 2,8 м"
   ]
  },
  {
   "cell_type": "markdown",
   "metadata": {},
   "source": [
    "#### Корреляция по Санкт-Петербургу"
   ]
  },
  {
   "cell_type": "markdown",
   "metadata": {},
   "source": [
    "Изучим корреляцию, аналогично п 4.2.1"
   ]
  },
  {
   "cell_type": "code",
   "execution_count": 66,
   "metadata": {},
   "outputs": [],
   "source": [
    "# Корреляция по центру\n",
    "peter_center_corr = df.query('centers_nearest_km <=7')[list_corr].corr().round(2)"
   ]
  },
  {
   "cell_type": "markdown",
   "metadata": {},
   "source": [
    "Коореляция по всему городу"
   ]
  },
  {
   "cell_type": "code",
   "execution_count": 67,
   "metadata": {},
   "outputs": [],
   "source": [
    "# Корреляция по городу\n",
    "peter_city_corr = peter[list_corr].corr().round(2)"
   ]
  },
  {
   "cell_type": "markdown",
   "metadata": {},
   "source": [
    "Для наглядности выделим стобцы last_price в Series и объедиминим их."
   ]
  },
  {
   "cell_type": "code",
   "execution_count": 68,
   "metadata": {},
   "outputs": [],
   "source": [
    "final_corr = pd.concat( [peter_center_corr['last_price'], peter_city_corr['last_price']], axis=1 )\n",
    "final_corr.columns = ['Корреляция по центру', 'Корреляция по городу']"
   ]
  },
  {
   "cell_type": "code",
   "execution_count": 69,
   "metadata": {},
   "outputs": [
    {
     "data": {
      "image/png": "[encoded data removed]",
      "text/plain": [
       "<Figure size 216x360 with 2 Axes>"
      ]
     },
     "metadata": {
      "needs_background": "light"
     },
     "output_type": "display_data"
    }
   ],
   "source": [
    "# Plot\n",
    "plt.figure(figsize=(3,5))\n",
    "sns.heatmap(\n",
    "    final_corr,\n",
    "    yticklabels=final_corr.index,\n",
    "    #xticklabels=pirson.index,\n",
    "    cmap='RdYlGn', center=0,\n",
    "    annot=True)\n",
    "\n",
    "# Decorations\n",
    "plt.title('Корреляция по Санкт-Петербургу', fontsize=22)\n",
    "plt.xticks(fontsize=12)\n",
    "plt.yticks(fontsize=12)\n",
    "plt.show()\n"
   ]
  },
  {
   "cell_type": "markdown",
   "metadata": {},
   "source": [
    "Из таблицы коррелиции видна:\n",
    "* высокая взаимосвязь между ценой и площадью квартиры как в центре так и в городе.\n",
    "* умеренная корреляция между ценой и числом комнат,\n",
    "* умеренная корреляция между расположением квартиры и ценой по городу. В центре взаимосвязь низкая\n",
    "\n",
    "Низкая взимосвязь цен в центре города, объясняется их общим расположением в центре города."
   ]
  },
  {
   "cell_type": "markdown",
   "metadata": {},
   "source": [
    "#### Вывод\n",
    "* В центре города средние характеристики квартиры(площадь, цена, число комнат, высота потолков) выше чем во всем городе.\n",
    "* В рамках города корреляция цены от расстояния слабая. В самом центре отсутствует. Связано, скорее всего с принадлежностью квартир к центру города и отдалением городских квартир от центра.\n",
    "* По колличеству комнат умеренная корреляция по всему городу.\n",
    "* По этажам слабая корреляция.\n",
    "* Дата публикации объявления никак не вляет на цену"
   ]
  },
  {
   "cell_type": "markdown",
   "metadata": {},
   "source": [
    "## Общий вывод"
   ]
  },
  {
   "cell_type": "markdown",
   "metadata": {},
   "source": [
    "1. Была произведена работа по анализу, предобработке и категоризации данных.\n",
    "2. В процессе анализа были выявлены пропуски и ошибки в заполнении информации, полученной из объявлений. Было сделано предположение о их природе и проведена работа по устранению.\n",
    "3. Произведены дополнительные расчеты, необходимые для исследований.\n",
    "4. Были убраны редкие и выбивающиеся значения.\n",
    "5. Составлены таблицы, отвечающие запросам исследования. Дана краткая интерпритация полученных результатов."
   ]
  }
 ],
 "metadata": {
  "ExecuteTimeLog": [
   {
    "duration": 632,
    "start_time": "2022-01-12T16:21:57.612Z"
   },
   {
    "duration": 58,
    "start_time": "2022-01-12T16:23:04.078Z"
   },
   {
    "duration": 8,
    "start_time": "2022-01-12T16:23:58.741Z"
   },
   {
    "duration": 68,
    "start_time": "2022-01-12T16:24:13.755Z"
   },
   {
    "duration": 11,
    "start_time": "2022-01-12T16:24:15.274Z"
   },
   {
    "duration": 69,
    "start_time": "2022-01-12T16:24:39.185Z"
   },
   {
    "duration": 64,
    "start_time": "2022-01-12T16:25:15.999Z"
   },
   {
    "duration": 27,
    "start_time": "2022-01-12T16:28:35.692Z"
   },
   {
    "duration": 12,
    "start_time": "2022-01-12T16:29:31.001Z"
   },
   {
    "duration": 10,
    "start_time": "2022-01-12T16:32:43.151Z"
   },
   {
    "duration": 293,
    "start_time": "2022-01-12T17:27:34.316Z"
   },
   {
    "duration": 43,
    "start_time": "2022-01-12T17:27:41.484Z"
   },
   {
    "duration": 7,
    "start_time": "2022-01-12T17:28:20.138Z"
   },
   {
    "duration": 6,
    "start_time": "2022-01-12T17:29:41.323Z"
   },
   {
    "duration": 2,
    "start_time": "2022-01-12T18:06:56.726Z"
   },
   {
    "duration": 10,
    "start_time": "2022-01-12T18:09:12.676Z"
   },
   {
    "duration": 8,
    "start_time": "2022-01-12T18:24:51.921Z"
   },
   {
    "duration": 9,
    "start_time": "2022-01-12T18:25:02.408Z"
   },
   {
    "duration": 202,
    "start_time": "2022-01-13T15:40:53.979Z"
   },
   {
    "duration": 639,
    "start_time": "2022-01-13T15:40:59.265Z"
   },
   {
    "duration": 69,
    "start_time": "2022-01-13T15:40:59.906Z"
   },
   {
    "duration": 26,
    "start_time": "2022-01-13T15:40:59.977Z"
   },
   {
    "duration": 39,
    "start_time": "2022-01-13T15:41:00.006Z"
   },
   {
    "duration": 35,
    "start_time": "2022-01-13T15:41:00.046Z"
   },
   {
    "duration": 29,
    "start_time": "2022-01-13T15:41:00.082Z"
   },
   {
    "duration": 18,
    "start_time": "2022-01-13T15:41:00.112Z"
   },
   {
    "duration": 6,
    "start_time": "2022-01-13T15:47:42.076Z"
   },
   {
    "duration": 8,
    "start_time": "2022-01-13T15:49:28.916Z"
   },
   {
    "duration": 12,
    "start_time": "2022-01-13T15:52:42.849Z"
   },
   {
    "duration": 3,
    "start_time": "2022-01-13T15:53:02.777Z"
   },
   {
    "duration": 72,
    "start_time": "2022-01-13T15:53:02.782Z"
   },
   {
    "duration": 22,
    "start_time": "2022-01-13T15:53:02.857Z"
   },
   {
    "duration": 15,
    "start_time": "2022-01-13T15:53:02.882Z"
   },
   {
    "duration": 9,
    "start_time": "2022-01-13T15:53:02.898Z"
   },
   {
    "duration": 11,
    "start_time": "2022-01-13T15:53:02.909Z"
   },
   {
    "duration": 6,
    "start_time": "2022-01-13T15:53:02.922Z"
   },
   {
    "duration": 12,
    "start_time": "2022-01-13T15:53:02.930Z"
   },
   {
    "duration": 6,
    "start_time": "2022-01-13T15:56:28.179Z"
   },
   {
    "duration": 9,
    "start_time": "2022-01-13T16:07:04.302Z"
   },
   {
    "duration": 10,
    "start_time": "2022-01-13T16:15:33.673Z"
   },
   {
    "duration": 10,
    "start_time": "2022-01-13T16:15:46.533Z"
   },
   {
    "duration": 183,
    "start_time": "2022-01-13T16:17:02.978Z"
   },
   {
    "duration": 143,
    "start_time": "2022-01-13T16:17:11.786Z"
   },
   {
    "duration": 128,
    "start_time": "2022-01-13T16:17:22.772Z"
   },
   {
    "duration": 12,
    "start_time": "2022-01-13T16:17:44.120Z"
   },
   {
    "duration": 11,
    "start_time": "2022-01-13T16:21:05.317Z"
   },
   {
    "duration": 3,
    "start_time": "2022-01-13T16:21:11.630Z"
   },
   {
    "duration": 83,
    "start_time": "2022-01-13T16:21:11.636Z"
   },
   {
    "duration": 27,
    "start_time": "2022-01-13T16:21:11.720Z"
   },
   {
    "duration": 12,
    "start_time": "2022-01-13T16:21:11.749Z"
   },
   {
    "duration": 37,
    "start_time": "2022-01-13T16:21:11.763Z"
   },
   {
    "duration": 20,
    "start_time": "2022-01-13T16:21:11.802Z"
   },
   {
    "duration": 8,
    "start_time": "2022-01-13T16:21:11.825Z"
   },
   {
    "duration": 12,
    "start_time": "2022-01-13T16:21:11.838Z"
   },
   {
    "duration": 48,
    "start_time": "2022-01-13T16:21:11.852Z"
   },
   {
    "duration": 11,
    "start_time": "2022-01-13T16:21:11.902Z"
   },
   {
    "duration": 25,
    "start_time": "2022-01-13T16:27:59.246Z"
   },
   {
    "duration": 22,
    "start_time": "2022-01-13T16:29:24.440Z"
   },
   {
    "duration": 3,
    "start_time": "2022-01-13T16:33:57.354Z"
   },
   {
    "duration": 72,
    "start_time": "2022-01-13T16:33:57.359Z"
   },
   {
    "duration": 23,
    "start_time": "2022-01-13T16:33:57.433Z"
   },
   {
    "duration": 11,
    "start_time": "2022-01-13T16:33:57.458Z"
   },
   {
    "duration": 27,
    "start_time": "2022-01-13T16:33:57.470Z"
   },
   {
    "duration": 9,
    "start_time": "2022-01-13T16:33:57.499Z"
   },
   {
    "duration": 6,
    "start_time": "2022-01-13T16:33:57.510Z"
   },
   {
    "duration": 9,
    "start_time": "2022-01-13T16:33:57.518Z"
   },
   {
    "duration": 13,
    "start_time": "2022-01-13T16:33:57.528Z"
   },
   {
    "duration": 49,
    "start_time": "2022-01-13T16:33:57.543Z"
   },
   {
    "duration": 23,
    "start_time": "2022-01-13T16:33:57.594Z"
   },
   {
    "duration": 3,
    "start_time": "2022-01-13T16:43:46.150Z"
   },
   {
    "duration": 92,
    "start_time": "2022-01-13T16:43:46.155Z"
   },
   {
    "duration": 22,
    "start_time": "2022-01-13T16:43:46.249Z"
   },
   {
    "duration": 21,
    "start_time": "2022-01-13T16:43:46.273Z"
   },
   {
    "duration": 23,
    "start_time": "2022-01-13T16:43:46.296Z"
   },
   {
    "duration": 30,
    "start_time": "2022-01-13T16:43:46.321Z"
   },
   {
    "duration": 20,
    "start_time": "2022-01-13T16:43:46.353Z"
   },
   {
    "duration": 32,
    "start_time": "2022-01-13T16:43:46.375Z"
   },
   {
    "duration": 20,
    "start_time": "2022-01-13T16:43:46.409Z"
   },
   {
    "duration": 13,
    "start_time": "2022-01-13T16:43:46.430Z"
   },
   {
    "duration": 39,
    "start_time": "2022-01-13T16:43:46.444Z"
   },
   {
    "duration": 3,
    "start_time": "2022-01-13T16:50:30.333Z"
   },
   {
    "duration": 90,
    "start_time": "2022-01-13T16:50:30.338Z"
   },
   {
    "duration": 23,
    "start_time": "2022-01-13T16:50:30.429Z"
   },
   {
    "duration": 24,
    "start_time": "2022-01-13T16:50:30.453Z"
   },
   {
    "duration": 12,
    "start_time": "2022-01-13T16:50:30.479Z"
   },
   {
    "duration": 8,
    "start_time": "2022-01-13T16:50:30.493Z"
   },
   {
    "duration": 17,
    "start_time": "2022-01-13T16:50:30.502Z"
   },
   {
    "duration": 18,
    "start_time": "2022-01-13T16:50:30.521Z"
   },
   {
    "duration": 23,
    "start_time": "2022-01-13T16:50:30.541Z"
   },
   {
    "duration": 11,
    "start_time": "2022-01-13T16:50:30.566Z"
   },
   {
    "duration": 46,
    "start_time": "2022-01-13T16:50:30.579Z"
   },
   {
    "duration": 667,
    "start_time": "2022-01-13T17:00:27.794Z"
   },
   {
    "duration": 69,
    "start_time": "2022-01-13T17:00:28.463Z"
   },
   {
    "duration": 27,
    "start_time": "2022-01-13T17:00:28.534Z"
   },
   {
    "duration": 10,
    "start_time": "2022-01-13T17:00:28.563Z"
   },
   {
    "duration": 11,
    "start_time": "2022-01-13T17:00:28.591Z"
   },
   {
    "duration": 23,
    "start_time": "2022-01-13T17:00:28.604Z"
   },
   {
    "duration": 27,
    "start_time": "2022-01-13T17:00:28.629Z"
   },
   {
    "duration": 16,
    "start_time": "2022-01-13T17:00:28.659Z"
   },
   {
    "duration": 38,
    "start_time": "2022-01-13T17:00:28.677Z"
   },
   {
    "duration": 15,
    "start_time": "2022-01-13T17:00:28.717Z"
   },
   {
    "duration": 39,
    "start_time": "2022-01-13T17:00:28.733Z"
   },
   {
    "duration": 3,
    "start_time": "2022-01-13T17:03:50.813Z"
   },
   {
    "duration": 69,
    "start_time": "2022-01-13T17:03:50.818Z"
   },
   {
    "duration": 23,
    "start_time": "2022-01-13T17:03:50.890Z"
   },
   {
    "duration": 10,
    "start_time": "2022-01-13T17:03:50.914Z"
   },
   {
    "duration": 7,
    "start_time": "2022-01-13T17:03:50.926Z"
   },
   {
    "duration": 8,
    "start_time": "2022-01-13T17:03:50.935Z"
   },
   {
    "duration": 5,
    "start_time": "2022-01-13T17:03:50.945Z"
   },
   {
    "duration": 8,
    "start_time": "2022-01-13T17:03:50.992Z"
   },
   {
    "duration": 13,
    "start_time": "2022-01-13T17:03:51.002Z"
   },
   {
    "duration": 8,
    "start_time": "2022-01-13T17:03:51.016Z"
   },
   {
    "duration": 21,
    "start_time": "2022-01-13T17:03:51.025Z"
   },
   {
    "duration": 13,
    "start_time": "2022-01-13T17:03:55.820Z"
   },
   {
    "duration": 8,
    "start_time": "2022-01-13T17:04:01.035Z"
   },
   {
    "duration": 3,
    "start_time": "2022-01-13T17:04:11.879Z"
   },
   {
    "duration": 71,
    "start_time": "2022-01-13T17:04:11.884Z"
   },
   {
    "duration": 23,
    "start_time": "2022-01-13T17:04:11.957Z"
   },
   {
    "duration": 15,
    "start_time": "2022-01-13T17:04:11.982Z"
   },
   {
    "duration": 8,
    "start_time": "2022-01-13T17:04:11.999Z"
   },
   {
    "duration": 8,
    "start_time": "2022-01-13T17:04:12.009Z"
   },
   {
    "duration": 6,
    "start_time": "2022-01-13T17:04:12.020Z"
   },
   {
    "duration": 10,
    "start_time": "2022-01-13T17:04:12.028Z"
   },
   {
    "duration": 14,
    "start_time": "2022-01-13T17:04:12.040Z"
   },
   {
    "duration": 41,
    "start_time": "2022-01-13T17:04:12.056Z"
   },
   {
    "duration": 28,
    "start_time": "2022-01-13T17:04:12.099Z"
   },
   {
    "duration": 7,
    "start_time": "2022-01-13T17:04:22.082Z"
   },
   {
    "duration": 13,
    "start_time": "2022-01-13T17:04:25.554Z"
   },
   {
    "duration": 26,
    "start_time": "2022-01-13T17:04:28.986Z"
   },
   {
    "duration": 2,
    "start_time": "2022-01-13T17:04:31.710Z"
   },
   {
    "duration": 73,
    "start_time": "2022-01-13T17:04:31.714Z"
   },
   {
    "duration": 23,
    "start_time": "2022-01-13T17:04:31.789Z"
   },
   {
    "duration": 10,
    "start_time": "2022-01-13T17:04:31.815Z"
   },
   {
    "duration": 8,
    "start_time": "2022-01-13T17:04:31.827Z"
   },
   {
    "duration": 8,
    "start_time": "2022-01-13T17:04:31.836Z"
   },
   {
    "duration": 6,
    "start_time": "2022-01-13T17:04:31.847Z"
   },
   {
    "duration": 45,
    "start_time": "2022-01-13T17:04:31.855Z"
   },
   {
    "duration": 13,
    "start_time": "2022-01-13T17:04:31.902Z"
   },
   {
    "duration": 8,
    "start_time": "2022-01-13T17:04:31.917Z"
   },
   {
    "duration": 27,
    "start_time": "2022-01-13T17:04:31.927Z"
   },
   {
    "duration": 13,
    "start_time": "2022-01-13T17:06:53.441Z"
   },
   {
    "duration": 22,
    "start_time": "2022-01-13T17:09:43.104Z"
   },
   {
    "duration": 16,
    "start_time": "2022-01-13T17:10:11.902Z"
   },
   {
    "duration": 19,
    "start_time": "2022-01-13T17:11:16.797Z"
   },
   {
    "duration": 3,
    "start_time": "2022-01-13T17:11:55.794Z"
   },
   {
    "duration": 72,
    "start_time": "2022-01-13T17:11:55.799Z"
   },
   {
    "duration": 27,
    "start_time": "2022-01-13T17:11:55.873Z"
   },
   {
    "duration": 9,
    "start_time": "2022-01-13T17:11:55.902Z"
   },
   {
    "duration": 8,
    "start_time": "2022-01-13T17:11:55.913Z"
   },
   {
    "duration": 8,
    "start_time": "2022-01-13T17:11:55.923Z"
   },
   {
    "duration": 6,
    "start_time": "2022-01-13T17:11:55.933Z"
   },
   {
    "duration": 10,
    "start_time": "2022-01-13T17:11:55.940Z"
   },
   {
    "duration": 45,
    "start_time": "2022-01-13T17:11:55.951Z"
   },
   {
    "duration": 8,
    "start_time": "2022-01-13T17:11:55.998Z"
   },
   {
    "duration": 18,
    "start_time": "2022-01-13T17:11:56.007Z"
   },
   {
    "duration": 11,
    "start_time": "2022-01-13T17:11:56.027Z"
   },
   {
    "duration": 20,
    "start_time": "2022-01-13T17:12:26.758Z"
   },
   {
    "duration": 21,
    "start_time": "2022-01-13T17:15:11.110Z"
   },
   {
    "duration": 12,
    "start_time": "2022-01-13T17:15:20.861Z"
   },
   {
    "duration": 2,
    "start_time": "2022-01-13T17:15:23.118Z"
   },
   {
    "duration": 80,
    "start_time": "2022-01-13T17:15:23.124Z"
   },
   {
    "duration": 23,
    "start_time": "2022-01-13T17:15:23.205Z"
   },
   {
    "duration": 19,
    "start_time": "2022-01-13T17:15:23.230Z"
   },
   {
    "duration": 30,
    "start_time": "2022-01-13T17:15:23.251Z"
   },
   {
    "duration": 38,
    "start_time": "2022-01-13T17:15:23.282Z"
   },
   {
    "duration": 15,
    "start_time": "2022-01-13T17:15:23.322Z"
   },
   {
    "duration": 27,
    "start_time": "2022-01-13T17:15:23.338Z"
   },
   {
    "duration": 14,
    "start_time": "2022-01-13T17:15:23.367Z"
   },
   {
    "duration": 7,
    "start_time": "2022-01-13T17:15:23.383Z"
   },
   {
    "duration": 22,
    "start_time": "2022-01-13T17:15:23.392Z"
   },
   {
    "duration": 13,
    "start_time": "2022-01-13T17:15:23.416Z"
   },
   {
    "duration": 12,
    "start_time": "2022-01-13T17:15:52.077Z"
   },
   {
    "duration": 13,
    "start_time": "2022-01-13T17:22:53.195Z"
   },
   {
    "duration": 36,
    "start_time": "2022-01-13T17:26:12.696Z"
   },
   {
    "duration": 3,
    "start_time": "2022-01-13T17:26:15.634Z"
   },
   {
    "duration": 747,
    "start_time": "2022-01-13T17:26:15.639Z"
   },
   {
    "duration": 22,
    "start_time": "2022-01-13T17:26:16.388Z"
   },
   {
    "duration": 10,
    "start_time": "2022-01-13T17:26:16.412Z"
   },
   {
    "duration": 7,
    "start_time": "2022-01-13T17:26:16.424Z"
   },
   {
    "duration": 8,
    "start_time": "2022-01-13T17:26:16.432Z"
   },
   {
    "duration": 5,
    "start_time": "2022-01-13T17:26:16.442Z"
   },
   {
    "duration": 46,
    "start_time": "2022-01-13T17:26:16.449Z"
   },
   {
    "duration": 14,
    "start_time": "2022-01-13T17:26:16.497Z"
   },
   {
    "duration": 29,
    "start_time": "2022-01-13T17:26:16.513Z"
   },
   {
    "duration": 14,
    "start_time": "2022-01-13T17:26:16.543Z"
   },
   {
    "duration": 314,
    "start_time": "2022-01-13T17:26:16.558Z"
   },
   {
    "duration": 9,
    "start_time": "2022-01-13T17:27:17.470Z"
   },
   {
    "duration": 25,
    "start_time": "2022-01-13T17:28:01.923Z"
   },
   {
    "duration": 17,
    "start_time": "2022-01-13T17:28:36.480Z"
   },
   {
    "duration": 9,
    "start_time": "2022-01-13T17:33:57.368Z"
   },
   {
    "duration": 155,
    "start_time": "2022-01-13T17:35:42.511Z"
   },
   {
    "duration": 8,
    "start_time": "2022-01-13T17:36:04.494Z"
   },
   {
    "duration": 8,
    "start_time": "2022-01-13T17:57:34.445Z"
   },
   {
    "duration": 15,
    "start_time": "2022-01-13T17:58:35.752Z"
   },
   {
    "duration": 4,
    "start_time": "2022-01-13T18:06:01.491Z"
   },
   {
    "duration": 77,
    "start_time": "2022-01-13T18:06:01.497Z"
   },
   {
    "duration": 36,
    "start_time": "2022-01-13T18:06:01.576Z"
   },
   {
    "duration": 18,
    "start_time": "2022-01-13T18:06:01.614Z"
   },
   {
    "duration": 8,
    "start_time": "2022-01-13T18:06:01.633Z"
   },
   {
    "duration": 15,
    "start_time": "2022-01-13T18:06:01.643Z"
   },
   {
    "duration": 9,
    "start_time": "2022-01-13T18:06:01.660Z"
   },
   {
    "duration": 31,
    "start_time": "2022-01-13T18:06:01.672Z"
   },
   {
    "duration": 17,
    "start_time": "2022-01-13T18:06:01.705Z"
   },
   {
    "duration": 27,
    "start_time": "2022-01-13T18:06:01.723Z"
   },
   {
    "duration": 13,
    "start_time": "2022-01-13T18:06:01.751Z"
   },
   {
    "duration": 19,
    "start_time": "2022-01-13T18:06:01.791Z"
   },
   {
    "duration": 8,
    "start_time": "2022-01-13T18:06:01.812Z"
   },
   {
    "duration": 13,
    "start_time": "2022-01-13T18:06:01.822Z"
   },
   {
    "duration": 24,
    "start_time": "2022-01-13T18:06:01.837Z"
   },
   {
    "duration": 11,
    "start_time": "2022-01-13T18:09:15.196Z"
   },
   {
    "duration": 3,
    "start_time": "2022-01-13T18:11:17.657Z"
   },
   {
    "duration": 81,
    "start_time": "2022-01-13T18:11:17.662Z"
   },
   {
    "duration": 23,
    "start_time": "2022-01-13T18:11:17.745Z"
   },
   {
    "duration": 23,
    "start_time": "2022-01-13T18:11:17.770Z"
   },
   {
    "duration": 8,
    "start_time": "2022-01-13T18:11:17.795Z"
   },
   {
    "duration": 8,
    "start_time": "2022-01-13T18:11:17.804Z"
   },
   {
    "duration": 6,
    "start_time": "2022-01-13T18:11:17.815Z"
   },
   {
    "duration": 9,
    "start_time": "2022-01-13T18:11:17.822Z"
   },
   {
    "duration": 14,
    "start_time": "2022-01-13T18:11:17.832Z"
   },
   {
    "duration": 67,
    "start_time": "2022-01-13T18:11:17.848Z"
   },
   {
    "duration": 13,
    "start_time": "2022-01-13T18:11:17.916Z"
   },
   {
    "duration": 16,
    "start_time": "2022-01-13T18:11:17.931Z"
   },
   {
    "duration": 6,
    "start_time": "2022-01-13T18:11:17.949Z"
   },
   {
    "duration": 41,
    "start_time": "2022-01-13T18:11:17.956Z"
   },
   {
    "duration": 16,
    "start_time": "2022-01-13T18:11:17.999Z"
   },
   {
    "duration": 11,
    "start_time": "2022-01-13T18:11:18.017Z"
   },
   {
    "duration": 137,
    "start_time": "2022-01-13T18:15:31.231Z"
   },
   {
    "duration": 2,
    "start_time": "2022-01-13T18:15:42.378Z"
   },
   {
    "duration": 70,
    "start_time": "2022-01-13T18:15:42.382Z"
   },
   {
    "duration": 22,
    "start_time": "2022-01-13T18:15:42.454Z"
   },
   {
    "duration": 24,
    "start_time": "2022-01-13T18:15:42.478Z"
   },
   {
    "duration": 10,
    "start_time": "2022-01-13T18:15:42.503Z"
   },
   {
    "duration": 9,
    "start_time": "2022-01-13T18:15:42.514Z"
   },
   {
    "duration": 6,
    "start_time": "2022-01-13T18:15:42.525Z"
   },
   {
    "duration": 8,
    "start_time": "2022-01-13T18:15:42.533Z"
   },
   {
    "duration": 49,
    "start_time": "2022-01-13T18:15:42.543Z"
   },
   {
    "duration": 28,
    "start_time": "2022-01-13T18:15:42.594Z"
   },
   {
    "duration": 15,
    "start_time": "2022-01-13T18:15:42.624Z"
   },
   {
    "duration": 19,
    "start_time": "2022-01-13T18:15:42.641Z"
   },
   {
    "duration": 36,
    "start_time": "2022-01-13T18:15:42.662Z"
   },
   {
    "duration": 9,
    "start_time": "2022-01-13T18:15:42.701Z"
   },
   {
    "duration": 20,
    "start_time": "2022-01-13T18:15:42.712Z"
   },
   {
    "duration": 13,
    "start_time": "2022-01-13T18:15:42.735Z"
   },
   {
    "duration": 2,
    "start_time": "2022-01-13T18:16:57.914Z"
   },
   {
    "duration": 75,
    "start_time": "2022-01-13T18:16:57.918Z"
   },
   {
    "duration": 26,
    "start_time": "2022-01-13T18:16:57.994Z"
   },
   {
    "duration": 10,
    "start_time": "2022-01-13T18:16:58.022Z"
   },
   {
    "duration": 7,
    "start_time": "2022-01-13T18:16:58.034Z"
   },
   {
    "duration": 8,
    "start_time": "2022-01-13T18:16:58.042Z"
   },
   {
    "duration": 43,
    "start_time": "2022-01-13T18:16:58.052Z"
   },
   {
    "duration": 9,
    "start_time": "2022-01-13T18:16:58.097Z"
   },
   {
    "duration": 15,
    "start_time": "2022-01-13T18:16:58.108Z"
   },
   {
    "duration": 31,
    "start_time": "2022-01-13T18:16:58.124Z"
   },
   {
    "duration": 48,
    "start_time": "2022-01-13T18:16:58.157Z"
   },
   {
    "duration": 17,
    "start_time": "2022-01-13T18:16:58.206Z"
   },
   {
    "duration": 7,
    "start_time": "2022-01-13T18:16:58.225Z"
   },
   {
    "duration": 9,
    "start_time": "2022-01-13T18:16:58.234Z"
   },
   {
    "duration": 53,
    "start_time": "2022-01-13T18:16:58.245Z"
   },
   {
    "duration": 13,
    "start_time": "2022-01-13T18:16:58.300Z"
   },
   {
    "duration": 13,
    "start_time": "2022-01-13T18:17:19.153Z"
   },
   {
    "duration": 8,
    "start_time": "2022-01-13T18:20:20.733Z"
   },
   {
    "duration": 75,
    "start_time": "2022-01-13T18:20:20.743Z"
   },
   {
    "duration": 28,
    "start_time": "2022-01-13T18:20:20.820Z"
   },
   {
    "duration": 13,
    "start_time": "2022-01-13T18:20:20.850Z"
   },
   {
    "duration": 27,
    "start_time": "2022-01-13T18:20:20.865Z"
   },
   {
    "duration": 12,
    "start_time": "2022-01-13T18:20:20.894Z"
   },
   {
    "duration": 7,
    "start_time": "2022-01-13T18:20:20.908Z"
   },
   {
    "duration": 11,
    "start_time": "2022-01-13T18:20:20.918Z"
   },
   {
    "duration": 26,
    "start_time": "2022-01-13T18:20:20.931Z"
   },
   {
    "duration": 41,
    "start_time": "2022-01-13T18:20:20.991Z"
   },
   {
    "duration": 16,
    "start_time": "2022-01-13T18:20:21.034Z"
   },
   {
    "duration": 42,
    "start_time": "2022-01-13T18:20:21.052Z"
   },
   {
    "duration": 7,
    "start_time": "2022-01-13T18:20:21.096Z"
   },
   {
    "duration": 9,
    "start_time": "2022-01-13T18:20:21.105Z"
   },
   {
    "duration": 17,
    "start_time": "2022-01-13T18:20:21.115Z"
   },
   {
    "duration": 11,
    "start_time": "2022-01-13T18:20:21.134Z"
   },
   {
    "duration": 7,
    "start_time": "2022-01-13T18:26:22.699Z"
   },
   {
    "duration": 2,
    "start_time": "2022-01-13T18:38:39.840Z"
   },
   {
    "duration": 71,
    "start_time": "2022-01-13T18:38:39.845Z"
   },
   {
    "duration": 26,
    "start_time": "2022-01-13T18:38:39.919Z"
   },
   {
    "duration": 12,
    "start_time": "2022-01-13T18:38:39.947Z"
   },
   {
    "duration": 7,
    "start_time": "2022-01-13T18:38:39.961Z"
   },
   {
    "duration": 11,
    "start_time": "2022-01-13T18:38:39.992Z"
   },
   {
    "duration": 7,
    "start_time": "2022-01-13T18:38:40.007Z"
   },
   {
    "duration": 10,
    "start_time": "2022-01-13T18:38:40.017Z"
   },
   {
    "duration": 17,
    "start_time": "2022-01-13T18:38:40.030Z"
   },
   {
    "duration": 75,
    "start_time": "2022-01-13T18:38:40.049Z"
   },
   {
    "duration": 17,
    "start_time": "2022-01-13T18:38:40.126Z"
   },
   {
    "duration": 48,
    "start_time": "2022-01-13T18:38:40.145Z"
   },
   {
    "duration": 10,
    "start_time": "2022-01-13T18:38:40.195Z"
   },
   {
    "duration": 14,
    "start_time": "2022-01-13T18:38:40.208Z"
   },
   {
    "duration": 20,
    "start_time": "2022-01-13T18:38:40.224Z"
   },
   {
    "duration": 12,
    "start_time": "2022-01-13T18:38:40.246Z"
   },
   {
    "duration": 34,
    "start_time": "2022-01-13T18:38:40.260Z"
   },
   {
    "duration": 14,
    "start_time": "2022-01-13T18:39:10.958Z"
   },
   {
    "duration": 22,
    "start_time": "2022-01-13T18:39:36.444Z"
   },
   {
    "duration": 21,
    "start_time": "2022-01-13T18:40:35.563Z"
   },
   {
    "duration": 3,
    "start_time": "2022-01-13T19:03:58.461Z"
   },
   {
    "duration": 72,
    "start_time": "2022-01-13T19:03:58.466Z"
   },
   {
    "duration": 23,
    "start_time": "2022-01-13T19:03:58.541Z"
   },
   {
    "duration": 32,
    "start_time": "2022-01-13T19:03:58.566Z"
   },
   {
    "duration": 8,
    "start_time": "2022-01-13T19:03:58.600Z"
   },
   {
    "duration": 10,
    "start_time": "2022-01-13T19:03:58.610Z"
   },
   {
    "duration": 7,
    "start_time": "2022-01-13T19:03:58.623Z"
   },
   {
    "duration": 9,
    "start_time": "2022-01-13T19:03:58.632Z"
   },
   {
    "duration": 52,
    "start_time": "2022-01-13T19:03:58.642Z"
   },
   {
    "duration": 39,
    "start_time": "2022-01-13T19:03:58.696Z"
   },
   {
    "duration": 15,
    "start_time": "2022-01-13T19:03:58.737Z"
   },
   {
    "duration": 48,
    "start_time": "2022-01-13T19:03:58.754Z"
   },
   {
    "duration": 7,
    "start_time": "2022-01-13T19:03:58.804Z"
   },
   {
    "duration": 8,
    "start_time": "2022-01-13T19:03:58.813Z"
   },
   {
    "duration": 21,
    "start_time": "2022-01-13T19:03:58.823Z"
   },
   {
    "duration": 12,
    "start_time": "2022-01-13T19:03:58.846Z"
   },
   {
    "duration": 33,
    "start_time": "2022-01-13T19:03:58.860Z"
   },
   {
    "duration": 27,
    "start_time": "2022-01-13T19:03:58.895Z"
   },
   {
    "duration": 3,
    "start_time": "2022-01-13T19:05:03.256Z"
   },
   {
    "duration": 72,
    "start_time": "2022-01-13T19:05:03.261Z"
   },
   {
    "duration": 23,
    "start_time": "2022-01-13T19:05:03.336Z"
   },
   {
    "duration": 31,
    "start_time": "2022-01-13T19:05:03.361Z"
   },
   {
    "duration": 9,
    "start_time": "2022-01-13T19:05:03.394Z"
   },
   {
    "duration": 11,
    "start_time": "2022-01-13T19:05:03.405Z"
   },
   {
    "duration": 7,
    "start_time": "2022-01-13T19:05:03.417Z"
   },
   {
    "duration": 9,
    "start_time": "2022-01-13T19:05:03.427Z"
   },
   {
    "duration": 14,
    "start_time": "2022-01-13T19:05:03.438Z"
   },
   {
    "duration": 39,
    "start_time": "2022-01-13T19:05:03.492Z"
   },
   {
    "duration": 14,
    "start_time": "2022-01-13T19:05:03.534Z"
   },
   {
    "duration": 18,
    "start_time": "2022-01-13T19:05:03.550Z"
   },
   {
    "duration": 7,
    "start_time": "2022-01-13T19:05:03.592Z"
   },
   {
    "duration": 9,
    "start_time": "2022-01-13T19:05:03.601Z"
   },
   {
    "duration": 21,
    "start_time": "2022-01-13T19:05:03.612Z"
   },
   {
    "duration": 13,
    "start_time": "2022-01-13T19:05:03.634Z"
   },
   {
    "duration": 4,
    "start_time": "2022-01-13T19:05:03.649Z"
   },
   {
    "duration": 58,
    "start_time": "2022-01-13T19:05:03.655Z"
   },
   {
    "duration": 14,
    "start_time": "2022-01-13T19:21:27.332Z"
   },
   {
    "duration": 3,
    "start_time": "2022-01-13T19:22:57.937Z"
   },
   {
    "duration": 69,
    "start_time": "2022-01-13T19:22:58.615Z"
   },
   {
    "duration": 23,
    "start_time": "2022-01-13T19:22:58.686Z"
   },
   {
    "duration": 13,
    "start_time": "2022-01-13T19:22:58.711Z"
   },
   {
    "duration": 10,
    "start_time": "2022-01-13T19:22:58.726Z"
   },
   {
    "duration": 8,
    "start_time": "2022-01-13T19:22:58.738Z"
   },
   {
    "duration": 6,
    "start_time": "2022-01-13T19:22:58.747Z"
   },
   {
    "duration": 8,
    "start_time": "2022-01-13T19:22:58.790Z"
   },
   {
    "duration": 16,
    "start_time": "2022-01-13T19:22:58.800Z"
   },
   {
    "duration": 35,
    "start_time": "2022-01-13T19:22:58.819Z"
   },
   {
    "duration": 43,
    "start_time": "2022-01-13T19:22:58.855Z"
   },
   {
    "duration": 17,
    "start_time": "2022-01-13T19:22:58.899Z"
   },
   {
    "duration": 7,
    "start_time": "2022-01-13T19:22:58.918Z"
   },
   {
    "duration": 8,
    "start_time": "2022-01-13T19:22:58.926Z"
   },
   {
    "duration": 19,
    "start_time": "2022-01-13T19:22:58.935Z"
   },
   {
    "duration": 46,
    "start_time": "2022-01-13T19:22:58.956Z"
   },
   {
    "duration": 4,
    "start_time": "2022-01-13T19:22:59.004Z"
   },
   {
    "duration": 23,
    "start_time": "2022-01-13T19:22:59.009Z"
   },
   {
    "duration": 498,
    "start_time": "2022-01-13T19:34:22.687Z"
   },
   {
    "duration": 649,
    "start_time": "2022-01-14T16:22:23.066Z"
   },
   {
    "duration": 73,
    "start_time": "2022-01-14T16:22:23.718Z"
   },
   {
    "duration": 28,
    "start_time": "2022-01-14T16:22:23.793Z"
   },
   {
    "duration": 19,
    "start_time": "2022-01-14T16:22:23.823Z"
   },
   {
    "duration": 10,
    "start_time": "2022-01-14T16:22:23.844Z"
   },
   {
    "duration": 9,
    "start_time": "2022-01-14T16:22:23.855Z"
   },
   {
    "duration": 6,
    "start_time": "2022-01-14T16:22:23.866Z"
   },
   {
    "duration": 16,
    "start_time": "2022-01-14T16:22:23.875Z"
   },
   {
    "duration": 14,
    "start_time": "2022-01-14T16:22:23.893Z"
   },
   {
    "duration": 67,
    "start_time": "2022-01-14T16:22:23.909Z"
   },
   {
    "duration": 14,
    "start_time": "2022-01-14T16:22:23.977Z"
   },
   {
    "duration": 19,
    "start_time": "2022-01-14T16:22:23.992Z"
   },
   {
    "duration": 8,
    "start_time": "2022-01-14T16:22:24.041Z"
   },
   {
    "duration": 8,
    "start_time": "2022-01-14T16:22:24.051Z"
   },
   {
    "duration": 19,
    "start_time": "2022-01-14T16:22:24.061Z"
   },
   {
    "duration": 10,
    "start_time": "2022-01-14T16:22:24.082Z"
   },
   {
    "duration": 12,
    "start_time": "2022-01-14T16:22:24.094Z"
   },
   {
    "duration": 45,
    "start_time": "2022-01-14T16:22:24.108Z"
   },
   {
    "duration": 342,
    "start_time": "2022-01-14T16:22:24.155Z"
   },
   {
    "duration": 7,
    "start_time": "2022-01-14T16:22:24.499Z"
   },
   {
    "duration": 22,
    "start_time": "2022-01-14T16:23:05.249Z"
   },
   {
    "duration": 17,
    "start_time": "2022-01-14T16:24:03.597Z"
   },
   {
    "duration": 39,
    "start_time": "2022-01-14T16:25:41.432Z"
   },
   {
    "duration": 18,
    "start_time": "2022-01-14T16:25:41.472Z"
   },
   {
    "duration": 6,
    "start_time": "2022-01-14T16:25:41.492Z"
   },
   {
    "duration": 6,
    "start_time": "2022-01-14T16:25:41.500Z"
   },
   {
    "duration": 44,
    "start_time": "2022-01-14T16:25:41.507Z"
   },
   {
    "duration": 14,
    "start_time": "2022-01-14T16:25:41.553Z"
   },
   {
    "duration": 4,
    "start_time": "2022-01-14T16:25:41.568Z"
   },
   {
    "duration": 24,
    "start_time": "2022-01-14T16:25:41.574Z"
   },
   {
    "duration": 515,
    "start_time": "2022-01-14T16:25:41.599Z"
   },
   {
    "duration": 26,
    "start_time": "2022-01-14T16:25:42.116Z"
   },
   {
    "duration": 511,
    "start_time": "2022-01-14T16:27:03.667Z"
   },
   {
    "duration": 400,
    "start_time": "2022-01-14T16:27:27.793Z"
   },
   {
    "duration": 432,
    "start_time": "2022-01-14T16:32:39.753Z"
   },
   {
    "duration": 492,
    "start_time": "2022-01-14T16:32:54.015Z"
   },
   {
    "duration": 348,
    "start_time": "2022-01-14T16:32:58.976Z"
   },
   {
    "duration": 502,
    "start_time": "2022-01-14T16:40:46.284Z"
   },
   {
    "duration": 429,
    "start_time": "2022-01-14T16:42:14.125Z"
   },
   {
    "duration": 587,
    "start_time": "2022-01-14T16:44:41.090Z"
   },
   {
    "duration": 381,
    "start_time": "2022-01-14T16:45:40.719Z"
   },
   {
    "duration": 411,
    "start_time": "2022-01-14T16:46:04.685Z"
   },
   {
    "duration": 499,
    "start_time": "2022-01-14T16:46:50.474Z"
   },
   {
    "duration": 602,
    "start_time": "2022-01-14T16:47:08.240Z"
   },
   {
    "duration": 409,
    "start_time": "2022-01-14T16:48:06.173Z"
   },
   {
    "duration": 418,
    "start_time": "2022-01-14T16:48:24.100Z"
   },
   {
    "duration": 1663,
    "start_time": "2022-01-14T16:52:28.853Z"
   },
   {
    "duration": 62,
    "start_time": "2022-01-14T16:58:51.270Z"
   },
   {
    "duration": 585,
    "start_time": "2022-01-14T17:08:25.350Z"
   },
   {
    "duration": 535,
    "start_time": "2022-01-14T17:09:48.521Z"
   },
   {
    "duration": 549,
    "start_time": "2022-01-14T17:10:03.015Z"
   },
   {
    "duration": 800,
    "start_time": "2022-01-14T17:10:08.911Z"
   },
   {
    "duration": 5,
    "start_time": "2022-01-14T17:19:23.488Z"
   },
   {
    "duration": 5,
    "start_time": "2022-01-14T17:19:28.703Z"
   },
   {
    "duration": 1303,
    "start_time": "2022-01-14T17:22:00.919Z"
   },
   {
    "duration": 2,
    "start_time": "2022-01-14T17:22:12.275Z"
   },
   {
    "duration": 69,
    "start_time": "2022-01-14T17:22:12.279Z"
   },
   {
    "duration": 20,
    "start_time": "2022-01-14T17:22:12.351Z"
   },
   {
    "duration": 10,
    "start_time": "2022-01-14T17:22:12.373Z"
   },
   {
    "duration": 14,
    "start_time": "2022-01-14T17:22:12.384Z"
   },
   {
    "duration": 8,
    "start_time": "2022-01-14T17:22:12.399Z"
   },
   {
    "duration": 6,
    "start_time": "2022-01-14T17:22:12.408Z"
   },
   {
    "duration": 7,
    "start_time": "2022-01-14T17:22:12.441Z"
   },
   {
    "duration": 14,
    "start_time": "2022-01-14T17:22:12.451Z"
   },
   {
    "duration": 35,
    "start_time": "2022-01-14T17:22:12.467Z"
   },
   {
    "duration": 65,
    "start_time": "2022-01-14T17:22:12.504Z"
   },
   {
    "duration": 17,
    "start_time": "2022-01-14T17:22:12.571Z"
   },
   {
    "duration": 7,
    "start_time": "2022-01-14T17:22:12.590Z"
   },
   {
    "duration": 7,
    "start_time": "2022-01-14T17:22:12.599Z"
   },
   {
    "duration": 43,
    "start_time": "2022-01-14T17:22:12.607Z"
   },
   {
    "duration": 12,
    "start_time": "2022-01-14T17:22:12.651Z"
   },
   {
    "duration": 4,
    "start_time": "2022-01-14T17:22:12.664Z"
   },
   {
    "duration": 26,
    "start_time": "2022-01-14T17:22:12.669Z"
   },
   {
    "duration": 444,
    "start_time": "2022-01-14T17:22:12.697Z"
   },
   {
    "duration": 16,
    "start_time": "2022-01-14T17:22:13.143Z"
   },
   {
    "duration": 401,
    "start_time": "2022-01-14T17:22:13.160Z"
   },
   {
    "duration": 364,
    "start_time": "2022-01-14T17:22:13.563Z"
   },
   {
    "duration": 461,
    "start_time": "2022-01-14T17:22:13.929Z"
   },
   {
    "duration": 474,
    "start_time": "2022-01-14T17:22:14.391Z"
   },
   {
    "duration": 395,
    "start_time": "2022-01-14T17:22:14.867Z"
   },
   {
    "duration": 507,
    "start_time": "2022-01-14T17:22:15.264Z"
   },
   {
    "duration": 425,
    "start_time": "2022-01-14T17:22:15.774Z"
   },
   {
    "duration": 461,
    "start_time": "2022-01-14T17:22:16.200Z"
   },
   {
    "duration": 1686,
    "start_time": "2022-01-14T17:22:16.664Z"
   },
   {
    "duration": 720,
    "start_time": "2022-01-14T17:22:18.351Z"
   },
   {
    "duration": 6,
    "start_time": "2022-01-14T17:22:19.072Z"
   },
   {
    "duration": 1303,
    "start_time": "2022-01-14T17:22:19.079Z"
   },
   {
    "duration": 1242,
    "start_time": "2022-01-14T17:24:39.317Z"
   },
   {
    "duration": 1334,
    "start_time": "2022-01-14T17:24:54.125Z"
   },
   {
    "duration": 1766,
    "start_time": "2022-01-14T17:25:53.842Z"
   },
   {
    "duration": 1059,
    "start_time": "2022-01-14T17:29:18.321Z"
   },
   {
    "duration": 6,
    "start_time": "2022-01-14T17:30:07.995Z"
   },
   {
    "duration": 1148,
    "start_time": "2022-01-14T17:30:40.161Z"
   },
   {
    "duration": 1267,
    "start_time": "2022-01-14T17:31:20.128Z"
   },
   {
    "duration": 3,
    "start_time": "2022-01-14T17:31:45.637Z"
   },
   {
    "duration": 77,
    "start_time": "2022-01-14T17:31:45.643Z"
   },
   {
    "duration": 38,
    "start_time": "2022-01-14T17:31:45.722Z"
   },
   {
    "duration": 12,
    "start_time": "2022-01-14T17:31:45.762Z"
   },
   {
    "duration": 12,
    "start_time": "2022-01-14T17:31:45.775Z"
   },
   {
    "duration": 8,
    "start_time": "2022-01-14T17:31:45.788Z"
   },
   {
    "duration": 7,
    "start_time": "2022-01-14T17:31:45.798Z"
   },
   {
    "duration": 37,
    "start_time": "2022-01-14T17:31:45.807Z"
   },
   {
    "duration": 15,
    "start_time": "2022-01-14T17:31:45.846Z"
   },
   {
    "duration": 36,
    "start_time": "2022-01-14T17:31:45.863Z"
   },
   {
    "duration": 63,
    "start_time": "2022-01-14T17:31:45.901Z"
   },
   {
    "duration": 17,
    "start_time": "2022-01-14T17:31:45.965Z"
   },
   {
    "duration": 8,
    "start_time": "2022-01-14T17:31:45.984Z"
   },
   {
    "duration": 8,
    "start_time": "2022-01-14T17:31:45.994Z"
   },
   {
    "duration": 44,
    "start_time": "2022-01-14T17:31:46.003Z"
   },
   {
    "duration": 12,
    "start_time": "2022-01-14T17:31:46.048Z"
   },
   {
    "duration": 5,
    "start_time": "2022-01-14T17:31:46.062Z"
   },
   {
    "duration": 30,
    "start_time": "2022-01-14T17:31:46.069Z"
   },
   {
    "duration": 347,
    "start_time": "2022-01-14T17:31:46.102Z"
   },
   {
    "duration": 19,
    "start_time": "2022-01-14T17:31:46.451Z"
   },
   {
    "duration": 409,
    "start_time": "2022-01-14T17:31:46.472Z"
   },
   {
    "duration": 350,
    "start_time": "2022-01-14T17:31:46.883Z"
   },
   {
    "duration": 446,
    "start_time": "2022-01-14T17:31:47.235Z"
   },
   {
    "duration": 529,
    "start_time": "2022-01-14T17:31:47.683Z"
   },
   {
    "duration": 380,
    "start_time": "2022-01-14T17:31:48.214Z"
   },
   {
    "duration": 384,
    "start_time": "2022-01-14T17:31:48.596Z"
   },
   {
    "duration": 416,
    "start_time": "2022-01-14T17:31:48.982Z"
   },
   {
    "duration": 425,
    "start_time": "2022-01-14T17:31:49.400Z"
   },
   {
    "duration": 797,
    "start_time": "2022-01-14T17:31:49.826Z"
   },
   {
    "duration": 6,
    "start_time": "2022-01-14T17:31:50.624Z"
   },
   {
    "duration": 1175,
    "start_time": "2022-01-14T17:31:50.631Z"
   },
   {
    "duration": 2097,
    "start_time": "2022-01-14T17:31:51.808Z"
   },
   {
    "duration": 2649,
    "start_time": "2022-01-14T17:32:10.612Z"
   },
   {
    "duration": 1236,
    "start_time": "2022-01-14T17:32:32.162Z"
   },
   {
    "duration": 254,
    "start_time": "2022-01-14T17:34:25.022Z"
   },
   {
    "duration": 5,
    "start_time": "2022-01-14T17:34:33.372Z"
   },
   {
    "duration": 2,
    "start_time": "2022-01-14T17:35:20.157Z"
   },
   {
    "duration": 72,
    "start_time": "2022-01-14T17:35:20.161Z"
   },
   {
    "duration": 21,
    "start_time": "2022-01-14T17:35:20.236Z"
   },
   {
    "duration": 13,
    "start_time": "2022-01-14T17:35:20.259Z"
   },
   {
    "duration": 10,
    "start_time": "2022-01-14T17:35:20.274Z"
   },
   {
    "duration": 11,
    "start_time": "2022-01-14T17:35:20.285Z"
   },
   {
    "duration": 6,
    "start_time": "2022-01-14T17:35:20.298Z"
   },
   {
    "duration": 37,
    "start_time": "2022-01-14T17:35:20.307Z"
   },
   {
    "duration": 14,
    "start_time": "2022-01-14T17:35:20.346Z"
   },
   {
    "duration": 38,
    "start_time": "2022-01-14T17:35:20.362Z"
   },
   {
    "duration": 63,
    "start_time": "2022-01-14T17:35:20.402Z"
   },
   {
    "duration": 18,
    "start_time": "2022-01-14T17:35:20.467Z"
   },
   {
    "duration": 8,
    "start_time": "2022-01-14T17:35:20.487Z"
   },
   {
    "duration": 12,
    "start_time": "2022-01-14T17:35:20.496Z"
   },
   {
    "duration": 41,
    "start_time": "2022-01-14T17:35:20.510Z"
   },
   {
    "duration": 11,
    "start_time": "2022-01-14T17:35:20.553Z"
   },
   {
    "duration": 5,
    "start_time": "2022-01-14T17:35:20.566Z"
   },
   {
    "duration": 33,
    "start_time": "2022-01-14T17:35:20.572Z"
   },
   {
    "duration": 343,
    "start_time": "2022-01-14T17:35:20.607Z"
   },
   {
    "duration": 16,
    "start_time": "2022-01-14T17:35:20.952Z"
   },
   {
    "duration": 1383,
    "start_time": "2022-01-14T17:35:20.969Z"
   },
   {
    "duration": 5,
    "start_time": "2022-01-14T17:35:22.353Z"
   },
   {
    "duration": 361,
    "start_time": "2022-01-14T17:35:22.361Z"
   },
   {
    "duration": 464,
    "start_time": "2022-01-14T17:35:22.724Z"
   },
   {
    "duration": 440,
    "start_time": "2022-01-14T17:35:23.190Z"
   },
   {
    "duration": 400,
    "start_time": "2022-01-14T17:35:23.632Z"
   },
   {
    "duration": 401,
    "start_time": "2022-01-14T17:35:24.034Z"
   },
   {
    "duration": 540,
    "start_time": "2022-01-14T17:35:24.440Z"
   },
   {
    "duration": 426,
    "start_time": "2022-01-14T17:35:24.982Z"
   },
   {
    "duration": 769,
    "start_time": "2022-01-14T17:35:25.409Z"
   },
   {
    "duration": 5,
    "start_time": "2022-01-14T17:35:26.180Z"
   },
   {
    "duration": 1319,
    "start_time": "2022-01-14T17:35:26.187Z"
   },
   {
    "duration": 2486,
    "start_time": "2022-01-14T17:35:27.508Z"
   },
   {
    "duration": 501,
    "start_time": "2022-01-14T17:35:50.767Z"
   },
   {
    "duration": 1205,
    "start_time": "2022-01-14T17:36:50.237Z"
   },
   {
    "duration": 9,
    "start_time": "2022-01-14T17:36:51.444Z"
   },
   {
    "duration": 468,
    "start_time": "2022-01-14T17:36:51.455Z"
   },
   {
    "duration": 408,
    "start_time": "2022-01-14T17:36:51.925Z"
   },
   {
    "duration": 417,
    "start_time": "2022-01-14T17:36:52.341Z"
   },
   {
    "duration": 427,
    "start_time": "2022-01-14T17:36:52.760Z"
   },
   {
    "duration": 411,
    "start_time": "2022-01-14T17:36:53.189Z"
   },
   {
    "duration": 630,
    "start_time": "2022-01-14T17:36:53.602Z"
   },
   {
    "duration": 466,
    "start_time": "2022-01-14T17:36:54.234Z"
   },
   {
    "duration": 725,
    "start_time": "2022-01-14T17:36:54.702Z"
   },
   {
    "duration": 13,
    "start_time": "2022-01-14T17:36:55.428Z"
   },
   {
    "duration": 1279,
    "start_time": "2022-01-14T17:36:55.443Z"
   },
   {
    "duration": 2461,
    "start_time": "2022-01-14T17:36:56.724Z"
   },
   {
    "duration": 551,
    "start_time": "2022-01-14T17:38:15.377Z"
   },
   {
    "duration": 498,
    "start_time": "2022-01-14T17:38:40.278Z"
   },
   {
    "duration": 1321,
    "start_time": "2022-01-14T17:38:56.725Z"
   },
   {
    "duration": 1264,
    "start_time": "2022-01-14T17:39:06.972Z"
   },
   {
    "duration": 2,
    "start_time": "2022-01-14T17:39:34.293Z"
   },
   {
    "duration": 73,
    "start_time": "2022-01-14T17:39:34.298Z"
   },
   {
    "duration": 25,
    "start_time": "2022-01-14T17:39:34.373Z"
   },
   {
    "duration": 42,
    "start_time": "2022-01-14T17:39:34.400Z"
   },
   {
    "duration": 11,
    "start_time": "2022-01-14T17:39:34.444Z"
   },
   {
    "duration": 10,
    "start_time": "2022-01-14T17:39:34.457Z"
   },
   {
    "duration": 8,
    "start_time": "2022-01-14T17:39:34.470Z"
   },
   {
    "duration": 11,
    "start_time": "2022-01-14T17:39:34.480Z"
   },
   {
    "duration": 50,
    "start_time": "2022-01-14T17:39:34.493Z"
   },
   {
    "duration": 36,
    "start_time": "2022-01-14T17:39:34.545Z"
   },
   {
    "duration": 59,
    "start_time": "2022-01-14T17:39:34.583Z"
   },
   {
    "duration": 20,
    "start_time": "2022-01-14T17:39:34.645Z"
   },
   {
    "duration": 7,
    "start_time": "2022-01-14T17:39:34.667Z"
   },
   {
    "duration": 7,
    "start_time": "2022-01-14T17:39:34.676Z"
   },
   {
    "duration": 16,
    "start_time": "2022-01-14T17:39:34.685Z"
   },
   {
    "duration": 44,
    "start_time": "2022-01-14T17:39:34.703Z"
   },
   {
    "duration": 5,
    "start_time": "2022-01-14T17:39:34.749Z"
   },
   {
    "duration": 26,
    "start_time": "2022-01-14T17:39:34.756Z"
   },
   {
    "duration": 610,
    "start_time": "2022-01-14T17:39:34.785Z"
   },
   {
    "duration": 17,
    "start_time": "2022-01-14T17:39:35.397Z"
   },
   {
    "duration": 1310,
    "start_time": "2022-01-14T17:39:35.416Z"
   },
   {
    "duration": 19,
    "start_time": "2022-01-14T17:39:36.728Z"
   },
   {
    "duration": 586,
    "start_time": "2022-01-14T17:39:36.749Z"
   },
   {
    "duration": 1378,
    "start_time": "2022-01-14T17:39:37.340Z"
   },
   {
    "duration": 1321,
    "start_time": "2022-01-14T17:39:38.720Z"
   },
   {
    "duration": 404,
    "start_time": "2022-01-14T17:39:40.043Z"
   },
   {
    "duration": 414,
    "start_time": "2022-01-14T17:39:40.449Z"
   },
   {
    "duration": 443,
    "start_time": "2022-01-14T17:39:40.865Z"
   },
   {
    "duration": 542,
    "start_time": "2022-01-14T17:39:41.310Z"
   },
   {
    "duration": 863,
    "start_time": "2022-01-14T17:39:41.854Z"
   },
   {
    "duration": 5,
    "start_time": "2022-01-14T17:39:42.718Z"
   },
   {
    "duration": 1301,
    "start_time": "2022-01-14T17:39:42.725Z"
   },
   {
    "duration": 2559,
    "start_time": "2022-01-14T17:39:44.028Z"
   },
   {
    "duration": 3,
    "start_time": "2022-01-14T17:42:22.261Z"
   },
   {
    "duration": 106,
    "start_time": "2022-01-14T17:42:22.266Z"
   },
   {
    "duration": 21,
    "start_time": "2022-01-14T17:42:22.374Z"
   },
   {
    "duration": 52,
    "start_time": "2022-01-14T17:42:22.397Z"
   },
   {
    "duration": 31,
    "start_time": "2022-01-14T17:42:22.450Z"
   },
   {
    "duration": 24,
    "start_time": "2022-01-14T17:42:22.483Z"
   },
   {
    "duration": 37,
    "start_time": "2022-01-14T17:42:22.509Z"
   },
   {
    "duration": 19,
    "start_time": "2022-01-14T17:42:22.548Z"
   },
   {
    "duration": 14,
    "start_time": "2022-01-14T17:42:22.569Z"
   },
   {
    "duration": 34,
    "start_time": "2022-01-14T17:42:22.585Z"
   },
   {
    "duration": 55,
    "start_time": "2022-01-14T17:42:22.621Z"
   },
   {
    "duration": 18,
    "start_time": "2022-01-14T17:42:22.678Z"
   },
   {
    "duration": 19,
    "start_time": "2022-01-14T17:42:22.698Z"
   },
   {
    "duration": 22,
    "start_time": "2022-01-14T17:42:22.719Z"
   },
   {
    "duration": 18,
    "start_time": "2022-01-14T17:42:22.743Z"
   },
   {
    "duration": 13,
    "start_time": "2022-01-14T17:42:22.762Z"
   },
   {
    "duration": 4,
    "start_time": "2022-01-14T17:42:22.777Z"
   },
   {
    "duration": 25,
    "start_time": "2022-01-14T17:42:22.782Z"
   },
   {
    "duration": 366,
    "start_time": "2022-01-14T17:42:22.811Z"
   },
   {
    "duration": 17,
    "start_time": "2022-01-14T17:42:23.179Z"
   },
   {
    "duration": 1324,
    "start_time": "2022-01-14T17:42:23.198Z"
   },
   {
    "duration": 17,
    "start_time": "2022-01-14T17:42:24.524Z"
   },
   {
    "duration": 509,
    "start_time": "2022-01-14T17:42:24.543Z"
   },
   {
    "duration": 1342,
    "start_time": "2022-01-14T17:42:25.054Z"
   },
   {
    "duration": 1381,
    "start_time": "2022-01-14T17:42:26.397Z"
   },
   {
    "duration": 409,
    "start_time": "2022-01-14T17:42:27.781Z"
   },
   {
    "duration": 423,
    "start_time": "2022-01-14T17:42:28.192Z"
   },
   {
    "duration": 430,
    "start_time": "2022-01-14T17:42:28.617Z"
   },
   {
    "duration": 438,
    "start_time": "2022-01-14T17:42:29.048Z"
   },
   {
    "duration": 854,
    "start_time": "2022-01-14T17:42:29.487Z"
   },
   {
    "duration": 5,
    "start_time": "2022-01-14T17:42:30.343Z"
   },
   {
    "duration": 1235,
    "start_time": "2022-01-14T17:42:30.349Z"
   },
   {
    "duration": 2733,
    "start_time": "2022-01-14T17:42:31.586Z"
   },
   {
    "duration": 6445,
    "start_time": "2022-01-14T17:42:46.121Z"
   },
   {
    "duration": 3047,
    "start_time": "2022-01-14T17:43:04.679Z"
   },
   {
    "duration": 732,
    "start_time": "2022-01-14T17:49:42.680Z"
   },
   {
    "duration": 596,
    "start_time": "2022-01-14T17:49:46.935Z"
   },
   {
    "duration": 1327,
    "start_time": "2022-01-14T17:49:51.471Z"
   },
   {
    "duration": 459,
    "start_time": "2022-01-14T17:50:06.999Z"
   },
   {
    "duration": 658,
    "start_time": "2022-01-14T17:50:54.068Z"
   },
   {
    "duration": 208,
    "start_time": "2022-01-14T18:01:00.900Z"
   },
   {
    "duration": 18,
    "start_time": "2022-01-14T18:01:23.739Z"
   },
   {
    "duration": 13,
    "start_time": "2022-01-14T18:01:30.003Z"
   },
   {
    "duration": 3,
    "start_time": "2022-01-14T18:01:34.132Z"
   },
   {
    "duration": 84,
    "start_time": "2022-01-14T18:01:34.137Z"
   },
   {
    "duration": 118,
    "start_time": "2022-01-14T18:01:34.224Z"
   },
   {
    "duration": 23,
    "start_time": "2022-01-14T18:01:34.345Z"
   },
   {
    "duration": 23,
    "start_time": "2022-01-14T18:01:34.370Z"
   },
   {
    "duration": 10,
    "start_time": "2022-01-14T18:01:34.394Z"
   },
   {
    "duration": 26,
    "start_time": "2022-01-14T18:01:34.406Z"
   },
   {
    "duration": 21,
    "start_time": "2022-01-14T18:01:34.434Z"
   },
   {
    "duration": 35,
    "start_time": "2022-01-14T18:01:34.457Z"
   },
   {
    "duration": 46,
    "start_time": "2022-01-14T18:01:34.494Z"
   },
   {
    "duration": 38,
    "start_time": "2022-01-14T18:01:34.542Z"
   },
   {
    "duration": 16,
    "start_time": "2022-01-14T18:01:34.582Z"
   },
   {
    "duration": 6,
    "start_time": "2022-01-14T18:01:34.600Z"
   },
   {
    "duration": 7,
    "start_time": "2022-01-14T18:01:34.608Z"
   },
   {
    "duration": 42,
    "start_time": "2022-01-14T18:01:34.616Z"
   },
   {
    "duration": 12,
    "start_time": "2022-01-14T18:01:34.660Z"
   },
   {
    "duration": 4,
    "start_time": "2022-01-14T18:01:34.673Z"
   },
   {
    "duration": 25,
    "start_time": "2022-01-14T18:01:34.678Z"
   },
   {
    "duration": 353,
    "start_time": "2022-01-14T18:01:34.706Z"
   },
   {
    "duration": 16,
    "start_time": "2022-01-14T18:01:35.060Z"
   },
   {
    "duration": 1200,
    "start_time": "2022-01-14T18:01:35.077Z"
   },
   {
    "duration": 9,
    "start_time": "2022-01-14T18:01:36.279Z"
   },
   {
    "duration": 506,
    "start_time": "2022-01-14T18:01:36.289Z"
   },
   {
    "duration": 1639,
    "start_time": "2022-01-14T18:01:36.796Z"
   },
   {
    "duration": 1589,
    "start_time": "2022-01-14T18:01:38.440Z"
   },
   {
    "duration": 395,
    "start_time": "2022-01-14T18:01:40.031Z"
   },
   {
    "duration": 420,
    "start_time": "2022-01-14T18:01:40.428Z"
   },
   {
    "duration": 414,
    "start_time": "2022-01-14T18:01:40.849Z"
   },
   {
    "duration": 417,
    "start_time": "2022-01-14T18:01:41.264Z"
   },
   {
    "duration": 805,
    "start_time": "2022-01-14T18:01:41.683Z"
   },
   {
    "duration": 5,
    "start_time": "2022-01-14T18:01:42.489Z"
   },
   {
    "duration": 624,
    "start_time": "2022-01-14T18:01:42.496Z"
   },
   {
    "duration": 19,
    "start_time": "2022-01-14T18:01:43.122Z"
   },
   {
    "duration": 12,
    "start_time": "2022-01-14T18:06:27.446Z"
   },
   {
    "duration": 196,
    "start_time": "2022-01-14T18:08:10.625Z"
   },
   {
    "duration": 7039,
    "start_time": "2022-01-14T18:15:49.674Z"
   },
   {
    "duration": 13,
    "start_time": "2022-01-14T18:17:32.721Z"
   },
   {
    "duration": 348,
    "start_time": "2022-01-14T18:18:07.544Z"
   },
   {
    "duration": 231,
    "start_time": "2022-01-14T18:19:37.320Z"
   },
   {
    "duration": 3,
    "start_time": "2022-01-14T18:19:40.893Z"
   },
   {
    "duration": 74,
    "start_time": "2022-01-14T18:19:40.900Z"
   },
   {
    "duration": 123,
    "start_time": "2022-01-14T18:19:40.976Z"
   },
   {
    "duration": 14,
    "start_time": "2022-01-14T18:19:41.101Z"
   },
   {
    "duration": 11,
    "start_time": "2022-01-14T18:19:41.117Z"
   },
   {
    "duration": 8,
    "start_time": "2022-01-14T18:19:41.141Z"
   },
   {
    "duration": 6,
    "start_time": "2022-01-14T18:19:41.151Z"
   },
   {
    "duration": 10,
    "start_time": "2022-01-14T18:19:41.159Z"
   },
   {
    "duration": 15,
    "start_time": "2022-01-14T18:19:41.171Z"
   },
   {
    "duration": 66,
    "start_time": "2022-01-14T18:19:41.189Z"
   },
   {
    "duration": 40,
    "start_time": "2022-01-14T18:19:41.258Z"
   },
   {
    "duration": 16,
    "start_time": "2022-01-14T18:19:41.300Z"
   },
   {
    "duration": 8,
    "start_time": "2022-01-14T18:19:41.342Z"
   },
   {
    "duration": 10,
    "start_time": "2022-01-14T18:19:41.352Z"
   },
   {
    "duration": 20,
    "start_time": "2022-01-14T18:19:41.363Z"
   },
   {
    "duration": 11,
    "start_time": "2022-01-14T18:19:41.385Z"
   },
   {
    "duration": 4,
    "start_time": "2022-01-14T18:19:41.398Z"
   },
   {
    "duration": 50,
    "start_time": "2022-01-14T18:19:41.403Z"
   },
   {
    "duration": 338,
    "start_time": "2022-01-14T18:19:41.455Z"
   },
   {
    "duration": 18,
    "start_time": "2022-01-14T18:19:41.794Z"
   },
   {
    "duration": 1181,
    "start_time": "2022-01-14T18:19:41.813Z"
   },
   {
    "duration": 9,
    "start_time": "2022-01-14T18:19:42.996Z"
   },
   {
    "duration": 507,
    "start_time": "2022-01-14T18:19:43.007Z"
   },
   {
    "duration": 1352,
    "start_time": "2022-01-14T18:19:43.516Z"
   },
   {
    "duration": 1354,
    "start_time": "2022-01-14T18:19:44.870Z"
   },
   {
    "duration": 396,
    "start_time": "2022-01-14T18:19:46.226Z"
   },
   {
    "duration": 417,
    "start_time": "2022-01-14T18:19:46.624Z"
   },
   {
    "duration": 439,
    "start_time": "2022-01-14T18:19:47.044Z"
   },
   {
    "duration": 438,
    "start_time": "2022-01-14T18:19:47.484Z"
   },
   {
    "duration": 881,
    "start_time": "2022-01-14T18:19:47.924Z"
   },
   {
    "duration": 5,
    "start_time": "2022-01-14T18:19:48.807Z"
   },
   {
    "duration": 676,
    "start_time": "2022-01-14T18:19:48.814Z"
   },
   {
    "duration": 12,
    "start_time": "2022-01-14T18:19:49.492Z"
   },
   {
    "duration": 205,
    "start_time": "2022-01-14T18:19:49.506Z"
   },
   {
    "duration": 236,
    "start_time": "2022-01-14T18:20:06.782Z"
   },
   {
    "duration": 224,
    "start_time": "2022-01-14T18:20:16.661Z"
   },
   {
    "duration": 208,
    "start_time": "2022-01-14T18:20:24.644Z"
   },
   {
    "duration": 204,
    "start_time": "2022-01-14T18:23:01.706Z"
   },
   {
    "duration": 218,
    "start_time": "2022-01-14T18:23:07.618Z"
   },
   {
    "duration": 215,
    "start_time": "2022-01-14T18:25:50.399Z"
   },
   {
    "duration": 124,
    "start_time": "2022-01-14T18:32:35.065Z"
   },
   {
    "duration": 15,
    "start_time": "2022-01-14T18:32:35.191Z"
   },
   {
    "duration": 1324,
    "start_time": "2022-01-14T18:32:35.208Z"
   },
   {
    "duration": 9,
    "start_time": "2022-01-14T18:32:36.541Z"
   },
   {
    "duration": 489,
    "start_time": "2022-01-14T18:32:36.552Z"
   },
   {
    "duration": 1638,
    "start_time": "2022-01-14T18:32:37.042Z"
   },
   {
    "duration": 1224,
    "start_time": "2022-01-14T18:32:38.682Z"
   },
   {
    "duration": 559,
    "start_time": "2022-01-14T18:32:39.908Z"
   },
   {
    "duration": 405,
    "start_time": "2022-01-14T18:32:40.469Z"
   },
   {
    "duration": 426,
    "start_time": "2022-01-14T18:32:40.876Z"
   },
   {
    "duration": 442,
    "start_time": "2022-01-14T18:32:41.304Z"
   },
   {
    "duration": 723,
    "start_time": "2022-01-14T18:32:41.749Z"
   },
   {
    "duration": 7,
    "start_time": "2022-01-14T18:32:42.474Z"
   },
   {
    "duration": 800,
    "start_time": "2022-01-14T18:32:42.482Z"
   },
   {
    "duration": 11,
    "start_time": "2022-01-14T18:32:43.284Z"
   },
   {
    "duration": 392,
    "start_time": "2022-01-14T18:32:43.297Z"
   },
   {
    "duration": 201,
    "start_time": "2022-01-14T18:33:15.652Z"
   },
   {
    "duration": 15,
    "start_time": "2022-01-14T18:33:27.011Z"
   },
   {
    "duration": 318,
    "start_time": "2022-01-14T18:43:03.273Z"
   },
   {
    "duration": 356,
    "start_time": "2022-01-14T18:43:11.232Z"
   },
   {
    "duration": 16,
    "start_time": "2022-01-14T18:44:00.821Z"
   },
   {
    "duration": 642,
    "start_time": "2022-01-14T18:45:27.766Z"
   },
   {
    "duration": 337,
    "start_time": "2022-01-14T18:46:25.450Z"
   },
   {
    "duration": 878,
    "start_time": "2022-01-14T19:06:45.862Z"
   },
   {
    "duration": 768,
    "start_time": "2022-01-14T19:13:36.695Z"
   },
   {
    "duration": 1424,
    "start_time": "2022-01-14T19:15:03.267Z"
   },
   {
    "duration": 2271,
    "start_time": "2022-01-14T19:20:01.447Z"
   },
   {
    "duration": 2249,
    "start_time": "2022-01-14T19:28:59.841Z"
   },
   {
    "duration": 2625,
    "start_time": "2022-01-14T19:34:44.500Z"
   },
   {
    "duration": 6,
    "start_time": "2022-01-14T19:36:47.922Z"
   },
   {
    "duration": 8,
    "start_time": "2022-01-14T19:37:04.642Z"
   },
   {
    "duration": 14,
    "start_time": "2022-01-14T19:37:20.079Z"
   },
   {
    "duration": 7,
    "start_time": "2022-01-14T19:37:45.646Z"
   },
   {
    "duration": 13,
    "start_time": "2022-01-14T19:37:57.796Z"
   },
   {
    "duration": 9,
    "start_time": "2022-01-14T19:38:16.652Z"
   },
   {
    "duration": 6,
    "start_time": "2022-01-14T19:38:29.074Z"
   },
   {
    "duration": 4,
    "start_time": "2022-01-14T19:38:47.529Z"
   },
   {
    "duration": 7,
    "start_time": "2022-01-14T19:39:10.254Z"
   },
   {
    "duration": 3,
    "start_time": "2022-01-14T19:39:14.700Z"
   },
   {
    "duration": 67,
    "start_time": "2022-01-14T19:39:14.704Z"
   },
   {
    "duration": 20,
    "start_time": "2022-01-14T19:39:14.773Z"
   },
   {
    "duration": 11,
    "start_time": "2022-01-14T19:39:14.795Z"
   },
   {
    "duration": 34,
    "start_time": "2022-01-14T19:39:14.807Z"
   },
   {
    "duration": 8,
    "start_time": "2022-01-14T19:39:14.843Z"
   },
   {
    "duration": 9,
    "start_time": "2022-01-14T19:39:14.853Z"
   },
   {
    "duration": 26,
    "start_time": "2022-01-14T19:39:14.863Z"
   },
   {
    "duration": 12,
    "start_time": "2022-01-14T19:39:14.891Z"
   },
   {
    "duration": 41,
    "start_time": "2022-01-14T19:39:14.905Z"
   },
   {
    "duration": 36,
    "start_time": "2022-01-14T19:39:14.948Z"
   },
   {
    "duration": 16,
    "start_time": "2022-01-14T19:39:14.985Z"
   },
   {
    "duration": 7,
    "start_time": "2022-01-14T19:39:15.003Z"
   },
   {
    "duration": 33,
    "start_time": "2022-01-14T19:39:15.011Z"
   },
   {
    "duration": 24,
    "start_time": "2022-01-14T19:39:15.045Z"
   },
   {
    "duration": 12,
    "start_time": "2022-01-14T19:39:15.071Z"
   },
   {
    "duration": 4,
    "start_time": "2022-01-14T19:39:15.085Z"
   },
   {
    "duration": 21,
    "start_time": "2022-01-14T19:39:15.090Z"
   },
   {
    "duration": 446,
    "start_time": "2022-01-14T19:39:15.114Z"
   },
   {
    "duration": 16,
    "start_time": "2022-01-14T19:39:15.562Z"
   },
   {
    "duration": 1177,
    "start_time": "2022-01-14T19:39:15.579Z"
   },
   {
    "duration": 10,
    "start_time": "2022-01-14T19:39:16.757Z"
   },
   {
    "duration": 590,
    "start_time": "2022-01-14T19:39:16.769Z"
   },
   {
    "duration": 1508,
    "start_time": "2022-01-14T19:39:17.361Z"
   },
   {
    "duration": 1343,
    "start_time": "2022-01-14T19:39:18.870Z"
   },
   {
    "duration": 380,
    "start_time": "2022-01-14T19:39:20.215Z"
   },
   {
    "duration": 376,
    "start_time": "2022-01-14T19:39:20.597Z"
   },
   {
    "duration": 409,
    "start_time": "2022-01-14T19:39:20.975Z"
   },
   {
    "duration": 414,
    "start_time": "2022-01-14T19:39:21.386Z"
   },
   {
    "duration": 829,
    "start_time": "2022-01-14T19:39:21.802Z"
   },
   {
    "duration": 5,
    "start_time": "2022-01-14T19:39:22.640Z"
   },
   {
    "duration": 711,
    "start_time": "2022-01-14T19:39:22.647Z"
   },
   {
    "duration": 7,
    "start_time": "2022-01-14T19:39:23.360Z"
   },
   {
    "duration": 2923,
    "start_time": "2022-01-14T19:39:23.368Z"
   },
   {
    "duration": 4756,
    "start_time": "2022-01-14T19:41:33.182Z"
   },
   {
    "duration": 2644,
    "start_time": "2022-01-14T19:41:48.077Z"
   },
   {
    "duration": 2713,
    "start_time": "2022-01-14T19:42:01.628Z"
   },
   {
    "duration": 3017,
    "start_time": "2022-01-14T19:42:50.354Z"
   },
   {
    "duration": 2524,
    "start_time": "2022-01-14T19:43:46.271Z"
   },
   {
    "duration": 2912,
    "start_time": "2022-01-14T19:44:29.538Z"
   },
   {
    "duration": 2657,
    "start_time": "2022-01-14T19:45:51.413Z"
   },
   {
    "duration": 2570,
    "start_time": "2022-01-14T19:46:18.651Z"
   },
   {
    "duration": 2812,
    "start_time": "2022-01-14T19:57:13.180Z"
   },
   {
    "duration": 2726,
    "start_time": "2022-01-14T19:58:01.386Z"
   },
   {
    "duration": 3730,
    "start_time": "2022-01-14T19:58:20.337Z"
   },
   {
    "duration": 2625,
    "start_time": "2022-01-14T19:59:20.181Z"
   },
   {
    "duration": 2650,
    "start_time": "2022-01-14T19:59:45.571Z"
   },
   {
    "duration": 2528,
    "start_time": "2022-01-14T19:59:51.467Z"
   },
   {
    "duration": 2720,
    "start_time": "2022-01-14T20:00:08.658Z"
   },
   {
    "duration": 7,
    "start_time": "2022-01-14T20:01:45.857Z"
   },
   {
    "duration": 303,
    "start_time": "2022-01-14T20:01:45.866Z"
   },
   {
    "duration": 317,
    "start_time": "2022-01-14T20:01:46.171Z"
   },
   {
    "duration": 353,
    "start_time": "2022-01-14T20:01:46.490Z"
   },
   {
    "duration": 353,
    "start_time": "2022-01-14T20:01:46.844Z"
   },
   {
    "duration": 592,
    "start_time": "2022-01-14T20:01:47.198Z"
   },
   {
    "duration": 498,
    "start_time": "2022-01-14T20:01:47.792Z"
   },
   {
    "duration": 367,
    "start_time": "2022-01-14T20:01:48.292Z"
   },
   {
    "duration": 314,
    "start_time": "2022-01-14T20:02:40.113Z"
   },
   {
    "duration": 446,
    "start_time": "2022-01-14T20:02:55.240Z"
   },
   {
    "duration": 447,
    "start_time": "2022-01-14T20:03:26.903Z"
   },
   {
    "duration": 349,
    "start_time": "2022-01-14T20:03:46.862Z"
   },
   {
    "duration": 342,
    "start_time": "2022-01-14T20:03:50.805Z"
   },
   {
    "duration": 293,
    "start_time": "2022-01-14T20:04:16.307Z"
   },
   {
    "duration": 344,
    "start_time": "2022-01-14T20:04:24.763Z"
   },
   {
    "duration": 415,
    "start_time": "2022-01-14T20:04:31.259Z"
   },
   {
    "duration": 313,
    "start_time": "2022-01-14T20:04:56.459Z"
   },
   {
    "duration": 334,
    "start_time": "2022-01-14T20:05:01.185Z"
   },
   {
    "duration": 347,
    "start_time": "2022-01-14T20:05:29.168Z"
   },
   {
    "duration": 435,
    "start_time": "2022-01-14T20:05:44.823Z"
   },
   {
    "duration": 436,
    "start_time": "2022-01-14T20:06:06.445Z"
   },
   {
    "duration": 14,
    "start_time": "2022-01-14T20:09:34.212Z"
   },
   {
    "duration": 90,
    "start_time": "2022-01-14T20:10:58.575Z"
   },
   {
    "duration": 14,
    "start_time": "2022-01-14T20:11:03.798Z"
   },
   {
    "duration": 14,
    "start_time": "2022-01-14T20:13:53.458Z"
   },
   {
    "duration": 195,
    "start_time": "2022-01-14T20:14:09.591Z"
   },
   {
    "duration": 12,
    "start_time": "2022-01-14T20:14:24.623Z"
   },
   {
    "duration": 12,
    "start_time": "2022-01-14T20:15:24.716Z"
   },
   {
    "duration": 10,
    "start_time": "2022-01-14T20:18:06.845Z"
   },
   {
    "duration": 11,
    "start_time": "2022-01-14T20:18:14.723Z"
   },
   {
    "duration": 11,
    "start_time": "2022-01-14T20:25:29.261Z"
   },
   {
    "duration": 18,
    "start_time": "2022-01-14T20:33:29.854Z"
   },
   {
    "duration": 69,
    "start_time": "2022-01-14T20:33:59.293Z"
   },
   {
    "duration": 63,
    "start_time": "2022-01-14T20:34:15.861Z"
   },
   {
    "duration": 17,
    "start_time": "2022-01-14T20:34:20.068Z"
   },
   {
    "duration": 15,
    "start_time": "2022-01-14T20:37:19.341Z"
   },
   {
    "duration": 15,
    "start_time": "2022-01-14T20:37:38.836Z"
   },
   {
    "duration": 63,
    "start_time": "2022-01-14T20:37:46.434Z"
   },
   {
    "duration": 18,
    "start_time": "2022-01-14T20:37:51.002Z"
   },
   {
    "duration": 18,
    "start_time": "2022-01-14T20:40:34.031Z"
   },
   {
    "duration": 18,
    "start_time": "2022-01-14T20:40:59.133Z"
   },
   {
    "duration": 201,
    "start_time": "2022-01-14T20:43:37.778Z"
   },
   {
    "duration": 18,
    "start_time": "2022-01-14T20:43:44.305Z"
   },
   {
    "duration": 214,
    "start_time": "2022-01-14T20:44:14.703Z"
   },
   {
    "duration": 258,
    "start_time": "2022-01-14T20:44:25.870Z"
   },
   {
    "duration": 18,
    "start_time": "2022-01-14T20:44:38.077Z"
   },
   {
    "duration": 18,
    "start_time": "2022-01-14T20:44:43.205Z"
   },
   {
    "duration": 27,
    "start_time": "2022-01-14T20:45:07.836Z"
   },
   {
    "duration": 25,
    "start_time": "2022-01-14T20:45:20.898Z"
   },
   {
    "duration": 26,
    "start_time": "2022-01-14T20:45:35.410Z"
   },
   {
    "duration": 16,
    "start_time": "2022-01-14T21:07:47.043Z"
   },
   {
    "duration": 9,
    "start_time": "2022-01-14T21:13:51.693Z"
   },
   {
    "duration": 18,
    "start_time": "2022-01-14T21:14:09.804Z"
   },
   {
    "duration": 5,
    "start_time": "2022-01-14T21:14:24.931Z"
   },
   {
    "duration": 18,
    "start_time": "2022-01-14T21:14:27.419Z"
   },
   {
    "duration": 172,
    "start_time": "2022-01-14T21:19:24.972Z"
   },
   {
    "duration": 470,
    "start_time": "2022-01-14T21:20:01.520Z"
   },
   {
    "duration": 164,
    "start_time": "2022-01-14T22:06:49.895Z"
   },
   {
    "duration": 68,
    "start_time": "2022-01-15T05:21:17.909Z"
   },
   {
    "duration": 245,
    "start_time": "2022-01-15T06:03:25.433Z"
   },
   {
    "duration": 644,
    "start_time": "2022-01-15T06:03:33.321Z"
   },
   {
    "duration": 65,
    "start_time": "2022-01-15T06:03:33.967Z"
   },
   {
    "duration": 23,
    "start_time": "2022-01-15T06:03:34.034Z"
   },
   {
    "duration": 8,
    "start_time": "2022-01-15T06:03:34.059Z"
   },
   {
    "duration": 8,
    "start_time": "2022-01-15T06:03:34.069Z"
   },
   {
    "duration": 8,
    "start_time": "2022-01-15T06:03:34.078Z"
   },
   {
    "duration": 5,
    "start_time": "2022-01-15T06:03:34.087Z"
   },
   {
    "duration": 7,
    "start_time": "2022-01-15T06:03:34.094Z"
   },
   {
    "duration": 45,
    "start_time": "2022-01-15T06:03:34.103Z"
   },
   {
    "duration": 33,
    "start_time": "2022-01-15T06:03:34.150Z"
   },
   {
    "duration": 35,
    "start_time": "2022-01-15T06:03:34.184Z"
   },
   {
    "duration": 32,
    "start_time": "2022-01-15T06:03:34.220Z"
   },
   {
    "duration": 9,
    "start_time": "2022-01-15T06:03:34.254Z"
   },
   {
    "duration": 7,
    "start_time": "2022-01-15T06:03:34.264Z"
   },
   {
    "duration": 17,
    "start_time": "2022-01-15T06:03:34.273Z"
   },
   {
    "duration": 9,
    "start_time": "2022-01-15T06:03:34.292Z"
   },
   {
    "duration": 4,
    "start_time": "2022-01-15T06:03:34.303Z"
   },
   {
    "duration": 45,
    "start_time": "2022-01-15T06:03:34.308Z"
   },
   {
    "duration": 331,
    "start_time": "2022-01-15T06:03:34.354Z"
   },
   {
    "duration": 16,
    "start_time": "2022-01-15T06:03:34.687Z"
   },
   {
    "duration": 1296,
    "start_time": "2022-01-15T06:03:34.704Z"
   },
   {
    "duration": 10,
    "start_time": "2022-01-15T06:03:36.002Z"
   },
   {
    "duration": 493,
    "start_time": "2022-01-15T06:03:36.015Z"
   },
   {
    "duration": 1355,
    "start_time": "2022-01-15T06:03:36.509Z"
   },
   {
    "duration": 1348,
    "start_time": "2022-01-15T06:03:37.865Z"
   },
   {
    "duration": 369,
    "start_time": "2022-01-15T06:03:39.214Z"
   },
   {
    "duration": 398,
    "start_time": "2022-01-15T06:03:39.585Z"
   },
   {
    "duration": 426,
    "start_time": "2022-01-15T06:03:39.984Z"
   },
   {
    "duration": 433,
    "start_time": "2022-01-15T06:03:40.412Z"
   },
   {
    "duration": 821,
    "start_time": "2022-01-15T06:03:40.847Z"
   },
   {
    "duration": 5,
    "start_time": "2022-01-15T06:03:41.669Z"
   },
   {
    "duration": 646,
    "start_time": "2022-01-15T06:03:41.675Z"
   },
   {
    "duration": 23,
    "start_time": "2022-01-15T06:03:42.322Z"
   },
   {
    "duration": 305,
    "start_time": "2022-01-15T06:03:42.347Z"
   },
   {
    "duration": 326,
    "start_time": "2022-01-15T06:03:42.653Z"
   },
   {
    "duration": 339,
    "start_time": "2022-01-15T06:03:42.980Z"
   },
   {
    "duration": 384,
    "start_time": "2022-01-15T06:03:43.320Z"
   },
   {
    "duration": 355,
    "start_time": "2022-01-15T06:03:43.705Z"
   },
   {
    "duration": 542,
    "start_time": "2022-01-15T06:03:44.062Z"
   },
   {
    "duration": 345,
    "start_time": "2022-01-15T06:03:44.605Z"
   },
   {
    "duration": 12,
    "start_time": "2022-01-15T06:03:44.951Z"
   },
   {
    "duration": 17,
    "start_time": "2022-01-15T06:03:44.964Z"
   },
   {
    "duration": 26,
    "start_time": "2022-01-15T06:03:44.982Z"
   },
   {
    "duration": 4,
    "start_time": "2022-01-15T06:03:45.010Z"
   },
   {
    "duration": 177,
    "start_time": "2022-01-15T06:03:45.042Z"
   },
   {
    "duration": 5575,
    "start_time": "2022-01-15T06:03:45.220Z"
   },
   {
    "duration": 4782,
    "start_time": "2022-01-15T06:03:59.679Z"
   },
   {
    "duration": 4480,
    "start_time": "2022-01-15T06:04:45.650Z"
   },
   {
    "duration": 4471,
    "start_time": "2022-01-15T06:05:36.375Z"
   },
   {
    "duration": 4621,
    "start_time": "2022-01-15T06:05:46.614Z"
   },
   {
    "duration": 59,
    "start_time": "2022-01-15T06:44:08.221Z"
   },
   {
    "duration": 6,
    "start_time": "2022-01-15T06:44:34.019Z"
   },
   {
    "duration": 156,
    "start_time": "2022-01-15T06:47:08.576Z"
   },
   {
    "duration": 155,
    "start_time": "2022-01-15T06:47:12.624Z"
   },
   {
    "duration": 228,
    "start_time": "2022-01-15T06:47:27.356Z"
   },
   {
    "duration": 184,
    "start_time": "2022-01-15T06:47:34.656Z"
   },
   {
    "duration": 178,
    "start_time": "2022-01-15T06:47:42.930Z"
   },
   {
    "duration": 209,
    "start_time": "2022-01-15T06:47:53.437Z"
   },
   {
    "duration": 214,
    "start_time": "2022-01-15T06:48:03.145Z"
   },
   {
    "duration": 201,
    "start_time": "2022-01-15T06:48:10.599Z"
   },
   {
    "duration": 200,
    "start_time": "2022-01-15T06:48:19.024Z"
   },
   {
    "duration": 287,
    "start_time": "2022-01-15T06:48:22.173Z"
   },
   {
    "duration": 170,
    "start_time": "2022-01-15T06:52:16.587Z"
   },
   {
    "duration": 168,
    "start_time": "2022-01-15T06:53:44.801Z"
   },
   {
    "duration": 170,
    "start_time": "2022-01-15T06:53:53.279Z"
   },
   {
    "duration": 555,
    "start_time": "2022-01-15T06:54:50.721Z"
   },
   {
    "duration": 295,
    "start_time": "2022-01-15T06:56:09.666Z"
   },
   {
    "duration": 220,
    "start_time": "2022-01-15T06:56:19.162Z"
   },
   {
    "duration": 177,
    "start_time": "2022-01-15T06:57:31.674Z"
   },
   {
    "duration": 153,
    "start_time": "2022-01-15T06:57:43.833Z"
   },
   {
    "duration": 223,
    "start_time": "2022-01-15T06:58:59.530Z"
   },
   {
    "duration": 232,
    "start_time": "2022-01-15T07:02:03.595Z"
   },
   {
    "duration": 223,
    "start_time": "2022-01-15T07:02:07.519Z"
   },
   {
    "duration": 242,
    "start_time": "2022-01-15T07:05:05.317Z"
   },
   {
    "duration": 11,
    "start_time": "2022-01-15T07:05:17.649Z"
   },
   {
    "duration": 9,
    "start_time": "2022-01-15T07:05:24.955Z"
   },
   {
    "duration": 1730,
    "start_time": "2022-01-15T07:06:38.532Z"
   },
   {
    "duration": 2219,
    "start_time": "2022-01-15T07:07:13.893Z"
   },
   {
    "duration": 2276,
    "start_time": "2022-01-15T07:08:10.177Z"
   },
   {
    "duration": 2175,
    "start_time": "2022-01-15T07:08:31.596Z"
   },
   {
    "duration": 1965,
    "start_time": "2022-01-15T07:09:43.314Z"
   },
   {
    "duration": 2610,
    "start_time": "2022-01-15T07:16:04.375Z"
   },
   {
    "duration": 213,
    "start_time": "2022-01-15T07:24:39.838Z"
   },
   {
    "duration": 7,
    "start_time": "2022-01-15T07:25:43.366Z"
   },
   {
    "duration": 2792,
    "start_time": "2022-01-15T07:26:16.555Z"
   },
   {
    "duration": 211,
    "start_time": "2022-01-15T07:26:56.503Z"
   },
   {
    "duration": 9,
    "start_time": "2022-01-15T07:27:07.477Z"
   },
   {
    "duration": 5387,
    "start_time": "2022-01-15T07:27:15.448Z"
   },
   {
    "duration": 11609,
    "start_time": "2022-01-15T07:28:31.893Z"
   },
   {
    "duration": 8920,
    "start_time": "2022-01-15T07:28:46.240Z"
   },
   {
    "duration": 210,
    "start_time": "2022-01-15T07:32:30.687Z"
   },
   {
    "duration": 205,
    "start_time": "2022-01-15T07:32:40.224Z"
   },
   {
    "duration": 209,
    "start_time": "2022-01-15T07:34:15.928Z"
   },
   {
    "duration": 213,
    "start_time": "2022-01-15T07:34:36.913Z"
   },
   {
    "duration": 211,
    "start_time": "2022-01-15T07:35:49.655Z"
   },
   {
    "duration": 201,
    "start_time": "2022-01-15T07:35:59.363Z"
   },
   {
    "duration": 227,
    "start_time": "2022-01-15T07:36:25.850Z"
   },
   {
    "duration": 14,
    "start_time": "2022-01-15T07:37:15.991Z"
   },
   {
    "duration": 11,
    "start_time": "2022-01-15T07:42:06.090Z"
   },
   {
    "duration": 11,
    "start_time": "2022-01-15T07:43:22.968Z"
   },
   {
    "duration": 4125,
    "start_time": "2022-01-15T07:43:33.369Z"
   },
   {
    "duration": 4505,
    "start_time": "2022-01-15T07:44:13.838Z"
   },
   {
    "duration": 4637,
    "start_time": "2022-01-15T07:45:01.279Z"
   },
   {
    "duration": 5382,
    "start_time": "2022-01-15T07:45:40.936Z"
   },
   {
    "duration": 4286,
    "start_time": "2022-01-15T07:46:41.806Z"
   },
   {
    "duration": 4273,
    "start_time": "2022-01-15T07:47:12.254Z"
   },
   {
    "duration": 861,
    "start_time": "2022-01-17T14:04:34.197Z"
   },
   {
    "duration": 90,
    "start_time": "2022-01-17T14:04:35.060Z"
   },
   {
    "duration": 41,
    "start_time": "2022-01-17T14:04:35.153Z"
   },
   {
    "duration": 15,
    "start_time": "2022-01-17T14:04:35.197Z"
   },
   {
    "duration": 12,
    "start_time": "2022-01-17T14:04:35.214Z"
   },
   {
    "duration": 11,
    "start_time": "2022-01-17T14:04:35.262Z"
   },
   {
    "duration": 12,
    "start_time": "2022-01-17T14:04:35.278Z"
   },
   {
    "duration": 14,
    "start_time": "2022-01-17T14:04:35.293Z"
   },
   {
    "duration": 65,
    "start_time": "2022-01-17T14:04:35.309Z"
   },
   {
    "duration": 54,
    "start_time": "2022-01-17T14:04:35.376Z"
   },
   {
    "duration": 81,
    "start_time": "2022-01-17T14:04:35.432Z"
   },
   {
    "duration": 49,
    "start_time": "2022-01-17T14:04:35.516Z"
   },
   {
    "duration": 17,
    "start_time": "2022-01-17T14:04:35.568Z"
   },
   {
    "duration": 11,
    "start_time": "2022-01-17T14:04:35.588Z"
   },
   {
    "duration": 78,
    "start_time": "2022-01-17T14:04:35.602Z"
   },
   {
    "duration": 17,
    "start_time": "2022-01-17T14:04:35.682Z"
   },
   {
    "duration": 65,
    "start_time": "2022-01-17T14:04:35.701Z"
   },
   {
    "duration": 105,
    "start_time": "2022-01-17T14:04:35.775Z"
   },
   {
    "duration": 1252,
    "start_time": "2022-01-17T14:04:35.885Z"
   },
   {
    "duration": 38,
    "start_time": "2022-01-17T14:04:37.139Z"
   },
   {
    "duration": 2390,
    "start_time": "2022-01-17T14:04:37.179Z"
   },
   {
    "duration": 15,
    "start_time": "2022-01-17T14:04:39.572Z"
   },
   {
    "duration": 910,
    "start_time": "2022-01-17T14:04:39.589Z"
   },
   {
    "duration": 2540,
    "start_time": "2022-01-17T14:04:40.501Z"
   },
   {
    "duration": 2403,
    "start_time": "2022-01-17T14:04:43.045Z"
   },
   {
    "duration": 700,
    "start_time": "2022-01-17T14:04:45.451Z"
   },
   {
    "duration": 743,
    "start_time": "2022-01-17T14:04:46.154Z"
   },
   {
    "duration": 868,
    "start_time": "2022-01-17T14:04:46.900Z"
   },
   {
    "duration": 1247,
    "start_time": "2022-01-17T14:04:47.771Z"
   },
   {
    "duration": 2469,
    "start_time": "2022-01-17T14:04:49.021Z"
   },
   {
    "duration": 7,
    "start_time": "2022-01-17T14:04:51.493Z"
   },
   {
    "duration": 1203,
    "start_time": "2022-01-17T14:04:51.502Z"
   },
   {
    "duration": 10,
    "start_time": "2022-01-17T14:04:52.708Z"
   },
   {
    "duration": 558,
    "start_time": "2022-01-17T14:04:52.720Z"
   },
   {
    "duration": 567,
    "start_time": "2022-01-17T14:04:53.281Z"
   },
   {
    "duration": 602,
    "start_time": "2022-01-17T14:04:53.851Z"
   },
   {
    "duration": 551,
    "start_time": "2022-01-17T14:04:54.463Z"
   },
   {
    "duration": 721,
    "start_time": "2022-01-17T14:04:55.017Z"
   },
   {
    "duration": 1007,
    "start_time": "2022-01-17T14:04:55.740Z"
   },
   {
    "duration": 1045,
    "start_time": "2022-01-17T14:04:56.750Z"
   },
   {
    "duration": 16,
    "start_time": "2022-01-17T14:04:57.798Z"
   },
   {
    "duration": 59,
    "start_time": "2022-01-17T14:04:57.816Z"
   },
   {
    "duration": 42,
    "start_time": "2022-01-17T14:04:57.877Z"
   },
   {
    "duration": 5,
    "start_time": "2022-01-17T14:04:57.921Z"
   },
   {
    "duration": 363,
    "start_time": "2022-01-17T14:04:57.929Z"
   },
   {
    "duration": 9,
    "start_time": "2022-01-17T14:04:58.294Z"
   },
   {
    "duration": 563,
    "start_time": "2022-01-17T14:04:58.305Z"
   },
   {
    "duration": 483,
    "start_time": "2022-01-17T14:04:58.871Z"
   },
   {
    "duration": 599,
    "start_time": "2022-01-17T14:04:59.364Z"
   },
   {
    "duration": 444,
    "start_time": "2022-01-17T14:04:59.965Z"
   },
   {
    "duration": 15,
    "start_time": "2022-01-17T14:05:00.411Z"
   },
   {
    "duration": 7758,
    "start_time": "2022-01-17T14:05:00.428Z"
   },
   {
    "duration": 9490,
    "start_time": "2022-01-17T14:05:08.188Z"
   },
   {
    "duration": 879,
    "start_time": "2022-01-17T14:18:18.682Z"
   },
   {
    "duration": 92,
    "start_time": "2022-01-17T14:18:19.564Z"
   },
   {
    "duration": 40,
    "start_time": "2022-01-17T14:18:19.659Z"
   },
   {
    "duration": 21,
    "start_time": "2022-01-17T14:18:19.702Z"
   },
   {
    "duration": 13,
    "start_time": "2022-01-17T14:18:19.725Z"
   },
   {
    "duration": 32,
    "start_time": "2022-01-17T14:18:19.740Z"
   },
   {
    "duration": 11,
    "start_time": "2022-01-17T14:18:19.774Z"
   },
   {
    "duration": 17,
    "start_time": "2022-01-17T14:18:19.788Z"
   },
   {
    "duration": 55,
    "start_time": "2022-01-17T14:18:19.808Z"
   },
   {
    "duration": 31,
    "start_time": "2022-01-17T14:18:19.865Z"
   },
   {
    "duration": 73,
    "start_time": "2022-01-17T14:18:19.898Z"
   },
   {
    "duration": 58,
    "start_time": "2022-01-17T14:18:19.974Z"
   },
   {
    "duration": 49,
    "start_time": "2022-01-17T14:18:20.035Z"
   },
   {
    "duration": 11,
    "start_time": "2022-01-17T14:18:20.086Z"
   },
   {
    "duration": 11,
    "start_time": "2022-01-17T14:18:20.100Z"
   },
   {
    "duration": 61,
    "start_time": "2022-01-17T14:18:20.113Z"
   },
   {
    "duration": 16,
    "start_time": "2022-01-17T14:18:20.176Z"
   },
   {
    "duration": 6,
    "start_time": "2022-01-17T14:18:20.194Z"
   },
   {
    "duration": 87,
    "start_time": "2022-01-17T14:18:20.203Z"
   },
   {
    "duration": 1010,
    "start_time": "2022-01-17T14:18:20.292Z"
   },
   {
    "duration": 32,
    "start_time": "2022-01-17T14:18:21.304Z"
   },
   {
    "duration": 2413,
    "start_time": "2022-01-17T14:18:21.341Z"
   },
   {
    "duration": 18,
    "start_time": "2022-01-17T14:18:23.766Z"
   },
   {
    "duration": 1144,
    "start_time": "2022-01-17T14:18:23.789Z"
   },
   {
    "duration": 2298,
    "start_time": "2022-01-17T14:18:24.936Z"
   },
   {
    "duration": 2602,
    "start_time": "2022-01-17T14:18:27.237Z"
   },
   {
    "duration": 848,
    "start_time": "2022-01-17T14:18:29.841Z"
   },
   {
    "duration": 745,
    "start_time": "2022-01-17T14:18:30.692Z"
   },
   {
    "duration": 774,
    "start_time": "2022-01-17T14:18:31.439Z"
   },
   {
    "duration": 811,
    "start_time": "2022-01-17T14:18:32.216Z"
   },
   {
    "duration": 1510,
    "start_time": "2022-01-17T14:18:33.029Z"
   },
   {
    "duration": 23,
    "start_time": "2022-01-17T14:18:34.541Z"
   },
   {
    "duration": 1194,
    "start_time": "2022-01-17T14:18:34.567Z"
   },
   {
    "duration": 11,
    "start_time": "2022-01-17T14:18:35.764Z"
   },
   {
    "duration": 557,
    "start_time": "2022-01-17T14:18:35.777Z"
   },
   {
    "duration": 638,
    "start_time": "2022-01-17T14:18:36.336Z"
   },
   {
    "duration": 580,
    "start_time": "2022-01-17T14:18:36.977Z"
   },
   {
    "duration": 492,
    "start_time": "2022-01-17T14:18:37.560Z"
   },
   {
    "duration": 580,
    "start_time": "2022-01-17T14:18:38.062Z"
   },
   {
    "duration": 803,
    "start_time": "2022-01-17T14:18:38.645Z"
   },
   {
    "duration": 779,
    "start_time": "2022-01-17T14:18:39.451Z"
   },
   {
    "duration": 31,
    "start_time": "2022-01-17T14:18:40.233Z"
   },
   {
    "duration": 26,
    "start_time": "2022-01-17T14:18:40.267Z"
   },
   {
    "duration": 40,
    "start_time": "2022-01-17T14:18:40.295Z"
   },
   {
    "duration": 30,
    "start_time": "2022-01-17T14:18:40.337Z"
   },
   {
    "duration": 314,
    "start_time": "2022-01-17T14:18:40.369Z"
   },
   {
    "duration": 9,
    "start_time": "2022-01-17T14:18:40.685Z"
   },
   {
    "duration": 613,
    "start_time": "2022-01-17T14:18:40.696Z"
   },
   {
    "duration": 305,
    "start_time": "2022-01-17T14:18:41.312Z"
   },
   {
    "duration": 463,
    "start_time": "2022-01-17T14:18:41.621Z"
   },
   {
    "duration": 455,
    "start_time": "2022-01-17T14:18:42.086Z"
   },
   {
    "duration": 23,
    "start_time": "2022-01-17T14:18:42.543Z"
   },
   {
    "duration": 7058,
    "start_time": "2022-01-17T14:18:42.568Z"
   },
   {
    "duration": 8495,
    "start_time": "2022-01-17T14:18:49.628Z"
   },
   {
    "duration": 5,
    "start_time": "2022-01-17T14:44:36.754Z"
   },
   {
    "duration": 247,
    "start_time": "2022-01-17T15:32:46.256Z"
   },
   {
    "duration": 727,
    "start_time": "2022-01-17T15:32:52.144Z"
   },
   {
    "duration": 70,
    "start_time": "2022-01-17T15:32:52.873Z"
   },
   {
    "duration": 27,
    "start_time": "2022-01-17T15:32:52.945Z"
   },
   {
    "duration": 26,
    "start_time": "2022-01-17T15:32:52.974Z"
   },
   {
    "duration": 26,
    "start_time": "2022-01-17T15:32:53.002Z"
   },
   {
    "duration": 31,
    "start_time": "2022-01-17T15:32:53.030Z"
   },
   {
    "duration": 18,
    "start_time": "2022-01-17T15:32:53.063Z"
   },
   {
    "duration": 39,
    "start_time": "2022-01-17T15:32:53.084Z"
   },
   {
    "duration": 39,
    "start_time": "2022-01-17T15:32:53.126Z"
   },
   {
    "duration": 44,
    "start_time": "2022-01-17T15:32:53.167Z"
   },
   {
    "duration": 322,
    "start_time": "2022-01-17T15:32:53.213Z"
   },
   {
    "duration": -701,
    "start_time": "2022-01-17T15:32:54.239Z"
   },
   {
    "duration": -710,
    "start_time": "2022-01-17T15:32:54.249Z"
   },
   {
    "duration": -718,
    "start_time": "2022-01-17T15:32:54.258Z"
   },
   {
    "duration": -726,
    "start_time": "2022-01-17T15:32:54.267Z"
   },
   {
    "duration": -733,
    "start_time": "2022-01-17T15:32:54.275Z"
   },
   {
    "duration": -742,
    "start_time": "2022-01-17T15:32:54.285Z"
   },
   {
    "duration": -748,
    "start_time": "2022-01-17T15:32:54.293Z"
   },
   {
    "duration": -757,
    "start_time": "2022-01-17T15:32:54.303Z"
   },
   {
    "duration": -764,
    "start_time": "2022-01-17T15:32:54.311Z"
   },
   {
    "duration": -773,
    "start_time": "2022-01-17T15:32:54.321Z"
   },
   {
    "duration": -813,
    "start_time": "2022-01-17T15:32:54.362Z"
   },
   {
    "duration": -823,
    "start_time": "2022-01-17T15:32:54.374Z"
   },
   {
    "duration": -832,
    "start_time": "2022-01-17T15:32:54.384Z"
   },
   {
    "duration": -839,
    "start_time": "2022-01-17T15:32:54.393Z"
   },
   {
    "duration": -846,
    "start_time": "2022-01-17T15:32:54.401Z"
   },
   {
    "duration": -854,
    "start_time": "2022-01-17T15:32:54.411Z"
   },
   {
    "duration": -861,
    "start_time": "2022-01-17T15:32:54.419Z"
   },
   {
    "duration": -869,
    "start_time": "2022-01-17T15:32:54.429Z"
   },
   {
    "duration": -876,
    "start_time": "2022-01-17T15:32:54.437Z"
   },
   {
    "duration": -884,
    "start_time": "2022-01-17T15:32:54.446Z"
   },
   {
    "duration": -890,
    "start_time": "2022-01-17T15:32:54.454Z"
   },
   {
    "duration": -915,
    "start_time": "2022-01-17T15:32:54.481Z"
   },
   {
    "duration": -922,
    "start_time": "2022-01-17T15:32:54.489Z"
   },
   {
    "duration": -930,
    "start_time": "2022-01-17T15:32:54.498Z"
   },
   {
    "duration": -936,
    "start_time": "2022-01-17T15:32:54.506Z"
   },
   {
    "duration": -944,
    "start_time": "2022-01-17T15:32:54.515Z"
   },
   {
    "duration": -950,
    "start_time": "2022-01-17T15:32:54.523Z"
   },
   {
    "duration": -959,
    "start_time": "2022-01-17T15:32:54.533Z"
   },
   {
    "duration": -966,
    "start_time": "2022-01-17T15:32:54.542Z"
   },
   {
    "duration": -974,
    "start_time": "2022-01-17T15:32:54.551Z"
   },
   {
    "duration": -980,
    "start_time": "2022-01-17T15:32:54.559Z"
   },
   {
    "duration": -988,
    "start_time": "2022-01-17T15:32:54.568Z"
   },
   {
    "duration": -1010,
    "start_time": "2022-01-17T15:32:54.591Z"
   },
   {
    "duration": -1017,
    "start_time": "2022-01-17T15:32:54.600Z"
   },
   {
    "duration": -1025,
    "start_time": "2022-01-17T15:32:54.609Z"
   },
   {
    "duration": -1032,
    "start_time": "2022-01-17T15:32:54.618Z"
   },
   {
    "duration": -1039,
    "start_time": "2022-01-17T15:32:54.626Z"
   },
   {
    "duration": -1046,
    "start_time": "2022-01-17T15:32:54.635Z"
   },
   {
    "duration": -1053,
    "start_time": "2022-01-17T15:32:54.644Z"
   },
   {
    "duration": -1062,
    "start_time": "2022-01-17T15:32:54.654Z"
   },
   {
    "duration": -1069,
    "start_time": "2022-01-17T15:32:54.663Z"
   },
   {
    "duration": -1077,
    "start_time": "2022-01-17T15:32:54.673Z"
   },
   {
    "duration": -1098,
    "start_time": "2022-01-17T15:32:54.695Z"
   },
   {
    "duration": -1136,
    "start_time": "2022-01-17T15:32:54.734Z"
   },
   {
    "duration": 516,
    "start_time": "2022-01-17T15:34:08.620Z"
   },
   {
    "duration": 715,
    "start_time": "2022-01-17T15:34:20.260Z"
   },
   {
    "duration": 3,
    "start_time": "2022-01-17T15:34:35.065Z"
   },
   {
    "duration": 104,
    "start_time": "2022-01-17T15:34:35.075Z"
   },
   {
    "duration": 23,
    "start_time": "2022-01-17T15:34:35.181Z"
   },
   {
    "duration": 20,
    "start_time": "2022-01-17T15:34:35.206Z"
   },
   {
    "duration": 38,
    "start_time": "2022-01-17T15:34:35.228Z"
   },
   {
    "duration": 9,
    "start_time": "2022-01-17T15:34:35.267Z"
   },
   {
    "duration": 8,
    "start_time": "2022-01-17T15:34:35.278Z"
   },
   {
    "duration": 12,
    "start_time": "2022-01-17T15:34:35.287Z"
   },
   {
    "duration": 65,
    "start_time": "2022-01-17T15:34:35.302Z"
   },
   {
    "duration": 24,
    "start_time": "2022-01-17T15:34:35.369Z"
   },
   {
    "duration": 748,
    "start_time": "2022-01-17T15:34:35.395Z"
   },
   {
    "duration": 48,
    "start_time": "2022-01-17T15:34:36.145Z"
   },
   {
    "duration": 44,
    "start_time": "2022-01-17T15:34:36.195Z"
   },
   {
    "duration": 45,
    "start_time": "2022-01-17T15:34:36.241Z"
   },
   {
    "duration": 15,
    "start_time": "2022-01-17T15:34:36.289Z"
   },
   {
    "duration": 40,
    "start_time": "2022-01-17T15:34:36.307Z"
   },
   {
    "duration": 51,
    "start_time": "2022-01-17T15:34:36.350Z"
   },
   {
    "duration": 19,
    "start_time": "2022-01-17T15:34:36.403Z"
   },
   {
    "duration": 23,
    "start_time": "2022-01-17T15:34:36.424Z"
   },
   {
    "duration": 40,
    "start_time": "2022-01-17T15:34:36.450Z"
   },
   {
    "duration": 427,
    "start_time": "2022-01-17T15:34:36.492Z"
   },
   {
    "duration": 17,
    "start_time": "2022-01-17T15:34:36.921Z"
   },
   {
    "duration": 1437,
    "start_time": "2022-01-17T15:34:36.940Z"
   },
   {
    "duration": 11,
    "start_time": "2022-01-17T15:34:38.381Z"
   },
   {
    "duration": 776,
    "start_time": "2022-01-17T15:34:38.396Z"
   },
   {
    "duration": 1779,
    "start_time": "2022-01-17T15:34:39.174Z"
   },
   {
    "duration": 1427,
    "start_time": "2022-01-17T15:34:40.955Z"
   },
   {
    "duration": 429,
    "start_time": "2022-01-17T15:34:42.384Z"
   },
   {
    "duration": 431,
    "start_time": "2022-01-17T15:34:42.814Z"
   },
   {
    "duration": 473,
    "start_time": "2022-01-17T15:34:43.247Z"
   },
   {
    "duration": 495,
    "start_time": "2022-01-17T15:34:43.721Z"
   },
   {
    "duration": 924,
    "start_time": "2022-01-17T15:34:44.218Z"
   },
   {
    "duration": 18,
    "start_time": "2022-01-17T15:34:45.143Z"
   },
   {
    "duration": 707,
    "start_time": "2022-01-17T15:34:45.163Z"
   },
   {
    "duration": 8,
    "start_time": "2022-01-17T15:34:45.872Z"
   },
   {
    "duration": 356,
    "start_time": "2022-01-17T15:34:45.882Z"
   },
   {
    "duration": 357,
    "start_time": "2022-01-17T15:34:46.239Z"
   },
   {
    "duration": 366,
    "start_time": "2022-01-17T15:34:46.598Z"
   },
   {
    "duration": 517,
    "start_time": "2022-01-17T15:34:46.966Z"
   },
   {
    "duration": 374,
    "start_time": "2022-01-17T15:34:47.486Z"
   },
   {
    "duration": 611,
    "start_time": "2022-01-17T15:34:47.862Z"
   },
   {
    "duration": 387,
    "start_time": "2022-01-17T15:34:48.475Z"
   },
   {
    "duration": 14,
    "start_time": "2022-01-17T15:34:48.864Z"
   },
   {
    "duration": 21,
    "start_time": "2022-01-17T15:34:48.880Z"
   },
   {
    "duration": 58,
    "start_time": "2022-01-17T15:34:48.903Z"
   },
   {
    "duration": 4,
    "start_time": "2022-01-17T15:34:48.963Z"
   },
   {
    "duration": 200,
    "start_time": "2022-01-17T15:34:48.969Z"
   },
   {
    "duration": 6,
    "start_time": "2022-01-17T15:34:49.171Z"
   },
   {
    "duration": 344,
    "start_time": "2022-01-17T15:34:49.179Z"
   },
   {
    "duration": 183,
    "start_time": "2022-01-17T15:34:49.525Z"
   },
   {
    "duration": 260,
    "start_time": "2022-01-17T15:34:49.709Z"
   },
   {
    "duration": 270,
    "start_time": "2022-01-17T15:34:49.971Z"
   },
   {
    "duration": 23,
    "start_time": "2022-01-17T15:34:50.243Z"
   },
   {
    "duration": 4121,
    "start_time": "2022-01-17T15:34:50.267Z"
   },
   {
    "duration": 4966,
    "start_time": "2022-01-17T15:34:54.390Z"
   },
   {
    "duration": 2804,
    "start_time": "2022-01-17T15:43:09.874Z"
   },
   {
    "duration": 4,
    "start_time": "2022-01-17T15:43:31.923Z"
   },
   {
    "duration": 113,
    "start_time": "2022-01-17T15:43:31.930Z"
   },
   {
    "duration": 57,
    "start_time": "2022-01-17T15:43:32.046Z"
   },
   {
    "duration": 19,
    "start_time": "2022-01-17T15:43:32.107Z"
   },
   {
    "duration": 36,
    "start_time": "2022-01-17T15:43:32.129Z"
   },
   {
    "duration": 17,
    "start_time": "2022-01-17T15:43:32.167Z"
   },
   {
    "duration": 19,
    "start_time": "2022-01-17T15:43:32.186Z"
   },
   {
    "duration": 32,
    "start_time": "2022-01-17T15:43:32.207Z"
   },
   {
    "duration": 31,
    "start_time": "2022-01-17T15:43:32.243Z"
   },
   {
    "duration": 27,
    "start_time": "2022-01-17T15:43:32.276Z"
   },
   {
    "duration": 723,
    "start_time": "2022-01-17T15:43:32.305Z"
   },
   {
    "duration": 57,
    "start_time": "2022-01-17T15:43:33.030Z"
   },
   {
    "duration": 49,
    "start_time": "2022-01-17T15:43:33.089Z"
   },
   {
    "duration": 37,
    "start_time": "2022-01-17T15:43:33.140Z"
   },
   {
    "duration": 8,
    "start_time": "2022-01-17T15:43:33.179Z"
   },
   {
    "duration": 11,
    "start_time": "2022-01-17T15:43:33.189Z"
   },
   {
    "duration": 27,
    "start_time": "2022-01-17T15:43:33.202Z"
   },
   {
    "duration": 38,
    "start_time": "2022-01-17T15:43:33.230Z"
   },
   {
    "duration": 11,
    "start_time": "2022-01-17T15:43:33.270Z"
   },
   {
    "duration": 39,
    "start_time": "2022-01-17T15:43:33.283Z"
   },
   {
    "duration": 374,
    "start_time": "2022-01-17T15:43:33.324Z"
   },
   {
    "duration": 18,
    "start_time": "2022-01-17T15:43:33.700Z"
   },
   {
    "duration": 1446,
    "start_time": "2022-01-17T15:43:40.774Z"
   },
   {
    "duration": 11,
    "start_time": "2022-01-17T15:44:02.906Z"
   },
   {
    "duration": 1331,
    "start_time": "2022-01-17T15:46:43.696Z"
   },
   {
    "duration": 1540,
    "start_time": "2022-01-17T15:47:04.029Z"
   },
   {
    "duration": 11,
    "start_time": "2022-01-17T15:49:53.688Z"
   },
   {
    "duration": 8,
    "start_time": "2022-01-17T15:49:59.326Z"
   },
   {
    "duration": 7,
    "start_time": "2022-01-17T15:51:43.898Z"
   },
   {
    "duration": 239,
    "start_time": "2022-01-17T15:52:53.787Z"
   },
   {
    "duration": 7,
    "start_time": "2022-01-17T15:53:40.633Z"
   },
   {
    "duration": 9,
    "start_time": "2022-01-17T15:53:57.254Z"
   },
   {
    "duration": 7,
    "start_time": "2022-01-17T15:54:15.828Z"
   },
   {
    "duration": 8,
    "start_time": "2022-01-17T15:54:50.546Z"
   },
   {
    "duration": 7,
    "start_time": "2022-01-17T15:54:58.977Z"
   },
   {
    "duration": 8,
    "start_time": "2022-01-17T15:55:21.866Z"
   },
   {
    "duration": 8,
    "start_time": "2022-01-17T15:55:30.541Z"
   },
   {
    "duration": 9,
    "start_time": "2022-01-17T15:55:36.364Z"
   },
   {
    "duration": 9,
    "start_time": "2022-01-17T15:55:39.699Z"
   },
   {
    "duration": 10,
    "start_time": "2022-01-17T15:57:03.111Z"
   },
   {
    "duration": 12,
    "start_time": "2022-01-17T15:57:10.572Z"
   },
   {
    "duration": 10,
    "start_time": "2022-01-17T15:57:32.127Z"
   },
   {
    "duration": 11,
    "start_time": "2022-01-17T15:57:36.736Z"
   },
   {
    "duration": 11,
    "start_time": "2022-01-17T15:57:39.060Z"
   },
   {
    "duration": 11,
    "start_time": "2022-01-17T15:57:42.211Z"
   },
   {
    "duration": 10,
    "start_time": "2022-01-17T15:57:44.566Z"
   },
   {
    "duration": 10,
    "start_time": "2022-01-17T15:57:48.361Z"
   },
   {
    "duration": 14,
    "start_time": "2022-01-17T15:57:51.741Z"
   },
   {
    "duration": 550,
    "start_time": "2022-01-17T15:58:06.961Z"
   },
   {
    "duration": 6,
    "start_time": "2022-01-17T15:58:20.595Z"
   },
   {
    "duration": 77,
    "start_time": "2022-01-17T15:58:20.603Z"
   },
   {
    "duration": 24,
    "start_time": "2022-01-17T15:58:20.682Z"
   },
   {
    "duration": 39,
    "start_time": "2022-01-17T15:58:20.709Z"
   },
   {
    "duration": 15,
    "start_time": "2022-01-17T15:58:20.749Z"
   },
   {
    "duration": 40,
    "start_time": "2022-01-17T15:58:20.766Z"
   },
   {
    "duration": 37,
    "start_time": "2022-01-17T15:58:20.808Z"
   },
   {
    "duration": 17,
    "start_time": "2022-01-17T15:58:20.848Z"
   },
   {
    "duration": 29,
    "start_time": "2022-01-17T15:58:20.867Z"
   },
   {
    "duration": 46,
    "start_time": "2022-01-17T15:58:20.898Z"
   },
   {
    "duration": 706,
    "start_time": "2022-01-17T15:58:20.946Z"
   },
   {
    "duration": 43,
    "start_time": "2022-01-17T15:58:21.654Z"
   },
   {
    "duration": 63,
    "start_time": "2022-01-17T15:58:21.699Z"
   },
   {
    "duration": 19,
    "start_time": "2022-01-17T15:58:21.764Z"
   },
   {
    "duration": 11,
    "start_time": "2022-01-17T15:58:21.785Z"
   },
   {
    "duration": 21,
    "start_time": "2022-01-17T15:58:21.798Z"
   },
   {
    "duration": 42,
    "start_time": "2022-01-17T15:58:21.821Z"
   },
   {
    "duration": 35,
    "start_time": "2022-01-17T15:58:21.865Z"
   },
   {
    "duration": 14,
    "start_time": "2022-01-17T15:58:21.903Z"
   },
   {
    "duration": 56,
    "start_time": "2022-01-17T15:58:21.919Z"
   },
   {
    "duration": 513,
    "start_time": "2022-01-17T15:58:21.977Z"
   },
   {
    "duration": 18,
    "start_time": "2022-01-17T15:58:22.492Z"
   },
   {
    "duration": 846,
    "start_time": "2022-01-17T15:58:22.511Z"
   },
   {
    "duration": 11,
    "start_time": "2022-01-17T15:58:23.359Z"
   },
   {
    "duration": 10,
    "start_time": "2022-01-17T15:58:27.678Z"
   },
   {
    "duration": 11,
    "start_time": "2022-01-17T15:58:30.745Z"
   },
   {
    "duration": 12,
    "start_time": "2022-01-17T15:58:33.575Z"
   },
   {
    "duration": 11,
    "start_time": "2022-01-17T15:58:37.415Z"
   },
   {
    "duration": 11,
    "start_time": "2022-01-17T15:58:40.183Z"
   },
   {
    "duration": 11,
    "start_time": "2022-01-17T15:58:43.239Z"
   },
   {
    "duration": 12,
    "start_time": "2022-01-17T15:59:39.175Z"
   },
   {
    "duration": 11,
    "start_time": "2022-01-17T15:59:51.267Z"
   },
   {
    "duration": 15,
    "start_time": "2022-01-17T16:00:04.658Z"
   },
   {
    "duration": 12,
    "start_time": "2022-01-17T16:00:38.759Z"
   },
   {
    "duration": 13,
    "start_time": "2022-01-17T16:01:08.582Z"
   },
   {
    "duration": 13,
    "start_time": "2022-01-17T16:01:27.317Z"
   },
   {
    "duration": 82,
    "start_time": "2022-01-17T16:02:44.492Z"
   },
   {
    "duration": 529,
    "start_time": "2022-01-17T16:02:53.988Z"
   },
   {
    "duration": 447,
    "start_time": "2022-01-17T16:03:12.050Z"
   },
   {
    "duration": 439,
    "start_time": "2022-01-17T16:03:23.407Z"
   },
   {
    "duration": 394,
    "start_time": "2022-01-17T16:03:38.990Z"
   },
   {
    "duration": 18,
    "start_time": "2022-01-17T16:08:50.308Z"
   },
   {
    "duration": 17,
    "start_time": "2022-01-17T16:08:54.924Z"
   },
   {
    "duration": 4,
    "start_time": "2022-01-17T16:09:09.193Z"
   },
   {
    "duration": 80,
    "start_time": "2022-01-17T16:09:09.236Z"
   },
   {
    "duration": 191,
    "start_time": "2022-01-17T16:09:09.318Z"
   },
   {
    "duration": 59,
    "start_time": "2022-01-17T16:09:09.512Z"
   },
   {
    "duration": 57,
    "start_time": "2022-01-17T16:09:09.574Z"
   },
   {
    "duration": 72,
    "start_time": "2022-01-17T16:09:09.633Z"
   },
   {
    "duration": 17,
    "start_time": "2022-01-17T16:09:09.708Z"
   },
   {
    "duration": 38,
    "start_time": "2022-01-17T16:09:09.727Z"
   },
   {
    "duration": 61,
    "start_time": "2022-01-17T16:09:09.768Z"
   },
   {
    "duration": 45,
    "start_time": "2022-01-17T16:09:09.831Z"
   },
   {
    "duration": 882,
    "start_time": "2022-01-17T16:09:09.878Z"
   },
   {
    "duration": 106,
    "start_time": "2022-01-17T16:09:10.764Z"
   },
   {
    "duration": 58,
    "start_time": "2022-01-17T16:09:10.873Z"
   },
   {
    "duration": 46,
    "start_time": "2022-01-17T16:09:10.933Z"
   },
   {
    "duration": 10,
    "start_time": "2022-01-17T16:09:10.981Z"
   },
   {
    "duration": 20,
    "start_time": "2022-01-17T16:09:10.993Z"
   },
   {
    "duration": 66,
    "start_time": "2022-01-17T16:09:11.015Z"
   },
   {
    "duration": 22,
    "start_time": "2022-01-17T16:09:11.083Z"
   },
   {
    "duration": 54,
    "start_time": "2022-01-17T16:09:11.107Z"
   },
   {
    "duration": 52,
    "start_time": "2022-01-17T16:09:11.164Z"
   },
   {
    "duration": 400,
    "start_time": "2022-01-17T16:09:11.260Z"
   },
   {
    "duration": 24,
    "start_time": "2022-01-17T16:09:11.663Z"
   },
   {
    "duration": 667,
    "start_time": "2022-01-17T16:09:11.689Z"
   },
   {
    "duration": 13,
    "start_time": "2022-01-17T16:09:14.498Z"
   },
   {
    "duration": 13,
    "start_time": "2022-01-17T16:10:01.527Z"
   },
   {
    "duration": 20,
    "start_time": "2022-01-17T16:10:18.230Z"
   },
   {
    "duration": 20,
    "start_time": "2022-01-17T16:10:30.089Z"
   },
   {
    "duration": 400,
    "start_time": "2022-01-17T16:26:43.084Z"
   },
   {
    "duration": 699,
    "start_time": "2022-01-17T16:26:47.177Z"
   },
   {
    "duration": 1127,
    "start_time": "2022-01-17T16:53:35.375Z"
   },
   {
    "duration": 1005,
    "start_time": "2022-01-17T16:54:02.753Z"
   },
   {
    "duration": 631,
    "start_time": "2022-01-17T16:55:06.630Z"
   },
   {
    "duration": 3,
    "start_time": "2022-01-17T16:55:24.874Z"
   },
   {
    "duration": 72,
    "start_time": "2022-01-17T16:55:24.881Z"
   },
   {
    "duration": 25,
    "start_time": "2022-01-17T16:55:24.955Z"
   },
   {
    "duration": 12,
    "start_time": "2022-01-17T16:55:24.983Z"
   },
   {
    "duration": 8,
    "start_time": "2022-01-17T16:55:24.997Z"
   },
   {
    "duration": 11,
    "start_time": "2022-01-17T16:55:25.007Z"
   },
   {
    "duration": 43,
    "start_time": "2022-01-17T16:55:25.021Z"
   },
   {
    "duration": 15,
    "start_time": "2022-01-17T16:55:25.066Z"
   },
   {
    "duration": 16,
    "start_time": "2022-01-17T16:55:25.083Z"
   },
   {
    "duration": 26,
    "start_time": "2022-01-17T16:55:25.101Z"
   },
   {
    "duration": 750,
    "start_time": "2022-01-17T16:55:25.160Z"
   },
   {
    "duration": 51,
    "start_time": "2022-01-17T16:55:25.911Z"
   },
   {
    "duration": 45,
    "start_time": "2022-01-17T16:55:25.963Z"
   },
   {
    "duration": 20,
    "start_time": "2022-01-17T16:55:26.010Z"
   },
   {
    "duration": 29,
    "start_time": "2022-01-17T16:55:26.032Z"
   },
   {
    "duration": 16,
    "start_time": "2022-01-17T16:55:26.063Z"
   },
   {
    "duration": 29,
    "start_time": "2022-01-17T16:55:26.081Z"
   },
   {
    "duration": 19,
    "start_time": "2022-01-17T16:55:26.113Z"
   },
   {
    "duration": 30,
    "start_time": "2022-01-17T16:55:26.134Z"
   },
   {
    "duration": 24,
    "start_time": "2022-01-17T16:55:26.166Z"
   },
   {
    "duration": 487,
    "start_time": "2022-01-17T16:55:26.192Z"
   },
   {
    "duration": 17,
    "start_time": "2022-01-17T16:55:26.681Z"
   },
   {
    "duration": 539,
    "start_time": "2022-01-17T16:55:26.699Z"
   },
   {
    "duration": 21,
    "start_time": "2022-01-17T16:55:27.241Z"
   },
   {
    "duration": 391,
    "start_time": "2022-01-17T16:55:27.264Z"
   },
   {
    "duration": 395,
    "start_time": "2022-01-17T16:55:27.657Z"
   },
   {
    "duration": 1040,
    "start_time": "2022-01-17T17:12:51.637Z"
   },
   {
    "duration": 1158,
    "start_time": "2022-01-17T17:13:38.038Z"
   },
   {
    "duration": 1054,
    "start_time": "2022-01-17T17:14:13.455Z"
   },
   {
    "duration": 857,
    "start_time": "2022-01-17T17:15:13.930Z"
   },
   {
    "duration": 1248,
    "start_time": "2022-01-17T17:16:21.508Z"
   },
   {
    "duration": 1359,
    "start_time": "2022-01-17T17:16:45.069Z"
   },
   {
    "duration": 1104,
    "start_time": "2022-01-17T17:17:11.179Z"
   },
   {
    "duration": 994,
    "start_time": "2022-01-17T17:17:34.107Z"
   },
   {
    "duration": 325,
    "start_time": "2022-01-17T17:18:30.324Z"
   },
   {
    "duration": 538,
    "start_time": "2022-01-17T17:19:55.121Z"
   },
   {
    "duration": 531,
    "start_time": "2022-01-17T17:20:03.446Z"
   },
   {
    "duration": 457,
    "start_time": "2022-01-17T17:20:13.516Z"
   },
   {
    "duration": 325,
    "start_time": "2022-01-17T17:20:19.540Z"
   },
   {
    "duration": 625,
    "start_time": "2022-01-17T17:20:41.166Z"
   },
   {
    "duration": 654,
    "start_time": "2022-01-17T17:21:37.000Z"
   },
   {
    "duration": 5,
    "start_time": "2022-01-17T17:22:21.982Z"
   },
   {
    "duration": 816,
    "start_time": "2022-01-17T17:22:26.601Z"
   },
   {
    "duration": 4,
    "start_time": "2022-01-17T17:22:41.842Z"
   },
   {
    "duration": 75,
    "start_time": "2022-01-17T17:22:41.851Z"
   },
   {
    "duration": 34,
    "start_time": "2022-01-17T17:22:41.928Z"
   },
   {
    "duration": 12,
    "start_time": "2022-01-17T17:22:41.964Z"
   },
   {
    "duration": 9,
    "start_time": "2022-01-17T17:22:41.978Z"
   },
   {
    "duration": 10,
    "start_time": "2022-01-17T17:22:41.989Z"
   },
   {
    "duration": 7,
    "start_time": "2022-01-17T17:22:42.001Z"
   },
   {
    "duration": 52,
    "start_time": "2022-01-17T17:22:42.010Z"
   },
   {
    "duration": 16,
    "start_time": "2022-01-17T17:22:42.064Z"
   },
   {
    "duration": 22,
    "start_time": "2022-01-17T17:22:42.082Z"
   },
   {
    "duration": 755,
    "start_time": "2022-01-17T17:22:42.106Z"
   },
   {
    "duration": 51,
    "start_time": "2022-01-17T17:22:42.863Z"
   },
   {
    "duration": 65,
    "start_time": "2022-01-17T17:22:42.916Z"
   },
   {
    "duration": 19,
    "start_time": "2022-01-17T17:22:42.983Z"
   },
   {
    "duration": 15,
    "start_time": "2022-01-17T17:22:43.004Z"
   },
   {
    "duration": 36,
    "start_time": "2022-01-17T17:22:43.021Z"
   },
   {
    "duration": 30,
    "start_time": "2022-01-17T17:22:43.059Z"
   },
   {
    "duration": 13,
    "start_time": "2022-01-17T17:22:43.091Z"
   },
   {
    "duration": 15,
    "start_time": "2022-01-17T17:22:43.106Z"
   },
   {
    "duration": 43,
    "start_time": "2022-01-17T17:22:43.122Z"
   },
   {
    "duration": 363,
    "start_time": "2022-01-17T17:22:43.167Z"
   },
   {
    "duration": 18,
    "start_time": "2022-01-17T17:22:43.532Z"
   },
   {
    "duration": 386,
    "start_time": "2022-01-17T17:22:43.552Z"
   },
   {
    "duration": 357,
    "start_time": "2022-01-17T17:23:01.983Z"
   },
   {
    "duration": 4,
    "start_time": "2022-01-17T17:23:18.186Z"
   },
   {
    "duration": 3,
    "start_time": "2022-01-17T17:23:23.248Z"
   },
   {
    "duration": 80,
    "start_time": "2022-01-17T17:23:23.255Z"
   },
   {
    "duration": 28,
    "start_time": "2022-01-17T17:23:23.337Z"
   },
   {
    "duration": 19,
    "start_time": "2022-01-17T17:23:23.369Z"
   },
   {
    "duration": 10,
    "start_time": "2022-01-17T17:23:23.391Z"
   },
   {
    "duration": 14,
    "start_time": "2022-01-17T17:23:23.404Z"
   },
   {
    "duration": 43,
    "start_time": "2022-01-17T17:23:23.421Z"
   },
   {
    "duration": 13,
    "start_time": "2022-01-17T17:23:23.466Z"
   },
   {
    "duration": 17,
    "start_time": "2022-01-17T17:23:23.482Z"
   },
   {
    "duration": 61,
    "start_time": "2022-01-17T17:23:23.502Z"
   },
   {
    "duration": 752,
    "start_time": "2022-01-17T17:23:23.565Z"
   },
   {
    "duration": 189,
    "start_time": "2022-01-17T17:23:24.319Z"
   },
   {
    "duration": 53,
    "start_time": "2022-01-17T17:23:24.510Z"
   },
   {
    "duration": 19,
    "start_time": "2022-01-17T17:23:24.565Z"
   },
   {
    "duration": 10,
    "start_time": "2022-01-17T17:23:24.586Z"
   },
   {
    "duration": 8,
    "start_time": "2022-01-17T17:23:24.598Z"
   },
   {
    "duration": 19,
    "start_time": "2022-01-17T17:23:24.608Z"
   },
   {
    "duration": 16,
    "start_time": "2022-01-17T17:23:24.660Z"
   },
   {
    "duration": 10,
    "start_time": "2022-01-17T17:23:24.677Z"
   },
   {
    "duration": 33,
    "start_time": "2022-01-17T17:23:24.689Z"
   },
   {
    "duration": 375,
    "start_time": "2022-01-17T17:23:24.724Z"
   },
   {
    "duration": 19,
    "start_time": "2022-01-17T17:23:25.101Z"
   },
   {
    "duration": 374,
    "start_time": "2022-01-17T17:23:25.121Z"
   },
   {
    "duration": 14,
    "start_time": "2022-01-17T17:23:25.499Z"
   },
   {
    "duration": 420,
    "start_time": "2022-01-17T17:23:25.515Z"
   },
   {
    "duration": 402,
    "start_time": "2022-01-17T17:23:25.937Z"
   },
   {
    "duration": 2010,
    "start_time": "2022-01-17T17:23:26.341Z"
   },
   {
    "duration": 2066,
    "start_time": "2022-01-17T17:23:28.354Z"
   },
   {
    "duration": 664,
    "start_time": "2022-01-17T17:23:30.422Z"
   },
   {
    "duration": 444,
    "start_time": "2022-01-17T17:23:31.088Z"
   },
   {
    "duration": 815,
    "start_time": "2022-01-17T17:23:31.534Z"
   },
   {
    "duration": 493,
    "start_time": "2022-01-17T17:23:32.350Z"
   },
   {
    "duration": 983,
    "start_time": "2022-01-17T17:23:32.845Z"
   },
   {
    "duration": 6,
    "start_time": "2022-01-17T17:23:33.830Z"
   },
   {
    "duration": 750,
    "start_time": "2022-01-17T17:23:33.838Z"
   },
   {
    "duration": 8,
    "start_time": "2022-01-17T17:23:34.589Z"
   },
   {
    "duration": 366,
    "start_time": "2022-01-17T17:23:34.599Z"
   },
   {
    "duration": 352,
    "start_time": "2022-01-17T17:23:34.966Z"
   },
   {
    "duration": 390,
    "start_time": "2022-01-17T17:23:35.320Z"
   },
   {
    "duration": 421,
    "start_time": "2022-01-17T17:23:35.712Z"
   },
   {
    "duration": 401,
    "start_time": "2022-01-17T17:23:36.135Z"
   },
   {
    "duration": 524,
    "start_time": "2022-01-17T17:23:36.538Z"
   },
   {
    "duration": 411,
    "start_time": "2022-01-17T17:23:37.064Z"
   },
   {
    "duration": 13,
    "start_time": "2022-01-17T17:23:37.477Z"
   },
   {
    "duration": 23,
    "start_time": "2022-01-17T17:23:37.492Z"
   },
   {
    "duration": 60,
    "start_time": "2022-01-17T17:23:37.516Z"
   },
   {
    "duration": 6,
    "start_time": "2022-01-17T17:23:37.578Z"
   },
   {
    "duration": 211,
    "start_time": "2022-01-17T17:23:37.585Z"
   },
   {
    "duration": 7,
    "start_time": "2022-01-17T17:23:37.799Z"
   },
   {
    "duration": 554,
    "start_time": "2022-01-17T17:23:37.808Z"
   },
   {
    "duration": 202,
    "start_time": "2022-01-17T17:23:38.364Z"
   },
   {
    "duration": 287,
    "start_time": "2022-01-17T17:23:38.568Z"
   },
   {
    "duration": 537,
    "start_time": "2022-01-17T17:23:38.862Z"
   },
   {
    "duration": 16,
    "start_time": "2022-01-17T17:23:39.402Z"
   },
   {
    "duration": 8284,
    "start_time": "2022-01-17T17:23:39.420Z"
   },
   {
    "duration": 7154,
    "start_time": "2022-01-17T17:23:47.706Z"
   },
   {
    "duration": 67,
    "start_time": "2022-01-17T17:24:05.834Z"
   },
   {
    "duration": 234,
    "start_time": "2022-01-17T17:24:11.344Z"
   },
   {
    "duration": 228,
    "start_time": "2022-01-17T17:24:29.956Z"
   },
   {
    "duration": 228,
    "start_time": "2022-01-17T17:29:40.385Z"
   },
   {
    "duration": 498,
    "start_time": "2022-01-17T17:29:52.856Z"
   },
   {
    "duration": 664,
    "start_time": "2022-01-17T17:30:03.571Z"
   },
   {
    "duration": 349,
    "start_time": "2022-01-17T17:30:19.635Z"
   },
   {
    "duration": 4,
    "start_time": "2022-01-17T17:30:37.663Z"
   },
   {
    "duration": 75,
    "start_time": "2022-01-17T17:30:37.671Z"
   },
   {
    "duration": 27,
    "start_time": "2022-01-17T17:30:37.748Z"
   },
   {
    "duration": 10,
    "start_time": "2022-01-17T17:30:37.778Z"
   },
   {
    "duration": 7,
    "start_time": "2022-01-17T17:30:37.790Z"
   },
   {
    "duration": 9,
    "start_time": "2022-01-17T17:30:37.799Z"
   },
   {
    "duration": 7,
    "start_time": "2022-01-17T17:30:37.810Z"
   },
   {
    "duration": 48,
    "start_time": "2022-01-17T17:30:37.819Z"
   },
   {
    "duration": 14,
    "start_time": "2022-01-17T17:30:37.870Z"
   },
   {
    "duration": 23,
    "start_time": "2022-01-17T17:30:37.886Z"
   },
   {
    "duration": 750,
    "start_time": "2022-01-17T17:30:37.910Z"
   },
   {
    "duration": 42,
    "start_time": "2022-01-17T17:30:38.662Z"
   },
   {
    "duration": 59,
    "start_time": "2022-01-17T17:30:38.706Z"
   },
   {
    "duration": 21,
    "start_time": "2022-01-17T17:30:38.767Z"
   },
   {
    "duration": 12,
    "start_time": "2022-01-17T17:30:38.790Z"
   },
   {
    "duration": 42,
    "start_time": "2022-01-17T17:30:38.803Z"
   },
   {
    "duration": 43,
    "start_time": "2022-01-17T17:30:38.847Z"
   },
   {
    "duration": 20,
    "start_time": "2022-01-17T17:30:38.892Z"
   },
   {
    "duration": 28,
    "start_time": "2022-01-17T17:30:38.914Z"
   },
   {
    "duration": 58,
    "start_time": "2022-01-17T17:30:38.944Z"
   },
   {
    "duration": 651,
    "start_time": "2022-01-17T17:30:39.004Z"
   },
   {
    "duration": 18,
    "start_time": "2022-01-17T17:30:39.657Z"
   },
   {
    "duration": 592,
    "start_time": "2022-01-17T17:30:44.668Z"
   },
   {
    "duration": 678,
    "start_time": "2022-01-17T17:30:53.623Z"
   },
   {
    "duration": 420,
    "start_time": "2022-01-17T17:31:02.974Z"
   },
   {
    "duration": 340,
    "start_time": "2022-01-17T17:31:34.473Z"
   },
   {
    "duration": 346,
    "start_time": "2022-01-17T17:32:03.126Z"
   },
   {
    "duration": 4,
    "start_time": "2022-01-17T17:32:18.120Z"
   },
   {
    "duration": 73,
    "start_time": "2022-01-17T17:32:18.131Z"
   },
   {
    "duration": 24,
    "start_time": "2022-01-17T17:32:18.206Z"
   },
   {
    "duration": 34,
    "start_time": "2022-01-17T17:32:18.232Z"
   },
   {
    "duration": 6,
    "start_time": "2022-01-17T17:32:18.269Z"
   },
   {
    "duration": 14,
    "start_time": "2022-01-17T17:32:18.277Z"
   },
   {
    "duration": 10,
    "start_time": "2022-01-17T17:32:18.293Z"
   },
   {
    "duration": 16,
    "start_time": "2022-01-17T17:32:18.305Z"
   },
   {
    "duration": 58,
    "start_time": "2022-01-17T17:32:18.325Z"
   },
   {
    "duration": 37,
    "start_time": "2022-01-17T17:32:18.386Z"
   },
   {
    "duration": 727,
    "start_time": "2022-01-17T17:32:18.425Z"
   },
   {
    "duration": 46,
    "start_time": "2022-01-17T17:32:19.154Z"
   },
   {
    "duration": 62,
    "start_time": "2022-01-17T17:32:19.203Z"
   },
   {
    "duration": 34,
    "start_time": "2022-01-17T17:32:19.268Z"
   },
   {
    "duration": 14,
    "start_time": "2022-01-17T17:32:19.304Z"
   },
   {
    "duration": 13,
    "start_time": "2022-01-17T17:32:19.320Z"
   },
   {
    "duration": 53,
    "start_time": "2022-01-17T17:32:19.336Z"
   },
   {
    "duration": 21,
    "start_time": "2022-01-17T17:32:19.391Z"
   },
   {
    "duration": 6,
    "start_time": "2022-01-17T17:32:19.414Z"
   },
   {
    "duration": 70,
    "start_time": "2022-01-17T17:32:19.422Z"
   },
   {
    "duration": 562,
    "start_time": "2022-01-17T17:32:19.494Z"
   },
   {
    "duration": 19,
    "start_time": "2022-01-17T17:32:20.061Z"
   },
   {
    "duration": 367,
    "start_time": "2022-01-17T17:32:20.082Z"
   },
   {
    "duration": 374,
    "start_time": "2022-01-17T17:32:50.752Z"
   },
   {
    "duration": 345,
    "start_time": "2022-01-17T17:33:00.787Z"
   },
   {
    "duration": 324,
    "start_time": "2022-01-17T17:35:52.879Z"
   },
   {
    "duration": 318,
    "start_time": "2022-01-17T17:36:10.715Z"
   },
   {
    "duration": 1201,
    "start_time": "2022-01-17T17:36:31.032Z"
   },
   {
    "duration": 73,
    "start_time": "2022-01-17T17:36:32.235Z"
   },
   {
    "duration": 27,
    "start_time": "2022-01-17T17:36:32.311Z"
   },
   {
    "duration": 10,
    "start_time": "2022-01-17T17:36:32.340Z"
   },
   {
    "duration": 13,
    "start_time": "2022-01-17T17:36:32.361Z"
   },
   {
    "duration": 13,
    "start_time": "2022-01-17T17:36:32.376Z"
   },
   {
    "duration": 7,
    "start_time": "2022-01-17T17:36:32.390Z"
   },
   {
    "duration": 14,
    "start_time": "2022-01-17T17:36:32.400Z"
   },
   {
    "duration": 18,
    "start_time": "2022-01-17T17:36:32.416Z"
   },
   {
    "duration": 21,
    "start_time": "2022-01-17T17:36:32.460Z"
   },
   {
    "duration": 696,
    "start_time": "2022-01-17T17:36:32.483Z"
   },
   {
    "duration": 37,
    "start_time": "2022-01-17T17:36:33.181Z"
   },
   {
    "duration": 64,
    "start_time": "2022-01-17T17:36:33.220Z"
   },
   {
    "duration": 18,
    "start_time": "2022-01-17T17:36:33.286Z"
   },
   {
    "duration": 8,
    "start_time": "2022-01-17T17:36:33.305Z"
   },
   {
    "duration": 8,
    "start_time": "2022-01-17T17:36:33.315Z"
   },
   {
    "duration": 42,
    "start_time": "2022-01-17T17:36:33.325Z"
   },
   {
    "duration": 11,
    "start_time": "2022-01-17T17:36:33.368Z"
   },
   {
    "duration": 3,
    "start_time": "2022-01-17T17:36:33.381Z"
   },
   {
    "duration": 24,
    "start_time": "2022-01-17T17:36:33.386Z"
   },
   {
    "duration": 375,
    "start_time": "2022-01-17T17:36:33.412Z"
   },
   {
    "duration": 17,
    "start_time": "2022-01-17T17:36:33.788Z"
   },
   {
    "duration": 331,
    "start_time": "2022-01-17T17:36:33.808Z"
   },
   {
    "duration": 23,
    "start_time": "2022-01-17T17:36:34.142Z"
   },
   {
    "duration": 456,
    "start_time": "2022-01-17T17:36:34.167Z"
   },
   {
    "duration": 387,
    "start_time": "2022-01-17T17:36:34.624Z"
   },
   {
    "duration": 1282,
    "start_time": "2022-01-17T17:36:35.013Z"
   },
   {
    "duration": 1904,
    "start_time": "2022-01-17T17:36:36.297Z"
   },
   {
    "duration": 417,
    "start_time": "2022-01-17T17:36:38.203Z"
   },
   {
    "duration": 420,
    "start_time": "2022-01-17T17:36:38.621Z"
   },
   {
    "duration": 550,
    "start_time": "2022-01-17T17:36:39.043Z"
   },
   {
    "duration": 453,
    "start_time": "2022-01-17T17:36:39.595Z"
   },
   {
    "duration": 766,
    "start_time": "2022-01-17T17:36:40.050Z"
   },
   {
    "duration": 4,
    "start_time": "2022-01-17T17:36:40.818Z"
   },
   {
    "duration": 779,
    "start_time": "2022-01-17T17:36:40.824Z"
   },
   {
    "duration": 9,
    "start_time": "2022-01-17T17:36:41.605Z"
   },
   {
    "duration": 335,
    "start_time": "2022-01-17T17:36:41.615Z"
   },
   {
    "duration": 455,
    "start_time": "2022-01-17T17:36:41.952Z"
   },
   {
    "duration": 360,
    "start_time": "2022-01-17T17:36:42.409Z"
   },
   {
    "duration": 346,
    "start_time": "2022-01-17T17:36:42.771Z"
   },
   {
    "duration": 354,
    "start_time": "2022-01-17T17:36:43.118Z"
   },
   {
    "duration": 494,
    "start_time": "2022-01-17T17:36:43.474Z"
   },
   {
    "duration": 372,
    "start_time": "2022-01-17T17:36:43.970Z"
   },
   {
    "duration": 23,
    "start_time": "2022-01-17T17:36:44.344Z"
   },
   {
    "duration": 35,
    "start_time": "2022-01-17T17:36:44.369Z"
   },
   {
    "duration": 28,
    "start_time": "2022-01-17T17:36:44.406Z"
   },
   {
    "duration": 6,
    "start_time": "2022-01-17T17:36:44.436Z"
   },
   {
    "duration": 199,
    "start_time": "2022-01-17T17:36:44.444Z"
   },
   {
    "duration": 18,
    "start_time": "2022-01-17T17:36:44.645Z"
   },
   {
    "duration": 326,
    "start_time": "2022-01-17T17:36:44.664Z"
   },
   {
    "duration": 279,
    "start_time": "2022-01-17T17:36:44.992Z"
   },
   {
    "duration": 270,
    "start_time": "2022-01-17T17:36:45.272Z"
   },
   {
    "duration": 405,
    "start_time": "2022-01-17T17:36:45.544Z"
   },
   {
    "duration": 17,
    "start_time": "2022-01-17T17:36:45.951Z"
   },
   {
    "duration": 4117,
    "start_time": "2022-01-17T17:36:45.977Z"
   },
   {
    "duration": 4971,
    "start_time": "2022-01-17T17:36:50.096Z"
   },
   {
    "duration": 520,
    "start_time": "2022-01-17T17:37:00.378Z"
   },
   {
    "duration": 315,
    "start_time": "2022-01-17T17:37:15.898Z"
   },
   {
    "duration": 331,
    "start_time": "2022-01-17T17:37:33.749Z"
   },
   {
    "duration": 490,
    "start_time": "2022-01-17T17:37:47.936Z"
   },
   {
    "duration": 3,
    "start_time": "2022-01-17T17:38:14.929Z"
   },
   {
    "duration": 72,
    "start_time": "2022-01-17T17:38:14.935Z"
   },
   {
    "duration": 25,
    "start_time": "2022-01-17T17:38:15.009Z"
   },
   {
    "duration": 31,
    "start_time": "2022-01-17T17:38:15.036Z"
   },
   {
    "duration": 7,
    "start_time": "2022-01-17T17:38:15.069Z"
   },
   {
    "duration": 11,
    "start_time": "2022-01-17T17:38:15.078Z"
   },
   {
    "duration": 6,
    "start_time": "2022-01-17T17:38:15.090Z"
   },
   {
    "duration": 9,
    "start_time": "2022-01-17T17:38:15.098Z"
   },
   {
    "duration": 12,
    "start_time": "2022-01-17T17:38:15.110Z"
   },
   {
    "duration": 56,
    "start_time": "2022-01-17T17:38:15.124Z"
   },
   {
    "duration": 733,
    "start_time": "2022-01-17T17:38:15.182Z"
   },
   {
    "duration": 48,
    "start_time": "2022-01-17T17:38:15.917Z"
   },
   {
    "duration": 40,
    "start_time": "2022-01-17T17:38:15.967Z"
   },
   {
    "duration": 20,
    "start_time": "2022-01-17T17:38:16.009Z"
   },
   {
    "duration": 29,
    "start_time": "2022-01-17T17:38:16.031Z"
   },
   {
    "duration": 8,
    "start_time": "2022-01-17T17:38:16.063Z"
   },
   {
    "duration": 17,
    "start_time": "2022-01-17T17:38:16.073Z"
   },
   {
    "duration": 11,
    "start_time": "2022-01-17T17:38:16.092Z"
   },
   {
    "duration": 3,
    "start_time": "2022-01-17T17:38:16.105Z"
   },
   {
    "duration": 55,
    "start_time": "2022-01-17T17:38:16.110Z"
   },
   {
    "duration": 453,
    "start_time": "2022-01-17T17:38:16.166Z"
   },
   {
    "duration": 16,
    "start_time": "2022-01-17T17:38:16.621Z"
   },
   {
    "duration": 503,
    "start_time": "2022-01-17T17:38:16.639Z"
   },
   {
    "duration": 501,
    "start_time": "2022-01-17T17:38:31.030Z"
   },
   {
    "duration": 425,
    "start_time": "2022-01-17T17:39:37.887Z"
   },
   {
    "duration": 386,
    "start_time": "2022-01-17T17:42:28.541Z"
   },
   {
    "duration": 546,
    "start_time": "2022-01-17T17:42:46.979Z"
   },
   {
    "duration": 3,
    "start_time": "2022-01-17T17:43:54.040Z"
   },
   {
    "duration": 68,
    "start_time": "2022-01-17T17:43:54.047Z"
   },
   {
    "duration": 21,
    "start_time": "2022-01-17T17:43:54.117Z"
   },
   {
    "duration": 30,
    "start_time": "2022-01-17T17:43:54.140Z"
   },
   {
    "duration": 8,
    "start_time": "2022-01-17T17:43:54.172Z"
   },
   {
    "duration": 9,
    "start_time": "2022-01-17T17:43:54.181Z"
   },
   {
    "duration": 7,
    "start_time": "2022-01-17T17:43:54.192Z"
   },
   {
    "duration": 9,
    "start_time": "2022-01-17T17:43:54.201Z"
   },
   {
    "duration": 48,
    "start_time": "2022-01-17T17:43:54.213Z"
   },
   {
    "duration": 21,
    "start_time": "2022-01-17T17:43:54.263Z"
   },
   {
    "duration": 725,
    "start_time": "2022-01-17T17:43:54.286Z"
   },
   {
    "duration": 152,
    "start_time": "2022-01-17T17:43:55.013Z"
   },
   {
    "duration": 40,
    "start_time": "2022-01-17T17:43:55.167Z"
   },
   {
    "duration": 20,
    "start_time": "2022-01-17T17:43:55.208Z"
   },
   {
    "duration": 33,
    "start_time": "2022-01-17T17:43:55.230Z"
   },
   {
    "duration": 9,
    "start_time": "2022-01-17T17:43:55.265Z"
   },
   {
    "duration": 20,
    "start_time": "2022-01-17T17:43:55.276Z"
   },
   {
    "duration": 14,
    "start_time": "2022-01-17T17:43:55.298Z"
   },
   {
    "duration": 11,
    "start_time": "2022-01-17T17:43:55.314Z"
   },
   {
    "duration": 50,
    "start_time": "2022-01-17T17:43:55.327Z"
   },
   {
    "duration": 403,
    "start_time": "2022-01-17T17:43:55.379Z"
   },
   {
    "duration": 16,
    "start_time": "2022-01-17T17:43:55.784Z"
   },
   {
    "duration": 616,
    "start_time": "2022-01-17T17:43:55.802Z"
   },
   {
    "duration": 605,
    "start_time": "2022-01-17T17:44:44.565Z"
   },
   {
    "duration": 2,
    "start_time": "2022-01-17T17:45:23.426Z"
   },
   {
    "duration": 69,
    "start_time": "2022-01-17T17:45:23.432Z"
   },
   {
    "duration": 23,
    "start_time": "2022-01-17T17:45:23.503Z"
   },
   {
    "duration": 11,
    "start_time": "2022-01-17T17:45:23.528Z"
   },
   {
    "duration": 8,
    "start_time": "2022-01-17T17:45:23.560Z"
   },
   {
    "duration": 9,
    "start_time": "2022-01-17T17:45:23.570Z"
   },
   {
    "duration": 6,
    "start_time": "2022-01-17T17:45:23.581Z"
   },
   {
    "duration": 14,
    "start_time": "2022-01-17T17:45:23.589Z"
   },
   {
    "duration": 18,
    "start_time": "2022-01-17T17:45:23.606Z"
   },
   {
    "duration": 52,
    "start_time": "2022-01-17T17:45:23.626Z"
   },
   {
    "duration": 740,
    "start_time": "2022-01-17T17:45:23.680Z"
   },
   {
    "duration": 48,
    "start_time": "2022-01-17T17:45:24.422Z"
   },
   {
    "duration": 44,
    "start_time": "2022-01-17T17:45:24.471Z"
   },
   {
    "duration": 19,
    "start_time": "2022-01-17T17:45:24.517Z"
   },
   {
    "duration": 9,
    "start_time": "2022-01-17T17:45:24.561Z"
   },
   {
    "duration": 9,
    "start_time": "2022-01-17T17:45:24.572Z"
   },
   {
    "duration": 18,
    "start_time": "2022-01-17T17:45:24.583Z"
   },
   {
    "duration": 12,
    "start_time": "2022-01-17T17:45:24.603Z"
   },
   {
    "duration": 5,
    "start_time": "2022-01-17T17:45:24.616Z"
   },
   {
    "duration": 56,
    "start_time": "2022-01-17T17:45:24.623Z"
   },
   {
    "duration": 489,
    "start_time": "2022-01-17T17:45:24.681Z"
   },
   {
    "duration": 19,
    "start_time": "2022-01-17T17:45:25.171Z"
   },
   {
    "duration": 691,
    "start_time": "2022-01-17T17:45:25.192Z"
   },
   {
    "duration": 10,
    "start_time": "2022-01-17T17:45:25.886Z"
   },
   {
    "duration": 475,
    "start_time": "2022-01-17T17:45:25.898Z"
   },
   {
    "duration": 477,
    "start_time": "2022-01-17T17:45:26.375Z"
   },
   {
    "duration": 609,
    "start_time": "2022-01-17T17:45:54.256Z"
   },
   {
    "duration": 3,
    "start_time": "2022-01-17T17:46:01.384Z"
   },
   {
    "duration": 106,
    "start_time": "2022-01-17T17:46:01.391Z"
   },
   {
    "duration": 25,
    "start_time": "2022-01-17T17:46:01.500Z"
   },
   {
    "duration": 37,
    "start_time": "2022-01-17T17:46:01.527Z"
   },
   {
    "duration": 8,
    "start_time": "2022-01-17T17:46:01.566Z"
   },
   {
    "duration": 11,
    "start_time": "2022-01-17T17:46:01.576Z"
   },
   {
    "duration": 14,
    "start_time": "2022-01-17T17:46:01.588Z"
   },
   {
    "duration": 31,
    "start_time": "2022-01-17T17:46:01.604Z"
   },
   {
    "duration": 164,
    "start_time": "2022-01-17T17:46:01.637Z"
   },
   {
    "duration": 29,
    "start_time": "2022-01-17T17:46:01.804Z"
   },
   {
    "duration": 759,
    "start_time": "2022-01-17T17:46:01.835Z"
   },
   {
    "duration": 37,
    "start_time": "2022-01-17T17:46:02.596Z"
   },
   {
    "duration": 56,
    "start_time": "2022-01-17T17:46:02.635Z"
   },
   {
    "duration": 17,
    "start_time": "2022-01-17T17:46:02.692Z"
   },
   {
    "duration": 8,
    "start_time": "2022-01-17T17:46:02.711Z"
   },
   {
    "duration": 9,
    "start_time": "2022-01-17T17:46:02.721Z"
   },
   {
    "duration": 39,
    "start_time": "2022-01-17T17:46:02.731Z"
   },
   {
    "duration": 12,
    "start_time": "2022-01-17T17:46:02.772Z"
   },
   {
    "duration": 3,
    "start_time": "2022-01-17T17:46:02.786Z"
   },
   {
    "duration": 27,
    "start_time": "2022-01-17T17:46:02.791Z"
   },
   {
    "duration": 367,
    "start_time": "2022-01-17T17:46:02.820Z"
   },
   {
    "duration": 17,
    "start_time": "2022-01-17T17:46:03.189Z"
   },
   {
    "duration": 612,
    "start_time": "2022-01-17T17:46:03.208Z"
   },
   {
    "duration": 11,
    "start_time": "2022-01-17T17:46:03.824Z"
   },
   {
    "duration": 617,
    "start_time": "2022-01-17T17:46:03.837Z"
   },
   {
    "duration": 12,
    "start_time": "2022-01-17T17:46:24.308Z"
   },
   {
    "duration": 3,
    "start_time": "2022-01-17T17:46:29.134Z"
   },
   {
    "duration": 84,
    "start_time": "2022-01-17T17:46:29.141Z"
   },
   {
    "duration": 22,
    "start_time": "2022-01-17T17:46:29.227Z"
   },
   {
    "duration": 45,
    "start_time": "2022-01-17T17:46:29.251Z"
   },
   {
    "duration": 18,
    "start_time": "2022-01-17T17:46:29.299Z"
   },
   {
    "duration": 25,
    "start_time": "2022-01-17T17:46:29.319Z"
   },
   {
    "duration": 13,
    "start_time": "2022-01-17T17:46:29.345Z"
   },
   {
    "duration": 35,
    "start_time": "2022-01-17T17:46:29.360Z"
   },
   {
    "duration": 24,
    "start_time": "2022-01-17T17:46:29.398Z"
   },
   {
    "duration": 29,
    "start_time": "2022-01-17T17:46:29.424Z"
   },
   {
    "duration": 993,
    "start_time": "2022-01-17T17:46:29.455Z"
   },
   {
    "duration": 45,
    "start_time": "2022-01-17T17:46:30.449Z"
   },
   {
    "duration": 43,
    "start_time": "2022-01-17T17:46:30.496Z"
   },
   {
    "duration": 37,
    "start_time": "2022-01-17T17:46:30.541Z"
   },
   {
    "duration": 20,
    "start_time": "2022-01-17T17:46:30.580Z"
   },
   {
    "duration": 35,
    "start_time": "2022-01-17T17:46:30.601Z"
   },
   {
    "duration": 36,
    "start_time": "2022-01-17T17:46:30.639Z"
   },
   {
    "duration": 14,
    "start_time": "2022-01-17T17:46:30.678Z"
   },
   {
    "duration": 15,
    "start_time": "2022-01-17T17:46:30.693Z"
   },
   {
    "duration": 65,
    "start_time": "2022-01-17T17:46:30.710Z"
   },
   {
    "duration": 382,
    "start_time": "2022-01-17T17:46:30.778Z"
   },
   {
    "duration": 17,
    "start_time": "2022-01-17T17:46:31.162Z"
   },
   {
    "duration": 632,
    "start_time": "2022-01-17T17:46:31.180Z"
   },
   {
    "duration": 11,
    "start_time": "2022-01-17T17:46:38.642Z"
   },
   {
    "duration": 12,
    "start_time": "2022-01-17T17:46:44.485Z"
   },
   {
    "duration": 11,
    "start_time": "2022-01-17T17:46:48.122Z"
   },
   {
    "duration": 12,
    "start_time": "2022-01-17T17:46:51.105Z"
   },
   {
    "duration": 11,
    "start_time": "2022-01-17T17:46:54.538Z"
   },
   {
    "duration": 12,
    "start_time": "2022-01-17T17:46:57.641Z"
   },
   {
    "duration": 12,
    "start_time": "2022-01-17T17:47:11.086Z"
   },
   {
    "duration": 11,
    "start_time": "2022-01-17T17:47:15.660Z"
   },
   {
    "duration": 11,
    "start_time": "2022-01-17T17:47:19.552Z"
   },
   {
    "duration": 12,
    "start_time": "2022-01-17T17:47:25.818Z"
   },
   {
    "duration": 11,
    "start_time": "2022-01-17T17:47:28.504Z"
   },
   {
    "duration": 11,
    "start_time": "2022-01-17T17:47:32.791Z"
   },
   {
    "duration": 11,
    "start_time": "2022-01-17T17:47:40.357Z"
   },
   {
    "duration": 12,
    "start_time": "2022-01-17T17:47:43.337Z"
   },
   {
    "duration": 11,
    "start_time": "2022-01-17T17:47:46.206Z"
   },
   {
    "duration": 598,
    "start_time": "2022-01-17T17:47:51.545Z"
   },
   {
    "duration": 3,
    "start_time": "2022-01-17T17:51:11.149Z"
   },
   {
    "duration": 94,
    "start_time": "2022-01-17T17:51:11.155Z"
   },
   {
    "duration": 23,
    "start_time": "2022-01-17T17:51:11.250Z"
   },
   {
    "duration": 22,
    "start_time": "2022-01-17T17:51:11.275Z"
   },
   {
    "duration": 13,
    "start_time": "2022-01-17T17:51:11.300Z"
   },
   {
    "duration": 20,
    "start_time": "2022-01-17T17:51:11.315Z"
   },
   {
    "duration": 32,
    "start_time": "2022-01-17T17:51:11.337Z"
   },
   {
    "duration": 35,
    "start_time": "2022-01-17T17:51:11.371Z"
   },
   {
    "duration": 24,
    "start_time": "2022-01-17T17:51:11.409Z"
   },
   {
    "duration": 44,
    "start_time": "2022-01-17T17:51:11.436Z"
   },
   {
    "duration": 747,
    "start_time": "2022-01-17T17:51:11.483Z"
   },
   {
    "duration": 192,
    "start_time": "2022-01-17T17:51:12.232Z"
   },
   {
    "duration": 53,
    "start_time": "2022-01-17T17:51:12.425Z"
   },
   {
    "duration": 18,
    "start_time": "2022-01-17T17:51:12.480Z"
   },
   {
    "duration": 10,
    "start_time": "2022-01-17T17:51:12.500Z"
   },
   {
    "duration": 8,
    "start_time": "2022-01-17T17:51:12.511Z"
   },
   {
    "duration": 41,
    "start_time": "2022-01-17T17:51:12.521Z"
   },
   {
    "duration": 13,
    "start_time": "2022-01-17T17:51:12.563Z"
   },
   {
    "duration": 3,
    "start_time": "2022-01-17T17:51:12.578Z"
   },
   {
    "duration": 29,
    "start_time": "2022-01-17T17:51:12.583Z"
   },
   {
    "duration": 386,
    "start_time": "2022-01-17T17:51:12.614Z"
   },
   {
    "duration": 17,
    "start_time": "2022-01-17T17:51:13.002Z"
   },
   {
    "duration": 14,
    "start_time": "2022-01-17T17:52:31.848Z"
   },
   {
    "duration": 611,
    "start_time": "2022-01-17T17:52:35.757Z"
   },
   {
    "duration": 599,
    "start_time": "2022-01-17T17:52:48.271Z"
   },
   {
    "duration": 69,
    "start_time": "2022-01-17T17:53:40.824Z"
   },
   {
    "duration": 612,
    "start_time": "2022-01-17T17:53:46.476Z"
   },
   {
    "duration": 3,
    "start_time": "2022-01-17T17:53:55.547Z"
   },
   {
    "duration": 75,
    "start_time": "2022-01-17T17:53:55.556Z"
   },
   {
    "duration": 29,
    "start_time": "2022-01-17T17:53:55.633Z"
   },
   {
    "duration": 23,
    "start_time": "2022-01-17T17:53:55.664Z"
   },
   {
    "duration": 15,
    "start_time": "2022-01-17T17:53:55.689Z"
   },
   {
    "duration": 18,
    "start_time": "2022-01-17T17:53:55.706Z"
   },
   {
    "duration": 9,
    "start_time": "2022-01-17T17:53:55.726Z"
   },
   {
    "duration": 27,
    "start_time": "2022-01-17T17:53:55.736Z"
   },
   {
    "duration": 25,
    "start_time": "2022-01-17T17:53:55.766Z"
   },
   {
    "duration": 27,
    "start_time": "2022-01-17T17:53:55.793Z"
   },
   {
    "duration": 871,
    "start_time": "2022-01-17T17:53:55.821Z"
   },
   {
    "duration": 39,
    "start_time": "2022-01-17T17:53:56.694Z"
   },
   {
    "duration": 63,
    "start_time": "2022-01-17T17:53:56.735Z"
   },
   {
    "duration": 24,
    "start_time": "2022-01-17T17:53:56.800Z"
   },
   {
    "duration": 11,
    "start_time": "2022-01-17T17:53:56.826Z"
   },
   {
    "duration": 30,
    "start_time": "2022-01-17T17:53:56.838Z"
   },
   {
    "duration": 22,
    "start_time": "2022-01-17T17:53:56.870Z"
   },
   {
    "duration": 14,
    "start_time": "2022-01-17T17:53:56.894Z"
   },
   {
    "duration": 19,
    "start_time": "2022-01-17T17:53:56.910Z"
   },
   {
    "duration": 35,
    "start_time": "2022-01-17T17:53:56.930Z"
   },
   {
    "duration": 357,
    "start_time": "2022-01-17T17:53:56.967Z"
   },
   {
    "duration": 18,
    "start_time": "2022-01-17T17:53:57.327Z"
   },
   {
    "duration": 640,
    "start_time": "2022-01-17T17:54:00.333Z"
   },
   {
    "duration": 625,
    "start_time": "2022-01-17T17:54:18.371Z"
   },
   {
    "duration": 589,
    "start_time": "2022-01-17T17:55:07.649Z"
   },
   {
    "duration": 745,
    "start_time": "2022-01-17T17:55:16.525Z"
   },
   {
    "duration": 12,
    "start_time": "2022-01-17T17:55:27.538Z"
   },
   {
    "duration": 2,
    "start_time": "2022-01-17T17:55:32.366Z"
   },
   {
    "duration": 74,
    "start_time": "2022-01-17T17:55:32.372Z"
   },
   {
    "duration": 23,
    "start_time": "2022-01-17T17:55:32.448Z"
   },
   {
    "duration": 22,
    "start_time": "2022-01-17T17:55:32.473Z"
   },
   {
    "duration": 7,
    "start_time": "2022-01-17T17:55:32.497Z"
   },
   {
    "duration": 15,
    "start_time": "2022-01-17T17:55:32.506Z"
   },
   {
    "duration": 17,
    "start_time": "2022-01-17T17:55:32.523Z"
   },
   {
    "duration": 20,
    "start_time": "2022-01-17T17:55:32.542Z"
   },
   {
    "duration": 14,
    "start_time": "2022-01-17T17:55:32.565Z"
   },
   {
    "duration": 22,
    "start_time": "2022-01-17T17:55:32.581Z"
   },
   {
    "duration": 722,
    "start_time": "2022-01-17T17:55:32.605Z"
   },
   {
    "duration": 50,
    "start_time": "2022-01-17T17:55:33.329Z"
   },
   {
    "duration": 41,
    "start_time": "2022-01-17T17:55:33.381Z"
   },
   {
    "duration": 19,
    "start_time": "2022-01-17T17:55:33.423Z"
   },
   {
    "duration": 21,
    "start_time": "2022-01-17T17:55:33.443Z"
   },
   {
    "duration": 22,
    "start_time": "2022-01-17T17:55:33.465Z"
   },
   {
    "duration": 32,
    "start_time": "2022-01-17T17:55:33.489Z"
   },
   {
    "duration": 12,
    "start_time": "2022-01-17T17:55:33.523Z"
   },
   {
    "duration": 6,
    "start_time": "2022-01-17T17:55:33.537Z"
   },
   {
    "duration": 32,
    "start_time": "2022-01-17T17:55:33.545Z"
   },
   {
    "duration": 359,
    "start_time": "2022-01-17T17:55:33.579Z"
   },
   {
    "duration": 21,
    "start_time": "2022-01-17T17:55:33.940Z"
   },
   {
    "duration": 614,
    "start_time": "2022-01-17T17:55:33.963Z"
   },
   {
    "duration": 12,
    "start_time": "2022-01-17T17:55:38.132Z"
   },
   {
    "duration": 621,
    "start_time": "2022-01-17T17:58:33.627Z"
   },
   {
    "duration": 793,
    "start_time": "2022-01-17T17:59:01.767Z"
   },
   {
    "duration": 576,
    "start_time": "2022-01-17T17:59:40.268Z"
   },
   {
    "duration": 433,
    "start_time": "2022-01-17T18:05:28.497Z"
   },
   {
    "duration": 1518,
    "start_time": "2022-01-17T18:06:51.440Z"
   },
   {
    "duration": 1416,
    "start_time": "2022-01-17T18:07:03.434Z"
   },
   {
    "duration": 1619,
    "start_time": "2022-01-17T18:07:14.964Z"
   },
   {
    "duration": 3,
    "start_time": "2022-01-17T18:07:22.643Z"
   },
   {
    "duration": 70,
    "start_time": "2022-01-17T18:07:22.650Z"
   },
   {
    "duration": 24,
    "start_time": "2022-01-17T18:07:22.722Z"
   },
   {
    "duration": 26,
    "start_time": "2022-01-17T18:07:22.748Z"
   },
   {
    "duration": 26,
    "start_time": "2022-01-17T18:07:22.777Z"
   },
   {
    "duration": 17,
    "start_time": "2022-01-17T18:07:22.804Z"
   },
   {
    "duration": 6,
    "start_time": "2022-01-17T18:07:22.822Z"
   },
   {
    "duration": 16,
    "start_time": "2022-01-17T18:07:22.830Z"
   },
   {
    "duration": 28,
    "start_time": "2022-01-17T18:07:22.849Z"
   },
   {
    "duration": 30,
    "start_time": "2022-01-17T18:07:22.880Z"
   },
   {
    "duration": 767,
    "start_time": "2022-01-17T18:07:22.913Z"
   },
   {
    "duration": 38,
    "start_time": "2022-01-17T18:07:23.682Z"
   },
   {
    "duration": 66,
    "start_time": "2022-01-17T18:07:23.721Z"
   },
   {
    "duration": 18,
    "start_time": "2022-01-17T18:07:23.789Z"
   },
   {
    "duration": 8,
    "start_time": "2022-01-17T18:07:23.809Z"
   },
   {
    "duration": 8,
    "start_time": "2022-01-17T18:07:23.819Z"
   },
   {
    "duration": 43,
    "start_time": "2022-01-17T18:07:23.829Z"
   },
   {
    "duration": 13,
    "start_time": "2022-01-17T18:07:23.875Z"
   },
   {
    "duration": 5,
    "start_time": "2022-01-17T18:07:23.890Z"
   },
   {
    "duration": 22,
    "start_time": "2022-01-17T18:07:23.897Z"
   },
   {
    "duration": 387,
    "start_time": "2022-01-17T18:07:23.921Z"
   },
   {
    "duration": 17,
    "start_time": "2022-01-17T18:07:24.310Z"
   },
   {
    "duration": 816,
    "start_time": "2022-01-17T18:07:24.329Z"
   },
   {
    "duration": 18,
    "start_time": "2022-01-17T18:07:25.149Z"
   },
   {
    "duration": 508,
    "start_time": "2022-01-17T18:07:25.169Z"
   },
   {
    "duration": 1571,
    "start_time": "2022-01-17T18:07:25.679Z"
   },
   {
    "duration": 1581,
    "start_time": "2022-01-17T18:07:27.252Z"
   },
   {
    "duration": 1581,
    "start_time": "2022-01-17T18:07:39.987Z"
   },
   {
    "duration": 1411,
    "start_time": "2022-01-17T18:07:50.176Z"
   },
   {
    "duration": 1787,
    "start_time": "2022-01-17T18:08:00.394Z"
   },
   {
    "duration": 1816,
    "start_time": "2022-01-17T18:08:26.275Z"
   },
   {
    "duration": 255,
    "start_time": "2022-01-17T18:11:23.031Z"
   },
   {
    "duration": 5,
    "start_time": "2022-01-17T18:11:29.326Z"
   },
   {
    "duration": 5,
    "start_time": "2022-01-17T18:11:45.038Z"
   },
   {
    "duration": 72,
    "start_time": "2022-01-17T18:11:45.047Z"
   },
   {
    "duration": 25,
    "start_time": "2022-01-17T18:11:45.121Z"
   },
   {
    "duration": 13,
    "start_time": "2022-01-17T18:11:45.161Z"
   },
   {
    "duration": 10,
    "start_time": "2022-01-17T18:11:45.177Z"
   },
   {
    "duration": 11,
    "start_time": "2022-01-17T18:11:45.189Z"
   },
   {
    "duration": 7,
    "start_time": "2022-01-17T18:11:45.202Z"
   },
   {
    "duration": 57,
    "start_time": "2022-01-17T18:11:45.211Z"
   },
   {
    "duration": 14,
    "start_time": "2022-01-17T18:11:45.271Z"
   },
   {
    "duration": 22,
    "start_time": "2022-01-17T18:11:45.287Z"
   },
   {
    "duration": 814,
    "start_time": "2022-01-17T18:11:45.311Z"
   },
   {
    "duration": 51,
    "start_time": "2022-01-17T18:11:46.127Z"
   },
   {
    "duration": 44,
    "start_time": "2022-01-17T18:11:46.181Z"
   },
   {
    "duration": 37,
    "start_time": "2022-01-17T18:11:46.227Z"
   },
   {
    "duration": 8,
    "start_time": "2022-01-17T18:11:46.266Z"
   },
   {
    "duration": 10,
    "start_time": "2022-01-17T18:11:46.276Z"
   },
   {
    "duration": 33,
    "start_time": "2022-01-17T18:11:46.288Z"
   },
   {
    "duration": 14,
    "start_time": "2022-01-17T18:11:46.323Z"
   },
   {
    "duration": 24,
    "start_time": "2022-01-17T18:11:46.339Z"
   },
   {
    "duration": 31,
    "start_time": "2022-01-17T18:11:46.365Z"
   },
   {
    "duration": 371,
    "start_time": "2022-01-17T18:11:46.397Z"
   },
   {
    "duration": 18,
    "start_time": "2022-01-17T18:11:46.770Z"
   },
   {
    "duration": 613,
    "start_time": "2022-01-17T18:11:46.790Z"
   },
   {
    "duration": 12,
    "start_time": "2022-01-17T18:11:47.406Z"
   },
   {
    "duration": 416,
    "start_time": "2022-01-17T18:11:47.420Z"
   },
   {
    "duration": 1494,
    "start_time": "2022-01-17T18:11:47.838Z"
   },
   {
    "duration": 1498,
    "start_time": "2022-01-17T18:11:49.333Z"
   },
   {
    "duration": 594,
    "start_time": "2022-01-17T18:12:10.172Z"
   },
   {
    "duration": 600,
    "start_time": "2022-01-17T18:12:20.847Z"
   },
   {
    "duration": 546,
    "start_time": "2022-01-17T18:12:37.189Z"
   },
   {
    "duration": 4,
    "start_time": "2022-01-17T18:14:40.895Z"
   },
   {
    "duration": 68,
    "start_time": "2022-01-17T18:14:40.902Z"
   },
   {
    "duration": 23,
    "start_time": "2022-01-17T18:14:40.972Z"
   },
   {
    "duration": 14,
    "start_time": "2022-01-17T18:14:40.997Z"
   },
   {
    "duration": 8,
    "start_time": "2022-01-17T18:14:41.012Z"
   },
   {
    "duration": 41,
    "start_time": "2022-01-17T18:14:41.021Z"
   },
   {
    "duration": 7,
    "start_time": "2022-01-17T18:14:41.064Z"
   },
   {
    "duration": 9,
    "start_time": "2022-01-17T18:14:41.073Z"
   },
   {
    "duration": 14,
    "start_time": "2022-01-17T18:14:41.085Z"
   },
   {
    "duration": 21,
    "start_time": "2022-01-17T18:14:41.101Z"
   },
   {
    "duration": 894,
    "start_time": "2022-01-17T18:14:41.124Z"
   },
   {
    "duration": 55,
    "start_time": "2022-01-17T18:14:42.020Z"
   },
   {
    "duration": 42,
    "start_time": "2022-01-17T18:14:42.077Z"
   },
   {
    "duration": 19,
    "start_time": "2022-01-17T18:14:42.121Z"
   },
   {
    "duration": 25,
    "start_time": "2022-01-17T18:14:42.141Z"
   },
   {
    "duration": 11,
    "start_time": "2022-01-17T18:14:42.168Z"
   },
   {
    "duration": 21,
    "start_time": "2022-01-17T18:14:42.181Z"
   },
   {
    "duration": 12,
    "start_time": "2022-01-17T18:14:42.203Z"
   },
   {
    "duration": 4,
    "start_time": "2022-01-17T18:14:42.217Z"
   },
   {
    "duration": 53,
    "start_time": "2022-01-17T18:14:42.222Z"
   },
   {
    "duration": 550,
    "start_time": "2022-01-17T18:14:42.276Z"
   },
   {
    "duration": 15,
    "start_time": "2022-01-17T18:14:42.828Z"
   },
   {
    "duration": 573,
    "start_time": "2022-01-17T18:14:42.845Z"
   },
   {
    "duration": 11,
    "start_time": "2022-01-17T18:14:43.420Z"
   },
   {
    "duration": 415,
    "start_time": "2022-01-17T18:14:43.432Z"
   },
   {
    "duration": 560,
    "start_time": "2022-01-17T18:15:08.051Z"
   },
   {
    "duration": 464,
    "start_time": "2022-01-17T18:15:44.476Z"
   },
   {
    "duration": 672,
    "start_time": "2022-01-17T18:16:11.178Z"
   },
   {
    "duration": 4,
    "start_time": "2022-01-17T18:23:17.166Z"
   },
   {
    "duration": 70,
    "start_time": "2022-01-17T18:23:17.174Z"
   },
   {
    "duration": 33,
    "start_time": "2022-01-17T18:23:17.246Z"
   },
   {
    "duration": 12,
    "start_time": "2022-01-17T18:23:17.283Z"
   },
   {
    "duration": 8,
    "start_time": "2022-01-17T18:23:17.297Z"
   },
   {
    "duration": 10,
    "start_time": "2022-01-17T18:23:17.307Z"
   },
   {
    "duration": 45,
    "start_time": "2022-01-17T18:23:17.319Z"
   },
   {
    "duration": 14,
    "start_time": "2022-01-17T18:23:17.366Z"
   },
   {
    "duration": 16,
    "start_time": "2022-01-17T18:23:17.384Z"
   },
   {
    "duration": 21,
    "start_time": "2022-01-17T18:23:17.403Z"
   },
   {
    "duration": 784,
    "start_time": "2022-01-17T18:23:17.426Z"
   },
   {
    "duration": 51,
    "start_time": "2022-01-17T18:23:18.212Z"
   },
   {
    "duration": 49,
    "start_time": "2022-01-17T18:23:18.265Z"
   },
   {
    "duration": 19,
    "start_time": "2022-01-17T18:23:18.316Z"
   },
   {
    "duration": 30,
    "start_time": "2022-01-17T18:23:18.336Z"
   },
   {
    "duration": 10,
    "start_time": "2022-01-17T18:23:18.368Z"
   },
   {
    "duration": 22,
    "start_time": "2022-01-17T18:23:18.380Z"
   },
   {
    "duration": 12,
    "start_time": "2022-01-17T18:23:18.404Z"
   },
   {
    "duration": 3,
    "start_time": "2022-01-17T18:23:18.418Z"
   },
   {
    "duration": 54,
    "start_time": "2022-01-17T18:23:18.423Z"
   },
   {
    "duration": 368,
    "start_time": "2022-01-17T18:23:18.479Z"
   },
   {
    "duration": 21,
    "start_time": "2022-01-17T18:23:18.849Z"
   },
   {
    "duration": 575,
    "start_time": "2022-01-17T18:23:18.872Z"
   },
   {
    "duration": 11,
    "start_time": "2022-01-17T18:23:33.898Z"
   },
   {
    "duration": 11,
    "start_time": "2022-01-17T18:23:38.811Z"
   },
   {
    "duration": 11,
    "start_time": "2022-01-17T18:23:41.967Z"
   },
   {
    "duration": 11,
    "start_time": "2022-01-17T18:23:48.249Z"
   },
   {
    "duration": 11,
    "start_time": "2022-01-17T18:23:51.976Z"
   },
   {
    "duration": 391,
    "start_time": "2022-01-17T18:24:26.796Z"
   },
   {
    "duration": 409,
    "start_time": "2022-01-17T18:24:35.126Z"
   },
   {
    "duration": 4,
    "start_time": "2022-01-17T18:26:03.785Z"
   },
   {
    "duration": 84,
    "start_time": "2022-01-17T18:26:03.793Z"
   },
   {
    "duration": 22,
    "start_time": "2022-01-17T18:26:03.878Z"
   },
   {
    "duration": 19,
    "start_time": "2022-01-17T18:26:03.902Z"
   },
   {
    "duration": 38,
    "start_time": "2022-01-17T18:26:03.923Z"
   },
   {
    "duration": 34,
    "start_time": "2022-01-17T18:26:03.962Z"
   },
   {
    "duration": 13,
    "start_time": "2022-01-17T18:26:03.998Z"
   },
   {
    "duration": 30,
    "start_time": "2022-01-17T18:26:04.012Z"
   },
   {
    "duration": 197,
    "start_time": "2022-01-17T18:26:04.045Z"
   },
   {
    "duration": 43,
    "start_time": "2022-01-17T18:26:04.244Z"
   },
   {
    "duration": 738,
    "start_time": "2022-01-17T18:26:04.289Z"
   },
   {
    "duration": 53,
    "start_time": "2022-01-17T18:26:05.028Z"
   },
   {
    "duration": 42,
    "start_time": "2022-01-17T18:26:05.083Z"
   },
   {
    "duration": 18,
    "start_time": "2022-01-17T18:26:05.126Z"
   },
   {
    "duration": 9,
    "start_time": "2022-01-17T18:26:05.161Z"
   },
   {
    "duration": 57,
    "start_time": "2022-01-17T18:26:05.172Z"
   },
   {
    "duration": 52,
    "start_time": "2022-01-17T18:26:05.231Z"
   },
   {
    "duration": 21,
    "start_time": "2022-01-17T18:26:05.285Z"
   },
   {
    "duration": 8,
    "start_time": "2022-01-17T18:26:05.308Z"
   },
   {
    "duration": 42,
    "start_time": "2022-01-17T18:26:05.317Z"
   },
   {
    "duration": 474,
    "start_time": "2022-01-17T18:26:05.362Z"
   },
   {
    "duration": 24,
    "start_time": "2022-01-17T18:26:05.838Z"
   },
   {
    "duration": 567,
    "start_time": "2022-01-17T18:26:05.863Z"
   },
   {
    "duration": 630,
    "start_time": "2022-01-17T18:26:19.834Z"
   },
   {
    "duration": 462,
    "start_time": "2022-01-17T18:29:17.300Z"
   },
   {
    "duration": 663,
    "start_time": "2022-01-17T18:30:13.198Z"
   },
   {
    "duration": 4,
    "start_time": "2022-01-17T18:30:20.611Z"
   },
   {
    "duration": 92,
    "start_time": "2022-01-17T18:30:20.618Z"
   },
   {
    "duration": 26,
    "start_time": "2022-01-17T18:30:20.713Z"
   },
   {
    "duration": 15,
    "start_time": "2022-01-17T18:30:20.762Z"
   },
   {
    "duration": 8,
    "start_time": "2022-01-17T18:30:20.780Z"
   },
   {
    "duration": 15,
    "start_time": "2022-01-17T18:30:20.790Z"
   },
   {
    "duration": 9,
    "start_time": "2022-01-17T18:30:20.806Z"
   },
   {
    "duration": 11,
    "start_time": "2022-01-17T18:30:20.816Z"
   },
   {
    "duration": 19,
    "start_time": "2022-01-17T18:30:20.863Z"
   },
   {
    "duration": 24,
    "start_time": "2022-01-17T18:30:20.884Z"
   },
   {
    "duration": 935,
    "start_time": "2022-01-17T18:30:20.911Z"
   },
   {
    "duration": 49,
    "start_time": "2022-01-17T18:30:21.848Z"
   },
   {
    "duration": 44,
    "start_time": "2022-01-17T18:30:21.899Z"
   },
   {
    "duration": 21,
    "start_time": "2022-01-17T18:30:21.961Z"
   },
   {
    "duration": 10,
    "start_time": "2022-01-17T18:30:21.984Z"
   },
   {
    "duration": 8,
    "start_time": "2022-01-17T18:30:21.998Z"
   },
   {
    "duration": 53,
    "start_time": "2022-01-17T18:30:22.008Z"
   },
   {
    "duration": 15,
    "start_time": "2022-01-17T18:30:22.063Z"
   },
   {
    "duration": 4,
    "start_time": "2022-01-17T18:30:22.080Z"
   },
   {
    "duration": 36,
    "start_time": "2022-01-17T18:30:22.086Z"
   },
   {
    "duration": 382,
    "start_time": "2022-01-17T18:30:22.124Z"
   },
   {
    "duration": 18,
    "start_time": "2022-01-17T18:30:22.507Z"
   },
   {
    "duration": 576,
    "start_time": "2022-01-17T18:30:22.527Z"
   },
   {
    "duration": 13,
    "start_time": "2022-01-17T18:30:23.106Z"
   },
   {
    "duration": 509,
    "start_time": "2022-01-17T18:30:23.122Z"
   },
   {
    "duration": 656,
    "start_time": "2022-01-17T18:30:30.607Z"
   },
   {
    "duration": 536,
    "start_time": "2022-01-17T18:31:08.409Z"
   },
   {
    "duration": 510,
    "start_time": "2022-01-17T18:33:02.739Z"
   },
   {
    "duration": 464,
    "start_time": "2022-01-17T18:33:27.079Z"
   },
   {
    "duration": 574,
    "start_time": "2022-01-17T18:34:29.186Z"
   },
   {
    "duration": 713,
    "start_time": "2022-01-17T18:35:04.680Z"
   },
   {
    "duration": 544,
    "start_time": "2022-01-17T18:39:28.786Z"
   },
   {
    "duration": 1238,
    "start_time": "2022-01-17T18:42:57.884Z"
   },
   {
    "duration": 4,
    "start_time": "2022-01-17T18:43:08.422Z"
   },
   {
    "duration": 68,
    "start_time": "2022-01-17T18:43:08.430Z"
   },
   {
    "duration": 21,
    "start_time": "2022-01-17T18:43:08.500Z"
   },
   {
    "duration": 11,
    "start_time": "2022-01-17T18:43:08.523Z"
   },
   {
    "duration": 27,
    "start_time": "2022-01-17T18:43:08.535Z"
   },
   {
    "duration": 9,
    "start_time": "2022-01-17T18:43:08.564Z"
   },
   {
    "duration": 6,
    "start_time": "2022-01-17T18:43:08.575Z"
   },
   {
    "duration": 10,
    "start_time": "2022-01-17T18:43:08.582Z"
   },
   {
    "duration": 14,
    "start_time": "2022-01-17T18:43:08.596Z"
   },
   {
    "duration": 57,
    "start_time": "2022-01-17T18:43:08.613Z"
   },
   {
    "duration": 909,
    "start_time": "2022-01-17T18:43:08.672Z"
   },
   {
    "duration": 36,
    "start_time": "2022-01-17T18:43:09.583Z"
   },
   {
    "duration": 60,
    "start_time": "2022-01-17T18:43:09.621Z"
   },
   {
    "duration": 18,
    "start_time": "2022-01-17T18:43:09.683Z"
   },
   {
    "duration": 7,
    "start_time": "2022-01-17T18:43:09.703Z"
   },
   {
    "duration": 18,
    "start_time": "2022-01-17T18:43:09.712Z"
   },
   {
    "duration": 35,
    "start_time": "2022-01-17T18:43:09.731Z"
   },
   {
    "duration": 14,
    "start_time": "2022-01-17T18:43:09.768Z"
   },
   {
    "duration": 3,
    "start_time": "2022-01-17T18:43:09.784Z"
   },
   {
    "duration": 27,
    "start_time": "2022-01-17T18:43:09.789Z"
   },
   {
    "duration": 408,
    "start_time": "2022-01-17T18:43:09.818Z"
   },
   {
    "duration": 17,
    "start_time": "2022-01-17T18:43:10.227Z"
   },
   {
    "duration": 1661,
    "start_time": "2022-01-17T18:43:10.245Z"
   },
   {
    "duration": 4,
    "start_time": "2022-01-17T18:44:52.461Z"
   },
   {
    "duration": 66,
    "start_time": "2022-01-17T18:44:52.468Z"
   },
   {
    "duration": 30,
    "start_time": "2022-01-17T18:44:52.536Z"
   },
   {
    "duration": 10,
    "start_time": "2022-01-17T18:44:52.569Z"
   },
   {
    "duration": 10,
    "start_time": "2022-01-17T18:44:52.581Z"
   },
   {
    "duration": 8,
    "start_time": "2022-01-17T18:44:52.593Z"
   },
   {
    "duration": 7,
    "start_time": "2022-01-17T18:44:52.602Z"
   },
   {
    "duration": 10,
    "start_time": "2022-01-17T18:44:52.611Z"
   },
   {
    "duration": 52,
    "start_time": "2022-01-17T18:44:52.624Z"
   },
   {
    "duration": 19,
    "start_time": "2022-01-17T18:44:52.678Z"
   },
   {
    "duration": 965,
    "start_time": "2022-01-17T18:44:52.699Z"
   },
   {
    "duration": 39,
    "start_time": "2022-01-17T18:44:53.667Z"
   },
   {
    "duration": 63,
    "start_time": "2022-01-17T18:44:53.708Z"
   },
   {
    "duration": 19,
    "start_time": "2022-01-17T18:44:53.772Z"
   },
   {
    "duration": 12,
    "start_time": "2022-01-17T18:44:53.793Z"
   },
   {
    "duration": 33,
    "start_time": "2022-01-17T18:44:53.807Z"
   },
   {
    "duration": 26,
    "start_time": "2022-01-17T18:44:53.842Z"
   },
   {
    "duration": 21,
    "start_time": "2022-01-17T18:44:53.870Z"
   },
   {
    "duration": 6,
    "start_time": "2022-01-17T18:44:53.892Z"
   },
   {
    "duration": 36,
    "start_time": "2022-01-17T18:44:53.900Z"
   },
   {
    "duration": 360,
    "start_time": "2022-01-17T18:44:53.938Z"
   },
   {
    "duration": 18,
    "start_time": "2022-01-17T18:44:54.299Z"
   },
   {
    "duration": 1376,
    "start_time": "2022-01-17T18:44:54.319Z"
   },
   {
    "duration": 11,
    "start_time": "2022-01-17T18:44:55.699Z"
   },
   {
    "duration": 745,
    "start_time": "2022-01-17T18:44:55.712Z"
   },
   {
    "duration": 560,
    "start_time": "2022-01-17T18:44:56.460Z"
   },
   {
    "duration": 601,
    "start_time": "2022-01-17T18:44:57.022Z"
   },
   {
    "duration": 443,
    "start_time": "2022-01-17T18:44:57.625Z"
   },
   {
    "duration": 526,
    "start_time": "2022-01-17T18:44:58.070Z"
   },
   {
    "duration": 489,
    "start_time": "2022-01-17T18:44:58.597Z"
   },
   {
    "duration": 663,
    "start_time": "2022-01-17T18:44:59.088Z"
   },
   {
    "duration": 803,
    "start_time": "2022-01-17T18:44:59.760Z"
   },
   {
    "duration": 5,
    "start_time": "2022-01-17T18:45:00.565Z"
   },
   {
    "duration": 804,
    "start_time": "2022-01-17T18:45:00.572Z"
   },
   {
    "duration": 9,
    "start_time": "2022-01-17T18:45:01.378Z"
   },
   {
    "duration": 347,
    "start_time": "2022-01-17T18:45:01.389Z"
   },
   {
    "duration": 359,
    "start_time": "2022-01-17T18:45:01.738Z"
   },
   {
    "duration": 365,
    "start_time": "2022-01-17T18:45:02.099Z"
   },
   {
    "duration": 577,
    "start_time": "2022-01-17T18:45:02.466Z"
   },
   {
    "duration": 368,
    "start_time": "2022-01-17T18:45:03.045Z"
   },
   {
    "duration": 440,
    "start_time": "2022-01-17T18:45:03.415Z"
   },
   {
    "duration": 367,
    "start_time": "2022-01-17T18:45:03.860Z"
   },
   {
    "duration": 23,
    "start_time": "2022-01-17T18:45:04.230Z"
   },
   {
    "duration": 34,
    "start_time": "2022-01-17T18:45:04.256Z"
   },
   {
    "duration": 242,
    "start_time": "2022-01-17T18:45:04.293Z"
   },
   {
    "duration": 78,
    "start_time": "2022-01-17T18:45:04.538Z"
   },
   {
    "duration": 220,
    "start_time": "2022-01-17T18:45:04.618Z"
   },
   {
    "duration": 7,
    "start_time": "2022-01-17T18:45:04.840Z"
   },
   {
    "duration": 347,
    "start_time": "2022-01-17T18:45:04.861Z"
   },
   {
    "duration": 216,
    "start_time": "2022-01-17T18:45:05.210Z"
   },
   {
    "duration": 284,
    "start_time": "2022-01-17T18:45:05.427Z"
   },
   {
    "duration": 281,
    "start_time": "2022-01-17T18:45:05.714Z"
   },
   {
    "duration": 10,
    "start_time": "2022-01-17T18:45:05.997Z"
   },
   {
    "duration": 4155,
    "start_time": "2022-01-17T18:45:06.009Z"
   },
   {
    "duration": 5612,
    "start_time": "2022-01-17T18:45:10.166Z"
   },
   {
    "duration": 555,
    "start_time": "2022-01-17T18:48:45.785Z"
   },
   {
    "duration": 4,
    "start_time": "2022-01-17T18:48:55.535Z"
   },
   {
    "duration": 72,
    "start_time": "2022-01-17T18:48:55.543Z"
   },
   {
    "duration": 21,
    "start_time": "2022-01-17T18:48:55.617Z"
   },
   {
    "duration": 29,
    "start_time": "2022-01-17T18:48:55.640Z"
   },
   {
    "duration": 12,
    "start_time": "2022-01-17T18:48:55.671Z"
   },
   {
    "duration": 18,
    "start_time": "2022-01-17T18:48:55.685Z"
   },
   {
    "duration": 6,
    "start_time": "2022-01-17T18:48:55.705Z"
   },
   {
    "duration": 28,
    "start_time": "2022-01-17T18:48:55.712Z"
   },
   {
    "duration": 22,
    "start_time": "2022-01-17T18:48:55.742Z"
   },
   {
    "duration": 27,
    "start_time": "2022-01-17T18:48:55.766Z"
   },
   {
    "duration": 733,
    "start_time": "2022-01-17T18:48:55.795Z"
   },
   {
    "duration": 49,
    "start_time": "2022-01-17T18:48:56.530Z"
   },
   {
    "duration": 42,
    "start_time": "2022-01-17T18:48:56.581Z"
   },
   {
    "duration": 18,
    "start_time": "2022-01-17T18:48:56.625Z"
   },
   {
    "duration": 8,
    "start_time": "2022-01-17T18:48:56.661Z"
   },
   {
    "duration": 40,
    "start_time": "2022-01-17T18:48:56.671Z"
   },
   {
    "duration": 23,
    "start_time": "2022-01-17T18:48:56.713Z"
   },
   {
    "duration": 13,
    "start_time": "2022-01-17T18:48:56.738Z"
   },
   {
    "duration": 26,
    "start_time": "2022-01-17T18:48:56.753Z"
   },
   {
    "duration": 33,
    "start_time": "2022-01-17T18:48:56.781Z"
   },
   {
    "duration": 638,
    "start_time": "2022-01-17T18:48:56.816Z"
   },
   {
    "duration": 17,
    "start_time": "2022-01-17T18:48:57.456Z"
   },
   {
    "duration": 1285,
    "start_time": "2022-01-17T18:48:57.475Z"
   },
   {
    "duration": 12,
    "start_time": "2022-01-17T18:48:58.764Z"
   },
   {
    "duration": 564,
    "start_time": "2022-01-17T18:48:58.778Z"
   },
   {
    "duration": 727,
    "start_time": "2022-01-17T18:48:59.344Z"
   },
   {
    "duration": 7,
    "start_time": "2022-01-17T18:53:43.694Z"
   },
   {
    "duration": 7,
    "start_time": "2022-01-17T18:54:05.513Z"
   },
   {
    "duration": 8,
    "start_time": "2022-01-17T18:54:11.815Z"
   },
   {
    "duration": 7,
    "start_time": "2022-01-17T18:54:19.664Z"
   },
   {
    "duration": 8,
    "start_time": "2022-01-17T18:55:29.750Z"
   },
   {
    "duration": 7,
    "start_time": "2022-01-17T18:55:38.766Z"
   },
   {
    "duration": 13,
    "start_time": "2022-01-17T19:02:39.914Z"
   },
   {
    "duration": 11,
    "start_time": "2022-01-17T19:03:09.556Z"
   },
   {
    "duration": 12,
    "start_time": "2022-01-17T19:03:17.208Z"
   },
   {
    "duration": 12,
    "start_time": "2022-01-17T19:03:27.558Z"
   },
   {
    "duration": 14,
    "start_time": "2022-01-17T19:03:31.653Z"
   },
   {
    "duration": 12,
    "start_time": "2022-01-17T19:03:36.980Z"
   },
   {
    "duration": 12,
    "start_time": "2022-01-17T19:03:59.693Z"
   },
   {
    "duration": 12,
    "start_time": "2022-01-17T19:04:06.384Z"
   },
   {
    "duration": 12,
    "start_time": "2022-01-17T19:04:11.664Z"
   },
   {
    "duration": 11,
    "start_time": "2022-01-17T19:04:18.466Z"
   },
   {
    "duration": 12,
    "start_time": "2022-01-17T19:04:26.522Z"
   },
   {
    "duration": 12,
    "start_time": "2022-01-17T19:04:31.732Z"
   },
   {
    "duration": 12,
    "start_time": "2022-01-17T19:04:36.774Z"
   },
   {
    "duration": 12,
    "start_time": "2022-01-17T19:04:40.720Z"
   },
   {
    "duration": 12,
    "start_time": "2022-01-17T19:04:50.911Z"
   },
   {
    "duration": 4,
    "start_time": "2022-01-17T19:06:20.310Z"
   },
   {
    "duration": 91,
    "start_time": "2022-01-17T19:06:20.318Z"
   },
   {
    "duration": 23,
    "start_time": "2022-01-17T19:06:20.411Z"
   },
   {
    "duration": 40,
    "start_time": "2022-01-17T19:06:20.436Z"
   },
   {
    "duration": 32,
    "start_time": "2022-01-17T19:06:20.478Z"
   },
   {
    "duration": 26,
    "start_time": "2022-01-17T19:06:20.512Z"
   },
   {
    "duration": 19,
    "start_time": "2022-01-17T19:06:20.540Z"
   },
   {
    "duration": 31,
    "start_time": "2022-01-17T19:06:20.560Z"
   },
   {
    "duration": 35,
    "start_time": "2022-01-17T19:06:20.594Z"
   },
   {
    "duration": 50,
    "start_time": "2022-01-17T19:06:20.631Z"
   },
   {
    "duration": 773,
    "start_time": "2022-01-17T19:06:20.683Z"
   },
   {
    "duration": 39,
    "start_time": "2022-01-17T19:06:21.457Z"
   },
   {
    "duration": 64,
    "start_time": "2022-01-17T19:06:21.498Z"
   },
   {
    "duration": 19,
    "start_time": "2022-01-17T19:06:21.563Z"
   },
   {
    "duration": 9,
    "start_time": "2022-01-17T19:06:21.584Z"
   },
   {
    "duration": 25,
    "start_time": "2022-01-17T19:06:21.594Z"
   },
   {
    "duration": 31,
    "start_time": "2022-01-17T19:06:21.621Z"
   },
   {
    "duration": 18,
    "start_time": "2022-01-17T19:06:21.653Z"
   },
   {
    "duration": 18,
    "start_time": "2022-01-17T19:06:21.673Z"
   },
   {
    "duration": 33,
    "start_time": "2022-01-17T19:06:21.693Z"
   },
   {
    "duration": 361,
    "start_time": "2022-01-17T19:06:21.728Z"
   },
   {
    "duration": 17,
    "start_time": "2022-01-17T19:06:22.090Z"
   },
   {
    "duration": 1520,
    "start_time": "2022-01-17T19:06:22.108Z"
   },
   {
    "duration": 12,
    "start_time": "2022-01-17T19:06:23.631Z"
   },
   {
    "duration": 596,
    "start_time": "2022-01-17T19:06:23.646Z"
   },
   {
    "duration": 572,
    "start_time": "2022-01-17T19:06:24.244Z"
   },
   {
    "duration": 13,
    "start_time": "2022-01-17T19:06:33.510Z"
   },
   {
    "duration": 13,
    "start_time": "2022-01-17T19:06:47.045Z"
   },
   {
    "duration": 11,
    "start_time": "2022-01-17T19:07:08.261Z"
   },
   {
    "duration": 53,
    "start_time": "2022-01-17T19:07:46.166Z"
   },
   {
    "duration": 14,
    "start_time": "2022-01-17T19:07:56.691Z"
   },
   {
    "duration": 10,
    "start_time": "2022-01-17T19:08:07.615Z"
   },
   {
    "duration": 4,
    "start_time": "2022-01-17T19:08:18.159Z"
   },
   {
    "duration": 75,
    "start_time": "2022-01-17T19:08:18.167Z"
   },
   {
    "duration": 35,
    "start_time": "2022-01-17T19:08:18.244Z"
   },
   {
    "duration": 12,
    "start_time": "2022-01-17T19:08:18.282Z"
   },
   {
    "duration": 12,
    "start_time": "2022-01-17T19:08:18.297Z"
   },
   {
    "duration": 10,
    "start_time": "2022-01-17T19:08:18.311Z"
   },
   {
    "duration": 41,
    "start_time": "2022-01-17T19:08:18.323Z"
   },
   {
    "duration": 14,
    "start_time": "2022-01-17T19:08:18.365Z"
   },
   {
    "duration": 15,
    "start_time": "2022-01-17T19:08:18.381Z"
   },
   {
    "duration": 21,
    "start_time": "2022-01-17T19:08:18.398Z"
   },
   {
    "duration": 774,
    "start_time": "2022-01-17T19:08:18.420Z"
   },
   {
    "duration": 39,
    "start_time": "2022-01-17T19:08:19.196Z"
   },
   {
    "duration": 60,
    "start_time": "2022-01-17T19:08:19.236Z"
   },
   {
    "duration": 21,
    "start_time": "2022-01-17T19:08:19.298Z"
   },
   {
    "duration": 8,
    "start_time": "2022-01-17T19:08:19.320Z"
   },
   {
    "duration": 34,
    "start_time": "2022-01-17T19:08:19.330Z"
   },
   {
    "duration": 33,
    "start_time": "2022-01-17T19:08:19.366Z"
   },
   {
    "duration": 21,
    "start_time": "2022-01-17T19:08:19.401Z"
   },
   {
    "duration": 5,
    "start_time": "2022-01-17T19:08:19.424Z"
   },
   {
    "duration": 47,
    "start_time": "2022-01-17T19:08:19.431Z"
   },
   {
    "duration": 368,
    "start_time": "2022-01-17T19:08:19.480Z"
   },
   {
    "duration": 24,
    "start_time": "2022-01-17T19:08:19.850Z"
   },
   {
    "duration": 1594,
    "start_time": "2022-01-17T19:08:19.876Z"
   },
   {
    "duration": 12,
    "start_time": "2022-01-17T19:08:21.473Z"
   },
   {
    "duration": 585,
    "start_time": "2022-01-17T19:08:21.486Z"
   },
   {
    "duration": 563,
    "start_time": "2022-01-17T19:08:22.073Z"
   },
   {
    "duration": 12,
    "start_time": "2022-01-17T19:08:22.637Z"
   },
   {
    "duration": 12,
    "start_time": "2022-01-17T19:08:27.828Z"
   },
   {
    "duration": 15,
    "start_time": "2022-01-17T19:08:34.151Z"
   },
   {
    "duration": 589,
    "start_time": "2022-01-17T19:19:08.690Z"
   },
   {
    "duration": 749,
    "start_time": "2022-01-17T19:19:53.980Z"
   },
   {
    "duration": 584,
    "start_time": "2022-01-17T19:20:16.729Z"
   },
   {
    "duration": 480,
    "start_time": "2022-01-17T19:20:27.435Z"
   },
   {
    "duration": 302,
    "start_time": "2022-01-17T19:20:42.950Z"
   },
   {
    "duration": 14,
    "start_time": "2022-01-17T19:21:53.844Z"
   },
   {
    "duration": 219,
    "start_time": "2022-01-17T19:22:13.091Z"
   },
   {
    "duration": 14,
    "start_time": "2022-01-17T19:22:31.649Z"
   },
   {
    "duration": 14,
    "start_time": "2022-01-17T19:22:53.127Z"
   },
   {
    "duration": 13,
    "start_time": "2022-01-17T19:23:02.478Z"
   },
   {
    "duration": 12,
    "start_time": "2022-01-17T19:23:12.034Z"
   },
   {
    "duration": 8,
    "start_time": "2022-01-17T19:23:46.601Z"
   },
   {
    "duration": 317,
    "start_time": "2022-01-17T19:23:49.278Z"
   },
   {
    "duration": 258,
    "start_time": "2022-01-17T19:24:07.244Z"
   },
   {
    "duration": 211,
    "start_time": "2022-01-17T19:24:23.122Z"
   },
   {
    "duration": 4,
    "start_time": "2022-01-17T19:25:05.509Z"
   },
   {
    "duration": 74,
    "start_time": "2022-01-17T19:25:05.517Z"
   },
   {
    "duration": 26,
    "start_time": "2022-01-17T19:25:05.594Z"
   },
   {
    "duration": 38,
    "start_time": "2022-01-17T19:25:05.623Z"
   },
   {
    "duration": 9,
    "start_time": "2022-01-17T19:25:05.664Z"
   },
   {
    "duration": 14,
    "start_time": "2022-01-17T19:25:05.676Z"
   },
   {
    "duration": 10,
    "start_time": "2022-01-17T19:25:05.692Z"
   },
   {
    "duration": 12,
    "start_time": "2022-01-17T19:25:05.704Z"
   },
   {
    "duration": 53,
    "start_time": "2022-01-17T19:25:05.719Z"
   },
   {
    "duration": 21,
    "start_time": "2022-01-17T19:25:05.774Z"
   },
   {
    "duration": 768,
    "start_time": "2022-01-17T19:25:05.797Z"
   },
   {
    "duration": 37,
    "start_time": "2022-01-17T19:25:06.567Z"
   },
   {
    "duration": 65,
    "start_time": "2022-01-17T19:25:06.605Z"
   },
   {
    "duration": 21,
    "start_time": "2022-01-17T19:25:06.672Z"
   },
   {
    "duration": 9,
    "start_time": "2022-01-17T19:25:06.695Z"
   },
   {
    "duration": 9,
    "start_time": "2022-01-17T19:25:06.706Z"
   },
   {
    "duration": 51,
    "start_time": "2022-01-17T19:25:06.716Z"
   },
   {
    "duration": 14,
    "start_time": "2022-01-17T19:25:06.768Z"
   },
   {
    "duration": 7,
    "start_time": "2022-01-17T19:25:06.784Z"
   },
   {
    "duration": 24,
    "start_time": "2022-01-17T19:25:06.793Z"
   },
   {
    "duration": 566,
    "start_time": "2022-01-17T19:25:06.819Z"
   },
   {
    "duration": 18,
    "start_time": "2022-01-17T19:25:07.386Z"
   },
   {
    "duration": 1334,
    "start_time": "2022-01-17T19:25:07.406Z"
   },
   {
    "duration": 21,
    "start_time": "2022-01-17T19:25:08.743Z"
   },
   {
    "duration": 404,
    "start_time": "2022-01-17T19:25:08.766Z"
   },
   {
    "duration": 733,
    "start_time": "2022-01-17T19:25:09.172Z"
   },
   {
    "duration": 13,
    "start_time": "2022-01-17T19:25:09.907Z"
   },
   {
    "duration": 6861,
    "start_time": "2022-01-17T19:25:09.922Z"
   },
   {
    "duration": 1,
    "start_time": "2022-01-17T19:25:16.784Z"
   },
   {
    "duration": 6609,
    "start_time": "2022-01-17T19:25:59.263Z"
   },
   {
    "duration": 45,
    "start_time": "2022-01-17T19:26:17.309Z"
   },
   {
    "duration": 320,
    "start_time": "2022-01-17T19:26:26.108Z"
   },
   {
    "duration": 272,
    "start_time": "2022-01-17T19:27:38.204Z"
   },
   {
    "duration": 8,
    "start_time": "2022-01-17T19:28:41.169Z"
   },
   {
    "duration": 8,
    "start_time": "2022-01-17T19:29:21.995Z"
   },
   {
    "duration": 8,
    "start_time": "2022-01-17T19:30:41.233Z"
   },
   {
    "duration": 8,
    "start_time": "2022-01-17T19:51:00.039Z"
   },
   {
    "duration": 7,
    "start_time": "2022-01-17T19:51:08.571Z"
   },
   {
    "duration": 267,
    "start_time": "2022-01-17T19:51:17.941Z"
   },
   {
    "duration": 7,
    "start_time": "2022-01-17T19:51:35.651Z"
   },
   {
    "duration": 67,
    "start_time": "2022-01-17T19:52:08.062Z"
   },
   {
    "duration": 7,
    "start_time": "2022-01-17T19:52:16.067Z"
   },
   {
    "duration": 7,
    "start_time": "2022-01-17T19:52:23.959Z"
   },
   {
    "duration": 71,
    "start_time": "2022-01-17T19:52:36.864Z"
   },
   {
    "duration": 71,
    "start_time": "2022-01-17T19:52:47.356Z"
   },
   {
    "duration": 91,
    "start_time": "2022-01-17T19:53:08.617Z"
   },
   {
    "duration": 97,
    "start_time": "2022-01-17T19:53:27.969Z"
   },
   {
    "duration": 63,
    "start_time": "2022-01-17T19:53:40.920Z"
   },
   {
    "duration": 8,
    "start_time": "2022-01-17T19:54:18.684Z"
   },
   {
    "duration": 8,
    "start_time": "2022-01-17T19:54:37.283Z"
   },
   {
    "duration": 457,
    "start_time": "2022-01-17T19:55:35.925Z"
   },
   {
    "duration": 426,
    "start_time": "2022-01-17T19:55:53.452Z"
   },
   {
    "duration": 296,
    "start_time": "2022-01-17T19:56:01.545Z"
   },
   {
    "duration": 8,
    "start_time": "2022-01-17T19:57:35.957Z"
   },
   {
    "duration": 9,
    "start_time": "2022-01-17T19:57:50.202Z"
   },
   {
    "duration": 8,
    "start_time": "2022-01-17T19:58:15.501Z"
   },
   {
    "duration": 9,
    "start_time": "2022-01-17T19:58:42.159Z"
   },
   {
    "duration": 194,
    "start_time": "2022-01-17T19:58:51.504Z"
   },
   {
    "duration": 9,
    "start_time": "2022-01-17T19:58:56.889Z"
   },
   {
    "duration": 470,
    "start_time": "2022-01-17T19:59:36.518Z"
   },
   {
    "duration": 623,
    "start_time": "2022-01-17T19:59:44.986Z"
   },
   {
    "duration": 483,
    "start_time": "2022-01-17T19:59:52.231Z"
   },
   {
    "duration": 465,
    "start_time": "2022-01-17T19:59:59.272Z"
   },
   {
    "duration": 437,
    "start_time": "2022-01-17T20:02:50.413Z"
   },
   {
    "duration": 9,
    "start_time": "2022-01-17T20:03:04.074Z"
   },
   {
    "duration": 68,
    "start_time": "2022-01-17T20:04:57.442Z"
   },
   {
    "duration": 263,
    "start_time": "2022-01-17T20:05:43.714Z"
   },
   {
    "duration": 2825,
    "start_time": "2022-01-17T20:05:50.897Z"
   },
   {
    "duration": 7,
    "start_time": "2022-01-17T20:06:04.512Z"
   },
   {
    "duration": 8,
    "start_time": "2022-01-17T20:06:09.445Z"
   },
   {
    "duration": 10,
    "start_time": "2022-01-17T20:06:18.032Z"
   },
   {
    "duration": 7,
    "start_time": "2022-01-17T20:06:35.726Z"
   },
   {
    "duration": 9,
    "start_time": "2022-01-17T20:08:19.358Z"
   },
   {
    "duration": 8,
    "start_time": "2022-01-17T20:08:42.460Z"
   },
   {
    "duration": 71,
    "start_time": "2022-01-17T20:10:04.195Z"
   },
   {
    "duration": 206,
    "start_time": "2022-01-17T20:10:57.690Z"
   },
   {
    "duration": 8,
    "start_time": "2022-01-17T20:11:18.187Z"
   },
   {
    "duration": 8,
    "start_time": "2022-01-17T20:11:50.969Z"
   },
   {
    "duration": 9,
    "start_time": "2022-01-17T20:12:04.999Z"
   },
   {
    "duration": 8,
    "start_time": "2022-01-17T20:12:15.096Z"
   },
   {
    "duration": 10,
    "start_time": "2022-01-17T20:12:24.567Z"
   },
   {
    "duration": 11,
    "start_time": "2022-01-17T20:12:34.410Z"
   },
   {
    "duration": 66,
    "start_time": "2022-01-17T20:13:27.730Z"
   },
   {
    "duration": 9,
    "start_time": "2022-01-17T20:14:00.560Z"
   },
   {
    "duration": 250,
    "start_time": "2022-01-17T20:14:46.702Z"
   },
   {
    "duration": 8,
    "start_time": "2022-01-17T20:15:09.997Z"
   },
   {
    "duration": 8,
    "start_time": "2022-01-17T20:15:17.198Z"
   },
   {
    "duration": 4,
    "start_time": "2022-01-17T20:15:23.499Z"
   },
   {
    "duration": 71,
    "start_time": "2022-01-17T20:15:23.507Z"
   },
   {
    "duration": 27,
    "start_time": "2022-01-17T20:15:23.580Z"
   },
   {
    "duration": 13,
    "start_time": "2022-01-17T20:15:23.610Z"
   },
   {
    "duration": 37,
    "start_time": "2022-01-17T20:15:23.625Z"
   },
   {
    "duration": 10,
    "start_time": "2022-01-17T20:15:23.664Z"
   },
   {
    "duration": 7,
    "start_time": "2022-01-17T20:15:23.675Z"
   },
   {
    "duration": 10,
    "start_time": "2022-01-17T20:15:23.684Z"
   },
   {
    "duration": 16,
    "start_time": "2022-01-17T20:15:23.696Z"
   },
   {
    "duration": 57,
    "start_time": "2022-01-17T20:15:23.714Z"
   },
   {
    "duration": 763,
    "start_time": "2022-01-17T20:15:23.773Z"
   },
   {
    "duration": 52,
    "start_time": "2022-01-17T20:15:24.537Z"
   },
   {
    "duration": 48,
    "start_time": "2022-01-17T20:15:24.590Z"
   },
   {
    "duration": 32,
    "start_time": "2022-01-17T20:15:24.639Z"
   },
   {
    "duration": 10,
    "start_time": "2022-01-17T20:15:24.673Z"
   },
   {
    "duration": 9,
    "start_time": "2022-01-17T20:15:24.685Z"
   },
   {
    "duration": 17,
    "start_time": "2022-01-17T20:15:24.696Z"
   },
   {
    "duration": 55,
    "start_time": "2022-01-17T20:15:24.715Z"
   },
   {
    "duration": 5,
    "start_time": "2022-01-17T20:15:24.773Z"
   },
   {
    "duration": 23,
    "start_time": "2022-01-17T20:15:24.780Z"
   },
   {
    "duration": 550,
    "start_time": "2022-01-17T20:15:24.805Z"
   },
   {
    "duration": 26,
    "start_time": "2022-01-17T20:15:25.357Z"
   },
   {
    "duration": 1347,
    "start_time": "2022-01-17T20:15:25.385Z"
   },
   {
    "duration": 12,
    "start_time": "2022-01-17T20:15:26.735Z"
   },
   {
    "duration": 401,
    "start_time": "2022-01-17T20:15:26.760Z"
   },
   {
    "duration": 571,
    "start_time": "2022-01-17T20:15:27.163Z"
   },
   {
    "duration": 11,
    "start_time": "2022-01-17T20:15:27.736Z"
   },
   {
    "duration": 478,
    "start_time": "2022-01-17T20:15:27.749Z"
   },
   {
    "duration": 289,
    "start_time": "2022-01-17T20:15:28.229Z"
   },
   {
    "duration": 7,
    "start_time": "2022-01-17T20:15:28.520Z"
   },
   {
    "duration": 381,
    "start_time": "2022-01-17T20:15:28.528Z"
   },
   {
    "duration": 585,
    "start_time": "2022-01-17T20:15:28.911Z"
   },
   {
    "duration": 8,
    "start_time": "2022-01-17T20:15:29.498Z"
   },
   {
    "duration": 360,
    "start_time": "2022-01-17T20:15:48.260Z"
   },
   {
    "duration": 4,
    "start_time": "2022-01-17T20:17:42.981Z"
   },
   {
    "duration": 74,
    "start_time": "2022-01-17T20:17:42.988Z"
   },
   {
    "duration": 23,
    "start_time": "2022-01-17T20:17:43.064Z"
   },
   {
    "duration": 13,
    "start_time": "2022-01-17T20:17:43.090Z"
   },
   {
    "duration": 8,
    "start_time": "2022-01-17T20:17:43.105Z"
   },
   {
    "duration": 9,
    "start_time": "2022-01-17T20:17:43.115Z"
   },
   {
    "duration": 9,
    "start_time": "2022-01-17T20:17:43.160Z"
   },
   {
    "duration": 13,
    "start_time": "2022-01-17T20:17:43.171Z"
   },
   {
    "duration": 15,
    "start_time": "2022-01-17T20:17:43.186Z"
   },
   {
    "duration": 21,
    "start_time": "2022-01-17T20:17:43.203Z"
   },
   {
    "duration": 777,
    "start_time": "2022-01-17T20:17:43.226Z"
   },
   {
    "duration": 36,
    "start_time": "2022-01-17T20:17:44.005Z"
   },
   {
    "duration": 55,
    "start_time": "2022-01-17T20:17:44.043Z"
   },
   {
    "duration": 18,
    "start_time": "2022-01-17T20:17:44.100Z"
   },
   {
    "duration": 8,
    "start_time": "2022-01-17T20:17:44.120Z"
   },
   {
    "duration": 33,
    "start_time": "2022-01-17T20:17:44.129Z"
   },
   {
    "duration": 21,
    "start_time": "2022-01-17T20:17:44.164Z"
   },
   {
    "duration": 12,
    "start_time": "2022-01-17T20:17:44.186Z"
   },
   {
    "duration": 3,
    "start_time": "2022-01-17T20:17:44.200Z"
   },
   {
    "duration": 23,
    "start_time": "2022-01-17T20:17:44.205Z"
   },
   {
    "duration": 374,
    "start_time": "2022-01-17T20:17:44.230Z"
   },
   {
    "duration": 17,
    "start_time": "2022-01-17T20:17:44.606Z"
   },
   {
    "duration": 1464,
    "start_time": "2022-01-17T20:17:44.624Z"
   },
   {
    "duration": 11,
    "start_time": "2022-01-17T20:17:46.092Z"
   },
   {
    "duration": 407,
    "start_time": "2022-01-17T20:17:46.105Z"
   },
   {
    "duration": 555,
    "start_time": "2022-01-17T20:17:46.513Z"
   },
   {
    "duration": 11,
    "start_time": "2022-01-17T20:17:47.070Z"
   },
   {
    "duration": 310,
    "start_time": "2022-01-17T20:17:47.083Z"
   },
   {
    "duration": 453,
    "start_time": "2022-01-17T20:17:47.395Z"
   },
   {
    "duration": 13,
    "start_time": "2022-01-17T20:17:47.849Z"
   },
   {
    "duration": 297,
    "start_time": "2022-01-17T20:17:47.863Z"
   },
   {
    "duration": 463,
    "start_time": "2022-01-17T20:17:48.162Z"
   },
   {
    "duration": 9,
    "start_time": "2022-01-17T20:17:48.627Z"
   },
   {
    "duration": 292,
    "start_time": "2022-01-17T20:17:48.638Z"
   },
   {
    "duration": 788,
    "start_time": "2022-01-17T20:17:48.933Z"
   },
   {
    "duration": 6,
    "start_time": "2022-01-17T20:18:03.851Z"
   },
   {
    "duration": 599,
    "start_time": "2022-01-17T20:18:38.778Z"
   },
   {
    "duration": 586,
    "start_time": "2022-01-17T20:18:52.337Z"
   },
   {
    "duration": 394,
    "start_time": "2022-01-17T20:19:48.239Z"
   },
   {
    "duration": 6,
    "start_time": "2022-01-17T20:20:02.711Z"
   },
   {
    "duration": 6,
    "start_time": "2022-01-17T20:20:07.922Z"
   },
   {
    "duration": 614,
    "start_time": "2022-01-17T20:20:26.673Z"
   },
   {
    "duration": 606,
    "start_time": "2022-01-17T20:21:20.783Z"
   },
   {
    "duration": 796,
    "start_time": "2022-01-17T20:21:35.270Z"
   },
   {
    "duration": 7,
    "start_time": "2022-01-17T20:23:09.493Z"
   },
   {
    "duration": 7,
    "start_time": "2022-01-17T20:23:21.675Z"
   },
   {
    "duration": 6,
    "start_time": "2022-01-17T20:23:27.094Z"
   },
   {
    "duration": 6,
    "start_time": "2022-01-17T20:23:42.831Z"
   },
   {
    "duration": 6,
    "start_time": "2022-01-17T20:23:48.413Z"
   },
   {
    "duration": 6,
    "start_time": "2022-01-17T20:23:57.765Z"
   },
   {
    "duration": 13,
    "start_time": "2022-01-17T20:26:00.838Z"
   },
   {
    "duration": 195,
    "start_time": "2022-01-17T20:28:32.136Z"
   },
   {
    "duration": 200,
    "start_time": "2022-01-17T20:28:52.393Z"
   },
   {
    "duration": 227,
    "start_time": "2022-01-17T20:29:30.254Z"
   },
   {
    "duration": 10,
    "start_time": "2022-01-17T20:29:39.443Z"
   },
   {
    "duration": 11,
    "start_time": "2022-01-17T20:29:50.018Z"
   },
   {
    "duration": 10,
    "start_time": "2022-01-17T20:30:53.892Z"
   },
   {
    "duration": 11,
    "start_time": "2022-01-17T20:32:14.125Z"
   },
   {
    "duration": 8,
    "start_time": "2022-01-17T20:32:58.345Z"
   },
   {
    "duration": 7,
    "start_time": "2022-01-17T20:33:16.281Z"
   },
   {
    "duration": 8,
    "start_time": "2022-01-17T20:33:20.538Z"
   },
   {
    "duration": 72,
    "start_time": "2022-01-17T20:33:59.011Z"
   },
   {
    "duration": 672,
    "start_time": "2022-01-17T20:34:10.039Z"
   },
   {
    "duration": 232,
    "start_time": "2022-01-17T20:34:50.553Z"
   },
   {
    "duration": 8,
    "start_time": "2022-01-17T20:35:01.236Z"
   },
   {
    "duration": 7,
    "start_time": "2022-01-17T20:35:22.089Z"
   },
   {
    "duration": 577,
    "start_time": "2022-01-17T20:35:39.283Z"
   },
   {
    "duration": 5,
    "start_time": "2022-01-17T20:35:48.236Z"
   },
   {
    "duration": 68,
    "start_time": "2022-01-17T20:35:48.244Z"
   },
   {
    "duration": 22,
    "start_time": "2022-01-17T20:35:48.314Z"
   },
   {
    "duration": 24,
    "start_time": "2022-01-17T20:35:48.338Z"
   },
   {
    "duration": 6,
    "start_time": "2022-01-17T20:35:48.365Z"
   },
   {
    "duration": 10,
    "start_time": "2022-01-17T20:35:48.373Z"
   },
   {
    "duration": 9,
    "start_time": "2022-01-17T20:35:48.385Z"
   },
   {
    "duration": 11,
    "start_time": "2022-01-17T20:35:48.396Z"
   },
   {
    "duration": 53,
    "start_time": "2022-01-17T20:35:48.409Z"
   },
   {
    "duration": 20,
    "start_time": "2022-01-17T20:35:48.464Z"
   },
   {
    "duration": 841,
    "start_time": "2022-01-17T20:35:48.485Z"
   },
   {
    "duration": 53,
    "start_time": "2022-01-17T20:35:49.329Z"
   },
   {
    "duration": 42,
    "start_time": "2022-01-17T20:35:49.384Z"
   },
   {
    "duration": 39,
    "start_time": "2022-01-17T20:35:49.428Z"
   },
   {
    "duration": 10,
    "start_time": "2022-01-17T20:35:49.469Z"
   },
   {
    "duration": 9,
    "start_time": "2022-01-17T20:35:49.480Z"
   },
   {
    "duration": 22,
    "start_time": "2022-01-17T20:35:49.491Z"
   },
   {
    "duration": 46,
    "start_time": "2022-01-17T20:35:49.515Z"
   },
   {
    "duration": 6,
    "start_time": "2022-01-17T20:35:49.563Z"
   },
   {
    "duration": 28,
    "start_time": "2022-01-17T20:35:49.571Z"
   },
   {
    "duration": 537,
    "start_time": "2022-01-17T20:35:49.601Z"
   },
   {
    "duration": 25,
    "start_time": "2022-01-17T20:35:50.142Z"
   },
   {
    "duration": 1397,
    "start_time": "2022-01-17T20:35:50.169Z"
   },
   {
    "duration": 10,
    "start_time": "2022-01-17T20:35:51.568Z"
   },
   {
    "duration": 503,
    "start_time": "2022-01-17T20:35:51.580Z"
   },
   {
    "duration": 547,
    "start_time": "2022-01-17T20:35:52.085Z"
   },
   {
    "duration": 12,
    "start_time": "2022-01-17T20:35:52.633Z"
   },
   {
    "duration": 519,
    "start_time": "2022-01-17T20:35:52.646Z"
   },
   {
    "duration": 280,
    "start_time": "2022-01-17T20:35:53.167Z"
   },
   {
    "duration": 15,
    "start_time": "2022-01-17T20:35:53.449Z"
   },
   {
    "duration": 286,
    "start_time": "2022-01-17T20:35:53.466Z"
   },
   {
    "duration": 441,
    "start_time": "2022-01-17T20:35:53.754Z"
   },
   {
    "duration": 8,
    "start_time": "2022-01-17T20:35:54.197Z"
   },
   {
    "duration": 273,
    "start_time": "2022-01-17T20:35:54.207Z"
   },
   {
    "duration": 605,
    "start_time": "2022-01-17T20:35:54.481Z"
   },
   {
    "duration": 415,
    "start_time": "2022-01-17T20:37:14.883Z"
   },
   {
    "duration": 4,
    "start_time": "2022-01-17T20:37:37.633Z"
   },
   {
    "duration": 78,
    "start_time": "2022-01-17T20:37:37.640Z"
   },
   {
    "duration": 42,
    "start_time": "2022-01-17T20:37:37.720Z"
   },
   {
    "duration": 11,
    "start_time": "2022-01-17T20:37:37.764Z"
   },
   {
    "duration": 7,
    "start_time": "2022-01-17T20:37:37.777Z"
   },
   {
    "duration": 8,
    "start_time": "2022-01-17T20:37:37.786Z"
   },
   {
    "duration": 8,
    "start_time": "2022-01-17T20:37:37.796Z"
   },
   {
    "duration": 14,
    "start_time": "2022-01-17T20:37:37.805Z"
   },
   {
    "duration": 49,
    "start_time": "2022-01-17T20:37:37.822Z"
   },
   {
    "duration": 21,
    "start_time": "2022-01-17T20:37:37.874Z"
   },
   {
    "duration": 925,
    "start_time": "2022-01-17T20:37:37.897Z"
   },
   {
    "duration": 46,
    "start_time": "2022-01-17T20:37:38.824Z"
   },
   {
    "duration": 42,
    "start_time": "2022-01-17T20:37:38.872Z"
   },
   {
    "duration": 17,
    "start_time": "2022-01-17T20:37:38.917Z"
   },
   {
    "duration": 28,
    "start_time": "2022-01-17T20:37:38.935Z"
   },
   {
    "duration": 7,
    "start_time": "2022-01-17T20:37:38.965Z"
   },
   {
    "duration": 19,
    "start_time": "2022-01-17T20:37:38.974Z"
   },
   {
    "duration": 15,
    "start_time": "2022-01-17T20:37:38.995Z"
   },
   {
    "duration": 4,
    "start_time": "2022-01-17T20:37:39.011Z"
   },
   {
    "duration": 47,
    "start_time": "2022-01-17T20:37:39.017Z"
   },
   {
    "duration": 348,
    "start_time": "2022-01-17T20:37:39.066Z"
   },
   {
    "duration": 17,
    "start_time": "2022-01-17T20:37:39.416Z"
   },
   {
    "duration": 1318,
    "start_time": "2022-01-17T20:37:39.434Z"
   },
   {
    "duration": 12,
    "start_time": "2022-01-17T20:37:40.759Z"
   },
   {
    "duration": 589,
    "start_time": "2022-01-17T20:37:40.773Z"
   },
   {
    "duration": 578,
    "start_time": "2022-01-17T20:37:41.364Z"
   },
   {
    "duration": 21,
    "start_time": "2022-01-17T20:37:41.944Z"
   },
   {
    "duration": 310,
    "start_time": "2022-01-17T20:37:41.966Z"
   },
   {
    "duration": 273,
    "start_time": "2022-01-17T20:37:42.278Z"
   },
   {
    "duration": 12,
    "start_time": "2022-01-17T20:37:42.553Z"
   },
   {
    "duration": 287,
    "start_time": "2022-01-17T20:37:42.567Z"
   },
   {
    "duration": 441,
    "start_time": "2022-01-17T20:37:42.855Z"
   },
   {
    "duration": 8,
    "start_time": "2022-01-17T20:37:43.298Z"
   },
   {
    "duration": 275,
    "start_time": "2022-01-17T20:37:43.308Z"
   },
   {
    "duration": 575,
    "start_time": "2022-01-17T20:37:43.585Z"
   },
   {
    "duration": 611,
    "start_time": "2022-01-17T20:37:44.162Z"
   },
   {
    "duration": 7,
    "start_time": "2022-01-17T20:39:33.429Z"
   },
   {
    "duration": 7,
    "start_time": "2022-01-17T20:40:07.198Z"
   },
   {
    "duration": 591,
    "start_time": "2022-01-17T20:40:15.511Z"
   },
   {
    "duration": 7,
    "start_time": "2022-01-17T20:40:22.180Z"
   },
   {
    "duration": 602,
    "start_time": "2022-01-17T20:40:35.479Z"
   },
   {
    "duration": 4,
    "start_time": "2022-01-17T20:40:54.010Z"
   },
   {
    "duration": 64,
    "start_time": "2022-01-17T20:40:54.017Z"
   },
   {
    "duration": 23,
    "start_time": "2022-01-17T20:40:54.083Z"
   },
   {
    "duration": 11,
    "start_time": "2022-01-17T20:40:54.108Z"
   },
   {
    "duration": 6,
    "start_time": "2022-01-17T20:40:54.121Z"
   },
   {
    "duration": 36,
    "start_time": "2022-01-17T20:40:54.129Z"
   },
   {
    "duration": 7,
    "start_time": "2022-01-17T20:40:54.166Z"
   },
   {
    "duration": 14,
    "start_time": "2022-01-17T20:40:54.175Z"
   },
   {
    "duration": 17,
    "start_time": "2022-01-17T20:40:54.192Z"
   },
   {
    "duration": 60,
    "start_time": "2022-01-17T20:40:54.213Z"
   },
   {
    "duration": 769,
    "start_time": "2022-01-17T20:40:54.275Z"
   },
   {
    "duration": 46,
    "start_time": "2022-01-17T20:40:55.046Z"
   },
   {
    "duration": 46,
    "start_time": "2022-01-17T20:40:55.094Z"
   },
   {
    "duration": 35,
    "start_time": "2022-01-17T20:40:55.142Z"
   },
   {
    "duration": 8,
    "start_time": "2022-01-17T20:40:55.179Z"
   },
   {
    "duration": 9,
    "start_time": "2022-01-17T20:40:55.189Z"
   },
   {
    "duration": 20,
    "start_time": "2022-01-17T20:40:55.200Z"
   },
   {
    "duration": 40,
    "start_time": "2022-01-17T20:40:55.222Z"
   },
   {
    "duration": 5,
    "start_time": "2022-01-17T20:40:55.265Z"
   },
   {
    "duration": 28,
    "start_time": "2022-01-17T20:40:55.272Z"
   },
   {
    "duration": 381,
    "start_time": "2022-01-17T20:40:55.302Z"
   },
   {
    "duration": 17,
    "start_time": "2022-01-17T20:40:55.685Z"
   },
   {
    "duration": 1469,
    "start_time": "2022-01-17T20:40:55.704Z"
   },
   {
    "duration": 12,
    "start_time": "2022-01-17T20:40:57.175Z"
   },
   {
    "duration": 399,
    "start_time": "2022-01-17T20:40:57.188Z"
   },
   {
    "duration": 534,
    "start_time": "2022-01-17T20:40:57.588Z"
   },
   {
    "duration": 11,
    "start_time": "2022-01-17T20:40:58.124Z"
   },
   {
    "duration": 303,
    "start_time": "2022-01-17T20:40:58.137Z"
   },
   {
    "duration": 274,
    "start_time": "2022-01-17T20:40:58.441Z"
   },
   {
    "duration": 7,
    "start_time": "2022-01-17T20:40:58.717Z"
   },
   {
    "duration": 281,
    "start_time": "2022-01-17T20:40:58.725Z"
   },
   {
    "duration": 641,
    "start_time": "2022-01-17T20:40:59.008Z"
   },
   {
    "duration": 12,
    "start_time": "2022-01-17T20:40:59.650Z"
   },
   {
    "duration": 271,
    "start_time": "2022-01-17T20:40:59.664Z"
   },
   {
    "duration": 642,
    "start_time": "2022-01-17T20:40:59.937Z"
   },
   {
    "duration": 6,
    "start_time": "2022-01-17T20:41:12.989Z"
   },
   {
    "duration": 494,
    "start_time": "2022-01-17T20:41:44.807Z"
   },
   {
    "duration": 1552,
    "start_time": "2022-01-17T20:41:55.299Z"
   },
   {
    "duration": 796,
    "start_time": "2022-01-17T20:42:11.354Z"
   },
   {
    "duration": 627,
    "start_time": "2022-01-17T20:42:24.825Z"
   },
   {
    "duration": 6,
    "start_time": "2022-01-17T20:49:38.049Z"
   },
   {
    "duration": 4,
    "start_time": "2022-01-17T20:49:52.031Z"
   },
   {
    "duration": 6,
    "start_time": "2022-01-17T20:53:57.026Z"
   },
   {
    "duration": 6,
    "start_time": "2022-01-17T20:54:23.732Z"
   },
   {
    "duration": 6,
    "start_time": "2022-01-17T20:54:37.527Z"
   },
   {
    "duration": 4,
    "start_time": "2022-01-17T20:55:13.034Z"
   },
   {
    "duration": 5,
    "start_time": "2022-01-17T20:55:17.881Z"
   },
   {
    "duration": 4,
    "start_time": "2022-01-17T20:55:24.461Z"
   },
   {
    "duration": 386,
    "start_time": "2022-01-17T20:55:38.733Z"
   },
   {
    "duration": 607,
    "start_time": "2022-01-17T20:55:47.535Z"
   },
   {
    "duration": 6,
    "start_time": "2022-01-17T20:56:14.137Z"
   },
   {
    "duration": 11,
    "start_time": "2022-01-17T20:56:21.492Z"
   },
   {
    "duration": 217,
    "start_time": "2022-01-17T20:56:30.776Z"
   },
   {
    "duration": 6,
    "start_time": "2022-01-17T20:56:53.503Z"
   },
   {
    "duration": 8,
    "start_time": "2022-01-17T20:57:08.797Z"
   },
   {
    "duration": 11,
    "start_time": "2022-01-17T20:57:15.000Z"
   },
   {
    "duration": 9,
    "start_time": "2022-01-17T20:57:29.005Z"
   },
   {
    "duration": 7,
    "start_time": "2022-01-17T20:57:33.490Z"
   },
   {
    "duration": 6,
    "start_time": "2022-01-17T20:58:16.526Z"
   },
   {
    "duration": 5,
    "start_time": "2022-01-17T20:58:32.710Z"
   },
   {
    "duration": 1406,
    "start_time": "2022-01-17T20:58:43.708Z"
   },
   {
    "duration": 2792,
    "start_time": "2022-01-17T20:58:53.609Z"
   },
   {
    "duration": 625,
    "start_time": "2022-01-17T20:59:18.274Z"
   },
   {
    "duration": 471,
    "start_time": "2022-01-17T21:00:03.934Z"
   },
   {
    "duration": 427,
    "start_time": "2022-01-17T21:00:09.673Z"
   },
   {
    "duration": 4,
    "start_time": "2022-01-17T21:00:54.587Z"
   },
   {
    "duration": 104,
    "start_time": "2022-01-17T21:00:54.595Z"
   },
   {
    "duration": 25,
    "start_time": "2022-01-17T21:00:54.702Z"
   },
   {
    "duration": 36,
    "start_time": "2022-01-17T21:00:54.729Z"
   },
   {
    "duration": 32,
    "start_time": "2022-01-17T21:00:54.768Z"
   },
   {
    "duration": 35,
    "start_time": "2022-01-17T21:00:54.802Z"
   },
   {
    "duration": 34,
    "start_time": "2022-01-17T21:00:54.839Z"
   },
   {
    "duration": 28,
    "start_time": "2022-01-17T21:00:54.875Z"
   },
   {
    "duration": 53,
    "start_time": "2022-01-17T21:00:54.905Z"
   },
   {
    "duration": 50,
    "start_time": "2022-01-17T21:00:54.961Z"
   },
   {
    "duration": 1004,
    "start_time": "2022-01-17T21:00:55.014Z"
   },
   {
    "duration": 50,
    "start_time": "2022-01-17T21:00:56.020Z"
   },
   {
    "duration": 49,
    "start_time": "2022-01-17T21:00:56.072Z"
   },
   {
    "duration": 39,
    "start_time": "2022-01-17T21:00:56.122Z"
   },
   {
    "duration": 9,
    "start_time": "2022-01-17T21:00:56.163Z"
   },
   {
    "duration": 45,
    "start_time": "2022-01-17T21:00:56.174Z"
   },
   {
    "duration": 66,
    "start_time": "2022-01-17T21:00:56.221Z"
   },
   {
    "duration": 13,
    "start_time": "2022-01-17T21:00:56.289Z"
   },
   {
    "duration": 41,
    "start_time": "2022-01-17T21:00:56.304Z"
   },
   {
    "duration": 71,
    "start_time": "2022-01-17T21:00:56.347Z"
   },
   {
    "duration": 360,
    "start_time": "2022-01-17T21:00:56.420Z"
   },
   {
    "duration": 17,
    "start_time": "2022-01-17T21:00:56.782Z"
   },
   {
    "duration": 1342,
    "start_time": "2022-01-17T21:00:56.801Z"
   },
   {
    "duration": 16,
    "start_time": "2022-01-17T21:00:58.147Z"
   },
   {
    "duration": 610,
    "start_time": "2022-01-17T21:00:58.165Z"
   },
   {
    "duration": 564,
    "start_time": "2022-01-17T21:00:58.777Z"
   },
   {
    "duration": 22,
    "start_time": "2022-01-17T21:00:59.344Z"
   },
   {
    "duration": 327,
    "start_time": "2022-01-17T21:00:59.368Z"
   },
   {
    "duration": 299,
    "start_time": "2022-01-17T21:00:59.697Z"
   },
   {
    "duration": 8,
    "start_time": "2022-01-17T21:00:59.998Z"
   },
   {
    "duration": 320,
    "start_time": "2022-01-17T21:01:00.008Z"
   },
   {
    "duration": 464,
    "start_time": "2022-01-17T21:01:00.330Z"
   },
   {
    "duration": 8,
    "start_time": "2022-01-17T21:01:00.796Z"
   },
   {
    "duration": 291,
    "start_time": "2022-01-17T21:01:00.806Z"
   },
   {
    "duration": 632,
    "start_time": "2022-01-17T21:01:01.099Z"
   },
   {
    "duration": 628,
    "start_time": "2022-01-17T21:01:18.216Z"
   },
   {
    "duration": 429,
    "start_time": "2022-01-17T21:01:31.440Z"
   },
   {
    "duration": 355,
    "start_time": "2022-01-17T21:01:48.175Z"
   },
   {
    "duration": 441,
    "start_time": "2022-01-17T21:02:09.247Z"
   },
   {
    "duration": 8,
    "start_time": "2022-01-17T21:04:11.842Z"
   },
   {
    "duration": 5,
    "start_time": "2022-01-17T21:04:17.666Z"
   },
   {
    "duration": 5,
    "start_time": "2022-01-17T21:04:24.700Z"
   },
   {
    "duration": 5,
    "start_time": "2022-01-17T21:04:29.589Z"
   },
   {
    "duration": 5,
    "start_time": "2022-01-17T21:04:35.233Z"
   },
   {
    "duration": 1380,
    "start_time": "2022-01-17T21:04:43.939Z"
   },
   {
    "duration": 420,
    "start_time": "2022-01-17T21:05:19.559Z"
   },
   {
    "duration": 400,
    "start_time": "2022-01-17T21:05:41.563Z"
   },
   {
    "duration": 589,
    "start_time": "2022-01-17T21:05:55.510Z"
   },
   {
    "duration": 4,
    "start_time": "2022-01-17T21:06:08.882Z"
   },
   {
    "duration": 68,
    "start_time": "2022-01-17T21:06:08.890Z"
   },
   {
    "duration": 23,
    "start_time": "2022-01-17T21:06:08.959Z"
   },
   {
    "duration": 9,
    "start_time": "2022-01-17T21:06:08.984Z"
   },
   {
    "duration": 10,
    "start_time": "2022-01-17T21:06:08.995Z"
   },
   {
    "duration": 8,
    "start_time": "2022-01-17T21:06:09.007Z"
   },
   {
    "duration": 6,
    "start_time": "2022-01-17T21:06:09.017Z"
   },
   {
    "duration": 9,
    "start_time": "2022-01-17T21:06:09.061Z"
   },
   {
    "duration": 16,
    "start_time": "2022-01-17T21:06:09.073Z"
   },
   {
    "duration": 21,
    "start_time": "2022-01-17T21:06:09.091Z"
   },
   {
    "duration": 769,
    "start_time": "2022-01-17T21:06:09.114Z"
   },
   {
    "duration": 39,
    "start_time": "2022-01-17T21:06:09.884Z"
   },
   {
    "duration": 64,
    "start_time": "2022-01-17T21:06:09.924Z"
   },
   {
    "duration": 19,
    "start_time": "2022-01-17T21:06:09.990Z"
   },
   {
    "duration": 9,
    "start_time": "2022-01-17T21:06:10.011Z"
   },
   {
    "duration": 9,
    "start_time": "2022-01-17T21:06:10.023Z"
   },
   {
    "duration": 44,
    "start_time": "2022-01-17T21:06:10.033Z"
   },
   {
    "duration": 13,
    "start_time": "2022-01-17T21:06:10.079Z"
   },
   {
    "duration": 4,
    "start_time": "2022-01-17T21:06:10.094Z"
   },
   {
    "duration": 29,
    "start_time": "2022-01-17T21:06:10.100Z"
   },
   {
    "duration": 463,
    "start_time": "2022-01-17T21:06:10.132Z"
   },
   {
    "duration": 16,
    "start_time": "2022-01-17T21:06:10.597Z"
   },
   {
    "duration": 1538,
    "start_time": "2022-01-17T21:06:10.615Z"
   },
   {
    "duration": 13,
    "start_time": "2022-01-17T21:06:12.156Z"
   },
   {
    "duration": 409,
    "start_time": "2022-01-17T21:06:12.172Z"
   },
   {
    "duration": 547,
    "start_time": "2022-01-17T21:06:12.583Z"
   },
   {
    "duration": 13,
    "start_time": "2022-01-17T21:06:13.132Z"
   },
   {
    "duration": 327,
    "start_time": "2022-01-17T21:06:13.147Z"
   },
   {
    "duration": 509,
    "start_time": "2022-01-17T21:06:13.476Z"
   },
   {
    "duration": 8,
    "start_time": "2022-01-17T21:06:13.986Z"
   },
   {
    "duration": 301,
    "start_time": "2022-01-17T21:06:13.996Z"
   },
   {
    "duration": 452,
    "start_time": "2022-01-17T21:06:14.299Z"
   },
   {
    "duration": 14,
    "start_time": "2022-01-17T21:06:14.752Z"
   },
   {
    "duration": 271,
    "start_time": "2022-01-17T21:06:14.767Z"
   },
   {
    "duration": 593,
    "start_time": "2022-01-17T21:06:19.352Z"
   },
   {
    "duration": 11,
    "start_time": "2022-01-17T21:09:24.886Z"
   },
   {
    "duration": 12,
    "start_time": "2022-01-17T21:10:23.370Z"
   },
   {
    "duration": 11,
    "start_time": "2022-01-17T21:10:29.143Z"
   },
   {
    "duration": 11,
    "start_time": "2022-01-17T21:10:32.036Z"
   },
   {
    "duration": 12,
    "start_time": "2022-01-17T21:10:48.745Z"
   },
   {
    "duration": 11,
    "start_time": "2022-01-17T21:10:54.008Z"
   },
   {
    "duration": 11,
    "start_time": "2022-01-17T21:10:57.268Z"
   },
   {
    "duration": 11,
    "start_time": "2022-01-17T21:10:59.862Z"
   },
   {
    "duration": 11,
    "start_time": "2022-01-17T21:11:03.258Z"
   },
   {
    "duration": 12,
    "start_time": "2022-01-17T21:11:09.459Z"
   },
   {
    "duration": 12,
    "start_time": "2022-01-17T21:11:12.531Z"
   },
   {
    "duration": 11,
    "start_time": "2022-01-17T21:11:15.554Z"
   },
   {
    "duration": 10,
    "start_time": "2022-01-17T21:11:19.409Z"
   },
   {
    "duration": 10,
    "start_time": "2022-01-17T21:11:32.804Z"
   },
   {
    "duration": 10,
    "start_time": "2022-01-17T21:11:46.148Z"
   },
   {
    "duration": 11,
    "start_time": "2022-01-17T21:12:07.652Z"
   },
   {
    "duration": 10,
    "start_time": "2022-01-17T21:12:20.229Z"
   },
   {
    "duration": 568,
    "start_time": "2022-01-17T21:12:32.534Z"
   },
   {
    "duration": 405,
    "start_time": "2022-01-17T21:13:01.913Z"
   },
   {
    "duration": 585,
    "start_time": "2022-01-17T21:14:07.385Z"
   },
   {
    "duration": 384,
    "start_time": "2022-01-17T21:14:22.096Z"
   },
   {
    "duration": 20,
    "start_time": "2022-01-17T21:15:44.978Z"
   },
   {
    "duration": 6,
    "start_time": "2022-01-17T21:15:52.338Z"
   },
   {
    "duration": 1399,
    "start_time": "2022-01-17T21:16:06.973Z"
   },
   {
    "duration": 618,
    "start_time": "2022-01-17T21:16:21.145Z"
   },
   {
    "duration": 479,
    "start_time": "2022-01-17T21:17:34.621Z"
   },
   {
    "duration": 480,
    "start_time": "2022-01-17T21:18:11.861Z"
   },
   {
    "duration": 6,
    "start_time": "2022-01-17T21:19:15.284Z"
   },
   {
    "duration": 235,
    "start_time": "2022-01-17T21:20:12.817Z"
   },
   {
    "duration": 482,
    "start_time": "2022-01-17T21:20:48.016Z"
   },
   {
    "duration": 1836,
    "start_time": "2022-01-17T21:21:10.582Z"
   },
   {
    "duration": 227,
    "start_time": "2022-01-17T21:21:23.154Z"
   },
   {
    "duration": 5,
    "start_time": "2022-01-17T21:21:47.505Z"
   },
   {
    "duration": 228,
    "start_time": "2022-01-17T21:21:50.257Z"
   },
   {
    "duration": 5,
    "start_time": "2022-01-17T21:24:29.062Z"
   },
   {
    "duration": 5,
    "start_time": "2022-01-17T21:24:58.578Z"
   },
   {
    "duration": 220,
    "start_time": "2022-01-17T21:25:27.457Z"
   },
   {
    "duration": 12,
    "start_time": "2022-01-17T21:26:01.494Z"
   },
   {
    "duration": 4,
    "start_time": "2022-01-17T21:26:31.790Z"
   },
   {
    "duration": 86,
    "start_time": "2022-01-17T21:26:31.797Z"
   },
   {
    "duration": 24,
    "start_time": "2022-01-17T21:26:31.886Z"
   },
   {
    "duration": 22,
    "start_time": "2022-01-17T21:26:31.912Z"
   },
   {
    "duration": 28,
    "start_time": "2022-01-17T21:26:31.936Z"
   },
   {
    "duration": 8,
    "start_time": "2022-01-17T21:26:31.966Z"
   },
   {
    "duration": 6,
    "start_time": "2022-01-17T21:26:31.976Z"
   },
   {
    "duration": 9,
    "start_time": "2022-01-17T21:26:31.984Z"
   },
   {
    "duration": 14,
    "start_time": "2022-01-17T21:26:31.996Z"
   },
   {
    "duration": 61,
    "start_time": "2022-01-17T21:26:32.012Z"
   },
   {
    "duration": 755,
    "start_time": "2022-01-17T21:26:32.075Z"
   },
   {
    "duration": 45,
    "start_time": "2022-01-17T21:26:32.832Z"
   },
   {
    "duration": 44,
    "start_time": "2022-01-17T21:26:32.879Z"
   },
   {
    "duration": 38,
    "start_time": "2022-01-17T21:26:32.924Z"
   },
   {
    "duration": 8,
    "start_time": "2022-01-17T21:26:32.964Z"
   },
   {
    "duration": 8,
    "start_time": "2022-01-17T21:26:32.974Z"
   },
   {
    "duration": 18,
    "start_time": "2022-01-17T21:26:32.983Z"
   },
   {
    "duration": 13,
    "start_time": "2022-01-17T21:26:33.002Z"
   },
   {
    "duration": 5,
    "start_time": "2022-01-17T21:26:33.016Z"
   },
   {
    "duration": 51,
    "start_time": "2022-01-17T21:26:33.023Z"
   },
   {
    "duration": 368,
    "start_time": "2022-01-17T21:26:33.076Z"
   },
   {
    "duration": 27,
    "start_time": "2022-01-17T21:26:33.445Z"
   },
   {
    "duration": 1547,
    "start_time": "2022-01-17T21:26:33.473Z"
   },
   {
    "duration": 12,
    "start_time": "2022-01-17T21:26:35.024Z"
   },
   {
    "duration": 417,
    "start_time": "2022-01-17T21:26:35.038Z"
   },
   {
    "duration": 553,
    "start_time": "2022-01-17T21:26:35.461Z"
   },
   {
    "duration": 13,
    "start_time": "2022-01-17T21:26:36.016Z"
   },
   {
    "duration": 310,
    "start_time": "2022-01-17T21:26:36.031Z"
   },
   {
    "duration": 521,
    "start_time": "2022-01-17T21:26:36.343Z"
   },
   {
    "duration": 9,
    "start_time": "2022-01-17T21:26:36.866Z"
   },
   {
    "duration": 316,
    "start_time": "2022-01-17T21:26:36.877Z"
   },
   {
    "duration": 465,
    "start_time": "2022-01-17T21:26:37.195Z"
   },
   {
    "duration": 10,
    "start_time": "2022-01-17T21:26:37.662Z"
   },
   {
    "duration": 275,
    "start_time": "2022-01-17T21:26:37.674Z"
   },
   {
    "duration": 591,
    "start_time": "2022-01-17T21:26:37.951Z"
   },
   {
    "duration": 20,
    "start_time": "2022-01-17T21:26:38.544Z"
   },
   {
    "duration": 390,
    "start_time": "2022-01-17T21:26:38.566Z"
   },
   {
    "duration": 483,
    "start_time": "2022-01-17T21:26:38.958Z"
   },
   {
    "duration": 7,
    "start_time": "2022-01-17T21:26:39.442Z"
   },
   {
    "duration": 23,
    "start_time": "2022-01-17T21:27:00.272Z"
   },
   {
    "duration": 727,
    "start_time": "2022-01-17T21:27:22.019Z"
   },
   {
    "duration": 472,
    "start_time": "2022-01-17T21:27:31.532Z"
   },
   {
    "duration": 1820,
    "start_time": "2022-01-17T21:27:43.164Z"
   },
   {
    "duration": 398,
    "start_time": "2022-01-17T21:27:56.417Z"
   },
   {
    "duration": 1162,
    "start_time": "2022-01-17T21:28:11.955Z"
   },
   {
    "duration": 772,
    "start_time": "2022-01-17T21:28:22.738Z"
   },
   {
    "duration": 490,
    "start_time": "2022-01-17T21:28:40.174Z"
   },
   {
    "duration": 11,
    "start_time": "2022-01-17T21:29:05.185Z"
   },
   {
    "duration": 421,
    "start_time": "2022-01-17T21:29:05.198Z"
   },
   {
    "duration": 547,
    "start_time": "2022-01-17T21:29:05.622Z"
   },
   {
    "duration": 7,
    "start_time": "2022-01-17T21:29:06.171Z"
   },
   {
    "duration": 8,
    "start_time": "2022-01-17T21:29:06.180Z"
   },
   {
    "duration": 608,
    "start_time": "2022-01-17T21:29:06.190Z"
   },
   {
    "duration": 8,
    "start_time": "2022-01-17T21:29:06.800Z"
   },
   {
    "duration": 4,
    "start_time": "2022-01-17T21:29:06.811Z"
   },
   {
    "duration": 428,
    "start_time": "2022-01-17T21:29:06.818Z"
   },
   {
    "duration": 15,
    "start_time": "2022-01-17T21:29:07.248Z"
   },
   {
    "duration": 8,
    "start_time": "2022-01-17T21:29:07.265Z"
   },
   {
    "duration": 429,
    "start_time": "2022-01-17T21:29:07.275Z"
   },
   {
    "duration": 339,
    "start_time": "2022-01-17T21:29:07.706Z"
   },
   {
    "duration": 702,
    "start_time": "2022-01-17T21:29:08.047Z"
   },
   {
    "duration": 386,
    "start_time": "2022-01-17T21:29:08.751Z"
   },
   {
    "duration": 404,
    "start_time": "2022-01-17T21:29:09.138Z"
   },
   {
    "duration": 440,
    "start_time": "2022-01-17T21:29:09.543Z"
   },
   {
    "duration": 280,
    "start_time": "2022-01-17T21:29:09.985Z"
   },
   {
    "duration": 20,
    "start_time": "2022-01-17T21:29:10.267Z"
   },
   {
    "duration": 59,
    "start_time": "2022-01-17T21:29:10.289Z"
   },
   {
    "duration": 33,
    "start_time": "2022-01-17T21:29:10.350Z"
   },
   {
    "duration": 4,
    "start_time": "2022-01-17T21:29:10.385Z"
   },
   {
    "duration": 323,
    "start_time": "2022-01-17T21:29:10.392Z"
   },
   {
    "duration": 7,
    "start_time": "2022-01-17T21:29:10.717Z"
   },
   {
    "duration": 516,
    "start_time": "2022-01-17T21:29:10.726Z"
   },
   {
    "duration": 207,
    "start_time": "2022-01-17T21:29:11.245Z"
   },
   {
    "duration": 283,
    "start_time": "2022-01-17T21:29:11.460Z"
   },
   {
    "duration": 294,
    "start_time": "2022-01-17T21:29:11.745Z"
   },
   {
    "duration": 23,
    "start_time": "2022-01-17T21:29:12.041Z"
   },
   {
    "duration": 4412,
    "start_time": "2022-01-17T21:29:12.065Z"
   },
   {
    "duration": 7073,
    "start_time": "2022-01-17T21:29:16.479Z"
   },
   {
    "duration": 6,
    "start_time": "2022-01-17T21:32:54.940Z"
   },
   {
    "duration": 126,
    "start_time": "2022-01-17T21:32:54.949Z"
   },
   {
    "duration": 34,
    "start_time": "2022-01-17T21:32:55.078Z"
   },
   {
    "duration": 11,
    "start_time": "2022-01-17T21:32:55.114Z"
   },
   {
    "duration": 34,
    "start_time": "2022-01-17T21:32:55.127Z"
   },
   {
    "duration": 10,
    "start_time": "2022-01-17T21:32:55.163Z"
   },
   {
    "duration": 9,
    "start_time": "2022-01-17T21:32:55.175Z"
   },
   {
    "duration": 17,
    "start_time": "2022-01-17T21:32:55.187Z"
   },
   {
    "duration": 19,
    "start_time": "2022-01-17T21:32:55.205Z"
   },
   {
    "duration": 53,
    "start_time": "2022-01-17T21:32:55.226Z"
   },
   {
    "duration": 828,
    "start_time": "2022-01-17T21:32:55.282Z"
   },
   {
    "duration": 60,
    "start_time": "2022-01-17T21:32:56.112Z"
   },
   {
    "duration": 50,
    "start_time": "2022-01-17T21:32:56.174Z"
   },
   {
    "duration": 39,
    "start_time": "2022-01-17T21:32:56.226Z"
   },
   {
    "duration": 9,
    "start_time": "2022-01-17T21:32:56.267Z"
   },
   {
    "duration": 10,
    "start_time": "2022-01-17T21:32:56.278Z"
   },
   {
    "duration": 24,
    "start_time": "2022-01-17T21:32:56.290Z"
   },
   {
    "duration": 15,
    "start_time": "2022-01-17T21:32:56.316Z"
   },
   {
    "duration": 30,
    "start_time": "2022-01-17T21:32:56.335Z"
   },
   {
    "duration": 27,
    "start_time": "2022-01-17T21:32:56.368Z"
   },
   {
    "duration": 366,
    "start_time": "2022-01-17T21:32:56.397Z"
   },
   {
    "duration": 19,
    "start_time": "2022-01-17T21:32:56.765Z"
   },
   {
    "duration": 1739,
    "start_time": "2022-01-17T21:32:56.786Z"
   },
   {
    "duration": 13,
    "start_time": "2022-01-17T21:32:58.526Z"
   },
   {
    "duration": 431,
    "start_time": "2022-01-17T21:32:58.541Z"
   },
   {
    "duration": 694,
    "start_time": "2022-01-17T21:32:58.973Z"
   },
   {
    "duration": 16,
    "start_time": "2022-01-17T21:32:59.669Z"
   },
   {
    "duration": 344,
    "start_time": "2022-01-17T21:32:59.687Z"
   },
   {
    "duration": 559,
    "start_time": "2022-01-17T21:33:00.033Z"
   },
   {
    "duration": 9,
    "start_time": "2022-01-17T21:33:00.595Z"
   },
   {
    "duration": 324,
    "start_time": "2022-01-17T21:33:00.606Z"
   },
   {
    "duration": 486,
    "start_time": "2022-01-17T21:33:00.932Z"
   },
   {
    "duration": 10,
    "start_time": "2022-01-17T21:33:01.419Z"
   },
   {
    "duration": 312,
    "start_time": "2022-01-17T21:33:01.431Z"
   },
   {
    "duration": 647,
    "start_time": "2022-01-17T21:33:01.746Z"
   },
   {
    "duration": 15,
    "start_time": "2022-01-17T21:33:02.395Z"
   },
   {
    "duration": 415,
    "start_time": "2022-01-17T21:33:02.412Z"
   },
   {
    "duration": 500,
    "start_time": "2022-01-17T21:33:02.829Z"
   },
   {
    "duration": 7,
    "start_time": "2022-01-17T21:33:03.331Z"
   },
   {
    "duration": 23,
    "start_time": "2022-01-17T21:33:03.340Z"
   },
   {
    "duration": 758,
    "start_time": "2022-01-17T21:33:03.364Z"
   },
   {
    "duration": 4,
    "start_time": "2022-01-17T21:34:01.282Z"
   },
   {
    "duration": 81,
    "start_time": "2022-01-17T21:34:01.291Z"
   },
   {
    "duration": 25,
    "start_time": "2022-01-17T21:34:01.375Z"
   },
   {
    "duration": 32,
    "start_time": "2022-01-17T21:34:01.402Z"
   },
   {
    "duration": 14,
    "start_time": "2022-01-17T21:34:01.436Z"
   },
   {
    "duration": 23,
    "start_time": "2022-01-17T21:34:01.452Z"
   },
   {
    "duration": 9,
    "start_time": "2022-01-17T21:34:01.478Z"
   },
   {
    "duration": 29,
    "start_time": "2022-01-17T21:34:01.489Z"
   },
   {
    "duration": 15,
    "start_time": "2022-01-17T21:34:01.521Z"
   },
   {
    "duration": 41,
    "start_time": "2022-01-17T21:34:01.538Z"
   },
   {
    "duration": 817,
    "start_time": "2022-01-17T21:34:01.581Z"
   },
   {
    "duration": 43,
    "start_time": "2022-01-17T21:34:02.400Z"
   },
   {
    "duration": 53,
    "start_time": "2022-01-17T21:34:02.461Z"
   },
   {
    "duration": 21,
    "start_time": "2022-01-17T21:34:02.516Z"
   },
   {
    "duration": 10,
    "start_time": "2022-01-17T21:34:02.560Z"
   },
   {
    "duration": 10,
    "start_time": "2022-01-17T21:34:02.572Z"
   },
   {
    "duration": 26,
    "start_time": "2022-01-17T21:34:02.583Z"
   },
   {
    "duration": 14,
    "start_time": "2022-01-17T21:34:02.611Z"
   },
   {
    "duration": 5,
    "start_time": "2022-01-17T21:34:02.627Z"
   },
   {
    "duration": 48,
    "start_time": "2022-01-17T21:34:02.634Z"
   },
   {
    "duration": 378,
    "start_time": "2022-01-17T21:34:02.685Z"
   },
   {
    "duration": 17,
    "start_time": "2022-01-17T21:34:03.065Z"
   },
   {
    "duration": 1371,
    "start_time": "2022-01-17T21:34:03.084Z"
   },
   {
    "duration": 13,
    "start_time": "2022-01-17T21:34:04.462Z"
   },
   {
    "duration": 666,
    "start_time": "2022-01-17T21:34:04.477Z"
   },
   {
    "duration": 890,
    "start_time": "2022-01-17T21:34:05.145Z"
   },
   {
    "duration": 23,
    "start_time": "2022-01-17T21:34:06.037Z"
   },
   {
    "duration": 392,
    "start_time": "2022-01-17T21:34:06.063Z"
   },
   {
    "duration": 322,
    "start_time": "2022-01-17T21:34:06.461Z"
   },
   {
    "duration": 7,
    "start_time": "2022-01-17T21:34:06.785Z"
   },
   {
    "duration": 313,
    "start_time": "2022-01-17T21:34:06.794Z"
   },
   {
    "duration": 494,
    "start_time": "2022-01-17T21:34:07.109Z"
   },
   {
    "duration": 8,
    "start_time": "2022-01-17T21:34:07.605Z"
   },
   {
    "duration": 293,
    "start_time": "2022-01-17T21:34:07.614Z"
   },
   {
    "duration": 600,
    "start_time": "2022-01-17T21:34:07.909Z"
   },
   {
    "duration": 12,
    "start_time": "2022-01-17T21:34:08.510Z"
   },
   {
    "duration": 668,
    "start_time": "2022-01-17T21:34:08.524Z"
   },
   {
    "duration": 516,
    "start_time": "2022-01-17T21:34:09.194Z"
   },
   {
    "duration": 7,
    "start_time": "2022-01-17T21:34:09.712Z"
   },
   {
    "duration": 5,
    "start_time": "2022-01-17T21:34:09.721Z"
   },
   {
    "duration": 631,
    "start_time": "2022-01-17T21:34:09.729Z"
   },
   {
    "duration": 588,
    "start_time": "2022-01-17T21:34:44.296Z"
   },
   {
    "duration": 2074,
    "start_time": "2022-01-17T21:36:04.410Z"
   },
   {
    "duration": 441,
    "start_time": "2022-01-17T21:36:19.564Z"
   },
   {
    "duration": 342,
    "start_time": "2022-01-17T21:36:27.082Z"
   },
   {
    "duration": 5,
    "start_time": "2022-01-17T22:32:48.188Z"
   },
   {
    "duration": 69,
    "start_time": "2022-01-17T22:32:48.197Z"
   },
   {
    "duration": 24,
    "start_time": "2022-01-17T22:32:48.268Z"
   },
   {
    "duration": 12,
    "start_time": "2022-01-17T22:32:48.295Z"
   },
   {
    "duration": 8,
    "start_time": "2022-01-17T22:32:48.309Z"
   },
   {
    "duration": 49,
    "start_time": "2022-01-17T22:32:48.319Z"
   },
   {
    "duration": 8,
    "start_time": "2022-01-17T22:32:48.370Z"
   },
   {
    "duration": 12,
    "start_time": "2022-01-17T22:32:48.380Z"
   },
   {
    "duration": 20,
    "start_time": "2022-01-17T22:32:48.395Z"
   },
   {
    "duration": 69,
    "start_time": "2022-01-17T22:32:48.418Z"
   },
   {
    "duration": 854,
    "start_time": "2022-01-17T22:32:48.489Z"
   },
   {
    "duration": 54,
    "start_time": "2022-01-17T22:32:49.345Z"
   },
   {
    "duration": 47,
    "start_time": "2022-01-17T22:32:49.401Z"
   },
   {
    "duration": 21,
    "start_time": "2022-01-17T22:32:49.461Z"
   },
   {
    "duration": 10,
    "start_time": "2022-01-17T22:32:49.484Z"
   },
   {
    "duration": 10,
    "start_time": "2022-01-17T22:32:49.496Z"
   },
   {
    "duration": 54,
    "start_time": "2022-01-17T22:32:49.508Z"
   },
   {
    "duration": 18,
    "start_time": "2022-01-17T22:32:49.565Z"
   },
   {
    "duration": 7,
    "start_time": "2022-01-17T22:32:49.585Z"
   },
   {
    "duration": 24,
    "start_time": "2022-01-17T22:32:49.594Z"
   },
   {
    "duration": 422,
    "start_time": "2022-01-17T22:32:49.619Z"
   },
   {
    "duration": 29,
    "start_time": "2022-01-17T22:32:50.043Z"
   },
   {
    "duration": 1823,
    "start_time": "2022-01-17T22:32:50.074Z"
   },
   {
    "duration": 13,
    "start_time": "2022-01-17T22:32:51.901Z"
   },
   {
    "duration": 458,
    "start_time": "2022-01-17T22:32:51.916Z"
   },
   {
    "duration": 625,
    "start_time": "2022-01-17T22:32:52.376Z"
   },
   {
    "duration": 13,
    "start_time": "2022-01-17T22:32:53.003Z"
   },
   {
    "duration": 326,
    "start_time": "2022-01-17T22:32:53.018Z"
   },
   {
    "duration": 569,
    "start_time": "2022-01-17T22:32:53.346Z"
   },
   {
    "duration": 10,
    "start_time": "2022-01-17T22:32:53.917Z"
   },
   {
    "duration": 315,
    "start_time": "2022-01-17T22:32:53.929Z"
   },
   {
    "duration": 546,
    "start_time": "2022-01-17T22:32:54.246Z"
   },
   {
    "duration": 8,
    "start_time": "2022-01-17T22:32:54.794Z"
   },
   {
    "duration": 371,
    "start_time": "2022-01-17T22:32:54.804Z"
   },
   {
    "duration": 664,
    "start_time": "2022-01-17T22:32:55.177Z"
   },
   {
    "duration": 19,
    "start_time": "2022-01-17T22:32:55.843Z"
   },
   {
    "duration": 436,
    "start_time": "2022-01-17T22:32:55.864Z"
   },
   {
    "duration": 576,
    "start_time": "2022-01-17T22:32:56.302Z"
   },
   {
    "duration": 9,
    "start_time": "2022-01-17T22:32:56.880Z"
   },
   {
    "duration": 4,
    "start_time": "2022-01-17T22:32:56.892Z"
   },
   {
    "duration": 663,
    "start_time": "2022-01-17T22:32:56.898Z"
   },
   {
    "duration": 576,
    "start_time": "2022-01-17T22:32:57.562Z"
   },
   {
    "duration": 568,
    "start_time": "2022-01-17T22:35:07.181Z"
   },
   {
    "duration": 582,
    "start_time": "2022-01-17T22:36:45.802Z"
   },
   {
    "duration": 4,
    "start_time": "2022-01-17T22:37:39.723Z"
   },
   {
    "duration": 229,
    "start_time": "2022-01-17T22:44:31.188Z"
   },
   {
    "duration": 217,
    "start_time": "2022-01-17T22:44:57.306Z"
   },
   {
    "duration": 226,
    "start_time": "2022-01-17T22:45:20.249Z"
   },
   {
    "duration": 230,
    "start_time": "2022-01-17T22:45:29.112Z"
   },
   {
    "duration": 78,
    "start_time": "2022-01-17T22:45:58.767Z"
   },
   {
    "duration": 74,
    "start_time": "2022-01-17T22:46:10.326Z"
   },
   {
    "duration": 510,
    "start_time": "2022-01-17T22:46:15.158Z"
   },
   {
    "duration": 537,
    "start_time": "2022-01-17T22:46:23.213Z"
   },
   {
    "duration": 339,
    "start_time": "2022-01-17T22:46:34.404Z"
   },
   {
    "duration": 409,
    "start_time": "2022-01-17T22:46:41.180Z"
   },
   {
    "duration": 464,
    "start_time": "2022-01-17T22:46:53.307Z"
   },
   {
    "duration": 384,
    "start_time": "2022-01-17T22:47:18.265Z"
   },
   {
    "duration": 394,
    "start_time": "2022-01-17T22:47:23.010Z"
   },
   {
    "duration": 337,
    "start_time": "2022-01-17T22:47:27.873Z"
   },
   {
    "duration": 348,
    "start_time": "2022-01-17T22:47:38.337Z"
   },
   {
    "duration": 344,
    "start_time": "2022-01-17T22:47:55.736Z"
   },
   {
    "duration": 402,
    "start_time": "2022-01-17T22:55:29.797Z"
   },
   {
    "duration": 4,
    "start_time": "2022-01-17T22:56:06.859Z"
   },
   {
    "duration": 508,
    "start_time": "2022-01-17T22:56:21.379Z"
   },
   {
    "duration": 320,
    "start_time": "2022-01-17T22:56:28.619Z"
   },
   {
    "duration": 4,
    "start_time": "2022-01-17T22:57:49.758Z"
   },
   {
    "duration": 3,
    "start_time": "2022-01-17T22:57:54.766Z"
   },
   {
    "duration": 306,
    "start_time": "2022-01-17T22:58:00.389Z"
   },
   {
    "duration": 737,
    "start_time": "2022-01-17T22:58:05.477Z"
   },
   {
    "duration": 5355,
    "start_time": "2022-01-17T23:00:11.246Z"
   },
   {
    "duration": 1163,
    "start_time": "2022-01-17T23:00:55.919Z"
   },
   {
    "duration": 70,
    "start_time": "2022-01-17T23:00:57.084Z"
   },
   {
    "duration": 25,
    "start_time": "2022-01-17T23:00:57.156Z"
   },
   {
    "duration": 23,
    "start_time": "2022-01-17T23:00:57.183Z"
   },
   {
    "duration": 15,
    "start_time": "2022-01-17T23:00:57.208Z"
   },
   {
    "duration": 33,
    "start_time": "2022-01-17T23:00:57.225Z"
   },
   {
    "duration": 15,
    "start_time": "2022-01-17T23:00:57.260Z"
   },
   {
    "duration": 16,
    "start_time": "2022-01-17T23:00:57.278Z"
   },
   {
    "duration": 27,
    "start_time": "2022-01-17T23:00:57.296Z"
   },
   {
    "duration": 32,
    "start_time": "2022-01-17T23:00:57.325Z"
   },
   {
    "duration": 680,
    "start_time": "2022-01-17T23:00:57.359Z"
   },
   {
    "duration": 49,
    "start_time": "2022-01-17T23:00:58.041Z"
   },
   {
    "duration": 45,
    "start_time": "2022-01-17T23:00:58.092Z"
   },
   {
    "duration": 36,
    "start_time": "2022-01-17T23:00:58.139Z"
   },
   {
    "duration": 7,
    "start_time": "2022-01-17T23:00:58.177Z"
   },
   {
    "duration": 11,
    "start_time": "2022-01-17T23:00:58.186Z"
   },
   {
    "duration": 20,
    "start_time": "2022-01-17T23:00:58.198Z"
   },
   {
    "duration": 42,
    "start_time": "2022-01-17T23:00:58.220Z"
   },
   {
    "duration": 4,
    "start_time": "2022-01-17T23:00:58.263Z"
   },
   {
    "duration": 29,
    "start_time": "2022-01-17T23:00:58.269Z"
   },
   {
    "duration": 361,
    "start_time": "2022-01-17T23:00:58.299Z"
   },
   {
    "duration": 17,
    "start_time": "2022-01-17T23:00:58.662Z"
   },
   {
    "duration": 1455,
    "start_time": "2022-01-17T23:00:58.682Z"
   },
   {
    "duration": 21,
    "start_time": "2022-01-17T23:01:00.139Z"
   },
   {
    "duration": 388,
    "start_time": "2022-01-17T23:01:00.162Z"
   },
   {
    "duration": 529,
    "start_time": "2022-01-17T23:01:00.552Z"
   },
   {
    "duration": 12,
    "start_time": "2022-01-17T23:01:01.083Z"
   },
   {
    "duration": 353,
    "start_time": "2022-01-17T23:01:01.097Z"
   },
   {
    "duration": 287,
    "start_time": "2022-01-17T23:01:01.452Z"
   },
   {
    "duration": 23,
    "start_time": "2022-01-17T23:01:01.741Z"
   },
   {
    "duration": 428,
    "start_time": "2022-01-17T23:01:01.766Z"
   },
   {
    "duration": 478,
    "start_time": "2022-01-17T23:01:02.196Z"
   },
   {
    "duration": 9,
    "start_time": "2022-01-17T23:01:02.677Z"
   },
   {
    "duration": 294,
    "start_time": "2022-01-17T23:01:02.688Z"
   },
   {
    "duration": 580,
    "start_time": "2022-01-17T23:01:02.984Z"
   },
   {
    "duration": 11,
    "start_time": "2022-01-17T23:01:03.566Z"
   },
   {
    "duration": 389,
    "start_time": "2022-01-17T23:01:03.578Z"
   },
   {
    "duration": 467,
    "start_time": "2022-01-17T23:01:03.969Z"
   },
   {
    "duration": 7,
    "start_time": "2022-01-17T23:01:04.437Z"
   },
   {
    "duration": 4,
    "start_time": "2022-01-17T23:01:04.461Z"
   },
   {
    "duration": 580,
    "start_time": "2022-01-17T23:01:04.467Z"
   },
   {
    "duration": 321,
    "start_time": "2022-01-17T23:01:05.049Z"
   },
   {
    "duration": 315,
    "start_time": "2022-01-17T23:01:05.372Z"
   },
   {
    "duration": 376,
    "start_time": "2022-01-17T23:01:05.689Z"
   },
   {
    "duration": 5795,
    "start_time": "2022-01-17T23:01:09.320Z"
   },
   {
    "duration": 5195,
    "start_time": "2022-01-17T23:03:26.913Z"
   },
   {
    "duration": 304,
    "start_time": "2022-01-17T23:05:15.594Z"
   },
   {
    "duration": 996,
    "start_time": "2022-01-17T23:07:05.292Z"
   },
   {
    "duration": 941,
    "start_time": "2022-01-17T23:07:29.754Z"
   },
   {
    "duration": 6032,
    "start_time": "2022-01-17T23:07:39.138Z"
   },
   {
    "duration": 494,
    "start_time": "2022-01-17T23:08:08.208Z"
   },
   {
    "duration": 312,
    "start_time": "2022-01-17T23:08:13.048Z"
   },
   {
    "duration": 323,
    "start_time": "2022-01-17T23:08:19.240Z"
   },
   {
    "duration": 5385,
    "start_time": "2022-01-17T23:11:46.533Z"
   },
   {
    "duration": 5420,
    "start_time": "2022-01-17T23:13:21.542Z"
   },
   {
    "duration": 65,
    "start_time": "2022-01-17T23:15:31.312Z"
   },
   {
    "duration": 597,
    "start_time": "2022-01-17T23:15:38.439Z"
   },
   {
    "duration": 5237,
    "start_time": "2022-01-17T23:16:02.895Z"
   },
   {
    "duration": 293,
    "start_time": "2022-01-17T23:16:46.811Z"
   },
   {
    "duration": 475,
    "start_time": "2022-01-17T23:16:58.163Z"
   },
   {
    "duration": 354,
    "start_time": "2022-01-17T23:17:16.698Z"
   },
   {
    "duration": 336,
    "start_time": "2022-01-17T23:17:31.426Z"
   },
   {
    "duration": 5520,
    "start_time": "2022-01-17T23:18:30.678Z"
   },
   {
    "duration": 5144,
    "start_time": "2022-01-17T23:19:26.402Z"
   },
   {
    "duration": 338,
    "start_time": "2022-01-17T23:22:11.625Z"
   },
   {
    "duration": 322,
    "start_time": "2022-01-17T23:22:15.856Z"
   },
   {
    "duration": 435,
    "start_time": "2022-01-17T23:22:21.681Z"
   },
   {
    "duration": 4924,
    "start_time": "2022-01-17T23:26:46.457Z"
   },
   {
    "duration": 5053,
    "start_time": "2022-01-17T23:27:26.048Z"
   },
   {
    "duration": 4,
    "start_time": "2022-01-17T23:28:33.803Z"
   },
   {
    "duration": 5390,
    "start_time": "2022-01-17T23:28:39.059Z"
   },
   {
    "duration": 5235,
    "start_time": "2022-01-17T23:28:52.233Z"
   },
   {
    "duration": 5560,
    "start_time": "2022-01-17T23:29:11.659Z"
   },
   {
    "duration": 5364,
    "start_time": "2022-01-17T23:30:04.758Z"
   },
   {
    "duration": 5145,
    "start_time": "2022-01-17T23:30:21.317Z"
   },
   {
    "duration": 6000,
    "start_time": "2022-01-17T23:30:35.421Z"
   },
   {
    "duration": 796,
    "start_time": "2022-01-17T23:33:00.076Z"
   },
   {
    "duration": 206,
    "start_time": "2022-01-17T23:33:27.811Z"
   },
   {
    "duration": 5235,
    "start_time": "2022-01-17T23:34:34.006Z"
   },
   {
    "duration": 6007,
    "start_time": "2022-01-17T23:34:52.733Z"
   },
   {
    "duration": 6082,
    "start_time": "2022-01-17T23:35:06.005Z"
   },
   {
    "duration": 6217,
    "start_time": "2022-01-17T23:35:19.795Z"
   },
   {
    "duration": 6261,
    "start_time": "2022-01-17T23:35:41.338Z"
   },
   {
    "duration": 6535,
    "start_time": "2022-01-17T23:35:55.889Z"
   },
   {
    "duration": 15,
    "start_time": "2022-01-17T23:40:53.223Z"
   },
   {
    "duration": 21,
    "start_time": "2022-01-17T23:40:57.025Z"
   },
   {
    "duration": 31,
    "start_time": "2022-01-17T23:41:02.464Z"
   },
   {
    "duration": 244,
    "start_time": "2022-01-17T23:41:27.910Z"
   },
   {
    "duration": 36,
    "start_time": "2022-01-17T23:41:49.381Z"
   },
   {
    "duration": 29,
    "start_time": "2022-01-17T23:42:05.309Z"
   },
   {
    "duration": 10,
    "start_time": "2022-01-17T23:43:05.904Z"
   },
   {
    "duration": 19,
    "start_time": "2022-01-17T23:43:19.472Z"
   },
   {
    "duration": 14,
    "start_time": "2022-01-17T23:43:29.606Z"
   },
   {
    "duration": 19,
    "start_time": "2022-01-17T23:43:43.334Z"
   },
   {
    "duration": 28,
    "start_time": "2022-01-17T23:43:49.341Z"
   },
   {
    "duration": 8,
    "start_time": "2022-01-17T23:44:22.812Z"
   },
   {
    "duration": 11,
    "start_time": "2022-01-17T23:45:05.793Z"
   },
   {
    "duration": 29,
    "start_time": "2022-01-17T23:45:20.961Z"
   },
   {
    "duration": 3,
    "start_time": "2022-01-17T23:45:27.132Z"
   },
   {
    "duration": 70,
    "start_time": "2022-01-17T23:45:27.138Z"
   },
   {
    "duration": 22,
    "start_time": "2022-01-17T23:45:27.209Z"
   },
   {
    "duration": 31,
    "start_time": "2022-01-17T23:45:27.233Z"
   },
   {
    "duration": 10,
    "start_time": "2022-01-17T23:45:27.266Z"
   },
   {
    "duration": 9,
    "start_time": "2022-01-17T23:45:27.278Z"
   },
   {
    "duration": 8,
    "start_time": "2022-01-17T23:45:27.288Z"
   },
   {
    "duration": 13,
    "start_time": "2022-01-17T23:45:27.297Z"
   },
   {
    "duration": 52,
    "start_time": "2022-01-17T23:45:27.313Z"
   },
   {
    "duration": 19,
    "start_time": "2022-01-17T23:45:27.367Z"
   },
   {
    "duration": 698,
    "start_time": "2022-01-17T23:45:27.389Z"
   },
   {
    "duration": 37,
    "start_time": "2022-01-17T23:45:28.089Z"
   },
   {
    "duration": 57,
    "start_time": "2022-01-17T23:45:28.127Z"
   },
   {
    "duration": 17,
    "start_time": "2022-01-17T23:45:28.186Z"
   },
   {
    "duration": 7,
    "start_time": "2022-01-17T23:45:28.205Z"
   },
   {
    "duration": 8,
    "start_time": "2022-01-17T23:45:28.213Z"
   },
   {
    "duration": 41,
    "start_time": "2022-01-17T23:45:28.222Z"
   },
   {
    "duration": 12,
    "start_time": "2022-01-17T23:45:28.265Z"
   },
   {
    "duration": 4,
    "start_time": "2022-01-17T23:45:28.279Z"
   },
   {
    "duration": 23,
    "start_time": "2022-01-17T23:45:28.284Z"
   },
   {
    "duration": 380,
    "start_time": "2022-01-17T23:45:28.309Z"
   },
   {
    "duration": 16,
    "start_time": "2022-01-17T23:45:28.691Z"
   },
   {
    "duration": 1344,
    "start_time": "2022-01-17T23:45:28.708Z"
   },
   {
    "duration": 11,
    "start_time": "2022-01-17T23:45:30.061Z"
   },
   {
    "duration": 389,
    "start_time": "2022-01-17T23:45:30.074Z"
   },
   {
    "duration": 523,
    "start_time": "2022-01-17T23:45:30.465Z"
   },
   {
    "duration": 9,
    "start_time": "2022-01-17T23:45:30.990Z"
   },
   {
    "duration": 320,
    "start_time": "2022-01-17T23:45:31.001Z"
   },
   {
    "duration": 457,
    "start_time": "2022-01-17T23:45:31.323Z"
   },
   {
    "duration": 9,
    "start_time": "2022-01-17T23:45:31.782Z"
   },
   {
    "duration": 350,
    "start_time": "2022-01-17T23:45:31.793Z"
   },
   {
    "duration": 444,
    "start_time": "2022-01-17T23:45:32.145Z"
   },
   {
    "duration": 8,
    "start_time": "2022-01-17T23:45:32.590Z"
   },
   {
    "duration": 293,
    "start_time": "2022-01-17T23:45:32.600Z"
   },
   {
    "duration": 565,
    "start_time": "2022-01-17T23:45:32.895Z"
   },
   {
    "duration": 10,
    "start_time": "2022-01-17T23:45:33.462Z"
   },
   {
    "duration": 393,
    "start_time": "2022-01-17T23:45:33.473Z"
   },
   {
    "duration": 585,
    "start_time": "2022-01-17T23:45:33.867Z"
   },
   {
    "duration": 12,
    "start_time": "2022-01-17T23:45:34.454Z"
   },
   {
    "duration": 5,
    "start_time": "2022-01-17T23:45:34.468Z"
   },
   {
    "duration": 511,
    "start_time": "2022-01-17T23:45:34.475Z"
   },
   {
    "duration": 328,
    "start_time": "2022-01-17T23:45:34.988Z"
   },
   {
    "duration": 358,
    "start_time": "2022-01-17T23:45:35.319Z"
   },
   {
    "duration": 368,
    "start_time": "2022-01-17T23:45:35.679Z"
   },
   {
    "duration": 5541,
    "start_time": "2022-01-17T23:45:36.049Z"
   },
   {
    "duration": 5853,
    "start_time": "2022-01-17T23:45:41.592Z"
   },
   {
    "duration": 6318,
    "start_time": "2022-01-17T23:45:47.447Z"
   },
   {
    "duration": 13,
    "start_time": "2022-01-17T23:45:53.766Z"
   },
   {
    "duration": 19,
    "start_time": "2022-01-17T23:45:53.781Z"
   },
   {
    "duration": 27,
    "start_time": "2022-01-17T23:45:53.801Z"
   },
   {
    "duration": 8,
    "start_time": "2022-01-17T23:53:09.437Z"
   },
   {
    "duration": 3,
    "start_time": "2022-01-17T23:53:35.097Z"
   },
   {
    "duration": 68,
    "start_time": "2022-01-17T23:53:35.101Z"
   },
   {
    "duration": 24,
    "start_time": "2022-01-17T23:53:35.171Z"
   },
   {
    "duration": 12,
    "start_time": "2022-01-17T23:53:35.197Z"
   },
   {
    "duration": 9,
    "start_time": "2022-01-17T23:53:35.211Z"
   },
   {
    "duration": 40,
    "start_time": "2022-01-17T23:53:35.222Z"
   },
   {
    "duration": 7,
    "start_time": "2022-01-17T23:53:35.264Z"
   },
   {
    "duration": 13,
    "start_time": "2022-01-17T23:53:35.273Z"
   },
   {
    "duration": 16,
    "start_time": "2022-01-17T23:53:35.289Z"
   },
   {
    "duration": 58,
    "start_time": "2022-01-17T23:53:35.308Z"
   },
   {
    "duration": 693,
    "start_time": "2022-01-17T23:53:35.368Z"
   },
   {
    "duration": 40,
    "start_time": "2022-01-17T23:53:36.063Z"
   },
   {
    "duration": 63,
    "start_time": "2022-01-17T23:53:36.105Z"
   },
   {
    "duration": 19,
    "start_time": "2022-01-17T23:53:36.170Z"
   },
   {
    "duration": 9,
    "start_time": "2022-01-17T23:53:36.191Z"
   },
   {
    "duration": 8,
    "start_time": "2022-01-17T23:53:36.202Z"
   },
   {
    "duration": 50,
    "start_time": "2022-01-17T23:53:36.212Z"
   },
   {
    "duration": 15,
    "start_time": "2022-01-17T23:53:36.264Z"
   },
   {
    "duration": 5,
    "start_time": "2022-01-17T23:53:36.281Z"
   },
   {
    "duration": 27,
    "start_time": "2022-01-17T23:53:36.287Z"
   },
   {
    "duration": 384,
    "start_time": "2022-01-17T23:53:36.316Z"
   },
   {
    "duration": 18,
    "start_time": "2022-01-17T23:53:36.702Z"
   },
   {
    "duration": 1395,
    "start_time": "2022-01-17T23:53:36.722Z"
   },
   {
    "duration": 12,
    "start_time": "2022-01-17T23:53:38.121Z"
   },
   {
    "duration": 412,
    "start_time": "2022-01-17T23:53:38.135Z"
   },
   {
    "duration": 545,
    "start_time": "2022-01-17T23:53:38.548Z"
   },
   {
    "duration": 10,
    "start_time": "2022-01-17T23:53:39.095Z"
   },
   {
    "duration": 319,
    "start_time": "2022-01-17T23:53:39.107Z"
   },
   {
    "duration": 287,
    "start_time": "2022-01-17T23:53:39.428Z"
   },
   {
    "duration": 8,
    "start_time": "2022-01-17T23:53:39.717Z"
   },
   {
    "duration": 287,
    "start_time": "2022-01-17T23:53:39.726Z"
   },
   {
    "duration": 597,
    "start_time": "2022-01-17T23:53:40.016Z"
   },
   {
    "duration": 10,
    "start_time": "2022-01-17T23:53:40.615Z"
   },
   {
    "duration": 301,
    "start_time": "2022-01-17T23:53:40.627Z"
   },
   {
    "duration": 574,
    "start_time": "2022-01-17T23:53:40.930Z"
   },
   {
    "duration": 10,
    "start_time": "2022-01-17T23:53:41.506Z"
   },
   {
    "duration": 410,
    "start_time": "2022-01-17T23:53:41.518Z"
   },
   {
    "duration": 465,
    "start_time": "2022-01-17T23:53:41.930Z"
   },
   {
    "duration": 8,
    "start_time": "2022-01-17T23:53:42.398Z"
   },
   {
    "duration": 20,
    "start_time": "2022-01-17T23:53:42.407Z"
   },
   {
    "duration": 603,
    "start_time": "2022-01-17T23:53:42.429Z"
   },
   {
    "duration": 326,
    "start_time": "2022-01-17T23:53:43.034Z"
   },
   {
    "duration": 293,
    "start_time": "2022-01-17T23:53:43.362Z"
   },
   {
    "duration": 363,
    "start_time": "2022-01-17T23:53:43.661Z"
   },
   {
    "duration": 5588,
    "start_time": "2022-01-17T23:53:44.026Z"
   },
   {
    "duration": 5375,
    "start_time": "2022-01-17T23:53:49.617Z"
   },
   {
    "duration": 6415,
    "start_time": "2022-01-17T23:53:54.993Z"
   },
   {
    "duration": 14,
    "start_time": "2022-01-17T23:54:01.410Z"
   },
   {
    "duration": 37,
    "start_time": "2022-01-17T23:54:01.425Z"
   },
   {
    "duration": 32,
    "start_time": "2022-01-17T23:54:01.464Z"
   },
   {
    "duration": 8,
    "start_time": "2022-01-17T23:54:01.498Z"
   },
   {
    "duration": 531,
    "start_time": "2022-01-18T00:00:52.283Z"
   },
   {
    "duration": 3,
    "start_time": "2022-01-18T00:01:06.903Z"
   },
   {
    "duration": 78,
    "start_time": "2022-01-18T00:01:06.908Z"
   },
   {
    "duration": 24,
    "start_time": "2022-01-18T00:01:06.988Z"
   },
   {
    "duration": 14,
    "start_time": "2022-01-18T00:01:07.014Z"
   },
   {
    "duration": 35,
    "start_time": "2022-01-18T00:01:07.030Z"
   },
   {
    "duration": 9,
    "start_time": "2022-01-18T00:01:07.067Z"
   },
   {
    "duration": 8,
    "start_time": "2022-01-18T00:01:07.078Z"
   },
   {
    "duration": 11,
    "start_time": "2022-01-18T00:01:07.088Z"
   },
   {
    "duration": 16,
    "start_time": "2022-01-18T00:01:07.102Z"
   },
   {
    "duration": 52,
    "start_time": "2022-01-18T00:01:07.120Z"
   },
   {
    "duration": 686,
    "start_time": "2022-01-18T00:01:07.174Z"
   },
   {
    "duration": 36,
    "start_time": "2022-01-18T00:01:07.862Z"
   },
   {
    "duration": 66,
    "start_time": "2022-01-18T00:01:07.900Z"
   },
   {
    "duration": 20,
    "start_time": "2022-01-18T00:01:07.968Z"
   },
   {
    "duration": 7,
    "start_time": "2022-01-18T00:01:07.990Z"
   },
   {
    "duration": 8,
    "start_time": "2022-01-18T00:01:07.999Z"
   },
   {
    "duration": 21,
    "start_time": "2022-01-18T00:01:08.009Z"
   },
   {
    "duration": 41,
    "start_time": "2022-01-18T00:01:08.031Z"
   },
   {
    "duration": 4,
    "start_time": "2022-01-18T00:01:08.074Z"
   },
   {
    "duration": 24,
    "start_time": "2022-01-18T00:01:08.080Z"
   },
   {
    "duration": 375,
    "start_time": "2022-01-18T00:01:08.106Z"
   },
   {
    "duration": 17,
    "start_time": "2022-01-18T00:01:08.482Z"
   },
   {
    "duration": 1403,
    "start_time": "2022-01-18T00:01:08.500Z"
   },
   {
    "duration": 11,
    "start_time": "2022-01-18T00:01:09.905Z"
   },
   {
    "duration": 408,
    "start_time": "2022-01-18T00:01:09.918Z"
   },
   {
    "duration": 223,
    "start_time": "2022-01-18T00:01:45.488Z"
   },
   {
    "duration": 545,
    "start_time": "2022-01-18T00:01:54.929Z"
   },
   {
    "duration": 508,
    "start_time": "2022-01-18T00:03:31.042Z"
   },
   {
    "duration": 534,
    "start_time": "2022-01-18T00:03:41.985Z"
   },
   {
    "duration": 3,
    "start_time": "2022-01-18T00:03:56.140Z"
   },
   {
    "duration": 72,
    "start_time": "2022-01-18T00:03:56.146Z"
   },
   {
    "duration": 40,
    "start_time": "2022-01-18T00:03:56.220Z"
   },
   {
    "duration": 11,
    "start_time": "2022-01-18T00:03:56.262Z"
   },
   {
    "duration": 9,
    "start_time": "2022-01-18T00:03:56.274Z"
   },
   {
    "duration": 8,
    "start_time": "2022-01-18T00:03:56.285Z"
   },
   {
    "duration": 6,
    "start_time": "2022-01-18T00:03:56.295Z"
   },
   {
    "duration": 10,
    "start_time": "2022-01-18T00:03:56.303Z"
   },
   {
    "duration": 201,
    "start_time": "2022-01-18T00:03:56.316Z"
   },
   {
    "duration": 18,
    "start_time": "2022-01-18T00:03:56.519Z"
   },
   {
    "duration": 682,
    "start_time": "2022-01-18T00:03:56.539Z"
   },
   {
    "duration": 44,
    "start_time": "2022-01-18T00:03:57.223Z"
   },
   {
    "duration": 40,
    "start_time": "2022-01-18T00:03:57.269Z"
   },
   {
    "duration": 17,
    "start_time": "2022-01-18T00:03:57.310Z"
   },
   {
    "duration": 33,
    "start_time": "2022-01-18T00:03:57.329Z"
   },
   {
    "duration": 9,
    "start_time": "2022-01-18T00:03:57.363Z"
   },
   {
    "duration": 19,
    "start_time": "2022-01-18T00:03:57.374Z"
   },
   {
    "duration": 12,
    "start_time": "2022-01-18T00:03:57.394Z"
   },
   {
    "duration": 4,
    "start_time": "2022-01-18T00:03:57.407Z"
   },
   {
    "duration": 23,
    "start_time": "2022-01-18T00:03:57.412Z"
   },
   {
    "duration": 368,
    "start_time": "2022-01-18T00:03:57.437Z"
   },
   {
    "duration": 15,
    "start_time": "2022-01-18T00:03:57.806Z"
   },
   {
    "duration": 1256,
    "start_time": "2022-01-18T00:03:57.823Z"
   },
   {
    "duration": 11,
    "start_time": "2022-01-18T00:03:59.081Z"
   },
   {
    "duration": 498,
    "start_time": "2022-01-18T00:03:59.094Z"
   },
   {
    "duration": 569,
    "start_time": "2022-01-18T00:03:59.593Z"
   },
   {
    "duration": 454,
    "start_time": "2022-01-18T00:04:22.958Z"
   },
   {
    "duration": 449,
    "start_time": "2022-01-18T00:04:30.319Z"
   },
   {
    "duration": 452,
    "start_time": "2022-01-18T00:04:36.533Z"
   },
   {
    "duration": 558,
    "start_time": "2022-01-18T00:04:42.989Z"
   },
   {
    "duration": 463,
    "start_time": "2022-01-18T00:05:49.753Z"
   },
   {
    "duration": 200,
    "start_time": "2022-01-18T00:06:58.990Z"
   },
   {
    "duration": 11,
    "start_time": "2022-01-18T00:07:05.709Z"
   },
   {
    "duration": 15,
    "start_time": "2022-01-18T00:07:31.637Z"
   },
   {
    "duration": 14,
    "start_time": "2022-01-18T00:07:43.867Z"
   },
   {
    "duration": 329,
    "start_time": "2022-01-18T00:07:53.378Z"
   },
   {
    "duration": 12,
    "start_time": "2022-01-18T00:08:00.834Z"
   },
   {
    "duration": 12,
    "start_time": "2022-01-18T00:08:15.410Z"
   },
   {
    "duration": 13,
    "start_time": "2022-01-18T00:08:35.600Z"
   },
   {
    "duration": 13,
    "start_time": "2022-01-18T00:08:41.441Z"
   },
   {
    "duration": 11,
    "start_time": "2022-01-18T00:08:58.031Z"
   },
   {
    "duration": 13,
    "start_time": "2022-01-18T00:09:02.142Z"
   },
   {
    "duration": 12,
    "start_time": "2022-01-18T00:09:05.758Z"
   },
   {
    "duration": 13,
    "start_time": "2022-01-18T00:09:08.270Z"
   },
   {
    "duration": 10,
    "start_time": "2022-01-18T00:09:13.621Z"
   },
   {
    "duration": 11,
    "start_time": "2022-01-18T00:09:17.246Z"
   },
   {
    "duration": 12,
    "start_time": "2022-01-18T00:09:20.077Z"
   },
   {
    "duration": 11,
    "start_time": "2022-01-18T00:09:25.053Z"
   },
   {
    "duration": 545,
    "start_time": "2022-01-18T00:10:01.359Z"
   },
   {
    "duration": 473,
    "start_time": "2022-01-18T00:10:31.482Z"
   },
   {
    "duration": 479,
    "start_time": "2022-01-18T00:10:44.041Z"
   },
   {
    "duration": 471,
    "start_time": "2022-01-18T00:10:54.072Z"
   },
   {
    "duration": 624,
    "start_time": "2022-01-18T00:11:05.192Z"
   },
   {
    "duration": 455,
    "start_time": "2022-01-18T00:11:16.095Z"
   },
   {
    "duration": 11,
    "start_time": "2022-01-18T00:11:26.582Z"
   },
   {
    "duration": 307,
    "start_time": "2022-01-18T00:12:43.130Z"
   },
   {
    "duration": 406,
    "start_time": "2022-01-18T00:12:56.833Z"
   },
   {
    "duration": 3,
    "start_time": "2022-01-18T00:13:11.780Z"
   },
   {
    "duration": 103,
    "start_time": "2022-01-18T00:13:11.786Z"
   },
   {
    "duration": 24,
    "start_time": "2022-01-18T00:13:11.891Z"
   },
   {
    "duration": 14,
    "start_time": "2022-01-18T00:13:11.917Z"
   },
   {
    "duration": 35,
    "start_time": "2022-01-18T00:13:11.933Z"
   },
   {
    "duration": 9,
    "start_time": "2022-01-18T00:13:11.970Z"
   },
   {
    "duration": 8,
    "start_time": "2022-01-18T00:13:11.982Z"
   },
   {
    "duration": 11,
    "start_time": "2022-01-18T00:13:11.992Z"
   },
   {
    "duration": 58,
    "start_time": "2022-01-18T00:13:12.005Z"
   },
   {
    "duration": 22,
    "start_time": "2022-01-18T00:13:12.065Z"
   },
   {
    "duration": 732,
    "start_time": "2022-01-18T00:13:12.089Z"
   },
   {
    "duration": 51,
    "start_time": "2022-01-18T00:13:12.823Z"
   },
   {
    "duration": 44,
    "start_time": "2022-01-18T00:13:12.876Z"
   },
   {
    "duration": 18,
    "start_time": "2022-01-18T00:13:12.922Z"
   },
   {
    "duration": 8,
    "start_time": "2022-01-18T00:13:12.961Z"
   },
   {
    "duration": 8,
    "start_time": "2022-01-18T00:13:12.971Z"
   },
   {
    "duration": 20,
    "start_time": "2022-01-18T00:13:12.981Z"
   },
   {
    "duration": 12,
    "start_time": "2022-01-18T00:13:13.003Z"
   },
   {
    "duration": 3,
    "start_time": "2022-01-18T00:13:13.020Z"
   },
   {
    "duration": 47,
    "start_time": "2022-01-18T00:13:13.026Z"
   },
   {
    "duration": 531,
    "start_time": "2022-01-18T00:13:13.075Z"
   },
   {
    "duration": 22,
    "start_time": "2022-01-18T00:13:13.608Z"
   },
   {
    "duration": 1445,
    "start_time": "2022-01-18T00:13:13.632Z"
   },
   {
    "duration": 11,
    "start_time": "2022-01-18T00:13:15.079Z"
   },
   {
    "duration": 386,
    "start_time": "2022-01-18T00:13:15.092Z"
   },
   {
    "duration": 600,
    "start_time": "2022-01-18T00:13:15.480Z"
   },
   {
    "duration": 12,
    "start_time": "2022-01-18T00:13:16.082Z"
   },
   {
    "duration": 428,
    "start_time": "2022-01-18T00:13:16.096Z"
   },
   {
    "duration": 279,
    "start_time": "2022-01-18T00:13:16.526Z"
   },
   {
    "duration": 8,
    "start_time": "2022-01-18T00:13:16.807Z"
   },
   {
    "duration": 295,
    "start_time": "2022-01-18T00:13:16.817Z"
   },
   {
    "duration": 470,
    "start_time": "2022-01-18T00:13:17.114Z"
   },
   {
    "duration": 7,
    "start_time": "2022-01-18T00:13:17.586Z"
   },
   {
    "duration": 299,
    "start_time": "2022-01-18T00:13:17.595Z"
   },
   {
    "duration": 729,
    "start_time": "2022-01-18T00:13:17.896Z"
   },
   {
    "duration": 11,
    "start_time": "2022-01-18T00:13:18.627Z"
   },
   {
    "duration": 408,
    "start_time": "2022-01-18T00:13:18.640Z"
   },
   {
    "duration": 495,
    "start_time": "2022-01-18T00:13:19.050Z"
   },
   {
    "duration": 15,
    "start_time": "2022-01-18T00:13:19.546Z"
   },
   {
    "duration": 4,
    "start_time": "2022-01-18T00:13:19.563Z"
   },
   {
    "duration": 494,
    "start_time": "2022-01-18T00:13:19.569Z"
   },
   {
    "duration": 319,
    "start_time": "2022-01-18T00:13:20.065Z"
   },
   {
    "duration": 303,
    "start_time": "2022-01-18T00:13:20.386Z"
   },
   {
    "duration": 477,
    "start_time": "2022-01-18T00:13:20.691Z"
   },
   {
    "duration": 5794,
    "start_time": "2022-01-18T00:13:21.169Z"
   },
   {
    "duration": 5539,
    "start_time": "2022-01-18T00:13:26.965Z"
   },
   {
    "duration": 6443,
    "start_time": "2022-01-18T00:13:32.506Z"
   },
   {
    "duration": 20,
    "start_time": "2022-01-18T00:13:38.950Z"
   },
   {
    "duration": 19,
    "start_time": "2022-01-18T00:13:38.972Z"
   },
   {
    "duration": 28,
    "start_time": "2022-01-18T00:13:38.992Z"
   },
   {
    "duration": 4,
    "start_time": "2022-01-18T00:13:39.022Z"
   },
   {
    "duration": 214,
    "start_time": "2022-01-18T00:13:39.027Z"
   },
   {
    "duration": 7,
    "start_time": "2022-01-18T00:13:39.242Z"
   },
   {
    "duration": 336,
    "start_time": "2022-01-18T00:13:39.251Z"
   },
   {
    "duration": 190,
    "start_time": "2022-01-18T00:13:39.592Z"
   },
   {
    "duration": 250,
    "start_time": "2022-01-18T00:13:39.784Z"
   },
   {
    "duration": 391,
    "start_time": "2022-01-18T00:13:40.036Z"
   },
   {
    "duration": 10,
    "start_time": "2022-01-18T00:13:40.429Z"
   },
   {
    "duration": 601,
    "start_time": "2022-01-18T00:13:40.441Z"
   },
   {
    "duration": 5855,
    "start_time": "2022-01-18T00:13:41.044Z"
   },
   {
    "duration": 3,
    "start_time": "2022-01-18T00:15:04.716Z"
   },
   {
    "duration": 94,
    "start_time": "2022-01-18T00:15:04.723Z"
   },
   {
    "duration": 44,
    "start_time": "2022-01-18T00:15:04.819Z"
   },
   {
    "duration": 14,
    "start_time": "2022-01-18T00:15:04.866Z"
   },
   {
    "duration": 7,
    "start_time": "2022-01-18T00:15:04.883Z"
   },
   {
    "duration": 11,
    "start_time": "2022-01-18T00:15:04.892Z"
   },
   {
    "duration": 7,
    "start_time": "2022-01-18T00:15:04.906Z"
   },
   {
    "duration": 12,
    "start_time": "2022-01-18T00:15:04.960Z"
   },
   {
    "duration": 294,
    "start_time": "2022-01-18T00:15:04.975Z"
   },
   {
    "duration": 29,
    "start_time": "2022-01-18T00:15:05.272Z"
   },
   {
    "duration": 994,
    "start_time": "2022-01-18T00:15:05.303Z"
   },
   {
    "duration": 39,
    "start_time": "2022-01-18T00:15:06.299Z"
   },
   {
    "duration": 60,
    "start_time": "2022-01-18T00:15:06.339Z"
   },
   {
    "duration": 19,
    "start_time": "2022-01-18T00:15:06.401Z"
   },
   {
    "duration": 8,
    "start_time": "2022-01-18T00:15:06.421Z"
   },
   {
    "duration": 36,
    "start_time": "2022-01-18T00:15:06.431Z"
   },
   {
    "duration": 19,
    "start_time": "2022-01-18T00:15:06.468Z"
   },
   {
    "duration": 13,
    "start_time": "2022-01-18T00:15:06.489Z"
   },
   {
    "duration": 5,
    "start_time": "2022-01-18T00:15:06.504Z"
   },
   {
    "duration": 52,
    "start_time": "2022-01-18T00:15:06.510Z"
   },
   {
    "duration": 420,
    "start_time": "2022-01-18T00:15:06.565Z"
   },
   {
    "duration": 23,
    "start_time": "2022-01-18T00:15:06.987Z"
   },
   {
    "duration": 1332,
    "start_time": "2022-01-18T00:15:07.012Z"
   },
   {
    "duration": 18,
    "start_time": "2022-01-18T00:15:08.348Z"
   },
   {
    "duration": 539,
    "start_time": "2022-01-18T00:15:08.368Z"
   },
   {
    "duration": 471,
    "start_time": "2022-01-18T00:15:08.909Z"
   },
   {
    "duration": 11,
    "start_time": "2022-01-18T00:15:09.382Z"
   },
   {
    "duration": 448,
    "start_time": "2022-01-18T00:15:09.395Z"
   },
   {
    "duration": 280,
    "start_time": "2022-01-18T00:15:09.845Z"
   },
   {
    "duration": 9,
    "start_time": "2022-01-18T00:15:10.127Z"
   },
   {
    "duration": 316,
    "start_time": "2022-01-18T00:15:10.139Z"
   },
   {
    "duration": 451,
    "start_time": "2022-01-18T00:15:10.456Z"
   },
   {
    "duration": 8,
    "start_time": "2022-01-18T00:15:10.909Z"
   },
   {
    "duration": 434,
    "start_time": "2022-01-18T00:15:10.919Z"
   },
   {
    "duration": 594,
    "start_time": "2022-01-18T00:15:11.355Z"
   },
   {
    "duration": 11,
    "start_time": "2022-01-18T00:15:11.960Z"
   },
   {
    "duration": 475,
    "start_time": "2022-01-18T00:15:11.973Z"
   },
   {
    "duration": 475,
    "start_time": "2022-01-18T00:15:12.450Z"
   },
   {
    "duration": 7,
    "start_time": "2022-01-18T00:15:12.926Z"
   },
   {
    "duration": 9,
    "start_time": "2022-01-18T00:15:12.934Z"
   },
   {
    "duration": 736,
    "start_time": "2022-01-18T00:15:12.945Z"
   },
   {
    "duration": 318,
    "start_time": "2022-01-18T00:15:13.683Z"
   },
   {
    "duration": 469,
    "start_time": "2022-01-18T00:15:14.003Z"
   },
   {
    "duration": 360,
    "start_time": "2022-01-18T00:15:14.474Z"
   },
   {
    "duration": 5590,
    "start_time": "2022-01-18T00:15:14.835Z"
   },
   {
    "duration": 5634,
    "start_time": "2022-01-18T00:15:20.426Z"
   },
   {
    "duration": 6099,
    "start_time": "2022-01-18T00:15:26.062Z"
   },
   {
    "duration": 14,
    "start_time": "2022-01-18T00:15:32.162Z"
   },
   {
    "duration": 19,
    "start_time": "2022-01-18T00:15:32.178Z"
   },
   {
    "duration": 28,
    "start_time": "2022-01-18T00:15:32.199Z"
   },
   {
    "duration": 5,
    "start_time": "2022-01-18T00:15:59.967Z"
   },
   {
    "duration": 193,
    "start_time": "2022-01-18T00:16:02.271Z"
   },
   {
    "duration": 260,
    "start_time": "2022-01-18T00:16:35.076Z"
   },
   {
    "duration": 10,
    "start_time": "2022-01-18T00:17:23.738Z"
   },
   {
    "duration": 10,
    "start_time": "2022-01-18T00:17:32.713Z"
   },
   {
    "duration": 3,
    "start_time": "2022-01-18T00:18:55.512Z"
   },
   {
    "duration": 72,
    "start_time": "2022-01-18T00:18:55.519Z"
   },
   {
    "duration": 24,
    "start_time": "2022-01-18T00:18:55.593Z"
   },
   {
    "duration": 11,
    "start_time": "2022-01-18T00:18:55.620Z"
   },
   {
    "duration": 8,
    "start_time": "2022-01-18T00:18:55.662Z"
   },
   {
    "duration": 13,
    "start_time": "2022-01-18T00:18:55.672Z"
   },
   {
    "duration": 8,
    "start_time": "2022-01-18T00:18:55.687Z"
   },
   {
    "duration": 9,
    "start_time": "2022-01-18T00:18:55.697Z"
   },
   {
    "duration": 14,
    "start_time": "2022-01-18T00:18:55.709Z"
   },
   {
    "duration": 21,
    "start_time": "2022-01-18T00:18:55.761Z"
   },
   {
    "duration": 692,
    "start_time": "2022-01-18T00:18:55.784Z"
   },
   {
    "duration": 178,
    "start_time": "2022-01-18T00:18:56.478Z"
   },
   {
    "duration": 42,
    "start_time": "2022-01-18T00:18:56.661Z"
   },
   {
    "duration": 18,
    "start_time": "2022-01-18T00:18:56.705Z"
   },
   {
    "duration": 8,
    "start_time": "2022-01-18T00:18:56.725Z"
   },
   {
    "duration": 33,
    "start_time": "2022-01-18T00:18:56.735Z"
   },
   {
    "duration": 19,
    "start_time": "2022-01-18T00:18:56.769Z"
   },
   {
    "duration": 12,
    "start_time": "2022-01-18T00:18:56.790Z"
   },
   {
    "duration": 3,
    "start_time": "2022-01-18T00:18:56.804Z"
   },
   {
    "duration": 23,
    "start_time": "2022-01-18T00:18:56.809Z"
   },
   {
    "duration": 341,
    "start_time": "2022-01-18T00:18:56.861Z"
   },
   {
    "duration": 16,
    "start_time": "2022-01-18T00:18:57.204Z"
   },
   {
    "duration": 1232,
    "start_time": "2022-01-18T00:18:57.221Z"
   },
   {
    "duration": 14,
    "start_time": "2022-01-18T00:18:58.456Z"
   },
   {
    "duration": 371,
    "start_time": "2022-01-18T00:18:58.472Z"
   },
   {
    "duration": 581,
    "start_time": "2022-01-18T00:18:58.844Z"
   },
   {
    "duration": 55,
    "start_time": "2022-01-18T00:19:02.964Z"
   },
   {
    "duration": 60,
    "start_time": "2022-01-18T00:20:19.345Z"
   },
   {
    "duration": 3,
    "start_time": "2022-01-18T00:21:44.807Z"
   },
   {
    "duration": 73,
    "start_time": "2022-01-18T00:21:44.812Z"
   },
   {
    "duration": 23,
    "start_time": "2022-01-18T00:21:44.887Z"
   },
   {
    "duration": 10,
    "start_time": "2022-01-18T00:21:44.913Z"
   },
   {
    "duration": 40,
    "start_time": "2022-01-18T00:21:44.925Z"
   },
   {
    "duration": 8,
    "start_time": "2022-01-18T00:21:44.967Z"
   },
   {
    "duration": 7,
    "start_time": "2022-01-18T00:21:44.977Z"
   },
   {
    "duration": 12,
    "start_time": "2022-01-18T00:21:44.985Z"
   },
   {
    "duration": 20,
    "start_time": "2022-01-18T00:21:45.000Z"
   },
   {
    "duration": 52,
    "start_time": "2022-01-18T00:21:45.022Z"
   },
   {
    "duration": 707,
    "start_time": "2022-01-18T00:21:45.076Z"
   },
   {
    "duration": 37,
    "start_time": "2022-01-18T00:21:45.785Z"
   },
   {
    "duration": 55,
    "start_time": "2022-01-18T00:21:45.823Z"
   },
   {
    "duration": 17,
    "start_time": "2022-01-18T00:21:45.880Z"
   },
   {
    "duration": 8,
    "start_time": "2022-01-18T00:21:45.898Z"
   },
   {
    "duration": 7,
    "start_time": "2022-01-18T00:21:45.908Z"
   },
   {
    "duration": 45,
    "start_time": "2022-01-18T00:21:45.917Z"
   },
   {
    "duration": 13,
    "start_time": "2022-01-18T00:21:45.964Z"
   },
   {
    "duration": 4,
    "start_time": "2022-01-18T00:21:45.979Z"
   },
   {
    "duration": 27,
    "start_time": "2022-01-18T00:21:45.985Z"
   },
   {
    "duration": 356,
    "start_time": "2022-01-18T00:21:46.013Z"
   },
   {
    "duration": 16,
    "start_time": "2022-01-18T00:21:46.370Z"
   },
   {
    "duration": 1384,
    "start_time": "2022-01-18T00:21:46.387Z"
   },
   {
    "duration": 11,
    "start_time": "2022-01-18T00:21:47.774Z"
   },
   {
    "duration": 392,
    "start_time": "2022-01-18T00:21:47.787Z"
   },
   {
    "duration": 453,
    "start_time": "2022-01-18T00:21:48.180Z"
   },
   {
    "duration": 11,
    "start_time": "2022-01-18T00:21:48.635Z"
   },
   {
    "duration": 516,
    "start_time": "2022-01-18T00:21:48.660Z"
   },
   {
    "duration": 271,
    "start_time": "2022-01-18T00:21:49.178Z"
   },
   {
    "duration": 16,
    "start_time": "2022-01-18T00:21:49.450Z"
   },
   {
    "duration": 275,
    "start_time": "2022-01-18T00:21:49.467Z"
   },
   {
    "duration": 640,
    "start_time": "2022-01-18T00:21:49.744Z"
   },
   {
    "duration": 8,
    "start_time": "2022-01-18T00:21:50.386Z"
   },
   {
    "duration": 487,
    "start_time": "2022-01-18T00:21:50.395Z"
   },
   {
    "duration": 578,
    "start_time": "2022-01-18T00:21:50.883Z"
   },
   {
    "duration": 11,
    "start_time": "2022-01-18T00:21:51.463Z"
   },
   {
    "duration": 394,
    "start_time": "2022-01-18T00:21:51.476Z"
   },
   {
    "duration": 460,
    "start_time": "2022-01-18T00:21:51.872Z"
   },
   {
    "duration": 7,
    "start_time": "2022-01-18T00:21:52.333Z"
   },
   {
    "duration": 21,
    "start_time": "2022-01-18T00:21:52.341Z"
   },
   {
    "duration": 620,
    "start_time": "2022-01-18T00:21:52.364Z"
   },
   {
    "duration": 322,
    "start_time": "2022-01-18T00:21:52.986Z"
   },
   {
    "duration": 300,
    "start_time": "2022-01-18T00:21:53.310Z"
   },
   {
    "duration": 362,
    "start_time": "2022-01-18T00:21:53.612Z"
   },
   {
    "duration": 5531,
    "start_time": "2022-01-18T00:21:53.977Z"
   },
   {
    "duration": 5632,
    "start_time": "2022-01-18T00:21:59.510Z"
   },
   {
    "duration": 6678,
    "start_time": "2022-01-18T00:22:05.145Z"
   },
   {
    "duration": 12,
    "start_time": "2022-01-18T00:22:11.824Z"
   },
   {
    "duration": 49,
    "start_time": "2022-01-18T00:22:11.839Z"
   },
   {
    "duration": 271,
    "start_time": "2022-01-18T00:22:11.891Z"
   },
   {
    "duration": 10,
    "start_time": "2022-01-18T00:22:12.165Z"
   },
   {
    "duration": 222,
    "start_time": "2022-01-18T00:22:12.177Z"
   },
   {
    "duration": 8,
    "start_time": "2022-01-18T00:22:12.401Z"
   },
   {
    "duration": 338,
    "start_time": "2022-01-18T00:22:12.411Z"
   },
   {
    "duration": 188,
    "start_time": "2022-01-18T00:22:12.752Z"
   },
   {
    "duration": 256,
    "start_time": "2022-01-18T00:22:12.942Z"
   },
   {
    "duration": 268,
    "start_time": "2022-01-18T00:22:13.200Z"
   },
   {
    "duration": 10,
    "start_time": "2022-01-18T00:22:13.470Z"
   },
   {
    "duration": 568,
    "start_time": "2022-01-18T00:22:13.482Z"
   },
   {
    "duration": 5539,
    "start_time": "2022-01-18T00:22:14.052Z"
   },
   {
    "duration": 8,
    "start_time": "2022-01-18T00:23:40.895Z"
   },
   {
    "duration": 8,
    "start_time": "2022-01-18T00:23:46.901Z"
   },
   {
    "duration": 8,
    "start_time": "2022-01-18T00:24:12.626Z"
   },
   {
    "duration": 10,
    "start_time": "2022-01-18T00:24:19.634Z"
   },
   {
    "duration": 8,
    "start_time": "2022-01-18T00:24:26.538Z"
   },
   {
    "duration": 8,
    "start_time": "2022-01-18T00:24:31.306Z"
   },
   {
    "duration": 8,
    "start_time": "2022-01-18T00:24:34.850Z"
   },
   {
    "duration": 508,
    "start_time": "2022-01-18T00:25:46.493Z"
   },
   {
    "duration": 7,
    "start_time": "2022-01-18T00:26:48.555Z"
   },
   {
    "duration": 505,
    "start_time": "2022-01-18T00:28:00.502Z"
   },
   {
    "duration": 568,
    "start_time": "2022-01-18T00:28:07.022Z"
   },
   {
    "duration": 517,
    "start_time": "2022-01-18T00:28:14.917Z"
   },
   {
    "duration": 433,
    "start_time": "2022-01-18T00:28:23.236Z"
   },
   {
    "duration": 6,
    "start_time": "2022-01-18T00:29:13.938Z"
   },
   {
    "duration": 4,
    "start_time": "2022-01-18T00:29:16.809Z"
   },
   {
    "duration": 804,
    "start_time": "2022-01-18T00:29:21.225Z"
   },
   {
    "duration": 3,
    "start_time": "2022-01-18T00:29:35.631Z"
   },
   {
    "duration": 74,
    "start_time": "2022-01-18T00:29:35.636Z"
   },
   {
    "duration": 21,
    "start_time": "2022-01-18T00:29:35.713Z"
   },
   {
    "duration": 27,
    "start_time": "2022-01-18T00:29:35.735Z"
   },
   {
    "duration": 7,
    "start_time": "2022-01-18T00:29:35.764Z"
   },
   {
    "duration": 9,
    "start_time": "2022-01-18T00:29:35.773Z"
   },
   {
    "duration": 6,
    "start_time": "2022-01-18T00:29:35.784Z"
   },
   {
    "duration": 10,
    "start_time": "2022-01-18T00:29:35.792Z"
   },
   {
    "duration": 13,
    "start_time": "2022-01-18T00:29:35.803Z"
   },
   {
    "duration": 20,
    "start_time": "2022-01-18T00:29:35.861Z"
   },
   {
    "duration": 667,
    "start_time": "2022-01-18T00:29:35.883Z"
   },
   {
    "duration": 42,
    "start_time": "2022-01-18T00:29:36.551Z"
   },
   {
    "duration": 46,
    "start_time": "2022-01-18T00:29:36.595Z"
   },
   {
    "duration": 36,
    "start_time": "2022-01-18T00:29:36.643Z"
   },
   {
    "duration": 9,
    "start_time": "2022-01-18T00:29:36.681Z"
   },
   {
    "duration": 8,
    "start_time": "2022-01-18T00:29:36.692Z"
   },
   {
    "duration": 23,
    "start_time": "2022-01-18T00:29:36.702Z"
   },
   {
    "duration": 43,
    "start_time": "2022-01-18T00:29:36.726Z"
   },
   {
    "duration": 4,
    "start_time": "2022-01-18T00:29:36.772Z"
   },
   {
    "duration": 27,
    "start_time": "2022-01-18T00:29:36.778Z"
   },
   {
    "duration": 358,
    "start_time": "2022-01-18T00:29:36.807Z"
   },
   {
    "duration": 16,
    "start_time": "2022-01-18T00:29:37.166Z"
   },
   {
    "duration": 1393,
    "start_time": "2022-01-18T00:29:37.184Z"
   },
   {
    "duration": 11,
    "start_time": "2022-01-18T00:29:38.578Z"
   },
   {
    "duration": 369,
    "start_time": "2022-01-18T00:29:38.591Z"
   },
   {
    "duration": 457,
    "start_time": "2022-01-18T00:29:38.962Z"
   },
   {
    "duration": 11,
    "start_time": "2022-01-18T00:29:39.421Z"
   },
   {
    "duration": 411,
    "start_time": "2022-01-18T00:29:39.434Z"
   },
   {
    "duration": 260,
    "start_time": "2022-01-18T00:29:39.846Z"
   },
   {
    "duration": 7,
    "start_time": "2022-01-18T00:29:40.107Z"
   },
   {
    "duration": 317,
    "start_time": "2022-01-18T00:29:40.115Z"
   },
   {
    "duration": 588,
    "start_time": "2022-01-18T00:29:40.434Z"
   },
   {
    "duration": 7,
    "start_time": "2022-01-18T00:29:41.024Z"
   },
   {
    "duration": 5,
    "start_time": "2022-01-18T00:29:41.033Z"
   },
   {
    "duration": 577,
    "start_time": "2022-01-18T00:29:41.040Z"
   },
   {
    "duration": 11,
    "start_time": "2022-01-18T00:30:03.264Z"
   },
   {
    "duration": 11,
    "start_time": "2022-01-18T00:30:08.254Z"
   },
   {
    "duration": 10,
    "start_time": "2022-01-18T00:30:14.550Z"
   },
   {
    "duration": 11,
    "start_time": "2022-01-18T00:30:16.965Z"
   },
   {
    "duration": 12,
    "start_time": "2022-01-18T00:30:20.206Z"
   },
   {
    "duration": 12,
    "start_time": "2022-01-18T00:30:24.709Z"
   },
   {
    "duration": 11,
    "start_time": "2022-01-18T00:30:29.373Z"
   },
   {
    "duration": 11,
    "start_time": "2022-01-18T00:30:33.285Z"
   },
   {
    "duration": 11,
    "start_time": "2022-01-18T00:30:43.140Z"
   },
   {
    "duration": 338,
    "start_time": "2022-01-18T00:30:53.948Z"
   },
   {
    "duration": 385,
    "start_time": "2022-01-18T00:30:59.148Z"
   },
   {
    "duration": 451,
    "start_time": "2022-01-18T00:31:22.755Z"
   },
   {
    "duration": 8,
    "start_time": "2022-01-18T00:31:32.921Z"
   },
   {
    "duration": 6,
    "start_time": "2022-01-18T00:31:37.921Z"
   },
   {
    "duration": 472,
    "start_time": "2022-01-18T00:31:41.746Z"
   },
   {
    "duration": 566,
    "start_time": "2022-01-18T00:31:58.873Z"
   },
   {
    "duration": 8,
    "start_time": "2022-01-18T00:34:14.385Z"
   },
   {
    "duration": 522,
    "start_time": "2022-01-18T00:34:21.617Z"
   },
   {
    "duration": 3,
    "start_time": "2022-01-18T00:34:33.885Z"
   },
   {
    "duration": 79,
    "start_time": "2022-01-18T00:34:33.892Z"
   },
   {
    "duration": 24,
    "start_time": "2022-01-18T00:34:33.972Z"
   },
   {
    "duration": 10,
    "start_time": "2022-01-18T00:34:33.998Z"
   },
   {
    "duration": 10,
    "start_time": "2022-01-18T00:34:34.009Z"
   },
   {
    "duration": 41,
    "start_time": "2022-01-18T00:34:34.021Z"
   },
   {
    "duration": 8,
    "start_time": "2022-01-18T00:34:34.064Z"
   },
   {
    "duration": 10,
    "start_time": "2022-01-18T00:34:34.074Z"
   },
   {
    "duration": 14,
    "start_time": "2022-01-18T00:34:34.088Z"
   },
   {
    "duration": 20,
    "start_time": "2022-01-18T00:34:34.105Z"
   },
   {
    "duration": 666,
    "start_time": "2022-01-18T00:34:34.161Z"
   },
   {
    "duration": 49,
    "start_time": "2022-01-18T00:34:34.830Z"
   },
   {
    "duration": 41,
    "start_time": "2022-01-18T00:34:34.881Z"
   },
   {
    "duration": 39,
    "start_time": "2022-01-18T00:34:34.924Z"
   },
   {
    "duration": 9,
    "start_time": "2022-01-18T00:34:34.965Z"
   },
   {
    "duration": 9,
    "start_time": "2022-01-18T00:34:34.976Z"
   },
   {
    "duration": 20,
    "start_time": "2022-01-18T00:34:34.987Z"
   },
   {
    "duration": 13,
    "start_time": "2022-01-18T00:34:35.009Z"
   },
   {
    "duration": 37,
    "start_time": "2022-01-18T00:34:35.024Z"
   },
   {
    "duration": 23,
    "start_time": "2022-01-18T00:34:35.063Z"
   },
   {
    "duration": 351,
    "start_time": "2022-01-18T00:34:35.087Z"
   },
   {
    "duration": 24,
    "start_time": "2022-01-18T00:34:35.440Z"
   },
   {
    "duration": 1407,
    "start_time": "2022-01-18T00:34:35.466Z"
   },
   {
    "duration": 11,
    "start_time": "2022-01-18T00:34:36.877Z"
   },
   {
    "duration": 383,
    "start_time": "2022-01-18T00:34:36.890Z"
   },
   {
    "duration": 464,
    "start_time": "2022-01-18T00:34:37.275Z"
   },
   {
    "duration": 10,
    "start_time": "2022-01-18T00:34:37.741Z"
   },
   {
    "duration": 396,
    "start_time": "2022-01-18T00:34:37.760Z"
   },
   {
    "duration": 253,
    "start_time": "2022-01-18T00:34:38.157Z"
   },
   {
    "duration": 6,
    "start_time": "2022-01-18T00:34:38.412Z"
   },
   {
    "duration": 270,
    "start_time": "2022-01-18T00:34:38.420Z"
   },
   {
    "duration": 599,
    "start_time": "2022-01-18T00:34:38.692Z"
   },
   {
    "duration": 8,
    "start_time": "2022-01-18T00:34:39.292Z"
   },
   {
    "duration": 13,
    "start_time": "2022-01-18T00:35:21.005Z"
   },
   {
    "duration": 9,
    "start_time": "2022-01-18T00:35:35.028Z"
   },
   {
    "duration": 266,
    "start_time": "2022-01-18T00:36:03.187Z"
   },
   {
    "duration": 571,
    "start_time": "2022-01-18T00:36:15.738Z"
   },
   {
    "duration": 11,
    "start_time": "2022-01-18T00:36:20.386Z"
   },
   {
    "duration": 376,
    "start_time": "2022-01-18T00:36:25.097Z"
   },
   {
    "duration": 456,
    "start_time": "2022-01-18T00:36:29.272Z"
   },
   {
    "duration": 7,
    "start_time": "2022-01-18T00:36:34.937Z"
   },
   {
    "duration": 5,
    "start_time": "2022-01-18T00:36:37.672Z"
   },
   {
    "duration": 760,
    "start_time": "2022-01-18T00:36:40.216Z"
   },
   {
    "duration": 409,
    "start_time": "2022-01-18T00:36:45.408Z"
   },
   {
    "duration": 1688,
    "start_time": "2022-01-18T07:55:59.689Z"
   },
   {
    "duration": 91,
    "start_time": "2022-01-18T07:56:01.380Z"
   },
   {
    "duration": 41,
    "start_time": "2022-01-18T07:56:01.474Z"
   },
   {
    "duration": 17,
    "start_time": "2022-01-18T07:56:01.518Z"
   },
   {
    "duration": 13,
    "start_time": "2022-01-18T07:56:01.560Z"
   },
   {
    "duration": 13,
    "start_time": "2022-01-18T07:56:01.575Z"
   },
   {
    "duration": 12,
    "start_time": "2022-01-18T07:56:01.590Z"
   },
   {
    "duration": 12,
    "start_time": "2022-01-18T07:56:01.606Z"
   },
   {
    "duration": 22,
    "start_time": "2022-01-18T07:56:01.659Z"
   },
   {
    "duration": 31,
    "start_time": "2022-01-18T07:56:01.683Z"
   },
   {
    "duration": 1258,
    "start_time": "2022-01-18T07:56:01.717Z"
   },
   {
    "duration": 83,
    "start_time": "2022-01-18T07:56:02.978Z"
   },
   {
    "duration": 58,
    "start_time": "2022-01-18T07:56:03.063Z"
   },
   {
    "duration": 55,
    "start_time": "2022-01-18T07:56:03.123Z"
   },
   {
    "duration": 11,
    "start_time": "2022-01-18T07:56:03.181Z"
   },
   {
    "duration": 11,
    "start_time": "2022-01-18T07:56:03.194Z"
   },
   {
    "duration": 51,
    "start_time": "2022-01-18T07:56:03.208Z"
   },
   {
    "duration": 18,
    "start_time": "2022-01-18T07:56:03.262Z"
   },
   {
    "duration": 5,
    "start_time": "2022-01-18T07:56:03.283Z"
   },
   {
    "duration": 32,
    "start_time": "2022-01-18T07:56:03.290Z"
   },
   {
    "duration": 715,
    "start_time": "2022-01-18T07:56:03.324Z"
   },
   {
    "duration": 34,
    "start_time": "2022-01-18T07:56:04.041Z"
   },
   {
    "duration": 2385,
    "start_time": "2022-01-18T07:56:04.081Z"
   },
   {
    "duration": 15,
    "start_time": "2022-01-18T07:56:06.469Z"
   },
   {
    "duration": 760,
    "start_time": "2022-01-18T07:56:06.486Z"
   },
   {
    "duration": 841,
    "start_time": "2022-01-18T07:56:07.249Z"
   },
   {
    "duration": 22,
    "start_time": "2022-01-18T07:56:08.093Z"
   },
   {
    "duration": 1284,
    "start_time": "2022-01-18T07:56:08.118Z"
   },
   {
    "duration": 550,
    "start_time": "2022-01-18T07:56:09.404Z"
   },
   {
    "duration": 10,
    "start_time": "2022-01-18T07:56:09.960Z"
   },
   {
    "duration": 473,
    "start_time": "2022-01-18T07:56:09.973Z"
   },
   {
    "duration": 723,
    "start_time": "2022-01-18T07:56:10.448Z"
   },
   {
    "duration": 14,
    "start_time": "2022-01-18T07:56:11.173Z"
   },
   {
    "duration": 487,
    "start_time": "2022-01-18T07:56:11.190Z"
   },
   {
    "duration": 924,
    "start_time": "2022-01-18T07:56:11.680Z"
   },
   {
    "duration": 14,
    "start_time": "2022-01-18T07:56:12.607Z"
   },
   {
    "duration": 738,
    "start_time": "2022-01-18T07:56:12.624Z"
   },
   {
    "duration": 867,
    "start_time": "2022-01-18T07:56:13.364Z"
   },
   {
    "duration": 9,
    "start_time": "2022-01-18T07:56:14.233Z"
   },
   {
    "duration": 18,
    "start_time": "2022-01-18T07:56:14.244Z"
   },
   {
    "duration": 785,
    "start_time": "2022-01-18T07:56:14.265Z"
   },
   {
    "duration": 692,
    "start_time": "2022-01-18T07:56:15.052Z"
   },
   {
    "duration": 408,
    "start_time": "2022-01-18T07:56:15.746Z"
   },
   {
    "duration": 605,
    "start_time": "2022-01-18T07:56:16.160Z"
   },
   {
    "duration": 9236,
    "start_time": "2022-01-18T07:56:16.768Z"
   },
   {
    "duration": 8696,
    "start_time": "2022-01-18T07:56:26.007Z"
   },
   {
    "duration": 9747,
    "start_time": "2022-01-18T07:56:34.705Z"
   },
   {
    "duration": 16,
    "start_time": "2022-01-18T07:56:44.455Z"
   },
   {
    "duration": 27,
    "start_time": "2022-01-18T07:56:44.474Z"
   },
   {
    "duration": 77,
    "start_time": "2022-01-18T07:56:44.503Z"
   },
   {
    "duration": 11,
    "start_time": "2022-01-18T07:56:44.583Z"
   },
   {
    "duration": 369,
    "start_time": "2022-01-18T07:56:44.597Z"
   },
   {
    "duration": 8,
    "start_time": "2022-01-18T07:56:44.969Z"
   },
   {
    "duration": 560,
    "start_time": "2022-01-18T07:56:44.980Z"
   },
   {
    "duration": 318,
    "start_time": "2022-01-18T07:56:45.542Z"
   },
   {
    "duration": 422,
    "start_time": "2022-01-18T07:56:45.862Z"
   },
   {
    "duration": 453,
    "start_time": "2022-01-18T07:56:46.286Z"
   },
   {
    "duration": 21,
    "start_time": "2022-01-18T07:56:46.742Z"
   },
   {
    "duration": 948,
    "start_time": "2022-01-18T07:56:46.766Z"
   },
   {
    "duration": 8649,
    "start_time": "2022-01-18T07:56:47.716Z"
   },
   {
    "duration": 4,
    "start_time": "2022-01-18T08:06:36.846Z"
   },
   {
    "duration": 91,
    "start_time": "2022-01-18T08:06:36.854Z"
   },
   {
    "duration": 45,
    "start_time": "2022-01-18T08:06:36.947Z"
   },
   {
    "duration": 17,
    "start_time": "2022-01-18T08:06:36.995Z"
   },
   {
    "duration": 47,
    "start_time": "2022-01-18T08:06:37.015Z"
   },
   {
    "duration": 13,
    "start_time": "2022-01-18T08:06:37.064Z"
   },
   {
    "duration": 10,
    "start_time": "2022-01-18T08:06:37.079Z"
   },
   {
    "duration": 13,
    "start_time": "2022-01-18T08:06:37.091Z"
   },
   {
    "duration": 63,
    "start_time": "2022-01-18T08:06:37.108Z"
   },
   {
    "duration": 30,
    "start_time": "2022-01-18T08:06:37.174Z"
   },
   {
    "duration": 1116,
    "start_time": "2022-01-18T08:06:37.206Z"
   },
   {
    "duration": 235,
    "start_time": "2022-01-18T08:06:38.325Z"
   },
   {
    "duration": 56,
    "start_time": "2022-01-18T08:06:38.563Z"
   },
   {
    "duration": 48,
    "start_time": "2022-01-18T08:06:38.622Z"
   },
   {
    "duration": 13,
    "start_time": "2022-01-18T08:06:38.673Z"
   },
   {
    "duration": 11,
    "start_time": "2022-01-18T08:06:38.688Z"
   },
   {
    "duration": 57,
    "start_time": "2022-01-18T08:06:38.702Z"
   },
   {
    "duration": 17,
    "start_time": "2022-01-18T08:06:38.762Z"
   },
   {
    "duration": 6,
    "start_time": "2022-01-18T08:06:38.782Z"
   },
   {
    "duration": 31,
    "start_time": "2022-01-18T08:06:38.790Z"
   },
   {
    "duration": 635,
    "start_time": "2022-01-18T08:06:38.824Z"
   },
   {
    "duration": 25,
    "start_time": "2022-01-18T08:06:39.462Z"
   },
   {
    "duration": 2254,
    "start_time": "2022-01-18T08:06:39.490Z"
   },
   {
    "duration": 21,
    "start_time": "2022-01-18T08:06:41.759Z"
   },
   {
    "duration": 751,
    "start_time": "2022-01-18T08:06:41.783Z"
   },
   {
    "duration": 916,
    "start_time": "2022-01-18T08:06:42.537Z"
   },
   {
    "duration": 520,
    "start_time": "2022-01-18T08:06:43.459Z"
   },
   {
    "duration": 9,
    "start_time": "2022-01-18T08:07:31.641Z"
   },
   {
    "duration": 9,
    "start_time": "2022-01-18T08:07:41.760Z"
   },
   {
    "duration": 4,
    "start_time": "2022-01-18T08:08:57.845Z"
   },
   {
    "duration": 85,
    "start_time": "2022-01-18T08:08:57.851Z"
   },
   {
    "duration": 45,
    "start_time": "2022-01-18T08:08:57.939Z"
   },
   {
    "duration": 15,
    "start_time": "2022-01-18T08:08:57.987Z"
   },
   {
    "duration": 12,
    "start_time": "2022-01-18T08:08:58.005Z"
   },
   {
    "duration": 54,
    "start_time": "2022-01-18T08:08:58.020Z"
   },
   {
    "duration": 9,
    "start_time": "2022-01-18T08:08:58.079Z"
   },
   {
    "duration": 13,
    "start_time": "2022-01-18T08:08:58.091Z"
   },
   {
    "duration": 69,
    "start_time": "2022-01-18T08:08:58.106Z"
   },
   {
    "duration": 29,
    "start_time": "2022-01-18T08:08:58.178Z"
   },
   {
    "duration": 1142,
    "start_time": "2022-01-18T08:08:58.209Z"
   },
   {
    "duration": 58,
    "start_time": "2022-01-18T08:08:59.353Z"
   },
   {
    "duration": 74,
    "start_time": "2022-01-18T08:08:59.413Z"
   },
   {
    "duration": 25,
    "start_time": "2022-01-18T08:08:59.490Z"
   },
   {
    "duration": 10,
    "start_time": "2022-01-18T08:08:59.518Z"
   },
   {
    "duration": 35,
    "start_time": "2022-01-18T08:08:59.531Z"
   },
   {
    "duration": 33,
    "start_time": "2022-01-18T08:08:59.568Z"
   },
   {
    "duration": 16,
    "start_time": "2022-01-18T08:08:59.604Z"
   },
   {
    "duration": 36,
    "start_time": "2022-01-18T08:08:59.625Z"
   },
   {
    "duration": 34,
    "start_time": "2022-01-18T08:08:59.664Z"
   },
   {
    "duration": 642,
    "start_time": "2022-01-18T08:08:59.700Z"
   },
   {
    "duration": 50,
    "start_time": "2022-01-18T08:09:00.345Z"
   },
   {
    "duration": 2256,
    "start_time": "2022-01-18T08:09:00.399Z"
   },
   {
    "duration": 16,
    "start_time": "2022-01-18T08:09:02.659Z"
   },
   {
    "duration": 666,
    "start_time": "2022-01-18T08:09:02.678Z"
   },
   {
    "duration": 783,
    "start_time": "2022-01-18T08:09:03.346Z"
   },
   {
    "duration": 14,
    "start_time": "2022-01-18T08:09:04.131Z"
   },
   {
    "duration": 702,
    "start_time": "2022-01-18T08:09:04.160Z"
   },
   {
    "duration": 452,
    "start_time": "2022-01-18T08:09:04.864Z"
   },
   {
    "duration": 10,
    "start_time": "2022-01-18T08:09:05.318Z"
   },
   {
    "duration": 472,
    "start_time": "2022-01-18T08:09:05.330Z"
   },
   {
    "duration": 947,
    "start_time": "2022-01-18T08:09:05.804Z"
   },
   {
    "duration": 16,
    "start_time": "2022-01-18T08:09:06.753Z"
   },
   {
    "duration": 474,
    "start_time": "2022-01-18T08:09:06.771Z"
   },
   {
    "duration": 1062,
    "start_time": "2022-01-18T08:09:07.247Z"
   },
   {
    "duration": 15,
    "start_time": "2022-01-18T08:09:08.311Z"
   },
   {
    "duration": 626,
    "start_time": "2022-01-18T08:09:08.328Z"
   },
   {
    "duration": 775,
    "start_time": "2022-01-18T08:09:08.959Z"
   },
   {
    "duration": 25,
    "start_time": "2022-01-18T08:09:09.736Z"
   },
   {
    "duration": 6,
    "start_time": "2022-01-18T08:09:09.763Z"
   },
   {
    "duration": 913,
    "start_time": "2022-01-18T08:09:09.772Z"
   },
   {
    "duration": 707,
    "start_time": "2022-01-18T08:09:10.687Z"
   },
   {
    "duration": 445,
    "start_time": "2022-01-18T08:09:11.396Z"
   },
   {
    "duration": 586,
    "start_time": "2022-01-18T08:09:11.843Z"
   },
   {
    "duration": 9357,
    "start_time": "2022-01-18T08:09:12.431Z"
   },
   {
    "duration": 9754,
    "start_time": "2022-01-18T08:09:21.790Z"
   },
   {
    "duration": 12373,
    "start_time": "2022-01-18T08:09:31.546Z"
   },
   {
    "duration": 40,
    "start_time": "2022-01-18T08:09:43.922Z"
   },
   {
    "duration": 40,
    "start_time": "2022-01-18T08:09:43.966Z"
   },
   {
    "duration": 80,
    "start_time": "2022-01-18T08:09:44.010Z"
   },
   {
    "duration": 18,
    "start_time": "2022-01-18T08:09:59.920Z"
   },
   {
    "duration": 27,
    "start_time": "2022-01-18T08:10:01.546Z"
   },
   {
    "duration": 43,
    "start_time": "2022-01-18T08:10:03.336Z"
   },
   {
    "duration": 4,
    "start_time": "2022-01-18T08:21:37.815Z"
   },
   {
    "duration": 102,
    "start_time": "2022-01-18T08:21:37.821Z"
   },
   {
    "duration": 57,
    "start_time": "2022-01-18T08:21:37.926Z"
   },
   {
    "duration": 15,
    "start_time": "2022-01-18T08:21:37.986Z"
   },
   {
    "duration": 10,
    "start_time": "2022-01-18T08:21:38.003Z"
   },
   {
    "duration": 53,
    "start_time": "2022-01-18T08:21:38.015Z"
   },
   {
    "duration": 9,
    "start_time": "2022-01-18T08:21:38.071Z"
   },
   {
    "duration": 11,
    "start_time": "2022-01-18T08:21:38.082Z"
   },
   {
    "duration": 18,
    "start_time": "2022-01-18T08:21:38.095Z"
   },
   {
    "duration": 30,
    "start_time": "2022-01-18T08:21:38.160Z"
   },
   {
    "duration": 1135,
    "start_time": "2022-01-18T08:21:38.193Z"
   },
   {
    "duration": 72,
    "start_time": "2022-01-18T08:21:39.331Z"
   },
   {
    "duration": 66,
    "start_time": "2022-01-18T08:21:39.405Z"
   },
   {
    "duration": 27,
    "start_time": "2022-01-18T08:21:39.473Z"
   },
   {
    "duration": 11,
    "start_time": "2022-01-18T08:21:39.503Z"
   },
   {
    "duration": 42,
    "start_time": "2022-01-18T08:21:39.517Z"
   },
   {
    "duration": 26,
    "start_time": "2022-01-18T08:21:39.561Z"
   },
   {
    "duration": 17,
    "start_time": "2022-01-18T08:21:39.589Z"
   },
   {
    "duration": 5,
    "start_time": "2022-01-18T08:21:39.613Z"
   },
   {
    "duration": 32,
    "start_time": "2022-01-18T08:21:39.660Z"
   },
   {
    "duration": 587,
    "start_time": "2022-01-18T08:21:39.695Z"
   },
   {
    "duration": 25,
    "start_time": "2022-01-18T08:21:40.285Z"
   },
   {
    "duration": 2293,
    "start_time": "2022-01-18T08:21:40.312Z"
   },
   {
    "duration": 15,
    "start_time": "2022-01-18T08:21:42.608Z"
   },
   {
    "duration": 714,
    "start_time": "2022-01-18T08:21:42.625Z"
   },
   {
    "duration": 809,
    "start_time": "2022-01-18T08:21:43.341Z"
   },
   {
    "duration": 18,
    "start_time": "2022-01-18T08:21:44.152Z"
   },
   {
    "duration": 750,
    "start_time": "2022-01-18T08:21:44.173Z"
   },
   {
    "duration": 500,
    "start_time": "2022-01-18T08:21:44.926Z"
   },
   {
    "duration": 11,
    "start_time": "2022-01-18T08:21:45.430Z"
   },
   {
    "duration": 459,
    "start_time": "2022-01-18T08:21:45.460Z"
   },
   {
    "duration": 874,
    "start_time": "2022-01-18T08:21:45.922Z"
   },
   {
    "duration": 12,
    "start_time": "2022-01-18T08:21:46.799Z"
   },
   {
    "duration": 537,
    "start_time": "2022-01-18T08:21:46.813Z"
   },
   {
    "duration": 980,
    "start_time": "2022-01-18T08:21:47.352Z"
   },
   {
    "duration": 24,
    "start_time": "2022-01-18T08:21:48.335Z"
   },
   {
    "duration": 1053,
    "start_time": "2022-01-18T08:21:48.361Z"
   },
   {
    "duration": 1862,
    "start_time": "2022-01-18T08:21:49.416Z"
   },
   {
    "duration": 11,
    "start_time": "2022-01-18T08:21:51.282Z"
   },
   {
    "duration": 8,
    "start_time": "2022-01-18T08:21:51.297Z"
   },
   {
    "duration": 967,
    "start_time": "2022-01-18T08:21:51.307Z"
   },
   {
    "duration": 700,
    "start_time": "2022-01-18T08:21:52.276Z"
   },
   {
    "duration": 395,
    "start_time": "2022-01-18T08:21:52.979Z"
   },
   {
    "duration": 573,
    "start_time": "2022-01-18T08:21:53.376Z"
   },
   {
    "duration": 9141,
    "start_time": "2022-01-18T08:21:53.951Z"
   },
   {
    "duration": 9228,
    "start_time": "2022-01-18T08:22:03.094Z"
   },
   {
    "duration": 10840,
    "start_time": "2022-01-18T08:22:12.325Z"
   },
   {
    "duration": 17,
    "start_time": "2022-01-18T08:22:23.168Z"
   },
   {
    "duration": 28,
    "start_time": "2022-01-18T08:22:23.187Z"
   },
   {
    "duration": 72,
    "start_time": "2022-01-18T08:22:23.218Z"
   },
   {
    "duration": 12,
    "start_time": "2022-01-18T08:22:23.292Z"
   },
   {
    "duration": 387,
    "start_time": "2022-01-18T08:22:23.307Z"
   },
   {
    "duration": 9,
    "start_time": "2022-01-18T08:22:23.696Z"
   },
   {
    "duration": 583,
    "start_time": "2022-01-18T08:22:23.707Z"
   },
   {
    "duration": 368,
    "start_time": "2022-01-18T08:22:24.297Z"
   },
   {
    "duration": 515,
    "start_time": "2022-01-18T08:22:24.668Z"
   },
   {
    "duration": 630,
    "start_time": "2022-01-18T08:22:25.186Z"
   },
   {
    "duration": 15,
    "start_time": "2022-01-18T08:22:25.819Z"
   },
   {
    "duration": 979,
    "start_time": "2022-01-18T08:22:25.836Z"
   },
   {
    "duration": 9706,
    "start_time": "2022-01-18T08:22:26.818Z"
   },
   {
    "duration": 52,
    "start_time": "2022-01-18T08:29:36.607Z"
   },
   {
    "duration": 30,
    "start_time": "2022-01-18T08:30:26.507Z"
   },
   {
    "duration": 35,
    "start_time": "2022-01-18T08:30:33.706Z"
   },
   {
    "duration": 29,
    "start_time": "2022-01-18T08:30:37.905Z"
   },
   {
    "duration": 29,
    "start_time": "2022-01-18T08:33:07.313Z"
   },
   {
    "duration": 51,
    "start_time": "2022-01-18T08:37:23.243Z"
   },
   {
    "duration": 11,
    "start_time": "2022-01-18T08:42:37.164Z"
   },
   {
    "duration": 382,
    "start_time": "2022-01-18T08:42:37.178Z"
   },
   {
    "duration": 7,
    "start_time": "2022-01-18T08:42:37.563Z"
   },
   {
    "duration": 567,
    "start_time": "2022-01-18T08:42:37.572Z"
   },
   {
    "duration": 323,
    "start_time": "2022-01-18T08:42:38.142Z"
   },
   {
    "duration": 420,
    "start_time": "2022-01-18T08:42:38.468Z"
   },
   {
    "duration": 448,
    "start_time": "2022-01-18T08:42:38.892Z"
   },
   {
    "duration": 27,
    "start_time": "2022-01-18T08:42:39.345Z"
   },
   {
    "duration": 1100,
    "start_time": "2022-01-18T08:42:39.375Z"
   },
   {
    "duration": 9861,
    "start_time": "2022-01-18T08:42:40.479Z"
   },
   {
    "duration": 11,
    "start_time": "2022-01-18T08:45:37.862Z"
   },
   {
    "duration": 351,
    "start_time": "2022-01-18T08:45:55.878Z"
   },
   {
    "duration": 496,
    "start_time": "2022-01-18T08:47:05.217Z"
   },
   {
    "duration": 403,
    "start_time": "2022-01-18T08:47:13.167Z"
   },
   {
    "duration": 3,
    "start_time": "2022-01-18T08:49:06.714Z"
   },
   {
    "duration": 89,
    "start_time": "2022-01-18T08:49:06.720Z"
   },
   {
    "duration": 53,
    "start_time": "2022-01-18T08:49:06.813Z"
   },
   {
    "duration": 18,
    "start_time": "2022-01-18T08:49:06.868Z"
   },
   {
    "duration": 11,
    "start_time": "2022-01-18T08:49:06.888Z"
   },
   {
    "duration": 12,
    "start_time": "2022-01-18T08:49:06.901Z"
   },
   {
    "duration": 9,
    "start_time": "2022-01-18T08:49:06.960Z"
   },
   {
    "duration": 11,
    "start_time": "2022-01-18T08:49:06.972Z"
   },
   {
    "duration": 18,
    "start_time": "2022-01-18T08:49:06.987Z"
   },
   {
    "duration": 74,
    "start_time": "2022-01-18T08:49:07.008Z"
   },
   {
    "duration": 1109,
    "start_time": "2022-01-18T08:49:07.084Z"
   },
   {
    "duration": 265,
    "start_time": "2022-01-18T08:49:08.195Z"
   },
   {
    "duration": 62,
    "start_time": "2022-01-18T08:49:08.463Z"
   },
   {
    "duration": 51,
    "start_time": "2022-01-18T08:49:08.527Z"
   },
   {
    "duration": 12,
    "start_time": "2022-01-18T08:49:08.581Z"
   },
   {
    "duration": 10,
    "start_time": "2022-01-18T08:49:08.596Z"
   },
   {
    "duration": 53,
    "start_time": "2022-01-18T08:49:08.608Z"
   },
   {
    "duration": 18,
    "start_time": "2022-01-18T08:49:08.663Z"
   },
   {
    "duration": 5,
    "start_time": "2022-01-18T08:49:08.683Z"
   },
   {
    "duration": 32,
    "start_time": "2022-01-18T08:49:08.690Z"
   },
   {
    "duration": 620,
    "start_time": "2022-01-18T08:49:08.723Z"
   },
   {
    "duration": 35,
    "start_time": "2022-01-18T08:49:09.345Z"
   },
   {
    "duration": 2206,
    "start_time": "2022-01-18T08:49:09.383Z"
   },
   {
    "duration": 14,
    "start_time": "2022-01-18T08:49:11.592Z"
   },
   {
    "duration": 638,
    "start_time": "2022-01-18T08:49:11.609Z"
   },
   {
    "duration": 904,
    "start_time": "2022-01-18T08:49:12.249Z"
   },
   {
    "duration": 16,
    "start_time": "2022-01-18T08:49:13.158Z"
   },
   {
    "duration": 736,
    "start_time": "2022-01-18T08:49:13.178Z"
   },
   {
    "duration": 533,
    "start_time": "2022-01-18T08:49:13.917Z"
   },
   {
    "duration": 9,
    "start_time": "2022-01-18T08:49:14.459Z"
   },
   {
    "duration": 469,
    "start_time": "2022-01-18T08:49:14.470Z"
   },
   {
    "duration": 737,
    "start_time": "2022-01-18T08:49:14.942Z"
   },
   {
    "duration": 12,
    "start_time": "2022-01-18T08:49:15.682Z"
   },
   {
    "duration": 581,
    "start_time": "2022-01-18T08:49:15.696Z"
   },
   {
    "duration": 1097,
    "start_time": "2022-01-18T08:49:16.280Z"
   },
   {
    "duration": 14,
    "start_time": "2022-01-18T08:49:17.380Z"
   },
   {
    "duration": 655,
    "start_time": "2022-01-18T08:49:17.397Z"
   },
   {
    "duration": 792,
    "start_time": "2022-01-18T08:49:18.059Z"
   },
   {
    "duration": 13,
    "start_time": "2022-01-18T08:49:18.853Z"
   },
   {
    "duration": 15,
    "start_time": "2022-01-18T08:49:18.868Z"
   },
   {
    "duration": 826,
    "start_time": "2022-01-18T08:49:18.885Z"
   },
   {
    "duration": 754,
    "start_time": "2022-01-18T08:49:19.714Z"
   },
   {
    "duration": 405,
    "start_time": "2022-01-18T08:49:20.471Z"
   },
   {
    "duration": 835,
    "start_time": "2022-01-18T08:49:20.879Z"
   },
   {
    "duration": 9526,
    "start_time": "2022-01-18T08:49:21.716Z"
   },
   {
    "duration": 9117,
    "start_time": "2022-01-18T08:49:31.245Z"
   },
   {
    "duration": 11076,
    "start_time": "2022-01-18T08:49:40.364Z"
   },
   {
    "duration": 26,
    "start_time": "2022-01-18T08:49:51.443Z"
   },
   {
    "duration": 28,
    "start_time": "2022-01-18T08:49:51.472Z"
   },
   {
    "duration": 85,
    "start_time": "2022-01-18T08:49:51.502Z"
   },
   {
    "duration": 11,
    "start_time": "2022-01-18T08:49:51.590Z"
   },
   {
    "duration": 16,
    "start_time": "2022-01-18T08:49:51.603Z"
   },
   {
    "duration": 388,
    "start_time": "2022-01-18T08:49:51.621Z"
   },
   {
    "duration": 325,
    "start_time": "2022-01-18T08:50:44.420Z"
   },
   {
    "duration": 321,
    "start_time": "2022-01-18T08:51:57.984Z"
   },
   {
    "duration": 349,
    "start_time": "2022-01-18T08:52:07.215Z"
   },
   {
    "duration": 333,
    "start_time": "2022-01-18T08:53:00.581Z"
   },
   {
    "duration": 450,
    "start_time": "2022-01-18T08:53:12.452Z"
   },
   {
    "duration": 780,
    "start_time": "2022-01-18T08:53:29.811Z"
   },
   {
    "duration": 343,
    "start_time": "2022-01-18T09:07:01.200Z"
   },
   {
    "duration": 8,
    "start_time": "2022-01-18T09:08:29.408Z"
   },
   {
    "duration": 584,
    "start_time": "2022-01-18T09:08:41.439Z"
   },
   {
    "duration": 442,
    "start_time": "2022-01-18T09:08:50.567Z"
   },
   {
    "duration": 346,
    "start_time": "2022-01-18T09:09:32.340Z"
   },
   {
    "duration": 414,
    "start_time": "2022-01-18T09:10:01.779Z"
   },
   {
    "duration": 438,
    "start_time": "2022-01-18T09:10:28.497Z"
   },
   {
    "duration": 3,
    "start_time": "2022-01-18T09:32:21.038Z"
   },
   {
    "duration": 11,
    "start_time": "2022-01-18T09:33:10.403Z"
   },
   {
    "duration": 15,
    "start_time": "2022-01-18T09:33:13.620Z"
   },
   {
    "duration": 522,
    "start_time": "2022-01-18T09:33:15.371Z"
   },
   {
    "duration": 15,
    "start_time": "2022-01-18T09:37:18.365Z"
   },
   {
    "duration": 20,
    "start_time": "2022-01-18T09:40:23.154Z"
   },
   {
    "duration": 19,
    "start_time": "2022-01-18T09:41:51.429Z"
   },
   {
    "duration": 25,
    "start_time": "2022-01-18T09:42:00.853Z"
   },
   {
    "duration": 26,
    "start_time": "2022-01-18T09:42:06.941Z"
   },
   {
    "duration": 10,
    "start_time": "2022-01-18T09:43:00.434Z"
   },
   {
    "duration": 26,
    "start_time": "2022-01-18T09:43:22.040Z"
   },
   {
    "duration": 24,
    "start_time": "2022-01-18T09:43:34.647Z"
   },
   {
    "duration": 354,
    "start_time": "2022-01-18T09:47:42.546Z"
   },
   {
    "duration": 5,
    "start_time": "2022-01-18T09:48:49.694Z"
   },
   {
    "duration": 6,
    "start_time": "2022-01-18T09:49:00.140Z"
   },
   {
    "duration": 13,
    "start_time": "2022-01-18T09:49:27.298Z"
   },
   {
    "duration": 13,
    "start_time": "2022-01-18T09:50:17.219Z"
   },
   {
    "duration": 459,
    "start_time": "2022-01-18T09:51:59.530Z"
   },
   {
    "duration": 3,
    "start_time": "2022-01-18T10:37:59.212Z"
   },
   {
    "duration": 9,
    "start_time": "2022-01-18T10:38:10.972Z"
   },
   {
    "duration": 527,
    "start_time": "2022-01-18T10:59:31.786Z"
   },
   {
    "duration": 393,
    "start_time": "2022-01-18T11:00:13.719Z"
   },
   {
    "duration": 488,
    "start_time": "2022-01-18T11:02:34.648Z"
   },
   {
    "duration": 420,
    "start_time": "2022-01-18T11:02:40.167Z"
   },
   {
    "duration": 16,
    "start_time": "2022-01-18T11:04:59.359Z"
   },
   {
    "duration": 19,
    "start_time": "2022-01-18T11:05:06.159Z"
   },
   {
    "duration": 6,
    "start_time": "2022-01-18T11:05:14.069Z"
   },
   {
    "duration": 17,
    "start_time": "2022-01-18T11:05:15.917Z"
   },
   {
    "duration": 403,
    "start_time": "2022-01-18T11:19:53.940Z"
   },
   {
    "duration": 402,
    "start_time": "2022-01-18T11:20:04.339Z"
   },
   {
    "duration": 3,
    "start_time": "2022-01-18T11:24:53.636Z"
   },
   {
    "duration": 413,
    "start_time": "2022-01-18T11:25:33.074Z"
   },
   {
    "duration": 12,
    "start_time": "2022-01-18T11:26:10.679Z"
   },
   {
    "duration": 36,
    "start_time": "2022-01-18T11:29:48.528Z"
   },
   {
    "duration": 305,
    "start_time": "2022-01-18T11:33:44.329Z"
   },
   {
    "duration": 5,
    "start_time": "2022-01-18T11:34:41.539Z"
   },
   {
    "duration": 7,
    "start_time": "2022-01-18T11:34:54.123Z"
   },
   {
    "duration": 11,
    "start_time": "2022-01-18T11:35:00.266Z"
   },
   {
    "duration": 347,
    "start_time": "2022-01-18T11:39:48.285Z"
   },
   {
    "duration": 400,
    "start_time": "2022-01-18T11:40:23.632Z"
   },
   {
    "duration": 404,
    "start_time": "2022-01-18T11:40:51.180Z"
   },
   {
    "duration": 448,
    "start_time": "2022-01-18T11:41:43.561Z"
   },
   {
    "duration": 464,
    "start_time": "2022-01-18T11:42:29.406Z"
   },
   {
    "duration": 565,
    "start_time": "2022-01-18T11:42:39.294Z"
   },
   {
    "duration": 548,
    "start_time": "2022-01-18T11:42:44.494Z"
   },
   {
    "duration": 638,
    "start_time": "2022-01-18T11:42:50.981Z"
   },
   {
    "duration": 456,
    "start_time": "2022-01-18T11:42:59.173Z"
   },
   {
    "duration": 486,
    "start_time": "2022-01-18T11:43:30.475Z"
   },
   {
    "duration": 12,
    "start_time": "2022-01-18T11:44:23.240Z"
   },
   {
    "duration": 6,
    "start_time": "2022-01-18T11:44:28.648Z"
   },
   {
    "duration": 198,
    "start_time": "2022-01-18T11:44:53.190Z"
   },
   {
    "duration": 502,
    "start_time": "2022-01-18T11:45:10.645Z"
   },
   {
    "duration": 595,
    "start_time": "2022-01-18T11:45:48.535Z"
   },
   {
    "duration": 599,
    "start_time": "2022-01-18T11:45:57.698Z"
   },
   {
    "duration": 488,
    "start_time": "2022-01-18T11:46:06.371Z"
   },
   {
    "duration": 507,
    "start_time": "2022-01-18T11:47:00.664Z"
   },
   {
    "duration": 486,
    "start_time": "2022-01-18T11:47:07.559Z"
   },
   {
    "duration": 495,
    "start_time": "2022-01-18T11:47:27.406Z"
   },
   {
    "duration": 491,
    "start_time": "2022-01-18T11:47:31.541Z"
   },
   {
    "duration": 110,
    "start_time": "2022-01-18T11:47:59.829Z"
   },
   {
    "duration": 643,
    "start_time": "2022-01-18T11:48:04.187Z"
   },
   {
    "duration": 548,
    "start_time": "2022-01-18T11:48:23.458Z"
   },
   {
    "duration": 520,
    "start_time": "2022-01-18T11:48:30.458Z"
   },
   {
    "duration": 701,
    "start_time": "2022-01-18T11:50:07.412Z"
   },
   {
    "duration": 112,
    "start_time": "2022-01-18T11:54:55.324Z"
   },
   {
    "duration": 721,
    "start_time": "2022-01-18T11:55:00.716Z"
   },
   {
    "duration": 687,
    "start_time": "2022-01-18T11:55:24.235Z"
   },
   {
    "duration": 6,
    "start_time": "2022-01-18T12:11:32.832Z"
   },
   {
    "duration": 12,
    "start_time": "2022-01-18T12:12:06.614Z"
   },
   {
    "duration": 830,
    "start_time": "2022-01-18T12:13:08.332Z"
   },
   {
    "duration": 7,
    "start_time": "2022-01-18T12:15:00.318Z"
   },
   {
    "duration": 1237,
    "start_time": "2022-01-18T12:15:04.294Z"
   },
   {
    "duration": 324,
    "start_time": "2022-01-18T12:22:58.875Z"
   },
   {
    "duration": 12,
    "start_time": "2022-01-18T12:23:24.793Z"
   },
   {
    "duration": 45,
    "start_time": "2022-01-18T12:24:09.160Z"
   },
   {
    "duration": 13,
    "start_time": "2022-01-18T12:24:18.047Z"
   },
   {
    "duration": 708,
    "start_time": "2022-01-18T12:25:11.716Z"
   },
   {
    "duration": 700,
    "start_time": "2022-01-18T12:25:37.362Z"
   },
   {
    "duration": 709,
    "start_time": "2022-01-18T12:26:02.994Z"
   },
   {
    "duration": 5,
    "start_time": "2022-01-18T12:26:13.257Z"
   },
   {
    "duration": 826,
    "start_time": "2022-01-18T12:26:15.056Z"
   },
   {
    "duration": 720,
    "start_time": "2022-01-18T12:26:28.359Z"
   },
   {
    "duration": 32,
    "start_time": "2022-01-18T12:36:04.007Z"
   },
   {
    "duration": 9,
    "start_time": "2022-01-18T12:36:26.047Z"
   },
   {
    "duration": 48,
    "start_time": "2022-01-18T12:36:26.059Z"
   },
   {
    "duration": 8,
    "start_time": "2022-01-18T12:36:26.111Z"
   },
   {
    "duration": 818,
    "start_time": "2022-01-18T12:36:26.123Z"
   },
   {
    "duration": 16,
    "start_time": "2022-01-18T12:36:26.943Z"
   },
   {
    "duration": 761,
    "start_time": "2022-01-18T12:36:26.962Z"
   },
   {
    "duration": 5,
    "start_time": "2022-01-18T12:36:27.725Z"
   },
   {
    "duration": 740,
    "start_time": "2022-01-18T12:36:27.734Z"
   },
   {
    "duration": 14,
    "start_time": "2022-01-18T12:36:28.477Z"
   },
   {
    "duration": 57,
    "start_time": "2022-01-18T12:36:28.493Z"
   },
   {
    "duration": 24,
    "start_time": "2022-01-18T12:36:28.553Z"
   },
   {
    "duration": 13,
    "start_time": "2022-01-18T12:36:28.579Z"
   },
   {
    "duration": 503,
    "start_time": "2022-01-18T12:36:28.594Z"
   },
   {
    "duration": 314,
    "start_time": "2022-01-18T12:38:08.866Z"
   },
   {
    "duration": 12,
    "start_time": "2022-01-18T12:38:45.726Z"
   },
   {
    "duration": 33,
    "start_time": "2022-01-18T12:39:13.172Z"
   },
   {
    "duration": 35,
    "start_time": "2022-01-18T12:39:21.194Z"
   },
   {
    "duration": 5,
    "start_time": "2022-01-18T12:39:21.232Z"
   },
   {
    "duration": 887,
    "start_time": "2022-01-18T12:39:21.240Z"
   },
   {
    "duration": 6,
    "start_time": "2022-01-18T12:39:22.131Z"
   },
   {
    "duration": 724,
    "start_time": "2022-01-18T12:39:22.159Z"
   },
   {
    "duration": 7,
    "start_time": "2022-01-18T12:39:22.887Z"
   },
   {
    "duration": 751,
    "start_time": "2022-01-18T12:39:22.897Z"
   },
   {
    "duration": 16,
    "start_time": "2022-01-18T12:39:23.651Z"
   },
   {
    "duration": 37,
    "start_time": "2022-01-18T12:39:23.670Z"
   },
   {
    "duration": 23,
    "start_time": "2022-01-18T12:39:23.709Z"
   },
   {
    "duration": 36,
    "start_time": "2022-01-18T12:39:23.734Z"
   },
   {
    "duration": 455,
    "start_time": "2022-01-18T12:39:23.772Z"
   },
   {
    "duration": 706,
    "start_time": "2022-01-18T12:41:58.546Z"
   },
   {
    "duration": 36,
    "start_time": "2022-01-18T12:43:48.651Z"
   },
   {
    "duration": 11,
    "start_time": "2022-01-18T12:44:04.260Z"
   },
   {
    "duration": 13,
    "start_time": "2022-01-18T12:44:27.122Z"
   },
   {
    "duration": 12,
    "start_time": "2022-01-18T12:44:39.073Z"
   },
   {
    "duration": 16,
    "start_time": "2022-01-18T12:44:42.642Z"
   },
   {
    "duration": 6,
    "start_time": "2022-01-18T12:44:49.200Z"
   },
   {
    "duration": 449,
    "start_time": "2022-01-18T12:44:52.248Z"
   },
   {
    "duration": 328,
    "start_time": "2022-01-18T12:57:05.232Z"
   },
   {
    "duration": 109,
    "start_time": "2022-01-18T13:00:19.630Z"
   },
   {
    "duration": 108,
    "start_time": "2022-01-18T13:00:28.216Z"
   },
   {
    "duration": 623,
    "start_time": "2022-01-18T13:00:39.869Z"
   },
   {
    "duration": 836,
    "start_time": "2022-01-18T13:01:19.251Z"
   },
   {
    "duration": 832,
    "start_time": "2022-01-18T13:03:22.091Z"
   },
   {
    "duration": 846,
    "start_time": "2022-01-18T13:03:40.802Z"
   },
   {
    "duration": 850,
    "start_time": "2022-01-18T13:03:45.450Z"
   },
   {
    "duration": 786,
    "start_time": "2022-01-18T13:04:01.593Z"
   },
   {
    "duration": 826,
    "start_time": "2022-01-18T13:06:30.400Z"
   },
   {
    "duration": 967,
    "start_time": "2022-01-18T13:06:44.143Z"
   },
   {
    "duration": 791,
    "start_time": "2022-01-18T13:08:59.088Z"
   },
   {
    "duration": 319,
    "start_time": "2022-01-18T13:11:08.761Z"
   },
   {
    "duration": 308,
    "start_time": "2022-01-18T13:11:23.544Z"
   },
   {
    "duration": 7896,
    "start_time": "2022-01-18T13:12:24.716Z"
   },
   {
    "duration": 1162,
    "start_time": "2022-01-18T13:12:52.867Z"
   },
   {
    "duration": 1205,
    "start_time": "2022-01-18T13:13:03.178Z"
   },
   {
    "duration": 859,
    "start_time": "2022-01-18T14:04:00.015Z"
   },
   {
    "duration": 779,
    "start_time": "2022-01-18T14:04:19.013Z"
   },
   {
    "duration": 409,
    "start_time": "2022-01-18T14:04:32.979Z"
   },
   {
    "duration": 397,
    "start_time": "2022-01-18T14:04:41.708Z"
   },
   {
    "duration": 611,
    "start_time": "2022-01-18T14:04:55.985Z"
   },
   {
    "duration": 526,
    "start_time": "2022-01-18T14:05:04.502Z"
   },
   {
    "duration": 847,
    "start_time": "2022-01-18T14:05:12.405Z"
   },
   {
    "duration": 735,
    "start_time": "2022-01-18T14:06:01.606Z"
   },
   {
    "duration": 105,
    "start_time": "2022-01-18T14:06:10.982Z"
   },
   {
    "duration": 639,
    "start_time": "2022-01-18T14:06:14.897Z"
   },
   {
    "duration": 597,
    "start_time": "2022-01-18T14:06:40.165Z"
   },
   {
    "duration": 618,
    "start_time": "2022-01-18T14:06:48.627Z"
   },
   {
    "duration": 634,
    "start_time": "2022-01-18T14:08:07.765Z"
   },
   {
    "duration": 734,
    "start_time": "2022-01-18T14:08:15.464Z"
   },
   {
    "duration": 877,
    "start_time": "2022-01-18T14:08:20.755Z"
   },
   {
    "duration": 1020,
    "start_time": "2022-01-18T14:11:02.331Z"
   },
   {
    "duration": 780,
    "start_time": "2022-01-18T14:11:10.400Z"
   },
   {
    "duration": 800,
    "start_time": "2022-01-18T14:11:53.427Z"
   },
   {
    "duration": 921,
    "start_time": "2022-01-18T14:12:02.109Z"
   },
   {
    "duration": 7589,
    "start_time": "2022-01-18T14:13:31.437Z"
   },
   {
    "duration": 2811,
    "start_time": "2022-01-18T14:14:10.709Z"
   },
   {
    "duration": 2697,
    "start_time": "2022-01-18T14:14:29.456Z"
   },
   {
    "duration": 2625,
    "start_time": "2022-01-18T14:15:09.794Z"
   },
   {
    "duration": 6,
    "start_time": "2022-01-18T14:27:53.069Z"
   },
   {
    "duration": 687,
    "start_time": "2022-01-18T14:27:56.313Z"
   },
   {
    "duration": 4,
    "start_time": "2022-01-18T14:30:49.797Z"
   },
   {
    "duration": 85,
    "start_time": "2022-01-18T14:30:49.808Z"
   },
   {
    "duration": 36,
    "start_time": "2022-01-18T14:30:49.896Z"
   },
   {
    "duration": 31,
    "start_time": "2022-01-18T14:30:49.935Z"
   },
   {
    "duration": 10,
    "start_time": "2022-01-18T14:30:49.969Z"
   },
   {
    "duration": 16,
    "start_time": "2022-01-18T14:30:49.981Z"
   },
   {
    "duration": 11,
    "start_time": "2022-01-18T14:30:49.999Z"
   },
   {
    "duration": 11,
    "start_time": "2022-01-18T14:30:50.061Z"
   },
   {
    "duration": 21,
    "start_time": "2022-01-18T14:30:50.076Z"
   },
   {
    "duration": 66,
    "start_time": "2022-01-18T14:30:50.100Z"
   },
   {
    "duration": 1179,
    "start_time": "2022-01-18T14:30:50.168Z"
   },
   {
    "duration": 57,
    "start_time": "2022-01-18T14:30:51.349Z"
   },
   {
    "duration": 81,
    "start_time": "2022-01-18T14:30:51.409Z"
   },
   {
    "duration": 29,
    "start_time": "2022-01-18T14:30:51.493Z"
   },
   {
    "duration": 35,
    "start_time": "2022-01-18T14:30:51.524Z"
   },
   {
    "duration": 11,
    "start_time": "2022-01-18T14:30:51.562Z"
   },
   {
    "duration": 25,
    "start_time": "2022-01-18T14:30:51.576Z"
   },
   {
    "duration": 18,
    "start_time": "2022-01-18T14:30:51.604Z"
   },
   {
    "duration": 37,
    "start_time": "2022-01-18T14:30:51.625Z"
   },
   {
    "duration": 34,
    "start_time": "2022-01-18T14:30:51.665Z"
   },
   {
    "duration": 783,
    "start_time": "2022-01-18T14:30:51.702Z"
   },
   {
    "duration": 25,
    "start_time": "2022-01-18T14:30:52.487Z"
   },
   {
    "duration": 2211,
    "start_time": "2022-01-18T14:30:52.514Z"
   },
   {
    "duration": 28,
    "start_time": "2022-01-18T14:30:54.731Z"
   },
   {
    "duration": 646,
    "start_time": "2022-01-18T14:30:54.763Z"
   },
   {
    "duration": 777,
    "start_time": "2022-01-18T14:30:55.412Z"
   },
   {
    "duration": 16,
    "start_time": "2022-01-18T14:30:56.191Z"
   },
   {
    "duration": 907,
    "start_time": "2022-01-18T14:30:56.210Z"
   },
   {
    "duration": 478,
    "start_time": "2022-01-18T14:30:57.121Z"
   },
   {
    "duration": 10,
    "start_time": "2022-01-18T14:30:57.602Z"
   },
   {
    "duration": 482,
    "start_time": "2022-01-18T14:30:57.614Z"
   },
   {
    "duration": 728,
    "start_time": "2022-01-18T14:30:58.098Z"
   },
   {
    "duration": 11,
    "start_time": "2022-01-18T14:30:58.828Z"
   },
   {
    "duration": 483,
    "start_time": "2022-01-18T14:30:58.843Z"
   },
   {
    "duration": 952,
    "start_time": "2022-01-18T14:30:59.329Z"
   },
   {
    "duration": 15,
    "start_time": "2022-01-18T14:31:00.283Z"
   },
   {
    "duration": 835,
    "start_time": "2022-01-18T14:31:00.301Z"
   },
   {
    "duration": 808,
    "start_time": "2022-01-18T14:31:01.138Z"
   },
   {
    "duration": 15,
    "start_time": "2022-01-18T14:31:01.949Z"
   },
   {
    "duration": 7,
    "start_time": "2022-01-18T14:31:01.966Z"
   },
   {
    "duration": 822,
    "start_time": "2022-01-18T14:31:01.975Z"
   },
   {
    "duration": 715,
    "start_time": "2022-01-18T14:31:02.800Z"
   },
   {
    "duration": 445,
    "start_time": "2022-01-18T14:31:03.518Z"
   },
   {
    "duration": 577,
    "start_time": "2022-01-18T14:31:03.965Z"
   },
   {
    "duration": 9683,
    "start_time": "2022-01-18T14:31:04.545Z"
   },
   {
    "duration": 9249,
    "start_time": "2022-01-18T14:31:14.231Z"
   },
   {
    "duration": 10655,
    "start_time": "2022-01-18T14:31:23.483Z"
   },
   {
    "duration": 24,
    "start_time": "2022-01-18T14:31:34.141Z"
   },
   {
    "duration": 27,
    "start_time": "2022-01-18T14:31:34.167Z"
   },
   {
    "duration": 82,
    "start_time": "2022-01-18T14:31:34.197Z"
   },
   {
    "duration": 5,
    "start_time": "2022-01-18T14:31:34.281Z"
   },
   {
    "duration": 18,
    "start_time": "2022-01-18T14:31:34.288Z"
   },
   {
    "duration": 368,
    "start_time": "2022-01-18T14:31:34.309Z"
   },
   {
    "duration": 4,
    "start_time": "2022-01-18T14:31:34.680Z"
   },
   {
    "duration": 5,
    "start_time": "2022-01-18T14:31:34.687Z"
   },
   {
    "duration": 10,
    "start_time": "2022-01-18T14:31:34.695Z"
   },
   {
    "duration": 73,
    "start_time": "2022-01-18T14:31:34.708Z"
   },
   {
    "duration": 4,
    "start_time": "2022-01-18T14:31:34.784Z"
   },
   {
    "duration": 729,
    "start_time": "2022-01-18T14:31:34.791Z"
   },
   {
    "duration": 5,
    "start_time": "2022-01-18T14:31:35.523Z"
   },
   {
    "duration": 745,
    "start_time": "2022-01-18T14:31:35.531Z"
   },
   {
    "duration": 5,
    "start_time": "2022-01-18T14:31:36.279Z"
   },
   {
    "duration": 731,
    "start_time": "2022-01-18T14:31:36.287Z"
   },
   {
    "duration": 6,
    "start_time": "2022-01-18T14:31:37.020Z"
   },
   {
    "duration": 904,
    "start_time": "2022-01-18T14:31:37.028Z"
   },
   {
    "duration": 25,
    "start_time": "2022-01-18T14:31:37.934Z"
   },
   {
    "duration": 10,
    "start_time": "2022-01-18T14:31:37.962Z"
   },
   {
    "duration": 6,
    "start_time": "2022-01-18T14:31:37.974Z"
   },
   {
    "duration": 511,
    "start_time": "2022-01-18T14:31:37.987Z"
   },
   {
    "duration": 1959,
    "start_time": "2022-01-19T07:07:38.835Z"
   },
   {
    "duration": 180,
    "start_time": "2022-01-19T07:07:40.796Z"
   },
   {
    "duration": 99,
    "start_time": "2022-01-19T07:07:40.979Z"
   },
   {
    "duration": 17,
    "start_time": "2022-01-19T07:07:41.082Z"
   },
   {
    "duration": 65,
    "start_time": "2022-01-19T07:07:41.102Z"
   },
   {
    "duration": 12,
    "start_time": "2022-01-19T07:07:41.170Z"
   },
   {
    "duration": 9,
    "start_time": "2022-01-19T07:07:41.185Z"
   },
   {
    "duration": 67,
    "start_time": "2022-01-19T07:07:41.200Z"
   },
   {
    "duration": 22,
    "start_time": "2022-01-19T07:07:41.270Z"
   },
   {
    "duration": 81,
    "start_time": "2022-01-19T07:07:41.295Z"
   },
   {
    "duration": 2173,
    "start_time": "2022-01-19T07:07:41.379Z"
   },
   {
    "duration": 63,
    "start_time": "2022-01-19T07:07:43.554Z"
   },
   {
    "duration": 82,
    "start_time": "2022-01-19T07:07:43.620Z"
   },
   {
    "duration": 27,
    "start_time": "2022-01-19T07:07:43.704Z"
   },
   {
    "duration": 11,
    "start_time": "2022-01-19T07:07:43.764Z"
   },
   {
    "duration": 20,
    "start_time": "2022-01-19T07:07:43.778Z"
   },
   {
    "duration": 39,
    "start_time": "2022-01-19T07:07:43.800Z"
   },
   {
    "duration": 38,
    "start_time": "2022-01-19T07:07:43.841Z"
   },
   {
    "duration": 5,
    "start_time": "2022-01-19T07:07:43.881Z"
   },
   {
    "duration": 32,
    "start_time": "2022-01-19T07:07:43.889Z"
   },
   {
    "duration": 1512,
    "start_time": "2022-01-19T07:07:43.924Z"
   },
   {
    "duration": 69,
    "start_time": "2022-01-19T07:07:45.454Z"
   },
   {
    "duration": 2660,
    "start_time": "2022-01-19T07:07:45.534Z"
   },
   {
    "duration": 19,
    "start_time": "2022-01-19T07:07:48.200Z"
   },
   {
    "duration": 659,
    "start_time": "2022-01-19T07:07:48.222Z"
   },
   {
    "duration": 785,
    "start_time": "2022-01-19T07:07:48.884Z"
   },
   {
    "duration": 14,
    "start_time": "2022-01-19T07:07:49.672Z"
   },
   {
    "duration": 750,
    "start_time": "2022-01-19T07:07:49.688Z"
   },
   {
    "duration": 559,
    "start_time": "2022-01-19T07:07:50.441Z"
   },
   {
    "duration": 13,
    "start_time": "2022-01-19T07:07:51.003Z"
   },
   {
    "duration": 490,
    "start_time": "2022-01-19T07:07:51.018Z"
   },
   {
    "duration": 765,
    "start_time": "2022-01-19T07:07:51.511Z"
   },
   {
    "duration": 12,
    "start_time": "2022-01-19T07:07:52.279Z"
   },
   {
    "duration": 505,
    "start_time": "2022-01-19T07:07:52.294Z"
   },
   {
    "duration": 979,
    "start_time": "2022-01-19T07:07:52.802Z"
   },
   {
    "duration": 15,
    "start_time": "2022-01-19T07:07:53.784Z"
   },
   {
    "duration": 642,
    "start_time": "2022-01-19T07:07:53.802Z"
   },
   {
    "duration": 1100,
    "start_time": "2022-01-19T07:07:54.447Z"
   },
   {
    "duration": 17,
    "start_time": "2022-01-19T07:07:55.549Z"
   },
   {
    "duration": 6,
    "start_time": "2022-01-19T07:07:55.568Z"
   },
   {
    "duration": 840,
    "start_time": "2022-01-19T07:07:55.576Z"
   },
   {
    "duration": 701,
    "start_time": "2022-01-19T07:07:56.418Z"
   },
   {
    "duration": 422,
    "start_time": "2022-01-19T07:07:57.122Z"
   },
   {
    "duration": 581,
    "start_time": "2022-01-19T07:07:57.546Z"
   },
   {
    "duration": 9242,
    "start_time": "2022-01-19T07:07:58.130Z"
   },
   {
    "duration": 9288,
    "start_time": "2022-01-19T07:08:07.376Z"
   },
   {
    "duration": 10377,
    "start_time": "2022-01-19T07:08:16.667Z"
   },
   {
    "duration": 27,
    "start_time": "2022-01-19T07:08:27.046Z"
   },
   {
    "duration": 30,
    "start_time": "2022-01-19T07:08:27.076Z"
   },
   {
    "duration": 93,
    "start_time": "2022-01-19T07:08:27.109Z"
   },
   {
    "duration": 5,
    "start_time": "2022-01-19T07:08:27.204Z"
   },
   {
    "duration": 20,
    "start_time": "2022-01-19T07:08:27.212Z"
   },
   {
    "duration": 407,
    "start_time": "2022-01-19T07:08:27.234Z"
   },
   {
    "duration": 4,
    "start_time": "2022-01-19T07:08:27.643Z"
   },
   {
    "duration": 39,
    "start_time": "2022-01-19T07:08:27.649Z"
   },
   {
    "duration": 31,
    "start_time": "2022-01-19T07:08:27.691Z"
   },
   {
    "duration": 57,
    "start_time": "2022-01-19T07:08:27.725Z"
   },
   {
    "duration": 29,
    "start_time": "2022-01-19T07:08:27.785Z"
   },
   {
    "duration": 781,
    "start_time": "2022-01-19T07:08:27.817Z"
   },
   {
    "duration": 5,
    "start_time": "2022-01-19T07:08:28.601Z"
   },
   {
    "duration": 709,
    "start_time": "2022-01-19T07:08:28.609Z"
   },
   {
    "duration": 6,
    "start_time": "2022-01-19T07:08:29.320Z"
   },
   {
    "duration": 1389,
    "start_time": "2022-01-19T07:08:29.330Z"
   },
   {
    "duration": 8,
    "start_time": "2022-01-19T07:08:30.722Z"
   },
   {
    "duration": 1527,
    "start_time": "2022-01-19T07:08:30.733Z"
   },
   {
    "duration": 26,
    "start_time": "2022-01-19T07:08:32.266Z"
   },
   {
    "duration": 17,
    "start_time": "2022-01-19T07:08:32.295Z"
   },
   {
    "duration": 38,
    "start_time": "2022-01-19T07:08:32.327Z"
   },
   {
    "duration": 749,
    "start_time": "2022-01-19T07:08:32.370Z"
   }
  ],
  "kernelspec": {
   "display_name": "Python 3 (ipykernel)",
   "language": "python",
   "name": "python3"
  },
  "language_info": {
   "codemirror_mode": {
    "name": "ipython",
    "version": 3
   },
   "file_extension": ".py",
   "mimetype": "text/x-python",
   "name": "python",
   "nbconvert_exporter": "python",
   "pygments_lexer": "ipython3",
   "version": "3.10.5"
  },
  "toc": {
   "base_numbering": 1,
   "nav_menu": {},
   "number_sections": true,
   "sideBar": true,
   "skip_h1_title": true,
   "title_cell": "Содержание",
   "title_sidebar": "Contents",
   "toc_cell": true,
   "toc_position": {
    "height": "calc(100% - 180px)",
    "left": "10px",
    "top": "150px",
    "width": "519px"
   },
   "toc_section_display": true,
   "toc_window_display": true
  },
  "varInspector": {
   "cols": {
    "lenName": 16,
    "lenType": 16,
    "lenVar": 40
   },
   "kernels_config": {
    "python": {
     "delete_cmd_postfix": "",
     "delete_cmd_prefix": "del ",
     "library": "var_list.py",
     "varRefreshCmd": "print(var_dic_list())"
    },
    "r": {
     "delete_cmd_postfix": ") ",
     "delete_cmd_prefix": "rm(",
     "library": "var_list.r",
     "varRefreshCmd": "cat(var_dic_list()) "
    }
   },
   "types_to_exclude": [
    "module",
    "function",
    "builtin_function_or_method",
    "instance",
    "_Feature"
   ],
   "window_display": false
  }
 },
 "nbformat": 4,
 "nbformat_minor": 4
}
