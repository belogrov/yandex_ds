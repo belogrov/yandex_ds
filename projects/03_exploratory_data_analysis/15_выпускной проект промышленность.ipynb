{
  "cells": [
    {
      "cell_type": "markdown",
      "metadata": {
        "id": "q9awWxgnUqLv"
      },
      "source": [
        "# Промышленность\n",
        "Чтобы оптимизировать производственные расходы, металлургический комбинат ООО «Так закаляем сталь» решил уменьшить потребление электроэнергии на этапе обработки стали. Вам предстоит построить модель, которая предскажет температуру стали.  \n",
        "# Описание данных\n",
        "\n",
        "Данные состоят из файлов, полученных из разных источников:\n",
        "\n",
        "- `data_arc.csv` — данные об электродах;\n",
        "- `data_bulk.csv` — данные о подаче сыпучих материалов (объём);\n",
        "- `data_bulk_time.csv` *—* данные о подаче сыпучих материалов (время);\n",
        "- `data_gas.csv` — данные о продувке сплава газом;\n",
        "- `data_temp.csv` — результаты измерения температуры;\n",
        "- `data_wire.csv` — данные о проволочных материалах (объём);\n",
        "- `data_wire_time.csv` — данные о проволочных материалах (время).\n",
        "\n",
        "Во всех файлах столбец `key` содержит номер партии. В файлах может быть несколько строк с одинаковым значением `key`: они соответствуют разным итерациям обработки.\n",
        "\n",
        "# Описание этапа обработки\n",
        "\n",
        "Сталь обрабатывают в металлическом ковше вместимостью около 100 тонн. Чтобы ковш выдерживал высокие температуры, изнутри его облицовывают огнеупорным кирпичом. Расплавленную сталь заливают в ковш и подогревают до нужной температуры графитовыми электродами. Они установлены в крышке ковша. \n",
        "\n",
        "Из сплава выводится сера (десульфурация), добавлением примесей корректируется химический состав и отбираются пробы. Сталь легируют — изменяют её состав — подавая куски сплава из бункера для сыпучих материалов или проволоку через специальный трайб-аппарат (англ. tribe, «масса»).\n",
        "\n",
        "Перед тем как первый раз ввести легирующие добавки, измеряют температуру стали и производят её химический анализ. Потом температуру на несколько минут повышают, добавляют легирующие материалы и продувают сплав инертным газом. Затем его перемешивают и снова проводят измерения. Такой цикл повторяется до достижения целевого химического состава и оптимальной температуры плавки.\n",
        "\n",
        "Тогда расплавленная сталь отправляется на доводку металла или поступает в машину непрерывной разливки. Оттуда готовый продукт выходит в виде заготовок-слябов (англ. *slab*, «плита»)."
      ]
    },
    {
      "cell_type": "markdown",
      "metadata": {
        "id": "tySjBvjtUqL9"
      },
      "source": [
        "# ПЛАН\n",
        "1. Открыть и изучить содержимое файлов:\n",
        "    - импорт библиотек,\n",
        "    - вывод содержимого на экран\n",
        "2. Произвести анализ а предобработку данных:\n",
        "    - проанализировать данные на пропуски, аномальные значения,\n",
        "    - произвести необходимые для дальнейшей работы расчеты,\n",
        "    - отобрать необходимые признаки,\n",
        "3. Подготовить полученные данные для дальнейшего обучения:\n",
        "    - нормализация данных,\n",
        "    - разбивка на тренировочную и тестовую выборки\n",
        "4. Обучение моделей:\n",
        "    - обучить несколько моделей на тренировочных данных,\n",
        "    - отобрать лучшую и проверить на тестовой выборке\n",
        "5. Составить финальный отчет:\n",
        "    - список признаков(столбцов), используемых для обучения модели,\n",
        "    - описание прдобработки данных\n",
        "    - алгоритм обучения, список гиперпараметров модели\n"
      ]
    },
    {
      "cell_type": "markdown",
      "metadata": {},
      "source": [
        "# Критерии оценки:\n",
        "8.7 < МАЕ - неудовлетворительно  \n",
        "6.8 < МАЕ <= 8.7 - удовлетворительно  \n",
        "6.0 < МАЕ <= 6.8 - хорошо  \n",
        "      МАЕ <= 6.0 - отлично"
      ]
    },
    {
      "cell_type": "markdown",
      "metadata": {
        "id": "Ns9StH10UqL_"
      },
      "source": [
        "## Открытие и изучение файлов"
      ]
    },
    {
      "cell_type": "markdown",
      "metadata": {
        "id": "-juY6UIrUqMB"
      },
      "source": [
        "### Импорт библиотек и загрузка датасетов"
      ]
    },
    {
      "cell_type": "code",
      "execution_count": 2,
      "metadata": {
        "id": "LNmytmTLUqMD"
      },
      "outputs": [],
      "source": [
        "import pandas as pd\n",
        "import numpy as np\n",
        "\n",
        "import seaborn as sns\n",
        "import matplotlib.pyplot as plt\n",
        "import plotly.express as px\n",
        "\n",
        "import warnings\n",
        "warnings.simplefilter(action='ignore', category=FutureWarning)"
      ]
    },
    {
      "cell_type": "code",
      "execution_count": 3,
      "metadata": {
        "id": "wYae2mq6UqMF"
      },
      "outputs": [],
      "source": [
        "from sklearn.model_selection import train_test_split, cross_val_score, GridSearchCV\n",
        "from sklearn.preprocessing import StandardScaler"
      ]
    },
    {
      "cell_type": "code",
      "execution_count": 4,
      "metadata": {
        "id": "PAqXKXOWUqMH"
      },
      "outputs": [],
      "source": [
        "from sklearn.metrics import mean_absolute_error as MAE"
      ]
    },
    {
      "cell_type": "code",
      "execution_count": 5,
      "metadata": {
        "id": "WY_-4t2hUqMI"
      },
      "outputs": [],
      "source": [
        "from catboost import CatBoostRegressor\n",
        "from sklearn.linear_model import LinearRegression\n",
        "from sklearn.ensemble import RandomForestRegressor"
      ]
    },
    {
      "cell_type": "code",
      "execution_count": 6,
      "metadata": {
        "id": "jjAb9ramUqMJ"
      },
      "outputs": [],
      "source": [
        "RANDOM_STATE = 250722\n",
        "SCORING = 'neg_mean_absolute_error'"
      ]
    },
    {
      "cell_type": "code",
      "execution_count": 7,
      "metadata": {
        "colab": {
          "base_uri": "https://localhost:8080/"
        },
        "id": "ztvY4ZJlUqMM",
        "outputId": "be8a6e98-df94-4165-c2b2-12ac960f1297"
      },
      "outputs": [],
      "source": [
        "try:\n",
        "    df_arc = pd.read_csv('data_arc.csv')\n",
        "    df_bulk = pd.read_csv('data_bulk.csv')\n",
        "    df_bulk_time = pd.read_csv('data_bulk_time.csv')\n",
        "    df_gas = pd.read_csv('data_gas.csv')\n",
        "    df_temp = pd.read_csv('data_temp.csv')\n",
        "    df_wire = pd.read_csv('data_wire.csv')\n",
        "    df_wire_time = pd.read_csv('data_wire_time.csv')\n",
        "except:\n",
        "    pass\n",
        "\n",
        "\n",
        "try:\n",
        "    df_arc = pd.read_csv('/datasets/final_steel/data_arc.csv')\n",
        "    df_bulk = pd.read_csv('/datasets/final_steel/data_bulk.csv')\n",
        "    df_bulk_time = pd.read_csv('/datasets/final_steel/data_bulk_time.csv')\n",
        "    df_gas = pd.read_csv('/datasets/final_steel/data_gas.csv')\n",
        "    df_temp = pd.read_csv('/datasets/final_steel/data_temp.csv')\n",
        "    df_wire = pd.read_csv('/datasets/final_steel/data_wire.csv')\n",
        "    df_wire_time = pd.read_csv('/datasets/final_steel/data_wire_time.csv')\n",
        "except:\n",
        "    pass\n",
        "\n",
        "try:\n",
        "    df_arc = pd.read_csv('/datasets/final_steel/data_arc.csv')\n",
        "    df_bulk = pd.read_csv('/datasets/final_steel/data_bulk.csv')\n",
        "    df_bulk_time = pd.read_csv('/datasets/final_steel/data_bulk_time.csv')\n",
        "    df_gas = pd.read_csv('/datasets/final_steel/data_gas.csv')\n",
        "    df_temp = pd.read_csv('/datasets/final_steel/data_temp.csv')\n",
        "    df_wire = pd.read_csv('/datasets/final_steel/data_wire.csv')\n",
        "    df_wire_time = pd.read_csv('/datasets/final_steel/data_wire_time.csv')\n",
        "except:\n",
        "    pass\n",
        "\n",
        "\n",
        "try:\n",
        "    # from google.colab import drive\n",
        "    # drive.mount('/content/drive')\n",
        "\n",
        "    df_arc = pd.read_csv(\n",
        "        '/content/drive/MyDrive/Colab Notebooks/Яндекс_практикум/выпускной проект/data_arc.csv')\n",
        "    df_bulk = pd.read_csv(\n",
        "        '/content/drive/MyDrive/Colab Notebooks/Яндекс_практикум/выпускной проект/data_bulk.csv')\n",
        "    df_bulk_time = pd.read_csv(\n",
        "        '/content/drive/MyDrive/Colab Notebooks/Яндекс_практикум/выпускной проект/data_bulk_time.csv')\n",
        "    df_gas = pd.read_csv(\n",
        "        '/content/drive/MyDrive/Colab Notebooks/Яндекс_практикум/выпускной проект/data_gas.csv')\n",
        "    df_temp = pd.read_csv(\n",
        "        '/content/drive/MyDrive/Colab Notebooks/Яндекс_практикум/выпускной проект/data_temp.csv')\n",
        "    df_wire = pd.read_csv(\n",
        "        '/content/drive/MyDrive/Colab Notebooks/Яндекс_практикум/выпускной проект/data_wire.csv')\n",
        "    df_wire_time = pd.read_csv(\n",
        "        '/content/drive/MyDrive/Colab Notebooks/Яндекс_практикум/выпускной проект/data_wire_time.csv')\n",
        "except:\n",
        "    pass\n"
      ]
    },
    {
      "cell_type": "markdown",
      "metadata": {
        "id": "zHkmMTLYUqMN"
      },
      "source": [
        "### Данные об электродах"
      ]
    },
    {
      "cell_type": "code",
      "execution_count": 8,
      "metadata": {
        "colab": {
          "base_uri": "https://localhost:8080/",
          "height": 363
        },
        "id": "LQdN7fOPUqMO",
        "outputId": "1b756d8d-bde1-4b51-98af-fc35e1028dc5"
      },
      "outputs": [
        {
          "data": {
            "text/html": [
              "<div>\n",
              "<style scoped>\n",
              "    .dataframe tbody tr th:only-of-type {\n",
              "        vertical-align: middle;\n",
              "    }\n",
              "\n",
              "    .dataframe tbody tr th {\n",
              "        vertical-align: top;\n",
              "    }\n",
              "\n",
              "    .dataframe thead th {\n",
              "        text-align: right;\n",
              "    }\n",
              "</style>\n",
              "<table border=\"1\" class=\"dataframe\">\n",
              "  <thead>\n",
              "    <tr style=\"text-align: right;\">\n",
              "      <th></th>\n",
              "      <th>key</th>\n",
              "      <th>Начало нагрева дугой</th>\n",
              "      <th>Конец нагрева дугой</th>\n",
              "      <th>Активная мощность</th>\n",
              "      <th>Реактивная мощность</th>\n",
              "    </tr>\n",
              "  </thead>\n",
              "  <tbody>\n",
              "    <tr>\n",
              "      <th>0</th>\n",
              "      <td>1</td>\n",
              "      <td>2019-05-03 11:02:14</td>\n",
              "      <td>2019-05-03 11:06:02</td>\n",
              "      <td>0.976059</td>\n",
              "      <td>0.687084</td>\n",
              "    </tr>\n",
              "    <tr>\n",
              "      <th>1</th>\n",
              "      <td>1</td>\n",
              "      <td>2019-05-03 11:07:28</td>\n",
              "      <td>2019-05-03 11:10:33</td>\n",
              "      <td>0.805607</td>\n",
              "      <td>0.520285</td>\n",
              "    </tr>\n",
              "    <tr>\n",
              "      <th>2</th>\n",
              "      <td>1</td>\n",
              "      <td>2019-05-03 11:11:44</td>\n",
              "      <td>2019-05-03 11:14:36</td>\n",
              "      <td>0.744363</td>\n",
              "      <td>0.498805</td>\n",
              "    </tr>\n",
              "    <tr>\n",
              "      <th>3</th>\n",
              "      <td>1</td>\n",
              "      <td>2019-05-03 11:18:14</td>\n",
              "      <td>2019-05-03 11:24:19</td>\n",
              "      <td>1.659363</td>\n",
              "      <td>1.062669</td>\n",
              "    </tr>\n",
              "    <tr>\n",
              "      <th>4</th>\n",
              "      <td>1</td>\n",
              "      <td>2019-05-03 11:26:09</td>\n",
              "      <td>2019-05-03 11:28:37</td>\n",
              "      <td>0.692755</td>\n",
              "      <td>0.414397</td>\n",
              "    </tr>\n",
              "    <tr>\n",
              "      <th>5</th>\n",
              "      <td>2</td>\n",
              "      <td>2019-05-03 11:34:14</td>\n",
              "      <td>2019-05-03 11:36:31</td>\n",
              "      <td>0.438063</td>\n",
              "      <td>0.283043</td>\n",
              "    </tr>\n",
              "    <tr>\n",
              "      <th>6</th>\n",
              "      <td>2</td>\n",
              "      <td>2019-05-03 11:38:50</td>\n",
              "      <td>2019-05-03 11:44:28</td>\n",
              "      <td>1.296415</td>\n",
              "      <td>0.892914</td>\n",
              "    </tr>\n",
              "    <tr>\n",
              "      <th>7</th>\n",
              "      <td>2</td>\n",
              "      <td>2019-05-03 11:46:19</td>\n",
              "      <td>2019-05-03 11:48:25</td>\n",
              "      <td>0.490377</td>\n",
              "      <td>0.305281</td>\n",
              "    </tr>\n",
              "    <tr>\n",
              "      <th>8</th>\n",
              "      <td>2</td>\n",
              "      <td>2019-05-03 11:49:48</td>\n",
              "      <td>2019-05-03 11:53:18</td>\n",
              "      <td>0.827743</td>\n",
              "      <td>0.516874</td>\n",
              "    </tr>\n",
              "    <tr>\n",
              "      <th>9</th>\n",
              "      <td>3</td>\n",
              "      <td>2019-05-03 12:06:54</td>\n",
              "      <td>2019-05-03 12:11:34</td>\n",
              "      <td>1.062053</td>\n",
              "      <td>0.671494</td>\n",
              "    </tr>\n",
              "  </tbody>\n",
              "</table>\n",
              "</div>"
            ],
            "text/plain": [
              "   key Начало нагрева дугой  Конец нагрева дугой  Активная мощность  \\\n",
              "0    1  2019-05-03 11:02:14  2019-05-03 11:06:02           0.976059   \n",
              "1    1  2019-05-03 11:07:28  2019-05-03 11:10:33           0.805607   \n",
              "2    1  2019-05-03 11:11:44  2019-05-03 11:14:36           0.744363   \n",
              "3    1  2019-05-03 11:18:14  2019-05-03 11:24:19           1.659363   \n",
              "4    1  2019-05-03 11:26:09  2019-05-03 11:28:37           0.692755   \n",
              "5    2  2019-05-03 11:34:14  2019-05-03 11:36:31           0.438063   \n",
              "6    2  2019-05-03 11:38:50  2019-05-03 11:44:28           1.296415   \n",
              "7    2  2019-05-03 11:46:19  2019-05-03 11:48:25           0.490377   \n",
              "8    2  2019-05-03 11:49:48  2019-05-03 11:53:18           0.827743   \n",
              "9    3  2019-05-03 12:06:54  2019-05-03 12:11:34           1.062053   \n",
              "\n",
              "   Реактивная мощность  \n",
              "0             0.687084  \n",
              "1             0.520285  \n",
              "2             0.498805  \n",
              "3             1.062669  \n",
              "4             0.414397  \n",
              "5             0.283043  \n",
              "6             0.892914  \n",
              "7             0.305281  \n",
              "8             0.516874  \n",
              "9             0.671494  "
            ]
          },
          "execution_count": 8,
          "metadata": {},
          "output_type": "execute_result"
        }
      ],
      "source": [
        "df_arc.head(10)"
      ]
    },
    {
      "cell_type": "markdown",
      "metadata": {
        "id": "KZe3WNBXUqMP"
      },
      "source": [
        "В датасете дана информация об затраченной электроэнергии во время использования электродов:\n",
        "- номер электрода,\n",
        "- время работы,\n",
        "- активная и реактивная мощности"
      ]
    },
    {
      "cell_type": "code",
      "execution_count": 9,
      "metadata": {
        "colab": {
          "base_uri": "https://localhost:8080/"
        },
        "id": "8ZTdRGulUqMR",
        "outputId": "3f3aca13-0f1a-447d-8ac8-b570a7f17397"
      },
      "outputs": [
        {
          "name": "stdout",
          "output_type": "stream",
          "text": [
            "<class 'pandas.core.frame.DataFrame'>\n",
            "RangeIndex: 14876 entries, 0 to 14875\n",
            "Data columns (total 5 columns):\n",
            " #   Column                Non-Null Count  Dtype  \n",
            "---  ------                --------------  -----  \n",
            " 0   key                   14876 non-null  int64  \n",
            " 1   Начало нагрева дугой  14876 non-null  object \n",
            " 2   Конец нагрева дугой   14876 non-null  object \n",
            " 3   Активная мощность     14876 non-null  float64\n",
            " 4   Реактивная мощность   14876 non-null  float64\n",
            "dtypes: float64(2), int64(1), object(2)\n",
            "memory usage: 581.2+ KB\n"
          ]
        }
      ],
      "source": [
        "df_arc.info()"
      ]
    },
    {
      "cell_type": "markdown",
      "metadata": {
        "id": "Idcv9wF8UqMS"
      },
      "source": [
        "В датасете отсутствуют пропуски. Переведем тип значений столбцов `Начало нагрева дугой` и `Конец нагрева дугой` в тип pd.datetime"
      ]
    },
    {
      "cell_type": "code",
      "execution_count": 10,
      "metadata": {
        "colab": {
          "base_uri": "https://localhost:8080/"
        },
        "id": "T08n72QuUqMT",
        "outputId": "3d0b404c-72a7-40e3-f108-31bb1794f999"
      },
      "outputs": [
        {
          "data": {
            "text/plain": [
              "key                              int64\n",
              "Начало нагрева дугой    datetime64[ns]\n",
              "Конец нагрева дугой     datetime64[ns]\n",
              "Активная мощность              float64\n",
              "Реактивная мощность            float64\n",
              "dtype: object"
            ]
          },
          "execution_count": 10,
          "metadata": {},
          "output_type": "execute_result"
        }
      ],
      "source": [
        "df_arc['Начало нагрева дугой'] = pd.to_datetime(df_arc['Начало нагрева дугой'])\n",
        "df_arc['Конец нагрева дугой'] = pd.to_datetime(df_arc['Конец нагрева дугой'])\n",
        "df_arc.dtypes"
      ]
    },
    {
      "cell_type": "markdown",
      "metadata": {
        "id": "L36L22ZIUqMU"
      },
      "source": [
        "### Данные о подаче и времени подачи  сыпучих материалов"
      ]
    },
    {
      "cell_type": "code",
      "execution_count": 11,
      "metadata": {
        "colab": {
          "base_uri": "https://localhost:8080/",
          "height": 363
        },
        "id": "nXTtCB7AUqMV",
        "outputId": "665243f0-7b3c-40bb-d41c-50fdc23fe477"
      },
      "outputs": [
        {
          "data": {
            "text/html": [
              "<div>\n",
              "<style scoped>\n",
              "    .dataframe tbody tr th:only-of-type {\n",
              "        vertical-align: middle;\n",
              "    }\n",
              "\n",
              "    .dataframe tbody tr th {\n",
              "        vertical-align: top;\n",
              "    }\n",
              "\n",
              "    .dataframe thead th {\n",
              "        text-align: right;\n",
              "    }\n",
              "</style>\n",
              "<table border=\"1\" class=\"dataframe\">\n",
              "  <thead>\n",
              "    <tr style=\"text-align: right;\">\n",
              "      <th></th>\n",
              "      <th>key</th>\n",
              "      <th>Bulk 1</th>\n",
              "      <th>Bulk 2</th>\n",
              "      <th>Bulk 3</th>\n",
              "      <th>Bulk 4</th>\n",
              "      <th>Bulk 5</th>\n",
              "      <th>Bulk 6</th>\n",
              "      <th>Bulk 7</th>\n",
              "      <th>Bulk 8</th>\n",
              "      <th>Bulk 9</th>\n",
              "      <th>Bulk 10</th>\n",
              "      <th>Bulk 11</th>\n",
              "      <th>Bulk 12</th>\n",
              "      <th>Bulk 13</th>\n",
              "      <th>Bulk 14</th>\n",
              "      <th>Bulk 15</th>\n",
              "    </tr>\n",
              "  </thead>\n",
              "  <tbody>\n",
              "    <tr>\n",
              "      <th>0</th>\n",
              "      <td>1</td>\n",
              "      <td>NaN</td>\n",
              "      <td>NaN</td>\n",
              "      <td>NaN</td>\n",
              "      <td>43.0</td>\n",
              "      <td>NaN</td>\n",
              "      <td>NaN</td>\n",
              "      <td>NaN</td>\n",
              "      <td>NaN</td>\n",
              "      <td>NaN</td>\n",
              "      <td>NaN</td>\n",
              "      <td>NaN</td>\n",
              "      <td>206.0</td>\n",
              "      <td>NaN</td>\n",
              "      <td>150.0</td>\n",
              "      <td>154.0</td>\n",
              "    </tr>\n",
              "    <tr>\n",
              "      <th>1</th>\n",
              "      <td>2</td>\n",
              "      <td>NaN</td>\n",
              "      <td>NaN</td>\n",
              "      <td>NaN</td>\n",
              "      <td>73.0</td>\n",
              "      <td>NaN</td>\n",
              "      <td>NaN</td>\n",
              "      <td>NaN</td>\n",
              "      <td>NaN</td>\n",
              "      <td>NaN</td>\n",
              "      <td>NaN</td>\n",
              "      <td>NaN</td>\n",
              "      <td>206.0</td>\n",
              "      <td>NaN</td>\n",
              "      <td>149.0</td>\n",
              "      <td>154.0</td>\n",
              "    </tr>\n",
              "    <tr>\n",
              "      <th>2</th>\n",
              "      <td>3</td>\n",
              "      <td>NaN</td>\n",
              "      <td>NaN</td>\n",
              "      <td>NaN</td>\n",
              "      <td>34.0</td>\n",
              "      <td>NaN</td>\n",
              "      <td>NaN</td>\n",
              "      <td>NaN</td>\n",
              "      <td>NaN</td>\n",
              "      <td>NaN</td>\n",
              "      <td>NaN</td>\n",
              "      <td>NaN</td>\n",
              "      <td>205.0</td>\n",
              "      <td>NaN</td>\n",
              "      <td>152.0</td>\n",
              "      <td>153.0</td>\n",
              "    </tr>\n",
              "    <tr>\n",
              "      <th>3</th>\n",
              "      <td>4</td>\n",
              "      <td>NaN</td>\n",
              "      <td>NaN</td>\n",
              "      <td>NaN</td>\n",
              "      <td>81.0</td>\n",
              "      <td>NaN</td>\n",
              "      <td>NaN</td>\n",
              "      <td>NaN</td>\n",
              "      <td>NaN</td>\n",
              "      <td>NaN</td>\n",
              "      <td>NaN</td>\n",
              "      <td>NaN</td>\n",
              "      <td>207.0</td>\n",
              "      <td>NaN</td>\n",
              "      <td>153.0</td>\n",
              "      <td>154.0</td>\n",
              "    </tr>\n",
              "    <tr>\n",
              "      <th>4</th>\n",
              "      <td>5</td>\n",
              "      <td>NaN</td>\n",
              "      <td>NaN</td>\n",
              "      <td>NaN</td>\n",
              "      <td>78.0</td>\n",
              "      <td>NaN</td>\n",
              "      <td>NaN</td>\n",
              "      <td>NaN</td>\n",
              "      <td>NaN</td>\n",
              "      <td>NaN</td>\n",
              "      <td>NaN</td>\n",
              "      <td>NaN</td>\n",
              "      <td>203.0</td>\n",
              "      <td>NaN</td>\n",
              "      <td>151.0</td>\n",
              "      <td>152.0</td>\n",
              "    </tr>\n",
              "    <tr>\n",
              "      <th>5</th>\n",
              "      <td>6</td>\n",
              "      <td>NaN</td>\n",
              "      <td>NaN</td>\n",
              "      <td>NaN</td>\n",
              "      <td>117.0</td>\n",
              "      <td>NaN</td>\n",
              "      <td>NaN</td>\n",
              "      <td>NaN</td>\n",
              "      <td>NaN</td>\n",
              "      <td>NaN</td>\n",
              "      <td>NaN</td>\n",
              "      <td>NaN</td>\n",
              "      <td>204.0</td>\n",
              "      <td>NaN</td>\n",
              "      <td>201.0</td>\n",
              "      <td>154.0</td>\n",
              "    </tr>\n",
              "    <tr>\n",
              "      <th>6</th>\n",
              "      <td>7</td>\n",
              "      <td>NaN</td>\n",
              "      <td>NaN</td>\n",
              "      <td>NaN</td>\n",
              "      <td>117.0</td>\n",
              "      <td>NaN</td>\n",
              "      <td>NaN</td>\n",
              "      <td>NaN</td>\n",
              "      <td>NaN</td>\n",
              "      <td>NaN</td>\n",
              "      <td>NaN</td>\n",
              "      <td>NaN</td>\n",
              "      <td>204.0</td>\n",
              "      <td>NaN</td>\n",
              "      <td>152.0</td>\n",
              "      <td>154.0</td>\n",
              "    </tr>\n",
              "    <tr>\n",
              "      <th>7</th>\n",
              "      <td>8</td>\n",
              "      <td>NaN</td>\n",
              "      <td>NaN</td>\n",
              "      <td>NaN</td>\n",
              "      <td>99.0</td>\n",
              "      <td>NaN</td>\n",
              "      <td>NaN</td>\n",
              "      <td>NaN</td>\n",
              "      <td>NaN</td>\n",
              "      <td>NaN</td>\n",
              "      <td>NaN</td>\n",
              "      <td>NaN</td>\n",
              "      <td>410.0</td>\n",
              "      <td>NaN</td>\n",
              "      <td>252.0</td>\n",
              "      <td>153.0</td>\n",
              "    </tr>\n",
              "    <tr>\n",
              "      <th>8</th>\n",
              "      <td>9</td>\n",
              "      <td>NaN</td>\n",
              "      <td>NaN</td>\n",
              "      <td>NaN</td>\n",
              "      <td>117.0</td>\n",
              "      <td>NaN</td>\n",
              "      <td>NaN</td>\n",
              "      <td>NaN</td>\n",
              "      <td>NaN</td>\n",
              "      <td>NaN</td>\n",
              "      <td>NaN</td>\n",
              "      <td>NaN</td>\n",
              "      <td>107.0</td>\n",
              "      <td>NaN</td>\n",
              "      <td>99.0</td>\n",
              "      <td>203.0</td>\n",
              "    </tr>\n",
              "    <tr>\n",
              "      <th>9</th>\n",
              "      <td>10</td>\n",
              "      <td>NaN</td>\n",
              "      <td>NaN</td>\n",
              "      <td>NaN</td>\n",
              "      <td>NaN</td>\n",
              "      <td>NaN</td>\n",
              "      <td>NaN</td>\n",
              "      <td>NaN</td>\n",
              "      <td>NaN</td>\n",
              "      <td>NaN</td>\n",
              "      <td>NaN</td>\n",
              "      <td>NaN</td>\n",
              "      <td>203.0</td>\n",
              "      <td>NaN</td>\n",
              "      <td>102.0</td>\n",
              "      <td>204.0</td>\n",
              "    </tr>\n",
              "  </tbody>\n",
              "</table>\n",
              "</div>"
            ],
            "text/plain": [
              "   key  Bulk 1  Bulk 2  Bulk 3  Bulk 4  Bulk 5  Bulk 6  Bulk 7  Bulk 8  \\\n",
              "0    1     NaN     NaN     NaN    43.0     NaN     NaN     NaN     NaN   \n",
              "1    2     NaN     NaN     NaN    73.0     NaN     NaN     NaN     NaN   \n",
              "2    3     NaN     NaN     NaN    34.0     NaN     NaN     NaN     NaN   \n",
              "3    4     NaN     NaN     NaN    81.0     NaN     NaN     NaN     NaN   \n",
              "4    5     NaN     NaN     NaN    78.0     NaN     NaN     NaN     NaN   \n",
              "5    6     NaN     NaN     NaN   117.0     NaN     NaN     NaN     NaN   \n",
              "6    7     NaN     NaN     NaN   117.0     NaN     NaN     NaN     NaN   \n",
              "7    8     NaN     NaN     NaN    99.0     NaN     NaN     NaN     NaN   \n",
              "8    9     NaN     NaN     NaN   117.0     NaN     NaN     NaN     NaN   \n",
              "9   10     NaN     NaN     NaN     NaN     NaN     NaN     NaN     NaN   \n",
              "\n",
              "   Bulk 9  Bulk 10  Bulk 11  Bulk 12  Bulk 13  Bulk 14  Bulk 15  \n",
              "0     NaN      NaN      NaN    206.0      NaN    150.0    154.0  \n",
              "1     NaN      NaN      NaN    206.0      NaN    149.0    154.0  \n",
              "2     NaN      NaN      NaN    205.0      NaN    152.0    153.0  \n",
              "3     NaN      NaN      NaN    207.0      NaN    153.0    154.0  \n",
              "4     NaN      NaN      NaN    203.0      NaN    151.0    152.0  \n",
              "5     NaN      NaN      NaN    204.0      NaN    201.0    154.0  \n",
              "6     NaN      NaN      NaN    204.0      NaN    152.0    154.0  \n",
              "7     NaN      NaN      NaN    410.0      NaN    252.0    153.0  \n",
              "8     NaN      NaN      NaN    107.0      NaN     99.0    203.0  \n",
              "9     NaN      NaN      NaN    203.0      NaN    102.0    204.0  "
            ]
          },
          "execution_count": 11,
          "metadata": {},
          "output_type": "execute_result"
        }
      ],
      "source": [
        "df_bulk.head(10)"
      ]
    },
    {
      "cell_type": "code",
      "execution_count": 12,
      "metadata": {
        "colab": {
          "base_uri": "https://localhost:8080/",
          "height": 363
        },
        "id": "lPKW_ObmUqMW",
        "outputId": "9573319a-34d0-4ef4-8c90-cef0a9cefe5e"
      },
      "outputs": [
        {
          "data": {
            "text/html": [
              "<div>\n",
              "<style scoped>\n",
              "    .dataframe tbody tr th:only-of-type {\n",
              "        vertical-align: middle;\n",
              "    }\n",
              "\n",
              "    .dataframe tbody tr th {\n",
              "        vertical-align: top;\n",
              "    }\n",
              "\n",
              "    .dataframe thead th {\n",
              "        text-align: right;\n",
              "    }\n",
              "</style>\n",
              "<table border=\"1\" class=\"dataframe\">\n",
              "  <thead>\n",
              "    <tr style=\"text-align: right;\">\n",
              "      <th></th>\n",
              "      <th>key</th>\n",
              "      <th>Bulk 1</th>\n",
              "      <th>Bulk 2</th>\n",
              "      <th>Bulk 3</th>\n",
              "      <th>Bulk 4</th>\n",
              "      <th>Bulk 5</th>\n",
              "      <th>Bulk 6</th>\n",
              "      <th>Bulk 7</th>\n",
              "      <th>Bulk 8</th>\n",
              "      <th>Bulk 9</th>\n",
              "      <th>Bulk 10</th>\n",
              "      <th>Bulk 11</th>\n",
              "      <th>Bulk 12</th>\n",
              "      <th>Bulk 13</th>\n",
              "      <th>Bulk 14</th>\n",
              "      <th>Bulk 15</th>\n",
              "    </tr>\n",
              "  </thead>\n",
              "  <tbody>\n",
              "    <tr>\n",
              "      <th>0</th>\n",
              "      <td>1</td>\n",
              "      <td>NaN</td>\n",
              "      <td>NaN</td>\n",
              "      <td>NaN</td>\n",
              "      <td>2019-05-03 11:21:30</td>\n",
              "      <td>NaN</td>\n",
              "      <td>NaN</td>\n",
              "      <td>NaN</td>\n",
              "      <td>NaN</td>\n",
              "      <td>NaN</td>\n",
              "      <td>NaN</td>\n",
              "      <td>NaN</td>\n",
              "      <td>2019-05-03 11:03:52</td>\n",
              "      <td>NaN</td>\n",
              "      <td>2019-05-03 11:03:52</td>\n",
              "      <td>2019-05-03 11:03:52</td>\n",
              "    </tr>\n",
              "    <tr>\n",
              "      <th>1</th>\n",
              "      <td>2</td>\n",
              "      <td>NaN</td>\n",
              "      <td>NaN</td>\n",
              "      <td>NaN</td>\n",
              "      <td>2019-05-03 11:46:38</td>\n",
              "      <td>NaN</td>\n",
              "      <td>NaN</td>\n",
              "      <td>NaN</td>\n",
              "      <td>NaN</td>\n",
              "      <td>NaN</td>\n",
              "      <td>NaN</td>\n",
              "      <td>NaN</td>\n",
              "      <td>2019-05-03 11:40:20</td>\n",
              "      <td>NaN</td>\n",
              "      <td>2019-05-03 11:40:20</td>\n",
              "      <td>2019-05-03 11:40:20</td>\n",
              "    </tr>\n",
              "    <tr>\n",
              "      <th>2</th>\n",
              "      <td>3</td>\n",
              "      <td>NaN</td>\n",
              "      <td>NaN</td>\n",
              "      <td>NaN</td>\n",
              "      <td>2019-05-03 12:31:06</td>\n",
              "      <td>NaN</td>\n",
              "      <td>NaN</td>\n",
              "      <td>NaN</td>\n",
              "      <td>NaN</td>\n",
              "      <td>NaN</td>\n",
              "      <td>NaN</td>\n",
              "      <td>NaN</td>\n",
              "      <td>2019-05-03 12:09:40</td>\n",
              "      <td>NaN</td>\n",
              "      <td>2019-05-03 12:09:40</td>\n",
              "      <td>2019-05-03 12:09:40</td>\n",
              "    </tr>\n",
              "    <tr>\n",
              "      <th>3</th>\n",
              "      <td>4</td>\n",
              "      <td>NaN</td>\n",
              "      <td>NaN</td>\n",
              "      <td>NaN</td>\n",
              "      <td>2019-05-03 12:48:43</td>\n",
              "      <td>NaN</td>\n",
              "      <td>NaN</td>\n",
              "      <td>NaN</td>\n",
              "      <td>NaN</td>\n",
              "      <td>NaN</td>\n",
              "      <td>NaN</td>\n",
              "      <td>NaN</td>\n",
              "      <td>2019-05-03 12:41:24</td>\n",
              "      <td>NaN</td>\n",
              "      <td>2019-05-03 12:41:24</td>\n",
              "      <td>2019-05-03 12:41:24</td>\n",
              "    </tr>\n",
              "    <tr>\n",
              "      <th>4</th>\n",
              "      <td>5</td>\n",
              "      <td>NaN</td>\n",
              "      <td>NaN</td>\n",
              "      <td>NaN</td>\n",
              "      <td>2019-05-03 13:18:50</td>\n",
              "      <td>NaN</td>\n",
              "      <td>NaN</td>\n",
              "      <td>NaN</td>\n",
              "      <td>NaN</td>\n",
              "      <td>NaN</td>\n",
              "      <td>NaN</td>\n",
              "      <td>NaN</td>\n",
              "      <td>2019-05-03 13:12:56</td>\n",
              "      <td>NaN</td>\n",
              "      <td>2019-05-03 13:12:56</td>\n",
              "      <td>2019-05-03 13:12:56</td>\n",
              "    </tr>\n",
              "    <tr>\n",
              "      <th>5</th>\n",
              "      <td>6</td>\n",
              "      <td>NaN</td>\n",
              "      <td>NaN</td>\n",
              "      <td>NaN</td>\n",
              "      <td>2019-05-03 13:59:24</td>\n",
              "      <td>NaN</td>\n",
              "      <td>NaN</td>\n",
              "      <td>NaN</td>\n",
              "      <td>NaN</td>\n",
              "      <td>NaN</td>\n",
              "      <td>NaN</td>\n",
              "      <td>NaN</td>\n",
              "      <td>2019-05-03 13:53:27</td>\n",
              "      <td>NaN</td>\n",
              "      <td>2019-05-03 13:53:27</td>\n",
              "      <td>2019-05-03 13:53:27</td>\n",
              "    </tr>\n",
              "    <tr>\n",
              "      <th>6</th>\n",
              "      <td>7</td>\n",
              "      <td>NaN</td>\n",
              "      <td>NaN</td>\n",
              "      <td>NaN</td>\n",
              "      <td>2019-05-03 14:29:14</td>\n",
              "      <td>NaN</td>\n",
              "      <td>NaN</td>\n",
              "      <td>NaN</td>\n",
              "      <td>NaN</td>\n",
              "      <td>NaN</td>\n",
              "      <td>NaN</td>\n",
              "      <td>NaN</td>\n",
              "      <td>2019-05-03 14:22:19</td>\n",
              "      <td>NaN</td>\n",
              "      <td>2019-05-03 14:22:19</td>\n",
              "      <td>2019-05-03 14:22:19</td>\n",
              "    </tr>\n",
              "    <tr>\n",
              "      <th>7</th>\n",
              "      <td>8</td>\n",
              "      <td>NaN</td>\n",
              "      <td>NaN</td>\n",
              "      <td>NaN</td>\n",
              "      <td>2019-05-03 15:04:05</td>\n",
              "      <td>NaN</td>\n",
              "      <td>NaN</td>\n",
              "      <td>NaN</td>\n",
              "      <td>NaN</td>\n",
              "      <td>NaN</td>\n",
              "      <td>NaN</td>\n",
              "      <td>NaN</td>\n",
              "      <td>2019-05-03 14:55:46</td>\n",
              "      <td>NaN</td>\n",
              "      <td>2019-05-03 14:55:46</td>\n",
              "      <td>2019-05-03 14:55:46</td>\n",
              "    </tr>\n",
              "    <tr>\n",
              "      <th>8</th>\n",
              "      <td>9</td>\n",
              "      <td>NaN</td>\n",
              "      <td>NaN</td>\n",
              "      <td>NaN</td>\n",
              "      <td>2019-05-03 15:47:34</td>\n",
              "      <td>NaN</td>\n",
              "      <td>NaN</td>\n",
              "      <td>NaN</td>\n",
              "      <td>NaN</td>\n",
              "      <td>NaN</td>\n",
              "      <td>NaN</td>\n",
              "      <td>NaN</td>\n",
              "      <td>2019-05-03 15:41:00</td>\n",
              "      <td>NaN</td>\n",
              "      <td>2019-05-03 15:41:00</td>\n",
              "      <td>2019-05-03 15:41:00</td>\n",
              "    </tr>\n",
              "    <tr>\n",
              "      <th>9</th>\n",
              "      <td>10</td>\n",
              "      <td>NaN</td>\n",
              "      <td>NaN</td>\n",
              "      <td>NaN</td>\n",
              "      <td>NaN</td>\n",
              "      <td>NaN</td>\n",
              "      <td>NaN</td>\n",
              "      <td>NaN</td>\n",
              "      <td>NaN</td>\n",
              "      <td>NaN</td>\n",
              "      <td>NaN</td>\n",
              "      <td>NaN</td>\n",
              "      <td>2019-05-03 16:18:52</td>\n",
              "      <td>NaN</td>\n",
              "      <td>2019-05-03 16:18:52</td>\n",
              "      <td>2019-05-03 16:18:52</td>\n",
              "    </tr>\n",
              "  </tbody>\n",
              "</table>\n",
              "</div>"
            ],
            "text/plain": [
              "   key Bulk 1 Bulk 2 Bulk 3               Bulk 4 Bulk 5 Bulk 6 Bulk 7 Bulk 8  \\\n",
              "0    1    NaN    NaN    NaN  2019-05-03 11:21:30    NaN    NaN    NaN    NaN   \n",
              "1    2    NaN    NaN    NaN  2019-05-03 11:46:38    NaN    NaN    NaN    NaN   \n",
              "2    3    NaN    NaN    NaN  2019-05-03 12:31:06    NaN    NaN    NaN    NaN   \n",
              "3    4    NaN    NaN    NaN  2019-05-03 12:48:43    NaN    NaN    NaN    NaN   \n",
              "4    5    NaN    NaN    NaN  2019-05-03 13:18:50    NaN    NaN    NaN    NaN   \n",
              "5    6    NaN    NaN    NaN  2019-05-03 13:59:24    NaN    NaN    NaN    NaN   \n",
              "6    7    NaN    NaN    NaN  2019-05-03 14:29:14    NaN    NaN    NaN    NaN   \n",
              "7    8    NaN    NaN    NaN  2019-05-03 15:04:05    NaN    NaN    NaN    NaN   \n",
              "8    9    NaN    NaN    NaN  2019-05-03 15:47:34    NaN    NaN    NaN    NaN   \n",
              "9   10    NaN    NaN    NaN                  NaN    NaN    NaN    NaN    NaN   \n",
              "\n",
              "  Bulk 9 Bulk 10 Bulk 11              Bulk 12 Bulk 13              Bulk 14  \\\n",
              "0    NaN     NaN     NaN  2019-05-03 11:03:52     NaN  2019-05-03 11:03:52   \n",
              "1    NaN     NaN     NaN  2019-05-03 11:40:20     NaN  2019-05-03 11:40:20   \n",
              "2    NaN     NaN     NaN  2019-05-03 12:09:40     NaN  2019-05-03 12:09:40   \n",
              "3    NaN     NaN     NaN  2019-05-03 12:41:24     NaN  2019-05-03 12:41:24   \n",
              "4    NaN     NaN     NaN  2019-05-03 13:12:56     NaN  2019-05-03 13:12:56   \n",
              "5    NaN     NaN     NaN  2019-05-03 13:53:27     NaN  2019-05-03 13:53:27   \n",
              "6    NaN     NaN     NaN  2019-05-03 14:22:19     NaN  2019-05-03 14:22:19   \n",
              "7    NaN     NaN     NaN  2019-05-03 14:55:46     NaN  2019-05-03 14:55:46   \n",
              "8    NaN     NaN     NaN  2019-05-03 15:41:00     NaN  2019-05-03 15:41:00   \n",
              "9    NaN     NaN     NaN  2019-05-03 16:18:52     NaN  2019-05-03 16:18:52   \n",
              "\n",
              "               Bulk 15  \n",
              "0  2019-05-03 11:03:52  \n",
              "1  2019-05-03 11:40:20  \n",
              "2  2019-05-03 12:09:40  \n",
              "3  2019-05-03 12:41:24  \n",
              "4  2019-05-03 13:12:56  \n",
              "5  2019-05-03 13:53:27  \n",
              "6  2019-05-03 14:22:19  \n",
              "7  2019-05-03 14:55:46  \n",
              "8  2019-05-03 15:41:00  \n",
              "9  2019-05-03 16:18:52  "
            ]
          },
          "execution_count": 12,
          "metadata": {},
          "output_type": "execute_result"
        }
      ],
      "source": [
        "df_bulk_time.head(10)"
      ]
    },
    {
      "cell_type": "code",
      "execution_count": 76,
      "metadata": {
        "id": "OWOK8mJJUqMa"
      },
      "outputs": [],
      "source": [
        "df_bulk_time[df_bulk_time.columns[1:]] = df_bulk_time[df_bulk_time.columns[1:]].apply(pd.to_datetime)"
      ]
    },
    {
      "cell_type": "markdown",
      "metadata": {
        "id": "aO9bcTCbUqMa"
      },
      "source": [
        "Датасет представлен информацией содежащей:\n",
        "- объем легирующих компонентов,\n",
        "- время их загрузки в сплав."
      ]
    },
    {
      "cell_type": "code",
      "execution_count": 14,
      "metadata": {
        "colab": {
          "base_uri": "https://localhost:8080/"
        },
        "id": "NSzGP7TZUqMb",
        "outputId": "d3ed6dd5-944e-4b26-a6e3-8178381d453d"
      },
      "outputs": [
        {
          "name": "stdout",
          "output_type": "stream",
          "text": [
            "<class 'pandas.core.frame.DataFrame'>\n",
            "RangeIndex: 3129 entries, 0 to 3128\n",
            "Data columns (total 16 columns):\n",
            " #   Column   Non-Null Count  Dtype  \n",
            "---  ------   --------------  -----  \n",
            " 0   key      3129 non-null   int64  \n",
            " 1   Bulk 1   252 non-null    float64\n",
            " 2   Bulk 2   22 non-null     float64\n",
            " 3   Bulk 3   1298 non-null   float64\n",
            " 4   Bulk 4   1014 non-null   float64\n",
            " 5   Bulk 5   77 non-null     float64\n",
            " 6   Bulk 6   576 non-null    float64\n",
            " 7   Bulk 7   25 non-null     float64\n",
            " 8   Bulk 8   1 non-null      float64\n",
            " 9   Bulk 9   19 non-null     float64\n",
            " 10  Bulk 10  176 non-null    float64\n",
            " 11  Bulk 11  177 non-null    float64\n",
            " 12  Bulk 12  2450 non-null   float64\n",
            " 13  Bulk 13  18 non-null     float64\n",
            " 14  Bulk 14  2806 non-null   float64\n",
            " 15  Bulk 15  2248 non-null   float64\n",
            "dtypes: float64(15), int64(1)\n",
            "memory usage: 391.2 KB\n"
          ]
        }
      ],
      "source": [
        "df_bulk.info()"
      ]
    },
    {
      "cell_type": "code",
      "execution_count": 15,
      "metadata": {
        "colab": {
          "base_uri": "https://localhost:8080/"
        },
        "id": "EXumTkQzUqMc",
        "outputId": "037a916b-3c8b-495a-ff5a-a5903d2ba243"
      },
      "outputs": [
        {
          "name": "stdout",
          "output_type": "stream",
          "text": [
            "<class 'pandas.core.frame.DataFrame'>\n",
            "RangeIndex: 3129 entries, 0 to 3128\n",
            "Data columns (total 16 columns):\n",
            " #   Column   Non-Null Count  Dtype         \n",
            "---  ------   --------------  -----         \n",
            " 0   key      3129 non-null   int64         \n",
            " 1   Bulk 1   252 non-null    datetime64[ns]\n",
            " 2   Bulk 2   22 non-null     datetime64[ns]\n",
            " 3   Bulk 3   1298 non-null   datetime64[ns]\n",
            " 4   Bulk 4   1014 non-null   datetime64[ns]\n",
            " 5   Bulk 5   77 non-null     datetime64[ns]\n",
            " 6   Bulk 6   576 non-null    datetime64[ns]\n",
            " 7   Bulk 7   25 non-null     datetime64[ns]\n",
            " 8   Bulk 8   1 non-null      datetime64[ns]\n",
            " 9   Bulk 9   19 non-null     datetime64[ns]\n",
            " 10  Bulk 10  176 non-null    datetime64[ns]\n",
            " 11  Bulk 11  177 non-null    datetime64[ns]\n",
            " 12  Bulk 12  2450 non-null   datetime64[ns]\n",
            " 13  Bulk 13  18 non-null     datetime64[ns]\n",
            " 14  Bulk 14  2806 non-null   datetime64[ns]\n",
            " 15  Bulk 15  2248 non-null   datetime64[ns]\n",
            "dtypes: datetime64[ns](15), int64(1)\n",
            "memory usage: 391.2 KB\n"
          ]
        }
      ],
      "source": [
        "df_bulk_time.info()"
      ]
    },
    {
      "cell_type": "markdown",
      "metadata": {
        "id": "MCAMWyu4UqMd"
      },
      "source": [
        "Проверим соответсвуют ли пропуски одного датасета другому, т.е. если не произошло загрузки легирующего компонента, то в датасете `df_bulk_time` пропуск окажется на той же позиции, что и в `df_bulk`"
      ]
    },
    {
      "cell_type": "code",
      "execution_count": 16,
      "metadata": {
        "colab": {
          "base_uri": "https://localhost:8080/"
        },
        "id": "GGRHbrPvUqMd",
        "outputId": "3531d4a7-2e8d-45d0-8108-7d48ac8df191"
      },
      "outputs": [
        {
          "data": {
            "text/plain": [
              "0"
            ]
          },
          "execution_count": 16,
          "metadata": {},
          "output_type": "execute_result"
        }
      ],
      "source": [
        "(df_bulk.isna() != df_bulk_time.isna()).sum().sum()"
      ]
    },
    {
      "cell_type": "markdown",
      "metadata": {
        "id": "EC4LVk_GUqMf"
      },
      "source": [
        "### Данные о продувке сплава газом"
      ]
    },
    {
      "cell_type": "code",
      "execution_count": 17,
      "metadata": {
        "colab": {
          "base_uri": "https://localhost:8080/",
          "height": 0
        },
        "id": "dWaZNwpRUqMg",
        "outputId": "99c02c92-23f9-46f2-ae4d-f3f92d5153b5"
      },
      "outputs": [
        {
          "data": {
            "text/html": [
              "<div>\n",
              "<style scoped>\n",
              "    .dataframe tbody tr th:only-of-type {\n",
              "        vertical-align: middle;\n",
              "    }\n",
              "\n",
              "    .dataframe tbody tr th {\n",
              "        vertical-align: top;\n",
              "    }\n",
              "\n",
              "    .dataframe thead th {\n",
              "        text-align: right;\n",
              "    }\n",
              "</style>\n",
              "<table border=\"1\" class=\"dataframe\">\n",
              "  <thead>\n",
              "    <tr style=\"text-align: right;\">\n",
              "      <th></th>\n",
              "      <th>key</th>\n",
              "      <th>Газ 1</th>\n",
              "    </tr>\n",
              "  </thead>\n",
              "  <tbody>\n",
              "    <tr>\n",
              "      <th>0</th>\n",
              "      <td>1</td>\n",
              "      <td>29.749986</td>\n",
              "    </tr>\n",
              "    <tr>\n",
              "      <th>1</th>\n",
              "      <td>2</td>\n",
              "      <td>12.555561</td>\n",
              "    </tr>\n",
              "    <tr>\n",
              "      <th>2</th>\n",
              "      <td>3</td>\n",
              "      <td>28.554793</td>\n",
              "    </tr>\n",
              "    <tr>\n",
              "      <th>3</th>\n",
              "      <td>4</td>\n",
              "      <td>18.841219</td>\n",
              "    </tr>\n",
              "    <tr>\n",
              "      <th>4</th>\n",
              "      <td>5</td>\n",
              "      <td>5.413692</td>\n",
              "    </tr>\n",
              "  </tbody>\n",
              "</table>\n",
              "</div>"
            ],
            "text/plain": [
              "   key      Газ 1\n",
              "0    1  29.749986\n",
              "1    2  12.555561\n",
              "2    3  28.554793\n",
              "3    4  18.841219\n",
              "4    5   5.413692"
            ]
          },
          "execution_count": 17,
          "metadata": {},
          "output_type": "execute_result"
        }
      ],
      "source": [
        "df_gas.head()"
      ]
    },
    {
      "cell_type": "markdown",
      "metadata": {
        "id": "XrkzvSGUUqMj"
      },
      "source": [
        "Здесь находится информация о затраченом инертном газе"
      ]
    },
    {
      "cell_type": "code",
      "execution_count": 18,
      "metadata": {
        "colab": {
          "base_uri": "https://localhost:8080/"
        },
        "id": "pLPG881hUqMk",
        "outputId": "52cad0c9-7a52-4d28-c7cd-5bd868c2624c"
      },
      "outputs": [
        {
          "name": "stdout",
          "output_type": "stream",
          "text": [
            "<class 'pandas.core.frame.DataFrame'>\n",
            "RangeIndex: 3239 entries, 0 to 3238\n",
            "Data columns (total 2 columns):\n",
            " #   Column  Non-Null Count  Dtype  \n",
            "---  ------  --------------  -----  \n",
            " 0   key     3239 non-null   int64  \n",
            " 1   Газ 1   3239 non-null   float64\n",
            "dtypes: float64(1), int64(1)\n",
            "memory usage: 50.7 KB\n"
          ]
        }
      ],
      "source": [
        "df_gas.info()"
      ]
    },
    {
      "cell_type": "markdown",
      "metadata": {
        "id": "3JaJslGYUqMn"
      },
      "source": [
        "В данном датасете отсутсвуют пропуски"
      ]
    },
    {
      "cell_type": "markdown",
      "metadata": {
        "id": "DxAnghWNUqMp"
      },
      "source": [
        "###  Результаты измерения температуры"
      ]
    },
    {
      "cell_type": "code",
      "execution_count": 19,
      "metadata": {
        "colab": {
          "base_uri": "https://localhost:8080/",
          "height": 677
        },
        "id": "65moOvptUqMp",
        "outputId": "79dccbf1-189a-4189-c3e6-8f432069c095"
      },
      "outputs": [
        {
          "data": {
            "text/html": [
              "<div>\n",
              "<style scoped>\n",
              "    .dataframe tbody tr th:only-of-type {\n",
              "        vertical-align: middle;\n",
              "    }\n",
              "\n",
              "    .dataframe tbody tr th {\n",
              "        vertical-align: top;\n",
              "    }\n",
              "\n",
              "    .dataframe thead th {\n",
              "        text-align: right;\n",
              "    }\n",
              "</style>\n",
              "<table border=\"1\" class=\"dataframe\">\n",
              "  <thead>\n",
              "    <tr style=\"text-align: right;\">\n",
              "      <th></th>\n",
              "      <th>key</th>\n",
              "      <th>Время замера</th>\n",
              "      <th>Температура</th>\n",
              "    </tr>\n",
              "  </thead>\n",
              "  <tbody>\n",
              "    <tr>\n",
              "      <th>0</th>\n",
              "      <td>1</td>\n",
              "      <td>2019-05-03 11:16:18</td>\n",
              "      <td>1571.0</td>\n",
              "    </tr>\n",
              "    <tr>\n",
              "      <th>1</th>\n",
              "      <td>1</td>\n",
              "      <td>2019-05-03 11:25:53</td>\n",
              "      <td>1604.0</td>\n",
              "    </tr>\n",
              "    <tr>\n",
              "      <th>2</th>\n",
              "      <td>1</td>\n",
              "      <td>2019-05-03 11:29:11</td>\n",
              "      <td>1618.0</td>\n",
              "    </tr>\n",
              "    <tr>\n",
              "      <th>3</th>\n",
              "      <td>1</td>\n",
              "      <td>2019-05-03 11:30:01</td>\n",
              "      <td>1601.0</td>\n",
              "    </tr>\n",
              "    <tr>\n",
              "      <th>4</th>\n",
              "      <td>1</td>\n",
              "      <td>2019-05-03 11:30:39</td>\n",
              "      <td>1613.0</td>\n",
              "    </tr>\n",
              "    <tr>\n",
              "      <th>5</th>\n",
              "      <td>2</td>\n",
              "      <td>2019-05-03 11:37:27</td>\n",
              "      <td>1581.0</td>\n",
              "    </tr>\n",
              "    <tr>\n",
              "      <th>6</th>\n",
              "      <td>2</td>\n",
              "      <td>2019-05-03 11:38:00</td>\n",
              "      <td>1577.0</td>\n",
              "    </tr>\n",
              "    <tr>\n",
              "      <th>7</th>\n",
              "      <td>2</td>\n",
              "      <td>2019-05-03 11:49:38</td>\n",
              "      <td>1589.0</td>\n",
              "    </tr>\n",
              "    <tr>\n",
              "      <th>8</th>\n",
              "      <td>2</td>\n",
              "      <td>2019-05-03 11:55:50</td>\n",
              "      <td>1604.0</td>\n",
              "    </tr>\n",
              "    <tr>\n",
              "      <th>9</th>\n",
              "      <td>2</td>\n",
              "      <td>2019-05-03 11:58:24</td>\n",
              "      <td>1608.0</td>\n",
              "    </tr>\n",
              "    <tr>\n",
              "      <th>10</th>\n",
              "      <td>2</td>\n",
              "      <td>2019-05-03 11:59:12</td>\n",
              "      <td>1602.0</td>\n",
              "    </tr>\n",
              "    <tr>\n",
              "      <th>11</th>\n",
              "      <td>3</td>\n",
              "      <td>2019-05-03 12:13:17</td>\n",
              "      <td>1596.0</td>\n",
              "    </tr>\n",
              "    <tr>\n",
              "      <th>12</th>\n",
              "      <td>3</td>\n",
              "      <td>2019-05-03 12:18:36</td>\n",
              "      <td>1597.0</td>\n",
              "    </tr>\n",
              "    <tr>\n",
              "      <th>13</th>\n",
              "      <td>3</td>\n",
              "      <td>2019-05-03 12:25:06</td>\n",
              "      <td>1598.0</td>\n",
              "    </tr>\n",
              "    <tr>\n",
              "      <th>14</th>\n",
              "      <td>3</td>\n",
              "      <td>2019-05-03 12:30:48</td>\n",
              "      <td>1599.0</td>\n",
              "    </tr>\n",
              "    <tr>\n",
              "      <th>15</th>\n",
              "      <td>3</td>\n",
              "      <td>2019-05-03 12:34:57</td>\n",
              "      <td>1599.0</td>\n",
              "    </tr>\n",
              "    <tr>\n",
              "      <th>16</th>\n",
              "      <td>4</td>\n",
              "      <td>2019-05-03 12:52:57</td>\n",
              "      <td>1601.0</td>\n",
              "    </tr>\n",
              "    <tr>\n",
              "      <th>17</th>\n",
              "      <td>4</td>\n",
              "      <td>2019-05-03 12:58:43</td>\n",
              "      <td>1623.0</td>\n",
              "    </tr>\n",
              "    <tr>\n",
              "      <th>18</th>\n",
              "      <td>4</td>\n",
              "      <td>2019-05-03 12:59:25</td>\n",
              "      <td>1625.0</td>\n",
              "    </tr>\n",
              "    <tr>\n",
              "      <th>19</th>\n",
              "      <td>5</td>\n",
              "      <td>2019-05-03 13:23:19</td>\n",
              "      <td>1576.0</td>\n",
              "    </tr>\n",
              "  </tbody>\n",
              "</table>\n",
              "</div>"
            ],
            "text/plain": [
              "    key         Время замера  Температура\n",
              "0     1  2019-05-03 11:16:18       1571.0\n",
              "1     1  2019-05-03 11:25:53       1604.0\n",
              "2     1  2019-05-03 11:29:11       1618.0\n",
              "3     1  2019-05-03 11:30:01       1601.0\n",
              "4     1  2019-05-03 11:30:39       1613.0\n",
              "5     2  2019-05-03 11:37:27       1581.0\n",
              "6     2  2019-05-03 11:38:00       1577.0\n",
              "7     2  2019-05-03 11:49:38       1589.0\n",
              "8     2  2019-05-03 11:55:50       1604.0\n",
              "9     2  2019-05-03 11:58:24       1608.0\n",
              "10    2  2019-05-03 11:59:12       1602.0\n",
              "11    3  2019-05-03 12:13:17       1596.0\n",
              "12    3  2019-05-03 12:18:36       1597.0\n",
              "13    3  2019-05-03 12:25:06       1598.0\n",
              "14    3  2019-05-03 12:30:48       1599.0\n",
              "15    3  2019-05-03 12:34:57       1599.0\n",
              "16    4  2019-05-03 12:52:57       1601.0\n",
              "17    4  2019-05-03 12:58:43       1623.0\n",
              "18    4  2019-05-03 12:59:25       1625.0\n",
              "19    5  2019-05-03 13:23:19       1576.0"
            ]
          },
          "execution_count": 19,
          "metadata": {},
          "output_type": "execute_result"
        }
      ],
      "source": [
        "df_temp.head(20)"
      ]
    },
    {
      "cell_type": "markdown",
      "metadata": {
        "id": "5Nsk5SNfUqMq"
      },
      "source": [
        "В датасете присутсует информация о замере температуры сплава на каждом этапе отбора проб и легирования."
      ]
    },
    {
      "cell_type": "code",
      "execution_count": 20,
      "metadata": {
        "id": "Neiw1KCVUqMr"
      },
      "outputs": [],
      "source": [
        "df_temp[df_temp.columns[1]] = df_temp[df_temp.columns[1]].apply(pd.to_datetime)"
      ]
    },
    {
      "cell_type": "code",
      "execution_count": 21,
      "metadata": {
        "colab": {
          "base_uri": "https://localhost:8080/"
        },
        "id": "bt61GrqQUqMs",
        "outputId": "f66cb631-e770-4d4b-c8e1-fc2540827f1e"
      },
      "outputs": [
        {
          "name": "stdout",
          "output_type": "stream",
          "text": [
            "<class 'pandas.core.frame.DataFrame'>\n",
            "RangeIndex: 15907 entries, 0 to 15906\n",
            "Data columns (total 3 columns):\n",
            " #   Column        Non-Null Count  Dtype         \n",
            "---  ------        --------------  -----         \n",
            " 0   key           15907 non-null  int64         \n",
            " 1   Время замера  15907 non-null  datetime64[ns]\n",
            " 2   Температура   13006 non-null  float64       \n",
            "dtypes: datetime64[ns](1), float64(1), int64(1)\n",
            "memory usage: 372.9 KB\n"
          ]
        }
      ],
      "source": [
        "df_temp.info()"
      ]
    },
    {
      "cell_type": "markdown",
      "metadata": {
        "id": "Iuxft4SmUqMs"
      },
      "source": [
        "Отсутсвуют замеры в некоторых пробах"
      ]
    },
    {
      "cell_type": "markdown",
      "metadata": {
        "id": "zug5bgvHUqMt"
      },
      "source": [
        "### Данные о объеме и времени подачи проволочных материалов"
      ]
    },
    {
      "cell_type": "code",
      "execution_count": 22,
      "metadata": {
        "colab": {
          "base_uri": "https://localhost:8080/",
          "height": 0
        },
        "id": "_nAKQ4v3UqMu",
        "outputId": "05aaef1c-c962-4546-c822-56b1aa90f852"
      },
      "outputs": [
        {
          "data": {
            "text/html": [
              "<div>\n",
              "<style scoped>\n",
              "    .dataframe tbody tr th:only-of-type {\n",
              "        vertical-align: middle;\n",
              "    }\n",
              "\n",
              "    .dataframe tbody tr th {\n",
              "        vertical-align: top;\n",
              "    }\n",
              "\n",
              "    .dataframe thead th {\n",
              "        text-align: right;\n",
              "    }\n",
              "</style>\n",
              "<table border=\"1\" class=\"dataframe\">\n",
              "  <thead>\n",
              "    <tr style=\"text-align: right;\">\n",
              "      <th></th>\n",
              "      <th>key</th>\n",
              "      <th>Wire 1</th>\n",
              "      <th>Wire 2</th>\n",
              "      <th>Wire 3</th>\n",
              "      <th>Wire 4</th>\n",
              "      <th>Wire 5</th>\n",
              "      <th>Wire 6</th>\n",
              "      <th>Wire 7</th>\n",
              "      <th>Wire 8</th>\n",
              "      <th>Wire 9</th>\n",
              "    </tr>\n",
              "  </thead>\n",
              "  <tbody>\n",
              "    <tr>\n",
              "      <th>0</th>\n",
              "      <td>1</td>\n",
              "      <td>60.059998</td>\n",
              "      <td>NaN</td>\n",
              "      <td>NaN</td>\n",
              "      <td>NaN</td>\n",
              "      <td>NaN</td>\n",
              "      <td>NaN</td>\n",
              "      <td>NaN</td>\n",
              "      <td>NaN</td>\n",
              "      <td>NaN</td>\n",
              "    </tr>\n",
              "    <tr>\n",
              "      <th>1</th>\n",
              "      <td>2</td>\n",
              "      <td>96.052315</td>\n",
              "      <td>NaN</td>\n",
              "      <td>NaN</td>\n",
              "      <td>NaN</td>\n",
              "      <td>NaN</td>\n",
              "      <td>NaN</td>\n",
              "      <td>NaN</td>\n",
              "      <td>NaN</td>\n",
              "      <td>NaN</td>\n",
              "    </tr>\n",
              "    <tr>\n",
              "      <th>2</th>\n",
              "      <td>3</td>\n",
              "      <td>91.160157</td>\n",
              "      <td>NaN</td>\n",
              "      <td>NaN</td>\n",
              "      <td>NaN</td>\n",
              "      <td>NaN</td>\n",
              "      <td>NaN</td>\n",
              "      <td>NaN</td>\n",
              "      <td>NaN</td>\n",
              "      <td>NaN</td>\n",
              "    </tr>\n",
              "    <tr>\n",
              "      <th>3</th>\n",
              "      <td>4</td>\n",
              "      <td>89.063515</td>\n",
              "      <td>NaN</td>\n",
              "      <td>NaN</td>\n",
              "      <td>NaN</td>\n",
              "      <td>NaN</td>\n",
              "      <td>NaN</td>\n",
              "      <td>NaN</td>\n",
              "      <td>NaN</td>\n",
              "      <td>NaN</td>\n",
              "    </tr>\n",
              "    <tr>\n",
              "      <th>4</th>\n",
              "      <td>5</td>\n",
              "      <td>89.238236</td>\n",
              "      <td>9.114560</td>\n",
              "      <td>NaN</td>\n",
              "      <td>NaN</td>\n",
              "      <td>NaN</td>\n",
              "      <td>NaN</td>\n",
              "      <td>NaN</td>\n",
              "      <td>NaN</td>\n",
              "      <td>NaN</td>\n",
              "    </tr>\n",
              "    <tr>\n",
              "      <th>5</th>\n",
              "      <td>6</td>\n",
              "      <td>99.109917</td>\n",
              "      <td>9.114560</td>\n",
              "      <td>NaN</td>\n",
              "      <td>NaN</td>\n",
              "      <td>NaN</td>\n",
              "      <td>NaN</td>\n",
              "      <td>NaN</td>\n",
              "      <td>NaN</td>\n",
              "      <td>NaN</td>\n",
              "    </tr>\n",
              "    <tr>\n",
              "      <th>6</th>\n",
              "      <td>7</td>\n",
              "      <td>98.061600</td>\n",
              "      <td>NaN</td>\n",
              "      <td>NaN</td>\n",
              "      <td>NaN</td>\n",
              "      <td>NaN</td>\n",
              "      <td>NaN</td>\n",
              "      <td>NaN</td>\n",
              "      <td>NaN</td>\n",
              "      <td>NaN</td>\n",
              "    </tr>\n",
              "    <tr>\n",
              "      <th>7</th>\n",
              "      <td>8</td>\n",
              "      <td>155.282394</td>\n",
              "      <td>NaN</td>\n",
              "      <td>NaN</td>\n",
              "      <td>NaN</td>\n",
              "      <td>NaN</td>\n",
              "      <td>NaN</td>\n",
              "      <td>NaN</td>\n",
              "      <td>NaN</td>\n",
              "      <td>NaN</td>\n",
              "    </tr>\n",
              "    <tr>\n",
              "      <th>8</th>\n",
              "      <td>9</td>\n",
              "      <td>113.393279</td>\n",
              "      <td>9.143681</td>\n",
              "      <td>NaN</td>\n",
              "      <td>NaN</td>\n",
              "      <td>NaN</td>\n",
              "      <td>NaN</td>\n",
              "      <td>NaN</td>\n",
              "      <td>NaN</td>\n",
              "      <td>NaN</td>\n",
              "    </tr>\n",
              "    <tr>\n",
              "      <th>9</th>\n",
              "      <td>10</td>\n",
              "      <td>81.244796</td>\n",
              "      <td>12.376000</td>\n",
              "      <td>NaN</td>\n",
              "      <td>NaN</td>\n",
              "      <td>NaN</td>\n",
              "      <td>NaN</td>\n",
              "      <td>NaN</td>\n",
              "      <td>NaN</td>\n",
              "      <td>NaN</td>\n",
              "    </tr>\n",
              "  </tbody>\n",
              "</table>\n",
              "</div>"
            ],
            "text/plain": [
              "   key      Wire 1     Wire 2  Wire 3  Wire 4  Wire 5  Wire 6  Wire 7  Wire 8  \\\n",
              "0    1   60.059998        NaN     NaN     NaN     NaN     NaN     NaN     NaN   \n",
              "1    2   96.052315        NaN     NaN     NaN     NaN     NaN     NaN     NaN   \n",
              "2    3   91.160157        NaN     NaN     NaN     NaN     NaN     NaN     NaN   \n",
              "3    4   89.063515        NaN     NaN     NaN     NaN     NaN     NaN     NaN   \n",
              "4    5   89.238236   9.114560     NaN     NaN     NaN     NaN     NaN     NaN   \n",
              "5    6   99.109917   9.114560     NaN     NaN     NaN     NaN     NaN     NaN   \n",
              "6    7   98.061600        NaN     NaN     NaN     NaN     NaN     NaN     NaN   \n",
              "7    8  155.282394        NaN     NaN     NaN     NaN     NaN     NaN     NaN   \n",
              "8    9  113.393279   9.143681     NaN     NaN     NaN     NaN     NaN     NaN   \n",
              "9   10   81.244796  12.376000     NaN     NaN     NaN     NaN     NaN     NaN   \n",
              "\n",
              "   Wire 9  \n",
              "0     NaN  \n",
              "1     NaN  \n",
              "2     NaN  \n",
              "3     NaN  \n",
              "4     NaN  \n",
              "5     NaN  \n",
              "6     NaN  \n",
              "7     NaN  \n",
              "8     NaN  \n",
              "9     NaN  "
            ]
          },
          "execution_count": 22,
          "metadata": {},
          "output_type": "execute_result"
        }
      ],
      "source": [
        "df_wire.head(10)"
      ]
    },
    {
      "cell_type": "code",
      "execution_count": 23,
      "metadata": {
        "id": "1NLUlADOUqMv"
      },
      "outputs": [],
      "source": [
        "df_wire_time[df_wire_time.columns[1:]] = df_wire_time[df_wire_time.columns[1:]].apply(pd.to_datetime)"
      ]
    },
    {
      "cell_type": "code",
      "execution_count": 24,
      "metadata": {
        "colab": {
          "base_uri": "https://localhost:8080/",
          "height": 0
        },
        "id": "zHftvGGsUqMw",
        "outputId": "d9d0f1d0-049e-4ea6-fa1b-766216ca92a8"
      },
      "outputs": [
        {
          "data": {
            "text/html": [
              "<div>\n",
              "<style scoped>\n",
              "    .dataframe tbody tr th:only-of-type {\n",
              "        vertical-align: middle;\n",
              "    }\n",
              "\n",
              "    .dataframe tbody tr th {\n",
              "        vertical-align: top;\n",
              "    }\n",
              "\n",
              "    .dataframe thead th {\n",
              "        text-align: right;\n",
              "    }\n",
              "</style>\n",
              "<table border=\"1\" class=\"dataframe\">\n",
              "  <thead>\n",
              "    <tr style=\"text-align: right;\">\n",
              "      <th></th>\n",
              "      <th>key</th>\n",
              "      <th>Wire 1</th>\n",
              "      <th>Wire 2</th>\n",
              "      <th>Wire 3</th>\n",
              "      <th>Wire 4</th>\n",
              "      <th>Wire 5</th>\n",
              "      <th>Wire 6</th>\n",
              "      <th>Wire 7</th>\n",
              "      <th>Wire 8</th>\n",
              "      <th>Wire 9</th>\n",
              "    </tr>\n",
              "  </thead>\n",
              "  <tbody>\n",
              "    <tr>\n",
              "      <th>0</th>\n",
              "      <td>1</td>\n",
              "      <td>2019-05-03 11:11:41</td>\n",
              "      <td>NaT</td>\n",
              "      <td>NaT</td>\n",
              "      <td>NaT</td>\n",
              "      <td>NaT</td>\n",
              "      <td>NaT</td>\n",
              "      <td>NaT</td>\n",
              "      <td>NaT</td>\n",
              "      <td>NaT</td>\n",
              "    </tr>\n",
              "    <tr>\n",
              "      <th>1</th>\n",
              "      <td>2</td>\n",
              "      <td>2019-05-03 11:46:10</td>\n",
              "      <td>NaT</td>\n",
              "      <td>NaT</td>\n",
              "      <td>NaT</td>\n",
              "      <td>NaT</td>\n",
              "      <td>NaT</td>\n",
              "      <td>NaT</td>\n",
              "      <td>NaT</td>\n",
              "      <td>NaT</td>\n",
              "    </tr>\n",
              "    <tr>\n",
              "      <th>2</th>\n",
              "      <td>3</td>\n",
              "      <td>2019-05-03 12:13:47</td>\n",
              "      <td>NaT</td>\n",
              "      <td>NaT</td>\n",
              "      <td>NaT</td>\n",
              "      <td>NaT</td>\n",
              "      <td>NaT</td>\n",
              "      <td>NaT</td>\n",
              "      <td>NaT</td>\n",
              "      <td>NaT</td>\n",
              "    </tr>\n",
              "    <tr>\n",
              "      <th>3</th>\n",
              "      <td>4</td>\n",
              "      <td>2019-05-03 12:48:05</td>\n",
              "      <td>NaT</td>\n",
              "      <td>NaT</td>\n",
              "      <td>NaT</td>\n",
              "      <td>NaT</td>\n",
              "      <td>NaT</td>\n",
              "      <td>NaT</td>\n",
              "      <td>NaT</td>\n",
              "      <td>NaT</td>\n",
              "    </tr>\n",
              "    <tr>\n",
              "      <th>4</th>\n",
              "      <td>5</td>\n",
              "      <td>2019-05-03 13:18:15</td>\n",
              "      <td>2019-05-03 13:32:06</td>\n",
              "      <td>NaT</td>\n",
              "      <td>NaT</td>\n",
              "      <td>NaT</td>\n",
              "      <td>NaT</td>\n",
              "      <td>NaT</td>\n",
              "      <td>NaT</td>\n",
              "      <td>NaT</td>\n",
              "    </tr>\n",
              "  </tbody>\n",
              "</table>\n",
              "</div>"
            ],
            "text/plain": [
              "   key              Wire 1              Wire 2 Wire 3 Wire 4 Wire 5 Wire 6  \\\n",
              "0    1 2019-05-03 11:11:41                 NaT    NaT    NaT    NaT    NaT   \n",
              "1    2 2019-05-03 11:46:10                 NaT    NaT    NaT    NaT    NaT   \n",
              "2    3 2019-05-03 12:13:47                 NaT    NaT    NaT    NaT    NaT   \n",
              "3    4 2019-05-03 12:48:05                 NaT    NaT    NaT    NaT    NaT   \n",
              "4    5 2019-05-03 13:18:15 2019-05-03 13:32:06    NaT    NaT    NaT    NaT   \n",
              "\n",
              "  Wire 7 Wire 8 Wire 9  \n",
              "0    NaT    NaT    NaT  \n",
              "1    NaT    NaT    NaT  \n",
              "2    NaT    NaT    NaT  \n",
              "3    NaT    NaT    NaT  \n",
              "4    NaT    NaT    NaT  "
            ]
          },
          "execution_count": 24,
          "metadata": {},
          "output_type": "execute_result"
        }
      ],
      "source": [
        "df_wire_time.head()"
      ]
    },
    {
      "cell_type": "code",
      "execution_count": 25,
      "metadata": {
        "colab": {
          "base_uri": "https://localhost:8080/"
        },
        "id": "cEaXyAy-UqMx",
        "outputId": "84d9c82d-3988-4f77-d2d7-4f2c208db203"
      },
      "outputs": [
        {
          "name": "stdout",
          "output_type": "stream",
          "text": [
            "<class 'pandas.core.frame.DataFrame'>\n",
            "RangeIndex: 3081 entries, 0 to 3080\n",
            "Data columns (total 10 columns):\n",
            " #   Column  Non-Null Count  Dtype  \n",
            "---  ------  --------------  -----  \n",
            " 0   key     3081 non-null   int64  \n",
            " 1   Wire 1  3055 non-null   float64\n",
            " 2   Wire 2  1079 non-null   float64\n",
            " 3   Wire 3  63 non-null     float64\n",
            " 4   Wire 4  14 non-null     float64\n",
            " 5   Wire 5  1 non-null      float64\n",
            " 6   Wire 6  73 non-null     float64\n",
            " 7   Wire 7  11 non-null     float64\n",
            " 8   Wire 8  19 non-null     float64\n",
            " 9   Wire 9  29 non-null     float64\n",
            "dtypes: float64(9), int64(1)\n",
            "memory usage: 240.8 KB\n"
          ]
        }
      ],
      "source": [
        "df_wire.info()"
      ]
    },
    {
      "cell_type": "code",
      "execution_count": 26,
      "metadata": {
        "colab": {
          "base_uri": "https://localhost:8080/"
        },
        "id": "bQV5iFQJUqMx",
        "outputId": "16d537c5-d83e-41fc-f70f-684a1d2fed54"
      },
      "outputs": [
        {
          "name": "stdout",
          "output_type": "stream",
          "text": [
            "<class 'pandas.core.frame.DataFrame'>\n",
            "RangeIndex: 3081 entries, 0 to 3080\n",
            "Data columns (total 10 columns):\n",
            " #   Column  Non-Null Count  Dtype         \n",
            "---  ------  --------------  -----         \n",
            " 0   key     3081 non-null   int64         \n",
            " 1   Wire 1  3055 non-null   datetime64[ns]\n",
            " 2   Wire 2  1079 non-null   datetime64[ns]\n",
            " 3   Wire 3  63 non-null     datetime64[ns]\n",
            " 4   Wire 4  14 non-null     datetime64[ns]\n",
            " 5   Wire 5  1 non-null      datetime64[ns]\n",
            " 6   Wire 6  73 non-null     datetime64[ns]\n",
            " 7   Wire 7  11 non-null     datetime64[ns]\n",
            " 8   Wire 8  19 non-null     datetime64[ns]\n",
            " 9   Wire 9  29 non-null     datetime64[ns]\n",
            "dtypes: datetime64[ns](9), int64(1)\n",
            "memory usage: 240.8 KB\n"
          ]
        }
      ],
      "source": [
        "df_wire_time.info()"
      ]
    },
    {
      "cell_type": "code",
      "execution_count": 27,
      "metadata": {
        "colab": {
          "base_uri": "https://localhost:8080/"
        },
        "id": "-2QUs9xdUqMz",
        "outputId": "75184bd5-4742-422b-9c75-795d341fc114"
      },
      "outputs": [
        {
          "data": {
            "text/plain": [
              "0"
            ]
          },
          "execution_count": 27,
          "metadata": {},
          "output_type": "execute_result"
        }
      ],
      "source": [
        "(df_wire.isna() != df_wire_time.isna()).sum().sum()"
      ]
    },
    {
      "cell_type": "markdown",
      "metadata": {
        "id": "JfSYWlJjUqM1"
      },
      "source": [
        "Данные описывают объем и время подачу легированной проволоки."
      ]
    },
    {
      "cell_type": "markdown",
      "metadata": {
        "id": "NglzpD42UqM3"
      },
      "source": [
        "### ВЫВОД\n",
        "Файлы открыты и проанализированы"
      ]
    },
    {
      "cell_type": "markdown",
      "metadata": {
        "id": "wcHbkGs9UqM4"
      },
      "source": [
        "## Анализ и предобработка данных"
      ]
    },
    {
      "cell_type": "markdown",
      "metadata": {
        "id": "ejUcwEecUqNo"
      },
      "source": [
        "### Температура"
      ]
    },
    {
      "cell_type": "markdown",
      "metadata": {
        "id": "834GmaSLUqNo"
      },
      "source": [
        "В таблице имются пропуски в хамерах."
      ]
    },
    {
      "cell_type": "code",
      "execution_count": 29,
      "metadata": {
        "colab": {
          "base_uri": "https://localhost:8080/"
        },
        "id": "T2q43wKbUqNp",
        "outputId": "92e39935-fa02-4bdd-9a18-4a618e9588c3"
      },
      "outputs": [
        {
          "data": {
            "text/plain": [
              "key             0\n",
              "Время замера    0\n",
              "Температура     0\n",
              "dtype: int64"
            ]
          },
          "execution_count": 29,
          "metadata": {},
          "output_type": "execute_result"
        }
      ],
      "source": [
        "df_temp.dropna(inplace=True)\n",
        "df_temp.isna().sum()"
      ]
    },
    {
      "cell_type": "markdown",
      "metadata": {
        "id": "y4X219gyUqNp"
      },
      "source": [
        "Рассмотрим распределение температур"
      ]
    },
    {
      "cell_type": "code",
      "execution_count": 30,
      "metadata": {
        "colab": {
          "base_uri": "https://localhost:8080/",
          "height": 351
        },
        "id": "qJmn8uM0UqNq",
        "outputId": "6a546f2e-e5f2-464e-935d-a1a88c36460f"
      },
      "outputs": [
        {
          "data": {
            "image/png": "[encoded data removed]",
            "text/plain": [
              "<Figure size 1152x360 with 1 Axes>"
            ]
          },
          "metadata": {
            "needs_background": "light"
          },
          "output_type": "display_data"
        }
      ],
      "source": [
        "df_temp.plot(\n",
        "    kind='scatter',\n",
        "    x='Время замера',\n",
        "    y='Температура',\n",
        "    figsize=(16, 5),\n",
        "    grid=True\n",
        ");"
      ]
    },
    {
      "cell_type": "markdown",
      "metadata": {
        "id": "69ubXbzkUqNr"
      },
      "source": [
        "Имеются выбросы в замерах, которые могут негативно сказаться на обучении модели. На данном этапе оставим их: по заверению заказчика эти данные корректны."
      ]
    },
    {
      "cell_type": "markdown",
      "metadata": {
        "id": "kcZZvs3xUqNu"
      },
      "source": [
        "Т.К.  начальная температура - признак, а конечная - целевой признак, то логично предположить, что присутвие всего одного замера в партии ничего не даст для модели. Должно быть как минимум два наблюдения. Удалим партии с единственным замером"
      ]
    },
    {
      "cell_type": "code",
      "execution_count": 31,
      "metadata": {},
      "outputs": [],
      "source": [
        "# ключи с более одним замером\n",
        "key_lst = (\n",
        "    df_temp.groupby('key')['key'].count()\n",
        ")[\n",
        "    (df_temp.groupby('key')['key'].count()) > 1].index\n",
        "\n",
        "# чистим датасет\n",
        "df_temp = df_temp[df_temp['key'].isin(key_lst)]"
      ]
    },
    {
      "cell_type": "markdown",
      "metadata": {
        "id": "VdZkWVQFUqNx"
      },
      "source": [
        "Выделим признаки и целевые признаки. Признаки:\n",
        "- начальная тепература,\n",
        "- время между первым и последним замером  \n",
        "\n",
        "Целевой признак:\n",
        "- конечная тепература"
      ]
    },
    {
      "cell_type": "code",
      "execution_count": 32,
      "metadata": {},
      "outputs": [
        {
          "name": "stdout",
          "output_type": "stream",
          "text": [
            "(2475, 6)\n"
          ]
        },
        {
          "data": {
            "text/html": [
              "<div>\n",
              "<style scoped>\n",
              "    .dataframe tbody tr th:only-of-type {\n",
              "        vertical-align: middle;\n",
              "    }\n",
              "\n",
              "    .dataframe tbody tr th {\n",
              "        vertical-align: top;\n",
              "    }\n",
              "\n",
              "    .dataframe thead th {\n",
              "        text-align: right;\n",
              "    }\n",
              "</style>\n",
              "<table border=\"1\" class=\"dataframe\">\n",
              "  <thead>\n",
              "    <tr style=\"text-align: right;\">\n",
              "      <th></th>\n",
              "      <th>key</th>\n",
              "      <th>Время начального замера</th>\n",
              "      <th>Время конечного замера</th>\n",
              "      <th>Начальная температура</th>\n",
              "      <th>Конечная температура</th>\n",
              "      <th>Время замеров</th>\n",
              "    </tr>\n",
              "  </thead>\n",
              "  <tbody>\n",
              "    <tr>\n",
              "      <th>0</th>\n",
              "      <td>1</td>\n",
              "      <td>2019-05-03 11:16:18</td>\n",
              "      <td>2019-05-03 11:30:39</td>\n",
              "      <td>1571.0</td>\n",
              "      <td>1613.0</td>\n",
              "      <td>861</td>\n",
              "    </tr>\n",
              "    <tr>\n",
              "      <th>1</th>\n",
              "      <td>2</td>\n",
              "      <td>2019-05-03 11:37:27</td>\n",
              "      <td>2019-05-03 11:59:12</td>\n",
              "      <td>1581.0</td>\n",
              "      <td>1602.0</td>\n",
              "      <td>1305</td>\n",
              "    </tr>\n",
              "    <tr>\n",
              "      <th>2</th>\n",
              "      <td>3</td>\n",
              "      <td>2019-05-03 12:13:17</td>\n",
              "      <td>2019-05-03 12:34:57</td>\n",
              "      <td>1596.0</td>\n",
              "      <td>1599.0</td>\n",
              "      <td>1300</td>\n",
              "    </tr>\n",
              "    <tr>\n",
              "      <th>3</th>\n",
              "      <td>4</td>\n",
              "      <td>2019-05-03 12:52:57</td>\n",
              "      <td>2019-05-03 12:59:25</td>\n",
              "      <td>1601.0</td>\n",
              "      <td>1625.0</td>\n",
              "      <td>388</td>\n",
              "    </tr>\n",
              "    <tr>\n",
              "      <th>4</th>\n",
              "      <td>5</td>\n",
              "      <td>2019-05-03 13:23:19</td>\n",
              "      <td>2019-05-03 13:36:01</td>\n",
              "      <td>1576.0</td>\n",
              "      <td>1602.0</td>\n",
              "      <td>762</td>\n",
              "    </tr>\n",
              "  </tbody>\n",
              "</table>\n",
              "</div>"
            ],
            "text/plain": [
              "   key Время начального замера Время конечного замера  Начальная температура  \\\n",
              "0    1     2019-05-03 11:16:18    2019-05-03 11:30:39                 1571.0   \n",
              "1    2     2019-05-03 11:37:27    2019-05-03 11:59:12                 1581.0   \n",
              "2    3     2019-05-03 12:13:17    2019-05-03 12:34:57                 1596.0   \n",
              "3    4     2019-05-03 12:52:57    2019-05-03 12:59:25                 1601.0   \n",
              "4    5     2019-05-03 13:23:19    2019-05-03 13:36:01                 1576.0   \n",
              "\n",
              "   Конечная температура  Время замеров  \n",
              "0                1613.0            861  \n",
              "1                1602.0           1305  \n",
              "2                1599.0           1300  \n",
              "3                1625.0            388  \n",
              "4                1602.0            762  "
            ]
          },
          "execution_count": 32,
          "metadata": {},
          "output_type": "execute_result"
        }
      ],
      "source": [
        "# агригирующие функции\n",
        "agg_dict = {\n",
        "    'Время замера': ['min', 'max']\n",
        "}\n",
        "\n",
        "# группировка по ключу\n",
        "df_temp2 = df_temp.groupby('key').agg(agg_dict).set_axis(\n",
        "    ['Время начального замера', 'Время конечного замера'], axis=1).reset_index()\n",
        "\n",
        "# соединение нужных столбцов\n",
        "df_temp2 = (\n",
        "    df_temp2\n",
        "    .merge(df_temp[['Время замера', 'Температура']], how='left', left_on='Время начального замера', right_on='Время замера')\n",
        "    .merge(df_temp[['Время замера', 'Температура']], how='left', left_on='Время конечного замера', right_on='Время замера')\n",
        ").drop(['Время замера_x', 'Время замера_y'], axis=1).rename({\n",
        "    'Температура_x': 'Начальная температура',\n",
        "    'Температура_y': 'Конечная температура'\n",
        "}, axis=1)\n",
        "\n",
        "# расчет времени между перым замером и последним\n",
        "df_temp2['Время замеров'] = (df_temp2['Время конечного замера'] -\n",
        "                             df_temp2['Время начального замера']).apply(lambda x: x.seconds)\n",
        "\n",
        "print(df_temp2.shape)\n",
        "df_temp2.head()"
      ]
    },
    {
      "cell_type": "markdown",
      "metadata": {},
      "source": [
        "Типичных техпроцесс, судя по описанию и данным, состоит из шагов:\n",
        "1. нагреть сплав\n",
        "2. измерить температуру\n",
        "3. повторить до нужного значения\n",
        "\n",
        "Очевидно, если время замера температуры будет меньше времени остановки нагрева электродом, то данная партия будет считаться аномальной(выбивающейся из техпроцесса)"
      ]
    },
    {
      "cell_type": "code",
      "execution_count": 33,
      "metadata": {},
      "outputs": [],
      "source": [
        "# присоединяем таблицу с электродами\n",
        "df_temp2 =  (\n",
        "    df_temp2\n",
        "    .merge( df_arc.groupby('key')['Конец нагрева дугой'].max().reset_index(),\n",
        "    how='left')\n",
        "            )"
      ]
    },
    {
      "cell_type": "code",
      "execution_count": 34,
      "metadata": {},
      "outputs": [
        {
          "data": {
            "text/plain": [
              "Int64Index([  10,   37,   40,   48,   61,   66,   70,   78,  174,  176,\n",
              "            ...\n",
              "            2280, 2283, 2367, 2368, 2371, 2376, 2403, 2405, 2428, 2434],\n",
              "           dtype='int64', length=131)"
            ]
          },
          "execution_count": 34,
          "metadata": {},
          "output_type": "execute_result"
        }
      ],
      "source": [
        "# аномальные партии\n",
        "key_lst = df_temp2[(df_temp2['Время конечного замера'] < df_temp2['Конец нагрева дугой'])].index\n",
        "key_lst"
      ]
    },
    {
      "cell_type": "code",
      "execution_count": 35,
      "metadata": {},
      "outputs": [
        {
          "data": {
            "text/html": [
              "<div>\n",
              "<style scoped>\n",
              "    .dataframe tbody tr th:only-of-type {\n",
              "        vertical-align: middle;\n",
              "    }\n",
              "\n",
              "    .dataframe tbody tr th {\n",
              "        vertical-align: top;\n",
              "    }\n",
              "\n",
              "    .dataframe thead th {\n",
              "        text-align: right;\n",
              "    }\n",
              "</style>\n",
              "<table border=\"1\" class=\"dataframe\">\n",
              "  <thead>\n",
              "    <tr style=\"text-align: right;\">\n",
              "      <th></th>\n",
              "      <th>key</th>\n",
              "      <th>Начальная температура</th>\n",
              "      <th>Конечная температура</th>\n",
              "      <th>Время замеров</th>\n",
              "    </tr>\n",
              "  </thead>\n",
              "  <tbody>\n",
              "    <tr>\n",
              "      <th>0</th>\n",
              "      <td>1</td>\n",
              "      <td>1571</td>\n",
              "      <td>1613</td>\n",
              "      <td>861</td>\n",
              "    </tr>\n",
              "    <tr>\n",
              "      <th>1</th>\n",
              "      <td>2</td>\n",
              "      <td>1581</td>\n",
              "      <td>1602</td>\n",
              "      <td>1305</td>\n",
              "    </tr>\n",
              "    <tr>\n",
              "      <th>2</th>\n",
              "      <td>3</td>\n",
              "      <td>1596</td>\n",
              "      <td>1599</td>\n",
              "      <td>1300</td>\n",
              "    </tr>\n",
              "    <tr>\n",
              "      <th>3</th>\n",
              "      <td>4</td>\n",
              "      <td>1601</td>\n",
              "      <td>1625</td>\n",
              "      <td>388</td>\n",
              "    </tr>\n",
              "    <tr>\n",
              "      <th>4</th>\n",
              "      <td>5</td>\n",
              "      <td>1576</td>\n",
              "      <td>1602</td>\n",
              "      <td>762</td>\n",
              "    </tr>\n",
              "    <tr>\n",
              "      <th>...</th>\n",
              "      <td>...</td>\n",
              "      <td>...</td>\n",
              "      <td>...</td>\n",
              "      <td>...</td>\n",
              "    </tr>\n",
              "    <tr>\n",
              "      <th>2470</th>\n",
              "      <td>2495</td>\n",
              "      <td>1570</td>\n",
              "      <td>1591</td>\n",
              "      <td>1137</td>\n",
              "    </tr>\n",
              "    <tr>\n",
              "      <th>2471</th>\n",
              "      <td>2496</td>\n",
              "      <td>1554</td>\n",
              "      <td>1591</td>\n",
              "      <td>1618</td>\n",
              "    </tr>\n",
              "    <tr>\n",
              "      <th>2472</th>\n",
              "      <td>2497</td>\n",
              "      <td>1571</td>\n",
              "      <td>1589</td>\n",
              "      <td>717</td>\n",
              "    </tr>\n",
              "    <tr>\n",
              "      <th>2473</th>\n",
              "      <td>2498</td>\n",
              "      <td>1591</td>\n",
              "      <td>1594</td>\n",
              "      <td>1302</td>\n",
              "    </tr>\n",
              "    <tr>\n",
              "      <th>2474</th>\n",
              "      <td>2499</td>\n",
              "      <td>1569</td>\n",
              "      <td>1603</td>\n",
              "      <td>1203</td>\n",
              "    </tr>\n",
              "  </tbody>\n",
              "</table>\n",
              "<p>2345 rows × 4 columns</p>\n",
              "</div>"
            ],
            "text/plain": [
              "       key  Начальная температура  Конечная температура  Время замеров\n",
              "0        1                   1571                  1613            861\n",
              "1        2                   1581                  1602           1305\n",
              "2        3                   1596                  1599           1300\n",
              "3        4                   1601                  1625            388\n",
              "4        5                   1576                  1602            762\n",
              "...    ...                    ...                   ...            ...\n",
              "2470  2495                   1570                  1591           1137\n",
              "2471  2496                   1554                  1591           1618\n",
              "2472  2497                   1571                  1589            717\n",
              "2473  2498                   1591                  1594           1302\n",
              "2474  2499                   1569                  1603           1203\n",
              "\n",
              "[2345 rows x 4 columns]"
            ]
          },
          "execution_count": 35,
          "metadata": {},
          "output_type": "execute_result"
        }
      ],
      "source": [
        "# чистим датасет\n",
        "df_temp2 = df_temp2.loc[~df_temp2['key'].isin(key_lst)]\n",
        "\n",
        "# оставляем нужные столбцы\n",
        "df_temp2 = df_temp2[[ 'key', 'Начальная температура', 'Конечная температура', 'Время замеров']]\n",
        "\n",
        "# меняем тип данных\n",
        "df_temp2 = df_temp2.astype({\n",
        "    'Начальная температура': int,\n",
        "    'Конечная температура': int\n",
        "})\n",
        "\n",
        "df_temp2"
      ]
    },
    {
      "cell_type": "markdown",
      "metadata": {},
      "source": [
        "Рассмотрим распределение температур"
      ]
    },
    {
      "cell_type": "code",
      "execution_count": 36,
      "metadata": {
        "colab": {
          "base_uri": "https://localhost:8080/",
          "height": 337
        },
        "id": "Ryrcs3lwimjG",
        "outputId": "c5b81ebc-1a72-4c0e-90ad-6d2c5080f8e3"
      },
      "outputs": [
        {
          "data": {
            "text/html": [
              "<div>\n",
              "<style scoped>\n",
              "    .dataframe tbody tr th:only-of-type {\n",
              "        vertical-align: middle;\n",
              "    }\n",
              "\n",
              "    .dataframe tbody tr th {\n",
              "        vertical-align: top;\n",
              "    }\n",
              "\n",
              "    .dataframe thead th {\n",
              "        text-align: right;\n",
              "    }\n",
              "</style>\n",
              "<table border=\"1\" class=\"dataframe\">\n",
              "  <thead>\n",
              "    <tr style=\"text-align: right;\">\n",
              "      <th></th>\n",
              "      <th>mean</th>\n",
              "      <th>std</th>\n",
              "      <th>min</th>\n",
              "      <th>25%</th>\n",
              "      <th>50%</th>\n",
              "      <th>75%</th>\n",
              "      <th>max</th>\n",
              "    </tr>\n",
              "  </thead>\n",
              "  <tbody>\n",
              "    <tr>\n",
              "      <th>Начальная температура</th>\n",
              "      <td>1588.45</td>\n",
              "      <td>29.49</td>\n",
              "      <td>1191.0</td>\n",
              "      <td>1571.0</td>\n",
              "      <td>1588.0</td>\n",
              "      <td>1606.0</td>\n",
              "      <td>1679.0</td>\n",
              "    </tr>\n",
              "    <tr>\n",
              "      <th>Конечная температура</th>\n",
              "      <td>1595.35</td>\n",
              "      <td>15.91</td>\n",
              "      <td>1541.0</td>\n",
              "      <td>1587.0</td>\n",
              "      <td>1593.0</td>\n",
              "      <td>1599.0</td>\n",
              "      <td>1700.0</td>\n",
              "    </tr>\n",
              "  </tbody>\n",
              "</table>\n",
              "</div>"
            ],
            "text/plain": [
              "                          mean    std     min     25%     50%     75%     max\n",
              "Начальная температура  1588.45  29.49  1191.0  1571.0  1588.0  1606.0  1679.0\n",
              "Конечная температура   1595.35  15.91  1541.0  1587.0  1593.0  1599.0  1700.0"
            ]
          },
          "execution_count": 36,
          "metadata": {},
          "output_type": "execute_result"
        },
        {
          "data": {
            "image/png": "[encoded data removed]",
            "text/plain": [
              "<Figure size 864x360 with 1 Axes>"
            ]
          },
          "metadata": {
            "needs_background": "light"
          },
          "output_type": "display_data"
        }
      ],
      "source": [
        "lim = (1500, 1700, 10)\n",
        "ticks = np.arange(lim[0], lim[1]+lim[2], lim[2])\n",
        "xlim = (lim[0], lim[1])\n",
        "\n",
        "df_temp2[[\n",
        "    'Конечная температура',\n",
        "    'Начальная температура']].plot(\n",
        "        kind='box',\n",
        "        vert=False,\n",
        "        grid=True,\n",
        "        figsize=(12, 5),\n",
        "        xticks=ticks,\n",
        "        xlim=xlim,\n",
        "        # backend='plotly'\n",
        ");\n",
        "\n",
        "df_temp2.describe().round(2).T.iloc[1:3, 1:]"
      ]
    },
    {
      "cell_type": "markdown",
      "metadata": {
        "id": "RAN06AEJUqN3"
      },
      "source": [
        "#### Вывод\n",
        "* произведен анализ измерямых температур,\n",
        "* выделены признаки и целевой признак"
      ]
    },
    {
      "cell_type": "markdown",
      "metadata": {
        "id": "-rONsaqgUqM4"
      },
      "source": [
        "### Легирующие материалы"
      ]
    },
    {
      "cell_type": "markdown",
      "metadata": {
        "id": "mKiJ9D3OUqM5"
      },
      "source": [
        "Добавление легирующих добавок определенно скажется на коэфициенте плавления стали.  Рассмотрим процесс легирования. "
      ]
    },
    {
      "cell_type": "code",
      "execution_count": 37,
      "metadata": {
        "colab": {
          "base_uri": "https://localhost:8080/"
        },
        "id": "-1lxLZ3Pi7Kl",
        "outputId": "50d8673b-6b97-490e-9b3d-3b4857fe94fa"
      },
      "outputs": [
        {
          "data": {
            "text/plain": [
              "160"
            ]
          },
          "execution_count": 37,
          "metadata": {},
          "output_type": "execute_result"
        }
      ],
      "source": [
        "len(set(df_wire['key']) ^ set(df_bulk['key']))"
      ]
    },
    {
      "cell_type": "markdown",
      "metadata": {
        "id": "b4P-53KdjUvU"
      },
      "source": [
        "Как можно убедиться, существуют партии, в которых нет информации об одновременной добавке проволоки и компонентов из сыпучего материала. Предположим, что замеры в данных партиях выбиваются из общей картины техпроцесса."
      ]
    },
    {
      "cell_type": "code",
      "execution_count": 38,
      "metadata": {
        "colab": {
          "base_uri": "https://localhost:8080/",
          "height": 410
        },
        "id": "J5dZeJK2UqM6",
        "outputId": "13fff47a-7f92-432e-9624-00754850cec5"
      },
      "outputs": [
        {
          "name": "stdout",
          "output_type": "stream",
          "text": [
            "(3025, 25)\n"
          ]
        },
        {
          "data": {
            "text/html": [
              "<div>\n",
              "<style scoped>\n",
              "    .dataframe tbody tr th:only-of-type {\n",
              "        vertical-align: middle;\n",
              "    }\n",
              "\n",
              "    .dataframe tbody tr th {\n",
              "        vertical-align: top;\n",
              "    }\n",
              "\n",
              "    .dataframe thead th {\n",
              "        text-align: right;\n",
              "    }\n",
              "</style>\n",
              "<table border=\"1\" class=\"dataframe\">\n",
              "  <thead>\n",
              "    <tr style=\"text-align: right;\">\n",
              "      <th></th>\n",
              "      <th>key</th>\n",
              "      <th>Bulk 1</th>\n",
              "      <th>Bulk 2</th>\n",
              "      <th>Bulk 3</th>\n",
              "      <th>Bulk 4</th>\n",
              "      <th>Bulk 5</th>\n",
              "      <th>Bulk 6</th>\n",
              "      <th>Bulk 7</th>\n",
              "      <th>Bulk 8</th>\n",
              "      <th>Bulk 9</th>\n",
              "      <th>...</th>\n",
              "      <th>Bulk 15</th>\n",
              "      <th>Wire 1</th>\n",
              "      <th>Wire 2</th>\n",
              "      <th>Wire 3</th>\n",
              "      <th>Wire 4</th>\n",
              "      <th>Wire 5</th>\n",
              "      <th>Wire 6</th>\n",
              "      <th>Wire 7</th>\n",
              "      <th>Wire 8</th>\n",
              "      <th>Wire 9</th>\n",
              "    </tr>\n",
              "  </thead>\n",
              "  <tbody>\n",
              "    <tr>\n",
              "      <th>0</th>\n",
              "      <td>1</td>\n",
              "      <td>NaN</td>\n",
              "      <td>NaN</td>\n",
              "      <td>NaN</td>\n",
              "      <td>43.0</td>\n",
              "      <td>NaN</td>\n",
              "      <td>NaN</td>\n",
              "      <td>NaN</td>\n",
              "      <td>NaN</td>\n",
              "      <td>NaN</td>\n",
              "      <td>...</td>\n",
              "      <td>154.0</td>\n",
              "      <td>60.059998</td>\n",
              "      <td>NaN</td>\n",
              "      <td>NaN</td>\n",
              "      <td>NaN</td>\n",
              "      <td>NaN</td>\n",
              "      <td>NaN</td>\n",
              "      <td>NaN</td>\n",
              "      <td>NaN</td>\n",
              "      <td>NaN</td>\n",
              "    </tr>\n",
              "    <tr>\n",
              "      <th>1</th>\n",
              "      <td>2</td>\n",
              "      <td>NaN</td>\n",
              "      <td>NaN</td>\n",
              "      <td>NaN</td>\n",
              "      <td>73.0</td>\n",
              "      <td>NaN</td>\n",
              "      <td>NaN</td>\n",
              "      <td>NaN</td>\n",
              "      <td>NaN</td>\n",
              "      <td>NaN</td>\n",
              "      <td>...</td>\n",
              "      <td>154.0</td>\n",
              "      <td>96.052315</td>\n",
              "      <td>NaN</td>\n",
              "      <td>NaN</td>\n",
              "      <td>NaN</td>\n",
              "      <td>NaN</td>\n",
              "      <td>NaN</td>\n",
              "      <td>NaN</td>\n",
              "      <td>NaN</td>\n",
              "      <td>NaN</td>\n",
              "    </tr>\n",
              "    <tr>\n",
              "      <th>2</th>\n",
              "      <td>3</td>\n",
              "      <td>NaN</td>\n",
              "      <td>NaN</td>\n",
              "      <td>NaN</td>\n",
              "      <td>34.0</td>\n",
              "      <td>NaN</td>\n",
              "      <td>NaN</td>\n",
              "      <td>NaN</td>\n",
              "      <td>NaN</td>\n",
              "      <td>NaN</td>\n",
              "      <td>...</td>\n",
              "      <td>153.0</td>\n",
              "      <td>91.160157</td>\n",
              "      <td>NaN</td>\n",
              "      <td>NaN</td>\n",
              "      <td>NaN</td>\n",
              "      <td>NaN</td>\n",
              "      <td>NaN</td>\n",
              "      <td>NaN</td>\n",
              "      <td>NaN</td>\n",
              "      <td>NaN</td>\n",
              "    </tr>\n",
              "    <tr>\n",
              "      <th>3</th>\n",
              "      <td>4</td>\n",
              "      <td>NaN</td>\n",
              "      <td>NaN</td>\n",
              "      <td>NaN</td>\n",
              "      <td>81.0</td>\n",
              "      <td>NaN</td>\n",
              "      <td>NaN</td>\n",
              "      <td>NaN</td>\n",
              "      <td>NaN</td>\n",
              "      <td>NaN</td>\n",
              "      <td>...</td>\n",
              "      <td>154.0</td>\n",
              "      <td>89.063515</td>\n",
              "      <td>NaN</td>\n",
              "      <td>NaN</td>\n",
              "      <td>NaN</td>\n",
              "      <td>NaN</td>\n",
              "      <td>NaN</td>\n",
              "      <td>NaN</td>\n",
              "      <td>NaN</td>\n",
              "      <td>NaN</td>\n",
              "    </tr>\n",
              "    <tr>\n",
              "      <th>4</th>\n",
              "      <td>5</td>\n",
              "      <td>NaN</td>\n",
              "      <td>NaN</td>\n",
              "      <td>NaN</td>\n",
              "      <td>78.0</td>\n",
              "      <td>NaN</td>\n",
              "      <td>NaN</td>\n",
              "      <td>NaN</td>\n",
              "      <td>NaN</td>\n",
              "      <td>NaN</td>\n",
              "      <td>...</td>\n",
              "      <td>152.0</td>\n",
              "      <td>89.238236</td>\n",
              "      <td>9.114560</td>\n",
              "      <td>NaN</td>\n",
              "      <td>NaN</td>\n",
              "      <td>NaN</td>\n",
              "      <td>NaN</td>\n",
              "      <td>NaN</td>\n",
              "      <td>NaN</td>\n",
              "      <td>NaN</td>\n",
              "    </tr>\n",
              "    <tr>\n",
              "      <th>5</th>\n",
              "      <td>6</td>\n",
              "      <td>NaN</td>\n",
              "      <td>NaN</td>\n",
              "      <td>NaN</td>\n",
              "      <td>117.0</td>\n",
              "      <td>NaN</td>\n",
              "      <td>NaN</td>\n",
              "      <td>NaN</td>\n",
              "      <td>NaN</td>\n",
              "      <td>NaN</td>\n",
              "      <td>...</td>\n",
              "      <td>154.0</td>\n",
              "      <td>99.109917</td>\n",
              "      <td>9.114560</td>\n",
              "      <td>NaN</td>\n",
              "      <td>NaN</td>\n",
              "      <td>NaN</td>\n",
              "      <td>NaN</td>\n",
              "      <td>NaN</td>\n",
              "      <td>NaN</td>\n",
              "      <td>NaN</td>\n",
              "    </tr>\n",
              "    <tr>\n",
              "      <th>6</th>\n",
              "      <td>7</td>\n",
              "      <td>NaN</td>\n",
              "      <td>NaN</td>\n",
              "      <td>NaN</td>\n",
              "      <td>117.0</td>\n",
              "      <td>NaN</td>\n",
              "      <td>NaN</td>\n",
              "      <td>NaN</td>\n",
              "      <td>NaN</td>\n",
              "      <td>NaN</td>\n",
              "      <td>...</td>\n",
              "      <td>154.0</td>\n",
              "      <td>98.061600</td>\n",
              "      <td>NaN</td>\n",
              "      <td>NaN</td>\n",
              "      <td>NaN</td>\n",
              "      <td>NaN</td>\n",
              "      <td>NaN</td>\n",
              "      <td>NaN</td>\n",
              "      <td>NaN</td>\n",
              "      <td>NaN</td>\n",
              "    </tr>\n",
              "    <tr>\n",
              "      <th>7</th>\n",
              "      <td>8</td>\n",
              "      <td>NaN</td>\n",
              "      <td>NaN</td>\n",
              "      <td>NaN</td>\n",
              "      <td>99.0</td>\n",
              "      <td>NaN</td>\n",
              "      <td>NaN</td>\n",
              "      <td>NaN</td>\n",
              "      <td>NaN</td>\n",
              "      <td>NaN</td>\n",
              "      <td>...</td>\n",
              "      <td>153.0</td>\n",
              "      <td>155.282394</td>\n",
              "      <td>NaN</td>\n",
              "      <td>NaN</td>\n",
              "      <td>NaN</td>\n",
              "      <td>NaN</td>\n",
              "      <td>NaN</td>\n",
              "      <td>NaN</td>\n",
              "      <td>NaN</td>\n",
              "      <td>NaN</td>\n",
              "    </tr>\n",
              "    <tr>\n",
              "      <th>8</th>\n",
              "      <td>9</td>\n",
              "      <td>NaN</td>\n",
              "      <td>NaN</td>\n",
              "      <td>NaN</td>\n",
              "      <td>117.0</td>\n",
              "      <td>NaN</td>\n",
              "      <td>NaN</td>\n",
              "      <td>NaN</td>\n",
              "      <td>NaN</td>\n",
              "      <td>NaN</td>\n",
              "      <td>...</td>\n",
              "      <td>203.0</td>\n",
              "      <td>113.393279</td>\n",
              "      <td>9.143681</td>\n",
              "      <td>NaN</td>\n",
              "      <td>NaN</td>\n",
              "      <td>NaN</td>\n",
              "      <td>NaN</td>\n",
              "      <td>NaN</td>\n",
              "      <td>NaN</td>\n",
              "      <td>NaN</td>\n",
              "    </tr>\n",
              "    <tr>\n",
              "      <th>9</th>\n",
              "      <td>10</td>\n",
              "      <td>NaN</td>\n",
              "      <td>NaN</td>\n",
              "      <td>NaN</td>\n",
              "      <td>NaN</td>\n",
              "      <td>NaN</td>\n",
              "      <td>NaN</td>\n",
              "      <td>NaN</td>\n",
              "      <td>NaN</td>\n",
              "      <td>NaN</td>\n",
              "      <td>...</td>\n",
              "      <td>204.0</td>\n",
              "      <td>81.244796</td>\n",
              "      <td>12.376000</td>\n",
              "      <td>NaN</td>\n",
              "      <td>NaN</td>\n",
              "      <td>NaN</td>\n",
              "      <td>NaN</td>\n",
              "      <td>NaN</td>\n",
              "      <td>NaN</td>\n",
              "      <td>NaN</td>\n",
              "    </tr>\n",
              "  </tbody>\n",
              "</table>\n",
              "<p>10 rows × 25 columns</p>\n",
              "</div>"
            ],
            "text/plain": [
              "   key  Bulk 1  Bulk 2  Bulk 3  Bulk 4  Bulk 5  Bulk 6  Bulk 7  Bulk 8  \\\n",
              "0    1     NaN     NaN     NaN    43.0     NaN     NaN     NaN     NaN   \n",
              "1    2     NaN     NaN     NaN    73.0     NaN     NaN     NaN     NaN   \n",
              "2    3     NaN     NaN     NaN    34.0     NaN     NaN     NaN     NaN   \n",
              "3    4     NaN     NaN     NaN    81.0     NaN     NaN     NaN     NaN   \n",
              "4    5     NaN     NaN     NaN    78.0     NaN     NaN     NaN     NaN   \n",
              "5    6     NaN     NaN     NaN   117.0     NaN     NaN     NaN     NaN   \n",
              "6    7     NaN     NaN     NaN   117.0     NaN     NaN     NaN     NaN   \n",
              "7    8     NaN     NaN     NaN    99.0     NaN     NaN     NaN     NaN   \n",
              "8    9     NaN     NaN     NaN   117.0     NaN     NaN     NaN     NaN   \n",
              "9   10     NaN     NaN     NaN     NaN     NaN     NaN     NaN     NaN   \n",
              "\n",
              "   Bulk 9  ...  Bulk 15      Wire 1     Wire 2  Wire 3  Wire 4  Wire 5  \\\n",
              "0     NaN  ...    154.0   60.059998        NaN     NaN     NaN     NaN   \n",
              "1     NaN  ...    154.0   96.052315        NaN     NaN     NaN     NaN   \n",
              "2     NaN  ...    153.0   91.160157        NaN     NaN     NaN     NaN   \n",
              "3     NaN  ...    154.0   89.063515        NaN     NaN     NaN     NaN   \n",
              "4     NaN  ...    152.0   89.238236   9.114560     NaN     NaN     NaN   \n",
              "5     NaN  ...    154.0   99.109917   9.114560     NaN     NaN     NaN   \n",
              "6     NaN  ...    154.0   98.061600        NaN     NaN     NaN     NaN   \n",
              "7     NaN  ...    153.0  155.282394        NaN     NaN     NaN     NaN   \n",
              "8     NaN  ...    203.0  113.393279   9.143681     NaN     NaN     NaN   \n",
              "9     NaN  ...    204.0   81.244796  12.376000     NaN     NaN     NaN   \n",
              "\n",
              "   Wire 6  Wire 7  Wire 8  Wire 9  \n",
              "0     NaN     NaN     NaN     NaN  \n",
              "1     NaN     NaN     NaN     NaN  \n",
              "2     NaN     NaN     NaN     NaN  \n",
              "3     NaN     NaN     NaN     NaN  \n",
              "4     NaN     NaN     NaN     NaN  \n",
              "5     NaN     NaN     NaN     NaN  \n",
              "6     NaN     NaN     NaN     NaN  \n",
              "7     NaN     NaN     NaN     NaN  \n",
              "8     NaN     NaN     NaN     NaN  \n",
              "9     NaN     NaN     NaN     NaN  \n",
              "\n",
              "[10 rows x 25 columns]"
            ]
          },
          "execution_count": 38,
          "metadata": {},
          "output_type": "execute_result"
        }
      ],
      "source": [
        "df_doping = df_bulk.merge(\n",
        "    df_wire,\n",
        "    on='key',\n",
        "    how='inner'\n",
        ")\n",
        "print(df_doping.shape)\n",
        "df_doping.head(10)\n"
      ]
    },
    {
      "cell_type": "markdown",
      "metadata": {
        "id": "4GtvZIM8UqM8"
      },
      "source": [
        "Рассмотрим внимательно пропуски в данных"
      ]
    },
    {
      "cell_type": "code",
      "execution_count": 39,
      "metadata": {
        "colab": {
          "base_uri": "https://localhost:8080/"
        },
        "id": "Ifw04_J3UqM8",
        "outputId": "447184e0-45dc-417b-e3f8-dd4ca23b50e0"
      },
      "outputs": [
        {
          "data": {
            "text/plain": [
              "Wire 5     99.97\n",
              "Bulk 8     99.97\n",
              "Wire 7     99.64\n",
              "Wire 4     99.54\n",
              "Bulk 13    99.40\n",
              "Bulk 9     99.37\n",
              "Wire 8     99.37\n",
              "Bulk 2     99.27\n",
              "Bulk 7     99.21\n",
              "Wire 9     99.17\n",
              "Wire 3     97.92\n",
              "Wire 6     97.59\n",
              "Bulk 5     97.45\n",
              "Bulk 10    94.18\n",
              "Bulk 11    94.15\n",
              "Bulk 1     91.67\n",
              "Bulk 6     81.09\n",
              "Bulk 4     66.51\n",
              "Wire 2     65.26\n",
              "Bulk 3     57.26\n",
              "Bulk 15    26.08\n",
              "Bulk 12    22.05\n",
              "Bulk 14    10.38\n",
              "Wire 1      0.83\n",
              "key         0.00\n",
              "dtype: float64"
            ]
          },
          "execution_count": 39,
          "metadata": {},
          "output_type": "execute_result"
        }
      ],
      "source": [
        "na_col = round(df_doping.isna().sum() / len(df_doping)\n",
        "               * 100, 2).sort_values(ascending=False)\n",
        "na_col\n"
      ]
    },
    {
      "cell_type": "markdown",
      "metadata": {
        "id": "eBfi2369j9LM"
      },
      "source": [
        "Присутсвуют столбцы с большим количеством пропусков в данных. Данные столбцы можно смело удалить.  \n",
        "Примем, что пропуск в добавке будет означать отсутсвие этой добавки по факту. Заменим пропуски на `0`"
      ]
    },
    {
      "cell_type": "code",
      "execution_count": 40,
      "metadata": {
        "colab": {
          "base_uri": "https://localhost:8080/",
          "height": 380
        },
        "id": "Fc1rMbHlkgkF",
        "outputId": "cc013946-9428-4de4-efb4-2b846276bb91"
      },
      "outputs": [
        {
          "name": "stdout",
          "output_type": "stream",
          "text": [
            "(3025, 12)\n"
          ]
        },
        {
          "data": {
            "text/html": [
              "<div>\n",
              "<style scoped>\n",
              "    .dataframe tbody tr th:only-of-type {\n",
              "        vertical-align: middle;\n",
              "    }\n",
              "\n",
              "    .dataframe tbody tr th {\n",
              "        vertical-align: top;\n",
              "    }\n",
              "\n",
              "    .dataframe thead th {\n",
              "        text-align: right;\n",
              "    }\n",
              "</style>\n",
              "<table border=\"1\" class=\"dataframe\">\n",
              "  <thead>\n",
              "    <tr style=\"text-align: right;\">\n",
              "      <th></th>\n",
              "      <th>key</th>\n",
              "      <th>Bulk 1</th>\n",
              "      <th>Bulk 3</th>\n",
              "      <th>Bulk 4</th>\n",
              "      <th>Bulk 6</th>\n",
              "      <th>Bulk 10</th>\n",
              "      <th>Bulk 11</th>\n",
              "      <th>Bulk 12</th>\n",
              "      <th>Bulk 14</th>\n",
              "      <th>Bulk 15</th>\n",
              "      <th>Wire 1</th>\n",
              "      <th>Wire 2</th>\n",
              "    </tr>\n",
              "  </thead>\n",
              "  <tbody>\n",
              "    <tr>\n",
              "      <th>0</th>\n",
              "      <td>1</td>\n",
              "      <td>0.0</td>\n",
              "      <td>0.0</td>\n",
              "      <td>43.0</td>\n",
              "      <td>0.0</td>\n",
              "      <td>0.0</td>\n",
              "      <td>0.0</td>\n",
              "      <td>206.0</td>\n",
              "      <td>150.0</td>\n",
              "      <td>154.0</td>\n",
              "      <td>60.059998</td>\n",
              "      <td>0.000000</td>\n",
              "    </tr>\n",
              "    <tr>\n",
              "      <th>1</th>\n",
              "      <td>2</td>\n",
              "      <td>0.0</td>\n",
              "      <td>0.0</td>\n",
              "      <td>73.0</td>\n",
              "      <td>0.0</td>\n",
              "      <td>0.0</td>\n",
              "      <td>0.0</td>\n",
              "      <td>206.0</td>\n",
              "      <td>149.0</td>\n",
              "      <td>154.0</td>\n",
              "      <td>96.052315</td>\n",
              "      <td>0.000000</td>\n",
              "    </tr>\n",
              "    <tr>\n",
              "      <th>2</th>\n",
              "      <td>3</td>\n",
              "      <td>0.0</td>\n",
              "      <td>0.0</td>\n",
              "      <td>34.0</td>\n",
              "      <td>0.0</td>\n",
              "      <td>0.0</td>\n",
              "      <td>0.0</td>\n",
              "      <td>205.0</td>\n",
              "      <td>152.0</td>\n",
              "      <td>153.0</td>\n",
              "      <td>91.160157</td>\n",
              "      <td>0.000000</td>\n",
              "    </tr>\n",
              "    <tr>\n",
              "      <th>3</th>\n",
              "      <td>4</td>\n",
              "      <td>0.0</td>\n",
              "      <td>0.0</td>\n",
              "      <td>81.0</td>\n",
              "      <td>0.0</td>\n",
              "      <td>0.0</td>\n",
              "      <td>0.0</td>\n",
              "      <td>207.0</td>\n",
              "      <td>153.0</td>\n",
              "      <td>154.0</td>\n",
              "      <td>89.063515</td>\n",
              "      <td>0.000000</td>\n",
              "    </tr>\n",
              "    <tr>\n",
              "      <th>4</th>\n",
              "      <td>5</td>\n",
              "      <td>0.0</td>\n",
              "      <td>0.0</td>\n",
              "      <td>78.0</td>\n",
              "      <td>0.0</td>\n",
              "      <td>0.0</td>\n",
              "      <td>0.0</td>\n",
              "      <td>203.0</td>\n",
              "      <td>151.0</td>\n",
              "      <td>152.0</td>\n",
              "      <td>89.238236</td>\n",
              "      <td>9.114560</td>\n",
              "    </tr>\n",
              "    <tr>\n",
              "      <th>5</th>\n",
              "      <td>6</td>\n",
              "      <td>0.0</td>\n",
              "      <td>0.0</td>\n",
              "      <td>117.0</td>\n",
              "      <td>0.0</td>\n",
              "      <td>0.0</td>\n",
              "      <td>0.0</td>\n",
              "      <td>204.0</td>\n",
              "      <td>201.0</td>\n",
              "      <td>154.0</td>\n",
              "      <td>99.109917</td>\n",
              "      <td>9.114560</td>\n",
              "    </tr>\n",
              "    <tr>\n",
              "      <th>6</th>\n",
              "      <td>7</td>\n",
              "      <td>0.0</td>\n",
              "      <td>0.0</td>\n",
              "      <td>117.0</td>\n",
              "      <td>0.0</td>\n",
              "      <td>0.0</td>\n",
              "      <td>0.0</td>\n",
              "      <td>204.0</td>\n",
              "      <td>152.0</td>\n",
              "      <td>154.0</td>\n",
              "      <td>98.061600</td>\n",
              "      <td>0.000000</td>\n",
              "    </tr>\n",
              "    <tr>\n",
              "      <th>7</th>\n",
              "      <td>8</td>\n",
              "      <td>0.0</td>\n",
              "      <td>0.0</td>\n",
              "      <td>99.0</td>\n",
              "      <td>0.0</td>\n",
              "      <td>0.0</td>\n",
              "      <td>0.0</td>\n",
              "      <td>410.0</td>\n",
              "      <td>252.0</td>\n",
              "      <td>153.0</td>\n",
              "      <td>155.282394</td>\n",
              "      <td>0.000000</td>\n",
              "    </tr>\n",
              "    <tr>\n",
              "      <th>8</th>\n",
              "      <td>9</td>\n",
              "      <td>0.0</td>\n",
              "      <td>0.0</td>\n",
              "      <td>117.0</td>\n",
              "      <td>0.0</td>\n",
              "      <td>0.0</td>\n",
              "      <td>0.0</td>\n",
              "      <td>107.0</td>\n",
              "      <td>99.0</td>\n",
              "      <td>203.0</td>\n",
              "      <td>113.393279</td>\n",
              "      <td>9.143681</td>\n",
              "    </tr>\n",
              "    <tr>\n",
              "      <th>9</th>\n",
              "      <td>10</td>\n",
              "      <td>0.0</td>\n",
              "      <td>0.0</td>\n",
              "      <td>0.0</td>\n",
              "      <td>0.0</td>\n",
              "      <td>0.0</td>\n",
              "      <td>0.0</td>\n",
              "      <td>203.0</td>\n",
              "      <td>102.0</td>\n",
              "      <td>204.0</td>\n",
              "      <td>81.244796</td>\n",
              "      <td>12.376000</td>\n",
              "    </tr>\n",
              "  </tbody>\n",
              "</table>\n",
              "</div>"
            ],
            "text/plain": [
              "   key  Bulk 1  Bulk 3  Bulk 4  Bulk 6  Bulk 10  Bulk 11  Bulk 12  Bulk 14  \\\n",
              "0    1     0.0     0.0    43.0     0.0      0.0      0.0    206.0    150.0   \n",
              "1    2     0.0     0.0    73.0     0.0      0.0      0.0    206.0    149.0   \n",
              "2    3     0.0     0.0    34.0     0.0      0.0      0.0    205.0    152.0   \n",
              "3    4     0.0     0.0    81.0     0.0      0.0      0.0    207.0    153.0   \n",
              "4    5     0.0     0.0    78.0     0.0      0.0      0.0    203.0    151.0   \n",
              "5    6     0.0     0.0   117.0     0.0      0.0      0.0    204.0    201.0   \n",
              "6    7     0.0     0.0   117.0     0.0      0.0      0.0    204.0    152.0   \n",
              "7    8     0.0     0.0    99.0     0.0      0.0      0.0    410.0    252.0   \n",
              "8    9     0.0     0.0   117.0     0.0      0.0      0.0    107.0     99.0   \n",
              "9   10     0.0     0.0     0.0     0.0      0.0      0.0    203.0    102.0   \n",
              "\n",
              "   Bulk 15      Wire 1     Wire 2  \n",
              "0    154.0   60.059998   0.000000  \n",
              "1    154.0   96.052315   0.000000  \n",
              "2    153.0   91.160157   0.000000  \n",
              "3    154.0   89.063515   0.000000  \n",
              "4    152.0   89.238236   9.114560  \n",
              "5    154.0   99.109917   9.114560  \n",
              "6    154.0   98.061600   0.000000  \n",
              "7    153.0  155.282394   0.000000  \n",
              "8    203.0  113.393279   9.143681  \n",
              "9    204.0   81.244796  12.376000  "
            ]
          },
          "execution_count": 40,
          "metadata": {},
          "output_type": "execute_result"
        }
      ],
      "source": [
        "# Удаляем столбцы с самым высоким количеством пропусков\n",
        "try:\n",
        "    na_col = na_col[na_col > 95].index\n",
        "    df_doping.drop(columns=na_col, inplace=True)\n",
        "except:\n",
        "    pass\n",
        "\n",
        "# заменяем пропуски на 0\n",
        "df_doping.fillna(0, inplace=True)\n",
        "\n",
        "print(df_doping.shape)\n",
        "df_doping.head(10)\n"
      ]
    },
    {
      "cell_type": "markdown",
      "metadata": {
        "id": "AQQb2CJFZKG-"
      },
      "source": [
        "Рассмотрим подробнее добавки"
      ]
    },
    {
      "cell_type": "code",
      "execution_count": 41,
      "metadata": {
        "colab": {
          "base_uri": "https://localhost:8080/"
        },
        "id": "BkJW5TIOX31l",
        "outputId": "30075e40-4f38-4aeb-d97c-c390997d69ba"
      },
      "outputs": [
        {
          "data": {
            "text/plain": [
              "Bulk 12    28.57\n",
              "Bulk 14    21.51\n",
              "Bulk 15    16.68\n",
              "Wire 1     14.10\n",
              "Bulk 3      6.84\n",
              "Bulk 4      4.91\n",
              "Bulk 6      3.16\n",
              "Wire 2      2.46\n",
              "Bulk 10     0.68\n",
              "Bulk 11     0.63\n",
              "Bulk 1      0.46\n",
              "dtype: float64"
            ]
          },
          "execution_count": 41,
          "metadata": {},
          "output_type": "execute_result"
        }
      ],
      "source": [
        "# доля добавок в %\n",
        "round(\n",
        "    (\n",
        "        df_doping.sum()[1:].sort_values(ascending=False) /\n",
        "        df_doping.sum()[1:].sum()\n",
        "    ) * 100, 2)\n"
      ]
    },
    {
      "cell_type": "code",
      "execution_count": 42,
      "metadata": {
        "colab": {
          "base_uri": "https://localhost:8080/",
          "height": 337
        },
        "id": "Mi1qTNeWguLR",
        "outputId": "bff17f4a-5f33-4f99-9988-d48b8f23273d"
      },
      "outputs": [
        {
          "data": {
            "text/html": [
              "<div>\n",
              "<style scoped>\n",
              "    .dataframe tbody tr th:only-of-type {\n",
              "        vertical-align: middle;\n",
              "    }\n",
              "\n",
              "    .dataframe tbody tr th {\n",
              "        vertical-align: top;\n",
              "    }\n",
              "\n",
              "    .dataframe thead th {\n",
              "        text-align: right;\n",
              "    }\n",
              "</style>\n",
              "<table border=\"1\" class=\"dataframe\">\n",
              "  <thead>\n",
              "    <tr style=\"text-align: right;\">\n",
              "      <th></th>\n",
              "      <th>mean</th>\n",
              "      <th>std</th>\n",
              "      <th>min</th>\n",
              "      <th>25%</th>\n",
              "      <th>50%</th>\n",
              "      <th>75%</th>\n",
              "      <th>max</th>\n",
              "    </tr>\n",
              "  </thead>\n",
              "  <tbody>\n",
              "    <tr>\n",
              "      <th>Bulk 1</th>\n",
              "      <td>3.27</td>\n",
              "      <td>12.06</td>\n",
              "      <td>0.0</td>\n",
              "      <td>0.00</td>\n",
              "      <td>0.00</td>\n",
              "      <td>0.00</td>\n",
              "      <td>185.00</td>\n",
              "    </tr>\n",
              "    <tr>\n",
              "      <th>Bulk 3</th>\n",
              "      <td>48.67</td>\n",
              "      <td>74.93</td>\n",
              "      <td>0.0</td>\n",
              "      <td>0.00</td>\n",
              "      <td>0.00</td>\n",
              "      <td>82.00</td>\n",
              "      <td>454.00</td>\n",
              "    </tr>\n",
              "    <tr>\n",
              "      <th>Bulk 4</th>\n",
              "      <td>34.96</td>\n",
              "      <td>56.62</td>\n",
              "      <td>0.0</td>\n",
              "      <td>0.00</td>\n",
              "      <td>0.00</td>\n",
              "      <td>72.00</td>\n",
              "      <td>281.00</td>\n",
              "    </tr>\n",
              "    <tr>\n",
              "      <th>Bulk 6</th>\n",
              "      <td>22.50</td>\n",
              "      <td>56.18</td>\n",
              "      <td>0.0</td>\n",
              "      <td>0.00</td>\n",
              "      <td>0.00</td>\n",
              "      <td>0.00</td>\n",
              "      <td>503.00</td>\n",
              "    </tr>\n",
              "    <tr>\n",
              "      <th>Bulk 10</th>\n",
              "      <td>4.85</td>\n",
              "      <td>20.48</td>\n",
              "      <td>0.0</td>\n",
              "      <td>0.00</td>\n",
              "      <td>0.00</td>\n",
              "      <td>0.00</td>\n",
              "      <td>159.00</td>\n",
              "    </tr>\n",
              "    <tr>\n",
              "      <th>Bulk 11</th>\n",
              "      <td>4.49</td>\n",
              "      <td>23.07</td>\n",
              "      <td>0.0</td>\n",
              "      <td>0.00</td>\n",
              "      <td>0.00</td>\n",
              "      <td>0.00</td>\n",
              "      <td>313.00</td>\n",
              "    </tr>\n",
              "    <tr>\n",
              "      <th>Bulk 12</th>\n",
              "      <td>203.26</td>\n",
              "      <td>152.23</td>\n",
              "      <td>0.0</td>\n",
              "      <td>105.00</td>\n",
              "      <td>206.00</td>\n",
              "      <td>263.00</td>\n",
              "      <td>1849.00</td>\n",
              "    </tr>\n",
              "    <tr>\n",
              "      <th>Bulk 14</th>\n",
              "      <td>153.03</td>\n",
              "      <td>80.88</td>\n",
              "      <td>0.0</td>\n",
              "      <td>104.00</td>\n",
              "      <td>148.00</td>\n",
              "      <td>202.00</td>\n",
              "      <td>636.00</td>\n",
              "    </tr>\n",
              "    <tr>\n",
              "      <th>Bulk 15</th>\n",
              "      <td>118.69</td>\n",
              "      <td>83.39</td>\n",
              "      <td>0.0</td>\n",
              "      <td>0.00</td>\n",
              "      <td>106.00</td>\n",
              "      <td>204.00</td>\n",
              "      <td>405.00</td>\n",
              "    </tr>\n",
              "    <tr>\n",
              "      <th>Wire 1</th>\n",
              "      <td>100.30</td>\n",
              "      <td>42.73</td>\n",
              "      <td>0.0</td>\n",
              "      <td>71.37</td>\n",
              "      <td>100.15</td>\n",
              "      <td>125.80</td>\n",
              "      <td>330.31</td>\n",
              "    </tr>\n",
              "    <tr>\n",
              "      <th>Wire 2</th>\n",
              "      <td>17.54</td>\n",
              "      <td>33.29</td>\n",
              "      <td>0.0</td>\n",
              "      <td>0.00</td>\n",
              "      <td>0.00</td>\n",
              "      <td>23.15</td>\n",
              "      <td>282.78</td>\n",
              "    </tr>\n",
              "  </tbody>\n",
              "</table>\n",
              "</div>"
            ],
            "text/plain": [
              "           mean     std  min     25%     50%     75%      max\n",
              "Bulk 1     3.27   12.06  0.0    0.00    0.00    0.00   185.00\n",
              "Bulk 3    48.67   74.93  0.0    0.00    0.00   82.00   454.00\n",
              "Bulk 4    34.96   56.62  0.0    0.00    0.00   72.00   281.00\n",
              "Bulk 6    22.50   56.18  0.0    0.00    0.00    0.00   503.00\n",
              "Bulk 10    4.85   20.48  0.0    0.00    0.00    0.00   159.00\n",
              "Bulk 11    4.49   23.07  0.0    0.00    0.00    0.00   313.00\n",
              "Bulk 12  203.26  152.23  0.0  105.00  206.00  263.00  1849.00\n",
              "Bulk 14  153.03   80.88  0.0  104.00  148.00  202.00   636.00\n",
              "Bulk 15  118.69   83.39  0.0    0.00  106.00  204.00   405.00\n",
              "Wire 1   100.30   42.73  0.0   71.37  100.15  125.80   330.31\n",
              "Wire 2    17.54   33.29  0.0    0.00    0.00   23.15   282.78"
            ]
          },
          "execution_count": 42,
          "metadata": {},
          "output_type": "execute_result"
        },
        {
          "data": {
            "image/png": "[encoded data removed]",
            "text/plain": [
              "<Figure size 1008x360 with 1 Axes>"
            ]
          },
          "metadata": {
            "needs_background": "light"
          },
          "output_type": "display_data"
        }
      ],
      "source": [
        "df_doping.iloc[:, 1:].plot(\n",
        "    kind='box',\n",
        "    figsize=(14, 5),\n",
        "    ylim=(0, 1000),\n",
        "    grid=True,\n",
        "    # backend='plotly'\n",
        ")\n",
        "df_doping.describe().round(2).T.iloc[1:,1:]"
      ]
    },
    {
      "cell_type": "markdown",
      "metadata": {
        "id": "HBrAnC67UqNJ"
      },
      "source": [
        "#### Вывод\n",
        "Произведена обработка и подготовка признаков:\n",
        "- удалены столбцы добавок, которые редко использовались"
      ]
    },
    {
      "cell_type": "markdown",
      "metadata": {
        "id": "1JAsc5WIUqNK"
      },
      "source": [
        "### Электроды"
      ]
    },
    {
      "cell_type": "markdown",
      "metadata": {
        "id": "Kstoh65nUqNL"
      },
      "source": [
        "Рассмотрим распределения мощностей при работе электрода"
      ]
    },
    {
      "cell_type": "code",
      "execution_count": 43,
      "metadata": {
        "colab": {
          "base_uri": "https://localhost:8080/",
          "height": 621
        },
        "id": "xsdWq7DrUqNL",
        "outputId": "e59960fc-bc66-44ef-91ba-e10474dec512"
      },
      "outputs": [
        {
          "data": {
            "text/html": [
              "<div>\n",
              "<style scoped>\n",
              "    .dataframe tbody tr th:only-of-type {\n",
              "        vertical-align: middle;\n",
              "    }\n",
              "\n",
              "    .dataframe tbody tr th {\n",
              "        vertical-align: top;\n",
              "    }\n",
              "\n",
              "    .dataframe thead th {\n",
              "        text-align: right;\n",
              "    }\n",
              "</style>\n",
              "<table border=\"1\" class=\"dataframe\">\n",
              "  <thead>\n",
              "    <tr style=\"text-align: right;\">\n",
              "      <th></th>\n",
              "      <th>mean</th>\n",
              "      <th>std</th>\n",
              "      <th>min</th>\n",
              "      <th>25%</th>\n",
              "      <th>50%</th>\n",
              "      <th>75%</th>\n",
              "      <th>max</th>\n",
              "    </tr>\n",
              "  </thead>\n",
              "  <tbody>\n",
              "    <tr>\n",
              "      <th>Активная мощность</th>\n",
              "      <td>0.67</td>\n",
              "      <td>0.41</td>\n",
              "      <td>0.03</td>\n",
              "      <td>0.40</td>\n",
              "      <td>0.56</td>\n",
              "      <td>0.86</td>\n",
              "      <td>3.73</td>\n",
              "    </tr>\n",
              "    <tr>\n",
              "      <th>Реактивная мощность</th>\n",
              "      <td>0.45</td>\n",
              "      <td>5.88</td>\n",
              "      <td>-715.50</td>\n",
              "      <td>0.29</td>\n",
              "      <td>0.42</td>\n",
              "      <td>0.64</td>\n",
              "      <td>2.68</td>\n",
              "    </tr>\n",
              "  </tbody>\n",
              "</table>\n",
              "</div>"
            ],
            "text/plain": [
              "                     mean   std     min   25%   50%   75%   max\n",
              "Активная мощность    0.67  0.41    0.03  0.40  0.56  0.86  3.73\n",
              "Реактивная мощность  0.45  5.88 -715.50  0.29  0.42  0.64  2.68"
            ]
          },
          "execution_count": 43,
          "metadata": {},
          "output_type": "execute_result"
        }
      ],
      "source": [
        "df_arc.describe().round(2).T.iloc[1:,1:]"
      ]
    },
    {
      "cell_type": "markdown",
      "metadata": {
        "id": "s-SBLnqaUqNN"
      },
      "source": [
        "Присутсвует аномальное значение мощности в -715,5. Рассмотрим другие таблицы с индексом в котором произошла аномалия"
      ]
    },
    {
      "cell_type": "code",
      "execution_count": 44,
      "metadata": {
        "colab": {
          "base_uri": "https://localhost:8080/",
          "height": 81
        },
        "id": "n-ZOp6qMUqNO",
        "outputId": "7586dcba-f36f-4007-88f5-bb362fa61981"
      },
      "outputs": [
        {
          "data": {
            "text/html": [
              "<div>\n",
              "<style scoped>\n",
              "    .dataframe tbody tr th:only-of-type {\n",
              "        vertical-align: middle;\n",
              "    }\n",
              "\n",
              "    .dataframe tbody tr th {\n",
              "        vertical-align: top;\n",
              "    }\n",
              "\n",
              "    .dataframe thead th {\n",
              "        text-align: right;\n",
              "    }\n",
              "</style>\n",
              "<table border=\"1\" class=\"dataframe\">\n",
              "  <thead>\n",
              "    <tr style=\"text-align: right;\">\n",
              "      <th></th>\n",
              "      <th>key</th>\n",
              "      <th>Начало нагрева дугой</th>\n",
              "      <th>Конец нагрева дугой</th>\n",
              "      <th>Активная мощность</th>\n",
              "      <th>Реактивная мощность</th>\n",
              "    </tr>\n",
              "  </thead>\n",
              "  <tbody>\n",
              "    <tr>\n",
              "      <th>9780</th>\n",
              "      <td>2116</td>\n",
              "      <td>2019-07-24 00:44:48</td>\n",
              "      <td>2019-07-24 00:46:37</td>\n",
              "      <td>0.495782</td>\n",
              "      <td>-715.504924</td>\n",
              "    </tr>\n",
              "  </tbody>\n",
              "</table>\n",
              "</div>"
            ],
            "text/plain": [
              "       key Начало нагрева дугой Конец нагрева дугой  Активная мощность  \\\n",
              "9780  2116  2019-07-24 00:44:48 2019-07-24 00:46:37           0.495782   \n",
              "\n",
              "      Реактивная мощность  \n",
              "9780          -715.504924  "
            ]
          },
          "execution_count": 44,
          "metadata": {},
          "output_type": "execute_result"
        }
      ],
      "source": [
        "df_arc[df_arc['Реактивная мощность'] < -700]"
      ]
    },
    {
      "cell_type": "markdown",
      "metadata": {
        "id": "1ayM5Xy4UqNP"
      },
      "source": [
        "Это партия с номером 2116. Рассмотрим, что происходило с этой партией в таблицах температур, продувки газа, легирования"
      ]
    },
    {
      "cell_type": "code",
      "execution_count": 45,
      "metadata": {
        "colab": {
          "base_uri": "https://localhost:8080/",
          "height": 175
        },
        "id": "WQMNUHHNUqNP",
        "outputId": "408b5436-9c8e-44f3-90ad-4a9589404115"
      },
      "outputs": [
        {
          "data": {
            "text/html": [
              "<div>\n",
              "<style scoped>\n",
              "    .dataframe tbody tr th:only-of-type {\n",
              "        vertical-align: middle;\n",
              "    }\n",
              "\n",
              "    .dataframe tbody tr th {\n",
              "        vertical-align: top;\n",
              "    }\n",
              "\n",
              "    .dataframe thead th {\n",
              "        text-align: right;\n",
              "    }\n",
              "</style>\n",
              "<table border=\"1\" class=\"dataframe\">\n",
              "  <thead>\n",
              "    <tr style=\"text-align: right;\">\n",
              "      <th></th>\n",
              "      <th>key</th>\n",
              "      <th>Время замера</th>\n",
              "      <th>Температура</th>\n",
              "    </tr>\n",
              "  </thead>\n",
              "  <tbody>\n",
              "    <tr>\n",
              "      <th>10462</th>\n",
              "      <td>2116</td>\n",
              "      <td>2019-07-24 00:32:59</td>\n",
              "      <td>1579.0</td>\n",
              "    </tr>\n",
              "    <tr>\n",
              "      <th>10463</th>\n",
              "      <td>2116</td>\n",
              "      <td>2019-07-24 00:44:34</td>\n",
              "      <td>1574.0</td>\n",
              "    </tr>\n",
              "    <tr>\n",
              "      <th>10464</th>\n",
              "      <td>2116</td>\n",
              "      <td>2019-07-24 00:50:58</td>\n",
              "      <td>1578.0</td>\n",
              "    </tr>\n",
              "    <tr>\n",
              "      <th>10465</th>\n",
              "      <td>2116</td>\n",
              "      <td>2019-07-24 00:53:31</td>\n",
              "      <td>1578.0</td>\n",
              "    </tr>\n",
              "  </tbody>\n",
              "</table>\n",
              "</div>"
            ],
            "text/plain": [
              "        key        Время замера  Температура\n",
              "10462  2116 2019-07-24 00:32:59       1579.0\n",
              "10463  2116 2019-07-24 00:44:34       1574.0\n",
              "10464  2116 2019-07-24 00:50:58       1578.0\n",
              "10465  2116 2019-07-24 00:53:31       1578.0"
            ]
          },
          "execution_count": 45,
          "metadata": {},
          "output_type": "execute_result"
        }
      ],
      "source": [
        "df_temp[df_temp['key'] == 2116]"
      ]
    },
    {
      "cell_type": "code",
      "execution_count": 46,
      "metadata": {
        "colab": {
          "base_uri": "https://localhost:8080/",
          "height": 81
        },
        "id": "i3GfRQklUqNR",
        "outputId": "cc296269-ba68-4ab7-93c5-c24ac52033fa"
      },
      "outputs": [
        {
          "data": {
            "text/html": [
              "<div>\n",
              "<style scoped>\n",
              "    .dataframe tbody tr th:only-of-type {\n",
              "        vertical-align: middle;\n",
              "    }\n",
              "\n",
              "    .dataframe tbody tr th {\n",
              "        vertical-align: top;\n",
              "    }\n",
              "\n",
              "    .dataframe thead th {\n",
              "        text-align: right;\n",
              "    }\n",
              "</style>\n",
              "<table border=\"1\" class=\"dataframe\">\n",
              "  <thead>\n",
              "    <tr style=\"text-align: right;\">\n",
              "      <th></th>\n",
              "      <th>key</th>\n",
              "      <th>Газ 1</th>\n",
              "    </tr>\n",
              "  </thead>\n",
              "  <tbody>\n",
              "    <tr>\n",
              "      <th>2113</th>\n",
              "      <td>2116</td>\n",
              "      <td>11.582547</td>\n",
              "    </tr>\n",
              "  </tbody>\n",
              "</table>\n",
              "</div>"
            ],
            "text/plain": [
              "       key      Газ 1\n",
              "2113  2116  11.582547"
            ]
          },
          "execution_count": 46,
          "metadata": {},
          "output_type": "execute_result"
        }
      ],
      "source": [
        "df_gas[df_gas['key'] == 2116]"
      ]
    },
    {
      "cell_type": "code",
      "execution_count": 47,
      "metadata": {
        "colab": {
          "base_uri": "https://localhost:8080/",
          "height": 81
        },
        "id": "n1FTL9MqUqNS",
        "outputId": "695ae180-7e19-46d2-c640-a0e8c9463d4a"
      },
      "outputs": [
        {
          "data": {
            "text/html": [
              "<div>\n",
              "<style scoped>\n",
              "    .dataframe tbody tr th:only-of-type {\n",
              "        vertical-align: middle;\n",
              "    }\n",
              "\n",
              "    .dataframe tbody tr th {\n",
              "        vertical-align: top;\n",
              "    }\n",
              "\n",
              "    .dataframe thead th {\n",
              "        text-align: right;\n",
              "    }\n",
              "</style>\n",
              "<table border=\"1\" class=\"dataframe\">\n",
              "  <thead>\n",
              "    <tr style=\"text-align: right;\">\n",
              "      <th></th>\n",
              "      <th>key</th>\n",
              "      <th>Bulk 1</th>\n",
              "      <th>Bulk 3</th>\n",
              "      <th>Bulk 4</th>\n",
              "      <th>Bulk 6</th>\n",
              "      <th>Bulk 10</th>\n",
              "      <th>Bulk 11</th>\n",
              "      <th>Bulk 12</th>\n",
              "      <th>Bulk 14</th>\n",
              "      <th>Bulk 15</th>\n",
              "      <th>Wire 1</th>\n",
              "      <th>Wire 2</th>\n",
              "    </tr>\n",
              "  </thead>\n",
              "  <tbody>\n",
              "    <tr>\n",
              "      <th>1984</th>\n",
              "      <td>2116</td>\n",
              "      <td>0.0</td>\n",
              "      <td>0.0</td>\n",
              "      <td>0.0</td>\n",
              "      <td>137.0</td>\n",
              "      <td>0.0</td>\n",
              "      <td>0.0</td>\n",
              "      <td>0.0</td>\n",
              "      <td>198.0</td>\n",
              "      <td>0.0</td>\n",
              "      <td>75.216965</td>\n",
              "      <td>0.0</td>\n",
              "    </tr>\n",
              "  </tbody>\n",
              "</table>\n",
              "</div>"
            ],
            "text/plain": [
              "       key  Bulk 1  Bulk 3  Bulk 4  Bulk 6  Bulk 10  Bulk 11  Bulk 12  \\\n",
              "1984  2116     0.0     0.0     0.0   137.0      0.0      0.0      0.0   \n",
              "\n",
              "      Bulk 14  Bulk 15     Wire 1  Wire 2  \n",
              "1984    198.0      0.0  75.216965     0.0  "
            ]
          },
          "execution_count": 47,
          "metadata": {},
          "output_type": "execute_result"
        }
      ],
      "source": [
        "df_doping[df_doping['key'] == 2116]"
      ]
    },
    {
      "cell_type": "markdown",
      "metadata": {
        "id": "T6r3g1CPUqNT"
      },
      "source": [
        "Ничего необычного не замечено. Скорее всего сбой в датчике или работе плавильного оборудования. Удалим это значение"
      ]
    },
    {
      "cell_type": "code",
      "execution_count": 48,
      "metadata": {
        "colab": {
          "base_uri": "https://localhost:8080/",
          "height": 143
        },
        "id": "ns9bWfISUqNU",
        "outputId": "0b6f0eaa-42bd-4aa5-aa96-dc2482098e1d"
      },
      "outputs": [
        {
          "data": {
            "text/html": [
              "<div>\n",
              "<style scoped>\n",
              "    .dataframe tbody tr th:only-of-type {\n",
              "        vertical-align: middle;\n",
              "    }\n",
              "\n",
              "    .dataframe tbody tr th {\n",
              "        vertical-align: top;\n",
              "    }\n",
              "\n",
              "    .dataframe thead th {\n",
              "        text-align: right;\n",
              "    }\n",
              "</style>\n",
              "<table border=\"1\" class=\"dataframe\">\n",
              "  <thead>\n",
              "    <tr style=\"text-align: right;\">\n",
              "      <th></th>\n",
              "      <th>key</th>\n",
              "      <th>Начало нагрева дугой</th>\n",
              "      <th>Конец нагрева дугой</th>\n",
              "      <th>Активная мощность</th>\n",
              "      <th>Реактивная мощность</th>\n",
              "    </tr>\n",
              "  </thead>\n",
              "  <tbody>\n",
              "    <tr>\n",
              "      <th>9778</th>\n",
              "      <td>2116</td>\n",
              "      <td>2019-07-24 00:29:52</td>\n",
              "      <td>2019-07-24 00:31:54</td>\n",
              "      <td>0.433266</td>\n",
              "      <td>0.306141</td>\n",
              "    </tr>\n",
              "    <tr>\n",
              "      <th>9779</th>\n",
              "      <td>2116</td>\n",
              "      <td>2019-07-24 00:35:50</td>\n",
              "      <td>2019-07-24 00:38:05</td>\n",
              "      <td>0.620265</td>\n",
              "      <td>0.408352</td>\n",
              "    </tr>\n",
              "    <tr>\n",
              "      <th>9781</th>\n",
              "      <td>2116</td>\n",
              "      <td>2019-07-24 00:51:51</td>\n",
              "      <td>2019-07-24 00:52:58</td>\n",
              "      <td>0.299368</td>\n",
              "      <td>0.198796</td>\n",
              "    </tr>\n",
              "  </tbody>\n",
              "</table>\n",
              "</div>"
            ],
            "text/plain": [
              "       key Начало нагрева дугой Конец нагрева дугой  Активная мощность  \\\n",
              "9778  2116  2019-07-24 00:29:52 2019-07-24 00:31:54           0.433266   \n",
              "9779  2116  2019-07-24 00:35:50 2019-07-24 00:38:05           0.620265   \n",
              "9781  2116  2019-07-24 00:51:51 2019-07-24 00:52:58           0.299368   \n",
              "\n",
              "      Реактивная мощность  \n",
              "9778             0.306141  \n",
              "9779             0.408352  \n",
              "9781             0.198796  "
            ]
          },
          "execution_count": 48,
          "metadata": {},
          "output_type": "execute_result"
        }
      ],
      "source": [
        "try:\n",
        "    df_arc = df_arc.drop([9780])\n",
        "except:\n",
        "    pass\n",
        "# проверка\n",
        "df_arc[df_arc['key'] == 2116]\n"
      ]
    },
    {
      "cell_type": "markdown",
      "metadata": {
        "id": "zizB7Pec2S4v"
      },
      "source": [
        "Добавим столбец `время нагрева`, расчитаем соотношение активной и реактивной мощности"
      ]
    },
    {
      "cell_type": "code",
      "execution_count": 49,
      "metadata": {
        "colab": {
          "base_uri": "https://localhost:8080/",
          "height": 206
        },
        "id": "9ItuUpLu2Wap",
        "outputId": "a0ca4eb8-d6bf-4548-d2f5-4ae8eaa49642"
      },
      "outputs": [
        {
          "data": {
            "text/html": [
              "<div>\n",
              "<style scoped>\n",
              "    .dataframe tbody tr th:only-of-type {\n",
              "        vertical-align: middle;\n",
              "    }\n",
              "\n",
              "    .dataframe tbody tr th {\n",
              "        vertical-align: top;\n",
              "    }\n",
              "\n",
              "    .dataframe thead th {\n",
              "        text-align: right;\n",
              "    }\n",
              "</style>\n",
              "<table border=\"1\" class=\"dataframe\">\n",
              "  <thead>\n",
              "    <tr style=\"text-align: right;\">\n",
              "      <th></th>\n",
              "      <th>key</th>\n",
              "      <th>Начало нагрева дугой</th>\n",
              "      <th>Конец нагрева дугой</th>\n",
              "      <th>Активная мощность</th>\n",
              "      <th>Реактивная мощность</th>\n",
              "      <th>Время нагрева</th>\n",
              "      <th>Мощность</th>\n",
              "    </tr>\n",
              "  </thead>\n",
              "  <tbody>\n",
              "    <tr>\n",
              "      <th>0</th>\n",
              "      <td>1</td>\n",
              "      <td>2019-05-03 11:02:14</td>\n",
              "      <td>2019-05-03 11:06:02</td>\n",
              "      <td>0.976059</td>\n",
              "      <td>0.687084</td>\n",
              "      <td>228</td>\n",
              "      <td>1.420582</td>\n",
              "    </tr>\n",
              "    <tr>\n",
              "      <th>1</th>\n",
              "      <td>1</td>\n",
              "      <td>2019-05-03 11:07:28</td>\n",
              "      <td>2019-05-03 11:10:33</td>\n",
              "      <td>0.805607</td>\n",
              "      <td>0.520285</td>\n",
              "      <td>185</td>\n",
              "      <td>1.548395</td>\n",
              "    </tr>\n",
              "    <tr>\n",
              "      <th>2</th>\n",
              "      <td>1</td>\n",
              "      <td>2019-05-03 11:11:44</td>\n",
              "      <td>2019-05-03 11:14:36</td>\n",
              "      <td>0.744363</td>\n",
              "      <td>0.498805</td>\n",
              "      <td>172</td>\n",
              "      <td>1.492292</td>\n",
              "    </tr>\n",
              "    <tr>\n",
              "      <th>3</th>\n",
              "      <td>1</td>\n",
              "      <td>2019-05-03 11:18:14</td>\n",
              "      <td>2019-05-03 11:24:19</td>\n",
              "      <td>1.659363</td>\n",
              "      <td>1.062669</td>\n",
              "      <td>365</td>\n",
              "      <td>1.561504</td>\n",
              "    </tr>\n",
              "    <tr>\n",
              "      <th>4</th>\n",
              "      <td>1</td>\n",
              "      <td>2019-05-03 11:26:09</td>\n",
              "      <td>2019-05-03 11:28:37</td>\n",
              "      <td>0.692755</td>\n",
              "      <td>0.414397</td>\n",
              "      <td>148</td>\n",
              "      <td>1.671717</td>\n",
              "    </tr>\n",
              "  </tbody>\n",
              "</table>\n",
              "</div>"
            ],
            "text/plain": [
              "   key Начало нагрева дугой Конец нагрева дугой  Активная мощность  \\\n",
              "0    1  2019-05-03 11:02:14 2019-05-03 11:06:02           0.976059   \n",
              "1    1  2019-05-03 11:07:28 2019-05-03 11:10:33           0.805607   \n",
              "2    1  2019-05-03 11:11:44 2019-05-03 11:14:36           0.744363   \n",
              "3    1  2019-05-03 11:18:14 2019-05-03 11:24:19           1.659363   \n",
              "4    1  2019-05-03 11:26:09 2019-05-03 11:28:37           0.692755   \n",
              "\n",
              "   Реактивная мощность  Время нагрева  Мощность  \n",
              "0             0.687084            228  1.420582  \n",
              "1             0.520285            185  1.548395  \n",
              "2             0.498805            172  1.492292  \n",
              "3             1.062669            365  1.561504  \n",
              "4             0.414397            148  1.671717  "
            ]
          },
          "execution_count": 49,
          "metadata": {},
          "output_type": "execute_result"
        }
      ],
      "source": [
        "df_arc['Время нагрева'] = df_arc['Конец нагрева дугой'] - df_arc['Начало нагрева дугой']\n",
        "\n",
        "df_arc['Время нагрева'] = df_arc['Время нагрева'].apply(lambda x: x.seconds)\n",
        "\n",
        "df_arc['Мощность'] = df_arc['Активная мощность'] / df_arc['Реактивная мощность']\n",
        "\n",
        "df_arc.head()"
      ]
    },
    {
      "cell_type": "markdown",
      "metadata": {
        "id": "JCnUdjYumJbm"
      },
      "source": [
        "Сгруппируем данные по ключу"
      ]
    },
    {
      "cell_type": "code",
      "execution_count": 50,
      "metadata": {
        "colab": {
          "base_uri": "https://localhost:8080/",
          "height": 206
        },
        "id": "ilHtZpUvUqNW",
        "outputId": "4fba517f-2b90-40a0-96cc-f6d257e5cefa"
      },
      "outputs": [
        {
          "data": {
            "text/html": [
              "<div>\n",
              "<style scoped>\n",
              "    .dataframe tbody tr th:only-of-type {\n",
              "        vertical-align: middle;\n",
              "    }\n",
              "\n",
              "    .dataframe tbody tr th {\n",
              "        vertical-align: top;\n",
              "    }\n",
              "\n",
              "    .dataframe thead th {\n",
              "        text-align: right;\n",
              "    }\n",
              "</style>\n",
              "<table border=\"1\" class=\"dataframe\">\n",
              "  <thead>\n",
              "    <tr style=\"text-align: right;\">\n",
              "      <th></th>\n",
              "      <th>key</th>\n",
              "      <th>Активная мощность</th>\n",
              "      <th>Реактивная мощность</th>\n",
              "      <th>Мощность</th>\n",
              "      <th>Время нагрева</th>\n",
              "      <th>Колво нагревов</th>\n",
              "    </tr>\n",
              "  </thead>\n",
              "  <tbody>\n",
              "    <tr>\n",
              "      <th>0</th>\n",
              "      <td>1</td>\n",
              "      <td>4.878147</td>\n",
              "      <td>3.183241</td>\n",
              "      <td>1.538898</td>\n",
              "      <td>1098</td>\n",
              "      <td>5</td>\n",
              "    </tr>\n",
              "    <tr>\n",
              "      <th>1</th>\n",
              "      <td>2</td>\n",
              "      <td>3.052598</td>\n",
              "      <td>1.998112</td>\n",
              "      <td>1.551834</td>\n",
              "      <td>811</td>\n",
              "      <td>4</td>\n",
              "    </tr>\n",
              "    <tr>\n",
              "      <th>2</th>\n",
              "      <td>3</td>\n",
              "      <td>2.525882</td>\n",
              "      <td>1.599076</td>\n",
              "      <td>1.583120</td>\n",
              "      <td>655</td>\n",
              "      <td>5</td>\n",
              "    </tr>\n",
              "    <tr>\n",
              "      <th>3</th>\n",
              "      <td>4</td>\n",
              "      <td>3.209250</td>\n",
              "      <td>2.060298</td>\n",
              "      <td>1.563487</td>\n",
              "      <td>741</td>\n",
              "      <td>4</td>\n",
              "    </tr>\n",
              "    <tr>\n",
              "      <th>4</th>\n",
              "      <td>5</td>\n",
              "      <td>3.347173</td>\n",
              "      <td>2.252643</td>\n",
              "      <td>1.480428</td>\n",
              "      <td>869</td>\n",
              "      <td>4</td>\n",
              "    </tr>\n",
              "  </tbody>\n",
              "</table>\n",
              "</div>"
            ],
            "text/plain": [
              "   key  Активная мощность  Реактивная мощность  Мощность  Время нагрева  \\\n",
              "0    1           4.878147             3.183241  1.538898           1098   \n",
              "1    2           3.052598             1.998112  1.551834            811   \n",
              "2    3           2.525882             1.599076  1.583120            655   \n",
              "3    4           3.209250             2.060298  1.563487            741   \n",
              "4    5           3.347173             2.252643  1.480428            869   \n",
              "\n",
              "   Колво нагревов  \n",
              "0               5  \n",
              "1               4  \n",
              "2               5  \n",
              "3               4  \n",
              "4               4  "
            ]
          },
          "execution_count": 50,
          "metadata": {},
          "output_type": "execute_result"
        }
      ],
      "source": [
        "# группировка по ключу\n",
        "df_arc2 = df_arc.groupby('key').agg({\n",
        "    # Общая активная мощность\n",
        "    'Активная мощность': 'sum',\n",
        "\n",
        "    # Общая реактивная мощность\n",
        "    'Реактивная мощность': 'sum',\n",
        "\n",
        "    # среднее соотношение мощностей\n",
        "    'Мощность': 'mean',\n",
        "\n",
        "    # суммарное время нагрева и колличество включений электродов\n",
        "    'Время нагрева': ['sum', 'count'],\n",
        "\n",
        "}).reset_index()\n",
        "\n",
        "# убераем второй уровень мультииндекса\n",
        "df_arc2.columns = df_arc2.columns.droplevel(1)\n",
        "\n",
        "# заменяем название столбца\n",
        "df_arc2.columns.values[-1] = 'Колво нагревов'\n",
        "\n",
        "df_arc2.head()\n"
      ]
    },
    {
      "cell_type": "code",
      "execution_count": 51,
      "metadata": {},
      "outputs": [
        {
          "data": {
            "text/html": [
              "<div>\n",
              "<style scoped>\n",
              "    .dataframe tbody tr th:only-of-type {\n",
              "        vertical-align: middle;\n",
              "    }\n",
              "\n",
              "    .dataframe tbody tr th {\n",
              "        vertical-align: top;\n",
              "    }\n",
              "\n",
              "    .dataframe thead th {\n",
              "        text-align: right;\n",
              "    }\n",
              "</style>\n",
              "<table border=\"1\" class=\"dataframe\">\n",
              "  <thead>\n",
              "    <tr style=\"text-align: right;\">\n",
              "      <th></th>\n",
              "      <th>mean</th>\n",
              "      <th>std</th>\n",
              "      <th>min</th>\n",
              "      <th>25%</th>\n",
              "      <th>50%</th>\n",
              "      <th>75%</th>\n",
              "      <th>max</th>\n",
              "    </tr>\n",
              "  </thead>\n",
              "  <tbody>\n",
              "    <tr>\n",
              "      <th>Активная мощность</th>\n",
              "      <td>3.10</td>\n",
              "      <td>1.40</td>\n",
              "      <td>0.19</td>\n",
              "      <td>2.13</td>\n",
              "      <td>2.99</td>\n",
              "      <td>3.90</td>\n",
              "      <td>17.50</td>\n",
              "    </tr>\n",
              "    <tr>\n",
              "      <th>Реактивная мощность</th>\n",
              "      <td>2.32</td>\n",
              "      <td>1.05</td>\n",
              "      <td>0.16</td>\n",
              "      <td>1.60</td>\n",
              "      <td>2.23</td>\n",
              "      <td>2.90</td>\n",
              "      <td>12.59</td>\n",
              "    </tr>\n",
              "    <tr>\n",
              "      <th>Мощность</th>\n",
              "      <td>1.36</td>\n",
              "      <td>0.13</td>\n",
              "      <td>0.68</td>\n",
              "      <td>1.29</td>\n",
              "      <td>1.37</td>\n",
              "      <td>1.44</td>\n",
              "      <td>1.78</td>\n",
              "    </tr>\n",
              "    <tr>\n",
              "      <th>Время нагрева</th>\n",
              "      <td>794.55</td>\n",
              "      <td>332.49</td>\n",
              "      <td>57.00</td>\n",
              "      <td>571.00</td>\n",
              "      <td>770.00</td>\n",
              "      <td>983.00</td>\n",
              "      <td>4189.00</td>\n",
              "    </tr>\n",
              "    <tr>\n",
              "      <th>Колво нагревов</th>\n",
              "      <td>4.63</td>\n",
              "      <td>1.61</td>\n",
              "      <td>1.00</td>\n",
              "      <td>4.00</td>\n",
              "      <td>4.00</td>\n",
              "      <td>6.00</td>\n",
              "      <td>16.00</td>\n",
              "    </tr>\n",
              "  </tbody>\n",
              "</table>\n",
              "</div>"
            ],
            "text/plain": [
              "                       mean     std    min     25%     50%     75%      max\n",
              "Активная мощность      3.10    1.40   0.19    2.13    2.99    3.90    17.50\n",
              "Реактивная мощность    2.32    1.05   0.16    1.60    2.23    2.90    12.59\n",
              "Мощность               1.36    0.13   0.68    1.29    1.37    1.44     1.78\n",
              "Время нагрева        794.55  332.49  57.00  571.00  770.00  983.00  4189.00\n",
              "Колво нагревов         4.63    1.61   1.00    4.00    4.00    6.00    16.00"
            ]
          },
          "execution_count": 51,
          "metadata": {},
          "output_type": "execute_result"
        },
        {
          "data": {
            "image/png": "[encoded data removed]",
            "text/plain": [
              "<Figure size 864x576 with 1 Axes>"
            ]
          },
          "metadata": {
            "needs_background": "light"
          },
          "output_type": "display_data"
        }
      ],
      "source": [
        "df_arc2.iloc[:,1:].plot(\n",
        "    kind='box',\n",
        "    figsize=(12,8),\n",
        "    grid=True,\n",
        ");\n",
        "\n",
        "df_arc2.describe().round(2).T.iloc[1:, 1:]"
      ]
    },
    {
      "cell_type": "markdown",
      "metadata": {},
      "source": [
        "Судя по диаграмме, значения мощностей находятся в определенном промежутке и редко выбиваются из своих нормальных значений"
      ]
    },
    {
      "cell_type": "markdown",
      "metadata": {
        "id": "Dq2Hp9ZpUqNa"
      },
      "source": [
        "#### Вывод\n",
        "- произведен анализ таблицы работ электродов,\n",
        "- произведен расчет дополнительных параметров"
      ]
    },
    {
      "cell_type": "markdown",
      "metadata": {
        "id": "4VWPUcn4UqNb"
      },
      "source": [
        "### Продувка газом"
      ]
    },
    {
      "cell_type": "markdown",
      "metadata": {
        "id": "Zx9y2u6bUqNc"
      },
      "source": [
        "Продувка, используемая для устранения химической неоднородности, охлаждает сплав. Этот признак будет использован для обучения моделей.  \n",
        "Рассмотрим распределение объемов продувки газом"
      ]
    },
    {
      "cell_type": "code",
      "execution_count": 52,
      "metadata": {
        "colab": {
          "base_uri": "https://localhost:8080/",
          "height": 316
        },
        "id": "s-3WP0VYUqNd",
        "outputId": "c71045dd-f325-4187-97a0-180688ebadb5"
      },
      "outputs": [
        {
          "data": {
            "text/html": [
              "<div>\n",
              "<style scoped>\n",
              "    .dataframe tbody tr th:only-of-type {\n",
              "        vertical-align: middle;\n",
              "    }\n",
              "\n",
              "    .dataframe tbody tr th {\n",
              "        vertical-align: top;\n",
              "    }\n",
              "\n",
              "    .dataframe thead th {\n",
              "        text-align: right;\n",
              "    }\n",
              "</style>\n",
              "<table border=\"1\" class=\"dataframe\">\n",
              "  <thead>\n",
              "    <tr style=\"text-align: right;\">\n",
              "      <th></th>\n",
              "      <th>mean</th>\n",
              "      <th>std</th>\n",
              "      <th>min</th>\n",
              "      <th>25%</th>\n",
              "      <th>50%</th>\n",
              "      <th>75%</th>\n",
              "      <th>max</th>\n",
              "    </tr>\n",
              "  </thead>\n",
              "  <tbody>\n",
              "    <tr>\n",
              "      <th>Газ 1</th>\n",
              "      <td>11.0</td>\n",
              "      <td>6.22</td>\n",
              "      <td>0.01</td>\n",
              "      <td>7.04</td>\n",
              "      <td>9.84</td>\n",
              "      <td>13.77</td>\n",
              "      <td>78.0</td>\n",
              "    </tr>\n",
              "  </tbody>\n",
              "</table>\n",
              "</div>"
            ],
            "text/plain": [
              "       mean   std   min   25%   50%    75%   max\n",
              "Газ 1  11.0  6.22  0.01  7.04  9.84  13.77  78.0"
            ]
          },
          "execution_count": 52,
          "metadata": {},
          "output_type": "execute_result"
        },
        {
          "data": {
            "image/png": "[encoded data removed]",
            "text/plain": [
              "<Figure size 432x288 with 1 Axes>"
            ]
          },
          "metadata": {
            "needs_background": "light"
          },
          "output_type": "display_data"
        }
      ],
      "source": [
        "df_gas.hist('Газ 1', bins=np.arange(0, 90, 5))\n",
        "df_gas.describe().round(2).T.iloc[1:, 1:]"
      ]
    },
    {
      "cell_type": "markdown",
      "metadata": {
        "id": "6sKKlbtVUqNe"
      },
      "source": [
        "Имеются выбросы. Рассмотрим, что они означают. По таблице замеров температуры, найдем время продувки. Будем считать что продувка осуществляется с момента первого и до момента последнего измерения температуры."
      ]
    },
    {
      "cell_type": "code",
      "execution_count": 53,
      "metadata": {
        "colab": {
          "base_uri": "https://localhost:8080/",
          "height": 206
        },
        "id": "U84NnzTgUqNf",
        "outputId": "02968566-ae2b-4ff2-d25c-f4bd8c68df3f"
      },
      "outputs": [
        {
          "data": {
            "text/html": [
              "<div>\n",
              "<style scoped>\n",
              "    .dataframe tbody tr th:only-of-type {\n",
              "        vertical-align: middle;\n",
              "    }\n",
              "\n",
              "    .dataframe tbody tr th {\n",
              "        vertical-align: top;\n",
              "    }\n",
              "\n",
              "    .dataframe thead th {\n",
              "        text-align: right;\n",
              "    }\n",
              "</style>\n",
              "<table border=\"1\" class=\"dataframe\">\n",
              "  <thead>\n",
              "    <tr style=\"text-align: right;\">\n",
              "      <th></th>\n",
              "      <th>key</th>\n",
              "      <th>Газ 1</th>\n",
              "    </tr>\n",
              "  </thead>\n",
              "  <tbody>\n",
              "    <tr>\n",
              "      <th>116</th>\n",
              "      <td>117</td>\n",
              "      <td>50.581035</td>\n",
              "    </tr>\n",
              "    <tr>\n",
              "      <th>277</th>\n",
              "      <td>280</td>\n",
              "      <td>60.935689</td>\n",
              "    </tr>\n",
              "    <tr>\n",
              "      <th>319</th>\n",
              "      <td>322</td>\n",
              "      <td>77.995040</td>\n",
              "    </tr>\n",
              "    <tr>\n",
              "      <th>2107</th>\n",
              "      <td>2110</td>\n",
              "      <td>52.142373</td>\n",
              "    </tr>\n",
              "    <tr>\n",
              "      <th>2567</th>\n",
              "      <td>2570</td>\n",
              "      <td>51.380229</td>\n",
              "    </tr>\n",
              "  </tbody>\n",
              "</table>\n",
              "</div>"
            ],
            "text/plain": [
              "       key      Газ 1\n",
              "116    117  50.581035\n",
              "277    280  60.935689\n",
              "319    322  77.995040\n",
              "2107  2110  52.142373\n",
              "2567  2570  51.380229"
            ]
          },
          "execution_count": 53,
          "metadata": {},
          "output_type": "execute_result"
        }
      ],
      "source": [
        "df_gas[df_gas['Газ 1'] > 50]"
      ]
    },
    {
      "cell_type": "code",
      "execution_count": 54,
      "metadata": {
        "colab": {
          "base_uri": "https://localhost:8080/"
        },
        "id": "4atUjnFEUqNg",
        "outputId": "c4703f15-aaaf-4c95-be06-da4dd056fb7a"
      },
      "outputs": [
        {
          "data": {
            "text/plain": [
              "53.06666666666667"
            ]
          },
          "execution_count": 54,
          "metadata": {},
          "output_type": "execute_result"
        }
      ],
      "source": [
        "(\n",
        "    df_temp[df_temp['key'] == 117]['Время замера'].iloc[-1]\n",
        "    - df_temp[df_temp['key'] == 117]['Время замера'].iloc[0]\n",
        ").seconds/60\n"
      ]
    },
    {
      "cell_type": "code",
      "execution_count": 55,
      "metadata": {
        "colab": {
          "base_uri": "https://localhost:8080/"
        },
        "id": "lEINlp2CUqNh",
        "outputId": "66db4219-a601-4c02-db3e-9382fc4a7efd"
      },
      "outputs": [
        {
          "data": {
            "text/plain": [
              "47.78333333333333"
            ]
          },
          "execution_count": 55,
          "metadata": {},
          "output_type": "execute_result"
        }
      ],
      "source": [
        "(\n",
        "    df_temp[df_temp['key'] == 280]['Время замера'].iloc[-1]\n",
        "    - df_temp[df_temp['key'] == 280]['Время замера'].iloc[0]\n",
        ").seconds/60\n"
      ]
    },
    {
      "cell_type": "code",
      "execution_count": 56,
      "metadata": {
        "colab": {
          "base_uri": "https://localhost:8080/"
        },
        "id": "wwr2m0MNUqNh",
        "outputId": "060a566b-a396-40d7-813f-d3c79d150c10"
      },
      "outputs": [
        {
          "data": {
            "text/plain": [
              "112.08333333333333"
            ]
          },
          "execution_count": 56,
          "metadata": {},
          "output_type": "execute_result"
        }
      ],
      "source": [
        "(\n",
        "    df_temp[df_temp['key'] == 322]['Время замера'].iloc[-1]\n",
        "    - df_temp[df_temp['key'] == 322]['Время замера'].iloc[0]\n",
        ").seconds/60\n"
      ]
    },
    {
      "cell_type": "code",
      "execution_count": 57,
      "metadata": {
        "colab": {
          "base_uri": "https://localhost:8080/"
        },
        "id": "-sY8N_sFUqNj",
        "outputId": "cc51dfe1-ef26-47d3-e096-008b8c2affee"
      },
      "outputs": [
        {
          "data": {
            "text/plain": [
              "14.35"
            ]
          },
          "execution_count": 57,
          "metadata": {},
          "output_type": "execute_result"
        }
      ],
      "source": [
        "(\n",
        "    df_temp[df_temp['key'] == 1]['Время замера'].iloc[-1]\n",
        "    - df_temp[df_temp['key'] == 1]['Время замера'].iloc[0]\n",
        ").seconds/60\n"
      ]
    },
    {
      "cell_type": "markdown",
      "metadata": {
        "id": "RODi3uEjUqNk"
      },
      "source": [
        "Время продувки на некоторых партиях больше, чем в первой партии. Рассмотрим процесс легирования в данных партиях. "
      ]
    },
    {
      "cell_type": "code",
      "execution_count": 58,
      "metadata": {
        "colab": {
          "base_uri": "https://localhost:8080/"
        },
        "id": "qR-aMDJ4UqNl",
        "outputId": "5864e440-2f84-4037-aa84-539e865229b4"
      },
      "outputs": [
        {
          "data": {
            "text/plain": [
              "0       614.059998\n",
              "1       680.052315\n",
              "2       638.160157\n",
              "3       688.063515\n",
              "4       687.352796\n",
              "96      281.000000\n",
              "98      237.000000\n",
              "251    1013.410723\n",
              "292    3339.228550\n",
              "359    1240.375992\n",
              "dtype: float64"
            ]
          },
          "execution_count": 58,
          "metadata": {},
          "output_type": "execute_result"
        }
      ],
      "source": [
        "df_doping[df_doping['key'].isin([\n",
        "    1, 2, 3, 4, 5, 115, 400,  # выборочные партии\n",
        "    117, 280, 322\n",
        "])].sum(axis=1)\n"
      ]
    },
    {
      "cell_type": "markdown",
      "metadata": {
        "id": "3u3EMdRSUqNm"
      },
      "source": [
        "Как мы можем наблюдать, в данных партиях было загружено намного больше легирующих компонентов. Следовательно, объем продувки будет тоже выше."
      ]
    },
    {
      "cell_type": "markdown",
      "metadata": {
        "id": "xqxKZbdTUqNn"
      },
      "source": [
        "#### Вывод\n",
        "Произведен анализ таблицы продувки инертным газом"
      ]
    },
    {
      "cell_type": "markdown",
      "metadata": {
        "id": "_QO2YG2UUqN4"
      },
      "source": [
        "### Объединение таблиц"
      ]
    },
    {
      "cell_type": "markdown",
      "metadata": {
        "id": "h_GM81dtUqN5"
      },
      "source": [
        "Объединим таблицы, полученные в ходе обработки и замены данных"
      ]
    },
    {
      "cell_type": "code",
      "execution_count": 59,
      "metadata": {
        "colab": {
          "base_uri": "https://localhost:8080/",
          "height": 490
        },
        "id": "yOeETp5EUqN5",
        "outputId": "2f8450b5-bfe7-4022-9f80-87c66e5331d5"
      },
      "outputs": [
        {
          "name": "stdout",
          "output_type": "stream",
          "text": [
            "Кол-во пропусков: 0\n",
            "(2207, 20)\n"
          ]
        },
        {
          "data": {
            "text/html": [
              "<div>\n",
              "<style scoped>\n",
              "    .dataframe tbody tr th:only-of-type {\n",
              "        vertical-align: middle;\n",
              "    }\n",
              "\n",
              "    .dataframe tbody tr th {\n",
              "        vertical-align: top;\n",
              "    }\n",
              "\n",
              "    .dataframe thead th {\n",
              "        text-align: right;\n",
              "    }\n",
              "</style>\n",
              "<table border=\"1\" class=\"dataframe\">\n",
              "  <thead>\n",
              "    <tr style=\"text-align: right;\">\n",
              "      <th></th>\n",
              "      <th>Начальная температура</th>\n",
              "      <th>Конечная температура</th>\n",
              "      <th>Время замеров</th>\n",
              "      <th>Активная мощность</th>\n",
              "      <th>Реактивная мощность</th>\n",
              "      <th>Мощность</th>\n",
              "      <th>Время нагрева</th>\n",
              "      <th>Колво нагревов</th>\n",
              "      <th>Газ 1</th>\n",
              "      <th>Bulk 1</th>\n",
              "      <th>Bulk 3</th>\n",
              "      <th>Bulk 4</th>\n",
              "      <th>Bulk 6</th>\n",
              "      <th>Bulk 10</th>\n",
              "      <th>Bulk 11</th>\n",
              "      <th>Bulk 12</th>\n",
              "      <th>Bulk 14</th>\n",
              "      <th>Bulk 15</th>\n",
              "      <th>Wire 1</th>\n",
              "      <th>Wire 2</th>\n",
              "    </tr>\n",
              "    <tr>\n",
              "      <th>key</th>\n",
              "      <th></th>\n",
              "      <th></th>\n",
              "      <th></th>\n",
              "      <th></th>\n",
              "      <th></th>\n",
              "      <th></th>\n",
              "      <th></th>\n",
              "      <th></th>\n",
              "      <th></th>\n",
              "      <th></th>\n",
              "      <th></th>\n",
              "      <th></th>\n",
              "      <th></th>\n",
              "      <th></th>\n",
              "      <th></th>\n",
              "      <th></th>\n",
              "      <th></th>\n",
              "      <th></th>\n",
              "      <th></th>\n",
              "      <th></th>\n",
              "    </tr>\n",
              "  </thead>\n",
              "  <tbody>\n",
              "    <tr>\n",
              "      <th>1</th>\n",
              "      <td>1571</td>\n",
              "      <td>1613</td>\n",
              "      <td>861</td>\n",
              "      <td>4.878147</td>\n",
              "      <td>3.183241</td>\n",
              "      <td>1.538898</td>\n",
              "      <td>1098</td>\n",
              "      <td>5</td>\n",
              "      <td>29.749986</td>\n",
              "      <td>0.0</td>\n",
              "      <td>0.0</td>\n",
              "      <td>43.0</td>\n",
              "      <td>0.0</td>\n",
              "      <td>0.0</td>\n",
              "      <td>0.0</td>\n",
              "      <td>206.0</td>\n",
              "      <td>150.0</td>\n",
              "      <td>154.0</td>\n",
              "      <td>60.059998</td>\n",
              "      <td>0.000000</td>\n",
              "    </tr>\n",
              "    <tr>\n",
              "      <th>2</th>\n",
              "      <td>1581</td>\n",
              "      <td>1602</td>\n",
              "      <td>1305</td>\n",
              "      <td>3.052598</td>\n",
              "      <td>1.998112</td>\n",
              "      <td>1.551834</td>\n",
              "      <td>811</td>\n",
              "      <td>4</td>\n",
              "      <td>12.555561</td>\n",
              "      <td>0.0</td>\n",
              "      <td>0.0</td>\n",
              "      <td>73.0</td>\n",
              "      <td>0.0</td>\n",
              "      <td>0.0</td>\n",
              "      <td>0.0</td>\n",
              "      <td>206.0</td>\n",
              "      <td>149.0</td>\n",
              "      <td>154.0</td>\n",
              "      <td>96.052315</td>\n",
              "      <td>0.000000</td>\n",
              "    </tr>\n",
              "    <tr>\n",
              "      <th>3</th>\n",
              "      <td>1596</td>\n",
              "      <td>1599</td>\n",
              "      <td>1300</td>\n",
              "      <td>2.525882</td>\n",
              "      <td>1.599076</td>\n",
              "      <td>1.583120</td>\n",
              "      <td>655</td>\n",
              "      <td>5</td>\n",
              "      <td>28.554793</td>\n",
              "      <td>0.0</td>\n",
              "      <td>0.0</td>\n",
              "      <td>34.0</td>\n",
              "      <td>0.0</td>\n",
              "      <td>0.0</td>\n",
              "      <td>0.0</td>\n",
              "      <td>205.0</td>\n",
              "      <td>152.0</td>\n",
              "      <td>153.0</td>\n",
              "      <td>91.160157</td>\n",
              "      <td>0.000000</td>\n",
              "    </tr>\n",
              "    <tr>\n",
              "      <th>4</th>\n",
              "      <td>1601</td>\n",
              "      <td>1625</td>\n",
              "      <td>388</td>\n",
              "      <td>3.209250</td>\n",
              "      <td>2.060298</td>\n",
              "      <td>1.563487</td>\n",
              "      <td>741</td>\n",
              "      <td>4</td>\n",
              "      <td>18.841219</td>\n",
              "      <td>0.0</td>\n",
              "      <td>0.0</td>\n",
              "      <td>81.0</td>\n",
              "      <td>0.0</td>\n",
              "      <td>0.0</td>\n",
              "      <td>0.0</td>\n",
              "      <td>207.0</td>\n",
              "      <td>153.0</td>\n",
              "      <td>154.0</td>\n",
              "      <td>89.063515</td>\n",
              "      <td>0.000000</td>\n",
              "    </tr>\n",
              "    <tr>\n",
              "      <th>5</th>\n",
              "      <td>1576</td>\n",
              "      <td>1602</td>\n",
              "      <td>762</td>\n",
              "      <td>3.347173</td>\n",
              "      <td>2.252643</td>\n",
              "      <td>1.480428</td>\n",
              "      <td>869</td>\n",
              "      <td>4</td>\n",
              "      <td>5.413692</td>\n",
              "      <td>0.0</td>\n",
              "      <td>0.0</td>\n",
              "      <td>78.0</td>\n",
              "      <td>0.0</td>\n",
              "      <td>0.0</td>\n",
              "      <td>0.0</td>\n",
              "      <td>203.0</td>\n",
              "      <td>151.0</td>\n",
              "      <td>152.0</td>\n",
              "      <td>89.238236</td>\n",
              "      <td>9.114560</td>\n",
              "    </tr>\n",
              "    <tr>\n",
              "      <th>6</th>\n",
              "      <td>1543</td>\n",
              "      <td>1596</td>\n",
              "      <td>1385</td>\n",
              "      <td>3.955108</td>\n",
              "      <td>2.689175</td>\n",
              "      <td>1.501854</td>\n",
              "      <td>952</td>\n",
              "      <td>4</td>\n",
              "      <td>11.273392</td>\n",
              "      <td>0.0</td>\n",
              "      <td>0.0</td>\n",
              "      <td>117.0</td>\n",
              "      <td>0.0</td>\n",
              "      <td>0.0</td>\n",
              "      <td>0.0</td>\n",
              "      <td>204.0</td>\n",
              "      <td>201.0</td>\n",
              "      <td>154.0</td>\n",
              "      <td>99.109917</td>\n",
              "      <td>9.114560</td>\n",
              "    </tr>\n",
              "    <tr>\n",
              "      <th>7</th>\n",
              "      <td>1586</td>\n",
              "      <td>1599</td>\n",
              "      <td>1374</td>\n",
              "      <td>2.547375</td>\n",
              "      <td>1.561295</td>\n",
              "      <td>1.628748</td>\n",
              "      <td>673</td>\n",
              "      <td>4</td>\n",
              "      <td>9.836267</td>\n",
              "      <td>0.0</td>\n",
              "      <td>0.0</td>\n",
              "      <td>117.0</td>\n",
              "      <td>0.0</td>\n",
              "      <td>0.0</td>\n",
              "      <td>0.0</td>\n",
              "      <td>204.0</td>\n",
              "      <td>152.0</td>\n",
              "      <td>154.0</td>\n",
              "      <td>98.061600</td>\n",
              "      <td>0.000000</td>\n",
              "    </tr>\n",
              "    <tr>\n",
              "      <th>8</th>\n",
              "      <td>1577</td>\n",
              "      <td>1598</td>\n",
              "      <td>934</td>\n",
              "      <td>3.762755</td>\n",
              "      <td>2.680698</td>\n",
              "      <td>1.486391</td>\n",
              "      <td>913</td>\n",
              "      <td>4</td>\n",
              "      <td>15.171553</td>\n",
              "      <td>0.0</td>\n",
              "      <td>0.0</td>\n",
              "      <td>99.0</td>\n",
              "      <td>0.0</td>\n",
              "      <td>0.0</td>\n",
              "      <td>0.0</td>\n",
              "      <td>410.0</td>\n",
              "      <td>252.0</td>\n",
              "      <td>153.0</td>\n",
              "      <td>155.282394</td>\n",
              "      <td>0.000000</td>\n",
              "    </tr>\n",
              "    <tr>\n",
              "      <th>9</th>\n",
              "      <td>1587</td>\n",
              "      <td>1592</td>\n",
              "      <td>1453</td>\n",
              "      <td>2.081951</td>\n",
              "      <td>1.478671</td>\n",
              "      <td>1.421598</td>\n",
              "      <td>625</td>\n",
              "      <td>5</td>\n",
              "      <td>8.216623</td>\n",
              "      <td>0.0</td>\n",
              "      <td>0.0</td>\n",
              "      <td>117.0</td>\n",
              "      <td>0.0</td>\n",
              "      <td>0.0</td>\n",
              "      <td>0.0</td>\n",
              "      <td>107.0</td>\n",
              "      <td>99.0</td>\n",
              "      <td>203.0</td>\n",
              "      <td>113.393279</td>\n",
              "      <td>9.143681</td>\n",
              "    </tr>\n",
              "    <tr>\n",
              "      <th>11</th>\n",
              "      <td>1616</td>\n",
              "      <td>1597</td>\n",
              "      <td>1985</td>\n",
              "      <td>2.297512</td>\n",
              "      <td>1.708260</td>\n",
              "      <td>1.337661</td>\n",
              "      <td>627</td>\n",
              "      <td>5</td>\n",
              "      <td>3.639128</td>\n",
              "      <td>0.0</td>\n",
              "      <td>0.0</td>\n",
              "      <td>69.0</td>\n",
              "      <td>0.0</td>\n",
              "      <td>0.0</td>\n",
              "      <td>0.0</td>\n",
              "      <td>207.0</td>\n",
              "      <td>101.0</td>\n",
              "      <td>202.0</td>\n",
              "      <td>99.197281</td>\n",
              "      <td>0.000000</td>\n",
              "    </tr>\n",
              "  </tbody>\n",
              "</table>\n",
              "</div>"
            ],
            "text/plain": [
              "     Начальная температура  Конечная температура  Время замеров  \\\n",
              "key                                                               \n",
              "1                     1571                  1613            861   \n",
              "2                     1581                  1602           1305   \n",
              "3                     1596                  1599           1300   \n",
              "4                     1601                  1625            388   \n",
              "5                     1576                  1602            762   \n",
              "6                     1543                  1596           1385   \n",
              "7                     1586                  1599           1374   \n",
              "8                     1577                  1598            934   \n",
              "9                     1587                  1592           1453   \n",
              "11                    1616                  1597           1985   \n",
              "\n",
              "     Активная мощность  Реактивная мощность  Мощность  Время нагрева  \\\n",
              "key                                                                    \n",
              "1             4.878147             3.183241  1.538898           1098   \n",
              "2             3.052598             1.998112  1.551834            811   \n",
              "3             2.525882             1.599076  1.583120            655   \n",
              "4             3.209250             2.060298  1.563487            741   \n",
              "5             3.347173             2.252643  1.480428            869   \n",
              "6             3.955108             2.689175  1.501854            952   \n",
              "7             2.547375             1.561295  1.628748            673   \n",
              "8             3.762755             2.680698  1.486391            913   \n",
              "9             2.081951             1.478671  1.421598            625   \n",
              "11            2.297512             1.708260  1.337661            627   \n",
              "\n",
              "     Колво нагревов      Газ 1  Bulk 1  Bulk 3  Bulk 4  Bulk 6  Bulk 10  \\\n",
              "key                                                                       \n",
              "1                 5  29.749986     0.0     0.0    43.0     0.0      0.0   \n",
              "2                 4  12.555561     0.0     0.0    73.0     0.0      0.0   \n",
              "3                 5  28.554793     0.0     0.0    34.0     0.0      0.0   \n",
              "4                 4  18.841219     0.0     0.0    81.0     0.0      0.0   \n",
              "5                 4   5.413692     0.0     0.0    78.0     0.0      0.0   \n",
              "6                 4  11.273392     0.0     0.0   117.0     0.0      0.0   \n",
              "7                 4   9.836267     0.0     0.0   117.0     0.0      0.0   \n",
              "8                 4  15.171553     0.0     0.0    99.0     0.0      0.0   \n",
              "9                 5   8.216623     0.0     0.0   117.0     0.0      0.0   \n",
              "11                5   3.639128     0.0     0.0    69.0     0.0      0.0   \n",
              "\n",
              "     Bulk 11  Bulk 12  Bulk 14  Bulk 15      Wire 1    Wire 2  \n",
              "key                                                            \n",
              "1        0.0    206.0    150.0    154.0   60.059998  0.000000  \n",
              "2        0.0    206.0    149.0    154.0   96.052315  0.000000  \n",
              "3        0.0    205.0    152.0    153.0   91.160157  0.000000  \n",
              "4        0.0    207.0    153.0    154.0   89.063515  0.000000  \n",
              "5        0.0    203.0    151.0    152.0   89.238236  9.114560  \n",
              "6        0.0    204.0    201.0    154.0   99.109917  9.114560  \n",
              "7        0.0    204.0    152.0    154.0   98.061600  0.000000  \n",
              "8        0.0    410.0    252.0    153.0  155.282394  0.000000  \n",
              "9        0.0    107.0     99.0    203.0  113.393279  9.143681  \n",
              "11       0.0    207.0    101.0    202.0   99.197281  0.000000  "
            ]
          },
          "execution_count": 59,
          "metadata": {},
          "output_type": "execute_result"
        }
      ],
      "source": [
        "df_final = (\n",
        "    df_temp2.merge(df_arc2, on='key', how='left')  # температура + электрод\n",
        "    .merge(df_gas, on='key', how='left')  # + газ\n",
        "    .merge(df_doping, on='key', how='left')  # + легирование\n",
        ")\n",
        "\n",
        "# переместим столбец `key` в индексы\n",
        "df_final.set_index('key', inplace=True)\n",
        "\n",
        "# удалим полученные пропуски\n",
        "df_final.dropna(inplace=True)\n",
        "\n",
        "print('Кол-во пропусков:', df_final.isna().sum().sum())\n",
        "\n",
        "print(df_final.shape)\n",
        "df_final.head(10)\n"
      ]
    },
    {
      "cell_type": "code",
      "execution_count": 60,
      "metadata": {
        "colab": {
          "base_uri": "https://localhost:8080/",
          "height": 677
        },
        "id": "M1QGmfdfUqN-",
        "outputId": "9914ee0e-f622-478b-a59d-6bf28a969343"
      },
      "outputs": [
        {
          "data": {
            "text/html": [
              "<div>\n",
              "<style scoped>\n",
              "    .dataframe tbody tr th:only-of-type {\n",
              "        vertical-align: middle;\n",
              "    }\n",
              "\n",
              "    .dataframe tbody tr th {\n",
              "        vertical-align: top;\n",
              "    }\n",
              "\n",
              "    .dataframe thead th {\n",
              "        text-align: right;\n",
              "    }\n",
              "</style>\n",
              "<table border=\"1\" class=\"dataframe\">\n",
              "  <thead>\n",
              "    <tr style=\"text-align: right;\">\n",
              "      <th></th>\n",
              "      <th>mean</th>\n",
              "      <th>std</th>\n",
              "      <th>min</th>\n",
              "      <th>25%</th>\n",
              "      <th>50%</th>\n",
              "      <th>75%</th>\n",
              "      <th>max</th>\n",
              "    </tr>\n",
              "  </thead>\n",
              "  <tbody>\n",
              "    <tr>\n",
              "      <th>Начальная температура</th>\n",
              "      <td>1586.83</td>\n",
              "      <td>28.65</td>\n",
              "      <td>1191.00</td>\n",
              "      <td>1571.00</td>\n",
              "      <td>1587.00</td>\n",
              "      <td>1603.00</td>\n",
              "      <td>1660.00</td>\n",
              "    </tr>\n",
              "    <tr>\n",
              "      <th>Конечная температура</th>\n",
              "      <td>1593.41</td>\n",
              "      <td>11.16</td>\n",
              "      <td>1541.00</td>\n",
              "      <td>1587.00</td>\n",
              "      <td>1593.00</td>\n",
              "      <td>1598.00</td>\n",
              "      <td>1653.00</td>\n",
              "    </tr>\n",
              "    <tr>\n",
              "      <th>Время замеров</th>\n",
              "      <td>1900.63</td>\n",
              "      <td>1342.56</td>\n",
              "      <td>234.00</td>\n",
              "      <td>1212.00</td>\n",
              "      <td>1634.00</td>\n",
              "      <td>2289.50</td>\n",
              "      <td>23537.00</td>\n",
              "    </tr>\n",
              "    <tr>\n",
              "      <th>Активная мощность</th>\n",
              "      <td>3.14</td>\n",
              "      <td>1.43</td>\n",
              "      <td>0.19</td>\n",
              "      <td>2.16</td>\n",
              "      <td>3.02</td>\n",
              "      <td>3.91</td>\n",
              "      <td>17.50</td>\n",
              "    </tr>\n",
              "    <tr>\n",
              "      <th>Реактивная мощность</th>\n",
              "      <td>2.35</td>\n",
              "      <td>1.09</td>\n",
              "      <td>0.16</td>\n",
              "      <td>1.62</td>\n",
              "      <td>2.23</td>\n",
              "      <td>2.91</td>\n",
              "      <td>12.59</td>\n",
              "    </tr>\n",
              "    <tr>\n",
              "      <th>Мощность</th>\n",
              "      <td>1.36</td>\n",
              "      <td>0.13</td>\n",
              "      <td>0.69</td>\n",
              "      <td>1.29</td>\n",
              "      <td>1.37</td>\n",
              "      <td>1.44</td>\n",
              "      <td>1.78</td>\n",
              "    </tr>\n",
              "    <tr>\n",
              "      <th>Время нагрева</th>\n",
              "      <td>805.65</td>\n",
              "      <td>343.37</td>\n",
              "      <td>57.00</td>\n",
              "      <td>577.00</td>\n",
              "      <td>776.00</td>\n",
              "      <td>992.00</td>\n",
              "      <td>4189.00</td>\n",
              "    </tr>\n",
              "    <tr>\n",
              "      <th>Колво нагревов</th>\n",
              "      <td>4.68</td>\n",
              "      <td>1.62</td>\n",
              "      <td>1.00</td>\n",
              "      <td>4.00</td>\n",
              "      <td>5.00</td>\n",
              "      <td>6.00</td>\n",
              "      <td>16.00</td>\n",
              "    </tr>\n",
              "    <tr>\n",
              "      <th>Газ 1</th>\n",
              "      <td>11.35</td>\n",
              "      <td>6.39</td>\n",
              "      <td>0.01</td>\n",
              "      <td>7.29</td>\n",
              "      <td>10.09</td>\n",
              "      <td>14.17</td>\n",
              "      <td>78.00</td>\n",
              "    </tr>\n",
              "    <tr>\n",
              "      <th>Bulk 1</th>\n",
              "      <td>3.52</td>\n",
              "      <td>12.59</td>\n",
              "      <td>0.00</td>\n",
              "      <td>0.00</td>\n",
              "      <td>0.00</td>\n",
              "      <td>0.00</td>\n",
              "      <td>185.00</td>\n",
              "    </tr>\n",
              "    <tr>\n",
              "      <th>Bulk 3</th>\n",
              "      <td>47.44</td>\n",
              "      <td>75.21</td>\n",
              "      <td>0.00</td>\n",
              "      <td>0.00</td>\n",
              "      <td>0.00</td>\n",
              "      <td>80.00</td>\n",
              "      <td>454.00</td>\n",
              "    </tr>\n",
              "    <tr>\n",
              "      <th>Bulk 4</th>\n",
              "      <td>37.45</td>\n",
              "      <td>58.79</td>\n",
              "      <td>0.00</td>\n",
              "      <td>0.00</td>\n",
              "      <td>0.00</td>\n",
              "      <td>77.00</td>\n",
              "      <td>281.00</td>\n",
              "    </tr>\n",
              "    <tr>\n",
              "      <th>Bulk 6</th>\n",
              "      <td>21.28</td>\n",
              "      <td>54.31</td>\n",
              "      <td>0.00</td>\n",
              "      <td>0.00</td>\n",
              "      <td>0.00</td>\n",
              "      <td>0.00</td>\n",
              "      <td>503.00</td>\n",
              "    </tr>\n",
              "    <tr>\n",
              "      <th>Bulk 10</th>\n",
              "      <td>5.05</td>\n",
              "      <td>20.82</td>\n",
              "      <td>0.00</td>\n",
              "      <td>0.00</td>\n",
              "      <td>0.00</td>\n",
              "      <td>0.00</td>\n",
              "      <td>159.00</td>\n",
              "    </tr>\n",
              "    <tr>\n",
              "      <th>Bulk 11</th>\n",
              "      <td>4.13</td>\n",
              "      <td>22.05</td>\n",
              "      <td>0.00</td>\n",
              "      <td>0.00</td>\n",
              "      <td>0.00</td>\n",
              "      <td>0.00</td>\n",
              "      <td>313.00</td>\n",
              "    </tr>\n",
              "    <tr>\n",
              "      <th>Bulk 12</th>\n",
              "      <td>209.20</td>\n",
              "      <td>158.01</td>\n",
              "      <td>0.00</td>\n",
              "      <td>105.00</td>\n",
              "      <td>206.00</td>\n",
              "      <td>289.50</td>\n",
              "      <td>1849.00</td>\n",
              "    </tr>\n",
              "    <tr>\n",
              "      <th>Bulk 14</th>\n",
              "      <td>153.77</td>\n",
              "      <td>81.84</td>\n",
              "      <td>0.00</td>\n",
              "      <td>105.00</td>\n",
              "      <td>149.00</td>\n",
              "      <td>204.00</td>\n",
              "      <td>636.00</td>\n",
              "    </tr>\n",
              "    <tr>\n",
              "      <th>Bulk 15</th>\n",
              "      <td>119.66</td>\n",
              "      <td>84.78</td>\n",
              "      <td>0.00</td>\n",
              "      <td>0.00</td>\n",
              "      <td>106.00</td>\n",
              "      <td>204.00</td>\n",
              "      <td>405.00</td>\n",
              "    </tr>\n",
              "    <tr>\n",
              "      <th>Wire 1</th>\n",
              "      <td>102.50</td>\n",
              "      <td>43.66</td>\n",
              "      <td>0.00</td>\n",
              "      <td>73.10</td>\n",
              "      <td>101.12</td>\n",
              "      <td>128.21</td>\n",
              "      <td>330.31</td>\n",
              "    </tr>\n",
              "    <tr>\n",
              "      <th>Wire 2</th>\n",
              "      <td>17.55</td>\n",
              "      <td>33.67</td>\n",
              "      <td>0.00</td>\n",
              "      <td>0.00</td>\n",
              "      <td>0.00</td>\n",
              "      <td>23.02</td>\n",
              "      <td>282.78</td>\n",
              "    </tr>\n",
              "  </tbody>\n",
              "</table>\n",
              "</div>"
            ],
            "text/plain": [
              "                          mean      std      min      25%      50%      75%  \\\n",
              "Начальная температура  1586.83    28.65  1191.00  1571.00  1587.00  1603.00   \n",
              "Конечная температура   1593.41    11.16  1541.00  1587.00  1593.00  1598.00   \n",
              "Время замеров          1900.63  1342.56   234.00  1212.00  1634.00  2289.50   \n",
              "Активная мощность         3.14     1.43     0.19     2.16     3.02     3.91   \n",
              "Реактивная мощность       2.35     1.09     0.16     1.62     2.23     2.91   \n",
              "Мощность                  1.36     0.13     0.69     1.29     1.37     1.44   \n",
              "Время нагрева           805.65   343.37    57.00   577.00   776.00   992.00   \n",
              "Колво нагревов            4.68     1.62     1.00     4.00     5.00     6.00   \n",
              "Газ 1                    11.35     6.39     0.01     7.29    10.09    14.17   \n",
              "Bulk 1                    3.52    12.59     0.00     0.00     0.00     0.00   \n",
              "Bulk 3                   47.44    75.21     0.00     0.00     0.00    80.00   \n",
              "Bulk 4                   37.45    58.79     0.00     0.00     0.00    77.00   \n",
              "Bulk 6                   21.28    54.31     0.00     0.00     0.00     0.00   \n",
              "Bulk 10                   5.05    20.82     0.00     0.00     0.00     0.00   \n",
              "Bulk 11                   4.13    22.05     0.00     0.00     0.00     0.00   \n",
              "Bulk 12                 209.20   158.01     0.00   105.00   206.00   289.50   \n",
              "Bulk 14                 153.77    81.84     0.00   105.00   149.00   204.00   \n",
              "Bulk 15                 119.66    84.78     0.00     0.00   106.00   204.00   \n",
              "Wire 1                  102.50    43.66     0.00    73.10   101.12   128.21   \n",
              "Wire 2                   17.55    33.67     0.00     0.00     0.00    23.02   \n",
              "\n",
              "                            max  \n",
              "Начальная температура   1660.00  \n",
              "Конечная температура    1653.00  \n",
              "Время замеров          23537.00  \n",
              "Активная мощность         17.50  \n",
              "Реактивная мощность       12.59  \n",
              "Мощность                   1.78  \n",
              "Время нагрева           4189.00  \n",
              "Колво нагревов            16.00  \n",
              "Газ 1                     78.00  \n",
              "Bulk 1                   185.00  \n",
              "Bulk 3                   454.00  \n",
              "Bulk 4                   281.00  \n",
              "Bulk 6                   503.00  \n",
              "Bulk 10                  159.00  \n",
              "Bulk 11                  313.00  \n",
              "Bulk 12                 1849.00  \n",
              "Bulk 14                  636.00  \n",
              "Bulk 15                  405.00  \n",
              "Wire 1                   330.31  \n",
              "Wire 2                   282.78  "
            ]
          },
          "execution_count": 60,
          "metadata": {},
          "output_type": "execute_result"
        }
      ],
      "source": [
        "df_final.describe().round(2).T.iloc[:,1:]"
      ]
    },
    {
      "cell_type": "markdown",
      "metadata": {
        "id": "rpJAEEIcUqN_"
      },
      "source": [
        "Перепроверим корреляцию признаков"
      ]
    },
    {
      "cell_type": "code",
      "execution_count": 61,
      "metadata": {
        "colab": {
          "base_uri": "https://localhost:8080/",
          "height": 710
        },
        "id": "skj9fhdPUqOA",
        "outputId": "99f32c42-b768-4e8d-b825-bd387580edcf"
      },
      "outputs": [
        {
          "data": {
            "image/png": "[encoded data removed]",
            "text/plain": [
              "<Figure size 864x720 with 2 Axes>"
            ]
          },
          "metadata": {},
          "output_type": "display_data"
        }
      ],
      "source": [
        "corr = df_final.corr().round(2)\n",
        "\n",
        "corr = corr[(abs(corr) >= 0.9) | (abs(corr) <= 0.1)]\n",
        "\n",
        "mask = np.zeros_like(corr)\n",
        "\n",
        "mask[np.triu_indices_from(mask)] = True\n",
        "\n",
        "with sns.axes_style(\"white\"):\n",
        "    f, ax = plt.subplots(figsize=(12, 10))\n",
        "    ax = sns.heatmap(corr, mask=mask, vmin=-1, vmax=1,\n",
        "                     square=True, annot=True, cmap='RdYlGn')\n"
      ]
    },
    {
      "cell_type": "markdown",
      "metadata": {
        "id": "DzocT-sM3M61"
      },
      "source": [
        "Сильная корреляция между активной, реактивной мощностями и временем нагрева. На данном этапе оставим их."
      ]
    },
    {
      "cell_type": "markdown",
      "metadata": {
        "id": "Bi7V1KV8UqOE"
      },
      "source": [
        "### ВЫВОД\n",
        "- данные проанализированы,\n",
        "- признаки отобраны и собраны в единую таблицу"
      ]
    },
    {
      "cell_type": "markdown",
      "metadata": {
        "id": "8XTAV-I5UqOF"
      },
      "source": [
        "## Подготовка признаков"
      ]
    },
    {
      "cell_type": "markdown",
      "metadata": {
        "id": "ipglGFmcUqOG"
      },
      "source": [
        "Разделим полученный датафрейм на таблицы признаков и целевого признака"
      ]
    },
    {
      "cell_type": "code",
      "execution_count": 62,
      "metadata": {
        "colab": {
          "base_uri": "https://localhost:8080/"
        },
        "id": "17HGafF4UqOG",
        "outputId": "e06e4cdf-fcb5-4bb5-f37c-ef8fcd460307"
      },
      "outputs": [
        {
          "name": "stdout",
          "output_type": "stream",
          "text": [
            "(1655, 19) (1655,)\n",
            "(552, 19) (552,)\n"
          ]
        }
      ],
      "source": [
        "y = df_final['Конечная температура']\n",
        "X = df_final.drop(columns=['Конечная температура'])\n",
        "\n",
        "X_train, X_test, y_train, y_test = train_test_split(\n",
        "    X, y,\n",
        "    test_size=0.25,\n",
        "    random_state=RANDOM_STATE)\n",
        "# проверка\n",
        "print(X_train.shape, y_train.shape)\n",
        "print(X_test.shape, y_test.shape)\n"
      ]
    },
    {
      "cell_type": "markdown",
      "metadata": {
        "id": "NC-_aX1RUqOH"
      },
      "source": [
        "Получим обучающие и тестовые выборки"
      ]
    },
    {
      "cell_type": "markdown",
      "metadata": {
        "id": "yKz8cNnWUqOP"
      },
      "source": [
        "### ВЫВОД\n",
        "- созданы выборки для обучения моделей"
      ]
    },
    {
      "cell_type": "markdown",
      "metadata": {
        "id": "0fo8jgPwUqOP"
      },
      "source": [
        "## Обучение моделей"
      ]
    },
    {
      "cell_type": "markdown",
      "metadata": {
        "id": "RHCM0RRhUqOQ"
      },
      "source": [
        "Обучим модели:\n",
        "- линейной регрессии,\n",
        "- случайного леса,\n",
        "- градиентного бустинга"
      ]
    },
    {
      "cell_type": "code",
      "execution_count": 63,
      "metadata": {
        "colab": {
          "base_uri": "https://localhost:8080/",
          "height": 143
        },
        "id": "Npwl_nvLa8hf",
        "outputId": "ae644d48-a9a0-4440-f6e1-21a451a27510"
      },
      "outputs": [
        {
          "data": {
            "text/html": [
              "<div>\n",
              "<style scoped>\n",
              "    .dataframe tbody tr th:only-of-type {\n",
              "        vertical-align: middle;\n",
              "    }\n",
              "\n",
              "    .dataframe tbody tr th {\n",
              "        vertical-align: top;\n",
              "    }\n",
              "\n",
              "    .dataframe thead th {\n",
              "        text-align: right;\n",
              "    }\n",
              "</style>\n",
              "<table border=\"1\" class=\"dataframe\">\n",
              "  <thead>\n",
              "    <tr style=\"text-align: right;\">\n",
              "      <th></th>\n",
              "      <th>кросс-валидация</th>\n",
              "    </tr>\n",
              "  </thead>\n",
              "  <tbody>\n",
              "    <tr>\n",
              "      <th>CatBoost</th>\n",
              "      <td>NaN</td>\n",
              "    </tr>\n",
              "    <tr>\n",
              "      <th>RandomForestRegressor</th>\n",
              "      <td>NaN</td>\n",
              "    </tr>\n",
              "    <tr>\n",
              "      <th>LinearRegression</th>\n",
              "      <td>NaN</td>\n",
              "    </tr>\n",
              "  </tbody>\n",
              "</table>\n",
              "</div>"
            ],
            "text/plain": [
              "                      кросс-валидация\n",
              "CatBoost                          NaN\n",
              "RandomForestRegressor             NaN\n",
              "LinearRegression                  NaN"
            ]
          },
          "execution_count": 63,
          "metadata": {},
          "output_type": "execute_result"
        }
      ],
      "source": [
        "df_score = pd.DataFrame(\n",
        "    columns=['кросс-валидация'],\n",
        "    index=['CatBoost', 'RandomForestRegressor', 'LinearRegression']\n",
        ")\n",
        "df_score\n"
      ]
    },
    {
      "cell_type": "markdown",
      "metadata": {
        "id": "J73hYckiUqOQ"
      },
      "source": [
        "### Модели"
      ]
    },
    {
      "cell_type": "markdown",
      "metadata": {
        "id": "n3w08rn5G5_W"
      },
      "source": [
        "#### CatBoost"
      ]
    },
    {
      "cell_type": "code",
      "execution_count": 64,
      "metadata": {
        "id": "YnkQp2QaFe8E"
      },
      "outputs": [],
      "source": [
        "model_cat = CatBoostRegressor(\n",
        "    random_state=RANDOM_STATE,\n",
        "    loss_function='MAE',\n",
        "    eval_metric='MAE',\n",
        "    verbose=False\n",
        ")"
      ]
    },
    {
      "cell_type": "code",
      "execution_count": 65,
      "metadata": {
        "id": "ZsRH3RhZKJMM"
      },
      "outputs": [],
      "source": [
        "model_cat = CatBoostRegressor(\n",
        "    verbose=False, random_state=RANDOM_STATE, loss_function='MAE', eval_metric='MAE')\n",
        "\n",
        "score_val_cat = -cross_val_score(\n",
        "    model_cat,\n",
        "    X_train, y_train,\n",
        "    cv=5,\n",
        "    scoring=SCORING\n",
        ").mean().round(3)\n",
        "\n",
        "df_score.iloc[0, 0] = score_val_cat\n"
      ]
    },
    {
      "cell_type": "markdown",
      "metadata": {
        "id": "n7dAjMNKUqOR"
      },
      "source": [
        "#### Случайный лес"
      ]
    },
    {
      "cell_type": "code",
      "execution_count": 66,
      "metadata": {
        "colab": {
          "base_uri": "https://localhost:8080/"
        },
        "id": "6Y_AugzJO-xj",
        "outputId": "5f675858-b2dc-4747-874a-c3f510902326"
      },
      "outputs": [
        {
          "name": "stdout",
          "output_type": "stream",
          "text": [
            "{'max_depth': 22, 'n_estimators': 600}\n",
            "5.903\n"
          ]
        }
      ],
      "source": [
        "# обьявление модели\n",
        "model_rf = RandomForestRegressor(n_jobs=-1, random_state=RANDOM_STATE)\n",
        "\n",
        "# сетка перебираемых параметров\n",
        "parametr = {\n",
        "    'max_depth'     :   np.arange(22, 25, 10),\n",
        "    'n_estimators'  :   np.arange(600,605, 10)\n",
        "}\n",
        "\n",
        "# перебор параметров на кросс-валидации\n",
        "grid_search = GridSearchCV(\n",
        "    model_rf,\n",
        "    parametr,\n",
        "    cv=5,\n",
        "    n_jobs=-1,\n",
        "    scoring=SCORING\n",
        ")\n",
        "\n",
        "grid_search.fit(X_train, y_train)\n",
        "\n",
        "\n",
        "print(grid_search.best_params_)\n",
        "print(-round(grid_search.best_score_, 3))\n",
        "\n",
        "df_score.iloc[1, 0] = -round(grid_search.best_score_, 3)\n"
      ]
    },
    {
      "cell_type": "code",
      "execution_count": 67,
      "metadata": {
        "id": "tznvjdWHQPQq"
      },
      "outputs": [],
      "source": [
        "model_rf = grid_search.best_estimator_"
      ]
    },
    {
      "cell_type": "markdown",
      "metadata": {
        "id": "X0ElBLQEUqOT"
      },
      "source": [
        "#### Линейная регрессия"
      ]
    },
    {
      "cell_type": "markdown",
      "metadata": {
        "id": "IHucG-cKUqOU"
      },
      "source": [
        "Для последующих моделей произведем масштабирование признаков."
      ]
    },
    {
      "cell_type": "code",
      "execution_count": 68,
      "metadata": {
        "colab": {
          "base_uri": "https://localhost:8080/"
        },
        "id": "nNkmxrJBUqOV",
        "outputId": "a90de7b5-2b64-45d5-cd85-21417234954a"
      },
      "outputs": [
        {
          "data": {
            "text/plain": [
              "array([-1.01727039, -0.791526  ,  0.41851371,  0.1610635 ,  0.99173153,\n",
              "       -0.04504956, -0.42418914,  0.43651894,  3.26099989,  3.23887709,\n",
              "       -0.63347252,  0.58506733, -0.23473806, -0.18019374,  0.28787026,\n",
              "       -0.04323858, -0.1750876 , -1.00492368,  0.66187897])"
            ]
          },
          "execution_count": 68,
          "metadata": {},
          "output_type": "execute_result"
        }
      ],
      "source": [
        "# масштабирование признаков обучающей выборки\n",
        "scaler = StandardScaler()\n",
        "\n",
        "# обучаем стандартизатор на обучающей выборке\n",
        "scaler.fit(X_train)\n",
        "# =======================================================\n",
        "# применяем пправила к выборке\n",
        "X_train = scaler.transform(X_train)\n",
        "\n",
        "# масштабирование признаков тестовой выборки\n",
        "X_test = scaler.transform(X_test)\n",
        "\n",
        "X_train[0]\n"
      ]
    },
    {
      "cell_type": "markdown",
      "metadata": {
        "id": "oqQ7uT76UqOV"
      },
      "source": [
        "Получим оценку качества модели линейной регрессии на кроссвалидации"
      ]
    },
    {
      "cell_type": "code",
      "execution_count": 69,
      "metadata": {
        "id": "zkP1rNmNUqOW"
      },
      "outputs": [],
      "source": [
        "# объявление модели\n",
        "model_lr = LinearRegression(n_jobs=-1)"
      ]
    },
    {
      "cell_type": "code",
      "execution_count": 70,
      "metadata": {
        "id": "28iRny5oabcT"
      },
      "outputs": [],
      "source": [
        "# оценка на кросс-валидации\n",
        "df_score.iloc[2, 0] = round(\n",
        "    -cross_val_score(model_lr, X_train, y_train,\n",
        "                     scoring=SCORING, cv=5, n_jobs=-1).mean(), 3\n",
        ")"
      ]
    },
    {
      "cell_type": "markdown",
      "metadata": {
        "id": "J_beFMi2UqOZ"
      },
      "source": [
        "### Тестирование модели"
      ]
    },
    {
      "cell_type": "code",
      "execution_count": 71,
      "metadata": {
        "colab": {
          "base_uri": "https://localhost:8080/",
          "height": 143
        },
        "id": "8tZQBEmMeqLV",
        "outputId": "62c3911d-1d5b-4f8d-bc9b-fa41f67996a7"
      },
      "outputs": [
        {
          "data": {
            "text/html": [
              "<div>\n",
              "<style scoped>\n",
              "    .dataframe tbody tr th:only-of-type {\n",
              "        vertical-align: middle;\n",
              "    }\n",
              "\n",
              "    .dataframe tbody tr th {\n",
              "        vertical-align: top;\n",
              "    }\n",
              "\n",
              "    .dataframe thead th {\n",
              "        text-align: right;\n",
              "    }\n",
              "</style>\n",
              "<table border=\"1\" class=\"dataframe\">\n",
              "  <thead>\n",
              "    <tr style=\"text-align: right;\">\n",
              "      <th></th>\n",
              "      <th>кросс-валидация</th>\n",
              "    </tr>\n",
              "  </thead>\n",
              "  <tbody>\n",
              "    <tr>\n",
              "      <th>CatBoost</th>\n",
              "      <td>5.753</td>\n",
              "    </tr>\n",
              "    <tr>\n",
              "      <th>RandomForestRegressor</th>\n",
              "      <td>5.903</td>\n",
              "    </tr>\n",
              "    <tr>\n",
              "      <th>LinearRegression</th>\n",
              "      <td>5.734</td>\n",
              "    </tr>\n",
              "  </tbody>\n",
              "</table>\n",
              "</div>"
            ],
            "text/plain": [
              "                      кросс-валидация\n",
              "CatBoost                        5.753\n",
              "RandomForestRegressor           5.903\n",
              "LinearRegression                5.734"
            ]
          },
          "execution_count": 71,
          "metadata": {},
          "output_type": "execute_result"
        }
      ],
      "source": [
        "df_score"
      ]
    },
    {
      "cell_type": "markdown",
      "metadata": {
        "id": "0Kehci8pUqOZ"
      },
      "source": [
        "Лучшей моделью является модель CatBoost. Протестируем ее на тестовых данных. Заново создадим выборки"
      ]
    },
    {
      "cell_type": "code",
      "execution_count": 72,
      "metadata": {
        "colab": {
          "base_uri": "https://localhost:8080/"
        },
        "id": "LTq8O7byUqOb",
        "outputId": "05101656-5896-4f56-cc01-cd70fcecc9af"
      },
      "outputs": [
        {
          "name": "stdout",
          "output_type": "stream",
          "text": [
            "(1655, 19) (1655,)\n",
            "(552, 19) (552,)\n"
          ]
        }
      ],
      "source": [
        "X_train, X_test, y_train, y_test = train_test_split(\n",
        "    X, y,\n",
        "    test_size=0.25,\n",
        "    random_state=RANDOM_STATE)\n",
        "# проверка\n",
        "print(X_train.shape, y_train.shape)\n",
        "print(X_test.shape, y_test.shape)\n"
      ]
    },
    {
      "cell_type": "markdown",
      "metadata": {
        "id": "GGKrl6PNMGLN"
      },
      "source": [
        "Подберем гиперпараметры"
      ]
    },
    {
      "cell_type": "code",
      "execution_count": 73,
      "metadata": {
        "colab": {
          "base_uri": "https://localhost:8080/"
        },
        "id": "qbPPZ7zPHK8u",
        "outputId": "b562d726-9f43-4400-d8e1-8753e4976ec7"
      },
      "outputs": [
        {
          "name": "stdout",
          "output_type": "stream",
          "text": [
            "{'depth': 4, 'loss_function': 'RMSE'}\n",
            "5.518\n"
          ]
        }
      ],
      "source": [
        "# сетка перебираемых параметров\n",
        "parametr = {\n",
        "    'loss_function': ['RMSE', 'MAE'],\n",
        "    'depth': [1, 2, 3, 4],\n",
        "\n",
        "}\n",
        "\n",
        "# перебор параметров на кросс-валидации\n",
        "grid_search = GridSearchCV(\n",
        "    model_cat,\n",
        "    parametr,\n",
        "    cv=5,\n",
        "    n_jobs=-1,\n",
        "    scoring=SCORING\n",
        ")\n",
        "\n",
        "grid_search.fit(X_train, y_train)\n",
        "\n",
        "\n",
        "print(grid_search.best_params_)\n",
        "print(-round(grid_search.best_score_, 3))"
      ]
    },
    {
      "cell_type": "code",
      "execution_count": 74,
      "metadata": {
        "id": "l4jIQT6MKVNX"
      },
      "outputs": [],
      "source": [
        "model_cat = grid_search.best_estimator_"
      ]
    },
    {
      "cell_type": "code",
      "execution_count": 75,
      "metadata": {
        "colab": {
          "base_uri": "https://localhost:8080/"
        },
        "id": "6DBb896tUqOc",
        "outputId": "030fb97c-263e-434d-81a1-ea7ab969deab"
      },
      "outputs": [
        {
          "data": {
            "text/plain": [
              "5.301"
            ]
          },
          "execution_count": 75,
          "metadata": {},
          "output_type": "execute_result"
        }
      ],
      "source": [
        "model_cat.fit(X_train, y_train)\n",
        "predict = model_cat.predict(X_test)\n",
        "\n",
        "round(MAE(y_test, predict), 3)"
      ]
    },
    {
      "cell_type": "markdown",
      "metadata": {
        "id": "pHXxQBysUqOf"
      },
      "source": [
        "### ВЫВОД\n",
        "Значение МАЕ = 5.3. Это означает, что средняя абсолютная погрешность в предсказании температуры составляет 5.3 градуса. Для таких высоких температур, данная погрешность не является критичной и удовлетворяет требованиям заказчика"
      ]
    },
    {
      "cell_type": "markdown",
      "metadata": {
        "id": "BsJ8tZycUqOk"
      },
      "source": [
        "## ОТЧЕТ\n",
        "Цель проекта: построение модели, предсказывающая температуру стали - **достигнута**.<br>\n",
        "Во время выполнения задания все намеченные пункты плана были **выполнены**.<br>\n",
        "Трудности возникли на этапе исследовательского анализа данных и предобработки. Для последующих шагов извлекали необходимые признаки. Целевого признака, как такого в таблицах не было: пришлось проводить его извлечение из данных, а также рассчитывать и вводить новые признаки.<br>\n",
        "Такая предобработка позволила добиться необходимого значения метрики MAE.\n",
        "\n",
        "Во время выполнения проекта, была проделаны следующие шаги:  \n",
        "1. подготовка данных:\n",
        "    - прочитали и изучили данные.<br><br>\n",
        "\n",
        "2. Анализ данных и предобработка данных:  \n",
        "    * провели предобработку данных в таблице замеров температур:<br>\n",
        "        - убрали партии, в которых был один замер,\n",
        "        - написали цикл, собирающий в замерах партий первый и последний замер\n",
        "        Данные вынесены в отдельный датафрейм\n",
        "    * провели предобработку данных в таблице легирующих элементов:<br>\n",
        "        - объединили таблицы с данными о легирующих добавках(датафреймы df_data_bulk и df_data_wire) методом pd.merge(how='inner'),\n",
        "        - удалили столбцы с большим количестом пропусков. Удаленные столбцы: \n",
        "'Wire 5', 'Bulk 8', 'Wire 7', 'Wire 4', 'Bulk 13', 'Bulk 9', 'Wire 8', 'Bulk 2', 'Bulk 7', 'Wire 9', 'Wire 3', 'Wire 6', 'Bulk 5'.\n",
        "        - исходя из предположения, что пропуски - это отсутствие легирующей добавки: заменили их в полученной таблице на 0. \n",
        "    * провели предобработку данных в таблице с информацией о работе электродов:\n",
        "        - удалили выброс в столбце 'Реактивная мощность'(отрицательная мощность, key=2116),\n",
        "        - по каждой партии расчитали: относительную мощность, количество запусков электродов, общее время подогрева,\n",
        "    * Объединили таблицы: полученную таблицу температур, электродов, продувки газа, объединенную таблицу легирующих добавок. Получилась таблица со столбцами:\n",
        "        - 'Начальная температура',\n",
        "        - 'Конечная температура',\n",
        "        - 'Время замеров',\n",
        "        - 'Активная мощность',\n",
        "        - 'Реактивная мощность',\n",
        "        - 'Мощность',\n",
        "        - 'Время нагрева',\n",
        "        - 'Колво нагревов',\n",
        "        - 'Газ 1',\n",
        "        - 'Bulk 1',\n",
        "        - 'Bulk 3',\n",
        "        - 'Bulk 4',\n",
        "        - 'Bulk 6',\n",
        "        - 'Bulk 10',\n",
        "        - 'Bulk 11',\n",
        "        - 'Bulk 12',\n",
        "        - 'Bulk 14',\n",
        "        - 'Bulk 15',\n",
        "        - 'Wire 1',\n",
        "        - 'Wire 2'<br><br>\n",
        "\n",
        "3. Подготовили полученные данные для дальнейшего обучения: разбили на обучающую и тренировочные выборки в соотношении 3:1.<br><br>\n",
        "\n",
        "4. Обучили модели случайного леса, линейной регрессии и градиентного спуска на полученных выборках.<br><br>\n",
        "\n",
        "5. Лучшую модель(CatBoostRegressor) проверили на тестовой выборке. Модель отлично работает с установленными параметрами по умолчанию. В качестве функций  были прописаны функция потерь loss_function='RMSE и переобучения eval_metric='MAE'. Метрика МАЕ=5.3<br>\n",
        "\n",
        "```\n",
        "CatBoostRegressor(\n",
        "    loss_function='RMSE',\n",
        "    eval_metric='MAE',\n",
        "    depth=4\n",
        "    verbose=False\n",
        "    )\n",
        "```\n",
        "\n"
      ]
    }
  ],
  "metadata": {
    "ExecuteTimeLog": [
      {
        "duration": 50,
        "start_time": "2022-07-28T11:16:01.075Z"
      },
      {
        "duration": 1313,
        "start_time": "2022-07-28T11:16:12.015Z"
      },
      {
        "duration": 360,
        "start_time": "2022-07-28T11:16:13.330Z"
      },
      {
        "duration": 3,
        "start_time": "2022-07-28T11:16:13.693Z"
      },
      {
        "duration": 78,
        "start_time": "2022-07-28T11:16:13.697Z"
      },
      {
        "duration": 3,
        "start_time": "2022-07-28T11:16:13.778Z"
      },
      {
        "duration": 250,
        "start_time": "2022-07-28T11:16:13.783Z"
      },
      {
        "duration": 22,
        "start_time": "2022-07-28T11:16:14.034Z"
      },
      {
        "duration": 20,
        "start_time": "2022-07-28T11:16:14.058Z"
      },
      {
        "duration": 16,
        "start_time": "2022-07-28T11:16:14.080Z"
      },
      {
        "duration": 24,
        "start_time": "2022-07-28T11:16:14.104Z"
      },
      {
        "duration": 23,
        "start_time": "2022-07-28T11:16:14.130Z"
      },
      {
        "duration": 54,
        "start_time": "2022-07-28T11:16:14.155Z"
      },
      {
        "duration": 12,
        "start_time": "2022-07-28T11:16:14.211Z"
      },
      {
        "duration": 15,
        "start_time": "2022-07-28T11:16:14.227Z"
      },
      {
        "duration": 11,
        "start_time": "2022-07-28T11:16:14.244Z"
      },
      {
        "duration": 9,
        "start_time": "2022-07-28T11:16:14.257Z"
      },
      {
        "duration": 48,
        "start_time": "2022-07-28T11:16:14.268Z"
      },
      {
        "duration": 16,
        "start_time": "2022-07-28T11:16:14.317Z"
      },
      {
        "duration": 1008,
        "start_time": "2022-07-28T11:16:14.335Z"
      },
      {
        "duration": 14,
        "start_time": "2022-07-28T11:16:15.345Z"
      },
      {
        "duration": 31,
        "start_time": "2022-07-28T11:16:15.361Z"
      },
      {
        "duration": 27,
        "start_time": "2022-07-28T11:16:15.404Z"
      },
      {
        "duration": 19,
        "start_time": "2022-07-28T11:16:15.433Z"
      },
      {
        "duration": 13,
        "start_time": "2022-07-28T11:16:15.454Z"
      },
      {
        "duration": 42,
        "start_time": "2022-07-28T11:16:15.469Z"
      },
      {
        "duration": 11,
        "start_time": "2022-07-28T11:16:15.512Z"
      },
      {
        "duration": 6,
        "start_time": "2022-07-28T11:16:15.525Z"
      },
      {
        "duration": 32,
        "start_time": "2022-07-28T11:16:15.533Z"
      },
      {
        "duration": 1597,
        "start_time": "2022-07-28T11:16:15.567Z"
      },
      {
        "duration": 9,
        "start_time": "2022-07-28T11:16:17.166Z"
      },
      {
        "duration": 34,
        "start_time": "2022-07-28T11:16:17.177Z"
      },
      {
        "duration": 522,
        "start_time": "2022-07-28T11:16:17.213Z"
      },
      {
        "duration": 8,
        "start_time": "2022-07-28T11:16:17.737Z"
      },
      {
        "duration": 22,
        "start_time": "2022-07-28T11:16:17.746Z"
      },
      {
        "duration": 43,
        "start_time": "2022-07-28T11:16:17.770Z"
      },
      {
        "duration": 830,
        "start_time": "2022-07-28T11:16:17.816Z"
      },
      {
        "duration": 12,
        "start_time": "2022-07-28T11:16:18.648Z"
      },
      {
        "duration": 14,
        "start_time": "2022-07-28T11:16:18.662Z"
      },
      {
        "duration": 39,
        "start_time": "2022-07-28T11:16:18.678Z"
      },
      {
        "duration": 11,
        "start_time": "2022-07-28T11:16:18.719Z"
      },
      {
        "duration": 20,
        "start_time": "2022-07-28T11:16:18.736Z"
      },
      {
        "duration": 7,
        "start_time": "2022-07-28T11:16:18.758Z"
      },
      {
        "duration": 40,
        "start_time": "2022-07-28T11:16:18.766Z"
      },
      {
        "duration": 112,
        "start_time": "2022-07-28T11:16:18.808Z"
      },
      {
        "duration": 12,
        "start_time": "2022-07-28T11:16:18.921Z"
      },
      {
        "duration": 172,
        "start_time": "2022-07-28T11:16:18.935Z"
      },
      {
        "duration": 9,
        "start_time": "2022-07-28T11:16:19.109Z"
      },
      {
        "duration": 18,
        "start_time": "2022-07-28T11:16:19.119Z"
      },
      {
        "duration": 18,
        "start_time": "2022-07-28T11:16:19.139Z"
      },
      {
        "duration": 11,
        "start_time": "2022-07-28T11:16:19.159Z"
      },
      {
        "duration": 10,
        "start_time": "2022-07-28T11:16:19.172Z"
      },
      {
        "duration": 25,
        "start_time": "2022-07-28T11:16:19.184Z"
      },
      {
        "duration": 11,
        "start_time": "2022-07-28T11:16:19.211Z"
      },
      {
        "duration": 10,
        "start_time": "2022-07-28T11:16:19.224Z"
      },
      {
        "duration": 15,
        "start_time": "2022-07-28T11:16:19.236Z"
      },
      {
        "duration": 385,
        "start_time": "2022-07-28T11:16:19.253Z"
      },
      {
        "duration": 2907,
        "start_time": "2022-07-28T11:16:19.640Z"
      },
      {
        "duration": 8,
        "start_time": "2022-07-28T11:16:22.548Z"
      },
      {
        "duration": 10047,
        "start_time": "2022-07-28T11:16:22.558Z"
      },
      {
        "duration": 12,
        "start_time": "2022-07-28T11:16:32.607Z"
      },
      {
        "duration": 17,
        "start_time": "2022-07-28T11:16:32.620Z"
      },
      {
        "duration": 16,
        "start_time": "2022-07-28T11:16:32.639Z"
      },
      {
        "duration": 121,
        "start_time": "2022-07-28T11:19:53.846Z"
      },
      {
        "duration": 13,
        "start_time": "2022-07-28T11:20:02.717Z"
      },
      {
        "duration": 1377,
        "start_time": "2022-07-28T11:21:49.820Z"
      },
      {
        "duration": 384,
        "start_time": "2022-07-28T11:21:51.203Z"
      },
      {
        "duration": 3,
        "start_time": "2022-07-28T11:21:51.589Z"
      },
      {
        "duration": 97,
        "start_time": "2022-07-28T11:21:51.594Z"
      },
      {
        "duration": 3,
        "start_time": "2022-07-28T11:21:51.694Z"
      },
      {
        "duration": 313,
        "start_time": "2022-07-28T11:21:51.699Z"
      },
      {
        "duration": 16,
        "start_time": "2022-07-28T11:21:52.014Z"
      },
      {
        "duration": 27,
        "start_time": "2022-07-28T11:21:52.032Z"
      },
      {
        "duration": 67,
        "start_time": "2022-07-28T11:21:52.062Z"
      },
      {
        "duration": 35,
        "start_time": "2022-07-28T11:21:52.132Z"
      },
      {
        "duration": 21,
        "start_time": "2022-07-28T11:21:52.169Z"
      },
      {
        "duration": 39,
        "start_time": "2022-07-28T11:21:52.192Z"
      },
      {
        "duration": 19,
        "start_time": "2022-07-28T11:21:52.234Z"
      },
      {
        "duration": 62,
        "start_time": "2022-07-28T11:21:52.256Z"
      },
      {
        "duration": 13,
        "start_time": "2022-07-28T11:21:52.320Z"
      },
      {
        "duration": 8,
        "start_time": "2022-07-28T11:21:52.334Z"
      },
      {
        "duration": 14,
        "start_time": "2022-07-28T11:21:52.344Z"
      },
      {
        "duration": 45,
        "start_time": "2022-07-28T11:21:52.360Z"
      },
      {
        "duration": 1068,
        "start_time": "2022-07-28T11:21:52.407Z"
      },
      {
        "duration": 12,
        "start_time": "2022-07-28T11:21:53.477Z"
      },
      {
        "duration": 15,
        "start_time": "2022-07-28T11:21:53.503Z"
      },
      {
        "duration": 23,
        "start_time": "2022-07-28T11:21:53.519Z"
      },
      {
        "duration": 13,
        "start_time": "2022-07-28T11:21:53.545Z"
      },
      {
        "duration": 43,
        "start_time": "2022-07-28T11:21:53.561Z"
      },
      {
        "duration": 18,
        "start_time": "2022-07-28T11:21:53.606Z"
      },
      {
        "duration": 10,
        "start_time": "2022-07-28T11:21:53.626Z"
      },
      {
        "duration": 6,
        "start_time": "2022-07-28T11:21:53.638Z"
      },
      {
        "duration": 67,
        "start_time": "2022-07-28T11:21:53.646Z"
      },
      {
        "duration": 1629,
        "start_time": "2022-07-28T11:21:53.715Z"
      },
      {
        "duration": 9,
        "start_time": "2022-07-28T11:21:55.346Z"
      },
      {
        "duration": 35,
        "start_time": "2022-07-28T11:21:55.357Z"
      },
      {
        "duration": 549,
        "start_time": "2022-07-28T11:21:55.394Z"
      },
      {
        "duration": 7,
        "start_time": "2022-07-28T11:21:55.945Z"
      },
      {
        "duration": 18,
        "start_time": "2022-07-28T11:21:55.953Z"
      },
      {
        "duration": 44,
        "start_time": "2022-07-28T11:21:55.974Z"
      },
      {
        "duration": 865,
        "start_time": "2022-07-28T11:21:56.021Z"
      },
      {
        "duration": 23,
        "start_time": "2022-07-28T11:21:56.888Z"
      },
      {
        "duration": 12,
        "start_time": "2022-07-28T11:21:56.913Z"
      },
      {
        "duration": 27,
        "start_time": "2022-07-28T11:21:56.927Z"
      },
      {
        "duration": 18,
        "start_time": "2022-07-28T11:21:56.956Z"
      },
      {
        "duration": 32,
        "start_time": "2022-07-28T11:21:56.979Z"
      },
      {
        "duration": 15,
        "start_time": "2022-07-28T11:21:57.013Z"
      },
      {
        "duration": 27,
        "start_time": "2022-07-28T11:21:57.030Z"
      },
      {
        "duration": 121,
        "start_time": "2022-07-28T11:21:57.060Z"
      },
      {
        "duration": 10,
        "start_time": "2022-07-28T11:21:57.183Z"
      },
      {
        "duration": 169,
        "start_time": "2022-07-28T11:21:57.203Z"
      },
      {
        "duration": 8,
        "start_time": "2022-07-28T11:21:57.374Z"
      },
      {
        "duration": 22,
        "start_time": "2022-07-28T11:21:57.384Z"
      },
      {
        "duration": 11,
        "start_time": "2022-07-28T11:21:57.408Z"
      },
      {
        "duration": 9,
        "start_time": "2022-07-28T11:21:57.421Z"
      },
      {
        "duration": 9,
        "start_time": "2022-07-28T11:21:57.432Z"
      },
      {
        "duration": 9,
        "start_time": "2022-07-28T11:21:57.443Z"
      },
      {
        "duration": 9,
        "start_time": "2022-07-28T11:21:57.453Z"
      },
      {
        "duration": 47,
        "start_time": "2022-07-28T11:21:57.463Z"
      },
      {
        "duration": 11,
        "start_time": "2022-07-28T11:21:57.512Z"
      },
      {
        "duration": 386,
        "start_time": "2022-07-28T11:21:57.524Z"
      },
      {
        "duration": 3211,
        "start_time": "2022-07-28T11:21:57.912Z"
      },
      {
        "duration": 10,
        "start_time": "2022-07-28T11:22:01.125Z"
      },
      {
        "duration": 10058,
        "start_time": "2022-07-28T11:22:01.137Z"
      },
      {
        "duration": 13,
        "start_time": "2022-07-28T11:22:11.205Z"
      },
      {
        "duration": 17,
        "start_time": "2022-07-28T11:22:11.220Z"
      },
      {
        "duration": 17,
        "start_time": "2022-07-28T11:22:11.239Z"
      },
      {
        "duration": 83,
        "start_time": "2022-07-28T11:22:11.258Z"
      },
      {
        "duration": 20,
        "start_time": "2022-07-28T11:25:05.096Z"
      },
      {
        "duration": 25,
        "start_time": "2022-07-28T11:25:18.926Z"
      },
      {
        "duration": 6,
        "start_time": "2022-07-28T11:25:37.246Z"
      },
      {
        "duration": 134,
        "start_time": "2022-07-28T11:26:11.343Z"
      },
      {
        "duration": 20,
        "start_time": "2022-07-28T11:26:19.386Z"
      },
      {
        "duration": 8,
        "start_time": "2022-07-28T11:26:45.377Z"
      },
      {
        "duration": 20,
        "start_time": "2022-07-28T11:26:55.078Z"
      },
      {
        "duration": 10,
        "start_time": "2022-07-28T11:27:01.470Z"
      },
      {
        "duration": 9,
        "start_time": "2022-07-28T11:27:33.706Z"
      },
      {
        "duration": 131,
        "start_time": "2022-07-28T11:31:07.053Z"
      },
      {
        "duration": 1444,
        "start_time": "2022-07-29T10:05:46.668Z"
      },
      {
        "duration": 239,
        "start_time": "2022-07-29T10:05:48.115Z"
      },
      {
        "duration": 3,
        "start_time": "2022-07-29T10:05:48.356Z"
      },
      {
        "duration": 82,
        "start_time": "2022-07-29T10:05:48.361Z"
      },
      {
        "duration": 3,
        "start_time": "2022-07-29T10:05:48.444Z"
      },
      {
        "duration": 523,
        "start_time": "2022-07-29T10:05:48.449Z"
      },
      {
        "duration": 15,
        "start_time": "2022-07-29T10:05:48.974Z"
      },
      {
        "duration": 15,
        "start_time": "2022-07-29T10:05:48.991Z"
      },
      {
        "duration": 15,
        "start_time": "2022-07-29T10:05:49.008Z"
      },
      {
        "duration": 22,
        "start_time": "2022-07-29T10:05:49.027Z"
      },
      {
        "duration": 18,
        "start_time": "2022-07-29T10:05:49.052Z"
      },
      {
        "duration": 63,
        "start_time": "2022-07-29T10:05:49.072Z"
      },
      {
        "duration": 12,
        "start_time": "2022-07-29T10:05:49.137Z"
      },
      {
        "duration": 17,
        "start_time": "2022-07-29T10:05:49.150Z"
      },
      {
        "duration": 12,
        "start_time": "2022-07-29T10:05:49.169Z"
      },
      {
        "duration": 33,
        "start_time": "2022-07-29T10:05:49.183Z"
      },
      {
        "duration": 15,
        "start_time": "2022-07-29T10:05:49.218Z"
      },
      {
        "duration": 12,
        "start_time": "2022-07-29T10:05:49.235Z"
      },
      {
        "duration": 1061,
        "start_time": "2022-07-29T10:05:49.249Z"
      },
      {
        "duration": 13,
        "start_time": "2022-07-29T10:05:50.312Z"
      },
      {
        "duration": 19,
        "start_time": "2022-07-29T10:05:50.328Z"
      },
      {
        "duration": 27,
        "start_time": "2022-07-29T10:05:50.349Z"
      },
      {
        "duration": 39,
        "start_time": "2022-07-29T10:05:50.378Z"
      },
      {
        "duration": 33,
        "start_time": "2022-07-29T10:05:50.419Z"
      },
      {
        "duration": 15,
        "start_time": "2022-07-29T10:05:50.454Z"
      },
      {
        "duration": 8,
        "start_time": "2022-07-29T10:05:50.471Z"
      },
      {
        "duration": 5,
        "start_time": "2022-07-29T10:05:50.481Z"
      },
      {
        "duration": 47,
        "start_time": "2022-07-29T10:05:50.491Z"
      },
      {
        "duration": 12,
        "start_time": "2022-07-29T10:05:50.540Z"
      },
      {
        "duration": 8,
        "start_time": "2022-07-29T10:05:50.554Z"
      },
      {
        "duration": 1604,
        "start_time": "2022-07-29T10:05:50.564Z"
      },
      {
        "duration": 10,
        "start_time": "2022-07-29T10:05:52.170Z"
      },
      {
        "duration": 46,
        "start_time": "2022-07-29T10:05:52.183Z"
      },
      {
        "duration": 517,
        "start_time": "2022-07-29T10:05:52.230Z"
      },
      {
        "duration": 7,
        "start_time": "2022-07-29T10:05:52.749Z"
      },
      {
        "duration": 22,
        "start_time": "2022-07-29T10:05:52.758Z"
      },
      {
        "duration": 47,
        "start_time": "2022-07-29T10:05:52.782Z"
      },
      {
        "duration": 5,
        "start_time": "2022-07-29T10:05:52.832Z"
      },
      {
        "duration": 764,
        "start_time": "2022-07-29T10:05:52.839Z"
      },
      {
        "duration": 12,
        "start_time": "2022-07-29T10:05:53.604Z"
      },
      {
        "duration": 10,
        "start_time": "2022-07-29T10:05:53.618Z"
      },
      {
        "duration": 9,
        "start_time": "2022-07-29T10:05:53.630Z"
      },
      {
        "duration": 9,
        "start_time": "2022-07-29T10:05:53.642Z"
      },
      {
        "duration": 24,
        "start_time": "2022-07-29T10:05:53.653Z"
      },
      {
        "duration": 35,
        "start_time": "2022-07-29T10:05:53.679Z"
      },
      {
        "duration": 14,
        "start_time": "2022-07-29T10:05:53.716Z"
      },
      {
        "duration": 122,
        "start_time": "2022-07-29T10:05:53.733Z"
      },
      {
        "duration": 9,
        "start_time": "2022-07-29T10:05:53.857Z"
      },
      {
        "duration": 166,
        "start_time": "2022-07-29T10:05:53.868Z"
      },
      {
        "duration": 8,
        "start_time": "2022-07-29T10:05:54.036Z"
      },
      {
        "duration": 9,
        "start_time": "2022-07-29T10:05:54.046Z"
      },
      {
        "duration": 10,
        "start_time": "2022-07-29T10:05:54.057Z"
      },
      {
        "duration": 13,
        "start_time": "2022-07-29T10:05:54.069Z"
      },
      {
        "duration": 29,
        "start_time": "2022-07-29T10:05:54.083Z"
      },
      {
        "duration": 9,
        "start_time": "2022-07-29T10:05:54.114Z"
      },
      {
        "duration": 10,
        "start_time": "2022-07-29T10:05:54.125Z"
      },
      {
        "duration": 13,
        "start_time": "2022-07-29T10:05:54.137Z"
      },
      {
        "duration": 18,
        "start_time": "2022-07-29T10:05:54.152Z"
      },
      {
        "duration": 376,
        "start_time": "2022-07-29T10:05:54.172Z"
      },
      {
        "duration": 6,
        "start_time": "2022-07-29T10:05:54.550Z"
      },
      {
        "duration": 312,
        "start_time": "2022-07-29T10:05:54.558Z"
      },
      {
        "duration": 2665,
        "start_time": "2022-07-29T10:05:54.872Z"
      },
      {
        "duration": 8,
        "start_time": "2022-07-29T10:05:57.539Z"
      },
      {
        "duration": 8961,
        "start_time": "2022-07-29T10:05:57.549Z"
      },
      {
        "duration": 8,
        "start_time": "2022-07-29T10:06:06.512Z"
      },
      {
        "duration": 16,
        "start_time": "2022-07-29T10:06:06.522Z"
      },
      {
        "duration": 17,
        "start_time": "2022-07-29T10:06:06.540Z"
      },
      {
        "duration": 30,
        "start_time": "2022-07-29T10:06:06.559Z"
      },
      {
        "duration": 7,
        "start_time": "2022-07-29T10:06:06.609Z"
      },
      {
        "duration": 433,
        "start_time": "2022-07-29T10:06:06.618Z"
      },
      {
        "duration": 9,
        "start_time": "2022-07-29T10:06:07.053Z"
      },
      {
        "duration": 3,
        "start_time": "2022-07-29T10:06:07.064Z"
      },
      {
        "duration": 76,
        "start_time": "2022-07-29T10:06:07.069Z"
      },
      {
        "duration": 613,
        "start_time": "2022-07-29T10:06:07.147Z"
      },
      {
        "duration": 4,
        "start_time": "2022-07-29T10:06:07.762Z"
      },
      {
        "duration": 23,
        "start_time": "2022-07-29T10:06:07.767Z"
      },
      {
        "duration": 25,
        "start_time": "2022-07-29T10:06:07.792Z"
      },
      {
        "duration": 3,
        "start_time": "2022-07-29T10:06:07.819Z"
      },
      {
        "duration": 43745,
        "start_time": "2022-07-29T10:06:07.823Z"
      },
      {
        "duration": 12,
        "start_time": "2022-07-29T10:06:51.570Z"
      },
      {
        "duration": 132,
        "start_time": "2022-07-29T10:06:51.583Z"
      }
    ],
    "colab": {
      "collapsed_sections": [
        "EC4LVk_GUqMf",
        "zug5bgvHUqMt",
        "NglzpD42UqM3",
        "Dq2Hp9ZpUqNa",
        "xqxKZbdTUqNn",
        "Bi7V1KV8UqOE"
      ],
      "name": "FINAL_3.ipynb",
      "provenance": [],
      "toc_visible": true
    },
    "kernelspec": {
      "display_name": "Python 3.10.5 64-bit",
      "language": "python",
      "name": "python3"
    },
    "language_info": {
      "codemirror_mode": {
        "name": "ipython",
        "version": 3
      },
      "file_extension": ".py",
      "mimetype": "text/x-python",
      "name": "python",
      "nbconvert_exporter": "python",
      "pygments_lexer": "ipython3",
      "version": "3.10.5"
    },
    "toc": {
      "base_numbering": 1,
      "nav_menu": {},
      "number_sections": true,
      "sideBar": true,
      "skip_h1_title": true,
      "title_cell": "Table of Contents",
      "title_sidebar": "Contents",
      "toc_cell": false,
      "toc_position": {
        "height": "calc(100% - 180px)",
        "left": "10px",
        "top": "150px",
        "width": "182px"
      },
      "toc_section_display": true,
      "toc_window_display": true
    },
    "varInspector": {
      "cols": {
        "lenName": 16,
        "lenType": 16,
        "lenVar": 40
      },
      "kernels_config": {
        "python": {
          "delete_cmd_postfix": "",
          "delete_cmd_prefix": "del ",
          "library": "var_list.py",
          "varRefreshCmd": "print(var_dic_list())"
        },
        "r": {
          "delete_cmd_postfix": ") ",
          "delete_cmd_prefix": "rm(",
          "library": "var_list.r",
          "varRefreshCmd": "cat(var_dic_list()) "
        }
      },
      "position": {
        "height": "536.844px",
        "left": "1610px",
        "right": "20px",
        "top": "120px",
        "width": "290px"
      },
      "types_to_exclude": [
        "module",
        "function",
        "builtin_function_or_method",
        "instance",
        "_Feature"
      ],
      "window_display": false
    },
    "vscode": {
      "interpreter": {
        "hash": "26de051ba29f2982a8de78e945f0abaf191376122a1563185a90213a26c5da77"
      }
    },
    "widgets": {
      "application/vnd.jupyter.widget-state+json": {
        "0cbc5778654b4f159ddd67314148e616": {
          "model_module": "@jupyter-widgets/controls",
          "model_module_version": "1.5.0",
          "model_name": "HBoxModel",
          "state": {
            "_dom_classes": [],
            "_model_module": "@jupyter-widgets/controls",
            "_model_module_version": "1.5.0",
            "_model_name": "HBoxModel",
            "_view_count": null,
            "_view_module": "@jupyter-widgets/controls",
            "_view_module_version": "1.5.0",
            "_view_name": "HBoxView",
            "box_style": "",
            "children": [
              "IPY_MODEL_152316a737404f84ac0503f8506e756c",
              "IPY_MODEL_a79684044eba405d931ed95e3a0123bf",
              "IPY_MODEL_5990884556974ece91f2bb58132827f3"
            ],
            "layout": "IPY_MODEL_b1cd302b8d814730836a41a18baba290"
          }
        },
        "152316a737404f84ac0503f8506e756c": {
          "model_module": "@jupyter-widgets/controls",
          "model_module_version": "1.5.0",
          "model_name": "HTMLModel",
          "state": {
            "_dom_classes": [],
            "_model_module": "@jupyter-widgets/controls",
            "_model_module_version": "1.5.0",
            "_model_name": "HTMLModel",
            "_view_count": null,
            "_view_module": "@jupyter-widgets/controls",
            "_view_module_version": "1.5.0",
            "_view_name": "HTMLView",
            "description": "",
            "description_tooltip": null,
            "layout": "IPY_MODEL_b53ae7c00eea45db83f1aa78f09b4263",
            "placeholder": "​",
            "style": "IPY_MODEL_7eab87564ad74f74b9560b15f6128f7e",
            "value": "100%"
          }
        },
        "2fb008ea05fc4630aec29ce79e9d4500": {
          "model_module": "@jupyter-widgets/base",
          "model_module_version": "1.2.0",
          "model_name": "LayoutModel",
          "state": {
            "_model_module": "@jupyter-widgets/base",
            "_model_module_version": "1.2.0",
            "_model_name": "LayoutModel",
            "_view_count": null,
            "_view_module": "@jupyter-widgets/base",
            "_view_module_version": "1.2.0",
            "_view_name": "LayoutView",
            "align_content": null,
            "align_items": null,
            "align_self": null,
            "border": null,
            "bottom": null,
            "display": null,
            "flex": null,
            "flex_flow": null,
            "grid_area": null,
            "grid_auto_columns": null,
            "grid_auto_flow": null,
            "grid_auto_rows": null,
            "grid_column": null,
            "grid_gap": null,
            "grid_row": null,
            "grid_template_areas": null,
            "grid_template_columns": null,
            "grid_template_rows": null,
            "height": null,
            "justify_content": null,
            "justify_items": null,
            "left": null,
            "margin": null,
            "max_height": null,
            "max_width": null,
            "min_height": null,
            "min_width": null,
            "object_fit": null,
            "object_position": null,
            "order": null,
            "overflow": null,
            "overflow_x": null,
            "overflow_y": null,
            "padding": null,
            "right": null,
            "top": null,
            "visibility": null,
            "width": null
          }
        },
        "359bee2686fe4380aa23833da657d4e9": {
          "model_module": "@jupyter-widgets/base",
          "model_module_version": "1.2.0",
          "model_name": "LayoutModel",
          "state": {
            "_model_module": "@jupyter-widgets/base",
            "_model_module_version": "1.2.0",
            "_model_name": "LayoutModel",
            "_view_count": null,
            "_view_module": "@jupyter-widgets/base",
            "_view_module_version": "1.2.0",
            "_view_name": "LayoutView",
            "align_content": null,
            "align_items": null,
            "align_self": null,
            "border": null,
            "bottom": null,
            "display": null,
            "flex": null,
            "flex_flow": null,
            "grid_area": null,
            "grid_auto_columns": null,
            "grid_auto_flow": null,
            "grid_auto_rows": null,
            "grid_column": null,
            "grid_gap": null,
            "grid_row": null,
            "grid_template_areas": null,
            "grid_template_columns": null,
            "grid_template_rows": null,
            "height": null,
            "justify_content": null,
            "justify_items": null,
            "left": null,
            "margin": null,
            "max_height": null,
            "max_width": null,
            "min_height": null,
            "min_width": null,
            "object_fit": null,
            "object_position": null,
            "order": null,
            "overflow": null,
            "overflow_x": null,
            "overflow_y": null,
            "padding": null,
            "right": null,
            "top": null,
            "visibility": null,
            "width": null
          }
        },
        "4eb21a865c9d42a7924e9dc6310d6ce1": {
          "model_module": "@jupyter-widgets/controls",
          "model_module_version": "1.5.0",
          "model_name": "FloatProgressModel",
          "state": {
            "_dom_classes": [],
            "_model_module": "@jupyter-widgets/controls",
            "_model_module_version": "1.5.0",
            "_model_name": "FloatProgressModel",
            "_view_count": null,
            "_view_module": "@jupyter-widgets/controls",
            "_view_module_version": "1.5.0",
            "_view_name": "ProgressView",
            "bar_style": "success",
            "description": "",
            "description_tooltip": null,
            "layout": "IPY_MODEL_54d4aba6c8e747348463381f38ae8102",
            "max": 2475,
            "min": 0,
            "orientation": "horizontal",
            "style": "IPY_MODEL_f06c5f28dde24ad2822f33a7de2cd7e7",
            "value": 2475
          }
        },
        "4f01d0cec853490b9dd40bb183eb7d55": {
          "model_module": "@jupyter-widgets/controls",
          "model_module_version": "1.5.0",
          "model_name": "HBoxModel",
          "state": {
            "_dom_classes": [],
            "_model_module": "@jupyter-widgets/controls",
            "_model_module_version": "1.5.0",
            "_model_name": "HBoxModel",
            "_view_count": null,
            "_view_module": "@jupyter-widgets/controls",
            "_view_module_version": "1.5.0",
            "_view_name": "HBoxView",
            "box_style": "",
            "children": [
              "IPY_MODEL_c7d94dfdc0934be69f0d7dfb5b687969",
              "IPY_MODEL_4eb21a865c9d42a7924e9dc6310d6ce1",
              "IPY_MODEL_b1ffffd8139d404f860296cc415f4cb6"
            ],
            "layout": "IPY_MODEL_de483ff1e3044a3fb069dd45d97a03d1"
          }
        },
        "53e6fc759a97437987b7ed384ff1dfac": {
          "model_module": "@jupyter-widgets/base",
          "model_module_version": "1.2.0",
          "model_name": "LayoutModel",
          "state": {
            "_model_module": "@jupyter-widgets/base",
            "_model_module_version": "1.2.0",
            "_model_name": "LayoutModel",
            "_view_count": null,
            "_view_module": "@jupyter-widgets/base",
            "_view_module_version": "1.2.0",
            "_view_name": "LayoutView",
            "align_content": null,
            "align_items": null,
            "align_self": null,
            "border": null,
            "bottom": null,
            "display": null,
            "flex": null,
            "flex_flow": null,
            "grid_area": null,
            "grid_auto_columns": null,
            "grid_auto_flow": null,
            "grid_auto_rows": null,
            "grid_column": null,
            "grid_gap": null,
            "grid_row": null,
            "grid_template_areas": null,
            "grid_template_columns": null,
            "grid_template_rows": null,
            "height": null,
            "justify_content": null,
            "justify_items": null,
            "left": null,
            "margin": null,
            "max_height": null,
            "max_width": null,
            "min_height": null,
            "min_width": null,
            "object_fit": null,
            "object_position": null,
            "order": null,
            "overflow": null,
            "overflow_x": null,
            "overflow_y": null,
            "padding": null,
            "right": null,
            "top": null,
            "visibility": null,
            "width": null
          }
        },
        "54d4aba6c8e747348463381f38ae8102": {
          "model_module": "@jupyter-widgets/base",
          "model_module_version": "1.2.0",
          "model_name": "LayoutModel",
          "state": {
            "_model_module": "@jupyter-widgets/base",
            "_model_module_version": "1.2.0",
            "_model_name": "LayoutModel",
            "_view_count": null,
            "_view_module": "@jupyter-widgets/base",
            "_view_module_version": "1.2.0",
            "_view_name": "LayoutView",
            "align_content": null,
            "align_items": null,
            "align_self": null,
            "border": null,
            "bottom": null,
            "display": null,
            "flex": null,
            "flex_flow": null,
            "grid_area": null,
            "grid_auto_columns": null,
            "grid_auto_flow": null,
            "grid_auto_rows": null,
            "grid_column": null,
            "grid_gap": null,
            "grid_row": null,
            "grid_template_areas": null,
            "grid_template_columns": null,
            "grid_template_rows": null,
            "height": null,
            "justify_content": null,
            "justify_items": null,
            "left": null,
            "margin": null,
            "max_height": null,
            "max_width": null,
            "min_height": null,
            "min_width": null,
            "object_fit": null,
            "object_position": null,
            "order": null,
            "overflow": null,
            "overflow_x": null,
            "overflow_y": null,
            "padding": null,
            "right": null,
            "top": null,
            "visibility": null,
            "width": null
          }
        },
        "5990884556974ece91f2bb58132827f3": {
          "model_module": "@jupyter-widgets/controls",
          "model_module_version": "1.5.0",
          "model_name": "HTMLModel",
          "state": {
            "_dom_classes": [],
            "_model_module": "@jupyter-widgets/controls",
            "_model_module_version": "1.5.0",
            "_model_name": "HTMLModel",
            "_view_count": null,
            "_view_module": "@jupyter-widgets/controls",
            "_view_module_version": "1.5.0",
            "_view_name": "HTMLView",
            "description": "",
            "description_tooltip": null,
            "layout": "IPY_MODEL_b01ae02cfa8d4f9dae093a6df88af5bf",
            "placeholder": "​",
            "style": "IPY_MODEL_b1ca0e30ef03472b881b73d37294dafb",
            "value": " 3216/3216 [00:03&lt;00:00, 407.12it/s]"
          }
        },
        "7eab87564ad74f74b9560b15f6128f7e": {
          "model_module": "@jupyter-widgets/controls",
          "model_module_version": "1.5.0",
          "model_name": "DescriptionStyleModel",
          "state": {
            "_model_module": "@jupyter-widgets/controls",
            "_model_module_version": "1.5.0",
            "_model_name": "DescriptionStyleModel",
            "_view_count": null,
            "_view_module": "@jupyter-widgets/base",
            "_view_module_version": "1.2.0",
            "_view_name": "StyleView",
            "description_width": ""
          }
        },
        "a79684044eba405d931ed95e3a0123bf": {
          "model_module": "@jupyter-widgets/controls",
          "model_module_version": "1.5.0",
          "model_name": "FloatProgressModel",
          "state": {
            "_dom_classes": [],
            "_model_module": "@jupyter-widgets/controls",
            "_model_module_version": "1.5.0",
            "_model_name": "FloatProgressModel",
            "_view_count": null,
            "_view_module": "@jupyter-widgets/controls",
            "_view_module_version": "1.5.0",
            "_view_name": "ProgressView",
            "bar_style": "success",
            "description": "",
            "description_tooltip": null,
            "layout": "IPY_MODEL_359bee2686fe4380aa23833da657d4e9",
            "max": 3216,
            "min": 0,
            "orientation": "horizontal",
            "style": "IPY_MODEL_c063f3b70b814cd9aee9d22371509dda",
            "value": 3216
          }
        },
        "b01ae02cfa8d4f9dae093a6df88af5bf": {
          "model_module": "@jupyter-widgets/base",
          "model_module_version": "1.2.0",
          "model_name": "LayoutModel",
          "state": {
            "_model_module": "@jupyter-widgets/base",
            "_model_module_version": "1.2.0",
            "_model_name": "LayoutModel",
            "_view_count": null,
            "_view_module": "@jupyter-widgets/base",
            "_view_module_version": "1.2.0",
            "_view_name": "LayoutView",
            "align_content": null,
            "align_items": null,
            "align_self": null,
            "border": null,
            "bottom": null,
            "display": null,
            "flex": null,
            "flex_flow": null,
            "grid_area": null,
            "grid_auto_columns": null,
            "grid_auto_flow": null,
            "grid_auto_rows": null,
            "grid_column": null,
            "grid_gap": null,
            "grid_row": null,
            "grid_template_areas": null,
            "grid_template_columns": null,
            "grid_template_rows": null,
            "height": null,
            "justify_content": null,
            "justify_items": null,
            "left": null,
            "margin": null,
            "max_height": null,
            "max_width": null,
            "min_height": null,
            "min_width": null,
            "object_fit": null,
            "object_position": null,
            "order": null,
            "overflow": null,
            "overflow_x": null,
            "overflow_y": null,
            "padding": null,
            "right": null,
            "top": null,
            "visibility": null,
            "width": null
          }
        },
        "b1ca0e30ef03472b881b73d37294dafb": {
          "model_module": "@jupyter-widgets/controls",
          "model_module_version": "1.5.0",
          "model_name": "DescriptionStyleModel",
          "state": {
            "_model_module": "@jupyter-widgets/controls",
            "_model_module_version": "1.5.0",
            "_model_name": "DescriptionStyleModel",
            "_view_count": null,
            "_view_module": "@jupyter-widgets/base",
            "_view_module_version": "1.2.0",
            "_view_name": "StyleView",
            "description_width": ""
          }
        },
        "b1cd302b8d814730836a41a18baba290": {
          "model_module": "@jupyter-widgets/base",
          "model_module_version": "1.2.0",
          "model_name": "LayoutModel",
          "state": {
            "_model_module": "@jupyter-widgets/base",
            "_model_module_version": "1.2.0",
            "_model_name": "LayoutModel",
            "_view_count": null,
            "_view_module": "@jupyter-widgets/base",
            "_view_module_version": "1.2.0",
            "_view_name": "LayoutView",
            "align_content": null,
            "align_items": null,
            "align_self": null,
            "border": null,
            "bottom": null,
            "display": null,
            "flex": null,
            "flex_flow": null,
            "grid_area": null,
            "grid_auto_columns": null,
            "grid_auto_flow": null,
            "grid_auto_rows": null,
            "grid_column": null,
            "grid_gap": null,
            "grid_row": null,
            "grid_template_areas": null,
            "grid_template_columns": null,
            "grid_template_rows": null,
            "height": null,
            "justify_content": null,
            "justify_items": null,
            "left": null,
            "margin": null,
            "max_height": null,
            "max_width": null,
            "min_height": null,
            "min_width": null,
            "object_fit": null,
            "object_position": null,
            "order": null,
            "overflow": null,
            "overflow_x": null,
            "overflow_y": null,
            "padding": null,
            "right": null,
            "top": null,
            "visibility": null,
            "width": null
          }
        },
        "b1ffffd8139d404f860296cc415f4cb6": {
          "model_module": "@jupyter-widgets/controls",
          "model_module_version": "1.5.0",
          "model_name": "HTMLModel",
          "state": {
            "_dom_classes": [],
            "_model_module": "@jupyter-widgets/controls",
            "_model_module_version": "1.5.0",
            "_model_name": "HTMLModel",
            "_view_count": null,
            "_view_module": "@jupyter-widgets/controls",
            "_view_module_version": "1.5.0",
            "_view_name": "HTMLView",
            "description": "",
            "description_tooltip": null,
            "layout": "IPY_MODEL_2fb008ea05fc4630aec29ce79e9d4500",
            "placeholder": "​",
            "style": "IPY_MODEL_ec4e3cbb79ce4c6ebc105d27bc8dd84f",
            "value": " 2475/2475 [00:25&lt;00:00, 105.52it/s]"
          }
        },
        "b53ae7c00eea45db83f1aa78f09b4263": {
          "model_module": "@jupyter-widgets/base",
          "model_module_version": "1.2.0",
          "model_name": "LayoutModel",
          "state": {
            "_model_module": "@jupyter-widgets/base",
            "_model_module_version": "1.2.0",
            "_model_name": "LayoutModel",
            "_view_count": null,
            "_view_module": "@jupyter-widgets/base",
            "_view_module_version": "1.2.0",
            "_view_name": "LayoutView",
            "align_content": null,
            "align_items": null,
            "align_self": null,
            "border": null,
            "bottom": null,
            "display": null,
            "flex": null,
            "flex_flow": null,
            "grid_area": null,
            "grid_auto_columns": null,
            "grid_auto_flow": null,
            "grid_auto_rows": null,
            "grid_column": null,
            "grid_gap": null,
            "grid_row": null,
            "grid_template_areas": null,
            "grid_template_columns": null,
            "grid_template_rows": null,
            "height": null,
            "justify_content": null,
            "justify_items": null,
            "left": null,
            "margin": null,
            "max_height": null,
            "max_width": null,
            "min_height": null,
            "min_width": null,
            "object_fit": null,
            "object_position": null,
            "order": null,
            "overflow": null,
            "overflow_x": null,
            "overflow_y": null,
            "padding": null,
            "right": null,
            "top": null,
            "visibility": null,
            "width": null
          }
        },
        "c063f3b70b814cd9aee9d22371509dda": {
          "model_module": "@jupyter-widgets/controls",
          "model_module_version": "1.5.0",
          "model_name": "ProgressStyleModel",
          "state": {
            "_model_module": "@jupyter-widgets/controls",
            "_model_module_version": "1.5.0",
            "_model_name": "ProgressStyleModel",
            "_view_count": null,
            "_view_module": "@jupyter-widgets/base",
            "_view_module_version": "1.2.0",
            "_view_name": "StyleView",
            "bar_color": null,
            "description_width": ""
          }
        },
        "c7d94dfdc0934be69f0d7dfb5b687969": {
          "model_module": "@jupyter-widgets/controls",
          "model_module_version": "1.5.0",
          "model_name": "HTMLModel",
          "state": {
            "_dom_classes": [],
            "_model_module": "@jupyter-widgets/controls",
            "_model_module_version": "1.5.0",
            "_model_name": "HTMLModel",
            "_view_count": null,
            "_view_module": "@jupyter-widgets/controls",
            "_view_module_version": "1.5.0",
            "_view_name": "HTMLView",
            "description": "",
            "description_tooltip": null,
            "layout": "IPY_MODEL_53e6fc759a97437987b7ed384ff1dfac",
            "placeholder": "​",
            "style": "IPY_MODEL_cbbf715143b444fc8e27b5d081c7ba3a",
            "value": "100%"
          }
        },
        "cbbf715143b444fc8e27b5d081c7ba3a": {
          "model_module": "@jupyter-widgets/controls",
          "model_module_version": "1.5.0",
          "model_name": "DescriptionStyleModel",
          "state": {
            "_model_module": "@jupyter-widgets/controls",
            "_model_module_version": "1.5.0",
            "_model_name": "DescriptionStyleModel",
            "_view_count": null,
            "_view_module": "@jupyter-widgets/base",
            "_view_module_version": "1.2.0",
            "_view_name": "StyleView",
            "description_width": ""
          }
        },
        "de483ff1e3044a3fb069dd45d97a03d1": {
          "model_module": "@jupyter-widgets/base",
          "model_module_version": "1.2.0",
          "model_name": "LayoutModel",
          "state": {
            "_model_module": "@jupyter-widgets/base",
            "_model_module_version": "1.2.0",
            "_model_name": "LayoutModel",
            "_view_count": null,
            "_view_module": "@jupyter-widgets/base",
            "_view_module_version": "1.2.0",
            "_view_name": "LayoutView",
            "align_content": null,
            "align_items": null,
            "align_self": null,
            "border": null,
            "bottom": null,
            "display": null,
            "flex": null,
            "flex_flow": null,
            "grid_area": null,
            "grid_auto_columns": null,
            "grid_auto_flow": null,
            "grid_auto_rows": null,
            "grid_column": null,
            "grid_gap": null,
            "grid_row": null,
            "grid_template_areas": null,
            "grid_template_columns": null,
            "grid_template_rows": null,
            "height": null,
            "justify_content": null,
            "justify_items": null,
            "left": null,
            "margin": null,
            "max_height": null,
            "max_width": null,
            "min_height": null,
            "min_width": null,
            "object_fit": null,
            "object_position": null,
            "order": null,
            "overflow": null,
            "overflow_x": null,
            "overflow_y": null,
            "padding": null,
            "right": null,
            "top": null,
            "visibility": null,
            "width": null
          }
        },
        "ec4e3cbb79ce4c6ebc105d27bc8dd84f": {
          "model_module": "@jupyter-widgets/controls",
          "model_module_version": "1.5.0",
          "model_name": "DescriptionStyleModel",
          "state": {
            "_model_module": "@jupyter-widgets/controls",
            "_model_module_version": "1.5.0",
            "_model_name": "DescriptionStyleModel",
            "_view_count": null,
            "_view_module": "@jupyter-widgets/base",
            "_view_module_version": "1.2.0",
            "_view_name": "StyleView",
            "description_width": ""
          }
        },
        "f06c5f28dde24ad2822f33a7de2cd7e7": {
          "model_module": "@jupyter-widgets/controls",
          "model_module_version": "1.5.0",
          "model_name": "ProgressStyleModel",
          "state": {
            "_model_module": "@jupyter-widgets/controls",
            "_model_module_version": "1.5.0",
            "_model_name": "ProgressStyleModel",
            "_view_count": null,
            "_view_module": "@jupyter-widgets/base",
            "_view_module_version": "1.2.0",
            "_view_name": "StyleView",
            "bar_color": null,
            "description_width": ""
          }
        }
      }
    }
  },
  "nbformat": 4,
  "nbformat_minor": 0
}
