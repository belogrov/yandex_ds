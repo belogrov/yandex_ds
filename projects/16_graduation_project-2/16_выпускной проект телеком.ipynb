{
 "cells": [
  {
   "cell_type": "markdown",
   "metadata": {},
   "source": [
    "# Выпускной проект - телеком\n",
    "Оператор связи «Ниединогоразрыва.ком» хочет научиться прогнозировать отток клиентов. Если выяснится, что пользователь планирует уйти, ему будут предложены промокоды и специальные условия. Команда оператора собрала персональные данные о некоторых клиентах, информацию об их тарифах и договорах.\n",
    "# Описание услуг\n",
    "Оператор предоставляет два основных типа услуг:\n",
    "- Стационарную телефонную связь. Возможно подключение телефонного аппарата к нескольким линиям одновременно.\n",
    "- Интернет. Подключение может быть двух типов: через телефонную линию (DSL*,* от англ. digital subscriber line, «цифровая абонентская линия») или оптоволоконный кабель (Fiber optic).\n",
    "Также доступны такие услуги:\n",
    "- Интернет-безопасность: антивирус (DeviceProtection) и блокировка небезопасных сайтов (OnlineSecurity);\n",
    "- Выделенная линия технической поддержки (TechSupport);\n",
    "- Облачное хранилище файлов для резервного копирования данных (OnlineBackup);\n",
    "- Стриминговое телевидение (StreamingTV) и каталог фильмов (StreamingMovies).\n",
    "За услуги клиенты могут платить каждый месяц или заключить договор на 1–2 года. Доступны различные способы расчёта и возможность получения электронного чека.\n",
    "# Описание данных\n",
    "Данные состоят из файлов, полученных из разных источников:\n",
    "- contract.csv — информация о договоре;\n",
    "- personal.csv — персональные данные клиента;\n",
    "- internet.csv — информация об интернет-услугах;\n",
    "- phone.csv — информация об услугах телефонии.  \n",
    "\n",
    "Во всех файлах столбец customerID содержит код клиента. Информация о договорах актуальна на 1 февраля 2020.\n"
   ]
  },
  {
   "cell_type": "markdown",
   "metadata": {},
   "source": [
    "# Критерий оценки\n",
    "ROC_AUC < 0.75 - неудовлетворительно  \n",
    "0.75 <= ROC_AUC < 0.85 - удовлетворительно  \n",
    "0.85 <= ROC_AUC < 0.88 - хорошо  \n",
    "0.88 <= ROC_AUC - отлично"
   ]
  },
  {
   "cell_type": "markdown",
   "metadata": {},
   "source": [
    "## Импорт библиотек"
   ]
  },
  {
   "cell_type": "code",
   "execution_count": 2,
   "metadata": {},
   "outputs": [],
   "source": [
    "import pandas as pd\n",
    "import numpy as np\n",
    "\n",
    "import matplotlib.pyplot as plt\n",
    "\n",
    "import seaborn as sns\n",
    "# sns.set_theme()\n",
    "\n",
    "import plotly.express as px\n",
    "\n",
    "from tqdm.notebook import tqdm_notebook as tq_n"
   ]
  },
  {
   "cell_type": "code",
   "execution_count": 3,
   "metadata": {},
   "outputs": [],
   "source": [
    "from sklearn.model_selection import train_test_split, GridSearchCV, StratifiedKFold, cross_val_score, RepeatedStratifiedKFold\n",
    "\n",
    "from sklearn.feature_selection import RFECV\n",
    "\n",
    "from sklearn.preprocessing import OrdinalEncoder\n",
    "OE = OrdinalEncoder()"
   ]
  },
  {
   "cell_type": "code",
   "execution_count": 4,
   "metadata": {},
   "outputs": [],
   "source": [
    "from sklearn.metrics import f1_score, roc_auc_score, roc_curve, accuracy_score, confusion_matrix\n",
    "from sklearn.metrics import precision_score\n",
    "from sklearn.metrics import recall_score"
   ]
  },
  {
   "cell_type": "code",
   "execution_count": 5,
   "metadata": {},
   "outputs": [],
   "source": [
    "from catboost import CatBoostClassifier\n",
    "from sklearn.linear_model import LogisticRegression"
   ]
  },
  {
   "cell_type": "code",
   "execution_count": 6,
   "metadata": {},
   "outputs": [],
   "source": [
    "SCORING='roc_auc'\n",
    "RANDOM_STATE = 250722"
   ]
  },
  {
   "cell_type": "markdown",
   "metadata": {},
   "source": [
    "## Открытие файлов"
   ]
  },
  {
   "cell_type": "code",
   "execution_count": 7,
   "metadata": {},
   "outputs": [],
   "source": [
    "try:\n",
    "    df_contract = pd.read_csv('contract.csv')\n",
    "    df_personal = pd.read_csv('personal.csv')\n",
    "    df_internet = pd.read_csv('internet.csv')\n",
    "    df_phone = pd.read_csv('phone.csv')\n",
    "except:\n",
    "    pass"
   ]
  },
  {
   "cell_type": "markdown",
   "metadata": {},
   "source": [
    "### Изучение файлов"
   ]
  },
  {
   "cell_type": "markdown",
   "metadata": {},
   "source": [
    "#### Договоры"
   ]
  },
  {
   "cell_type": "code",
   "execution_count": 8,
   "metadata": {},
   "outputs": [
    {
     "data": {
      "text/html": [
       "<div>\n",
       "<style scoped>\n",
       "    .dataframe tbody tr th:only-of-type {\n",
       "        vertical-align: middle;\n",
       "    }\n",
       "\n",
       "    .dataframe tbody tr th {\n",
       "        vertical-align: top;\n",
       "    }\n",
       "\n",
       "    .dataframe thead th {\n",
       "        text-align: right;\n",
       "    }\n",
       "</style>\n",
       "<table border=\"1\" class=\"dataframe\">\n",
       "  <thead>\n",
       "    <tr style=\"text-align: right;\">\n",
       "      <th></th>\n",
       "      <th>customerID</th>\n",
       "      <th>BeginDate</th>\n",
       "      <th>EndDate</th>\n",
       "      <th>Type</th>\n",
       "      <th>PaperlessBilling</th>\n",
       "      <th>PaymentMethod</th>\n",
       "      <th>MonthlyCharges</th>\n",
       "      <th>TotalCharges</th>\n",
       "    </tr>\n",
       "  </thead>\n",
       "  <tbody>\n",
       "    <tr>\n",
       "      <th>0</th>\n",
       "      <td>7590-VHVEG</td>\n",
       "      <td>2020-01-01</td>\n",
       "      <td>No</td>\n",
       "      <td>Month-to-month</td>\n",
       "      <td>Yes</td>\n",
       "      <td>Electronic check</td>\n",
       "      <td>29.85</td>\n",
       "      <td>29.85</td>\n",
       "    </tr>\n",
       "    <tr>\n",
       "      <th>1</th>\n",
       "      <td>5575-GNVDE</td>\n",
       "      <td>2017-04-01</td>\n",
       "      <td>No</td>\n",
       "      <td>One year</td>\n",
       "      <td>No</td>\n",
       "      <td>Mailed check</td>\n",
       "      <td>56.95</td>\n",
       "      <td>1889.5</td>\n",
       "    </tr>\n",
       "    <tr>\n",
       "      <th>2</th>\n",
       "      <td>3668-QPYBK</td>\n",
       "      <td>2019-10-01</td>\n",
       "      <td>2019-12-01 00:00:00</td>\n",
       "      <td>Month-to-month</td>\n",
       "      <td>Yes</td>\n",
       "      <td>Mailed check</td>\n",
       "      <td>53.85</td>\n",
       "      <td>108.15</td>\n",
       "    </tr>\n",
       "    <tr>\n",
       "      <th>3</th>\n",
       "      <td>7795-CFOCW</td>\n",
       "      <td>2016-05-01</td>\n",
       "      <td>No</td>\n",
       "      <td>One year</td>\n",
       "      <td>No</td>\n",
       "      <td>Bank transfer (automatic)</td>\n",
       "      <td>42.30</td>\n",
       "      <td>1840.75</td>\n",
       "    </tr>\n",
       "    <tr>\n",
       "      <th>4</th>\n",
       "      <td>9237-HQITU</td>\n",
       "      <td>2019-09-01</td>\n",
       "      <td>2019-11-01 00:00:00</td>\n",
       "      <td>Month-to-month</td>\n",
       "      <td>Yes</td>\n",
       "      <td>Electronic check</td>\n",
       "      <td>70.70</td>\n",
       "      <td>151.65</td>\n",
       "    </tr>\n",
       "  </tbody>\n",
       "</table>\n",
       "</div>"
      ],
      "text/plain": [
       "   customerID   BeginDate              EndDate            Type  \\\n",
       "0  7590-VHVEG  2020-01-01                   No  Month-to-month   \n",
       "1  5575-GNVDE  2017-04-01                   No        One year   \n",
       "2  3668-QPYBK  2019-10-01  2019-12-01 00:00:00  Month-to-month   \n",
       "3  7795-CFOCW  2016-05-01                   No        One year   \n",
       "4  9237-HQITU  2019-09-01  2019-11-01 00:00:00  Month-to-month   \n",
       "\n",
       "  PaperlessBilling              PaymentMethod  MonthlyCharges TotalCharges  \n",
       "0              Yes           Electronic check           29.85        29.85  \n",
       "1               No               Mailed check           56.95       1889.5  \n",
       "2              Yes               Mailed check           53.85       108.15  \n",
       "3               No  Bank transfer (automatic)           42.30      1840.75  \n",
       "4              Yes           Electronic check           70.70       151.65  "
      ]
     },
     "execution_count": 8,
     "metadata": {},
     "output_type": "execute_result"
    }
   ],
   "source": [
    "df_contract.head()"
   ]
  },
  {
   "cell_type": "code",
   "execution_count": 9,
   "metadata": {},
   "outputs": [
    {
     "name": "stdout",
     "output_type": "stream",
     "text": [
      "<class 'pandas.core.frame.DataFrame'>\n",
      "RangeIndex: 7043 entries, 0 to 7042\n",
      "Data columns (total 8 columns):\n",
      " #   Column            Non-Null Count  Dtype  \n",
      "---  ------            --------------  -----  \n",
      " 0   customerID        7043 non-null   object \n",
      " 1   BeginDate         7043 non-null   object \n",
      " 2   EndDate           7043 non-null   object \n",
      " 3   Type              7043 non-null   object \n",
      " 4   PaperlessBilling  7043 non-null   object \n",
      " 5   PaymentMethod     7043 non-null   object \n",
      " 6   MonthlyCharges    7043 non-null   float64\n",
      " 7   TotalCharges      7043 non-null   object \n",
      "dtypes: float64(1), object(7)\n",
      "memory usage: 440.3+ KB\n"
     ]
    }
   ],
   "source": [
    "df_contract.info()"
   ]
  },
  {
   "cell_type": "markdown",
   "metadata": {},
   "source": [
    "#### Клиенты"
   ]
  },
  {
   "cell_type": "code",
   "execution_count": 10,
   "metadata": {},
   "outputs": [
    {
     "data": {
      "text/html": [
       "<div>\n",
       "<style scoped>\n",
       "    .dataframe tbody tr th:only-of-type {\n",
       "        vertical-align: middle;\n",
       "    }\n",
       "\n",
       "    .dataframe tbody tr th {\n",
       "        vertical-align: top;\n",
       "    }\n",
       "\n",
       "    .dataframe thead th {\n",
       "        text-align: right;\n",
       "    }\n",
       "</style>\n",
       "<table border=\"1\" class=\"dataframe\">\n",
       "  <thead>\n",
       "    <tr style=\"text-align: right;\">\n",
       "      <th></th>\n",
       "      <th>customerID</th>\n",
       "      <th>gender</th>\n",
       "      <th>SeniorCitizen</th>\n",
       "      <th>Partner</th>\n",
       "      <th>Dependents</th>\n",
       "    </tr>\n",
       "  </thead>\n",
       "  <tbody>\n",
       "    <tr>\n",
       "      <th>0</th>\n",
       "      <td>7590-VHVEG</td>\n",
       "      <td>Female</td>\n",
       "      <td>0</td>\n",
       "      <td>Yes</td>\n",
       "      <td>No</td>\n",
       "    </tr>\n",
       "    <tr>\n",
       "      <th>1</th>\n",
       "      <td>5575-GNVDE</td>\n",
       "      <td>Male</td>\n",
       "      <td>0</td>\n",
       "      <td>No</td>\n",
       "      <td>No</td>\n",
       "    </tr>\n",
       "    <tr>\n",
       "      <th>2</th>\n",
       "      <td>3668-QPYBK</td>\n",
       "      <td>Male</td>\n",
       "      <td>0</td>\n",
       "      <td>No</td>\n",
       "      <td>No</td>\n",
       "    </tr>\n",
       "    <tr>\n",
       "      <th>3</th>\n",
       "      <td>7795-CFOCW</td>\n",
       "      <td>Male</td>\n",
       "      <td>0</td>\n",
       "      <td>No</td>\n",
       "      <td>No</td>\n",
       "    </tr>\n",
       "    <tr>\n",
       "      <th>4</th>\n",
       "      <td>9237-HQITU</td>\n",
       "      <td>Female</td>\n",
       "      <td>0</td>\n",
       "      <td>No</td>\n",
       "      <td>No</td>\n",
       "    </tr>\n",
       "  </tbody>\n",
       "</table>\n",
       "</div>"
      ],
      "text/plain": [
       "   customerID  gender  SeniorCitizen Partner Dependents\n",
       "0  7590-VHVEG  Female              0     Yes         No\n",
       "1  5575-GNVDE    Male              0      No         No\n",
       "2  3668-QPYBK    Male              0      No         No\n",
       "3  7795-CFOCW    Male              0      No         No\n",
       "4  9237-HQITU  Female              0      No         No"
      ]
     },
     "execution_count": 10,
     "metadata": {},
     "output_type": "execute_result"
    }
   ],
   "source": [
    "df_personal.head()"
   ]
  },
  {
   "cell_type": "code",
   "execution_count": 11,
   "metadata": {},
   "outputs": [
    {
     "name": "stdout",
     "output_type": "stream",
     "text": [
      "<class 'pandas.core.frame.DataFrame'>\n",
      "RangeIndex: 7043 entries, 0 to 7042\n",
      "Data columns (total 5 columns):\n",
      " #   Column         Non-Null Count  Dtype \n",
      "---  ------         --------------  ----- \n",
      " 0   customerID     7043 non-null   object\n",
      " 1   gender         7043 non-null   object\n",
      " 2   SeniorCitizen  7043 non-null   int64 \n",
      " 3   Partner        7043 non-null   object\n",
      " 4   Dependents     7043 non-null   object\n",
      "dtypes: int64(1), object(4)\n",
      "memory usage: 275.2+ KB\n"
     ]
    }
   ],
   "source": [
    "df_personal.info()"
   ]
  },
  {
   "cell_type": "markdown",
   "metadata": {},
   "source": [
    "#### Интернет услуги"
   ]
  },
  {
   "cell_type": "code",
   "execution_count": 12,
   "metadata": {},
   "outputs": [
    {
     "data": {
      "text/html": [
       "<div>\n",
       "<style scoped>\n",
       "    .dataframe tbody tr th:only-of-type {\n",
       "        vertical-align: middle;\n",
       "    }\n",
       "\n",
       "    .dataframe tbody tr th {\n",
       "        vertical-align: top;\n",
       "    }\n",
       "\n",
       "    .dataframe thead th {\n",
       "        text-align: right;\n",
       "    }\n",
       "</style>\n",
       "<table border=\"1\" class=\"dataframe\">\n",
       "  <thead>\n",
       "    <tr style=\"text-align: right;\">\n",
       "      <th></th>\n",
       "      <th>customerID</th>\n",
       "      <th>InternetService</th>\n",
       "      <th>OnlineSecurity</th>\n",
       "      <th>OnlineBackup</th>\n",
       "      <th>DeviceProtection</th>\n",
       "      <th>TechSupport</th>\n",
       "      <th>StreamingTV</th>\n",
       "      <th>StreamingMovies</th>\n",
       "    </tr>\n",
       "  </thead>\n",
       "  <tbody>\n",
       "    <tr>\n",
       "      <th>0</th>\n",
       "      <td>7590-VHVEG</td>\n",
       "      <td>DSL</td>\n",
       "      <td>No</td>\n",
       "      <td>Yes</td>\n",
       "      <td>No</td>\n",
       "      <td>No</td>\n",
       "      <td>No</td>\n",
       "      <td>No</td>\n",
       "    </tr>\n",
       "    <tr>\n",
       "      <th>1</th>\n",
       "      <td>5575-GNVDE</td>\n",
       "      <td>DSL</td>\n",
       "      <td>Yes</td>\n",
       "      <td>No</td>\n",
       "      <td>Yes</td>\n",
       "      <td>No</td>\n",
       "      <td>No</td>\n",
       "      <td>No</td>\n",
       "    </tr>\n",
       "    <tr>\n",
       "      <th>2</th>\n",
       "      <td>3668-QPYBK</td>\n",
       "      <td>DSL</td>\n",
       "      <td>Yes</td>\n",
       "      <td>Yes</td>\n",
       "      <td>No</td>\n",
       "      <td>No</td>\n",
       "      <td>No</td>\n",
       "      <td>No</td>\n",
       "    </tr>\n",
       "    <tr>\n",
       "      <th>3</th>\n",
       "      <td>7795-CFOCW</td>\n",
       "      <td>DSL</td>\n",
       "      <td>Yes</td>\n",
       "      <td>No</td>\n",
       "      <td>Yes</td>\n",
       "      <td>Yes</td>\n",
       "      <td>No</td>\n",
       "      <td>No</td>\n",
       "    </tr>\n",
       "    <tr>\n",
       "      <th>4</th>\n",
       "      <td>9237-HQITU</td>\n",
       "      <td>Fiber optic</td>\n",
       "      <td>No</td>\n",
       "      <td>No</td>\n",
       "      <td>No</td>\n",
       "      <td>No</td>\n",
       "      <td>No</td>\n",
       "      <td>No</td>\n",
       "    </tr>\n",
       "  </tbody>\n",
       "</table>\n",
       "</div>"
      ],
      "text/plain": [
       "   customerID InternetService OnlineSecurity OnlineBackup DeviceProtection  \\\n",
       "0  7590-VHVEG             DSL             No          Yes               No   \n",
       "1  5575-GNVDE             DSL            Yes           No              Yes   \n",
       "2  3668-QPYBK             DSL            Yes          Yes               No   \n",
       "3  7795-CFOCW             DSL            Yes           No              Yes   \n",
       "4  9237-HQITU     Fiber optic             No           No               No   \n",
       "\n",
       "  TechSupport StreamingTV StreamingMovies  \n",
       "0          No          No              No  \n",
       "1          No          No              No  \n",
       "2          No          No              No  \n",
       "3         Yes          No              No  \n",
       "4          No          No              No  "
      ]
     },
     "execution_count": 12,
     "metadata": {},
     "output_type": "execute_result"
    }
   ],
   "source": [
    "df_internet.head()"
   ]
  },
  {
   "cell_type": "code",
   "execution_count": 13,
   "metadata": {},
   "outputs": [
    {
     "name": "stdout",
     "output_type": "stream",
     "text": [
      "<class 'pandas.core.frame.DataFrame'>\n",
      "RangeIndex: 5517 entries, 0 to 5516\n",
      "Data columns (total 8 columns):\n",
      " #   Column            Non-Null Count  Dtype \n",
      "---  ------            --------------  ----- \n",
      " 0   customerID        5517 non-null   object\n",
      " 1   InternetService   5517 non-null   object\n",
      " 2   OnlineSecurity    5517 non-null   object\n",
      " 3   OnlineBackup      5517 non-null   object\n",
      " 4   DeviceProtection  5517 non-null   object\n",
      " 5   TechSupport       5517 non-null   object\n",
      " 6   StreamingTV       5517 non-null   object\n",
      " 7   StreamingMovies   5517 non-null   object\n",
      "dtypes: object(8)\n",
      "memory usage: 344.9+ KB\n"
     ]
    }
   ],
   "source": [
    "df_internet.info()"
   ]
  },
  {
   "cell_type": "markdown",
   "metadata": {},
   "source": [
    "#### Телефония"
   ]
  },
  {
   "cell_type": "code",
   "execution_count": 14,
   "metadata": {},
   "outputs": [
    {
     "data": {
      "text/html": [
       "<div>\n",
       "<style scoped>\n",
       "    .dataframe tbody tr th:only-of-type {\n",
       "        vertical-align: middle;\n",
       "    }\n",
       "\n",
       "    .dataframe tbody tr th {\n",
       "        vertical-align: top;\n",
       "    }\n",
       "\n",
       "    .dataframe thead th {\n",
       "        text-align: right;\n",
       "    }\n",
       "</style>\n",
       "<table border=\"1\" class=\"dataframe\">\n",
       "  <thead>\n",
       "    <tr style=\"text-align: right;\">\n",
       "      <th></th>\n",
       "      <th>customerID</th>\n",
       "      <th>MultipleLines</th>\n",
       "    </tr>\n",
       "  </thead>\n",
       "  <tbody>\n",
       "    <tr>\n",
       "      <th>0</th>\n",
       "      <td>5575-GNVDE</td>\n",
       "      <td>No</td>\n",
       "    </tr>\n",
       "    <tr>\n",
       "      <th>1</th>\n",
       "      <td>3668-QPYBK</td>\n",
       "      <td>No</td>\n",
       "    </tr>\n",
       "    <tr>\n",
       "      <th>2</th>\n",
       "      <td>9237-HQITU</td>\n",
       "      <td>No</td>\n",
       "    </tr>\n",
       "    <tr>\n",
       "      <th>3</th>\n",
       "      <td>9305-CDSKC</td>\n",
       "      <td>Yes</td>\n",
       "    </tr>\n",
       "    <tr>\n",
       "      <th>4</th>\n",
       "      <td>1452-KIOVK</td>\n",
       "      <td>Yes</td>\n",
       "    </tr>\n",
       "  </tbody>\n",
       "</table>\n",
       "</div>"
      ],
      "text/plain": [
       "   customerID MultipleLines\n",
       "0  5575-GNVDE            No\n",
       "1  3668-QPYBK            No\n",
       "2  9237-HQITU            No\n",
       "3  9305-CDSKC           Yes\n",
       "4  1452-KIOVK           Yes"
      ]
     },
     "execution_count": 14,
     "metadata": {},
     "output_type": "execute_result"
    }
   ],
   "source": [
    "df_phone.head()"
   ]
  },
  {
   "cell_type": "code",
   "execution_count": 15,
   "metadata": {},
   "outputs": [
    {
     "name": "stdout",
     "output_type": "stream",
     "text": [
      "<class 'pandas.core.frame.DataFrame'>\n",
      "RangeIndex: 6361 entries, 0 to 6360\n",
      "Data columns (total 2 columns):\n",
      " #   Column         Non-Null Count  Dtype \n",
      "---  ------         --------------  ----- \n",
      " 0   customerID     6361 non-null   object\n",
      " 1   MultipleLines  6361 non-null   object\n",
      "dtypes: object(2)\n",
      "memory usage: 99.5+ KB\n"
     ]
    }
   ],
   "source": [
    "df_phone.info()"
   ]
  },
  {
   "cell_type": "markdown",
   "metadata": {},
   "source": [
    "## Предобработка данных"
   ]
  },
  {
   "cell_type": "markdown",
   "metadata": {},
   "source": [
    "### Контракты"
   ]
  },
  {
   "cell_type": "markdown",
   "metadata": {},
   "source": [
    "В таблице `контракты`, отсутсвует целевой признак.  Введем его. т.к. наша задача - это задача бинарной классификации(уйдет клиент или останется), то создадим столбец, в котром `1` - значает, что клиент уйдет, а `0` - останется.  \n",
    "Так же введем новый признак: сколько времени пользователь является клиентом компании."
   ]
  },
  {
   "cell_type": "code",
   "execution_count": 16,
   "metadata": {},
   "outputs": [],
   "source": [
    "# столбец is_left\n",
    "df_contract['is_left'] = df_contract['EndDate'].apply(lambda x: 0 if x=='No' else 1)\n",
    "\n",
    "# даты с No заменим на актуальные\n",
    "df_contract.loc[df_contract['EndDate'] == 'No', 'EndDate'] = '2020-02-01'\n",
    "\n",
    "# изменим тип данных в столбцах со временем\n",
    "df_contract[['BeginDate', 'EndDate']] = df_contract[['BeginDate', 'EndDate']].apply(pd.to_datetime)\n",
    "\n",
    "# новый признак\n",
    "df_contract['time_use'] = (df_contract['EndDate'] - df_contract['BeginDate']).apply(lambda x: x.days)"
   ]
  },
  {
   "cell_type": "code",
   "execution_count": 17,
   "metadata": {},
   "outputs": [
    {
     "data": {
      "text/plain": [
       "0    5174\n",
       "1    1869\n",
       "Name: is_left, dtype: int64"
      ]
     },
     "execution_count": 17,
     "metadata": {},
     "output_type": "execute_result"
    }
   ],
   "source": [
    "# проверка\n",
    "df_contract['is_left'].value_counts()"
   ]
  },
  {
   "cell_type": "markdown",
   "metadata": {},
   "source": [
    "Изменим тип столбца `TotalCharges`"
   ]
  },
  {
   "cell_type": "code",
   "execution_count": 18,
   "metadata": {},
   "outputs": [
    {
     "name": "stdout",
     "output_type": "stream",
     "text": [
      "ошибка\n"
     ]
    }
   ],
   "source": [
    "try:\n",
    "    df_contract['TotalCharges'] = df_contract['TotalCharges'].apply(pd.to_numeric)\n",
    "except:\n",
    "    print('ошибка')"
   ]
  },
  {
   "cell_type": "markdown",
   "metadata": {},
   "source": [
    "Проверим, из-за чего возникает ошибка, при изменении типа данных в столбце `TotalCharges`"
   ]
  },
  {
   "cell_type": "code",
   "execution_count": 19,
   "metadata": {},
   "outputs": [
    {
     "data": {
      "text/plain": [
       "           11\n",
       "20.2       11\n",
       "19.75       9\n",
       "20.05       8\n",
       "19.9        8\n",
       "           ..\n",
       "3886.45     1\n",
       "1224.05     1\n",
       "2310.2      1\n",
       "723.4       1\n",
       "6844.5      1\n",
       "Name: TotalCharges, Length: 6531, dtype: int64"
      ]
     },
     "execution_count": 19,
     "metadata": {},
     "output_type": "execute_result"
    }
   ],
   "source": [
    "df_contract['TotalCharges'].value_counts().sort_values(ascending=False)"
   ]
  },
  {
   "cell_type": "markdown",
   "metadata": {},
   "source": [
    "В столбце присутствует пустые значения `' '`. Рассмотрим их"
   ]
  },
  {
   "cell_type": "code",
   "execution_count": 20,
   "metadata": {},
   "outputs": [
    {
     "data": {
      "text/html": [
       "<div>\n",
       "<style scoped>\n",
       "    .dataframe tbody tr th:only-of-type {\n",
       "        vertical-align: middle;\n",
       "    }\n",
       "\n",
       "    .dataframe tbody tr th {\n",
       "        vertical-align: top;\n",
       "    }\n",
       "\n",
       "    .dataframe thead th {\n",
       "        text-align: right;\n",
       "    }\n",
       "</style>\n",
       "<table border=\"1\" class=\"dataframe\">\n",
       "  <thead>\n",
       "    <tr style=\"text-align: right;\">\n",
       "      <th></th>\n",
       "      <th>customerID</th>\n",
       "      <th>BeginDate</th>\n",
       "      <th>EndDate</th>\n",
       "      <th>Type</th>\n",
       "      <th>PaperlessBilling</th>\n",
       "      <th>PaymentMethod</th>\n",
       "      <th>MonthlyCharges</th>\n",
       "      <th>TotalCharges</th>\n",
       "      <th>is_left</th>\n",
       "      <th>time_use</th>\n",
       "    </tr>\n",
       "  </thead>\n",
       "  <tbody>\n",
       "    <tr>\n",
       "      <th>488</th>\n",
       "      <td>4472-LVYGI</td>\n",
       "      <td>2020-02-01</td>\n",
       "      <td>2020-02-01</td>\n",
       "      <td>Two year</td>\n",
       "      <td>Yes</td>\n",
       "      <td>Bank transfer (automatic)</td>\n",
       "      <td>52.55</td>\n",
       "      <td></td>\n",
       "      <td>0</td>\n",
       "      <td>0</td>\n",
       "    </tr>\n",
       "    <tr>\n",
       "      <th>753</th>\n",
       "      <td>3115-CZMZD</td>\n",
       "      <td>2020-02-01</td>\n",
       "      <td>2020-02-01</td>\n",
       "      <td>Two year</td>\n",
       "      <td>No</td>\n",
       "      <td>Mailed check</td>\n",
       "      <td>20.25</td>\n",
       "      <td></td>\n",
       "      <td>0</td>\n",
       "      <td>0</td>\n",
       "    </tr>\n",
       "    <tr>\n",
       "      <th>936</th>\n",
       "      <td>5709-LVOEQ</td>\n",
       "      <td>2020-02-01</td>\n",
       "      <td>2020-02-01</td>\n",
       "      <td>Two year</td>\n",
       "      <td>No</td>\n",
       "      <td>Mailed check</td>\n",
       "      <td>80.85</td>\n",
       "      <td></td>\n",
       "      <td>0</td>\n",
       "      <td>0</td>\n",
       "    </tr>\n",
       "    <tr>\n",
       "      <th>1082</th>\n",
       "      <td>4367-NUYAO</td>\n",
       "      <td>2020-02-01</td>\n",
       "      <td>2020-02-01</td>\n",
       "      <td>Two year</td>\n",
       "      <td>No</td>\n",
       "      <td>Mailed check</td>\n",
       "      <td>25.75</td>\n",
       "      <td></td>\n",
       "      <td>0</td>\n",
       "      <td>0</td>\n",
       "    </tr>\n",
       "    <tr>\n",
       "      <th>1340</th>\n",
       "      <td>1371-DWPAZ</td>\n",
       "      <td>2020-02-01</td>\n",
       "      <td>2020-02-01</td>\n",
       "      <td>Two year</td>\n",
       "      <td>No</td>\n",
       "      <td>Credit card (automatic)</td>\n",
       "      <td>56.05</td>\n",
       "      <td></td>\n",
       "      <td>0</td>\n",
       "      <td>0</td>\n",
       "    </tr>\n",
       "    <tr>\n",
       "      <th>3331</th>\n",
       "      <td>7644-OMVMY</td>\n",
       "      <td>2020-02-01</td>\n",
       "      <td>2020-02-01</td>\n",
       "      <td>Two year</td>\n",
       "      <td>No</td>\n",
       "      <td>Mailed check</td>\n",
       "      <td>19.85</td>\n",
       "      <td></td>\n",
       "      <td>0</td>\n",
       "      <td>0</td>\n",
       "    </tr>\n",
       "    <tr>\n",
       "      <th>3826</th>\n",
       "      <td>3213-VVOLG</td>\n",
       "      <td>2020-02-01</td>\n",
       "      <td>2020-02-01</td>\n",
       "      <td>Two year</td>\n",
       "      <td>No</td>\n",
       "      <td>Mailed check</td>\n",
       "      <td>25.35</td>\n",
       "      <td></td>\n",
       "      <td>0</td>\n",
       "      <td>0</td>\n",
       "    </tr>\n",
       "    <tr>\n",
       "      <th>4380</th>\n",
       "      <td>2520-SGTTA</td>\n",
       "      <td>2020-02-01</td>\n",
       "      <td>2020-02-01</td>\n",
       "      <td>Two year</td>\n",
       "      <td>No</td>\n",
       "      <td>Mailed check</td>\n",
       "      <td>20.00</td>\n",
       "      <td></td>\n",
       "      <td>0</td>\n",
       "      <td>0</td>\n",
       "    </tr>\n",
       "    <tr>\n",
       "      <th>5218</th>\n",
       "      <td>2923-ARZLG</td>\n",
       "      <td>2020-02-01</td>\n",
       "      <td>2020-02-01</td>\n",
       "      <td>One year</td>\n",
       "      <td>Yes</td>\n",
       "      <td>Mailed check</td>\n",
       "      <td>19.70</td>\n",
       "      <td></td>\n",
       "      <td>0</td>\n",
       "      <td>0</td>\n",
       "    </tr>\n",
       "    <tr>\n",
       "      <th>6670</th>\n",
       "      <td>4075-WKNIU</td>\n",
       "      <td>2020-02-01</td>\n",
       "      <td>2020-02-01</td>\n",
       "      <td>Two year</td>\n",
       "      <td>No</td>\n",
       "      <td>Mailed check</td>\n",
       "      <td>73.35</td>\n",
       "      <td></td>\n",
       "      <td>0</td>\n",
       "      <td>0</td>\n",
       "    </tr>\n",
       "    <tr>\n",
       "      <th>6754</th>\n",
       "      <td>2775-SEFEE</td>\n",
       "      <td>2020-02-01</td>\n",
       "      <td>2020-02-01</td>\n",
       "      <td>Two year</td>\n",
       "      <td>Yes</td>\n",
       "      <td>Bank transfer (automatic)</td>\n",
       "      <td>61.90</td>\n",
       "      <td></td>\n",
       "      <td>0</td>\n",
       "      <td>0</td>\n",
       "    </tr>\n",
       "  </tbody>\n",
       "</table>\n",
       "</div>"
      ],
      "text/plain": [
       "      customerID  BeginDate    EndDate      Type PaperlessBilling  \\\n",
       "488   4472-LVYGI 2020-02-01 2020-02-01  Two year              Yes   \n",
       "753   3115-CZMZD 2020-02-01 2020-02-01  Two year               No   \n",
       "936   5709-LVOEQ 2020-02-01 2020-02-01  Two year               No   \n",
       "1082  4367-NUYAO 2020-02-01 2020-02-01  Two year               No   \n",
       "1340  1371-DWPAZ 2020-02-01 2020-02-01  Two year               No   \n",
       "3331  7644-OMVMY 2020-02-01 2020-02-01  Two year               No   \n",
       "3826  3213-VVOLG 2020-02-01 2020-02-01  Two year               No   \n",
       "4380  2520-SGTTA 2020-02-01 2020-02-01  Two year               No   \n",
       "5218  2923-ARZLG 2020-02-01 2020-02-01  One year              Yes   \n",
       "6670  4075-WKNIU 2020-02-01 2020-02-01  Two year               No   \n",
       "6754  2775-SEFEE 2020-02-01 2020-02-01  Two year              Yes   \n",
       "\n",
       "                  PaymentMethod  MonthlyCharges TotalCharges  is_left  \\\n",
       "488   Bank transfer (automatic)           52.55                     0   \n",
       "753                Mailed check           20.25                     0   \n",
       "936                Mailed check           80.85                     0   \n",
       "1082               Mailed check           25.75                     0   \n",
       "1340    Credit card (automatic)           56.05                     0   \n",
       "3331               Mailed check           19.85                     0   \n",
       "3826               Mailed check           25.35                     0   \n",
       "4380               Mailed check           20.00                     0   \n",
       "5218               Mailed check           19.70                     0   \n",
       "6670               Mailed check           73.35                     0   \n",
       "6754  Bank transfer (automatic)           61.90                     0   \n",
       "\n",
       "      time_use  \n",
       "488          0  \n",
       "753          0  \n",
       "936          0  \n",
       "1082         0  \n",
       "1340         0  \n",
       "3331         0  \n",
       "3826         0  \n",
       "4380         0  \n",
       "5218         0  \n",
       "6670         0  \n",
       "6754         0  "
      ]
     },
     "execution_count": 20,
     "metadata": {},
     "output_type": "execute_result"
    }
   ],
   "source": [
    "df_contract[df_contract['TotalCharges'] == ' ']"
   ]
  },
  {
   "cell_type": "markdown",
   "metadata": {},
   "source": [
    "11 позиций с пустым значением в столбце `TotalCharges`. Эти пользователи заключили контракт в последнюю дату нашего датасета. Удалим их, т.к. они не несут смысловой нагрузки."
   ]
  },
  {
   "cell_type": "code",
   "execution_count": 21,
   "metadata": {},
   "outputs": [],
   "source": [
    "df_contract = df_contract.loc[df_contract['TotalCharges'] != ' ']"
   ]
  },
  {
   "cell_type": "code",
   "execution_count": 22,
   "metadata": {},
   "outputs": [],
   "source": [
    "try:\n",
    "    df_contract['TotalCharges'] = df_contract['TotalCharges'].apply(pd.to_numeric)\n",
    "except:\n",
    "    print('ошибка')"
   ]
  },
  {
   "cell_type": "markdown",
   "metadata": {},
   "source": [
    "Поменяем местами столбцы. Это нужно для лучшего ориентира в столбцах."
   ]
  },
  {
   "cell_type": "code",
   "execution_count": 23,
   "metadata": {},
   "outputs": [],
   "source": [
    "df_contract = df_contract.reindex(columns=[\n",
    "    'customerID',\n",
    "    'BeginDate', 'EndDate', # Замена\n",
    "    'MonthlyCharges',\n",
    "    'TotalCharges',\n",
    "    'time_use',\n",
    "    'is_left',\n",
    "    'Type',\n",
    "    'PaperlessBilling',\n",
    "    'PaymentMethod'\n",
    "])"
   ]
  },
  {
   "cell_type": "code",
   "execution_count": 24,
   "metadata": {},
   "outputs": [
    {
     "data": {
      "text/html": [
       "<div>\n",
       "<style scoped>\n",
       "    .dataframe tbody tr th:only-of-type {\n",
       "        vertical-align: middle;\n",
       "    }\n",
       "\n",
       "    .dataframe tbody tr th {\n",
       "        vertical-align: top;\n",
       "    }\n",
       "\n",
       "    .dataframe thead th {\n",
       "        text-align: right;\n",
       "    }\n",
       "</style>\n",
       "<table border=\"1\" class=\"dataframe\">\n",
       "  <thead>\n",
       "    <tr style=\"text-align: right;\">\n",
       "      <th></th>\n",
       "      <th>customerID</th>\n",
       "      <th>BeginDate</th>\n",
       "      <th>EndDate</th>\n",
       "      <th>MonthlyCharges</th>\n",
       "      <th>TotalCharges</th>\n",
       "      <th>time_use</th>\n",
       "      <th>is_left</th>\n",
       "      <th>Type</th>\n",
       "      <th>PaperlessBilling</th>\n",
       "      <th>PaymentMethod</th>\n",
       "    </tr>\n",
       "  </thead>\n",
       "  <tbody>\n",
       "    <tr>\n",
       "      <th>0</th>\n",
       "      <td>7590-VHVEG</td>\n",
       "      <td>2020-01-01</td>\n",
       "      <td>2020-02-01</td>\n",
       "      <td>29.85</td>\n",
       "      <td>29.85</td>\n",
       "      <td>31</td>\n",
       "      <td>0</td>\n",
       "      <td>Month-to-month</td>\n",
       "      <td>Yes</td>\n",
       "      <td>Electronic check</td>\n",
       "    </tr>\n",
       "    <tr>\n",
       "      <th>1</th>\n",
       "      <td>5575-GNVDE</td>\n",
       "      <td>2017-04-01</td>\n",
       "      <td>2020-02-01</td>\n",
       "      <td>56.95</td>\n",
       "      <td>1889.50</td>\n",
       "      <td>1036</td>\n",
       "      <td>0</td>\n",
       "      <td>One year</td>\n",
       "      <td>No</td>\n",
       "      <td>Mailed check</td>\n",
       "    </tr>\n",
       "    <tr>\n",
       "      <th>2</th>\n",
       "      <td>3668-QPYBK</td>\n",
       "      <td>2019-10-01</td>\n",
       "      <td>2019-12-01</td>\n",
       "      <td>53.85</td>\n",
       "      <td>108.15</td>\n",
       "      <td>61</td>\n",
       "      <td>1</td>\n",
       "      <td>Month-to-month</td>\n",
       "      <td>Yes</td>\n",
       "      <td>Mailed check</td>\n",
       "    </tr>\n",
       "    <tr>\n",
       "      <th>3</th>\n",
       "      <td>7795-CFOCW</td>\n",
       "      <td>2016-05-01</td>\n",
       "      <td>2020-02-01</td>\n",
       "      <td>42.30</td>\n",
       "      <td>1840.75</td>\n",
       "      <td>1371</td>\n",
       "      <td>0</td>\n",
       "      <td>One year</td>\n",
       "      <td>No</td>\n",
       "      <td>Bank transfer (automatic)</td>\n",
       "    </tr>\n",
       "    <tr>\n",
       "      <th>4</th>\n",
       "      <td>9237-HQITU</td>\n",
       "      <td>2019-09-01</td>\n",
       "      <td>2019-11-01</td>\n",
       "      <td>70.70</td>\n",
       "      <td>151.65</td>\n",
       "      <td>61</td>\n",
       "      <td>1</td>\n",
       "      <td>Month-to-month</td>\n",
       "      <td>Yes</td>\n",
       "      <td>Electronic check</td>\n",
       "    </tr>\n",
       "  </tbody>\n",
       "</table>\n",
       "</div>"
      ],
      "text/plain": [
       "   customerID  BeginDate    EndDate  MonthlyCharges  TotalCharges  time_use  \\\n",
       "0  7590-VHVEG 2020-01-01 2020-02-01           29.85         29.85        31   \n",
       "1  5575-GNVDE 2017-04-01 2020-02-01           56.95       1889.50      1036   \n",
       "2  3668-QPYBK 2019-10-01 2019-12-01           53.85        108.15        61   \n",
       "3  7795-CFOCW 2016-05-01 2020-02-01           42.30       1840.75      1371   \n",
       "4  9237-HQITU 2019-09-01 2019-11-01           70.70        151.65        61   \n",
       "\n",
       "   is_left            Type PaperlessBilling              PaymentMethod  \n",
       "0        0  Month-to-month              Yes           Electronic check  \n",
       "1        0        One year               No               Mailed check  \n",
       "2        1  Month-to-month              Yes               Mailed check  \n",
       "3        0        One year               No  Bank transfer (automatic)  \n",
       "4        1  Month-to-month              Yes           Electronic check  "
      ]
     },
     "execution_count": 24,
     "metadata": {},
     "output_type": "execute_result"
    }
   ],
   "source": [
    "df_contract.head()"
   ]
  },
  {
   "cell_type": "code",
   "execution_count": 25,
   "metadata": {},
   "outputs": [
    {
     "data": {
      "text/plain": [
       "customerID                  object\n",
       "BeginDate           datetime64[ns]\n",
       "EndDate             datetime64[ns]\n",
       "MonthlyCharges             float64\n",
       "TotalCharges               float64\n",
       "time_use                     int64\n",
       "is_left                      int64\n",
       "Type                        object\n",
       "PaperlessBilling            object\n",
       "PaymentMethod               object\n",
       "dtype: object"
      ]
     },
     "execution_count": 25,
     "metadata": {},
     "output_type": "execute_result"
    }
   ],
   "source": [
    "df_contract.dtypes"
   ]
  },
  {
   "cell_type": "markdown",
   "metadata": {},
   "source": [
    "### Клиенты"
   ]
  },
  {
   "cell_type": "markdown",
   "metadata": {},
   "source": [
    "Изменим значения в столбце `SeniorCitizen` на `Yes` и `No`"
   ]
  },
  {
   "cell_type": "code",
   "execution_count": 26,
   "metadata": {},
   "outputs": [
    {
     "data": {
      "text/plain": [
       "array(['No', 'Yes'], dtype=object)"
      ]
     },
     "execution_count": 26,
     "metadata": {},
     "output_type": "execute_result"
    }
   ],
   "source": [
    "df_personal['SeniorCitizen'] = df_personal['SeniorCitizen'].apply(lambda x: 'Yes' if x==1 else 'No')\n",
    "df_personal['SeniorCitizen'].unique()"
   ]
  },
  {
   "cell_type": "markdown",
   "metadata": {},
   "source": [
    "## Анализ"
   ]
  },
  {
   "cell_type": "markdown",
   "metadata": {},
   "source": [
    "Рассмотрим распределения ежемесячных поступлений от ушедших и оставшихся клиентов."
   ]
  },
  {
   "cell_type": "code",
   "execution_count": 27,
   "metadata": {},
   "outputs": [
    {
     "data": {
      "text/html": [
       "<div>\n",
       "<style scoped>\n",
       "    .dataframe tbody tr th:only-of-type {\n",
       "        vertical-align: middle;\n",
       "    }\n",
       "\n",
       "    .dataframe tbody tr th {\n",
       "        vertical-align: top;\n",
       "    }\n",
       "\n",
       "    .dataframe thead th {\n",
       "        text-align: right;\n",
       "    }\n",
       "</style>\n",
       "<table border=\"1\" class=\"dataframe\">\n",
       "  <thead>\n",
       "    <tr style=\"text-align: right;\">\n",
       "      <th></th>\n",
       "      <th>Остались</th>\n",
       "      <th>Ушли</th>\n",
       "    </tr>\n",
       "  </thead>\n",
       "  <tbody>\n",
       "    <tr>\n",
       "      <th>mean</th>\n",
       "      <td>61.31</td>\n",
       "      <td>74.44</td>\n",
       "    </tr>\n",
       "    <tr>\n",
       "      <th>std</th>\n",
       "      <td>31.09</td>\n",
       "      <td>24.67</td>\n",
       "    </tr>\n",
       "    <tr>\n",
       "      <th>min</th>\n",
       "      <td>18.25</td>\n",
       "      <td>18.85</td>\n",
       "    </tr>\n",
       "    <tr>\n",
       "      <th>25%</th>\n",
       "      <td>25.10</td>\n",
       "      <td>56.15</td>\n",
       "    </tr>\n",
       "    <tr>\n",
       "      <th>50%</th>\n",
       "      <td>64.45</td>\n",
       "      <td>79.65</td>\n",
       "    </tr>\n",
       "    <tr>\n",
       "      <th>75%</th>\n",
       "      <td>88.48</td>\n",
       "      <td>94.20</td>\n",
       "    </tr>\n",
       "    <tr>\n",
       "      <th>max</th>\n",
       "      <td>118.75</td>\n",
       "      <td>118.35</td>\n",
       "    </tr>\n",
       "  </tbody>\n",
       "</table>\n",
       "</div>"
      ],
      "text/plain": [
       "      Остались    Ушли\n",
       "mean     61.31   74.44\n",
       "std      31.09   24.67\n",
       "min      18.25   18.85\n",
       "25%      25.10   56.15\n",
       "50%      64.45   79.65\n",
       "75%      88.48   94.20\n",
       "max     118.75  118.35"
      ]
     },
     "execution_count": 27,
     "metadata": {},
     "output_type": "execute_result"
    },
    {
     "data": {
      "image/png": "[encoded data removed]",
      "text/plain": [
       "<Figure size 576x576 with 1 Axes>"
      ]
     },
     "metadata": {
      "needs_background": "light"
     },
     "output_type": "display_data"
    }
   ],
   "source": [
    "df_contract.boxplot(\n",
    "    'MonthlyCharges',\n",
    "    by='is_left',\n",
    "    figsize=(8,8),\n",
    "    showmeans=True\n",
    ")\n",
    "\n",
    "pd.concat(\n",
    "    [df_contract[df_contract['is_left']==0]['MonthlyCharges'].describe().round(2),\n",
    "    df_contract[df_contract['is_left']==1]['MonthlyCharges'].describe().round(2)], axis=1\n",
    "    ).set_axis(['Остались', 'Ушли'], axis=1).iloc[1:]"
   ]
  },
  {
   "cell_type": "markdown",
   "metadata": {},
   "source": [
    "Клиенты, разорвавшие контракт, в среднем, производили больше ежемесячных поступлений."
   ]
  },
  {
   "cell_type": "markdown",
   "metadata": {},
   "source": [
    "Введем еще два признака:\n",
    "- клиент пользуется интернетом\n",
    "- клиент пользуется телефонной связью"
   ]
  },
  {
   "cell_type": "code",
   "execution_count": 28,
   "metadata": {},
   "outputs": [],
   "source": [
    "df_contract['is_phone'] = df_contract['customerID'].isin(\n",
    "    df_phone['customerID']).apply(lambda x: 0 if x == False else 1)\n",
    "\n",
    "df_contract['is_internet'] = df_contract['customerID'].isin(\n",
    "    df_internet['customerID']).apply(lambda x: 0 if x == False else 1)"
   ]
  },
  {
   "cell_type": "markdown",
   "metadata": {},
   "source": [
    "Создадим два датафрейма с данными ушедших и оставшихся клиентов."
   ]
  },
  {
   "cell_type": "code",
   "execution_count": 29,
   "metadata": {},
   "outputs": [],
   "source": [
    "df_is_left = df_contract[df_contract['is_left'] == 0]\n",
    "df_is_stay = df_contract[df_contract['is_left'] == 1]"
   ]
  },
  {
   "cell_type": "markdown",
   "metadata": {},
   "source": [
    "Рассмотрим гистограммы ежемесяных платежей."
   ]
  },
  {
   "cell_type": "code",
   "execution_count": 30,
   "metadata": {},
   "outputs": [
    {
     "data": {
      "image/png": "[encoded data removed]",
      "text/plain": [
       "<Figure size 864x576 with 1 Axes>"
      ]
     },
     "metadata": {
      "needs_background": "light"
     },
     "output_type": "display_data"
    }
   ],
   "source": [
    "bins = np.arange(0,130, 10)\n",
    "\n",
    "ax = df_is_stay.plot(\n",
    "    kind='hist',\n",
    "    bins=bins,\n",
    "    y='MonthlyCharges',\n",
    "    label='Остались',\n",
    "    figsize=(12,8),\n",
    "\n",
    "    xticks=bins\n",
    ")\n",
    "\n",
    "df_is_left.plot(\n",
    "    kind='hist',\n",
    "    bins=bins,\n",
    "    y='MonthlyCharges',\n",
    "    histtype='step',\n",
    "    label='Ушли',\n",
    "    ax=ax,\n",
    "\n",
    ")\n",
    "\n",
    "df_contract.plot(\n",
    "    kind='hist',\n",
    "    bins=bins,\n",
    "    y='MonthlyCharges',\n",
    "    alpha=0.2,\n",
    "    label='Все',\n",
    "    ax=ax,\n",
    "    grid=True,\n",
    ");"
   ]
  },
  {
   "cell_type": "markdown",
   "metadata": {},
   "source": [
    "Рассмотрим, сколько клиентов пользуются телефонной связью"
   ]
  },
  {
   "cell_type": "code",
   "execution_count": 31,
   "metadata": {},
   "outputs": [
    {
     "data": {
      "image/png": "[encoded data removed]",
      "text/plain": [
       "<Figure size 1008x720 with 3 Axes>"
      ]
     },
     "metadata": {},
     "output_type": "display_data"
    }
   ],
   "source": [
    "# Настройка цветовой гаммы\n",
    "# colors = sns.color_palette('pastel')[0:5]\n",
    "# sns.color_palette(\"coolwarm\", as_cmap=True)\n",
    "\n",
    "col_name='is_phone'\n",
    "labels = ['Да', 'Нет']\n",
    "\n",
    "plt.figure(    figsize=(14,10))\n",
    "\n",
    "plt.suptitle('Пользуются телефонной связью')\n",
    "# =====================================================\n",
    "plt.subplot(2, 3, 1)\n",
    "\n",
    "data = df_contract[col_name].value_counts()\n",
    "\n",
    "ax = data.plot(kind='pie', autopct='%1.1f%%', title='Все', ylabel='')\n",
    "# =====================================================\n",
    "plt.subplot(2, 3, 2)\n",
    "\n",
    "data = df_is_left[col_name].value_counts()\n",
    "\n",
    "data.plot(kind='pie', autopct='%1.1f%%', title='Ушли', ylabel='')\n",
    "# =====================================================\n",
    "plt.subplot(2, 3, 3)\n",
    "\n",
    "data = df_is_stay[col_name].value_counts()\n",
    "\n",
    "data.plot(kind='pie', autopct='%1.1f%%', title='Остались', label='')\n",
    "\n",
    "plt.show();"
   ]
  },
  {
   "cell_type": "markdown",
   "metadata": {},
   "source": [
    "Доля клиентов одинакова у всех категорий клиентов."
   ]
  },
  {
   "cell_type": "code",
   "execution_count": 32,
   "metadata": {},
   "outputs": [
    {
     "data": {
      "image/png": "[encoded data removed]",
      "text/plain": [
       "<Figure size 1008x720 with 3 Axes>"
      ]
     },
     "metadata": {},
     "output_type": "display_data"
    }
   ],
   "source": [
    "# Настройка цветовой гаммы\n",
    "# colors = sns.color_palette('pastel')[0:5]\n",
    "# sns.color_palette(\"coolwarm\", as_cmap=True)\n",
    "\n",
    "col_name='is_internet'\n",
    "labels = ['Да', 'Нет']\n",
    "\n",
    "plt.figure(    figsize=(14,10))\n",
    "\n",
    "plt.suptitle('Пользуются интернетом')\n",
    "# =====================================================\n",
    "plt.subplot(2, 3, 1)\n",
    "\n",
    "data = df_contract[col_name].value_counts()\n",
    "\n",
    "ax = data.plot(kind='pie', autopct='%1.1f%%', title='Все', ylabel='')\n",
    "# =====================================================\n",
    "plt.subplot(2, 3, 2)\n",
    "\n",
    "data = df_is_left[col_name].value_counts()\n",
    "\n",
    "data.plot(kind='pie', autopct='%1.1f%%', title='Ушли', ylabel='')\n",
    "# =====================================================\n",
    "plt.subplot(2, 3, 3)\n",
    "\n",
    "data = df_is_stay[col_name].value_counts()\n",
    "\n",
    "data.plot(kind='pie', autopct='%1.1f%%', title='Остались', label='')\n",
    "\n",
    "plt.show();"
   ]
  },
  {
   "cell_type": "markdown",
   "metadata": {},
   "source": [
    "Количество ушедших клиентов, использующие интернет, меньше количества оставшихся клиентов."
   ]
  },
  {
   "cell_type": "code",
   "execution_count": 33,
   "metadata": {},
   "outputs": [],
   "source": [
    "# удалим столбцы с датами\n",
    "df_contract.drop(['BeginDate', 'EndDate'], axis=1, inplace=True)"
   ]
  },
  {
   "cell_type": "markdown",
   "metadata": {},
   "source": [
    "## Объединение таблиц"
   ]
  },
  {
   "cell_type": "markdown",
   "metadata": {},
   "source": [
    "При объединеии таблиц учтем, что существует клиенты, которые используют либо интернет либо телефонную связь. Заменим пропуски на `No`"
   ]
  },
  {
   "cell_type": "code",
   "execution_count": 34,
   "metadata": {},
   "outputs": [
    {
     "name": "stdout",
     "output_type": "stream",
     "text": [
      "0\n"
     ]
    },
    {
     "data": {
      "text/html": [
       "<div>\n",
       "<style scoped>\n",
       "    .dataframe tbody tr th:only-of-type {\n",
       "        vertical-align: middle;\n",
       "    }\n",
       "\n",
       "    .dataframe tbody tr th {\n",
       "        vertical-align: top;\n",
       "    }\n",
       "\n",
       "    .dataframe thead th {\n",
       "        text-align: right;\n",
       "    }\n",
       "</style>\n",
       "<table border=\"1\" class=\"dataframe\">\n",
       "  <thead>\n",
       "    <tr style=\"text-align: right;\">\n",
       "      <th></th>\n",
       "      <th>MonthlyCharges</th>\n",
       "      <th>TotalCharges</th>\n",
       "      <th>time_use</th>\n",
       "      <th>is_left</th>\n",
       "      <th>Type</th>\n",
       "      <th>PaperlessBilling</th>\n",
       "      <th>PaymentMethod</th>\n",
       "      <th>is_phone</th>\n",
       "      <th>is_internet</th>\n",
       "      <th>gender</th>\n",
       "      <th>...</th>\n",
       "      <th>Partner</th>\n",
       "      <th>Dependents</th>\n",
       "      <th>InternetService</th>\n",
       "      <th>OnlineSecurity</th>\n",
       "      <th>OnlineBackup</th>\n",
       "      <th>DeviceProtection</th>\n",
       "      <th>TechSupport</th>\n",
       "      <th>StreamingTV</th>\n",
       "      <th>StreamingMovies</th>\n",
       "      <th>MultipleLines</th>\n",
       "    </tr>\n",
       "    <tr>\n",
       "      <th>customerID</th>\n",
       "      <th></th>\n",
       "      <th></th>\n",
       "      <th></th>\n",
       "      <th></th>\n",
       "      <th></th>\n",
       "      <th></th>\n",
       "      <th></th>\n",
       "      <th></th>\n",
       "      <th></th>\n",
       "      <th></th>\n",
       "      <th></th>\n",
       "      <th></th>\n",
       "      <th></th>\n",
       "      <th></th>\n",
       "      <th></th>\n",
       "      <th></th>\n",
       "      <th></th>\n",
       "      <th></th>\n",
       "      <th></th>\n",
       "      <th></th>\n",
       "      <th></th>\n",
       "    </tr>\n",
       "  </thead>\n",
       "  <tbody>\n",
       "    <tr>\n",
       "      <th>7590-VHVEG</th>\n",
       "      <td>29.85</td>\n",
       "      <td>29.85</td>\n",
       "      <td>31</td>\n",
       "      <td>0</td>\n",
       "      <td>Month-to-month</td>\n",
       "      <td>Yes</td>\n",
       "      <td>Electronic check</td>\n",
       "      <td>0</td>\n",
       "      <td>1</td>\n",
       "      <td>Female</td>\n",
       "      <td>...</td>\n",
       "      <td>Yes</td>\n",
       "      <td>No</td>\n",
       "      <td>DSL</td>\n",
       "      <td>No</td>\n",
       "      <td>Yes</td>\n",
       "      <td>No</td>\n",
       "      <td>No</td>\n",
       "      <td>No</td>\n",
       "      <td>No</td>\n",
       "      <td>No</td>\n",
       "    </tr>\n",
       "    <tr>\n",
       "      <th>5575-GNVDE</th>\n",
       "      <td>56.95</td>\n",
       "      <td>1889.50</td>\n",
       "      <td>1036</td>\n",
       "      <td>0</td>\n",
       "      <td>One year</td>\n",
       "      <td>No</td>\n",
       "      <td>Mailed check</td>\n",
       "      <td>1</td>\n",
       "      <td>1</td>\n",
       "      <td>Male</td>\n",
       "      <td>...</td>\n",
       "      <td>No</td>\n",
       "      <td>No</td>\n",
       "      <td>DSL</td>\n",
       "      <td>Yes</td>\n",
       "      <td>No</td>\n",
       "      <td>Yes</td>\n",
       "      <td>No</td>\n",
       "      <td>No</td>\n",
       "      <td>No</td>\n",
       "      <td>No</td>\n",
       "    </tr>\n",
       "    <tr>\n",
       "      <th>3668-QPYBK</th>\n",
       "      <td>53.85</td>\n",
       "      <td>108.15</td>\n",
       "      <td>61</td>\n",
       "      <td>1</td>\n",
       "      <td>Month-to-month</td>\n",
       "      <td>Yes</td>\n",
       "      <td>Mailed check</td>\n",
       "      <td>1</td>\n",
       "      <td>1</td>\n",
       "      <td>Male</td>\n",
       "      <td>...</td>\n",
       "      <td>No</td>\n",
       "      <td>No</td>\n",
       "      <td>DSL</td>\n",
       "      <td>Yes</td>\n",
       "      <td>Yes</td>\n",
       "      <td>No</td>\n",
       "      <td>No</td>\n",
       "      <td>No</td>\n",
       "      <td>No</td>\n",
       "      <td>No</td>\n",
       "    </tr>\n",
       "    <tr>\n",
       "      <th>7795-CFOCW</th>\n",
       "      <td>42.30</td>\n",
       "      <td>1840.75</td>\n",
       "      <td>1371</td>\n",
       "      <td>0</td>\n",
       "      <td>One year</td>\n",
       "      <td>No</td>\n",
       "      <td>Bank transfer (automatic)</td>\n",
       "      <td>0</td>\n",
       "      <td>1</td>\n",
       "      <td>Male</td>\n",
       "      <td>...</td>\n",
       "      <td>No</td>\n",
       "      <td>No</td>\n",
       "      <td>DSL</td>\n",
       "      <td>Yes</td>\n",
       "      <td>No</td>\n",
       "      <td>Yes</td>\n",
       "      <td>Yes</td>\n",
       "      <td>No</td>\n",
       "      <td>No</td>\n",
       "      <td>No</td>\n",
       "    </tr>\n",
       "    <tr>\n",
       "      <th>9237-HQITU</th>\n",
       "      <td>70.70</td>\n",
       "      <td>151.65</td>\n",
       "      <td>61</td>\n",
       "      <td>1</td>\n",
       "      <td>Month-to-month</td>\n",
       "      <td>Yes</td>\n",
       "      <td>Electronic check</td>\n",
       "      <td>1</td>\n",
       "      <td>1</td>\n",
       "      <td>Female</td>\n",
       "      <td>...</td>\n",
       "      <td>No</td>\n",
       "      <td>No</td>\n",
       "      <td>Fiber optic</td>\n",
       "      <td>No</td>\n",
       "      <td>No</td>\n",
       "      <td>No</td>\n",
       "      <td>No</td>\n",
       "      <td>No</td>\n",
       "      <td>No</td>\n",
       "      <td>No</td>\n",
       "    </tr>\n",
       "  </tbody>\n",
       "</table>\n",
       "<p>5 rows × 21 columns</p>\n",
       "</div>"
      ],
      "text/plain": [
       "            MonthlyCharges  TotalCharges  time_use  is_left            Type  \\\n",
       "customerID                                                                    \n",
       "7590-VHVEG           29.85         29.85        31        0  Month-to-month   \n",
       "5575-GNVDE           56.95       1889.50      1036        0        One year   \n",
       "3668-QPYBK           53.85        108.15        61        1  Month-to-month   \n",
       "7795-CFOCW           42.30       1840.75      1371        0        One year   \n",
       "9237-HQITU           70.70        151.65        61        1  Month-to-month   \n",
       "\n",
       "           PaperlessBilling              PaymentMethod  is_phone  is_internet  \\\n",
       "customerID                                                                      \n",
       "7590-VHVEG              Yes           Electronic check         0            1   \n",
       "5575-GNVDE               No               Mailed check         1            1   \n",
       "3668-QPYBK              Yes               Mailed check         1            1   \n",
       "7795-CFOCW               No  Bank transfer (automatic)         0            1   \n",
       "9237-HQITU              Yes           Electronic check         1            1   \n",
       "\n",
       "            gender  ... Partner Dependents InternetService OnlineSecurity  \\\n",
       "customerID          ...                                                     \n",
       "7590-VHVEG  Female  ...     Yes         No             DSL             No   \n",
       "5575-GNVDE    Male  ...      No         No             DSL            Yes   \n",
       "3668-QPYBK    Male  ...      No         No             DSL            Yes   \n",
       "7795-CFOCW    Male  ...      No         No             DSL            Yes   \n",
       "9237-HQITU  Female  ...      No         No     Fiber optic             No   \n",
       "\n",
       "           OnlineBackup DeviceProtection TechSupport StreamingTV  \\\n",
       "customerID                                                         \n",
       "7590-VHVEG          Yes               No          No          No   \n",
       "5575-GNVDE           No              Yes          No          No   \n",
       "3668-QPYBK          Yes               No          No          No   \n",
       "7795-CFOCW           No              Yes         Yes          No   \n",
       "9237-HQITU           No               No          No          No   \n",
       "\n",
       "           StreamingMovies MultipleLines  \n",
       "customerID                                \n",
       "7590-VHVEG              No            No  \n",
       "5575-GNVDE              No            No  \n",
       "3668-QPYBK              No            No  \n",
       "7795-CFOCW              No            No  \n",
       "9237-HQITU              No            No  \n",
       "\n",
       "[5 rows x 21 columns]"
      ]
     },
     "execution_count": 34,
     "metadata": {},
     "output_type": "execute_result"
    }
   ],
   "source": [
    "df_final = (\n",
    "    df_contract\n",
    "    .merge(df_personal, how='left', on='customerID')\n",
    "    .merge(df_internet, how='left', on='customerID')\n",
    "    .merge(df_phone, how='left', on='customerID')\n",
    ")\n",
    "\n",
    "# используем id клиентов в качестве индексов датафрейма\n",
    "df_final.set_index('customerID', inplace=True)\n",
    "\n",
    "# заменим пропуски на 'No'\n",
    "df_final.loc[df_final['InternetService'].isna(), df_internet.columns[1:]] = 'No'\n",
    "\n",
    "df_final.loc[df_final['MultipleLines'].isna(), 'MultipleLines'] = 'No'\n",
    "\n",
    "# проверка\n",
    "print(df_final.isna().sum().sum())\n",
    "\n",
    "df_final.head()"
   ]
  },
  {
   "cell_type": "markdown",
   "metadata": {},
   "source": [
    "Используем ОНЕ-кодирование категориальных переменных. Приведем все значения к типу `int`"
   ]
  },
  {
   "cell_type": "code",
   "execution_count": 35,
   "metadata": {},
   "outputs": [],
   "source": [
    "df_final = pd.get_dummies(df_final, drop_first=True).astype('int')"
   ]
  },
  {
   "cell_type": "code",
   "execution_count": 36,
   "metadata": {},
   "outputs": [
    {
     "data": {
      "text/html": [
       "<div>\n",
       "<style scoped>\n",
       "    .dataframe tbody tr th:only-of-type {\n",
       "        vertical-align: middle;\n",
       "    }\n",
       "\n",
       "    .dataframe tbody tr th {\n",
       "        vertical-align: top;\n",
       "    }\n",
       "\n",
       "    .dataframe thead th {\n",
       "        text-align: right;\n",
       "    }\n",
       "</style>\n",
       "<table border=\"1\" class=\"dataframe\">\n",
       "  <thead>\n",
       "    <tr style=\"text-align: right;\">\n",
       "      <th></th>\n",
       "      <th>MonthlyCharges</th>\n",
       "      <th>TotalCharges</th>\n",
       "      <th>time_use</th>\n",
       "      <th>is_left</th>\n",
       "      <th>is_phone</th>\n",
       "      <th>is_internet</th>\n",
       "      <th>Type_One year</th>\n",
       "      <th>Type_Two year</th>\n",
       "      <th>PaperlessBilling_Yes</th>\n",
       "      <th>PaymentMethod_Credit card (automatic)</th>\n",
       "      <th>...</th>\n",
       "      <th>Dependents_Yes</th>\n",
       "      <th>InternetService_Fiber optic</th>\n",
       "      <th>InternetService_No</th>\n",
       "      <th>OnlineSecurity_Yes</th>\n",
       "      <th>OnlineBackup_Yes</th>\n",
       "      <th>DeviceProtection_Yes</th>\n",
       "      <th>TechSupport_Yes</th>\n",
       "      <th>StreamingTV_Yes</th>\n",
       "      <th>StreamingMovies_Yes</th>\n",
       "      <th>MultipleLines_Yes</th>\n",
       "    </tr>\n",
       "    <tr>\n",
       "      <th>customerID</th>\n",
       "      <th></th>\n",
       "      <th></th>\n",
       "      <th></th>\n",
       "      <th></th>\n",
       "      <th></th>\n",
       "      <th></th>\n",
       "      <th></th>\n",
       "      <th></th>\n",
       "      <th></th>\n",
       "      <th></th>\n",
       "      <th></th>\n",
       "      <th></th>\n",
       "      <th></th>\n",
       "      <th></th>\n",
       "      <th></th>\n",
       "      <th></th>\n",
       "      <th></th>\n",
       "      <th></th>\n",
       "      <th></th>\n",
       "      <th></th>\n",
       "      <th></th>\n",
       "    </tr>\n",
       "  </thead>\n",
       "  <tbody>\n",
       "    <tr>\n",
       "      <th>7590-VHVEG</th>\n",
       "      <td>29</td>\n",
       "      <td>29</td>\n",
       "      <td>31</td>\n",
       "      <td>0</td>\n",
       "      <td>0</td>\n",
       "      <td>1</td>\n",
       "      <td>0</td>\n",
       "      <td>0</td>\n",
       "      <td>1</td>\n",
       "      <td>0</td>\n",
       "      <td>...</td>\n",
       "      <td>0</td>\n",
       "      <td>0</td>\n",
       "      <td>0</td>\n",
       "      <td>0</td>\n",
       "      <td>1</td>\n",
       "      <td>0</td>\n",
       "      <td>0</td>\n",
       "      <td>0</td>\n",
       "      <td>0</td>\n",
       "      <td>0</td>\n",
       "    </tr>\n",
       "    <tr>\n",
       "      <th>5575-GNVDE</th>\n",
       "      <td>56</td>\n",
       "      <td>1889</td>\n",
       "      <td>1036</td>\n",
       "      <td>0</td>\n",
       "      <td>1</td>\n",
       "      <td>1</td>\n",
       "      <td>1</td>\n",
       "      <td>0</td>\n",
       "      <td>0</td>\n",
       "      <td>0</td>\n",
       "      <td>...</td>\n",
       "      <td>0</td>\n",
       "      <td>0</td>\n",
       "      <td>0</td>\n",
       "      <td>1</td>\n",
       "      <td>0</td>\n",
       "      <td>1</td>\n",
       "      <td>0</td>\n",
       "      <td>0</td>\n",
       "      <td>0</td>\n",
       "      <td>0</td>\n",
       "    </tr>\n",
       "    <tr>\n",
       "      <th>3668-QPYBK</th>\n",
       "      <td>53</td>\n",
       "      <td>108</td>\n",
       "      <td>61</td>\n",
       "      <td>1</td>\n",
       "      <td>1</td>\n",
       "      <td>1</td>\n",
       "      <td>0</td>\n",
       "      <td>0</td>\n",
       "      <td>1</td>\n",
       "      <td>0</td>\n",
       "      <td>...</td>\n",
       "      <td>0</td>\n",
       "      <td>0</td>\n",
       "      <td>0</td>\n",
       "      <td>1</td>\n",
       "      <td>1</td>\n",
       "      <td>0</td>\n",
       "      <td>0</td>\n",
       "      <td>0</td>\n",
       "      <td>0</td>\n",
       "      <td>0</td>\n",
       "    </tr>\n",
       "    <tr>\n",
       "      <th>7795-CFOCW</th>\n",
       "      <td>42</td>\n",
       "      <td>1840</td>\n",
       "      <td>1371</td>\n",
       "      <td>0</td>\n",
       "      <td>0</td>\n",
       "      <td>1</td>\n",
       "      <td>1</td>\n",
       "      <td>0</td>\n",
       "      <td>0</td>\n",
       "      <td>0</td>\n",
       "      <td>...</td>\n",
       "      <td>0</td>\n",
       "      <td>0</td>\n",
       "      <td>0</td>\n",
       "      <td>1</td>\n",
       "      <td>0</td>\n",
       "      <td>1</td>\n",
       "      <td>1</td>\n",
       "      <td>0</td>\n",
       "      <td>0</td>\n",
       "      <td>0</td>\n",
       "    </tr>\n",
       "    <tr>\n",
       "      <th>9237-HQITU</th>\n",
       "      <td>70</td>\n",
       "      <td>151</td>\n",
       "      <td>61</td>\n",
       "      <td>1</td>\n",
       "      <td>1</td>\n",
       "      <td>1</td>\n",
       "      <td>0</td>\n",
       "      <td>0</td>\n",
       "      <td>1</td>\n",
       "      <td>0</td>\n",
       "      <td>...</td>\n",
       "      <td>0</td>\n",
       "      <td>1</td>\n",
       "      <td>0</td>\n",
       "      <td>0</td>\n",
       "      <td>0</td>\n",
       "      <td>0</td>\n",
       "      <td>0</td>\n",
       "      <td>0</td>\n",
       "      <td>0</td>\n",
       "      <td>0</td>\n",
       "    </tr>\n",
       "    <tr>\n",
       "      <th>...</th>\n",
       "      <td>...</td>\n",
       "      <td>...</td>\n",
       "      <td>...</td>\n",
       "      <td>...</td>\n",
       "      <td>...</td>\n",
       "      <td>...</td>\n",
       "      <td>...</td>\n",
       "      <td>...</td>\n",
       "      <td>...</td>\n",
       "      <td>...</td>\n",
       "      <td>...</td>\n",
       "      <td>...</td>\n",
       "      <td>...</td>\n",
       "      <td>...</td>\n",
       "      <td>...</td>\n",
       "      <td>...</td>\n",
       "      <td>...</td>\n",
       "      <td>...</td>\n",
       "      <td>...</td>\n",
       "      <td>...</td>\n",
       "      <td>...</td>\n",
       "    </tr>\n",
       "    <tr>\n",
       "      <th>6840-RESVB</th>\n",
       "      <td>84</td>\n",
       "      <td>1990</td>\n",
       "      <td>730</td>\n",
       "      <td>0</td>\n",
       "      <td>1</td>\n",
       "      <td>1</td>\n",
       "      <td>1</td>\n",
       "      <td>0</td>\n",
       "      <td>1</td>\n",
       "      <td>0</td>\n",
       "      <td>...</td>\n",
       "      <td>1</td>\n",
       "      <td>0</td>\n",
       "      <td>0</td>\n",
       "      <td>1</td>\n",
       "      <td>0</td>\n",
       "      <td>1</td>\n",
       "      <td>1</td>\n",
       "      <td>1</td>\n",
       "      <td>1</td>\n",
       "      <td>1</td>\n",
       "    </tr>\n",
       "    <tr>\n",
       "      <th>2234-XADUH</th>\n",
       "      <td>103</td>\n",
       "      <td>7362</td>\n",
       "      <td>2191</td>\n",
       "      <td>0</td>\n",
       "      <td>1</td>\n",
       "      <td>1</td>\n",
       "      <td>1</td>\n",
       "      <td>0</td>\n",
       "      <td>1</td>\n",
       "      <td>1</td>\n",
       "      <td>...</td>\n",
       "      <td>1</td>\n",
       "      <td>1</td>\n",
       "      <td>0</td>\n",
       "      <td>0</td>\n",
       "      <td>1</td>\n",
       "      <td>1</td>\n",
       "      <td>0</td>\n",
       "      <td>1</td>\n",
       "      <td>1</td>\n",
       "      <td>1</td>\n",
       "    </tr>\n",
       "    <tr>\n",
       "      <th>4801-JZAZL</th>\n",
       "      <td>29</td>\n",
       "      <td>346</td>\n",
       "      <td>337</td>\n",
       "      <td>0</td>\n",
       "      <td>0</td>\n",
       "      <td>1</td>\n",
       "      <td>0</td>\n",
       "      <td>0</td>\n",
       "      <td>1</td>\n",
       "      <td>0</td>\n",
       "      <td>...</td>\n",
       "      <td>1</td>\n",
       "      <td>0</td>\n",
       "      <td>0</td>\n",
       "      <td>1</td>\n",
       "      <td>0</td>\n",
       "      <td>0</td>\n",
       "      <td>0</td>\n",
       "      <td>0</td>\n",
       "      <td>0</td>\n",
       "      <td>0</td>\n",
       "    </tr>\n",
       "    <tr>\n",
       "      <th>8361-LTMKD</th>\n",
       "      <td>74</td>\n",
       "      <td>306</td>\n",
       "      <td>123</td>\n",
       "      <td>1</td>\n",
       "      <td>1</td>\n",
       "      <td>1</td>\n",
       "      <td>0</td>\n",
       "      <td>0</td>\n",
       "      <td>1</td>\n",
       "      <td>0</td>\n",
       "      <td>...</td>\n",
       "      <td>0</td>\n",
       "      <td>1</td>\n",
       "      <td>0</td>\n",
       "      <td>0</td>\n",
       "      <td>0</td>\n",
       "      <td>0</td>\n",
       "      <td>0</td>\n",
       "      <td>0</td>\n",
       "      <td>0</td>\n",
       "      <td>1</td>\n",
       "    </tr>\n",
       "    <tr>\n",
       "      <th>3186-AJIEK</th>\n",
       "      <td>105</td>\n",
       "      <td>6844</td>\n",
       "      <td>2010</td>\n",
       "      <td>0</td>\n",
       "      <td>1</td>\n",
       "      <td>1</td>\n",
       "      <td>0</td>\n",
       "      <td>1</td>\n",
       "      <td>1</td>\n",
       "      <td>0</td>\n",
       "      <td>...</td>\n",
       "      <td>0</td>\n",
       "      <td>1</td>\n",
       "      <td>0</td>\n",
       "      <td>1</td>\n",
       "      <td>0</td>\n",
       "      <td>1</td>\n",
       "      <td>1</td>\n",
       "      <td>1</td>\n",
       "      <td>1</td>\n",
       "      <td>0</td>\n",
       "    </tr>\n",
       "  </tbody>\n",
       "</table>\n",
       "<p>7032 rows × 25 columns</p>\n",
       "</div>"
      ],
      "text/plain": [
       "            MonthlyCharges  TotalCharges  time_use  is_left  is_phone  \\\n",
       "customerID                                                              \n",
       "7590-VHVEG              29            29        31        0         0   \n",
       "5575-GNVDE              56          1889      1036        0         1   \n",
       "3668-QPYBK              53           108        61        1         1   \n",
       "7795-CFOCW              42          1840      1371        0         0   \n",
       "9237-HQITU              70           151        61        1         1   \n",
       "...                    ...           ...       ...      ...       ...   \n",
       "6840-RESVB              84          1990       730        0         1   \n",
       "2234-XADUH             103          7362      2191        0         1   \n",
       "4801-JZAZL              29           346       337        0         0   \n",
       "8361-LTMKD              74           306       123        1         1   \n",
       "3186-AJIEK             105          6844      2010        0         1   \n",
       "\n",
       "            is_internet  Type_One year  Type_Two year  PaperlessBilling_Yes  \\\n",
       "customerID                                                                    \n",
       "7590-VHVEG            1              0              0                     1   \n",
       "5575-GNVDE            1              1              0                     0   \n",
       "3668-QPYBK            1              0              0                     1   \n",
       "7795-CFOCW            1              1              0                     0   \n",
       "9237-HQITU            1              0              0                     1   \n",
       "...                 ...            ...            ...                   ...   \n",
       "6840-RESVB            1              1              0                     1   \n",
       "2234-XADUH            1              1              0                     1   \n",
       "4801-JZAZL            1              0              0                     1   \n",
       "8361-LTMKD            1              0              0                     1   \n",
       "3186-AJIEK            1              0              1                     1   \n",
       "\n",
       "            PaymentMethod_Credit card (automatic)  ...  Dependents_Yes  \\\n",
       "customerID                                         ...                   \n",
       "7590-VHVEG                                      0  ...               0   \n",
       "5575-GNVDE                                      0  ...               0   \n",
       "3668-QPYBK                                      0  ...               0   \n",
       "7795-CFOCW                                      0  ...               0   \n",
       "9237-HQITU                                      0  ...               0   \n",
       "...                                           ...  ...             ...   \n",
       "6840-RESVB                                      0  ...               1   \n",
       "2234-XADUH                                      1  ...               1   \n",
       "4801-JZAZL                                      0  ...               1   \n",
       "8361-LTMKD                                      0  ...               0   \n",
       "3186-AJIEK                                      0  ...               0   \n",
       "\n",
       "            InternetService_Fiber optic  InternetService_No  \\\n",
       "customerID                                                    \n",
       "7590-VHVEG                            0                   0   \n",
       "5575-GNVDE                            0                   0   \n",
       "3668-QPYBK                            0                   0   \n",
       "7795-CFOCW                            0                   0   \n",
       "9237-HQITU                            1                   0   \n",
       "...                                 ...                 ...   \n",
       "6840-RESVB                            0                   0   \n",
       "2234-XADUH                            1                   0   \n",
       "4801-JZAZL                            0                   0   \n",
       "8361-LTMKD                            1                   0   \n",
       "3186-AJIEK                            1                   0   \n",
       "\n",
       "            OnlineSecurity_Yes  OnlineBackup_Yes  DeviceProtection_Yes  \\\n",
       "customerID                                                               \n",
       "7590-VHVEG                   0                 1                     0   \n",
       "5575-GNVDE                   1                 0                     1   \n",
       "3668-QPYBK                   1                 1                     0   \n",
       "7795-CFOCW                   1                 0                     1   \n",
       "9237-HQITU                   0                 0                     0   \n",
       "...                        ...               ...                   ...   \n",
       "6840-RESVB                   1                 0                     1   \n",
       "2234-XADUH                   0                 1                     1   \n",
       "4801-JZAZL                   1                 0                     0   \n",
       "8361-LTMKD                   0                 0                     0   \n",
       "3186-AJIEK                   1                 0                     1   \n",
       "\n",
       "            TechSupport_Yes  StreamingTV_Yes  StreamingMovies_Yes  \\\n",
       "customerID                                                          \n",
       "7590-VHVEG                0                0                    0   \n",
       "5575-GNVDE                0                0                    0   \n",
       "3668-QPYBK                0                0                    0   \n",
       "7795-CFOCW                1                0                    0   \n",
       "9237-HQITU                0                0                    0   \n",
       "...                     ...              ...                  ...   \n",
       "6840-RESVB                1                1                    1   \n",
       "2234-XADUH                0                1                    1   \n",
       "4801-JZAZL                0                0                    0   \n",
       "8361-LTMKD                0                0                    0   \n",
       "3186-AJIEK                1                1                    1   \n",
       "\n",
       "            MultipleLines_Yes  \n",
       "customerID                     \n",
       "7590-VHVEG                  0  \n",
       "5575-GNVDE                  0  \n",
       "3668-QPYBK                  0  \n",
       "7795-CFOCW                  0  \n",
       "9237-HQITU                  0  \n",
       "...                       ...  \n",
       "6840-RESVB                  1  \n",
       "2234-XADUH                  1  \n",
       "4801-JZAZL                  0  \n",
       "8361-LTMKD                  1  \n",
       "3186-AJIEK                  0  \n",
       "\n",
       "[7032 rows x 25 columns]"
      ]
     },
     "execution_count": 36,
     "metadata": {},
     "output_type": "execute_result"
    }
   ],
   "source": [
    "df_final"
   ]
  },
  {
   "cell_type": "code",
   "execution_count": 37,
   "metadata": {},
   "outputs": [
    {
     "data": {
      "text/plain": [
       "MonthlyCharges                           int32\n",
       "TotalCharges                             int32\n",
       "time_use                                 int32\n",
       "is_left                                  int32\n",
       "is_phone                                 int32\n",
       "is_internet                              int32\n",
       "Type_One year                            int32\n",
       "Type_Two year                            int32\n",
       "PaperlessBilling_Yes                     int32\n",
       "PaymentMethod_Credit card (automatic)    int32\n",
       "PaymentMethod_Electronic check           int32\n",
       "PaymentMethod_Mailed check               int32\n",
       "gender_Male                              int32\n",
       "SeniorCitizen_Yes                        int32\n",
       "Partner_Yes                              int32\n",
       "Dependents_Yes                           int32\n",
       "InternetService_Fiber optic              int32\n",
       "InternetService_No                       int32\n",
       "OnlineSecurity_Yes                       int32\n",
       "OnlineBackup_Yes                         int32\n",
       "DeviceProtection_Yes                     int32\n",
       "TechSupport_Yes                          int32\n",
       "StreamingTV_Yes                          int32\n",
       "StreamingMovies_Yes                      int32\n",
       "MultipleLines_Yes                        int32\n",
       "dtype: object"
      ]
     },
     "execution_count": 37,
     "metadata": {},
     "output_type": "execute_result"
    }
   ],
   "source": [
    "df_final.dtypes"
   ]
  },
  {
   "cell_type": "markdown",
   "metadata": {},
   "source": [
    "Создадим датасеты признаков"
   ]
  },
  {
   "cell_type": "code",
   "execution_count": 38,
   "metadata": {},
   "outputs": [],
   "source": [
    "X = df_final.drop('is_left', axis=1)\n",
    "y= df_final['is_left']"
   ]
  },
  {
   "cell_type": "code",
   "execution_count": 39,
   "metadata": {},
   "outputs": [],
   "source": [
    "df_final.to_csv('dataset.csv', index=False)"
   ]
  },
  {
   "cell_type": "markdown",
   "metadata": {},
   "source": [
    "## Обучение"
   ]
  },
  {
   "cell_type": "markdown",
   "metadata": {},
   "source": [
    "Обучим модели с помощью жадного алгоритма и метода отбора значимости признаков через кросс-валидацию.  \n",
    "Плюсы жадного алгоритма:\n",
    "- высокие значения искомых метрик\n",
    "минусы:\n",
    "- используется только под конкретную модель,\n",
    "- долгое время работы  \n",
    "\n",
    "В качестве модели будем использовать модель CatBoostClassifier"
   ]
  },
  {
   "cell_type": "markdown",
   "metadata": {},
   "source": [
    "### Жадный алгоритм для CatBoost"
   ]
  },
  {
   "cell_type": "markdown",
   "metadata": {},
   "source": [
    "<font color='red'>**Комментарий:**</font> для экономии времени во время отладки, части кода выведены в ячейки MarkDown. Результаты работы алгоритмов вынесены в отдельные датафреймы."
   ]
  },
  {
   "cell_type": "markdown",
   "metadata": {},
   "source": [
    "Создадим необходимые выборки"
   ]
  },
  {
   "cell_type": "code",
   "execution_count": 40,
   "metadata": {},
   "outputs": [
    {
     "name": "stdout",
     "output_type": "stream",
     "text": [
      "(5274, 24) (5274,)\n",
      "(1758, 24) (1758,)\n"
     ]
    }
   ],
   "source": [
    "X_train, X_test, y_train, y_test = train_test_split(\n",
    "    X, y,\n",
    "    test_size=0.25,\n",
    "    stratify=y, # стратифицированные выборки\n",
    "    random_state=RANDOM_STATE)\n",
    "print(X_train.shape, y_train.shape)\n",
    "print(X_test.shape, y_test.shape)"
   ]
  },
  {
   "cell_type": "markdown",
   "metadata": {},
   "source": [
    "Стратифицированные фолды с повторениями. Повторения позволяют увеличить точность градиентного бустинга"
   ]
  },
  {
   "cell_type": "code",
   "execution_count": 41,
   "metadata": {},
   "outputs": [],
   "source": [
    "CV = RepeatedStratifiedKFold(n_splits=5, n_repeats=2, random_state=RANDOM_STATE)"
   ]
  },
  {
   "cell_type": "markdown",
   "metadata": {},
   "source": [
    "```\n",
    "# жадный алгоритм\n",
    "model_cat = CatBoostClassifier(\n",
    "        random_seed=RANDOM_STATE,\n",
    "        verbose=1000,\n",
    "        eval_metric='AUC'\n",
    "    )\n",
    "\n",
    "a_dict = dict()\n",
    "itog_dict = dict()\n",
    "while len(X_train.columns) >=2:\n",
    "    a_dict = dict()\n",
    "    \n",
    "    for i in tq_n(X_train.columns):\n",
    "        a_dict[i] = cross_val_score(\n",
    "        model_cat, X_train.drop(i,axis=1), y_train,\n",
    "        scoring=SCORING, cv=CV, n_jobs=-1).mean()\n",
    "        \n",
    "    X_train = X_train.drop(max(a_dict, key=a_dict.get), axis=1)\n",
    "    itog_dict [ max(a_dict, key=a_dict.get) ] = max(a_dict.values())\n",
    "    print(itog_dict)\n",
    "```"
   ]
  },
  {
   "cell_type": "markdown",
   "metadata": {},
   "source": [
    "Итог работы алгоритма"
   ]
  },
  {
   "cell_type": "code",
   "execution_count": 42,
   "metadata": {},
   "outputs": [
    {
     "data": {
      "text/html": [
       "<div>\n",
       "<style scoped>\n",
       "    .dataframe tbody tr th:only-of-type {\n",
       "        vertical-align: middle;\n",
       "    }\n",
       "\n",
       "    .dataframe tbody tr th {\n",
       "        vertical-align: top;\n",
       "    }\n",
       "\n",
       "    .dataframe thead th {\n",
       "        text-align: right;\n",
       "    }\n",
       "</style>\n",
       "<table border=\"1\" class=\"dataframe\">\n",
       "  <thead>\n",
       "    <tr style=\"text-align: right;\">\n",
       "      <th></th>\n",
       "      <th>del_col</th>\n",
       "      <th>auc_roc</th>\n",
       "    </tr>\n",
       "  </thead>\n",
       "  <tbody>\n",
       "    <tr>\n",
       "      <th>0</th>\n",
       "      <td>TotalCharges</td>\n",
       "      <td>0.901733</td>\n",
       "    </tr>\n",
       "    <tr>\n",
       "      <th>1</th>\n",
       "      <td>MonthlyCharges</td>\n",
       "      <td>0.910477</td>\n",
       "    </tr>\n",
       "    <tr>\n",
       "      <th>2</th>\n",
       "      <td>Partner_Yes</td>\n",
       "      <td>0.912725</td>\n",
       "    </tr>\n",
       "    <tr>\n",
       "      <th>3</th>\n",
       "      <td>StreamingTV_Yes</td>\n",
       "      <td>0.913327</td>\n",
       "    </tr>\n",
       "    <tr>\n",
       "      <th>4</th>\n",
       "      <td>SeniorCitizen_Yes</td>\n",
       "      <td>0.914215</td>\n",
       "    </tr>\n",
       "    <tr>\n",
       "      <th>5</th>\n",
       "      <td>PaymentMethod_Electronic check</td>\n",
       "      <td>0.915584</td>\n",
       "    </tr>\n",
       "    <tr>\n",
       "      <th>6</th>\n",
       "      <td>PaymentMethod_Credit card (automatic)</td>\n",
       "      <td>0.917761</td>\n",
       "    </tr>\n",
       "    <tr>\n",
       "      <th>7</th>\n",
       "      <td>MultipleLines_Yes</td>\n",
       "      <td>0.918679</td>\n",
       "    </tr>\n",
       "    <tr>\n",
       "      <th>8</th>\n",
       "      <td>DeviceProtection_Yes</td>\n",
       "      <td>0.919576</td>\n",
       "    </tr>\n",
       "    <tr>\n",
       "      <th>9</th>\n",
       "      <td>OnlineSecurity_Yes</td>\n",
       "      <td>0.920256</td>\n",
       "    </tr>\n",
       "    <tr>\n",
       "      <th>10</th>\n",
       "      <td>Dependents_Yes</td>\n",
       "      <td>0.920620</td>\n",
       "    </tr>\n",
       "    <tr>\n",
       "      <th>11</th>\n",
       "      <td>OnlineBackup_Yes</td>\n",
       "      <td>0.921087</td>\n",
       "    </tr>\n",
       "    <tr>\n",
       "      <th>12</th>\n",
       "      <td>gender_Male</td>\n",
       "      <td>0.922485</td>\n",
       "    </tr>\n",
       "    <tr>\n",
       "      <th>13</th>\n",
       "      <td>PaperlessBilling_Yes</td>\n",
       "      <td>0.923210</td>\n",
       "    </tr>\n",
       "    <tr>\n",
       "      <th>14</th>\n",
       "      <td>TechSupport_Yes</td>\n",
       "      <td>0.924745</td>\n",
       "    </tr>\n",
       "    <tr>\n",
       "      <th>15</th>\n",
       "      <td>PaymentMethod_Mailed check</td>\n",
       "      <td>0.925309</td>\n",
       "    </tr>\n",
       "    <tr>\n",
       "      <th>16</th>\n",
       "      <td>StreamingMovies_Yes</td>\n",
       "      <td>0.925905</td>\n",
       "    </tr>\n",
       "    <tr>\n",
       "      <th>17</th>\n",
       "      <td>is_phone</td>\n",
       "      <td>0.925873</td>\n",
       "    </tr>\n",
       "    <tr>\n",
       "      <th>18</th>\n",
       "      <td>is_internet</td>\n",
       "      <td>0.925834</td>\n",
       "    </tr>\n",
       "    <tr>\n",
       "      <th>19</th>\n",
       "      <td>Type_One year</td>\n",
       "      <td>0.925563</td>\n",
       "    </tr>\n",
       "    <tr>\n",
       "      <th>20</th>\n",
       "      <td>Type_Two year</td>\n",
       "      <td>0.923002</td>\n",
       "    </tr>\n",
       "    <tr>\n",
       "      <th>21</th>\n",
       "      <td>InternetService_No</td>\n",
       "      <td>0.917657</td>\n",
       "    </tr>\n",
       "    <tr>\n",
       "      <th>22</th>\n",
       "      <td>InternetService_Fiber optic</td>\n",
       "      <td>0.908064</td>\n",
       "    </tr>\n",
       "  </tbody>\n",
       "</table>\n",
       "</div>"
      ],
      "text/plain": [
       "                                  del_col   auc_roc\n",
       "0                            TotalCharges  0.901733\n",
       "1                          MonthlyCharges  0.910477\n",
       "2                             Partner_Yes  0.912725\n",
       "3                         StreamingTV_Yes  0.913327\n",
       "4                       SeniorCitizen_Yes  0.914215\n",
       "5          PaymentMethod_Electronic check  0.915584\n",
       "6   PaymentMethod_Credit card (automatic)  0.917761\n",
       "7                       MultipleLines_Yes  0.918679\n",
       "8                    DeviceProtection_Yes  0.919576\n",
       "9                      OnlineSecurity_Yes  0.920256\n",
       "10                         Dependents_Yes  0.920620\n",
       "11                       OnlineBackup_Yes  0.921087\n",
       "12                            gender_Male  0.922485\n",
       "13                   PaperlessBilling_Yes  0.923210\n",
       "14                        TechSupport_Yes  0.924745\n",
       "15             PaymentMethod_Mailed check  0.925309\n",
       "16                    StreamingMovies_Yes  0.925905\n",
       "17                               is_phone  0.925873\n",
       "18                            is_internet  0.925834\n",
       "19                          Type_One year  0.925563\n",
       "20                          Type_Two year  0.923002\n",
       "21                     InternetService_No  0.917657\n",
       "22            InternetService_Fiber optic  0.908064"
      ]
     },
     "execution_count": 42,
     "metadata": {},
     "output_type": "execute_result"
    }
   ],
   "source": [
    "greedy_col = [\n",
    "    'TotalCharges', 'MonthlyCharges', 'Partner_Yes', 'StreamingTV_Yes',\n",
    "    'SeniorCitizen_Yes', 'PaymentMethod_Electronic check', 'PaymentMethod_Credit card (automatic)',\n",
    "    'MultipleLines_Yes', 'DeviceProtection_Yes', 'OnlineSecurity_Yes',\n",
    "    'Dependents_Yes', 'OnlineBackup_Yes', 'gender_Male', 'PaperlessBilling_Yes',\n",
    "    'TechSupport_Yes', 'PaymentMethod_Mailed check', 'StreamingMovies_Yes',\n",
    "    'is_phone', 'is_internet', 'Type_One year', 'Type_Two year', 'InternetService_No', 'InternetService_Fiber optic'\n",
    "]\n",
    "\n",
    "greedy_roc_auc = [\n",
    "    0.901733371644682, 0.910477058679599, 0.912724627725309, 0.913327113365148,\n",
    "    0.914214957993014, 0.91558437914109, 0.917761449801528, 0.918678995757243,\n",
    "    0.919576305839296, 0.920255902737123, 0.920619504326386, 0.92108655702097,\n",
    "    0.922484556177597, 0.923210404896385, 0.924744553251937, 0.925309426515669,\n",
    "    0.925905288003283, 0.925872752931284, 0.925834027225031, 0.925562781042235,\n",
    "    0.923002428356623, 0.917656517404219, 0.908064026416916\n",
    "]\n",
    "df_score = pd.DataFrame(data=greedy_col, columns=['del_col'])\n",
    "df_score['auc_roc'] = greedy_roc_auc\n",
    "df_score"
   ]
  },
  {
   "cell_type": "markdown",
   "metadata": {},
   "source": [
    "Найдем значения метрик accuracy, f1_score, precision и recall для тестовой выборки, удаляя столбцы, последовательность которых является результатом работы жадного алгоритма"
   ]
  },
  {
   "cell_type": "code",
   "execution_count": 43,
   "metadata": {
    "scrolled": true
   },
   "outputs": [
    {
     "data": {
      "application/vnd.jupyter.widget-view+json": {
       "model_id": "f438eb8b2d30484f950d7bc2ed9d560a",
       "version_major": 2,
       "version_minor": 0
      },
      "text/plain": [
       "  0%|          | 0/23 [00:00<?, ?it/s]"
      ]
     },
     "metadata": {},
     "output_type": "display_data"
    },
    {
     "name": "stdout",
     "output_type": "stream",
     "text": [
      "Learning rate set to 0.020955\n",
      "0:\ttotal: 140ms\tremaining: 2m 19s\n",
      "999:\ttotal: 6.55s\tremaining: 0us\n",
      "Learning rate set to 0.020955\n",
      "0:\ttotal: 3.48ms\tremaining: 3.47s\n",
      "999:\ttotal: 7.36s\tremaining: 0us\n",
      "Learning rate set to 0.020955\n",
      "0:\ttotal: 14.2ms\tremaining: 14.2s\n",
      "999:\ttotal: 7.73s\tremaining: 0us\n",
      "Learning rate set to 0.020955\n",
      "0:\ttotal: 12.5ms\tremaining: 12.5s\n",
      "999:\ttotal: 7.42s\tremaining: 0us\n",
      "Learning rate set to 0.020955\n",
      "0:\ttotal: 19.7ms\tremaining: 19.7s\n",
      "999:\ttotal: 7.75s\tremaining: 0us\n",
      "Learning rate set to 0.020955\n",
      "0:\ttotal: 3.54ms\tremaining: 3.54s\n",
      "999:\ttotal: 7.91s\tremaining: 0us\n",
      "Learning rate set to 0.020955\n",
      "0:\ttotal: 3.39ms\tremaining: 3.39s\n",
      "999:\ttotal: 4.56s\tremaining: 0us\n",
      "Learning rate set to 0.020955\n",
      "0:\ttotal: 3.32ms\tremaining: 3.32s\n",
      "999:\ttotal: 4.26s\tremaining: 0us\n",
      "Learning rate set to 0.020955\n",
      "0:\ttotal: 9.03ms\tremaining: 9.03s\n",
      "999:\ttotal: 3.34s\tremaining: 0us\n",
      "Learning rate set to 0.020955\n",
      "0:\ttotal: 6.37ms\tremaining: 6.36s\n",
      "999:\ttotal: 3.21s\tremaining: 0us\n",
      "Learning rate set to 0.020955\n",
      "0:\ttotal: 15.7ms\tremaining: 15.7s\n",
      "999:\ttotal: 3.37s\tremaining: 0us\n",
      "Learning rate set to 0.020955\n",
      "0:\ttotal: 3.46ms\tremaining: 3.45s\n",
      "999:\ttotal: 3.27s\tremaining: 0us\n",
      "Learning rate set to 0.020955\n",
      "0:\ttotal: 3.61ms\tremaining: 3.61s\n",
      "999:\ttotal: 3.49s\tremaining: 0us\n",
      "Learning rate set to 0.020955\n",
      "0:\ttotal: 3.99ms\tremaining: 3.99s\n",
      "999:\ttotal: 3.19s\tremaining: 0us\n",
      "Learning rate set to 0.020955\n",
      "0:\ttotal: 3.52ms\tremaining: 3.52s\n",
      "999:\ttotal: 3.22s\tremaining: 0us\n",
      "Learning rate set to 0.020955\n",
      "0:\ttotal: 3.18ms\tremaining: 3.18s\n",
      "999:\ttotal: 3.26s\tremaining: 0us\n",
      "Learning rate set to 0.020955\n",
      "0:\ttotal: 4.46ms\tremaining: 4.46s\n",
      "999:\ttotal: 3s\tremaining: 0us\n",
      "Learning rate set to 0.020955\n",
      "0:\ttotal: 3.17ms\tremaining: 3.17s\n",
      "999:\ttotal: 3.17s\tremaining: 0us\n",
      "Learning rate set to 0.020955\n",
      "0:\ttotal: 2.96ms\tremaining: 2.96s\n",
      "999:\ttotal: 2.96s\tremaining: 0us\n",
      "Learning rate set to 0.020955\n",
      "0:\ttotal: 2.92ms\tremaining: 2.92s\n",
      "999:\ttotal: 2.94s\tremaining: 0us\n",
      "Learning rate set to 0.020955\n",
      "0:\ttotal: 3.16ms\tremaining: 3.16s\n",
      "999:\ttotal: 2.88s\tremaining: 0us\n",
      "Learning rate set to 0.020955\n",
      "0:\ttotal: 3.19ms\tremaining: 3.19s\n",
      "999:\ttotal: 2.83s\tremaining: 0us\n",
      "Learning rate set to 0.020955\n",
      "0:\ttotal: 2.37ms\tremaining: 2.36s\n",
      "999:\ttotal: 2.99s\tremaining: 0us\n"
     ]
    }
   ],
   "source": [
    "scores_acc = []\n",
    "scores_f1 = []\n",
    "scores_prec = []\n",
    "scores_rec = []\n",
    "\n",
    "for i in tq_n(greedy_col):\n",
    "    X_train = X_train.drop(i, axis=1)\n",
    "    \n",
    "    model_cat = CatBoostClassifier(\n",
    "        random_seed=RANDOM_STATE,\n",
    "        verbose=1000,\n",
    "        eval_metric='AUC'\n",
    "    )\n",
    "    model_cat.fit(X_train, y_train),\n",
    "    predict = model_cat.predict(X_test)\n",
    "    \n",
    "    scores_acc.append(\n",
    "        accuracy_score(y_test, predict)\n",
    "    )\n",
    "    \n",
    "    scores_f1.append(\n",
    "        f1_score(y_test, predict)\n",
    "    )     \n",
    "    \n",
    "    scores_prec.append(\n",
    "        precision_score(y_test, predict)\n",
    "    )\n",
    "    \n",
    "    scores_rec.append(\n",
    "        recall_score(y_test, predict)\n",
    "    )"
   ]
  },
  {
   "cell_type": "code",
   "execution_count": 44,
   "metadata": {},
   "outputs": [],
   "source": [
    "df_score['f1_score'] = scores_f1\n",
    "df_score['accuracy'] = scores_acc\n",
    "df_score['precision'] = scores_prec\n",
    "df_score['recall'] = scores_rec"
   ]
  },
  {
   "cell_type": "code",
   "execution_count": 45,
   "metadata": {},
   "outputs": [
    {
     "data": {
      "image/png": "[encoded data removed]",
      "text/plain": [
       "<Figure size 1008x720 with 1 Axes>"
      ]
     },
     "metadata": {
      "needs_background": "light"
     },
     "output_type": "display_data"
    }
   ],
   "source": [
    "ax = df_score['auc_roc'].plot(\n",
    "    label='ROC-AUC на CV',\n",
    "    legend=True,\n",
    "    figsize=(14,10),\n",
    "    xticks=np.arange(0,24,1),\n",
    "    yticks=np.arange(0.5, 1.01, 0.010),\n",
    "    ylim=(0.5, 0.95)\n",
    ")\n",
    "\n",
    "df_score['f1_score'].plot(\n",
    "    ax=ax,\n",
    "    label='F1_score',\n",
    "    legend=True\n",
    ")\n",
    "\n",
    "df_score['precision'].plot(\n",
    "    ax=ax,\n",
    "    label='precision',\n",
    "    legend=True,\n",
    "    grid=True\n",
    ")\n",
    "\n",
    "df_score['recall'].plot(\n",
    "    ax=ax,\n",
    "    label='recall',\n",
    "    legend=True,\n",
    "    grid=True\n",
    ");"
   ]
  },
  {
   "cell_type": "code",
   "execution_count": 46,
   "metadata": {},
   "outputs": [
    {
     "data": {
      "text/html": [
       "<div>\n",
       "<style scoped>\n",
       "    .dataframe tbody tr th:only-of-type {\n",
       "        vertical-align: middle;\n",
       "    }\n",
       "\n",
       "    .dataframe tbody tr th {\n",
       "        vertical-align: top;\n",
       "    }\n",
       "\n",
       "    .dataframe thead th {\n",
       "        text-align: right;\n",
       "    }\n",
       "</style>\n",
       "<table border=\"1\" class=\"dataframe\">\n",
       "  <thead>\n",
       "    <tr style=\"text-align: right;\">\n",
       "      <th></th>\n",
       "      <th>del_col</th>\n",
       "      <th>auc_roc</th>\n",
       "      <th>f1_score</th>\n",
       "      <th>accuracy</th>\n",
       "      <th>precision</th>\n",
       "      <th>recall</th>\n",
       "    </tr>\n",
       "  </thead>\n",
       "  <tbody>\n",
       "    <tr>\n",
       "      <th>0</th>\n",
       "      <td>TotalCharges</td>\n",
       "      <td>0.901733</td>\n",
       "      <td>0.686493</td>\n",
       "      <td>0.856086</td>\n",
       "      <td>0.814706</td>\n",
       "      <td>0.593148</td>\n",
       "    </tr>\n",
       "    <tr>\n",
       "      <th>1</th>\n",
       "      <td>MonthlyCharges</td>\n",
       "      <td>0.910477</td>\n",
       "      <td>0.725061</td>\n",
       "      <td>0.871445</td>\n",
       "      <td>0.839437</td>\n",
       "      <td>0.638116</td>\n",
       "    </tr>\n",
       "    <tr>\n",
       "      <th>2</th>\n",
       "      <td>Partner_Yes</td>\n",
       "      <td>0.912725</td>\n",
       "      <td>0.725061</td>\n",
       "      <td>0.871445</td>\n",
       "      <td>0.839437</td>\n",
       "      <td>0.638116</td>\n",
       "    </tr>\n",
       "    <tr>\n",
       "      <th>3</th>\n",
       "      <td>StreamingTV_Yes</td>\n",
       "      <td>0.913327</td>\n",
       "      <td>0.722359</td>\n",
       "      <td>0.871445</td>\n",
       "      <td>0.847262</td>\n",
       "      <td>0.629550</td>\n",
       "    </tr>\n",
       "    <tr>\n",
       "      <th>4</th>\n",
       "      <td>SeniorCitizen_Yes</td>\n",
       "      <td>0.914215</td>\n",
       "      <td>0.713580</td>\n",
       "      <td>0.868032</td>\n",
       "      <td>0.842566</td>\n",
       "      <td>0.618844</td>\n",
       "    </tr>\n",
       "    <tr>\n",
       "      <th>5</th>\n",
       "      <td>PaymentMethod_Electronic check</td>\n",
       "      <td>0.915584</td>\n",
       "      <td>0.712531</td>\n",
       "      <td>0.866894</td>\n",
       "      <td>0.835735</td>\n",
       "      <td>0.620985</td>\n",
       "    </tr>\n",
       "    <tr>\n",
       "      <th>6</th>\n",
       "      <td>PaymentMethod_Credit card (automatic)</td>\n",
       "      <td>0.917761</td>\n",
       "      <td>0.720787</td>\n",
       "      <td>0.870876</td>\n",
       "      <td>0.846821</td>\n",
       "      <td>0.627409</td>\n",
       "    </tr>\n",
       "    <tr>\n",
       "      <th>7</th>\n",
       "      <td>MultipleLines_Yes</td>\n",
       "      <td>0.918679</td>\n",
       "      <td>0.726161</td>\n",
       "      <td>0.872582</td>\n",
       "      <td>0.846154</td>\n",
       "      <td>0.635974</td>\n",
       "    </tr>\n",
       "    <tr>\n",
       "      <th>8</th>\n",
       "      <td>DeviceProtection_Yes</td>\n",
       "      <td>0.919576</td>\n",
       "      <td>0.723926</td>\n",
       "      <td>0.872014</td>\n",
       "      <td>0.847701</td>\n",
       "      <td>0.631692</td>\n",
       "    </tr>\n",
       "    <tr>\n",
       "      <th>9</th>\n",
       "      <td>OnlineSecurity_Yes</td>\n",
       "      <td>0.920256</td>\n",
       "      <td>0.724566</td>\n",
       "      <td>0.873720</td>\n",
       "      <td>0.861357</td>\n",
       "      <td>0.625268</td>\n",
       "    </tr>\n",
       "    <tr>\n",
       "      <th>10</th>\n",
       "      <td>Dependents_Yes</td>\n",
       "      <td>0.920620</td>\n",
       "      <td>0.736453</td>\n",
       "      <td>0.878271</td>\n",
       "      <td>0.866667</td>\n",
       "      <td>0.640257</td>\n",
       "    </tr>\n",
       "    <tr>\n",
       "      <th>11</th>\n",
       "      <td>OnlineBackup_Yes</td>\n",
       "      <td>0.921087</td>\n",
       "      <td>0.749392</td>\n",
       "      <td>0.882821</td>\n",
       "      <td>0.867606</td>\n",
       "      <td>0.659529</td>\n",
       "    </tr>\n",
       "    <tr>\n",
       "      <th>12</th>\n",
       "      <td>gender_Male</td>\n",
       "      <td>0.922485</td>\n",
       "      <td>0.755772</td>\n",
       "      <td>0.885666</td>\n",
       "      <td>0.873596</td>\n",
       "      <td>0.665953</td>\n",
       "    </tr>\n",
       "    <tr>\n",
       "      <th>13</th>\n",
       "      <td>PaperlessBilling_Yes</td>\n",
       "      <td>0.923210</td>\n",
       "      <td>0.753086</td>\n",
       "      <td>0.886234</td>\n",
       "      <td>0.889213</td>\n",
       "      <td>0.653105</td>\n",
       "    </tr>\n",
       "    <tr>\n",
       "      <th>14</th>\n",
       "      <td>TechSupport_Yes</td>\n",
       "      <td>0.924745</td>\n",
       "      <td>0.757353</td>\n",
       "      <td>0.887372</td>\n",
       "      <td>0.885387</td>\n",
       "      <td>0.661670</td>\n",
       "    </tr>\n",
       "    <tr>\n",
       "      <th>15</th>\n",
       "      <td>PaymentMethod_Mailed check</td>\n",
       "      <td>0.925309</td>\n",
       "      <td>0.744472</td>\n",
       "      <td>0.881684</td>\n",
       "      <td>0.873199</td>\n",
       "      <td>0.648822</td>\n",
       "    </tr>\n",
       "    <tr>\n",
       "      <th>16</th>\n",
       "      <td>StreamingMovies_Yes</td>\n",
       "      <td>0.925905</td>\n",
       "      <td>0.759124</td>\n",
       "      <td>0.887372</td>\n",
       "      <td>0.878873</td>\n",
       "      <td>0.668094</td>\n",
       "    </tr>\n",
       "    <tr>\n",
       "      <th>17</th>\n",
       "      <td>is_phone</td>\n",
       "      <td>0.925873</td>\n",
       "      <td>0.757613</td>\n",
       "      <td>0.886803</td>\n",
       "      <td>0.878531</td>\n",
       "      <td>0.665953</td>\n",
       "    </tr>\n",
       "    <tr>\n",
       "      <th>18</th>\n",
       "      <td>is_internet</td>\n",
       "      <td>0.925834</td>\n",
       "      <td>0.754579</td>\n",
       "      <td>0.885666</td>\n",
       "      <td>0.877841</td>\n",
       "      <td>0.661670</td>\n",
       "    </tr>\n",
       "    <tr>\n",
       "      <th>19</th>\n",
       "      <td>Type_One year</td>\n",
       "      <td>0.925563</td>\n",
       "      <td>0.757353</td>\n",
       "      <td>0.887372</td>\n",
       "      <td>0.885387</td>\n",
       "      <td>0.661670</td>\n",
       "    </tr>\n",
       "    <tr>\n",
       "      <th>20</th>\n",
       "      <td>Type_Two year</td>\n",
       "      <td>0.923002</td>\n",
       "      <td>0.764921</td>\n",
       "      <td>0.890216</td>\n",
       "      <td>0.887006</td>\n",
       "      <td>0.672377</td>\n",
       "    </tr>\n",
       "    <tr>\n",
       "      <th>21</th>\n",
       "      <td>InternetService_No</td>\n",
       "      <td>0.917657</td>\n",
       "      <td>0.755828</td>\n",
       "      <td>0.886803</td>\n",
       "      <td>0.885057</td>\n",
       "      <td>0.659529</td>\n",
       "    </tr>\n",
       "    <tr>\n",
       "      <th>22</th>\n",
       "      <td>InternetService_Fiber optic</td>\n",
       "      <td>0.908064</td>\n",
       "      <td>0.697350</td>\n",
       "      <td>0.876564</td>\n",
       "      <td>1.000000</td>\n",
       "      <td>0.535332</td>\n",
       "    </tr>\n",
       "  </tbody>\n",
       "</table>\n",
       "</div>"
      ],
      "text/plain": [
       "                                  del_col   auc_roc  f1_score  accuracy  \\\n",
       "0                            TotalCharges  0.901733  0.686493  0.856086   \n",
       "1                          MonthlyCharges  0.910477  0.725061  0.871445   \n",
       "2                             Partner_Yes  0.912725  0.725061  0.871445   \n",
       "3                         StreamingTV_Yes  0.913327  0.722359  0.871445   \n",
       "4                       SeniorCitizen_Yes  0.914215  0.713580  0.868032   \n",
       "5          PaymentMethod_Electronic check  0.915584  0.712531  0.866894   \n",
       "6   PaymentMethod_Credit card (automatic)  0.917761  0.720787  0.870876   \n",
       "7                       MultipleLines_Yes  0.918679  0.726161  0.872582   \n",
       "8                    DeviceProtection_Yes  0.919576  0.723926  0.872014   \n",
       "9                      OnlineSecurity_Yes  0.920256  0.724566  0.873720   \n",
       "10                         Dependents_Yes  0.920620  0.736453  0.878271   \n",
       "11                       OnlineBackup_Yes  0.921087  0.749392  0.882821   \n",
       "12                            gender_Male  0.922485  0.755772  0.885666   \n",
       "13                   PaperlessBilling_Yes  0.923210  0.753086  0.886234   \n",
       "14                        TechSupport_Yes  0.924745  0.757353  0.887372   \n",
       "15             PaymentMethod_Mailed check  0.925309  0.744472  0.881684   \n",
       "16                    StreamingMovies_Yes  0.925905  0.759124  0.887372   \n",
       "17                               is_phone  0.925873  0.757613  0.886803   \n",
       "18                            is_internet  0.925834  0.754579  0.885666   \n",
       "19                          Type_One year  0.925563  0.757353  0.887372   \n",
       "20                          Type_Two year  0.923002  0.764921  0.890216   \n",
       "21                     InternetService_No  0.917657  0.755828  0.886803   \n",
       "22            InternetService_Fiber optic  0.908064  0.697350  0.876564   \n",
       "\n",
       "    precision    recall  \n",
       "0    0.814706  0.593148  \n",
       "1    0.839437  0.638116  \n",
       "2    0.839437  0.638116  \n",
       "3    0.847262  0.629550  \n",
       "4    0.842566  0.618844  \n",
       "5    0.835735  0.620985  \n",
       "6    0.846821  0.627409  \n",
       "7    0.846154  0.635974  \n",
       "8    0.847701  0.631692  \n",
       "9    0.861357  0.625268  \n",
       "10   0.866667  0.640257  \n",
       "11   0.867606  0.659529  \n",
       "12   0.873596  0.665953  \n",
       "13   0.889213  0.653105  \n",
       "14   0.885387  0.661670  \n",
       "15   0.873199  0.648822  \n",
       "16   0.878873  0.668094  \n",
       "17   0.878531  0.665953  \n",
       "18   0.877841  0.661670  \n",
       "19   0.885387  0.661670  \n",
       "20   0.887006  0.672377  \n",
       "21   0.885057  0.659529  \n",
       "22   1.000000  0.535332  "
      ]
     },
     "execution_count": 46,
     "metadata": {},
     "output_type": "execute_result"
    }
   ],
   "source": [
    "df_score"
   ]
  },
  {
   "cell_type": "markdown",
   "metadata": {},
   "source": [
    "Судя по графику, максимальное значение ROC_AUC не является оптимальным: необходимо максимизировать и другие метрики. Таким образом, оптимальной точкой на оси Х, является 20 с ROC_AUC = 0.923. Это меньше итерации 16 с ROC_AUC = 0.925905, но, значение остальных метрик - максимально. Создадим новые выборки, с учетом столбцов, оставшихся на 20 итерации жадного алгоритма.  \n",
    "Это столбцы:  \n",
    "- time_use - время сотрудничества пользователя с компанией,\n",
    "- InternetService_Fiber optic - пользуется ли оптикой,\n",
    "- InternetService_No - пользуется ли интеренетом\n",
    "\n",
    "`InternetService_Fiber optic` и `InternetService_No` не имеют сильную корреляцию. Оставим их на данном этапе"
   ]
  },
  {
   "cell_type": "code",
   "execution_count": 50,
   "metadata": {},
   "outputs": [],
   "source": [
    "X = df_final.drop('is_left', axis=1)\n",
    "y= df_final['is_left']"
   ]
  },
  {
   "cell_type": "code",
   "execution_count": 51,
   "metadata": {},
   "outputs": [
    {
     "data": {
      "text/plain": [
       "['TotalCharges',\n",
       " 'MonthlyCharges',\n",
       " 'Partner_Yes',\n",
       " 'StreamingTV_Yes',\n",
       " 'SeniorCitizen_Yes',\n",
       " 'PaymentMethod_Electronic check',\n",
       " 'PaymentMethod_Credit card (automatic)',\n",
       " 'MultipleLines_Yes',\n",
       " 'DeviceProtection_Yes',\n",
       " 'OnlineSecurity_Yes',\n",
       " 'Dependents_Yes',\n",
       " 'OnlineBackup_Yes',\n",
       " 'gender_Male',\n",
       " 'PaperlessBilling_Yes',\n",
       " 'TechSupport_Yes',\n",
       " 'PaymentMethod_Mailed check',\n",
       " 'StreamingMovies_Yes',\n",
       " 'is_phone',\n",
       " 'is_internet',\n",
       " 'Type_One year',\n",
       " 'Type_Two year']"
      ]
     },
     "execution_count": 51,
     "metadata": {},
     "output_type": "execute_result"
    }
   ],
   "source": [
    "x_col = list(df_score['del_col'][:21].values)\n",
    "x_col"
   ]
  },
  {
   "cell_type": "code",
   "execution_count": 52,
   "metadata": {},
   "outputs": [
    {
     "data": {
      "text/html": [
       "<div>\n",
       "<style scoped>\n",
       "    .dataframe tbody tr th:only-of-type {\n",
       "        vertical-align: middle;\n",
       "    }\n",
       "\n",
       "    .dataframe tbody tr th {\n",
       "        vertical-align: top;\n",
       "    }\n",
       "\n",
       "    .dataframe thead th {\n",
       "        text-align: right;\n",
       "    }\n",
       "</style>\n",
       "<table border=\"1\" class=\"dataframe\">\n",
       "  <thead>\n",
       "    <tr style=\"text-align: right;\">\n",
       "      <th></th>\n",
       "      <th>time_use</th>\n",
       "      <th>InternetService_Fiber optic</th>\n",
       "      <th>InternetService_No</th>\n",
       "    </tr>\n",
       "    <tr>\n",
       "      <th>customerID</th>\n",
       "      <th></th>\n",
       "      <th></th>\n",
       "      <th></th>\n",
       "    </tr>\n",
       "  </thead>\n",
       "  <tbody>\n",
       "    <tr>\n",
       "      <th>7590-VHVEG</th>\n",
       "      <td>31</td>\n",
       "      <td>0</td>\n",
       "      <td>0</td>\n",
       "    </tr>\n",
       "    <tr>\n",
       "      <th>5575-GNVDE</th>\n",
       "      <td>1036</td>\n",
       "      <td>0</td>\n",
       "      <td>0</td>\n",
       "    </tr>\n",
       "    <tr>\n",
       "      <th>3668-QPYBK</th>\n",
       "      <td>61</td>\n",
       "      <td>0</td>\n",
       "      <td>0</td>\n",
       "    </tr>\n",
       "    <tr>\n",
       "      <th>7795-CFOCW</th>\n",
       "      <td>1371</td>\n",
       "      <td>0</td>\n",
       "      <td>0</td>\n",
       "    </tr>\n",
       "    <tr>\n",
       "      <th>9237-HQITU</th>\n",
       "      <td>61</td>\n",
       "      <td>1</td>\n",
       "      <td>0</td>\n",
       "    </tr>\n",
       "    <tr>\n",
       "      <th>...</th>\n",
       "      <td>...</td>\n",
       "      <td>...</td>\n",
       "      <td>...</td>\n",
       "    </tr>\n",
       "    <tr>\n",
       "      <th>6840-RESVB</th>\n",
       "      <td>730</td>\n",
       "      <td>0</td>\n",
       "      <td>0</td>\n",
       "    </tr>\n",
       "    <tr>\n",
       "      <th>2234-XADUH</th>\n",
       "      <td>2191</td>\n",
       "      <td>1</td>\n",
       "      <td>0</td>\n",
       "    </tr>\n",
       "    <tr>\n",
       "      <th>4801-JZAZL</th>\n",
       "      <td>337</td>\n",
       "      <td>0</td>\n",
       "      <td>0</td>\n",
       "    </tr>\n",
       "    <tr>\n",
       "      <th>8361-LTMKD</th>\n",
       "      <td>123</td>\n",
       "      <td>1</td>\n",
       "      <td>0</td>\n",
       "    </tr>\n",
       "    <tr>\n",
       "      <th>3186-AJIEK</th>\n",
       "      <td>2010</td>\n",
       "      <td>1</td>\n",
       "      <td>0</td>\n",
       "    </tr>\n",
       "  </tbody>\n",
       "</table>\n",
       "<p>7032 rows × 3 columns</p>\n",
       "</div>"
      ],
      "text/plain": [
       "            time_use  InternetService_Fiber optic  InternetService_No\n",
       "customerID                                                           \n",
       "7590-VHVEG        31                            0                   0\n",
       "5575-GNVDE      1036                            0                   0\n",
       "3668-QPYBK        61                            0                   0\n",
       "7795-CFOCW      1371                            0                   0\n",
       "9237-HQITU        61                            1                   0\n",
       "...              ...                          ...                 ...\n",
       "6840-RESVB       730                            0                   0\n",
       "2234-XADUH      2191                            1                   0\n",
       "4801-JZAZL       337                            0                   0\n",
       "8361-LTMKD       123                            1                   0\n",
       "3186-AJIEK      2010                            1                   0\n",
       "\n",
       "[7032 rows x 3 columns]"
      ]
     },
     "execution_count": 52,
     "metadata": {},
     "output_type": "execute_result"
    }
   ],
   "source": [
    "X = X.drop(x_col, axis=1)\n",
    "X"
   ]
  },
  {
   "cell_type": "code",
   "execution_count": 56,
   "metadata": {},
   "outputs": [
    {
     "data": {
      "text/html": [
       "<div>\n",
       "<style scoped>\n",
       "    .dataframe tbody tr th:only-of-type {\n",
       "        vertical-align: middle;\n",
       "    }\n",
       "\n",
       "    .dataframe tbody tr th {\n",
       "        vertical-align: top;\n",
       "    }\n",
       "\n",
       "    .dataframe thead th {\n",
       "        text-align: right;\n",
       "    }\n",
       "</style>\n",
       "<table border=\"1\" class=\"dataframe\">\n",
       "  <thead>\n",
       "    <tr style=\"text-align: right;\">\n",
       "      <th></th>\n",
       "      <th>time_use</th>\n",
       "      <th>InternetService_Fiber optic</th>\n",
       "      <th>InternetService_No</th>\n",
       "    </tr>\n",
       "  </thead>\n",
       "  <tbody>\n",
       "    <tr>\n",
       "      <th>time_use</th>\n",
       "      <td>1.00</td>\n",
       "      <td>0.02</td>\n",
       "      <td>-0.04</td>\n",
       "    </tr>\n",
       "    <tr>\n",
       "      <th>InternetService_Fiber optic</th>\n",
       "      <td>0.02</td>\n",
       "      <td>1.00</td>\n",
       "      <td>-0.47</td>\n",
       "    </tr>\n",
       "    <tr>\n",
       "      <th>InternetService_No</th>\n",
       "      <td>-0.04</td>\n",
       "      <td>-0.47</td>\n",
       "      <td>1.00</td>\n",
       "    </tr>\n",
       "  </tbody>\n",
       "</table>\n",
       "</div>"
      ],
      "text/plain": [
       "                             time_use  InternetService_Fiber optic  \\\n",
       "time_use                         1.00                         0.02   \n",
       "InternetService_Fiber optic      0.02                         1.00   \n",
       "InternetService_No              -0.04                        -0.47   \n",
       "\n",
       "                             InternetService_No  \n",
       "time_use                                  -0.04  \n",
       "InternetService_Fiber optic               -0.47  \n",
       "InternetService_No                         1.00  "
      ]
     },
     "execution_count": 56,
     "metadata": {},
     "output_type": "execute_result"
    }
   ],
   "source": [
    "X.corr().round(2)"
   ]
  },
  {
   "cell_type": "markdown",
   "metadata": {},
   "source": [
    "Подберем параметры модели на кроссвалидации. Используем выборки с полученным количеством признаков."
   ]
  },
  {
   "cell_type": "code",
   "execution_count": 55,
   "metadata": {},
   "outputs": [
    {
     "name": "stdout",
     "output_type": "stream",
     "text": [
      "(5274, 3) (5274,)\n",
      "(1758, 3) (1758,)\n"
     ]
    }
   ],
   "source": [
    "X_train, X_test, y_train, y_test = train_test_split(\n",
    "    X, y,\n",
    "    test_size=0.25,\n",
    "    stratify=y,\n",
    "    random_state=RANDOM_STATE)\n",
    "print(X_train.shape, y_train.shape)\n",
    "print(X_test.shape, y_test.shape)"
   ]
  },
  {
   "cell_type": "markdown",
   "metadata": {},
   "source": [
    "```\n",
    "model_cat = CatBoostClassifier(\n",
    "    random_seed=RANDOM_STATE,\n",
    "    verbose=100,\n",
    "    eval_metric='AUC',\n",
    "    )\n",
    "\n",
    "CV = StratifiedKFold(n_splits=3, shuffle=True, random_state=RANDOM_STATE)\n",
    "params = {\n",
    "    'depth': [16]\n",
    "}\n",
    "grid = GridSearchCV(\n",
    "    model_cat,\n",
    "    params,\n",
    "    scoring=SCORING,\n",
    "    cv=CV,\n",
    "    n_jobs=-1,\n",
    "    verbose=3\n",
    ")\n",
    "grid.fit(X_train, y_train)\n",
    "\n",
    "print(grid.best_score_)\n",
    "print(grid.best_params_)\n",
    "```"
   ]
  },
  {
   "cell_type": "markdown",
   "metadata": {},
   "source": [
    "Получим значения метрик на модели с новыми параметрами"
   ]
  },
  {
   "cell_type": "code",
   "execution_count": 56,
   "metadata": {},
   "outputs": [
    {
     "name": "stdout",
     "output_type": "stream",
     "text": [
      "Learning rate set to 0.020955\n",
      "0:\ttotal: 5.23ms\tremaining: 5.23s\n",
      "100:\ttotal: 847ms\tremaining: 7.54s\n",
      "200:\ttotal: 2.87s\tremaining: 11.4s\n",
      "300:\ttotal: 4.32s\tremaining: 10s\n",
      "400:\ttotal: 8.16s\tremaining: 12.2s\n",
      "500:\ttotal: 21.3s\tremaining: 21.2s\n",
      "600:\ttotal: 1m 10s\tremaining: 46.8s\n",
      "700:\ttotal: 2m 7s\tremaining: 54.4s\n",
      "800:\ttotal: 3m 4s\tremaining: 45.8s\n",
      "900:\ttotal: 3m 57s\tremaining: 26.1s\n",
      "999:\ttotal: 4m 46s\tremaining: 0us\n"
     ]
    },
    {
     "data": {
      "text/plain": [
       "(<catboost.core.CatBoostClassifier at 0x285fd679780>,)"
      ]
     },
     "execution_count": 56,
     "metadata": {},
     "output_type": "execute_result"
    }
   ],
   "source": [
    "model_cat = CatBoostClassifier(\n",
    "    max_depth=16,\n",
    "    random_seed=RANDOM_STATE,\n",
    "    verbose=100,\n",
    "    eval_metric='AUC'\n",
    "    )\n",
    "model_cat.fit(X_train, y_train),\n"
   ]
  },
  {
   "cell_type": "code",
   "execution_count": 57,
   "metadata": {},
   "outputs": [],
   "source": [
    "predict_proba = model_cat.predict_proba(X_test)[:, 1]\n",
    "predict = model_cat.predict(X_test)\n",
    "cat_greed_roc_auc_score = roc_auc_score(y_test, predict_proba)"
   ]
  },
  {
   "cell_type": "code",
   "execution_count": 58,
   "metadata": {},
   "outputs": [
    {
     "name": "stdout",
     "output_type": "stream",
     "text": [
      "roc_auc_score: 0.9444739316997763\n",
      "accuracy_score: 0.8998862343572241\n",
      "f1_score: 0.7919621749408983\n",
      "precision_score: 0.8839050131926122\n",
      "recall_score: 0.7173447537473233\n"
     ]
    }
   ],
   "source": [
    "print('roc_auc_score:', cat_greed_roc_auc_score)\n",
    "print('accuracy_score:', accuracy_score(y_test, predict))\n",
    "print('f1_score:', f1_score(y_test, predict))\n",
    "print('precision_score:', precision_score(y_test, predict))\n",
    "print('recall_score:', recall_score(y_test, predict))"
   ]
  },
  {
   "cell_type": "markdown",
   "metadata": {},
   "source": [
    "Построим график кривой ROC_AUC"
   ]
  },
  {
   "cell_type": "code",
   "execution_count": 59,
   "metadata": {},
   "outputs": [
    {
     "data": {
      "image/png": "[encoded data removed]",
      "text/plain": [
       "<Figure size 720x720 with 1 Axes>"
      ]
     },
     "metadata": {
      "needs_background": "light"
     },
     "output_type": "display_data"
    }
   ],
   "source": [
    "x=np.arange(0, 1.1, 0.1)\n",
    "\n",
    "fpr, tpr, thresholds = roc_curve(y_test, predict_proba)\n",
    "\n",
    "\n",
    "fig, ax = plt.subplots()\n",
    "fig.set_figheight(10)\n",
    "fig.set_figwidth(10)\n",
    "\n",
    "ax.plot([0,1],[0,1], linestyle='--', label='случайная модель')\n",
    "\n",
    "ax.plot(fpr, tpr, label='CatBoost')\n",
    "\n",
    "\n",
    "plt.title('ROC-кривая', fontsize=26)\n",
    "plt.xlabel('False Positive Rate', fontsize=16)\n",
    "plt.ylabel('True Positive Rate', fontsize=16)\n",
    "plt.xticks(x)\n",
    "plt.yticks(x)\n",
    "ax.legend(fontsize=22)\n",
    "ax.grid(True)\n",
    "\n",
    "plt.show()"
   ]
  },
  {
   "cell_type": "markdown",
   "metadata": {},
   "source": [
    "Матрица ошибок"
   ]
  },
  {
   "cell_type": "code",
   "execution_count": 60,
   "metadata": {},
   "outputs": [
    {
     "data": {
      "text/plain": [
       "<AxesSubplot:>"
      ]
     },
     "execution_count": 60,
     "metadata": {},
     "output_type": "execute_result"
    },
    {
     "data": {
      "image/png": "[encoded data removed]",
      "text/plain": [
       "<Figure size 432x288 with 2 Axes>"
      ]
     },
     "metadata": {
      "needs_background": "light"
     },
     "output_type": "display_data"
    }
   ],
   "source": [
    "cat_greed_matrix = confusion_matrix(y_test, predict)\n",
    "\n",
    "sns.heatmap(\n",
    "    cat_greed_matrix,\n",
    "    annot=True,\n",
    "    fmt='d',\n",
    "    cmap='YlGn',\n",
    "    vmin=0\n",
    ")"
   ]
  },
  {
   "cell_type": "code",
   "execution_count": 61,
   "metadata": {},
   "outputs": [
    {
     "data": {
      "text/plain": [
       "0    1291\n",
       "1     467\n",
       "Name: is_left, dtype: int64"
      ]
     },
     "execution_count": 61,
     "metadata": {},
     "output_type": "execute_result"
    }
   ],
   "source": [
    "y_test.value_counts()"
   ]
  },
  {
   "cell_type": "markdown",
   "metadata": {},
   "source": [
    "### Отбор признаков по важности"
   ]
  },
  {
   "cell_type": "markdown",
   "metadata": {},
   "source": [
    "Обучим модель, используя отбор признаков с помощью [sklearn.feature_selection.RFECV](https://scikit-learn.org/stable/modules/generated/sklearn.feature_selection.RFECV.html#sklearn.feature_selection.RFECV)(рекурсивный отбор через кросс-валидацию)"
   ]
  },
  {
   "cell_type": "code",
   "execution_count": 62,
   "metadata": {},
   "outputs": [
    {
     "name": "stdout",
     "output_type": "stream",
     "text": [
      "(5274, 24) (5274,)\n",
      "(1758, 24) (1758,)\n"
     ]
    }
   ],
   "source": [
    "X = df_final.drop('is_left', axis=1)\n",
    "y = df_final['is_left']\n",
    "\n",
    "X_train, X_test, y_train, y_test = train_test_split(\n",
    "    X, y,\n",
    "    test_size=0.25,\n",
    "    stratify=y,\n",
    "    random_state=RANDOM_STATE)\n",
    "print(X_train.shape, y_train.shape)\n",
    "print(X_test.shape, y_test.shape)"
   ]
  },
  {
   "cell_type": "code",
   "execution_count": 63,
   "metadata": {},
   "outputs": [],
   "source": [
    "CV = RepeatedStratifiedKFold(n_splits=3, n_repeats=2, random_state=RANDOM_STATE)\n",
    "model_cat = CatBoostClassifier(\n",
    "    random_seed=RANDOM_STATE,\n",
    "    verbose=100,\n",
    "    eval_metric='AUC'\n",
    "    )"
   ]
  },
  {
   "cell_type": "markdown",
   "metadata": {},
   "source": [
    "```\n",
    "rfecv = RFECV(\n",
    "    model_cat,\n",
    "    cv=CV,\n",
    "    scoring=SCORING,\n",
    "    verbose=3,\n",
    "    n_jobs=-1,\n",
    "    # importance_getter='auto'\n",
    ")\n",
    "\n",
    "rfecv.fit(X_train, y_train)\n",
    "\n",
    "rfecv.get_support()\n",
    "rfecv.cv_results_['mean_test_score']\n",
    "\n",
    "itog = pd.DataFrame(data={\n",
    "    'support':rfecv.get_support(),\n",
    "    'score':rfecv.cv_results_['mean_test_score'],\n",
    "    'rank':rfecv.ranking_\n",
    "                   }, index=X_train.columns).sort_values(['sup', 'rank', 'score'], ascending=False)\n",
    "itog\n",
    "```"
   ]
  },
  {
   "cell_type": "code",
   "execution_count": 64,
   "metadata": {},
   "outputs": [
    {
     "data": {
      "text/html": [
       "<div>\n",
       "<style scoped>\n",
       "    .dataframe tbody tr th:only-of-type {\n",
       "        vertical-align: middle;\n",
       "    }\n",
       "\n",
       "    .dataframe tbody tr th {\n",
       "        vertical-align: top;\n",
       "    }\n",
       "\n",
       "    .dataframe thead th {\n",
       "        text-align: right;\n",
       "    }\n",
       "</style>\n",
       "<table border=\"1\" class=\"dataframe\">\n",
       "  <thead>\n",
       "    <tr style=\"text-align: right;\">\n",
       "      <th></th>\n",
       "      <th>support</th>\n",
       "      <th>score</th>\n",
       "      <th>rank</th>\n",
       "    </tr>\n",
       "  </thead>\n",
       "  <tbody>\n",
       "    <tr>\n",
       "      <th>time_use</th>\n",
       "      <td>True</td>\n",
       "      <td>0.904828</td>\n",
       "      <td>1</td>\n",
       "    </tr>\n",
       "    <tr>\n",
       "      <th>MonthlyCharges</th>\n",
       "      <td>True</td>\n",
       "      <td>0.901113</td>\n",
       "      <td>1</td>\n",
       "    </tr>\n",
       "    <tr>\n",
       "      <th>Type_Two year</th>\n",
       "      <td>True</td>\n",
       "      <td>0.894700</td>\n",
       "      <td>1</td>\n",
       "    </tr>\n",
       "    <tr>\n",
       "      <th>DeviceProtection_Yes</th>\n",
       "      <td>False</td>\n",
       "      <td>0.891569</td>\n",
       "      <td>22</td>\n",
       "    </tr>\n",
       "    <tr>\n",
       "      <th>is_internet</th>\n",
       "      <td>False</td>\n",
       "      <td>0.894509</td>\n",
       "      <td>21</td>\n",
       "    </tr>\n",
       "    <tr>\n",
       "      <th>PaymentMethod_Mailed check</th>\n",
       "      <td>False</td>\n",
       "      <td>0.892756</td>\n",
       "      <td>20</td>\n",
       "    </tr>\n",
       "    <tr>\n",
       "      <th>is_phone</th>\n",
       "      <td>False</td>\n",
       "      <td>0.892367</td>\n",
       "      <td>19</td>\n",
       "    </tr>\n",
       "    <tr>\n",
       "      <th>Partner_Yes</th>\n",
       "      <td>False</td>\n",
       "      <td>0.892075</td>\n",
       "      <td>18</td>\n",
       "    </tr>\n",
       "    <tr>\n",
       "      <th>SeniorCitizen_Yes</th>\n",
       "      <td>False</td>\n",
       "      <td>0.892007</td>\n",
       "      <td>17</td>\n",
       "    </tr>\n",
       "    <tr>\n",
       "      <th>StreamingTV_Yes</th>\n",
       "      <td>False</td>\n",
       "      <td>0.892130</td>\n",
       "      <td>16</td>\n",
       "    </tr>\n",
       "    <tr>\n",
       "      <th>PaymentMethod_Credit card (automatic)</th>\n",
       "      <td>False</td>\n",
       "      <td>0.894302</td>\n",
       "      <td>15</td>\n",
       "    </tr>\n",
       "    <tr>\n",
       "      <th>OnlineSecurity_Yes</th>\n",
       "      <td>False</td>\n",
       "      <td>0.890859</td>\n",
       "      <td>14</td>\n",
       "    </tr>\n",
       "    <tr>\n",
       "      <th>InternetService_No</th>\n",
       "      <td>False</td>\n",
       "      <td>0.891811</td>\n",
       "      <td>13</td>\n",
       "    </tr>\n",
       "    <tr>\n",
       "      <th>OnlineBackup_Yes</th>\n",
       "      <td>False</td>\n",
       "      <td>0.890296</td>\n",
       "      <td>12</td>\n",
       "    </tr>\n",
       "  </tbody>\n",
       "</table>\n",
       "</div>"
      ],
      "text/plain": [
       "                                       support     score  rank\n",
       "time_use                                  True  0.904828     1\n",
       "MonthlyCharges                            True  0.901113     1\n",
       "Type_Two year                             True  0.894700     1\n",
       "DeviceProtection_Yes                     False  0.891569    22\n",
       "is_internet                              False  0.894509    21\n",
       "PaymentMethod_Mailed check               False  0.892756    20\n",
       "is_phone                                 False  0.892367    19\n",
       "Partner_Yes                              False  0.892075    18\n",
       "SeniorCitizen_Yes                        False  0.892007    17\n",
       "StreamingTV_Yes                          False  0.892130    16\n",
       "PaymentMethod_Credit card (automatic)    False  0.894302    15\n",
       "OnlineSecurity_Yes                       False  0.890859    14\n",
       "InternetService_No                       False  0.891811    13\n",
       "OnlineBackup_Yes                         False  0.890296    12"
      ]
     },
     "execution_count": 64,
     "metadata": {},
     "output_type": "execute_result"
    }
   ],
   "source": [
    "rfecv_col = [\n",
    "    'time_use', 'MonthlyCharges', 'Type_Two year', 'DeviceProtection_Yes',\n",
    "    'is_internet', 'PaymentMethod_Mailed check', 'is_phone',\n",
    "    'Partner_Yes', 'SeniorCitizen_Yes', 'StreamingTV_Yes',\n",
    "    'PaymentMethod_Credit card (automatic)', 'OnlineSecurity_Yes',\n",
    "    'InternetService_No', 'OnlineBackup_Yes'\n",
    "]\n",
    "\n",
    "sup_col = [\n",
    "    True, True, True, False,\n",
    "    False, False, False,\n",
    "    False, False, False,\n",
    "    False, False, False, False\n",
    "]\n",
    "\n",
    "score_col = [\n",
    "    0.904828, 0.901113, 0.894700,\n",
    "    0.891569, 0.894509, 0.892756,\n",
    "    0.892367, 0.892075, 0.892007,\n",
    "    0.892130, 0.894302, 0.890859,\n",
    "    0.891811, 0.890296\n",
    "]\n",
    "\n",
    "rank_col = [\n",
    "    1, 1, 1, 22,\n",
    "    21, 20, 19, 18,\n",
    "    17, 16, 15, 14,\n",
    "    13, 12\n",
    "]\n",
    "\n",
    "df_rfecv_cat = pd.DataFrame(\n",
    "    data={\n",
    "        'support': sup_col,\n",
    "        'score': score_col,\n",
    "        'rank': rank_col\n",
    "    }, index=rfecv_col\n",
    ")\n",
    "df_rfecv_cat"
   ]
  },
  {
   "cell_type": "markdown",
   "metadata": {},
   "source": [
    "Наш метод отобрал три признака:\n",
    "time_use - время сотрудничества пользователя с компанией,\n",
    "MonthlyCharges - месячный платёж,\n",
    "Type_Two year - является ли контракт двугодичным\n",
    "\n",
    "В целом, такой отбор укладывается в логику. Человек с двугодичным контрактом маловероятно уйдет раньше времени."
   ]
  },
  {
   "cell_type": "code",
   "execution_count": 65,
   "metadata": {},
   "outputs": [],
   "source": [
    "# создаем выборки признаков\n",
    "X_train = X_train[['MonthlyCharges', 'time_use', 'Type_Two year']]\n",
    "X_test = X_test[['MonthlyCharges', 'time_use', 'Type_Two year']]"
   ]
  },
  {
   "cell_type": "markdown",
   "metadata": {},
   "source": [
    "```\n",
    "model_cat = CatBoostClassifier(\n",
    "    random_seed=RANDOM_STATE,\n",
    "    verbose=100,\n",
    "    eval_metric='AUC',\n",
    "    )\n",
    "\n",
    "CV = StratifiedKFold(n_splits=3, shuffle=True, random_state=RANDOM_STATE)\n",
    "params = {\n",
    "    'depth': [13],\n",
    "}\n",
    "grid = GridSearchCV(\n",
    "    model_cat,\n",
    "    params,\n",
    "    scoring=SCORING,\n",
    "    cv=CV,\n",
    "    n_jobs=-1,\n",
    "    verbose=3\n",
    ")\n",
    "grid.fit(X_train, y_train)\n",
    "\n",
    "print(grid.best_score_)\n",
    "print(grid.best_params_)\n",
    "```"
   ]
  },
  {
   "cell_type": "code",
   "execution_count": 66,
   "metadata": {},
   "outputs": [
    {
     "name": "stdout",
     "output_type": "stream",
     "text": [
      "Learning rate set to 0.020955\n",
      "0:\ttotal: 3.65ms\tremaining: 3.64s\n",
      "100:\ttotal: 2.85s\tremaining: 25.3s\n",
      "200:\ttotal: 5.29s\tremaining: 21s\n",
      "300:\ttotal: 7.17s\tremaining: 16.7s\n",
      "400:\ttotal: 9.27s\tremaining: 13.8s\n",
      "500:\ttotal: 16.1s\tremaining: 16s\n",
      "600:\ttotal: 24.2s\tremaining: 16.1s\n",
      "700:\ttotal: 32.3s\tremaining: 13.8s\n",
      "800:\ttotal: 40.6s\tremaining: 10.1s\n",
      "900:\ttotal: 48.8s\tremaining: 5.36s\n",
      "999:\ttotal: 1m\tremaining: 0us\n"
     ]
    }
   ],
   "source": [
    "model_cat = CatBoostClassifier(\n",
    "    depth=13,\n",
    "    random_seed=RANDOM_STATE,\n",
    "    verbose=100,\n",
    "    eval_metric='AUC',\n",
    "    )\n",
    "\n",
    "model_cat.fit(X_train, y_train)\n",
    "predict_proba = model_cat.predict_proba(X_test)[:,1]\n",
    "predict = model_cat.predict(X_test)"
   ]
  },
  {
   "cell_type": "code",
   "execution_count": 67,
   "metadata": {},
   "outputs": [
    {
     "name": "stdout",
     "output_type": "stream",
     "text": [
      "roc_auc_score: 0.9167287281243728\n",
      "accuracy_score: 0.8828213879408419\n",
      "f1_score: 0.748166259168704\n",
      "precision_score: 0.8717948717948718\n",
      "recall_score: 0.6552462526766595\n"
     ]
    }
   ],
   "source": [
    "imp_roc_auc_score = roc_auc_score(y_test, predict_proba)\n",
    "\n",
    "print('roc_auc_score:', imp_roc_auc_score)\n",
    "print('accuracy_score:', accuracy_score(y_test, predict))\n",
    "print('f1_score:', f1_score(y_test, predict))\n",
    "print('precision_score:', precision_score(y_test, predict))\n",
    "print('recall_score:', recall_score(y_test, predict))"
   ]
  },
  {
   "cell_type": "code",
   "execution_count": 68,
   "metadata": {},
   "outputs": [
    {
     "data": {
      "text/plain": [
       "<AxesSubplot:>"
      ]
     },
     "execution_count": 68,
     "metadata": {},
     "output_type": "execute_result"
    },
    {
     "data": {
      "image/png": "[encoded data removed]",
      "text/plain": [
       "<Figure size 432x288 with 2 Axes>"
      ]
     },
     "metadata": {
      "needs_background": "light"
     },
     "output_type": "display_data"
    }
   ],
   "source": [
    "cat_imp_matrix = confusion_matrix(y_test, predict)\n",
    "sns.heatmap(cat_imp_matrix, annot=True, cmap='YlGn', vmin=0, fmt='d')"
   ]
  },
  {
   "cell_type": "markdown",
   "metadata": {},
   "source": [
    "### Отбор признаков для логистической регрессии"
   ]
  },
  {
   "cell_type": "markdown",
   "metadata": {},
   "source": [
    "Рассмотрим еще одну модель для сравнения"
   ]
  },
  {
   "cell_type": "code",
   "execution_count": 69,
   "metadata": {},
   "outputs": [
    {
     "name": "stdout",
     "output_type": "stream",
     "text": [
      "(5274, 24) (5274,)\n",
      "(1758, 24) (1758,)\n"
     ]
    }
   ],
   "source": [
    "X = df_final.drop('is_left', axis=1)\n",
    "y = df_final['is_left']\n",
    "\n",
    "X_train, X_test, y_train, y_test = train_test_split(\n",
    "    X, y,\n",
    "    test_size=0.25,\n",
    "    stratify=y,\n",
    "    random_state=RANDOM_STATE)\n",
    "print(X_train.shape, y_train.shape)\n",
    "print(X_test.shape, y_test.shape)"
   ]
  },
  {
   "cell_type": "code",
   "execution_count": 70,
   "metadata": {},
   "outputs": [
    {
     "name": "stdout",
     "output_type": "stream",
     "text": [
      "Fitting estimator with 24 features.\n"
     ]
    },
    {
     "name": "stderr",
     "output_type": "stream",
     "text": [
      "C:\\Users\\Alex\\AppData\\Roaming\\Python\\Python310\\site-packages\\sklearn\\linear_model\\_logistic.py:814: ConvergenceWarning: lbfgs failed to converge (status=1):\n",
      "STOP: TOTAL NO. of ITERATIONS REACHED LIMIT.\n",
      "\n",
      "Increase the number of iterations (max_iter) or scale the data as shown in:\n",
      "    https://scikit-learn.org/stable/modules/preprocessing.html\n",
      "Please also refer to the documentation for alternative solver options:\n",
      "    https://scikit-learn.org/stable/modules/linear_model.html#logistic-regression\n",
      "  n_iter_i = _check_optimize_result(\n"
     ]
    },
    {
     "data": {
      "text/plain": [
       "RFECV(cv=StratifiedKFold(n_splits=5, random_state=250722, shuffle=True),\n",
       "      estimator=LogisticRegression(random_state=250722), n_jobs=-1,\n",
       "      scoring='roc_auc', verbose=3)"
      ]
     },
     "execution_count": 70,
     "metadata": {},
     "output_type": "execute_result"
    }
   ],
   "source": [
    "model_lr = LogisticRegression(random_state=RANDOM_STATE)\n",
    "\n",
    "CV = StratifiedKFold(n_splits=5, shuffle=True, random_state=RANDOM_STATE)\n",
    "\n",
    "rfecv = RFECV(\n",
    "    model_lr,\n",
    "    cv=CV,\n",
    "    scoring=SCORING,\n",
    "    verbose=3,\n",
    "    n_jobs=-1,\n",
    ")\n",
    "\n",
    "rfecv.fit(X_train, y_train)"
   ]
  },
  {
   "cell_type": "code",
   "execution_count": 71,
   "metadata": {},
   "outputs": [
    {
     "data": {
      "text/html": [
       "<div>\n",
       "<style scoped>\n",
       "    .dataframe tbody tr th:only-of-type {\n",
       "        vertical-align: middle;\n",
       "    }\n",
       "\n",
       "    .dataframe tbody tr th {\n",
       "        vertical-align: top;\n",
       "    }\n",
       "\n",
       "    .dataframe thead th {\n",
       "        text-align: right;\n",
       "    }\n",
       "</style>\n",
       "<table border=\"1\" class=\"dataframe\">\n",
       "  <thead>\n",
       "    <tr style=\"text-align: right;\">\n",
       "      <th></th>\n",
       "      <th>sup</th>\n",
       "      <th>score</th>\n",
       "      <th>rank</th>\n",
       "    </tr>\n",
       "  </thead>\n",
       "  <tbody>\n",
       "    <tr>\n",
       "      <th>StreamingMovies_Yes</th>\n",
       "      <td>True</td>\n",
       "      <td>0.844866</td>\n",
       "      <td>1</td>\n",
       "    </tr>\n",
       "    <tr>\n",
       "      <th>MultipleLines_Yes</th>\n",
       "      <td>True</td>\n",
       "      <td>0.843349</td>\n",
       "      <td>1</td>\n",
       "    </tr>\n",
       "    <tr>\n",
       "      <th>OnlineBackup_Yes</th>\n",
       "      <td>True</td>\n",
       "      <td>0.830708</td>\n",
       "      <td>1</td>\n",
       "    </tr>\n",
       "    <tr>\n",
       "      <th>DeviceProtection_Yes</th>\n",
       "      <td>True</td>\n",
       "      <td>0.830673</td>\n",
       "      <td>1</td>\n",
       "    </tr>\n",
       "    <tr>\n",
       "      <th>TechSupport_Yes</th>\n",
       "      <td>True</td>\n",
       "      <td>0.830550</td>\n",
       "      <td>1</td>\n",
       "    </tr>\n",
       "    <tr>\n",
       "      <th>OnlineSecurity_Yes</th>\n",
       "      <td>True</td>\n",
       "      <td>0.830499</td>\n",
       "      <td>1</td>\n",
       "    </tr>\n",
       "    <tr>\n",
       "      <th>StreamingTV_Yes</th>\n",
       "      <td>True</td>\n",
       "      <td>0.830422</td>\n",
       "      <td>1</td>\n",
       "    </tr>\n",
       "    <tr>\n",
       "      <th>InternetService_Fiber optic</th>\n",
       "      <td>True</td>\n",
       "      <td>0.829999</td>\n",
       "      <td>1</td>\n",
       "    </tr>\n",
       "    <tr>\n",
       "      <th>InternetService_No</th>\n",
       "      <td>True</td>\n",
       "      <td>0.829916</td>\n",
       "      <td>1</td>\n",
       "    </tr>\n",
       "    <tr>\n",
       "      <th>Partner_Yes</th>\n",
       "      <td>True</td>\n",
       "      <td>0.829769</td>\n",
       "      <td>1</td>\n",
       "    </tr>\n",
       "    <tr>\n",
       "      <th>SeniorCitizen_Yes</th>\n",
       "      <td>True</td>\n",
       "      <td>0.829279</td>\n",
       "      <td>1</td>\n",
       "    </tr>\n",
       "    <tr>\n",
       "      <th>Dependents_Yes</th>\n",
       "      <td>True</td>\n",
       "      <td>0.829247</td>\n",
       "      <td>1</td>\n",
       "    </tr>\n",
       "    <tr>\n",
       "      <th>gender_Male</th>\n",
       "      <td>True</td>\n",
       "      <td>0.828743</td>\n",
       "      <td>1</td>\n",
       "    </tr>\n",
       "    <tr>\n",
       "      <th>PaymentMethod_Mailed check</th>\n",
       "      <td>True</td>\n",
       "      <td>0.827520</td>\n",
       "      <td>1</td>\n",
       "    </tr>\n",
       "    <tr>\n",
       "      <th>PaymentMethod_Electronic check</th>\n",
       "      <td>True</td>\n",
       "      <td>0.825618</td>\n",
       "      <td>1</td>\n",
       "    </tr>\n",
       "    <tr>\n",
       "      <th>PaymentMethod_Credit card (automatic)</th>\n",
       "      <td>True</td>\n",
       "      <td>0.822187</td>\n",
       "      <td>1</td>\n",
       "    </tr>\n",
       "    <tr>\n",
       "      <th>PaperlessBilling_Yes</th>\n",
       "      <td>True</td>\n",
       "      <td>0.820251</td>\n",
       "      <td>1</td>\n",
       "    </tr>\n",
       "    <tr>\n",
       "      <th>Type_Two year</th>\n",
       "      <td>True</td>\n",
       "      <td>0.817210</td>\n",
       "      <td>1</td>\n",
       "    </tr>\n",
       "    <tr>\n",
       "      <th>Type_One year</th>\n",
       "      <td>True</td>\n",
       "      <td>0.813914</td>\n",
       "      <td>1</td>\n",
       "    </tr>\n",
       "    <tr>\n",
       "      <th>is_internet</th>\n",
       "      <td>True</td>\n",
       "      <td>0.812014</td>\n",
       "      <td>1</td>\n",
       "    </tr>\n",
       "    <tr>\n",
       "      <th>is_phone</th>\n",
       "      <td>True</td>\n",
       "      <td>0.802912</td>\n",
       "      <td>1</td>\n",
       "    </tr>\n",
       "    <tr>\n",
       "      <th>time_use</th>\n",
       "      <td>True</td>\n",
       "      <td>0.788771</td>\n",
       "      <td>1</td>\n",
       "    </tr>\n",
       "    <tr>\n",
       "      <th>MonthlyCharges</th>\n",
       "      <td>True</td>\n",
       "      <td>0.651423</td>\n",
       "      <td>1</td>\n",
       "    </tr>\n",
       "    <tr>\n",
       "      <th>TotalCharges</th>\n",
       "      <td>False</td>\n",
       "      <td>0.741638</td>\n",
       "      <td>2</td>\n",
       "    </tr>\n",
       "  </tbody>\n",
       "</table>\n",
       "</div>"
      ],
      "text/plain": [
       "                                         sup     score  rank\n",
       "StreamingMovies_Yes                     True  0.844866     1\n",
       "MultipleLines_Yes                       True  0.843349     1\n",
       "OnlineBackup_Yes                        True  0.830708     1\n",
       "DeviceProtection_Yes                    True  0.830673     1\n",
       "TechSupport_Yes                         True  0.830550     1\n",
       "OnlineSecurity_Yes                      True  0.830499     1\n",
       "StreamingTV_Yes                         True  0.830422     1\n",
       "InternetService_Fiber optic             True  0.829999     1\n",
       "InternetService_No                      True  0.829916     1\n",
       "Partner_Yes                             True  0.829769     1\n",
       "SeniorCitizen_Yes                       True  0.829279     1\n",
       "Dependents_Yes                          True  0.829247     1\n",
       "gender_Male                             True  0.828743     1\n",
       "PaymentMethod_Mailed check              True  0.827520     1\n",
       "PaymentMethod_Electronic check          True  0.825618     1\n",
       "PaymentMethod_Credit card (automatic)   True  0.822187     1\n",
       "PaperlessBilling_Yes                    True  0.820251     1\n",
       "Type_Two year                           True  0.817210     1\n",
       "Type_One year                           True  0.813914     1\n",
       "is_internet                             True  0.812014     1\n",
       "is_phone                                True  0.802912     1\n",
       "time_use                                True  0.788771     1\n",
       "MonthlyCharges                          True  0.651423     1\n",
       "TotalCharges                           False  0.741638     2"
      ]
     },
     "execution_count": 71,
     "metadata": {},
     "output_type": "execute_result"
    }
   ],
   "source": [
    "rfecv.get_support()\n",
    "rfecv.cv_results_['mean_test_score']\n",
    "\n",
    "itog = pd.DataFrame(data={\n",
    "    'sup':rfecv.get_support(),\n",
    "    'score':rfecv.cv_results_['mean_test_score'],\n",
    "    'rank':rfecv.ranking_\n",
    "                   }, index=X_train.columns).sort_values(['sup', 'rank', 'score'], ascending=False)\n",
    "itog"
   ]
  },
  {
   "cell_type": "code",
   "execution_count": 72,
   "metadata": {},
   "outputs": [],
   "source": [
    "X_train = X_train[rfecv.get_feature_names_out()]\n",
    "X_test = X_test[rfecv.get_feature_names_out()]"
   ]
  },
  {
   "cell_type": "code",
   "execution_count": 73,
   "metadata": {},
   "outputs": [],
   "source": [
    "model_lr.fit(X_train, y_train)\n",
    "predict_proba = model_lr.predict_proba(X_test)[:,1]\n",
    "predict = model_lr.predict(X_test)"
   ]
  },
  {
   "cell_type": "code",
   "execution_count": 74,
   "metadata": {},
   "outputs": [
    {
     "name": "stdout",
     "output_type": "stream",
     "text": [
      "roc_auc_score: 0.8362431725485447\n",
      "accuracy_score: 0.8026166097838453\n",
      "f1_score: 0.5844311377245508\n",
      "precision_score: 0.6630434782608695\n",
      "recall_score: 0.5224839400428265\n"
     ]
    }
   ],
   "source": [
    "imp_lr = roc_auc_score(y_test, predict_proba)\n",
    "\n",
    "print('roc_auc_score:', imp_lr)\n",
    "print('accuracy_score:', accuracy_score(y_test, predict))\n",
    "print('f1_score:', f1_score(y_test, predict))\n",
    "print('precision_score:', precision_score(y_test, predict))\n",
    "print('recall_score:', recall_score(y_test, predict))"
   ]
  },
  {
   "cell_type": "code",
   "execution_count": 75,
   "metadata": {},
   "outputs": [
    {
     "data": {
      "text/plain": [
       "<AxesSubplot:>"
      ]
     },
     "execution_count": 75,
     "metadata": {},
     "output_type": "execute_result"
    },
    {
     "data": {
      "image/png": "[encoded data removed]",
      "text/plain": [
       "<Figure size 432x288 with 2 Axes>"
      ]
     },
     "metadata": {
      "needs_background": "light"
     },
     "output_type": "display_data"
    }
   ],
   "source": [
    "lr_matrix = confusion_matrix(y_test, predict)\n",
    "sns.heatmap( lr_matrix, annot=True, cmap='YlGn', vmin=0, fmt='d')"
   ]
  },
  {
   "cell_type": "markdown",
   "metadata": {},
   "source": [
    "### Итоги"
   ]
  },
  {
   "cell_type": "markdown",
   "metadata": {},
   "source": [
    "Составим итоговые матрицы ошибок"
   ]
  },
  {
   "cell_type": "code",
   "execution_count": 87,
   "metadata": {},
   "outputs": [],
   "source": [
    "pers = 100 / y_test.shape[0]"
   ]
  },
  {
   "cell_type": "code",
   "execution_count": 86,
   "metadata": {},
   "outputs": [
    {
     "data": {
      "text/plain": [
       "1758"
      ]
     },
     "execution_count": 86,
     "metadata": {},
     "output_type": "execute_result"
    }
   ],
   "source": [
    "y_test.shape[0]"
   ]
  },
  {
   "cell_type": "code",
   "execution_count": 310,
   "metadata": {},
   "outputs": [
    {
     "data": {
      "text/plain": [
       "0    1291\n",
       "1     467\n",
       "Name: is_left, dtype: int64"
      ]
     },
     "execution_count": 310,
     "metadata": {},
     "output_type": "execute_result"
    }
   ],
   "source": [
    "y_test.value_counts()"
   ]
  },
  {
   "cell_type": "code",
   "execution_count": 311,
   "metadata": {},
   "outputs": [],
   "source": [
    "m_pers=np.array([\n",
    "    [100/1291, 100/1291],\n",
    "    [100/467, 100/467]\n",
    "])"
   ]
  },
  {
   "cell_type": "code",
   "execution_count": 356,
   "metadata": {},
   "outputs": [
    {
     "data": {
      "image/png": "[encoded data removed]",
      "text/plain": [
       "<Figure size 864x216 with 3 Axes>"
      ]
     },
     "metadata": {
      "needs_background": "light"
     },
     "output_type": "display_data"
    },
    {
     "data": {
      "image/png": "[encoded data removed]",
      "text/plain": [
       "<Figure size 864x216 with 3 Axes>"
      ]
     },
     "metadata": {
      "needs_background": "light"
     },
     "output_type": "display_data"
    },
    {
     "data": {
      "image/png": "[encoded data removed]",
      "text/plain": [
       "<Figure size 864x216 with 3 Axes>"
      ]
     },
     "metadata": {
      "needs_background": "light"
     },
     "output_type": "display_data"
    }
   ],
   "source": [
    "f_size=(12,3)\n",
    "\n",
    "plt.figure(figsize=f_size)\n",
    "plt.suptitle('Матрицы ошибок')\n",
    "heat_params1 = {'annot':True, 'fmt':'d', 'cmap':'YlGn', 'vmin': 0, 'vmax': 1758, 'cbar':False, 'square':True}\n",
    "sub_plot = (1,3)\n",
    "# =====================================================\n",
    "plt.subplot(sub_plot[0], sub_plot[1], 1)\n",
    "ax = sns.heatmap( cat_greed_matrix, **heat_params1)\n",
    "# ax.set_title('CatBoost жадный алгоритм')\n",
    "# =====================================================\n",
    "plt.subplot(sub_plot[0], sub_plot[1], 2)\n",
    "ax = sns.heatmap(cat_imp_matrix, **heat_params1)\n",
    "# ax.set_title('CatBoost важность признаков')\n",
    "# =====================================================\n",
    "plt.subplot(sub_plot[0], sub_plot[1], 3)\n",
    "ax = sns.heatmap( lr_matrix, **heat_params1)\n",
    "# ax.set_title('Лог. регрессия важность признаков')\n",
    "# =====================================================\n",
    "plt.show()\n",
    "# =====================================================\n",
    "# =====================================================\n",
    "plt.figure(figsize=f_size)\n",
    "plt.suptitle('Матрицы ошибок: процент от общего числа')\n",
    "heat_params2 = {'annot':True, 'cmap':'Blues', 'vmin': 0, 'vmax':100, 'cbar':False, 'square':True}\n",
    "plt.subplot(sub_plot[0], sub_plot[1], 1)\n",
    "ax = sns.heatmap( cat_greed_matrix*pers, **heat_params2)\n",
    "ax.set_xlabel( f\"ROC_AUC = {round(cat_greed_roc_auc_score, 4)}\" )\n",
    "# =====================================================\n",
    "plt.subplot(sub_plot[0], sub_plot[1], 2)\n",
    "ax = sns.heatmap( cat_imp_matrix*pers, **heat_params2)\n",
    "ax.set_xlabel( f\"ROC_AUC = {round(imp_roc_auc_score, 4)}\" )\n",
    "# =====================================================\n",
    "plt.subplot(sub_plot[0], sub_plot[1], 3)\n",
    "ax = sns.heatmap( lr_matrix*pers, **heat_params2)\n",
    "ax.set_xlabel( f\"ROC_AUC = {round(imp_lr, 4)}\" )\n",
    "# =====================================================\n",
    "plt.show()\n",
    "# =====================================================\n",
    "# =====================================================\n",
    "plt.figure(figsize=f_size)\n",
    "heat_params3 = {'annot':True, 'cmap':'twilight', 'vmin': 0, 'vmax':100,'cbar':False, 'square':True}\n",
    "plt.suptitle('Матрицы ошибок: проценты от класса')\n",
    "# =====================================================\n",
    "plt.subplot(sub_plot[0], sub_plot[1], 1)\n",
    "ax = sns.heatmap( cat_greed_matrix*m_pers, **heat_params3)\n",
    "ax.set_xlabel('CatBoost жадный алгоритм')\n",
    "# =====================================================\n",
    "plt.subplot(sub_plot[0], sub_plot[1], 2)\n",
    "ax = sns.heatmap(cat_imp_matrix*m_pers, **heat_params3)\n",
    "ax.set_xlabel('CatBoost важность признаков')\n",
    "# =====================================================\n",
    "plt.subplot(sub_plot[0], sub_plot[1], 3)\n",
    "ax = sns.heatmap( lr_matrix*m_pers, **heat_params3)\n",
    "ax.set_xlabel('Лог. регрессия важность признаков')\n",
    "# =====================================================\n",
    "plt.show()"
   ]
  },
  {
   "cell_type": "markdown",
   "metadata": {},
   "source": [
    "Самый выиграшный вариант - использование жадного алгоритма, с последующим анализом изменения метрик. Рассмотрим итоги обучения.  \n",
    "из клиентов, которые останутся с компанией:\n",
    "- правильно определит 97 %\n",
    "- ошибочно 3 %\n",
    "\n",
    "из клиентов, которые уйдут:\n",
    "- правильно определит 72 % пользователей\n",
    "- пропустит 28 %\n",
    "\n",
    "Хуже показывает себя модель CatBoost, обученная на признаках, полученных с помощью отбора признаков по важности на кросс-валидации. И совсем плохо модель логистической регрессии.  \n",
    "Клиентов, которые модель ошибочно определит, как ушедших, можно отнести к группе риска. Для них можно подобрать различные выгодные условия, которые мотивируют их на дальнейшее сотрудничество."
   ]
  },
  {
   "cell_type": "markdown",
   "metadata": {},
   "source": [
    "## Отчет\n",
    "1. Открытие и исследование файлов.\n",
    "* произведен визуальный осмотр данных,\n",
    "* данные проверены на пропуски.\n",
    "\n",
    "2. Предобработка данных.\n",
    "* в таблице `контракты` удалены даты подключения и отключения, удалены пользователи, которые подключились в последнюю дату нашего датасета,\n",
    "* в таблице `клиенты` значения столбца `SeniorCitizen` приведены к значениям `Yes` и `No`,\n",
    "\n",
    "4. Анализ данных\n",
    "* произведен анализ данных на которых было показано, что клиенты которые ушли, в среднем платили больше и меньше пользовались сетью интернет\n",
    "\n",
    "5. Объединение таблиц.\n",
    "* таблицы объеденены,\n",
    "* пропущенные значения заменены на `No`,\n",
    "\n",
    "6. Обучение\n",
    "* в качестве борьбой с дисбалансом классов была применена техника стратифицированного семплинга,\n",
    "* в качестве основной модели выбрана модель CatBoostClassifier. Для нее были применены жадный алгоритм и отбор признаков по важности через кросс-валидацию,\n",
    "* Подведен итог,\n",
    "* выведена матрица ошибок. даны краткие интерпритации. "
   ]
  }
 ],
 "metadata": {
  "hide_input": false,
  "kernelspec": {
   "display_name": "Python 3 (ipykernel)",
   "language": "python",
   "name": "python3"
  },
  "language_info": {
   "codemirror_mode": {
    "name": "ipython",
    "version": 3
   },
   "file_extension": ".py",
   "mimetype": "text/x-python",
   "name": "python",
   "nbconvert_exporter": "python",
   "pygments_lexer": "ipython3",
   "version": "3.10.6"
  },
  "toc": {
   "base_numbering": 1,
   "nav_menu": {},
   "number_sections": true,
   "sideBar": true,
   "skip_h1_title": true,
   "title_cell": "Table of Contents",
   "title_sidebar": "Contents",
   "toc_cell": false,
   "toc_position": {
    "height": "calc(100% - 180px)",
    "left": "10px",
    "top": "150px",
    "width": "384px"
   },
   "toc_section_display": true,
   "toc_window_display": true
  },
  "varInspector": {
   "cols": {
    "lenName": 16,
    "lenType": 16,
    "lenVar": 40
   },
   "kernels_config": {
    "python": {
     "delete_cmd_postfix": "",
     "delete_cmd_prefix": "del ",
     "library": "var_list.py",
     "varRefreshCmd": "print(var_dic_list())"
    },
    "r": {
     "delete_cmd_postfix": ") ",
     "delete_cmd_prefix": "rm(",
     "library": "var_list.r",
     "varRefreshCmd": "cat(var_dic_list()) "
    }
   },
   "types_to_exclude": [
    "module",
    "function",
    "builtin_function_or_method",
    "instance",
    "_Feature"
   ],
   "window_display": false
  },
  "vscode": {
   "interpreter": {
    "hash": "26de051ba29f2982a8de78e945f0abaf191376122a1563185a90213a26c5da77"
   }
  }
 },
 "nbformat": 4,
 "nbformat_minor": 2
}
